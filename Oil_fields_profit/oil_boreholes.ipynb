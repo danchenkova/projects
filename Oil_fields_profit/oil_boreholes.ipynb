{
 "cells": [
  {
   "cell_type": "markdown",
   "metadata": {},
   "source": [
    "# Выбор локации для скважины"
   ]
  },
  {
   "cell_type": "markdown",
   "metadata": {},
   "source": [
    "## Описание проекта"
   ]
  },
  {
   "cell_type": "markdown",
   "metadata": {},
   "source": [
    "Руководству добывающей компании \"ГлавРосГосНефть\" необходимо решить, где бурить новую скважину. Нам  предоставлены пробы нефти в трёх регионах: в каждом 100 000 месторождений, где измерили качество нефти и объём её запасов. Нужно построить модель машинного обучения, которая поможет определить регион, где добыча принесёт наибольшую прибыль."
   ]
  },
  {
   "cell_type": "markdown",
   "metadata": {},
   "source": [
    "**Цель проекта**\n",
    "\n",
    "Определить наилучший с точки зрения получения прибыли регион для разработки нефтяных скважин, основываясь на собранных ранее данных о запасах углеводородов.\n",
    "\n",
    "**Задачи**\n",
    "\n",
    "1. Изучить исходный датасет и общую статистику факторов, влияющих на запасы месторождений.\n",
    "\n",
    "2. Подготовить данные для анализа, обработать признаки, разделить на обучающую, валидационную и тестовую выборки.\n",
    "\n",
    "3. Построить модель линейной регрессии и оценить объемы запасов нефти по регионам.\n",
    "\n",
    "4. Оценить потенциальную прибыльность месторождений, риск получения убытков и выбрать наиболее перспективный регион."
   ]
  },
  {
   "cell_type": "markdown",
   "metadata": {},
   "source": [
    "## Загрузка и подготовка данных"
   ]
  },
  {
   "cell_type": "code",
   "execution_count": 1,
   "metadata": {},
   "outputs": [],
   "source": [
    "import pandas as pd\n",
    "import numpy as np\n",
    "import matplotlib.pyplot as plt\n",
    "from mpl_toolkits.mplot3d import Axes3D\n",
    "from IPython.display import display\n",
    "\n",
    "from sklearn.model_selection import train_test_split, GridSearchCV\n",
    "from sklearn.preprocessing import StandardScaler\n",
    "pd.options.mode.chained_assignment = None\n",
    "\n",
    "from sklearn.linear_model import LinearRegression\n",
    "from scipy import stats as st\n",
    "from sklearn import metrics\n",
    "from sklearn.metrics import mean_squared_error, r2_score\n",
    "\n",
    "import warnings\n",
    "warnings.filterwarnings(\"ignore\")"
   ]
  },
  {
   "cell_type": "code",
   "execution_count": 2,
   "metadata": {},
   "outputs": [],
   "source": [
    "region_1 = pd.read_csv('/datasets/geo_data_0.csv')\n",
    "region_2 = pd.read_csv('/datasets/geo_data_1.csv')\n",
    "region_3 = pd.read_csv('/datasets/geo_data_2.csv')"
   ]
  },
  {
   "cell_type": "markdown",
   "metadata": {},
   "source": [
    "Упростим просмотр таблиц и статистики, выведем их вместе. Для этого создадим словарь для всех датафреймов с заголовками и сохраним в переменной data. Напишем цикл для просмотра."
   ]
  },
  {
   "cell_type": "code",
   "execution_count": 3,
   "metadata": {},
   "outputs": [],
   "source": [
    "data = {'Регион 1': region_1, 'Регион 2': region_2, 'Регион 3': region_3}"
   ]
  },
  {
   "cell_type": "code",
   "execution_count": 4,
   "metadata": {},
   "outputs": [
    {
     "name": "stdout",
     "output_type": "stream",
     "text": [
      "Регион 1\n"
     ]
    },
    {
     "data": {
      "text/html": [
       "<div>\n",
       "<style scoped>\n",
       "    .dataframe tbody tr th:only-of-type {\n",
       "        vertical-align: middle;\n",
       "    }\n",
       "\n",
       "    .dataframe tbody tr th {\n",
       "        vertical-align: top;\n",
       "    }\n",
       "\n",
       "    .dataframe thead th {\n",
       "        text-align: right;\n",
       "    }\n",
       "</style>\n",
       "<table border=\"1\" class=\"dataframe\">\n",
       "  <thead>\n",
       "    <tr style=\"text-align: right;\">\n",
       "      <th></th>\n",
       "      <th>id</th>\n",
       "      <th>f0</th>\n",
       "      <th>f1</th>\n",
       "      <th>f2</th>\n",
       "      <th>product</th>\n",
       "    </tr>\n",
       "  </thead>\n",
       "  <tbody>\n",
       "    <tr>\n",
       "      <td>0</td>\n",
       "      <td>txEyH</td>\n",
       "      <td>0.705745</td>\n",
       "      <td>-0.497823</td>\n",
       "      <td>1.221170</td>\n",
       "      <td>105.280062</td>\n",
       "    </tr>\n",
       "    <tr>\n",
       "      <td>1</td>\n",
       "      <td>2acmU</td>\n",
       "      <td>1.334711</td>\n",
       "      <td>-0.340164</td>\n",
       "      <td>4.365080</td>\n",
       "      <td>73.037750</td>\n",
       "    </tr>\n",
       "    <tr>\n",
       "      <td>2</td>\n",
       "      <td>409Wp</td>\n",
       "      <td>1.022732</td>\n",
       "      <td>0.151990</td>\n",
       "      <td>1.419926</td>\n",
       "      <td>85.265647</td>\n",
       "    </tr>\n",
       "    <tr>\n",
       "      <td>3</td>\n",
       "      <td>iJLyR</td>\n",
       "      <td>-0.032172</td>\n",
       "      <td>0.139033</td>\n",
       "      <td>2.978566</td>\n",
       "      <td>168.620776</td>\n",
       "    </tr>\n",
       "    <tr>\n",
       "      <td>4</td>\n",
       "      <td>Xdl7t</td>\n",
       "      <td>1.988431</td>\n",
       "      <td>0.155413</td>\n",
       "      <td>4.751769</td>\n",
       "      <td>154.036647</td>\n",
       "    </tr>\n",
       "  </tbody>\n",
       "</table>\n",
       "</div>"
      ],
      "text/plain": [
       "      id        f0        f1        f2     product\n",
       "0  txEyH  0.705745 -0.497823  1.221170  105.280062\n",
       "1  2acmU  1.334711 -0.340164  4.365080   73.037750\n",
       "2  409Wp  1.022732  0.151990  1.419926   85.265647\n",
       "3  iJLyR -0.032172  0.139033  2.978566  168.620776\n",
       "4  Xdl7t  1.988431  0.155413  4.751769  154.036647"
      ]
     },
     "metadata": {},
     "output_type": "display_data"
    },
    {
     "name": "stdout",
     "output_type": "stream",
     "text": [
      "<class 'pandas.core.frame.DataFrame'>\n",
      "RangeIndex: 100000 entries, 0 to 99999\n",
      "Data columns (total 5 columns):\n",
      "id         100000 non-null object\n",
      "f0         100000 non-null float64\n",
      "f1         100000 non-null float64\n",
      "f2         100000 non-null float64\n",
      "product    100000 non-null float64\n",
      "dtypes: float64(4), object(1)\n",
      "memory usage: 3.8+ MB\n"
     ]
    },
    {
     "data": {
      "text/plain": [
       "None"
      ]
     },
     "metadata": {},
     "output_type": "display_data"
    },
    {
     "data": {
      "text/html": [
       "<div>\n",
       "<style scoped>\n",
       "    .dataframe tbody tr th:only-of-type {\n",
       "        vertical-align: middle;\n",
       "    }\n",
       "\n",
       "    .dataframe tbody tr th {\n",
       "        vertical-align: top;\n",
       "    }\n",
       "\n",
       "    .dataframe thead th {\n",
       "        text-align: right;\n",
       "    }\n",
       "</style>\n",
       "<table border=\"1\" class=\"dataframe\">\n",
       "  <thead>\n",
       "    <tr style=\"text-align: right;\">\n",
       "      <th></th>\n",
       "      <th>f0</th>\n",
       "      <th>f1</th>\n",
       "      <th>f2</th>\n",
       "      <th>product</th>\n",
       "    </tr>\n",
       "  </thead>\n",
       "  <tbody>\n",
       "    <tr>\n",
       "      <td>count</td>\n",
       "      <td>100000.000000</td>\n",
       "      <td>100000.000000</td>\n",
       "      <td>100000.000000</td>\n",
       "      <td>100000.000000</td>\n",
       "    </tr>\n",
       "    <tr>\n",
       "      <td>mean</td>\n",
       "      <td>0.500419</td>\n",
       "      <td>0.250143</td>\n",
       "      <td>2.502647</td>\n",
       "      <td>92.500000</td>\n",
       "    </tr>\n",
       "    <tr>\n",
       "      <td>std</td>\n",
       "      <td>0.871832</td>\n",
       "      <td>0.504433</td>\n",
       "      <td>3.248248</td>\n",
       "      <td>44.288691</td>\n",
       "    </tr>\n",
       "    <tr>\n",
       "      <td>min</td>\n",
       "      <td>-1.408605</td>\n",
       "      <td>-0.848218</td>\n",
       "      <td>-12.088328</td>\n",
       "      <td>0.000000</td>\n",
       "    </tr>\n",
       "    <tr>\n",
       "      <td>25%</td>\n",
       "      <td>-0.072580</td>\n",
       "      <td>-0.200881</td>\n",
       "      <td>0.287748</td>\n",
       "      <td>56.497507</td>\n",
       "    </tr>\n",
       "    <tr>\n",
       "      <td>50%</td>\n",
       "      <td>0.502360</td>\n",
       "      <td>0.250252</td>\n",
       "      <td>2.515969</td>\n",
       "      <td>91.849972</td>\n",
       "    </tr>\n",
       "    <tr>\n",
       "      <td>75%</td>\n",
       "      <td>1.073581</td>\n",
       "      <td>0.700646</td>\n",
       "      <td>4.715088</td>\n",
       "      <td>128.564089</td>\n",
       "    </tr>\n",
       "    <tr>\n",
       "      <td>max</td>\n",
       "      <td>2.362331</td>\n",
       "      <td>1.343769</td>\n",
       "      <td>16.003790</td>\n",
       "      <td>185.364347</td>\n",
       "    </tr>\n",
       "  </tbody>\n",
       "</table>\n",
       "</div>"
      ],
      "text/plain": [
       "                  f0             f1             f2        product\n",
       "count  100000.000000  100000.000000  100000.000000  100000.000000\n",
       "mean        0.500419       0.250143       2.502647      92.500000\n",
       "std         0.871832       0.504433       3.248248      44.288691\n",
       "min        -1.408605      -0.848218     -12.088328       0.000000\n",
       "25%        -0.072580      -0.200881       0.287748      56.497507\n",
       "50%         0.502360       0.250252       2.515969      91.849972\n",
       "75%         1.073581       0.700646       4.715088     128.564089\n",
       "max         2.362331       1.343769      16.003790     185.364347"
      ]
     },
     "metadata": {},
     "output_type": "display_data"
    },
    {
     "name": "stdout",
     "output_type": "stream",
     "text": [
      "-----------------------------------------------------------------\n",
      "Регион 2\n"
     ]
    },
    {
     "data": {
      "text/html": [
       "<div>\n",
       "<style scoped>\n",
       "    .dataframe tbody tr th:only-of-type {\n",
       "        vertical-align: middle;\n",
       "    }\n",
       "\n",
       "    .dataframe tbody tr th {\n",
       "        vertical-align: top;\n",
       "    }\n",
       "\n",
       "    .dataframe thead th {\n",
       "        text-align: right;\n",
       "    }\n",
       "</style>\n",
       "<table border=\"1\" class=\"dataframe\">\n",
       "  <thead>\n",
       "    <tr style=\"text-align: right;\">\n",
       "      <th></th>\n",
       "      <th>id</th>\n",
       "      <th>f0</th>\n",
       "      <th>f1</th>\n",
       "      <th>f2</th>\n",
       "      <th>product</th>\n",
       "    </tr>\n",
       "  </thead>\n",
       "  <tbody>\n",
       "    <tr>\n",
       "      <td>0</td>\n",
       "      <td>kBEdx</td>\n",
       "      <td>-15.001348</td>\n",
       "      <td>-8.276000</td>\n",
       "      <td>-0.005876</td>\n",
       "      <td>3.179103</td>\n",
       "    </tr>\n",
       "    <tr>\n",
       "      <td>1</td>\n",
       "      <td>62mP7</td>\n",
       "      <td>14.272088</td>\n",
       "      <td>-3.475083</td>\n",
       "      <td>0.999183</td>\n",
       "      <td>26.953261</td>\n",
       "    </tr>\n",
       "    <tr>\n",
       "      <td>2</td>\n",
       "      <td>vyE1P</td>\n",
       "      <td>6.263187</td>\n",
       "      <td>-5.948386</td>\n",
       "      <td>5.001160</td>\n",
       "      <td>134.766305</td>\n",
       "    </tr>\n",
       "    <tr>\n",
       "      <td>3</td>\n",
       "      <td>KcrkZ</td>\n",
       "      <td>-13.081196</td>\n",
       "      <td>-11.506057</td>\n",
       "      <td>4.999415</td>\n",
       "      <td>137.945408</td>\n",
       "    </tr>\n",
       "    <tr>\n",
       "      <td>4</td>\n",
       "      <td>AHL4O</td>\n",
       "      <td>12.702195</td>\n",
       "      <td>-8.147433</td>\n",
       "      <td>5.004363</td>\n",
       "      <td>134.766305</td>\n",
       "    </tr>\n",
       "  </tbody>\n",
       "</table>\n",
       "</div>"
      ],
      "text/plain": [
       "      id         f0         f1        f2     product\n",
       "0  kBEdx -15.001348  -8.276000 -0.005876    3.179103\n",
       "1  62mP7  14.272088  -3.475083  0.999183   26.953261\n",
       "2  vyE1P   6.263187  -5.948386  5.001160  134.766305\n",
       "3  KcrkZ -13.081196 -11.506057  4.999415  137.945408\n",
       "4  AHL4O  12.702195  -8.147433  5.004363  134.766305"
      ]
     },
     "metadata": {},
     "output_type": "display_data"
    },
    {
     "name": "stdout",
     "output_type": "stream",
     "text": [
      "<class 'pandas.core.frame.DataFrame'>\n",
      "RangeIndex: 100000 entries, 0 to 99999\n",
      "Data columns (total 5 columns):\n",
      "id         100000 non-null object\n",
      "f0         100000 non-null float64\n",
      "f1         100000 non-null float64\n",
      "f2         100000 non-null float64\n",
      "product    100000 non-null float64\n",
      "dtypes: float64(4), object(1)\n",
      "memory usage: 3.8+ MB\n"
     ]
    },
    {
     "data": {
      "text/plain": [
       "None"
      ]
     },
     "metadata": {},
     "output_type": "display_data"
    },
    {
     "data": {
      "text/html": [
       "<div>\n",
       "<style scoped>\n",
       "    .dataframe tbody tr th:only-of-type {\n",
       "        vertical-align: middle;\n",
       "    }\n",
       "\n",
       "    .dataframe tbody tr th {\n",
       "        vertical-align: top;\n",
       "    }\n",
       "\n",
       "    .dataframe thead th {\n",
       "        text-align: right;\n",
       "    }\n",
       "</style>\n",
       "<table border=\"1\" class=\"dataframe\">\n",
       "  <thead>\n",
       "    <tr style=\"text-align: right;\">\n",
       "      <th></th>\n",
       "      <th>f0</th>\n",
       "      <th>f1</th>\n",
       "      <th>f2</th>\n",
       "      <th>product</th>\n",
       "    </tr>\n",
       "  </thead>\n",
       "  <tbody>\n",
       "    <tr>\n",
       "      <td>count</td>\n",
       "      <td>100000.000000</td>\n",
       "      <td>100000.000000</td>\n",
       "      <td>100000.000000</td>\n",
       "      <td>100000.000000</td>\n",
       "    </tr>\n",
       "    <tr>\n",
       "      <td>mean</td>\n",
       "      <td>1.141296</td>\n",
       "      <td>-4.796579</td>\n",
       "      <td>2.494541</td>\n",
       "      <td>68.825000</td>\n",
       "    </tr>\n",
       "    <tr>\n",
       "      <td>std</td>\n",
       "      <td>8.965932</td>\n",
       "      <td>5.119872</td>\n",
       "      <td>1.703572</td>\n",
       "      <td>45.944423</td>\n",
       "    </tr>\n",
       "    <tr>\n",
       "      <td>min</td>\n",
       "      <td>-31.609576</td>\n",
       "      <td>-26.358598</td>\n",
       "      <td>-0.018144</td>\n",
       "      <td>0.000000</td>\n",
       "    </tr>\n",
       "    <tr>\n",
       "      <td>25%</td>\n",
       "      <td>-6.298551</td>\n",
       "      <td>-8.267985</td>\n",
       "      <td>1.000021</td>\n",
       "      <td>26.953261</td>\n",
       "    </tr>\n",
       "    <tr>\n",
       "      <td>50%</td>\n",
       "      <td>1.153055</td>\n",
       "      <td>-4.813172</td>\n",
       "      <td>2.011479</td>\n",
       "      <td>57.085625</td>\n",
       "    </tr>\n",
       "    <tr>\n",
       "      <td>75%</td>\n",
       "      <td>8.621015</td>\n",
       "      <td>-1.332816</td>\n",
       "      <td>3.999904</td>\n",
       "      <td>107.813044</td>\n",
       "    </tr>\n",
       "    <tr>\n",
       "      <td>max</td>\n",
       "      <td>29.421755</td>\n",
       "      <td>18.734063</td>\n",
       "      <td>5.019721</td>\n",
       "      <td>137.945408</td>\n",
       "    </tr>\n",
       "  </tbody>\n",
       "</table>\n",
       "</div>"
      ],
      "text/plain": [
       "                  f0             f1             f2        product\n",
       "count  100000.000000  100000.000000  100000.000000  100000.000000\n",
       "mean        1.141296      -4.796579       2.494541      68.825000\n",
       "std         8.965932       5.119872       1.703572      45.944423\n",
       "min       -31.609576     -26.358598      -0.018144       0.000000\n",
       "25%        -6.298551      -8.267985       1.000021      26.953261\n",
       "50%         1.153055      -4.813172       2.011479      57.085625\n",
       "75%         8.621015      -1.332816       3.999904     107.813044\n",
       "max        29.421755      18.734063       5.019721     137.945408"
      ]
     },
     "metadata": {},
     "output_type": "display_data"
    },
    {
     "name": "stdout",
     "output_type": "stream",
     "text": [
      "-----------------------------------------------------------------\n",
      "Регион 3\n"
     ]
    },
    {
     "data": {
      "text/html": [
       "<div>\n",
       "<style scoped>\n",
       "    .dataframe tbody tr th:only-of-type {\n",
       "        vertical-align: middle;\n",
       "    }\n",
       "\n",
       "    .dataframe tbody tr th {\n",
       "        vertical-align: top;\n",
       "    }\n",
       "\n",
       "    .dataframe thead th {\n",
       "        text-align: right;\n",
       "    }\n",
       "</style>\n",
       "<table border=\"1\" class=\"dataframe\">\n",
       "  <thead>\n",
       "    <tr style=\"text-align: right;\">\n",
       "      <th></th>\n",
       "      <th>id</th>\n",
       "      <th>f0</th>\n",
       "      <th>f1</th>\n",
       "      <th>f2</th>\n",
       "      <th>product</th>\n",
       "    </tr>\n",
       "  </thead>\n",
       "  <tbody>\n",
       "    <tr>\n",
       "      <td>0</td>\n",
       "      <td>fwXo0</td>\n",
       "      <td>-1.146987</td>\n",
       "      <td>0.963328</td>\n",
       "      <td>-0.828965</td>\n",
       "      <td>27.758673</td>\n",
       "    </tr>\n",
       "    <tr>\n",
       "      <td>1</td>\n",
       "      <td>WJtFt</td>\n",
       "      <td>0.262778</td>\n",
       "      <td>0.269839</td>\n",
       "      <td>-2.530187</td>\n",
       "      <td>56.069697</td>\n",
       "    </tr>\n",
       "    <tr>\n",
       "      <td>2</td>\n",
       "      <td>ovLUW</td>\n",
       "      <td>0.194587</td>\n",
       "      <td>0.289035</td>\n",
       "      <td>-5.586433</td>\n",
       "      <td>62.871910</td>\n",
       "    </tr>\n",
       "    <tr>\n",
       "      <td>3</td>\n",
       "      <td>q6cA6</td>\n",
       "      <td>2.236060</td>\n",
       "      <td>-0.553760</td>\n",
       "      <td>0.930038</td>\n",
       "      <td>114.572842</td>\n",
       "    </tr>\n",
       "    <tr>\n",
       "      <td>4</td>\n",
       "      <td>WPMUX</td>\n",
       "      <td>-0.515993</td>\n",
       "      <td>1.716266</td>\n",
       "      <td>5.899011</td>\n",
       "      <td>149.600746</td>\n",
       "    </tr>\n",
       "  </tbody>\n",
       "</table>\n",
       "</div>"
      ],
      "text/plain": [
       "      id        f0        f1        f2     product\n",
       "0  fwXo0 -1.146987  0.963328 -0.828965   27.758673\n",
       "1  WJtFt  0.262778  0.269839 -2.530187   56.069697\n",
       "2  ovLUW  0.194587  0.289035 -5.586433   62.871910\n",
       "3  q6cA6  2.236060 -0.553760  0.930038  114.572842\n",
       "4  WPMUX -0.515993  1.716266  5.899011  149.600746"
      ]
     },
     "metadata": {},
     "output_type": "display_data"
    },
    {
     "name": "stdout",
     "output_type": "stream",
     "text": [
      "<class 'pandas.core.frame.DataFrame'>\n",
      "RangeIndex: 100000 entries, 0 to 99999\n",
      "Data columns (total 5 columns):\n",
      "id         100000 non-null object\n",
      "f0         100000 non-null float64\n",
      "f1         100000 non-null float64\n",
      "f2         100000 non-null float64\n",
      "product    100000 non-null float64\n",
      "dtypes: float64(4), object(1)\n",
      "memory usage: 3.8+ MB\n"
     ]
    },
    {
     "data": {
      "text/plain": [
       "None"
      ]
     },
     "metadata": {},
     "output_type": "display_data"
    },
    {
     "data": {
      "text/html": [
       "<div>\n",
       "<style scoped>\n",
       "    .dataframe tbody tr th:only-of-type {\n",
       "        vertical-align: middle;\n",
       "    }\n",
       "\n",
       "    .dataframe tbody tr th {\n",
       "        vertical-align: top;\n",
       "    }\n",
       "\n",
       "    .dataframe thead th {\n",
       "        text-align: right;\n",
       "    }\n",
       "</style>\n",
       "<table border=\"1\" class=\"dataframe\">\n",
       "  <thead>\n",
       "    <tr style=\"text-align: right;\">\n",
       "      <th></th>\n",
       "      <th>f0</th>\n",
       "      <th>f1</th>\n",
       "      <th>f2</th>\n",
       "      <th>product</th>\n",
       "    </tr>\n",
       "  </thead>\n",
       "  <tbody>\n",
       "    <tr>\n",
       "      <td>count</td>\n",
       "      <td>100000.000000</td>\n",
       "      <td>100000.000000</td>\n",
       "      <td>100000.000000</td>\n",
       "      <td>100000.000000</td>\n",
       "    </tr>\n",
       "    <tr>\n",
       "      <td>mean</td>\n",
       "      <td>0.002023</td>\n",
       "      <td>-0.002081</td>\n",
       "      <td>2.495128</td>\n",
       "      <td>95.000000</td>\n",
       "    </tr>\n",
       "    <tr>\n",
       "      <td>std</td>\n",
       "      <td>1.732045</td>\n",
       "      <td>1.730417</td>\n",
       "      <td>3.473445</td>\n",
       "      <td>44.749921</td>\n",
       "    </tr>\n",
       "    <tr>\n",
       "      <td>min</td>\n",
       "      <td>-8.760004</td>\n",
       "      <td>-7.084020</td>\n",
       "      <td>-11.970335</td>\n",
       "      <td>0.000000</td>\n",
       "    </tr>\n",
       "    <tr>\n",
       "      <td>25%</td>\n",
       "      <td>-1.162288</td>\n",
       "      <td>-1.174820</td>\n",
       "      <td>0.130359</td>\n",
       "      <td>59.450441</td>\n",
       "    </tr>\n",
       "    <tr>\n",
       "      <td>50%</td>\n",
       "      <td>0.009424</td>\n",
       "      <td>-0.009482</td>\n",
       "      <td>2.484236</td>\n",
       "      <td>94.925613</td>\n",
       "    </tr>\n",
       "    <tr>\n",
       "      <td>75%</td>\n",
       "      <td>1.158535</td>\n",
       "      <td>1.163678</td>\n",
       "      <td>4.858794</td>\n",
       "      <td>130.595027</td>\n",
       "    </tr>\n",
       "    <tr>\n",
       "      <td>max</td>\n",
       "      <td>7.238262</td>\n",
       "      <td>7.844801</td>\n",
       "      <td>16.739402</td>\n",
       "      <td>190.029838</td>\n",
       "    </tr>\n",
       "  </tbody>\n",
       "</table>\n",
       "</div>"
      ],
      "text/plain": [
       "                  f0             f1             f2        product\n",
       "count  100000.000000  100000.000000  100000.000000  100000.000000\n",
       "mean        0.002023      -0.002081       2.495128      95.000000\n",
       "std         1.732045       1.730417       3.473445      44.749921\n",
       "min        -8.760004      -7.084020     -11.970335       0.000000\n",
       "25%        -1.162288      -1.174820       0.130359      59.450441\n",
       "50%         0.009424      -0.009482       2.484236      94.925613\n",
       "75%         1.158535       1.163678       4.858794     130.595027\n",
       "max         7.238262       7.844801      16.739402     190.029838"
      ]
     },
     "metadata": {},
     "output_type": "display_data"
    },
    {
     "name": "stdout",
     "output_type": "stream",
     "text": [
      "-----------------------------------------------------------------\n"
     ]
    }
   ],
   "source": [
    "for i in range(0,3):\n",
    "    print(list(data.keys())[i])\n",
    "    display(list(data.values())[i].head())\n",
    "    display(list(data.values())[i].info())\n",
    "    display(list(data.values())[i].describe())\n",
    "    print('-----------------------------------------------------------------')"
   ]
  },
  {
   "cell_type": "markdown",
   "metadata": {},
   "source": [
    "Пока можно сказать, что наибольшими запасами ресурсов обладает третий регион. Пропущенных значений нет, типы данных корректны.\n",
    "\n",
    "Проверим наши датасеты на наличие дубликатов."
   ]
  },
  {
   "cell_type": "code",
   "execution_count": 5,
   "metadata": {},
   "outputs": [
    {
     "name": "stdout",
     "output_type": "stream",
     "text": [
      "Количество дубликатов в наборе данных, регион 1: 0\n",
      "Количество дубликатов в наборе данных, регион 2: 0\n",
      "Количество дубликатов в наборе данных, регион 3: 0\n"
     ]
    }
   ],
   "source": [
    "for i in range(0,3):\n",
    "    print('Количество дубликатов в наборе данных, регион {}: {}'.format(i+1, list(data.values())[i].duplicated().sum()))"
   ]
  },
  {
   "cell_type": "markdown",
   "metadata": {},
   "source": [
    "Выведем корреляционные матрицы и посмотрим, есть ли какие-то зависимости между признаками."
   ]
  },
  {
   "cell_type": "code",
   "execution_count": 6,
   "metadata": {},
   "outputs": [
    {
     "name": "stdout",
     "output_type": "stream",
     "text": [
      "\n",
      " Корреляционная матрица, коэф. Пирсона\n",
      "Регион 1\n"
     ]
    },
    {
     "data": {
      "text/html": [
       "<style  type=\"text/css\" >\n",
       "    #T_4ade45d4_bef2_11eb_911e_02420a390d95row0_col0 {\n",
       "            background-color:  #b40426;\n",
       "            color:  #f1f1f1;\n",
       "        }    #T_4ade45d4_bef2_11eb_911e_02420a390d95row0_col1 {\n",
       "            background-color:  #3b4cc0;\n",
       "            color:  #f1f1f1;\n",
       "        }    #T_4ade45d4_bef2_11eb_911e_02420a390d95row0_col2 {\n",
       "            background-color:  #3b4cc0;\n",
       "            color:  #f1f1f1;\n",
       "        }    #T_4ade45d4_bef2_11eb_911e_02420a390d95row0_col3 {\n",
       "            background-color:  #98b9ff;\n",
       "            color:  #000000;\n",
       "        }    #T_4ade45d4_bef2_11eb_911e_02420a390d95row1_col0 {\n",
       "            background-color:  #3b4cc0;\n",
       "            color:  #f1f1f1;\n",
       "        }    #T_4ade45d4_bef2_11eb_911e_02420a390d95row1_col1 {\n",
       "            background-color:  #b40426;\n",
       "            color:  #f1f1f1;\n",
       "        }    #T_4ade45d4_bef2_11eb_911e_02420a390d95row1_col2 {\n",
       "            background-color:  #3c4ec2;\n",
       "            color:  #f1f1f1;\n",
       "        }    #T_4ade45d4_bef2_11eb_911e_02420a390d95row1_col3 {\n",
       "            background-color:  #3b4cc0;\n",
       "            color:  #f1f1f1;\n",
       "        }    #T_4ade45d4_bef2_11eb_911e_02420a390d95row2_col0 {\n",
       "            background-color:  #9fbfff;\n",
       "            color:  #000000;\n",
       "        }    #T_4ade45d4_bef2_11eb_911e_02420a390d95row2_col1 {\n",
       "            background-color:  #a1c0ff;\n",
       "            color:  #000000;\n",
       "        }    #T_4ade45d4_bef2_11eb_911e_02420a390d95row2_col2 {\n",
       "            background-color:  #b40426;\n",
       "            color:  #f1f1f1;\n",
       "        }    #T_4ade45d4_bef2_11eb_911e_02420a390d95row2_col3 {\n",
       "            background-color:  #edd2c3;\n",
       "            color:  #000000;\n",
       "        }    #T_4ade45d4_bef2_11eb_911e_02420a390d95row3_col0 {\n",
       "            background-color:  #c1d4f4;\n",
       "            color:  #000000;\n",
       "        }    #T_4ade45d4_bef2_11eb_911e_02420a390d95row3_col1 {\n",
       "            background-color:  #7295f4;\n",
       "            color:  #000000;\n",
       "        }    #T_4ade45d4_bef2_11eb_911e_02420a390d95row3_col2 {\n",
       "            background-color:  #d9dce1;\n",
       "            color:  #000000;\n",
       "        }    #T_4ade45d4_bef2_11eb_911e_02420a390d95row3_col3 {\n",
       "            background-color:  #b40426;\n",
       "            color:  #f1f1f1;\n",
       "        }</style><table id=\"T_4ade45d4_bef2_11eb_911e_02420a390d95\" ><thead>    <tr>        <th class=\"blank level0\" ></th>        <th class=\"col_heading level0 col0\" >f0</th>        <th class=\"col_heading level0 col1\" >f1</th>        <th class=\"col_heading level0 col2\" >f2</th>        <th class=\"col_heading level0 col3\" >product</th>    </tr></thead><tbody>\n",
       "                <tr>\n",
       "                        <th id=\"T_4ade45d4_bef2_11eb_911e_02420a390d95level0_row0\" class=\"row_heading level0 row0\" >f0</th>\n",
       "                        <td id=\"T_4ade45d4_bef2_11eb_911e_02420a390d95row0_col0\" class=\"data row0 col0\" >1</td>\n",
       "                        <td id=\"T_4ade45d4_bef2_11eb_911e_02420a390d95row0_col1\" class=\"data row0 col1\" >-0.440723</td>\n",
       "                        <td id=\"T_4ade45d4_bef2_11eb_911e_02420a390d95row0_col2\" class=\"data row0 col2\" >-0.00315334</td>\n",
       "                        <td id=\"T_4ade45d4_bef2_11eb_911e_02420a390d95row0_col3\" class=\"data row0 col3\" >0.143536</td>\n",
       "            </tr>\n",
       "            <tr>\n",
       "                        <th id=\"T_4ade45d4_bef2_11eb_911e_02420a390d95level0_row1\" class=\"row_heading level0 row1\" >f1</th>\n",
       "                        <td id=\"T_4ade45d4_bef2_11eb_911e_02420a390d95row1_col0\" class=\"data row1 col0\" >-0.440723</td>\n",
       "                        <td id=\"T_4ade45d4_bef2_11eb_911e_02420a390d95row1_col1\" class=\"data row1 col1\" >1</td>\n",
       "                        <td id=\"T_4ade45d4_bef2_11eb_911e_02420a390d95row1_col2\" class=\"data row1 col2\" >0.00172443</td>\n",
       "                        <td id=\"T_4ade45d4_bef2_11eb_911e_02420a390d95row1_col3\" class=\"data row1 col3\" >-0.192356</td>\n",
       "            </tr>\n",
       "            <tr>\n",
       "                        <th id=\"T_4ade45d4_bef2_11eb_911e_02420a390d95level0_row2\" class=\"row_heading level0 row2\" >f2</th>\n",
       "                        <td id=\"T_4ade45d4_bef2_11eb_911e_02420a390d95row2_col0\" class=\"data row2 col0\" >-0.00315334</td>\n",
       "                        <td id=\"T_4ade45d4_bef2_11eb_911e_02420a390d95row2_col1\" class=\"data row2 col1\" >0.00172443</td>\n",
       "                        <td id=\"T_4ade45d4_bef2_11eb_911e_02420a390d95row2_col2\" class=\"data row2 col2\" >1</td>\n",
       "                        <td id=\"T_4ade45d4_bef2_11eb_911e_02420a390d95row2_col3\" class=\"data row2 col3\" >0.483663</td>\n",
       "            </tr>\n",
       "            <tr>\n",
       "                        <th id=\"T_4ade45d4_bef2_11eb_911e_02420a390d95level0_row3\" class=\"row_heading level0 row3\" >product</th>\n",
       "                        <td id=\"T_4ade45d4_bef2_11eb_911e_02420a390d95row3_col0\" class=\"data row3 col0\" >0.143536</td>\n",
       "                        <td id=\"T_4ade45d4_bef2_11eb_911e_02420a390d95row3_col1\" class=\"data row3 col1\" >-0.192356</td>\n",
       "                        <td id=\"T_4ade45d4_bef2_11eb_911e_02420a390d95row3_col2\" class=\"data row3 col2\" >0.483663</td>\n",
       "                        <td id=\"T_4ade45d4_bef2_11eb_911e_02420a390d95row3_col3\" class=\"data row3 col3\" >1</td>\n",
       "            </tr>\n",
       "    </tbody></table>"
      ],
      "text/plain": [
       "<pandas.io.formats.style.Styler at 0x7f967406a7d0>"
      ]
     },
     "metadata": {},
     "output_type": "display_data"
    },
    {
     "name": "stdout",
     "output_type": "stream",
     "text": [
      "Регион 2\n"
     ]
    },
    {
     "data": {
      "text/html": [
       "<style  type=\"text/css\" >\n",
       "    #T_4ae2a296_bef2_11eb_911e_02420a390d95row0_col0 {\n",
       "            background-color:  #b40426;\n",
       "            color:  #f1f1f1;\n",
       "        }    #T_4ae2a296_bef2_11eb_911e_02420a390d95row0_col1 {\n",
       "            background-color:  #779af7;\n",
       "            color:  #000000;\n",
       "        }    #T_4ae2a296_bef2_11eb_911e_02420a390d95row0_col2 {\n",
       "            background-color:  #3b4cc0;\n",
       "            color:  #f1f1f1;\n",
       "        }    #T_4ae2a296_bef2_11eb_911e_02420a390d95row0_col3 {\n",
       "            background-color:  #3b4cc0;\n",
       "            color:  #f1f1f1;\n",
       "        }    #T_4ae2a296_bef2_11eb_911e_02420a390d95row1_col0 {\n",
       "            background-color:  #7da0f9;\n",
       "            color:  #000000;\n",
       "        }    #T_4ae2a296_bef2_11eb_911e_02420a390d95row1_col1 {\n",
       "            background-color:  #b40426;\n",
       "            color:  #f1f1f1;\n",
       "        }    #T_4ae2a296_bef2_11eb_911e_02420a390d95row1_col2 {\n",
       "            background-color:  #3b4cc0;\n",
       "            color:  #f1f1f1;\n",
       "        }    #T_4ae2a296_bef2_11eb_911e_02420a390d95row1_col3 {\n",
       "            background-color:  #4055c8;\n",
       "            color:  #f1f1f1;\n",
       "        }    #T_4ae2a296_bef2_11eb_911e_02420a390d95row2_col0 {\n",
       "            background-color:  #4358cb;\n",
       "            color:  #f1f1f1;\n",
       "        }    #T_4ae2a296_bef2_11eb_911e_02420a390d95row2_col1 {\n",
       "            background-color:  #3c4ec2;\n",
       "            color:  #f1f1f1;\n",
       "        }    #T_4ae2a296_bef2_11eb_911e_02420a390d95row2_col2 {\n",
       "            background-color:  #b40426;\n",
       "            color:  #f1f1f1;\n",
       "        }    #T_4ae2a296_bef2_11eb_911e_02420a390d95row2_col3 {\n",
       "            background-color:  #b40426;\n",
       "            color:  #f1f1f1;\n",
       "        }    #T_4ae2a296_bef2_11eb_911e_02420a390d95row3_col0 {\n",
       "            background-color:  #3b4cc0;\n",
       "            color:  #f1f1f1;\n",
       "        }    #T_4ae2a296_bef2_11eb_911e_02420a390d95row3_col1 {\n",
       "            background-color:  #3b4cc0;\n",
       "            color:  #f1f1f1;\n",
       "        }    #T_4ae2a296_bef2_11eb_911e_02420a390d95row3_col2 {\n",
       "            background-color:  #b40426;\n",
       "            color:  #f1f1f1;\n",
       "        }    #T_4ae2a296_bef2_11eb_911e_02420a390d95row3_col3 {\n",
       "            background-color:  #b40426;\n",
       "            color:  #f1f1f1;\n",
       "        }</style><table id=\"T_4ae2a296_bef2_11eb_911e_02420a390d95\" ><thead>    <tr>        <th class=\"blank level0\" ></th>        <th class=\"col_heading level0 col0\" >f0</th>        <th class=\"col_heading level0 col1\" >f1</th>        <th class=\"col_heading level0 col2\" >f2</th>        <th class=\"col_heading level0 col3\" >product</th>    </tr></thead><tbody>\n",
       "                <tr>\n",
       "                        <th id=\"T_4ae2a296_bef2_11eb_911e_02420a390d95level0_row0\" class=\"row_heading level0 row0\" >f0</th>\n",
       "                        <td id=\"T_4ae2a296_bef2_11eb_911e_02420a390d95row0_col0\" class=\"data row0 col0\" >1</td>\n",
       "                        <td id=\"T_4ae2a296_bef2_11eb_911e_02420a390d95row0_col1\" class=\"data row0 col1\" >0.182287</td>\n",
       "                        <td id=\"T_4ae2a296_bef2_11eb_911e_02420a390d95row0_col2\" class=\"data row0 col2\" >-0.00177704</td>\n",
       "                        <td id=\"T_4ae2a296_bef2_11eb_911e_02420a390d95row0_col3\" class=\"data row0 col3\" >-0.0304905</td>\n",
       "            </tr>\n",
       "            <tr>\n",
       "                        <th id=\"T_4ae2a296_bef2_11eb_911e_02420a390d95level0_row1\" class=\"row_heading level0 row1\" >f1</th>\n",
       "                        <td id=\"T_4ae2a296_bef2_11eb_911e_02420a390d95row1_col0\" class=\"data row1 col0\" >0.182287</td>\n",
       "                        <td id=\"T_4ae2a296_bef2_11eb_911e_02420a390d95row1_col1\" class=\"data row1 col1\" >1</td>\n",
       "                        <td id=\"T_4ae2a296_bef2_11eb_911e_02420a390d95row1_col2\" class=\"data row1 col2\" >-0.00259532</td>\n",
       "                        <td id=\"T_4ae2a296_bef2_11eb_911e_02420a390d95row1_col3\" class=\"data row1 col3\" >-0.0101549</td>\n",
       "            </tr>\n",
       "            <tr>\n",
       "                        <th id=\"T_4ae2a296_bef2_11eb_911e_02420a390d95level0_row2\" class=\"row_heading level0 row2\" >f2</th>\n",
       "                        <td id=\"T_4ae2a296_bef2_11eb_911e_02420a390d95row2_col0\" class=\"data row2 col0\" >-0.00177704</td>\n",
       "                        <td id=\"T_4ae2a296_bef2_11eb_911e_02420a390d95row2_col1\" class=\"data row2 col1\" >-0.00259532</td>\n",
       "                        <td id=\"T_4ae2a296_bef2_11eb_911e_02420a390d95row2_col2\" class=\"data row2 col2\" >1</td>\n",
       "                        <td id=\"T_4ae2a296_bef2_11eb_911e_02420a390d95row2_col3\" class=\"data row2 col3\" >0.999397</td>\n",
       "            </tr>\n",
       "            <tr>\n",
       "                        <th id=\"T_4ae2a296_bef2_11eb_911e_02420a390d95level0_row3\" class=\"row_heading level0 row3\" >product</th>\n",
       "                        <td id=\"T_4ae2a296_bef2_11eb_911e_02420a390d95row3_col0\" class=\"data row3 col0\" >-0.0304905</td>\n",
       "                        <td id=\"T_4ae2a296_bef2_11eb_911e_02420a390d95row3_col1\" class=\"data row3 col1\" >-0.0101549</td>\n",
       "                        <td id=\"T_4ae2a296_bef2_11eb_911e_02420a390d95row3_col2\" class=\"data row3 col2\" >0.999397</td>\n",
       "                        <td id=\"T_4ae2a296_bef2_11eb_911e_02420a390d95row3_col3\" class=\"data row3 col3\" >1</td>\n",
       "            </tr>\n",
       "    </tbody></table>"
      ],
      "text/plain": [
       "<pandas.io.formats.style.Styler at 0x7f95ef8f7050>"
      ]
     },
     "metadata": {},
     "output_type": "display_data"
    },
    {
     "name": "stdout",
     "output_type": "stream",
     "text": [
      "Регион 3\n"
     ]
    },
    {
     "data": {
      "text/html": [
       "<style  type=\"text/css\" >\n",
       "    #T_4ae79d82_bef2_11eb_911e_02420a390d95row0_col0 {\n",
       "            background-color:  #b40426;\n",
       "            color:  #f1f1f1;\n",
       "        }    #T_4ae79d82_bef2_11eb_911e_02420a390d95row0_col1 {\n",
       "            background-color:  #3b4cc0;\n",
       "            color:  #f1f1f1;\n",
       "        }    #T_4ae79d82_bef2_11eb_911e_02420a390d95row0_col2 {\n",
       "            background-color:  #3b4cc0;\n",
       "            color:  #f1f1f1;\n",
       "        }    #T_4ae79d82_bef2_11eb_911e_02420a390d95row0_col3 {\n",
       "            background-color:  #3b4cc0;\n",
       "            color:  #f1f1f1;\n",
       "        }    #T_4ae79d82_bef2_11eb_911e_02420a390d95row1_col0 {\n",
       "            background-color:  #3b4cc0;\n",
       "            color:  #f1f1f1;\n",
       "        }    #T_4ae79d82_bef2_11eb_911e_02420a390d95row1_col1 {\n",
       "            background-color:  #b40426;\n",
       "            color:  #f1f1f1;\n",
       "        }    #T_4ae79d82_bef2_11eb_911e_02420a390d95row1_col2 {\n",
       "            background-color:  #3b4cc0;\n",
       "            color:  #f1f1f1;\n",
       "        }    #T_4ae79d82_bef2_11eb_911e_02420a390d95row1_col3 {\n",
       "            background-color:  #3b4cc0;\n",
       "            color:  #f1f1f1;\n",
       "        }    #T_4ae79d82_bef2_11eb_911e_02420a390d95row2_col0 {\n",
       "            background-color:  #3b4cc0;\n",
       "            color:  #f1f1f1;\n",
       "        }    #T_4ae79d82_bef2_11eb_911e_02420a390d95row2_col1 {\n",
       "            background-color:  #3b4cc0;\n",
       "            color:  #f1f1f1;\n",
       "        }    #T_4ae79d82_bef2_11eb_911e_02420a390d95row2_col2 {\n",
       "            background-color:  #b40426;\n",
       "            color:  #f1f1f1;\n",
       "        }    #T_4ae79d82_bef2_11eb_911e_02420a390d95row2_col3 {\n",
       "            background-color:  #cedaeb;\n",
       "            color:  #000000;\n",
       "        }    #T_4ae79d82_bef2_11eb_911e_02420a390d95row3_col0 {\n",
       "            background-color:  #3b4cc0;\n",
       "            color:  #f1f1f1;\n",
       "        }    #T_4ae79d82_bef2_11eb_911e_02420a390d95row3_col1 {\n",
       "            background-color:  #3b4cc0;\n",
       "            color:  #f1f1f1;\n",
       "        }    #T_4ae79d82_bef2_11eb_911e_02420a390d95row3_col2 {\n",
       "            background-color:  #cedaeb;\n",
       "            color:  #000000;\n",
       "        }    #T_4ae79d82_bef2_11eb_911e_02420a390d95row3_col3 {\n",
       "            background-color:  #b40426;\n",
       "            color:  #f1f1f1;\n",
       "        }</style><table id=\"T_4ae79d82_bef2_11eb_911e_02420a390d95\" ><thead>    <tr>        <th class=\"blank level0\" ></th>        <th class=\"col_heading level0 col0\" >f0</th>        <th class=\"col_heading level0 col1\" >f1</th>        <th class=\"col_heading level0 col2\" >f2</th>        <th class=\"col_heading level0 col3\" >product</th>    </tr></thead><tbody>\n",
       "                <tr>\n",
       "                        <th id=\"T_4ae79d82_bef2_11eb_911e_02420a390d95level0_row0\" class=\"row_heading level0 row0\" >f0</th>\n",
       "                        <td id=\"T_4ae79d82_bef2_11eb_911e_02420a390d95row0_col0\" class=\"data row0 col0\" >1</td>\n",
       "                        <td id=\"T_4ae79d82_bef2_11eb_911e_02420a390d95row0_col1\" class=\"data row0 col1\" >0.000528283</td>\n",
       "                        <td id=\"T_4ae79d82_bef2_11eb_911e_02420a390d95row0_col2\" class=\"data row0 col2\" >-0.000448133</td>\n",
       "                        <td id=\"T_4ae79d82_bef2_11eb_911e_02420a390d95row0_col3\" class=\"data row0 col3\" >-0.00198706</td>\n",
       "            </tr>\n",
       "            <tr>\n",
       "                        <th id=\"T_4ae79d82_bef2_11eb_911e_02420a390d95level0_row1\" class=\"row_heading level0 row1\" >f1</th>\n",
       "                        <td id=\"T_4ae79d82_bef2_11eb_911e_02420a390d95row1_col0\" class=\"data row1 col0\" >0.000528283</td>\n",
       "                        <td id=\"T_4ae79d82_bef2_11eb_911e_02420a390d95row1_col1\" class=\"data row1 col1\" >1</td>\n",
       "                        <td id=\"T_4ae79d82_bef2_11eb_911e_02420a390d95row1_col2\" class=\"data row1 col2\" >0.000778661</td>\n",
       "                        <td id=\"T_4ae79d82_bef2_11eb_911e_02420a390d95row1_col3\" class=\"data row1 col3\" >-0.00101239</td>\n",
       "            </tr>\n",
       "            <tr>\n",
       "                        <th id=\"T_4ae79d82_bef2_11eb_911e_02420a390d95level0_row2\" class=\"row_heading level0 row2\" >f2</th>\n",
       "                        <td id=\"T_4ae79d82_bef2_11eb_911e_02420a390d95row2_col0\" class=\"data row2 col0\" >-0.000448133</td>\n",
       "                        <td id=\"T_4ae79d82_bef2_11eb_911e_02420a390d95row2_col1\" class=\"data row2 col1\" >0.000778661</td>\n",
       "                        <td id=\"T_4ae79d82_bef2_11eb_911e_02420a390d95row2_col2\" class=\"data row2 col2\" >1</td>\n",
       "                        <td id=\"T_4ae79d82_bef2_11eb_911e_02420a390d95row2_col3\" class=\"data row2 col3\" >0.445871</td>\n",
       "            </tr>\n",
       "            <tr>\n",
       "                        <th id=\"T_4ae79d82_bef2_11eb_911e_02420a390d95level0_row3\" class=\"row_heading level0 row3\" >product</th>\n",
       "                        <td id=\"T_4ae79d82_bef2_11eb_911e_02420a390d95row3_col0\" class=\"data row3 col0\" >-0.00198706</td>\n",
       "                        <td id=\"T_4ae79d82_bef2_11eb_911e_02420a390d95row3_col1\" class=\"data row3 col1\" >-0.00101239</td>\n",
       "                        <td id=\"T_4ae79d82_bef2_11eb_911e_02420a390d95row3_col2\" class=\"data row3 col2\" >0.445871</td>\n",
       "                        <td id=\"T_4ae79d82_bef2_11eb_911e_02420a390d95row3_col3\" class=\"data row3 col3\" >1</td>\n",
       "            </tr>\n",
       "    </tbody></table>"
      ],
      "text/plain": [
       "<pandas.io.formats.style.Styler at 0x7f95f00dc8d0>"
      ]
     },
     "metadata": {},
     "output_type": "display_data"
    }
   ],
   "source": [
    "print('\\n', 'Корреляционная матрица, коэф. Пирсона')\n",
    "for i in range(0,3):\n",
    "    print(list(data.keys())[i])\n",
    "    display(list(data.values())[i].corr().style.background_gradient(cmap='coolwarm'))"
   ]
  },
  {
   "cell_type": "markdown",
   "metadata": {},
   "source": [
    "Зависимости между переменными варьируются по регионам. Из трех факторов сильнее всего на результат влияет f2. И если в регионах 1 и 3 коэффициент корреляции Пирсона на уровне примерно 0.45-0.48, то во втором регионе размеры запасов полностью зависят от этого фактора (коэф. корреляции почти равен 1).\n",
    "Признаки f0 и f1 оказывают незначительное влияние на объем месторождений только в первом регионе. Плохая новость - по этому же региону наблюдается значительная отрицательная корреляция между самими прогнозирующими факторами f0 и f1 (-0.44).\n",
    "\n",
    "Проверим наш датасет на наличие зависимостей с помощью еще одного коэффициента - ранговой корреляции Спирмена. Используем тот же код, только функции corr() передадим параметр method='spearman'."
   ]
  },
  {
   "cell_type": "code",
   "execution_count": 7,
   "metadata": {},
   "outputs": [
    {
     "name": "stdout",
     "output_type": "stream",
     "text": [
      "\n",
      " Корреляционная матрица, коэф. Спирмена\n",
      "Регион 1\n"
     ]
    },
    {
     "data": {
      "text/html": [
       "<style  type=\"text/css\" >\n",
       "    #T_4b3ffaae_bef2_11eb_911e_02420a390d95row0_col0 {\n",
       "            background-color:  #b40426;\n",
       "            color:  #f1f1f1;\n",
       "        }    #T_4b3ffaae_bef2_11eb_911e_02420a390d95row0_col1 {\n",
       "            background-color:  #3b4cc0;\n",
       "            color:  #f1f1f1;\n",
       "        }    #T_4b3ffaae_bef2_11eb_911e_02420a390d95row0_col2 {\n",
       "            background-color:  #3b4cc0;\n",
       "            color:  #f1f1f1;\n",
       "        }    #T_4b3ffaae_bef2_11eb_911e_02420a390d95row0_col3 {\n",
       "            background-color:  #92b4fe;\n",
       "            color:  #000000;\n",
       "        }    #T_4b3ffaae_bef2_11eb_911e_02420a390d95row1_col0 {\n",
       "            background-color:  #3b4cc0;\n",
       "            color:  #f1f1f1;\n",
       "        }    #T_4b3ffaae_bef2_11eb_911e_02420a390d95row1_col1 {\n",
       "            background-color:  #b40426;\n",
       "            color:  #f1f1f1;\n",
       "        }    #T_4b3ffaae_bef2_11eb_911e_02420a390d95row1_col2 {\n",
       "            background-color:  #3c4ec2;\n",
       "            color:  #f1f1f1;\n",
       "        }    #T_4b3ffaae_bef2_11eb_911e_02420a390d95row1_col3 {\n",
       "            background-color:  #3b4cc0;\n",
       "            color:  #f1f1f1;\n",
       "        }    #T_4b3ffaae_bef2_11eb_911e_02420a390d95row2_col0 {\n",
       "            background-color:  #a5c3fe;\n",
       "            color:  #000000;\n",
       "        }    #T_4b3ffaae_bef2_11eb_911e_02420a390d95row2_col1 {\n",
       "            background-color:  #a6c4fe;\n",
       "            color:  #000000;\n",
       "        }    #T_4b3ffaae_bef2_11eb_911e_02420a390d95row2_col2 {\n",
       "            background-color:  #b40426;\n",
       "            color:  #f1f1f1;\n",
       "        }    #T_4b3ffaae_bef2_11eb_911e_02420a390d95row2_col3 {\n",
       "            background-color:  #ecd3c5;\n",
       "            color:  #000000;\n",
       "        }    #T_4b3ffaae_bef2_11eb_911e_02420a390d95row3_col0 {\n",
       "            background-color:  #c3d5f4;\n",
       "            color:  #000000;\n",
       "        }    #T_4b3ffaae_bef2_11eb_911e_02420a390d95row3_col1 {\n",
       "            background-color:  #7a9df8;\n",
       "            color:  #000000;\n",
       "        }    #T_4b3ffaae_bef2_11eb_911e_02420a390d95row3_col2 {\n",
       "            background-color:  #d9dce1;\n",
       "            color:  #000000;\n",
       "        }    #T_4b3ffaae_bef2_11eb_911e_02420a390d95row3_col3 {\n",
       "            background-color:  #b40426;\n",
       "            color:  #f1f1f1;\n",
       "        }</style><table id=\"T_4b3ffaae_bef2_11eb_911e_02420a390d95\" ><thead>    <tr>        <th class=\"blank level0\" ></th>        <th class=\"col_heading level0 col0\" >f0</th>        <th class=\"col_heading level0 col1\" >f1</th>        <th class=\"col_heading level0 col2\" >f2</th>        <th class=\"col_heading level0 col3\" >product</th>    </tr></thead><tbody>\n",
       "                <tr>\n",
       "                        <th id=\"T_4b3ffaae_bef2_11eb_911e_02420a390d95level0_row0\" class=\"row_heading level0 row0\" >f0</th>\n",
       "                        <td id=\"T_4b3ffaae_bef2_11eb_911e_02420a390d95row0_col0\" class=\"data row0 col0\" >1</td>\n",
       "                        <td id=\"T_4b3ffaae_bef2_11eb_911e_02420a390d95row0_col1\" class=\"data row0 col1\" >-0.471395</td>\n",
       "                        <td id=\"T_4b3ffaae_bef2_11eb_911e_02420a390d95row0_col2\" class=\"data row0 col2\" >-0.00268522</td>\n",
       "                        <td id=\"T_4b3ffaae_bef2_11eb_911e_02420a390d95row0_col3\" class=\"data row0 col3\" >0.128417</td>\n",
       "            </tr>\n",
       "            <tr>\n",
       "                        <th id=\"T_4b3ffaae_bef2_11eb_911e_02420a390d95level0_row1\" class=\"row_heading level0 row1\" >f1</th>\n",
       "                        <td id=\"T_4b3ffaae_bef2_11eb_911e_02420a390d95row1_col0\" class=\"data row1 col0\" >-0.471395</td>\n",
       "                        <td id=\"T_4b3ffaae_bef2_11eb_911e_02420a390d95row1_col1\" class=\"data row1 col1\" >1</td>\n",
       "                        <td id=\"T_4b3ffaae_bef2_11eb_911e_02420a390d95row1_col2\" class=\"data row1 col2\" >0.00141251</td>\n",
       "                        <td id=\"T_4b3ffaae_bef2_11eb_911e_02420a390d95row1_col3\" class=\"data row1 col3\" >-0.181143</td>\n",
       "            </tr>\n",
       "            <tr>\n",
       "                        <th id=\"T_4b3ffaae_bef2_11eb_911e_02420a390d95level0_row2\" class=\"row_heading level0 row2\" >f2</th>\n",
       "                        <td id=\"T_4b3ffaae_bef2_11eb_911e_02420a390d95row2_col0\" class=\"data row2 col0\" >-0.00268522</td>\n",
       "                        <td id=\"T_4b3ffaae_bef2_11eb_911e_02420a390d95row2_col1\" class=\"data row2 col1\" >0.00141251</td>\n",
       "                        <td id=\"T_4b3ffaae_bef2_11eb_911e_02420a390d95row2_col2\" class=\"data row2 col2\" >1</td>\n",
       "                        <td id=\"T_4b3ffaae_bef2_11eb_911e_02420a390d95row2_col3\" class=\"data row2 col3\" >0.486394</td>\n",
       "            </tr>\n",
       "            <tr>\n",
       "                        <th id=\"T_4b3ffaae_bef2_11eb_911e_02420a390d95level0_row3\" class=\"row_heading level0 row3\" >product</th>\n",
       "                        <td id=\"T_4b3ffaae_bef2_11eb_911e_02420a390d95row3_col0\" class=\"data row3 col0\" >0.128417</td>\n",
       "                        <td id=\"T_4b3ffaae_bef2_11eb_911e_02420a390d95row3_col1\" class=\"data row3 col1\" >-0.181143</td>\n",
       "                        <td id=\"T_4b3ffaae_bef2_11eb_911e_02420a390d95row3_col2\" class=\"data row3 col2\" >0.486394</td>\n",
       "                        <td id=\"T_4b3ffaae_bef2_11eb_911e_02420a390d95row3_col3\" class=\"data row3 col3\" >1</td>\n",
       "            </tr>\n",
       "    </tbody></table>"
      ],
      "text/plain": [
       "<pandas.io.formats.style.Styler at 0x7f96770f3450>"
      ]
     },
     "metadata": {},
     "output_type": "display_data"
    },
    {
     "name": "stdout",
     "output_type": "stream",
     "text": [
      "Регион 2\n"
     ]
    },
    {
     "data": {
      "text/html": [
       "<style  type=\"text/css\" >\n",
       "    #T_4b7a9a9c_bef2_11eb_911e_02420a390d95row0_col0 {\n",
       "            background-color:  #b40426;\n",
       "            color:  #f1f1f1;\n",
       "        }    #T_4b7a9a9c_bef2_11eb_911e_02420a390d95row0_col1 {\n",
       "            background-color:  #7ea1fa;\n",
       "            color:  #000000;\n",
       "        }    #T_4b7a9a9c_bef2_11eb_911e_02420a390d95row0_col2 {\n",
       "            background-color:  #3b4cc0;\n",
       "            color:  #f1f1f1;\n",
       "        }    #T_4b7a9a9c_bef2_11eb_911e_02420a390d95row0_col3 {\n",
       "            background-color:  #3b4cc0;\n",
       "            color:  #f1f1f1;\n",
       "        }    #T_4b7a9a9c_bef2_11eb_911e_02420a390d95row1_col0 {\n",
       "            background-color:  #94b6ff;\n",
       "            color:  #000000;\n",
       "        }    #T_4b7a9a9c_bef2_11eb_911e_02420a390d95row1_col1 {\n",
       "            background-color:  #b40426;\n",
       "            color:  #f1f1f1;\n",
       "        }    #T_4b7a9a9c_bef2_11eb_911e_02420a390d95row1_col2 {\n",
       "            background-color:  #3b4cc0;\n",
       "            color:  #f1f1f1;\n",
       "        }    #T_4b7a9a9c_bef2_11eb_911e_02420a390d95row1_col3 {\n",
       "            background-color:  #536edd;\n",
       "            color:  #000000;\n",
       "        }    #T_4b7a9a9c_bef2_11eb_911e_02420a390d95row2_col0 {\n",
       "            background-color:  #5b7ae5;\n",
       "            color:  #000000;\n",
       "        }    #T_4b7a9a9c_bef2_11eb_911e_02420a390d95row2_col1 {\n",
       "            background-color:  #4358cb;\n",
       "            color:  #f1f1f1;\n",
       "        }    #T_4b7a9a9c_bef2_11eb_911e_02420a390d95row2_col2 {\n",
       "            background-color:  #b40426;\n",
       "            color:  #f1f1f1;\n",
       "        }    #T_4b7a9a9c_bef2_11eb_911e_02420a390d95row2_col3 {\n",
       "            background-color:  #bb1b2c;\n",
       "            color:  #f1f1f1;\n",
       "        }    #T_4b7a9a9c_bef2_11eb_911e_02420a390d95row3_col0 {\n",
       "            background-color:  #3b4cc0;\n",
       "            color:  #f1f1f1;\n",
       "        }    #T_4b7a9a9c_bef2_11eb_911e_02420a390d95row3_col1 {\n",
       "            background-color:  #3b4cc0;\n",
       "            color:  #f1f1f1;\n",
       "        }    #T_4b7a9a9c_bef2_11eb_911e_02420a390d95row3_col2 {\n",
       "            background-color:  #bd1f2d;\n",
       "            color:  #f1f1f1;\n",
       "        }    #T_4b7a9a9c_bef2_11eb_911e_02420a390d95row3_col3 {\n",
       "            background-color:  #b40426;\n",
       "            color:  #f1f1f1;\n",
       "        }</style><table id=\"T_4b7a9a9c_bef2_11eb_911e_02420a390d95\" ><thead>    <tr>        <th class=\"blank level0\" ></th>        <th class=\"col_heading level0 col0\" >f0</th>        <th class=\"col_heading level0 col1\" >f1</th>        <th class=\"col_heading level0 col2\" >f2</th>        <th class=\"col_heading level0 col3\" >product</th>    </tr></thead><tbody>\n",
       "                <tr>\n",
       "                        <th id=\"T_4b7a9a9c_bef2_11eb_911e_02420a390d95level0_row0\" class=\"row_heading level0 row0\" >f0</th>\n",
       "                        <td id=\"T_4b7a9a9c_bef2_11eb_911e_02420a390d95row0_col0\" class=\"data row0 col0\" >1</td>\n",
       "                        <td id=\"T_4b7a9a9c_bef2_11eb_911e_02420a390d95row0_col1\" class=\"data row0 col1\" >0.182248</td>\n",
       "                        <td id=\"T_4b7a9a9c_bef2_11eb_911e_02420a390d95row0_col2\" class=\"data row0 col2\" >-0.00200008</td>\n",
       "                        <td id=\"T_4b7a9a9c_bef2_11eb_911e_02420a390d95row0_col3\" class=\"data row0 col3\" >-0.122869</td>\n",
       "            </tr>\n",
       "            <tr>\n",
       "                        <th id=\"T_4b7a9a9c_bef2_11eb_911e_02420a390d95level0_row1\" class=\"row_heading level0 row1\" >f1</th>\n",
       "                        <td id=\"T_4b7a9a9c_bef2_11eb_911e_02420a390d95row1_col0\" class=\"data row1 col0\" >0.182248</td>\n",
       "                        <td id=\"T_4b7a9a9c_bef2_11eb_911e_02420a390d95row1_col1\" class=\"data row1 col1\" >1</td>\n",
       "                        <td id=\"T_4b7a9a9c_bef2_11eb_911e_02420a390d95row1_col2\" class=\"data row1 col2\" >-0.00367772</td>\n",
       "                        <td id=\"T_4b7a9a9c_bef2_11eb_911e_02420a390d95row1_col3\" class=\"data row1 col3\" >-0.0339083</td>\n",
       "            </tr>\n",
       "            <tr>\n",
       "                        <th id=\"T_4b7a9a9c_bef2_11eb_911e_02420a390d95level0_row2\" class=\"row_heading level0 row2\" >f2</th>\n",
       "                        <td id=\"T_4b7a9a9c_bef2_11eb_911e_02420a390d95row2_col0\" class=\"data row2 col0\" >-0.00200008</td>\n",
       "                        <td id=\"T_4b7a9a9c_bef2_11eb_911e_02420a390d95row2_col1\" class=\"data row2 col1\" >-0.00367772</td>\n",
       "                        <td id=\"T_4b7a9a9c_bef2_11eb_911e_02420a390d95row2_col2\" class=\"data row2 col2\" >1</td>\n",
       "                        <td id=\"T_4b7a9a9c_bef2_11eb_911e_02420a390d95row2_col3\" class=\"data row2 col3\" >0.975605</td>\n",
       "            </tr>\n",
       "            <tr>\n",
       "                        <th id=\"T_4b7a9a9c_bef2_11eb_911e_02420a390d95level0_row3\" class=\"row_heading level0 row3\" >product</th>\n",
       "                        <td id=\"T_4b7a9a9c_bef2_11eb_911e_02420a390d95row3_col0\" class=\"data row3 col0\" >-0.122869</td>\n",
       "                        <td id=\"T_4b7a9a9c_bef2_11eb_911e_02420a390d95row3_col1\" class=\"data row3 col1\" >-0.0339083</td>\n",
       "                        <td id=\"T_4b7a9a9c_bef2_11eb_911e_02420a390d95row3_col2\" class=\"data row3 col2\" >0.975605</td>\n",
       "                        <td id=\"T_4b7a9a9c_bef2_11eb_911e_02420a390d95row3_col3\" class=\"data row3 col3\" >1</td>\n",
       "            </tr>\n",
       "    </tbody></table>"
      ],
      "text/plain": [
       "<pandas.io.formats.style.Styler at 0x7f95ef8b3a10>"
      ]
     },
     "metadata": {},
     "output_type": "display_data"
    },
    {
     "name": "stdout",
     "output_type": "stream",
     "text": [
      "Регион 3\n"
     ]
    },
    {
     "data": {
      "text/html": [
       "<style  type=\"text/css\" >\n",
       "    #T_4bb971ae_bef2_11eb_911e_02420a390d95row0_col0 {\n",
       "            background-color:  #b40426;\n",
       "            color:  #f1f1f1;\n",
       "        }    #T_4bb971ae_bef2_11eb_911e_02420a390d95row0_col1 {\n",
       "            background-color:  #3c4ec2;\n",
       "            color:  #f1f1f1;\n",
       "        }    #T_4bb971ae_bef2_11eb_911e_02420a390d95row0_col2 {\n",
       "            background-color:  #3b4cc0;\n",
       "            color:  #f1f1f1;\n",
       "        }    #T_4bb971ae_bef2_11eb_911e_02420a390d95row0_col3 {\n",
       "            background-color:  #3b4cc0;\n",
       "            color:  #f1f1f1;\n",
       "        }    #T_4bb971ae_bef2_11eb_911e_02420a390d95row1_col0 {\n",
       "            background-color:  #3c4ec2;\n",
       "            color:  #f1f1f1;\n",
       "        }    #T_4bb971ae_bef2_11eb_911e_02420a390d95row1_col1 {\n",
       "            background-color:  #b40426;\n",
       "            color:  #f1f1f1;\n",
       "        }    #T_4bb971ae_bef2_11eb_911e_02420a390d95row1_col2 {\n",
       "            background-color:  #3b4cc0;\n",
       "            color:  #f1f1f1;\n",
       "        }    #T_4bb971ae_bef2_11eb_911e_02420a390d95row1_col3 {\n",
       "            background-color:  #3b4cc0;\n",
       "            color:  #f1f1f1;\n",
       "        }    #T_4bb971ae_bef2_11eb_911e_02420a390d95row2_col0 {\n",
       "            background-color:  #3b4cc0;\n",
       "            color:  #f1f1f1;\n",
       "        }    #T_4bb971ae_bef2_11eb_911e_02420a390d95row2_col1 {\n",
       "            background-color:  #3b4cc0;\n",
       "            color:  #f1f1f1;\n",
       "        }    #T_4bb971ae_bef2_11eb_911e_02420a390d95row2_col2 {\n",
       "            background-color:  #b40426;\n",
       "            color:  #f1f1f1;\n",
       "        }    #T_4bb971ae_bef2_11eb_911e_02420a390d95row2_col3 {\n",
       "            background-color:  #cfdaea;\n",
       "            color:  #000000;\n",
       "        }    #T_4bb971ae_bef2_11eb_911e_02420a390d95row3_col0 {\n",
       "            background-color:  #3b4cc0;\n",
       "            color:  #f1f1f1;\n",
       "        }    #T_4bb971ae_bef2_11eb_911e_02420a390d95row3_col1 {\n",
       "            background-color:  #3b4cc0;\n",
       "            color:  #f1f1f1;\n",
       "        }    #T_4bb971ae_bef2_11eb_911e_02420a390d95row3_col2 {\n",
       "            background-color:  #cedaeb;\n",
       "            color:  #000000;\n",
       "        }    #T_4bb971ae_bef2_11eb_911e_02420a390d95row3_col3 {\n",
       "            background-color:  #b40426;\n",
       "            color:  #f1f1f1;\n",
       "        }</style><table id=\"T_4bb971ae_bef2_11eb_911e_02420a390d95\" ><thead>    <tr>        <th class=\"blank level0\" ></th>        <th class=\"col_heading level0 col0\" >f0</th>        <th class=\"col_heading level0 col1\" >f1</th>        <th class=\"col_heading level0 col2\" >f2</th>        <th class=\"col_heading level0 col3\" >product</th>    </tr></thead><tbody>\n",
       "                <tr>\n",
       "                        <th id=\"T_4bb971ae_bef2_11eb_911e_02420a390d95level0_row0\" class=\"row_heading level0 row0\" >f0</th>\n",
       "                        <td id=\"T_4bb971ae_bef2_11eb_911e_02420a390d95row0_col0\" class=\"data row0 col0\" >1</td>\n",
       "                        <td id=\"T_4bb971ae_bef2_11eb_911e_02420a390d95row0_col1\" class=\"data row0 col1\" >0.00249302</td>\n",
       "                        <td id=\"T_4bb971ae_bef2_11eb_911e_02420a390d95row0_col2\" class=\"data row0 col2\" >5.31798e-05</td>\n",
       "                        <td id=\"T_4bb971ae_bef2_11eb_911e_02420a390d95row0_col3\" class=\"data row0 col3\" >-0.00246354</td>\n",
       "            </tr>\n",
       "            <tr>\n",
       "                        <th id=\"T_4bb971ae_bef2_11eb_911e_02420a390d95level0_row1\" class=\"row_heading level0 row1\" >f1</th>\n",
       "                        <td id=\"T_4bb971ae_bef2_11eb_911e_02420a390d95row1_col0\" class=\"data row1 col0\" >0.00249302</td>\n",
       "                        <td id=\"T_4bb971ae_bef2_11eb_911e_02420a390d95row1_col1\" class=\"data row1 col1\" >1</td>\n",
       "                        <td id=\"T_4bb971ae_bef2_11eb_911e_02420a390d95row1_col2\" class=\"data row1 col2\" >0.000377971</td>\n",
       "                        <td id=\"T_4bb971ae_bef2_11eb_911e_02420a390d95row1_col3\" class=\"data row1 col3\" >-0.00146252</td>\n",
       "            </tr>\n",
       "            <tr>\n",
       "                        <th id=\"T_4bb971ae_bef2_11eb_911e_02420a390d95level0_row2\" class=\"row_heading level0 row2\" >f2</th>\n",
       "                        <td id=\"T_4bb971ae_bef2_11eb_911e_02420a390d95row2_col0\" class=\"data row2 col0\" >5.31798e-05</td>\n",
       "                        <td id=\"T_4bb971ae_bef2_11eb_911e_02420a390d95row2_col1\" class=\"data row2 col1\" >0.000377971</td>\n",
       "                        <td id=\"T_4bb971ae_bef2_11eb_911e_02420a390d95row2_col2\" class=\"data row2 col2\" >1</td>\n",
       "                        <td id=\"T_4bb971ae_bef2_11eb_911e_02420a390d95row2_col3\" class=\"data row2 col3\" >0.448463</td>\n",
       "            </tr>\n",
       "            <tr>\n",
       "                        <th id=\"T_4bb971ae_bef2_11eb_911e_02420a390d95level0_row3\" class=\"row_heading level0 row3\" >product</th>\n",
       "                        <td id=\"T_4bb971ae_bef2_11eb_911e_02420a390d95row3_col0\" class=\"data row3 col0\" >-0.00246354</td>\n",
       "                        <td id=\"T_4bb971ae_bef2_11eb_911e_02420a390d95row3_col1\" class=\"data row3 col1\" >-0.00146252</td>\n",
       "                        <td id=\"T_4bb971ae_bef2_11eb_911e_02420a390d95row3_col2\" class=\"data row3 col2\" >0.448463</td>\n",
       "                        <td id=\"T_4bb971ae_bef2_11eb_911e_02420a390d95row3_col3\" class=\"data row3 col3\" >1</td>\n",
       "            </tr>\n",
       "    </tbody></table>"
      ],
      "text/plain": [
       "<pandas.io.formats.style.Styler at 0x7f95ef90dd50>"
      ]
     },
     "metadata": {},
     "output_type": "display_data"
    }
   ],
   "source": [
    "print('\\n', 'Корреляционная матрица, коэф. Спирмена')\n",
    "for i in range(0,3):\n",
    "    print(list(data.keys())[i])\n",
    "    display(list(data.values())[i].corr(method='spearman').style.background_gradient(cmap='coolwarm'))"
   ]
  },
  {
   "cell_type": "markdown",
   "metadata": {},
   "source": [
    "В целом уровни зависимости между факторами и целевым признаком остались прежними. А вот коэффициент Спирмена между прогнозирующими колонками f0 и f1 даже вырос.\n",
    "\n",
    "Выведем матрицы диаграмм рассеяния, чтобы рассмотреть, каким образом располагаются наши данные."
   ]
  },
  {
   "cell_type": "code",
   "execution_count": 8,
   "metadata": {},
   "outputs": [
    {
     "name": "stdout",
     "output_type": "stream",
     "text": [
      "Регион 1\n",
      "Регион 2\n",
      "Регион 3\n"
     ]
    },
    {
     "data": {
      "image/png": "[encoded data removed]",
      "text/plain": [
       "<Figure size 504x504 with 16 Axes>"
      ]
     },
     "metadata": {
      "needs_background": "light"
     },
     "output_type": "display_data"
    },
    {
     "data": {
      "image/png": "[encoded data removed]",
      "text/plain": [
       "<Figure size 504x504 with 16 Axes>"
      ]
     },
     "metadata": {
      "needs_background": "light"
     },
     "output_type": "display_data"
    },
    {
     "data": {
      "image/png": "[encoded data removed]",
      "text/plain": [
       "<Figure size 504x504 with 16 Axes>"
      ]
     },
     "metadata": {
      "needs_background": "light"
     },
     "output_type": "display_data"
    }
   ],
   "source": [
    "for i in range(0,3):\n",
    "    print(list(data.keys())[i])\n",
    "    pd.plotting.scatter_matrix(list(data.values())[i], figsize=(7, 7), alpha=0.2) "
   ]
  },
  {
   "cell_type": "markdown",
   "metadata": {},
   "source": [
    "Наиболее \"удобная\" для модели зависимость - между f2 и целевым признаком, а для второго региона она вообще является определяющей. Зависимость между факторами f0 и f1 нелинейна.\n",
    "\n",
    "Подготовим наши данные для обучения модели. Разделим датасет на набор прогнозирующих факторов и целевой признак. Из списка прогнозирующих признаков удалим также ID скважины, вряд ли колонка будет полезна для анализа.\n",
    "Разобъем получившиеся наборы на обучающие и валидационные выборки. Чтобы привести переменные к единому масштабу, стандартизируем их методом StandardScaler() и выведем информацию о размерности получившихся таблиц.\n",
    "\n",
    "Чтобы не дублировать один и тот же код трижды, оформим все вышеперечисленные действия в цикл и подготовим данные во всех трех таблицах сразу."
   ]
  },
  {
   "cell_type": "code",
   "execution_count": 9,
   "metadata": {},
   "outputs": [
    {
     "name": "stdout",
     "output_type": "stream",
     "text": [
      "train_0 (75000, 3) (75000,)\n",
      "valid_0 (25000, 3) (25000,) \n",
      "\n",
      "train_1 (75000, 3) (75000,)\n",
      "valid_1 (25000, 3) (25000,) \n",
      "\n",
      "train_2 (75000, 3) (75000,)\n",
      "valid_2 (25000, 3) (25000,) \n",
      "\n"
     ]
    }
   ],
   "source": [
    "regions = {}\n",
    "l1, l2, l3, l4 = [], [], [], []\n",
    "numeric = ['f0', 'f1', 'f2']\n",
    "\n",
    "for i in range(0,3):\n",
    "    target = pd.Series(list(data.values())[i]['product'])\n",
    "    features = pd.DataFrame(list(data.values())[i].drop(['id','product'], axis=1))\n",
    "    f_train, f_valid, t_train, t_valid = train_test_split(features, target, test_size=0.25, random_state=12345)\n",
    "    print('train_' + str(i), f_train.shape, t_train.shape)\n",
    "    print('valid_' + str(i), f_valid.shape, t_valid.shape, '\\n')\n",
    "    \n",
    "    scaler = StandardScaler()\n",
    "    scaler.fit(f_train[numeric])\n",
    "    f_train[numeric] = scaler.transform(f_train[numeric])\n",
    "    f_valid[numeric] = scaler.transform(f_valid[numeric])\n",
    "    \n",
    "    l1.append(f_train)\n",
    "    l2.append(f_valid)\n",
    "    l3.append(t_train)\n",
    "    l4.append(t_valid)\n",
    "    \n",
    "regions = {'features_train': l1, 'features_valid': l2, 'target_train': l3, 'target_valid': l4}    "
   ]
  },
  {
   "cell_type": "markdown",
   "metadata": {},
   "source": [
    "### Вывод"
   ]
  },
  {
   "cell_type": "markdown",
   "metadata": {},
   "source": [
    "Для анализа регионов компанией \"ГлавРосГосНефть\" предоставлено 3 датасета с информацией о факторах, влияющих на запасы месторождений нефти.\n",
    "\n",
    "В каждом наборе данных 5 колонок по 100000 записей. Пропущенных значений и дубликатов не выявлено, все типы данных корректны. Столбец с id скважины был удален из каждой таблицы из-за отсутствия прогнозируемой значимости.\n",
    "\n",
    "При предварительном исследовании выявлена положительная корреляция между предиктором f2 и целевым признаком. Зависимости между факторами f0, f1 и целевой переменной обнаружены только в первом и втором регионах (во втором к тому же зависимость нелинейна). Также имеются нецелевые признаки, которые коррелируют между собой - f0 и f1.\n",
    "\n",
    "В целях подготовки дванных к построению модели, каждый из трех датасетов был разбит на наборы влияющих признаков и целевой признак, на обучающую и валидационную выборки. А чтобы модель не считала какой-то фактор более значимым только из-за разного количества знаков после запятой, все признаки были масштабированы с помощью StandardScaler(). Чтобы заранее не передавать информацию модели, как распределены данные в валидационной выборке, шкалирование произведено уже после разделения датасета на обучающую и валидационную выборки. \n",
    "\n",
    "Поскольку коэффициенты корреляции между переменными варьируются в зависимости от местоположения, обучим модель на разных тренировочных выборках для каждого региона отдельно (для получения более точных предсказаний)."
   ]
  },
  {
   "cell_type": "markdown",
   "metadata": {},
   "source": [
    "## Обучение и проверка модели"
   ]
  },
  {
   "cell_type": "markdown",
   "metadata": {},
   "source": [
    "Для прогнозирования запасов была выбрана модель линейной регрессии, как наиболее предсказуемая и удобная для интерпретации. Объявим функцию для расчета основных показателей эффективности модели."
   ]
  },
  {
   "cell_type": "code",
   "execution_count": 10,
   "metadata": {},
   "outputs": [],
   "source": [
    "model_list = []\n",
    "\n",
    "def compare_table(regions):\n",
    "    df = pd.DataFrame(columns=['regions', 'target_product_mean', 'predict_product_mean', 'MSE', 'RMSE', 'R2'])\n",
    "    for i in range(0,3):\n",
    "        name = 'region_' + str(i)\n",
    "        product_mean = regions['target_valid'][i].mean().round(3)\n",
    "        model = LinearRegression()\n",
    "        model.fit(regions['features_train'][i], regions['target_train'][i])\n",
    "        model_list.append(model)\n",
    "        prediction = model.predict(regions['features_valid'][i])\n",
    "        pred_product_mean = prediction.mean().round(3)\n",
    "        mse = mean_squared_error(regions['target_valid'][i], prediction).round(3)\n",
    "        rmse = (mse ** 0.5).round(3)\n",
    "        r2 = r2_score(regions['target_valid'][i], prediction).round(3)\n",
    "        df = df.append({'regions': name, 'target_product_mean': product_mean, 'predict_product_mean': pred_product_mean, 'MSE': mse, 'RMSE': rmse, 'R2': r2}, ignore_index=True)\n",
    "    return df"
   ]
  },
  {
   "cell_type": "markdown",
   "metadata": {},
   "source": [
    "Выведем значения основных метрик эффективности модели по трем регионам, применив нашу функцию."
   ]
  },
  {
   "cell_type": "code",
   "execution_count": 11,
   "metadata": {},
   "outputs": [
    {
     "data": {
      "text/html": [
       "<div>\n",
       "<style scoped>\n",
       "    .dataframe tbody tr th:only-of-type {\n",
       "        vertical-align: middle;\n",
       "    }\n",
       "\n",
       "    .dataframe tbody tr th {\n",
       "        vertical-align: top;\n",
       "    }\n",
       "\n",
       "    .dataframe thead th {\n",
       "        text-align: right;\n",
       "    }\n",
       "</style>\n",
       "<table border=\"1\" class=\"dataframe\">\n",
       "  <thead>\n",
       "    <tr style=\"text-align: right;\">\n",
       "      <th></th>\n",
       "      <th>regions</th>\n",
       "      <th>target_product_mean</th>\n",
       "      <th>predict_product_mean</th>\n",
       "      <th>MSE</th>\n",
       "      <th>RMSE</th>\n",
       "      <th>R2</th>\n",
       "    </tr>\n",
       "  </thead>\n",
       "  <tbody>\n",
       "    <tr>\n",
       "      <td>0</td>\n",
       "      <td>region_0</td>\n",
       "      <td>92.079</td>\n",
       "      <td>92.593</td>\n",
       "      <td>1412.213</td>\n",
       "      <td>37.579</td>\n",
       "      <td>0.280</td>\n",
       "    </tr>\n",
       "    <tr>\n",
       "      <td>1</td>\n",
       "      <td>region_1</td>\n",
       "      <td>68.723</td>\n",
       "      <td>68.729</td>\n",
       "      <td>0.798</td>\n",
       "      <td>0.893</td>\n",
       "      <td>1.000</td>\n",
       "    </tr>\n",
       "    <tr>\n",
       "      <td>2</td>\n",
       "      <td>region_2</td>\n",
       "      <td>94.884</td>\n",
       "      <td>94.965</td>\n",
       "      <td>1602.378</td>\n",
       "      <td>40.030</td>\n",
       "      <td>0.205</td>\n",
       "    </tr>\n",
       "  </tbody>\n",
       "</table>\n",
       "</div>"
      ],
      "text/plain": [
       "    regions  target_product_mean  predict_product_mean       MSE    RMSE  \\\n",
       "0  region_0               92.079                92.593  1412.213  37.579   \n",
       "1  region_1               68.723                68.729     0.798   0.893   \n",
       "2  region_2               94.884                94.965  1602.378  40.030   \n",
       "\n",
       "      R2  \n",
       "0  0.280  \n",
       "1  1.000  \n",
       "2  0.205  "
      ]
     },
     "execution_count": 11,
     "metadata": {},
     "output_type": "execute_result"
    }
   ],
   "source": [
    "compare_table(regions)"
   ]
  },
  {
   "cell_type": "markdown",
   "metadata": {},
   "source": [
    "Лучше всех проявляет себя модель, обученная на втором регионе (скорее всего, из-за признака f2).\n",
    "\n",
    "Проверим, правильно ли у нас сохранились модели в списке. Выведем точку пересечения с осью y и угловые коэффициенты (они должны быть разными для трех моделей, т.к. обучение проходило на разных тренировочных выборках)."
   ]
  },
  {
   "cell_type": "code",
   "execution_count": 12,
   "metadata": {},
   "outputs": [
    {
     "name": "stdout",
     "output_type": "stream",
     "text": [
      "Регион_1\n",
      "[ 3.13227436 -7.10817695 21.42556383]\n",
      "92.64046775305694 \n",
      "\n",
      "Регион_2\n",
      "[-1.29948295 -0.1129355  45.88603253]\n",
      "68.85895465854666 \n",
      "\n",
      "Регион_3\n",
      "[ 0.0535809  -0.07250488 19.81965193]\n",
      "95.03858906371522 \n",
      "\n"
     ]
    }
   ],
   "source": [
    "for i in range(0,3):\n",
    "    print('Регион_' + str(i+1))\n",
    "    print(model_list[i].coef_)\n",
    "    print(model_list[i].intercept_, '\\n')"
   ]
  },
  {
   "cell_type": "markdown",
   "metadata": {},
   "source": [
    "### Вывод"
   ]
  },
  {
   "cell_type": "markdown",
   "metadata": {},
   "source": [
    "Для прогнозирования запасов нефти и, соответственно, возможной прибыли/ убытков от разработки новых скважин, применена модель линейной регрессии. Модель обучена на прогнозирующих факторах f0, f1 и f2. \n",
    "Гиперпараметры для всех территорий одинаковы. Однако, обучена модель на тренировочных данных для каждого региона отдельно, поскольку влияние признаков на объем запасов сильно отличается в зависимости от места."
   ]
  },
  {
   "cell_type": "markdown",
   "metadata": {},
   "source": [
    "## Подготовка к расчёту прибыли"
   ]
  },
  {
   "cell_type": "markdown",
   "metadata": {},
   "source": [
    "Применим нашу модель для прогнозирования богатств месторождений. Для этого создадим список, в котором сохраним три датафрейма (по одному для каждого региона). Каждый датафрейм будет содержать два столбца: фактический объем залежей и предсказанный."
   ]
  },
  {
   "cell_type": "code",
   "execution_count": 13,
   "metadata": {},
   "outputs": [
    {
     "name": "stdout",
     "output_type": "stream",
     "text": [
      "          product  prediction\n",
      "71751   61.212375   93.599633\n",
      "80493   41.850118   75.105159\n",
      "2655    57.776581   90.066809\n",
      "53233  100.053761  105.162375\n",
      "91141  109.897122  115.303310\n"
     ]
    }
   ],
   "source": [
    "mod_results = []\n",
    "for i in range(0,3):\n",
    "    result = pd.DataFrame(regions['target_valid'][i])\n",
    "    result['prediction'] = model_list[i].predict(regions['features_valid'][i])\n",
    "    mod_results.append(result)\n",
    "    \n",
    "print(mod_results[2].head())    "
   ]
  },
  {
   "cell_type": "markdown",
   "metadata": {},
   "source": [
    "Рассчитаем точку безубыточности для одной скважины (сколько нефти минимально должна содержать одна скважина, чтобы отработать хотя бы с нулевой прибылью) и для всего региона в целом (сколько нужно добыть нефти в одном регионе, чтобы покрыть затраты на его разработку). Себестоимость разработки двухсот скважин в регионе равна 10 млрд. рублей."
   ]
  },
  {
   "cell_type": "code",
   "execution_count": 14,
   "metadata": {},
   "outputs": [
    {
     "name": "stdout",
     "output_type": "stream",
     "text": [
      "Точка безубыточности для одной скважины: 111.111 тыс. баррелей\n",
      "Точка безубыточности для одного региона: 22222.222 тыс. баррелей\n"
     ]
    }
   ],
   "source": [
    "print('Точка безубыточности для одной скважины: {:.3f} тыс. баррелей'.format(10000000000 / 200 / 450000))\n",
    "print('Точка безубыточности для одного региона: {:.3f} тыс. баррелей'.format(10000000000 / 450000))"
   ]
  },
  {
   "cell_type": "markdown",
   "metadata": {},
   "source": [
    "Сравним полученный минимальный для безубыточности объем сырья со средним запасом в каждом регионе. Объявим функцию для расчета фактических и предсказанных запасов черного золота."
   ]
  },
  {
   "cell_type": "code",
   "execution_count": 15,
   "metadata": {},
   "outputs": [],
   "source": [
    "def compare_table(results, count):\n",
    "    df = pd.DataFrame(columns=['regions', 'product', 'prediction'])\n",
    "    for i in range(0, count):\n",
    "        reg = 'Регион ' + str(i+1)\n",
    "        prod = results[i]['product'].mean().round(3)\n",
    "        pred = results[i]['prediction'].mean().round(3)\n",
    "        df = df.append({'regions': reg, 'product': prod, 'prediction': pred}, ignore_index=True)\n",
    "    return df"
   ]
  },
  {
   "cell_type": "markdown",
   "metadata": {},
   "source": [
    "Применим нашу функцию для подсчета нужных показателей. В качестве аргументов передадим ей список с результатами по регионам и количество регионов."
   ]
  },
  {
   "cell_type": "code",
   "execution_count": 16,
   "metadata": {},
   "outputs": [
    {
     "data": {
      "text/html": [
       "<div>\n",
       "<style scoped>\n",
       "    .dataframe tbody tr th:only-of-type {\n",
       "        vertical-align: middle;\n",
       "    }\n",
       "\n",
       "    .dataframe tbody tr th {\n",
       "        vertical-align: top;\n",
       "    }\n",
       "\n",
       "    .dataframe thead th {\n",
       "        text-align: right;\n",
       "    }\n",
       "</style>\n",
       "<table border=\"1\" class=\"dataframe\">\n",
       "  <thead>\n",
       "    <tr style=\"text-align: right;\">\n",
       "      <th></th>\n",
       "      <th>regions</th>\n",
       "      <th>product</th>\n",
       "      <th>prediction</th>\n",
       "    </tr>\n",
       "  </thead>\n",
       "  <tbody>\n",
       "    <tr>\n",
       "      <td>0</td>\n",
       "      <td>Регион 1</td>\n",
       "      <td>92.079</td>\n",
       "      <td>92.593</td>\n",
       "    </tr>\n",
       "    <tr>\n",
       "      <td>1</td>\n",
       "      <td>Регион 2</td>\n",
       "      <td>68.723</td>\n",
       "      <td>68.729</td>\n",
       "    </tr>\n",
       "    <tr>\n",
       "      <td>2</td>\n",
       "      <td>Регион 3</td>\n",
       "      <td>94.884</td>\n",
       "      <td>94.965</td>\n",
       "    </tr>\n",
       "  </tbody>\n",
       "</table>\n",
       "</div>"
      ],
      "text/plain": [
       "    regions  product  prediction\n",
       "0  Регион 1   92.079      92.593\n",
       "1  Регион 2   68.723      68.729\n",
       "2  Регион 3   94.884      94.965"
      ]
     },
     "execution_count": 16,
     "metadata": {},
     "output_type": "execute_result"
    }
   ],
   "source": [
    "compare_table(mod_results, 3)"
   ]
  },
  {
   "cell_type": "markdown",
   "metadata": {},
   "source": [
    "Среднее количество запасов одной скважины меньше точки безубыточности. Это значит, что нам придется более тщательно выбирать объект для разработки, чтобы не уйти в минус."
   ]
  },
  {
   "cell_type": "markdown",
   "metadata": {},
   "source": [
    "### Вывод"
   ]
  },
  {
   "cell_type": "markdown",
   "metadata": {},
   "source": [
    "Для исследования месторождений на валидационной выборке были спрогнозированы запасы нефти и рассчитана точка безубыточности (111.111 тыс. баррелей). Как показали расчеты, средние объемы сырья в скважинах меньше точки безубыточности. Значит, нужно среди всех скважин выбрать наиболее богатые по запасам и разрабатывать их."
   ]
  },
  {
   "cell_type": "markdown",
   "metadata": {},
   "source": [
    "## Расчёт прогнозируемой прибыли"
   ]
  },
  {
   "cell_type": "markdown",
   "metadata": {},
   "source": [
    "Для каждого региона выберем по 200 скважин с максимальными предсказаниями и посчитаем по ним средние значения. Все три набора \"Топ-скважин\" сохраним в переменной top_200_boreholes."
   ]
  },
  {
   "cell_type": "code",
   "execution_count": 17,
   "metadata": {},
   "outputs": [
    {
     "name": "stdout",
     "output_type": "stream",
     "text": [
      "             regions  product_mean  prediction_mean\n",
      "0  Топ-200, регион 1    148.009178       155.511654\n",
      "1  Топ-200, регион 2    137.945408       138.730134\n",
      "2  Топ-200, регион 3    141.226111       148.019493\n"
     ]
    }
   ],
   "source": [
    "top_200_boreholes = []\n",
    "\n",
    "df = pd.DataFrame(columns=['regions', 'product_mean', 'prediction_mean'])\n",
    "for i in range(0,3):\n",
    "    boreholes = mod_results[i].sort_values(by='prediction', ascending=False).head(200)\n",
    "    top_200_boreholes.append(boreholes)\n",
    "    reg = 'Топ-200, регион ' + str(i+1)\n",
    "    df = df.append({'regions': reg, 'product_mean': boreholes['product'].mean(), 'prediction_mean': boreholes['prediction'].mean()}, ignore_index=True)\n",
    "\n",
    "print(df)    "
   ]
  },
  {
   "cell_type": "markdown",
   "metadata": {},
   "source": [
    "Пока наибольший доход приносит регион 1. Посчитаем, сколько каждая скважина теоретически может принести доходов. Для этого напишем функцию для подсчета прибыли с каждой скважины."
   ]
  },
  {
   "cell_type": "code",
   "execution_count": 18,
   "metadata": {},
   "outputs": [],
   "source": [
    "def profit_count(volume):\n",
    "    profit = (volume*450000) - (10000000000 / 200)\n",
    "    return profit"
   ]
  },
  {
   "cell_type": "markdown",
   "metadata": {},
   "source": [
    "Применим функцию к трем датафреймам Топ-200 по регионам и выведем по 2 первых строчки получившихся таблиц для оценки корректности работы функции."
   ]
  },
  {
   "cell_type": "code",
   "execution_count": 19,
   "metadata": {},
   "outputs": [
    {
     "name": "stdout",
     "output_type": "stream",
     "text": [
      "          product  prediction        profit\n",
      "93073  162.810993  180.180713  3.108132e+07\n",
      "46784  153.639837  176.252213  2.931350e+07 \n",
      "\n",
      "          product  prediction        profit\n",
      "38665  137.945408  139.818970  1.291854e+07\n",
      "20191  137.945408  139.773423  1.289804e+07 \n",
      "\n",
      "          product  prediction        profit\n",
      "98619  175.103291  165.856833  2.463557e+07\n",
      "46649  131.627481  165.679685  2.455586e+07 \n",
      "\n"
     ]
    }
   ],
   "source": [
    "for i in range(0,3):\n",
    "    top_200_boreholes[i]['profit'] = profit_count(top_200_boreholes[i]['prediction'])\n",
    "    print(top_200_boreholes[i].head(2), '\\n')"
   ]
  },
  {
   "cell_type": "markdown",
   "metadata": {},
   "source": [
    "Просуммируем целевое значение объёма сырья, соответствующее этим предсказаниям, а также прибыль для прогнозируемого объёма сырья."
   ]
  },
  {
   "cell_type": "code",
   "execution_count": 20,
   "metadata": {},
   "outputs": [
    {
     "data": {
      "text/html": [
       "<div>\n",
       "<style scoped>\n",
       "    .dataframe tbody tr th:only-of-type {\n",
       "        vertical-align: middle;\n",
       "    }\n",
       "\n",
       "    .dataframe tbody tr th {\n",
       "        vertical-align: top;\n",
       "    }\n",
       "\n",
       "    .dataframe thead th {\n",
       "        text-align: right;\n",
       "    }\n",
       "</style>\n",
       "<table border=\"1\" class=\"dataframe\">\n",
       "  <thead>\n",
       "    <tr style=\"text-align: right;\">\n",
       "      <th></th>\n",
       "      <th>regions</th>\n",
       "      <th>product</th>\n",
       "      <th>predictions</th>\n",
       "      <th>profit</th>\n",
       "    </tr>\n",
       "  </thead>\n",
       "  <tbody>\n",
       "    <tr>\n",
       "      <td>0</td>\n",
       "      <td>Регион 1</td>\n",
       "      <td>29601.835651</td>\n",
       "      <td>31102.330839</td>\n",
       "      <td>3.996049e+09</td>\n",
       "    </tr>\n",
       "    <tr>\n",
       "      <td>1</td>\n",
       "      <td>Регион 2</td>\n",
       "      <td>27589.081548</td>\n",
       "      <td>27746.026782</td>\n",
       "      <td>2.485712e+09</td>\n",
       "    </tr>\n",
       "    <tr>\n",
       "      <td>2</td>\n",
       "      <td>Регион 3</td>\n",
       "      <td>28245.222141</td>\n",
       "      <td>29603.898658</td>\n",
       "      <td>3.321754e+09</td>\n",
       "    </tr>\n",
       "  </tbody>\n",
       "</table>\n",
       "</div>"
      ],
      "text/plain": [
       "    regions       product   predictions        profit\n",
       "0  Регион 1  29601.835651  31102.330839  3.996049e+09\n",
       "1  Регион 2  27589.081548  27746.026782  2.485712e+09\n",
       "2  Регион 3  28245.222141  29603.898658  3.321754e+09"
      ]
     },
     "metadata": {},
     "output_type": "display_data"
    }
   ],
   "source": [
    "df = pd.DataFrame(columns=['regions', 'product', 'predictions', 'profit'])\n",
    "for i in range(0,3):\n",
    "    reg = 'Регион ' + str(i+1)\n",
    "    df = df.append({'regions': reg, 'product': top_200_boreholes[i].apply(sum)[0], 'predictions': top_200_boreholes[i].apply(sum)[1], 'profit': top_200_boreholes[i].apply(sum)[2]}, ignore_index=True)\n",
    "\n",
    "display(df)    "
   ]
  },
  {
   "cell_type": "markdown",
   "metadata": {},
   "source": [
    "### Вывод"
   ]
  },
  {
   "cell_type": "markdown",
   "metadata": {},
   "source": [
    "В данном разделе для каждого региона выделены 200 наиболее богатых скважин по предсказанным залежам сырья. На первый взгляд все очень хорошо. Средние значения выше точки безубыточности, а средние прогнозируемые запасы нефти будто бы не слишком отличаются от фактических. Казалось бы, модель отлично работает, пора расчехлять оборудование и разрабатывать регион 1.\n",
    "\n",
    "Однако здесь нужно вспомнить, что все расчеты прибылей произодились не по фактическим значениям, а по прогнозируемым (ибо если мы будем оценивать скважины, которые только хотим разрабатывать, то мы достоверно не можем знать об истинных объемах). Что если наша модель часто ошибается и завышает запасы ряда объектов, которые могли каким-то образом попасть в нашу выборку? Тем более, высокие показатели эффективности модели были только у региона 2, а он в аутсайдерах нашего рейтинга по запасам. Рассмотрим риски ошибок в следующем разделе."
   ]
  },
  {
   "cell_type": "markdown",
   "metadata": {},
   "source": [
    "## Расчёт рисков"
   ]
  },
  {
   "cell_type": "markdown",
   "metadata": {},
   "source": [
    "Оценим качество модели техникой Bootstrap: насколько модель эффективно прогнозирует объемы запасов. Посмотрим, большим ли будет риск убытков, если при выборе региона руководствоваться предсказаниями модели. Для нас приемлемым уровнем риска будет порог в 2,5% (вероятность убытков должна быть не больше этого значения). "
   ]
  },
  {
   "cell_type": "code",
   "execution_count": 21,
   "metadata": {},
   "outputs": [],
   "source": [
    "state = np.random.RandomState(12345)\n",
    "\n",
    "def revenue(target, prediction, count):\n",
    "    pred_sorted = prediction.sort_values(ascending=False)\n",
    "    selected = target[pred_sorted.index][:count]\n",
    "    return selected.sum()*450000 - 10000000000\n",
    "\n",
    "state = np.random.RandomState(12345)\n",
    "    \n",
    "values_list = []\n",
    "for i in range(0,3):\n",
    "    values = []\n",
    "    for j in range(1000):\n",
    "        target_subsample = mod_results[i]['product'].sample(n=500, replace=True, random_state=state)\n",
    "        pred_subsample = mod_results[i]['prediction'][target_subsample.index]\n",
    "        values.append(revenue(target_subsample, pred_subsample, 200))\n",
    "    values_list.append(values)"
   ]
  },
  {
   "cell_type": "markdown",
   "metadata": {},
   "source": [
    "Построим распределение средних значений прибыли по каждому региону. Объявим функцию для построения графика."
   ]
  },
  {
   "cell_type": "code",
   "execution_count": 22,
   "metadata": {},
   "outputs": [],
   "source": [
    "def draw_hist(ax, data, title, xlabel):\n",
    "    ax.hist(pd.Series(data), density=True, bins=40, color='green')\n",
    "    ax.grid(alpha=0.2, linestyle='--', linewidth=1)\n",
    "    ax.set_title(title)\n",
    "    ax.set_xlabel(xlabel)"
   ]
  },
  {
   "cell_type": "markdown",
   "metadata": {},
   "source": [
    "Передадим функции набор данных, название региона и название оси x."
   ]
  },
  {
   "cell_type": "code",
   "execution_count": 23,
   "metadata": {},
   "outputs": [
    {
     "data": {
      "image/png": "[encoded data removed]",
      "text/plain": [
       "<Figure size 1008x360 with 3 Axes>"
      ]
     },
     "metadata": {
      "needs_background": "light"
     },
     "output_type": "display_data"
    }
   ],
   "source": [
    "fig, ax = plt.subplots(ncols=3, figsize=(14,5))\n",
    "draw_hist(ax=ax[0], data=values_list[0], title='Регион 1', xlabel='Средняя прибыль')\n",
    "ax[0].set_ylabel('Плотность частоты')\n",
    "draw_hist(ax=ax[1], data=values_list[1], title='Регион 2', xlabel='Средняя прибыль')\n",
    "draw_hist(ax=ax[2], data=values_list[2], title='Регион 3', xlabel='Средняя прибыль')"
   ]
  },
  {
   "cell_type": "markdown",
   "metadata": {},
   "source": [
    "По графикам можно сделать вывод, что при выборе любого региона существует риск получения убытков. Но во втором регионе он существенно меньше.\n",
    "\n",
    "Посчитаем среднее по полученным выборкам, 95% доверительный интервал и риск получения убытков (2,5%-квантиль дохода)."
   ]
  },
  {
   "cell_type": "code",
   "execution_count": 24,
   "metadata": {},
   "outputs": [
    {
     "data": {
      "text/html": [
       "<div>\n",
       "<style scoped>\n",
       "    .dataframe tbody tr th:only-of-type {\n",
       "        vertical-align: middle;\n",
       "    }\n",
       "\n",
       "    .dataframe tbody tr th {\n",
       "        vertical-align: top;\n",
       "    }\n",
       "\n",
       "    .dataframe thead th {\n",
       "        text-align: right;\n",
       "    }\n",
       "</style>\n",
       "<table border=\"1\" class=\"dataframe\">\n",
       "  <thead>\n",
       "    <tr style=\"text-align: right;\">\n",
       "      <th></th>\n",
       "      <th>regions</th>\n",
       "      <th>profit_mean</th>\n",
       "      <th>2,5% quantile</th>\n",
       "      <th>95% conf_interval_student</th>\n",
       "      <th>95% conf_interval_predict</th>\n",
       "    </tr>\n",
       "  </thead>\n",
       "  <tbody>\n",
       "    <tr>\n",
       "      <td>0</td>\n",
       "      <td>Регион 1</td>\n",
       "      <td>4.259385e+08</td>\n",
       "      <td>-1.020901e+08</td>\n",
       "      <td>(408732207.0686985, 443144846.7524861)</td>\n",
       "      <td>(-117523848.91811359, 969400902.7392982)</td>\n",
       "    </tr>\n",
       "    <tr>\n",
       "      <td>1</td>\n",
       "      <td>Регион 2</td>\n",
       "      <td>5.182595e+08</td>\n",
       "      <td>1.281232e+08</td>\n",
       "      <td>(505249881.5766218, 531269105.8180281)</td>\n",
       "      <td>(107350317.49377966, 929168669.9008702)</td>\n",
       "    </tr>\n",
       "    <tr>\n",
       "      <td>2</td>\n",
       "      <td>Регион 3</td>\n",
       "      <td>4.201940e+08</td>\n",
       "      <td>-1.158526e+08</td>\n",
       "      <td>(402528703.6503615, 437859307.0377386)</td>\n",
       "      <td>(-137765332.6433704, 978153343.3314705)</td>\n",
       "    </tr>\n",
       "  </tbody>\n",
       "</table>\n",
       "</div>"
      ],
      "text/plain": [
       "    regions   profit_mean  2,5% quantile  \\\n",
       "0  Регион 1  4.259385e+08  -1.020901e+08   \n",
       "1  Регион 2  5.182595e+08   1.281232e+08   \n",
       "2  Регион 3  4.201940e+08  -1.158526e+08   \n",
       "\n",
       "                95% conf_interval_student  \\\n",
       "0  (408732207.0686985, 443144846.7524861)   \n",
       "1  (505249881.5766218, 531269105.8180281)   \n",
       "2  (402528703.6503615, 437859307.0377386)   \n",
       "\n",
       "                  95% conf_interval_predict  \n",
       "0  (-117523848.91811359, 969400902.7392982)  \n",
       "1   (107350317.49377966, 929168669.9008702)  \n",
       "2   (-137765332.6433704, 978153343.3314705)  "
      ]
     },
     "metadata": {},
     "output_type": "display_data"
    }
   ],
   "source": [
    "df = pd.DataFrame(columns=['regions', 'profit_mean', '2,5% quantile', '95% conf_interval_student', '95% conf_interval_predict'])\n",
    "for i in range(0,3):\n",
    "    reg = 'Регион ' + str(i+1)\n",
    "    values_list[i] = pd.Series(values_list[i])\n",
    "    lower = values_list[i].quantile(.025)\n",
    "    mean = values_list[i].mean()\n",
    "    conf_interval_student = st.t.interval(alpha=0.95, df=len(values_list[i])-1, loc=values_list[i].mean(), scale=values_list[i].sem())\n",
    "    conf_interval_predict = (values_list[i].mean() - 1.96 * (np.std(values_list[i], ddof=1)), \n",
    "                             values_list[i].mean() + 1.96 * (np.std(values_list[i], ddof=1)))\n",
    "    df = df.append({'regions': reg, 'profit_mean': mean, '2,5% quantile': lower,'95% conf_interval_student': conf_interval_student, '95% conf_interval_predict': conf_interval_predict}, ignore_index=True)\n",
    "    \n",
    "display(df)    "
   ]
  },
  {
   "cell_type": "markdown",
   "metadata": {},
   "source": [
    "В этот раз лучшие результаты получены по региону 2. Более того, это единственный регион, где риск убытков не превышает 2,5%. При подобных результатах разработка месторождений в других местах превращается в лотерею."
   ]
  },
  {
   "cell_type": "markdown",
   "metadata": {},
   "source": [
    "### Вывод"
   ]
  },
  {
   "cell_type": "markdown",
   "metadata": {},
   "source": [
    "С помощью техники Bootstrap с 1000 выборок найдено распределение прогнозируемой прибыли по трем регионам. И хотя при предварительной оценке запасов нефти модель сулила нам золотые горы при разработке региона 1, то при формировании многих выборок и подсчете их средних вырисовалась менее радужная картина. Прибыли оказались значительно меньше, а лучшим для разработки оказался регион 2.\n",
    "\n",
    "По исходным данным регион 2 обладает самыми низкими запасами сырья. Однако благодаря почти полной положительной корреляции между предсказывающей и целевой переменными, можно почти со 100% точностью предсказать объем углеводородов в той или иной скважине и минимизировать риски."
   ]
  },
  {
   "cell_type": "markdown",
   "metadata": {},
   "source": [
    "## Общий вывод"
   ]
  },
  {
   "cell_type": "markdown",
   "metadata": {},
   "source": [
    "В проекте изучены три нефтяных региона с точки зрения наиболее подходящего места для разработки скважин. При анализе статистических данных выявлены зависимости между факторами и целевым признаком. Обнаружена положительная корреляция между предиктором f2 и целевым признаком, коэффициенты Пирсона-Спирмена 0.48 - 0.47 соответственно. Зависимости между факторами f0, f1 и целевым признаком обнаружены только в первом (коэффициенты 0.15 - 0.13 для f0 и 0.19 - 0.18 для f1) и втором (нелинейная зависимость 0.12 для f0) регионах. Также имеется значительная положительная корреляция между переменными f0 и f1 (порядка 0.44-0.47).\n",
    "\n",
    "На основе собранных данных построена модель для прогнозирования объёма запасов в новых скважинах. По скважинам с наиболее большими предсказанными залежами нефти рассчитана суммарная прибыль, где лучший результат показал первый регион - 3 996 049 тыс. рублей.\n",
    "\n",
    "Однако анализ возможных доходов и рисков техникой Bootstrap представил совершенно другие результаты. Регионом с самым низким риском убытков оказался второй (средний доход - 518 259.5 тысяч рублей, а 2,5%-квантиль распределения прибыли равен 128 123.2тысячам). Проблема заключается в том, что модель в регионах 1 и 3 (где нефти больше всего) не может предугадать объемы сырья так же хорошо, как в регионе 2. Этот результат обусловлен почти полной положительной корреляцией между предиктором f2 и целевой переменной.\n",
    "\n",
    "<strong>В целях минимизации рисков и получения гарантированной стабильной прибыли к разработке месторождений рекомендован регион 2 (файл geo_data_1). </strong> По сути наш выбор обоснован не количеством ресурсов, а качеством модели, их предсказывающих. Модели, обученные на данных по другим регионам, выдают не слишком надежные предсказания, чтобы свести к минимуму риски разработки убыточных скважин, и не смогут превзойти прогнозы по второму региону не выходя за рамки линейной регрессии."
   ]
  },
  {
   "cell_type": "code",
   "execution_count": null,
   "metadata": {},
   "outputs": [],
   "source": []
  }
 ],
 "metadata": {
  "kernelspec": {
   "display_name": "Python 3",
   "language": "python",
   "name": "python3"
  },
  "language_info": {
   "codemirror_mode": {
    "name": "ipython",
    "version": 3
   },
   "file_extension": ".py",
   "mimetype": "text/x-python",
   "name": "python",
   "nbconvert_exporter": "python",
   "pygments_lexer": "ipython3",
   "version": "3.7.3"
  },
  "toc": {
   "base_numbering": 1,
   "nav_menu": {},
   "number_sections": true,
   "sideBar": true,
   "skip_h1_title": true,
   "title_cell": "Table of Contents",
   "title_sidebar": "Contents",
   "toc_cell": false,
   "toc_position": {
    "height": "430px",
    "left": "50px",
    "top": "110px",
    "width": "238.396px"
   },
   "toc_section_display": true,
   "toc_window_display": true
  }
 },
 "nbformat": 4,
 "nbformat_minor": 2
}
