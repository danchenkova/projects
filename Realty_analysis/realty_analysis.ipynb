{
 "cells": [
  {
   "cell_type": "markdown",
   "metadata": {},
   "source": [
    "# Исследование объявлений о продаже квартир\n",
    "\n",
    "Сервис по сделкам с недвижимостью предоставил архив объявлений о продаже квартир в Санкт-Петербурге и соседних населённых пунктов за несколько лет. Нужно научиться определять рыночную стоимость объектов недвижимости, выделить параметры, влияющие на ценообразование. Это позволит построить автоматизированную систему: она отследит аномалии и мошенническую деятельность. \n",
    "\n",
    "По каждой квартире на продажу доступны два вида данных. Первые вписаны пользователем, вторые — получены автоматически на основе картографических данных. Например, расстояние до центра, аэропорта, ближайшего парка и водоёма. "
   ]
  },
  {
   "cell_type": "markdown",
   "metadata": {},
   "source": [
    "**Цель проекта**\n",
    "\n",
    "Проанализировать архив объявлений о продаже недвижимости в Санкт-Петербурге и Ленинградской области для установления факторов, влияющих на рыночную стоимость объектов."
   ]
  },
  {
   "cell_type": "markdown",
   "metadata": {},
   "source": [
    "**Задачи проекта**\n",
    "\n",
    "1. Изучить набор данных на предмет наличия пропусков, аномальных значений, данных с некорректными типами для их последующего восстановления и правки. Описать возможные причины происхождения подобных явлений.\n",
    "\n",
    "2. Добавить в таблицу дополнительные метрики для выявления закономерностей.\n",
    "\n",
    "3. Выявить наличие (или отсутствие) взаимосвязей между факторами и рыночной стоимостью жилой недвижимости."
   ]
  },
  {
   "cell_type": "markdown",
   "metadata": {},
   "source": [
    "## Предварительное изучение данных"
   ]
  },
  {
   "cell_type": "code",
   "execution_count": 1,
   "metadata": {},
   "outputs": [],
   "source": [
    "import pandas as pd\n",
    "from IPython.display import display\n",
    "import matplotlib.pyplot as plt\n",
    "import seaborn as sns\n",
    "\n",
    "import warnings\n",
    "warnings.filterwarnings(\"ignore\")"
   ]
  },
  {
   "cell_type": "markdown",
   "metadata": {},
   "source": [
    "Загрузим данные."
   ]
  },
  {
   "cell_type": "code",
   "execution_count": 2,
   "metadata": {},
   "outputs": [
    {
     "data": {
      "text/html": [
       "<div>\n",
       "<style scoped>\n",
       "    .dataframe tbody tr th:only-of-type {\n",
       "        vertical-align: middle;\n",
       "    }\n",
       "\n",
       "    .dataframe tbody tr th {\n",
       "        vertical-align: top;\n",
       "    }\n",
       "\n",
       "    .dataframe thead th {\n",
       "        text-align: right;\n",
       "    }\n",
       "</style>\n",
       "<table border=\"1\" class=\"dataframe\">\n",
       "  <thead>\n",
       "    <tr style=\"text-align: right;\">\n",
       "      <th></th>\n",
       "      <th>total_images</th>\n",
       "      <th>last_price</th>\n",
       "      <th>total_area</th>\n",
       "      <th>first_day_exposition</th>\n",
       "      <th>rooms</th>\n",
       "      <th>ceiling_height</th>\n",
       "      <th>floors_total</th>\n",
       "      <th>living_area</th>\n",
       "      <th>floor</th>\n",
       "      <th>is_apartment</th>\n",
       "      <th>studio</th>\n",
       "      <th>open_plan</th>\n",
       "      <th>kitchen_area</th>\n",
       "      <th>balcony</th>\n",
       "      <th>locality_name</th>\n",
       "      <th>airports_nearest</th>\n",
       "      <th>cityCenters_nearest</th>\n",
       "      <th>parks_around3000</th>\n",
       "      <th>parks_nearest</th>\n",
       "      <th>ponds_around3000</th>\n",
       "      <th>ponds_nearest</th>\n",
       "      <th>days_exposition</th>\n",
       "    </tr>\n",
       "  </thead>\n",
       "  <tbody>\n",
       "    <tr>\n",
       "      <th>144</th>\n",
       "      <td>1</td>\n",
       "      <td>2450000.0</td>\n",
       "      <td>27.00</td>\n",
       "      <td>2017-03-30T00:00:00</td>\n",
       "      <td>0</td>\n",
       "      <td>NaN</td>\n",
       "      <td>24.0</td>\n",
       "      <td>15.50</td>\n",
       "      <td>2</td>\n",
       "      <td>NaN</td>\n",
       "      <td>True</td>\n",
       "      <td>False</td>\n",
       "      <td>NaN</td>\n",
       "      <td>2.0</td>\n",
       "      <td>посёлок Мурино</td>\n",
       "      <td>NaN</td>\n",
       "      <td>NaN</td>\n",
       "      <td>NaN</td>\n",
       "      <td>NaN</td>\n",
       "      <td>NaN</td>\n",
       "      <td>NaN</td>\n",
       "      <td>181.0</td>\n",
       "    </tr>\n",
       "    <tr>\n",
       "      <th>440</th>\n",
       "      <td>8</td>\n",
       "      <td>2480000.0</td>\n",
       "      <td>27.11</td>\n",
       "      <td>2018-03-12T00:00:00</td>\n",
       "      <td>0</td>\n",
       "      <td>NaN</td>\n",
       "      <td>17.0</td>\n",
       "      <td>24.75</td>\n",
       "      <td>4</td>\n",
       "      <td>NaN</td>\n",
       "      <td>True</td>\n",
       "      <td>False</td>\n",
       "      <td>NaN</td>\n",
       "      <td>2.0</td>\n",
       "      <td>Санкт-Петербург</td>\n",
       "      <td>38171.0</td>\n",
       "      <td>15015.0</td>\n",
       "      <td>0.0</td>\n",
       "      <td>NaN</td>\n",
       "      <td>2.0</td>\n",
       "      <td>982.0</td>\n",
       "      <td>64.0</td>\n",
       "    </tr>\n",
       "    <tr>\n",
       "      <th>608</th>\n",
       "      <td>2</td>\n",
       "      <td>1850000.0</td>\n",
       "      <td>25.00</td>\n",
       "      <td>2019-02-20T00:00:00</td>\n",
       "      <td>0</td>\n",
       "      <td>NaN</td>\n",
       "      <td>10.0</td>\n",
       "      <td>NaN</td>\n",
       "      <td>7</td>\n",
       "      <td>NaN</td>\n",
       "      <td>True</td>\n",
       "      <td>False</td>\n",
       "      <td>NaN</td>\n",
       "      <td>NaN</td>\n",
       "      <td>посёлок Шушары</td>\n",
       "      <td>NaN</td>\n",
       "      <td>NaN</td>\n",
       "      <td>NaN</td>\n",
       "      <td>NaN</td>\n",
       "      <td>NaN</td>\n",
       "      <td>NaN</td>\n",
       "      <td>29.0</td>\n",
       "    </tr>\n",
       "    <tr>\n",
       "      <th>697</th>\n",
       "      <td>12</td>\n",
       "      <td>2500000.0</td>\n",
       "      <td>24.10</td>\n",
       "      <td>2017-12-01T00:00:00</td>\n",
       "      <td>0</td>\n",
       "      <td>2.75</td>\n",
       "      <td>25.0</td>\n",
       "      <td>17.50</td>\n",
       "      <td>21</td>\n",
       "      <td>NaN</td>\n",
       "      <td>True</td>\n",
       "      <td>False</td>\n",
       "      <td>NaN</td>\n",
       "      <td>NaN</td>\n",
       "      <td>деревня Кудрово</td>\n",
       "      <td>NaN</td>\n",
       "      <td>NaN</td>\n",
       "      <td>NaN</td>\n",
       "      <td>NaN</td>\n",
       "      <td>NaN</td>\n",
       "      <td>NaN</td>\n",
       "      <td>201.0</td>\n",
       "    </tr>\n",
       "    <tr>\n",
       "      <th>716</th>\n",
       "      <td>5</td>\n",
       "      <td>1500000.0</td>\n",
       "      <td>17.00</td>\n",
       "      <td>2017-06-07T00:00:00</td>\n",
       "      <td>0</td>\n",
       "      <td>2.70</td>\n",
       "      <td>9.0</td>\n",
       "      <td>12.00</td>\n",
       "      <td>1</td>\n",
       "      <td>NaN</td>\n",
       "      <td>True</td>\n",
       "      <td>False</td>\n",
       "      <td>NaN</td>\n",
       "      <td>0.0</td>\n",
       "      <td>посёлок Шушары</td>\n",
       "      <td>18654.0</td>\n",
       "      <td>29846.0</td>\n",
       "      <td>0.0</td>\n",
       "      <td>NaN</td>\n",
       "      <td>0.0</td>\n",
       "      <td>NaN</td>\n",
       "      <td>40.0</td>\n",
       "    </tr>\n",
       "    <tr>\n",
       "      <th>1173</th>\n",
       "      <td>12</td>\n",
       "      <td>3240000.0</td>\n",
       "      <td>29.00</td>\n",
       "      <td>2018-10-30T00:00:00</td>\n",
       "      <td>0</td>\n",
       "      <td>NaN</td>\n",
       "      <td>24.0</td>\n",
       "      <td>17.00</td>\n",
       "      <td>2</td>\n",
       "      <td>NaN</td>\n",
       "      <td>True</td>\n",
       "      <td>False</td>\n",
       "      <td>NaN</td>\n",
       "      <td>2.0</td>\n",
       "      <td>Санкт-Петербург</td>\n",
       "      <td>35129.0</td>\n",
       "      <td>16293.0</td>\n",
       "      <td>0.0</td>\n",
       "      <td>NaN</td>\n",
       "      <td>1.0</td>\n",
       "      <td>475.0</td>\n",
       "      <td>13.0</td>\n",
       "    </tr>\n",
       "    <tr>\n",
       "      <th>1174</th>\n",
       "      <td>3</td>\n",
       "      <td>3900000.0</td>\n",
       "      <td>32.00</td>\n",
       "      <td>2016-10-18T00:00:00</td>\n",
       "      <td>0</td>\n",
       "      <td>2.70</td>\n",
       "      <td>24.0</td>\n",
       "      <td>18.00</td>\n",
       "      <td>2</td>\n",
       "      <td>NaN</td>\n",
       "      <td>True</td>\n",
       "      <td>False</td>\n",
       "      <td>NaN</td>\n",
       "      <td>2.0</td>\n",
       "      <td>Санкт-Петербург</td>\n",
       "      <td>44754.0</td>\n",
       "      <td>8409.0</td>\n",
       "      <td>1.0</td>\n",
       "      <td>609.0</td>\n",
       "      <td>0.0</td>\n",
       "      <td>NaN</td>\n",
       "      <td>540.0</td>\n",
       "    </tr>\n",
       "    <tr>\n",
       "      <th>1220</th>\n",
       "      <td>5</td>\n",
       "      <td>3300000.0</td>\n",
       "      <td>27.00</td>\n",
       "      <td>2017-11-10T00:00:00</td>\n",
       "      <td>0</td>\n",
       "      <td>2.80</td>\n",
       "      <td>17.0</td>\n",
       "      <td>20.00</td>\n",
       "      <td>16</td>\n",
       "      <td>NaN</td>\n",
       "      <td>True</td>\n",
       "      <td>False</td>\n",
       "      <td>NaN</td>\n",
       "      <td>NaN</td>\n",
       "      <td>Санкт-Петербург</td>\n",
       "      <td>12507.0</td>\n",
       "      <td>12419.0</td>\n",
       "      <td>0.0</td>\n",
       "      <td>NaN</td>\n",
       "      <td>1.0</td>\n",
       "      <td>528.0</td>\n",
       "      <td>113.0</td>\n",
       "    </tr>\n",
       "    <tr>\n",
       "      <th>1260</th>\n",
       "      <td>0</td>\n",
       "      <td>2600000.0</td>\n",
       "      <td>27.00</td>\n",
       "      <td>2018-07-20T00:00:00</td>\n",
       "      <td>0</td>\n",
       "      <td>2.70</td>\n",
       "      <td>16.0</td>\n",
       "      <td>16.00</td>\n",
       "      <td>4</td>\n",
       "      <td>NaN</td>\n",
       "      <td>True</td>\n",
       "      <td>False</td>\n",
       "      <td>NaN</td>\n",
       "      <td>2.0</td>\n",
       "      <td>Кудрово</td>\n",
       "      <td>NaN</td>\n",
       "      <td>NaN</td>\n",
       "      <td>NaN</td>\n",
       "      <td>NaN</td>\n",
       "      <td>NaN</td>\n",
       "      <td>NaN</td>\n",
       "      <td>102.0</td>\n",
       "    </tr>\n",
       "    <tr>\n",
       "      <th>1277</th>\n",
       "      <td>10</td>\n",
       "      <td>3150000.0</td>\n",
       "      <td>26.00</td>\n",
       "      <td>2017-07-14T00:00:00</td>\n",
       "      <td>0</td>\n",
       "      <td>2.75</td>\n",
       "      <td>21.0</td>\n",
       "      <td>17.38</td>\n",
       "      <td>11</td>\n",
       "      <td>NaN</td>\n",
       "      <td>True</td>\n",
       "      <td>False</td>\n",
       "      <td>NaN</td>\n",
       "      <td>NaN</td>\n",
       "      <td>Санкт-Петербург</td>\n",
       "      <td>48847.0</td>\n",
       "      <td>16685.0</td>\n",
       "      <td>0.0</td>\n",
       "      <td>NaN</td>\n",
       "      <td>0.0</td>\n",
       "      <td>NaN</td>\n",
       "      <td>622.0</td>\n",
       "    </tr>\n",
       "  </tbody>\n",
       "</table>\n",
       "</div>"
      ],
      "text/plain": [
       "      total_images  last_price  total_area first_day_exposition  rooms  \\\n",
       "144              1   2450000.0       27.00  2017-03-30T00:00:00      0   \n",
       "440              8   2480000.0       27.11  2018-03-12T00:00:00      0   \n",
       "608              2   1850000.0       25.00  2019-02-20T00:00:00      0   \n",
       "697             12   2500000.0       24.10  2017-12-01T00:00:00      0   \n",
       "716              5   1500000.0       17.00  2017-06-07T00:00:00      0   \n",
       "1173            12   3240000.0       29.00  2018-10-30T00:00:00      0   \n",
       "1174             3   3900000.0       32.00  2016-10-18T00:00:00      0   \n",
       "1220             5   3300000.0       27.00  2017-11-10T00:00:00      0   \n",
       "1260             0   2600000.0       27.00  2018-07-20T00:00:00      0   \n",
       "1277            10   3150000.0       26.00  2017-07-14T00:00:00      0   \n",
       "\n",
       "      ceiling_height  floors_total  living_area  floor is_apartment  studio  \\\n",
       "144              NaN          24.0        15.50      2          NaN    True   \n",
       "440              NaN          17.0        24.75      4          NaN    True   \n",
       "608              NaN          10.0          NaN      7          NaN    True   \n",
       "697             2.75          25.0        17.50     21          NaN    True   \n",
       "716             2.70           9.0        12.00      1          NaN    True   \n",
       "1173             NaN          24.0        17.00      2          NaN    True   \n",
       "1174            2.70          24.0        18.00      2          NaN    True   \n",
       "1220            2.80          17.0        20.00     16          NaN    True   \n",
       "1260            2.70          16.0        16.00      4          NaN    True   \n",
       "1277            2.75          21.0        17.38     11          NaN    True   \n",
       "\n",
       "      open_plan  kitchen_area  balcony    locality_name  airports_nearest  \\\n",
       "144       False           NaN      2.0   посёлок Мурино               NaN   \n",
       "440       False           NaN      2.0  Санкт-Петербург           38171.0   \n",
       "608       False           NaN      NaN   посёлок Шушары               NaN   \n",
       "697       False           NaN      NaN  деревня Кудрово               NaN   \n",
       "716       False           NaN      0.0   посёлок Шушары           18654.0   \n",
       "1173      False           NaN      2.0  Санкт-Петербург           35129.0   \n",
       "1174      False           NaN      2.0  Санкт-Петербург           44754.0   \n",
       "1220      False           NaN      NaN  Санкт-Петербург           12507.0   \n",
       "1260      False           NaN      2.0          Кудрово               NaN   \n",
       "1277      False           NaN      NaN  Санкт-Петербург           48847.0   \n",
       "\n",
       "      cityCenters_nearest  parks_around3000  parks_nearest  ponds_around3000  \\\n",
       "144                   NaN               NaN            NaN               NaN   \n",
       "440               15015.0               0.0            NaN               2.0   \n",
       "608                   NaN               NaN            NaN               NaN   \n",
       "697                   NaN               NaN            NaN               NaN   \n",
       "716               29846.0               0.0            NaN               0.0   \n",
       "1173              16293.0               0.0            NaN               1.0   \n",
       "1174               8409.0               1.0          609.0               0.0   \n",
       "1220              12419.0               0.0            NaN               1.0   \n",
       "1260                  NaN               NaN            NaN               NaN   \n",
       "1277              16685.0               0.0            NaN               0.0   \n",
       "\n",
       "      ponds_nearest  days_exposition  \n",
       "144             NaN            181.0  \n",
       "440           982.0             64.0  \n",
       "608             NaN             29.0  \n",
       "697             NaN            201.0  \n",
       "716             NaN             40.0  \n",
       "1173          475.0             13.0  \n",
       "1174            NaN            540.0  \n",
       "1220          528.0            113.0  \n",
       "1260            NaN            102.0  \n",
       "1277            NaN            622.0  "
      ]
     },
     "metadata": {},
     "output_type": "display_data"
    }
   ],
   "source": [
    "realty = pd.read_csv('/datasets/real_estate_data.csv', sep='\\t')\n",
    "pd.set_option('display.max_columns', None)\n",
    "display(realty[realty['studio']==True].head(10))"
   ]
  },
  {
   "cell_type": "markdown",
   "metadata": {},
   "source": [
    "Выведем общую информацию по датафрейму."
   ]
  },
  {
   "cell_type": "code",
   "execution_count": 3,
   "metadata": {},
   "outputs": [
    {
     "name": "stdout",
     "output_type": "stream",
     "text": [
      "<class 'pandas.core.frame.DataFrame'>\n",
      "RangeIndex: 23699 entries, 0 to 23698\n",
      "Data columns (total 22 columns):\n",
      " #   Column                Non-Null Count  Dtype  \n",
      "---  ------                --------------  -----  \n",
      " 0   total_images          23699 non-null  int64  \n",
      " 1   last_price            23699 non-null  float64\n",
      " 2   total_area            23699 non-null  float64\n",
      " 3   first_day_exposition  23699 non-null  object \n",
      " 4   rooms                 23699 non-null  int64  \n",
      " 5   ceiling_height        14504 non-null  float64\n",
      " 6   floors_total          23613 non-null  float64\n",
      " 7   living_area           21796 non-null  float64\n",
      " 8   floor                 23699 non-null  int64  \n",
      " 9   is_apartment          2775 non-null   object \n",
      " 10  studio                23699 non-null  bool   \n",
      " 11  open_plan             23699 non-null  bool   \n",
      " 12  kitchen_area          21421 non-null  float64\n",
      " 13  balcony               12180 non-null  float64\n",
      " 14  locality_name         23650 non-null  object \n",
      " 15  airports_nearest      18157 non-null  float64\n",
      " 16  cityCenters_nearest   18180 non-null  float64\n",
      " 17  parks_around3000      18181 non-null  float64\n",
      " 18  parks_nearest         8079 non-null   float64\n",
      " 19  ponds_around3000      18181 non-null  float64\n",
      " 20  ponds_nearest         9110 non-null   float64\n",
      " 21  days_exposition       20518 non-null  float64\n",
      "dtypes: bool(2), float64(14), int64(3), object(3)\n",
      "memory usage: 3.7+ MB\n"
     ]
    }
   ],
   "source": [
    "realty.info()"
   ]
  },
  {
   "cell_type": "markdown",
   "metadata": {},
   "source": [
    "В столбцах много пропущенных значений, не все типы данных корректны. Проверим заголовки столбцов на наличие лишних символов."
   ]
  },
  {
   "cell_type": "code",
   "execution_count": 4,
   "metadata": {},
   "outputs": [
    {
     "name": "stdout",
     "output_type": "stream",
     "text": [
      "Index(['total_images', 'last_price', 'total_area', 'first_day_exposition',\n",
      "       'rooms', 'ceiling_height', 'floors_total', 'living_area', 'floor',\n",
      "       'is_apartment', 'studio', 'open_plan', 'kitchen_area', 'balcony',\n",
      "       'locality_name', 'airports_nearest', 'cityCenters_nearest',\n",
      "       'parks_around3000', 'parks_nearest', 'ponds_around3000',\n",
      "       'ponds_nearest', 'days_exposition'],\n",
      "      dtype='object')\n"
     ]
    }
   ],
   "source": [
    "print(realty.columns)"
   ]
  },
  {
   "cell_type": "markdown",
   "metadata": {},
   "source": [
    "В целом, с заголовками трудностей нет, только приведем название столбца с удаленностью от центра (cityCenters_nearest) к общему формату."
   ]
  },
  {
   "cell_type": "code",
   "execution_count": 5,
   "metadata": {},
   "outputs": [],
   "source": [
    "realty = realty.rename(columns={'cityCenters_nearest': 'city_centers_nearest'})"
   ]
  },
  {
   "cell_type": "markdown",
   "metadata": {},
   "source": [
    "Посмотрим, насколько разнятся данные между собой, нет ли каких-то аномальных значений."
   ]
  },
  {
   "cell_type": "code",
   "execution_count": 6,
   "metadata": {},
   "outputs": [
    {
     "data": {
      "text/html": [
       "<div>\n",
       "<style scoped>\n",
       "    .dataframe tbody tr th:only-of-type {\n",
       "        vertical-align: middle;\n",
       "    }\n",
       "\n",
       "    .dataframe tbody tr th {\n",
       "        vertical-align: top;\n",
       "    }\n",
       "\n",
       "    .dataframe thead th {\n",
       "        text-align: right;\n",
       "    }\n",
       "</style>\n",
       "<table border=\"1\" class=\"dataframe\">\n",
       "  <thead>\n",
       "    <tr style=\"text-align: right;\">\n",
       "      <th></th>\n",
       "      <th>total_images</th>\n",
       "      <th>last_price</th>\n",
       "      <th>total_area</th>\n",
       "      <th>rooms</th>\n",
       "      <th>ceiling_height</th>\n",
       "      <th>floors_total</th>\n",
       "      <th>living_area</th>\n",
       "      <th>floor</th>\n",
       "      <th>kitchen_area</th>\n",
       "      <th>balcony</th>\n",
       "      <th>airports_nearest</th>\n",
       "      <th>city_centers_nearest</th>\n",
       "      <th>parks_around3000</th>\n",
       "      <th>parks_nearest</th>\n",
       "      <th>ponds_around3000</th>\n",
       "      <th>ponds_nearest</th>\n",
       "      <th>days_exposition</th>\n",
       "    </tr>\n",
       "  </thead>\n",
       "  <tbody>\n",
       "    <tr>\n",
       "      <th>count</th>\n",
       "      <td>23699.000000</td>\n",
       "      <td>2.369900e+04</td>\n",
       "      <td>23699.000000</td>\n",
       "      <td>23699.000000</td>\n",
       "      <td>14504.000000</td>\n",
       "      <td>23613.000000</td>\n",
       "      <td>21796.000000</td>\n",
       "      <td>23699.000000</td>\n",
       "      <td>21421.000000</td>\n",
       "      <td>12180.000000</td>\n",
       "      <td>18157.000000</td>\n",
       "      <td>18180.000000</td>\n",
       "      <td>18181.000000</td>\n",
       "      <td>8079.000000</td>\n",
       "      <td>18181.000000</td>\n",
       "      <td>9110.000000</td>\n",
       "      <td>20518.000000</td>\n",
       "    </tr>\n",
       "    <tr>\n",
       "      <th>mean</th>\n",
       "      <td>9.858475</td>\n",
       "      <td>6.541549e+06</td>\n",
       "      <td>60.348651</td>\n",
       "      <td>2.070636</td>\n",
       "      <td>2.771499</td>\n",
       "      <td>10.673824</td>\n",
       "      <td>34.457852</td>\n",
       "      <td>5.892358</td>\n",
       "      <td>10.569807</td>\n",
       "      <td>1.150082</td>\n",
       "      <td>28793.672193</td>\n",
       "      <td>14191.277833</td>\n",
       "      <td>0.611408</td>\n",
       "      <td>490.804555</td>\n",
       "      <td>0.770255</td>\n",
       "      <td>517.980900</td>\n",
       "      <td>180.888634</td>\n",
       "    </tr>\n",
       "    <tr>\n",
       "      <th>std</th>\n",
       "      <td>5.682529</td>\n",
       "      <td>1.088701e+07</td>\n",
       "      <td>35.654083</td>\n",
       "      <td>1.078405</td>\n",
       "      <td>1.261056</td>\n",
       "      <td>6.597173</td>\n",
       "      <td>22.030445</td>\n",
       "      <td>4.885249</td>\n",
       "      <td>5.905438</td>\n",
       "      <td>1.071300</td>\n",
       "      <td>12630.880622</td>\n",
       "      <td>8608.386210</td>\n",
       "      <td>0.802074</td>\n",
       "      <td>342.317995</td>\n",
       "      <td>0.938346</td>\n",
       "      <td>277.720643</td>\n",
       "      <td>219.727988</td>\n",
       "    </tr>\n",
       "    <tr>\n",
       "      <th>min</th>\n",
       "      <td>0.000000</td>\n",
       "      <td>1.219000e+04</td>\n",
       "      <td>12.000000</td>\n",
       "      <td>0.000000</td>\n",
       "      <td>1.000000</td>\n",
       "      <td>1.000000</td>\n",
       "      <td>2.000000</td>\n",
       "      <td>1.000000</td>\n",
       "      <td>1.300000</td>\n",
       "      <td>0.000000</td>\n",
       "      <td>0.000000</td>\n",
       "      <td>181.000000</td>\n",
       "      <td>0.000000</td>\n",
       "      <td>1.000000</td>\n",
       "      <td>0.000000</td>\n",
       "      <td>13.000000</td>\n",
       "      <td>1.000000</td>\n",
       "    </tr>\n",
       "    <tr>\n",
       "      <th>25%</th>\n",
       "      <td>6.000000</td>\n",
       "      <td>3.400000e+06</td>\n",
       "      <td>40.000000</td>\n",
       "      <td>1.000000</td>\n",
       "      <td>2.520000</td>\n",
       "      <td>5.000000</td>\n",
       "      <td>18.600000</td>\n",
       "      <td>2.000000</td>\n",
       "      <td>7.000000</td>\n",
       "      <td>0.000000</td>\n",
       "      <td>18585.000000</td>\n",
       "      <td>9238.000000</td>\n",
       "      <td>0.000000</td>\n",
       "      <td>288.000000</td>\n",
       "      <td>0.000000</td>\n",
       "      <td>294.000000</td>\n",
       "      <td>45.000000</td>\n",
       "    </tr>\n",
       "    <tr>\n",
       "      <th>50%</th>\n",
       "      <td>9.000000</td>\n",
       "      <td>4.650000e+06</td>\n",
       "      <td>52.000000</td>\n",
       "      <td>2.000000</td>\n",
       "      <td>2.650000</td>\n",
       "      <td>9.000000</td>\n",
       "      <td>30.000000</td>\n",
       "      <td>4.000000</td>\n",
       "      <td>9.100000</td>\n",
       "      <td>1.000000</td>\n",
       "      <td>26726.000000</td>\n",
       "      <td>13098.500000</td>\n",
       "      <td>0.000000</td>\n",
       "      <td>455.000000</td>\n",
       "      <td>1.000000</td>\n",
       "      <td>502.000000</td>\n",
       "      <td>95.000000</td>\n",
       "    </tr>\n",
       "    <tr>\n",
       "      <th>75%</th>\n",
       "      <td>14.000000</td>\n",
       "      <td>6.800000e+06</td>\n",
       "      <td>69.900000</td>\n",
       "      <td>3.000000</td>\n",
       "      <td>2.800000</td>\n",
       "      <td>16.000000</td>\n",
       "      <td>42.300000</td>\n",
       "      <td>8.000000</td>\n",
       "      <td>12.000000</td>\n",
       "      <td>2.000000</td>\n",
       "      <td>37273.000000</td>\n",
       "      <td>16293.000000</td>\n",
       "      <td>1.000000</td>\n",
       "      <td>612.000000</td>\n",
       "      <td>1.000000</td>\n",
       "      <td>729.000000</td>\n",
       "      <td>232.000000</td>\n",
       "    </tr>\n",
       "    <tr>\n",
       "      <th>max</th>\n",
       "      <td>50.000000</td>\n",
       "      <td>7.630000e+08</td>\n",
       "      <td>900.000000</td>\n",
       "      <td>19.000000</td>\n",
       "      <td>100.000000</td>\n",
       "      <td>60.000000</td>\n",
       "      <td>409.700000</td>\n",
       "      <td>33.000000</td>\n",
       "      <td>112.000000</td>\n",
       "      <td>5.000000</td>\n",
       "      <td>84869.000000</td>\n",
       "      <td>65968.000000</td>\n",
       "      <td>3.000000</td>\n",
       "      <td>3190.000000</td>\n",
       "      <td>3.000000</td>\n",
       "      <td>1344.000000</td>\n",
       "      <td>1580.000000</td>\n",
       "    </tr>\n",
       "  </tbody>\n",
       "</table>\n",
       "</div>"
      ],
      "text/plain": [
       "       total_images    last_price    total_area         rooms  ceiling_height  \\\n",
       "count  23699.000000  2.369900e+04  23699.000000  23699.000000    14504.000000   \n",
       "mean       9.858475  6.541549e+06     60.348651      2.070636        2.771499   \n",
       "std        5.682529  1.088701e+07     35.654083      1.078405        1.261056   \n",
       "min        0.000000  1.219000e+04     12.000000      0.000000        1.000000   \n",
       "25%        6.000000  3.400000e+06     40.000000      1.000000        2.520000   \n",
       "50%        9.000000  4.650000e+06     52.000000      2.000000        2.650000   \n",
       "75%       14.000000  6.800000e+06     69.900000      3.000000        2.800000   \n",
       "max       50.000000  7.630000e+08    900.000000     19.000000      100.000000   \n",
       "\n",
       "       floors_total   living_area         floor  kitchen_area       balcony  \\\n",
       "count  23613.000000  21796.000000  23699.000000  21421.000000  12180.000000   \n",
       "mean      10.673824     34.457852      5.892358     10.569807      1.150082   \n",
       "std        6.597173     22.030445      4.885249      5.905438      1.071300   \n",
       "min        1.000000      2.000000      1.000000      1.300000      0.000000   \n",
       "25%        5.000000     18.600000      2.000000      7.000000      0.000000   \n",
       "50%        9.000000     30.000000      4.000000      9.100000      1.000000   \n",
       "75%       16.000000     42.300000      8.000000     12.000000      2.000000   \n",
       "max       60.000000    409.700000     33.000000    112.000000      5.000000   \n",
       "\n",
       "       airports_nearest  city_centers_nearest  parks_around3000  \\\n",
       "count      18157.000000          18180.000000      18181.000000   \n",
       "mean       28793.672193          14191.277833          0.611408   \n",
       "std        12630.880622           8608.386210          0.802074   \n",
       "min            0.000000            181.000000          0.000000   \n",
       "25%        18585.000000           9238.000000          0.000000   \n",
       "50%        26726.000000          13098.500000          0.000000   \n",
       "75%        37273.000000          16293.000000          1.000000   \n",
       "max        84869.000000          65968.000000          3.000000   \n",
       "\n",
       "       parks_nearest  ponds_around3000  ponds_nearest  days_exposition  \n",
       "count    8079.000000      18181.000000    9110.000000     20518.000000  \n",
       "mean      490.804555          0.770255     517.980900       180.888634  \n",
       "std       342.317995          0.938346     277.720643       219.727988  \n",
       "min         1.000000          0.000000      13.000000         1.000000  \n",
       "25%       288.000000          0.000000     294.000000        45.000000  \n",
       "50%       455.000000          1.000000     502.000000        95.000000  \n",
       "75%       612.000000          1.000000     729.000000       232.000000  \n",
       "max      3190.000000          3.000000    1344.000000      1580.000000  "
      ]
     },
     "execution_count": 6,
     "metadata": {},
     "output_type": "execute_result"
    }
   ],
   "source": [
    "realty.describe()"
   ]
  },
  {
   "cell_type": "markdown",
   "metadata": {},
   "source": [
    "В датасете обнаружен ряд необычных объектов. Например, в столбце total_area есть недвижимость площадью 900 кв.м. Хотя, теоретически кто-то может продавать большой загородный дом. В колонке days_exposition минимальное количество дней экспозиции рекламного объявления - 1 день. Это очень малый срок. Но самые странные значения в колонке ceiling_height: здесь высота потолков колеблется от 1м до 100 м.\n",
    "\n",
    "Проверим, имеются ли в наборе данных дубликаты."
   ]
  },
  {
   "cell_type": "code",
   "execution_count": 7,
   "metadata": {},
   "outputs": [
    {
     "name": "stdout",
     "output_type": "stream",
     "text": [
      "Количество дубликатов в наборе данных: 0\n"
     ]
    }
   ],
   "source": [
    "print('Количество дубликатов в наборе данных: {}'.format(realty.duplicated().sum()))"
   ]
  },
  {
   "cell_type": "markdown",
   "metadata": {},
   "source": [
    "### Вывод"
   ]
  },
  {
   "cell_type": "markdown",
   "metadata": {},
   "source": [
    "В наборе данных 23699 строк и 22 столбца.\n",
    "\n",
    "Очень много пропущенных значений (в столбцах: ceiling_height, floors_total, living_area, is_apartment, kitchen_area, balcony, locality_name, airports_nearest, cityCenters_nearest, parks_around3000, parks_nearest, ponds_around3000, days_exposition).\n",
    "\n",
    "Ряд столбцов имеет несоответствующий формат данных: first_day_exposition - формат object вместо даты, is_apartment — апартаменты (нужен булев тип), floors_total, balcony, parks_around3000, ponds_around300 и days_exposition - float64 вместо int.\n",
    "\n",
    "Заголовки стандартные, cityCenters_nearest единственный выделяется из общей картины, его название изменено на city_сenters_nearest.\n",
    "\n",
    "Среди данных также были найдены выбивающиеся из общего ряда показатели. Например, в графе с общей площадью (total_area) найден дворец с метражом 900 кв. В целом, такой объект может существовать в действительности (например, большой загородный дом с видом на Финский залив или трехэтажный пентхаус на вершине современной башни).\n",
    "\n",
    "Особый интерес вызывает графа с характеристикой потолков (ceiling_height). Квартиры-норки высотой 1 м и 100-метровое сооружение (которое, судя по высоте, является Исаакиевским собором) явно требуют пристального изучения.\n",
    "\n",
    "Также кажутся необычными размещения рекламы всего на один день (days_exposition = 1). Это может случаться, если аналогичное объявление было опубликовано в других сервисах гораздо раньше (например, на ЦИАН), и покупатель пришел именно оттуда. Либо собственник по какой-то причине передумал продавать объект. Или случилось чудо, и квартира реально была продана за 1 день. В любом случае, необходимо проверить количество стремительных продаж.\n",
    "\n",
    "В airports_nearest минимальное расстояние = 0. Это очень странное значение, будто квартира находится прямо в аэропорту. С другой стороны, колонка в исследовании не участвует, поэтому преобразовываться не будет. Аэропорты располагаются далеко от центра, как правило, за чертой города. Поэтому здесь на цену больше влияет не шум самолетов над головой, а удаленность от центра, транспорта и прочей инфраструктуры.\n",
    "\n",
    "Явных дубликатов в наборе данных не выявлено."
   ]
  },
  {
   "cell_type": "markdown",
   "metadata": {},
   "source": [
    "## Предобработка данных"
   ]
  },
  {
   "cell_type": "markdown",
   "metadata": {},
   "source": [
    "Сразу проверим, много ли объявлений публиковалось в сервисе на срок 1-2 дня."
   ]
  },
  {
   "cell_type": "code",
   "execution_count": 8,
   "metadata": {},
   "outputs": [
    {
     "data": {
      "text/plain": [
       "days_exposition\n",
       "1.0         1\n",
       "2.0         3\n",
       "3.0       158\n",
       "4.0       176\n",
       "5.0       152\n",
       "         ... \n",
       "1512.0      2\n",
       "1513.0      1\n",
       "1553.0      1\n",
       "1572.0      1\n",
       "1580.0      1\n",
       "Name: days_exposition, Length: 1141, dtype: int64"
      ]
     },
     "metadata": {},
     "output_type": "display_data"
    }
   ],
   "source": [
    "display(realty.groupby('days_exposition')['days_exposition'].count())"
   ]
  },
  {
   "cell_type": "markdown",
   "metadata": {},
   "source": [
    "Количество срочных объявлений крайне мало, их вполне можно списать на случайное совпадение. Оставим колонку в первозданном виде.\n",
    "\n",
    "В датафрейме много пропущенных значений. Посчитаем, какова доля пропусков по каждому столбцу."
   ]
  },
  {
   "cell_type": "code",
   "execution_count": 9,
   "metadata": {},
   "outputs": [
    {
     "name": "stdout",
     "output_type": "stream",
     "text": [
      "total_images            0.000000\n",
      "last_price              0.000000\n",
      "total_area              0.000000\n",
      "first_day_exposition    0.000000\n",
      "rooms                   0.000000\n",
      "ceiling_height          0.387991\n",
      "floors_total            0.003629\n",
      "living_area             0.080299\n",
      "floor                   0.000000\n",
      "is_apartment            0.882906\n",
      "studio                  0.000000\n",
      "open_plan               0.000000\n",
      "kitchen_area            0.096122\n",
      "balcony                 0.486054\n",
      "locality_name           0.002068\n",
      "airports_nearest        0.233850\n",
      "city_centers_nearest    0.232879\n",
      "parks_around3000        0.232837\n",
      "parks_nearest           0.659100\n",
      "ponds_around3000        0.232837\n",
      "ponds_nearest           0.615596\n",
      "days_exposition         0.134225\n",
      "dtype: float64\n"
     ]
    }
   ],
   "source": [
    "print(realty.isnull().sum() / len(realty))"
   ]
  },
  {
   "cell_type": "markdown",
   "metadata": {},
   "source": [
    "Очень мало пропусков в столбцах с общей этажностью дома и названием населенного пункта. Эти неполные строки можно удалить."
   ]
  },
  {
   "cell_type": "code",
   "execution_count": 10,
   "metadata": {},
   "outputs": [],
   "source": [
    "realty.dropna(subset = ['floors_total', 'locality_name'], inplace=True)"
   ]
  },
  {
   "cell_type": "markdown",
   "metadata": {},
   "source": [
    "Сложнее обстоят дела с жилой площадью и площадью кухни (8% и 9,6% пропусков от всего датасета соответственно).\n",
    "Можно заменить их площади средним или медианным значением. Но подобная замена может сильно исказить данные, поскольку не учтет общую площадь объекта. Например, в результате в отдельных строках жилая площадь может оказаться больше общей (для маленьких квартир).\n",
    "Для более корректного представления данных в пустующих \"ячейках\" столбца (living_area) высчитана средняя доля жилой площади относительно площади общей (назовем эту долю коэффициентом комнаты).\n",
    "Далее в строках с отсутствующими значениями пропуски заполняются произведением общей площади на коэффициент комнаты."
   ]
  },
  {
   "cell_type": "code",
   "execution_count": 11,
   "metadata": {},
   "outputs": [
    {
     "name": "stdout",
     "output_type": "stream",
     "text": [
      "Доля жилой площади в общей (коэффициент комнаты): 0.56\n"
     ]
    }
   ],
   "source": [
    "room_koef = (realty['living_area'] / realty['total_area']).mean()\n",
    "print('Доля жилой площади в общей (коэффициент комнаты): {:.2f}'.format(room_koef))\n",
    "realty['living_area'] = realty['living_area'].fillna(room_koef*realty['total_area'])"
   ]
  },
  {
   "cell_type": "markdown",
   "metadata": {},
   "source": [
    "Площадь кухни расчитывается похожим образом, но с одной поправкой. Из общей площади сначала вычитается площадь жилая (чтобы исключить вероятность появления огромной кухни там, где большая общая площадь из-за наличия большого количества комнат), а потом считается среднее отношение площади кухни к разности между площадью общей и жилой (назовем получившуюся долю коэффициентом кухни).\n",
    "Далее пропуски в столбце (kitchen_area) заполняются произведением коэффициента на разность между общей площадью и жилой)"
   ]
  },
  {
   "cell_type": "code",
   "execution_count": 12,
   "metadata": {},
   "outputs": [
    {
     "name": "stdout",
     "output_type": "stream",
     "text": [
      "Доля площади кухни в общей без жилой (коэффициент кухни): 0.43\n"
     ]
    }
   ],
   "source": [
    "kitchen_koef = (realty['kitchen_area'] / (realty['total_area'] - realty['living_area'])).mean()\n",
    "print('Доля площади кухни в общей без жилой (коэффициент кухни): {:.2f}'.format(kitchen_koef))\n",
    "realty['kitchen_area'] = realty['kitchen_area'].fillna(room_koef*(realty['total_area'] - realty ['living_area']))"
   ]
  },
  {
   "cell_type": "markdown",
   "metadata": {},
   "source": [
    "Пропуски в столбце наличия балкона заменены нулем. В данном случае будем считать, что балкон отсутствует."
   ]
  },
  {
   "cell_type": "code",
   "execution_count": 13,
   "metadata": {},
   "outputs": [
    {
     "name": "stdout",
     "output_type": "stream",
     "text": [
      "<class 'pandas.core.frame.DataFrame'>\n",
      "Int64Index: 23565 entries, 0 to 23698\n",
      "Data columns (total 22 columns):\n",
      " #   Column                Non-Null Count  Dtype  \n",
      "---  ------                --------------  -----  \n",
      " 0   total_images          23565 non-null  int64  \n",
      " 1   last_price            23565 non-null  float64\n",
      " 2   total_area            23565 non-null  float64\n",
      " 3   first_day_exposition  23565 non-null  object \n",
      " 4   rooms                 23565 non-null  int64  \n",
      " 5   ceiling_height        14481 non-null  float64\n",
      " 6   floors_total          23565 non-null  float64\n",
      " 7   living_area           23565 non-null  float64\n",
      " 8   floor                 23565 non-null  int64  \n",
      " 9   is_apartment          2760 non-null   object \n",
      " 10  studio                23565 non-null  bool   \n",
      " 11  open_plan             23565 non-null  bool   \n",
      " 12  kitchen_area          23565 non-null  float64\n",
      " 13  balcony               23565 non-null  float64\n",
      " 14  locality_name         23565 non-null  object \n",
      " 15  airports_nearest      18041 non-null  float64\n",
      " 16  city_centers_nearest  18064 non-null  float64\n",
      " 17  parks_around3000      18065 non-null  float64\n",
      " 18  parks_nearest         8030 non-null   float64\n",
      " 19  ponds_around3000      18065 non-null  float64\n",
      " 20  ponds_nearest         9036 non-null   float64\n",
      " 21  days_exposition       20394 non-null  float64\n",
      "dtypes: bool(2), float64(14), int64(3), object(3)\n",
      "memory usage: 3.8+ MB\n"
     ]
    }
   ],
   "source": [
    "realty['balcony'] = realty['balcony'].fillna(0)\n",
    "realty.info()"
   ]
  },
  {
   "cell_type": "markdown",
   "metadata": {},
   "source": [
    "Заменим отсутствующие показатели высоты потолков (ceiling_height). Но сначала проверим, много ли в датасете строчек с экстремальными значениями (вроде высоты потолка в 1 м или 100м)."
   ]
  },
  {
   "cell_type": "code",
   "execution_count": 14,
   "metadata": {},
   "outputs": [
    {
     "name": "stdout",
     "output_type": "stream",
     "text": [
      "ceiling_height\n",
      "1.00     1\n",
      "1.20     1\n",
      "1.75     1\n",
      "2.00    11\n",
      "2.20     1\n",
      "2.25     1\n",
      "2.30     4\n",
      "2.34     1\n",
      "2.40    23\n",
      "2.45    15\n",
      "Name: ceiling_height, dtype: int64\n",
      "ceiling_height\n",
      "5.0      1\n",
      "5.2      1\n",
      "5.3      2\n",
      "5.5      1\n",
      "5.6      1\n",
      "5.8      1\n",
      "6.0      1\n",
      "8.0      3\n",
      "8.3      1\n",
      "10.3     1\n",
      "14.0     1\n",
      "20.0     1\n",
      "22.6     1\n",
      "24.0     1\n",
      "25.0     7\n",
      "26.0     1\n",
      "27.0     8\n",
      "27.5     1\n",
      "32.0     2\n",
      "100.0    1\n",
      "Name: ceiling_height, dtype: int64\n"
     ]
    }
   ],
   "source": [
    "print(realty.groupby('ceiling_height')['ceiling_height'].count().head(10))\n",
    "print(realty.groupby('ceiling_height')['ceiling_height'].count().tail(20))"
   ]
  },
  {
   "cell_type": "markdown",
   "metadata": {},
   "source": [
    "В столбце много значений, которые требуют корректировки. Пока оставим их для просмотра характера распределения. Пропуски заменим средним или медианой (их посчитаем по датасету, предварительно отфильтровав аномальные значения)."
   ]
  },
  {
   "cell_type": "code",
   "execution_count": 15,
   "metadata": {},
   "outputs": [
    {
     "name": "stdout",
     "output_type": "stream",
     "text": [
      "Среднее значение высоты потолков: 2.73\n",
      "Медианное значение высоты потолков: 2.65\n",
      "Отношение медианного значения к среднему: 0.97\n"
     ]
    }
   ],
   "source": [
    "print('Среднее значение высоты потолков: {:.2f}'.format(realty.query('9 >= ceiling_height >= 2.4')['ceiling_height'].mean()))\n",
    "print('Медианное значение высоты потолков: {:.2f}'.format(realty.query('9 >= ceiling_height >= 2.4')['ceiling_height'].median()))\n",
    "print('Отношение медианного значения к среднему: {:.2f}'.format(realty.query('9 >= ceiling_height >= 2.4')['ceiling_height'].median() / realty.query('9 >= ceiling_height >= 2.4')['ceiling_height'].mean()))"
   ]
  },
  {
   "cell_type": "markdown",
   "metadata": {},
   "source": [
    "Заменим пропуски средним. Процент пропусков большой, поэтому сохраним отдельно датафрейм без замен и нулевых значений. Его мы используем позже для проверки, правильным ли было наше решение о замене."
   ]
  },
  {
   "cell_type": "code",
   "execution_count": 16,
   "metadata": {},
   "outputs": [
    {
     "name": "stdout",
     "output_type": "stream",
     "text": [
      "<class 'pandas.core.frame.DataFrame'>\n",
      "Int64Index: 14481 entries, 0 to 23698\n",
      "Data columns (total 6 columns):\n",
      " #   Column                Non-Null Count  Dtype  \n",
      "---  ------                --------------  -----  \n",
      " 0   last_price            14481 non-null  float64\n",
      " 1   total_area            14481 non-null  float64\n",
      " 2   rooms                 14481 non-null  int64  \n",
      " 3   ceiling_height        14481 non-null  float64\n",
      " 4   locality_name         14481 non-null  object \n",
      " 5   city_centers_nearest  11540 non-null  float64\n",
      "dtypes: float64(4), int64(1), object(1)\n",
      "memory usage: 791.9+ KB\n",
      "None\n"
     ]
    }
   ],
   "source": [
    "ceil_real = pd.DataFrame(data = realty[realty['ceiling_height'].notnull()], columns = ['last_price', 'total_area', 'rooms', 'ceiling_height', 'locality_name', 'city_centers_nearest'])\n",
    "print(ceil_real.info())"
   ]
  },
  {
   "cell_type": "markdown",
   "metadata": {},
   "source": [
    "В основном датафрейме пропуски заменяем средним значением."
   ]
  },
  {
   "cell_type": "code",
   "execution_count": 17,
   "metadata": {},
   "outputs": [
    {
     "name": "stdout",
     "output_type": "stream",
     "text": [
      "<class 'pandas.core.frame.DataFrame'>\n",
      "Int64Index: 23565 entries, 0 to 23698\n",
      "Data columns (total 22 columns):\n",
      " #   Column                Non-Null Count  Dtype  \n",
      "---  ------                --------------  -----  \n",
      " 0   total_images          23565 non-null  int64  \n",
      " 1   last_price            23565 non-null  float64\n",
      " 2   total_area            23565 non-null  float64\n",
      " 3   first_day_exposition  23565 non-null  object \n",
      " 4   rooms                 23565 non-null  int64  \n",
      " 5   ceiling_height        23565 non-null  float64\n",
      " 6   floors_total          23565 non-null  float64\n",
      " 7   living_area           23565 non-null  float64\n",
      " 8   floor                 23565 non-null  int64  \n",
      " 9   is_apartment          2760 non-null   object \n",
      " 10  studio                23565 non-null  bool   \n",
      " 11  open_plan             23565 non-null  bool   \n",
      " 12  kitchen_area          23565 non-null  float64\n",
      " 13  balcony               23565 non-null  float64\n",
      " 14  locality_name         23565 non-null  object \n",
      " 15  airports_nearest      18041 non-null  float64\n",
      " 16  city_centers_nearest  18064 non-null  float64\n",
      " 17  parks_around3000      18065 non-null  float64\n",
      " 18  parks_nearest         8030 non-null   float64\n",
      " 19  ponds_around3000      18065 non-null  float64\n",
      " 20  ponds_nearest         9036 non-null   float64\n",
      " 21  days_exposition       20394 non-null  float64\n",
      "dtypes: bool(2), float64(14), int64(3), object(3)\n",
      "memory usage: 3.8+ MB\n"
     ]
    }
   ],
   "source": [
    "ceil_mean = round(realty.query('9 >= ceiling_height >= 2.4')['ceiling_height'].mean(),2)\n",
    "realty['ceiling_height'] = realty['ceiling_height'].fillna(ceil_mean)\n",
    "realty.info()"
   ]
  },
  {
   "cell_type": "markdown",
   "metadata": {},
   "source": [
    "Проверим, есть ли возможность заменить пропущенные значения в столбце расстояния до центра (city_сenters_nearest). Для этого посчитаем среднее расстояние от центра для каждого населенного пункта и выведем уникальные значения населенных пунктов, где данные отсутствуют."
   ]
  },
  {
   "cell_type": "code",
   "execution_count": 18,
   "metadata": {},
   "outputs": [
    {
     "name": "stdout",
     "output_type": "stream",
     "text": [
      "locality_name\n",
      "Зеленогорск                54617.583333\n",
      "Колпино                    32113.771513\n",
      "Красное Село               30034.741379\n",
      "Кронштадт                  49195.726316\n",
      "Ломоносов                  50739.969697\n",
      "Павловск                   33206.921053\n",
      "Петергоф                   35468.925373\n",
      "Пушкин                     28745.375000\n",
      "Санкт-Петербург            11588.493939\n",
      "Сестрорецк                 34624.480874\n",
      "поселок Лисий Нос          28246.000000\n",
      "посёлок Александровская    27468.000000\n",
      "посёлок Белоостров         38868.000000\n",
      "посёлок Левашово           25727.000000\n",
      "посёлок Лисий Нос          27297.000000\n",
      "посёлок Металлострой       27561.348485\n",
      "посёлок Молодёжное         65529.200000\n",
      "посёлок Парголово          19924.776758\n",
      "посёлок Песочный           26475.250000\n",
      "посёлок Петро-Славянка     27165.000000\n",
      "посёлок Понтонный          32293.450000\n",
      "посёлок Репино             43392.250000\n",
      "посёлок Сапёрный           35854.666667\n",
      "посёлок Стрельна           23374.302326\n",
      "посёлок Усть-Ижора         28222.500000\n",
      "посёлок Шушары             24243.387615\n",
      "Name: city_centers_nearest, dtype: float64\n",
      "['городской посёлок Янино-1' 'посёлок Мурино' 'Сертолово'\n",
      " 'деревня Кудрово' 'Коммунар' 'поселок городского типа Красный Бор'\n",
      " 'Гатчина' 'поселок Мурино' 'деревня Фёдоровское' 'Выборг' 'Кировск'\n",
      " 'деревня Новое Девяткино' 'Санкт-Петербург'\n",
      " 'посёлок городского типа Лебяжье' 'посёлок городского типа Сиверский'\n",
      " 'поселок Молодцово' 'поселок городского типа Кузьмоловский'\n",
      " 'садовое товарищество Новая Ропша' 'деревня Пикколово' 'Всеволожск'\n",
      " 'Волхов' 'Кингисепп' 'Приозерск' 'деревня Куттузи' 'посёлок Аннино'\n",
      " 'поселок городского типа Ефимовский' 'посёлок Плодовое'\n",
      " 'деревня Заклинье' 'поселок Торковичи' 'поселок Первомайское' 'Сясьстрой'\n",
      " 'деревня Старая' 'деревня Лесколово' 'посёлок Новый Свет' 'Сланцы'\n",
      " 'село Путилово' 'Ивангород' 'Мурино' 'Шлиссельбург' 'Никольское'\n",
      " 'Сосновый Бор' 'поселок Новый Свет' 'деревня Оржицы' 'деревня Кальтино'\n",
      " 'Кудрово' 'поселок Романовка' 'посёлок Бугры' 'поселок Бугры'\n",
      " 'поселок городского типа Рощино' 'Кириши' 'Луга' 'Волосово' 'Отрадное'\n",
      " 'село Павлово' 'поселок Оредеж' 'село Копорье'\n",
      " 'посёлок городского типа Красный Бор' 'Тихвин' 'посёлок Победа'\n",
      " 'деревня Нурма' 'поселок городского типа Синявино' 'посёлок Шушары'\n",
      " 'Тосно' 'посёлок городского типа Кузьмоловский' 'Бокситогорск'\n",
      " 'деревня Лопухинка' 'Пикалёво' 'поселок Терволово'\n",
      " 'поселок городского типа Советский' 'Подпорожье' 'посёлок Петровское'\n",
      " 'посёлок городского типа Токсово' 'поселок Сельцо'\n",
      " 'посёлок городского типа Вырица' 'деревня Кипень' 'деревня Келози'\n",
      " 'деревня Вартемяги' 'посёлок Тельмана' 'поселок Севастьяново'\n",
      " 'городской поселок Большая Ижора' 'городской посёлок Павлово'\n",
      " 'деревня Агалатово' 'посёлок Новогорелово'\n",
      " 'городской посёлок Лесогорский' 'деревня Лаголово' 'поселок Цвелодубово'\n",
      " 'поселок городского типа Рахья' 'поселок городского типа Вырица'\n",
      " 'деревня Белогорка' 'поселок Заводской' 'городской посёлок Новоселье'\n",
      " 'деревня Большие Колпаны' 'деревня Горбунки' 'деревня Батово'\n",
      " 'деревня Заневка' 'деревня Иссад' 'Приморск'\n",
      " 'городской посёлок Фёдоровское' 'деревня Мистолово' 'Новая Ладога'\n",
      " 'поселок Зимитицы' 'поселок Барышево' 'деревня Разметелево'\n",
      " 'поселок городского типа имени Свердлова' 'деревня Пеники'\n",
      " 'поселок Рябово' 'деревня Пудомяги' 'поселок станции Корнево'\n",
      " 'деревня Низино' 'деревня Бегуницы' 'посёлок Поляны'\n",
      " 'городской посёлок Мга' 'поселок Елизаветино'\n",
      " 'посёлок городского типа Кузнечное' 'деревня Колтуши'\n",
      " 'поселок Запорожское' 'посёлок городского типа Рощино'\n",
      " 'деревня Гостилицы' 'деревня Малое Карлино' 'посёлок Мичуринское'\n",
      " 'посёлок городского типа имени Морозова' 'посёлок Сосново' 'деревня Аро'\n",
      " 'поселок Ильичёво' 'посёлок городского типа Тайцы' 'деревня Малое Верево'\n",
      " 'деревня Извара' 'поселок станции Вещево' 'село Паша' 'деревня Калитино'\n",
      " 'посёлок городского типа Ульяновка' 'деревня Чудской Бор'\n",
      " 'поселок городского типа Дубровка' 'деревня Мины' 'поселок Войсковицы'\n",
      " 'посёлок городского типа имени Свердлова' 'деревня Коркино'\n",
      " 'посёлок Ропша' 'поселок городского типа Приладожский' 'посёлок Щеглово'\n",
      " 'посёлок Гаврилово' 'Лодейное Поле' 'деревня Рабитицы'\n",
      " 'поселок городского типа Никольский' 'деревня Кузьмолово'\n",
      " 'деревня Малые Колпаны' 'поселок Тельмана' 'городской посёлок Назия'\n",
      " 'посёлок Ильичёво' 'поселок Углово' 'поселок Старая Малукса'\n",
      " 'садовое товарищество Рахья' 'поселок Аннино' 'поселок Победа'\n",
      " 'деревня Меньково' 'деревня Старые Бегуницы' 'поселок Семрино'\n",
      " 'поселок Гаврилово' 'поселок Глажево' 'поселок Кобринское'\n",
      " 'деревня Гарболово' 'деревня Юкки' 'поселок станции Приветнинское'\n",
      " 'деревня Мануйлово' 'деревня Пчева' 'поселок Поляны' 'поселок Цвылёво'\n",
      " 'поселок Мельниково' 'посёлок Пудость' 'посёлок Усть-Луга' 'Светогорск'\n",
      " 'Любань' 'поселок Селезнёво' 'поселок городского типа Рябово'\n",
      " 'Каменногорск' 'деревня Кривко' 'поселок Глебычево' 'деревня Парицы'\n",
      " 'поселок Жилпосёлок' 'посёлок городского типа Мга'\n",
      " 'городской поселок Янино-1' 'посёлок Войскорово' 'село Никольское'\n",
      " 'посёлок Терволово' 'поселок Стеклянный' 'посёлок городского типа Важины'\n",
      " 'посёлок Мыза-Ивановка' 'село Русско-Высоцкое'\n",
      " 'поселок городского типа Лебяжье' 'поселок городского типа Форносово'\n",
      " 'Красное Село' 'село Старая Ладога' 'поселок Житково'\n",
      " 'городской посёлок Виллози' 'деревня Лампово' 'деревня Шпаньково'\n",
      " 'деревня Лаврики' 'посёлок Сумино' 'посёлок Возрождение'\n",
      " 'деревня Старосиверская' 'посёлок Кикерино' 'поселок Возрождение'\n",
      " 'деревня Старое Хинколово' 'посёлок Пригородный' 'посёлок Торфяное'\n",
      " 'городской посёлок Будогощь' 'поселок Суходолье' 'поселок Красная Долина'\n",
      " 'деревня Хапо-Ое' 'поселок городского типа Дружная Горка'\n",
      " 'деревня Яльгелево' 'посёлок Стеклянный' 'село Рождествено'\n",
      " 'деревня Старополье' 'деревня Сяськелево' 'деревня Камышовка'\n",
      " 'садоводческое некоммерческое товарищество Лесная Поляна'\n",
      " 'деревня Хязельки' 'поселок Жилгородок' 'посёлок городского типа Павлово'\n",
      " 'деревня Ялгино' 'Ломоносов' 'поселок Новый Учхоз'\n",
      " 'городской посёлок Рощино' 'поселок Гончарово' 'поселок Почап'\n",
      " 'посёлок Сапёрное' 'посёлок Платформа 69-й километр' 'поселок Каложицы'\n",
      " 'деревня Фалилеево' 'деревня Пельгора'\n",
      " 'поселок городского типа Лесогорский' 'деревня Торошковичи'\n",
      " 'посёлок Алексеевка' 'поселок Серебрянский' 'поселок Лукаши'\n",
      " 'поселок Петровское' 'деревня Щеглово' 'Кронштадт' 'поселок Мичуринское'\n",
      " 'деревня Тарасово' 'поселок Кингисеппский'\n",
      " 'посёлок при железнодорожной станции Вещево' 'поселок Ушаки'\n",
      " 'деревня Котлы' 'деревня Сижно' 'деревня Торосово'\n",
      " 'посёлок Форт Красная Горка' 'деревня Новолисино'\n",
      " 'посёлок станции Громово' 'деревня Глинка' 'посёлок Мельниково'\n",
      " 'поселок городского типа Назия' 'деревня Старая Пустошь'\n",
      " 'поселок Коммунары' 'поселок Починок'\n",
      " 'посёлок городского типа Вознесенье' 'деревня Разбегаево'\n",
      " 'посёлок городского типа Рябово' 'поселок Гладкое'\n",
      " 'посёлок при железнодорожной станции Приветнинское' 'поселок Тёсово-4'\n",
      " 'посёлок Жилгородок' 'деревня Бор' 'посёлок Коробицыно'\n",
      " 'деревня Большая Вруда' 'деревня Курковицы' 'городской посёлок Советский'\n",
      " 'посёлок Кобралово' 'деревня Суоранда' 'поселок Кобралово'\n",
      " 'поселок городского типа Кондратьево' 'коттеджный поселок Счастье'\n",
      " 'поселок Любань' 'деревня Реброво' 'деревня Зимитицы' 'деревня Тойворово'\n",
      " 'поселок Семиозерье' 'поселок Лесное' 'поселок Совхозный'\n",
      " 'поселок Усть-Луга' 'посёлок Ленинское' 'посёлок Суйда'\n",
      " 'посёлок городского типа Форносово' 'деревня Нижние Осельки'\n",
      " 'посёлок станции Свирь' 'поселок Перово' 'Высоцк' 'поселок Гарболово'\n",
      " 'село Шум' 'поселок Котельский' 'поселок станции Лужайка'\n",
      " 'деревня Большая Пустомержа' 'поселок Красносельское'\n",
      " 'деревня Вахнова Кара' 'деревня Пижма'\n",
      " 'коттеджный поселок Кивеннапа Север' 'поселок Коробицыно'\n",
      " 'поселок Ромашки' 'посёлок Перово' 'деревня Каськово' 'деревня Куровицы'\n",
      " 'посёлок Плоское' 'поселок Сумино'\n",
      " 'поселок городского типа Большая Ижора' 'поселок Кирпичное'\n",
      " 'деревня Ям-Тесово' 'деревня Раздолье' 'деревня Терпилицы'\n",
      " 'поселок городского типа Токсово' 'посёлок Шугозеро' 'деревня Ваганово'\n",
      " 'поселок Пушное' 'садовое товарищество Садко' 'деревня Выскатка'\n",
      " 'городской посёлок Свирьстрой' 'поселок Громово' 'деревня Кисельня'\n",
      " 'посёлок Старая Малукса' 'деревня Трубников Бор' 'поселок Калитино'\n",
      " 'посёлок Высокоключевой' 'садовое товарищество Приладожский'\n",
      " 'посёлок Пансионат Зелёный Бор' 'деревня Ненимяки'\n",
      " 'поселок Пансионат Зелёный Бор' 'деревня Снегирёвка' 'Пушкин'\n",
      " 'деревня Рапполово' 'деревня Пустынка' 'Колпино' 'поселок Рабитицы'\n",
      " 'деревня Большой Сабск' 'деревня Русско' 'деревня Лупполово'\n",
      " 'деревня Большое Рейзино' 'деревня Малая Романовка' 'поселок Дружноселье'\n",
      " 'поселок Пчевжа' 'поселок Володарское' 'деревня Нижняя'\n",
      " 'коттеджный посёлок Лесное' 'деревня Тихковицы' 'деревня Борисова Грива'\n",
      " 'посёлок Дзержинского']\n"
     ]
    }
   ],
   "source": [
    "mean_to_center = realty[realty['city_centers_nearest'].notnull()].groupby('locality_name')['city_centers_nearest'].mean()\n",
    "print(mean_to_center)\n",
    "print(realty[realty['city_centers_nearest'].isnull()]['locality_name'].unique())"
   ]
  },
  {
   "cell_type": "markdown",
   "metadata": {},
   "source": [
    "Имена населенных пунктов (locality_name) с расстояниями до центра и населенных пунктов с пропусками не совпадают. Это значит, что адекватное заполнение пропусков в столбце (city_centers_nearest) требует использования внешних источников. Оставим пока графу без изменений, но будем иметь в виду наличие там пропусков."
   ]
  },
  {
   "cell_type": "markdown",
   "metadata": {},
   "source": [
    "Заменим типы данных в ряде параметров для дальнейшего анализа."
   ]
  },
  {
   "cell_type": "code",
   "execution_count": 19,
   "metadata": {},
   "outputs": [
    {
     "name": "stdout",
     "output_type": "stream",
     "text": [
      "<class 'pandas.core.frame.DataFrame'>\n",
      "Int64Index: 23565 entries, 0 to 23698\n",
      "Data columns (total 22 columns):\n",
      " #   Column                Non-Null Count  Dtype         \n",
      "---  ------                --------------  -----         \n",
      " 0   total_images          23565 non-null  int64         \n",
      " 1   last_price            23565 non-null  float64       \n",
      " 2   total_area            23565 non-null  float64       \n",
      " 3   first_day_exposition  23565 non-null  datetime64[ns]\n",
      " 4   rooms                 23565 non-null  int64         \n",
      " 5   ceiling_height        23565 non-null  float64       \n",
      " 6   floors_total          23565 non-null  int32         \n",
      " 7   living_area           23565 non-null  float64       \n",
      " 8   floor                 23565 non-null  int64         \n",
      " 9   is_apartment          2760 non-null   object        \n",
      " 10  studio                23565 non-null  bool          \n",
      " 11  open_plan             23565 non-null  bool          \n",
      " 12  kitchen_area          23565 non-null  float64       \n",
      " 13  balcony               23565 non-null  int32         \n",
      " 14  locality_name         23565 non-null  object        \n",
      " 15  airports_nearest      18041 non-null  float64       \n",
      " 16  city_centers_nearest  18064 non-null  float64       \n",
      " 17  parks_around3000      18065 non-null  float64       \n",
      " 18  parks_nearest         8030 non-null   float64       \n",
      " 19  ponds_around3000      18065 non-null  float64       \n",
      " 20  ponds_nearest         9036 non-null   float64       \n",
      " 21  days_exposition       20394 non-null  float64       \n",
      "dtypes: bool(2), datetime64[ns](1), float64(12), int32(2), int64(3), object(2)\n",
      "memory usage: 3.6+ MB\n"
     ]
    }
   ],
   "source": [
    "realty['floors_total'] = realty['floors_total'].astype('int')\n",
    "realty['balcony'] = realty['balcony'].astype('int')\n",
    "realty['first_day_exposition'] = pd.to_datetime(realty['first_day_exposition'], format = '%Y-%m-%dT%H:%M:%S')\n",
    "realty.info()"
   ]
  },
  {
   "cell_type": "markdown",
   "metadata": {},
   "source": [
    "Проверим, появились ли случайно в наборе данных дубликаты в результате правки значений параметров."
   ]
  },
  {
   "cell_type": "code",
   "execution_count": 20,
   "metadata": {},
   "outputs": [
    {
     "name": "stdout",
     "output_type": "stream",
     "text": [
      "Количество дубликатов в наборе данных: 0\n"
     ]
    }
   ],
   "source": [
    "print('Количество дубликатов в наборе данных: {}'.format(realty.duplicated().sum()))"
   ]
  },
  {
   "cell_type": "markdown",
   "metadata": {},
   "source": [
    "### Вывод"
   ]
  },
  {
   "cell_type": "markdown",
   "metadata": {},
   "source": [
    "В столбцах living_area, kitchen_area, balcony NaN заменены на наиболее подходящие значения. Ряд строк с пропусками в графах floors_total и locality_name удален (0.3% и 0.2% соответственно).\n",
    "\n",
    "Сложнее с пропусками в ceiling_height. Здесь доля пропусков очень большая (почти 40%), поэтому результаты, полученные при замене, могут сильно отличаться от реальности. В итоге в основном датафрейме было решено заменить пропуски средним, однако, также сохранить отдельно часть датафрейма с удаленными NaN для последующей проверки.\n",
    "Наиболее вероятная причина отсутствия данных по потолкам в том, что клиенты не указали этот параметр. Забыли или сами не знают (например, после ремонта что указывать - внутреннюю высоту бетонной коробки или высоту до натяжного потолка?).\n",
    "\n",
    "В случае с city_centers_nearest пропуски непросто заменить, поскольку по населенным пунктам с отсутствующими значениями вообще нет данных и в других строках. Пропуски в расстояниях от центра скорее всего возникли из-за того, что данные попадают в датасет из базы, где проставлены координаты GPS. А у этих населенных пунктов координат нет в базе.\n",
    "\n",
    "Графу days_exposition решено оставить без изменений. Форматы колонок floors_total и balcony переведены в целочисленный. Явные дубликаты в датасете отсутствуют."
   ]
  },
  {
   "cell_type": "markdown",
   "metadata": {},
   "source": [
    "## Добавление и изменение признаков"
   ]
  },
  {
   "cell_type": "markdown",
   "metadata": {},
   "source": [
    "Вычислим стоимость одного квадратного метра и добавим в новый столбец (price_per_meter)."
   ]
  },
  {
   "cell_type": "code",
   "execution_count": 21,
   "metadata": {},
   "outputs": [],
   "source": [
    "realty['price_per_meter'] = realty['last_price'] / realty['total_area']"
   ]
  },
  {
   "cell_type": "markdown",
   "metadata": {},
   "source": [
    "Колонку с датой публикации (first_day_exposition) разобъем на четыре самостоятельных столбца для дальнейшего анализа (день недели, дата, месяц и год публикации объявления)."
   ]
  },
  {
   "cell_type": "code",
   "execution_count": 22,
   "metadata": {},
   "outputs": [
    {
     "data": {
      "text/html": [
       "<div>\n",
       "<style scoped>\n",
       "    .dataframe tbody tr th:only-of-type {\n",
       "        vertical-align: middle;\n",
       "    }\n",
       "\n",
       "    .dataframe tbody tr th {\n",
       "        vertical-align: top;\n",
       "    }\n",
       "\n",
       "    .dataframe thead th {\n",
       "        text-align: right;\n",
       "    }\n",
       "</style>\n",
       "<table border=\"1\" class=\"dataframe\">\n",
       "  <thead>\n",
       "    <tr style=\"text-align: right;\">\n",
       "      <th></th>\n",
       "      <th>total_images</th>\n",
       "      <th>last_price</th>\n",
       "      <th>total_area</th>\n",
       "      <th>first_day_exposition</th>\n",
       "      <th>rooms</th>\n",
       "      <th>ceiling_height</th>\n",
       "      <th>floors_total</th>\n",
       "      <th>living_area</th>\n",
       "      <th>floor</th>\n",
       "      <th>is_apartment</th>\n",
       "      <th>studio</th>\n",
       "      <th>open_plan</th>\n",
       "      <th>kitchen_area</th>\n",
       "      <th>balcony</th>\n",
       "      <th>locality_name</th>\n",
       "      <th>airports_nearest</th>\n",
       "      <th>city_centers_nearest</th>\n",
       "      <th>parks_around3000</th>\n",
       "      <th>parks_nearest</th>\n",
       "      <th>ponds_around3000</th>\n",
       "      <th>ponds_nearest</th>\n",
       "      <th>days_exposition</th>\n",
       "      <th>price_per_meter</th>\n",
       "      <th>day_exposition</th>\n",
       "      <th>data_exposition</th>\n",
       "      <th>month_exposition</th>\n",
       "      <th>year_exposition</th>\n",
       "    </tr>\n",
       "  </thead>\n",
       "  <tbody>\n",
       "    <tr>\n",
       "      <th>0</th>\n",
       "      <td>20</td>\n",
       "      <td>13000000.0</td>\n",
       "      <td>108.0</td>\n",
       "      <td>2019-03-07</td>\n",
       "      <td>3</td>\n",
       "      <td>2.70</td>\n",
       "      <td>16</td>\n",
       "      <td>51.000000</td>\n",
       "      <td>8</td>\n",
       "      <td>NaN</td>\n",
       "      <td>False</td>\n",
       "      <td>False</td>\n",
       "      <td>25.000000</td>\n",
       "      <td>0</td>\n",
       "      <td>Санкт-Петербург</td>\n",
       "      <td>18863.0</td>\n",
       "      <td>16028.0</td>\n",
       "      <td>1.0</td>\n",
       "      <td>482.0</td>\n",
       "      <td>2.0</td>\n",
       "      <td>755.0</td>\n",
       "      <td>NaN</td>\n",
       "      <td>120370.370370</td>\n",
       "      <td>Thursday</td>\n",
       "      <td>7</td>\n",
       "      <td>3</td>\n",
       "      <td>2019</td>\n",
       "    </tr>\n",
       "    <tr>\n",
       "      <th>1</th>\n",
       "      <td>7</td>\n",
       "      <td>3350000.0</td>\n",
       "      <td>40.4</td>\n",
       "      <td>2018-12-04</td>\n",
       "      <td>1</td>\n",
       "      <td>2.73</td>\n",
       "      <td>11</td>\n",
       "      <td>18.600000</td>\n",
       "      <td>1</td>\n",
       "      <td>NaN</td>\n",
       "      <td>False</td>\n",
       "      <td>False</td>\n",
       "      <td>11.000000</td>\n",
       "      <td>2</td>\n",
       "      <td>посёлок Шушары</td>\n",
       "      <td>12817.0</td>\n",
       "      <td>18603.0</td>\n",
       "      <td>0.0</td>\n",
       "      <td>NaN</td>\n",
       "      <td>0.0</td>\n",
       "      <td>NaN</td>\n",
       "      <td>81.0</td>\n",
       "      <td>82920.792079</td>\n",
       "      <td>Tuesday</td>\n",
       "      <td>4</td>\n",
       "      <td>12</td>\n",
       "      <td>2018</td>\n",
       "    </tr>\n",
       "    <tr>\n",
       "      <th>2</th>\n",
       "      <td>10</td>\n",
       "      <td>5196000.0</td>\n",
       "      <td>56.0</td>\n",
       "      <td>2015-08-20</td>\n",
       "      <td>2</td>\n",
       "      <td>2.73</td>\n",
       "      <td>5</td>\n",
       "      <td>34.300000</td>\n",
       "      <td>4</td>\n",
       "      <td>NaN</td>\n",
       "      <td>False</td>\n",
       "      <td>False</td>\n",
       "      <td>8.300000</td>\n",
       "      <td>0</td>\n",
       "      <td>Санкт-Петербург</td>\n",
       "      <td>21741.0</td>\n",
       "      <td>13933.0</td>\n",
       "      <td>1.0</td>\n",
       "      <td>90.0</td>\n",
       "      <td>2.0</td>\n",
       "      <td>574.0</td>\n",
       "      <td>558.0</td>\n",
       "      <td>92785.714286</td>\n",
       "      <td>Thursday</td>\n",
       "      <td>20</td>\n",
       "      <td>8</td>\n",
       "      <td>2015</td>\n",
       "    </tr>\n",
       "    <tr>\n",
       "      <th>3</th>\n",
       "      <td>0</td>\n",
       "      <td>64900000.0</td>\n",
       "      <td>159.0</td>\n",
       "      <td>2015-07-24</td>\n",
       "      <td>3</td>\n",
       "      <td>2.73</td>\n",
       "      <td>14</td>\n",
       "      <td>89.825011</td>\n",
       "      <td>9</td>\n",
       "      <td>NaN</td>\n",
       "      <td>False</td>\n",
       "      <td>False</td>\n",
       "      <td>39.079523</td>\n",
       "      <td>0</td>\n",
       "      <td>Санкт-Петербург</td>\n",
       "      <td>28098.0</td>\n",
       "      <td>6800.0</td>\n",
       "      <td>2.0</td>\n",
       "      <td>84.0</td>\n",
       "      <td>3.0</td>\n",
       "      <td>234.0</td>\n",
       "      <td>424.0</td>\n",
       "      <td>408176.100629</td>\n",
       "      <td>Friday</td>\n",
       "      <td>24</td>\n",
       "      <td>7</td>\n",
       "      <td>2015</td>\n",
       "    </tr>\n",
       "    <tr>\n",
       "      <th>4</th>\n",
       "      <td>2</td>\n",
       "      <td>10000000.0</td>\n",
       "      <td>100.0</td>\n",
       "      <td>2018-06-19</td>\n",
       "      <td>2</td>\n",
       "      <td>3.03</td>\n",
       "      <td>14</td>\n",
       "      <td>32.000000</td>\n",
       "      <td>13</td>\n",
       "      <td>NaN</td>\n",
       "      <td>False</td>\n",
       "      <td>False</td>\n",
       "      <td>41.000000</td>\n",
       "      <td>0</td>\n",
       "      <td>Санкт-Петербург</td>\n",
       "      <td>31856.0</td>\n",
       "      <td>8098.0</td>\n",
       "      <td>2.0</td>\n",
       "      <td>112.0</td>\n",
       "      <td>1.0</td>\n",
       "      <td>48.0</td>\n",
       "      <td>121.0</td>\n",
       "      <td>100000.000000</td>\n",
       "      <td>Tuesday</td>\n",
       "      <td>19</td>\n",
       "      <td>6</td>\n",
       "      <td>2018</td>\n",
       "    </tr>\n",
       "  </tbody>\n",
       "</table>\n",
       "</div>"
      ],
      "text/plain": [
       "   total_images  last_price  total_area first_day_exposition  rooms  \\\n",
       "0            20  13000000.0       108.0           2019-03-07      3   \n",
       "1             7   3350000.0        40.4           2018-12-04      1   \n",
       "2            10   5196000.0        56.0           2015-08-20      2   \n",
       "3             0  64900000.0       159.0           2015-07-24      3   \n",
       "4             2  10000000.0       100.0           2018-06-19      2   \n",
       "\n",
       "   ceiling_height  floors_total  living_area  floor is_apartment  studio  \\\n",
       "0            2.70            16    51.000000      8          NaN   False   \n",
       "1            2.73            11    18.600000      1          NaN   False   \n",
       "2            2.73             5    34.300000      4          NaN   False   \n",
       "3            2.73            14    89.825011      9          NaN   False   \n",
       "4            3.03            14    32.000000     13          NaN   False   \n",
       "\n",
       "   open_plan  kitchen_area  balcony    locality_name  airports_nearest  \\\n",
       "0      False     25.000000        0  Санкт-Петербург           18863.0   \n",
       "1      False     11.000000        2   посёлок Шушары           12817.0   \n",
       "2      False      8.300000        0  Санкт-Петербург           21741.0   \n",
       "3      False     39.079523        0  Санкт-Петербург           28098.0   \n",
       "4      False     41.000000        0  Санкт-Петербург           31856.0   \n",
       "\n",
       "   city_centers_nearest  parks_around3000  parks_nearest  ponds_around3000  \\\n",
       "0               16028.0               1.0          482.0               2.0   \n",
       "1               18603.0               0.0            NaN               0.0   \n",
       "2               13933.0               1.0           90.0               2.0   \n",
       "3                6800.0               2.0           84.0               3.0   \n",
       "4                8098.0               2.0          112.0               1.0   \n",
       "\n",
       "   ponds_nearest  days_exposition  price_per_meter day_exposition  \\\n",
       "0          755.0              NaN    120370.370370       Thursday   \n",
       "1            NaN             81.0     82920.792079        Tuesday   \n",
       "2          574.0            558.0     92785.714286       Thursday   \n",
       "3          234.0            424.0    408176.100629         Friday   \n",
       "4           48.0            121.0    100000.000000        Tuesday   \n",
       "\n",
       "   data_exposition  month_exposition  year_exposition  \n",
       "0                7                 3             2019  \n",
       "1                4                12             2018  \n",
       "2               20                 8             2015  \n",
       "3               24                 7             2015  \n",
       "4               19                 6             2018  "
      ]
     },
     "metadata": {},
     "output_type": "display_data"
    }
   ],
   "source": [
    "realty['day_exposition'] = realty['first_day_exposition'].dt.strftime('%A')\n",
    "realty['data_exposition'] = realty['first_day_exposition'].dt.day\n",
    "realty['month_exposition'] = realty['first_day_exposition'].dt.month\n",
    "realty['year_exposition'] = realty['first_day_exposition'].dt.year\n",
    "display(realty.head())"
   ]
  },
  {
   "cell_type": "markdown",
   "metadata": {},
   "source": [
    "Добавим в набор данных колонку с типами этажей (первый, последний и другие)."
   ]
  },
  {
   "cell_type": "code",
   "execution_count": 23,
   "metadata": {},
   "outputs": [
    {
     "name": "stdout",
     "output_type": "stream",
     "text": [
      "другой       17326\n",
      "последний     3330\n",
      "первый        2909\n",
      "Name: floor_type, dtype: int64\n"
     ]
    }
   ],
   "source": [
    "def floor_status(row):\n",
    "    if row['floor'] == 1:\n",
    "        return 'первый'\n",
    "    elif row['floor'] == row['floors_total']:\n",
    "        return 'последний'\n",
    "    else:\n",
    "        return 'другой'\n",
    "\n",
    "realty['floor_type'] = realty.apply(floor_status, axis=1)\n",
    "print(realty['floor_type'].value_counts())"
   ]
  },
  {
   "cell_type": "markdown",
   "metadata": {},
   "source": [
    "Посчитаем соотношение жилой и общей площади, а также отношение площади кухни к общей."
   ]
  },
  {
   "cell_type": "code",
   "execution_count": 24,
   "metadata": {},
   "outputs": [],
   "source": [
    "realty['room_ratio'] = realty['living_area'] / realty['total_area']\n",
    "realty['kitchen_ratio'] = realty['kitchen_area'] / realty['total_area']"
   ]
  },
  {
   "cell_type": "markdown",
   "metadata": {},
   "source": [
    "### Вывод"
   ]
  },
  {
   "cell_type": "markdown",
   "metadata": {},
   "source": [
    "Для дальнейшего исследования рынка недвижимости и выявления факторов, влияющих на ценообразование, в набор данных добавлены следующие столбцы: цена за квадратный метр, тип этажа, соотношения площадей комнаты и кухни. Колонка с временем публикации разбита на четыре отдельных столбца (день недели, дата, месяц и год)."
   ]
  },
  {
   "cell_type": "markdown",
   "metadata": {},
   "source": [
    "## Исследовательский анализ данных"
   ]
  },
  {
   "cell_type": "markdown",
   "metadata": {},
   "source": [
    "### Поиск выбросов, удаление экстремальных значений"
   ]
  },
  {
   "cell_type": "markdown",
   "metadata": {},
   "source": [
    "Изучим следующие параметры: площадь, цена, число комнат, высота потолков. Для каждого параметра построим гистограммы и боксплоты для визуализации выбросов. Также объявим функцию для расчета границы выбросов."
   ]
  },
  {
   "cell_type": "code",
   "execution_count": 25,
   "metadata": {},
   "outputs": [],
   "source": [
    "def find_outliers (series):\n",
    "    outliers_up = ((series.describe()['75%'] - series.describe()['25%'])*1.5 + series.describe()['75%']).round(1)\n",
    "    outliers_down = (series.describe()['25%'] - (series.describe()['75%'] - series.describe()['25%'])*1.5).round(1)\n",
    "    print('Нижняя и верхняя границы выбросов: {}, '.format(outliers_down), '{}'.format(outliers_up))"
   ]
  },
  {
   "cell_type": "markdown",
   "metadata": {},
   "source": [
    "#### Площадь"
   ]
  },
  {
   "cell_type": "markdown",
   "metadata": {},
   "source": [
    "Построим распределение недвижимости по площади объекта."
   ]
  },
  {
   "cell_type": "code",
   "execution_count": 26,
   "metadata": {},
   "outputs": [
    {
     "data": {
      "image/png": "[encoded data removed]",
      "text/plain": [
       "<Figure size 864x216 with 2 Axes>"
      ]
     },
     "metadata": {
      "needs_background": "light"
     },
     "output_type": "display_data"
    }
   ],
   "source": [
    "fig, ax= plt.subplots(ncols=2, figsize=(12,3))\n",
    "sns.distplot(realty['total_area'], bins=200, ax=ax[0])\n",
    "sns.distplot(realty[realty['total_area'] <= 200]['total_area'], bins=200, ax=ax[1])\n",
    "ax[0].set(title='Распределение площадей')\n",
    "ax[0].grid(alpha=0.05, linestyle='--', linewidth=1)\n",
    "ax[1].set(title='Распределение площадей до 200 кв.м включительно')\n",
    "ax[1].grid(alpha=0.05, linestyle='--', linewidth=1)"
   ]
  },
  {
   "cell_type": "markdown",
   "metadata": {},
   "source": [
    "Больше всего в продаже малогабаритных квартир. График не выглядит идеальным, на нём множество выступов и длинный узкий хвост из недвижимости большой площади. \n",
    "Для поиска выбросов построим боксплот и рядом увеличенную часть графика, чтобы лучше определить границу аномальных значений."
   ]
  },
  {
   "cell_type": "code",
   "execution_count": 27,
   "metadata": {},
   "outputs": [
    {
     "data": {
      "text/plain": [
       "(100.0, 700.0)"
      ]
     },
     "execution_count": 27,
     "metadata": {},
     "output_type": "execute_result"
    },
    {
     "data": {
      "image/png": "[encoded data removed]",
      "text/plain": [
       "<Figure size 648x360 with 2 Axes>"
      ]
     },
     "metadata": {
      "needs_background": "light"
     },
     "output_type": "display_data"
    }
   ],
   "source": [
    "fig, ax= plt.subplots(ncols=2, figsize=(9,5))\n",
    "sns.boxplot(y=realty['total_area'], ax=ax[0])\n",
    "ax[0].set_title('Площадь квартир')\n",
    "ax[0].grid(alpha=0.05, linestyle='--', linewidth=1)\n",
    "\n",
    "sns.boxplot(y=realty['total_area'], ax=ax[1])\n",
    "ax[1].set_title('Площадь квартир, граница выбросов')\n",
    "ax[1].grid(alpha=0.05, linestyle='--', linewidth=1)\n",
    "ax[1].set_ylim(100, 700)"
   ]
  },
  {
   "cell_type": "markdown",
   "metadata": {},
   "source": [
    "Выбросы есть по верхним значениям. Рассчитаем границу, после которой данные можно считать выбросами. Воспользуемся объявленной ранее функцией find_outliers()."
   ]
  },
  {
   "cell_type": "code",
   "execution_count": 28,
   "metadata": {},
   "outputs": [
    {
     "name": "stdout",
     "output_type": "stream",
     "text": [
      "Нижняя и верхняя границы выбросов: -4.6,  114.2\n"
     ]
    }
   ],
   "source": [
    "find_outliers(realty['total_area'])"
   ]
  },
  {
   "cell_type": "markdown",
   "metadata": {},
   "source": [
    "Все, что выше этой границы, из набора данных удаляем."
   ]
  },
  {
   "cell_type": "code",
   "execution_count": 29,
   "metadata": {},
   "outputs": [],
   "source": [
    "realty = realty.query('total_area < 114')"
   ]
  },
  {
   "cell_type": "markdown",
   "metadata": {},
   "source": [
    "#### Цена за квадратный метр"
   ]
  },
  {
   "cell_type": "markdown",
   "metadata": {},
   "source": [
    "Посмотрим на график распределения цен за квадратный метр."
   ]
  },
  {
   "cell_type": "code",
   "execution_count": 30,
   "metadata": {},
   "outputs": [
    {
     "data": {
      "image/png": "[encoded data removed]",
      "text/plain": [
       "<Figure size 648x288 with 1 Axes>"
      ]
     },
     "metadata": {
      "needs_background": "light"
     },
     "output_type": "display_data"
    }
   ],
   "source": [
    "plt.figure(figsize=(9,4))\n",
    "ax = sns.distplot(realty[realty['price_per_meter']<=500000]['price_per_meter'], bins=200, color='green')\n",
    "ax.set(title='Цена за квадратный метр')\n",
    "ax.grid(alpha=0.05, linestyle='--', linewidth=1)"
   ]
  },
  {
   "cell_type": "markdown",
   "metadata": {},
   "source": [
    "В целом график выглядит неплохо: почти правильный колокол говорит о нормальном распределении, форма узкая вытянутая. Единственный нюанс - длинный хвост в сторону увеличения стоимости за квадратный метр. Это говорит о том, что в наборе есть очень узкий сегмент крайне дорогих квартир, который может повлиять на дальнейшие оценки. \n",
    "\n",
    "Чтобы понять, какие именно цены считаются аномальными, построим боксплот и рассчитаем границу начала выбросов."
   ]
  },
  {
   "cell_type": "code",
   "execution_count": 31,
   "metadata": {},
   "outputs": [
    {
     "data": {
      "text/plain": [
       "(5000.0, 25000.0)"
      ]
     },
     "execution_count": 31,
     "metadata": {},
     "output_type": "execute_result"
    },
    {
     "data": {
      "image/png": "[encoded data removed]",
      "text/plain": [
       "<Figure size 1152x360 with 3 Axes>"
      ]
     },
     "metadata": {
      "needs_background": "light"
     },
     "output_type": "display_data"
    }
   ],
   "source": [
    "fig, ax= plt.subplots(ncols=3, figsize=(16,5))\n",
    "sns.boxplot(y=realty['price_per_meter'], fliersize=2, ax=ax[0])\n",
    "ax[0].set_title('Стоимость за кв.м')\n",
    "ax[0].grid(alpha=0.05, linestyle='--', linewidth=1)\n",
    "\n",
    "sns.boxplot(y=realty['price_per_meter'], fliersize=2, ax=ax[1])\n",
    "ax[1].set_title('Стоимость за кв.м, верхняя граница')\n",
    "ax[1].grid(alpha=0.05, linestyle='--', linewidth=1)\n",
    "ax[1].set_ylim(140000, 200000)\n",
    "\n",
    "sns.boxplot(y=realty['price_per_meter'], fliersize=2, ax=ax[2])\n",
    "ax[2].set_title('Стоимость за кв.м, нижняя граница')\n",
    "ax[2].grid(alpha=0.05, linestyle='--', linewidth=1)\n",
    "ax[2].set_ylim(5000, 25000)"
   ]
  },
  {
   "cell_type": "markdown",
   "metadata": {},
   "source": [
    "Выбросы есть по верхней и нижней границам. Рассчитаем их и удалим записи, которые за них заходят."
   ]
  },
  {
   "cell_type": "code",
   "execution_count": 34,
   "metadata": {},
   "outputs": [
    {
     "name": "stdout",
     "output_type": "stream",
     "text": [
      "Нижняя и верхняя границы выбросов: 20830.5,  167302.7\n"
     ]
    }
   ],
   "source": [
    "find_outliers(realty['price_per_meter'])"
   ]
  },
  {
   "cell_type": "markdown",
   "metadata": {},
   "source": [
    "Удаляем выбросы."
   ]
  },
  {
   "cell_type": "code",
   "execution_count": 35,
   "metadata": {},
   "outputs": [],
   "source": [
    "realty = realty.query('20830.5 < price_per_meter < 167302.7')"
   ]
  },
  {
   "cell_type": "markdown",
   "metadata": {},
   "source": [
    "#### Количество комнат"
   ]
  },
  {
   "cell_type": "markdown",
   "metadata": {},
   "source": [
    "Рассмотрим, как распределено количество комнат."
   ]
  },
  {
   "cell_type": "code",
   "execution_count": 36,
   "metadata": {},
   "outputs": [
    {
     "data": {
      "image/png": "[encoded data removed]",
      "text/plain": [
       "<Figure size 504x288 with 1 Axes>"
      ]
     },
     "metadata": {
      "needs_background": "light"
     },
     "output_type": "display_data"
    }
   ],
   "source": [
    "plt.figure(figsize=(7,4))\n",
    "ax = sns.distplot(realty['rooms'], kde=False, bins=30, color='green')\n",
    "ax.set(title='Количество комнат')\n",
    "ax.grid(alpha=0.05, linestyle='--', linewidth=1)"
   ]
  },
  {
   "cell_type": "markdown",
   "metadata": {},
   "source": [
    "Гистограмма выглядит вполне предсказуемо. Большинство предложений на рынке - однокомнатные или двухкомнатные квартиры. Есть небольшой выступ у комнат со значением 0, но здесь, скорее всего, речь идет о маленьких квартирах-студиях или квартирах со свободной планировкой, где комната физически не выделена (не отгорожена стеной от остальных помещений).\n",
    "\n",
    "Построим боксплот."
   ]
  },
  {
   "cell_type": "code",
   "execution_count": 37,
   "metadata": {},
   "outputs": [
    {
     "data": {
      "image/png": "[encoded data removed]",
      "text/plain": [
       "<Figure size 432x288 with 1 Axes>"
      ]
     },
     "metadata": {
      "needs_background": "light"
     },
     "output_type": "display_data"
    }
   ],
   "source": [
    "ax = sns.boxplot(y=realty['rooms'])\n",
    "ax.set_title('Количество комнат')\n",
    "ax.grid(alpha=0.05, linestyle='--', linewidth=1)"
   ]
  },
  {
   "cell_type": "markdown",
   "metadata": {},
   "source": [
    "Судя по графику, выбросом считается только одно значение, оно же максимальное: 7 комнат. Проверим это методом describe()."
   ]
  },
  {
   "cell_type": "code",
   "execution_count": 38,
   "metadata": {},
   "outputs": [
    {
     "name": "stdout",
     "output_type": "stream",
     "text": [
      "Максимальное количество комнат: 7.0\n"
     ]
    }
   ],
   "source": [
    "print('Максимальное количество комнат: {}'.format(realty['rooms'].describe()['max']))"
   ]
  },
  {
   "cell_type": "markdown",
   "metadata": {},
   "source": [
    "Удаляем."
   ]
  },
  {
   "cell_type": "code",
   "execution_count": 39,
   "metadata": {},
   "outputs": [],
   "source": [
    "realty = realty.query('rooms != 7')"
   ]
  },
  {
   "cell_type": "markdown",
   "metadata": {},
   "source": [
    "#### Высота потолков"
   ]
  },
  {
   "cell_type": "markdown",
   "metadata": {},
   "source": [
    "Посмотрим, как распределяются объекты по высоте потолков."
   ]
  },
  {
   "cell_type": "code",
   "execution_count": 40,
   "metadata": {},
   "outputs": [
    {
     "data": {
      "image/png": "[encoded data removed]",
      "text/plain": [
       "<Figure size 648x288 with 1 Axes>"
      ]
     },
     "metadata": {
      "needs_background": "light"
     },
     "output_type": "display_data"
    }
   ],
   "source": [
    "plt.figure(figsize=(9,4))\n",
    "ax = sns.distplot(realty[realty['ceiling_height'] <= 5]['ceiling_height'], bins=100, color='green')\n",
    "ax.set(title='Высота потолков')\n",
    "ax.grid(alpha=0.05, linestyle='--', linewidth=1)"
   ]
  },
  {
   "cell_type": "markdown",
   "metadata": {},
   "source": [
    "Гистограмма выглядит нетрадиционно, огромные выступы на значениях 2,5 и 2,7 м. Теоретически можно объяснить, что строятся дома из стандартных блоков, имеющих одинаковые размеры. Вот и получаются одинаковые высоты. Но здесь нужно вспомнить, что ранее пропущенные значения меняли на среднее (оно равно 2,73м), что тоже могло повлиять на статистику. Проверим, график действительно похож на реальный или это мы так посчитали, что все исказили.\n",
    "\n",
    "Построим новую гистограмму на основании реальных данных, где все NaN были удалены, а не заменены."
   ]
  },
  {
   "cell_type": "code",
   "execution_count": 41,
   "metadata": {},
   "outputs": [
    {
     "data": {
      "image/png": "[encoded data removed]",
      "text/plain": [
       "<Figure size 648x288 with 1 Axes>"
      ]
     },
     "metadata": {
      "needs_background": "light"
     },
     "output_type": "display_data"
    }
   ],
   "source": [
    "plt.figure(figsize=(9,4))\n",
    "ax = sns.distplot(ceil_real[ceil_real['ceiling_height'] <= 5]['ceiling_height'], bins=100, color='red')\n",
    "ax.set(title='Высота потолков')\n",
    "ax.grid(alpha=0.05, linestyle='--', linewidth=1)"
   ]
  },
  {
   "cell_type": "markdown",
   "metadata": {},
   "source": [
    "Здесь распределение имеет другую форму. Очевидно, что основной пик предыдущего графика носит рукотворный характер. И чаще всего можно встретить помещения с высотой потолков 2,5 м нежели 2.7."
   ]
  },
  {
   "cell_type": "markdown",
   "metadata": {},
   "source": [
    "Построим боксплоты по потолкам для наглядного представления размаха вариации (для основного и дополнительного датафреймов)."
   ]
  },
  {
   "cell_type": "code",
   "execution_count": 42,
   "metadata": {},
   "outputs": [
    {
     "data": {
      "text/plain": [
       "(1.0, 3.5)"
      ]
     },
     "execution_count": 42,
     "metadata": {},
     "output_type": "execute_result"
    },
    {
     "data": {
      "image/png": "[encoded data removed]",
      "text/plain": [
       "<Figure size 1152x360 with 4 Axes>"
      ]
     },
     "metadata": {
      "needs_background": "light"
     },
     "output_type": "display_data"
    }
   ],
   "source": [
    "fig, ax= plt.subplots(ncols=4, figsize=(16,5))\n",
    "sns.boxplot(y=realty['ceiling_height'], fliersize=2, ax=ax[0])\n",
    "ax[0].set_title('Высота потолков, основной дф')\n",
    "ax[0].grid(alpha=0.05, linestyle='--', linewidth=1)\n",
    "\n",
    "sns.boxplot(y=realty['ceiling_height'], fliersize=2, ax=ax[1])\n",
    "ax[1].set_title('Выбросы, основной дф')\n",
    "ax[1].grid(alpha=0.05, linestyle='--', linewidth=1)\n",
    "ax[1].set_ylim(1,3.5)\n",
    "\n",
    "sns.boxplot(y=ceil_real['ceiling_height'], fliersize=2, ax=ax[2])\n",
    "ax[2].set_title('Высота потолков, запасной дф')\n",
    "ax[2].grid(alpha=0.05, linestyle='--', linewidth=1)\n",
    "\n",
    "sns.boxplot(y=ceil_real['ceiling_height'], fliersize=2, ax=ax[3])\n",
    "ax[3].set_title('Выбросы, запасной дф')\n",
    "ax[3].grid(alpha=0.05, linestyle='--', linewidth=1)\n",
    "ax[3].set_ylim(1, 3.5)"
   ]
  },
  {
   "cell_type": "markdown",
   "metadata": {},
   "source": [
    "Выведем верхние и нижние границы выбросов по основному и дополнительному (запасному) датафреймам."
   ]
  },
  {
   "cell_type": "code",
   "execution_count": 43,
   "metadata": {},
   "outputs": [
    {
     "name": "stdout",
     "output_type": "stream",
     "text": [
      "Нижняя и верхняя границы выбросов: 2.4,  2.9\n"
     ]
    }
   ],
   "source": [
    "find_outliers(realty['ceiling_height'])"
   ]
  },
  {
   "cell_type": "code",
   "execution_count": 45,
   "metadata": {},
   "outputs": [
    {
     "name": "stdout",
     "output_type": "stream",
     "text": [
      "Нижняя и верхняя границы выбросов: 2.1,  3.2\n"
     ]
    }
   ],
   "source": [
    "find_outliers(ceil_real['ceiling_height'])"
   ]
  },
  {
   "cell_type": "markdown",
   "metadata": {},
   "source": [
    "Удаляем выбросы в столбце ceiling_height в обоих датафреймах."
   ]
  },
  {
   "cell_type": "code",
   "execution_count": 46,
   "metadata": {},
   "outputs": [],
   "source": [
    "realty = realty.query('2.4 <= ceiling_height <= 2.9')\n",
    "ceil_real = ceil_real.query('2.1 <= ceiling_height <= 3.2')"
   ]
  },
  {
   "cell_type": "markdown",
   "metadata": {},
   "source": [
    "#### Время экспозиции объявления"
   ]
  },
  {
   "cell_type": "markdown",
   "metadata": {},
   "source": [
    "Рассмотрим время продажи квартиры. Поскольку в столбце с указанием дней экспозиции в сервисе (days_exposition) имеются пропущенные значения, для анализа времени продажи объекта фильтруем таблицу и отсекаем все пропуски."
   ]
  },
  {
   "cell_type": "code",
   "execution_count": 47,
   "metadata": {},
   "outputs": [
    {
     "name": "stdout",
     "output_type": "stream",
     "text": [
      "<class 'pandas.core.frame.DataFrame'>\n",
      "Int64Index: 17351 entries, 1 to 23695\n",
      "Data columns (total 30 columns):\n",
      " #   Column                Non-Null Count  Dtype         \n",
      "---  ------                --------------  -----         \n",
      " 0   total_images          17351 non-null  int64         \n",
      " 1   last_price            17351 non-null  float64       \n",
      " 2   total_area            17351 non-null  float64       \n",
      " 3   first_day_exposition  17351 non-null  datetime64[ns]\n",
      " 4   rooms                 17351 non-null  int64         \n",
      " 5   ceiling_height        17351 non-null  float64       \n",
      " 6   floors_total          17351 non-null  int32         \n",
      " 7   living_area           17351 non-null  float64       \n",
      " 8   floor                 17351 non-null  int64         \n",
      " 9   is_apartment          2040 non-null   object        \n",
      " 10  studio                17351 non-null  bool          \n",
      " 11  open_plan             17351 non-null  bool          \n",
      " 12  kitchen_area          17351 non-null  float64       \n",
      " 13  balcony               17351 non-null  int32         \n",
      " 14  locality_name         17351 non-null  object        \n",
      " 15  airports_nearest      13032 non-null  float64       \n",
      " 16  city_centers_nearest  13044 non-null  float64       \n",
      " 17  parks_around3000      13044 non-null  float64       \n",
      " 18  parks_nearest         5059 non-null   float64       \n",
      " 19  ponds_around3000      13044 non-null  float64       \n",
      " 20  ponds_nearest         6073 non-null   float64       \n",
      " 21  days_exposition       17351 non-null  int32         \n",
      " 22  price_per_meter       17351 non-null  float64       \n",
      " 23  day_exposition        17351 non-null  object        \n",
      " 24  data_exposition       17351 non-null  int64         \n",
      " 25  month_exposition      17351 non-null  int64         \n",
      " 26  year_exposition       17351 non-null  int64         \n",
      " 27  floor_type            17351 non-null  object        \n",
      " 28  room_ratio            17351 non-null  float64       \n",
      " 29  kitchen_ratio         17351 non-null  float64       \n",
      "dtypes: bool(2), datetime64[ns](1), float64(14), int32(3), int64(6), object(4)\n",
      "memory usage: 3.7+ MB\n"
     ]
    }
   ],
   "source": [
    "realty_time_selling = realty[realty.loc[:,'days_exposition'].notnull()]\n",
    "realty_time_selling['days_exposition'] = realty_time_selling['days_exposition'].astype('int')\n",
    "realty_time_selling.info()"
   ]
  },
  {
   "cell_type": "markdown",
   "metadata": {},
   "source": [
    "Построим боксплот по столбцу days_exposition."
   ]
  },
  {
   "cell_type": "code",
   "execution_count": 48,
   "metadata": {},
   "outputs": [
    {
     "data": {
      "image/png": "[encoded data removed]",
      "text/plain": [
       "<Figure size 432x288 with 1 Axes>"
      ]
     },
     "metadata": {
      "needs_background": "light"
     },
     "output_type": "display_data"
    }
   ],
   "source": [
    "ax = sns.boxplot(y=realty_time_selling['days_exposition'], fliersize=2)\n",
    "ax.set_title('Количество дней размещения')\n",
    "ax.grid(alpha=0.05, linestyle='--', linewidth=1)"
   ]
  },
  {
   "cell_type": "markdown",
   "metadata": {},
   "source": [
    "Выведем среднее и медиану, установим межквартильный размах и расчитаем верхнюю границу выбросов (она же - срок очень долгой продажи)."
   ]
  },
  {
   "cell_type": "code",
   "execution_count": 50,
   "metadata": {},
   "outputs": [
    {
     "name": "stdout",
     "output_type": "stream",
     "text": [
      "count    17351.000000\n",
      "mean       169.344937\n",
      "std        207.298067\n",
      "min          1.000000\n",
      "25%         43.000000\n",
      "50%         90.000000\n",
      "75%        214.000000\n",
      "max       1580.000000\n",
      "Name: days_exposition, dtype: float64\n",
      "\n",
      "Нижняя и верхняя границы выбросов: -213.5,  470.5\n"
     ]
    }
   ],
   "source": [
    "print(realty_time_selling['days_exposition'].describe())\n",
    "print()\n",
    "\n",
    "find_outliers(realty_time_selling['days_exposition'])"
   ]
  },
  {
   "cell_type": "markdown",
   "metadata": {},
   "source": [
    "Среднее и медиана сильно отличаются друг от друга (169 и 90 дней соответственно). Это значит, что половина квартир продается за три месяца и меньше, но есть отдельные объекты, срок продажи которых крайне велик (что подтверждает максимальное значение, соответствующее 4,3 годам). Для четверти квартир требуется более 7-8 месяцев, чтобы сменить владельца. Если объявление провисело более 470 дней, то это можно назвать крайне долгой реализацией. Самые быстрые сроки продаж - не более полутора месяцев (в этот период реализуется 25% квартир).\n",
    "\n",
    "Удалим все предельные значения."
   ]
  },
  {
   "cell_type": "code",
   "execution_count": 52,
   "metadata": {},
   "outputs": [],
   "source": [
    "realty_time_selling = realty_time_selling.query('days_exposition < 470')"
   ]
  },
  {
   "cell_type": "markdown",
   "metadata": {},
   "source": [
    "Построим гистограмму частоты дней, когда объявление было доступно. Отдельной гистограммой выделим сегмент \"поспешных продаж\", когда квартиры продавались быстро."
   ]
  },
  {
   "cell_type": "code",
   "execution_count": 53,
   "metadata": {},
   "outputs": [
    {
     "data": {
      "image/png": "[encoded data removed]",
      "text/plain": [
       "<Figure size 1152x288 with 2 Axes>"
      ]
     },
     "metadata": {
      "needs_background": "light"
     },
     "output_type": "display_data"
    }
   ],
   "source": [
    "fig, ax= plt.subplots(ncols=2, figsize=(16,4))\n",
    "sns.distplot(realty_time_selling['days_exposition'], bins=200, ax=ax[0])\n",
    "sns.distplot(realty_time_selling[realty_time_selling['days_exposition'] <= 200]['days_exposition'], bins=200, ax=ax[1])\n",
    "ax[0].set(title='Количество дней в продаже')\n",
    "ax[0].grid(alpha=0.05, linestyle='--', linewidth=1)\n",
    "ax[1].set(title='Количество дней в продаже (сегмент до 200 дней)')\n",
    "ax[1].grid(alpha=0.05, linestyle='--', linewidth=1)"
   ]
  },
  {
   "cell_type": "markdown",
   "metadata": {},
   "source": [
    "График не имеет резких изломов и переходов. Однако есть значительные выступы в районе примерно 7-8, 30, 45 (очень высокий столб), 60 и 90 дней. На всякий случай, проверим, правильно ли определены значения выступов."
   ]
  },
  {
   "cell_type": "code",
   "execution_count": 54,
   "metadata": {},
   "outputs": [
    {
     "name": "stdout",
     "output_type": "stream",
     "text": [
      "45    819\n",
      "60    480\n",
      "7     206\n",
      "30    179\n",
      "4     150\n",
      "3     147\n",
      "5     132\n",
      "14    131\n",
      "44    126\n",
      "20    125\n",
      "11    125\n",
      "9     121\n",
      "8     120\n",
      "10    119\n",
      "13    118\n",
      "Name: days_exposition, dtype: int64\n"
     ]
    }
   ],
   "source": [
    "print(realty_time_selling['days_exposition'].value_counts().head(15))"
   ]
  },
  {
   "cell_type": "markdown",
   "metadata": {},
   "source": [
    "30, 60 и 90 дней - некая цикличность, которая, возможно, зависит от условий самого сервиса. Например, объявление периодически надо обновлять (или оплачивать), иначе через 30 дней оно снимается. И клиент рекламу разместил, квартиру продал, а публикацию не удалил. Вот она и висела там до автоматического удаления.\n",
    "Тем не менее остается вопрос, откуда взялся пик в районе 45 дней (вспомним, что медиана у нас равна 44 дням - очень близкое к пику значение). Есть вероятность, что в графике сокрыто даже 2 цикла (один с периодичностью 30, другой - 45), и на 90 они сошлись."
   ]
  },
  {
   "cell_type": "markdown",
   "metadata": {},
   "source": [
    "### Выявление взаимозависимостей цены за квадратный метр и рядом параметров"
   ]
  },
  {
   "cell_type": "markdown",
   "metadata": {},
   "source": [
    "Интересно оценить, как скорость продажи зависит от цены за квадратный метр."
   ]
  },
  {
   "cell_type": "code",
   "execution_count": 55,
   "metadata": {},
   "outputs": [
    {
     "data": {
      "text/html": [
       "<div>\n",
       "<style scoped>\n",
       "    .dataframe tbody tr th:only-of-type {\n",
       "        vertical-align: middle;\n",
       "    }\n",
       "\n",
       "    .dataframe tbody tr th {\n",
       "        vertical-align: top;\n",
       "    }\n",
       "\n",
       "    .dataframe thead th {\n",
       "        text-align: right;\n",
       "    }\n",
       "</style>\n",
       "<table border=\"1\" class=\"dataframe\">\n",
       "  <thead>\n",
       "    <tr style=\"text-align: right;\">\n",
       "      <th></th>\n",
       "      <th>count</th>\n",
       "      <th>mean</th>\n",
       "    </tr>\n",
       "    <tr>\n",
       "      <th>days_exposition_group</th>\n",
       "      <th></th>\n",
       "      <th></th>\n",
       "    </tr>\n",
       "  </thead>\n",
       "  <tbody>\n",
       "    <tr>\n",
       "      <th>(0.532, 94.6]</th>\n",
       "      <td>8983</td>\n",
       "      <td>92372.580256</td>\n",
       "    </tr>\n",
       "    <tr>\n",
       "      <th>(94.6, 188.2]</th>\n",
       "      <td>3470</td>\n",
       "      <td>90980.093194</td>\n",
       "    </tr>\n",
       "    <tr>\n",
       "      <th>(188.2, 281.8]</th>\n",
       "      <td>1634</td>\n",
       "      <td>89389.306443</td>\n",
       "    </tr>\n",
       "    <tr>\n",
       "      <th>(281.8, 375.4]</th>\n",
       "      <td>1032</td>\n",
       "      <td>89224.523162</td>\n",
       "    </tr>\n",
       "    <tr>\n",
       "      <th>(375.4, 469.0]</th>\n",
       "      <td>760</td>\n",
       "      <td>89182.168846</td>\n",
       "    </tr>\n",
       "  </tbody>\n",
       "</table>\n",
       "</div>"
      ],
      "text/plain": [
       "                       count          mean\n",
       "days_exposition_group                     \n",
       "(0.532, 94.6]           8983  92372.580256\n",
       "(94.6, 188.2]           3470  90980.093194\n",
       "(188.2, 281.8]          1634  89389.306443\n",
       "(281.8, 375.4]          1032  89224.523162\n",
       "(375.4, 469.0]           760  89182.168846"
      ]
     },
     "metadata": {},
     "output_type": "display_data"
    }
   ],
   "source": [
    "realty_time_selling['days_exposition_group'] = pd.cut(realty_time_selling['days_exposition'],5)\n",
    "display(realty_time_selling.groupby('days_exposition_group')['price_per_meter'].agg(['count','mean']))"
   ]
  },
  {
   "cell_type": "markdown",
   "metadata": {},
   "source": [
    "Казалось бы, чем меньше цена, тем быстрее можно продать недвижимость. Однако с ростом периода продажи средняя стоимость за квадратный метр снижается. Предположительно связано с тем, что продавцы начинают потихоньку снижать цены, если квартиру не удалось реализовать быстро.\n",
    "\n",
    "Для анализа факторов, влияющих на стоимость, создадим датафрейм с основными столбцами, где в колонке близости к центру нет отсутствующих значений. Выведем коэффициенты Пирсона."
   ]
  },
  {
   "cell_type": "code",
   "execution_count": 56,
   "metadata": {},
   "outputs": [
    {
     "data": {
      "text/html": [
       "<style  type=\"text/css\" >\n",
       "#T_568cf_row0_col0,#T_568cf_row1_col1,#T_568cf_row2_col2,#T_568cf_row3_col3,#T_568cf_row4_col4,#T_568cf_row5_col5,#T_568cf_row6_col6,#T_568cf_row7_col7,#T_568cf_row8_col8,#T_568cf_row9_col9{\n",
       "            background-color:  #b40426;\n",
       "            color:  #f1f1f1;\n",
       "        }#T_568cf_row0_col1,#T_568cf_row1_col8,#T_568cf_row5_col9{\n",
       "            background-color:  #82a6fb;\n",
       "            color:  #000000;\n",
       "        }#T_568cf_row0_col2,#T_568cf_row0_col8,#T_568cf_row3_col8,#T_568cf_row4_col8,#T_568cf_row6_col3{\n",
       "            background-color:  #7b9ff9;\n",
       "            color:  #000000;\n",
       "        }#T_568cf_row0_col3,#T_568cf_row3_col0,#T_568cf_row4_col5,#T_568cf_row4_col6,#T_568cf_row5_col1,#T_568cf_row5_col2,#T_568cf_row5_col4,#T_568cf_row8_col7,#T_568cf_row8_col9,#T_568cf_row9_col7,#T_568cf_row9_col8{\n",
       "            background-color:  #3b4cc0;\n",
       "            color:  #f1f1f1;\n",
       "        }#T_568cf_row0_col4,#T_568cf_row7_col1{\n",
       "            background-color:  #8fb1fe;\n",
       "            color:  #000000;\n",
       "        }#T_568cf_row0_col5{\n",
       "            background-color:  #f2c9b4;\n",
       "            color:  #000000;\n",
       "        }#T_568cf_row0_col6{\n",
       "            background-color:  #afcafc;\n",
       "            color:  #000000;\n",
       "        }#T_568cf_row0_col7{\n",
       "            background-color:  #4257c9;\n",
       "            color:  #f1f1f1;\n",
       "        }#T_568cf_row0_col9{\n",
       "            background-color:  #a6c4fe;\n",
       "            color:  #000000;\n",
       "        }#T_568cf_row1_col0,#T_568cf_row2_col3{\n",
       "            background-color:  #8caffe;\n",
       "            color:  #000000;\n",
       "        }#T_568cf_row1_col2{\n",
       "            background-color:  #df634e;\n",
       "            color:  #000000;\n",
       "        }#T_568cf_row1_col3{\n",
       "            background-color:  #7ea1fa;\n",
       "            color:  #000000;\n",
       "        }#T_568cf_row1_col4{\n",
       "            background-color:  #e8d6cc;\n",
       "            color:  #000000;\n",
       "        }#T_568cf_row1_col5,#T_568cf_row2_col8{\n",
       "            background-color:  #81a4fb;\n",
       "            color:  #000000;\n",
       "        }#T_568cf_row1_col6{\n",
       "            background-color:  #adc9fd;\n",
       "            color:  #000000;\n",
       "        }#T_568cf_row1_col7,#T_568cf_row5_col7{\n",
       "            background-color:  #4055c8;\n",
       "            color:  #f1f1f1;\n",
       "        }#T_568cf_row1_col9{\n",
       "            background-color:  #6f92f3;\n",
       "            color:  #000000;\n",
       "        }#T_568cf_row2_col0{\n",
       "            background-color:  #5673e0;\n",
       "            color:  #000000;\n",
       "        }#T_568cf_row2_col1{\n",
       "            background-color:  #e46e56;\n",
       "            color:  #000000;\n",
       "        }#T_568cf_row2_col4{\n",
       "            background-color:  #f59c7d;\n",
       "            color:  #000000;\n",
       "        }#T_568cf_row2_col5,#T_568cf_row6_col9{\n",
       "            background-color:  #516ddb;\n",
       "            color:  #000000;\n",
       "        }#T_568cf_row2_col6{\n",
       "            background-color:  #6788ee;\n",
       "            color:  #000000;\n",
       "        }#T_568cf_row2_col7{\n",
       "            background-color:  #4358cb;\n",
       "            color:  #f1f1f1;\n",
       "        }#T_568cf_row2_col9,#T_568cf_row7_col8{\n",
       "            background-color:  #799cf8;\n",
       "            color:  #000000;\n",
       "        }#T_568cf_row3_col1{\n",
       "            background-color:  #7597f6;\n",
       "            color:  #000000;\n",
       "        }#T_568cf_row3_col2,#T_568cf_row6_col2{\n",
       "            background-color:  #abc8fd;\n",
       "            color:  #000000;\n",
       "        }#T_568cf_row3_col4,#T_568cf_row8_col5{\n",
       "            background-color:  #c7d7f0;\n",
       "            color:  #000000;\n",
       "        }#T_568cf_row3_col5{\n",
       "            background-color:  #c3d5f4;\n",
       "            color:  #000000;\n",
       "        }#T_568cf_row3_col6{\n",
       "            background-color:  #5572df;\n",
       "            color:  #000000;\n",
       "        }#T_568cf_row3_col7{\n",
       "            background-color:  #465ecf;\n",
       "            color:  #f1f1f1;\n",
       "        }#T_568cf_row3_col9,#T_568cf_row4_col9,#T_568cf_row6_col8{\n",
       "            background-color:  #85a8fc;\n",
       "            color:  #000000;\n",
       "        }#T_568cf_row4_col0{\n",
       "            background-color:  #5470de;\n",
       "            color:  #000000;\n",
       "        }#T_568cf_row4_col1{\n",
       "            background-color:  #c5d6f2;\n",
       "            color:  #000000;\n",
       "        }#T_568cf_row4_col2{\n",
       "            background-color:  #f6a586;\n",
       "            color:  #000000;\n",
       "        }#T_568cf_row4_col3,#T_568cf_row6_col4,#T_568cf_row7_col0{\n",
       "            background-color:  #9abbff;\n",
       "            color:  #000000;\n",
       "        }#T_568cf_row4_col7{\n",
       "            background-color:  #445acc;\n",
       "            color:  #f1f1f1;\n",
       "        }#T_568cf_row5_col0{\n",
       "            background-color:  #e0dbd8;\n",
       "            color:  #000000;\n",
       "        }#T_568cf_row5_col3{\n",
       "            background-color:  #94b6ff;\n",
       "            color:  #000000;\n",
       "        }#T_568cf_row5_col6{\n",
       "            background-color:  #b6cefa;\n",
       "            color:  #000000;\n",
       "        }#T_568cf_row5_col8,#T_568cf_row9_col1{\n",
       "            background-color:  #80a3fa;\n",
       "            color:  #000000;\n",
       "        }#T_568cf_row6_col0,#T_568cf_row7_col4,#T_568cf_row9_col5{\n",
       "            background-color:  #c9d7f0;\n",
       "            color:  #000000;\n",
       "        }#T_568cf_row6_col1{\n",
       "            background-color:  #c0d4f5;\n",
       "            color:  #000000;\n",
       "        }#T_568cf_row6_col5{\n",
       "            background-color:  #e9d5cb;\n",
       "            color:  #000000;\n",
       "        }#T_568cf_row6_col7{\n",
       "            background-color:  #3f53c6;\n",
       "            color:  #f1f1f1;\n",
       "        }#T_568cf_row7_col2,#T_568cf_row8_col2{\n",
       "            background-color:  #b9d0f9;\n",
       "            color:  #000000;\n",
       "        }#T_568cf_row7_col3{\n",
       "            background-color:  #9ebeff;\n",
       "            color:  #000000;\n",
       "        }#T_568cf_row7_col5{\n",
       "            background-color:  #c6d6f1;\n",
       "            color:  #000000;\n",
       "        }#T_568cf_row7_col6{\n",
       "            background-color:  #7699f6;\n",
       "            color:  #000000;\n",
       "        }#T_568cf_row7_col9{\n",
       "            background-color:  #7a9df8;\n",
       "            color:  #000000;\n",
       "        }#T_568cf_row8_col0,#T_568cf_row8_col3{\n",
       "            background-color:  #96b7ff;\n",
       "            color:  #000000;\n",
       "        }#T_568cf_row8_col1{\n",
       "            background-color:  #93b5fe;\n",
       "            color:  #000000;\n",
       "        }#T_568cf_row8_col4{\n",
       "            background-color:  #c4d5f3;\n",
       "            color:  #000000;\n",
       "        }#T_568cf_row8_col6{\n",
       "            background-color:  #7da0f9;\n",
       "            color:  #000000;\n",
       "        }#T_568cf_row9_col0{\n",
       "            background-color:  #bcd2f7;\n",
       "            color:  #000000;\n",
       "        }#T_568cf_row9_col2{\n",
       "            background-color:  #b2ccfb;\n",
       "            color:  #000000;\n",
       "        }#T_568cf_row9_col3{\n",
       "            background-color:  #9fbfff;\n",
       "            color:  #000000;\n",
       "        }#T_568cf_row9_col4{\n",
       "            background-color:  #cad8ef;\n",
       "            color:  #000000;\n",
       "        }#T_568cf_row9_col6{\n",
       "            background-color:  #485fd1;\n",
       "            color:  #f1f1f1;\n",
       "        }</style><table id=\"T_568cf_\" ><thead>    <tr>        <th class=\"blank level0\" ></th>        <th class=\"col_heading level0 col0\" >price_per_meter</th>        <th class=\"col_heading level0 col1\" >total_area</th>        <th class=\"col_heading level0 col2\" >rooms</th>        <th class=\"col_heading level0 col3\" >city_centers_nearest</th>        <th class=\"col_heading level0 col4\" >room_ratio</th>        <th class=\"col_heading level0 col5\" >kitchen_ratio</th>        <th class=\"col_heading level0 col6\" >ceiling_height</th>        <th class=\"col_heading level0 col7\" >data_exposition</th>        <th class=\"col_heading level0 col8\" >month_exposition</th>        <th class=\"col_heading level0 col9\" >year_exposition</th>    </tr></thead><tbody>\n",
       "                <tr>\n",
       "                        <th id=\"T_568cf_level0_row0\" class=\"row_heading level0 row0\" >price_per_meter</th>\n",
       "                        <td id=\"T_568cf_row0_col0\" class=\"data row0 col0\" >1.000000</td>\n",
       "                        <td id=\"T_568cf_row0_col1\" class=\"data row0 col1\" >-0.055747</td>\n",
       "                        <td id=\"T_568cf_row0_col2\" class=\"data row0 col2\" >-0.273345</td>\n",
       "                        <td id=\"T_568cf_row0_col3\" class=\"data row0 col3\" >-0.404099</td>\n",
       "                        <td id=\"T_568cf_row0_col4\" class=\"data row0 col4\" >-0.287645</td>\n",
       "                        <td id=\"T_568cf_row0_col5\" class=\"data row0 col5\" >0.319741</td>\n",
       "                        <td id=\"T_568cf_row0_col6\" class=\"data row0 col6\" >0.196369</td>\n",
       "                        <td id=\"T_568cf_row0_col7\" class=\"data row0 col7\" >0.000089</td>\n",
       "                        <td id=\"T_568cf_row0_col8\" class=\"data row0 col8\" >-0.015554</td>\n",
       "                        <td id=\"T_568cf_row0_col9\" class=\"data row0 col9\" >0.139510</td>\n",
       "            </tr>\n",
       "            <tr>\n",
       "                        <th id=\"T_568cf_level0_row1\" class=\"row_heading level0 row1\" >total_area</th>\n",
       "                        <td id=\"T_568cf_row1_col0\" class=\"data row1 col0\" >-0.055747</td>\n",
       "                        <td id=\"T_568cf_row1_col1\" class=\"data row1 col1\" >1.000000</td>\n",
       "                        <td id=\"T_568cf_row1_col2\" class=\"data row1 col2\" >0.788949</td>\n",
       "                        <td id=\"T_568cf_row1_col3\" class=\"data row1 col3\" >-0.109392</td>\n",
       "                        <td id=\"T_568cf_row1_col4\" class=\"data row1 col4\" >0.212531</td>\n",
       "                        <td id=\"T_568cf_row1_col5\" class=\"data row1 col5\" >-0.352858</td>\n",
       "                        <td id=\"T_568cf_row1_col6\" class=\"data row1 col6\" >0.186279</td>\n",
       "                        <td id=\"T_568cf_row1_col7\" class=\"data row1 col7\" >-0.004200</td>\n",
       "                        <td id=\"T_568cf_row1_col8\" class=\"data row1 col8\" >0.010135</td>\n",
       "                        <td id=\"T_568cf_row1_col9\" class=\"data row1 col9\" >-0.062278</td>\n",
       "            </tr>\n",
       "            <tr>\n",
       "                        <th id=\"T_568cf_level0_row2\" class=\"row_heading level0 row2\" >rooms</th>\n",
       "                        <td id=\"T_568cf_row2_col0\" class=\"data row2 col0\" >-0.273345</td>\n",
       "                        <td id=\"T_568cf_row2_col1\" class=\"data row2 col1\" >0.788949</td>\n",
       "                        <td id=\"T_568cf_row2_col2\" class=\"data row2 col2\" >1.000000</td>\n",
       "                        <td id=\"T_568cf_row2_col3\" class=\"data row2 col3\" >-0.055089</td>\n",
       "                        <td id=\"T_568cf_row2_col4\" class=\"data row2 col4\" >0.555088</td>\n",
       "                        <td id=\"T_568cf_row2_col5\" class=\"data row2 col5\" >-0.597745</td>\n",
       "                        <td id=\"T_568cf_row2_col6\" class=\"data row2 col6\" >-0.056598</td>\n",
       "                        <td id=\"T_568cf_row2_col7\" class=\"data row2 col7\" >0.002338</td>\n",
       "                        <td id=\"T_568cf_row2_col8\" class=\"data row2 col8\" >0.001532</td>\n",
       "                        <td id=\"T_568cf_row2_col9\" class=\"data row2 col9\" >-0.027316</td>\n",
       "            </tr>\n",
       "            <tr>\n",
       "                        <th id=\"T_568cf_level0_row3\" class=\"row_heading level0 row3\" >city_centers_nearest</th>\n",
       "                        <td id=\"T_568cf_row3_col0\" class=\"data row3 col0\" >-0.404099</td>\n",
       "                        <td id=\"T_568cf_row3_col1\" class=\"data row3 col1\" >-0.109392</td>\n",
       "                        <td id=\"T_568cf_row3_col2\" class=\"data row3 col2\" >-0.055089</td>\n",
       "                        <td id=\"T_568cf_row3_col3\" class=\"data row3 col3\" >1.000000</td>\n",
       "                        <td id=\"T_568cf_row3_col4\" class=\"data row3 col4\" >-0.000271</td>\n",
       "                        <td id=\"T_568cf_row3_col5\" class=\"data row3 col5\" >-0.021561</td>\n",
       "                        <td id=\"T_568cf_row3_col6\" class=\"data row3 col6\" >-0.123447</td>\n",
       "                        <td id=\"T_568cf_row3_col7\" class=\"data row3 col7\" >0.013633</td>\n",
       "                        <td id=\"T_568cf_row3_col8\" class=\"data row3 col8\" >-0.017627</td>\n",
       "                        <td id=\"T_568cf_row3_col9\" class=\"data row3 col9\" >0.019957</td>\n",
       "            </tr>\n",
       "            <tr>\n",
       "                        <th id=\"T_568cf_level0_row4\" class=\"row_heading level0 row4\" >room_ratio</th>\n",
       "                        <td id=\"T_568cf_row4_col0\" class=\"data row4 col0\" >-0.287645</td>\n",
       "                        <td id=\"T_568cf_row4_col1\" class=\"data row4 col1\" >0.212531</td>\n",
       "                        <td id=\"T_568cf_row4_col2\" class=\"data row4 col2\" >0.555088</td>\n",
       "                        <td id=\"T_568cf_row4_col3\" class=\"data row4 col3\" >-0.000271</td>\n",
       "                        <td id=\"T_568cf_row4_col4\" class=\"data row4 col4\" >1.000000</td>\n",
       "                        <td id=\"T_568cf_row4_col5\" class=\"data row4 col5\" >-0.731034</td>\n",
       "                        <td id=\"T_568cf_row4_col6\" class=\"data row4 col6\" >-0.234137</td>\n",
       "                        <td id=\"T_568cf_row4_col7\" class=\"data row4 col7\" >0.006101</td>\n",
       "                        <td id=\"T_568cf_row4_col8\" class=\"data row4 col8\" >-0.015045</td>\n",
       "                        <td id=\"T_568cf_row4_col9\" class=\"data row4 col9\" >0.017416</td>\n",
       "            </tr>\n",
       "            <tr>\n",
       "                        <th id=\"T_568cf_level0_row5\" class=\"row_heading level0 row5\" >kitchen_ratio</th>\n",
       "                        <td id=\"T_568cf_row5_col0\" class=\"data row5 col0\" >0.319741</td>\n",
       "                        <td id=\"T_568cf_row5_col1\" class=\"data row5 col1\" >-0.352858</td>\n",
       "                        <td id=\"T_568cf_row5_col2\" class=\"data row5 col2\" >-0.597745</td>\n",
       "                        <td id=\"T_568cf_row5_col3\" class=\"data row5 col3\" >-0.021561</td>\n",
       "                        <td id=\"T_568cf_row5_col4\" class=\"data row5 col4\" >-0.731034</td>\n",
       "                        <td id=\"T_568cf_row5_col5\" class=\"data row5 col5\" >1.000000</td>\n",
       "                        <td id=\"T_568cf_row5_col6\" class=\"data row5 col6\" >0.220091</td>\n",
       "                        <td id=\"T_568cf_row5_col7\" class=\"data row5 col7\" >-0.002829</td>\n",
       "                        <td id=\"T_568cf_row5_col8\" class=\"data row5 col8\" >-0.000171</td>\n",
       "                        <td id=\"T_568cf_row5_col9\" class=\"data row5 col9\" >0.006112</td>\n",
       "            </tr>\n",
       "            <tr>\n",
       "                        <th id=\"T_568cf_level0_row6\" class=\"row_heading level0 row6\" >ceiling_height</th>\n",
       "                        <td id=\"T_568cf_row6_col0\" class=\"data row6 col0\" >0.196369</td>\n",
       "                        <td id=\"T_568cf_row6_col1\" class=\"data row6 col1\" >0.186279</td>\n",
       "                        <td id=\"T_568cf_row6_col2\" class=\"data row6 col2\" >-0.056598</td>\n",
       "                        <td id=\"T_568cf_row6_col3\" class=\"data row6 col3\" >-0.123447</td>\n",
       "                        <td id=\"T_568cf_row6_col4\" class=\"data row6 col4\" >-0.234137</td>\n",
       "                        <td id=\"T_568cf_row6_col5\" class=\"data row6 col5\" >0.220091</td>\n",
       "                        <td id=\"T_568cf_row6_col6\" class=\"data row6 col6\" >1.000000</td>\n",
       "                        <td id=\"T_568cf_row6_col7\" class=\"data row6 col7\" >-0.007336</td>\n",
       "                        <td id=\"T_568cf_row6_col8\" class=\"data row6 col8\" >0.019799</td>\n",
       "                        <td id=\"T_568cf_row6_col9\" class=\"data row6 col9\" >-0.177000</td>\n",
       "            </tr>\n",
       "            <tr>\n",
       "                        <th id=\"T_568cf_level0_row7\" class=\"row_heading level0 row7\" >data_exposition</th>\n",
       "                        <td id=\"T_568cf_row7_col0\" class=\"data row7 col0\" >0.000089</td>\n",
       "                        <td id=\"T_568cf_row7_col1\" class=\"data row7 col1\" >-0.004200</td>\n",
       "                        <td id=\"T_568cf_row7_col2\" class=\"data row7 col2\" >0.002338</td>\n",
       "                        <td id=\"T_568cf_row7_col3\" class=\"data row7 col3\" >0.013633</td>\n",
       "                        <td id=\"T_568cf_row7_col4\" class=\"data row7 col4\" >0.006101</td>\n",
       "                        <td id=\"T_568cf_row7_col5\" class=\"data row7 col5\" >-0.002829</td>\n",
       "                        <td id=\"T_568cf_row7_col6\" class=\"data row7 col6\" >-0.007336</td>\n",
       "                        <td id=\"T_568cf_row7_col7\" class=\"data row7 col7\" >1.000000</td>\n",
       "                        <td id=\"T_568cf_row7_col8\" class=\"data row7 col8\" >-0.026749</td>\n",
       "                        <td id=\"T_568cf_row7_col9\" class=\"data row7 col9\" >-0.023253</td>\n",
       "            </tr>\n",
       "            <tr>\n",
       "                        <th id=\"T_568cf_level0_row8\" class=\"row_heading level0 row8\" >month_exposition</th>\n",
       "                        <td id=\"T_568cf_row8_col0\" class=\"data row8 col0\" >-0.015554</td>\n",
       "                        <td id=\"T_568cf_row8_col1\" class=\"data row8 col1\" >0.010135</td>\n",
       "                        <td id=\"T_568cf_row8_col2\" class=\"data row8 col2\" >0.001532</td>\n",
       "                        <td id=\"T_568cf_row8_col3\" class=\"data row8 col3\" >-0.017627</td>\n",
       "                        <td id=\"T_568cf_row8_col4\" class=\"data row8 col4\" >-0.015045</td>\n",
       "                        <td id=\"T_568cf_row8_col5\" class=\"data row8 col5\" >-0.000171</td>\n",
       "                        <td id=\"T_568cf_row8_col6\" class=\"data row8 col6\" >0.019799</td>\n",
       "                        <td id=\"T_568cf_row8_col7\" class=\"data row8 col7\" >-0.026749</td>\n",
       "                        <td id=\"T_568cf_row8_col8\" class=\"data row8 col8\" >1.000000</td>\n",
       "                        <td id=\"T_568cf_row8_col9\" class=\"data row8 col9\" >-0.272424</td>\n",
       "            </tr>\n",
       "            <tr>\n",
       "                        <th id=\"T_568cf_level0_row9\" class=\"row_heading level0 row9\" >year_exposition</th>\n",
       "                        <td id=\"T_568cf_row9_col0\" class=\"data row9 col0\" >0.139510</td>\n",
       "                        <td id=\"T_568cf_row9_col1\" class=\"data row9 col1\" >-0.062278</td>\n",
       "                        <td id=\"T_568cf_row9_col2\" class=\"data row9 col2\" >-0.027316</td>\n",
       "                        <td id=\"T_568cf_row9_col3\" class=\"data row9 col3\" >0.019957</td>\n",
       "                        <td id=\"T_568cf_row9_col4\" class=\"data row9 col4\" >0.017416</td>\n",
       "                        <td id=\"T_568cf_row9_col5\" class=\"data row9 col5\" >0.006112</td>\n",
       "                        <td id=\"T_568cf_row9_col6\" class=\"data row9 col6\" >-0.177000</td>\n",
       "                        <td id=\"T_568cf_row9_col7\" class=\"data row9 col7\" >-0.023253</td>\n",
       "                        <td id=\"T_568cf_row9_col8\" class=\"data row9 col8\" >-0.272424</td>\n",
       "                        <td id=\"T_568cf_row9_col9\" class=\"data row9 col9\" >1.000000</td>\n",
       "            </tr>\n",
       "    </tbody></table>"
      ],
      "text/plain": [
       "<pandas.io.formats.style.Styler at 0x227fd7b4400>"
      ]
     },
     "execution_count": 56,
     "metadata": {},
     "output_type": "execute_result"
    }
   ],
   "source": [
    "realty_corr = pd.DataFrame(data = realty[realty['city_centers_nearest'].notnull()], columns = ['price_per_meter', 'total_area', 'rooms', 'city_centers_nearest', 'room_ratio', 'kitchen_ratio', 'ceiling_height','data_exposition','month_exposition', 'year_exposition'])\n",
    "realty_corr.corr().style.background_gradient(cmap='coolwarm')"
   ]
  },
  {
   "cell_type": "markdown",
   "metadata": {},
   "source": [
    "Стоимость одного квадратного метра имеет незначительную отрицательную корреляцию с общей площадью и слабую отрицательную с количеством комнат (здесь ничего необычного: чем больше помещений, тем дешевле квадратный метр).\n",
    "\n",
    "Значение имеет и площадь кухни: ее величина способствует повышению цены. Выявлена небольшая отрицательная корреляция с жилой площадью: видимо, чем больше комнат, тем дешевле квадратный метр.\n",
    "\n",
    "Удивительно, но близость к центру отрицательно сказывается на стоимости объекта. Возможно, результат объясняется тем, что в центре Петербурга много коммунальных квартир и старого жилья, требующего больших финансовых вложений. Т.е. имеется ряд факторов (влияющих на ценообразование, но не присутствующих в датасете), проявляющихся вот таким вот образом. Вдобавок необходимо учитывать, что в наборе данных кроме Санкт-Петербурга есть много других городов со своим понятием центра. Например, в центре Выборга квартира может стоить дороже, чем в поселке Первомайское, хотя Выборг находится дальше от центра Петербурга, чем искомый поселок.\n",
    "\n",
    "Есть также небольшая положительная корреляция стоимости жилья с высотой потолков и годом продажи. Влияние месяца и даты на цену можно опустить."
   ]
  },
  {
   "cell_type": "markdown",
   "metadata": {},
   "source": [
    "Проверим на реальных данных, действительно ли имеется взаимосвязь цены и высоты потолков или это \"эффект замены пропусков\"."
   ]
  },
  {
   "cell_type": "code",
   "execution_count": 57,
   "metadata": {},
   "outputs": [
    {
     "data": {
      "text/html": [
       "<style  type=\"text/css\" >\n",
       "#T_38192_row0_col0,#T_38192_row1_col1,#T_38192_row2_col2,#T_38192_row3_col3,#T_38192_row4_col4,#T_38192_row5_col5{\n",
       "            background-color:  #b40426;\n",
       "            color:  #f1f1f1;\n",
       "        }#T_38192_row0_col1,#T_38192_row1_col2{\n",
       "            background-color:  #f08b6e;\n",
       "            color:  #000000;\n",
       "        }#T_38192_row0_col2{\n",
       "            background-color:  #d9dce1;\n",
       "            color:  #000000;\n",
       "        }#T_38192_row0_col3{\n",
       "            background-color:  #e2dad5;\n",
       "            color:  #000000;\n",
       "        }#T_38192_row0_col4{\n",
       "            background-color:  #5673e0;\n",
       "            color:  #000000;\n",
       "        }#T_38192_row0_col5{\n",
       "            background-color:  #f59c7d;\n",
       "            color:  #000000;\n",
       "        }#T_38192_row1_col0{\n",
       "            background-color:  #ee8669;\n",
       "            color:  #000000;\n",
       "        }#T_38192_row1_col3,#T_38192_row3_col5{\n",
       "            background-color:  #e8d6cc;\n",
       "            color:  #000000;\n",
       "        }#T_38192_row1_col4{\n",
       "            background-color:  #6282ea;\n",
       "            color:  #000000;\n",
       "        }#T_38192_row1_col5{\n",
       "            background-color:  #ccd9ed;\n",
       "            color:  #000000;\n",
       "        }#T_38192_row2_col0{\n",
       "            background-color:  #e4d9d2;\n",
       "            color:  #000000;\n",
       "        }#T_38192_row2_col1{\n",
       "            background-color:  #ef886b;\n",
       "            color:  #000000;\n",
       "        }#T_38192_row2_col3{\n",
       "            background-color:  #b9d0f9;\n",
       "            color:  #000000;\n",
       "        }#T_38192_row2_col4{\n",
       "            background-color:  #6f92f3;\n",
       "            color:  #000000;\n",
       "        }#T_38192_row2_col5{\n",
       "            background-color:  #90b2fe;\n",
       "            color:  #000000;\n",
       "        }#T_38192_row3_col0{\n",
       "            background-color:  #dadce0;\n",
       "            color:  #000000;\n",
       "        }#T_38192_row3_col1{\n",
       "            background-color:  #dbdcde;\n",
       "            color:  #000000;\n",
       "        }#T_38192_row3_col2{\n",
       "            background-color:  #97b8ff;\n",
       "            color:  #000000;\n",
       "        }#T_38192_row3_col4{\n",
       "            background-color:  #445acc;\n",
       "            color:  #f1f1f1;\n",
       "        }#T_38192_row4_col0,#T_38192_row4_col1,#T_38192_row4_col2,#T_38192_row4_col3,#T_38192_row4_col5,#T_38192_row5_col4{\n",
       "            background-color:  #3b4cc0;\n",
       "            color:  #f1f1f1;\n",
       "        }#T_38192_row5_col0{\n",
       "            background-color:  #f7a688;\n",
       "            color:  #000000;\n",
       "        }#T_38192_row5_col1{\n",
       "            background-color:  #b2ccfb;\n",
       "            color:  #000000;\n",
       "        }#T_38192_row5_col2{\n",
       "            background-color:  #5d7ce6;\n",
       "            color:  #000000;\n",
       "        }#T_38192_row5_col3{\n",
       "            background-color:  #e3d9d3;\n",
       "            color:  #000000;\n",
       "        }</style><table id=\"T_38192_\" ><thead>    <tr>        <th class=\"blank level0\" ></th>        <th class=\"col_heading level0 col0\" >last_price</th>        <th class=\"col_heading level0 col1\" >total_area</th>        <th class=\"col_heading level0 col2\" >rooms</th>        <th class=\"col_heading level0 col3\" >ceiling_height</th>        <th class=\"col_heading level0 col4\" >city_centers_nearest</th>        <th class=\"col_heading level0 col5\" >price_per_meter</th>    </tr></thead><tbody>\n",
       "                <tr>\n",
       "                        <th id=\"T_38192_level0_row0\" class=\"row_heading level0 row0\" >last_price</th>\n",
       "                        <td id=\"T_38192_row0_col0\" class=\"data row0 col0\" >1.000000</td>\n",
       "                        <td id=\"T_38192_row0_col1\" class=\"data row0 col1\" >0.744849</td>\n",
       "                        <td id=\"T_38192_row0_col2\" class=\"data row0 col2\" >0.417415</td>\n",
       "                        <td id=\"T_38192_row0_col3\" class=\"data row0 col3\" >0.370178</td>\n",
       "                        <td id=\"T_38192_row0_col4\" class=\"data row0 col4\" >-0.233219</td>\n",
       "                        <td id=\"T_38192_row0_col5\" class=\"data row0 col5\" >0.651577</td>\n",
       "            </tr>\n",
       "            <tr>\n",
       "                        <th id=\"T_38192_level0_row1\" class=\"row_heading level0 row1\" >total_area</th>\n",
       "                        <td id=\"T_38192_row1_col0\" class=\"data row1 col0\" >0.744849</td>\n",
       "                        <td id=\"T_38192_row1_col1\" class=\"data row1 col1\" >1.000000</td>\n",
       "                        <td id=\"T_38192_row1_col2\" class=\"data row1 col2\" >0.752585</td>\n",
       "                        <td id=\"T_38192_row1_col3\" class=\"data row1 col3\" >0.400985</td>\n",
       "                        <td id=\"T_38192_row1_col4\" class=\"data row1 col4\" >-0.186797</td>\n",
       "                        <td id=\"T_38192_row1_col5\" class=\"data row1 col5\" >0.239032</td>\n",
       "            </tr>\n",
       "            <tr>\n",
       "                        <th id=\"T_38192_level0_row2\" class=\"row_heading level0 row2\" >rooms</th>\n",
       "                        <td id=\"T_38192_row2_col0\" class=\"data row2 col0\" >0.417415</td>\n",
       "                        <td id=\"T_38192_row2_col1\" class=\"data row2 col1\" >0.752585</td>\n",
       "                        <td id=\"T_38192_row2_col2\" class=\"data row2 col2\" >1.000000</td>\n",
       "                        <td id=\"T_38192_row2_col3\" class=\"data row2 col3\" >0.184734</td>\n",
       "                        <td id=\"T_38192_row2_col4\" class=\"data row2 col4\" >-0.131452</td>\n",
       "                        <td id=\"T_38192_row2_col5\" class=\"data row2 col5\" >-0.007052</td>\n",
       "            </tr>\n",
       "            <tr>\n",
       "                        <th id=\"T_38192_level0_row3\" class=\"row_heading level0 row3\" >ceiling_height</th>\n",
       "                        <td id=\"T_38192_row3_col0\" class=\"data row3 col0\" >0.370178</td>\n",
       "                        <td id=\"T_38192_row3_col1\" class=\"data row3 col1\" >0.400985</td>\n",
       "                        <td id=\"T_38192_row3_col2\" class=\"data row3 col2\" >0.184734</td>\n",
       "                        <td id=\"T_38192_row3_col3\" class=\"data row3 col3\" >1.000000</td>\n",
       "                        <td id=\"T_38192_row3_col4\" class=\"data row3 col4\" >-0.312592</td>\n",
       "                        <td id=\"T_38192_row3_col5\" class=\"data row3 col5\" >0.379272</td>\n",
       "            </tr>\n",
       "            <tr>\n",
       "                        <th id=\"T_38192_level0_row4\" class=\"row_heading level0 row4\" >city_centers_nearest</th>\n",
       "                        <td id=\"T_38192_row4_col0\" class=\"data row4 col0\" >-0.233219</td>\n",
       "                        <td id=\"T_38192_row4_col1\" class=\"data row4 col1\" >-0.186797</td>\n",
       "                        <td id=\"T_38192_row4_col2\" class=\"data row4 col2\" >-0.131452</td>\n",
       "                        <td id=\"T_38192_row4_col3\" class=\"data row4 col3\" >-0.312592</td>\n",
       "                        <td id=\"T_38192_row4_col4\" class=\"data row4 col4\" >1.000000</td>\n",
       "                        <td id=\"T_38192_row4_col5\" class=\"data row4 col5\" >-0.359490</td>\n",
       "            </tr>\n",
       "            <tr>\n",
       "                        <th id=\"T_38192_level0_row5\" class=\"row_heading level0 row5\" >price_per_meter</th>\n",
       "                        <td id=\"T_38192_row5_col0\" class=\"data row5 col0\" >0.651577</td>\n",
       "                        <td id=\"T_38192_row5_col1\" class=\"data row5 col1\" >0.239032</td>\n",
       "                        <td id=\"T_38192_row5_col2\" class=\"data row5 col2\" >-0.007052</td>\n",
       "                        <td id=\"T_38192_row5_col3\" class=\"data row5 col3\" >0.379272</td>\n",
       "                        <td id=\"T_38192_row5_col4\" class=\"data row5 col4\" >-0.359490</td>\n",
       "                        <td id=\"T_38192_row5_col5\" class=\"data row5 col5\" >1.000000</td>\n",
       "            </tr>\n",
       "    </tbody></table>"
      ],
      "text/plain": [
       "<pandas.io.formats.style.Styler at 0x227fd6ebe80>"
      ]
     },
     "execution_count": 57,
     "metadata": {},
     "output_type": "execute_result"
    }
   ],
   "source": [
    "ceil_real.loc[:,'price_per_meter'] = ceil_real.loc[:,'last_price'] / ceil_real.loc[:,'total_area']\n",
    "ceil_real.corr().style.background_gradient(cmap='coolwarm')"
   ]
  },
  {
   "cell_type": "markdown",
   "metadata": {},
   "source": [
    "Корреляция оказалась даже более сильной. Чем выше потолок, тем дороже будет стоить квартира."
   ]
  },
  {
   "cell_type": "markdown",
   "metadata": {},
   "source": [
    "Проверим, как именно меняется цена в зависимости от количества комнат."
   ]
  },
  {
   "cell_type": "code",
   "execution_count": 58,
   "metadata": {},
   "outputs": [
    {
     "data": {
      "text/html": [
       "<div>\n",
       "<style scoped>\n",
       "    .dataframe tbody tr th:only-of-type {\n",
       "        vertical-align: middle;\n",
       "    }\n",
       "\n",
       "    .dataframe tbody tr th {\n",
       "        vertical-align: top;\n",
       "    }\n",
       "\n",
       "    .dataframe thead th {\n",
       "        text-align: right;\n",
       "    }\n",
       "</style>\n",
       "<table border=\"1\" class=\"dataframe\">\n",
       "  <thead>\n",
       "    <tr style=\"text-align: right;\">\n",
       "      <th></th>\n",
       "      <th>price_per_meter</th>\n",
       "      <th>total_area</th>\n",
       "    </tr>\n",
       "    <tr>\n",
       "      <th>rooms</th>\n",
       "      <th></th>\n",
       "      <th></th>\n",
       "    </tr>\n",
       "  </thead>\n",
       "  <tbody>\n",
       "    <tr>\n",
       "      <th>0</th>\n",
       "      <td>117555.336838</td>\n",
       "      <td>27.767238</td>\n",
       "    </tr>\n",
       "    <tr>\n",
       "      <th>1</th>\n",
       "      <td>107853.708937</td>\n",
       "      <td>37.529591</td>\n",
       "    </tr>\n",
       "    <tr>\n",
       "      <th>2</th>\n",
       "      <td>100829.107358</td>\n",
       "      <td>54.879207</td>\n",
       "    </tr>\n",
       "    <tr>\n",
       "      <th>3</th>\n",
       "      <td>94322.864744</td>\n",
       "      <td>72.245443</td>\n",
       "    </tr>\n",
       "    <tr>\n",
       "      <th>4</th>\n",
       "      <td>87976.371895</td>\n",
       "      <td>81.867495</td>\n",
       "    </tr>\n",
       "    <tr>\n",
       "      <th>5</th>\n",
       "      <td>89789.932645</td>\n",
       "      <td>95.232258</td>\n",
       "    </tr>\n",
       "    <tr>\n",
       "      <th>6</th>\n",
       "      <td>97497.332636</td>\n",
       "      <td>104.500000</td>\n",
       "    </tr>\n",
       "  </tbody>\n",
       "</table>\n",
       "</div>"
      ],
      "text/plain": [
       "       price_per_meter  total_area\n",
       "rooms                             \n",
       "0        117555.336838   27.767238\n",
       "1        107853.708937   37.529591\n",
       "2        100829.107358   54.879207\n",
       "3         94322.864744   72.245443\n",
       "4         87976.371895   81.867495\n",
       "5         89789.932645   95.232258\n",
       "6         97497.332636  104.500000"
      ]
     },
     "metadata": {},
     "output_type": "display_data"
    }
   ],
   "source": [
    "display(realty_corr.pivot_table(index='rooms', values=['total_area','price_per_meter']))"
   ]
  },
  {
   "cell_type": "markdown",
   "metadata": {},
   "source": [
    "Можно сделать вывод, что стоимость квадратного метра уменьшается с ростом числа комнат. Но до определенного момента. Когда объект становится очень большим и переходит в разряд элитной недвижимости, то его цена резко возрастает. Видимо, здесь играют роль дополнительные факторы вроде дорогой отделки, дизайнерской мебели и пр.\n",
    "\n",
    "Посмотрим, как тип этажа влияет на стоимость объекта."
   ]
  },
  {
   "cell_type": "code",
   "execution_count": 59,
   "metadata": {},
   "outputs": [
    {
     "name": "stdout",
     "output_type": "stream",
     "text": [
      "            price_per_meter\n",
      "floor_type                 \n",
      "другой         95549.807805\n",
      "первый         78181.736139\n",
      "последний      82489.996986\n"
     ]
    }
   ],
   "source": [
    "print(realty.pivot_table(index='floor_type', values='price_per_meter'))"
   ]
  },
  {
   "cell_type": "markdown",
   "metadata": {},
   "source": [
    "Как и ожидалось, меньше всего ценятся квартиры на первом этаже. Скорее всего, из-за опасения квартирных краж, холодного пола или просто любопытных глаз прохожих. Чуть лучше обстоят дела с недвижимостью на последних этажах. Видимо, вид из окна красивый, да и соседи сверху не будут катать большой металлический шар по потолку. Но в лидеры рейтинга верхний этаж не вышел, вероятно, из-за устоявшегося в обществе мнения о ненадежности сантехнической инфраструктуры на чердаках и вечно протекающей кровли. Плюс не все дома оборудованы лифтом, что особенно актуально для лиц с ограниченными возможностями или мам с колясками. А самые дорогие - все некрайние этажи.\n",
    "\n",
    "Попробуем установить характер взаимосвязи между стоимостью жилья и месяцем и годом публикации."
   ]
  },
  {
   "cell_type": "code",
   "execution_count": 60,
   "metadata": {},
   "outputs": [
    {
     "data": {
      "text/html": [
       "<div>\n",
       "<style scoped>\n",
       "    .dataframe tbody tr th:only-of-type {\n",
       "        vertical-align: middle;\n",
       "    }\n",
       "\n",
       "    .dataframe tbody tr th {\n",
       "        vertical-align: top;\n",
       "    }\n",
       "\n",
       "    .dataframe thead th {\n",
       "        text-align: right;\n",
       "    }\n",
       "</style>\n",
       "<table border=\"1\" class=\"dataframe\">\n",
       "  <thead>\n",
       "    <tr style=\"text-align: right;\">\n",
       "      <th></th>\n",
       "      <th>price_per_meter</th>\n",
       "    </tr>\n",
       "    <tr>\n",
       "      <th>year_exposition</th>\n",
       "      <th></th>\n",
       "    </tr>\n",
       "  </thead>\n",
       "  <tbody>\n",
       "    <tr>\n",
       "      <th>2014</th>\n",
       "      <td>94526.025435</td>\n",
       "    </tr>\n",
       "    <tr>\n",
       "      <th>2015</th>\n",
       "      <td>91158.792991</td>\n",
       "    </tr>\n",
       "    <tr>\n",
       "      <th>2016</th>\n",
       "      <td>89212.277186</td>\n",
       "    </tr>\n",
       "    <tr>\n",
       "      <th>2017</th>\n",
       "      <td>89989.403952</td>\n",
       "    </tr>\n",
       "    <tr>\n",
       "      <th>2018</th>\n",
       "      <td>91878.241807</td>\n",
       "    </tr>\n",
       "    <tr>\n",
       "      <th>2019</th>\n",
       "      <td>98649.407157</td>\n",
       "    </tr>\n",
       "  </tbody>\n",
       "</table>\n",
       "</div>"
      ],
      "text/plain": [
       "                 price_per_meter\n",
       "year_exposition                 \n",
       "2014                94526.025435\n",
       "2015                91158.792991\n",
       "2016                89212.277186\n",
       "2017                89989.403952\n",
       "2018                91878.241807\n",
       "2019                98649.407157"
      ]
     },
     "metadata": {},
     "output_type": "display_data"
    },
    {
     "data": {
      "text/html": [
       "<div>\n",
       "<style scoped>\n",
       "    .dataframe tbody tr th:only-of-type {\n",
       "        vertical-align: middle;\n",
       "    }\n",
       "\n",
       "    .dataframe tbody tr th {\n",
       "        vertical-align: top;\n",
       "    }\n",
       "\n",
       "    .dataframe thead th {\n",
       "        text-align: right;\n",
       "    }\n",
       "</style>\n",
       "<table border=\"1\" class=\"dataframe\">\n",
       "  <thead>\n",
       "    <tr style=\"text-align: right;\">\n",
       "      <th></th>\n",
       "      <th>price_per_meter</th>\n",
       "    </tr>\n",
       "    <tr>\n",
       "      <th>month_exposition</th>\n",
       "      <th></th>\n",
       "    </tr>\n",
       "  </thead>\n",
       "  <tbody>\n",
       "    <tr>\n",
       "      <th>1</th>\n",
       "      <td>91340.519777</td>\n",
       "    </tr>\n",
       "    <tr>\n",
       "      <th>2</th>\n",
       "      <td>91084.877835</td>\n",
       "    </tr>\n",
       "    <tr>\n",
       "      <th>3</th>\n",
       "      <td>92383.329526</td>\n",
       "    </tr>\n",
       "    <tr>\n",
       "      <th>4</th>\n",
       "      <td>93008.711061</td>\n",
       "    </tr>\n",
       "    <tr>\n",
       "      <th>5</th>\n",
       "      <td>90998.713867</td>\n",
       "    </tr>\n",
       "    <tr>\n",
       "      <th>6</th>\n",
       "      <td>89395.344280</td>\n",
       "    </tr>\n",
       "    <tr>\n",
       "      <th>7</th>\n",
       "      <td>91313.362984</td>\n",
       "    </tr>\n",
       "    <tr>\n",
       "      <th>8</th>\n",
       "      <td>93161.031859</td>\n",
       "    </tr>\n",
       "    <tr>\n",
       "      <th>9</th>\n",
       "      <td>92713.974634</td>\n",
       "    </tr>\n",
       "    <tr>\n",
       "      <th>10</th>\n",
       "      <td>91580.082312</td>\n",
       "    </tr>\n",
       "    <tr>\n",
       "      <th>11</th>\n",
       "      <td>91972.602841</td>\n",
       "    </tr>\n",
       "    <tr>\n",
       "      <th>12</th>\n",
       "      <td>90349.380545</td>\n",
       "    </tr>\n",
       "  </tbody>\n",
       "</table>\n",
       "</div>"
      ],
      "text/plain": [
       "                  price_per_meter\n",
       "month_exposition                 \n",
       "1                    91340.519777\n",
       "2                    91084.877835\n",
       "3                    92383.329526\n",
       "4                    93008.711061\n",
       "5                    90998.713867\n",
       "6                    89395.344280\n",
       "7                    91313.362984\n",
       "8                    93161.031859\n",
       "9                    92713.974634\n",
       "10                   91580.082312\n",
       "11                   91972.602841\n",
       "12                   90349.380545"
      ]
     },
     "metadata": {},
     "output_type": "display_data"
    }
   ],
   "source": [
    "display(realty.pivot_table(index='year_exposition', values='price_per_meter'))\n",
    "display(realty.pivot_table(index='month_exposition', values='price_per_meter'))"
   ]
  },
  {
   "cell_type": "markdown",
   "metadata": {},
   "source": [
    "С 2015 года стоимость жилья сильно просела, и до 2016 года включительно цена только снижалась. Скорее всего, это связано с экономическим кризисом и падением доходов населения. С 2017 года рост возобновился, а в 2019 цены резко перегнали 2014 год. По месяцам сложно сказать, возможно, покупать квартиру чуть выгоднее летом, а продавать осенью. Но это не точно.\n",
    "\n",
    "Посмотрим, как публикуются объявления в зависимости от дня недели."
   ]
  },
  {
   "cell_type": "code",
   "execution_count": 61,
   "metadata": {},
   "outputs": [
    {
     "name": "stdout",
     "output_type": "stream",
     "text": [
      "Thursday     3504\n",
      "Tuesday      3471\n",
      "Friday       3370\n",
      "Wednesday    3268\n",
      "Monday       2992\n",
      "Saturday     1608\n",
      "Sunday       1445\n",
      "Name: day_exposition, dtype: int64\n"
     ]
    }
   ],
   "source": [
    "print(realty['day_exposition'].value_counts())"
   ]
  },
  {
   "cell_type": "markdown",
   "metadata": {},
   "source": [
    "Больше всего предложений вывешивают по четвергам и вторникам. Вторник - разгар рабочей недели, все уже вошли в ритм и активно размещают рекламу. Четверг - многие стремятся завершить дела к концу недели и не портить пятничный вечер снежным комом дел.\n",
    "Относительно небольшое количество публикаций по выходным, возможно, связано с тем, что многие продают недвижимость через риэлторов, которые по субботам и воскресеньям отдыхают. "
   ]
  },
  {
   "cell_type": "markdown",
   "metadata": {},
   "source": [
    "### Отбор записей по цетральному району Петербурга и анализ корреляций уровня цен"
   ]
  },
  {
   "cell_type": "markdown",
   "metadata": {},
   "source": [
    "Выберем 10 населённых пунктов с наибольшим числом объявлений. Посчитаем среднюю цену квадратного метра в этих населённых пунктах и выделим среди них населённые пункты с самой высокой и низкой стоимостью жилья."
   ]
  },
  {
   "cell_type": "code",
   "execution_count": 62,
   "metadata": {},
   "outputs": [
    {
     "data": {
      "text/html": [
       "<div>\n",
       "<style scoped>\n",
       "    .dataframe tbody tr th:only-of-type {\n",
       "        vertical-align: middle;\n",
       "    }\n",
       "\n",
       "    .dataframe tbody tr th {\n",
       "        vertical-align: top;\n",
       "    }\n",
       "\n",
       "    .dataframe thead th {\n",
       "        text-align: right;\n",
       "    }\n",
       "</style>\n",
       "<table border=\"1\" class=\"dataframe\">\n",
       "  <thead>\n",
       "    <tr style=\"text-align: right;\">\n",
       "      <th></th>\n",
       "      <th>locality_name</th>\n",
       "      <th>price_per_meter</th>\n",
       "      <th>data_exposition</th>\n",
       "    </tr>\n",
       "  </thead>\n",
       "  <tbody>\n",
       "    <tr>\n",
       "      <th>33</th>\n",
       "      <td>Санкт-Петербург</td>\n",
       "      <td>104783.561143</td>\n",
       "      <td>12344</td>\n",
       "    </tr>\n",
       "    <tr>\n",
       "      <th>262</th>\n",
       "      <td>посёлок Мурино</td>\n",
       "      <td>85657.825846</td>\n",
       "      <td>513</td>\n",
       "    </tr>\n",
       "    <tr>\n",
       "      <th>294</th>\n",
       "      <td>посёлок Шушары</td>\n",
       "      <td>78546.808778</td>\n",
       "      <td>434</td>\n",
       "    </tr>\n",
       "    <tr>\n",
       "      <th>3</th>\n",
       "      <td>Всеволожск</td>\n",
       "      <td>66986.635291</td>\n",
       "      <td>382</td>\n",
       "    </tr>\n",
       "    <tr>\n",
       "      <th>267</th>\n",
       "      <td>посёлок Парголово</td>\n",
       "      <td>90332.263023</td>\n",
       "      <td>326</td>\n",
       "    </tr>\n",
       "    <tr>\n",
       "      <th>13</th>\n",
       "      <td>Колпино</td>\n",
       "      <td>75476.133827</td>\n",
       "      <td>318</td>\n",
       "    </tr>\n",
       "    <tr>\n",
       "      <th>32</th>\n",
       "      <td>Пушкин</td>\n",
       "      <td>101048.036633</td>\n",
       "      <td>313</td>\n",
       "    </tr>\n",
       "    <tr>\n",
       "      <th>87</th>\n",
       "      <td>деревня Кудрово</td>\n",
       "      <td>92463.092416</td>\n",
       "      <td>297</td>\n",
       "    </tr>\n",
       "    <tr>\n",
       "      <th>6</th>\n",
       "      <td>Гатчина</td>\n",
       "      <td>69030.911825</td>\n",
       "      <td>283</td>\n",
       "    </tr>\n",
       "    <tr>\n",
       "      <th>4</th>\n",
       "      <td>Выборг</td>\n",
       "      <td>57871.296452</td>\n",
       "      <td>204</td>\n",
       "    </tr>\n",
       "  </tbody>\n",
       "</table>\n",
       "</div>"
      ],
      "text/plain": [
       "         locality_name  price_per_meter  data_exposition\n",
       "33     Санкт-Петербург    104783.561143            12344\n",
       "262     посёлок Мурино     85657.825846              513\n",
       "294     посёлок Шушары     78546.808778              434\n",
       "3           Всеволожск     66986.635291              382\n",
       "267  посёлок Парголово     90332.263023              326\n",
       "13             Колпино     75476.133827              318\n",
       "32              Пушкин    101048.036633              313\n",
       "87     деревня Кудрово     92463.092416              297\n",
       "6              Гатчина     69030.911825              283\n",
       "4               Выборг     57871.296452              204"
      ]
     },
     "metadata": {},
     "output_type": "display_data"
    }
   ],
   "source": [
    "realty_locality_mean = realty.groupby('locality_name', as_index=False).agg({'price_per_meter': 'mean',\n",
    "                                                                           'data_exposition': 'count'})\n",
    "realty_top10 = realty_locality_mean.sort_values(by='data_exposition', ascending=False).head(10)\n",
    "display(realty_top10)"
   ]
  },
  {
   "cell_type": "markdown",
   "metadata": {},
   "source": [
    "Добавим столбец с расстоянием до центра в километрах."
   ]
  },
  {
   "cell_type": "code",
   "execution_count": 63,
   "metadata": {},
   "outputs": [
    {
     "name": "stdout",
     "output_type": "stream",
     "text": [
      "<class 'pandas.core.frame.DataFrame'>\n",
      "Int64Index: 12344 entries, 0 to 23691\n",
      "Data columns (total 31 columns):\n",
      " #   Column                Non-Null Count  Dtype         \n",
      "---  ------                --------------  -----         \n",
      " 0   total_images          12344 non-null  int64         \n",
      " 1   last_price            12344 non-null  float64       \n",
      " 2   total_area            12344 non-null  float64       \n",
      " 3   first_day_exposition  12344 non-null  datetime64[ns]\n",
      " 4   rooms                 12344 non-null  int64         \n",
      " 5   ceiling_height        12344 non-null  float64       \n",
      " 6   floors_total          12344 non-null  int32         \n",
      " 7   living_area           12344 non-null  float64       \n",
      " 8   floor                 12344 non-null  int64         \n",
      " 9   is_apartment          1399 non-null   object        \n",
      " 10  studio                12344 non-null  bool          \n",
      " 11  open_plan             12344 non-null  bool          \n",
      " 12  kitchen_area          12344 non-null  float64       \n",
      " 13  balcony               12344 non-null  int32         \n",
      " 14  locality_name         12344 non-null  object        \n",
      " 15  airports_nearest      12302 non-null  float64       \n",
      " 16  city_centers_nearest  12314 non-null  float64       \n",
      " 17  parks_around3000      12314 non-null  float64       \n",
      " 18  parks_nearest         5030 non-null   float64       \n",
      " 19  ponds_around3000      12314 non-null  float64       \n",
      " 20  ponds_nearest         5821 non-null   float64       \n",
      " 21  days_exposition       11003 non-null  float64       \n",
      " 22  price_per_meter       12344 non-null  float64       \n",
      " 23  day_exposition        12344 non-null  object        \n",
      " 24  data_exposition       12344 non-null  int64         \n",
      " 25  month_exposition      12344 non-null  int64         \n",
      " 26  year_exposition       12344 non-null  int64         \n",
      " 27  floor_type            12344 non-null  object        \n",
      " 28  room_ratio            12344 non-null  float64       \n",
      " 29  kitchen_ratio         12344 non-null  float64       \n",
      " 30  city_centers_km       12314 non-null  float64       \n",
      "dtypes: bool(2), datetime64[ns](1), float64(16), int32(2), int64(6), object(4)\n",
      "memory usage: 2.8+ MB\n",
      "None\n"
     ]
    }
   ],
   "source": [
    "realty_spb = realty[realty['locality_name'] == 'Санкт-Петербург']\n",
    "realty_spb.loc[:, 'city_centers_km'] = (realty_spb.loc[:, 'city_centers_nearest'] / 1000).round()\n",
    "print(realty_spb.info())"
   ]
  },
  {
   "cell_type": "markdown",
   "metadata": {},
   "source": [
    "Посчитаем среднюю цену для каждого километра."
   ]
  },
  {
   "cell_type": "code",
   "execution_count": 64,
   "metadata": {},
   "outputs": [
    {
     "data": {
      "text/html": [
       "<div>\n",
       "<style scoped>\n",
       "    .dataframe tbody tr th:only-of-type {\n",
       "        vertical-align: middle;\n",
       "    }\n",
       "\n",
       "    .dataframe tbody tr th {\n",
       "        vertical-align: top;\n",
       "    }\n",
       "\n",
       "    .dataframe thead th {\n",
       "        text-align: right;\n",
       "    }\n",
       "</style>\n",
       "<table border=\"1\" class=\"dataframe\">\n",
       "  <thead>\n",
       "    <tr style=\"text-align: right;\">\n",
       "      <th></th>\n",
       "      <th>total_images</th>\n",
       "      <th>last_price</th>\n",
       "      <th>total_area</th>\n",
       "      <th>first_day_exposition</th>\n",
       "      <th>rooms</th>\n",
       "      <th>ceiling_height</th>\n",
       "      <th>floors_total</th>\n",
       "      <th>living_area</th>\n",
       "      <th>floor</th>\n",
       "      <th>is_apartment</th>\n",
       "      <th>studio</th>\n",
       "      <th>open_plan</th>\n",
       "      <th>kitchen_area</th>\n",
       "      <th>balcony</th>\n",
       "      <th>locality_name</th>\n",
       "      <th>airports_nearest</th>\n",
       "      <th>city_centers_nearest</th>\n",
       "      <th>parks_around3000</th>\n",
       "      <th>parks_nearest</th>\n",
       "      <th>ponds_around3000</th>\n",
       "      <th>ponds_nearest</th>\n",
       "      <th>days_exposition</th>\n",
       "      <th>price_per_meter</th>\n",
       "      <th>day_exposition</th>\n",
       "      <th>data_exposition</th>\n",
       "      <th>month_exposition</th>\n",
       "      <th>year_exposition</th>\n",
       "      <th>floor_type</th>\n",
       "      <th>room_ratio</th>\n",
       "      <th>kitchen_ratio</th>\n",
       "      <th>city_centers_km</th>\n",
       "      <th>price_per_km</th>\n",
       "    </tr>\n",
       "  </thead>\n",
       "  <tbody>\n",
       "    <tr>\n",
       "      <th>0</th>\n",
       "      <td>20</td>\n",
       "      <td>13000000.0</td>\n",
       "      <td>108.0</td>\n",
       "      <td>2019-03-07</td>\n",
       "      <td>3</td>\n",
       "      <td>2.70</td>\n",
       "      <td>16</td>\n",
       "      <td>51.000000</td>\n",
       "      <td>8</td>\n",
       "      <td>NaN</td>\n",
       "      <td>False</td>\n",
       "      <td>False</td>\n",
       "      <td>25.0</td>\n",
       "      <td>0</td>\n",
       "      <td>Санкт-Петербург</td>\n",
       "      <td>18863.0</td>\n",
       "      <td>16028.0</td>\n",
       "      <td>1.0</td>\n",
       "      <td>482.0</td>\n",
       "      <td>2.0</td>\n",
       "      <td>755.0</td>\n",
       "      <td>NaN</td>\n",
       "      <td>120370.370370</td>\n",
       "      <td>Thursday</td>\n",
       "      <td>7</td>\n",
       "      <td>3</td>\n",
       "      <td>2019</td>\n",
       "      <td>другой</td>\n",
       "      <td>0.472222</td>\n",
       "      <td>0.231481</td>\n",
       "      <td>16.0</td>\n",
       "      <td>7523.148148</td>\n",
       "    </tr>\n",
       "    <tr>\n",
       "      <th>2</th>\n",
       "      <td>10</td>\n",
       "      <td>5196000.0</td>\n",
       "      <td>56.0</td>\n",
       "      <td>2015-08-20</td>\n",
       "      <td>2</td>\n",
       "      <td>2.73</td>\n",
       "      <td>5</td>\n",
       "      <td>34.300000</td>\n",
       "      <td>4</td>\n",
       "      <td>NaN</td>\n",
       "      <td>False</td>\n",
       "      <td>False</td>\n",
       "      <td>8.3</td>\n",
       "      <td>0</td>\n",
       "      <td>Санкт-Петербург</td>\n",
       "      <td>21741.0</td>\n",
       "      <td>13933.0</td>\n",
       "      <td>1.0</td>\n",
       "      <td>90.0</td>\n",
       "      <td>2.0</td>\n",
       "      <td>574.0</td>\n",
       "      <td>558.0</td>\n",
       "      <td>92785.714286</td>\n",
       "      <td>Thursday</td>\n",
       "      <td>20</td>\n",
       "      <td>8</td>\n",
       "      <td>2015</td>\n",
       "      <td>другой</td>\n",
       "      <td>0.612500</td>\n",
       "      <td>0.148214</td>\n",
       "      <td>14.0</td>\n",
       "      <td>6627.551020</td>\n",
       "    </tr>\n",
       "    <tr>\n",
       "      <th>7</th>\n",
       "      <td>5</td>\n",
       "      <td>7915000.0</td>\n",
       "      <td>71.6</td>\n",
       "      <td>2019-04-18</td>\n",
       "      <td>2</td>\n",
       "      <td>2.73</td>\n",
       "      <td>24</td>\n",
       "      <td>40.449502</td>\n",
       "      <td>22</td>\n",
       "      <td>NaN</td>\n",
       "      <td>False</td>\n",
       "      <td>False</td>\n",
       "      <td>18.9</td>\n",
       "      <td>2</td>\n",
       "      <td>Санкт-Петербург</td>\n",
       "      <td>23982.0</td>\n",
       "      <td>11634.0</td>\n",
       "      <td>0.0</td>\n",
       "      <td>NaN</td>\n",
       "      <td>0.0</td>\n",
       "      <td>NaN</td>\n",
       "      <td>NaN</td>\n",
       "      <td>110544.692737</td>\n",
       "      <td>Thursday</td>\n",
       "      <td>18</td>\n",
       "      <td>4</td>\n",
       "      <td>2019</td>\n",
       "      <td>другой</td>\n",
       "      <td>0.564937</td>\n",
       "      <td>0.263966</td>\n",
       "      <td>12.0</td>\n",
       "      <td>9212.057728</td>\n",
       "    </tr>\n",
       "    <tr>\n",
       "      <th>9</th>\n",
       "      <td>18</td>\n",
       "      <td>5400000.0</td>\n",
       "      <td>61.0</td>\n",
       "      <td>2017-02-26</td>\n",
       "      <td>3</td>\n",
       "      <td>2.50</td>\n",
       "      <td>9</td>\n",
       "      <td>43.600000</td>\n",
       "      <td>7</td>\n",
       "      <td>NaN</td>\n",
       "      <td>False</td>\n",
       "      <td>False</td>\n",
       "      <td>6.5</td>\n",
       "      <td>2</td>\n",
       "      <td>Санкт-Петербург</td>\n",
       "      <td>50898.0</td>\n",
       "      <td>15008.0</td>\n",
       "      <td>0.0</td>\n",
       "      <td>NaN</td>\n",
       "      <td>0.0</td>\n",
       "      <td>NaN</td>\n",
       "      <td>289.0</td>\n",
       "      <td>88524.590164</td>\n",
       "      <td>Sunday</td>\n",
       "      <td>26</td>\n",
       "      <td>2</td>\n",
       "      <td>2017</td>\n",
       "      <td>другой</td>\n",
       "      <td>0.714754</td>\n",
       "      <td>0.106557</td>\n",
       "      <td>15.0</td>\n",
       "      <td>5901.639344</td>\n",
       "    </tr>\n",
       "    <tr>\n",
       "      <th>10</th>\n",
       "      <td>5</td>\n",
       "      <td>5050000.0</td>\n",
       "      <td>39.6</td>\n",
       "      <td>2017-11-16</td>\n",
       "      <td>1</td>\n",
       "      <td>2.67</td>\n",
       "      <td>12</td>\n",
       "      <td>20.300000</td>\n",
       "      <td>3</td>\n",
       "      <td>NaN</td>\n",
       "      <td>False</td>\n",
       "      <td>False</td>\n",
       "      <td>8.5</td>\n",
       "      <td>0</td>\n",
       "      <td>Санкт-Петербург</td>\n",
       "      <td>38357.0</td>\n",
       "      <td>13878.0</td>\n",
       "      <td>1.0</td>\n",
       "      <td>310.0</td>\n",
       "      <td>2.0</td>\n",
       "      <td>553.0</td>\n",
       "      <td>137.0</td>\n",
       "      <td>127525.252525</td>\n",
       "      <td>Thursday</td>\n",
       "      <td>16</td>\n",
       "      <td>11</td>\n",
       "      <td>2017</td>\n",
       "      <td>другой</td>\n",
       "      <td>0.512626</td>\n",
       "      <td>0.214646</td>\n",
       "      <td>14.0</td>\n",
       "      <td>9108.946609</td>\n",
       "    </tr>\n",
       "  </tbody>\n",
       "</table>\n",
       "</div>"
      ],
      "text/plain": [
       "    total_images  last_price  total_area first_day_exposition  rooms  \\\n",
       "0             20  13000000.0       108.0           2019-03-07      3   \n",
       "2             10   5196000.0        56.0           2015-08-20      2   \n",
       "7              5   7915000.0        71.6           2019-04-18      2   \n",
       "9             18   5400000.0        61.0           2017-02-26      3   \n",
       "10             5   5050000.0        39.6           2017-11-16      1   \n",
       "\n",
       "    ceiling_height  floors_total  living_area  floor is_apartment  studio  \\\n",
       "0             2.70            16    51.000000      8          NaN   False   \n",
       "2             2.73             5    34.300000      4          NaN   False   \n",
       "7             2.73            24    40.449502     22          NaN   False   \n",
       "9             2.50             9    43.600000      7          NaN   False   \n",
       "10            2.67            12    20.300000      3          NaN   False   \n",
       "\n",
       "    open_plan  kitchen_area  balcony    locality_name  airports_nearest  \\\n",
       "0       False          25.0        0  Санкт-Петербург           18863.0   \n",
       "2       False           8.3        0  Санкт-Петербург           21741.0   \n",
       "7       False          18.9        2  Санкт-Петербург           23982.0   \n",
       "9       False           6.5        2  Санкт-Петербург           50898.0   \n",
       "10      False           8.5        0  Санкт-Петербург           38357.0   \n",
       "\n",
       "    city_centers_nearest  parks_around3000  parks_nearest  ponds_around3000  \\\n",
       "0                16028.0               1.0          482.0               2.0   \n",
       "2                13933.0               1.0           90.0               2.0   \n",
       "7                11634.0               0.0            NaN               0.0   \n",
       "9                15008.0               0.0            NaN               0.0   \n",
       "10               13878.0               1.0          310.0               2.0   \n",
       "\n",
       "    ponds_nearest  days_exposition  price_per_meter day_exposition  \\\n",
       "0           755.0              NaN    120370.370370       Thursday   \n",
       "2           574.0            558.0     92785.714286       Thursday   \n",
       "7             NaN              NaN    110544.692737       Thursday   \n",
       "9             NaN            289.0     88524.590164         Sunday   \n",
       "10          553.0            137.0    127525.252525       Thursday   \n",
       "\n",
       "    data_exposition  month_exposition  year_exposition floor_type  room_ratio  \\\n",
       "0                 7                 3             2019     другой    0.472222   \n",
       "2                20                 8             2015     другой    0.612500   \n",
       "7                18                 4             2019     другой    0.564937   \n",
       "9                26                 2             2017     другой    0.714754   \n",
       "10               16                11             2017     другой    0.512626   \n",
       "\n",
       "    kitchen_ratio  city_centers_km  price_per_km  \n",
       "0        0.231481             16.0   7523.148148  \n",
       "2        0.148214             14.0   6627.551020  \n",
       "7        0.263966             12.0   9212.057728  \n",
       "9        0.106557             15.0   5901.639344  \n",
       "10       0.214646             14.0   9108.946609  "
      ]
     },
     "metadata": {},
     "output_type": "display_data"
    }
   ],
   "source": [
    "realty_spb.loc[:,'price_per_km'] = realty_spb.loc[:,'price_per_meter'] / realty_spb.loc[:,'city_centers_km']\n",
    "display(realty_spb.head())"
   ]
  },
  {
   "cell_type": "markdown",
   "metadata": {},
   "source": [
    "Сформируем сводную таблицу для расчета средней стоимости квадратного метра в зависимости от удаления от центра Петербурга. По результатам таблицы построим график."
   ]
  },
  {
   "cell_type": "code",
   "execution_count": 65,
   "metadata": {},
   "outputs": [
    {
     "data": {
      "image/png": "[encoded data removed]",
      "text/plain": [
       "<Figure size 432x288 with 1 Axes>"
      ]
     },
     "metadata": {
      "needs_background": "light"
     },
     "output_type": "display_data"
    }
   ],
   "source": [
    "mean_price_per_km = realty_spb.pivot_table(index='city_centers_km', values='price_per_km', aggfunc='mean')\n",
    "sns.lineplot(x='city_centers_km', y='price_per_km', data=mean_price_per_km)\n",
    "plt.title('Средняя стоимость квадратного метра в зависимости от расстояния от центра')\n",
    "plt.grid(alpha=0.05, linestyle='--', linewidth=1)"
   ]
  },
  {
   "cell_type": "markdown",
   "metadata": {},
   "source": [
    "На графике заметен излом в районе 2,5-3 км от центра. Далее установим, что центральный район находится в радиусе 3х км от центральной точки. Выделим этот сегмент квартир в центре."
   ]
  },
  {
   "cell_type": "code",
   "execution_count": 66,
   "metadata": {},
   "outputs": [
    {
     "name": "stdout",
     "output_type": "stream",
     "text": [
      "<class 'pandas.core.frame.DataFrame'>\n",
      "Int64Index: 265 entries, 24 to 23602\n",
      "Data columns (total 12 columns):\n",
      " #   Column            Non-Null Count  Dtype  \n",
      "---  ------            --------------  -----  \n",
      " 0   price_per_meter   265 non-null    float64\n",
      " 1   total_area        265 non-null    float64\n",
      " 2   rooms             265 non-null    int64  \n",
      " 3   city_centers_km   265 non-null    float64\n",
      " 4   room_ratio        265 non-null    float64\n",
      " 5   kitchen_ratio     265 non-null    float64\n",
      " 6   floor_type        265 non-null    object \n",
      " 7   ceiling_height    265 non-null    float64\n",
      " 8   day_exposition    265 non-null    object \n",
      " 9   data_exposition   265 non-null    int64  \n",
      " 10  month_exposition  265 non-null    int64  \n",
      " 11  year_exposition   265 non-null    int64  \n",
      "dtypes: float64(6), int64(4), object(2)\n",
      "memory usage: 26.9+ KB\n"
     ]
    }
   ],
   "source": [
    "realty_spb_center = pd.DataFrame(data = realty_spb.query('city_centers_km <= 3'), columns =['price_per_meter','total_area','rooms','city_centers_km','room_ratio','kitchen_ratio', 'floor_type', 'ceiling_height', 'day_exposition', 'data_exposition','month_exposition', 'year_exposition'])\n",
    "realty_spb_center.info()"
   ]
  },
  {
   "cell_type": "markdown",
   "metadata": {},
   "source": [
    "Посмотрим, от чего зависит цена в центральном районе."
   ]
  },
  {
   "cell_type": "code",
   "execution_count": 67,
   "metadata": {},
   "outputs": [
    {
     "data": {
      "text/html": [
       "<style  type=\"text/css\" >\n",
       "#T_c6baf_row0_col0,#T_c6baf_row1_col1,#T_c6baf_row2_col2,#T_c6baf_row3_col3,#T_c6baf_row4_col4,#T_c6baf_row5_col5,#T_c6baf_row6_col6,#T_c6baf_row7_col7,#T_c6baf_row8_col8,#T_c6baf_row9_col9{\n",
       "            background-color:  #b40426;\n",
       "            color:  #f1f1f1;\n",
       "        }#T_c6baf_row0_col1{\n",
       "            background-color:  #4c66d6;\n",
       "            color:  #000000;\n",
       "        }#T_c6baf_row0_col2{\n",
       "            background-color:  #81a4fb;\n",
       "            color:  #000000;\n",
       "        }#T_c6baf_row0_col3{\n",
       "            background-color:  #4a63d3;\n",
       "            color:  #f1f1f1;\n",
       "        }#T_c6baf_row0_col4{\n",
       "            background-color:  #aec9fc;\n",
       "            color:  #000000;\n",
       "        }#T_c6baf_row0_col5{\n",
       "            background-color:  #d8dce2;\n",
       "            color:  #000000;\n",
       "        }#T_c6baf_row0_col6{\n",
       "            background-color:  #3d50c3;\n",
       "            color:  #f1f1f1;\n",
       "        }#T_c6baf_row0_col7{\n",
       "            background-color:  #5572df;\n",
       "            color:  #000000;\n",
       "        }#T_c6baf_row0_col8{\n",
       "            background-color:  #799cf8;\n",
       "            color:  #000000;\n",
       "        }#T_c6baf_row0_col9,#T_c6baf_row7_col4{\n",
       "            background-color:  #c9d7f0;\n",
       "            color:  #000000;\n",
       "        }#T_c6baf_row1_col0,#T_c6baf_row2_col3,#T_c6baf_row4_col5,#T_c6baf_row5_col1,#T_c6baf_row5_col2,#T_c6baf_row5_col4,#T_c6baf_row5_col7,#T_c6baf_row7_col6,#T_c6baf_row8_col9,#T_c6baf_row9_col8{\n",
       "            background-color:  #3b4cc0;\n",
       "            color:  #f1f1f1;\n",
       "        }#T_c6baf_row1_col2{\n",
       "            background-color:  #ee8669;\n",
       "            color:  #000000;\n",
       "        }#T_c6baf_row1_col3{\n",
       "            background-color:  #465ecf;\n",
       "            color:  #f1f1f1;\n",
       "        }#T_c6baf_row1_col4{\n",
       "            background-color:  #ead5c9;\n",
       "            color:  #000000;\n",
       "        }#T_c6baf_row1_col5{\n",
       "            background-color:  #88abfd;\n",
       "            color:  #000000;\n",
       "        }#T_c6baf_row1_col6{\n",
       "            background-color:  #7ea1fa;\n",
       "            color:  #000000;\n",
       "        }#T_c6baf_row1_col7,#T_c6baf_row4_col7{\n",
       "            background-color:  #7093f3;\n",
       "            color:  #000000;\n",
       "        }#T_c6baf_row1_col8{\n",
       "            background-color:  #80a3fa;\n",
       "            color:  #000000;\n",
       "        }#T_c6baf_row1_col9{\n",
       "            background-color:  #5e7de7;\n",
       "            color:  #000000;\n",
       "        }#T_c6baf_row2_col0{\n",
       "            background-color:  #4e68d8;\n",
       "            color:  #000000;\n",
       "        }#T_c6baf_row2_col1{\n",
       "            background-color:  #f29274;\n",
       "            color:  #000000;\n",
       "        }#T_c6baf_row2_col4{\n",
       "            background-color:  #f7b194;\n",
       "            color:  #000000;\n",
       "        }#T_c6baf_row2_col5{\n",
       "            background-color:  #6687ed;\n",
       "            color:  #000000;\n",
       "        }#T_c6baf_row2_col6,#T_c6baf_row6_col8{\n",
       "            background-color:  #89acfd;\n",
       "            color:  #000000;\n",
       "        }#T_c6baf_row2_col7,#T_c6baf_row2_col9,#T_c6baf_row3_col7{\n",
       "            background-color:  #688aef;\n",
       "            color:  #000000;\n",
       "        }#T_c6baf_row2_col8{\n",
       "            background-color:  #85a8fc;\n",
       "            color:  #000000;\n",
       "        }#T_c6baf_row3_col0{\n",
       "            background-color:  #5a78e4;\n",
       "            color:  #000000;\n",
       "        }#T_c6baf_row3_col1{\n",
       "            background-color:  #6788ee;\n",
       "            color:  #000000;\n",
       "        }#T_c6baf_row3_col2{\n",
       "            background-color:  #7da0f9;\n",
       "            color:  #000000;\n",
       "        }#T_c6baf_row3_col4,#T_c6baf_row9_col0{\n",
       "            background-color:  #bad0f8;\n",
       "            color:  #000000;\n",
       "        }#T_c6baf_row3_col5,#T_c6baf_row8_col4{\n",
       "            background-color:  #c7d7f0;\n",
       "            color:  #000000;\n",
       "        }#T_c6baf_row3_col6,#T_c6baf_row9_col6{\n",
       "            background-color:  #6b8df0;\n",
       "            color:  #000000;\n",
       "        }#T_c6baf_row3_col8,#T_c6baf_row8_col1{\n",
       "            background-color:  #7a9df8;\n",
       "            color:  #000000;\n",
       "        }#T_c6baf_row3_col9{\n",
       "            background-color:  #a6c4fe;\n",
       "            color:  #000000;\n",
       "        }#T_c6baf_row4_col0,#T_c6baf_row4_col3{\n",
       "            background-color:  #5673e0;\n",
       "            color:  #000000;\n",
       "        }#T_c6baf_row4_col1{\n",
       "            background-color:  #c4d5f3;\n",
       "            color:  #000000;\n",
       "        }#T_c6baf_row4_col2{\n",
       "            background-color:  #f5c1a9;\n",
       "            color:  #000000;\n",
       "        }#T_c6baf_row4_col6,#T_c6baf_row6_col9{\n",
       "            background-color:  #92b4fe;\n",
       "            color:  #000000;\n",
       "        }#T_c6baf_row4_col8{\n",
       "            background-color:  #90b2fe;\n",
       "            color:  #000000;\n",
       "        }#T_c6baf_row4_col9,#T_c6baf_row7_col8{\n",
       "            background-color:  #6f92f3;\n",
       "            color:  #000000;\n",
       "        }#T_c6baf_row5_col0{\n",
       "            background-color:  #97b8ff;\n",
       "            color:  #000000;\n",
       "        }#T_c6baf_row5_col3,#T_c6baf_row6_col3{\n",
       "            background-color:  #6c8ff1;\n",
       "            color:  #000000;\n",
       "        }#T_c6baf_row5_col6{\n",
       "            background-color:  #4358cb;\n",
       "            color:  #f1f1f1;\n",
       "        }#T_c6baf_row5_col8{\n",
       "            background-color:  #86a9fc;\n",
       "            color:  #000000;\n",
       "        }#T_c6baf_row5_col9{\n",
       "            background-color:  #a7c5fe;\n",
       "            color:  #000000;\n",
       "        }#T_c6baf_row6_col0{\n",
       "            background-color:  #4f69d9;\n",
       "            color:  #000000;\n",
       "        }#T_c6baf_row6_col1{\n",
       "            background-color:  #9fbfff;\n",
       "            color:  #000000;\n",
       "        }#T_c6baf_row6_col2,#T_c6baf_row8_col5{\n",
       "            background-color:  #c0d4f5;\n",
       "            color:  #000000;\n",
       "        }#T_c6baf_row6_col4{\n",
       "            background-color:  #dddcdc;\n",
       "            color:  #000000;\n",
       "        }#T_c6baf_row6_col5{\n",
       "            background-color:  #adc9fd;\n",
       "            color:  #000000;\n",
       "        }#T_c6baf_row6_col7,#T_c6baf_row9_col7{\n",
       "            background-color:  #4055c8;\n",
       "            color:  #f1f1f1;\n",
       "        }#T_c6baf_row7_col0{\n",
       "            background-color:  #6180e9;\n",
       "            color:  #000000;\n",
       "        }#T_c6baf_row7_col1{\n",
       "            background-color:  #8caffe;\n",
       "            color:  #000000;\n",
       "        }#T_c6baf_row7_col2{\n",
       "            background-color:  #a3c2fe;\n",
       "            color:  #000000;\n",
       "        }#T_c6baf_row7_col3{\n",
       "            background-color:  #6485ec;\n",
       "            color:  #000000;\n",
       "        }#T_c6baf_row7_col5{\n",
       "            background-color:  #a1c0ff;\n",
       "            color:  #000000;\n",
       "        }#T_c6baf_row7_col9{\n",
       "            background-color:  #6384eb;\n",
       "            color:  #000000;\n",
       "        }#T_c6baf_row8_col0,#T_c6baf_row8_col6{\n",
       "            background-color:  #6282ea;\n",
       "            color:  #000000;\n",
       "        }#T_c6baf_row8_col2{\n",
       "            background-color:  #9ebeff;\n",
       "            color:  #000000;\n",
       "        }#T_c6baf_row8_col3{\n",
       "            background-color:  #5470de;\n",
       "            color:  #000000;\n",
       "        }#T_c6baf_row8_col7{\n",
       "            background-color:  #4b64d5;\n",
       "            color:  #f1f1f1;\n",
       "        }#T_c6baf_row9_col1{\n",
       "            background-color:  #5977e3;\n",
       "            color:  #000000;\n",
       "        }#T_c6baf_row9_col2,#T_c6baf_row9_col3{\n",
       "            background-color:  #84a7fc;\n",
       "            color:  #000000;\n",
       "        }#T_c6baf_row9_col4{\n",
       "            background-color:  #afcafc;\n",
       "            color:  #000000;\n",
       "        }#T_c6baf_row9_col5{\n",
       "            background-color:  #d6dce4;\n",
       "            color:  #000000;\n",
       "        }</style><table id=\"T_c6baf_\" ><thead>    <tr>        <th class=\"blank level0\" ></th>        <th class=\"col_heading level0 col0\" >price_per_meter</th>        <th class=\"col_heading level0 col1\" >total_area</th>        <th class=\"col_heading level0 col2\" >rooms</th>        <th class=\"col_heading level0 col3\" >city_centers_km</th>        <th class=\"col_heading level0 col4\" >room_ratio</th>        <th class=\"col_heading level0 col5\" >kitchen_ratio</th>        <th class=\"col_heading level0 col6\" >ceiling_height</th>        <th class=\"col_heading level0 col7\" >data_exposition</th>        <th class=\"col_heading level0 col8\" >month_exposition</th>        <th class=\"col_heading level0 col9\" >year_exposition</th>    </tr></thead><tbody>\n",
       "                <tr>\n",
       "                        <th id=\"T_c6baf_level0_row0\" class=\"row_heading level0 row0\" >price_per_meter</th>\n",
       "                        <td id=\"T_c6baf_row0_col0\" class=\"data row0 col0\" >1.000000</td>\n",
       "                        <td id=\"T_c6baf_row0_col1\" class=\"data row0 col1\" >-0.189634</td>\n",
       "                        <td id=\"T_c6baf_row0_col2\" class=\"data row0 col2\" >-0.115229</td>\n",
       "                        <td id=\"T_c6baf_row0_col3\" class=\"data row0 col3\" >-0.066486</td>\n",
       "                        <td id=\"T_c6baf_row0_col4\" class=\"data row0 col4\" >-0.079064</td>\n",
       "                        <td id=\"T_c6baf_row0_col5\" class=\"data row0 col5\" >0.143454</td>\n",
       "                        <td id=\"T_c6baf_row0_col6\" class=\"data row0 col6\" >-0.107711</td>\n",
       "                        <td id=\"T_c6baf_row0_col7\" class=\"data row0 col7\" >-0.041527</td>\n",
       "                        <td id=\"T_c6baf_row0_col8\" class=\"data row0 col8\" >-0.038005</td>\n",
       "                        <td id=\"T_c6baf_row0_col9\" class=\"data row0 col9\" >0.261757</td>\n",
       "            </tr>\n",
       "            <tr>\n",
       "                        <th id=\"T_c6baf_level0_row1\" class=\"row_heading level0 row1\" >total_area</th>\n",
       "                        <td id=\"T_c6baf_row1_col0\" class=\"data row1 col0\" >-0.189634</td>\n",
       "                        <td id=\"T_c6baf_row1_col1\" class=\"data row1 col1\" >1.000000</td>\n",
       "                        <td id=\"T_c6baf_row1_col2\" class=\"data row1 col2\" >0.707601</td>\n",
       "                        <td id=\"T_c6baf_row1_col3\" class=\"data row1 col3\" >-0.081971</td>\n",
       "                        <td id=\"T_c6baf_row1_col4\" class=\"data row1 col4\" >0.258184</td>\n",
       "                        <td id=\"T_c6baf_row1_col5\" class=\"data row1 col5\" >-0.264105</td>\n",
       "                        <td id=\"T_c6baf_row1_col6\" class=\"data row1 col6\" >0.116364</td>\n",
       "                        <td id=\"T_c6baf_row1_col7\" class=\"data row1 col7\" >0.051782</td>\n",
       "                        <td id=\"T_c6baf_row1_col8\" class=\"data row1 col8\" >-0.013390</td>\n",
       "                        <td id=\"T_c6baf_row1_col9\" class=\"data row1 col9\" >-0.138806</td>\n",
       "            </tr>\n",
       "            <tr>\n",
       "                        <th id=\"T_c6baf_level0_row2\" class=\"row_heading level0 row2\" >rooms</th>\n",
       "                        <td id=\"T_c6baf_row2_col0\" class=\"data row2 col0\" >-0.115229</td>\n",
       "                        <td id=\"T_c6baf_row2_col1\" class=\"data row2 col1\" >0.707601</td>\n",
       "                        <td id=\"T_c6baf_row2_col2\" class=\"data row2 col2\" >1.000000</td>\n",
       "                        <td id=\"T_c6baf_row2_col3\" class=\"data row2 col3\" >-0.127293</td>\n",
       "                        <td id=\"T_c6baf_row2_col4\" class=\"data row2 col4\" >0.479735</td>\n",
       "                        <td id=\"T_c6baf_row2_col5\" class=\"data row2 col5\" >-0.420919</td>\n",
       "                        <td id=\"T_c6baf_row2_col6\" class=\"data row2 col6\" >0.150508</td>\n",
       "                        <td id=\"T_c6baf_row2_col7\" class=\"data row2 col7\" >0.025297</td>\n",
       "                        <td id=\"T_c6baf_row2_col8\" class=\"data row2 col8\" >0.003827</td>\n",
       "                        <td id=\"T_c6baf_row2_col9\" class=\"data row2 col9\" >-0.099872</td>\n",
       "            </tr>\n",
       "            <tr>\n",
       "                        <th id=\"T_c6baf_level0_row3\" class=\"row_heading level0 row3\" >city_centers_km</th>\n",
       "                        <td id=\"T_c6baf_row3_col0\" class=\"data row3 col0\" >-0.066486</td>\n",
       "                        <td id=\"T_c6baf_row3_col1\" class=\"data row3 col1\" >-0.081971</td>\n",
       "                        <td id=\"T_c6baf_row3_col2\" class=\"data row3 col2\" >-0.127293</td>\n",
       "                        <td id=\"T_c6baf_row3_col3\" class=\"data row3 col3\" >1.000000</td>\n",
       "                        <td id=\"T_c6baf_row3_col4\" class=\"data row3 col4\" >-0.025151</td>\n",
       "                        <td id=\"T_c6baf_row3_col5\" class=\"data row3 col5\" >0.048913</td>\n",
       "                        <td id=\"T_c6baf_row3_col6\" class=\"data row3 col6\" >0.051946</td>\n",
       "                        <td id=\"T_c6baf_row3_col7\" class=\"data row3 col7\" >0.025219</td>\n",
       "                        <td id=\"T_c6baf_row3_col8\" class=\"data row3 col8\" >-0.033135</td>\n",
       "                        <td id=\"T_c6baf_row3_col9\" class=\"data row3 col9\" >0.125569</td>\n",
       "            </tr>\n",
       "            <tr>\n",
       "                        <th id=\"T_c6baf_level0_row4\" class=\"row_heading level0 row4\" >room_ratio</th>\n",
       "                        <td id=\"T_c6baf_row4_col0\" class=\"data row4 col0\" >-0.079064</td>\n",
       "                        <td id=\"T_c6baf_row4_col1\" class=\"data row4 col1\" >0.258184</td>\n",
       "                        <td id=\"T_c6baf_row4_col2\" class=\"data row4 col2\" >0.479735</td>\n",
       "                        <td id=\"T_c6baf_row4_col3\" class=\"data row4 col3\" >-0.025151</td>\n",
       "                        <td id=\"T_c6baf_row4_col4\" class=\"data row4 col4\" >1.000000</td>\n",
       "                        <td id=\"T_c6baf_row4_col5\" class=\"data row4 col5\" >-0.651879</td>\n",
       "                        <td id=\"T_c6baf_row4_col6\" class=\"data row4 col6\" >0.176445</td>\n",
       "                        <td id=\"T_c6baf_row4_col7\" class=\"data row4 col7\" >0.051721</td>\n",
       "                        <td id=\"T_c6baf_row4_col8\" class=\"data row4 col8\" >0.045114</td>\n",
       "                        <td id=\"T_c6baf_row4_col9\" class=\"data row4 col9\" >-0.074179</td>\n",
       "            </tr>\n",
       "            <tr>\n",
       "                        <th id=\"T_c6baf_level0_row5\" class=\"row_heading level0 row5\" >kitchen_ratio</th>\n",
       "                        <td id=\"T_c6baf_row5_col0\" class=\"data row5 col0\" >0.143454</td>\n",
       "                        <td id=\"T_c6baf_row5_col1\" class=\"data row5 col1\" >-0.264105</td>\n",
       "                        <td id=\"T_c6baf_row5_col2\" class=\"data row5 col2\" >-0.420919</td>\n",
       "                        <td id=\"T_c6baf_row5_col3\" class=\"data row5 col3\" >0.048913</td>\n",
       "                        <td id=\"T_c6baf_row5_col4\" class=\"data row5 col4\" >-0.651879</td>\n",
       "                        <td id=\"T_c6baf_row5_col5\" class=\"data row5 col5\" >1.000000</td>\n",
       "                        <td id=\"T_c6baf_row5_col6\" class=\"data row5 col6\" >-0.085325</td>\n",
       "                        <td id=\"T_c6baf_row5_col7\" class=\"data row5 col7\" >-0.143241</td>\n",
       "                        <td id=\"T_c6baf_row5_col8\" class=\"data row5 col8\" >0.011237</td>\n",
       "                        <td id=\"T_c6baf_row5_col9\" class=\"data row5 col9\" >0.133047</td>\n",
       "            </tr>\n",
       "            <tr>\n",
       "                        <th id=\"T_c6baf_level0_row6\" class=\"row_heading level0 row6\" >ceiling_height</th>\n",
       "                        <td id=\"T_c6baf_row6_col0\" class=\"data row6 col0\" >-0.107711</td>\n",
       "                        <td id=\"T_c6baf_row6_col1\" class=\"data row6 col1\" >0.116364</td>\n",
       "                        <td id=\"T_c6baf_row6_col2\" class=\"data row6 col2\" >0.150508</td>\n",
       "                        <td id=\"T_c6baf_row6_col3\" class=\"data row6 col3\" >0.051946</td>\n",
       "                        <td id=\"T_c6baf_row6_col4\" class=\"data row6 col4\" >0.176445</td>\n",
       "                        <td id=\"T_c6baf_row6_col5\" class=\"data row6 col5\" >-0.085325</td>\n",
       "                        <td id=\"T_c6baf_row6_col6\" class=\"data row6 col6\" >1.000000</td>\n",
       "                        <td id=\"T_c6baf_row6_col7\" class=\"data row6 col7\" >-0.119387</td>\n",
       "                        <td id=\"T_c6baf_row6_col8\" class=\"data row6 col8\" >0.022600</td>\n",
       "                        <td id=\"T_c6baf_row6_col9\" class=\"data row6 col9\" >0.052603</td>\n",
       "            </tr>\n",
       "            <tr>\n",
       "                        <th id=\"T_c6baf_level0_row7\" class=\"row_heading level0 row7\" >data_exposition</th>\n",
       "                        <td id=\"T_c6baf_row7_col0\" class=\"data row7 col0\" >-0.041527</td>\n",
       "                        <td id=\"T_c6baf_row7_col1\" class=\"data row7 col1\" >0.051782</td>\n",
       "                        <td id=\"T_c6baf_row7_col2\" class=\"data row7 col2\" >0.025297</td>\n",
       "                        <td id=\"T_c6baf_row7_col3\" class=\"data row7 col3\" >0.025219</td>\n",
       "                        <td id=\"T_c6baf_row7_col4\" class=\"data row7 col4\" >0.051721</td>\n",
       "                        <td id=\"T_c6baf_row7_col5\" class=\"data row7 col5\" >-0.143241</td>\n",
       "                        <td id=\"T_c6baf_row7_col6\" class=\"data row7 col6\" >-0.119387</td>\n",
       "                        <td id=\"T_c6baf_row7_col7\" class=\"data row7 col7\" >1.000000</td>\n",
       "                        <td id=\"T_c6baf_row7_col8\" class=\"data row7 col8\" >-0.076956</td>\n",
       "                        <td id=\"T_c6baf_row7_col9\" class=\"data row7 col9\" >-0.119739</td>\n",
       "            </tr>\n",
       "            <tr>\n",
       "                        <th id=\"T_c6baf_level0_row8\" class=\"row_heading level0 row8\" >month_exposition</th>\n",
       "                        <td id=\"T_c6baf_row8_col0\" class=\"data row8 col0\" >-0.038005</td>\n",
       "                        <td id=\"T_c6baf_row8_col1\" class=\"data row8 col1\" >-0.013390</td>\n",
       "                        <td id=\"T_c6baf_row8_col2\" class=\"data row8 col2\" >0.003827</td>\n",
       "                        <td id=\"T_c6baf_row8_col3\" class=\"data row8 col3\" >-0.033135</td>\n",
       "                        <td id=\"T_c6baf_row8_col4\" class=\"data row8 col4\" >0.045114</td>\n",
       "                        <td id=\"T_c6baf_row8_col5\" class=\"data row8 col5\" >0.011237</td>\n",
       "                        <td id=\"T_c6baf_row8_col6\" class=\"data row8 col6\" >0.022600</td>\n",
       "                        <td id=\"T_c6baf_row8_col7\" class=\"data row8 col7\" >-0.076956</td>\n",
       "                        <td id=\"T_c6baf_row8_col8\" class=\"data row8 col8\" >1.000000</td>\n",
       "                        <td id=\"T_c6baf_row8_col9\" class=\"data row8 col9\" >-0.288575</td>\n",
       "            </tr>\n",
       "            <tr>\n",
       "                        <th id=\"T_c6baf_level0_row9\" class=\"row_heading level0 row9\" >year_exposition</th>\n",
       "                        <td id=\"T_c6baf_row9_col0\" class=\"data row9 col0\" >0.261757</td>\n",
       "                        <td id=\"T_c6baf_row9_col1\" class=\"data row9 col1\" >-0.138806</td>\n",
       "                        <td id=\"T_c6baf_row9_col2\" class=\"data row9 col2\" >-0.099872</td>\n",
       "                        <td id=\"T_c6baf_row9_col3\" class=\"data row9 col3\" >0.125569</td>\n",
       "                        <td id=\"T_c6baf_row9_col4\" class=\"data row9 col4\" >-0.074179</td>\n",
       "                        <td id=\"T_c6baf_row9_col5\" class=\"data row9 col5\" >0.133047</td>\n",
       "                        <td id=\"T_c6baf_row9_col6\" class=\"data row9 col6\" >0.052603</td>\n",
       "                        <td id=\"T_c6baf_row9_col7\" class=\"data row9 col7\" >-0.119739</td>\n",
       "                        <td id=\"T_c6baf_row9_col8\" class=\"data row9 col8\" >-0.288575</td>\n",
       "                        <td id=\"T_c6baf_row9_col9\" class=\"data row9 col9\" >1.000000</td>\n",
       "            </tr>\n",
       "    </tbody></table>"
      ],
      "text/plain": [
       "<pandas.io.formats.style.Styler at 0x227fd3c2d00>"
      ]
     },
     "execution_count": 67,
     "metadata": {},
     "output_type": "execute_result"
    }
   ],
   "source": [
    "realty_spb_center.corr().style.background_gradient(cmap='coolwarm')"
   ]
  },
  {
   "cell_type": "markdown",
   "metadata": {},
   "source": [
    "Ситуация на рынке жилья в центре Петербурга похожа на общую картину по городу и ЛО в целом, но с небольшими отличиями. Наблюдается аналогичная слабая обратная корреляция между стоимостью квадратного метра и общей площадью. \n",
    "Ожидаемо уменьшается стоимость одного квадрата при увеличении количества комнат, так же отрицательно влияет и близость центра. А вот высота потолков теперь приобрела даже отрицательное значение (позже этот факт проверим на дополнительном датасете, где пропуски были удалены, а не заменены).\n",
    "\n",
    "Посмотрим, сохранена ли общая тенденция уменьшения стоимости квадратного метра при росте числа комнат (до определенного момента)."
   ]
  },
  {
   "cell_type": "code",
   "execution_count": 68,
   "metadata": {},
   "outputs": [
    {
     "data": {
      "text/html": [
       "<div>\n",
       "<style scoped>\n",
       "    .dataframe tbody tr th:only-of-type {\n",
       "        vertical-align: middle;\n",
       "    }\n",
       "\n",
       "    .dataframe tbody tr th {\n",
       "        vertical-align: top;\n",
       "    }\n",
       "\n",
       "    .dataframe thead th {\n",
       "        text-align: right;\n",
       "    }\n",
       "</style>\n",
       "<table border=\"1\" class=\"dataframe\">\n",
       "  <thead>\n",
       "    <tr style=\"text-align: right;\">\n",
       "      <th></th>\n",
       "      <th>price_per_meter</th>\n",
       "      <th>total_area</th>\n",
       "    </tr>\n",
       "    <tr>\n",
       "      <th>rooms</th>\n",
       "      <th></th>\n",
       "      <th></th>\n",
       "    </tr>\n",
       "  </thead>\n",
       "  <tbody>\n",
       "    <tr>\n",
       "      <th>0</th>\n",
       "      <td>131250.000000</td>\n",
       "      <td>16.000000</td>\n",
       "    </tr>\n",
       "    <tr>\n",
       "      <th>1</th>\n",
       "      <td>117132.813320</td>\n",
       "      <td>38.629630</td>\n",
       "    </tr>\n",
       "    <tr>\n",
       "      <th>2</th>\n",
       "      <td>112840.142687</td>\n",
       "      <td>63.746698</td>\n",
       "    </tr>\n",
       "    <tr>\n",
       "      <th>3</th>\n",
       "      <td>113321.332334</td>\n",
       "      <td>78.290510</td>\n",
       "    </tr>\n",
       "    <tr>\n",
       "      <th>4</th>\n",
       "      <td>103567.475495</td>\n",
       "      <td>93.837931</td>\n",
       "    </tr>\n",
       "    <tr>\n",
       "      <th>5</th>\n",
       "      <td>126100.697242</td>\n",
       "      <td>100.966667</td>\n",
       "    </tr>\n",
       "    <tr>\n",
       "      <th>6</th>\n",
       "      <td>81981.981982</td>\n",
       "      <td>111.000000</td>\n",
       "    </tr>\n",
       "  </tbody>\n",
       "</table>\n",
       "</div>"
      ],
      "text/plain": [
       "       price_per_meter  total_area\n",
       "rooms                             \n",
       "0        131250.000000   16.000000\n",
       "1        117132.813320   38.629630\n",
       "2        112840.142687   63.746698\n",
       "3        113321.332334   78.290510\n",
       "4        103567.475495   93.837931\n",
       "5        126100.697242  100.966667\n",
       "6         81981.981982  111.000000"
      ]
     },
     "metadata": {},
     "output_type": "display_data"
    }
   ],
   "source": [
    "display(realty_spb_center.pivot_table(index='rooms', values=['total_area','price_per_meter']))"
   ]
  },
  {
   "cell_type": "markdown",
   "metadata": {},
   "source": [
    "Влияние количества комнат и метража на стоимость одинакова для обоих групп (общей по Петербургу и ЛО и усеченной до центра Петербурга).\n",
    "\n",
    "Посмотрим, сохранена ли зависимость от типа этажа."
   ]
  },
  {
   "cell_type": "code",
   "execution_count": 69,
   "metadata": {},
   "outputs": [
    {
     "name": "stdout",
     "output_type": "stream",
     "text": [
      "            price_per_meter\n",
      "floor_type                 \n",
      "другой        115438.401004\n",
      "первый        102505.631960\n",
      "последний     114510.235850\n"
     ]
    }
   ],
   "source": [
    "print(realty_spb_center.pivot_table(index='floor_type', values='price_per_meter'))"
   ]
  },
  {
   "cell_type": "markdown",
   "metadata": {},
   "source": [
    "Да, типам этажей одинаково придается значение что в центре Петербурга, что на его окраинах, что в Ленинградской области."
   ]
  },
  {
   "cell_type": "markdown",
   "metadata": {},
   "source": [
    "Проверим, действительно ли высота потолков не важна. Или такой результат появился благодаря нашему вмешательству."
   ]
  },
  {
   "cell_type": "code",
   "execution_count": 70,
   "metadata": {},
   "outputs": [
    {
     "data": {
      "text/html": [
       "<style  type=\"text/css\" >\n",
       "#T_17f84_row0_col0,#T_17f84_row1_col1,#T_17f84_row2_col2,#T_17f84_row3_col3,#T_17f84_row4_col4,#T_17f84_row4_col6,#T_17f84_row5_col5,#T_17f84_row6_col4,#T_17f84_row6_col6{\n",
       "            background-color:  #b40426;\n",
       "            color:  #f1f1f1;\n",
       "        }#T_17f84_row0_col1{\n",
       "            background-color:  #ec7f63;\n",
       "            color:  #000000;\n",
       "        }#T_17f84_row0_col2{\n",
       "            background-color:  #e6d7cf;\n",
       "            color:  #000000;\n",
       "        }#T_17f84_row0_col3,#T_17f84_row2_col0,#T_17f84_row5_col3{\n",
       "            background-color:  #ebd3c6;\n",
       "            color:  #000000;\n",
       "        }#T_17f84_row0_col4,#T_17f84_row0_col6{\n",
       "            background-color:  #5f7fe8;\n",
       "            color:  #000000;\n",
       "        }#T_17f84_row0_col5{\n",
       "            background-color:  #f59f80;\n",
       "            color:  #000000;\n",
       "        }#T_17f84_row1_col0{\n",
       "            background-color:  #eb7d62;\n",
       "            color:  #000000;\n",
       "        }#T_17f84_row1_col2{\n",
       "            background-color:  #ee8669;\n",
       "            color:  #000000;\n",
       "        }#T_17f84_row1_col3{\n",
       "            background-color:  #f2cbb7;\n",
       "            color:  #000000;\n",
       "        }#T_17f84_row1_col4,#T_17f84_row1_col6{\n",
       "            background-color:  #6282ea;\n",
       "            color:  #000000;\n",
       "        }#T_17f84_row1_col5{\n",
       "            background-color:  #cad8ef;\n",
       "            color:  #000000;\n",
       "        }#T_17f84_row2_col1{\n",
       "            background-color:  #ed8366;\n",
       "            color:  #000000;\n",
       "        }#T_17f84_row2_col3{\n",
       "            background-color:  #d3dbe7;\n",
       "            color:  #000000;\n",
       "        }#T_17f84_row2_col4,#T_17f84_row2_col6{\n",
       "            background-color:  #6f92f3;\n",
       "            color:  #000000;\n",
       "        }#T_17f84_row2_col5{\n",
       "            background-color:  #88abfd;\n",
       "            color:  #000000;\n",
       "        }#T_17f84_row3_col0{\n",
       "            background-color:  #dddcdc;\n",
       "            color:  #000000;\n",
       "        }#T_17f84_row3_col1{\n",
       "            background-color:  #e7d7ce;\n",
       "            color:  #000000;\n",
       "        }#T_17f84_row3_col2{\n",
       "            background-color:  #b2ccfb;\n",
       "            color:  #000000;\n",
       "        }#T_17f84_row3_col4,#T_17f84_row3_col6,#T_17f84_row4_col0,#T_17f84_row4_col1,#T_17f84_row4_col2,#T_17f84_row4_col3,#T_17f84_row4_col5,#T_17f84_row6_col0,#T_17f84_row6_col1,#T_17f84_row6_col2,#T_17f84_row6_col3,#T_17f84_row6_col5{\n",
       "            background-color:  #3b4cc0;\n",
       "            color:  #f1f1f1;\n",
       "        }#T_17f84_row3_col5{\n",
       "            background-color:  #e2dad5;\n",
       "            color:  #000000;\n",
       "        }#T_17f84_row5_col0{\n",
       "            background-color:  #f6a385;\n",
       "            color:  #000000;\n",
       "        }#T_17f84_row5_col1{\n",
       "            background-color:  #c0d4f5;\n",
       "            color:  #000000;\n",
       "        }#T_17f84_row5_col2{\n",
       "            background-color:  #6e90f2;\n",
       "            color:  #000000;\n",
       "        }#T_17f84_row5_col4,#T_17f84_row5_col6{\n",
       "            background-color:  #5470de;\n",
       "            color:  #000000;\n",
       "        }</style><table id=\"T_17f84_\" ><thead>    <tr>        <th class=\"blank level0\" ></th>        <th class=\"col_heading level0 col0\" >last_price</th>        <th class=\"col_heading level0 col1\" >total_area</th>        <th class=\"col_heading level0 col2\" >rooms</th>        <th class=\"col_heading level0 col3\" >ceiling_height</th>        <th class=\"col_heading level0 col4\" >city_centers_nearest</th>        <th class=\"col_heading level0 col5\" >price_per_meter</th>        <th class=\"col_heading level0 col6\" >city_centers_km</th>    </tr></thead><tbody>\n",
       "                <tr>\n",
       "                        <th id=\"T_17f84_level0_row0\" class=\"row_heading level0 row0\" >last_price</th>\n",
       "                        <td id=\"T_17f84_row0_col0\" class=\"data row0 col0\" >1.000000</td>\n",
       "                        <td id=\"T_17f84_row0_col1\" class=\"data row0 col1\" >0.758282</td>\n",
       "                        <td id=\"T_17f84_row0_col2\" class=\"data row0 col2\" >0.434482</td>\n",
       "                        <td id=\"T_17f84_row0_col3\" class=\"data row0 col3\" >0.356578</td>\n",
       "                        <td id=\"T_17f84_row0_col4\" class=\"data row0 col4\" >-0.291295</td>\n",
       "                        <td id=\"T_17f84_row0_col5\" class=\"data row0 col5\" >0.646437</td>\n",
       "                        <td id=\"T_17f84_row0_col6\" class=\"data row0 col6\" >-0.290420</td>\n",
       "            </tr>\n",
       "            <tr>\n",
       "                        <th id=\"T_17f84_level0_row1\" class=\"row_heading level0 row1\" >total_area</th>\n",
       "                        <td id=\"T_17f84_row1_col0\" class=\"data row1 col0\" >0.758282</td>\n",
       "                        <td id=\"T_17f84_row1_col1\" class=\"data row1 col1\" >1.000000</td>\n",
       "                        <td id=\"T_17f84_row1_col2\" class=\"data row1 col2\" >0.749118</td>\n",
       "                        <td id=\"T_17f84_row1_col3\" class=\"data row1 col3\" >0.411917</td>\n",
       "                        <td id=\"T_17f84_row1_col4\" class=\"data row1 col4\" >-0.281973</td>\n",
       "                        <td id=\"T_17f84_row1_col5\" class=\"data row1 col5\" >0.232766</td>\n",
       "                        <td id=\"T_17f84_row1_col6\" class=\"data row1 col6\" >-0.281058</td>\n",
       "            </tr>\n",
       "            <tr>\n",
       "                        <th id=\"T_17f84_level0_row2\" class=\"row_heading level0 row2\" >rooms</th>\n",
       "                        <td id=\"T_17f84_row2_col0\" class=\"data row2 col0\" >0.434482</td>\n",
       "                        <td id=\"T_17f84_row2_col1\" class=\"data row2 col1\" >0.749118</td>\n",
       "                        <td id=\"T_17f84_row2_col2\" class=\"data row2 col2\" >1.000000</td>\n",
       "                        <td id=\"T_17f84_row2_col3\" class=\"data row2 col3\" >0.213232</td>\n",
       "                        <td id=\"T_17f84_row2_col4\" class=\"data row2 col4\" >-0.225042</td>\n",
       "                        <td id=\"T_17f84_row2_col5\" class=\"data row2 col5\" >-0.027471</td>\n",
       "                        <td id=\"T_17f84_row2_col6\" class=\"data row2 col6\" >-0.223550</td>\n",
       "            </tr>\n",
       "            <tr>\n",
       "                        <th id=\"T_17f84_level0_row3\" class=\"row_heading level0 row3\" >ceiling_height</th>\n",
       "                        <td id=\"T_17f84_row3_col0\" class=\"data row3 col0\" >0.356578</td>\n",
       "                        <td id=\"T_17f84_row3_col1\" class=\"data row3 col1\" >0.411917</td>\n",
       "                        <td id=\"T_17f84_row3_col2\" class=\"data row3 col2\" >0.213232</td>\n",
       "                        <td id=\"T_17f84_row3_col3\" class=\"data row3 col3\" >1.000000</td>\n",
       "                        <td id=\"T_17f84_row3_col4\" class=\"data row3 col4\" >-0.466750</td>\n",
       "                        <td id=\"T_17f84_row3_col5\" class=\"data row3 col5\" >0.358025</td>\n",
       "                        <td id=\"T_17f84_row3_col6\" class=\"data row3 col6\" >-0.465976</td>\n",
       "            </tr>\n",
       "            <tr>\n",
       "                        <th id=\"T_17f84_level0_row4\" class=\"row_heading level0 row4\" >city_centers_nearest</th>\n",
       "                        <td id=\"T_17f84_row4_col0\" class=\"data row4 col0\" >-0.291295</td>\n",
       "                        <td id=\"T_17f84_row4_col1\" class=\"data row4 col1\" >-0.281973</td>\n",
       "                        <td id=\"T_17f84_row4_col2\" class=\"data row4 col2\" >-0.225042</td>\n",
       "                        <td id=\"T_17f84_row4_col3\" class=\"data row4 col3\" >-0.466750</td>\n",
       "                        <td id=\"T_17f84_row4_col4\" class=\"data row4 col4\" >1.000000</td>\n",
       "                        <td id=\"T_17f84_row4_col5\" class=\"data row4 col5\" >-0.345711</td>\n",
       "                        <td id=\"T_17f84_row4_col6\" class=\"data row4 col6\" >0.998004</td>\n",
       "            </tr>\n",
       "            <tr>\n",
       "                        <th id=\"T_17f84_level0_row5\" class=\"row_heading level0 row5\" >price_per_meter</th>\n",
       "                        <td id=\"T_17f84_row5_col0\" class=\"data row5 col0\" >0.646437</td>\n",
       "                        <td id=\"T_17f84_row5_col1\" class=\"data row5 col1\" >0.232766</td>\n",
       "                        <td id=\"T_17f84_row5_col2\" class=\"data row5 col2\" >-0.027471</td>\n",
       "                        <td id=\"T_17f84_row5_col3\" class=\"data row5 col3\" >0.358025</td>\n",
       "                        <td id=\"T_17f84_row5_col4\" class=\"data row5 col4\" >-0.345711</td>\n",
       "                        <td id=\"T_17f84_row5_col5\" class=\"data row5 col5\" >1.000000</td>\n",
       "                        <td id=\"T_17f84_row5_col6\" class=\"data row5 col6\" >-0.345702</td>\n",
       "            </tr>\n",
       "            <tr>\n",
       "                        <th id=\"T_17f84_level0_row6\" class=\"row_heading level0 row6\" >city_centers_km</th>\n",
       "                        <td id=\"T_17f84_row6_col0\" class=\"data row6 col0\" >-0.290420</td>\n",
       "                        <td id=\"T_17f84_row6_col1\" class=\"data row6 col1\" >-0.281058</td>\n",
       "                        <td id=\"T_17f84_row6_col2\" class=\"data row6 col2\" >-0.223550</td>\n",
       "                        <td id=\"T_17f84_row6_col3\" class=\"data row6 col3\" >-0.465976</td>\n",
       "                        <td id=\"T_17f84_row6_col4\" class=\"data row6 col4\" >0.998004</td>\n",
       "                        <td id=\"T_17f84_row6_col5\" class=\"data row6 col5\" >-0.345702</td>\n",
       "                        <td id=\"T_17f84_row6_col6\" class=\"data row6 col6\" >1.000000</td>\n",
       "            </tr>\n",
       "    </tbody></table>"
      ],
      "text/plain": [
       "<pandas.io.formats.style.Styler at 0x227fdbd2a90>"
      ]
     },
     "execution_count": 70,
     "metadata": {},
     "output_type": "execute_result"
    }
   ],
   "source": [
    "ceil_real = ceil_real[ceil_real['locality_name'] == 'Санкт-Петербург']\n",
    "ceil_real.loc[:, 'city_centers_km'] = (ceil_real.loc[:, 'city_centers_nearest'] / 1000).round()\n",
    "ceil_real.corr().style.background_gradient(cmap='coolwarm')"
   ]
  },
  {
   "cell_type": "markdown",
   "metadata": {},
   "source": [
    "Замена пропусков средним была ошибкой. Данные в основном датафрейме \"сгладились\", и взаимосвязь стоимости и высоты потолков была скрыта. Правильным будем считать результат, полученный от \"чистого\" датасета с удаленными пропусками (коэффициэнт Пирсона = 0.35). Отметим также и тот факт, что в запасном наборе цена квадратного метра положительно коррелирует с площадью."
   ]
  },
  {
   "cell_type": "markdown",
   "metadata": {},
   "source": [
    "### Вывод"
   ]
  },
  {
   "cell_type": "markdown",
   "metadata": {},
   "source": [
    "В разделе выделены основные факторы, влияющие на формирование конечной стоимости недвижимости.\n",
    "\n",
    "В большой и малой группах (ПиЛО - Петербург и ЛО, ЦП - центр Петербурга) общий метраж показал отрицательную корреляцию с ценой. Зависимость между ценой и количеством комнат в обеих группах не совсем линейная. Стоимость за квадратный метр падает с ростом числа комнат, затем снова идет вверх, а потом снижается.\n",
    "\n",
    "В обеих группах положительно влияют на цену высокие потолки и большая кухня.\n",
    "\n",
    "Самые недорогие этажи - нижние, следом последние верхние, а за любой другой этаж придется раскошелиться еще сильнее.\n",
    "\n",
    "Неожиданно отрицательную корреляцию показала близость к центру. Возможно, речь идет не о недостатках жизни в сердце Петербурга, а о наличии там старого жилого фонда, который объективно может стоить дешевле. Что касается группы ПиЛО, то здесь учитываются и другие населенные пункты, кроме Петербурга. Например, квартира в центре Выборга может стоить дороже квартиры на его окраине, хотя эта окраина географически расположена ближе к Петербургу. \n",
    "\n",
    "Наблюдается также взаимосвязь между стоимостью и годом продажи. В основном, стоимость растет с каждым годом, но здесь имеется провал 2015-2018гг. Скорее всего, это влияние объективных рыночных законов и потрясений, произошедших в экономике в 2014г (тогда курс рубля сильно просел). Спрос на недвижимость ожидаемо упал, а рынок отреагировал на это снижением цен в 2015г (всегда есть временной лаг).\n",
    "\n",
    "А вот влияние месяца и даты публикации объявления на уровень цен не выявлено, что в ЛО и Петербурге, что в его центре."
   ]
  },
  {
   "cell_type": "markdown",
   "metadata": {},
   "source": [
    "## Общий вывод"
   ]
  },
  {
   "cell_type": "markdown",
   "metadata": {},
   "source": [
    "Для оценки стоимости жилья следует учитывать целую совокупность факторов: общую площадь и количество комнат, высокие потолки и площадь кухни, тип этажа и близость к центру, а также общую ситуацию на рынке.\n",
    "\n",
    "Подавляющая часть результатов оказалась вполне предсказуемой. Однако, были итоги, которые удивили. Например, отрицательная корреляция с центром города или жилой площадью в центре Петербурга. \n",
    "\n",
    "Влияние факторов на рынки жилья в разных группах (ПиЛО и ЦП) можно считать идентичным.\n",
    "\n",
    "В процессе исследования из набора отброшены квартиры с очень большой стоимостью и площадью. Во-первых, единичные сверхвысокие значения могут сильно исказить результаты исследования. Во-вторых, сложно оценить стоимость подобных объектов, руководствуясь только приведенными в датасете параметрами. Например, значительную роль здесь могут сыграть дорогой ремонт, мебель, присутствие антиквариата, гардеробной, наличие фитнес-центра для владельцев недвижимости и прочие факторы.\n",
    "\n",
    "В исследовании не учтен такой крайне важный фактор, как удаленность от станций метро. Возможность попасть быстро из точки А в точку Б для жителей крупных городов является очень важной. Нет данных о годе постройки дома (по этому параметру можно предположить состояние строения) и наличия лифта.\n",
    "\n",
    "Вопрос вызывает массовое размещение объявлений на 45 дней. Это техническая ошибка или есть какое-то условие публикации на сервисе?\n",
    "Для более детального анализа необходимо проставить координаты населенных пунктов (там, где они пропущены). Также рекомендуется проверить порядок заполнения параметра высоты потолков (ceiling_height), поскольку там присутствует много подозрительных значений."
   ]
  },
  {
   "cell_type": "code",
   "execution_count": null,
   "metadata": {},
   "outputs": [],
   "source": []
  }
 ],
 "metadata": {
  "kernelspec": {
   "display_name": "Python 3",
   "language": "python",
   "name": "python3"
  },
  "language_info": {
   "codemirror_mode": {
    "name": "ipython",
    "version": 3
   },
   "file_extension": ".py",
   "mimetype": "text/x-python",
   "name": "python",
   "nbconvert_exporter": "python",
   "pygments_lexer": "ipython3",
   "version": "3.8.8"
  },
  "toc": {
   "base_numbering": 1,
   "nav_menu": {},
   "number_sections": true,
   "sideBar": true,
   "skip_h1_title": true,
   "title_cell": "Table of Contents",
   "title_sidebar": "Contents",
   "toc_cell": false,
   "toc_position": {},
   "toc_section_display": true,
   "toc_window_display": true
  }
 },
 "nbformat": 4,
 "nbformat_minor": 2
}
