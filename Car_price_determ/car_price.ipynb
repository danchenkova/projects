{
 "cells": [
  {
   "cell_type": "markdown",
   "metadata": {
    "id": "N-6AMAdJ2e-W"
   },
   "source": [
    "# Определение стоимости автомобилей"
   ]
  },
  {
   "cell_type": "markdown",
   "metadata": {
    "id": "g-vDoilL2e-a"
   },
   "source": [
    "## Описание проекта"
   ]
  },
  {
   "cell_type": "markdown",
   "metadata": {
    "id": "U6WVHTEa2e-c"
   },
   "source": [
    "Сервис по продаже автомобилей с пробегом разрабатывает приложение для привлечения новых клиентов. В нём можно быстро узнать рыночную стоимость своего автомобиля. Компания предоставила исторические данные: технические характеристики, комплектации и цены автомобилей. Нужно построить модель для определения стоимости. Заказчику важны качество и скорость предсказания, а также время обучения."
   ]
  },
  {
   "cell_type": "markdown",
   "metadata": {
    "id": "eqJbnCDi2e-c"
   },
   "source": [
    "**Цель проекта**\n",
    "\n",
    "Построить наилучшую модель для прогнозирования рыночной стоимости автомобиля, основываясь на исторических данных с техническими характеристиками и комплектацией.\n",
    "\n",
    "**Задачи**\n",
    "\n",
    "1. Изучить предоставленный набор данных на наличие пропусков, дубликатов и артефактов.\n",
    "2. Подготовить данные для анализа, обработать признаки, выявить зависимости между параметрами.\n",
    "3. Исследовать разные модели и рассмотреть, как меняются показатели оценки в зависимости от примененной модели. Подобрать гиперпараметры.\n",
    "4. Проверить модели на тестовой выборке, выявить наилучшую и проверить по итоговой метрике RMSE."
   ]
  },
  {
   "cell_type": "markdown",
   "metadata": {
    "id": "JOGFt-h72e-e"
   },
   "source": [
    "## Подготовка данных"
   ]
  },
  {
   "cell_type": "code",
   "execution_count": 58,
   "metadata": {
    "colab": {
     "base_uri": "https://localhost:8080/"
    },
    "id": "CHKaCBhd3yVQ",
    "outputId": "247c7e90-98d6-4c87-f8b1-86261adca987"
   },
   "outputs": [
    {
     "name": "stdout",
     "output_type": "stream",
     "text": [
      "Requirement already satisfied: catboost in /usr/local/lib/python3.7/dist-packages (0.26.1)\n",
      "Requirement already satisfied: numpy>=1.16.0 in /usr/local/lib/python3.7/dist-packages (from catboost) (1.19.5)\n",
      "Requirement already satisfied: plotly in /usr/local/lib/python3.7/dist-packages (from catboost) (4.4.1)\n",
      "Requirement already satisfied: six in /usr/local/lib/python3.7/dist-packages (from catboost) (1.15.0)\n",
      "Requirement already satisfied: graphviz in /usr/local/lib/python3.7/dist-packages (from catboost) (0.10.1)\n",
      "Requirement already satisfied: pandas>=0.24.0 in /usr/local/lib/python3.7/dist-packages (from catboost) (1.1.5)\n",
      "Requirement already satisfied: scipy in /usr/local/lib/python3.7/dist-packages (from catboost) (1.4.1)\n",
      "Requirement already satisfied: matplotlib in /usr/local/lib/python3.7/dist-packages (from catboost) (3.2.2)\n",
      "Requirement already satisfied: pytz>=2017.2 in /usr/local/lib/python3.7/dist-packages (from pandas>=0.24.0->catboost) (2018.9)\n",
      "Requirement already satisfied: python-dateutil>=2.7.3 in /usr/local/lib/python3.7/dist-packages (from pandas>=0.24.0->catboost) (2.8.2)\n",
      "Requirement already satisfied: cycler>=0.10 in /usr/local/lib/python3.7/dist-packages (from matplotlib->catboost) (0.10.0)\n",
      "Requirement already satisfied: kiwisolver>=1.0.1 in /usr/local/lib/python3.7/dist-packages (from matplotlib->catboost) (1.3.1)\n",
      "Requirement already satisfied: pyparsing!=2.0.4,!=2.1.2,!=2.1.6,>=2.0.1 in /usr/local/lib/python3.7/dist-packages (from matplotlib->catboost) (2.4.7)\n",
      "Requirement already satisfied: retrying>=1.3.3 in /usr/local/lib/python3.7/dist-packages (from plotly->catboost) (1.3.3)\n"
     ]
    }
   ],
   "source": [
    "pip install catboost"
   ]
  },
  {
   "cell_type": "code",
   "execution_count": 59,
   "metadata": {
    "id": "jzAfhXsp2e-e"
   },
   "outputs": [],
   "source": [
    "import pandas as pd\n",
    "import numpy as np\n",
    "import matplotlib.pyplot as plt\n",
    "from IPython.display import display\n",
    "from timeit import default_timer as timer\n",
    "\n",
    "from sklearn.model_selection import train_test_split, GridSearchCV, cross_val_score\n",
    "from sklearn.preprocessing import StandardScaler\n",
    "pd.options.mode.chained_assignment = None\n",
    "from sklearn.preprocessing import OrdinalEncoder\n",
    "\n",
    "from sklearn.linear_model import LinearRegression\n",
    "from sklearn.tree import DecisionTreeRegressor\n",
    "from sklearn.ensemble import RandomForestRegressor\n",
    "from sklearn.linear_model import SGDRegressor\n",
    "from lightgbm import LGBMRegressor\n",
    "from catboost import CatBoostRegressor\n",
    "from sklearn.dummy import DummyRegressor\n",
    "\n",
    "from scipy import stats as st\n",
    "from sklearn import metrics\n",
    "from sklearn.metrics import mean_squared_error, r2_score, make_scorer\n",
    "\n",
    "import warnings\n",
    "warnings.filterwarnings(\"ignore\")"
   ]
  },
  {
   "cell_type": "markdown",
   "metadata": {
    "id": "yPe0gj7-2e-g"
   },
   "source": [
    "### Изучение и корректировка исходных данных"
   ]
  },
  {
   "cell_type": "markdown",
   "metadata": {
    "id": "2KjxteaX2e-h"
   },
   "source": [
    "Загрузим предоставленный файл и сохраним его в переменной autos."
   ]
  },
  {
   "cell_type": "code",
   "execution_count": 60,
   "metadata": {
    "colab": {
     "base_uri": "https://localhost:8080/",
     "height": 399
    },
    "id": "1-8m8aKU2e-j",
    "outputId": "8d4d5251-6243-4c0e-ff0a-1d6cb2e161dd"
   },
   "outputs": [
    {
     "data": {
      "text/html": [
       "<div>\n",
       "<style scoped>\n",
       "    .dataframe tbody tr th:only-of-type {\n",
       "        vertical-align: middle;\n",
       "    }\n",
       "\n",
       "    .dataframe tbody tr th {\n",
       "        vertical-align: top;\n",
       "    }\n",
       "\n",
       "    .dataframe thead th {\n",
       "        text-align: right;\n",
       "    }\n",
       "</style>\n",
       "<table border=\"1\" class=\"dataframe\">\n",
       "  <thead>\n",
       "    <tr style=\"text-align: right;\">\n",
       "      <th></th>\n",
       "      <th>DateCrawled</th>\n",
       "      <th>Price</th>\n",
       "      <th>VehicleType</th>\n",
       "      <th>RegistrationYear</th>\n",
       "      <th>Gearbox</th>\n",
       "      <th>Power</th>\n",
       "      <th>Model</th>\n",
       "      <th>Kilometer</th>\n",
       "      <th>RegistrationMonth</th>\n",
       "      <th>FuelType</th>\n",
       "      <th>Brand</th>\n",
       "      <th>NotRepaired</th>\n",
       "      <th>DateCreated</th>\n",
       "      <th>NumberOfPictures</th>\n",
       "      <th>PostalCode</th>\n",
       "      <th>LastSeen</th>\n",
       "    </tr>\n",
       "  </thead>\n",
       "  <tbody>\n",
       "    <tr>\n",
       "      <th>0</th>\n",
       "      <td>2016-03-24 11:52:17</td>\n",
       "      <td>480</td>\n",
       "      <td>NaN</td>\n",
       "      <td>1993</td>\n",
       "      <td>manual</td>\n",
       "      <td>0</td>\n",
       "      <td>golf</td>\n",
       "      <td>150000</td>\n",
       "      <td>0</td>\n",
       "      <td>petrol</td>\n",
       "      <td>volkswagen</td>\n",
       "      <td>NaN</td>\n",
       "      <td>2016-03-24 00:00:00</td>\n",
       "      <td>0</td>\n",
       "      <td>70435</td>\n",
       "      <td>2016-04-07 03:16:57</td>\n",
       "    </tr>\n",
       "    <tr>\n",
       "      <th>1</th>\n",
       "      <td>2016-03-24 10:58:45</td>\n",
       "      <td>18300</td>\n",
       "      <td>coupe</td>\n",
       "      <td>2011</td>\n",
       "      <td>manual</td>\n",
       "      <td>190</td>\n",
       "      <td>NaN</td>\n",
       "      <td>125000</td>\n",
       "      <td>5</td>\n",
       "      <td>gasoline</td>\n",
       "      <td>audi</td>\n",
       "      <td>yes</td>\n",
       "      <td>2016-03-24 00:00:00</td>\n",
       "      <td>0</td>\n",
       "      <td>66954</td>\n",
       "      <td>2016-04-07 01:46:50</td>\n",
       "    </tr>\n",
       "    <tr>\n",
       "      <th>2</th>\n",
       "      <td>2016-03-14 12:52:21</td>\n",
       "      <td>9800</td>\n",
       "      <td>suv</td>\n",
       "      <td>2004</td>\n",
       "      <td>auto</td>\n",
       "      <td>163</td>\n",
       "      <td>grand</td>\n",
       "      <td>125000</td>\n",
       "      <td>8</td>\n",
       "      <td>gasoline</td>\n",
       "      <td>jeep</td>\n",
       "      <td>NaN</td>\n",
       "      <td>2016-03-14 00:00:00</td>\n",
       "      <td>0</td>\n",
       "      <td>90480</td>\n",
       "      <td>2016-04-05 12:47:46</td>\n",
       "    </tr>\n",
       "    <tr>\n",
       "      <th>3</th>\n",
       "      <td>2016-03-17 16:54:04</td>\n",
       "      <td>1500</td>\n",
       "      <td>small</td>\n",
       "      <td>2001</td>\n",
       "      <td>manual</td>\n",
       "      <td>75</td>\n",
       "      <td>golf</td>\n",
       "      <td>150000</td>\n",
       "      <td>6</td>\n",
       "      <td>petrol</td>\n",
       "      <td>volkswagen</td>\n",
       "      <td>no</td>\n",
       "      <td>2016-03-17 00:00:00</td>\n",
       "      <td>0</td>\n",
       "      <td>91074</td>\n",
       "      <td>2016-03-17 17:40:17</td>\n",
       "    </tr>\n",
       "    <tr>\n",
       "      <th>4</th>\n",
       "      <td>2016-03-31 17:25:20</td>\n",
       "      <td>3600</td>\n",
       "      <td>small</td>\n",
       "      <td>2008</td>\n",
       "      <td>manual</td>\n",
       "      <td>69</td>\n",
       "      <td>fabia</td>\n",
       "      <td>90000</td>\n",
       "      <td>7</td>\n",
       "      <td>gasoline</td>\n",
       "      <td>skoda</td>\n",
       "      <td>no</td>\n",
       "      <td>2016-03-31 00:00:00</td>\n",
       "      <td>0</td>\n",
       "      <td>60437</td>\n",
       "      <td>2016-04-06 10:17:21</td>\n",
       "    </tr>\n",
       "  </tbody>\n",
       "</table>\n",
       "</div>"
      ],
      "text/plain": [
       "           DateCrawled  Price  ... PostalCode             LastSeen\n",
       "0  2016-03-24 11:52:17    480  ...      70435  2016-04-07 03:16:57\n",
       "1  2016-03-24 10:58:45  18300  ...      66954  2016-04-07 01:46:50\n",
       "2  2016-03-14 12:52:21   9800  ...      90480  2016-04-05 12:47:46\n",
       "3  2016-03-17 16:54:04   1500  ...      91074  2016-03-17 17:40:17\n",
       "4  2016-03-31 17:25:20   3600  ...      60437  2016-04-06 10:17:21\n",
       "\n",
       "[5 rows x 16 columns]"
      ]
     },
     "metadata": {
      "tags": []
     },
     "output_type": "display_data"
    }
   ],
   "source": [
    "autos = pd.read_csv('/content/autos.csv')\n",
    "display(autos.head())"
   ]
  },
  {
   "cell_type": "markdown",
   "metadata": {
    "id": "BlplVKVB2e-l"
   },
   "source": [
    "Посмотрим, столбцы с какими типами данных имеются в датасете, и есть ли там пропуски."
   ]
  },
  {
   "cell_type": "code",
   "execution_count": 61,
   "metadata": {
    "colab": {
     "base_uri": "https://localhost:8080/"
    },
    "id": "lLGOqm6X2e-m",
    "outputId": "2c035847-ceb0-467a-fd52-ea71907ab74f"
   },
   "outputs": [
    {
     "name": "stdout",
     "output_type": "stream",
     "text": [
      "<class 'pandas.core.frame.DataFrame'>\n",
      "RangeIndex: 354369 entries, 0 to 354368\n",
      "Data columns (total 16 columns):\n",
      " #   Column             Non-Null Count   Dtype \n",
      "---  ------             --------------   ----- \n",
      " 0   DateCrawled        354369 non-null  object\n",
      " 1   Price              354369 non-null  int64 \n",
      " 2   VehicleType        316879 non-null  object\n",
      " 3   RegistrationYear   354369 non-null  int64 \n",
      " 4   Gearbox            334536 non-null  object\n",
      " 5   Power              354369 non-null  int64 \n",
      " 6   Model              334664 non-null  object\n",
      " 7   Kilometer          354369 non-null  int64 \n",
      " 8   RegistrationMonth  354369 non-null  int64 \n",
      " 9   FuelType           321474 non-null  object\n",
      " 10  Brand              354369 non-null  object\n",
      " 11  NotRepaired        283215 non-null  object\n",
      " 12  DateCreated        354369 non-null  object\n",
      " 13  NumberOfPictures   354369 non-null  int64 \n",
      " 14  PostalCode         354369 non-null  int64 \n",
      " 15  LastSeen           354369 non-null  object\n",
      "dtypes: int64(7), object(9)\n",
      "memory usage: 43.3+ MB\n",
      "None\n"
     ]
    }
   ],
   "source": [
    "print(autos.info())"
   ]
  },
  {
   "cell_type": "markdown",
   "metadata": {
    "id": "n5YjS4rJ2e-m"
   },
   "source": [
    "В ряде столбцов имеются пропущенные значения. Также все столбцы с датами не имеют нужного типа. Например, в колонках DateCrawled,  DateCreated и LastSeen сейчас тип данных object, а в RegistrationYear и RegistrationMonth - int64.\n",
    "\n",
    "Выведем основную статистику по столбцам и поищем в них неадекватные значения."
   ]
  },
  {
   "cell_type": "code",
   "execution_count": 62,
   "metadata": {
    "colab": {
     "base_uri": "https://localhost:8080/",
     "height": 320
    },
    "id": "tISGWshN2e-n",
    "outputId": "37771b2b-705b-4d21-c74d-c85367daea94"
   },
   "outputs": [
    {
     "data": {
      "text/html": [
       "<div>\n",
       "<style scoped>\n",
       "    .dataframe tbody tr th:only-of-type {\n",
       "        vertical-align: middle;\n",
       "    }\n",
       "\n",
       "    .dataframe tbody tr th {\n",
       "        vertical-align: top;\n",
       "    }\n",
       "\n",
       "    .dataframe thead th {\n",
       "        text-align: right;\n",
       "    }\n",
       "</style>\n",
       "<table border=\"1\" class=\"dataframe\">\n",
       "  <thead>\n",
       "    <tr style=\"text-align: right;\">\n",
       "      <th></th>\n",
       "      <th>Price</th>\n",
       "      <th>RegistrationYear</th>\n",
       "      <th>Power</th>\n",
       "      <th>Kilometer</th>\n",
       "      <th>RegistrationMonth</th>\n",
       "      <th>NumberOfPictures</th>\n",
       "      <th>PostalCode</th>\n",
       "    </tr>\n",
       "  </thead>\n",
       "  <tbody>\n",
       "    <tr>\n",
       "      <th>count</th>\n",
       "      <td>354369.000000</td>\n",
       "      <td>354369.000000</td>\n",
       "      <td>354369.000000</td>\n",
       "      <td>354369.000000</td>\n",
       "      <td>354369.000000</td>\n",
       "      <td>354369.0</td>\n",
       "      <td>354369.000000</td>\n",
       "    </tr>\n",
       "    <tr>\n",
       "      <th>mean</th>\n",
       "      <td>4416.656776</td>\n",
       "      <td>2004.234448</td>\n",
       "      <td>110.094337</td>\n",
       "      <td>128211.172535</td>\n",
       "      <td>5.714645</td>\n",
       "      <td>0.0</td>\n",
       "      <td>50508.689087</td>\n",
       "    </tr>\n",
       "    <tr>\n",
       "      <th>std</th>\n",
       "      <td>4514.158514</td>\n",
       "      <td>90.227958</td>\n",
       "      <td>189.850405</td>\n",
       "      <td>37905.341530</td>\n",
       "      <td>3.726421</td>\n",
       "      <td>0.0</td>\n",
       "      <td>25783.096248</td>\n",
       "    </tr>\n",
       "    <tr>\n",
       "      <th>min</th>\n",
       "      <td>0.000000</td>\n",
       "      <td>1000.000000</td>\n",
       "      <td>0.000000</td>\n",
       "      <td>5000.000000</td>\n",
       "      <td>0.000000</td>\n",
       "      <td>0.0</td>\n",
       "      <td>1067.000000</td>\n",
       "    </tr>\n",
       "    <tr>\n",
       "      <th>25%</th>\n",
       "      <td>1050.000000</td>\n",
       "      <td>1999.000000</td>\n",
       "      <td>69.000000</td>\n",
       "      <td>125000.000000</td>\n",
       "      <td>3.000000</td>\n",
       "      <td>0.0</td>\n",
       "      <td>30165.000000</td>\n",
       "    </tr>\n",
       "    <tr>\n",
       "      <th>50%</th>\n",
       "      <td>2700.000000</td>\n",
       "      <td>2003.000000</td>\n",
       "      <td>105.000000</td>\n",
       "      <td>150000.000000</td>\n",
       "      <td>6.000000</td>\n",
       "      <td>0.0</td>\n",
       "      <td>49413.000000</td>\n",
       "    </tr>\n",
       "    <tr>\n",
       "      <th>75%</th>\n",
       "      <td>6400.000000</td>\n",
       "      <td>2008.000000</td>\n",
       "      <td>143.000000</td>\n",
       "      <td>150000.000000</td>\n",
       "      <td>9.000000</td>\n",
       "      <td>0.0</td>\n",
       "      <td>71083.000000</td>\n",
       "    </tr>\n",
       "    <tr>\n",
       "      <th>max</th>\n",
       "      <td>20000.000000</td>\n",
       "      <td>9999.000000</td>\n",
       "      <td>20000.000000</td>\n",
       "      <td>150000.000000</td>\n",
       "      <td>12.000000</td>\n",
       "      <td>0.0</td>\n",
       "      <td>99998.000000</td>\n",
       "    </tr>\n",
       "  </tbody>\n",
       "</table>\n",
       "</div>"
      ],
      "text/plain": [
       "               Price  RegistrationYear  ...  NumberOfPictures     PostalCode\n",
       "count  354369.000000     354369.000000  ...          354369.0  354369.000000\n",
       "mean     4416.656776       2004.234448  ...               0.0   50508.689087\n",
       "std      4514.158514         90.227958  ...               0.0   25783.096248\n",
       "min         0.000000       1000.000000  ...               0.0    1067.000000\n",
       "25%      1050.000000       1999.000000  ...               0.0   30165.000000\n",
       "50%      2700.000000       2003.000000  ...               0.0   49413.000000\n",
       "75%      6400.000000       2008.000000  ...               0.0   71083.000000\n",
       "max     20000.000000       9999.000000  ...               0.0   99998.000000\n",
       "\n",
       "[8 rows x 7 columns]"
      ]
     },
     "metadata": {
      "tags": []
     },
     "output_type": "display_data"
    }
   ],
   "source": [
    "display(autos.describe())"
   ]
  },
  {
   "cell_type": "markdown",
   "metadata": {
    "id": "E_pvuqr-2e-n"
   },
   "source": [
    "В датасете много ошибок. В столбце RegistrationYear минимальное значение - 1000 лет, максимальное - 9999 год, что в принципе не может быть. Такая же ситуация со значением 0 в колонке RegistrationMonth. Стоит проверить и колонку Power (минимально 0, максимально 20000).\n",
    "Признак NumberOfPictures вообще какой-то бессмысленный, все значения равны 0. Эту колонку следует удалить."
   ]
  },
  {
   "cell_type": "markdown",
   "metadata": {
    "id": "8o7C6Lfu2e-o"
   },
   "source": [
    "Начнем с дат. Выведем диаграммы размаха по годам в разрезе каждого месяца."
   ]
  },
  {
   "cell_type": "code",
   "execution_count": 63,
   "metadata": {
    "colab": {
     "base_uri": "https://localhost:8080/",
     "height": 607
    },
    "id": "Ysio4xWO2e-o",
    "outputId": "2d0cdcc3-8d0f-4a1d-ef1a-bf9dad3d80dc"
   },
   "outputs": [
    {
     "data": {
      "text/plain": [
       "Text(0, 0.5, 'Год')"
      ]
     },
     "execution_count": 63,
     "metadata": {
      "tags": []
     },
     "output_type": "execute_result"
    },
    {
     "data": {
      "image/png": "[encoded data removed]",
      "text/plain": [
       "<Figure size 1008x648 with 1 Axes>"
      ]
     },
     "metadata": {
      "needs_background": "light",
      "tags": []
     },
     "output_type": "display_data"
    }
   ],
   "source": [
    "autos.boxplot(column='RegistrationYear', by='RegistrationMonth', figsize=(14,9))\n",
    "plt.title('Годы и месяцы регистрации, диаграммы размаха')\n",
    "plt.grid(alpha=0.2, linestyle='--', linewidth=1)\n",
    "plt.xlabel('Месяц')\n",
    "plt.ylabel('Год')"
   ]
  },
  {
   "cell_type": "markdown",
   "metadata": {
    "id": "-bJmmqGm2e-o"
   },
   "source": [
    "Выбросов очень много, они затрагивают значения тех годов, которые являются невероятными с точки зрения выпуска машин. Интересно, что большая часть выбросов приходится именно на нулевой месяц.\n",
    "\n",
    "Посмотрим, какова доля пропусков по колонкам в датасете."
   ]
  },
  {
   "cell_type": "code",
   "execution_count": 64,
   "metadata": {
    "colab": {
     "base_uri": "https://localhost:8080/"
    },
    "id": "oy0n0V7h2e-p",
    "outputId": "6c776acb-c7c2-436b-d8f4-ee43891465be"
   },
   "outputs": [
    {
     "name": "stdout",
     "output_type": "stream",
     "text": [
      "DateCrawled          0.000000\n",
      "Price                0.000000\n",
      "VehicleType          0.105794\n",
      "RegistrationYear     0.000000\n",
      "Gearbox              0.055967\n",
      "Power                0.000000\n",
      "Model                0.055606\n",
      "Kilometer            0.000000\n",
      "RegistrationMonth    0.000000\n",
      "FuelType             0.092827\n",
      "Brand                0.000000\n",
      "NotRepaired          0.200791\n",
      "DateCreated          0.000000\n",
      "NumberOfPictures     0.000000\n",
      "PostalCode           0.000000\n",
      "LastSeen             0.000000\n",
      "dtype: float64\n"
     ]
    }
   ],
   "source": [
    "print(autos.isnull().mean())"
   ]
  },
  {
   "cell_type": "markdown",
   "metadata": {
    "id": "oG9Xw85p2e-p"
   },
   "source": [
    "В колонках VehicleType и NotRepaired доля пропусков более 10%. Оба признака категориальные. Типов автомобильного кузова много, выбрать какой-то один для замены означает скорее всего не угадать. Проставлять значения, был ли автомобль в ремонте или нет тоже рисковая затея, поскольку одна пятая колонки может быть сильно исковеркана, а это довольно много. Обе колонки влияют на ценообразование, и, чтобы не искажать результаты, с этими данными придется расстаться."
   ]
  },
  {
   "cell_type": "code",
   "execution_count": 65,
   "metadata": {
    "colab": {
     "base_uri": "https://localhost:8080/"
    },
    "id": "Of5Q5S7r2e-p",
    "outputId": "c2c8cb02-d38f-4b46-f69b-9008194a74bd"
   },
   "outputs": [
    {
     "name": "stdout",
     "output_type": "stream",
     "text": [
      "354369\n",
      "245814\n"
     ]
    }
   ],
   "source": [
    "print(len(autos))\n",
    "autos = autos.dropna()\n",
    "print(len(autos))"
   ]
  },
  {
   "cell_type": "markdown",
   "metadata": {
    "id": "pgylH6E42e-q"
   },
   "source": [
    "Теперь снова выведем наши боксплоты и посмотрим, что получилось."
   ]
  },
  {
   "cell_type": "code",
   "execution_count": 66,
   "metadata": {
    "colab": {
     "base_uri": "https://localhost:8080/",
     "height": 611
    },
    "id": "tIgv8X5j2e-q",
    "outputId": "3b773f15-6f02-4d57-b103-9b82147fd431"
   },
   "outputs": [
    {
     "data": {
      "text/plain": [
       "Text(0, 0.5, 'Год')"
      ]
     },
     "execution_count": 66,
     "metadata": {
      "tags": []
     },
     "output_type": "execute_result"
    },
    {
     "data": {
      "image/png": "[encoded data removed]",
      "text/plain": [
       "<Figure size 1008x648 with 1 Axes>"
      ]
     },
     "metadata": {
      "needs_background": "light",
      "tags": []
     },
     "output_type": "display_data"
    }
   ],
   "source": [
    "autos.boxplot(column='RegistrationYear', by='RegistrationMonth', figsize=(14,9))\n",
    "plt.title('Годы и месяцы регистрации, диаграммы размаха')\n",
    "plt.grid(alpha=0.2, linestyle='--', linewidth=1)\n",
    "plt.xlabel('Месяц')\n",
    "plt.ylabel('Год')"
   ]
  },
  {
   "cell_type": "markdown",
   "metadata": {
    "id": "xGnnYHTq2e-q"
   },
   "source": [
    "Интересно, что все невозможные значения RegistrationYear были удалены вместе с пропусками в других колонках. Это убеждает нас в правильности решения об удалении записей с пропусками, т.к. эти строки содержали в себе не одну ошибку, а, как минимум, несколько.\n",
    "\n",
    "Тем не менее, аномальные значения все же остались. И если с 1910-1940 гг можно мириться (теоретически, кто-то может продавать автомобиль своего дедушки), то нулевой месяц нужно как-то обработать. \n",
    "\n",
    "Поскольку от месяца регистрации цена вряд ли будет сильно зависеть, но остальные данные в наблюдениях нам важны, заменим 0 на среднее или медианное значение. Для этого выведем среднее и медиану."
   ]
  },
  {
   "cell_type": "code",
   "execution_count": 67,
   "metadata": {
    "colab": {
     "base_uri": "https://localhost:8080/"
    },
    "id": "VzCH1a4X2e-r",
    "outputId": "c9d48c9c-82eb-40b0-84a0-3908d392ff1b"
   },
   "outputs": [
    {
     "name": "stdout",
     "output_type": "stream",
     "text": [
      "6.179700912071729\n",
      "6.0\n"
     ]
    }
   ],
   "source": [
    "print(autos['RegistrationMonth'].mean())\n",
    "print(autos['RegistrationMonth'].median())"
   ]
  },
  {
   "cell_type": "markdown",
   "metadata": {
    "id": "8kRox3bW2e-s"
   },
   "source": [
    "Все эти значения указывают на июнь, поэтому заменим 0 на шестой месяц."
   ]
  },
  {
   "cell_type": "code",
   "execution_count": 68,
   "metadata": {
    "id": "xRZKoiYc2e-s"
   },
   "outputs": [],
   "source": [
    "autos['RegistrationMonth'] = autos['RegistrationMonth'].replace(0, 6)"
   ]
  },
  {
   "cell_type": "markdown",
   "metadata": {
    "id": "GmpIbD5A2e-t"
   },
   "source": [
    "Посмотрим, что у нас получилось."
   ]
  },
  {
   "cell_type": "code",
   "execution_count": 69,
   "metadata": {
    "colab": {
     "base_uri": "https://localhost:8080/",
     "height": 295
    },
    "id": "R4GlsvVY2e-t",
    "outputId": "434c5fd8-d5ea-4489-ec29-26d327e23f5e"
   },
   "outputs": [
    {
     "data": {
      "image/png": "[encoded data removed]",
      "text/plain": [
       "<Figure size 432x288 with 1 Axes>"
      ]
     },
     "metadata": {
      "needs_background": "light",
      "tags": []
     },
     "output_type": "display_data"
    }
   ],
   "source": [
    "plt.hist(autos['RegistrationMonth'], density=True, bins=40, color='green', histtype='bar')\n",
    "plt.title('Распределение регистрации автомобилей по месяцам')\n",
    "plt.xlabel('Месяц')\n",
    "plt.ylabel('Плотность частоты')\n",
    "plt.grid(alpha=0.2, linestyle='--', linewidth=1)"
   ]
  },
  {
   "cell_type": "markdown",
   "metadata": {
    "id": "4Spo2VG52e-u"
   },
   "source": [
    "Да, шестого месяца стало больше всех в данных, но все же пик не выглядит сильно вопиющим. Чтобы завершить предварительную обработку дат, сразу переведем все столбцы с датами в нужный формат."
   ]
  },
  {
   "cell_type": "code",
   "execution_count": 70,
   "metadata": {
    "id": "JywMu_zP2e-u"
   },
   "outputs": [],
   "source": [
    "autos['DateCrawled'] = pd.to_datetime(autos['DateCrawled'], format = '%Y-%m-%dT%H:%M:%S')\n",
    "autos['RegistrationYear'] = pd.to_datetime(autos['RegistrationYear'], format = '%Y').dt.year\n",
    "autos['RegistrationMonth'] = pd.to_datetime(autos['RegistrationMonth'], format = '%m').dt.month\n",
    "autos['DateCreated'] = pd.to_datetime(autos['DateCreated'], format = '%Y-%m-%dT%H:%M:%S')\n",
    "autos['LastSeen'] = pd.to_datetime(autos['LastSeen'], format = '%Y-%m-%dT%H:%M:%S')"
   ]
  },
  {
   "cell_type": "markdown",
   "metadata": {
    "id": "BD-6mkC62e-u"
   },
   "source": [
    "Посмотрим, как распределяются наши данные по мощности двигателя."
   ]
  },
  {
   "cell_type": "code",
   "execution_count": 71,
   "metadata": {
    "colab": {
     "base_uri": "https://localhost:8080/",
     "height": 295
    },
    "id": "j1ogTqBw2e-u",
    "outputId": "914cbe64-71f2-40f4-d1ba-c1bb2d3aabe8"
   },
   "outputs": [
    {
     "data": {
      "image/png": "[encoded data removed]",
      "text/plain": [
       "<Figure size 864x288 with 2 Axes>"
      ]
     },
     "metadata": {
      "needs_background": "light",
      "tags": []
     },
     "output_type": "display_data"
    }
   ],
   "source": [
    "fig, ax = plt.subplots(ncols=2, figsize=(12,4))\n",
    "\n",
    "ax[0].hist(autos['Power'], density=True, bins=40, color='green', histtype='bar')\n",
    "ax[0].set_title('Распределение автомобилей по мощности двигателя')\n",
    "ax[0].set_xlabel('Мощность')\n",
    "ax[0].set_ylabel('Плотность частоты')\n",
    "ax[0].grid(alpha=0.2, linestyle='--', linewidth=1)\n",
    "\n",
    "ax[1].hist(autos[autos['Power'] < 500]['Power'], density=True, bins=40, color='green', histtype='bar')\n",
    "ax[1].set_title('Распределение автомобилей по мощности двигателя')\n",
    "ax[1].set_xlabel('Мощность')\n",
    "ax[1].set_ylabel('Плотность частоты')\n",
    "ax[1].grid(alpha=0.2, linestyle='--', linewidth=1)"
   ]
  },
  {
   "cell_type": "markdown",
   "metadata": {
    "id": "SMOWViUf2e-v"
   },
   "source": [
    "Оба графика раскрывают распределение одной и той же величины. Разница в масштабе. В первом случае на графике наблюдается высокий пик и больше ничего. Во втором распределение кажется более информативным. Также на втором графике виден пик в районе 0.\n",
    "\n",
    "Все это говорит о том, что в данных существуют значения мощностей, которые выходят очень далеко за пределы основного распределения. Выведем пороговое значение для 99,9% всех мощностей."
   ]
  },
  {
   "cell_type": "code",
   "execution_count": 72,
   "metadata": {
    "colab": {
     "base_uri": "https://localhost:8080/"
    },
    "id": "NtFlsUVy2e-v",
    "outputId": "7b66e446-9fdc-4c6b-cdfc-064c10491ce6"
   },
   "outputs": [
    {
     "name": "stdout",
     "output_type": "stream",
     "text": [
      "476.0\n"
     ]
    }
   ],
   "source": [
    "print(autos['Power'].quantile(.999))"
   ]
  },
  {
   "cell_type": "markdown",
   "metadata": {
    "id": "8UDKijvW2e-v"
   },
   "source": [
    "Отфильтруем из датасета все машины с мощностью 0 и мощностями, выходящими за 99,9% распределения."
   ]
  },
  {
   "cell_type": "code",
   "execution_count": 73,
   "metadata": {
    "colab": {
     "base_uri": "https://localhost:8080/"
    },
    "id": "O8MI-Kwq2e-v",
    "outputId": "021f20d7-91b6-44fb-a66b-11a6fdab0c40"
   },
   "outputs": [
    {
     "name": "stdout",
     "output_type": "stream",
     "text": [
      "245814\n",
      "235947\n"
     ]
    }
   ],
   "source": [
    "print(autos.shape[0])\n",
    "autos = autos.query('0 < Power < 476')\n",
    "print(autos.shape[0])"
   ]
  },
  {
   "cell_type": "markdown",
   "metadata": {
    "id": "KZaYcZ212e-w"
   },
   "source": [
    "Теперь проверим на нормальность категориальные признаки, нет ли в них странных значений."
   ]
  },
  {
   "cell_type": "code",
   "execution_count": 74,
   "metadata": {
    "colab": {
     "base_uri": "https://localhost:8080/"
    },
    "id": "Ua-otnnb2e-w",
    "outputId": "52ad559e-75df-48e6-d5ec-8bc62fb8ed6b"
   },
   "outputs": [
    {
     "name": "stdout",
     "output_type": "stream",
     "text": [
      "Тип кузова \n",
      " sedan          69786\n",
      "small          55670\n",
      "wagon          49361\n",
      "bus            22720\n",
      "convertible    15783\n",
      "coupe          11799\n",
      "suv             9277\n",
      "other           1551\n",
      "Name: VehicleType, dtype: int64 \n",
      "\n",
      "Коробка передач \n",
      " manual    186817\n",
      "auto       49130\n",
      "Name: Gearbox, dtype: int64 \n",
      "\n",
      "Тип топлива \n",
      " petrol      155371\n",
      "gasoline     76135\n",
      "lpg           3741\n",
      "cng            427\n",
      "hybrid         168\n",
      "other           56\n",
      "electric        49\n",
      "Name: FuelType, dtype: int64 \n",
      "\n",
      "Торговая марка \n",
      " volkswagen       50166\n",
      "bmw              26529\n",
      "opel             24869\n",
      "mercedes_benz    22826\n",
      "audi             21039\n",
      "ford             16214\n",
      "renault          10836\n",
      "peugeot           7499\n",
      "fiat              5992\n",
      "seat              4763\n",
      "skoda             4281\n",
      "mazda             3801\n",
      "citroen           3483\n",
      "toyota            3475\n",
      "nissan            3283\n",
      "smart             3203\n",
      "mini              2650\n",
      "hyundai           2636\n",
      "volvo             2395\n",
      "mitsubishi        1940\n",
      "honda             1861\n",
      "kia               1798\n",
      "alfa_romeo        1625\n",
      "suzuki            1611\n",
      "chevrolet         1199\n",
      "chrysler           948\n",
      "dacia              692\n",
      "porsche            526\n",
      "subaru             516\n",
      "daihatsu           485\n",
      "jeep               480\n",
      "saab               406\n",
      "land_rover         400\n",
      "jaguar             371\n",
      "daewoo             304\n",
      "lancia             294\n",
      "rover              242\n",
      "trabant            179\n",
      "lada               130\n",
      "Name: Brand, dtype: int64 \n",
      "\n",
      "Наличие ремонта \n",
      " no     210556\n",
      "yes     25391\n",
      "Name: NotRepaired, dtype: int64\n"
     ]
    }
   ],
   "source": [
    "print('Тип кузова', '\\n', autos['VehicleType'].value_counts(), '\\n')\n",
    "print('Коробка передач', '\\n', autos['Gearbox'].value_counts(), '\\n')\n",
    "print('Тип топлива', '\\n', autos['FuelType'].value_counts(), '\\n')\n",
    "print('Торговая марка', '\\n', autos['Brand'].value_counts(), '\\n')\n",
    "print('Наличие ремонта', '\\n', autos['NotRepaired'].value_counts())"
   ]
  },
  {
   "cell_type": "markdown",
   "metadata": {
    "id": "5FOnAKrO2e-w"
   },
   "source": [
    "В названиях категорий ошибок не выявлено.\n",
    "\n",
    "Изучим целевой признак - цену."
   ]
  },
  {
   "cell_type": "code",
   "execution_count": 75,
   "metadata": {
    "colab": {
     "base_uri": "https://localhost:8080/",
     "height": 295
    },
    "id": "LnwN6ADg2e-w",
    "outputId": "15af2933-28ad-41f7-cc9b-182f53dcbd0c"
   },
   "outputs": [
    {
     "data": {
      "image/png": "[encoded data removed]",
      "text/plain": [
       "<Figure size 432x288 with 1 Axes>"
      ]
     },
     "metadata": {
      "needs_background": "light",
      "tags": []
     },
     "output_type": "display_data"
    }
   ],
   "source": [
    "plt.hist(autos['Price'], density=True, bins=50, color='green')\n",
    "plt.title('Распределение стоимости автомобилей')\n",
    "plt.xlabel('Цена')\n",
    "plt.ylabel('Плотность частоты')\n",
    "plt.grid(alpha=0.2, linestyle='--', linewidth=1)"
   ]
  },
  {
   "cell_type": "markdown",
   "metadata": {
    "id": "GTShV_zu2e-x"
   },
   "source": [
    "Распределение имеет сильную скошенность вправо, с длинным хвостом. В основном, цены на автомобили не слишком велики.\n",
    "Поскольку нас интересует, как формируется цена на машины, то отфильтруем из набора данных все записи с целевым признаком, равным 0."
   ]
  },
  {
   "cell_type": "code",
   "execution_count": 76,
   "metadata": {
    "colab": {
     "base_uri": "https://localhost:8080/"
    },
    "id": "YyPNOHdj2e-x",
    "outputId": "6c1188e1-30af-45ac-80da-fa51ffa36341"
   },
   "outputs": [
    {
     "name": "stdout",
     "output_type": "stream",
     "text": [
      "2915\n",
      "0\n"
     ]
    }
   ],
   "source": [
    "print(autos[autos['Price'] == 0]['Price'].count())\n",
    "autos = autos[autos['Price'] != 0]\n",
    "print(autos[autos['Price'] == 0]['Price'].count())"
   ]
  },
  {
   "cell_type": "markdown",
   "metadata": {
    "id": "NldNYhEY2e-x"
   },
   "source": [
    "Проверим датасет на наличие дубликатов."
   ]
  },
  {
   "cell_type": "code",
   "execution_count": 77,
   "metadata": {
    "colab": {
     "base_uri": "https://localhost:8080/"
    },
    "id": "NzZHbqqF2e-x",
    "outputId": "f6630bd7-7503-4655-dd94-de5eaa93f3d6"
   },
   "outputs": [
    {
     "name": "stdout",
     "output_type": "stream",
     "text": [
      "Количество дубликатов в наборе данных: 4\n"
     ]
    }
   ],
   "source": [
    "print('Количество дубликатов в наборе данных: {}'.format(autos.duplicated().sum()))"
   ]
  },
  {
   "cell_type": "markdown",
   "metadata": {
    "id": "4DAAHrqN2e-x"
   },
   "source": [
    "Удалим их их набора."
   ]
  },
  {
   "cell_type": "code",
   "execution_count": 78,
   "metadata": {
    "id": "40ywjuPV2e-y"
   },
   "outputs": [],
   "source": [
    "autos = autos.drop_duplicates()"
   ]
  },
  {
   "cell_type": "markdown",
   "metadata": {
    "id": "DRB4I0_M2e-y"
   },
   "source": [
    "### Анализ корреляций"
   ]
  },
  {
   "cell_type": "markdown",
   "metadata": {
    "id": "fkR9rleu2e-y"
   },
   "source": [
    "Выведем корреляционную матрицу и посмотрим, какие зависимости есть между признаками."
   ]
  },
  {
   "cell_type": "code",
   "execution_count": 79,
   "metadata": {
    "colab": {
     "base_uri": "https://localhost:8080/",
     "height": 0
    },
    "id": "qSPhhLDS2e-y",
    "outputId": "e54d8135-bc0f-4e95-caaf-12aac447e3c3"
   },
   "outputs": [
    {
     "data": {
      "text/html": [
       "<style  type=\"text/css\" >\n",
       "#T_455e6e14_fdcb_11eb_b43b_0242ac1c0002row0_col0,#T_455e6e14_fdcb_11eb_b43b_0242ac1c0002row1_col1,#T_455e6e14_fdcb_11eb_b43b_0242ac1c0002row2_col2,#T_455e6e14_fdcb_11eb_b43b_0242ac1c0002row3_col3,#T_455e6e14_fdcb_11eb_b43b_0242ac1c0002row4_col4,#T_455e6e14_fdcb_11eb_b43b_0242ac1c0002row6_col6{\n",
       "            background-color:  #b40426;\n",
       "            color:  #f1f1f1;\n",
       "        }#T_455e6e14_fdcb_11eb_b43b_0242ac1c0002row0_col1{\n",
       "            background-color:  #f7b396;\n",
       "            color:  #000000;\n",
       "        }#T_455e6e14_fdcb_11eb_b43b_0242ac1c0002row0_col2{\n",
       "            background-color:  #dbdcde;\n",
       "            color:  #000000;\n",
       "        }#T_455e6e14_fdcb_11eb_b43b_0242ac1c0002row0_col3,#T_455e6e14_fdcb_11eb_b43b_0242ac1c0002row3_col0,#T_455e6e14_fdcb_11eb_b43b_0242ac1c0002row3_col1,#T_455e6e14_fdcb_11eb_b43b_0242ac1c0002row3_col6,#T_455e6e14_fdcb_11eb_b43b_0242ac1c0002row4_col2,#T_455e6e14_fdcb_11eb_b43b_0242ac1c0002row4_col6,#T_455e6e14_fdcb_11eb_b43b_0242ac1c0002row6_col4{\n",
       "            background-color:  #3b4cc0;\n",
       "            color:  #f1f1f1;\n",
       "        }#T_455e6e14_fdcb_11eb_b43b_0242ac1c0002row0_col4{\n",
       "            background-color:  #3f53c6;\n",
       "            color:  #f1f1f1;\n",
       "        }#T_455e6e14_fdcb_11eb_b43b_0242ac1c0002row0_col5,#T_455e6e14_fdcb_11eb_b43b_0242ac1c0002row1_col5,#T_455e6e14_fdcb_11eb_b43b_0242ac1c0002row2_col5,#T_455e6e14_fdcb_11eb_b43b_0242ac1c0002row3_col5,#T_455e6e14_fdcb_11eb_b43b_0242ac1c0002row4_col5,#T_455e6e14_fdcb_11eb_b43b_0242ac1c0002row5_col0,#T_455e6e14_fdcb_11eb_b43b_0242ac1c0002row5_col1,#T_455e6e14_fdcb_11eb_b43b_0242ac1c0002row5_col2,#T_455e6e14_fdcb_11eb_b43b_0242ac1c0002row5_col3,#T_455e6e14_fdcb_11eb_b43b_0242ac1c0002row5_col4,#T_455e6e14_fdcb_11eb_b43b_0242ac1c0002row5_col5,#T_455e6e14_fdcb_11eb_b43b_0242ac1c0002row5_col6,#T_455e6e14_fdcb_11eb_b43b_0242ac1c0002row6_col5{\n",
       "            background-color:  #000000;\n",
       "            color:  #f1f1f1;\n",
       "        }#T_455e6e14_fdcb_11eb_b43b_0242ac1c0002row0_col6{\n",
       "            background-color:  #4f69d9;\n",
       "            color:  #000000;\n",
       "        }#T_455e6e14_fdcb_11eb_b43b_0242ac1c0002row1_col0{\n",
       "            background-color:  #f7b093;\n",
       "            color:  #000000;\n",
       "        }#T_455e6e14_fdcb_11eb_b43b_0242ac1c0002row1_col2{\n",
       "            background-color:  #6485ec;\n",
       "            color:  #000000;\n",
       "        }#T_455e6e14_fdcb_11eb_b43b_0242ac1c0002row1_col3,#T_455e6e14_fdcb_11eb_b43b_0242ac1c0002row2_col4{\n",
       "            background-color:  #4257c9;\n",
       "            color:  #f1f1f1;\n",
       "        }#T_455e6e14_fdcb_11eb_b43b_0242ac1c0002row1_col4{\n",
       "            background-color:  #3c4ec2;\n",
       "            color:  #f1f1f1;\n",
       "        }#T_455e6e14_fdcb_11eb_b43b_0242ac1c0002row1_col6{\n",
       "            background-color:  #465ecf;\n",
       "            color:  #f1f1f1;\n",
       "        }#T_455e6e14_fdcb_11eb_b43b_0242ac1c0002row2_col0{\n",
       "            background-color:  #f6bea4;\n",
       "            color:  #000000;\n",
       "        }#T_455e6e14_fdcb_11eb_b43b_0242ac1c0002row2_col1{\n",
       "            background-color:  #bad0f8;\n",
       "            color:  #000000;\n",
       "        }#T_455e6e14_fdcb_11eb_b43b_0242ac1c0002row2_col3{\n",
       "            background-color:  #b7cff9;\n",
       "            color:  #000000;\n",
       "        }#T_455e6e14_fdcb_11eb_b43b_0242ac1c0002row2_col6{\n",
       "            background-color:  #4c66d6;\n",
       "            color:  #000000;\n",
       "        }#T_455e6e14_fdcb_11eb_b43b_0242ac1c0002row3_col2{\n",
       "            background-color:  #5977e3;\n",
       "            color:  #000000;\n",
       "        }#T_455e6e14_fdcb_11eb_b43b_0242ac1c0002row3_col4{\n",
       "            background-color:  #3d50c3;\n",
       "            color:  #f1f1f1;\n",
       "        }#T_455e6e14_fdcb_11eb_b43b_0242ac1c0002row4_col0{\n",
       "            background-color:  #9ebeff;\n",
       "            color:  #000000;\n",
       "        }#T_455e6e14_fdcb_11eb_b43b_0242ac1c0002row4_col1{\n",
       "            background-color:  #94b6ff;\n",
       "            color:  #000000;\n",
       "        }#T_455e6e14_fdcb_11eb_b43b_0242ac1c0002row4_col3{\n",
       "            background-color:  #9bbcff;\n",
       "            color:  #000000;\n",
       "        }#T_455e6e14_fdcb_11eb_b43b_0242ac1c0002row6_col0{\n",
       "            background-color:  #a9c6fd;\n",
       "            color:  #000000;\n",
       "        }#T_455e6e14_fdcb_11eb_b43b_0242ac1c0002row6_col1{\n",
       "            background-color:  #9dbdff;\n",
       "            color:  #000000;\n",
       "        }#T_455e6e14_fdcb_11eb_b43b_0242ac1c0002row6_col2{\n",
       "            background-color:  #4358cb;\n",
       "            color:  #f1f1f1;\n",
       "        }#T_455e6e14_fdcb_11eb_b43b_0242ac1c0002row6_col3{\n",
       "            background-color:  #98b9ff;\n",
       "            color:  #000000;\n",
       "        }</style><table id=\"T_455e6e14_fdcb_11eb_b43b_0242ac1c0002\" ><thead>    <tr>        <th class=\"blank level0\" ></th>        <th class=\"col_heading level0 col0\" >Price</th>        <th class=\"col_heading level0 col1\" >RegistrationYear</th>        <th class=\"col_heading level0 col2\" >Power</th>        <th class=\"col_heading level0 col3\" >Kilometer</th>        <th class=\"col_heading level0 col4\" >RegistrationMonth</th>        <th class=\"col_heading level0 col5\" >NumberOfPictures</th>        <th class=\"col_heading level0 col6\" >PostalCode</th>    </tr></thead><tbody>\n",
       "                <tr>\n",
       "                        <th id=\"T_455e6e14_fdcb_11eb_b43b_0242ac1c0002level0_row0\" class=\"row_heading level0 row0\" >Price</th>\n",
       "                        <td id=\"T_455e6e14_fdcb_11eb_b43b_0242ac1c0002row0_col0\" class=\"data row0 col0\" >1.00</td>\n",
       "                        <td id=\"T_455e6e14_fdcb_11eb_b43b_0242ac1c0002row0_col1\" class=\"data row0 col1\" >0.56</td>\n",
       "                        <td id=\"T_455e6e14_fdcb_11eb_b43b_0242ac1c0002row0_col2\" class=\"data row0 col2\" >0.50</td>\n",
       "                        <td id=\"T_455e6e14_fdcb_11eb_b43b_0242ac1c0002row0_col3\" class=\"data row0 col3\" >-0.41</td>\n",
       "                        <td id=\"T_455e6e14_fdcb_11eb_b43b_0242ac1c0002row0_col4\" class=\"data row0 col4\" >0.01</td>\n",
       "                        <td id=\"T_455e6e14_fdcb_11eb_b43b_0242ac1c0002row0_col5\" class=\"data row0 col5\" >nan</td>\n",
       "                        <td id=\"T_455e6e14_fdcb_11eb_b43b_0242ac1c0002row0_col6\" class=\"data row0 col6\" >0.06</td>\n",
       "            </tr>\n",
       "            <tr>\n",
       "                        <th id=\"T_455e6e14_fdcb_11eb_b43b_0242ac1c0002level0_row1\" class=\"row_heading level0 row1\" >RegistrationYear</th>\n",
       "                        <td id=\"T_455e6e14_fdcb_11eb_b43b_0242ac1c0002row1_col0\" class=\"data row1 col0\" >0.56</td>\n",
       "                        <td id=\"T_455e6e14_fdcb_11eb_b43b_0242ac1c0002row1_col1\" class=\"data row1 col1\" >1.00</td>\n",
       "                        <td id=\"T_455e6e14_fdcb_11eb_b43b_0242ac1c0002row1_col2\" class=\"data row1 col2\" >0.15</td>\n",
       "                        <td id=\"T_455e6e14_fdcb_11eb_b43b_0242ac1c0002row1_col3\" class=\"data row1 col3\" >-0.37</td>\n",
       "                        <td id=\"T_455e6e14_fdcb_11eb_b43b_0242ac1c0002row1_col4\" class=\"data row1 col4\" >-0.00</td>\n",
       "                        <td id=\"T_455e6e14_fdcb_11eb_b43b_0242ac1c0002row1_col5\" class=\"data row1 col5\" >nan</td>\n",
       "                        <td id=\"T_455e6e14_fdcb_11eb_b43b_0242ac1c0002row1_col6\" class=\"data row1 col6\" >0.03</td>\n",
       "            </tr>\n",
       "            <tr>\n",
       "                        <th id=\"T_455e6e14_fdcb_11eb_b43b_0242ac1c0002level0_row2\" class=\"row_heading level0 row2\" >Power</th>\n",
       "                        <td id=\"T_455e6e14_fdcb_11eb_b43b_0242ac1c0002row2_col0\" class=\"data row2 col0\" >0.50</td>\n",
       "                        <td id=\"T_455e6e14_fdcb_11eb_b43b_0242ac1c0002row2_col1\" class=\"data row2 col1\" >0.15</td>\n",
       "                        <td id=\"T_455e6e14_fdcb_11eb_b43b_0242ac1c0002row2_col2\" class=\"data row2 col2\" >1.00</td>\n",
       "                        <td id=\"T_455e6e14_fdcb_11eb_b43b_0242ac1c0002row2_col3\" class=\"data row2 col3\" >0.12</td>\n",
       "                        <td id=\"T_455e6e14_fdcb_11eb_b43b_0242ac1c0002row2_col4\" class=\"data row2 col4\" >0.02</td>\n",
       "                        <td id=\"T_455e6e14_fdcb_11eb_b43b_0242ac1c0002row2_col5\" class=\"data row2 col5\" >nan</td>\n",
       "                        <td id=\"T_455e6e14_fdcb_11eb_b43b_0242ac1c0002row2_col6\" class=\"data row2 col6\" >0.05</td>\n",
       "            </tr>\n",
       "            <tr>\n",
       "                        <th id=\"T_455e6e14_fdcb_11eb_b43b_0242ac1c0002level0_row3\" class=\"row_heading level0 row3\" >Kilometer</th>\n",
       "                        <td id=\"T_455e6e14_fdcb_11eb_b43b_0242ac1c0002row3_col0\" class=\"data row3 col0\" >-0.41</td>\n",
       "                        <td id=\"T_455e6e14_fdcb_11eb_b43b_0242ac1c0002row3_col1\" class=\"data row3 col1\" >-0.37</td>\n",
       "                        <td id=\"T_455e6e14_fdcb_11eb_b43b_0242ac1c0002row3_col2\" class=\"data row3 col2\" >0.12</td>\n",
       "                        <td id=\"T_455e6e14_fdcb_11eb_b43b_0242ac1c0002row3_col3\" class=\"data row3 col3\" >1.00</td>\n",
       "                        <td id=\"T_455e6e14_fdcb_11eb_b43b_0242ac1c0002row3_col4\" class=\"data row3 col4\" >0.00</td>\n",
       "                        <td id=\"T_455e6e14_fdcb_11eb_b43b_0242ac1c0002row3_col5\" class=\"data row3 col5\" >nan</td>\n",
       "                        <td id=\"T_455e6e14_fdcb_11eb_b43b_0242ac1c0002row3_col6\" class=\"data row3 col6\" >-0.01</td>\n",
       "            </tr>\n",
       "            <tr>\n",
       "                        <th id=\"T_455e6e14_fdcb_11eb_b43b_0242ac1c0002level0_row4\" class=\"row_heading level0 row4\" >RegistrationMonth</th>\n",
       "                        <td id=\"T_455e6e14_fdcb_11eb_b43b_0242ac1c0002row4_col0\" class=\"data row4 col0\" >0.01</td>\n",
       "                        <td id=\"T_455e6e14_fdcb_11eb_b43b_0242ac1c0002row4_col1\" class=\"data row4 col1\" >-0.00</td>\n",
       "                        <td id=\"T_455e6e14_fdcb_11eb_b43b_0242ac1c0002row4_col2\" class=\"data row4 col2\" >0.02</td>\n",
       "                        <td id=\"T_455e6e14_fdcb_11eb_b43b_0242ac1c0002row4_col3\" class=\"data row4 col3\" >0.00</td>\n",
       "                        <td id=\"T_455e6e14_fdcb_11eb_b43b_0242ac1c0002row4_col4\" class=\"data row4 col4\" >1.00</td>\n",
       "                        <td id=\"T_455e6e14_fdcb_11eb_b43b_0242ac1c0002row4_col5\" class=\"data row4 col5\" >nan</td>\n",
       "                        <td id=\"T_455e6e14_fdcb_11eb_b43b_0242ac1c0002row4_col6\" class=\"data row4 col6\" >-0.01</td>\n",
       "            </tr>\n",
       "            <tr>\n",
       "                        <th id=\"T_455e6e14_fdcb_11eb_b43b_0242ac1c0002level0_row5\" class=\"row_heading level0 row5\" >NumberOfPictures</th>\n",
       "                        <td id=\"T_455e6e14_fdcb_11eb_b43b_0242ac1c0002row5_col0\" class=\"data row5 col0\" >nan</td>\n",
       "                        <td id=\"T_455e6e14_fdcb_11eb_b43b_0242ac1c0002row5_col1\" class=\"data row5 col1\" >nan</td>\n",
       "                        <td id=\"T_455e6e14_fdcb_11eb_b43b_0242ac1c0002row5_col2\" class=\"data row5 col2\" >nan</td>\n",
       "                        <td id=\"T_455e6e14_fdcb_11eb_b43b_0242ac1c0002row5_col3\" class=\"data row5 col3\" >nan</td>\n",
       "                        <td id=\"T_455e6e14_fdcb_11eb_b43b_0242ac1c0002row5_col4\" class=\"data row5 col4\" >nan</td>\n",
       "                        <td id=\"T_455e6e14_fdcb_11eb_b43b_0242ac1c0002row5_col5\" class=\"data row5 col5\" >nan</td>\n",
       "                        <td id=\"T_455e6e14_fdcb_11eb_b43b_0242ac1c0002row5_col6\" class=\"data row5 col6\" >nan</td>\n",
       "            </tr>\n",
       "            <tr>\n",
       "                        <th id=\"T_455e6e14_fdcb_11eb_b43b_0242ac1c0002level0_row6\" class=\"row_heading level0 row6\" >PostalCode</th>\n",
       "                        <td id=\"T_455e6e14_fdcb_11eb_b43b_0242ac1c0002row6_col0\" class=\"data row6 col0\" >0.06</td>\n",
       "                        <td id=\"T_455e6e14_fdcb_11eb_b43b_0242ac1c0002row6_col1\" class=\"data row6 col1\" >0.03</td>\n",
       "                        <td id=\"T_455e6e14_fdcb_11eb_b43b_0242ac1c0002row6_col2\" class=\"data row6 col2\" >0.05</td>\n",
       "                        <td id=\"T_455e6e14_fdcb_11eb_b43b_0242ac1c0002row6_col3\" class=\"data row6 col3\" >-0.01</td>\n",
       "                        <td id=\"T_455e6e14_fdcb_11eb_b43b_0242ac1c0002row6_col4\" class=\"data row6 col4\" >-0.01</td>\n",
       "                        <td id=\"T_455e6e14_fdcb_11eb_b43b_0242ac1c0002row6_col5\" class=\"data row6 col5\" >nan</td>\n",
       "                        <td id=\"T_455e6e14_fdcb_11eb_b43b_0242ac1c0002row6_col6\" class=\"data row6 col6\" >1.00</td>\n",
       "            </tr>\n",
       "    </tbody></table>"
      ],
      "text/plain": [
       "<pandas.io.formats.style.Styler at 0x7f42354f4ad0>"
      ]
     },
     "metadata": {
      "tags": []
     },
     "output_type": "display_data"
    }
   ],
   "source": [
    "display(autos.corr().style.background_gradient(cmap='coolwarm').set_precision(2))"
   ]
  },
  {
   "cell_type": "markdown",
   "metadata": {
    "id": "1UsixQNg2e-z"
   },
   "source": [
    "Как и ожидалось, наблюдается положительная корреляция между ценой, годом выпуска и мощностью двигателя, а также отрицательная корреляция между стоимостью и пробегом. Но иногда закономерности могут носить нелинейный характер, и в этом случае коэффициент корреляции может оказаться бесполезным показателем. \n",
    "Рассчитаем коэффициент ранговой корреляции Спирмена, он более устойчив к выбросам. Используем тот же код, только функции corr() передадим параметр method='spearman'."
   ]
  },
  {
   "cell_type": "code",
   "execution_count": 80,
   "metadata": {
    "colab": {
     "base_uri": "https://localhost:8080/",
     "height": 0
    },
    "id": "s8o5DeeG2e-z",
    "outputId": "e6d7608f-5cc4-4eff-86c2-2ee42e4a3b92"
   },
   "outputs": [
    {
     "data": {
      "text/html": [
       "<style  type=\"text/css\" >\n",
       "#T_458d6b1a_fdcb_11eb_b43b_0242ac1c0002row0_col0,#T_458d6b1a_fdcb_11eb_b43b_0242ac1c0002row1_col1,#T_458d6b1a_fdcb_11eb_b43b_0242ac1c0002row2_col2,#T_458d6b1a_fdcb_11eb_b43b_0242ac1c0002row3_col3,#T_458d6b1a_fdcb_11eb_b43b_0242ac1c0002row4_col4,#T_458d6b1a_fdcb_11eb_b43b_0242ac1c0002row6_col6{\n",
       "            background-color:  #b40426;\n",
       "            color:  #f1f1f1;\n",
       "        }#T_458d6b1a_fdcb_11eb_b43b_0242ac1c0002row0_col1{\n",
       "            background-color:  #ea7b60;\n",
       "            color:  #000000;\n",
       "        }#T_458d6b1a_fdcb_11eb_b43b_0242ac1c0002row0_col2{\n",
       "            background-color:  #dfdbd9;\n",
       "            color:  #000000;\n",
       "        }#T_458d6b1a_fdcb_11eb_b43b_0242ac1c0002row0_col3{\n",
       "            background-color:  #465ecf;\n",
       "            color:  #f1f1f1;\n",
       "        }#T_458d6b1a_fdcb_11eb_b43b_0242ac1c0002row0_col4{\n",
       "            background-color:  #4257c9;\n",
       "            color:  #f1f1f1;\n",
       "        }#T_458d6b1a_fdcb_11eb_b43b_0242ac1c0002row0_col5,#T_458d6b1a_fdcb_11eb_b43b_0242ac1c0002row1_col5,#T_458d6b1a_fdcb_11eb_b43b_0242ac1c0002row2_col5,#T_458d6b1a_fdcb_11eb_b43b_0242ac1c0002row3_col5,#T_458d6b1a_fdcb_11eb_b43b_0242ac1c0002row4_col5,#T_458d6b1a_fdcb_11eb_b43b_0242ac1c0002row5_col0,#T_458d6b1a_fdcb_11eb_b43b_0242ac1c0002row5_col1,#T_458d6b1a_fdcb_11eb_b43b_0242ac1c0002row5_col2,#T_458d6b1a_fdcb_11eb_b43b_0242ac1c0002row5_col3,#T_458d6b1a_fdcb_11eb_b43b_0242ac1c0002row5_col4,#T_458d6b1a_fdcb_11eb_b43b_0242ac1c0002row5_col5,#T_458d6b1a_fdcb_11eb_b43b_0242ac1c0002row5_col6,#T_458d6b1a_fdcb_11eb_b43b_0242ac1c0002row6_col5{\n",
       "            background-color:  #000000;\n",
       "            color:  #f1f1f1;\n",
       "        }#T_458d6b1a_fdcb_11eb_b43b_0242ac1c0002row0_col6,#T_458d6b1a_fdcb_11eb_b43b_0242ac1c0002row2_col6{\n",
       "            background-color:  #506bda;\n",
       "            color:  #000000;\n",
       "        }#T_458d6b1a_fdcb_11eb_b43b_0242ac1c0002row1_col0{\n",
       "            background-color:  #ec7f63;\n",
       "            color:  #000000;\n",
       "        }#T_458d6b1a_fdcb_11eb_b43b_0242ac1c0002row1_col2{\n",
       "            background-color:  #7396f5;\n",
       "            color:  #000000;\n",
       "        }#T_458d6b1a_fdcb_11eb_b43b_0242ac1c0002row1_col3,#T_458d6b1a_fdcb_11eb_b43b_0242ac1c0002row1_col4,#T_458d6b1a_fdcb_11eb_b43b_0242ac1c0002row3_col0,#T_458d6b1a_fdcb_11eb_b43b_0242ac1c0002row3_col1,#T_458d6b1a_fdcb_11eb_b43b_0242ac1c0002row3_col6,#T_458d6b1a_fdcb_11eb_b43b_0242ac1c0002row4_col2,#T_458d6b1a_fdcb_11eb_b43b_0242ac1c0002row6_col4{\n",
       "            background-color:  #3b4cc0;\n",
       "            color:  #f1f1f1;\n",
       "        }#T_458d6b1a_fdcb_11eb_b43b_0242ac1c0002row1_col6{\n",
       "            background-color:  #4a63d3;\n",
       "            color:  #f1f1f1;\n",
       "        }#T_458d6b1a_fdcb_11eb_b43b_0242ac1c0002row2_col0{\n",
       "            background-color:  #f7bca1;\n",
       "            color:  #000000;\n",
       "        }#T_458d6b1a_fdcb_11eb_b43b_0242ac1c0002row2_col1{\n",
       "            background-color:  #cdd9ec;\n",
       "            color:  #000000;\n",
       "        }#T_458d6b1a_fdcb_11eb_b43b_0242ac1c0002row2_col3{\n",
       "            background-color:  #c0d4f5;\n",
       "            color:  #000000;\n",
       "        }#T_458d6b1a_fdcb_11eb_b43b_0242ac1c0002row2_col4{\n",
       "            background-color:  #4358cb;\n",
       "            color:  #f1f1f1;\n",
       "        }#T_458d6b1a_fdcb_11eb_b43b_0242ac1c0002row3_col2{\n",
       "            background-color:  #5e7de7;\n",
       "            color:  #000000;\n",
       "        }#T_458d6b1a_fdcb_11eb_b43b_0242ac1c0002row3_col4,#T_458d6b1a_fdcb_11eb_b43b_0242ac1c0002row4_col6{\n",
       "            background-color:  #3d50c3;\n",
       "            color:  #f1f1f1;\n",
       "        }#T_458d6b1a_fdcb_11eb_b43b_0242ac1c0002row4_col0{\n",
       "            background-color:  #9dbdff;\n",
       "            color:  #000000;\n",
       "        }#T_458d6b1a_fdcb_11eb_b43b_0242ac1c0002row4_col1{\n",
       "            background-color:  #9fbfff;\n",
       "            color:  #000000;\n",
       "        }#T_458d6b1a_fdcb_11eb_b43b_0242ac1c0002row4_col3{\n",
       "            background-color:  #a2c1ff;\n",
       "            color:  #000000;\n",
       "        }#T_458d6b1a_fdcb_11eb_b43b_0242ac1c0002row6_col0{\n",
       "            background-color:  #a6c4fe;\n",
       "            color:  #000000;\n",
       "        }#T_458d6b1a_fdcb_11eb_b43b_0242ac1c0002row6_col1{\n",
       "            background-color:  #aac7fd;\n",
       "            color:  #000000;\n",
       "        }#T_458d6b1a_fdcb_11eb_b43b_0242ac1c0002row6_col2{\n",
       "            background-color:  #455cce;\n",
       "            color:  #f1f1f1;\n",
       "        }#T_458d6b1a_fdcb_11eb_b43b_0242ac1c0002row6_col3{\n",
       "            background-color:  #9ebeff;\n",
       "            color:  #000000;\n",
       "        }</style><table id=\"T_458d6b1a_fdcb_11eb_b43b_0242ac1c0002\" ><thead>    <tr>        <th class=\"blank level0\" ></th>        <th class=\"col_heading level0 col0\" >Price</th>        <th class=\"col_heading level0 col1\" >RegistrationYear</th>        <th class=\"col_heading level0 col2\" >Power</th>        <th class=\"col_heading level0 col3\" >Kilometer</th>        <th class=\"col_heading level0 col4\" >RegistrationMonth</th>        <th class=\"col_heading level0 col5\" >NumberOfPictures</th>        <th class=\"col_heading level0 col6\" >PostalCode</th>    </tr></thead><tbody>\n",
       "                <tr>\n",
       "                        <th id=\"T_458d6b1a_fdcb_11eb_b43b_0242ac1c0002level0_row0\" class=\"row_heading level0 row0\" >Price</th>\n",
       "                        <td id=\"T_458d6b1a_fdcb_11eb_b43b_0242ac1c0002row0_col0\" class=\"data row0 col0\" >1.00</td>\n",
       "                        <td id=\"T_458d6b1a_fdcb_11eb_b43b_0242ac1c0002row0_col1\" class=\"data row0 col1\" >0.73</td>\n",
       "                        <td id=\"T_458d6b1a_fdcb_11eb_b43b_0242ac1c0002row0_col2\" class=\"data row0 col2\" >0.52</td>\n",
       "                        <td id=\"T_458d6b1a_fdcb_11eb_b43b_0242ac1c0002row0_col3\" class=\"data row0 col3\" >-0.39</td>\n",
       "                        <td id=\"T_458d6b1a_fdcb_11eb_b43b_0242ac1c0002row0_col4\" class=\"data row0 col4\" >0.02</td>\n",
       "                        <td id=\"T_458d6b1a_fdcb_11eb_b43b_0242ac1c0002row0_col5\" class=\"data row0 col5\" >nan</td>\n",
       "                        <td id=\"T_458d6b1a_fdcb_11eb_b43b_0242ac1c0002row0_col6\" class=\"data row0 col6\" >0.06</td>\n",
       "            </tr>\n",
       "            <tr>\n",
       "                        <th id=\"T_458d6b1a_fdcb_11eb_b43b_0242ac1c0002level0_row1\" class=\"row_heading level0 row1\" >RegistrationYear</th>\n",
       "                        <td id=\"T_458d6b1a_fdcb_11eb_b43b_0242ac1c0002row1_col0\" class=\"data row1 col0\" >0.73</td>\n",
       "                        <td id=\"T_458d6b1a_fdcb_11eb_b43b_0242ac1c0002row1_col1\" class=\"data row1 col1\" >1.00</td>\n",
       "                        <td id=\"T_458d6b1a_fdcb_11eb_b43b_0242ac1c0002row1_col2\" class=\"data row1 col2\" >0.19</td>\n",
       "                        <td id=\"T_458d6b1a_fdcb_11eb_b43b_0242ac1c0002row1_col3\" class=\"data row1 col3\" >-0.45</td>\n",
       "                        <td id=\"T_458d6b1a_fdcb_11eb_b43b_0242ac1c0002row1_col4\" class=\"data row1 col4\" >-0.01</td>\n",
       "                        <td id=\"T_458d6b1a_fdcb_11eb_b43b_0242ac1c0002row1_col5\" class=\"data row1 col5\" >nan</td>\n",
       "                        <td id=\"T_458d6b1a_fdcb_11eb_b43b_0242ac1c0002row1_col6\" class=\"data row1 col6\" >0.04</td>\n",
       "            </tr>\n",
       "            <tr>\n",
       "                        <th id=\"T_458d6b1a_fdcb_11eb_b43b_0242ac1c0002level0_row2\" class=\"row_heading level0 row2\" >Power</th>\n",
       "                        <td id=\"T_458d6b1a_fdcb_11eb_b43b_0242ac1c0002row2_col0\" class=\"data row2 col0\" >0.52</td>\n",
       "                        <td id=\"T_458d6b1a_fdcb_11eb_b43b_0242ac1c0002row2_col1\" class=\"data row2 col1\" >0.19</td>\n",
       "                        <td id=\"T_458d6b1a_fdcb_11eb_b43b_0242ac1c0002row2_col2\" class=\"data row2 col2\" >1.00</td>\n",
       "                        <td id=\"T_458d6b1a_fdcb_11eb_b43b_0242ac1c0002row2_col3\" class=\"data row2 col3\" >0.13</td>\n",
       "                        <td id=\"T_458d6b1a_fdcb_11eb_b43b_0242ac1c0002row2_col4\" class=\"data row2 col4\" >0.02</td>\n",
       "                        <td id=\"T_458d6b1a_fdcb_11eb_b43b_0242ac1c0002row2_col5\" class=\"data row2 col5\" >nan</td>\n",
       "                        <td id=\"T_458d6b1a_fdcb_11eb_b43b_0242ac1c0002row2_col6\" class=\"data row2 col6\" >0.06</td>\n",
       "            </tr>\n",
       "            <tr>\n",
       "                        <th id=\"T_458d6b1a_fdcb_11eb_b43b_0242ac1c0002level0_row3\" class=\"row_heading level0 row3\" >Kilometer</th>\n",
       "                        <td id=\"T_458d6b1a_fdcb_11eb_b43b_0242ac1c0002row3_col0\" class=\"data row3 col0\" >-0.39</td>\n",
       "                        <td id=\"T_458d6b1a_fdcb_11eb_b43b_0242ac1c0002row3_col1\" class=\"data row3 col1\" >-0.45</td>\n",
       "                        <td id=\"T_458d6b1a_fdcb_11eb_b43b_0242ac1c0002row3_col2\" class=\"data row3 col2\" >0.13</td>\n",
       "                        <td id=\"T_458d6b1a_fdcb_11eb_b43b_0242ac1c0002row3_col3\" class=\"data row3 col3\" >1.00</td>\n",
       "                        <td id=\"T_458d6b1a_fdcb_11eb_b43b_0242ac1c0002row3_col4\" class=\"data row3 col4\" >0.00</td>\n",
       "                        <td id=\"T_458d6b1a_fdcb_11eb_b43b_0242ac1c0002row3_col5\" class=\"data row3 col5\" >nan</td>\n",
       "                        <td id=\"T_458d6b1a_fdcb_11eb_b43b_0242ac1c0002row3_col6\" class=\"data row3 col6\" >-0.02</td>\n",
       "            </tr>\n",
       "            <tr>\n",
       "                        <th id=\"T_458d6b1a_fdcb_11eb_b43b_0242ac1c0002level0_row4\" class=\"row_heading level0 row4\" >RegistrationMonth</th>\n",
       "                        <td id=\"T_458d6b1a_fdcb_11eb_b43b_0242ac1c0002row4_col0\" class=\"data row4 col0\" >0.02</td>\n",
       "                        <td id=\"T_458d6b1a_fdcb_11eb_b43b_0242ac1c0002row4_col1\" class=\"data row4 col1\" >-0.01</td>\n",
       "                        <td id=\"T_458d6b1a_fdcb_11eb_b43b_0242ac1c0002row4_col2\" class=\"data row4 col2\" >0.02</td>\n",
       "                        <td id=\"T_458d6b1a_fdcb_11eb_b43b_0242ac1c0002row4_col3\" class=\"data row4 col3\" >0.00</td>\n",
       "                        <td id=\"T_458d6b1a_fdcb_11eb_b43b_0242ac1c0002row4_col4\" class=\"data row4 col4\" >1.00</td>\n",
       "                        <td id=\"T_458d6b1a_fdcb_11eb_b43b_0242ac1c0002row4_col5\" class=\"data row4 col5\" >nan</td>\n",
       "                        <td id=\"T_458d6b1a_fdcb_11eb_b43b_0242ac1c0002row4_col6\" class=\"data row4 col6\" >-0.01</td>\n",
       "            </tr>\n",
       "            <tr>\n",
       "                        <th id=\"T_458d6b1a_fdcb_11eb_b43b_0242ac1c0002level0_row5\" class=\"row_heading level0 row5\" >NumberOfPictures</th>\n",
       "                        <td id=\"T_458d6b1a_fdcb_11eb_b43b_0242ac1c0002row5_col0\" class=\"data row5 col0\" >nan</td>\n",
       "                        <td id=\"T_458d6b1a_fdcb_11eb_b43b_0242ac1c0002row5_col1\" class=\"data row5 col1\" >nan</td>\n",
       "                        <td id=\"T_458d6b1a_fdcb_11eb_b43b_0242ac1c0002row5_col2\" class=\"data row5 col2\" >nan</td>\n",
       "                        <td id=\"T_458d6b1a_fdcb_11eb_b43b_0242ac1c0002row5_col3\" class=\"data row5 col3\" >nan</td>\n",
       "                        <td id=\"T_458d6b1a_fdcb_11eb_b43b_0242ac1c0002row5_col4\" class=\"data row5 col4\" >nan</td>\n",
       "                        <td id=\"T_458d6b1a_fdcb_11eb_b43b_0242ac1c0002row5_col5\" class=\"data row5 col5\" >nan</td>\n",
       "                        <td id=\"T_458d6b1a_fdcb_11eb_b43b_0242ac1c0002row5_col6\" class=\"data row5 col6\" >nan</td>\n",
       "            </tr>\n",
       "            <tr>\n",
       "                        <th id=\"T_458d6b1a_fdcb_11eb_b43b_0242ac1c0002level0_row6\" class=\"row_heading level0 row6\" >PostalCode</th>\n",
       "                        <td id=\"T_458d6b1a_fdcb_11eb_b43b_0242ac1c0002row6_col0\" class=\"data row6 col0\" >0.06</td>\n",
       "                        <td id=\"T_458d6b1a_fdcb_11eb_b43b_0242ac1c0002row6_col1\" class=\"data row6 col1\" >0.04</td>\n",
       "                        <td id=\"T_458d6b1a_fdcb_11eb_b43b_0242ac1c0002row6_col2\" class=\"data row6 col2\" >0.06</td>\n",
       "                        <td id=\"T_458d6b1a_fdcb_11eb_b43b_0242ac1c0002row6_col3\" class=\"data row6 col3\" >-0.02</td>\n",
       "                        <td id=\"T_458d6b1a_fdcb_11eb_b43b_0242ac1c0002row6_col4\" class=\"data row6 col4\" >-0.01</td>\n",
       "                        <td id=\"T_458d6b1a_fdcb_11eb_b43b_0242ac1c0002row6_col5\" class=\"data row6 col5\" >nan</td>\n",
       "                        <td id=\"T_458d6b1a_fdcb_11eb_b43b_0242ac1c0002row6_col6\" class=\"data row6 col6\" >1.00</td>\n",
       "            </tr>\n",
       "    </tbody></table>"
      ],
      "text/plain": [
       "<pandas.io.formats.style.Styler at 0x7f42354dc7d0>"
      ]
     },
     "metadata": {
      "tags": []
     },
     "output_type": "display_data"
    }
   ],
   "source": [
    "display(autos.corr(method='spearman').style.background_gradient(cmap='coolwarm').set_precision(2))"
   ]
  },
  {
   "cell_type": "markdown",
   "metadata": {
    "id": "hGgHVO022e-z"
   },
   "source": [
    "В целом, показатели не сильно изменились.\n",
    "\n",
    "Попробуем выделить зависимости между ценой и категориальными признаками. Сначала посмотрим, как меняется цена в зависимости от вида кузова и типа коробки передач."
   ]
  },
  {
   "cell_type": "code",
   "execution_count": 81,
   "metadata": {
    "colab": {
     "base_uri": "https://localhost:8080/",
     "height": 0
    },
    "id": "TM-xT48V2e-z",
    "outputId": "750dcd6a-9062-46bf-a275-2a6e4bf9fd18"
   },
   "outputs": [
    {
     "data": {
      "text/html": [
       "<div>\n",
       "<style scoped>\n",
       "    .dataframe tbody tr th:only-of-type {\n",
       "        vertical-align: middle;\n",
       "    }\n",
       "\n",
       "    .dataframe tbody tr th {\n",
       "        vertical-align: top;\n",
       "    }\n",
       "\n",
       "    .dataframe thead th {\n",
       "        text-align: right;\n",
       "    }\n",
       "</style>\n",
       "<table border=\"1\" class=\"dataframe\">\n",
       "  <thead>\n",
       "    <tr style=\"text-align: right;\">\n",
       "      <th>Gearbox</th>\n",
       "      <th>auto</th>\n",
       "      <th>manual</th>\n",
       "    </tr>\n",
       "    <tr>\n",
       "      <th>VehicleType</th>\n",
       "      <th></th>\n",
       "      <th></th>\n",
       "    </tr>\n",
       "  </thead>\n",
       "  <tbody>\n",
       "    <tr>\n",
       "      <th>suv</th>\n",
       "      <td>10661.575253</td>\n",
       "      <td>8840.220527</td>\n",
       "    </tr>\n",
       "    <tr>\n",
       "      <th>convertible</th>\n",
       "      <td>9171.484001</td>\n",
       "      <td>6909.065159</td>\n",
       "    </tr>\n",
       "    <tr>\n",
       "      <th>coupe</th>\n",
       "      <td>8938.106302</td>\n",
       "      <td>5917.070457</td>\n",
       "    </tr>\n",
       "    <tr>\n",
       "      <th>bus</th>\n",
       "      <td>7822.358812</td>\n",
       "      <td>5629.398679</td>\n",
       "    </tr>\n",
       "    <tr>\n",
       "      <th>wagon</th>\n",
       "      <td>7394.578939</td>\n",
       "      <td>4882.673736</td>\n",
       "    </tr>\n",
       "    <tr>\n",
       "      <th>sedan</th>\n",
       "      <td>7280.725036</td>\n",
       "      <td>4623.098048</td>\n",
       "    </tr>\n",
       "    <tr>\n",
       "      <th>other</th>\n",
       "      <td>6642.568182</td>\n",
       "      <td>3988.689681</td>\n",
       "    </tr>\n",
       "    <tr>\n",
       "      <th>small</th>\n",
       "      <td>4181.265128</td>\n",
       "      <td>3091.251649</td>\n",
       "    </tr>\n",
       "  </tbody>\n",
       "</table>\n",
       "</div>"
      ],
      "text/plain": [
       "Gearbox              auto       manual\n",
       "VehicleType                           \n",
       "suv          10661.575253  8840.220527\n",
       "convertible   9171.484001  6909.065159\n",
       "coupe         8938.106302  5917.070457\n",
       "bus           7822.358812  5629.398679\n",
       "wagon         7394.578939  4882.673736\n",
       "sedan         7280.725036  4623.098048\n",
       "other         6642.568182  3988.689681\n",
       "small         4181.265128  3091.251649"
      ]
     },
     "metadata": {
      "tags": []
     },
     "output_type": "display_data"
    }
   ],
   "source": [
    "display(autos.pivot_table(index='VehicleType', columns='Gearbox', values='Price', aggfunc='mean').sort_values(by='auto', ascending=False))"
   ]
  },
  {
   "cell_type": "markdown",
   "metadata": {
    "id": "31r4xUmv2e-0"
   },
   "source": [
    "Машины с автоматической коробкой передач ценятся больше, чем с механической. Также цена сильно варьируется в зависимости от типа кузова. \n",
    "\n",
    "Посмотрим на рейтинг автомобилей исходя из вида используемого топлива и наличия ремонта в истории. "
   ]
  },
  {
   "cell_type": "code",
   "execution_count": 82,
   "metadata": {
    "colab": {
     "base_uri": "https://localhost:8080/",
     "height": 0
    },
    "id": "wzewEBvS2e-0",
    "outputId": "aa7b7f77-1b40-4967-a34c-8b209a56e993"
   },
   "outputs": [
    {
     "data": {
      "text/html": [
       "<div>\n",
       "<style scoped>\n",
       "    .dataframe tbody tr th:only-of-type {\n",
       "        vertical-align: middle;\n",
       "    }\n",
       "\n",
       "    .dataframe tbody tr th {\n",
       "        vertical-align: top;\n",
       "    }\n",
       "\n",
       "    .dataframe thead th {\n",
       "        text-align: right;\n",
       "    }\n",
       "</style>\n",
       "<table border=\"1\" class=\"dataframe\">\n",
       "  <thead>\n",
       "    <tr style=\"text-align: right;\">\n",
       "      <th>NotRepaired</th>\n",
       "      <th>no</th>\n",
       "      <th>yes</th>\n",
       "    </tr>\n",
       "    <tr>\n",
       "      <th>FuelType</th>\n",
       "      <th></th>\n",
       "      <th></th>\n",
       "    </tr>\n",
       "  </thead>\n",
       "  <tbody>\n",
       "    <tr>\n",
       "      <th>hybrid</th>\n",
       "      <td>10620.367742</td>\n",
       "      <td>5354.166667</td>\n",
       "    </tr>\n",
       "    <tr>\n",
       "      <th>electric</th>\n",
       "      <td>8358.511111</td>\n",
       "      <td>4416.666667</td>\n",
       "    </tr>\n",
       "    <tr>\n",
       "      <th>gasoline</th>\n",
       "      <td>7576.231960</td>\n",
       "      <td>3760.703616</td>\n",
       "    </tr>\n",
       "    <tr>\n",
       "      <th>cng</th>\n",
       "      <td>5116.418605</td>\n",
       "      <td>2481.694444</td>\n",
       "    </tr>\n",
       "    <tr>\n",
       "      <th>petrol</th>\n",
       "      <td>4680.055045</td>\n",
       "      <td>1693.256038</td>\n",
       "    </tr>\n",
       "    <tr>\n",
       "      <th>lpg</th>\n",
       "      <td>4661.623344</td>\n",
       "      <td>2247.489320</td>\n",
       "    </tr>\n",
       "    <tr>\n",
       "      <th>other</th>\n",
       "      <td>4198.068182</td>\n",
       "      <td>866.666667</td>\n",
       "    </tr>\n",
       "  </tbody>\n",
       "</table>\n",
       "</div>"
      ],
      "text/plain": [
       "NotRepaired            no          yes\n",
       "FuelType                              \n",
       "hybrid       10620.367742  5354.166667\n",
       "electric      8358.511111  4416.666667\n",
       "gasoline      7576.231960  3760.703616\n",
       "cng           5116.418605  2481.694444\n",
       "petrol        4680.055045  1693.256038\n",
       "lpg           4661.623344  2247.489320\n",
       "other         4198.068182   866.666667"
      ]
     },
     "metadata": {
      "tags": []
     },
     "output_type": "display_data"
    }
   ],
   "source": [
    "display(autos.pivot_table(index='FuelType', columns='NotRepaired', values='Price', aggfunc='mean').sort_values(by='no', ascending=False))"
   ]
  },
  {
   "cell_type": "markdown",
   "metadata": {
    "id": "DO_xTnD42e-0"
   },
   "source": [
    "В соответствии с последними тенденциями развития технологий и заботе об экологии, больше всего ценятся гибриды и электрокары. Возможно, это связано также с тем, что сами по себе эти машины относительно новые, а недавний год выпуска ценится дороже старых автомобилей (за исключением раритетных экземпляров в хорошем состоянии для истинных ценителей и коллекционеров). Ожидаемо \"битая\" машина сильно теряет в цене (в среднем более чем в 2 раза) по сравнению с той, которая не попадала в автосервис вследствие поломки или аварии."
   ]
  },
  {
   "cell_type": "markdown",
   "metadata": {
    "id": "8g7_gac62e-0"
   },
   "source": [
    "### Подготовка признаков"
   ]
  },
  {
   "cell_type": "markdown",
   "metadata": {
    "id": "cxJjV2R02e-0"
   },
   "source": [
    "Поскольку категорий по каждому категориальному признаку (кроме наличия ремонта в анамнезе) у нас много, а логистическая регрессия далее рассматриваться не будет, применим для категориальных признаков кодирование по номеру категории (Ordinal Encoding)."
   ]
  },
  {
   "cell_type": "code",
   "execution_count": 83,
   "metadata": {
    "id": "0texX3_J2e-0"
   },
   "outputs": [],
   "source": [
    "encoder = OrdinalEncoder()\n",
    "encoder.fit(autos[['VehicleType', 'Gearbox', 'Model', 'FuelType', 'Brand', 'NotRepaired']])\n",
    "autos[['VehicleType', 'Gearbox', 'Model', 'FuelType', 'Brand', 'NotRepaired']] = encoder.transform(autos[['VehicleType', 'Gearbox', 'Model', 'FuelType', 'Brand', 'NotRepaired']])"
   ]
  },
  {
   "cell_type": "markdown",
   "metadata": {
    "id": "c6qPmUrA2e-1"
   },
   "source": [
    "Проверим, что у нас получилось."
   ]
  },
  {
   "cell_type": "code",
   "execution_count": 84,
   "metadata": {
    "colab": {
     "base_uri": "https://localhost:8080/",
     "height": 0
    },
    "id": "1QAU9uSV2e-1",
    "outputId": "f4fd63d7-f093-42b7-cc47-97caf5f694e9"
   },
   "outputs": [
    {
     "data": {
      "text/html": [
       "<div>\n",
       "<style scoped>\n",
       "    .dataframe tbody tr th:only-of-type {\n",
       "        vertical-align: middle;\n",
       "    }\n",
       "\n",
       "    .dataframe tbody tr th {\n",
       "        vertical-align: top;\n",
       "    }\n",
       "\n",
       "    .dataframe thead th {\n",
       "        text-align: right;\n",
       "    }\n",
       "</style>\n",
       "<table border=\"1\" class=\"dataframe\">\n",
       "  <thead>\n",
       "    <tr style=\"text-align: right;\">\n",
       "      <th></th>\n",
       "      <th>DateCrawled</th>\n",
       "      <th>Price</th>\n",
       "      <th>VehicleType</th>\n",
       "      <th>RegistrationYear</th>\n",
       "      <th>Gearbox</th>\n",
       "      <th>Power</th>\n",
       "      <th>Model</th>\n",
       "      <th>Kilometer</th>\n",
       "      <th>RegistrationMonth</th>\n",
       "      <th>FuelType</th>\n",
       "      <th>Brand</th>\n",
       "      <th>NotRepaired</th>\n",
       "      <th>DateCreated</th>\n",
       "      <th>NumberOfPictures</th>\n",
       "      <th>PostalCode</th>\n",
       "      <th>LastSeen</th>\n",
       "    </tr>\n",
       "  </thead>\n",
       "  <tbody>\n",
       "    <tr>\n",
       "      <th>3</th>\n",
       "      <td>2016-03-17 16:54:04</td>\n",
       "      <td>1500</td>\n",
       "      <td>5.0</td>\n",
       "      <td>2001</td>\n",
       "      <td>1.0</td>\n",
       "      <td>75</td>\n",
       "      <td>116.0</td>\n",
       "      <td>150000</td>\n",
       "      <td>6</td>\n",
       "      <td>6.0</td>\n",
       "      <td>37.0</td>\n",
       "      <td>0.0</td>\n",
       "      <td>2016-03-17</td>\n",
       "      <td>0</td>\n",
       "      <td>91074</td>\n",
       "      <td>2016-03-17 17:40:17</td>\n",
       "    </tr>\n",
       "    <tr>\n",
       "      <th>4</th>\n",
       "      <td>2016-03-31 17:25:20</td>\n",
       "      <td>3600</td>\n",
       "      <td>5.0</td>\n",
       "      <td>2008</td>\n",
       "      <td>1.0</td>\n",
       "      <td>69</td>\n",
       "      <td>101.0</td>\n",
       "      <td>90000</td>\n",
       "      <td>7</td>\n",
       "      <td>2.0</td>\n",
       "      <td>31.0</td>\n",
       "      <td>0.0</td>\n",
       "      <td>2016-03-31</td>\n",
       "      <td>0</td>\n",
       "      <td>60437</td>\n",
       "      <td>2016-04-06 10:17:21</td>\n",
       "    </tr>\n",
       "    <tr>\n",
       "      <th>5</th>\n",
       "      <td>2016-04-04 17:36:23</td>\n",
       "      <td>650</td>\n",
       "      <td>4.0</td>\n",
       "      <td>1995</td>\n",
       "      <td>1.0</td>\n",
       "      <td>102</td>\n",
       "      <td>11.0</td>\n",
       "      <td>150000</td>\n",
       "      <td>10</td>\n",
       "      <td>6.0</td>\n",
       "      <td>2.0</td>\n",
       "      <td>1.0</td>\n",
       "      <td>2016-04-04</td>\n",
       "      <td>0</td>\n",
       "      <td>33775</td>\n",
       "      <td>2016-04-06 19:17:07</td>\n",
       "    </tr>\n",
       "    <tr>\n",
       "      <th>6</th>\n",
       "      <td>2016-04-01 20:48:51</td>\n",
       "      <td>2200</td>\n",
       "      <td>1.0</td>\n",
       "      <td>2004</td>\n",
       "      <td>1.0</td>\n",
       "      <td>109</td>\n",
       "      <td>8.0</td>\n",
       "      <td>150000</td>\n",
       "      <td>8</td>\n",
       "      <td>6.0</td>\n",
       "      <td>25.0</td>\n",
       "      <td>0.0</td>\n",
       "      <td>2016-04-01</td>\n",
       "      <td>0</td>\n",
       "      <td>67112</td>\n",
       "      <td>2016-04-05 18:18:39</td>\n",
       "    </tr>\n",
       "    <tr>\n",
       "      <th>10</th>\n",
       "      <td>2016-03-26 19:54:18</td>\n",
       "      <td>2000</td>\n",
       "      <td>4.0</td>\n",
       "      <td>2004</td>\n",
       "      <td>1.0</td>\n",
       "      <td>105</td>\n",
       "      <td>10.0</td>\n",
       "      <td>150000</td>\n",
       "      <td>12</td>\n",
       "      <td>6.0</td>\n",
       "      <td>19.0</td>\n",
       "      <td>0.0</td>\n",
       "      <td>2016-03-26</td>\n",
       "      <td>0</td>\n",
       "      <td>96224</td>\n",
       "      <td>2016-04-06 10:45:34</td>\n",
       "    </tr>\n",
       "  </tbody>\n",
       "</table>\n",
       "</div>"
      ],
      "text/plain": [
       "           DateCrawled  Price  ...  PostalCode            LastSeen\n",
       "3  2016-03-17 16:54:04   1500  ...       91074 2016-03-17 17:40:17\n",
       "4  2016-03-31 17:25:20   3600  ...       60437 2016-04-06 10:17:21\n",
       "5  2016-04-04 17:36:23    650  ...       33775 2016-04-06 19:17:07\n",
       "6  2016-04-01 20:48:51   2200  ...       67112 2016-04-05 18:18:39\n",
       "10 2016-03-26 19:54:18   2000  ...       96224 2016-04-06 10:45:34\n",
       "\n",
       "[5 rows x 16 columns]"
      ]
     },
     "metadata": {
      "tags": []
     },
     "output_type": "display_data"
    }
   ],
   "source": [
    "display(autos.head())"
   ]
  },
  {
   "cell_type": "markdown",
   "metadata": {
    "id": "_p1vA4q32e-1"
   },
   "source": [
    "Разделим датасет на обучающую и тестовую выборки. Тест составит 25% от всего набора данных."
   ]
  },
  {
   "cell_type": "code",
   "execution_count": 85,
   "metadata": {
    "id": "5ojdt9wn2e-1"
   },
   "outputs": [],
   "source": [
    "autos_train, autos_test = train_test_split(autos, test_size=0.25, random_state=12345)"
   ]
  },
  {
   "cell_type": "markdown",
   "metadata": {
    "id": "ZiLzh63s2e-1"
   },
   "source": [
    "Далее из выборок выделим наборы обучающих признаков и целевой признак. Из обучающих и тестовых признаков исключим колонки PostalCode и NumberOfPictures, в них нет никакого смысла."
   ]
  },
  {
   "cell_type": "code",
   "execution_count": 86,
   "metadata": {
    "colab": {
     "base_uri": "https://localhost:8080/"
    },
    "id": "uSRiR9832e-1",
    "outputId": "41521f21-999d-496b-e218-29fca33f7249"
   },
   "outputs": [
    {
     "name": "stdout",
     "output_type": "stream",
     "text": [
      "train (174771, 10) (174771, 1)\n",
      "test (58257, 10) (58257, 1)\n"
     ]
    }
   ],
   "source": [
    "target_train = pd.DataFrame(autos_train, columns = ['Price'])\n",
    "features_train = autos_train.drop(columns = ['Price', 'PostalCode', 'NumberOfPictures', \n",
    "                                             'DateCrawled', 'DateCreated', 'LastSeen'], axis=1)\n",
    "target_test = pd.DataFrame(autos_test, columns = ['Price'])\n",
    "features_test = autos_test.drop(columns = ['Price', 'PostalCode', 'NumberOfPictures', \n",
    "                                           'DateCrawled', 'DateCreated', 'LastSeen'], axis=1)\n",
    "\n",
    "print('train', features_train.shape, target_train.shape)\n",
    "print('test', features_test.shape, target_test.shape)"
   ]
  },
  {
   "cell_type": "markdown",
   "metadata": {
    "id": "c_Tx--5f2e-2"
   },
   "source": [
    "Чтобы привести признаки к единому масштабу, стандартизируем их методом StandardScaler и выведем первые строки получившейся таблицы (тренировочные данные)."
   ]
  },
  {
   "cell_type": "code",
   "execution_count": 87,
   "metadata": {
    "colab": {
     "base_uri": "https://localhost:8080/",
     "height": 0
    },
    "id": "ZzWXcHsX2e-2",
    "outputId": "79bf47ed-c1ce-46a7-9ec4-ff225a2b6254"
   },
   "outputs": [
    {
     "data": {
      "text/html": [
       "<div>\n",
       "<style scoped>\n",
       "    .dataframe tbody tr th:only-of-type {\n",
       "        vertical-align: middle;\n",
       "    }\n",
       "\n",
       "    .dataframe tbody tr th {\n",
       "        vertical-align: top;\n",
       "    }\n",
       "\n",
       "    .dataframe thead th {\n",
       "        text-align: right;\n",
       "    }\n",
       "</style>\n",
       "<table border=\"1\" class=\"dataframe\">\n",
       "  <thead>\n",
       "    <tr style=\"text-align: right;\">\n",
       "      <th></th>\n",
       "      <th>VehicleType</th>\n",
       "      <th>RegistrationYear</th>\n",
       "      <th>Gearbox</th>\n",
       "      <th>Power</th>\n",
       "      <th>Model</th>\n",
       "      <th>Kilometer</th>\n",
       "      <th>RegistrationMonth</th>\n",
       "      <th>FuelType</th>\n",
       "      <th>Brand</th>\n",
       "      <th>NotRepaired</th>\n",
       "    </tr>\n",
       "  </thead>\n",
       "  <tbody>\n",
       "    <tr>\n",
       "      <th>345461</th>\n",
       "      <td>-0.116160</td>\n",
       "      <td>1.299075</td>\n",
       "      <td>-1.951377</td>\n",
       "      <td>-0.334050</td>\n",
       "      <td>0.117596</td>\n",
       "      <td>-1.539990</td>\n",
       "      <td>-0.714483</td>\n",
       "      <td>0.713955</td>\n",
       "      <td>1.286002</td>\n",
       "      <td>-0.341757</td>\n",
       "    </tr>\n",
       "    <tr>\n",
       "      <th>168157</th>\n",
       "      <td>1.287189</td>\n",
       "      <td>-0.012603</td>\n",
       "      <td>0.512459</td>\n",
       "      <td>0.043098</td>\n",
       "      <td>0.652404</td>\n",
       "      <td>-0.729928</td>\n",
       "      <td>-0.412700</td>\n",
       "      <td>0.713955</td>\n",
       "      <td>-0.778867</td>\n",
       "      <td>-0.341757</td>\n",
       "    </tr>\n",
       "    <tr>\n",
       "      <th>265162</th>\n",
       "      <td>-0.116160</td>\n",
       "      <td>0.807196</td>\n",
       "      <td>-1.951377</td>\n",
       "      <td>0.759679</td>\n",
       "      <td>-1.360164</td>\n",
       "      <td>0.620176</td>\n",
       "      <td>-0.412700</td>\n",
       "      <td>-1.417919</td>\n",
       "      <td>-1.390680</td>\n",
       "      <td>-0.341757</td>\n",
       "    </tr>\n",
       "    <tr>\n",
       "      <th>214772</th>\n",
       "      <td>1.287189</td>\n",
       "      <td>-0.504482</td>\n",
       "      <td>0.512459</td>\n",
       "      <td>-0.051189</td>\n",
       "      <td>0.399074</td>\n",
       "      <td>0.620176</td>\n",
       "      <td>1.397999</td>\n",
       "      <td>0.713955</td>\n",
       "      <td>0.521235</td>\n",
       "      <td>-0.341757</td>\n",
       "    </tr>\n",
       "    <tr>\n",
       "      <th>134901</th>\n",
       "      <td>1.287189</td>\n",
       "      <td>-0.176563</td>\n",
       "      <td>0.512459</td>\n",
       "      <td>-0.899772</td>\n",
       "      <td>-0.923873</td>\n",
       "      <td>0.620176</td>\n",
       "      <td>0.794433</td>\n",
       "      <td>-1.417919</td>\n",
       "      <td>0.291805</td>\n",
       "      <td>-0.341757</td>\n",
       "    </tr>\n",
       "  </tbody>\n",
       "</table>\n",
       "</div>"
      ],
      "text/plain": [
       "        VehicleType  RegistrationYear  ...     Brand  NotRepaired\n",
       "345461    -0.116160          1.299075  ...  1.286002    -0.341757\n",
       "168157     1.287189         -0.012603  ... -0.778867    -0.341757\n",
       "265162    -0.116160          0.807196  ... -1.390680    -0.341757\n",
       "214772     1.287189         -0.504482  ...  0.521235    -0.341757\n",
       "134901     1.287189         -0.176563  ...  0.291805    -0.341757\n",
       "\n",
       "[5 rows x 10 columns]"
      ]
     },
     "metadata": {
      "tags": []
     },
     "output_type": "display_data"
    }
   ],
   "source": [
    "numeric = features_train.columns\n",
    "scaler = StandardScaler()\n",
    "scaler.fit(features_train[numeric])\n",
    "\n",
    "features_train[numeric] = scaler.transform(features_train[numeric])\n",
    "features_test[numeric] = scaler.transform(features_test[numeric])\n",
    "\n",
    "display(pd.DataFrame(features_train).head())"
   ]
  },
  {
   "cell_type": "markdown",
   "metadata": {
    "id": "c58UOgeZ2e-2"
   },
   "source": [
    "### Вывод"
   ]
  },
  {
   "cell_type": "markdown",
   "metadata": {
    "id": "45isP5q42e-2"
   },
   "source": [
    "В ряде столбцов обнаружены пропущенные значения, больше всего в колонке NotRepaired (порядка 20%). Причины появления NaN могут быть самые разные. Это может быть случайностью или умышленным действием. Продавец не поставил галочку (просто не обратил внимание на эту графу), т.к. машина в ремонте не была. Или же, наоборот, попала в аварию, а владелец решил это особо не афишировать в объявлении и предпочел не говорить ничего. Пропуски было решено удалить. Тем более, с удалением пропусков ушли все экстремальные годы (вроде 1000, 1001 или 9999 лет), что подтверждает верность выбранного решения. Артефакты в колонке месяца регистрации (значение 0) заменены на медианное значение 6, т.к. эта колонка не должна сильно повлиять на прогнозы, зато другие признаки в записях можно сохранить. \n",
    "\n",
    "Также из датасета были отфильтрованы все машины с мощностью 0 и мощностями, выходящими за 99,9% распределения. Чтобы не портить качество моделей и не занижать итоговую стоимость, из целевого признака были выведены все машины с ценой, равной 0.\n",
    "\n",
    "Все столбцы с датами переведены в соответствующий формат даты. В наборе данных найдено всего 4 дубликата, они были удалены из датасета.\n",
    "\n",
    "К категориальным признакам применено кодирование по номеру категории (Ordinal Encoding). При формировании наборов обучающих факторов из списка удалены колонки PostalCode и NumberOfPictures, как не представляющие прогнозной значимости."
   ]
  },
  {
   "cell_type": "markdown",
   "metadata": {
    "id": "3Qn_cxDP2e-2"
   },
   "source": [
    "## Обучение моделей"
   ]
  },
  {
   "cell_type": "markdown",
   "metadata": {
    "id": "z17wHmo12e-3"
   },
   "source": [
    "В проекте рассмотрено шесть моделей: линейная регрессия, дерево решений, случайный лес, стохастический градиентный спуск и две модели градиентного бустинга.\n",
    "\n",
    "Оптимальные гиперпараметры будем подбирать с помощью функции GridSearchCV(). Поскольку перебирать гиперпараметры мы будем не один раз, объявим функцию для подбора этих гиперпараметров. На вход она будет принимать перечень параметров, тип модели, набор обучающих признаков и обучающий целевой признак.\n",
    "\n",
    "Возвращать функция будет метрику RMSE (среднеквадратичную ошибку). Для расчета метрики напишем функцию select_mse и имплементируем ее в функцию подбора параметров модели. Количество подвыборок для кросс-валидации укажем 3 (cv=3). Это позволит, с одной стороны, объективнее оценить размер ошибки отдельно не выделяя валидационную выборку, а с другой - не очень большое количество подвыборок ускорит процесс подбора гиперпараметров."
   ]
  },
  {
   "cell_type": "code",
   "execution_count": 88,
   "metadata": {
    "id": "Dua53mOU2e-3"
   },
   "outputs": [],
   "source": [
    "select_mse = make_scorer(mean_squared_error, greater_is_better=False)\n",
    "\n",
    "def select_params(params, model, features, target):\n",
    "    mod = GridSearchCV(model, params, cv=3, scoring=select_mse)\n",
    "    %time mod.fit(features, target)\n",
    "    print('rmse:', ((((mod.best_score_)*(-1))**0.5).round(3)))\n",
    "    print(mod.best_params_)"
   ]
  },
  {
   "cell_type": "markdown",
   "metadata": {
    "id": "pAOvkXuA2e-3"
   },
   "source": [
    "Поскольку кроме точности прогнозирования нам нужно еще оценить скорость работы модели, мы также будем фиксировать время отработки кода. Для удобства оценки вынесем все зафиксированное время обучения моделей в отдельную (заранее объявленную) переменную (словарь). Позже выведем эти данные в общую сравнительную таблицу для всех алгоритмов."
   ]
  },
  {
   "cell_type": "code",
   "execution_count": 89,
   "metadata": {
    "id": "SJUcgBIm2e-3"
   },
   "outputs": [],
   "source": [
    "fit_time = {}"
   ]
  },
  {
   "cell_type": "markdown",
   "metadata": {
    "id": "4KGwZWaX2e-3"
   },
   "source": [
    "### Линейная регрессия"
   ]
  },
  {
   "cell_type": "markdown",
   "metadata": {
    "id": "0yg1Kiv92e-3"
   },
   "source": [
    "Первой моделью рассмотрим классическую линейную регрессию."
   ]
  },
  {
   "cell_type": "code",
   "execution_count": 90,
   "metadata": {
    "colab": {
     "base_uri": "https://localhost:8080/"
    },
    "id": "qPBz1SYr2e-3",
    "outputId": "4089dc85-db8e-46d8-baf5-7078c776c988"
   },
   "outputs": [
    {
     "name": "stdout",
     "output_type": "stream",
     "text": [
      "CPU times: user 273 ms, sys: 254 ms, total: 527 ms\n",
      "Wall time: 299 ms\n",
      "rmse: 2877.947\n",
      "{}\n"
     ]
    }
   ],
   "source": [
    "params = {}\n",
    "select_params(params, LinearRegression(), features_train, target_train)"
   ]
  },
  {
   "cell_type": "markdown",
   "metadata": {
    "id": "mBruVHiY2e-4"
   },
   "source": [
    "Сохраним нашу модель для прогнозирования стоимости."
   ]
  },
  {
   "cell_type": "code",
   "execution_count": 91,
   "metadata": {
    "colab": {
     "base_uri": "https://localhost:8080/"
    },
    "id": "Fh9Tj2Qu2e-4",
    "outputId": "0386df34-c32e-46a8-cb1f-3a510c2fb5b3"
   },
   "outputs": [
    {
     "name": "stdout",
     "output_type": "stream",
     "text": [
      "CPU times: user 65.9 ms, sys: 57 ms, total: 123 ms\n",
      "Wall time: 73.9 ms\n"
     ]
    }
   ],
   "source": [
    "%%time\n",
    "start= timer()\n",
    "model_lr = LinearRegression()\n",
    "model_lr.fit(features_train, target_train)\n",
    "end = timer()\n",
    "fit_time['Linear Regression'] = str((end-start)//60) + 'min ' + str(round((end-start)%60, 2)) + 's'"
   ]
  },
  {
   "cell_type": "markdown",
   "metadata": {
    "id": "Ou35WESd2e-4"
   },
   "source": [
    "### Дерево решений"
   ]
  },
  {
   "cell_type": "markdown",
   "metadata": {
    "id": "6CzzXsaN2e-4"
   },
   "source": [
    "Рассмотрим дерево решений. Выведем rmse, какая получается, если не \"докручивать\" модель, а использовать гиперпараметры, установленные по умолчанию.\n",
    "\n",
    "Используем нашу функцию для подбора параметров, т.к. она основана на кросс-валидации (нет необходимости проверять результат на валидационной выборке, позже используем сразу тестовую). Просто передадим ей пустые параметры."
   ]
  },
  {
   "cell_type": "code",
   "execution_count": 92,
   "metadata": {
    "colab": {
     "base_uri": "https://localhost:8080/"
    },
    "id": "l1Kpv6Y02e-4",
    "outputId": "36b16008-5c25-4144-8a6b-281ed725df77"
   },
   "outputs": [
    {
     "name": "stdout",
     "output_type": "stream",
     "text": [
      "CPU times: user 3.11 s, sys: 83.8 ms, total: 3.2 s\n",
      "Wall time: 3.12 s\n",
      "rmse: 2081.064\n",
      "{}\n"
     ]
    }
   ],
   "source": [
    "# Wall time: 3.15 s\n",
    "params = {}\n",
    "select_params(params, DecisionTreeRegressor(random_state=12345), features_train, target_train)"
   ]
  },
  {
   "cell_type": "markdown",
   "metadata": {
    "id": "hB97pMtd2e-4"
   },
   "source": [
    "Теперь попробуем подкрутить"
   ]
  },
  {
   "cell_type": "code",
   "execution_count": 93,
   "metadata": {
    "colab": {
     "base_uri": "https://localhost:8080/"
    },
    "id": "8kMpeWhr2e-5",
    "outputId": "8b2ff797-48d5-445b-c391-5182f804deab"
   },
   "outputs": [
    {
     "name": "stdout",
     "output_type": "stream",
     "text": [
      "CPU times: user 13.2 s, sys: 43.7 ms, total: 13.3 s\n",
      "Wall time: 13.2 s\n",
      "rmse: 2030.874\n",
      "{'max_depth': 9, 'min_samples_leaf': 1, 'min_samples_split': 6}\n"
     ]
    }
   ],
   "source": [
    "# Wall time: 12.9 s\n",
    "params = {'max_depth': range(4,10), 'min_samples_split': [2,4,6], 'min_samples_leaf': range(1,2,4)}\n",
    "select_params(params, DecisionTreeRegressor(random_state=12345), features_train, target_train)"
   ]
  },
  {
   "cell_type": "markdown",
   "metadata": {
    "id": "GXRmR6yK2e-5"
   },
   "source": [
    "Качество модели улучшилось. Сохраним модель с подобранными гиперпараметрами."
   ]
  },
  {
   "cell_type": "code",
   "execution_count": 94,
   "metadata": {
    "colab": {
     "base_uri": "https://localhost:8080/"
    },
    "id": "mAVmVWrZ2e-5",
    "outputId": "caaa6494-5c4f-4cf0-c41c-10c9bb7e63ab"
   },
   "outputs": [
    {
     "name": "stdout",
     "output_type": "stream",
     "text": [
      "CPU times: user 451 ms, sys: 1.96 ms, total: 453 ms\n",
      "Wall time: 454 ms\n"
     ]
    }
   ],
   "source": [
    "start= timer()\n",
    "model_dt = DecisionTreeRegressor(random_state=12345, max_depth=9, min_samples_split=6, min_samples_leaf=1)\n",
    "%time model_dt.fit(features_train, target_train)\n",
    "end = timer()\n",
    "fit_time['Decision Tree'] = str((end-start)//60) + 'min ' + str(round((end-start)%60, 2)) + 's'"
   ]
  },
  {
   "cell_type": "markdown",
   "metadata": {
    "id": "rblN-Luu2e-5"
   },
   "source": [
    "### Случайный лес"
   ]
  },
  {
   "cell_type": "markdown",
   "metadata": {
    "id": "XAMqsOmE2e-5"
   },
   "source": [
    "Теперь попробуем использовать для прогнозирования не одно дерево, а их ансамбль. Сначала применим гиперпараметры \"из коробки\", которые используются в алгоритме по умолчанию."
   ]
  },
  {
   "cell_type": "code",
   "execution_count": 95,
   "metadata": {
    "colab": {
     "base_uri": "https://localhost:8080/"
    },
    "id": "He8IZH642e-5",
    "outputId": "0f14f503-8149-4401-f2ee-f79d71d473f8"
   },
   "outputs": [
    {
     "name": "stdout",
     "output_type": "stream",
     "text": [
      "CPU times: user 3min 17s, sys: 2.46 s, total: 3min 19s\n",
      "Wall time: 3min 18s\n",
      "rmse: 1612.946\n",
      "{}\n"
     ]
    }
   ],
   "source": [
    "# Wall time: 20.5 s\n",
    "params = {}\n",
    "select_params(params, RandomForestRegressor(random_state=12345), features_train, target_train)"
   ]
  },
  {
   "cell_type": "markdown",
   "metadata": {
    "id": "wwGtzEwm2e-6"
   },
   "source": [
    "Попробуем поменять гиперпараметры модели и посмотрим, удастся ли улучшить результат. Для сокращения времени на перебор гиперпараметров рассмотрим 60 и 90 деревьев, а максимальную глубину дерева - 4 и 8."
   ]
  },
  {
   "cell_type": "code",
   "execution_count": 96,
   "metadata": {
    "colab": {
     "base_uri": "https://localhost:8080/"
    },
    "id": "Yk8L52sf2e-6",
    "outputId": "884ceea1-722a-464b-abe2-588525ff8fb9"
   },
   "outputs": [
    {
     "name": "stdout",
     "output_type": "stream",
     "text": [
      "CPU times: user 2min 26s, sys: 221 ms, total: 2min 26s\n",
      "Wall time: 2min 26s\n",
      "rmse: 2007.858\n",
      "{'max_depth': 8, 'n_estimators': 90}\n"
     ]
    }
   ],
   "source": [
    "# Wall time: 2min 39s\n",
    "params = {'n_estimators': [60, 90], 'max_depth': [4, 8]}\n",
    "select_params(params, RandomForestRegressor(random_state=12345), features_train, target_train)"
   ]
  },
  {
   "cell_type": "markdown",
   "metadata": {
    "id": "IMIhRSLC2e-6"
   },
   "source": [
    "Признаем, что модель до нашего вмешательства работала лучше, и оставим дефолтные значения гиперпараметров."
   ]
  },
  {
   "cell_type": "code",
   "execution_count": 97,
   "metadata": {
    "colab": {
     "base_uri": "https://localhost:8080/"
    },
    "id": "323PDBaU2e-6",
    "outputId": "a14dcad3-26d9-45d8-89bf-90ca016b67b4"
   },
   "outputs": [
    {
     "name": "stdout",
     "output_type": "stream",
     "text": [
      "CPU times: user 1min 3s, sys: 463 ms, total: 1min 4s\n",
      "Wall time: 1min 3s\n"
     ]
    }
   ],
   "source": [
    "start= timer()\n",
    "model_rf = RandomForestRegressor(random_state=12345)\n",
    "%time model_rf.fit(features_train, target_train)\n",
    "end = timer()\n",
    "fit_time['Random Forest'] = str((end-start)//60) + 'min ' + str(round((end-start)%60, 2)) + 's'"
   ]
  },
  {
   "cell_type": "markdown",
   "metadata": {
    "id": "UISkuuUh2e-6"
   },
   "source": [
    "### Стохастический градиентный спуск"
   ]
  },
  {
   "cell_type": "markdown",
   "metadata": {
    "id": "UVNDOpQ12e-6"
   },
   "source": [
    "Поэкспериментируем с моделью стохастического градиентного спуска. Посмотрим, что выдаст наша модель без подбора гиперпараметров."
   ]
  },
  {
   "cell_type": "code",
   "execution_count": 98,
   "metadata": {
    "colab": {
     "base_uri": "https://localhost:8080/"
    },
    "id": "xuUe5Ok32e-6",
    "outputId": "ffb78193-71d2-4fbd-ad9e-fc62fca1b049"
   },
   "outputs": [
    {
     "name": "stdout",
     "output_type": "stream",
     "text": [
      "CPU times: user 2.79 s, sys: 326 ms, total: 3.11 s\n",
      "Wall time: 2.74 s\n",
      "rmse: 2883.021\n",
      "{}\n"
     ]
    }
   ],
   "source": [
    "# Wall time: 2.85 s\n",
    "params = {}\n",
    "select_params(params, SGDRegressor(random_state=12345), features_train, target_train)"
   ]
  },
  {
   "cell_type": "markdown",
   "metadata": {
    "id": "tiUjbVqT2e-7"
   },
   "source": [
    "Попробуем поменять гиперпараметры и улучшить нашу модель."
   ]
  },
  {
   "cell_type": "code",
   "execution_count": 99,
   "metadata": {
    "colab": {
     "base_uri": "https://localhost:8080/"
    },
    "id": "YnyDVzDx2e-9",
    "outputId": "47a09b19-a1b7-4323-b81a-63a54646fa12"
   },
   "outputs": [
    {
     "name": "stdout",
     "output_type": "stream",
     "text": [
      "CPU times: user 2min 33s, sys: 25.8 s, total: 2min 59s\n",
      "Wall time: 2min 30s\n",
      "rmse: 2880.167\n",
      "{'alpha': 1, 'l1_ratio': 0.01, 'penalty': 'l1', 'tol': 0.001}\n"
     ]
    }
   ],
   "source": [
    "# Wall time: 2min 40s\n",
    "params = {'penalty': ['l2', 'l1', 'elasticnet'], 'alpha': [0.0001, 1, 100], 'tol': [0.001, 0.01, 0.1],\n",
    "          'l1_ratio': [0.01, 0.15, 0.3]}\n",
    "select_params(params, SGDRegressor(random_state=12345), features_train, target_train)"
   ]
  },
  {
   "cell_type": "markdown",
   "metadata": {
    "id": "4UEPue1H2e-9"
   },
   "source": [
    "Качество предсказания улучшилось лишь на несколько единиц. Сохраним модель в таком виде, однако, даже так пока это самый худший результат из всех."
   ]
  },
  {
   "cell_type": "code",
   "execution_count": 100,
   "metadata": {
    "colab": {
     "base_uri": "https://localhost:8080/"
    },
    "id": "AzoVKlSk2e-9",
    "outputId": "f4bc668d-e361-44ee-f033-8ef3495ca610"
   },
   "outputs": [
    {
     "name": "stdout",
     "output_type": "stream",
     "text": [
      "CPU times: user 554 ms, sys: 4.01 ms, total: 558 ms\n",
      "Wall time: 559 ms\n"
     ]
    }
   ],
   "source": [
    "start= timer()\n",
    "model_sgd = SGDRegressor(random_state=12345, alpha=1, l1_ratio=0.01, penalty='l1', tol=0.001)\n",
    "%time model_sgd.fit(features_train, target_train)\n",
    "end = timer()\n",
    "fit_time['SGD Regressor'] = str((end-start)//60) + 'min ' + str(round((end-start)%60, 2)) + 's'"
   ]
  },
  {
   "cell_type": "markdown",
   "metadata": {
    "id": "9Cetj5in2e--"
   },
   "source": [
    "### Градиентный бустинг"
   ]
  },
  {
   "cell_type": "markdown",
   "metadata": {
    "id": "7HfMDDvE2e--"
   },
   "source": [
    "Подберем гиперпараметры для моделей градиентного бустинга."
   ]
  },
  {
   "cell_type": "markdown",
   "metadata": {
    "id": "IOZFYv5m2e--"
   },
   "source": [
    "#### LightGBM"
   ]
  },
  {
   "cell_type": "markdown",
   "metadata": {
    "id": "ctzX5-tA2e--"
   },
   "source": [
    "Рассмотрим Light Gradient Boosted Machine (LightGBM). Поскольку в данном алгоритме есть встроенная возможность обработки категориальных признаков, изменим тип данных на 'category' и сохраним датасет с категориальными признаками в отдельной переменной."
   ]
  },
  {
   "cell_type": "code",
   "execution_count": 101,
   "metadata": {
    "id": "tIC7Tn542e--"
   },
   "outputs": [],
   "source": [
    "features_train_2 = features_train.copy()\n",
    "cat_feat = autos[['VehicleType', 'Gearbox', 'Model', 'FuelType', 'Brand', 'NotRepaired']]\n",
    "for i in cat_feat:\n",
    "    features_train_2[i] = features_train_2[i].astype('category')"
   ]
  },
  {
   "cell_type": "markdown",
   "metadata": {
    "id": "Lqqna8Am2e--"
   },
   "source": [
    "Сначала в модели не меняем гиперпараметры, установленные по умолчанию."
   ]
  },
  {
   "cell_type": "code",
   "execution_count": 102,
   "metadata": {
    "colab": {
     "base_uri": "https://localhost:8080/"
    },
    "id": "Oo2XmFBS2e-_",
    "outputId": "531256f2-6677-4625-80b7-1598f8626b6a"
   },
   "outputs": [
    {
     "name": "stdout",
     "output_type": "stream",
     "text": [
      "CPU times: user 11.3 s, sys: 125 ms, total: 11.4 s\n",
      "Wall time: 6 s\n",
      "rmse: 1595.659\n",
      "{}\n"
     ]
    }
   ],
   "source": [
    "# Wall time: 37.9 s\n",
    "params = {}\n",
    "select_params(params, LGBMRegressor(), features_train_2, target_train)"
   ]
  },
  {
   "cell_type": "markdown",
   "metadata": {
    "id": "JfbzdDMZ2e-_"
   },
   "source": [
    "Теперь попробуем поменять гиперпараметры."
   ]
  },
  {
   "cell_type": "code",
   "execution_count": 103,
   "metadata": {
    "colab": {
     "base_uri": "https://localhost:8080/"
    },
    "id": "XEkUIq_t2e-_",
    "outputId": "783cfe5f-29e3-4d91-b9e5-92a1c2177328"
   },
   "outputs": [
    {
     "name": "stdout",
     "output_type": "stream",
     "text": [
      "CPU times: user 46.1 s, sys: 416 ms, total: 46.5 s\n",
      "Wall time: 24.1 s\n",
      "rmse: 1595.517\n",
      "{'max_depth': 10, 'n_estimators': 100}\n"
     ]
    }
   ],
   "source": [
    "# Wall time: 1min 54s\n",
    "params = {'n_estimators': [70, 100], 'max_depth': [6, 8, 10]}\n",
    "select_params(params, LGBMRegressor(), features_train_2, target_train)"
   ]
  },
  {
   "cell_type": "markdown",
   "metadata": {
    "id": "fPCoVY6D2e-_"
   },
   "source": [
    "Результаты стали лучше на десятые доли. Сохраним модель в таком виде."
   ]
  },
  {
   "cell_type": "code",
   "execution_count": 104,
   "metadata": {
    "colab": {
     "base_uri": "https://localhost:8080/"
    },
    "id": "O9S_McWI2e-_",
    "outputId": "66348116-769e-47c2-be45-f29d97b3521f"
   },
   "outputs": [
    {
     "name": "stdout",
     "output_type": "stream",
     "text": [
      "CPU times: user 2.94 s, sys: 38.8 ms, total: 2.97 s\n",
      "Wall time: 1.55 s\n"
     ]
    }
   ],
   "source": [
    "start= timer()\n",
    "model_gb = LGBMRegressor(random_state=12345, max_dept=10, n_estimators=100)\n",
    "%time model_gb.fit(features_train_2, target_train)\n",
    "end = timer()\n",
    "fit_time['LightGBM'] = str((end-start)//60) + 'min ' + str(round((end-start)%60, 2)) + 's'"
   ]
  },
  {
   "cell_type": "markdown",
   "metadata": {
    "id": "D1X8_9AC2e_A"
   },
   "source": [
    "#### CatBoost"
   ]
  },
  {
   "cell_type": "markdown",
   "metadata": {
    "id": "5oCZxtoI2e_A"
   },
   "source": [
    "В CatBoost также встроена опция обработки категориальных признаков. Сохраним обучающие признаки в отдельной переменной и соотвствующим образом подготовим нужные колонки."
   ]
  },
  {
   "cell_type": "code",
   "execution_count": 105,
   "metadata": {
    "id": "GExwc7_l2e_A"
   },
   "outputs": [],
   "source": [
    "features_train_3 = features_train.copy()\n",
    "cat_feat = ['VehicleType', 'Gearbox', 'Model', 'FuelType', 'Brand', 'NotRepaired']\n",
    "for i in cat_feat:\n",
    "    features_train_3[i] = features_train_3[i].astype('category').cat.codes"
   ]
  },
  {
   "cell_type": "markdown",
   "metadata": {
    "id": "u1gMXZzQ2e_A"
   },
   "source": [
    "По аналогии с предыдущей моделью сначала гиперпараметры не меняем, а на следующем шаге попробуем подобрать, чтобы сделать прогноз лучше. Единственное, в params укажем logging_level='Silent', чтобы не выводить на экран промежуточные итоги."
   ]
  },
  {
   "cell_type": "code",
   "execution_count": 106,
   "metadata": {
    "colab": {
     "base_uri": "https://localhost:8080/"
    },
    "id": "QjGQNBqp2e_A",
    "outputId": "d4ea8c22-6c8b-4aa3-fa31-c23c3d457adc"
   },
   "outputs": [
    {
     "name": "stderr",
     "output_type": "stream",
     "text": [
      "Custom logger is already specified. Specify more than one logger at same time is not thread safe."
     ]
    },
    {
     "name": "stdout",
     "output_type": "stream",
     "text": [
      "CPU times: user 11min 44s, sys: 13.2 s, total: 11min 57s\n",
      "Wall time: 6min 13s\n",
      "rmse: 1581.074\n",
      "{'logging_level': 'Silent'}\n"
     ]
    }
   ],
   "source": [
    "#Wall time: 25min 8s\n",
    "\n",
    "params = {'logging_level': ['Silent']}\n",
    "mod = GridSearchCV(CatBoostRegressor(), params, cv=3, scoring=select_mse)\n",
    "%time mod.fit(features_train_3, target_train, cat_features=cat_feat)\n",
    "print('rmse:', ((((mod.best_score_)*(-1))**0.5).round(3)))\n",
    "print(mod.best_params_)"
   ]
  },
  {
   "cell_type": "code",
   "execution_count": 107,
   "metadata": {
    "colab": {
     "base_uri": "https://localhost:8080/"
    },
    "id": "_KosfEDa2e_A",
    "outputId": "1dc8f16e-7b8d-4f99-b344-419502a99f03"
   },
   "outputs": [
    {
     "name": "stdout",
     "output_type": "stream",
     "text": [
      "CPU times: user 3min 26s, sys: 4.75 s, total: 3min 30s\n",
      "Wall time: 2min 11s\n",
      "rmse: 1592.059\n",
      "{'logging_level': 'Silent', 'max_depth': 10, 'n_estimators': 100}\n"
     ]
    }
   ],
   "source": [
    "# Wall time: 8min 13s\n",
    "\n",
    "params = {'logging_level': ['Silent'], 'max_depth': [6, 8, 10], 'n_estimators': [70, 100]}\n",
    "mod = GridSearchCV(CatBoostRegressor(), params, cv=3, scoring=select_mse)\n",
    "%time mod.fit(features_train_3, target_train, cat_features=cat_feat)\n",
    "print('rmse:', ((((mod.best_score_)*(-1))**0.5).round(3)))\n",
    "print(mod.best_params_)"
   ]
  },
  {
   "cell_type": "markdown",
   "metadata": {
    "id": "h1C4rbj-2e_B"
   },
   "source": [
    "Качество модели сильно откатилось назад. Сохраняем первоначальный вариант."
   ]
  },
  {
   "cell_type": "code",
   "execution_count": 108,
   "metadata": {
    "colab": {
     "base_uri": "https://localhost:8080/"
    },
    "id": "42zdlMgD2e_B",
    "outputId": "1bd39faa-6930-45d3-86f1-ce6062ffcce5"
   },
   "outputs": [
    {
     "name": "stdout",
     "output_type": "stream",
     "text": [
      "CPU times: user 3min 57s, sys: 3.84 s, total: 4min 1s\n",
      "Wall time: 2min 5s\n"
     ]
    }
   ],
   "source": [
    "start = timer()\n",
    "model_cb = CatBoostRegressor(random_state=12345, logging_level='Silent')\n",
    "%time model_cb.fit(features_train_3, target_train, cat_features=cat_feat)\n",
    "end = timer()\n",
    "fit_time['CatBoost'] = str((end-start)//60) + 'min ' + str(round((end-start)%60, 2)) + 's'"
   ]
  },
  {
   "cell_type": "markdown",
   "metadata": {
    "id": "Noy_1i-k2e_B"
   },
   "source": [
    "### Вывод"
   ]
  },
  {
   "cell_type": "markdown",
   "metadata": {
    "id": "hirrgBVl2e_B"
   },
   "source": [
    "Из всех моделей лучшими по качеству оказались модель случайного леса и обе модели градиентного бустинга. Однако, CatBoost самый затратный по времени.\n",
    "Проверим модели на тестовой выборке."
   ]
  },
  {
   "cell_type": "markdown",
   "metadata": {
    "id": "TtWGfND82e_B"
   },
   "source": [
    "## Анализ моделей"
   ]
  },
  {
   "cell_type": "markdown",
   "metadata": {
    "id": "XzAuOkBi2e_B"
   },
   "source": [
    "Подготовим тестовые признаки для проверки эффективности моделей градиентного бустинга."
   ]
  },
  {
   "cell_type": "code",
   "execution_count": 109,
   "metadata": {
    "id": "dmICmppK2e_C"
   },
   "outputs": [],
   "source": [
    "features_test_2 = features_test.copy()\n",
    "for i in cat_feat:\n",
    "    features_test_2[i] = features_test_2[i].astype('category')\n",
    "    \n",
    "features_test_3 = features_test.copy()\n",
    "for i in cat_feat:\n",
    "    features_test_3[i] = features_test_3[i].astype('category').cat.codes    "
   ]
  },
  {
   "cell_type": "markdown",
   "metadata": {
    "id": "TiQESqw82e_C"
   },
   "source": [
    "При обучении моделей мы получили ряд значений среднеквадратичной ошибки. Чтобы понять, много это или мало, обучим константную модель, которая всегда будет предсказывать среднее значение цены, и посчитаем rmse по этим предсказаниям."
   ]
  },
  {
   "cell_type": "code",
   "execution_count": 110,
   "metadata": {
    "colab": {
     "base_uri": "https://localhost:8080/"
    },
    "id": "yEl2mcu-2e_C",
    "outputId": "4f630106-7fdd-43fa-aab1-79e6a349e6b0"
   },
   "outputs": [
    {
     "name": "stdout",
     "output_type": "stream",
     "text": [
      "rmse константной модели 4717.318\n"
     ]
    }
   ],
   "source": [
    "start = timer()\n",
    "constant_model = DummyRegressor(strategy=\"mean\")\n",
    "constant_model.fit(features_train, target_train)\n",
    "end = timer()\n",
    "fit_time['Dummy'] = str((end-start)//60) + 'min ' + str(round((end-start)%60, 2)) + 's'\n",
    "\n",
    "pred = constant_model.predict(features_test)\n",
    "rmse = ((mean_squared_error(target_test, pred))**0.5).round(3)\n",
    "print('rmse константной модели', rmse)"
   ]
  },
  {
   "cell_type": "markdown",
   "metadata": {
    "id": "hliD3eKe2e_C"
   },
   "source": [
    "Это значение явно выше тех, что мы получили ранее. Оформим все результаты в одну таблицу для удобства сравнения. Объявим функцию для подсчета основных метрик для моделей и времени предсказания."
   ]
  },
  {
   "cell_type": "code",
   "execution_count": 111,
   "metadata": {
    "id": "kgmIp0wa2e_C"
   },
   "outputs": [],
   "source": [
    "def compare_table(models, features, features2, features3, target, time):\n",
    "    df = pd.DataFrame(columns=['models', 'MSE', 'RMSE', 'R2', 'fit_time', 'predict_time'])\n",
    "    for name, model in models.items():\n",
    "        if name == 'LightGBM':\n",
    "            start = timer()\n",
    "            prediction = model.predict(features2)\n",
    "            end = timer()\n",
    "        elif name == 'CatBoost':\n",
    "            start = timer()\n",
    "            prediction = model.predict(features3)\n",
    "            end = timer()\n",
    "        else:\n",
    "            start = timer()\n",
    "            prediction = model.predict(features)\n",
    "            end = timer()\n",
    "        pt = str((end-start)//60) + 'min ' + str(round((end-start)%60, 2)) + 's'\n",
    "        mse = mean_squared_error(target, prediction).round(3)\n",
    "        rmse = (mse ** 0.5).round(3)\n",
    "        r2 = r2_score(target, prediction).round(3)\n",
    "        ft = time[name]\n",
    "        df = df.append({'models': name, 'MSE': mse, 'RMSE': rmse, 'R2': r2, 'fit_time': ft,\n",
    "                       'predict_time': pt}, ignore_index=True)\n",
    "    return df"
   ]
  },
  {
   "cell_type": "markdown",
   "metadata": {
    "id": "9YcsgKGK2e_C"
   },
   "source": [
    "Создадим списки моделей для предсказания стоимости автомобилей и применим функцию для расчета метрик на тренировочной и тестовой выборках."
   ]
  },
  {
   "cell_type": "code",
   "execution_count": 112,
   "metadata": {
    "id": "9lhEN4rW2e_D"
   },
   "outputs": [],
   "source": [
    "models_list = {'Linear Regression': model_lr, 'Decision Tree': model_dt, \n",
    "                 'Random Forest': model_rf, 'SGD Regressor': model_sgd, 'LightGBM': model_gb, 'CatBoost': model_cb, 'Dummy': constant_model}"
   ]
  },
  {
   "cell_type": "code",
   "execution_count": 113,
   "metadata": {
    "colab": {
     "base_uri": "https://localhost:8080/",
     "height": 557
    },
    "id": "6RIlxdrE2e_D",
    "outputId": "fbfb7d4c-1612-4dd5-b9ae-ed77ab91b1db"
   },
   "outputs": [
    {
     "data": {
      "application/vnd.google.colaboratory.intrinsic+json": {
       "type": "string"
      },
      "text/plain": [
       "'train'"
      ]
     },
     "metadata": {
      "tags": []
     },
     "output_type": "display_data"
    },
    {
     "data": {
      "text/html": [
       "<div>\n",
       "<style scoped>\n",
       "    .dataframe tbody tr th:only-of-type {\n",
       "        vertical-align: middle;\n",
       "    }\n",
       "\n",
       "    .dataframe tbody tr th {\n",
       "        vertical-align: top;\n",
       "    }\n",
       "\n",
       "    .dataframe thead th {\n",
       "        text-align: right;\n",
       "    }\n",
       "</style>\n",
       "<table border=\"1\" class=\"dataframe\">\n",
       "  <thead>\n",
       "    <tr style=\"text-align: right;\">\n",
       "      <th></th>\n",
       "      <th>models</th>\n",
       "      <th>MSE</th>\n",
       "      <th>RMSE</th>\n",
       "      <th>R2</th>\n",
       "      <th>fit_time</th>\n",
       "      <th>predict_time</th>\n",
       "    </tr>\n",
       "  </thead>\n",
       "  <tbody>\n",
       "    <tr>\n",
       "      <th>0</th>\n",
       "      <td>Linear Regression</td>\n",
       "      <td>8.279661e+06</td>\n",
       "      <td>2877.440</td>\n",
       "      <td>0.630</td>\n",
       "      <td>0.0min 0.07s</td>\n",
       "      <td>0.0min 0.01s</td>\n",
       "    </tr>\n",
       "    <tr>\n",
       "      <th>1</th>\n",
       "      <td>Decision Tree</td>\n",
       "      <td>3.875292e+06</td>\n",
       "      <td>1968.576</td>\n",
       "      <td>0.827</td>\n",
       "      <td>0.0min 0.46s</td>\n",
       "      <td>0.0min 0.02s</td>\n",
       "    </tr>\n",
       "    <tr>\n",
       "      <th>2</th>\n",
       "      <td>Random Forest</td>\n",
       "      <td>5.658672e+05</td>\n",
       "      <td>752.241</td>\n",
       "      <td>0.975</td>\n",
       "      <td>1.0min 3.88s</td>\n",
       "      <td>0.0min 8.87s</td>\n",
       "    </tr>\n",
       "    <tr>\n",
       "      <th>3</th>\n",
       "      <td>SGD Regressor</td>\n",
       "      <td>8.292894e+06</td>\n",
       "      <td>2879.739</td>\n",
       "      <td>0.629</td>\n",
       "      <td>0.0min 0.56s</td>\n",
       "      <td>0.0min 0.0s</td>\n",
       "    </tr>\n",
       "    <tr>\n",
       "      <th>4</th>\n",
       "      <td>LightGBM</td>\n",
       "      <td>2.335336e+06</td>\n",
       "      <td>1528.181</td>\n",
       "      <td>0.896</td>\n",
       "      <td>0.0min 1.55s</td>\n",
       "      <td>0.0min 1.1s</td>\n",
       "    </tr>\n",
       "    <tr>\n",
       "      <th>5</th>\n",
       "      <td>CatBoost</td>\n",
       "      <td>2.228007e+06</td>\n",
       "      <td>1492.651</td>\n",
       "      <td>0.900</td>\n",
       "      <td>2.0min 5.23s</td>\n",
       "      <td>0.0min 3.21s</td>\n",
       "    </tr>\n",
       "    <tr>\n",
       "      <th>6</th>\n",
       "      <td>Dummy</td>\n",
       "      <td>2.236232e+07</td>\n",
       "      <td>4728.882</td>\n",
       "      <td>0.000</td>\n",
       "      <td>0.0min 0.0s</td>\n",
       "      <td>0.0min 0.0s</td>\n",
       "    </tr>\n",
       "  </tbody>\n",
       "</table>\n",
       "</div>"
      ],
      "text/plain": [
       "              models           MSE      RMSE     R2      fit_time  predict_time\n",
       "0  Linear Regression  8.279661e+06  2877.440  0.630  0.0min 0.07s  0.0min 0.01s\n",
       "1      Decision Tree  3.875292e+06  1968.576  0.827  0.0min 0.46s  0.0min 0.02s\n",
       "2      Random Forest  5.658672e+05   752.241  0.975  1.0min 3.88s  0.0min 8.87s\n",
       "3      SGD Regressor  8.292894e+06  2879.739  0.629  0.0min 0.56s   0.0min 0.0s\n",
       "4           LightGBM  2.335336e+06  1528.181  0.896  0.0min 1.55s   0.0min 1.1s\n",
       "5           CatBoost  2.228007e+06  1492.651  0.900  2.0min 5.23s  0.0min 3.21s\n",
       "6              Dummy  2.236232e+07  4728.882  0.000   0.0min 0.0s   0.0min 0.0s"
      ]
     },
     "metadata": {
      "tags": []
     },
     "output_type": "display_data"
    },
    {
     "data": {
      "application/vnd.google.colaboratory.intrinsic+json": {
       "type": "string"
      },
      "text/plain": [
       "'test'"
      ]
     },
     "metadata": {
      "tags": []
     },
     "output_type": "display_data"
    },
    {
     "data": {
      "text/html": [
       "<div>\n",
       "<style scoped>\n",
       "    .dataframe tbody tr th:only-of-type {\n",
       "        vertical-align: middle;\n",
       "    }\n",
       "\n",
       "    .dataframe tbody tr th {\n",
       "        vertical-align: top;\n",
       "    }\n",
       "\n",
       "    .dataframe thead th {\n",
       "        text-align: right;\n",
       "    }\n",
       "</style>\n",
       "<table border=\"1\" class=\"dataframe\">\n",
       "  <thead>\n",
       "    <tr style=\"text-align: right;\">\n",
       "      <th></th>\n",
       "      <th>models</th>\n",
       "      <th>MSE</th>\n",
       "      <th>RMSE</th>\n",
       "      <th>R2</th>\n",
       "      <th>fit_time</th>\n",
       "      <th>predict_time</th>\n",
       "    </tr>\n",
       "  </thead>\n",
       "  <tbody>\n",
       "    <tr>\n",
       "      <th>0</th>\n",
       "      <td>Linear Regression</td>\n",
       "      <td>8.303187e+06</td>\n",
       "      <td>2881.525</td>\n",
       "      <td>0.627</td>\n",
       "      <td>0.0min 0.07s</td>\n",
       "      <td>0.0min 0.01s</td>\n",
       "    </tr>\n",
       "    <tr>\n",
       "      <th>1</th>\n",
       "      <td>Decision Tree</td>\n",
       "      <td>3.984444e+06</td>\n",
       "      <td>1996.107</td>\n",
       "      <td>0.821</td>\n",
       "      <td>0.0min 0.46s</td>\n",
       "      <td>0.0min 0.01s</td>\n",
       "    </tr>\n",
       "    <tr>\n",
       "      <th>2</th>\n",
       "      <td>Random Forest</td>\n",
       "      <td>2.466524e+06</td>\n",
       "      <td>1570.517</td>\n",
       "      <td>0.889</td>\n",
       "      <td>1.0min 3.88s</td>\n",
       "      <td>0.0min 3.06s</td>\n",
       "    </tr>\n",
       "    <tr>\n",
       "      <th>3</th>\n",
       "      <td>SGD Regressor</td>\n",
       "      <td>8.315229e+06</td>\n",
       "      <td>2883.614</td>\n",
       "      <td>0.626</td>\n",
       "      <td>0.0min 0.56s</td>\n",
       "      <td>0.0min 0.0s</td>\n",
       "    </tr>\n",
       "    <tr>\n",
       "      <th>4</th>\n",
       "      <td>LightGBM</td>\n",
       "      <td>2.446911e+06</td>\n",
       "      <td>1564.260</td>\n",
       "      <td>0.890</td>\n",
       "      <td>0.0min 1.55s</td>\n",
       "      <td>0.0min 0.41s</td>\n",
       "    </tr>\n",
       "    <tr>\n",
       "      <th>5</th>\n",
       "      <td>CatBoost</td>\n",
       "      <td>3.010565e+06</td>\n",
       "      <td>1735.098</td>\n",
       "      <td>0.865</td>\n",
       "      <td>2.0min 5.23s</td>\n",
       "      <td>0.0min 1.12s</td>\n",
       "    </tr>\n",
       "    <tr>\n",
       "      <th>6</th>\n",
       "      <td>Dummy</td>\n",
       "      <td>2.225309e+07</td>\n",
       "      <td>4717.318</td>\n",
       "      <td>-0.000</td>\n",
       "      <td>0.0min 0.0s</td>\n",
       "      <td>0.0min 0.0s</td>\n",
       "    </tr>\n",
       "  </tbody>\n",
       "</table>\n",
       "</div>"
      ],
      "text/plain": [
       "              models           MSE      RMSE     R2      fit_time  predict_time\n",
       "0  Linear Regression  8.303187e+06  2881.525  0.627  0.0min 0.07s  0.0min 0.01s\n",
       "1      Decision Tree  3.984444e+06  1996.107  0.821  0.0min 0.46s  0.0min 0.01s\n",
       "2      Random Forest  2.466524e+06  1570.517  0.889  1.0min 3.88s  0.0min 3.06s\n",
       "3      SGD Regressor  8.315229e+06  2883.614  0.626  0.0min 0.56s   0.0min 0.0s\n",
       "4           LightGBM  2.446911e+06  1564.260  0.890  0.0min 1.55s  0.0min 0.41s\n",
       "5           CatBoost  3.010565e+06  1735.098  0.865  2.0min 5.23s  0.0min 1.12s\n",
       "6              Dummy  2.225309e+07  4717.318 -0.000   0.0min 0.0s   0.0min 0.0s"
      ]
     },
     "metadata": {
      "tags": []
     },
     "output_type": "display_data"
    }
   ],
   "source": [
    "display('train', compare_table(models_list, features_train, features_train_2, features_train_3, target_train, fit_time))\n",
    "display('test', compare_table(models_list, features_test, features_test_2, features_test_3, target_test, fit_time))"
   ]
  },
  {
   "cell_type": "markdown",
   "metadata": {
    "id": "2j0z5qVe2e_D"
   },
   "source": [
    "Интересно, что сейчас Random Forest показывает гораздо меньшую rmse на обучающей выборке, чем при прогоне через GridSearchCV (методом кросс-валидации)."
   ]
  },
  {
   "cell_type": "markdown",
   "metadata": {
    "id": "MVSPSo9g2e_D"
   },
   "source": [
    "### Вывод"
   ]
  },
  {
   "cell_type": "markdown",
   "metadata": {
    "id": "MW4suqMH2e_D"
   },
   "source": [
    "По сравнению с константной все модели показали более высокий результат. \n",
    "Однако, лучшие прогнозы выдал LightGBM. Несмотря на то, что качество немного упало при проверке на тесте, тем не менее это все равно лучший результат по значению ошибки, хотя затраченное на обучение время больше, чем у других моделей (кроме CatBoost). На втором месте по прогнозированию случайный лес."
   ]
  },
  {
   "cell_type": "markdown",
   "metadata": {
    "id": "YlbWT_JF2e_D"
   },
   "source": [
    "## Общий вывод"
   ]
  },
  {
   "cell_type": "markdown",
   "metadata": {
    "id": "Mg8XWLca2e_E"
   },
   "source": [
    "При анализе данных о технических характеристиках, истории и стоимости автомобилей, обнаружены зависимости между ценой автомобиля и типом кузова, годом регистрации, мощностью, пробегом, типом топлива и наличием ремонта.\n",
    "\n",
    "На основании предоставленных данных был обучен ряд моделей для прогнозирования стоимости машин. По качеству лучше всего проявили себя ансамблевые решения, однако, они оказались и самыми затратными по времени. Лидером по соотношению меньшая ошибка / время обучения оказался LightGBM (rmse на обучающей выборке 1528.18, с кросс-валидацией 1595.52, на тестовой 1564.26, время обучения - 8.97c, предсказания - 1с).\n",
    "\n",
    "Значение rmse сопоставлено с rmse константной модели (4717.32), предсказывающей среднее. В целом, ошибки всех моделей, рассмотренных в работе, оказались существенно меньше ошибки дамми-модели, что говорит о более надежных предсказаниях.\n",
    "\n",
    "Для дальнейшего улучшения качества прогнозирования имеет смысл рассмотреть и другие важные факторы (например, привод, техническое состояние, наличие дефектов и другие характиристики), влияющие на стоимость автомобиля."
   ]
  }
 ],
 "metadata": {
  "ExecuteTimeLog": [
   {
    "duration": 1563,
    "start_time": "2021-06-29T20:30:22.934Z"
   },
   {
    "duration": 2595,
    "start_time": "2021-06-29T20:30:24.500Z"
   },
   {
    "duration": 1647,
    "start_time": "2021-06-29T20:30:55.747Z"
   },
   {
    "duration": 177,
    "start_time": "2021-06-29T20:31:39.219Z"
   },
   {
    "duration": 146,
    "start_time": "2021-06-29T20:32:10.428Z"
   },
   {
    "duration": 670,
    "start_time": "2021-06-29T20:33:05.524Z"
   },
   {
    "duration": 158,
    "start_time": "2021-06-29T20:34:42.145Z"
   },
   {
    "duration": 239,
    "start_time": "2021-06-29T20:37:42.226Z"
   },
   {
    "duration": 22,
    "start_time": "2021-06-29T20:50:13.669Z"
   },
   {
    "duration": 2357,
    "start_time": "2021-06-29T20:53:48.866Z"
   },
   {
    "duration": 173,
    "start_time": "2021-06-29T20:54:41.878Z"
   },
   {
    "duration": 30,
    "start_time": "2021-06-29T20:54:50.458Z"
   },
   {
    "duration": 12,
    "start_time": "2021-06-29T20:56:13.346Z"
   },
   {
    "duration": 35,
    "start_time": "2021-06-29T21:03:50.999Z"
   },
   {
    "duration": 176,
    "start_time": "2021-06-29T21:06:47.531Z"
   },
   {
    "duration": 17,
    "start_time": "2021-06-29T21:14:09.235Z"
   },
   {
    "duration": 78,
    "start_time": "2021-06-29T21:15:41.366Z"
   },
   {
    "duration": 822,
    "start_time": "2021-06-29T21:16:08.177Z"
   },
   {
    "duration": 24,
    "start_time": "2021-06-29T21:16:25.703Z"
   },
   {
    "duration": 1123,
    "start_time": "2021-06-29T21:20:48.840Z"
   },
   {
    "duration": 164,
    "start_time": "2021-06-29T21:20:49.966Z"
   },
   {
    "duration": 115,
    "start_time": "2021-06-29T21:20:53.638Z"
   },
   {
    "duration": 21,
    "start_time": "2021-06-29T21:20:58.798Z"
   },
   {
    "duration": 4552,
    "start_time": "2021-06-29T21:21:29.176Z"
   },
   {
    "duration": 193,
    "start_time": "2021-06-29T21:25:46.376Z"
   },
   {
    "duration": 16,
    "start_time": "2021-06-29T21:25:52.985Z"
   },
   {
    "duration": 19,
    "start_time": "2021-06-29T21:35:27.401Z"
   },
   {
    "duration": 1690,
    "start_time": "2021-06-30T10:22:03.931Z"
   },
   {
    "duration": 1145,
    "start_time": "2021-06-30T10:22:05.880Z"
   },
   {
    "duration": 160,
    "start_time": "2021-06-30T10:22:09.196Z"
   },
   {
    "duration": 122,
    "start_time": "2021-06-30T10:22:11.682Z"
   },
   {
    "duration": 273,
    "start_time": "2021-06-30T10:29:47.651Z"
   },
   {
    "duration": 788,
    "start_time": "2021-06-30T10:31:11.587Z"
   },
   {
    "duration": 811,
    "start_time": "2021-06-30T10:32:58.442Z"
   },
   {
    "duration": 354,
    "start_time": "2021-06-30T10:35:35.255Z"
   },
   {
    "duration": 439,
    "start_time": "2021-06-30T10:35:52.372Z"
   },
   {
    "duration": 777,
    "start_time": "2021-06-30T10:36:16.540Z"
   },
   {
    "duration": 1449,
    "start_time": "2021-06-30T10:43:48.992Z"
   },
   {
    "duration": 1164,
    "start_time": "2021-06-30T10:43:52.517Z"
   },
   {
    "duration": 160,
    "start_time": "2021-06-30T10:43:55.151Z"
   },
   {
    "duration": 125,
    "start_time": "2021-06-30T10:43:56.866Z"
   },
   {
    "duration": 806,
    "start_time": "2021-06-30T10:43:59.731Z"
   },
   {
    "duration": 156,
    "start_time": "2021-06-30T10:44:01.577Z"
   },
   {
    "duration": 228,
    "start_time": "2021-06-30T10:44:02.879Z"
   },
   {
    "duration": 778,
    "start_time": "2021-06-30T10:44:04.116Z"
   },
   {
    "duration": 1557,
    "start_time": "2021-06-30T10:53:12.670Z"
   },
   {
    "duration": 1847,
    "start_time": "2021-06-30T10:53:23.666Z"
   },
   {
    "duration": 373,
    "start_time": "2021-06-30T10:53:28.679Z"
   },
   {
    "duration": 187,
    "start_time": "2021-06-30T10:53:31.772Z"
   },
   {
    "duration": 796,
    "start_time": "2021-06-30T10:53:35.267Z"
   },
   {
    "duration": 155,
    "start_time": "2021-06-30T10:53:37.203Z"
   },
   {
    "duration": 238,
    "start_time": "2021-06-30T10:53:38.786Z"
   },
   {
    "duration": 780,
    "start_time": "2021-06-30T10:53:40.142Z"
   },
   {
    "duration": 5,
    "start_time": "2021-06-30T10:54:07.197Z"
   },
   {
    "duration": 11,
    "start_time": "2021-06-30T10:54:30.874Z"
   },
   {
    "duration": 6,
    "start_time": "2021-06-30T11:04:19.330Z"
   },
   {
    "duration": 1301,
    "start_time": "2021-06-30T11:04:29.879Z"
   },
   {
    "duration": 374,
    "start_time": "2021-06-30T11:05:06.699Z"
   },
   {
    "duration": 11,
    "start_time": "2021-06-30T11:05:10.361Z"
   },
   {
    "duration": 333,
    "start_time": "2021-06-30T11:05:44.189Z"
   },
   {
    "duration": 87,
    "start_time": "2021-06-30T11:05:58.582Z"
   },
   {
    "duration": 426,
    "start_time": "2021-06-30T11:10:17.452Z"
   },
   {
    "duration": 124,
    "start_time": "2021-06-30T11:10:33.003Z"
   },
   {
    "duration": 315,
    "start_time": "2021-06-30T11:15:01.766Z"
   },
   {
    "duration": 43,
    "start_time": "2021-06-30T11:15:32.007Z"
   },
   {
    "duration": 38,
    "start_time": "2021-06-30T11:15:55.117Z"
   },
   {
    "duration": 307,
    "start_time": "2021-06-30T11:21:52.581Z"
   },
   {
    "duration": 6,
    "start_time": "2021-06-30T11:22:51.957Z"
   },
   {
    "duration": 5183,
    "start_time": "2021-06-30T11:22:58.547Z"
   },
   {
    "duration": 6,
    "start_time": "2021-06-30T11:23:36.018Z"
   },
   {
    "duration": 22,
    "start_time": "2021-06-30T11:24:19.583Z"
   },
   {
    "duration": 146,
    "start_time": "2021-06-30T11:24:33.020Z"
   },
   {
    "duration": 125,
    "start_time": "2021-06-30T11:25:27.052Z"
   },
   {
    "duration": 684,
    "start_time": "2021-06-30T11:32:27.575Z"
   },
   {
    "duration": 924,
    "start_time": "2021-06-30T11:34:07.195Z"
   },
   {
    "duration": 6,
    "start_time": "2021-06-30T11:40:46.123Z"
   },
   {
    "duration": 77,
    "start_time": "2021-06-30T11:41:13.246Z"
   },
   {
    "duration": 283,
    "start_time": "2021-06-30T11:42:46.236Z"
   },
   {
    "duration": 6,
    "start_time": "2021-06-30T11:42:54.016Z"
   },
   {
    "duration": 1495,
    "start_time": "2021-06-30T11:43:02.281Z"
   },
   {
    "duration": 1469,
    "start_time": "2021-06-30T11:44:45.375Z"
   },
   {
    "duration": 1682,
    "start_time": "2021-06-30T11:45:43.605Z"
   },
   {
    "duration": 53,
    "start_time": "2021-06-30T11:46:01.815Z"
   },
   {
    "duration": 29,
    "start_time": "2021-06-30T11:46:04.378Z"
   },
   {
    "duration": 21,
    "start_time": "2021-06-30T11:46:06.745Z"
   },
   {
    "duration": 78,
    "start_time": "2021-06-30T11:46:17.737Z"
   },
   {
    "duration": 1227,
    "start_time": "2021-06-30T11:47:02.733Z"
   },
   {
    "duration": 223,
    "start_time": "2021-06-30T11:49:58.711Z"
   },
   {
    "duration": 7,
    "start_time": "2021-06-30T11:53:52.252Z"
   },
   {
    "duration": 1211,
    "start_time": "2021-06-30T11:54:29.752Z"
   },
   {
    "duration": 5,
    "start_time": "2021-06-30T11:55:39.523Z"
   },
   {
    "duration": 1372,
    "start_time": "2021-06-30T11:55:40.654Z"
   },
   {
    "duration": 11,
    "start_time": "2021-06-30T11:58:54.465Z"
   },
   {
    "duration": 1399,
    "start_time": "2021-06-30T11:59:01.929Z"
   },
   {
    "duration": 7,
    "start_time": "2021-06-30T11:59:20.197Z"
   },
   {
    "duration": 1213,
    "start_time": "2021-06-30T11:59:23.011Z"
   },
   {
    "duration": 7,
    "start_time": "2021-06-30T11:59:35.089Z"
   },
   {
    "duration": 715,
    "start_time": "2021-06-30T11:59:35.909Z"
   },
   {
    "duration": 7,
    "start_time": "2021-06-30T12:00:02.641Z"
   },
   {
    "duration": 770,
    "start_time": "2021-06-30T12:00:03.463Z"
   },
   {
    "duration": 143,
    "start_time": "2021-06-30T12:00:45.549Z"
   },
   {
    "duration": 6,
    "start_time": "2021-06-30T12:00:52.660Z"
   },
   {
    "duration": 789,
    "start_time": "2021-06-30T12:00:54.542Z"
   },
   {
    "duration": 6,
    "start_time": "2021-06-30T12:01:49.757Z"
   },
   {
    "duration": 895,
    "start_time": "2021-06-30T12:01:51.529Z"
   },
   {
    "duration": 7,
    "start_time": "2021-06-30T12:02:11.702Z"
   },
   {
    "duration": 1587,
    "start_time": "2021-06-30T12:02:13.069Z"
   },
   {
    "duration": 7,
    "start_time": "2021-06-30T12:02:22.772Z"
   },
   {
    "duration": 788,
    "start_time": "2021-06-30T12:02:24.142Z"
   },
   {
    "duration": 286,
    "start_time": "2021-06-30T12:03:52.217Z"
   },
   {
    "duration": 355,
    "start_time": "2021-06-30T12:04:33.948Z"
   },
   {
    "duration": 37,
    "start_time": "2021-06-30T12:04:38.238Z"
   },
   {
    "duration": 30244,
    "start_time": "2021-06-30T12:04:42.183Z"
   },
   {
    "duration": 222428,
    "start_time": "2021-06-30T12:05:53.980Z"
   },
   {
    "duration": 20,
    "start_time": "2021-06-30T12:17:13.939Z"
   },
   {
    "duration": 381,
    "start_time": "2021-06-30T12:21:31.649Z"
   },
   {
    "duration": 372,
    "start_time": "2021-06-30T12:21:49.205Z"
   },
   {
    "duration": 7,
    "start_time": "2021-06-30T12:21:54.140Z"
   },
   {
    "duration": 412,
    "start_time": "2021-06-30T12:22:03.995Z"
   },
   {
    "duration": 7,
    "start_time": "2021-06-30T12:23:40.888Z"
   },
   {
    "duration": 602289,
    "start_time": "2021-06-30T12:24:21.039Z"
   },
   {
    "duration": 1559,
    "start_time": "2021-06-30T14:05:58.203Z"
   },
   {
    "duration": 1153,
    "start_time": "2021-06-30T14:05:59.764Z"
   },
   {
    "duration": 380,
    "start_time": "2021-06-30T14:06:01.854Z"
   },
   {
    "duration": 183,
    "start_time": "2021-06-30T14:06:03.586Z"
   },
   {
    "duration": 359,
    "start_time": "2021-06-30T14:06:11.897Z"
   },
   {
    "duration": 473,
    "start_time": "2021-06-30T14:06:13.023Z"
   },
   {
    "duration": 781,
    "start_time": "2021-06-30T14:06:14.552Z"
   },
   {
    "duration": 12,
    "start_time": "2021-06-30T14:06:22.152Z"
   },
   {
    "duration": 7,
    "start_time": "2021-06-30T14:06:23.104Z"
   },
   {
    "duration": 271,
    "start_time": "2021-06-30T14:06:24.756Z"
   },
   {
    "duration": 10,
    "start_time": "2021-06-30T14:06:26.562Z"
   },
   {
    "duration": 1170,
    "start_time": "2021-06-30T14:06:37.561Z"
   },
   {
    "duration": 49,
    "start_time": "2021-06-30T14:06:39.577Z"
   },
   {
    "duration": 29,
    "start_time": "2021-06-30T14:06:40.432Z"
   },
   {
    "duration": 206,
    "start_time": "2021-06-30T14:06:42.252Z"
   },
   {
    "duration": 7,
    "start_time": "2021-06-30T14:06:50.038Z"
   },
   {
    "duration": 85,
    "start_time": "2021-06-30T14:08:13.460Z"
   },
   {
    "duration": 1097,
    "start_time": "2021-06-30T14:09:40.793Z"
   },
   {
    "duration": 6,
    "start_time": "2021-06-30T14:09:58.608Z"
   },
   {
    "duration": 1172,
    "start_time": "2021-06-30T14:10:09.587Z"
   },
   {
    "duration": 46838,
    "start_time": "2021-06-30T14:12:00.310Z"
   },
   {
    "duration": 39192,
    "start_time": "2021-06-30T14:13:54.295Z"
   },
   {
    "duration": 276898,
    "start_time": "2021-06-30T14:15:25.233Z"
   },
   {
    "duration": 6,
    "start_time": "2021-06-30T14:21:47.159Z"
   },
   {
    "duration": 4,
    "start_time": "2021-06-30T14:23:54.385Z"
   },
   {
    "duration": 3,
    "start_time": "2021-06-30T14:24:22.281Z"
   },
   {
    "duration": 113,
    "start_time": "2021-06-30T14:25:02.592Z"
   },
   {
    "duration": 3384,
    "start_time": "2021-06-30T14:25:11.421Z"
   },
   {
    "duration": 4715,
    "start_time": "2021-06-30T14:26:18.126Z"
   },
   {
    "duration": 421,
    "start_time": "2021-06-30T14:26:46.270Z"
   },
   {
    "duration": 4812,
    "start_time": "2021-06-30T14:26:59.721Z"
   },
   {
    "duration": 1435,
    "start_time": "2021-06-30T16:47:33.102Z"
   },
   {
    "duration": 1118,
    "start_time": "2021-06-30T16:47:34.539Z"
   },
   {
    "duration": 154,
    "start_time": "2021-06-30T16:47:36.786Z"
   },
   {
    "duration": 117,
    "start_time": "2021-06-30T16:47:38.370Z"
   },
   {
    "duration": 225,
    "start_time": "2021-06-30T16:47:48.740Z"
   },
   {
    "duration": 771,
    "start_time": "2021-06-30T16:47:51.059Z"
   },
   {
    "duration": 7,
    "start_time": "2021-06-30T16:48:01.583Z"
   },
   {
    "duration": 256,
    "start_time": "2021-06-30T16:48:03.116Z"
   },
   {
    "duration": 9,
    "start_time": "2021-06-30T16:48:04.296Z"
   },
   {
    "duration": 280,
    "start_time": "2021-06-30T16:48:09.369Z"
   },
   {
    "duration": 1143,
    "start_time": "2021-06-30T16:48:17.695Z"
   },
   {
    "duration": 51,
    "start_time": "2021-06-30T16:48:18.901Z"
   },
   {
    "duration": 30,
    "start_time": "2021-06-30T16:48:20.375Z"
   },
   {
    "duration": 200,
    "start_time": "2021-06-30T16:48:22.167Z"
   },
   {
    "duration": 95,
    "start_time": "2021-06-30T16:48:37.410Z"
   },
   {
    "duration": 1011,
    "start_time": "2021-06-30T16:48:43.199Z"
   },
   {
    "duration": 13,
    "start_time": "2021-06-30T16:54:11.269Z"
   },
   {
    "duration": 13,
    "start_time": "2021-06-30T16:54:38.078Z"
   },
   {
    "duration": 12,
    "start_time": "2021-06-30T16:54:53.818Z"
   },
   {
    "duration": 10,
    "start_time": "2021-06-30T16:55:01.557Z"
   },
   {
    "duration": 8,
    "start_time": "2021-06-30T16:55:23.202Z"
   },
   {
    "duration": 9,
    "start_time": "2021-06-30T16:55:31.587Z"
   },
   {
    "duration": 6,
    "start_time": "2021-06-30T17:00:46.445Z"
   },
   {
    "duration": 4,
    "start_time": "2021-06-30T17:00:49.434Z"
   },
   {
    "duration": 9,
    "start_time": "2021-06-30T17:01:04.873Z"
   },
   {
    "duration": 4,
    "start_time": "2021-06-30T17:01:06.767Z"
   },
   {
    "duration": 7,
    "start_time": "2021-06-30T17:01:17.492Z"
   },
   {
    "duration": 5,
    "start_time": "2021-06-30T17:01:19.618Z"
   },
   {
    "duration": 7,
    "start_time": "2021-06-30T17:01:26.022Z"
   },
   {
    "duration": 5,
    "start_time": "2021-06-30T17:01:27.745Z"
   },
   {
    "duration": 6,
    "start_time": "2021-06-30T17:01:33.102Z"
   },
   {
    "duration": 905,
    "start_time": "2021-06-30T17:01:35.002Z"
   },
   {
    "duration": 120,
    "start_time": "2021-06-30T17:14:33.792Z"
   },
   {
    "duration": 6,
    "start_time": "2021-06-30T17:14:49.285Z"
   },
   {
    "duration": 5,
    "start_time": "2021-06-30T17:15:00.929Z"
   },
   {
    "duration": 5,
    "start_time": "2021-06-30T17:15:08.511Z"
   },
   {
    "duration": 5,
    "start_time": "2021-06-30T17:15:18.131Z"
   },
   {
    "duration": 5,
    "start_time": "2021-06-30T17:17:57.142Z"
   },
   {
    "duration": 4,
    "start_time": "2021-06-30T17:18:06.878Z"
   },
   {
    "duration": 5,
    "start_time": "2021-06-30T17:18:15.674Z"
   },
   {
    "duration": 5,
    "start_time": "2021-06-30T17:18:20.768Z"
   },
   {
    "duration": 92,
    "start_time": "2021-06-30T17:21:35.020Z"
   },
   {
    "duration": 5,
    "start_time": "2021-06-30T17:25:22.222Z"
   },
   {
    "duration": 4,
    "start_time": "2021-06-30T17:25:28.530Z"
   },
   {
    "duration": 6,
    "start_time": "2021-06-30T17:25:37.356Z"
   },
   {
    "duration": 6,
    "start_time": "2021-06-30T17:25:40.264Z"
   },
   {
    "duration": 6,
    "start_time": "2021-06-30T17:25:41.007Z"
   },
   {
    "duration": 5,
    "start_time": "2021-06-30T17:47:29.481Z"
   },
   {
    "duration": 107,
    "start_time": "2021-06-30T17:47:36.612Z"
   },
   {
    "duration": 110,
    "start_time": "2021-06-30T17:48:21.049Z"
   },
   {
    "duration": 99,
    "start_time": "2021-06-30T17:48:30.236Z"
   },
   {
    "duration": 5,
    "start_time": "2021-06-30T17:49:00.010Z"
   },
   {
    "duration": 5,
    "start_time": "2021-06-30T17:49:14.423Z"
   },
   {
    "duration": 5,
    "start_time": "2021-06-30T17:49:33.127Z"
   },
   {
    "duration": 5,
    "start_time": "2021-06-30T17:49:41.431Z"
   },
   {
    "duration": 116,
    "start_time": "2021-06-30T17:49:51.887Z"
   },
   {
    "duration": 95,
    "start_time": "2021-06-30T17:50:17.964Z"
   },
   {
    "duration": 80,
    "start_time": "2021-06-30T17:50:35.565Z"
   },
   {
    "duration": 5,
    "start_time": "2021-06-30T18:03:11.252Z"
   },
   {
    "duration": 6,
    "start_time": "2021-06-30T18:05:02.248Z"
   },
   {
    "duration": 6,
    "start_time": "2021-06-30T18:05:19.779Z"
   },
   {
    "duration": 297,
    "start_time": "2021-07-01T10:48:49.870Z"
   },
   {
    "duration": 1515,
    "start_time": "2021-07-01T10:48:58.311Z"
   },
   {
    "duration": 1491,
    "start_time": "2021-07-01T10:48:59.828Z"
   },
   {
    "duration": 150,
    "start_time": "2021-07-01T10:49:03.332Z"
   },
   {
    "duration": 113,
    "start_time": "2021-07-01T10:49:05.243Z"
   },
   {
    "duration": 759,
    "start_time": "2021-07-01T10:49:08.220Z"
   },
   {
    "duration": 148,
    "start_time": "2021-07-01T10:49:09.507Z"
   },
   {
    "duration": 214,
    "start_time": "2021-07-01T10:49:11.416Z"
   },
   {
    "duration": 6,
    "start_time": "2021-07-01T10:49:21.158Z"
   },
   {
    "duration": 247,
    "start_time": "2021-07-01T10:49:22.470Z"
   },
   {
    "duration": 9,
    "start_time": "2021-07-01T10:49:23.951Z"
   },
   {
    "duration": 1198,
    "start_time": "2021-07-01T10:49:32.353Z"
   },
   {
    "duration": 46,
    "start_time": "2021-07-01T10:49:35.137Z"
   },
   {
    "duration": 29,
    "start_time": "2021-07-01T10:49:36.337Z"
   },
   {
    "duration": 196,
    "start_time": "2021-07-01T10:49:38.020Z"
   },
   {
    "duration": 7,
    "start_time": "2021-07-01T10:49:47.263Z"
   },
   {
    "duration": 783,
    "start_time": "2021-07-01T10:49:49.305Z"
   },
   {
    "duration": 77,
    "start_time": "2021-07-01T10:49:56.710Z"
   },
   {
    "duration": 6,
    "start_time": "2021-07-01T10:50:01.388Z"
   },
   {
    "duration": 4,
    "start_time": "2021-07-01T10:50:58.067Z"
   },
   {
    "duration": 73,
    "start_time": "2021-07-01T10:51:25.223Z"
   },
   {
    "duration": 27055,
    "start_time": "2021-07-01T10:52:56.268Z"
   },
   {
    "duration": 91,
    "start_time": "2021-07-01T10:54:15.608Z"
   },
   {
    "duration": 27309,
    "start_time": "2021-07-01T10:54:28.653Z"
   },
   {
    "duration": 92,
    "start_time": "2021-07-01T10:55:39.616Z"
   },
   {
    "duration": 27799,
    "start_time": "2021-07-01T10:55:50.695Z"
   },
   {
    "duration": 27520,
    "start_time": "2021-07-01T11:01:49.099Z"
   },
   {
    "duration": 7,
    "start_time": "2021-07-01T11:02:33.346Z"
   },
   {
    "duration": 28447,
    "start_time": "2021-07-01T11:03:56.626Z"
   },
   {
    "duration": 27059,
    "start_time": "2021-07-01T11:06:16.533Z"
   },
   {
    "duration": 27644,
    "start_time": "2021-07-01T11:07:43.222Z"
   },
   {
    "duration": 27713,
    "start_time": "2021-07-01T11:12:48.673Z"
   },
   {
    "duration": 27236,
    "start_time": "2021-07-01T11:13:58.270Z"
   },
   {
    "duration": 117,
    "start_time": "2021-07-01T12:38:03.968Z"
   },
   {
    "duration": 1075,
    "start_time": "2021-07-01T12:46:29.686Z"
   },
   {
    "duration": 2174,
    "start_time": "2021-07-01T17:17:33.590Z"
   },
   {
    "duration": 3099,
    "start_time": "2021-07-01T17:17:35.767Z"
   },
   {
    "duration": 208,
    "start_time": "2021-07-01T17:17:38.869Z"
   },
   {
    "duration": 128,
    "start_time": "2021-07-01T17:17:41.777Z"
   },
   {
    "duration": 815,
    "start_time": "2021-07-01T17:17:43.452Z"
   },
   {
    "duration": 190,
    "start_time": "2021-07-01T17:17:44.270Z"
   },
   {
    "duration": 244,
    "start_time": "2021-07-01T17:17:44.915Z"
   },
   {
    "duration": 838,
    "start_time": "2021-07-01T17:17:45.637Z"
   },
   {
    "duration": 32,
    "start_time": "2021-07-01T17:17:46.478Z"
   },
   {
    "duration": 12,
    "start_time": "2021-07-01T17:17:46.896Z"
   },
   {
    "duration": 6,
    "start_time": "2021-07-01T17:17:47.542Z"
   },
   {
    "duration": 383,
    "start_time": "2021-07-01T17:17:48.116Z"
   },
   {
    "duration": 9,
    "start_time": "2021-07-01T17:17:48.725Z"
   },
   {
    "duration": 299,
    "start_time": "2021-07-01T17:17:49.244Z"
   },
   {
    "duration": 1167,
    "start_time": "2021-07-01T17:17:50.949Z"
   },
   {
    "duration": 1059,
    "start_time": "2021-07-01T17:17:52.119Z"
   },
   {
    "duration": 1224,
    "start_time": "2021-07-01T17:17:53.181Z"
   },
   {
    "duration": 47,
    "start_time": "2021-07-01T17:17:54.408Z"
   },
   {
    "duration": 28,
    "start_time": "2021-07-01T17:17:54.982Z"
   },
   {
    "duration": 206,
    "start_time": "2021-07-01T17:17:55.708Z"
   },
   {
    "duration": 7,
    "start_time": "2021-07-01T17:18:00.456Z"
   },
   {
    "duration": 4,
    "start_time": "2021-07-01T17:18:01.968Z"
   },
   {
    "duration": 205,
    "start_time": "2021-07-01T17:18:15.618Z"
   },
   {
    "duration": 1231,
    "start_time": "2021-07-01T17:18:21.680Z"
   },
   {
    "duration": 38800,
    "start_time": "2021-07-01T17:18:27.733Z"
   },
   {
    "duration": 709055,
    "start_time": "2021-07-01T17:19:31.559Z"
   },
   {
    "duration": 365601,
    "start_time": "2021-07-01T17:34:15.213Z"
   },
   {
    "duration": 131777,
    "start_time": "2021-07-01T17:45:47.342Z"
   },
   {
    "duration": 11029,
    "start_time": "2021-07-01T17:53:06.884Z"
   },
   {
    "duration": 1660,
    "start_time": "2021-07-01T19:08:36.276Z"
   },
   {
    "duration": 1331,
    "start_time": "2021-07-01T19:08:37.939Z"
   },
   {
    "duration": 196,
    "start_time": "2021-07-01T19:08:39.274Z"
   },
   {
    "duration": 133,
    "start_time": "2021-07-01T19:08:39.473Z"
   },
   {
    "duration": 930,
    "start_time": "2021-07-01T19:08:39.609Z"
   },
   {
    "duration": 273,
    "start_time": "2021-07-01T19:08:40.541Z"
   },
   {
    "duration": 254,
    "start_time": "2021-07-01T19:08:40.817Z"
   },
   {
    "duration": 962,
    "start_time": "2021-07-01T19:08:41.073Z"
   },
   {
    "duration": 18,
    "start_time": "2021-07-01T19:08:42.041Z"
   },
   {
    "duration": 11,
    "start_time": "2021-07-01T19:08:42.063Z"
   },
   {
    "duration": 33,
    "start_time": "2021-07-01T19:08:42.076Z"
   },
   {
    "duration": 311,
    "start_time": "2021-07-01T19:08:42.113Z"
   },
   {
    "duration": 10,
    "start_time": "2021-07-01T19:08:42.426Z"
   },
   {
    "duration": 343,
    "start_time": "2021-07-01T19:08:42.439Z"
   },
   {
    "duration": 880,
    "start_time": "2021-07-01T19:08:42.785Z"
   },
   {
    "duration": 1053,
    "start_time": "2021-07-01T19:08:43.668Z"
   },
   {
    "duration": 1226,
    "start_time": "2021-07-01T19:08:44.723Z"
   },
   {
    "duration": 62,
    "start_time": "2021-07-01T19:08:45.951Z"
   },
   {
    "duration": 33,
    "start_time": "2021-07-01T19:08:46.016Z"
   },
   {
    "duration": 240,
    "start_time": "2021-07-01T19:08:46.052Z"
   },
   {
    "duration": 14,
    "start_time": "2021-07-01T19:08:46.295Z"
   },
   {
    "duration": 44,
    "start_time": "2021-07-01T19:08:46.312Z"
   },
   {
    "duration": 967,
    "start_time": "2021-07-01T19:08:46.358Z"
   },
   {
    "duration": 181,
    "start_time": "2021-07-01T19:08:47.333Z"
   },
   {
    "duration": 4,
    "start_time": "2021-07-01T19:08:47.517Z"
   },
   {
    "duration": 1368,
    "start_time": "2021-07-01T19:08:47.524Z"
   },
   {
    "duration": 2,
    "start_time": "2021-07-01T19:08:48.898Z"
   },
   {
    "duration": 42578,
    "start_time": "2021-07-01T19:08:48.911Z"
   },
   {
    "duration": 3,
    "start_time": "2021-07-01T19:09:31.492Z"
   },
   {
    "duration": 13706,
    "start_time": "2021-07-01T19:09:31.509Z"
   },
   {
    "duration": 3,
    "start_time": "2021-07-01T19:09:45.218Z"
   },
   {
    "duration": 521098,
    "start_time": "2021-07-01T19:09:45.224Z"
   },
   {
    "duration": 5,
    "start_time": "2021-07-01T19:18:26.325Z"
   },
   {
    "duration": 12,
    "start_time": "2021-07-01T19:18:26.333Z"
   },
   {
    "duration": 5,
    "start_time": "2021-07-01T19:18:26.348Z"
   },
   {
    "duration": 9,
    "start_time": "2021-07-01T19:18:26.356Z"
   },
   {
    "duration": 5060,
    "start_time": "2021-07-01T19:18:26.368Z"
   },
   {
    "duration": 149513,
    "start_time": "2021-07-01T19:23:30.338Z"
   },
   {
    "duration": 149110,
    "start_time": "2021-07-01T20:27:21.059Z"
   },
   {
    "duration": 8145,
    "start_time": "2021-07-01T20:38:10.069Z"
   },
   {
    "duration": 4,
    "start_time": "2021-07-01T20:40:42.662Z"
   },
   {
    "duration": 5,
    "start_time": "2021-07-01T20:44:24.206Z"
   },
   {
    "duration": 508,
    "start_time": "2021-07-01T20:52:59.286Z"
   },
   {
    "duration": 4,
    "start_time": "2021-07-01T20:53:14.499Z"
   },
   {
    "duration": 385,
    "start_time": "2021-07-01T20:53:24.249Z"
   },
   {
    "duration": 387,
    "start_time": "2021-07-01T20:53:43.217Z"
   },
   {
    "duration": 4,
    "start_time": "2021-07-01T20:54:39.173Z"
   },
   {
    "duration": 4,
    "start_time": "2021-07-01T20:55:10.054Z"
   },
   {
    "duration": 6,
    "start_time": "2021-07-01T20:55:23.400Z"
   },
   {
    "duration": 4,
    "start_time": "2021-07-01T20:55:26.279Z"
   },
   {
    "duration": 5138,
    "start_time": "2021-07-01T20:55:52.680Z"
   },
   {
    "duration": 1622,
    "start_time": "2021-07-01T22:11:09.600Z"
   },
   {
    "duration": 1248,
    "start_time": "2021-07-01T22:11:11.224Z"
   },
   {
    "duration": 175,
    "start_time": "2021-07-01T22:11:12.476Z"
   },
   {
    "duration": 134,
    "start_time": "2021-07-01T22:11:12.653Z"
   },
   {
    "duration": 933,
    "start_time": "2021-07-01T22:11:12.789Z"
   },
   {
    "duration": 167,
    "start_time": "2021-07-01T22:11:13.724Z"
   },
   {
    "duration": 246,
    "start_time": "2021-07-01T22:11:13.893Z"
   },
   {
    "duration": 809,
    "start_time": "2021-07-01T22:11:14.142Z"
   },
   {
    "duration": 16,
    "start_time": "2021-07-01T22:11:14.954Z"
   },
   {
    "duration": 11,
    "start_time": "2021-07-01T22:11:14.972Z"
   },
   {
    "duration": 7,
    "start_time": "2021-07-01T22:11:15.008Z"
   },
   {
    "duration": 287,
    "start_time": "2021-07-01T22:11:15.017Z"
   },
   {
    "duration": 9,
    "start_time": "2021-07-01T22:11:15.308Z"
   },
   {
    "duration": 318,
    "start_time": "2021-07-01T22:11:15.319Z"
   },
   {
    "duration": 851,
    "start_time": "2021-07-01T22:11:15.640Z"
   },
   {
    "duration": 978,
    "start_time": "2021-07-01T22:11:16.495Z"
   },
   {
    "duration": 1193,
    "start_time": "2021-07-01T22:11:17.476Z"
   },
   {
    "duration": 66,
    "start_time": "2021-07-01T22:11:18.672Z"
   },
   {
    "duration": 32,
    "start_time": "2021-07-01T22:11:18.741Z"
   },
   {
    "duration": 245,
    "start_time": "2021-07-01T22:11:18.776Z"
   },
   {
    "duration": 7,
    "start_time": "2021-07-01T22:11:19.023Z"
   },
   {
    "duration": 29,
    "start_time": "2021-07-01T22:11:19.033Z"
   },
   {
    "duration": 940,
    "start_time": "2021-07-01T22:11:19.069Z"
   },
   {
    "duration": 147,
    "start_time": "2021-07-01T22:11:20.013Z"
   },
   {
    "duration": 3,
    "start_time": "2021-07-01T22:11:20.211Z"
   },
   {
    "duration": 1154,
    "start_time": "2021-07-01T22:11:20.217Z"
   },
   {
    "duration": 3,
    "start_time": "2021-07-01T22:11:21.373Z"
   },
   {
    "duration": 38366,
    "start_time": "2021-07-01T22:11:21.378Z"
   },
   {
    "duration": 3,
    "start_time": "2021-07-01T22:11:59.746Z"
   },
   {
    "duration": 8659,
    "start_time": "2021-07-01T22:11:59.752Z"
   },
   {
    "duration": 849,
    "start_time": "2021-07-01T22:12:08.413Z"
   },
   {
    "duration": -1029,
    "start_time": "2021-07-01T22:12:10.293Z"
   },
   {
    "duration": -1030,
    "start_time": "2021-07-01T22:12:10.296Z"
   },
   {
    "duration": -1031,
    "start_time": "2021-07-01T22:12:10.299Z"
   },
   {
    "duration": -1033,
    "start_time": "2021-07-01T22:12:10.302Z"
   },
   {
    "duration": -1032,
    "start_time": "2021-07-01T22:12:10.303Z"
   },
   {
    "duration": -1033,
    "start_time": "2021-07-01T22:12:10.305Z"
   },
   {
    "duration": -1033,
    "start_time": "2021-07-01T22:12:10.307Z"
   },
   {
    "duration": -1036,
    "start_time": "2021-07-01T22:12:10.312Z"
   },
   {
    "duration": 1563,
    "start_time": "2021-07-01T23:06:55.338Z"
   },
   {
    "duration": 1206,
    "start_time": "2021-07-02T09:33:38.553Z"
   },
   {
    "duration": 798,
    "start_time": "2021-07-02T09:33:39.761Z"
   },
   {
    "duration": 124,
    "start_time": "2021-07-02T09:33:40.561Z"
   },
   {
    "duration": 105,
    "start_time": "2021-07-02T09:33:40.687Z"
   },
   {
    "duration": 522,
    "start_time": "2021-07-02T09:33:40.794Z"
   },
   {
    "duration": 119,
    "start_time": "2021-07-02T09:33:41.317Z"
   },
   {
    "duration": 170,
    "start_time": "2021-07-02T09:33:41.438Z"
   },
   {
    "duration": 502,
    "start_time": "2021-07-02T09:33:41.611Z"
   },
   {
    "duration": 12,
    "start_time": "2021-07-02T09:33:42.116Z"
   },
   {
    "duration": 9,
    "start_time": "2021-07-02T09:33:42.129Z"
   },
   {
    "duration": 6,
    "start_time": "2021-07-02T09:33:42.140Z"
   },
   {
    "duration": 213,
    "start_time": "2021-07-02T09:33:42.147Z"
   },
   {
    "duration": 5,
    "start_time": "2021-07-02T09:33:42.362Z"
   },
   {
    "duration": 191,
    "start_time": "2021-07-02T09:33:42.369Z"
   },
   {
    "duration": 383,
    "start_time": "2021-07-02T09:33:42.562Z"
   },
   {
    "duration": 642,
    "start_time": "2021-07-02T09:33:42.947Z"
   },
   {
    "duration": 847,
    "start_time": "2021-07-02T09:33:43.590Z"
   },
   {
    "duration": 34,
    "start_time": "2021-07-02T09:33:44.438Z"
   },
   {
    "duration": 29,
    "start_time": "2021-07-02T09:33:44.474Z"
   },
   {
    "duration": 181,
    "start_time": "2021-07-02T09:33:44.505Z"
   },
   {
    "duration": 6,
    "start_time": "2021-07-02T09:33:44.688Z"
   },
   {
    "duration": 7,
    "start_time": "2021-07-02T09:33:44.696Z"
   },
   {
    "duration": 1002,
    "start_time": "2021-07-02T09:33:44.707Z"
   },
   {
    "duration": 195,
    "start_time": "2021-07-02T09:33:45.712Z"
   },
   {
    "duration": 3,
    "start_time": "2021-07-02T09:33:45.909Z"
   },
   {
    "duration": 998,
    "start_time": "2021-07-02T09:33:45.914Z"
   },
   {
    "duration": 2,
    "start_time": "2021-07-02T09:33:46.914Z"
   },
   {
    "duration": 29640,
    "start_time": "2021-07-02T09:33:46.918Z"
   },
   {
    "duration": 2,
    "start_time": "2021-07-02T09:34:16.560Z"
   },
   {
    "duration": 353126,
    "start_time": "2021-07-02T09:34:16.563Z"
   },
   {
    "duration": 222734,
    "start_time": "2021-07-02T09:40:09.691Z"
   },
   {
    "duration": 106696,
    "start_time": "2021-07-02T09:43:52.427Z"
   },
   {
    "duration": 5,
    "start_time": "2021-07-02T09:45:39.125Z"
   },
   {
    "duration": 4,
    "start_time": "2021-07-02T09:45:39.132Z"
   },
   {
    "duration": 6,
    "start_time": "2021-07-02T09:45:39.137Z"
   },
   {
    "duration": 9,
    "start_time": "2021-07-02T09:45:39.144Z"
   },
   {
    "duration": 5,
    "start_time": "2021-07-02T09:45:39.155Z"
   },
   {
    "duration": 4,
    "start_time": "2021-07-02T09:45:39.162Z"
   },
   {
    "duration": 3743,
    "start_time": "2021-07-02T09:45:39.168Z"
   },
   {
    "duration": 7,
    "start_time": "2021-07-02T09:57:09.860Z"
   },
   {
    "duration": 13408,
    "start_time": "2021-07-02T10:01:54.188Z"
   },
   {
    "duration": 2805,
    "start_time": "2021-07-02T10:02:34.516Z"
   },
   {
    "duration": 13218,
    "start_time": "2021-07-02T10:02:53.849Z"
   },
   {
    "duration": 13431,
    "start_time": "2021-07-02T10:03:19.957Z"
   },
   {
    "duration": 12684,
    "start_time": "2021-07-02T10:03:44.777Z"
   },
   {
    "duration": 12855,
    "start_time": "2021-07-02T10:08:49.477Z"
   },
   {
    "duration": 18878,
    "start_time": "2021-07-02T10:09:55.456Z"
   },
   {
    "duration": 52726,
    "start_time": "2021-07-02T10:14:59.270Z"
   },
   {
    "duration": 157899,
    "start_time": "2021-07-02T10:18:57.803Z"
   },
   {
    "duration": 5194,
    "start_time": "2021-07-02T10:27:47.366Z"
   },
   {
    "duration": 23252,
    "start_time": "2021-07-02T10:28:01.696Z"
   },
   {
    "duration": 33182,
    "start_time": "2021-07-02T10:31:39.621Z"
   },
   {
    "duration": 246597,
    "start_time": "2021-07-02T10:33:16.310Z"
   },
   {
    "duration": 11187,
    "start_time": "2021-07-02T10:41:36.859Z"
   },
   {
    "duration": 2654,
    "start_time": "2021-07-02T10:42:12.708Z"
   },
   {
    "duration": 138024,
    "start_time": "2021-07-02T10:45:47.938Z"
   },
   {
    "duration": 735,
    "start_time": "2021-07-02T10:48:13.296Z"
   },
   {
    "duration": 918201,
    "start_time": "2021-07-02T10:51:10.713Z"
   },
   {
    "duration": 252048,
    "start_time": "2021-07-02T11:08:25.751Z"
   },
   {
    "duration": 356591,
    "start_time": "2021-07-02T11:16:17.340Z"
   },
   {
    "duration": 104243,
    "start_time": "2021-07-02T11:22:59.342Z"
   },
   {
    "duration": 1131,
    "start_time": "2021-07-02T11:28:10.227Z"
   },
   {
    "duration": 784,
    "start_time": "2021-07-02T11:28:11.360Z"
   },
   {
    "duration": 131,
    "start_time": "2021-07-02T11:28:12.146Z"
   },
   {
    "duration": 110,
    "start_time": "2021-07-02T11:28:12.279Z"
   },
   {
    "duration": 507,
    "start_time": "2021-07-02T11:28:12.391Z"
   },
   {
    "duration": 124,
    "start_time": "2021-07-02T11:28:12.900Z"
   },
   {
    "duration": 179,
    "start_time": "2021-07-02T11:28:13.026Z"
   },
   {
    "duration": 506,
    "start_time": "2021-07-02T11:28:13.208Z"
   },
   {
    "duration": 11,
    "start_time": "2021-07-02T11:28:13.716Z"
   },
   {
    "duration": 8,
    "start_time": "2021-07-02T11:28:13.728Z"
   },
   {
    "duration": 4,
    "start_time": "2021-07-02T11:28:13.738Z"
   },
   {
    "duration": 201,
    "start_time": "2021-07-02T11:28:13.744Z"
   },
   {
    "duration": 5,
    "start_time": "2021-07-02T11:28:13.947Z"
   },
   {
    "duration": 190,
    "start_time": "2021-07-02T11:28:13.954Z"
   },
   {
    "duration": 447,
    "start_time": "2021-07-02T11:28:14.146Z"
   },
   {
    "duration": 640,
    "start_time": "2021-07-02T11:28:14.595Z"
   },
   {
    "duration": 866,
    "start_time": "2021-07-02T11:28:15.236Z"
   },
   {
    "duration": 35,
    "start_time": "2021-07-02T11:28:16.104Z"
   },
   {
    "duration": 25,
    "start_time": "2021-07-02T11:28:16.140Z"
   },
   {
    "duration": 183,
    "start_time": "2021-07-02T11:28:16.167Z"
   },
   {
    "duration": 5,
    "start_time": "2021-07-02T11:28:16.351Z"
   },
   {
    "duration": 9,
    "start_time": "2021-07-02T11:28:16.357Z"
   },
   {
    "duration": 861,
    "start_time": "2021-07-02T11:28:16.369Z"
   },
   {
    "duration": 177,
    "start_time": "2021-07-02T11:28:17.233Z"
   },
   {
    "duration": 2,
    "start_time": "2021-07-02T11:28:17.412Z"
   },
   {
    "duration": 69,
    "start_time": "2021-07-02T11:28:17.416Z"
   },
   {
    "duration": 907,
    "start_time": "2021-07-02T11:28:17.488Z"
   },
   {
    "duration": 2,
    "start_time": "2021-07-02T11:28:18.396Z"
   },
   {
    "duration": 6,
    "start_time": "2021-07-02T11:28:18.400Z"
   },
   {
    "duration": 11295,
    "start_time": "2021-07-02T11:28:18.408Z"
   },
   {
    "duration": 2567,
    "start_time": "2021-07-02T11:28:29.705Z"
   },
   {
    "duration": 73,
    "start_time": "2021-07-02T11:28:32.274Z"
   },
   {
    "duration": -21,
    "start_time": "2021-07-02T11:28:32.370Z"
   },
   {
    "duration": -22,
    "start_time": "2021-07-02T11:28:32.372Z"
   },
   {
    "duration": -23,
    "start_time": "2021-07-02T11:28:32.374Z"
   },
   {
    "duration": -43,
    "start_time": "2021-07-02T11:28:32.395Z"
   },
   {
    "duration": -45,
    "start_time": "2021-07-02T11:28:32.398Z"
   },
   {
    "duration": -49,
    "start_time": "2021-07-02T11:28:32.403Z"
   },
   {
    "duration": -51,
    "start_time": "2021-07-02T11:28:32.406Z"
   },
   {
    "duration": -52,
    "start_time": "2021-07-02T11:28:32.408Z"
   },
   {
    "duration": -52,
    "start_time": "2021-07-02T11:28:32.409Z"
   },
   {
    "duration": -53,
    "start_time": "2021-07-02T11:28:32.411Z"
   },
   {
    "duration": -59,
    "start_time": "2021-07-02T11:28:32.418Z"
   },
   {
    "duration": -63,
    "start_time": "2021-07-02T11:28:32.423Z"
   },
   {
    "duration": -63,
    "start_time": "2021-07-02T11:28:32.424Z"
   },
   {
    "duration": -64,
    "start_time": "2021-07-02T11:28:32.426Z"
   },
   {
    "duration": 6,
    "start_time": "2021-07-02T11:30:42.869Z"
   },
   {
    "duration": 775,
    "start_time": "2021-07-02T11:30:42.876Z"
   },
   {
    "duration": 135,
    "start_time": "2021-07-02T11:30:43.653Z"
   },
   {
    "duration": 97,
    "start_time": "2021-07-02T11:30:43.789Z"
   },
   {
    "duration": 522,
    "start_time": "2021-07-02T11:30:43.888Z"
   },
   {
    "duration": 139,
    "start_time": "2021-07-02T11:30:44.411Z"
   },
   {
    "duration": 178,
    "start_time": "2021-07-02T11:30:44.552Z"
   },
   {
    "duration": 510,
    "start_time": "2021-07-02T11:30:44.733Z"
   },
   {
    "duration": 11,
    "start_time": "2021-07-02T11:30:45.245Z"
   },
   {
    "duration": 27,
    "start_time": "2021-07-02T11:30:45.258Z"
   },
   {
    "duration": 6,
    "start_time": "2021-07-02T11:30:45.287Z"
   },
   {
    "duration": 211,
    "start_time": "2021-07-02T11:30:45.295Z"
   },
   {
    "duration": 8,
    "start_time": "2021-07-02T11:30:45.508Z"
   },
   {
    "duration": 185,
    "start_time": "2021-07-02T11:30:45.518Z"
   },
   {
    "duration": 38,
    "start_time": "2021-07-02T11:30:45.705Z"
   },
   {
    "duration": 655,
    "start_time": "2021-07-02T11:30:45.745Z"
   },
   {
    "duration": 868,
    "start_time": "2021-07-02T11:30:46.402Z"
   },
   {
    "duration": 34,
    "start_time": "2021-07-02T11:30:47.272Z"
   },
   {
    "duration": 18,
    "start_time": "2021-07-02T11:30:47.308Z"
   },
   {
    "duration": 179,
    "start_time": "2021-07-02T11:30:47.328Z"
   },
   {
    "duration": 4,
    "start_time": "2021-07-02T11:30:47.509Z"
   },
   {
    "duration": 5,
    "start_time": "2021-07-02T11:30:47.515Z"
   },
   {
    "duration": 963,
    "start_time": "2021-07-02T11:30:47.524Z"
   },
   {
    "duration": 195,
    "start_time": "2021-07-02T11:30:48.490Z"
   },
   {
    "duration": 3,
    "start_time": "2021-07-02T11:30:48.687Z"
   },
   {
    "duration": 7,
    "start_time": "2021-07-02T11:30:48.692Z"
   },
   {
    "duration": 921,
    "start_time": "2021-07-02T11:30:48.701Z"
   },
   {
    "duration": 2,
    "start_time": "2021-07-02T11:30:49.625Z"
   },
   {
    "duration": 17,
    "start_time": "2021-07-02T11:30:49.629Z"
   },
   {
    "duration": 11389,
    "start_time": "2021-07-02T11:30:49.648Z"
   },
   {
    "duration": 2748,
    "start_time": "2021-07-02T11:31:01.039Z"
   },
   {
    "duration": 2,
    "start_time": "2021-07-02T11:31:03.788Z"
   },
   {
    "duration": 875,
    "start_time": "2021-07-02T11:31:03.792Z"
   },
   {
    "duration": 2,
    "start_time": "2021-07-02T11:31:04.669Z"
   },
   {
    "duration": 6,
    "start_time": "2021-07-02T11:31:04.672Z"
   },
   {
    "duration": 232817,
    "start_time": "2021-07-02T11:31:04.685Z"
   },
   {
    "duration": 3,
    "start_time": "2021-07-02T11:34:57.584Z"
   },
   {
    "duration": 8,
    "start_time": "2021-07-02T11:34:57.589Z"
   },
   {
    "duration": 102727,
    "start_time": "2021-07-02T11:34:57.599Z"
   },
   {
    "duration": 4,
    "start_time": "2021-07-02T11:36:40.328Z"
   },
   {
    "duration": 21,
    "start_time": "2021-07-02T11:36:40.333Z"
   },
   {
    "duration": 16,
    "start_time": "2021-07-02T11:36:40.355Z"
   },
   {
    "duration": 9,
    "start_time": "2021-07-02T11:36:40.373Z"
   },
   {
    "duration": 5,
    "start_time": "2021-07-02T11:36:40.383Z"
   },
   {
    "duration": 7,
    "start_time": "2021-07-02T11:36:40.389Z"
   },
   {
    "duration": 4214,
    "start_time": "2021-07-02T11:36:40.397Z"
   },
   {
    "duration": 125,
    "start_time": "2021-07-02T12:39:01.902Z"
   },
   {
    "duration": 124,
    "start_time": "2021-07-02T12:42:29.302Z"
   },
   {
    "duration": 1638,
    "start_time": "2021-07-02T14:29:53.663Z"
   },
   {
    "duration": 1213,
    "start_time": "2021-07-02T14:29:55.927Z"
   },
   {
    "duration": 171,
    "start_time": "2021-07-02T14:29:58.369Z"
   },
   {
    "duration": 235,
    "start_time": "2021-07-02T14:30:15.781Z"
   },
   {
    "duration": 6,
    "start_time": "2021-07-02T14:30:26.707Z"
   },
   {
    "duration": 315,
    "start_time": "2021-07-02T14:30:29.126Z"
   },
   {
    "duration": 7,
    "start_time": "2021-07-02T14:31:31.688Z"
   },
   {
    "duration": 1659,
    "start_time": "2021-07-02T19:29:35.613Z"
   },
   {
    "duration": 1225,
    "start_time": "2021-07-02T19:29:37.275Z"
   },
   {
    "duration": 180,
    "start_time": "2021-07-02T19:29:38.504Z"
   },
   {
    "duration": 128,
    "start_time": "2021-07-02T19:29:39.947Z"
   },
   {
    "duration": 1257,
    "start_time": "2021-07-02T19:29:42.412Z"
   },
   {
    "duration": 193,
    "start_time": "2021-07-02T19:29:43.672Z"
   },
   {
    "duration": 293,
    "start_time": "2021-07-02T19:29:44.174Z"
   },
   {
    "duration": 853,
    "start_time": "2021-07-02T19:29:45.122Z"
   },
   {
    "duration": 32,
    "start_time": "2021-07-02T19:29:45.983Z"
   },
   {
    "duration": 17,
    "start_time": "2021-07-02T19:29:46.692Z"
   },
   {
    "duration": 8,
    "start_time": "2021-07-02T19:29:47.857Z"
   },
   {
    "duration": 329,
    "start_time": "2021-07-02T19:29:48.497Z"
   },
   {
    "duration": 11,
    "start_time": "2021-07-02T19:29:49.710Z"
   },
   {
    "duration": 308,
    "start_time": "2021-07-02T19:29:50.705Z"
   },
   {
    "duration": 7,
    "start_time": "2021-07-02T19:30:06.789Z"
   },
   {
    "duration": 1054,
    "start_time": "2021-07-02T19:36:05.082Z"
   },
   {
    "duration": 1853,
    "start_time": "2021-07-02T19:36:46.217Z"
   },
   {
    "duration": 2188,
    "start_time": "2021-07-02T20:30:52.329Z"
   },
   {
    "duration": 1306,
    "start_time": "2021-07-02T20:31:32.019Z"
   },
   {
    "duration": 2262,
    "start_time": "2021-07-02T20:31:41.099Z"
   },
   {
    "duration": 7,
    "start_time": "2021-07-02T20:33:25.872Z"
   },
   {
    "duration": 3004,
    "start_time": "2021-07-02T20:33:26.709Z"
   },
   {
    "duration": 8,
    "start_time": "2021-07-02T20:34:50.498Z"
   },
   {
    "duration": 2106,
    "start_time": "2021-07-02T20:34:51.580Z"
   },
   {
    "duration": 129,
    "start_time": "2021-07-02T20:35:34.237Z"
   },
   {
    "duration": 96,
    "start_time": "2021-07-02T20:35:59.579Z"
   },
   {
    "duration": 1393,
    "start_time": "2021-07-02T20:36:15.360Z"
   },
   {
    "duration": 726,
    "start_time": "2021-07-02T20:36:45.735Z"
   },
   {
    "duration": 683,
    "start_time": "2021-07-02T20:37:15.957Z"
   },
   {
    "duration": 887,
    "start_time": "2021-07-02T20:37:33.620Z"
   },
   {
    "duration": 7,
    "start_time": "2021-07-02T20:37:41.245Z"
   },
   {
    "duration": 1019,
    "start_time": "2021-07-02T20:37:42.500Z"
   },
   {
    "duration": 13224,
    "start_time": "2021-07-02T20:37:52.147Z"
   },
   {
    "duration": 1996,
    "start_time": "2021-07-02T20:39:12.133Z"
   },
   {
    "duration": 241,
    "start_time": "2021-07-02T20:40:49.465Z"
   },
   {
    "duration": 219,
    "start_time": "2021-07-02T20:41:12.933Z"
   },
   {
    "duration": 291,
    "start_time": "2021-07-02T20:41:50.775Z"
   },
   {
    "duration": 7889,
    "start_time": "2021-07-02T20:51:02.823Z"
   },
   {
    "duration": 4210,
    "start_time": "2021-07-02T20:52:04.964Z"
   },
   {
    "duration": 76,
    "start_time": "2021-07-02T20:54:22.430Z"
   },
   {
    "duration": 27443,
    "start_time": "2021-07-02T21:01:46.720Z"
   },
   {
    "duration": 35821,
    "start_time": "2021-07-02T21:02:46.118Z"
   },
   {
    "duration": 330,
    "start_time": "2021-07-02T21:13:14.739Z"
   },
   {
    "duration": 1588,
    "start_time": "2021-07-02T21:13:22.336Z"
   },
   {
    "duration": 1179,
    "start_time": "2021-07-02T21:13:23.927Z"
   },
   {
    "duration": 179,
    "start_time": "2021-07-02T21:13:26.197Z"
   },
   {
    "duration": 121,
    "start_time": "2021-07-02T21:13:28.158Z"
   },
   {
    "duration": 822,
    "start_time": "2021-07-02T21:13:32.454Z"
   },
   {
    "duration": 151,
    "start_time": "2021-07-02T21:13:34.318Z"
   },
   {
    "duration": 1343,
    "start_time": "2021-07-02T21:14:41.997Z"
   },
   {
    "duration": 1264,
    "start_time": "2021-07-02T21:15:07.703Z"
   },
   {
    "duration": 691,
    "start_time": "2021-07-02T21:15:25.533Z"
   },
   {
    "duration": 471,
    "start_time": "2021-07-02T21:15:36.980Z"
   },
   {
    "duration": 443,
    "start_time": "2021-07-02T21:17:29.951Z"
   },
   {
    "duration": 34,
    "start_time": "2021-07-02T21:18:18.224Z"
   },
   {
    "duration": 30,
    "start_time": "2021-07-02T21:18:45.400Z"
   },
   {
    "duration": 20,
    "start_time": "2021-07-02T21:19:05.754Z"
   },
   {
    "duration": 581,
    "start_time": "2021-07-02T21:20:33.675Z"
   },
   {
    "duration": 824,
    "start_time": "2021-07-02T21:22:05.502Z"
   },
   {
    "duration": 403,
    "start_time": "2021-07-02T21:22:21.082Z"
   },
   {
    "duration": 97,
    "start_time": "2021-07-02T21:23:04.729Z"
   },
   {
    "duration": 1074,
    "start_time": "2021-07-02T21:23:20.894Z"
   },
   {
    "duration": 2533,
    "start_time": "2021-07-02T21:23:35.794Z"
   },
   {
    "duration": 325,
    "start_time": "2021-07-02T21:23:47.890Z"
   },
   {
    "duration": 376,
    "start_time": "2021-07-02T21:24:01.386Z"
   },
   {
    "duration": 9,
    "start_time": "2021-07-02T21:24:12.595Z"
   },
   {
    "duration": 1179,
    "start_time": "2021-07-02T21:24:13.263Z"
   },
   {
    "duration": 223,
    "start_time": "2021-07-02T21:24:14.445Z"
   },
   {
    "duration": 121,
    "start_time": "2021-07-02T21:24:16.675Z"
   },
   {
    "duration": 826,
    "start_time": "2021-07-02T21:24:19.531Z"
   },
   {
    "duration": 161,
    "start_time": "2021-07-02T21:24:20.619Z"
   },
   {
    "duration": 240,
    "start_time": "2021-07-02T21:24:21.692Z"
   },
   {
    "duration": 794,
    "start_time": "2021-07-02T21:24:22.396Z"
   },
   {
    "duration": 20,
    "start_time": "2021-07-02T21:24:23.585Z"
   },
   {
    "duration": 12,
    "start_time": "2021-07-02T21:24:24.616Z"
   },
   {
    "duration": 7,
    "start_time": "2021-07-02T21:24:26.125Z"
   },
   {
    "duration": 313,
    "start_time": "2021-07-02T21:24:26.900Z"
   },
   {
    "duration": 9,
    "start_time": "2021-07-02T21:24:28.324Z"
   },
   {
    "duration": 284,
    "start_time": "2021-07-02T21:24:28.985Z"
   },
   {
    "duration": 649,
    "start_time": "2021-07-02T21:24:30.883Z"
   },
   {
    "duration": 60,
    "start_time": "2021-07-02T21:24:35.596Z"
   },
   {
    "duration": 51,
    "start_time": "2021-07-02T21:24:38.959Z"
   },
   {
    "duration": 913,
    "start_time": "2021-07-02T21:24:42.751Z"
   },
   {
    "duration": 243,
    "start_time": "2021-07-02T21:24:43.667Z"
   },
   {
    "duration": 1183,
    "start_time": "2021-07-02T21:24:56.534Z"
   },
   {
    "duration": 49,
    "start_time": "2021-07-02T21:24:59.890Z"
   },
   {
    "duration": 27,
    "start_time": "2021-07-02T21:25:00.931Z"
   },
   {
    "duration": 228,
    "start_time": "2021-07-02T21:25:03.761Z"
   },
   {
    "duration": 7,
    "start_time": "2021-07-02T21:25:11.941Z"
   },
   {
    "duration": 3,
    "start_time": "2021-07-02T21:25:13.192Z"
   },
   {
    "duration": 896,
    "start_time": "2021-07-02T21:25:15.152Z"
   },
   {
    "duration": 84,
    "start_time": "2021-07-02T21:25:22.436Z"
   },
   {
    "duration": 1641,
    "start_time": "2021-07-02T21:26:50.419Z"
   },
   {
    "duration": 1452,
    "start_time": "2021-07-02T21:26:52.065Z"
   },
   {
    "duration": 214,
    "start_time": "2021-07-02T21:26:53.521Z"
   },
   {
    "duration": 140,
    "start_time": "2021-07-02T21:26:53.738Z"
   },
   {
    "duration": 973,
    "start_time": "2021-07-02T21:26:53.881Z"
   },
   {
    "duration": 191,
    "start_time": "2021-07-02T21:26:54.857Z"
   },
   {
    "duration": 283,
    "start_time": "2021-07-02T21:26:55.052Z"
   },
   {
    "duration": 902,
    "start_time": "2021-07-02T21:26:55.341Z"
   },
   {
    "duration": 18,
    "start_time": "2021-07-02T21:26:56.247Z"
   },
   {
    "duration": 38,
    "start_time": "2021-07-02T21:26:56.268Z"
   },
   {
    "duration": 9,
    "start_time": "2021-07-02T21:26:56.309Z"
   },
   {
    "duration": 368,
    "start_time": "2021-07-02T21:26:56.321Z"
   },
   {
    "duration": 17,
    "start_time": "2021-07-02T21:26:56.692Z"
   },
   {
    "duration": 368,
    "start_time": "2021-07-02T21:26:56.714Z"
   },
   {
    "duration": 757,
    "start_time": "2021-07-02T21:26:57.085Z"
   },
   {
    "duration": 68,
    "start_time": "2021-07-02T21:26:57.844Z"
   },
   {
    "duration": 810,
    "start_time": "2021-07-02T21:26:57.915Z"
   },
   {
    "duration": 1019,
    "start_time": "2021-07-02T21:26:58.729Z"
   },
   {
    "duration": 265,
    "start_time": "2021-07-02T21:26:59.752Z"
   },
   {
    "duration": 1247,
    "start_time": "2021-07-02T21:27:00.019Z"
   },
   {
    "duration": 69,
    "start_time": "2021-07-02T21:27:01.270Z"
   },
   {
    "duration": 37,
    "start_time": "2021-07-02T21:27:01.342Z"
   },
   {
    "duration": 289,
    "start_time": "2021-07-02T21:27:01.382Z"
   },
   {
    "duration": 10,
    "start_time": "2021-07-02T21:27:01.675Z"
   },
   {
    "duration": 24,
    "start_time": "2021-07-02T21:27:01.688Z"
   },
   {
    "duration": 1086,
    "start_time": "2021-07-02T21:27:01.720Z"
   },
   {
    "duration": 144,
    "start_time": "2021-07-02T21:27:02.810Z"
   },
   {
    "duration": 7215,
    "start_time": "2021-07-02T21:27:03.004Z"
   },
   {
    "duration": 31536,
    "start_time": "2021-07-02T21:27:10.222Z"
   },
   {
    "duration": 1266,
    "start_time": "2021-07-02T21:27:41.760Z"
   },
   {
    "duration": 45839,
    "start_time": "2021-07-02T21:27:43.029Z"
   },
   {
    "duration": 336988,
    "start_time": "2021-07-02T21:28:28.871Z"
   },
   {
    "duration": 15481,
    "start_time": "2021-07-02T21:34:05.862Z"
   },
   {
    "duration": 2735,
    "start_time": "2021-07-02T21:34:21.345Z"
   },
   {
    "duration": 181032,
    "start_time": "2021-07-02T21:34:24.082Z"
   },
   {
    "duration": 1129,
    "start_time": "2021-07-02T21:37:25.117Z"
   },
   {
    "duration": 243575,
    "start_time": "2021-07-02T21:37:26.248Z"
   },
   {
    "duration": 887579,
    "start_time": "2021-07-02T21:41:29.826Z"
   },
   {
    "duration": 44297,
    "start_time": "2021-07-02T21:56:17.407Z"
   },
   {
    "duration": 496192,
    "start_time": "2021-07-02T21:57:01.707Z"
   },
   {
    "duration": 310826,
    "start_time": "2021-07-02T22:05:17.909Z"
   },
   {
    "duration": 155062,
    "start_time": "2021-07-02T22:10:28.738Z"
   },
   {
    "duration": 6,
    "start_time": "2021-07-02T22:13:03.813Z"
   },
   {
    "duration": 18,
    "start_time": "2021-07-02T22:13:03.822Z"
   },
   {
    "duration": 17,
    "start_time": "2021-07-02T22:13:03.842Z"
   },
   {
    "duration": 22,
    "start_time": "2021-07-02T22:13:03.862Z"
   },
   {
    "duration": 11,
    "start_time": "2021-07-02T22:13:03.887Z"
   },
   {
    "duration": 16,
    "start_time": "2021-07-02T22:13:03.900Z"
   },
   {
    "duration": 5613,
    "start_time": "2021-07-02T22:13:03.919Z"
   },
   {
    "duration": 13,
    "start_time": "2021-07-02T22:20:10.464Z"
   },
   {
    "duration": 10,
    "start_time": "2021-07-02T22:20:16.872Z"
   },
   {
    "duration": 428,
    "start_time": "2021-07-02T22:24:13.038Z"
   },
   {
    "duration": 312,
    "start_time": "2021-07-02T22:24:31.733Z"
   },
   {
    "duration": 335,
    "start_time": "2021-07-02T22:24:41.798Z"
   },
   {
    "duration": 333,
    "start_time": "2021-07-02T22:24:49.681Z"
   },
   {
    "duration": 425,
    "start_time": "2021-07-02T22:25:09.206Z"
   },
   {
    "duration": 1581,
    "start_time": "2021-07-03T20:33:10.543Z"
   },
   {
    "duration": 1139,
    "start_time": "2021-07-03T20:33:12.520Z"
   },
   {
    "duration": 164,
    "start_time": "2021-07-03T20:33:14.984Z"
   },
   {
    "duration": 119,
    "start_time": "2021-07-03T20:33:16.183Z"
   },
   {
    "duration": 783,
    "start_time": "2021-07-03T20:33:18.211Z"
   },
   {
    "duration": 147,
    "start_time": "2021-07-03T20:33:19.679Z"
   },
   {
    "duration": 223,
    "start_time": "2021-07-03T20:33:20.499Z"
   },
   {
    "duration": 909,
    "start_time": "2021-07-03T20:33:21.457Z"
   },
   {
    "duration": 18,
    "start_time": "2021-07-03T20:33:23.519Z"
   },
   {
    "duration": 420,
    "start_time": "2021-07-03T20:33:24.307Z"
   },
   {
    "duration": 24,
    "start_time": "2021-07-03T20:34:13.638Z"
   },
   {
    "duration": 192,
    "start_time": "2021-07-03T21:08:24.298Z"
   },
   {
    "duration": 872,
    "start_time": "2021-07-03T21:08:28.115Z"
   },
   {
    "duration": 12,
    "start_time": "2021-07-03T21:08:30.715Z"
   },
   {
    "duration": 7,
    "start_time": "2021-07-03T21:08:32.172Z"
   },
   {
    "duration": 10,
    "start_time": "2021-07-03T21:08:32.877Z"
   },
   {
    "duration": 290,
    "start_time": "2021-07-03T21:08:34.689Z"
   },
   {
    "duration": 36,
    "start_time": "2021-07-03T21:08:35.804Z"
   },
   {
    "duration": 1022,
    "start_time": "2021-07-03T21:08:36.488Z"
   },
   {
    "duration": -438,
    "start_time": "2021-07-03T21:08:37.952Z"
   },
   {
    "duration": 12492,
    "start_time": "2021-07-03T21:10:10.713Z"
   },
   {
    "duration": 789,
    "start_time": "2021-07-03T21:11:20.595Z"
   },
   {
    "duration": 804,
    "start_time": "2021-07-03T21:11:46.352Z"
   },
   {
    "duration": 837,
    "start_time": "2021-07-03T21:12:10.893Z"
   },
   {
    "duration": 9,
    "start_time": "2021-07-03T21:19:33.746Z"
   },
   {
    "duration": 10,
    "start_time": "2021-07-03T21:20:00.995Z"
   },
   {
    "duration": 4,
    "start_time": "2021-07-03T21:22:06.107Z"
   },
   {
    "duration": 21,
    "start_time": "2021-07-03T21:22:18.332Z"
   },
   {
    "duration": 6,
    "start_time": "2021-07-03T21:22:32.685Z"
   },
   {
    "duration": 1047,
    "start_time": "2021-07-03T21:23:14.779Z"
   },
   {
    "duration": 161,
    "start_time": "2021-07-03T21:23:15.829Z"
   },
   {
    "duration": 114,
    "start_time": "2021-07-03T21:23:16.587Z"
   },
   {
    "duration": 810,
    "start_time": "2021-07-03T21:23:17.369Z"
   },
   {
    "duration": 157,
    "start_time": "2021-07-03T21:23:18.182Z"
   },
   {
    "duration": 214,
    "start_time": "2021-07-03T21:23:18.667Z"
   },
   {
    "duration": 759,
    "start_time": "2021-07-03T21:23:19.506Z"
   },
   {
    "duration": 12,
    "start_time": "2021-07-03T21:23:21.124Z"
   },
   {
    "duration": 6,
    "start_time": "2021-07-03T21:23:22.507Z"
   },
   {
    "duration": 10,
    "start_time": "2021-07-03T21:23:23.108Z"
   },
   {
    "duration": 293,
    "start_time": "2021-07-03T21:23:24.511Z"
   },
   {
    "duration": 35,
    "start_time": "2021-07-03T21:23:26.106Z"
   },
   {
    "duration": 818,
    "start_time": "2021-07-03T21:23:28.668Z"
   },
   {
    "duration": 10,
    "start_time": "2021-07-03T21:23:34.657Z"
   },
   {
    "duration": 21,
    "start_time": "2021-07-03T21:23:36.777Z"
   },
   {
    "duration": 1073,
    "start_time": "2021-07-03T21:24:17.777Z"
   },
   {
    "duration": 153,
    "start_time": "2021-07-03T21:24:19.085Z"
   },
   {
    "duration": 117,
    "start_time": "2021-07-03T21:24:20.118Z"
   },
   {
    "duration": 767,
    "start_time": "2021-07-03T21:24:21.465Z"
   },
   {
    "duration": 147,
    "start_time": "2021-07-03T21:24:22.600Z"
   },
   {
    "duration": 221,
    "start_time": "2021-07-03T21:24:24.112Z"
   },
   {
    "duration": 788,
    "start_time": "2021-07-03T21:24:25.688Z"
   },
   {
    "duration": 11,
    "start_time": "2021-07-03T21:24:27.909Z"
   },
   {
    "duration": 7,
    "start_time": "2021-07-03T21:24:29.271Z"
   },
   {
    "duration": 10,
    "start_time": "2021-07-03T21:24:30.276Z"
   },
   {
    "duration": 271,
    "start_time": "2021-07-03T21:24:31.554Z"
   },
   {
    "duration": 33,
    "start_time": "2021-07-03T21:24:32.493Z"
   },
   {
    "duration": 821,
    "start_time": "2021-07-03T21:24:33.507Z"
   },
   {
    "duration": 10,
    "start_time": "2021-07-03T21:24:35.762Z"
   },
   {
    "duration": 43,
    "start_time": "2021-07-03T21:24:37.540Z"
   },
   {
    "duration": 772,
    "start_time": "2021-07-03T21:24:43.854Z"
   },
   {
    "duration": 256,
    "start_time": "2021-07-03T21:24:59.229Z"
   },
   {
    "duration": 145,
    "start_time": "2021-07-03T21:33:03.703Z"
   },
   {
    "duration": 143,
    "start_time": "2021-07-03T21:33:18.351Z"
   },
   {
    "duration": 140,
    "start_time": "2021-07-03T21:33:41.683Z"
   },
   {
    "duration": 274,
    "start_time": "2021-07-03T21:38:37.833Z"
   },
   {
    "duration": 336,
    "start_time": "2021-07-03T21:40:20.927Z"
   },
   {
    "duration": 353,
    "start_time": "2021-07-03T21:40:24.220Z"
   },
   {
    "duration": 796,
    "start_time": "2021-07-03T21:40:33.521Z"
   },
   {
    "duration": 878,
    "start_time": "2021-07-03T21:40:38.339Z"
   },
   {
    "duration": 67,
    "start_time": "2021-07-03T21:49:07.800Z"
   },
   {
    "duration": 69,
    "start_time": "2021-07-03T21:51:13.087Z"
   },
   {
    "duration": 1195,
    "start_time": "2021-07-03T22:07:17.945Z"
   },
   {
    "duration": 23,
    "start_time": "2021-07-03T22:07:39.870Z"
   },
   {
    "duration": 1084,
    "start_time": "2021-07-03T22:08:23.692Z"
   },
   {
    "duration": 24,
    "start_time": "2021-07-03T22:08:24.779Z"
   },
   {
    "duration": 1071,
    "start_time": "2021-07-03T22:10:23.520Z"
   },
   {
    "duration": 23,
    "start_time": "2021-07-03T22:10:25.423Z"
   },
   {
    "duration": 45,
    "start_time": "2021-07-03T22:10:32.764Z"
   },
   {
    "duration": 23,
    "start_time": "2021-07-03T22:10:33.624Z"
   },
   {
    "duration": 198,
    "start_time": "2021-07-03T22:10:35.313Z"
   },
   {
    "duration": 1065,
    "start_time": "2021-07-03T22:10:52.484Z"
   },
   {
    "duration": 162,
    "start_time": "2021-07-03T22:10:53.556Z"
   },
   {
    "duration": 115,
    "start_time": "2021-07-03T22:10:54.163Z"
   },
   {
    "duration": 799,
    "start_time": "2021-07-03T22:10:55.062Z"
   },
   {
    "duration": 160,
    "start_time": "2021-07-03T22:10:55.864Z"
   },
   {
    "duration": 217,
    "start_time": "2021-07-03T22:10:56.395Z"
   },
   {
    "duration": 779,
    "start_time": "2021-07-03T22:10:57.162Z"
   },
   {
    "duration": 21,
    "start_time": "2021-07-03T22:10:57.944Z"
   },
   {
    "duration": 7,
    "start_time": "2021-07-03T22:10:58.859Z"
   },
   {
    "duration": 11,
    "start_time": "2021-07-03T22:10:59.311Z"
   },
   {
    "duration": 287,
    "start_time": "2021-07-03T22:11:00.645Z"
   },
   {
    "duration": 848,
    "start_time": "2021-07-03T22:11:01.111Z"
   },
   {
    "duration": 10,
    "start_time": "2021-07-03T22:11:01.962Z"
   },
   {
    "duration": 43,
    "start_time": "2021-07-03T22:11:03.486Z"
   },
   {
    "duration": 142,
    "start_time": "2021-07-03T22:11:06.039Z"
   },
   {
    "duration": 448,
    "start_time": "2021-07-03T22:11:08.037Z"
   },
   {
    "duration": 45,
    "start_time": "2021-07-03T22:11:10.633Z"
   },
   {
    "duration": 236,
    "start_time": "2021-07-03T22:11:16.820Z"
   },
   {
    "duration": 271,
    "start_time": "2021-07-03T22:11:19.062Z"
   },
   {
    "duration": 22,
    "start_time": "2021-07-03T22:11:32.962Z"
   },
   {
    "duration": 46,
    "start_time": "2021-07-03T22:11:41.640Z"
   },
   {
    "duration": 22,
    "start_time": "2021-07-03T22:11:46.159Z"
   },
   {
    "duration": 193,
    "start_time": "2021-07-03T22:11:50.198Z"
   },
   {
    "duration": 1260,
    "start_time": "2021-07-03T22:20:25.643Z"
   },
   {
    "duration": 26,
    "start_time": "2021-07-03T22:20:27.401Z"
   },
   {
    "duration": 717,
    "start_time": "2021-07-03T22:21:42.725Z"
   },
   {
    "duration": 694,
    "start_time": "2021-07-03T22:29:01.538Z"
   },
   {
    "duration": 6230,
    "start_time": "2021-07-03T22:29:39.651Z"
   },
   {
    "duration": 820,
    "start_time": "2021-07-03T22:30:30.227Z"
   },
   {
    "duration": 1106,
    "start_time": "2021-07-04T11:32:53.649Z"
   },
   {
    "duration": 750,
    "start_time": "2021-07-04T11:32:56.627Z"
   },
   {
    "duration": 115,
    "start_time": "2021-07-04T11:32:59.858Z"
   },
   {
    "duration": 94,
    "start_time": "2021-07-04T11:33:02.095Z"
   },
   {
    "duration": 490,
    "start_time": "2021-07-04T11:33:05.776Z"
   },
   {
    "duration": 111,
    "start_time": "2021-07-04T11:33:08.932Z"
   },
   {
    "duration": 161,
    "start_time": "2021-07-04T11:33:11.160Z"
   },
   {
    "duration": 485,
    "start_time": "2021-07-04T11:33:13.419Z"
   },
   {
    "duration": 8,
    "start_time": "2021-07-04T11:33:16.476Z"
   },
   {
    "duration": 6,
    "start_time": "2021-07-04T11:33:17.548Z"
   },
   {
    "duration": 6,
    "start_time": "2021-07-04T11:33:18.505Z"
   },
   {
    "duration": 192,
    "start_time": "2021-07-04T11:33:20.529Z"
   },
   {
    "duration": 599,
    "start_time": "2021-07-04T11:33:21.821Z"
   },
   {
    "duration": 8,
    "start_time": "2021-07-04T11:33:23.465Z"
   },
   {
    "duration": 28,
    "start_time": "2021-07-04T11:33:27.137Z"
   },
   {
    "duration": 108,
    "start_time": "2021-07-04T11:33:29.678Z"
   },
   {
    "duration": 293,
    "start_time": "2021-07-04T11:33:33.043Z"
   },
   {
    "duration": 26,
    "start_time": "2021-07-04T11:33:37.454Z"
   },
   {
    "duration": 139,
    "start_time": "2021-07-04T11:33:39.970Z"
   },
   {
    "duration": 156,
    "start_time": "2021-07-04T11:33:41.916Z"
   },
   {
    "duration": 59,
    "start_time": "2021-07-04T11:34:56.277Z"
   },
   {
    "duration": 585,
    "start_time": "2021-07-04T11:39:04.128Z"
   },
   {
    "duration": 16,
    "start_time": "2021-07-04T11:39:08.447Z"
   },
   {
    "duration": 501,
    "start_time": "2021-07-04T11:40:44.640Z"
   },
   {
    "duration": 17,
    "start_time": "2021-07-04T11:40:48.269Z"
   },
   {
    "duration": 268,
    "start_time": "2021-07-04T11:40:53.799Z"
   },
   {
    "duration": 41,
    "start_time": "2021-07-04T11:41:00.378Z"
   },
   {
    "duration": 14,
    "start_time": "2021-07-04T11:41:02.317Z"
   },
   {
    "duration": 3228,
    "start_time": "2021-07-04T11:41:10.981Z"
   },
   {
    "duration": 221,
    "start_time": "2021-07-04T11:42:53.801Z"
   },
   {
    "duration": 4,
    "start_time": "2021-07-04T11:43:10.580Z"
   },
   {
    "duration": 2,
    "start_time": "2021-07-04T11:43:12.168Z"
   },
   {
    "duration": 2716,
    "start_time": "2021-07-04T11:43:15.342Z"
   },
   {
    "duration": 5,
    "start_time": "2021-07-04T11:43:44.107Z"
   },
   {
    "duration": 2,
    "start_time": "2021-07-04T11:43:45.299Z"
   },
   {
    "duration": 2473,
    "start_time": "2021-07-04T11:43:46.748Z"
   },
   {
    "duration": 2667,
    "start_time": "2021-07-04T11:44:04.321Z"
   },
   {
    "duration": 13,
    "start_time": "2021-07-04T11:48:03.410Z"
   },
   {
    "duration": 210,
    "start_time": "2021-07-04T11:48:05.508Z"
   },
   {
    "duration": 4,
    "start_time": "2021-07-04T11:48:13.074Z"
   },
   {
    "duration": 3,
    "start_time": "2021-07-04T11:48:14.291Z"
   },
   {
    "duration": 1372,
    "start_time": "2021-07-04T11:48:15.849Z"
   },
   {
    "duration": 1439,
    "start_time": "2021-07-04T11:49:11.811Z"
   },
   {
    "duration": 1543,
    "start_time": "2021-07-04T11:49:44.965Z"
   },
   {
    "duration": 1463,
    "start_time": "2021-07-04T11:50:01.323Z"
   },
   {
    "duration": 221,
    "start_time": "2021-07-04T11:50:13.189Z"
   },
   {
    "duration": 4,
    "start_time": "2021-07-04T11:50:20.753Z"
   },
   {
    "duration": 3,
    "start_time": "2021-07-04T11:50:21.649Z"
   },
   {
    "duration": 1615,
    "start_time": "2021-07-04T11:50:23.481Z"
   },
   {
    "duration": 709,
    "start_time": "2021-07-04T11:58:13.742Z"
   },
   {
    "duration": 121,
    "start_time": "2021-07-04T11:58:15.737Z"
   },
   {
    "duration": 87,
    "start_time": "2021-07-04T11:58:16.998Z"
   },
   {
    "duration": 502,
    "start_time": "2021-07-04T11:58:18.674Z"
   },
   {
    "duration": 130,
    "start_time": "2021-07-04T11:58:19.770Z"
   },
   {
    "duration": 158,
    "start_time": "2021-07-04T11:58:20.873Z"
   },
   {
    "duration": 524,
    "start_time": "2021-07-04T11:58:22.345Z"
   },
   {
    "duration": 10,
    "start_time": "2021-07-04T11:58:23.726Z"
   },
   {
    "duration": 5,
    "start_time": "2021-07-04T11:58:25.421Z"
   },
   {
    "duration": 7,
    "start_time": "2021-07-04T11:58:27.532Z"
   },
   {
    "duration": 217,
    "start_time": "2021-07-04T11:58:51.414Z"
   },
   {
    "duration": 525,
    "start_time": "2021-07-04T11:58:59.089Z"
   },
   {
    "duration": 8,
    "start_time": "2021-07-04T11:59:29.613Z"
   },
   {
    "duration": 27,
    "start_time": "2021-07-04T11:59:31.191Z"
   },
   {
    "duration": 108,
    "start_time": "2021-07-04T11:59:32.795Z"
   },
   {
    "duration": 305,
    "start_time": "2021-07-04T11:59:34.990Z"
   },
   {
    "duration": 28,
    "start_time": "2021-07-04T11:59:36.871Z"
   },
   {
    "duration": 128,
    "start_time": "2021-07-04T11:59:38.095Z"
   },
   {
    "duration": 142,
    "start_time": "2021-07-04T11:59:39.143Z"
   },
   {
    "duration": 408,
    "start_time": "2021-07-04T11:59:46.817Z"
   },
   {
    "duration": 844,
    "start_time": "2021-07-04T11:59:56.962Z"
   },
   {
    "duration": 44,
    "start_time": "2021-07-04T11:59:59.714Z"
   },
   {
    "duration": 40,
    "start_time": "2021-07-04T12:00:02.230Z"
   },
   {
    "duration": 58,
    "start_time": "2021-07-04T12:00:05.918Z"
   },
   {
    "duration": 585,
    "start_time": "2021-07-04T12:00:07.038Z"
   },
   {
    "duration": 15,
    "start_time": "2021-07-04T12:00:11.019Z"
   },
   {
    "duration": 48,
    "start_time": "2021-07-04T12:00:31.428Z"
   },
   {
    "duration": 125,
    "start_time": "2021-07-04T12:00:47.502Z"
   },
   {
    "duration": 688,
    "start_time": "2021-07-04T12:02:54.582Z"
   },
   {
    "duration": 117,
    "start_time": "2021-07-04T12:02:57.038Z"
   },
   {
    "duration": 90,
    "start_time": "2021-07-04T12:02:58.942Z"
   },
   {
    "duration": 502,
    "start_time": "2021-07-04T12:03:01.121Z"
   },
   {
    "duration": 113,
    "start_time": "2021-07-04T12:03:03.483Z"
   },
   {
    "duration": 154,
    "start_time": "2021-07-04T12:03:05.239Z"
   },
   {
    "duration": 486,
    "start_time": "2021-07-04T12:03:06.794Z"
   },
   {
    "duration": 9,
    "start_time": "2021-07-04T12:03:09.219Z"
   },
   {
    "duration": 6,
    "start_time": "2021-07-04T12:03:10.935Z"
   },
   {
    "duration": 8,
    "start_time": "2021-07-04T12:03:11.810Z"
   },
   {
    "duration": 272,
    "start_time": "2021-07-04T12:03:13.509Z"
   },
   {
    "duration": 154,
    "start_time": "2021-07-04T12:23:42.206Z"
   },
   {
    "duration": 539,
    "start_time": "2021-07-04T12:24:02.645Z"
   },
   {
    "duration": 26,
    "start_time": "2021-07-04T12:24:11.130Z"
   },
   {
    "duration": 110,
    "start_time": "2021-07-04T12:24:12.767Z"
   },
   {
    "duration": 298,
    "start_time": "2021-07-04T12:24:15.019Z"
   },
   {
    "duration": 28,
    "start_time": "2021-07-04T12:24:17.130Z"
   },
   {
    "duration": 143,
    "start_time": "2021-07-04T12:24:18.224Z"
   },
   {
    "duration": 155,
    "start_time": "2021-07-04T12:24:19.489Z"
   },
   {
    "duration": 13,
    "start_time": "2021-07-04T12:24:32.358Z"
   },
   {
    "duration": 578,
    "start_time": "2021-07-04T12:24:41.899Z"
   },
   {
    "duration": 15,
    "start_time": "2021-07-04T12:24:43.620Z"
   },
   {
    "duration": 46,
    "start_time": "2021-07-04T12:24:50.230Z"
   },
   {
    "duration": 13,
    "start_time": "2021-07-04T12:24:57.641Z"
   },
   {
    "duration": 300,
    "start_time": "2021-07-04T12:25:09.789Z"
   },
   {
    "duration": 5,
    "start_time": "2021-07-04T12:25:19.963Z"
   },
   {
    "duration": 3,
    "start_time": "2021-07-04T12:25:21.193Z"
   },
   {
    "duration": 672,
    "start_time": "2021-07-04T12:25:22.846Z"
   },
   {
    "duration": 2269,
    "start_time": "2021-07-04T12:25:45.190Z"
   },
   {
    "duration": 8,
    "start_time": "2021-07-04T12:26:04.602Z"
   },
   {
    "duration": 1178,
    "start_time": "2021-07-04T12:28:39.674Z"
   },
   {
    "duration": 779,
    "start_time": "2021-07-04T12:28:40.854Z"
   },
   {
    "duration": 126,
    "start_time": "2021-07-04T12:28:41.636Z"
   },
   {
    "duration": 99,
    "start_time": "2021-07-04T12:28:41.765Z"
   },
   {
    "duration": 526,
    "start_time": "2021-07-04T12:28:41.866Z"
   },
   {
    "duration": 122,
    "start_time": "2021-07-04T12:28:42.393Z"
   },
   {
    "duration": 172,
    "start_time": "2021-07-04T12:28:42.517Z"
   },
   {
    "duration": 507,
    "start_time": "2021-07-04T12:28:42.692Z"
   },
   {
    "duration": 9,
    "start_time": "2021-07-04T12:28:43.201Z"
   },
   {
    "duration": 5,
    "start_time": "2021-07-04T12:28:43.211Z"
   },
   {
    "duration": 6,
    "start_time": "2021-07-04T12:28:43.218Z"
   },
   {
    "duration": 269,
    "start_time": "2021-07-04T12:28:43.226Z"
   },
   {
    "duration": 666,
    "start_time": "2021-07-04T12:28:43.497Z"
   },
   {
    "duration": 8,
    "start_time": "2021-07-04T12:28:44.165Z"
   },
   {
    "duration": 27,
    "start_time": "2021-07-04T12:28:44.184Z"
   },
   {
    "duration": 121,
    "start_time": "2021-07-04T12:28:44.213Z"
   },
   {
    "duration": 308,
    "start_time": "2021-07-04T12:28:44.335Z"
   },
   {
    "duration": 42,
    "start_time": "2021-07-04T12:28:44.645Z"
   },
   {
    "duration": 148,
    "start_time": "2021-07-04T12:28:44.688Z"
   },
   {
    "duration": 160,
    "start_time": "2021-07-04T12:28:44.837Z"
   },
   {
    "duration": 340,
    "start_time": "2021-07-04T12:28:44.999Z"
   },
   {
    "duration": 1138,
    "start_time": "2021-07-04T12:28:45.341Z"
   },
   {
    "duration": 47,
    "start_time": "2021-07-04T12:28:46.486Z"
   },
   {
    "duration": 78,
    "start_time": "2021-07-04T12:28:46.536Z"
   },
   {
    "duration": 626,
    "start_time": "2021-07-04T12:28:46.616Z"
   },
   {
    "duration": 18,
    "start_time": "2021-07-04T12:28:47.244Z"
   },
   {
    "duration": 62,
    "start_time": "2021-07-04T12:28:47.264Z"
   },
   {
    "duration": 15,
    "start_time": "2021-07-04T12:28:47.327Z"
   },
   {
    "duration": 343,
    "start_time": "2021-07-04T12:28:47.344Z"
   },
   {
    "duration": 6,
    "start_time": "2021-07-04T12:28:47.689Z"
   },
   {
    "duration": 5,
    "start_time": "2021-07-04T12:28:47.697Z"
   },
   {
    "duration": 783,
    "start_time": "2021-07-04T12:28:47.703Z"
   },
   {
    "duration": 116,
    "start_time": "2021-07-04T12:28:48.488Z"
   },
   {
    "duration": 2425,
    "start_time": "2021-07-04T12:28:48.607Z"
   },
   {
    "duration": 9787,
    "start_time": "2021-07-04T12:28:51.034Z"
   },
   {
    "duration": 345,
    "start_time": "2021-07-04T12:29:00.823Z"
   },
   {
    "duration": 15310,
    "start_time": "2021-07-04T12:29:01.170Z"
   },
   {
    "duration": 111562,
    "start_time": "2021-07-04T12:29:16.484Z"
   },
   {
    "duration": 4971,
    "start_time": "2021-07-04T12:31:08.049Z"
   },
   {
    "duration": 1854,
    "start_time": "2021-07-04T12:31:13.022Z"
   },
   {
    "duration": 118425,
    "start_time": "2021-07-04T12:31:14.878Z"
   },
   {
    "duration": 318,
    "start_time": "2021-07-04T12:33:13.305Z"
   },
   {
    "duration": 482569,
    "start_time": "2021-07-04T12:33:13.625Z"
   },
   {
    "duration": 75105,
    "start_time": "2021-07-04T12:41:16.196Z"
   },
   {
    "duration": 6106,
    "start_time": "2021-07-04T12:42:31.385Z"
   },
   {
    "duration": 308697,
    "start_time": "2021-07-04T12:42:37.493Z"
   },
   {
    "duration": 180664,
    "start_time": "2021-07-04T12:47:46.192Z"
   },
   {
    "duration": 94649,
    "start_time": "2021-07-04T12:50:46.858Z"
   },
   {
    "duration": 4,
    "start_time": "2021-07-04T12:52:21.508Z"
   },
   {
    "duration": 4,
    "start_time": "2021-07-04T12:52:21.514Z"
   },
   {
    "duration": 7,
    "start_time": "2021-07-04T12:52:21.520Z"
   },
   {
    "duration": 8,
    "start_time": "2021-07-04T12:52:21.528Z"
   },
   {
    "duration": 4,
    "start_time": "2021-07-04T12:52:21.538Z"
   },
   {
    "duration": 6,
    "start_time": "2021-07-04T12:52:21.544Z"
   },
   {
    "duration": 3952,
    "start_time": "2021-07-04T12:52:21.551Z"
   },
   {
    "duration": 1193,
    "start_time": "2021-07-05T12:00:30.352Z"
   },
   {
    "duration": 702,
    "start_time": "2021-07-05T12:00:39.121Z"
   },
   {
    "duration": 112,
    "start_time": "2021-07-05T12:00:44.222Z"
   },
   {
    "duration": 89,
    "start_time": "2021-07-05T12:00:45.827Z"
   },
   {
    "duration": 441,
    "start_time": "2021-07-05T12:00:47.808Z"
   },
   {
    "duration": 114,
    "start_time": "2021-07-05T12:00:49.848Z"
   },
   {
    "duration": 149,
    "start_time": "2021-07-05T12:00:51.289Z"
   },
   {
    "duration": 479,
    "start_time": "2021-07-05T12:00:52.849Z"
   },
   {
    "duration": 8,
    "start_time": "2021-07-05T12:00:55.026Z"
   },
   {
    "duration": 6,
    "start_time": "2021-07-05T12:00:56.438Z"
   },
   {
    "duration": 213,
    "start_time": "2021-07-05T12:00:58.486Z"
   },
   {
    "duration": 212,
    "start_time": "2021-07-05T12:01:09.561Z"
   },
   {
    "duration": 611,
    "start_time": "2021-07-05T12:01:11.744Z"
   },
   {
    "duration": 506,
    "start_time": "2021-07-05T12:01:53.933Z"
   },
   {
    "duration": 450,
    "start_time": "2021-07-05T12:02:11.438Z"
   },
   {
    "duration": 642,
    "start_time": "2021-07-05T12:02:33.672Z"
   },
   {
    "duration": 482,
    "start_time": "2021-07-05T12:02:41.101Z"
   },
   {
    "duration": 88,
    "start_time": "2021-07-05T12:03:17.516Z"
   },
   {
    "duration": 486,
    "start_time": "2021-07-05T12:03:24.470Z"
   },
   {
    "duration": 7,
    "start_time": "2021-07-05T12:03:36.346Z"
   },
   {
    "duration": 27,
    "start_time": "2021-07-05T12:03:38.320Z"
   },
   {
    "duration": 102,
    "start_time": "2021-07-05T12:03:40.273Z"
   },
   {
    "duration": 110,
    "start_time": "2021-07-05T12:04:03.178Z"
   },
   {
    "duration": 269,
    "start_time": "2021-07-05T12:04:18.484Z"
   },
   {
    "duration": 34,
    "start_time": "2021-07-05T12:04:20.770Z"
   },
   {
    "duration": 195,
    "start_time": "2021-07-05T12:04:21.909Z"
   },
   {
    "duration": 211,
    "start_time": "2021-07-05T12:04:23.062Z"
   },
   {
    "duration": 758,
    "start_time": "2021-07-05T12:04:25.068Z"
   },
   {
    "duration": 1044,
    "start_time": "2021-07-05T12:04:35.731Z"
   },
   {
    "duration": 41,
    "start_time": "2021-07-05T12:04:44.013Z"
   },
   {
    "duration": 39,
    "start_time": "2021-07-05T12:04:45.883Z"
   },
   {
    "duration": 288,
    "start_time": "2021-07-05T12:04:51.661Z"
   },
   {
    "duration": 112,
    "start_time": "2021-07-05T12:05:09.213Z"
   },
   {
    "duration": 23,
    "start_time": "2021-07-05T12:05:19.979Z"
   },
   {
    "duration": 1115,
    "start_time": "2021-07-05T12:05:59.930Z"
   },
   {
    "duration": 20,
    "start_time": "2021-07-05T12:06:03.091Z"
   },
   {
    "duration": 44,
    "start_time": "2021-07-05T12:06:04.888Z"
   },
   {
    "duration": 12,
    "start_time": "2021-07-05T12:06:06.099Z"
   },
   {
    "duration": 309,
    "start_time": "2021-07-05T12:06:08.240Z"
   },
   {
    "duration": 5,
    "start_time": "2021-07-05T12:06:14.692Z"
   },
   {
    "duration": 2,
    "start_time": "2021-07-05T12:06:17.395Z"
   },
   {
    "duration": 799,
    "start_time": "2021-07-05T12:06:25.230Z"
   },
   {
    "duration": 1455,
    "start_time": "2021-07-05T14:59:23.857Z"
   },
   {
    "duration": 1058,
    "start_time": "2021-07-05T14:59:27.244Z"
   },
   {
    "duration": 200,
    "start_time": "2021-07-05T14:59:29.923Z"
   },
   {
    "duration": 88,
    "start_time": "2021-07-05T14:59:31.320Z"
   },
   {
    "duration": 448,
    "start_time": "2021-07-05T14:59:33.242Z"
   },
   {
    "duration": 107,
    "start_time": "2021-07-05T14:59:35.166Z"
   },
   {
    "duration": 156,
    "start_time": "2021-07-05T14:59:36.658Z"
   },
   {
    "duration": 427,
    "start_time": "2021-07-05T14:59:38.074Z"
   },
   {
    "duration": 9,
    "start_time": "2021-07-05T14:59:39.970Z"
   },
   {
    "duration": 5,
    "start_time": "2021-07-05T14:59:41.595Z"
   },
   {
    "duration": 211,
    "start_time": "2021-07-05T14:59:44.265Z"
   },
   {
    "duration": 211,
    "start_time": "2021-07-05T14:59:45.643Z"
   },
   {
    "duration": 554,
    "start_time": "2021-07-05T14:59:46.211Z"
   },
   {
    "duration": 9,
    "start_time": "2021-07-05T14:59:46.812Z"
   },
   {
    "duration": 30,
    "start_time": "2021-07-05T14:59:57.378Z"
   },
   {
    "duration": 98,
    "start_time": "2021-07-05T14:59:59.457Z"
   },
   {
    "duration": 264,
    "start_time": "2021-07-05T15:00:01.234Z"
   },
   {
    "duration": 31,
    "start_time": "2021-07-05T15:00:03.156Z"
   },
   {
    "duration": 141,
    "start_time": "2021-07-05T15:00:04.534Z"
   },
   {
    "duration": 149,
    "start_time": "2021-07-05T15:00:05.717Z"
   },
   {
    "duration": 504,
    "start_time": "2021-07-05T15:00:08.305Z"
   },
   {
    "duration": 1030,
    "start_time": "2021-07-05T15:00:10.014Z"
   },
   {
    "duration": 40,
    "start_time": "2021-07-05T15:00:12.687Z"
   },
   {
    "duration": 40,
    "start_time": "2021-07-05T15:00:15.060Z"
   },
   {
    "duration": 19,
    "start_time": "2021-07-05T15:00:16.567Z"
   },
   {
    "duration": 627,
    "start_time": "2021-07-05T15:00:18.796Z"
   },
   {
    "duration": 14,
    "start_time": "2021-07-05T15:00:21.037Z"
   },
   {
    "duration": 45,
    "start_time": "2021-07-05T15:00:22.518Z"
   },
   {
    "duration": 13,
    "start_time": "2021-07-05T15:00:23.852Z"
   },
   {
    "duration": 314,
    "start_time": "2021-07-05T15:00:25.812Z"
   },
   {
    "duration": 5,
    "start_time": "2021-07-05T15:00:47.284Z"
   },
   {
    "duration": 2,
    "start_time": "2021-07-05T15:00:49.896Z"
   },
   {
    "duration": 527,
    "start_time": "2021-07-05T15:01:13.727Z"
   },
   {
    "duration": 5,
    "start_time": "2021-07-05T15:03:10.517Z"
   },
   {
    "duration": 30,
    "start_time": "2021-07-05T15:03:44.416Z"
   },
   {
    "duration": 1476,
    "start_time": "2021-07-05T15:04:24.665Z"
   },
   {
    "duration": 1531,
    "start_time": "2021-07-05T15:06:00.512Z"
   },
   {
    "duration": 435,
    "start_time": "2021-07-05T15:08:13.258Z"
   },
   {
    "duration": 1644,
    "start_time": "2021-07-05T15:08:52.408Z"
   },
   {
    "duration": 646,
    "start_time": "2021-07-05T15:09:55.685Z"
   },
   {
    "duration": 1657,
    "start_time": "2021-07-05T15:10:23.085Z"
   },
   {
    "duration": 434,
    "start_time": "2021-07-05T15:12:20.432Z"
   },
   {
    "duration": 1592,
    "start_time": "2021-07-05T17:50:20.217Z"
   },
   {
    "duration": 1182,
    "start_time": "2021-07-05T17:50:25.103Z"
   },
   {
    "duration": 263,
    "start_time": "2021-07-05T17:50:28.014Z"
   },
   {
    "duration": 133,
    "start_time": "2021-07-05T17:50:29.917Z"
   },
   {
    "duration": 920,
    "start_time": "2021-07-05T17:50:32.296Z"
   },
   {
    "duration": 151,
    "start_time": "2021-07-05T17:50:34.257Z"
   },
   {
    "duration": 227,
    "start_time": "2021-07-05T17:50:35.576Z"
   },
   {
    "duration": 801,
    "start_time": "2021-07-05T17:50:37.342Z"
   },
   {
    "duration": 14,
    "start_time": "2021-07-05T17:50:40.201Z"
   },
   {
    "duration": 8,
    "start_time": "2021-07-05T17:50:41.823Z"
   },
   {
    "duration": 386,
    "start_time": "2021-07-05T17:50:43.474Z"
   },
   {
    "duration": 324,
    "start_time": "2021-07-05T17:50:46.096Z"
   },
   {
    "duration": 943,
    "start_time": "2021-07-05T17:50:48.036Z"
   },
   {
    "duration": 10,
    "start_time": "2021-07-05T17:50:52.071Z"
   },
   {
    "duration": 55,
    "start_time": "2021-07-05T17:50:53.901Z"
   },
   {
    "duration": 153,
    "start_time": "2021-07-05T17:50:55.368Z"
   },
   {
    "duration": 463,
    "start_time": "2021-07-05T17:50:57.167Z"
   },
   {
    "duration": 50,
    "start_time": "2021-07-05T17:50:59.377Z"
   },
   {
    "duration": 282,
    "start_time": "2021-07-05T17:51:00.680Z"
   },
   {
    "duration": 301,
    "start_time": "2021-07-05T17:51:01.812Z"
   },
   {
    "duration": 881,
    "start_time": "2021-07-05T17:51:03.971Z"
   },
   {
    "duration": 1606,
    "start_time": "2021-07-05T17:51:05.284Z"
   },
   {
    "duration": 69,
    "start_time": "2021-07-05T17:51:06.893Z"
   },
   {
    "duration": 67,
    "start_time": "2021-07-05T17:51:07.879Z"
   },
   {
    "duration": 31,
    "start_time": "2021-07-05T17:51:09.723Z"
   },
   {
    "duration": 900,
    "start_time": "2021-07-05T17:51:12.685Z"
   },
   {
    "duration": 23,
    "start_time": "2021-07-05T17:51:15.418Z"
   },
   {
    "duration": 62,
    "start_time": "2021-07-05T17:51:17.296Z"
   },
   {
    "duration": 18,
    "start_time": "2021-07-05T17:51:19.169Z"
   },
   {
    "duration": 483,
    "start_time": "2021-07-05T17:51:20.764Z"
   },
   {
    "duration": 10,
    "start_time": "2021-07-05T17:51:32.217Z"
   },
   {
    "duration": 4,
    "start_time": "2021-07-05T17:51:39.184Z"
   },
   {
    "duration": 808,
    "start_time": "2021-07-05T17:52:13.305Z"
   },
   {
    "duration": 633,
    "start_time": "2021-07-05T17:52:52.508Z"
   },
   {
    "duration": 549,
    "start_time": "2021-07-05T17:53:20.183Z"
   },
   {
    "duration": 636,
    "start_time": "2021-07-05T17:54:02.332Z"
   },
   {
    "duration": 15,
    "start_time": "2021-07-05T18:00:32.614Z"
   },
   {
    "duration": 14,
    "start_time": "2021-07-05T18:01:51.850Z"
   },
   {
    "duration": 322,
    "start_time": "2021-07-05T18:04:11.784Z"
   },
   {
    "duration": 337,
    "start_time": "2021-07-05T18:05:36.985Z"
   },
   {
    "duration": 12,
    "start_time": "2021-07-05T18:05:55.988Z"
   },
   {
    "duration": 322,
    "start_time": "2021-07-05T18:06:44.935Z"
   },
   {
    "duration": 10,
    "start_time": "2021-07-05T18:07:01.993Z"
   },
   {
    "duration": 362,
    "start_time": "2021-07-05T18:07:26.198Z"
   },
   {
    "duration": 15,
    "start_time": "2021-07-05T18:07:58.146Z"
   },
   {
    "duration": 531,
    "start_time": "2021-07-05T18:08:45.314Z"
   },
   {
    "duration": 13,
    "start_time": "2021-07-05T18:09:51.324Z"
   },
   {
    "duration": 16,
    "start_time": "2021-07-05T18:10:26.432Z"
   },
   {
    "duration": 16,
    "start_time": "2021-07-05T18:10:33.664Z"
   },
   {
    "duration": 577,
    "start_time": "2021-07-05T18:10:52.379Z"
   },
   {
    "duration": 543,
    "start_time": "2021-07-05T18:11:29.415Z"
   },
   {
    "duration": 19,
    "start_time": "2021-07-05T18:13:17.486Z"
   },
   {
    "duration": 6,
    "start_time": "2021-07-05T18:30:46.110Z"
   },
   {
    "duration": 1201,
    "start_time": "2021-07-05T19:57:19.313Z"
   },
   {
    "duration": 160,
    "start_time": "2021-07-05T19:57:57.327Z"
   },
   {
    "duration": 158,
    "start_time": "2021-07-05T19:58:22.488Z"
   },
   {
    "duration": 118,
    "start_time": "2021-07-05T19:58:25.969Z"
   },
   {
    "duration": 896,
    "start_time": "2021-07-05T19:59:01.321Z"
   },
   {
    "duration": 155,
    "start_time": "2021-07-05T19:59:32.694Z"
   },
   {
    "duration": 217,
    "start_time": "2021-07-05T20:00:16.970Z"
   },
   {
    "duration": 794,
    "start_time": "2021-07-05T20:00:21.167Z"
   },
   {
    "duration": 6,
    "start_time": "2021-07-05T20:03:20.640Z"
   },
   {
    "duration": 388,
    "start_time": "2021-07-05T20:03:22.945Z"
   },
   {
    "duration": 331,
    "start_time": "2021-07-05T20:03:27.864Z"
   },
   {
    "duration": 1001,
    "start_time": "2021-07-05T20:03:33.707Z"
   },
   {
    "duration": 44,
    "start_time": "2021-07-05T20:05:19.442Z"
   },
   {
    "duration": 203,
    "start_time": "2021-07-05T20:05:28.868Z"
   },
   {
    "duration": 146,
    "start_time": "2021-07-05T20:06:01.939Z"
   },
   {
    "duration": 108,
    "start_time": "2021-07-05T20:06:26.303Z"
   },
   {
    "duration": 150,
    "start_time": "2021-07-05T20:06:31.271Z"
   },
   {
    "duration": 495,
    "start_time": "2021-07-05T20:07:13.952Z"
   },
   {
    "duration": 45,
    "start_time": "2021-07-05T20:08:44.893Z"
   },
   {
    "duration": 248,
    "start_time": "2021-07-05T20:08:46.633Z"
   },
   {
    "duration": 268,
    "start_time": "2021-07-05T20:08:49.293Z"
   },
   {
    "duration": 121,
    "start_time": "2021-07-05T20:13:24.704Z"
   },
   {
    "duration": 2375,
    "start_time": "2021-07-05T20:14:05.492Z"
   },
   {
    "duration": 65,
    "start_time": "2021-07-05T20:19:40.550Z"
   },
   {
    "duration": 64,
    "start_time": "2021-07-05T20:19:59.517Z"
   },
   {
    "duration": 1128,
    "start_time": "2021-07-05T20:21:49.278Z"
   },
   {
    "duration": 23,
    "start_time": "2021-07-05T20:21:53.182Z"
   },
   {
    "duration": 59,
    "start_time": "2021-07-05T20:22:02.195Z"
   },
   {
    "duration": 18,
    "start_time": "2021-07-05T20:23:37.609Z"
   },
   {
    "duration": 464,
    "start_time": "2021-07-05T20:23:59.476Z"
   },
   {
    "duration": 8,
    "start_time": "2021-07-05T20:27:31.112Z"
   },
   {
    "duration": 4,
    "start_time": "2021-07-05T20:28:05.263Z"
   },
   {
    "duration": 885,
    "start_time": "2021-07-05T20:28:15.033Z"
   },
   {
    "duration": 45,
    "start_time": "2021-07-05T20:29:22.231Z"
   },
   {
    "duration": 10,
    "start_time": "2021-07-05T20:37:34.378Z"
   },
   {
    "duration": 6,
    "start_time": "2021-07-05T20:38:17.696Z"
   },
   {
    "duration": 11,
    "start_time": "2021-07-05T20:55:09.505Z"
   },
   {
    "duration": 8,
    "start_time": "2021-07-05T20:55:19.163Z"
   },
   {
    "duration": 44,
    "start_time": "2021-07-05T20:55:46.841Z"
   },
   {
    "duration": 399,
    "start_time": "2021-07-05T20:55:53.471Z"
   },
   {
    "duration": 6281,
    "start_time": "2021-07-05T20:56:03.923Z"
   },
   {
    "duration": 518,
    "start_time": "2021-07-05T20:56:13.194Z"
   },
   {
    "duration": 7732,
    "start_time": "2021-07-05T20:56:20.753Z"
   },
   {
    "duration": 139236,
    "start_time": "2021-07-05T20:56:31.440Z"
   },
   {
    "duration": 12,
    "start_time": "2021-07-05T20:59:36.284Z"
   },
   {
    "duration": 7,
    "start_time": "2021-07-05T20:59:42.673Z"
   },
   {
    "duration": 4,
    "start_time": "2021-07-05T20:59:44.813Z"
   },
   {
    "duration": 5144,
    "start_time": "2021-07-05T20:59:46.268Z"
   },
   {
    "duration": 5139,
    "start_time": "2021-07-05T21:00:10.269Z"
   },
   {
    "duration": 5125,
    "start_time": "2021-07-05T21:01:27.776Z"
   },
   {
    "duration": 5112,
    "start_time": "2021-07-05T21:01:45.705Z"
   },
   {
    "duration": 1619,
    "start_time": "2021-07-05T21:08:04.377Z"
   },
   {
    "duration": 1136,
    "start_time": "2021-07-05T21:08:05.999Z"
   },
   {
    "duration": 173,
    "start_time": "2021-07-05T21:08:07.138Z"
   },
   {
    "duration": 140,
    "start_time": "2021-07-05T21:08:07.313Z"
   },
   {
    "duration": 810,
    "start_time": "2021-07-05T21:08:07.455Z"
   },
   {
    "duration": 164,
    "start_time": "2021-07-05T21:08:08.268Z"
   },
   {
    "duration": 240,
    "start_time": "2021-07-05T21:08:08.434Z"
   },
   {
    "duration": 814,
    "start_time": "2021-07-05T21:08:08.678Z"
   },
   {
    "duration": 13,
    "start_time": "2021-07-05T21:08:09.495Z"
   },
   {
    "duration": 20,
    "start_time": "2021-07-05T21:08:09.510Z"
   },
   {
    "duration": 407,
    "start_time": "2021-07-05T21:08:09.533Z"
   },
   {
    "duration": 359,
    "start_time": "2021-07-05T21:08:09.943Z"
   },
   {
    "duration": 947,
    "start_time": "2021-07-05T21:08:10.305Z"
   },
   {
    "duration": 12,
    "start_time": "2021-07-05T21:08:11.255Z"
   },
   {
    "duration": 59,
    "start_time": "2021-07-05T21:08:11.286Z"
   },
   {
    "duration": 166,
    "start_time": "2021-07-05T21:08:11.348Z"
   },
   {
    "duration": 495,
    "start_time": "2021-07-05T21:08:11.517Z"
   },
   {
    "duration": 50,
    "start_time": "2021-07-05T21:08:12.014Z"
   },
   {
    "duration": 254,
    "start_time": "2021-07-05T21:08:12.086Z"
   },
   {
    "duration": 286,
    "start_time": "2021-07-05T21:08:12.342Z"
   },
   {
    "duration": 1058,
    "start_time": "2021-07-05T21:08:12.631Z"
   },
   {
    "duration": 1842,
    "start_time": "2021-07-05T21:08:13.692Z"
   },
   {
    "duration": 87,
    "start_time": "2021-07-05T21:08:15.540Z"
   },
   {
    "duration": 82,
    "start_time": "2021-07-05T21:08:15.631Z"
   },
   {
    "duration": 1362,
    "start_time": "2021-07-05T21:08:15.717Z"
   },
   {
    "duration": 28,
    "start_time": "2021-07-05T21:08:17.082Z"
   },
   {
    "duration": 81,
    "start_time": "2021-07-05T21:08:17.113Z"
   },
   {
    "duration": 21,
    "start_time": "2021-07-05T21:08:17.196Z"
   },
   {
    "duration": 501,
    "start_time": "2021-07-05T21:08:17.220Z"
   },
   {
    "duration": 563,
    "start_time": "2021-07-05T21:08:17.724Z"
   },
   {
    "duration": -143,
    "start_time": "2021-07-05T21:08:18.433Z"
   },
   {
    "duration": -146,
    "start_time": "2021-07-05T21:08:18.439Z"
   },
   {
    "duration": -147,
    "start_time": "2021-07-05T21:08:18.442Z"
   },
   {
    "duration": -148,
    "start_time": "2021-07-05T21:08:18.445Z"
   },
   {
    "duration": -150,
    "start_time": "2021-07-05T21:08:18.449Z"
   },
   {
    "duration": -151,
    "start_time": "2021-07-05T21:08:18.452Z"
   },
   {
    "duration": -152,
    "start_time": "2021-07-05T21:08:18.456Z"
   },
   {
    "duration": -154,
    "start_time": "2021-07-05T21:08:18.459Z"
   },
   {
    "duration": -156,
    "start_time": "2021-07-05T21:08:18.463Z"
   },
   {
    "duration": -157,
    "start_time": "2021-07-05T21:08:18.467Z"
   },
   {
    "duration": -159,
    "start_time": "2021-07-05T21:08:18.470Z"
   },
   {
    "duration": -160,
    "start_time": "2021-07-05T21:08:18.474Z"
   },
   {
    "duration": -174,
    "start_time": "2021-07-05T21:08:18.490Z"
   },
   {
    "duration": -177,
    "start_time": "2021-07-05T21:08:18.495Z"
   },
   {
    "duration": -180,
    "start_time": "2021-07-05T21:08:18.500Z"
   },
   {
    "duration": -183,
    "start_time": "2021-07-05T21:08:18.504Z"
   },
   {
    "duration": -183,
    "start_time": "2021-07-05T21:08:18.507Z"
   },
   {
    "duration": -185,
    "start_time": "2021-07-05T21:08:18.511Z"
   },
   {
    "duration": -187,
    "start_time": "2021-07-05T21:08:18.515Z"
   },
   {
    "duration": -191,
    "start_time": "2021-07-05T21:08:18.520Z"
   },
   {
    "duration": -193,
    "start_time": "2021-07-05T21:08:18.524Z"
   },
   {
    "duration": -143,
    "start_time": "2021-07-05T21:08:18.528Z"
   },
   {
    "duration": 7,
    "start_time": "2021-07-05T21:09:09.766Z"
   },
   {
    "duration": 7,
    "start_time": "2021-07-05T21:09:22.430Z"
   },
   {
    "duration": 1543,
    "start_time": "2021-07-05T21:09:40.347Z"
   },
   {
    "duration": 1123,
    "start_time": "2021-07-05T21:09:41.893Z"
   },
   {
    "duration": 173,
    "start_time": "2021-07-05T21:09:43.020Z"
   },
   {
    "duration": 130,
    "start_time": "2021-07-05T21:09:43.196Z"
   },
   {
    "duration": 815,
    "start_time": "2021-07-05T21:09:43.328Z"
   },
   {
    "duration": 165,
    "start_time": "2021-07-05T21:09:44.146Z"
   },
   {
    "duration": 226,
    "start_time": "2021-07-05T21:09:44.313Z"
   },
   {
    "duration": 915,
    "start_time": "2021-07-05T21:09:44.545Z"
   },
   {
    "duration": 25,
    "start_time": "2021-07-05T21:09:45.464Z"
   },
   {
    "duration": 9,
    "start_time": "2021-07-05T21:09:45.492Z"
   },
   {
    "duration": 674,
    "start_time": "2021-07-05T21:09:45.504Z"
   },
   {
    "duration": 550,
    "start_time": "2021-07-05T21:09:46.182Z"
   },
   {
    "duration": 1527,
    "start_time": "2021-07-05T21:09:46.735Z"
   },
   {
    "duration": 23,
    "start_time": "2021-07-05T21:09:48.264Z"
   },
   {
    "duration": 54,
    "start_time": "2021-07-05T21:09:48.290Z"
   },
   {
    "duration": 175,
    "start_time": "2021-07-05T21:09:48.347Z"
   },
   {
    "duration": 485,
    "start_time": "2021-07-05T21:09:48.525Z"
   },
   {
    "duration": 52,
    "start_time": "2021-07-05T21:09:49.012Z"
   },
   {
    "duration": 254,
    "start_time": "2021-07-05T21:09:49.086Z"
   },
   {
    "duration": 293,
    "start_time": "2021-07-05T21:09:49.343Z"
   },
   {
    "duration": 973,
    "start_time": "2021-07-05T21:09:49.639Z"
   },
   {
    "duration": 2332,
    "start_time": "2021-07-05T21:09:50.616Z"
   },
   {
    "duration": 114,
    "start_time": "2021-07-05T21:09:52.959Z"
   },
   {
    "duration": 109,
    "start_time": "2021-07-05T21:09:53.078Z"
   },
   {
    "duration": 1443,
    "start_time": "2021-07-05T21:09:53.191Z"
   },
   {
    "duration": 48,
    "start_time": "2021-07-05T21:09:54.637Z"
   },
   {
    "duration": 76,
    "start_time": "2021-07-05T21:09:54.689Z"
   },
   {
    "duration": 40,
    "start_time": "2021-07-05T21:09:54.769Z"
   },
   {
    "duration": 807,
    "start_time": "2021-07-05T21:09:54.812Z"
   },
   {
    "duration": 10,
    "start_time": "2021-07-05T21:09:55.622Z"
   },
   {
    "duration": 11,
    "start_time": "2021-07-05T21:09:55.636Z"
   },
   {
    "duration": 868,
    "start_time": "2021-07-05T21:09:55.650Z"
   },
   {
    "duration": 193,
    "start_time": "2021-07-05T21:09:56.521Z"
   },
   {
    "duration": 3156,
    "start_time": "2021-07-05T21:09:56.719Z"
   },
   {
    "duration": 12867,
    "start_time": "2021-07-05T21:09:59.877Z"
   },
   {
    "duration": 461,
    "start_time": "2021-07-05T21:10:12.746Z"
   },
   {
    "duration": 20468,
    "start_time": "2021-07-05T21:10:13.209Z"
   },
   {
    "duration": 159524,
    "start_time": "2021-07-05T21:10:33.680Z"
   },
   {
    "duration": 6901,
    "start_time": "2021-07-05T21:13:13.207Z"
   },
   {
    "duration": 2857,
    "start_time": "2021-07-05T21:13:20.111Z"
   },
   {
    "duration": 160506,
    "start_time": "2021-07-05T21:13:22.971Z"
   },
   {
    "duration": 522,
    "start_time": "2021-07-05T21:16:03.480Z"
   },
   {
    "duration": 27488,
    "start_time": "2021-07-05T21:16:04.004Z"
   },
   {
    "duration": 111100,
    "start_time": "2021-07-05T21:16:31.495Z"
   },
   {
    "duration": 6289,
    "start_time": "2021-07-05T21:18:22.598Z"
   },
   {
    "duration": 442795,
    "start_time": "2021-07-05T21:18:28.889Z"
   },
   {
    "duration": 274216,
    "start_time": "2021-07-05T21:25:51.687Z"
   },
   {
    "duration": 134964,
    "start_time": "2021-07-05T21:30:25.906Z"
   },
   {
    "duration": 13,
    "start_time": "2021-07-05T21:32:40.873Z"
   },
   {
    "duration": 10,
    "start_time": "2021-07-05T21:32:40.888Z"
   },
   {
    "duration": 8,
    "start_time": "2021-07-05T21:32:40.900Z"
   },
   {
    "duration": 5100,
    "start_time": "2021-07-05T21:32:40.911Z"
   },
   {
    "duration": 1656,
    "start_time": "2021-07-05T21:48:03.665Z"
   },
   {
    "duration": 1203,
    "start_time": "2021-07-05T21:48:05.324Z"
   },
   {
    "duration": 168,
    "start_time": "2021-07-05T21:48:06.530Z"
   },
   {
    "duration": 136,
    "start_time": "2021-07-05T21:48:06.701Z"
   },
   {
    "duration": 831,
    "start_time": "2021-07-05T21:48:06.839Z"
   },
   {
    "duration": 164,
    "start_time": "2021-07-05T21:48:07.673Z"
   },
   {
    "duration": 235,
    "start_time": "2021-07-05T21:48:07.840Z"
   },
   {
    "duration": 813,
    "start_time": "2021-07-05T21:48:08.079Z"
   },
   {
    "duration": 12,
    "start_time": "2021-07-05T21:48:08.895Z"
   },
   {
    "duration": 7,
    "start_time": "2021-07-05T21:48:08.909Z"
   },
   {
    "duration": 428,
    "start_time": "2021-07-05T21:48:08.918Z"
   },
   {
    "duration": 336,
    "start_time": "2021-07-05T21:48:09.349Z"
   },
   {
    "duration": 957,
    "start_time": "2021-07-05T21:48:09.687Z"
   },
   {
    "duration": 10,
    "start_time": "2021-07-05T21:48:10.646Z"
   },
   {
    "duration": 73,
    "start_time": "2021-07-05T21:48:10.659Z"
   },
   {
    "duration": 270,
    "start_time": "2021-07-05T21:48:10.735Z"
   },
   {
    "duration": 685,
    "start_time": "2021-07-05T21:48:11.008Z"
   },
   {
    "duration": 51,
    "start_time": "2021-07-05T21:48:11.696Z"
   },
   {
    "duration": 358,
    "start_time": "2021-07-05T21:48:11.750Z"
   },
   {
    "duration": 388,
    "start_time": "2021-07-05T21:48:12.111Z"
   },
   {
    "duration": 935,
    "start_time": "2021-07-05T21:48:12.502Z"
   },
   {
    "duration": 2365,
    "start_time": "2021-07-05T21:48:13.440Z"
   },
   {
    "duration": 83,
    "start_time": "2021-07-05T21:48:15.811Z"
   },
   {
    "duration": 64,
    "start_time": "2021-07-05T21:48:15.897Z"
   },
   {
    "duration": 907,
    "start_time": "2021-07-05T21:48:15.964Z"
   },
   {
    "duration": 25,
    "start_time": "2021-07-05T21:48:16.874Z"
   },
   {
    "duration": 57,
    "start_time": "2021-07-05T21:48:16.902Z"
   },
   {
    "duration": 40,
    "start_time": "2021-07-05T21:48:16.961Z"
   },
   {
    "duration": 743,
    "start_time": "2021-07-05T21:48:17.003Z"
   },
   {
    "duration": 9,
    "start_time": "2021-07-05T21:48:17.749Z"
   },
   {
    "duration": 24,
    "start_time": "2021-07-05T21:48:17.761Z"
   },
   {
    "duration": 808,
    "start_time": "2021-07-05T21:48:17.788Z"
   },
   {
    "duration": 118,
    "start_time": "2021-07-05T21:48:18.600Z"
   },
   {
    "duration": 4,
    "start_time": "2021-07-05T21:48:18.721Z"
   },
   {
    "duration": 21,
    "start_time": "2021-07-05T21:48:18.787Z"
   },
   {
    "duration": 570,
    "start_time": "2021-07-05T21:48:18.811Z"
   },
   {
    "duration": 3,
    "start_time": "2021-07-05T21:48:19.386Z"
   },
   {
    "duration": 17,
    "start_time": "2021-07-05T21:48:19.391Z"
   },
   {
    "duration": 6885,
    "start_time": "2021-07-05T21:48:19.411Z"
   },
   {
    "duration": 3,
    "start_time": "2021-07-05T21:48:26.298Z"
   },
   {
    "duration": 6,
    "start_time": "2021-07-05T21:48:26.304Z"
   },
   {
    "duration": 573,
    "start_time": "2021-07-05T21:48:26.312Z"
   },
   {
    "duration": 3,
    "start_time": "2021-07-05T21:48:26.887Z"
   },
   {
    "duration": 8,
    "start_time": "2021-07-05T21:48:26.893Z"
   },
   {
    "duration": 203782,
    "start_time": "2021-07-05T21:48:26.904Z"
   },
   {
    "duration": 3,
    "start_time": "2021-07-05T21:51:50.689Z"
   },
   {
    "duration": 13,
    "start_time": "2021-07-05T21:51:50.694Z"
   },
   {
    "duration": 139101,
    "start_time": "2021-07-05T21:51:50.710Z"
   },
   {
    "duration": 11,
    "start_time": "2021-07-05T21:54:09.813Z"
   },
   {
    "duration": 18,
    "start_time": "2021-07-05T21:54:09.827Z"
   },
   {
    "duration": 22,
    "start_time": "2021-07-05T21:54:09.848Z"
   },
   {
    "duration": 5152,
    "start_time": "2021-07-05T21:54:09.873Z"
   },
   {
    "duration": 1088,
    "start_time": "2021-07-06T20:34:25.190Z"
   },
   {
    "duration": 690,
    "start_time": "2021-07-06T20:34:28.120Z"
   },
   {
    "duration": 108,
    "start_time": "2021-07-06T20:34:29.754Z"
   },
   {
    "duration": 90,
    "start_time": "2021-07-06T20:34:30.906Z"
   },
   {
    "duration": 431,
    "start_time": "2021-07-06T20:34:32.983Z"
   },
   {
    "duration": 104,
    "start_time": "2021-07-06T20:34:34.216Z"
   },
   {
    "duration": 154,
    "start_time": "2021-07-06T20:34:35.367Z"
   },
   {
    "duration": 422,
    "start_time": "2021-07-06T20:34:37.088Z"
   },
   {
    "duration": 9,
    "start_time": "2021-07-06T20:34:38.272Z"
   },
   {
    "duration": 5,
    "start_time": "2021-07-06T20:34:39.118Z"
   },
   {
    "duration": 203,
    "start_time": "2021-07-06T20:34:39.853Z"
   },
   {
    "duration": 205,
    "start_time": "2021-07-06T20:34:40.666Z"
   },
   {
    "duration": 519,
    "start_time": "2021-07-06T20:34:41.644Z"
   },
   {
    "duration": 8,
    "start_time": "2021-07-06T20:34:43.245Z"
   },
   {
    "duration": 29,
    "start_time": "2021-07-06T20:34:44.542Z"
   },
   {
    "duration": 94,
    "start_time": "2021-07-06T20:34:45.746Z"
   },
   {
    "duration": 241,
    "start_time": "2021-07-06T20:34:47.097Z"
   },
   {
    "duration": 29,
    "start_time": "2021-07-06T20:34:48.471Z"
   },
   {
    "duration": 137,
    "start_time": "2021-07-06T20:34:49.657Z"
   },
   {
    "duration": 149,
    "start_time": "2021-07-06T20:34:50.941Z"
   },
   {
    "duration": 458,
    "start_time": "2021-07-06T20:34:53.824Z"
   },
   {
    "duration": 976,
    "start_time": "2021-07-06T20:34:55.135Z"
   },
   {
    "duration": 39,
    "start_time": "2021-07-06T20:34:56.147Z"
   },
   {
    "duration": 38,
    "start_time": "2021-07-06T20:34:56.871Z"
   },
   {
    "duration": 612,
    "start_time": "2021-07-06T20:34:58.354Z"
   },
   {
    "duration": 14,
    "start_time": "2021-07-06T20:34:59.550Z"
   },
   {
    "duration": 55,
    "start_time": "2021-07-06T20:35:00.466Z"
   },
   {
    "duration": 15,
    "start_time": "2021-07-06T20:35:01.525Z"
   },
   {
    "duration": 314,
    "start_time": "2021-07-06T20:35:03.362Z"
   },
   {
    "duration": 4,
    "start_time": "2021-07-06T20:35:12.301Z"
   },
   {
    "duration": 3,
    "start_time": "2021-07-06T20:35:14.999Z"
   },
   {
    "duration": 38,
    "start_time": "2021-07-06T20:37:30.548Z"
   },
   {
    "duration": 4,
    "start_time": "2021-07-06T20:40:20.358Z"
   },
   {
    "duration": 849,
    "start_time": "2021-07-06T20:40:26.215Z"
   },
   {
    "duration": 106,
    "start_time": "2021-07-06T20:40:28.188Z"
   },
   {
    "duration": 83,
    "start_time": "2021-07-06T20:40:29.763Z"
   },
   {
    "duration": 437,
    "start_time": "2021-07-06T20:40:32.087Z"
   },
   {
    "duration": 106,
    "start_time": "2021-07-06T20:40:33.318Z"
   },
   {
    "duration": 155,
    "start_time": "2021-07-06T20:40:34.293Z"
   },
   {
    "duration": 412,
    "start_time": "2021-07-06T20:40:35.755Z"
   },
   {
    "duration": 11,
    "start_time": "2021-07-06T20:40:37.007Z"
   },
   {
    "duration": 6,
    "start_time": "2021-07-06T20:40:38.036Z"
   },
   {
    "duration": 340,
    "start_time": "2021-07-06T20:40:39.099Z"
   },
   {
    "duration": 331,
    "start_time": "2021-07-06T20:40:40.800Z"
   },
   {
    "duration": 559,
    "start_time": "2021-07-06T20:40:41.719Z"
   },
   {
    "duration": 8,
    "start_time": "2021-07-06T20:40:42.785Z"
   },
   {
    "duration": 32,
    "start_time": "2021-07-06T20:40:43.910Z"
   },
   {
    "duration": 95,
    "start_time": "2021-07-06T20:40:45.210Z"
   },
   {
    "duration": 349,
    "start_time": "2021-07-06T20:40:46.401Z"
   },
   {
    "duration": 28,
    "start_time": "2021-07-06T20:40:48.080Z"
   },
   {
    "duration": 140,
    "start_time": "2021-07-06T20:40:48.993Z"
   },
   {
    "duration": 145,
    "start_time": "2021-07-06T20:40:49.799Z"
   },
   {
    "duration": 573,
    "start_time": "2021-07-06T20:40:58.279Z"
   },
   {
    "duration": 14,
    "start_time": "2021-07-06T20:41:00.015Z"
   },
   {
    "duration": 51,
    "start_time": "2021-07-06T20:41:01.510Z"
   },
   {
    "duration": 12,
    "start_time": "2021-07-06T20:41:03.374Z"
   },
   {
    "duration": 484,
    "start_time": "2021-07-06T20:41:05.857Z"
   },
   {
    "duration": 4,
    "start_time": "2021-07-06T20:41:18.028Z"
   },
   {
    "duration": 3,
    "start_time": "2021-07-06T20:41:21.625Z"
   },
   {
    "duration": 24,
    "start_time": "2021-07-06T20:42:33.965Z"
   },
   {
    "duration": 16931,
    "start_time": "2021-07-06T20:42:43.962Z"
   },
   {
    "duration": 11,
    "start_time": "2021-07-06T20:45:38.920Z"
   },
   {
    "duration": 9,
    "start_time": "2021-07-06T20:45:57.576Z"
   },
   {
    "duration": 3386,
    "start_time": "2021-07-06T20:46:34.264Z"
   },
   {
    "duration": 430,
    "start_time": "2021-07-06T20:48:13.497Z"
   },
   {
    "duration": 13,
    "start_time": "2021-07-06T20:48:15.349Z"
   },
   {
    "duration": 43,
    "start_time": "2021-07-06T20:48:16.351Z"
   },
   {
    "duration": 12,
    "start_time": "2021-07-06T20:48:17.479Z"
   },
   {
    "duration": 296,
    "start_time": "2021-07-06T20:48:19.374Z"
   },
   {
    "duration": 4,
    "start_time": "2021-07-06T20:48:35.159Z"
   },
   {
    "duration": 3,
    "start_time": "2021-07-06T20:48:37.327Z"
   },
   {
    "duration": 40,
    "start_time": "2021-07-06T20:48:52.641Z"
   },
   {
    "duration": 11,
    "start_time": "2021-07-06T20:49:26.660Z"
   },
   {
    "duration": 17160,
    "start_time": "2021-07-06T20:49:27.431Z"
   },
   {
    "duration": 445,
    "start_time": "2021-07-06T20:50:15.674Z"
   },
   {
    "duration": 13,
    "start_time": "2021-07-06T20:50:17.019Z"
   },
   {
    "duration": 42,
    "start_time": "2021-07-06T20:50:17.964Z"
   },
   {
    "duration": 12,
    "start_time": "2021-07-06T20:50:18.788Z"
   },
   {
    "duration": 289,
    "start_time": "2021-07-06T20:50:20.652Z"
   },
   {
    "duration": 4,
    "start_time": "2021-07-06T20:50:27.380Z"
   },
   {
    "duration": 2,
    "start_time": "2021-07-06T20:50:28.498Z"
   },
   {
    "duration": 38,
    "start_time": "2021-07-06T20:50:38.200Z"
   },
   {
    "duration": 16211,
    "start_time": "2021-07-06T20:50:39.284Z"
   },
   {
    "duration": 462,
    "start_time": "2021-07-06T21:00:55.303Z"
   },
   {
    "duration": 5648,
    "start_time": "2021-07-06T21:01:31.669Z"
   },
   {
    "duration": 73,
    "start_time": "2021-07-06T21:01:48.257Z"
   },
   {
    "duration": 671,
    "start_time": "2021-07-06T21:06:16.568Z"
   },
   {
    "duration": 482,
    "start_time": "2021-07-06T21:08:28.001Z"
   },
   {
    "duration": 478,
    "start_time": "2021-07-06T21:08:35.100Z"
   },
   {
    "duration": 6245,
    "start_time": "2021-07-06T21:27:54.464Z"
   },
   {
    "duration": 1601,
    "start_time": "2021-07-07T12:23:26.140Z"
   },
   {
    "duration": 1172,
    "start_time": "2021-07-07T12:23:30.007Z"
   },
   {
    "duration": 163,
    "start_time": "2021-07-07T12:23:31.933Z"
   },
   {
    "duration": 124,
    "start_time": "2021-07-07T12:23:33.557Z"
   },
   {
    "duration": 848,
    "start_time": "2021-07-07T12:23:36.709Z"
   },
   {
    "duration": 157,
    "start_time": "2021-07-07T12:23:38.131Z"
   },
   {
    "duration": 213,
    "start_time": "2021-07-07T12:23:39.378Z"
   },
   {
    "duration": 967,
    "start_time": "2021-07-07T12:23:41.871Z"
   },
   {
    "duration": 11,
    "start_time": "2021-07-07T12:23:43.759Z"
   },
   {
    "duration": 7,
    "start_time": "2021-07-07T12:23:45.488Z"
   },
   {
    "duration": 438,
    "start_time": "2021-07-07T12:23:47.166Z"
   },
   {
    "duration": 313,
    "start_time": "2021-07-07T12:23:48.859Z"
   },
   {
    "duration": 919,
    "start_time": "2021-07-07T12:23:50.541Z"
   },
   {
    "duration": 11,
    "start_time": "2021-07-07T12:23:53.494Z"
   },
   {
    "duration": 47,
    "start_time": "2021-07-07T12:23:55.062Z"
   },
   {
    "duration": 150,
    "start_time": "2021-07-07T12:23:55.964Z"
   },
   {
    "duration": 477,
    "start_time": "2021-07-07T12:23:57.401Z"
   },
   {
    "duration": 49,
    "start_time": "2021-07-07T12:23:58.531Z"
   },
   {
    "duration": 241,
    "start_time": "2021-07-07T12:23:59.510Z"
   },
   {
    "duration": 360,
    "start_time": "2021-07-07T12:24:00.580Z"
   },
   {
    "duration": 661,
    "start_time": "2021-07-07T12:24:07.273Z"
   },
   {
    "duration": 1496,
    "start_time": "2021-07-07T12:24:09.057Z"
   },
   {
    "duration": 66,
    "start_time": "2021-07-07T12:24:12.758Z"
   },
   {
    "duration": 67,
    "start_time": "2021-07-07T12:24:14.321Z"
   },
   {
    "duration": 834,
    "start_time": "2021-07-07T12:24:17.840Z"
   },
   {
    "duration": 23,
    "start_time": "2021-07-07T12:24:21.712Z"
   },
   {
    "duration": 58,
    "start_time": "2021-07-07T12:24:23.381Z"
   },
   {
    "duration": 19,
    "start_time": "2021-07-07T12:24:24.789Z"
   },
   {
    "duration": 450,
    "start_time": "2021-07-07T12:24:29.322Z"
   },
   {
    "duration": 7,
    "start_time": "2021-07-07T12:24:34.986Z"
   },
   {
    "duration": 4,
    "start_time": "2021-07-07T12:24:37.158Z"
   },
   {
    "duration": 6,
    "start_time": "2021-07-07T12:53:33.591Z"
   },
   {
    "duration": 430,
    "start_time": "2021-07-07T12:54:03.038Z"
   },
   {
    "duration": 336,
    "start_time": "2021-07-07T12:54:13.628Z"
   },
   {
    "duration": 275,
    "start_time": "2021-07-07T12:55:59.640Z"
   },
   {
    "duration": 269,
    "start_time": "2021-07-07T12:56:09.261Z"
   },
   {
    "duration": 575,
    "start_time": "2021-07-07T12:56:22.228Z"
   },
   {
    "duration": 5,
    "start_time": "2021-07-07T12:56:30.260Z"
   },
   {
    "duration": 327,
    "start_time": "2021-07-07T12:56:47.587Z"
   },
   {
    "duration": 317,
    "start_time": "2021-07-07T12:57:11.815Z"
   },
   {
    "duration": 275,
    "start_time": "2021-07-07T12:57:23.497Z"
   },
   {
    "duration": 21,
    "start_time": "2021-07-07T12:58:34.317Z"
   },
   {
    "duration": 281,
    "start_time": "2021-07-07T12:59:39.687Z"
   },
   {
    "duration": 1523,
    "start_time": "2021-07-07T16:48:36.182Z"
   },
   {
    "duration": 1131,
    "start_time": "2021-07-07T16:48:37.930Z"
   },
   {
    "duration": 166,
    "start_time": "2021-07-07T16:48:39.063Z"
   },
   {
    "duration": 125,
    "start_time": "2021-07-07T16:48:39.897Z"
   },
   {
    "duration": 781,
    "start_time": "2021-07-07T16:48:41.608Z"
   },
   {
    "duration": 155,
    "start_time": "2021-07-07T16:48:42.770Z"
   },
   {
    "duration": 256,
    "start_time": "2021-07-07T16:48:43.959Z"
   },
   {
    "duration": 775,
    "start_time": "2021-07-07T16:48:46.125Z"
   },
   {
    "duration": 11,
    "start_time": "2021-07-07T16:48:48.370Z"
   },
   {
    "duration": 6,
    "start_time": "2021-07-07T16:48:49.975Z"
   },
   {
    "duration": 396,
    "start_time": "2021-07-07T16:48:51.571Z"
   },
   {
    "duration": 316,
    "start_time": "2021-07-07T16:48:53.433Z"
   },
   {
    "duration": 959,
    "start_time": "2021-07-07T16:48:55.002Z"
   },
   {
    "duration": 10,
    "start_time": "2021-07-07T16:48:57.269Z"
   },
   {
    "duration": 59,
    "start_time": "2021-07-07T16:48:58.427Z"
   },
   {
    "duration": 188,
    "start_time": "2021-07-07T16:48:59.649Z"
   },
   {
    "duration": 484,
    "start_time": "2021-07-07T16:49:01.372Z"
   },
   {
    "duration": 46,
    "start_time": "2021-07-07T16:49:02.825Z"
   },
   {
    "duration": 256,
    "start_time": "2021-07-07T16:49:04.349Z"
   },
   {
    "duration": 279,
    "start_time": "2021-07-07T16:49:05.567Z"
   },
   {
    "duration": 923,
    "start_time": "2021-07-07T16:49:22.076Z"
   },
   {
    "duration": 24,
    "start_time": "2021-07-07T16:49:23.747Z"
   },
   {
    "duration": 57,
    "start_time": "2021-07-07T16:49:24.675Z"
   },
   {
    "duration": 19,
    "start_time": "2021-07-07T16:49:25.595Z"
   },
   {
    "duration": 484,
    "start_time": "2021-07-07T16:49:27.215Z"
   },
   {
    "duration": 8,
    "start_time": "2021-07-07T16:49:33.630Z"
   },
   {
    "duration": 3,
    "start_time": "2021-07-07T16:49:34.873Z"
   },
   {
    "duration": 449308,
    "start_time": "2021-07-07T16:52:02.174Z"
   },
   {
    "duration": 712,
    "start_time": "2021-07-07T17:10:39.122Z"
   },
   {
    "duration": 826,
    "start_time": "2021-07-07T17:11:49.384Z"
   },
   {
    "duration": 1488207,
    "start_time": "2021-07-07T17:17:59.939Z"
   },
   {
    "duration": 1062,
    "start_time": "2021-07-07T18:00:57.029Z"
   },
   {
    "duration": 166,
    "start_time": "2021-07-07T18:00:58.360Z"
   },
   {
    "duration": 109,
    "start_time": "2021-07-07T18:00:59.281Z"
   },
   {
    "duration": 786,
    "start_time": "2021-07-07T18:01:00.369Z"
   },
   {
    "duration": 163,
    "start_time": "2021-07-07T18:01:01.158Z"
   },
   {
    "duration": 243,
    "start_time": "2021-07-07T18:01:01.325Z"
   },
   {
    "duration": 783,
    "start_time": "2021-07-07T18:01:02.245Z"
   },
   {
    "duration": 12,
    "start_time": "2021-07-07T18:01:03.031Z"
   },
   {
    "duration": 7,
    "start_time": "2021-07-07T18:01:03.318Z"
   },
   {
    "duration": 393,
    "start_time": "2021-07-07T18:01:03.876Z"
   },
   {
    "duration": 330,
    "start_time": "2021-07-07T18:01:04.405Z"
   },
   {
    "duration": 1216,
    "start_time": "2021-07-07T18:01:05.124Z"
   },
   {
    "duration": 11,
    "start_time": "2021-07-07T18:01:06.344Z"
   },
   {
    "duration": 62,
    "start_time": "2021-07-07T18:01:08.110Z"
   },
   {
    "duration": 149,
    "start_time": "2021-07-07T18:01:09.241Z"
   },
   {
    "duration": 469,
    "start_time": "2021-07-07T18:01:10.586Z"
   },
   {
    "duration": 44,
    "start_time": "2021-07-07T18:01:11.860Z"
   },
   {
    "duration": 242,
    "start_time": "2021-07-07T18:01:13.025Z"
   },
   {
    "duration": 383,
    "start_time": "2021-07-07T18:01:15.114Z"
   },
   {
    "duration": 104,
    "start_time": "2021-07-07T18:01:29.541Z"
   },
   {
    "duration": 27,
    "start_time": "2021-07-07T18:01:30.692Z"
   },
   {
    "duration": 409,
    "start_time": "2021-07-07T18:01:32.728Z"
   },
   {
    "duration": 882,
    "start_time": "2021-07-07T18:01:57.291Z"
   },
   {
    "duration": 24,
    "start_time": "2021-07-07T18:01:59.498Z"
   },
   {
    "duration": 61,
    "start_time": "2021-07-07T18:02:00.611Z"
   },
   {
    "duration": 140,
    "start_time": "2021-07-07T18:02:01.477Z"
   },
   {
    "duration": 468,
    "start_time": "2021-07-07T18:02:03.422Z"
   },
   {
    "duration": 7,
    "start_time": "2021-07-07T18:02:12.938Z"
   },
   {
    "duration": 4,
    "start_time": "2021-07-07T18:02:14.285Z"
   },
   {
    "duration": 57,
    "start_time": "2021-07-07T18:02:51.141Z"
   },
   {
    "duration": 492462,
    "start_time": "2021-07-07T18:03:06.914Z"
   },
   {
    "duration": 7,
    "start_time": "2021-07-07T18:12:11.257Z"
   },
   {
    "duration": 304,
    "start_time": "2021-07-07T18:12:14.136Z"
   },
   {
    "duration": 50,
    "start_time": "2021-07-07T18:12:32.125Z"
   },
   {
    "duration": 427,
    "start_time": "2021-07-07T18:12:39.699Z"
   },
   {
    "duration": 6589,
    "start_time": "2021-07-07T18:12:46.316Z"
   },
   {
    "duration": 461,
    "start_time": "2021-07-07T18:12:58.810Z"
   },
   {
    "duration": 47,
    "start_time": "2021-07-07T18:13:05.540Z"
   },
   {
    "duration": 7807,
    "start_time": "2021-07-07T18:13:15.281Z"
   },
   {
    "duration": 48,
    "start_time": "2021-07-07T18:13:32.131Z"
   },
   {
    "duration": 140832,
    "start_time": "2021-07-07T18:13:55.248Z"
   },
   {
    "duration": 480641,
    "start_time": "2021-07-07T18:16:57.909Z"
   },
   {
    "duration": 10,
    "start_time": "2021-07-07T18:25:12.699Z"
   },
   {
    "duration": 7,
    "start_time": "2021-07-07T18:25:19.884Z"
   },
   {
    "duration": 4,
    "start_time": "2021-07-07T18:25:21.941Z"
   },
   {
    "duration": 1898,
    "start_time": "2021-07-07T18:25:23.768Z"
   },
   {
    "duration": 66,
    "start_time": "2021-07-07T18:32:10.769Z"
   },
   {
    "duration": 46,
    "start_time": "2021-07-07T18:32:27.556Z"
   },
   {
    "duration": 48,
    "start_time": "2021-07-07T18:32:51.639Z"
   },
   {
    "duration": 113,
    "start_time": "2021-07-07T18:36:09.568Z"
   },
   {
    "duration": 9,
    "start_time": "2021-07-07T18:36:19.794Z"
   },
   {
    "duration": 105,
    "start_time": "2021-07-07T18:36:54.249Z"
   },
   {
    "duration": 1993,
    "start_time": "2021-07-07T18:37:15.478Z"
   },
   {
    "duration": 50,
    "start_time": "2021-07-07T18:39:01.905Z"
   },
   {
    "duration": 482387,
    "start_time": "2021-07-07T18:39:16.192Z"
   },
   {
    "duration": 4,
    "start_time": "2021-07-07T18:48:59.925Z"
   },
   {
    "duration": 1930,
    "start_time": "2021-07-07T18:49:00.925Z"
   },
   {
    "duration": 52,
    "start_time": "2021-07-07T18:49:29.718Z"
   },
   {
    "duration": 8260,
    "start_time": "2021-07-07T18:49:42.572Z"
   },
   {
    "duration": 9312,
    "start_time": "2021-07-07T18:50:34.670Z"
   },
   {
    "duration": 52,
    "start_time": "2021-07-07T19:10:04.045Z"
   },
   {
    "duration": 10975,
    "start_time": "2021-07-07T19:10:37.549Z"
   },
   {
    "duration": 1585,
    "start_time": "2021-07-07T19:18:05.622Z"
   },
   {
    "duration": 1155,
    "start_time": "2021-07-07T19:18:07.210Z"
   },
   {
    "duration": 165,
    "start_time": "2021-07-07T19:18:08.368Z"
   },
   {
    "duration": 135,
    "start_time": "2021-07-07T19:18:08.536Z"
   },
   {
    "duration": 838,
    "start_time": "2021-07-07T19:18:08.674Z"
   },
   {
    "duration": 174,
    "start_time": "2021-07-07T19:18:09.515Z"
   },
   {
    "duration": 235,
    "start_time": "2021-07-07T19:18:09.691Z"
   },
   {
    "duration": 835,
    "start_time": "2021-07-07T19:18:09.930Z"
   },
   {
    "duration": 19,
    "start_time": "2021-07-07T19:18:10.768Z"
   },
   {
    "duration": 6,
    "start_time": "2021-07-07T19:18:10.790Z"
   },
   {
    "duration": 416,
    "start_time": "2021-07-07T19:18:10.799Z"
   },
   {
    "duration": 340,
    "start_time": "2021-07-07T19:18:11.217Z"
   },
   {
    "duration": 982,
    "start_time": "2021-07-07T19:18:11.560Z"
   },
   {
    "duration": 10,
    "start_time": "2021-07-07T19:18:12.544Z"
   },
   {
    "duration": 62,
    "start_time": "2021-07-07T19:18:12.557Z"
   },
   {
    "duration": 166,
    "start_time": "2021-07-07T19:18:12.622Z"
   },
   {
    "duration": 479,
    "start_time": "2021-07-07T19:18:12.790Z"
   },
   {
    "duration": 60,
    "start_time": "2021-07-07T19:18:13.272Z"
   },
   {
    "duration": 270,
    "start_time": "2021-07-07T19:18:13.334Z"
   },
   {
    "duration": 290,
    "start_time": "2021-07-07T19:18:13.607Z"
   },
   {
    "duration": 800,
    "start_time": "2021-07-07T19:18:13.899Z"
   },
   {
    "duration": 1691,
    "start_time": "2021-07-07T19:18:14.701Z"
   },
   {
    "duration": 66,
    "start_time": "2021-07-07T19:18:16.398Z"
   },
   {
    "duration": 81,
    "start_time": "2021-07-07T19:18:16.467Z"
   },
   {
    "duration": 945,
    "start_time": "2021-07-07T19:18:16.550Z"
   },
   {
    "duration": 23,
    "start_time": "2021-07-07T19:18:17.497Z"
   },
   {
    "duration": 73,
    "start_time": "2021-07-07T19:18:17.522Z"
   },
   {
    "duration": 18,
    "start_time": "2021-07-07T19:18:17.598Z"
   },
   {
    "duration": 560,
    "start_time": "2021-07-07T19:18:17.618Z"
   },
   {
    "duration": 7,
    "start_time": "2021-07-07T19:18:18.180Z"
   },
   {
    "duration": 7,
    "start_time": "2021-07-07T19:18:18.189Z"
   },
   {
    "duration": 888,
    "start_time": "2021-07-07T19:18:18.198Z"
   },
   {
    "duration": 113,
    "start_time": "2021-07-07T19:18:19.089Z"
   },
   {
    "duration": 3,
    "start_time": "2021-07-07T19:18:19.205Z"
   },
   {
    "duration": 96,
    "start_time": "2021-07-07T19:18:19.210Z"
   },
   {
    "duration": 509,
    "start_time": "2021-07-07T19:18:19.309Z"
   },
   {
    "duration": 3,
    "start_time": "2021-07-07T19:18:19.821Z"
   },
   {
    "duration": 14,
    "start_time": "2021-07-07T19:18:19.827Z"
   },
   {
    "duration": 6870,
    "start_time": "2021-07-07T19:18:19.844Z"
   },
   {
    "duration": 4,
    "start_time": "2021-07-07T19:18:26.717Z"
   },
   {
    "duration": 22,
    "start_time": "2021-07-07T19:18:26.723Z"
   },
   {
    "duration": 531,
    "start_time": "2021-07-07T19:18:26.747Z"
   },
   {
    "duration": 50,
    "start_time": "2021-07-07T19:18:27.281Z"
   },
   {
    "duration": 37864,
    "start_time": "2021-07-07T19:18:27.334Z"
   },
   {
    "duration": 115088,
    "start_time": "2021-07-07T19:19:05.200Z"
   },
   {
    "duration": 7600,
    "start_time": "2021-07-07T19:21:00.291Z"
   },
   {
    "duration": 104,
    "start_time": "2021-07-07T19:21:07.894Z"
   },
   {
    "duration": 1508343,
    "start_time": "2021-07-07T19:21:08.000Z"
   },
   {
    "duration": 7,
    "start_time": "2021-07-07T19:46:16.346Z"
   },
   {
    "duration": 7004,
    "start_time": "2021-07-07T19:46:16.355Z"
   },
   {
    "duration": 612,
    "start_time": "2021-07-07T19:46:22.749Z"
   },
   {
    "duration": 611,
    "start_time": "2021-07-07T19:46:22.752Z"
   },
   {
    "duration": 608,
    "start_time": "2021-07-07T19:46:22.756Z"
   },
   {
    "duration": 607,
    "start_time": "2021-07-07T19:46:22.759Z"
   },
   {
    "duration": 605,
    "start_time": "2021-07-07T19:46:22.762Z"
   },
   {
    "duration": 602,
    "start_time": "2021-07-07T19:46:22.766Z"
   },
   {
    "duration": 601,
    "start_time": "2021-07-07T19:46:22.769Z"
   },
   {
    "duration": 599,
    "start_time": "2021-07-07T19:46:22.772Z"
   },
   {
    "duration": 493019,
    "start_time": "2021-07-07T19:51:00.322Z"
   },
   {
    "duration": 3,
    "start_time": "2021-07-07T19:59:27.290Z"
   },
   {
    "duration": 485806,
    "start_time": "2021-07-07T19:59:28.948Z"
   },
   {
    "duration": 40,
    "start_time": "2021-07-07T20:07:44.668Z"
   },
   {
    "duration": 11,
    "start_time": "2021-07-07T20:07:47.277Z"
   },
   {
    "duration": 6,
    "start_time": "2021-07-07T20:07:50.091Z"
   },
   {
    "duration": 9,
    "start_time": "2021-07-07T20:07:51.639Z"
   },
   {
    "duration": 5,
    "start_time": "2021-07-07T20:07:55.269Z"
   },
   {
    "duration": 11624,
    "start_time": "2021-07-07T20:07:56.482Z"
   },
   {
    "duration": 104758,
    "start_time": "2021-07-07T20:13:21.535Z"
   },
   {
    "duration": 5,
    "start_time": "2021-07-07T20:19:23.456Z"
   },
   {
    "duration": 11491,
    "start_time": "2021-07-07T20:19:24.505Z"
   },
   {
    "duration": 1540,
    "start_time": "2021-07-07T20:20:55.441Z"
   },
   {
    "duration": 1101,
    "start_time": "2021-07-07T20:20:56.986Z"
   },
   {
    "duration": 166,
    "start_time": "2021-07-07T20:20:58.090Z"
   },
   {
    "duration": 138,
    "start_time": "2021-07-07T20:20:58.259Z"
   },
   {
    "duration": 820,
    "start_time": "2021-07-07T20:20:58.400Z"
   },
   {
    "duration": 169,
    "start_time": "2021-07-07T20:20:59.223Z"
   },
   {
    "duration": 246,
    "start_time": "2021-07-07T20:20:59.395Z"
   },
   {
    "duration": 897,
    "start_time": "2021-07-07T20:20:59.644Z"
   },
   {
    "duration": 12,
    "start_time": "2021-07-07T20:21:00.546Z"
   },
   {
    "duration": 23,
    "start_time": "2021-07-07T20:21:00.563Z"
   },
   {
    "duration": 392,
    "start_time": "2021-07-07T20:21:00.588Z"
   },
   {
    "duration": 369,
    "start_time": "2021-07-07T20:21:00.986Z"
   },
   {
    "duration": 956,
    "start_time": "2021-07-07T20:21:01.358Z"
   },
   {
    "duration": 12,
    "start_time": "2021-07-07T20:21:02.317Z"
   },
   {
    "duration": 73,
    "start_time": "2021-07-07T20:21:02.332Z"
   },
   {
    "duration": 162,
    "start_time": "2021-07-07T20:21:02.408Z"
   },
   {
    "duration": 508,
    "start_time": "2021-07-07T20:21:02.573Z"
   },
   {
    "duration": 51,
    "start_time": "2021-07-07T20:21:03.086Z"
   },
   {
    "duration": 278,
    "start_time": "2021-07-07T20:21:03.139Z"
   },
   {
    "duration": 284,
    "start_time": "2021-07-07T20:21:03.420Z"
   },
   {
    "duration": 862,
    "start_time": "2021-07-07T20:21:03.707Z"
   },
   {
    "duration": 1556,
    "start_time": "2021-07-07T20:21:04.572Z"
   },
   {
    "duration": 81,
    "start_time": "2021-07-07T20:21:06.131Z"
   },
   {
    "duration": 76,
    "start_time": "2021-07-07T20:21:06.215Z"
   },
   {
    "duration": 936,
    "start_time": "2021-07-07T20:21:06.294Z"
   },
   {
    "duration": 24,
    "start_time": "2021-07-07T20:21:07.232Z"
   },
   {
    "duration": 75,
    "start_time": "2021-07-07T20:21:07.262Z"
   },
   {
    "duration": 19,
    "start_time": "2021-07-07T20:21:07.341Z"
   },
   {
    "duration": 512,
    "start_time": "2021-07-07T20:21:07.363Z"
   },
   {
    "duration": 11,
    "start_time": "2021-07-07T20:21:07.878Z"
   },
   {
    "duration": 5,
    "start_time": "2021-07-07T20:21:07.892Z"
   },
   {
    "duration": 819,
    "start_time": "2021-07-07T20:21:07.900Z"
   },
   {
    "duration": 171,
    "start_time": "2021-07-07T20:21:08.722Z"
   },
   {
    "duration": 3,
    "start_time": "2021-07-07T20:21:08.896Z"
   },
   {
    "duration": 11,
    "start_time": "2021-07-07T20:21:08.901Z"
   },
   {
    "duration": 560,
    "start_time": "2021-07-07T20:21:08.986Z"
   },
   {
    "duration": 3,
    "start_time": "2021-07-07T20:21:09.548Z"
   },
   {
    "duration": 7,
    "start_time": "2021-07-07T20:21:09.553Z"
   },
   {
    "duration": 6995,
    "start_time": "2021-07-07T20:21:09.562Z"
   },
   {
    "duration": 3,
    "start_time": "2021-07-07T20:21:16.559Z"
   },
   {
    "duration": 20,
    "start_time": "2021-07-07T20:21:16.565Z"
   },
   {
    "duration": 538,
    "start_time": "2021-07-07T20:21:16.588Z"
   },
   {
    "duration": 69,
    "start_time": "2021-07-07T20:21:17.129Z"
   },
   {
    "duration": 3,
    "start_time": "2021-07-07T20:21:17.201Z"
   },
   {
    "duration": 6,
    "start_time": "2021-07-07T20:21:17.207Z"
   },
   {
    "duration": 8978,
    "start_time": "2021-07-07T20:21:17.215Z"
   },
   {
    "duration": 113,
    "start_time": "2021-07-07T20:21:26.196Z"
   },
   {
    "duration": 4,
    "start_time": "2021-07-07T20:21:26.312Z"
   },
   {
    "duration": 11,
    "start_time": "2021-07-07T20:21:26.319Z"
   },
   {
    "duration": 492761,
    "start_time": "2021-07-07T20:21:26.332Z"
   },
   {
    "duration": 41,
    "start_time": "2021-07-07T20:29:39.096Z"
   },
   {
    "duration": 10,
    "start_time": "2021-07-07T20:29:39.140Z"
   },
   {
    "duration": 32,
    "start_time": "2021-07-07T20:29:39.153Z"
   },
   {
    "duration": 9,
    "start_time": "2021-07-07T20:29:39.188Z"
   },
   {
    "duration": 13,
    "start_time": "2021-07-07T20:29:39.199Z"
   },
   {
    "duration": 11091,
    "start_time": "2021-07-07T20:29:39.214Z"
   },
   {
    "duration": 3,
    "start_time": "2021-07-07T20:43:26.814Z"
   },
   {
    "duration": 3,
    "start_time": "2021-07-07T20:43:28.082Z"
   },
   {
    "duration": 328090,
    "start_time": "2021-07-07T20:52:15.906Z"
   },
   {
    "duration": 1597,
    "start_time": "2021-07-07T22:26:17.909Z"
   },
   {
    "duration": 1170,
    "start_time": "2021-07-07T22:26:19.509Z"
   },
   {
    "duration": 171,
    "start_time": "2021-07-07T22:26:20.687Z"
   },
   {
    "duration": 138,
    "start_time": "2021-07-07T22:26:20.861Z"
   },
   {
    "duration": 816,
    "start_time": "2021-07-07T22:26:21.003Z"
   },
   {
    "duration": 176,
    "start_time": "2021-07-07T22:26:21.822Z"
   },
   {
    "duration": 241,
    "start_time": "2021-07-07T22:26:22.000Z"
   },
   {
    "duration": 905,
    "start_time": "2021-07-07T22:26:22.245Z"
   },
   {
    "duration": 12,
    "start_time": "2021-07-07T22:26:23.153Z"
   },
   {
    "duration": 7,
    "start_time": "2021-07-07T22:26:23.185Z"
   },
   {
    "duration": 386,
    "start_time": "2021-07-07T22:26:23.195Z"
   },
   {
    "duration": 347,
    "start_time": "2021-07-07T22:26:23.583Z"
   },
   {
    "duration": 897,
    "start_time": "2021-07-07T22:26:23.932Z"
   },
   {
    "duration": 11,
    "start_time": "2021-07-07T22:26:24.831Z"
   },
   {
    "duration": 68,
    "start_time": "2021-07-07T22:26:24.845Z"
   },
   {
    "duration": 174,
    "start_time": "2021-07-07T22:26:24.917Z"
   },
   {
    "duration": 474,
    "start_time": "2021-07-07T22:26:25.094Z"
   },
   {
    "duration": 60,
    "start_time": "2021-07-07T22:26:25.571Z"
   },
   {
    "duration": 252,
    "start_time": "2021-07-07T22:26:25.634Z"
   },
   {
    "duration": 257,
    "start_time": "2021-07-07T22:26:25.889Z"
   },
   {
    "duration": 751,
    "start_time": "2021-07-07T22:26:26.149Z"
   },
   {
    "duration": 1494,
    "start_time": "2021-07-07T22:26:26.903Z"
   },
   {
    "duration": 82,
    "start_time": "2021-07-07T22:26:28.403Z"
   },
   {
    "duration": 61,
    "start_time": "2021-07-07T22:26:28.489Z"
   },
   {
    "duration": 923,
    "start_time": "2021-07-07T22:26:28.552Z"
   },
   {
    "duration": 26,
    "start_time": "2021-07-07T22:26:29.478Z"
   },
   {
    "duration": 63,
    "start_time": "2021-07-07T22:26:29.507Z"
   },
   {
    "duration": 28,
    "start_time": "2021-07-07T22:26:29.573Z"
   },
   {
    "duration": 485,
    "start_time": "2021-07-07T22:26:29.603Z"
   },
   {
    "duration": 7,
    "start_time": "2021-07-07T22:26:30.091Z"
   },
   {
    "duration": 11,
    "start_time": "2021-07-07T22:26:30.100Z"
   },
   {
    "duration": 903,
    "start_time": "2021-07-07T22:26:30.114Z"
   },
   {
    "duration": 179,
    "start_time": "2021-07-07T22:26:31.021Z"
   },
   {
    "duration": 3,
    "start_time": "2021-07-07T22:26:31.204Z"
   },
   {
    "duration": 78,
    "start_time": "2021-07-07T22:26:31.210Z"
   },
   {
    "duration": 501,
    "start_time": "2021-07-07T22:26:31.291Z"
   },
   {
    "duration": 4,
    "start_time": "2021-07-07T22:26:31.794Z"
   },
   {
    "duration": 16,
    "start_time": "2021-07-07T22:26:31.800Z"
   },
   {
    "duration": 6540,
    "start_time": "2021-07-07T22:26:31.818Z"
   },
   {
    "duration": 3,
    "start_time": "2021-07-07T22:26:38.360Z"
   },
   {
    "duration": 19,
    "start_time": "2021-07-07T22:26:38.366Z"
   },
   {
    "duration": 486,
    "start_time": "2021-07-07T22:26:38.388Z"
   },
   {
    "duration": 63,
    "start_time": "2021-07-07T22:26:38.877Z"
   },
   {
    "duration": 4,
    "start_time": "2021-07-07T22:26:38.943Z"
   },
   {
    "duration": 15,
    "start_time": "2021-07-07T22:26:38.950Z"
   },
   {
    "duration": 7428,
    "start_time": "2021-07-07T22:26:38.968Z"
   },
   {
    "duration": 127,
    "start_time": "2021-07-07T22:26:46.399Z"
   },
   {
    "duration": 5,
    "start_time": "2021-07-07T22:26:46.528Z"
   },
   {
    "duration": 10,
    "start_time": "2021-07-07T22:26:46.535Z"
   },
   {
    "duration": 477995,
    "start_time": "2021-07-07T22:26:46.547Z"
   },
   {
    "duration": 466,
    "start_time": "2021-07-07T22:34:44.545Z"
   },
   {
    "duration": 563,
    "start_time": "2021-07-07T22:34:44.451Z"
   },
   {
    "duration": 561,
    "start_time": "2021-07-07T22:34:44.454Z"
   },
   {
    "duration": 560,
    "start_time": "2021-07-07T22:34:44.457Z"
   },
   {
    "duration": 559,
    "start_time": "2021-07-07T22:34:44.460Z"
   },
   {
    "duration": 557,
    "start_time": "2021-07-07T22:34:44.463Z"
   },
   {
    "duration": 40,
    "start_time": "2021-07-07T22:54:17.084Z"
   },
   {
    "duration": 10,
    "start_time": "2021-07-07T22:54:20.371Z"
   },
   {
    "duration": 5,
    "start_time": "2021-07-07T22:54:22.036Z"
   },
   {
    "duration": 10,
    "start_time": "2021-07-07T22:54:22.633Z"
   },
   {
    "duration": 4,
    "start_time": "2021-07-07T22:54:26.184Z"
   },
   {
    "duration": 10895,
    "start_time": "2021-07-07T22:54:27.092Z"
   },
   {
    "duration": 1607,
    "start_time": "2021-07-07T22:55:22.645Z"
   },
   {
    "duration": 1211,
    "start_time": "2021-07-07T22:55:24.255Z"
   },
   {
    "duration": 188,
    "start_time": "2021-07-07T22:55:25.469Z"
   },
   {
    "duration": 138,
    "start_time": "2021-07-07T22:55:25.659Z"
   },
   {
    "duration": 843,
    "start_time": "2021-07-07T22:55:25.799Z"
   },
   {
    "duration": 167,
    "start_time": "2021-07-07T22:55:26.645Z"
   },
   {
    "duration": 246,
    "start_time": "2021-07-07T22:55:26.815Z"
   },
   {
    "duration": 852,
    "start_time": "2021-07-07T22:55:27.066Z"
   },
   {
    "duration": 12,
    "start_time": "2021-07-07T22:55:27.921Z"
   },
   {
    "duration": 7,
    "start_time": "2021-07-07T22:55:27.937Z"
   },
   {
    "duration": 434,
    "start_time": "2021-07-07T22:55:27.947Z"
   },
   {
    "duration": 342,
    "start_time": "2021-07-07T22:55:28.386Z"
   },
   {
    "duration": 977,
    "start_time": "2021-07-07T22:55:28.730Z"
   },
   {
    "duration": 13,
    "start_time": "2021-07-07T22:55:29.710Z"
   },
   {
    "duration": 77,
    "start_time": "2021-07-07T22:55:29.726Z"
   },
   {
    "duration": 166,
    "start_time": "2021-07-07T22:55:29.805Z"
   },
   {
    "duration": 492,
    "start_time": "2021-07-07T22:55:29.974Z"
   },
   {
    "duration": 59,
    "start_time": "2021-07-07T22:55:30.469Z"
   },
   {
    "duration": 285,
    "start_time": "2021-07-07T22:55:30.531Z"
   },
   {
    "duration": 301,
    "start_time": "2021-07-07T22:55:30.818Z"
   },
   {
    "duration": 783,
    "start_time": "2021-07-07T22:55:31.122Z"
   },
   {
    "duration": 1649,
    "start_time": "2021-07-07T22:55:31.907Z"
   },
   {
    "duration": 78,
    "start_time": "2021-07-07T22:55:33.562Z"
   },
   {
    "duration": 83,
    "start_time": "2021-07-07T22:55:33.643Z"
   },
   {
    "duration": 944,
    "start_time": "2021-07-07T22:55:33.728Z"
   },
   {
    "duration": 25,
    "start_time": "2021-07-07T22:55:34.674Z"
   },
   {
    "duration": 59,
    "start_time": "2021-07-07T22:55:34.701Z"
   },
   {
    "duration": 38,
    "start_time": "2021-07-07T22:55:34.762Z"
   },
   {
    "duration": 522,
    "start_time": "2021-07-07T22:55:34.803Z"
   },
   {
    "duration": 7,
    "start_time": "2021-07-07T22:55:35.327Z"
   },
   {
    "duration": 15,
    "start_time": "2021-07-07T22:55:35.336Z"
   },
   {
    "duration": 864,
    "start_time": "2021-07-07T22:55:35.353Z"
   },
   {
    "duration": 180,
    "start_time": "2021-07-07T22:55:36.219Z"
   },
   {
    "duration": 3,
    "start_time": "2021-07-07T22:55:36.402Z"
   },
   {
    "duration": 79,
    "start_time": "2021-07-07T22:55:36.408Z"
   },
   {
    "duration": 513,
    "start_time": "2021-07-07T22:55:36.491Z"
   },
   {
    "duration": 4,
    "start_time": "2021-07-07T22:55:37.007Z"
   },
   {
    "duration": 9,
    "start_time": "2021-07-07T22:55:37.014Z"
   },
   {
    "duration": 7128,
    "start_time": "2021-07-07T22:55:37.026Z"
   },
   {
    "duration": 4,
    "start_time": "2021-07-07T22:55:44.157Z"
   },
   {
    "duration": 21,
    "start_time": "2021-07-07T22:55:44.164Z"
   },
   {
    "duration": 549,
    "start_time": "2021-07-07T22:55:44.188Z"
   },
   {
    "duration": 77,
    "start_time": "2021-07-07T22:55:44.740Z"
   },
   {
    "duration": 3,
    "start_time": "2021-07-07T22:55:44.820Z"
   },
   {
    "duration": 10,
    "start_time": "2021-07-07T22:55:44.825Z"
   },
   {
    "duration": 9854,
    "start_time": "2021-07-07T22:55:44.838Z"
   },
   {
    "duration": 114,
    "start_time": "2021-07-07T22:55:54.695Z"
   },
   {
    "duration": 6,
    "start_time": "2021-07-07T22:55:54.811Z"
   },
   {
    "duration": 8,
    "start_time": "2021-07-07T22:55:54.821Z"
   },
   {
    "duration": 477243,
    "start_time": "2021-07-07T22:55:54.832Z"
   },
   {
    "duration": 39,
    "start_time": "2021-07-07T23:03:52.077Z"
   },
   {
    "duration": 10,
    "start_time": "2021-07-07T23:03:52.119Z"
   },
   {
    "duration": 16,
    "start_time": "2021-07-07T23:03:52.132Z"
   },
   {
    "duration": 21,
    "start_time": "2021-07-07T23:03:52.150Z"
   },
   {
    "duration": 26,
    "start_time": "2021-07-07T23:03:52.173Z"
   },
   {
    "duration": 10821,
    "start_time": "2021-07-07T23:03:52.203Z"
   }
  ],
  "colab": {
   "collapsed_sections": [
    "DRB4I0_M2e-y",
    "8g7_gac62e-0",
    "c58UOgeZ2e-2",
    "4KGwZWaX2e-3",
    "Ou35WESd2e-4",
    "rblN-Luu2e-5",
    "UISkuuUh2e-6",
    "IOZFYv5m2e--",
    "Noy_1i-k2e_B",
    "MVSPSo9g2e_D"
   ],
   "name": "car_price.ipynb",
   "provenance": []
  },
  "kernelspec": {
   "display_name": "Python 3",
   "language": "python",
   "name": "python3"
  },
  "language_info": {
   "codemirror_mode": {
    "name": "ipython",
    "version": 3
   },
   "file_extension": ".py",
   "mimetype": "text/x-python",
   "name": "python",
   "nbconvert_exporter": "python",
   "pygments_lexer": "ipython3",
   "version": "3.7.3"
  },
  "toc": {
   "base_numbering": 1,
   "nav_menu": {
    "height": "93px",
    "width": "248px"
   },
   "number_sections": true,
   "sideBar": true,
   "skip_h1_title": true,
   "title_cell": "Table of Contents",
   "title_sidebar": "Contents",
   "toc_cell": false,
   "toc_position": {},
   "toc_section_display": true,
   "toc_window_display": false
  }
 },
 "nbformat": 4,
 "nbformat_minor": 1
}
