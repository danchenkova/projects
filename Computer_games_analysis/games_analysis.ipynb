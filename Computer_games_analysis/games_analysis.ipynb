{
 "cells": [
  {
   "cell_type": "markdown",
   "metadata": {},
   "source": [
    "# Изучение рынка компьютерных игр"
   ]
  },
  {
   "cell_type": "markdown",
   "metadata": {},
   "source": [
    "## Описание проекта"
   ]
  },
  {
   "cell_type": "markdown",
   "metadata": {},
   "source": [
    "Для определения популярных продуктов, оценки их потенциала и планирования рекламных кампаний, интернет-магазину необходимо провести исследование. Анализ проводится на основе исторических данных о продажах игр, оценок пользователей и экспертов, доступных в открытых источниках. В датасете перечислены игры, выходившие до 2016 года. Нужно изучить их, выявить наиболее перспективные направления и определить влияющие на продажи факторы."
   ]
  },
  {
   "cell_type": "markdown",
   "metadata": {},
   "source": [
    "**Цель проекта**\n",
    "\n",
    "Выявить факторы, определяющие успешность игры и, возможно, способствующие высоким продажам.\n",
    "\n",
    "**Задачи**\n",
    "\n",
    "1. Изучить исходный датасет на предмет корректного типа данных, отсутствующих значений, наличия дубликатов и прочих несоответствий.\n",
    "2. Обработать данные там, где это необходимо, и рассчитать нужные для дальнейшего анализа параметры.\n",
    "3. Изучить общую статистику по продажам игр в разрезах по годам, платформам и жанрам.\n",
    "4. Рассмотреть, как меняется портрет пользователя в зависимости от региона.\n",
    "5. Сформулировать гипотезы о пользовательских рейтингах платформ и жанров и провести проверку этих гипотез."
   ]
  },
  {
   "cell_type": "code",
   "execution_count": 1,
   "metadata": {},
   "outputs": [],
   "source": [
    "from scipy import stats as st\n",
    "import numpy as np\n",
    "import pandas as pd\n",
    "import matplotlib.pyplot as plt\n",
    "from IPython.display import display\n",
    "import math\n",
    "\n",
    "import warnings\n",
    "warnings.filterwarnings(\"ignore\")"
   ]
  },
  {
   "cell_type": "code",
   "execution_count": 2,
   "metadata": {},
   "outputs": [
    {
     "data": {
      "text/html": [
       "<div>\n",
       "<style scoped>\n",
       "    .dataframe tbody tr th:only-of-type {\n",
       "        vertical-align: middle;\n",
       "    }\n",
       "\n",
       "    .dataframe tbody tr th {\n",
       "        vertical-align: top;\n",
       "    }\n",
       "\n",
       "    .dataframe thead th {\n",
       "        text-align: right;\n",
       "    }\n",
       "</style>\n",
       "<table border=\"1\" class=\"dataframe\">\n",
       "  <thead>\n",
       "    <tr style=\"text-align: right;\">\n",
       "      <th></th>\n",
       "      <th>Name</th>\n",
       "      <th>Platform</th>\n",
       "      <th>Year_of_Release</th>\n",
       "      <th>Genre</th>\n",
       "      <th>NA_sales</th>\n",
       "      <th>EU_sales</th>\n",
       "      <th>JP_sales</th>\n",
       "      <th>Other_sales</th>\n",
       "      <th>Critic_Score</th>\n",
       "      <th>User_Score</th>\n",
       "      <th>Rating</th>\n",
       "    </tr>\n",
       "  </thead>\n",
       "  <tbody>\n",
       "    <tr>\n",
       "      <td>0</td>\n",
       "      <td>Wii Sports</td>\n",
       "      <td>Wii</td>\n",
       "      <td>2006.0</td>\n",
       "      <td>Sports</td>\n",
       "      <td>41.36</td>\n",
       "      <td>28.96</td>\n",
       "      <td>3.77</td>\n",
       "      <td>8.45</td>\n",
       "      <td>76.0</td>\n",
       "      <td>8</td>\n",
       "      <td>E</td>\n",
       "    </tr>\n",
       "    <tr>\n",
       "      <td>1</td>\n",
       "      <td>Super Mario Bros.</td>\n",
       "      <td>NES</td>\n",
       "      <td>1985.0</td>\n",
       "      <td>Platform</td>\n",
       "      <td>29.08</td>\n",
       "      <td>3.58</td>\n",
       "      <td>6.81</td>\n",
       "      <td>0.77</td>\n",
       "      <td>NaN</td>\n",
       "      <td>NaN</td>\n",
       "      <td>NaN</td>\n",
       "    </tr>\n",
       "    <tr>\n",
       "      <td>2</td>\n",
       "      <td>Mario Kart Wii</td>\n",
       "      <td>Wii</td>\n",
       "      <td>2008.0</td>\n",
       "      <td>Racing</td>\n",
       "      <td>15.68</td>\n",
       "      <td>12.76</td>\n",
       "      <td>3.79</td>\n",
       "      <td>3.29</td>\n",
       "      <td>82.0</td>\n",
       "      <td>8.3</td>\n",
       "      <td>E</td>\n",
       "    </tr>\n",
       "    <tr>\n",
       "      <td>3</td>\n",
       "      <td>Wii Sports Resort</td>\n",
       "      <td>Wii</td>\n",
       "      <td>2009.0</td>\n",
       "      <td>Sports</td>\n",
       "      <td>15.61</td>\n",
       "      <td>10.93</td>\n",
       "      <td>3.28</td>\n",
       "      <td>2.95</td>\n",
       "      <td>80.0</td>\n",
       "      <td>8</td>\n",
       "      <td>E</td>\n",
       "    </tr>\n",
       "    <tr>\n",
       "      <td>4</td>\n",
       "      <td>Pokemon Red/Pokemon Blue</td>\n",
       "      <td>GB</td>\n",
       "      <td>1996.0</td>\n",
       "      <td>Role-Playing</td>\n",
       "      <td>11.27</td>\n",
       "      <td>8.89</td>\n",
       "      <td>10.22</td>\n",
       "      <td>1.00</td>\n",
       "      <td>NaN</td>\n",
       "      <td>NaN</td>\n",
       "      <td>NaN</td>\n",
       "    </tr>\n",
       "    <tr>\n",
       "      <td>5</td>\n",
       "      <td>Tetris</td>\n",
       "      <td>GB</td>\n",
       "      <td>1989.0</td>\n",
       "      <td>Puzzle</td>\n",
       "      <td>23.20</td>\n",
       "      <td>2.26</td>\n",
       "      <td>4.22</td>\n",
       "      <td>0.58</td>\n",
       "      <td>NaN</td>\n",
       "      <td>NaN</td>\n",
       "      <td>NaN</td>\n",
       "    </tr>\n",
       "    <tr>\n",
       "      <td>6</td>\n",
       "      <td>New Super Mario Bros.</td>\n",
       "      <td>DS</td>\n",
       "      <td>2006.0</td>\n",
       "      <td>Platform</td>\n",
       "      <td>11.28</td>\n",
       "      <td>9.14</td>\n",
       "      <td>6.50</td>\n",
       "      <td>2.88</td>\n",
       "      <td>89.0</td>\n",
       "      <td>8.5</td>\n",
       "      <td>E</td>\n",
       "    </tr>\n",
       "    <tr>\n",
       "      <td>7</td>\n",
       "      <td>Wii Play</td>\n",
       "      <td>Wii</td>\n",
       "      <td>2006.0</td>\n",
       "      <td>Misc</td>\n",
       "      <td>13.96</td>\n",
       "      <td>9.18</td>\n",
       "      <td>2.93</td>\n",
       "      <td>2.84</td>\n",
       "      <td>58.0</td>\n",
       "      <td>6.6</td>\n",
       "      <td>E</td>\n",
       "    </tr>\n",
       "    <tr>\n",
       "      <td>8</td>\n",
       "      <td>New Super Mario Bros. Wii</td>\n",
       "      <td>Wii</td>\n",
       "      <td>2009.0</td>\n",
       "      <td>Platform</td>\n",
       "      <td>14.44</td>\n",
       "      <td>6.94</td>\n",
       "      <td>4.70</td>\n",
       "      <td>2.24</td>\n",
       "      <td>87.0</td>\n",
       "      <td>8.4</td>\n",
       "      <td>E</td>\n",
       "    </tr>\n",
       "    <tr>\n",
       "      <td>9</td>\n",
       "      <td>Duck Hunt</td>\n",
       "      <td>NES</td>\n",
       "      <td>1984.0</td>\n",
       "      <td>Shooter</td>\n",
       "      <td>26.93</td>\n",
       "      <td>0.63</td>\n",
       "      <td>0.28</td>\n",
       "      <td>0.47</td>\n",
       "      <td>NaN</td>\n",
       "      <td>NaN</td>\n",
       "      <td>NaN</td>\n",
       "    </tr>\n",
       "  </tbody>\n",
       "</table>\n",
       "</div>"
      ],
      "text/plain": [
       "                        Name Platform  Year_of_Release         Genre  \\\n",
       "0                 Wii Sports      Wii           2006.0        Sports   \n",
       "1          Super Mario Bros.      NES           1985.0      Platform   \n",
       "2             Mario Kart Wii      Wii           2008.0        Racing   \n",
       "3          Wii Sports Resort      Wii           2009.0        Sports   \n",
       "4   Pokemon Red/Pokemon Blue       GB           1996.0  Role-Playing   \n",
       "5                     Tetris       GB           1989.0        Puzzle   \n",
       "6      New Super Mario Bros.       DS           2006.0      Platform   \n",
       "7                   Wii Play      Wii           2006.0          Misc   \n",
       "8  New Super Mario Bros. Wii      Wii           2009.0      Platform   \n",
       "9                  Duck Hunt      NES           1984.0       Shooter   \n",
       "\n",
       "   NA_sales  EU_sales  JP_sales  Other_sales  Critic_Score User_Score Rating  \n",
       "0     41.36     28.96      3.77         8.45          76.0          8      E  \n",
       "1     29.08      3.58      6.81         0.77           NaN        NaN    NaN  \n",
       "2     15.68     12.76      3.79         3.29          82.0        8.3      E  \n",
       "3     15.61     10.93      3.28         2.95          80.0          8      E  \n",
       "4     11.27      8.89     10.22         1.00           NaN        NaN    NaN  \n",
       "5     23.20      2.26      4.22         0.58           NaN        NaN    NaN  \n",
       "6     11.28      9.14      6.50         2.88          89.0        8.5      E  \n",
       "7     13.96      9.18      2.93         2.84          58.0        6.6      E  \n",
       "8     14.44      6.94      4.70         2.24          87.0        8.4      E  \n",
       "9     26.93      0.63      0.28         0.47           NaN        NaN    NaN  "
      ]
     },
     "metadata": {},
     "output_type": "display_data"
    },
    {
     "name": "stdout",
     "output_type": "stream",
     "text": [
      "<class 'pandas.core.frame.DataFrame'>\n",
      "RangeIndex: 16715 entries, 0 to 16714\n",
      "Data columns (total 11 columns):\n",
      "Name               16713 non-null object\n",
      "Platform           16715 non-null object\n",
      "Year_of_Release    16446 non-null float64\n",
      "Genre              16713 non-null object\n",
      "NA_sales           16715 non-null float64\n",
      "EU_sales           16715 non-null float64\n",
      "JP_sales           16715 non-null float64\n",
      "Other_sales        16715 non-null float64\n",
      "Critic_Score       8137 non-null float64\n",
      "User_Score         10014 non-null object\n",
      "Rating             9949 non-null object\n",
      "dtypes: float64(6), object(5)\n",
      "memory usage: 1.4+ MB\n",
      "None\n"
     ]
    }
   ],
   "source": [
    "games = pd.read_csv('/datasets/games.csv')\n",
    "display(games.head(10))\n",
    "print(games.info())"
   ]
  },
  {
   "cell_type": "markdown",
   "metadata": {},
   "source": [
    "Посмотрим, какова доля пропущенных значений во всех столбцах датафрейма."
   ]
  },
  {
   "cell_type": "code",
   "execution_count": 3,
   "metadata": {},
   "outputs": [
    {
     "name": "stdout",
     "output_type": "stream",
     "text": [
      "Name               0.000120\n",
      "Platform           0.000000\n",
      "Year_of_Release    0.016093\n",
      "Genre              0.000120\n",
      "NA_sales           0.000000\n",
      "EU_sales           0.000000\n",
      "JP_sales           0.000000\n",
      "Other_sales        0.000000\n",
      "Critic_Score       0.513192\n",
      "User_Score         0.400897\n",
      "Rating             0.404786\n",
      "dtype: float64\n"
     ]
    }
   ],
   "source": [
    "print(games.isnull().sum() / len(games))"
   ]
  },
  {
   "cell_type": "markdown",
   "metadata": {},
   "source": [
    "Количество пропусков в трех последних столбцах большое. Позже проанализируем их, чтобы принять решение об их дальнейшей судьбе.\n",
    "\n",
    "Выведем основные статистические показатели по столбцам."
   ]
  },
  {
   "cell_type": "code",
   "execution_count": 4,
   "metadata": {},
   "outputs": [
    {
     "data": {
      "text/html": [
       "<div>\n",
       "<style scoped>\n",
       "    .dataframe tbody tr th:only-of-type {\n",
       "        vertical-align: middle;\n",
       "    }\n",
       "\n",
       "    .dataframe tbody tr th {\n",
       "        vertical-align: top;\n",
       "    }\n",
       "\n",
       "    .dataframe thead th {\n",
       "        text-align: right;\n",
       "    }\n",
       "</style>\n",
       "<table border=\"1\" class=\"dataframe\">\n",
       "  <thead>\n",
       "    <tr style=\"text-align: right;\">\n",
       "      <th></th>\n",
       "      <th>Year_of_Release</th>\n",
       "      <th>NA_sales</th>\n",
       "      <th>EU_sales</th>\n",
       "      <th>JP_sales</th>\n",
       "      <th>Other_sales</th>\n",
       "      <th>Critic_Score</th>\n",
       "    </tr>\n",
       "  </thead>\n",
       "  <tbody>\n",
       "    <tr>\n",
       "      <td>count</td>\n",
       "      <td>16446.000000</td>\n",
       "      <td>16715.000000</td>\n",
       "      <td>16715.000000</td>\n",
       "      <td>16715.000000</td>\n",
       "      <td>16715.000000</td>\n",
       "      <td>8137.000000</td>\n",
       "    </tr>\n",
       "    <tr>\n",
       "      <td>mean</td>\n",
       "      <td>2006.484616</td>\n",
       "      <td>0.263377</td>\n",
       "      <td>0.145060</td>\n",
       "      <td>0.077617</td>\n",
       "      <td>0.047342</td>\n",
       "      <td>68.967679</td>\n",
       "    </tr>\n",
       "    <tr>\n",
       "      <td>std</td>\n",
       "      <td>5.877050</td>\n",
       "      <td>0.813604</td>\n",
       "      <td>0.503339</td>\n",
       "      <td>0.308853</td>\n",
       "      <td>0.186731</td>\n",
       "      <td>13.938165</td>\n",
       "    </tr>\n",
       "    <tr>\n",
       "      <td>min</td>\n",
       "      <td>1980.000000</td>\n",
       "      <td>0.000000</td>\n",
       "      <td>0.000000</td>\n",
       "      <td>0.000000</td>\n",
       "      <td>0.000000</td>\n",
       "      <td>13.000000</td>\n",
       "    </tr>\n",
       "    <tr>\n",
       "      <td>25%</td>\n",
       "      <td>2003.000000</td>\n",
       "      <td>0.000000</td>\n",
       "      <td>0.000000</td>\n",
       "      <td>0.000000</td>\n",
       "      <td>0.000000</td>\n",
       "      <td>60.000000</td>\n",
       "    </tr>\n",
       "    <tr>\n",
       "      <td>50%</td>\n",
       "      <td>2007.000000</td>\n",
       "      <td>0.080000</td>\n",
       "      <td>0.020000</td>\n",
       "      <td>0.000000</td>\n",
       "      <td>0.010000</td>\n",
       "      <td>71.000000</td>\n",
       "    </tr>\n",
       "    <tr>\n",
       "      <td>75%</td>\n",
       "      <td>2010.000000</td>\n",
       "      <td>0.240000</td>\n",
       "      <td>0.110000</td>\n",
       "      <td>0.040000</td>\n",
       "      <td>0.030000</td>\n",
       "      <td>79.000000</td>\n",
       "    </tr>\n",
       "    <tr>\n",
       "      <td>max</td>\n",
       "      <td>2016.000000</td>\n",
       "      <td>41.360000</td>\n",
       "      <td>28.960000</td>\n",
       "      <td>10.220000</td>\n",
       "      <td>10.570000</td>\n",
       "      <td>98.000000</td>\n",
       "    </tr>\n",
       "  </tbody>\n",
       "</table>\n",
       "</div>"
      ],
      "text/plain": [
       "       Year_of_Release      NA_sales      EU_sales      JP_sales  \\\n",
       "count     16446.000000  16715.000000  16715.000000  16715.000000   \n",
       "mean       2006.484616      0.263377      0.145060      0.077617   \n",
       "std           5.877050      0.813604      0.503339      0.308853   \n",
       "min        1980.000000      0.000000      0.000000      0.000000   \n",
       "25%        2003.000000      0.000000      0.000000      0.000000   \n",
       "50%        2007.000000      0.080000      0.020000      0.000000   \n",
       "75%        2010.000000      0.240000      0.110000      0.040000   \n",
       "max        2016.000000     41.360000     28.960000     10.220000   \n",
       "\n",
       "        Other_sales  Critic_Score  \n",
       "count  16715.000000   8137.000000  \n",
       "mean       0.047342     68.967679  \n",
       "std        0.186731     13.938165  \n",
       "min        0.000000     13.000000  \n",
       "25%        0.000000     60.000000  \n",
       "50%        0.010000     71.000000  \n",
       "75%        0.030000     79.000000  \n",
       "max       10.570000     98.000000  "
      ]
     },
     "execution_count": 4,
     "metadata": {},
     "output_type": "execute_result"
    }
   ],
   "source": [
    "games.describe()"
   ]
  },
  {
   "cell_type": "markdown",
   "metadata": {},
   "source": [
    "Приведем заголовки столбцов к нижнему регистру."
   ]
  },
  {
   "cell_type": "code",
   "execution_count": 5,
   "metadata": {},
   "outputs": [],
   "source": [
    "games.columns = games.columns.str.lower()"
   ]
  },
  {
   "cell_type": "markdown",
   "metadata": {},
   "source": [
    "Столбец user_score имеет тип данных object, хотя там указаны числа. Проверим, нет ли там кроме чисел строковых значений."
   ]
  },
  {
   "cell_type": "code",
   "execution_count": 6,
   "metadata": {},
   "outputs": [
    {
     "data": {
      "text/plain": [
       "tbd    2424\n",
       "7.8     324\n",
       "8       290\n",
       "8.2     282\n",
       "8.3     254\n",
       "       ... \n",
       "9.6       2\n",
       "1.5       2\n",
       "2.3       2\n",
       "0         1\n",
       "9.7       1\n",
       "Name: user_score, Length: 96, dtype: int64"
      ]
     },
     "execution_count": 6,
     "metadata": {},
     "output_type": "execute_result"
    }
   ],
   "source": [
    "games['user_score'].value_counts()"
   ]
  },
  {
   "cell_type": "markdown",
   "metadata": {},
   "source": [
    "В колонке много ячеек со значением 'tbd'. В пояснениях к проекту не сказано, что означает эта аббревиатура. Сделаем предположение, что tbd - это аббревиатура от английского \"To Be Determined\" (будет определено). Т.е., возможно, рейтинг игры до сих пор не определен (не набрал нужного количества отзывов) или сначала был tbd, а потом забыли поменять показатели. \n",
    "Посчитаем их долю в датасете."
   ]
  },
  {
   "cell_type": "code",
   "execution_count": 7,
   "metadata": {},
   "outputs": [
    {
     "data": {
      "text/plain": [
       "0.15"
      ]
     },
     "execution_count": 7,
     "metadata": {},
     "output_type": "execute_result"
    }
   ],
   "source": [
    "(games[games['user_score'] == 'tbd']['user_score'].count() / len(games)).round(2)"
   ]
  },
  {
   "cell_type": "markdown",
   "metadata": {},
   "source": [
    "Доля этих значений немаленькая, к тому же из-за них python рассматривает этот столбец как тип данных object. В следующем разделе значение будет обработано."
   ]
  },
  {
   "cell_type": "markdown",
   "metadata": {},
   "source": [
    "Посмотрим, какие рейтинги имеют представленные в датасете игры."
   ]
  },
  {
   "cell_type": "code",
   "execution_count": 8,
   "metadata": {},
   "outputs": [
    {
     "data": {
      "text/plain": [
       "E       3990\n",
       "T       2961\n",
       "M       1563\n",
       "E10+    1420\n",
       "EC         8\n",
       "K-A        3\n",
       "RP         3\n",
       "AO         1\n",
       "Name: rating, dtype: int64"
      ]
     },
     "execution_count": 8,
     "metadata": {},
     "output_type": "execute_result"
    }
   ],
   "source": [
    "games['rating'].value_counts()"
   ]
  },
  {
   "cell_type": "markdown",
   "metadata": {},
   "source": [
    "Проверим, имеются ли в наборе явные дубликаты."
   ]
  },
  {
   "cell_type": "code",
   "execution_count": 9,
   "metadata": {},
   "outputs": [
    {
     "name": "stdout",
     "output_type": "stream",
     "text": [
      "Количество дубликатов в наборе данных: 0\n"
     ]
    }
   ],
   "source": [
    "print('Количество дубликатов в наборе данных: {}'.format(games.duplicated().sum()))"
   ]
  },
  {
   "cell_type": "markdown",
   "metadata": {},
   "source": [
    "### Вывод"
   ]
  },
  {
   "cell_type": "markdown",
   "metadata": {},
   "source": [
    "В наборе данных 16715 строк и 11 столбцов.\n",
    "\n",
    "Доля пропущенных значений в столбцах name (0,01%), year_of_release (1,61%) и genre (0,012%) невелика. Такие записи можно удалить.\n",
    "\n",
    "В датафрейме большое количество пропусков в столбцах critic_score (51,3% от всех данных), user_score (примерно 40,1%) и rating (40,5%). Это половина датасета, что будет представлять большую трудность при дальнейшем анализе. Что делать с пропусками - пока не совсем понятно. Простое их удаление заберет у нас половину датасета. При замене их средним или медианным значением есть риск \"разбавить\" возможные корреляции ничего не значащими данными так, что потом никакие зависимости невозможно будет найти.\n",
    "\n",
    "В некоторых колонках данные представлены некорректными типами: year_of_release в формате float, а нужно datetime, user_score в формате object вместо float.\n",
    "\n",
    "В столбце user_score много значений tbd (порядка 14,5%).\n",
    "\n",
    "Для удобства обработки данных все заголовки сразу приведены к нижнему регистру.\n",
    "\n",
    "Явных дубликатов в наборе данных не выявлено."
   ]
  },
  {
   "cell_type": "markdown",
   "metadata": {},
   "source": [
    "## Подготовка данных"
   ]
  },
  {
   "cell_type": "markdown",
   "metadata": {},
   "source": [
    "### Обработка пропущенных значений"
   ]
  },
  {
   "cell_type": "markdown",
   "metadata": {},
   "source": [
    "Записи с NaN в столбцах name, year_of_release и genre удаляем, поскольку их немного."
   ]
  },
  {
   "cell_type": "code",
   "execution_count": 10,
   "metadata": {},
   "outputs": [],
   "source": [
    "games.dropna(subset = ['name', 'year_of_release', 'genre'], inplace=True)"
   ]
  },
  {
   "cell_type": "markdown",
   "metadata": {},
   "source": [
    "Другое дело - пропущенные значения в оценках пользователей и критиков, а также в рейтинге. Количество NaN 40-51%% в столбцах, да плюс еще 14,5% значений tbd в user_score - это очень много. Здесь нет хороших решений. \n",
    "\n",
    "С одной стороны, если заменить пропуски в таком количестве средним или медианой, то можно размыть все зависимости между параметрами и не найти каких-то важных закономерностей. К тому же на графике распределения у нас вырастет огромный пик в районе среднего или медианы.\n",
    "\n",
    "С другой, оставляя NaN необработанными, будет сложно привести данные к нужному формату и работать с ними. \n",
    "\n",
    "Третий вариант - удаление всех пропусков. В этом случае датасет будет чистый, но маленький. Кроме того, \"за компанию\" пострадают заполненные колонки с доходами по разным регионам. Эти данные нам нужны для анализа, но мы их лишаемся из-за NaN в других столбцах. \n",
    "\n",
    "Четвертый вариант - попробовать найти некоторые закономерности/ отношения между годом выпуска, продажами по регионам и оценками, и на основании этого заполнить датасет. Но здесь мы рискуем сами создать / усилить корреляции, которые потом с радостью обнаружим на последующем этапе анализа. А других колонок, которые мы могли бы использовать в качестве источника информации для заполнения, у нас нет.\n",
    "\n",
    "Возможно, в этом кейсе оптимальным решением будет сохранить пропуски, только заменить тип данных в столбце user_score и убрать значение tbd. А в колонке rating отсутствующие показатели заменим на undefined.\n",
    "\n",
    "Вероятно, появление пропусков связано с тем, что игры с NaN в этих столбцах вышли слишком давно (например, в восьмидесятых годах), когда система оценок и рейтингов еще не сложилась. \n",
    "Проверим наше предположение, посчитав долю пропущенных значений по годам выпуска игры."
   ]
  },
  {
   "cell_type": "code",
   "execution_count": 11,
   "metadata": {},
   "outputs": [
    {
     "name": "stdout",
     "output_type": "stream",
     "text": [
      "year_of_release\n",
      "1980.0    1.000000\n",
      "1981.0    1.000000\n",
      "1982.0    1.000000\n",
      "1983.0    1.000000\n",
      "1984.0    1.000000\n",
      "1985.0    0.928571\n",
      "1986.0    1.000000\n",
      "1987.0    1.000000\n",
      "1988.0    0.933333\n",
      "1989.0    1.000000\n",
      "1990.0    1.000000\n",
      "1991.0    1.000000\n",
      "1992.0    0.976744\n",
      "1993.0    1.000000\n",
      "1994.0    0.991736\n",
      "1995.0    1.000000\n",
      "1996.0    0.969582\n",
      "1997.0    0.941176\n",
      "1998.0    0.926121\n",
      "1999.0    0.884615\n",
      "2000.0    0.591429\n",
      "2001.0    0.323651\n",
      "2002.0    0.243667\n",
      "2003.0    0.245161\n",
      "2004.0    0.263780\n",
      "2005.0    0.302449\n",
      "2006.0    0.383698\n",
      "2007.0    0.421888\n",
      "2008.0    0.498949\n",
      "2009.0    0.543478\n",
      "2010.0    0.601594\n",
      "2011.0    0.559859\n",
      "2012.0    0.508423\n",
      "2013.0    0.498162\n",
      "2014.0    0.550775\n",
      "2015.0    0.628713\n",
      "2016.0    0.537849\n",
      "Name: year_of_release, dtype: float64\n"
     ]
    }
   ],
   "source": [
    "print((games[games['critic_score'].isnull()]).groupby('year_of_release')['year_of_release'].count() / games.groupby('year_of_release')['year_of_release'].count())"
   ]
  },
  {
   "cell_type": "markdown",
   "metadata": {},
   "source": [
    "Да, примерно до 2000 года такие оценки не применялись. Но интересно, что доля пропусков в самом начале 2000-х снизилась, а с 2006-2007 начала опять расти. Возможно, связано с тем, что самих игр становится все больше, и критики уже не обозревают все игры в ассортименте, а выделяют самые значимые из них.\n",
    "\n",
    "Посмотрим, что происходит со столбцами пользовательских оценок и рейтингом."
   ]
  },
  {
   "cell_type": "code",
   "execution_count": 12,
   "metadata": {},
   "outputs": [
    {
     "name": "stdout",
     "output_type": "stream",
     "text": [
      "year_of_release\n",
      "1980.0    1.000000\n",
      "1981.0    1.000000\n",
      "1982.0    1.000000\n",
      "1983.0    1.000000\n",
      "1984.0    1.000000\n",
      "1985.0    0.928571\n",
      "1986.0    1.000000\n",
      "1987.0    1.000000\n",
      "1988.0    0.933333\n",
      "1989.0    1.000000\n",
      "1990.0    1.000000\n",
      "1991.0    1.000000\n",
      "1992.0    0.976744\n",
      "1993.0    1.000000\n",
      "1994.0    0.991736\n",
      "1995.0    1.000000\n",
      "1996.0    0.969582\n",
      "1997.0    0.934256\n",
      "1998.0    0.918206\n",
      "1999.0    0.884615\n",
      "2000.0    0.571429\n",
      "2001.0    0.296680\n",
      "2002.0    0.208685\n",
      "2003.0    0.211613\n",
      "2004.0    0.217848\n",
      "2005.0    0.250266\n",
      "2006.0    0.328032\n",
      "2007.0    0.314119\n",
      "2008.0    0.308339\n",
      "2009.0    0.285414\n",
      "2010.0    0.364143\n",
      "2011.0    0.367958\n",
      "2012.0    0.444104\n",
      "2013.0    0.413603\n",
      "2014.0    0.397590\n",
      "2015.0    0.447195\n",
      "2016.0    0.410359\n",
      "Name: year_of_release, dtype: float64\n"
     ]
    }
   ],
   "source": [
    "print((games[games['user_score'].isnull()]).groupby('year_of_release')['year_of_release'].count() / games.groupby('year_of_release')['year_of_release'].count())"
   ]
  },
  {
   "cell_type": "code",
   "execution_count": 13,
   "metadata": {},
   "outputs": [
    {
     "name": "stdout",
     "output_type": "stream",
     "text": [
      "year_of_release\n",
      "1980.0    1.000000\n",
      "1981.0    1.000000\n",
      "1982.0    1.000000\n",
      "1983.0    1.000000\n",
      "1984.0    1.000000\n",
      "1985.0    0.928571\n",
      "1986.0    1.000000\n",
      "1987.0    1.000000\n",
      "1988.0    0.933333\n",
      "1989.0    1.000000\n",
      "1990.0    1.000000\n",
      "1991.0    1.000000\n",
      "1992.0    0.953488\n",
      "1993.0    1.000000\n",
      "1994.0    0.991736\n",
      "1995.0    1.000000\n",
      "1996.0    0.973384\n",
      "1997.0    0.934256\n",
      "1998.0    0.915567\n",
      "1999.0    0.875740\n",
      "2000.0    0.577143\n",
      "2001.0    0.296680\n",
      "2002.0    0.209891\n",
      "2003.0    0.209032\n",
      "2004.0    0.215223\n",
      "2005.0    0.248136\n",
      "2006.0    0.326044\n",
      "2007.0    0.314119\n",
      "2008.0    0.312544\n",
      "2009.0    0.291024\n",
      "2010.0    0.363347\n",
      "2011.0    0.381162\n",
      "2012.0    0.456355\n",
      "2013.0    0.419118\n",
      "2014.0    0.406196\n",
      "2015.0    0.480198\n",
      "2016.0    0.442231\n",
      "Name: year_of_release, dtype: float64\n"
     ]
    }
   ],
   "source": [
    "print((games[games['rating'].isnull()]).groupby('year_of_release')['year_of_release'].count() / games.groupby('year_of_release')['year_of_release'].count())"
   ]
  },
  {
   "cell_type": "markdown",
   "metadata": {},
   "source": [
    "С пользовательскими оценками ситуация похожая, примерно до 2000 года оценок мало. Но доля пропущенных значений после провала в 2000х здесь растет гораздо медленнее, чем у критиков. Возможно, потому, что юзеров гораздо больше и они оценивают игры активнее профессионалов. Что касается рейтингов, то ESRB была основана только в 1994 году. Соответсвенно, до этого года рейтинг вообще не присваивался."
   ]
  },
  {
   "cell_type": "markdown",
   "metadata": {},
   "source": [
    "Заменим пропуски в колонке rating на значение 'undefined'."
   ]
  },
  {
   "cell_type": "code",
   "execution_count": 14,
   "metadata": {},
   "outputs": [
    {
     "name": "stdout",
     "output_type": "stream",
     "text": [
      "undefined    6676\n",
      "E            3921\n",
      "T            2905\n",
      "M            1536\n",
      "E10+         1393\n",
      "EC              8\n",
      "K-A             3\n",
      "RP              1\n",
      "AO              1\n",
      "Name: rating, dtype: int64\n"
     ]
    }
   ],
   "source": [
    "games['rating'] = games['rating'].fillna('undefined')\n",
    "print(games['rating'].value_counts())"
   ]
  },
  {
   "cell_type": "markdown",
   "metadata": {},
   "source": [
    "### Замена типов данных, преобразование таблиц"
   ]
  },
  {
   "cell_type": "markdown",
   "metadata": {},
   "source": [
    "Изменим тип данных в основном датасете, колонки user_score и year_of_release. Функции to_numeric передадим параметр errors='coerce', чтобы заменить tbd на NaN."
   ]
  },
  {
   "cell_type": "code",
   "execution_count": 15,
   "metadata": {},
   "outputs": [
    {
     "name": "stdout",
     "output_type": "stream",
     "text": [
      "<class 'pandas.core.frame.DataFrame'>\n",
      "Int64Index: 16444 entries, 0 to 16714\n",
      "Data columns (total 11 columns):\n",
      "name               16444 non-null object\n",
      "platform           16444 non-null object\n",
      "year_of_release    16444 non-null datetime64[ns]\n",
      "genre              16444 non-null object\n",
      "na_sales           16444 non-null float64\n",
      "eu_sales           16444 non-null float64\n",
      "jp_sales           16444 non-null float64\n",
      "other_sales        16444 non-null float64\n",
      "critic_score       7983 non-null float64\n",
      "user_score         7463 non-null float64\n",
      "rating             16444 non-null object\n",
      "dtypes: datetime64[ns](1), float64(6), object(4)\n",
      "memory usage: 1.5+ MB\n"
     ]
    }
   ],
   "source": [
    "games['user_score'] = pd.to_numeric(games['user_score'], errors='coerce')\n",
    "games['year_of_release'] = pd.to_datetime(games['year_of_release'], format = '%Y')\n",
    "games.info()"
   ]
  },
  {
   "cell_type": "markdown",
   "metadata": {},
   "source": [
    "Посчитаем общие продажи по всем регионам и сохраним полученные значения в отдельном столбце."
   ]
  },
  {
   "cell_type": "code",
   "execution_count": 16,
   "metadata": {},
   "outputs": [],
   "source": [
    "games['total_sales'] = games['na_sales'] + games['eu_sales'] + games['jp_sales'] + games['other_sales']"
   ]
  },
  {
   "cell_type": "markdown",
   "metadata": {},
   "source": [
    "### Вывод"
   ]
  },
  {
   "cell_type": "markdown",
   "metadata": {},
   "source": [
    "Пропущенные значения в столбцах name, year_of_release и genre были удалены. Что касается огромного количества пропусков в колонках critic_score (51,3% от всех данных), user_score (примерно 40,1%), то здесь оставили пропуски, а значение tbd в user_score поменяли на NaN.\n",
    "\n",
    "NaN во многих оценках пользователей и критиков, скорее всего, появились из-за того, что игра вышла рано (80е годы), когда система оценивания, как таковая, еще не сложилась. Не было в достаточном количестве специалистов, способных оценить качество продукта. Не было и площадок, где можно было делиться мнениями.\n",
    "\n",
    "В столбцах year_of_release и user_score типы данных заменены на datetime и float соответственно. \n",
    "\n",
    "В колонке raiting тип данных корректный, а значения представляют собой категориальные данные. NaN (40,5%) здесь поменяли на undefined."
   ]
  },
  {
   "cell_type": "markdown",
   "metadata": {},
   "source": [
    "## Исследовательский анализ данных"
   ]
  },
  {
   "cell_type": "markdown",
   "metadata": {},
   "source": [
    "### Продажи по годам"
   ]
  },
  {
   "cell_type": "markdown",
   "metadata": {},
   "source": [
    "Посчитаем, сколько игр выпускалось в разные годы."
   ]
  },
  {
   "cell_type": "code",
   "execution_count": 18,
   "metadata": {},
   "outputs": [
    {
     "data": {
      "text/plain": [
       "year_of_release\n",
       "1980-01-01       9\n",
       "1981-01-01      46\n",
       "1982-01-01      36\n",
       "1983-01-01      17\n",
       "1984-01-01      14\n",
       "1985-01-01      14\n",
       "1986-01-01      21\n",
       "1987-01-01      16\n",
       "1988-01-01      15\n",
       "1989-01-01      17\n",
       "1990-01-01      16\n",
       "1991-01-01      41\n",
       "1992-01-01      43\n",
       "1993-01-01      60\n",
       "1994-01-01     121\n",
       "1995-01-01     219\n",
       "1996-01-01     263\n",
       "1997-01-01     289\n",
       "1998-01-01     379\n",
       "1999-01-01     338\n",
       "2000-01-01     350\n",
       "2001-01-01     482\n",
       "2002-01-01     829\n",
       "2003-01-01     775\n",
       "2004-01-01     762\n",
       "2005-01-01     939\n",
       "2006-01-01    1006\n",
       "2007-01-01    1197\n",
       "2008-01-01    1427\n",
       "2009-01-01    1426\n",
       "2010-01-01    1255\n",
       "2011-01-01    1136\n",
       "2012-01-01     653\n",
       "2013-01-01     544\n",
       "2014-01-01     581\n",
       "2015-01-01     606\n",
       "2016-01-01     502\n",
       "Name: year_of_release, dtype: int64"
      ]
     },
     "execution_count": 18,
     "metadata": {},
     "output_type": "execute_result"
    }
   ],
   "source": [
    "games.groupby('year_of_release')['year_of_release'].count()"
   ]
  },
  {
   "cell_type": "markdown",
   "metadata": {},
   "source": [
    "Восьмидесятые точно не могут похвастаться игровым разнообразием, бурный рост начнется позже. Но любопытно, что пик производства игр (в количестве наименований) как будто уже пройден. \n",
    "\n",
    "Построим гистограмму распределния выпуска игр по годам."
   ]
  },
  {
   "cell_type": "code",
   "execution_count": 19,
   "metadata": {},
   "outputs": [
    {
     "data": {
      "image/png": "[encoded data removed]",
      "text/plain": [
       "<Figure size 432x288 with 1 Axes>"
      ]
     },
     "metadata": {
      "needs_background": "light"
     },
     "output_type": "display_data"
    }
   ],
   "source": [
    "plt.hist(games['year_of_release'], density=True, bins=300, color='green', histtype='bar')\n",
    "plt.title('Количество выпущенных игр по годам')\n",
    "plt.xlabel('Количество игр')\n",
    "plt.ylabel('Плотность частоты')\n",
    "plt.grid(alpha=0.2, linestyle='--', linewidth=1)"
   ]
  },
  {
   "cell_type": "markdown",
   "metadata": {},
   "source": [
    "Судя по расчетам и графику, в 1992-1993 годах начался активный рост выпуска игр. Он достиг своего пика примерно в 2008-2009 годах. В 2012 году количество выпущенных игр резко снизилось (в 2 раза), а в последующие годы остается примерно на одном и том же уровне.\n",
    "Предположительно связано с тем, что сфера усложняется, проекты становятся масштабнее и требуют больше времени на разработку.\n",
    "\n",
    "Посмотрим, как менялись продажи по платформам."
   ]
  },
  {
   "cell_type": "markdown",
   "metadata": {},
   "source": [
    "### Продажи по платформам"
   ]
  },
  {
   "cell_type": "markdown",
   "metadata": {},
   "source": [
    "#### Жизненный цикл платформ"
   ]
  },
  {
   "cell_type": "markdown",
   "metadata": {},
   "source": [
    "Выделим десять платформ с наибольшими суммарными продажами за все время."
   ]
  },
  {
   "cell_type": "code",
   "execution_count": 20,
   "metadata": {},
   "outputs": [
    {
     "data": {
      "text/plain": [
       "platform\n",
       "PS2     1233.56\n",
       "X360     961.24\n",
       "PS3      931.34\n",
       "Wii      891.18\n",
       "DS       802.78\n",
       "PS       727.58\n",
       "PS4      314.14\n",
       "GBA      312.88\n",
       "PSP      289.53\n",
       "3DS      257.81\n",
       "Name: total_sales, dtype: float64"
      ]
     },
     "execution_count": 20,
     "metadata": {},
     "output_type": "execute_result"
    }
   ],
   "source": [
    "games.groupby('platform')['total_sales'].sum().sort_values(ascending=False).head(10)"
   ]
  },
  {
   "cell_type": "markdown",
   "metadata": {},
   "source": [
    "Во главе рейтинга оказались платформы, которые хоть и принесли больше всех продаж, но сами уже давно устарели. А нам нужно, чтобы результаты нашего исследования характеризовали текущую ситуацию или хотя бы недалекое прошлое. \n",
    "\n",
    "Для определения актуального периода построим на график продаж платформ из Топ-10 по годам."
   ]
  },
  {
   "cell_type": "code",
   "execution_count": 21,
   "metadata": {},
   "outputs": [
    {
     "data": {
      "text/plain": [
       "<matplotlib.legend.Legend at 0x7faeee64fd50>"
      ]
     },
     "execution_count": 21,
     "metadata": {},
     "output_type": "execute_result"
    },
    {
     "data": {
      "image/png": "[encoded data removed]",
      "text/plain": [
       "<Figure size 864x576 with 1 Axes>"
      ]
     },
     "metadata": {
      "needs_background": "light"
     },
     "output_type": "display_data"
    }
   ],
   "source": [
    "top10_platforms = games.groupby('platform')['total_sales'].sum().sort_values(ascending=False).head(10).index\n",
    "\n",
    "fig, ax = plt.subplots(figsize=(12,8))\n",
    "labels = []\n",
    "for row in top10_platforms:\n",
    "    platform = row\n",
    "    games[games['platform'] == platform].groupby('year_of_release')['total_sales'].sum().plot(y='total_sales', x='year_of_release')\n",
    "    labels.append(row)\n",
    "ax.set_title('Общие продажи игр по годам')\n",
    "ax.set_xlabel('Годы')\n",
    "ax.set_ylabel('Млн. проданных копий')\n",
    "ax.grid(alpha=0.2, linestyle='--', linewidth=1)\n",
    "ax.legend(labels, loc='left')"
   ]
  },
  {
   "cell_type": "markdown",
   "metadata": {},
   "source": [
    "Это график описывает взлет, пик и упадок продаж игр для самых популярных платформ. Примерное время жизни игровых консолей, когда их еще покупают, - 7-10 лет. А с момента выпуска предыдущей до выхода последущей версии платформы нового поколения проходит порядка 6-7 лет. Это период, когда появляются более современные и продвинутые технологии, и старые платформы уже \"не тянут\" новые игры.\n",
    "\n",
    "Для нашего дальнейшего анализа возьмем половину примерного жизненного цикла платформы - это данные за последние 4 года. Актуальный период будет определен, начиная с 2013 года."
   ]
  },
  {
   "cell_type": "code",
   "execution_count": 24,
   "metadata": {},
   "outputs": [],
   "source": [
    "games = games.query('year_of_release >= 2013')"
   ]
  },
  {
   "cell_type": "markdown",
   "metadata": {},
   "source": [
    "#### Корреляция продаж и оценок"
   ]
  },
  {
   "cell_type": "markdown",
   "metadata": {},
   "source": [
    "Посмотрим, игры для каких платформ продавались с 2013 года. Выведем данные по продажам в штуках за последние четыре года."
   ]
  },
  {
   "cell_type": "code",
   "execution_count": 25,
   "metadata": {},
   "outputs": [
    {
     "data": {
      "text/html": [
       "<div>\n",
       "<style scoped>\n",
       "    .dataframe tbody tr th:only-of-type {\n",
       "        vertical-align: middle;\n",
       "    }\n",
       "\n",
       "    .dataframe tbody tr th {\n",
       "        vertical-align: top;\n",
       "    }\n",
       "\n",
       "    .dataframe thead th {\n",
       "        text-align: right;\n",
       "    }\n",
       "</style>\n",
       "<table border=\"1\" class=\"dataframe\">\n",
       "  <thead>\n",
       "    <tr style=\"text-align: right;\">\n",
       "      <th>year_of_release</th>\n",
       "      <th>2013-01-01 00:00:00</th>\n",
       "      <th>2014-01-01 00:00:00</th>\n",
       "      <th>2015-01-01 00:00:00</th>\n",
       "      <th>2016-01-01 00:00:00</th>\n",
       "      <th>total</th>\n",
       "    </tr>\n",
       "    <tr>\n",
       "      <th>platform</th>\n",
       "      <th></th>\n",
       "      <th></th>\n",
       "      <th></th>\n",
       "      <th></th>\n",
       "      <th></th>\n",
       "    </tr>\n",
       "  </thead>\n",
       "  <tbody>\n",
       "    <tr>\n",
       "      <td>PS4</td>\n",
       "      <td>25.99</td>\n",
       "      <td>100.00</td>\n",
       "      <td>118.90</td>\n",
       "      <td>69.25</td>\n",
       "      <td>314.14</td>\n",
       "    </tr>\n",
       "    <tr>\n",
       "      <td>PS3</td>\n",
       "      <td>113.25</td>\n",
       "      <td>47.76</td>\n",
       "      <td>16.82</td>\n",
       "      <td>3.60</td>\n",
       "      <td>181.43</td>\n",
       "    </tr>\n",
       "    <tr>\n",
       "      <td>XOne</td>\n",
       "      <td>18.96</td>\n",
       "      <td>54.07</td>\n",
       "      <td>60.14</td>\n",
       "      <td>26.15</td>\n",
       "      <td>159.32</td>\n",
       "    </tr>\n",
       "    <tr>\n",
       "      <td>3DS</td>\n",
       "      <td>56.57</td>\n",
       "      <td>43.76</td>\n",
       "      <td>27.78</td>\n",
       "      <td>15.14</td>\n",
       "      <td>143.25</td>\n",
       "    </tr>\n",
       "    <tr>\n",
       "      <td>X360</td>\n",
       "      <td>88.58</td>\n",
       "      <td>34.74</td>\n",
       "      <td>11.96</td>\n",
       "      <td>1.52</td>\n",
       "      <td>136.80</td>\n",
       "    </tr>\n",
       "    <tr>\n",
       "      <td>WiiU</td>\n",
       "      <td>21.65</td>\n",
       "      <td>22.03</td>\n",
       "      <td>16.35</td>\n",
       "      <td>4.60</td>\n",
       "      <td>64.63</td>\n",
       "    </tr>\n",
       "    <tr>\n",
       "      <td>PC</td>\n",
       "      <td>12.38</td>\n",
       "      <td>13.28</td>\n",
       "      <td>8.52</td>\n",
       "      <td>5.25</td>\n",
       "      <td>39.43</td>\n",
       "    </tr>\n",
       "    <tr>\n",
       "      <td>PSV</td>\n",
       "      <td>10.59</td>\n",
       "      <td>11.90</td>\n",
       "      <td>6.25</td>\n",
       "      <td>4.25</td>\n",
       "      <td>32.99</td>\n",
       "    </tr>\n",
       "    <tr>\n",
       "      <td>Wii</td>\n",
       "      <td>8.59</td>\n",
       "      <td>3.75</td>\n",
       "      <td>1.14</td>\n",
       "      <td>0.18</td>\n",
       "      <td>13.66</td>\n",
       "    </tr>\n",
       "    <tr>\n",
       "      <td>PSP</td>\n",
       "      <td>3.14</td>\n",
       "      <td>0.24</td>\n",
       "      <td>0.12</td>\n",
       "      <td>NaN</td>\n",
       "      <td>3.50</td>\n",
       "    </tr>\n",
       "    <tr>\n",
       "      <td>DS</td>\n",
       "      <td>1.54</td>\n",
       "      <td>NaN</td>\n",
       "      <td>NaN</td>\n",
       "      <td>NaN</td>\n",
       "      <td>1.54</td>\n",
       "    </tr>\n",
       "  </tbody>\n",
       "</table>\n",
       "</div>"
      ],
      "text/plain": [
       "year_of_release  2013-01-01 00:00:00  2014-01-01 00:00:00  \\\n",
       "platform                                                    \n",
       "PS4                            25.99               100.00   \n",
       "PS3                           113.25                47.76   \n",
       "XOne                           18.96                54.07   \n",
       "3DS                            56.57                43.76   \n",
       "X360                           88.58                34.74   \n",
       "WiiU                           21.65                22.03   \n",
       "PC                             12.38                13.28   \n",
       "PSV                            10.59                11.90   \n",
       "Wii                             8.59                 3.75   \n",
       "PSP                             3.14                 0.24   \n",
       "DS                              1.54                  NaN   \n",
       "\n",
       "year_of_release  2015-01-01 00:00:00  2016-01-01 00:00:00   total  \n",
       "platform                                                           \n",
       "PS4                           118.90                69.25  314.14  \n",
       "PS3                            16.82                 3.60  181.43  \n",
       "XOne                           60.14                26.15  159.32  \n",
       "3DS                            27.78                15.14  143.25  \n",
       "X360                           11.96                 1.52  136.80  \n",
       "WiiU                           16.35                 4.60   64.63  \n",
       "PC                              8.52                 5.25   39.43  \n",
       "PSV                             6.25                 4.25   32.99  \n",
       "Wii                             1.14                 0.18   13.66  \n",
       "PSP                             0.12                  NaN    3.50  \n",
       "DS                               NaN                  NaN    1.54  "
      ]
     },
     "metadata": {},
     "output_type": "display_data"
    }
   ],
   "source": [
    "platforms_after2013 = games.pivot_table(index='platform', columns='year_of_release', values='total_sales', aggfunc='sum')\n",
    "platforms_after2013['total'] = platforms_after2013.sum(axis=1)\n",
    "platforms_after2013 = platforms_after2013.sort_values(by='total', ascending=False)\n",
    "display(platforms_after2013)"
   ]
  },
  {
   "cell_type": "markdown",
   "metadata": {},
   "source": [
    "В целом для всех платформ в нашем списке характерен нисходящий тренд, пик продаж пройден для всех моделей. Это означает, что продажи игр для этих консолей будут постепенно падать, пока не сойдут на нет. Жизненный цикл довольно короткий, технологии устаревают, появляется что-то более новое и активно пользующееся спросом. Совпадение циклов у платформ связано с тем, что и новинки выходят у них примерно в одно и то же время."
   ]
  },
  {
   "cell_type": "markdown",
   "metadata": {},
   "source": [
    "Построим боксплоты по глобальным продажам игр в разбивке по консолям."
   ]
  },
  {
   "cell_type": "code",
   "execution_count": 26,
   "metadata": {},
   "outputs": [
    {
     "data": {
      "text/plain": [
       "Text(0, 0.5, 'Млн. проданных копий')"
      ]
     },
     "execution_count": 26,
     "metadata": {},
     "output_type": "execute_result"
    },
    {
     "data": {
      "image/png": "[encoded data removed]",
      "text/plain": [
       "<Figure size 1008x648 with 1 Axes>"
      ]
     },
     "metadata": {
      "needs_background": "light"
     },
     "output_type": "display_data"
    }
   ],
   "source": [
    "games.boxplot(column='total_sales', by='platform', figsize=(14,9))\n",
    "plt.title('Общие продажи игр по платформам, диаграммы размаха')\n",
    "plt.grid(alpha=0.2, linestyle='--', linewidth=1)\n",
    "plt.xlabel('Модели консолей')\n",
    "plt.ylabel('Млн. проданных копий')"
   ]
  },
  {
   "cell_type": "markdown",
   "metadata": {},
   "source": [
    "Получившийся аквариум с боксплотами говорит нам о том, что большинство выходящих для платформ игр, являются довольно ординарными продуктами и не слишком обогащают своих создателей. Вероятно, часть из них являются даже убыточными, поскольку медианное значение ближе к нижней границе.\n",
    "\n",
    "Считать ли все эти точки, вылетающие далеко за пределы \"уса\", выбросами? Их очень много, от верхнего порогового значения находятся крайне далеко, и характерны почти для каждого ящика. Скорее всего, это очень популярные, даже культовые игры, которые имеют поклонников по всему миру. Именно эти продукты могут делать большинство выручки для компаний, их производящих.\n",
    "У Sony даже есть стратегия - выпуск эксклюзива исключительно для своих консолей, например, The Last of Us, Uncharted или Horizon Zero Dawn.\n",
    "Именно по этим выбросам (самым продаваемым играм), как правило, и бывает большинство отзывов критиков и оценок зрителей. \n",
    "\n",
    "По этой причине выбросы не будем удалять, а лишь примем их как особенность индустрии, когда 20% игр дают 80% прибыли (а то и больше)."
   ]
  },
  {
   "cell_type": "markdown",
   "metadata": {},
   "source": [
    "В пятерку лидеров нашего рейтинга по доходам за последние 4 года попали уже устаревшие платформы, такие как PS3 и X360. Делать прогнозы по продажам игр для платформ, которые вот-вот выйдут из оборота, не имеет смысла. Поэтому отсортируем наш рейтинг по столбцу продаж за 2016 год и выделим самые перспективные консоли."
   ]
  },
  {
   "cell_type": "code",
   "execution_count": 27,
   "metadata": {},
   "outputs": [
    {
     "data": {
      "text/html": [
       "<div>\n",
       "<style scoped>\n",
       "    .dataframe tbody tr th:only-of-type {\n",
       "        vertical-align: middle;\n",
       "    }\n",
       "\n",
       "    .dataframe tbody tr th {\n",
       "        vertical-align: top;\n",
       "    }\n",
       "\n",
       "    .dataframe thead th {\n",
       "        text-align: right;\n",
       "    }\n",
       "</style>\n",
       "<table border=\"1\" class=\"dataframe\">\n",
       "  <thead>\n",
       "    <tr style=\"text-align: right;\">\n",
       "      <th>year_of_release</th>\n",
       "      <th>2013-01-01 00:00:00</th>\n",
       "      <th>2014-01-01 00:00:00</th>\n",
       "      <th>2015-01-01 00:00:00</th>\n",
       "      <th>2016-01-01 00:00:00</th>\n",
       "      <th>total</th>\n",
       "    </tr>\n",
       "    <tr>\n",
       "      <th>platform</th>\n",
       "      <th></th>\n",
       "      <th></th>\n",
       "      <th></th>\n",
       "      <th></th>\n",
       "      <th></th>\n",
       "    </tr>\n",
       "  </thead>\n",
       "  <tbody>\n",
       "    <tr>\n",
       "      <td>PS4</td>\n",
       "      <td>25.99</td>\n",
       "      <td>100.00</td>\n",
       "      <td>118.90</td>\n",
       "      <td>69.25</td>\n",
       "      <td>314.14</td>\n",
       "    </tr>\n",
       "    <tr>\n",
       "      <td>XOne</td>\n",
       "      <td>18.96</td>\n",
       "      <td>54.07</td>\n",
       "      <td>60.14</td>\n",
       "      <td>26.15</td>\n",
       "      <td>159.32</td>\n",
       "    </tr>\n",
       "    <tr>\n",
       "      <td>3DS</td>\n",
       "      <td>56.57</td>\n",
       "      <td>43.76</td>\n",
       "      <td>27.78</td>\n",
       "      <td>15.14</td>\n",
       "      <td>143.25</td>\n",
       "    </tr>\n",
       "    <tr>\n",
       "      <td>PC</td>\n",
       "      <td>12.38</td>\n",
       "      <td>13.28</td>\n",
       "      <td>8.52</td>\n",
       "      <td>5.25</td>\n",
       "      <td>39.43</td>\n",
       "    </tr>\n",
       "    <tr>\n",
       "      <td>WiiU</td>\n",
       "      <td>21.65</td>\n",
       "      <td>22.03</td>\n",
       "      <td>16.35</td>\n",
       "      <td>4.60</td>\n",
       "      <td>64.63</td>\n",
       "    </tr>\n",
       "  </tbody>\n",
       "</table>\n",
       "</div>"
      ],
      "text/plain": [
       "year_of_release  2013-01-01 00:00:00  2014-01-01 00:00:00  \\\n",
       "platform                                                    \n",
       "PS4                            25.99               100.00   \n",
       "XOne                           18.96                54.07   \n",
       "3DS                            56.57                43.76   \n",
       "PC                             12.38                13.28   \n",
       "WiiU                           21.65                22.03   \n",
       "\n",
       "year_of_release  2015-01-01 00:00:00  2016-01-01 00:00:00   total  \n",
       "platform                                                           \n",
       "PS4                           118.90                69.25  314.14  \n",
       "XOne                           60.14                26.15  159.32  \n",
       "3DS                            27.78                15.14  143.25  \n",
       "PC                              8.52                 5.25   39.43  \n",
       "WiiU                           16.35                 4.60   64.63  "
      ]
     },
     "metadata": {},
     "output_type": "display_data"
    }
   ],
   "source": [
    "display(platforms_after2013.sort_values(by=platforms_after2013.columns[-2], ascending=False).head(5))"
   ]
  },
  {
   "cell_type": "markdown",
   "metadata": {},
   "source": [
    "В 2016 году лучше всего продавались игры для PS4, XOne и 3DS. Их-то мы и будем считать самыми перспективными.\n",
    "\n",
    "Теперь посмотрим, есть ли зависимость между продажами и оценками критиков и пользователей. Платформа-лидер по продажам - PS4, на ее основе и построим диаграммы рассеяния."
   ]
  },
  {
   "cell_type": "code",
   "execution_count": 28,
   "metadata": {},
   "outputs": [
    {
     "data": {
      "text/plain": [
       "Text(0.5, 0, 'Оценка')"
      ]
     },
     "execution_count": 28,
     "metadata": {},
     "output_type": "execute_result"
    },
    {
     "data": {
      "image/png": "[encoded data removed]",
      "text/plain": [
       "<Figure size 648x288 with 2 Axes>"
      ]
     },
     "metadata": {
      "needs_background": "light"
     },
     "output_type": "display_data"
    }
   ],
   "source": [
    "fig, ax = plt.subplots(ncols=2, figsize=(9,4))\n",
    "\n",
    "ax[0].scatter(games[games['platform'] == 'PS4']['critic_score'], games[games['platform'] == 'PS4']['total_sales'], color='blue', s=20, alpha=0.4)\n",
    "\n",
    "ax[0].grid(alpha=0.2, linestyle='--', linewidth=1)\n",
    "ax[0].set_title('Оценка критиков', fontsize='large')\n",
    "ax[0].set_ylabel('Продажи в млн.копий')\n",
    "ax[0].set_xlabel('Оценка')\n",
    "\n",
    "ax[1].scatter(games[games['platform'] == 'PS4']['user_score'], games[games['platform'] == 'PS4']['total_sales'], color='red', s=20, alpha=0.4)\n",
    "ax[1].grid(alpha=0.2, linestyle='--', linewidth=1)\n",
    "ax[1].set_title('Оценка пользователей', fontsize='large')\n",
    "ax[1].set_ylabel('Продажи в млн.копий')\n",
    "ax[1].set_xlabel('Оценка')"
   ]
  },
  {
   "cell_type": "markdown",
   "metadata": {},
   "source": [
    "Возможно, есть небольшая зависимость между оценками критиков и продажами. А вот корреляция пользовательских оценок с продажами не прослеживается. \n",
    "\n",
    "Попробуем совместить графики оценок пользователей и критиков. Для этого выровняем шкалы, умножив значения пользовательских оценок на 10 (чтобы оценки и критиков, и пользователей были по 100-бальной шкале). Построим диаграмму рассеяния."
   ]
  },
  {
   "cell_type": "code",
   "execution_count": 29,
   "metadata": {},
   "outputs": [
    {
     "data": {
      "text/plain": [
       "<matplotlib.legend.Legend at 0x7faee5bd0290>"
      ]
     },
     "execution_count": 29,
     "metadata": {},
     "output_type": "execute_result"
    },
    {
     "data": {
      "image/png": "[encoded data removed]",
      "text/plain": [
       "<Figure size 432x360 with 1 Axes>"
      ]
     },
     "metadata": {
      "needs_background": "light"
     },
     "output_type": "display_data"
    }
   ],
   "source": [
    "fig, ax = plt.subplots(figsize=(6,5))\n",
    "\n",
    "ax.scatter(games[games['platform'] == 'PS4']['critic_score'], games[games['platform'] == 'PS4']['total_sales'], color='blue', s=15, alpha=0.3)\n",
    "ax.scatter(games[games['platform'] == 'PS4']['user_score']*10, games[games['platform'] == 'PS4']['total_sales'], color='orange', s=15, alpha=0.3)\n",
    "ax.grid(alpha=0.2, linestyle='--', linewidth=1)\n",
    "ax.set_title('Оценка критиков и игроков, основной датасет', fontsize='large')\n",
    "ax.set_ylabel('Продажи в млн.копий')\n",
    "ax.set_xlabel('Оценка')\n",
    "ax.legend([\"Критики\", \"Пользователи\"], loc=2, fontsize='large', labelspacing=1.3, handlelength=3.5)"
   ]
  },
  {
   "cell_type": "markdown",
   "metadata": {},
   "source": [
    "В целом на диаграмме видно, что критики дают более профессиональную оценку (по крайней мере, с точки зрения продаж). Визуально их оценки сильнее коррелируют с продажами, чем у пользователей. Кроме того, критики ставят более высокие баллы, чем пользователи (хотя, возможно, им за это доплачивают).\n",
    "\n",
    "Посчитаем, как оценки и продажи соотносятся между собой, выведем корреляционную матрицу."
   ]
  },
  {
   "cell_type": "code",
   "execution_count": 30,
   "metadata": {},
   "outputs": [
    {
     "name": "stdout",
     "output_type": "stream",
     "text": [
      "\n",
      " Корреляционная матрица, коэф. Пирсона\n"
     ]
    },
    {
     "data": {
      "text/html": [
       "<style  type=\"text/css\" >\n",
       "    #T_be256c64_994c_11eb_a9d2_02420a39d715row0_col0 {\n",
       "            background-color:  #b40426;\n",
       "            color:  #f1f1f1;\n",
       "        }    #T_be256c64_994c_11eb_a9d2_02420a39d715row0_col1 {\n",
       "            background-color:  #ee8669;\n",
       "            color:  #000000;\n",
       "        }    #T_be256c64_994c_11eb_a9d2_02420a39d715row0_col2 {\n",
       "            background-color:  #b5cdfa;\n",
       "            color:  #000000;\n",
       "        }    #T_be256c64_994c_11eb_a9d2_02420a39d715row0_col3 {\n",
       "            background-color:  #c73635;\n",
       "            color:  #f1f1f1;\n",
       "        }    #T_be256c64_994c_11eb_a9d2_02420a39d715row0_col4 {\n",
       "            background-color:  #6687ed;\n",
       "            color:  #000000;\n",
       "        }    #T_be256c64_994c_11eb_a9d2_02420a39d715row0_col5 {\n",
       "            background-color:  #4257c9;\n",
       "            color:  #f1f1f1;\n",
       "        }    #T_be256c64_994c_11eb_a9d2_02420a39d715row0_col6 {\n",
       "            background-color:  #cc403a;\n",
       "            color:  #f1f1f1;\n",
       "        }    #T_be256c64_994c_11eb_a9d2_02420a39d715row1_col0 {\n",
       "            background-color:  #ef886b;\n",
       "            color:  #000000;\n",
       "        }    #T_be256c64_994c_11eb_a9d2_02420a39d715row1_col1 {\n",
       "            background-color:  #b40426;\n",
       "            color:  #f1f1f1;\n",
       "        }    #T_be256c64_994c_11eb_a9d2_02420a39d715row1_col2 {\n",
       "            background-color:  #b1cbfc;\n",
       "            color:  #000000;\n",
       "        }    #T_be256c64_994c_11eb_a9d2_02420a39d715row1_col3 {\n",
       "            background-color:  #c73635;\n",
       "            color:  #f1f1f1;\n",
       "        }    #T_be256c64_994c_11eb_a9d2_02420a39d715row1_col4 {\n",
       "            background-color:  #455cce;\n",
       "            color:  #f1f1f1;\n",
       "        }    #T_be256c64_994c_11eb_a9d2_02420a39d715row1_col5 {\n",
       "            background-color:  #3b4cc0;\n",
       "            color:  #f1f1f1;\n",
       "        }    #T_be256c64_994c_11eb_a9d2_02420a39d715row1_col6 {\n",
       "            background-color:  #c32e31;\n",
       "            color:  #f1f1f1;\n",
       "        }    #T_be256c64_994c_11eb_a9d2_02420a39d715row2_col0 {\n",
       "            background-color:  #d8dce2;\n",
       "            color:  #000000;\n",
       "        }    #T_be256c64_994c_11eb_a9d2_02420a39d715row2_col1 {\n",
       "            background-color:  #dadce0;\n",
       "            color:  #000000;\n",
       "        }    #T_be256c64_994c_11eb_a9d2_02420a39d715row2_col2 {\n",
       "            background-color:  #b40426;\n",
       "            color:  #f1f1f1;\n",
       "        }    #T_be256c64_994c_11eb_a9d2_02420a39d715row2_col3 {\n",
       "            background-color:  #e0dbd8;\n",
       "            color:  #000000;\n",
       "        }    #T_be256c64_994c_11eb_a9d2_02420a39d715row2_col4 {\n",
       "            background-color:  #3b4cc0;\n",
       "            color:  #f1f1f1;\n",
       "        }    #T_be256c64_994c_11eb_a9d2_02420a39d715row2_col5 {\n",
       "            background-color:  #7ea1fa;\n",
       "            color:  #000000;\n",
       "        }    #T_be256c64_994c_11eb_a9d2_02420a39d715row2_col6 {\n",
       "            background-color:  #e7d7ce;\n",
       "            color:  #000000;\n",
       "        }    #T_be256c64_994c_11eb_a9d2_02420a39d715row3_col0 {\n",
       "            background-color:  #c73635;\n",
       "            color:  #f1f1f1;\n",
       "        }    #T_be256c64_994c_11eb_a9d2_02420a39d715row3_col1 {\n",
       "            background-color:  #c73635;\n",
       "            color:  #f1f1f1;\n",
       "        }    #T_be256c64_994c_11eb_a9d2_02420a39d715row3_col2 {\n",
       "            background-color:  #bed2f6;\n",
       "            color:  #000000;\n",
       "        }    #T_be256c64_994c_11eb_a9d2_02420a39d715row3_col3 {\n",
       "            background-color:  #b40426;\n",
       "            color:  #f1f1f1;\n",
       "        }    #T_be256c64_994c_11eb_a9d2_02420a39d715row3_col4 {\n",
       "            background-color:  #6282ea;\n",
       "            color:  #000000;\n",
       "        }    #T_be256c64_994c_11eb_a9d2_02420a39d715row3_col5 {\n",
       "            background-color:  #3e51c5;\n",
       "            color:  #f1f1f1;\n",
       "        }    #T_be256c64_994c_11eb_a9d2_02420a39d715row3_col6 {\n",
       "            background-color:  #b40426;\n",
       "            color:  #f1f1f1;\n",
       "        }    #T_be256c64_994c_11eb_a9d2_02420a39d715row4_col0 {\n",
       "            background-color:  #c9d7f0;\n",
       "            color:  #000000;\n",
       "        }    #T_be256c64_994c_11eb_a9d2_02420a39d715row4_col1 {\n",
       "            background-color:  #b9d0f9;\n",
       "            color:  #000000;\n",
       "        }    #T_be256c64_994c_11eb_a9d2_02420a39d715row4_col2 {\n",
       "            background-color:  #7597f6;\n",
       "            color:  #000000;\n",
       "        }    #T_be256c64_994c_11eb_a9d2_02420a39d715row4_col3 {\n",
       "            background-color:  #c9d7f0;\n",
       "            color:  #000000;\n",
       "        }    #T_be256c64_994c_11eb_a9d2_02420a39d715row4_col4 {\n",
       "            background-color:  #b40426;\n",
       "            color:  #f1f1f1;\n",
       "        }    #T_be256c64_994c_11eb_a9d2_02420a39d715row4_col5 {\n",
       "            background-color:  #efcfbf;\n",
       "            color:  #000000;\n",
       "        }    #T_be256c64_994c_11eb_a9d2_02420a39d715row4_col6 {\n",
       "            background-color:  #c7d7f0;\n",
       "            color:  #000000;\n",
       "        }    #T_be256c64_994c_11eb_a9d2_02420a39d715row5_col0 {\n",
       "            background-color:  #3b4cc0;\n",
       "            color:  #f1f1f1;\n",
       "        }    #T_be256c64_994c_11eb_a9d2_02420a39d715row5_col1 {\n",
       "            background-color:  #3b4cc0;\n",
       "            color:  #f1f1f1;\n",
       "        }    #T_be256c64_994c_11eb_a9d2_02420a39d715row5_col2 {\n",
       "            background-color:  #3b4cc0;\n",
       "            color:  #f1f1f1;\n",
       "        }    #T_be256c64_994c_11eb_a9d2_02420a39d715row5_col3 {\n",
       "            background-color:  #3b4cc0;\n",
       "            color:  #f1f1f1;\n",
       "        }    #T_be256c64_994c_11eb_a9d2_02420a39d715row5_col4 {\n",
       "            background-color:  #aec9fc;\n",
       "            color:  #000000;\n",
       "        }    #T_be256c64_994c_11eb_a9d2_02420a39d715row5_col5 {\n",
       "            background-color:  #b40426;\n",
       "            color:  #f1f1f1;\n",
       "        }    #T_be256c64_994c_11eb_a9d2_02420a39d715row5_col6 {\n",
       "            background-color:  #3b4cc0;\n",
       "            color:  #f1f1f1;\n",
       "        }    #T_be256c64_994c_11eb_a9d2_02420a39d715row6_col0 {\n",
       "            background-color:  #cd423b;\n",
       "            color:  #f1f1f1;\n",
       "        }    #T_be256c64_994c_11eb_a9d2_02420a39d715row6_col1 {\n",
       "            background-color:  #c32e31;\n",
       "            color:  #f1f1f1;\n",
       "        }    #T_be256c64_994c_11eb_a9d2_02420a39d715row6_col2 {\n",
       "            background-color:  #c9d7f0;\n",
       "            color:  #000000;\n",
       "        }    #T_be256c64_994c_11eb_a9d2_02420a39d715row6_col3 {\n",
       "            background-color:  #b40426;\n",
       "            color:  #f1f1f1;\n",
       "        }    #T_be256c64_994c_11eb_a9d2_02420a39d715row6_col4 {\n",
       "            background-color:  #6180e9;\n",
       "            color:  #000000;\n",
       "        }    #T_be256c64_994c_11eb_a9d2_02420a39d715row6_col5 {\n",
       "            background-color:  #3f53c6;\n",
       "            color:  #f1f1f1;\n",
       "        }    #T_be256c64_994c_11eb_a9d2_02420a39d715row6_col6 {\n",
       "            background-color:  #b40426;\n",
       "            color:  #f1f1f1;\n",
       "        }</style><table id=\"T_be256c64_994c_11eb_a9d2_02420a39d715\" ><thead>    <tr>        <th class=\"blank level0\" ></th>        <th class=\"col_heading level0 col0\" >na_sales</th>        <th class=\"col_heading level0 col1\" >eu_sales</th>        <th class=\"col_heading level0 col2\" >jp_sales</th>        <th class=\"col_heading level0 col3\" >other_sales</th>        <th class=\"col_heading level0 col4\" >critic_score</th>        <th class=\"col_heading level0 col5\" >user_score</th>        <th class=\"col_heading level0 col6\" >total_sales</th>    </tr></thead><tbody>\n",
       "                <tr>\n",
       "                        <th id=\"T_be256c64_994c_11eb_a9d2_02420a39d715level0_row0\" class=\"row_heading level0 row0\" >na_sales</th>\n",
       "                        <td id=\"T_be256c64_994c_11eb_a9d2_02420a39d715row0_col0\" class=\"data row0 col0\" >1</td>\n",
       "                        <td id=\"T_be256c64_994c_11eb_a9d2_02420a39d715row0_col1\" class=\"data row0 col1\" >0.785362</td>\n",
       "                        <td id=\"T_be256c64_994c_11eb_a9d2_02420a39d715row0_col2\" class=\"data row0 col2\" >0.472981</td>\n",
       "                        <td id=\"T_be256c64_994c_11eb_a9d2_02420a39d715row0_col3\" class=\"data row0 col3\" >0.944259</td>\n",
       "                        <td id=\"T_be256c64_994c_11eb_a9d2_02420a39d715row0_col4\" class=\"data row0 col4\" >0.415008</td>\n",
       "                        <td id=\"T_be256c64_994c_11eb_a9d2_02420a39d715row0_col5\" class=\"data row0 col5\" >-0.020933</td>\n",
       "                        <td id=\"T_be256c64_994c_11eb_a9d2_02420a39d715row0_col6\" class=\"data row0 col6\" >0.92816</td>\n",
       "            </tr>\n",
       "            <tr>\n",
       "                        <th id=\"T_be256c64_994c_11eb_a9d2_02420a39d715level0_row1\" class=\"row_heading level0 row1\" >eu_sales</th>\n",
       "                        <td id=\"T_be256c64_994c_11eb_a9d2_02420a39d715row1_col0\" class=\"data row1 col0\" >0.785362</td>\n",
       "                        <td id=\"T_be256c64_994c_11eb_a9d2_02420a39d715row1_col1\" class=\"data row1 col1\" >1</td>\n",
       "                        <td id=\"T_be256c64_994c_11eb_a9d2_02420a39d715row1_col2\" class=\"data row1 col2\" >0.464563</td>\n",
       "                        <td id=\"T_be256c64_994c_11eb_a9d2_02420a39d715row1_col3\" class=\"data row1 col3\" >0.944698</td>\n",
       "                        <td id=\"T_be256c64_994c_11eb_a9d2_02420a39d715row1_col4\" class=\"data row1 col4\" >0.34672</td>\n",
       "                        <td id=\"T_be256c64_994c_11eb_a9d2_02420a39d715row1_col5\" class=\"data row1 col5\" >-0.0489248</td>\n",
       "                        <td id=\"T_be256c64_994c_11eb_a9d2_02420a39d715row1_col6\" class=\"data row1 col6\" >0.958157</td>\n",
       "            </tr>\n",
       "            <tr>\n",
       "                        <th id=\"T_be256c64_994c_11eb_a9d2_02420a39d715level0_row2\" class=\"row_heading level0 row2\" >jp_sales</th>\n",
       "                        <td id=\"T_be256c64_994c_11eb_a9d2_02420a39d715row2_col0\" class=\"data row2 col0\" >0.472981</td>\n",
       "                        <td id=\"T_be256c64_994c_11eb_a9d2_02420a39d715row2_col1\" class=\"data row2 col1\" >0.464563</td>\n",
       "                        <td id=\"T_be256c64_994c_11eb_a9d2_02420a39d715row2_col2\" class=\"data row2 col2\" >1</td>\n",
       "                        <td id=\"T_be256c64_994c_11eb_a9d2_02420a39d715row2_col3\" class=\"data row2 col3\" >0.496467</td>\n",
       "                        <td id=\"T_be256c64_994c_11eb_a9d2_02420a39d715row2_col4\" class=\"data row2 col4\" >0.322358</td>\n",
       "                        <td id=\"T_be256c64_994c_11eb_a9d2_02420a39d715row2_col5\" class=\"data row2 col5\" >0.171332</td>\n",
       "                        <td id=\"T_be256c64_994c_11eb_a9d2_02420a39d715row2_col6\" class=\"data row2 col6\" >0.527129</td>\n",
       "            </tr>\n",
       "            <tr>\n",
       "                        <th id=\"T_be256c64_994c_11eb_a9d2_02420a39d715level0_row3\" class=\"row_heading level0 row3\" >other_sales</th>\n",
       "                        <td id=\"T_be256c64_994c_11eb_a9d2_02420a39d715row3_col0\" class=\"data row3 col0\" >0.944259</td>\n",
       "                        <td id=\"T_be256c64_994c_11eb_a9d2_02420a39d715row3_col1\" class=\"data row3 col1\" >0.944698</td>\n",
       "                        <td id=\"T_be256c64_994c_11eb_a9d2_02420a39d715row3_col2\" class=\"data row3 col2\" >0.496467</td>\n",
       "                        <td id=\"T_be256c64_994c_11eb_a9d2_02420a39d715row3_col3\" class=\"data row3 col3\" >1</td>\n",
       "                        <td id=\"T_be256c64_994c_11eb_a9d2_02420a39d715row3_col4\" class=\"data row3 col4\" >0.409191</td>\n",
       "                        <td id=\"T_be256c64_994c_11eb_a9d2_02420a39d715row3_col5\" class=\"data row3 col5\" >-0.0356391</td>\n",
       "                        <td id=\"T_be256c64_994c_11eb_a9d2_02420a39d715row3_col6\" class=\"data row3 col6\" >0.998051</td>\n",
       "            </tr>\n",
       "            <tr>\n",
       "                        <th id=\"T_be256c64_994c_11eb_a9d2_02420a39d715level0_row4\" class=\"row_heading level0 row4\" >critic_score</th>\n",
       "                        <td id=\"T_be256c64_994c_11eb_a9d2_02420a39d715row4_col0\" class=\"data row4 col0\" >0.415008</td>\n",
       "                        <td id=\"T_be256c64_994c_11eb_a9d2_02420a39d715row4_col1\" class=\"data row4 col1\" >0.34672</td>\n",
       "                        <td id=\"T_be256c64_994c_11eb_a9d2_02420a39d715row4_col2\" class=\"data row4 col2\" >0.322358</td>\n",
       "                        <td id=\"T_be256c64_994c_11eb_a9d2_02420a39d715row4_col3\" class=\"data row4 col3\" >0.409191</td>\n",
       "                        <td id=\"T_be256c64_994c_11eb_a9d2_02420a39d715row4_col4\" class=\"data row4 col4\" >1</td>\n",
       "                        <td id=\"T_be256c64_994c_11eb_a9d2_02420a39d715row4_col5\" class=\"data row4 col5\" >0.557654</td>\n",
       "                        <td id=\"T_be256c64_994c_11eb_a9d2_02420a39d715row4_col6\" class=\"data row4 col6\" >0.406568</td>\n",
       "            </tr>\n",
       "            <tr>\n",
       "                        <th id=\"T_be256c64_994c_11eb_a9d2_02420a39d715level0_row5\" class=\"row_heading level0 row5\" >user_score</th>\n",
       "                        <td id=\"T_be256c64_994c_11eb_a9d2_02420a39d715row5_col0\" class=\"data row5 col0\" >-0.020933</td>\n",
       "                        <td id=\"T_be256c64_994c_11eb_a9d2_02420a39d715row5_col1\" class=\"data row5 col1\" >-0.0489248</td>\n",
       "                        <td id=\"T_be256c64_994c_11eb_a9d2_02420a39d715row5_col2\" class=\"data row5 col2\" >0.171332</td>\n",
       "                        <td id=\"T_be256c64_994c_11eb_a9d2_02420a39d715row5_col3\" class=\"data row5 col3\" >-0.0356391</td>\n",
       "                        <td id=\"T_be256c64_994c_11eb_a9d2_02420a39d715row5_col4\" class=\"data row5 col4\" >0.557654</td>\n",
       "                        <td id=\"T_be256c64_994c_11eb_a9d2_02420a39d715row5_col5\" class=\"data row5 col5\" >1</td>\n",
       "                        <td id=\"T_be256c64_994c_11eb_a9d2_02420a39d715row5_col6\" class=\"data row5 col6\" >-0.0319571</td>\n",
       "            </tr>\n",
       "            <tr>\n",
       "                        <th id=\"T_be256c64_994c_11eb_a9d2_02420a39d715level0_row6\" class=\"row_heading level0 row6\" >total_sales</th>\n",
       "                        <td id=\"T_be256c64_994c_11eb_a9d2_02420a39d715row6_col0\" class=\"data row6 col0\" >0.92816</td>\n",
       "                        <td id=\"T_be256c64_994c_11eb_a9d2_02420a39d715row6_col1\" class=\"data row6 col1\" >0.958157</td>\n",
       "                        <td id=\"T_be256c64_994c_11eb_a9d2_02420a39d715row6_col2\" class=\"data row6 col2\" >0.527129</td>\n",
       "                        <td id=\"T_be256c64_994c_11eb_a9d2_02420a39d715row6_col3\" class=\"data row6 col3\" >0.998051</td>\n",
       "                        <td id=\"T_be256c64_994c_11eb_a9d2_02420a39d715row6_col4\" class=\"data row6 col4\" >0.406568</td>\n",
       "                        <td id=\"T_be256c64_994c_11eb_a9d2_02420a39d715row6_col5\" class=\"data row6 col5\" >-0.0319571</td>\n",
       "                        <td id=\"T_be256c64_994c_11eb_a9d2_02420a39d715row6_col6\" class=\"data row6 col6\" >1</td>\n",
       "            </tr>\n",
       "    </tbody></table>"
      ],
      "text/plain": [
       "<pandas.io.formats.style.Styler at 0x7faee5baa950>"
      ]
     },
     "metadata": {},
     "output_type": "display_data"
    }
   ],
   "source": [
    "print('\\n', 'Корреляционная матрица, коэф. Пирсона')\n",
    "display(games[games['platform'] == 'PS4'].corr().style.background_gradient(cmap='coolwarm'))"
   ]
  },
  {
   "cell_type": "markdown",
   "metadata": {},
   "source": [
    "Оценка критиков лучше характеризует продажи (наблюдается небольшая положительная корреляция 0.41), чем оценка пользователей (почти нулевая корреляция на уровне -0.03).\n",
    "\n",
    "Тем не менее в этом выводе есть, по крайней мере, два изъяна. Первый заключается в том, что коэффициент Пирсона чувствителен к выбросам, но мы не удаляли их из датасета. Второй - иногда закономерности могут носить нелинейный характер, и в этом случае коэффициент корреляции может оказаться бесполезным показателем.\n",
    "\n",
    "Поэтому рассчитаем коэффициент ранговой корреляции Спирмена. Он более устойчив к выбросам и может определить некоторые типы нелинейной зависимости.\n",
    "Используем тот же код, только функции corr передадим параметр method='spearman'."
   ]
  },
  {
   "cell_type": "code",
   "execution_count": 31,
   "metadata": {},
   "outputs": [
    {
     "name": "stdout",
     "output_type": "stream",
     "text": [
      "\n",
      " Корреляционная матрица, коэф. Спирмена\n"
     ]
    },
    {
     "data": {
      "text/html": [
       "<style  type=\"text/css\" >\n",
       "    #T_be2db248_994c_11eb_a9d2_02420a39d715row0_col0 {\n",
       "            background-color:  #b40426;\n",
       "            color:  #f1f1f1;\n",
       "        }    #T_be2db248_994c_11eb_a9d2_02420a39d715row0_col1 {\n",
       "            background-color:  #eb7d62;\n",
       "            color:  #000000;\n",
       "        }    #T_be2db248_994c_11eb_a9d2_02420a39d715row0_col2 {\n",
       "            background-color:  #4e68d8;\n",
       "            color:  #000000;\n",
       "        }    #T_be2db248_994c_11eb_a9d2_02420a39d715row0_col3 {\n",
       "            background-color:  #c83836;\n",
       "            color:  #f1f1f1;\n",
       "        }    #T_be2db248_994c_11eb_a9d2_02420a39d715row0_col4 {\n",
       "            background-color:  #7a9df8;\n",
       "            color:  #000000;\n",
       "        }    #T_be2db248_994c_11eb_a9d2_02420a39d715row0_col5 {\n",
       "            background-color:  #3b4cc0;\n",
       "            color:  #f1f1f1;\n",
       "        }    #T_be2db248_994c_11eb_a9d2_02420a39d715row0_col6 {\n",
       "            background-color:  #d65244;\n",
       "            color:  #000000;\n",
       "        }    #T_be2db248_994c_11eb_a9d2_02420a39d715row1_col0 {\n",
       "            background-color:  #e97a5f;\n",
       "            color:  #000000;\n",
       "        }    #T_be2db248_994c_11eb_a9d2_02420a39d715row1_col1 {\n",
       "            background-color:  #b40426;\n",
       "            color:  #f1f1f1;\n",
       "        }    #T_be2db248_994c_11eb_a9d2_02420a39d715row1_col2 {\n",
       "            background-color:  #5470de;\n",
       "            color:  #000000;\n",
       "        }    #T_be2db248_994c_11eb_a9d2_02420a39d715row1_col3 {\n",
       "            background-color:  #cc403a;\n",
       "            color:  #f1f1f1;\n",
       "        }    #T_be2db248_994c_11eb_a9d2_02420a39d715row1_col4 {\n",
       "            background-color:  #6f92f3;\n",
       "            color:  #000000;\n",
       "        }    #T_be2db248_994c_11eb_a9d2_02420a39d715row1_col5 {\n",
       "            background-color:  #4961d2;\n",
       "            color:  #f1f1f1;\n",
       "        }    #T_be2db248_994c_11eb_a9d2_02420a39d715row1_col6 {\n",
       "            background-color:  #d55042;\n",
       "            color:  #000000;\n",
       "        }    #T_be2db248_994c_11eb_a9d2_02420a39d715row2_col0 {\n",
       "            background-color:  #9bbcff;\n",
       "            color:  #000000;\n",
       "        }    #T_be2db248_994c_11eb_a9d2_02420a39d715row2_col1 {\n",
       "            background-color:  #93b5fe;\n",
       "            color:  #000000;\n",
       "        }    #T_be2db248_994c_11eb_a9d2_02420a39d715row2_col2 {\n",
       "            background-color:  #b40426;\n",
       "            color:  #f1f1f1;\n",
       "        }    #T_be2db248_994c_11eb_a9d2_02420a39d715row2_col3 {\n",
       "            background-color:  #98b9ff;\n",
       "            color:  #000000;\n",
       "        }    #T_be2db248_994c_11eb_a9d2_02420a39d715row2_col4 {\n",
       "            background-color:  #3b4cc0;\n",
       "            color:  #f1f1f1;\n",
       "        }    #T_be2db248_994c_11eb_a9d2_02420a39d715row2_col5 {\n",
       "            background-color:  #8badfd;\n",
       "            color:  #000000;\n",
       "        }    #T_be2db248_994c_11eb_a9d2_02420a39d715row2_col6 {\n",
       "            background-color:  #c9d7f0;\n",
       "            color:  #000000;\n",
       "        }    #T_be2db248_994c_11eb_a9d2_02420a39d715row3_col0 {\n",
       "            background-color:  #c83836;\n",
       "            color:  #f1f1f1;\n",
       "        }    #T_be2db248_994c_11eb_a9d2_02420a39d715row3_col1 {\n",
       "            background-color:  #cd423b;\n",
       "            color:  #f1f1f1;\n",
       "        }    #T_be2db248_994c_11eb_a9d2_02420a39d715row3_col2 {\n",
       "            background-color:  #536edd;\n",
       "            color:  #000000;\n",
       "        }    #T_be2db248_994c_11eb_a9d2_02420a39d715row3_col3 {\n",
       "            background-color:  #b40426;\n",
       "            color:  #f1f1f1;\n",
       "        }    #T_be2db248_994c_11eb_a9d2_02420a39d715row3_col4 {\n",
       "            background-color:  #88abfd;\n",
       "            color:  #000000;\n",
       "        }    #T_be2db248_994c_11eb_a9d2_02420a39d715row3_col5 {\n",
       "            background-color:  #4257c9;\n",
       "            color:  #f1f1f1;\n",
       "        }    #T_be2db248_994c_11eb_a9d2_02420a39d715row3_col6 {\n",
       "            background-color:  #c32e31;\n",
       "            color:  #f1f1f1;\n",
       "        }    #T_be2db248_994c_11eb_a9d2_02420a39d715row4_col0 {\n",
       "            background-color:  #e0dbd8;\n",
       "            color:  #000000;\n",
       "        }    #T_be2db248_994c_11eb_a9d2_02420a39d715row4_col1 {\n",
       "            background-color:  #d4dbe6;\n",
       "            color:  #000000;\n",
       "        }    #T_be2db248_994c_11eb_a9d2_02420a39d715row4_col2 {\n",
       "            background-color:  #7b9ff9;\n",
       "            color:  #000000;\n",
       "        }    #T_be2db248_994c_11eb_a9d2_02420a39d715row4_col3 {\n",
       "            background-color:  #e3d9d3;\n",
       "            color:  #000000;\n",
       "        }    #T_be2db248_994c_11eb_a9d2_02420a39d715row4_col4 {\n",
       "            background-color:  #b40426;\n",
       "            color:  #f1f1f1;\n",
       "        }    #T_be2db248_994c_11eb_a9d2_02420a39d715row4_col5 {\n",
       "            background-color:  #d7dce3;\n",
       "            color:  #000000;\n",
       "        }    #T_be2db248_994c_11eb_a9d2_02420a39d715row4_col6 {\n",
       "            background-color:  #e2dad5;\n",
       "            color:  #000000;\n",
       "        }    #T_be2db248_994c_11eb_a9d2_02420a39d715row5_col0 {\n",
       "            background-color:  #3b4cc0;\n",
       "            color:  #f1f1f1;\n",
       "        }    #T_be2db248_994c_11eb_a9d2_02420a39d715row5_col1 {\n",
       "            background-color:  #3b4cc0;\n",
       "            color:  #f1f1f1;\n",
       "        }    #T_be2db248_994c_11eb_a9d2_02420a39d715row5_col2 {\n",
       "            background-color:  #3b4cc0;\n",
       "            color:  #f1f1f1;\n",
       "        }    #T_be2db248_994c_11eb_a9d2_02420a39d715row5_col3 {\n",
       "            background-color:  #3b4cc0;\n",
       "            color:  #f1f1f1;\n",
       "        }    #T_be2db248_994c_11eb_a9d2_02420a39d715row5_col4 {\n",
       "            background-color:  #6687ed;\n",
       "            color:  #000000;\n",
       "        }    #T_be2db248_994c_11eb_a9d2_02420a39d715row5_col5 {\n",
       "            background-color:  #b40426;\n",
       "            color:  #f1f1f1;\n",
       "        }    #T_be2db248_994c_11eb_a9d2_02420a39d715row5_col6 {\n",
       "            background-color:  #3b4cc0;\n",
       "            color:  #f1f1f1;\n",
       "        }    #T_be2db248_994c_11eb_a9d2_02420a39d715row6_col0 {\n",
       "            background-color:  #d55042;\n",
       "            color:  #000000;\n",
       "        }    #T_be2db248_994c_11eb_a9d2_02420a39d715row6_col1 {\n",
       "            background-color:  #d55042;\n",
       "            color:  #000000;\n",
       "        }    #T_be2db248_994c_11eb_a9d2_02420a39d715row6_col2 {\n",
       "            background-color:  #98b9ff;\n",
       "            color:  #000000;\n",
       "        }    #T_be2db248_994c_11eb_a9d2_02420a39d715row6_col3 {\n",
       "            background-color:  #c32e31;\n",
       "            color:  #f1f1f1;\n",
       "        }    #T_be2db248_994c_11eb_a9d2_02420a39d715row6_col4 {\n",
       "            background-color:  #8db0fe;\n",
       "            color:  #000000;\n",
       "        }    #T_be2db248_994c_11eb_a9d2_02420a39d715row6_col5 {\n",
       "            background-color:  #4a63d3;\n",
       "            color:  #f1f1f1;\n",
       "        }    #T_be2db248_994c_11eb_a9d2_02420a39d715row6_col6 {\n",
       "            background-color:  #b40426;\n",
       "            color:  #f1f1f1;\n",
       "        }</style><table id=\"T_be2db248_994c_11eb_a9d2_02420a39d715\" ><thead>    <tr>        <th class=\"blank level0\" ></th>        <th class=\"col_heading level0 col0\" >na_sales</th>        <th class=\"col_heading level0 col1\" >eu_sales</th>        <th class=\"col_heading level0 col2\" >jp_sales</th>        <th class=\"col_heading level0 col3\" >other_sales</th>        <th class=\"col_heading level0 col4\" >critic_score</th>        <th class=\"col_heading level0 col5\" >user_score</th>        <th class=\"col_heading level0 col6\" >total_sales</th>    </tr></thead><tbody>\n",
       "                <tr>\n",
       "                        <th id=\"T_be2db248_994c_11eb_a9d2_02420a39d715level0_row0\" class=\"row_heading level0 row0\" >na_sales</th>\n",
       "                        <td id=\"T_be2db248_994c_11eb_a9d2_02420a39d715row0_col0\" class=\"data row0 col0\" >1</td>\n",
       "                        <td id=\"T_be2db248_994c_11eb_a9d2_02420a39d715row0_col1\" class=\"data row0 col1\" >0.808123</td>\n",
       "                        <td id=\"T_be2db248_994c_11eb_a9d2_02420a39d715row0_col2\" class=\"data row0 col2\" >0.231602</td>\n",
       "                        <td id=\"T_be2db248_994c_11eb_a9d2_02420a39d715row0_col3\" class=\"data row0 col3\" >0.940445</td>\n",
       "                        <td id=\"T_be2db248_994c_11eb_a9d2_02420a39d715row0_col4\" class=\"data row0 col4\" >0.471392</td>\n",
       "                        <td id=\"T_be2db248_994c_11eb_a9d2_02420a39d715row0_col5\" class=\"data row0 col5\" >-0.0849873</td>\n",
       "                        <td id=\"T_be2db248_994c_11eb_a9d2_02420a39d715row0_col6\" class=\"data row0 col6\" >0.896344</td>\n",
       "            </tr>\n",
       "            <tr>\n",
       "                        <th id=\"T_be2db248_994c_11eb_a9d2_02420a39d715level0_row1\" class=\"row_heading level0 row1\" >eu_sales</th>\n",
       "                        <td id=\"T_be2db248_994c_11eb_a9d2_02420a39d715row1_col0\" class=\"data row1 col0\" >0.808123</td>\n",
       "                        <td id=\"T_be2db248_994c_11eb_a9d2_02420a39d715row1_col1\" class=\"data row1 col1\" >1</td>\n",
       "                        <td id=\"T_be2db248_994c_11eb_a9d2_02420a39d715row1_col2\" class=\"data row1 col2\" >0.245849</td>\n",
       "                        <td id=\"T_be2db248_994c_11eb_a9d2_02420a39d715row1_col3\" class=\"data row1 col3\" >0.927348</td>\n",
       "                        <td id=\"T_be2db248_994c_11eb_a9d2_02420a39d715row1_col4\" class=\"data row1 col4\" >0.451354</td>\n",
       "                        <td id=\"T_be2db248_994c_11eb_a9d2_02420a39d715row1_col5\" class=\"data row1 col5\" >-0.0308866</td>\n",
       "                        <td id=\"T_be2db248_994c_11eb_a9d2_02420a39d715row1_col6\" class=\"data row1 col6\" >0.900919</td>\n",
       "            </tr>\n",
       "            <tr>\n",
       "                        <th id=\"T_be2db248_994c_11eb_a9d2_02420a39d715level0_row2\" class=\"row_heading level0 row2\" >jp_sales</th>\n",
       "                        <td id=\"T_be2db248_994c_11eb_a9d2_02420a39d715row2_col0\" class=\"data row2 col0\" >0.231602</td>\n",
       "                        <td id=\"T_be2db248_994c_11eb_a9d2_02420a39d715row2_col1\" class=\"data row2 col1\" >0.245849</td>\n",
       "                        <td id=\"T_be2db248_994c_11eb_a9d2_02420a39d715row2_col2\" class=\"data row2 col2\" >1</td>\n",
       "                        <td id=\"T_be2db248_994c_11eb_a9d2_02420a39d715row2_col3\" class=\"data row2 col3\" >0.24312</td>\n",
       "                        <td id=\"T_be2db248_994c_11eb_a9d2_02420a39d715row2_col4\" class=\"data row2 col4\" >0.342327</td>\n",
       "                        <td id=\"T_be2db248_994c_11eb_a9d2_02420a39d715row2_col5\" class=\"data row2 col5\" >0.178352</td>\n",
       "                        <td id=\"T_be2db248_994c_11eb_a9d2_02420a39d715row2_col6\" class=\"data row2 col6\" >0.412517</td>\n",
       "            </tr>\n",
       "            <tr>\n",
       "                        <th id=\"T_be2db248_994c_11eb_a9d2_02420a39d715level0_row3\" class=\"row_heading level0 row3\" >other_sales</th>\n",
       "                        <td id=\"T_be2db248_994c_11eb_a9d2_02420a39d715row3_col0\" class=\"data row3 col0\" >0.940445</td>\n",
       "                        <td id=\"T_be2db248_994c_11eb_a9d2_02420a39d715row3_col1\" class=\"data row3 col1\" >0.927348</td>\n",
       "                        <td id=\"T_be2db248_994c_11eb_a9d2_02420a39d715row3_col2\" class=\"data row3 col2\" >0.24312</td>\n",
       "                        <td id=\"T_be2db248_994c_11eb_a9d2_02420a39d715row3_col3\" class=\"data row3 col3\" >1</td>\n",
       "                        <td id=\"T_be2db248_994c_11eb_a9d2_02420a39d715row3_col4\" class=\"data row3 col4\" >0.496975</td>\n",
       "                        <td id=\"T_be2db248_994c_11eb_a9d2_02420a39d715row3_col5\" class=\"data row3 col5\" >-0.0581336</td>\n",
       "                        <td id=\"T_be2db248_994c_11eb_a9d2_02420a39d715row3_col6\" class=\"data row3 col6\" >0.956728</td>\n",
       "            </tr>\n",
       "            <tr>\n",
       "                        <th id=\"T_be2db248_994c_11eb_a9d2_02420a39d715level0_row4\" class=\"row_heading level0 row4\" >critic_score</th>\n",
       "                        <td id=\"T_be2db248_994c_11eb_a9d2_02420a39d715row4_col0\" class=\"data row4 col0\" >0.471392</td>\n",
       "                        <td id=\"T_be2db248_994c_11eb_a9d2_02420a39d715row4_col1\" class=\"data row4 col1\" >0.451354</td>\n",
       "                        <td id=\"T_be2db248_994c_11eb_a9d2_02420a39d715row4_col2\" class=\"data row4 col2\" >0.342327</td>\n",
       "                        <td id=\"T_be2db248_994c_11eb_a9d2_02420a39d715row4_col3\" class=\"data row4 col3\" >0.496975</td>\n",
       "                        <td id=\"T_be2db248_994c_11eb_a9d2_02420a39d715row4_col4\" class=\"data row4 col4\" >1</td>\n",
       "                        <td id=\"T_be2db248_994c_11eb_a9d2_02420a39d715row4_col5\" class=\"data row4 col5\" >0.433309</td>\n",
       "                        <td id=\"T_be2db248_994c_11eb_a9d2_02420a39d715row4_col6\" class=\"data row4 col6\" >0.508238</td>\n",
       "            </tr>\n",
       "            <tr>\n",
       "                        <th id=\"T_be2db248_994c_11eb_a9d2_02420a39d715level0_row5\" class=\"row_heading level0 row5\" >user_score</th>\n",
       "                        <td id=\"T_be2db248_994c_11eb_a9d2_02420a39d715row5_col0\" class=\"data row5 col0\" >-0.0849873</td>\n",
       "                        <td id=\"T_be2db248_994c_11eb_a9d2_02420a39d715row5_col1\" class=\"data row5 col1\" >-0.0308866</td>\n",
       "                        <td id=\"T_be2db248_994c_11eb_a9d2_02420a39d715row5_col2\" class=\"data row5 col2\" >0.178352</td>\n",
       "                        <td id=\"T_be2db248_994c_11eb_a9d2_02420a39d715row5_col3\" class=\"data row5 col3\" >-0.0581336</td>\n",
       "                        <td id=\"T_be2db248_994c_11eb_a9d2_02420a39d715row5_col4\" class=\"data row5 col4\" >0.433309</td>\n",
       "                        <td id=\"T_be2db248_994c_11eb_a9d2_02420a39d715row5_col5\" class=\"data row5 col5\" >1</td>\n",
       "                        <td id=\"T_be2db248_994c_11eb_a9d2_02420a39d715row5_col6\" class=\"data row5 col6\" >-0.0283403</td>\n",
       "            </tr>\n",
       "            <tr>\n",
       "                        <th id=\"T_be2db248_994c_11eb_a9d2_02420a39d715level0_row6\" class=\"row_heading level0 row6\" >total_sales</th>\n",
       "                        <td id=\"T_be2db248_994c_11eb_a9d2_02420a39d715row6_col0\" class=\"data row6 col0\" >0.896344</td>\n",
       "                        <td id=\"T_be2db248_994c_11eb_a9d2_02420a39d715row6_col1\" class=\"data row6 col1\" >0.900919</td>\n",
       "                        <td id=\"T_be2db248_994c_11eb_a9d2_02420a39d715row6_col2\" class=\"data row6 col2\" >0.412517</td>\n",
       "                        <td id=\"T_be2db248_994c_11eb_a9d2_02420a39d715row6_col3\" class=\"data row6 col3\" >0.956728</td>\n",
       "                        <td id=\"T_be2db248_994c_11eb_a9d2_02420a39d715row6_col4\" class=\"data row6 col4\" >0.508238</td>\n",
       "                        <td id=\"T_be2db248_994c_11eb_a9d2_02420a39d715row6_col5\" class=\"data row6 col5\" >-0.0283403</td>\n",
       "                        <td id=\"T_be2db248_994c_11eb_a9d2_02420a39d715row6_col6\" class=\"data row6 col6\" >1</td>\n",
       "            </tr>\n",
       "    </tbody></table>"
      ],
      "text/plain": [
       "<pandas.io.formats.style.Styler at 0x7faee5bbcfd0>"
      ]
     },
     "metadata": {},
     "output_type": "display_data"
    }
   ],
   "source": [
    "print('\\n', 'Корреляционная матрица, коэф. Спирмена')\n",
    "display(games[games['platform'] == 'PS4'].corr(method='spearman').style.background_gradient(cmap='coolwarm'))"
   ]
  },
  {
   "cell_type": "markdown",
   "metadata": {},
   "source": [
    "Коэффициент Спирмена оказался выше коэффициента Пирсона (положительная корреляция 0.51), оценка пользователей на уровне (-0.03), опять почти нулевая корреляция.\n",
    "\n",
    "Посчитаем коэффициэнты корреляции Пирсона по всем платформам вместе."
   ]
  },
  {
   "cell_type": "code",
   "execution_count": 32,
   "metadata": {},
   "outputs": [
    {
     "name": "stdout",
     "output_type": "stream",
     "text": [
      "Коэффициэнт Пирсона для отзывов критиков: 0.31\n",
      "Коэффициэнт Пирсона для отзывов пользователей: -0.00\n"
     ]
    }
   ],
   "source": [
    "print('Коэффициэнт Пирсона для отзывов критиков: {:.2f}'.format(games['critic_score'].corr(games['total_sales'])))\n",
    "print('Коэффициэнт Пирсона для отзывов пользователей: {:.2f}'.format(games['user_score'].corr(games['total_sales'])))"
   ]
  },
  {
   "cell_type": "markdown",
   "metadata": {},
   "source": [
    "Выведем коэффициенты Спирмена для всех отзывов."
   ]
  },
  {
   "cell_type": "code",
   "execution_count": 33,
   "metadata": {},
   "outputs": [
    {
     "name": "stdout",
     "output_type": "stream",
     "text": [
      "Коэффициэнт Спирмена для отзывов критиков: 0.43\n",
      "Коэффициэнт Спирмена для отзывов пользователей: -0.01\n"
     ]
    }
   ],
   "source": [
    "print('Коэффициэнт Спирмена для отзывов критиков: {:.2f}'.format(games['critic_score'].corr(games['total_sales'], method='spearman')))\n",
    "print('Коэффициэнт Спирмена для отзывов пользователей: {:.2f}'.format(games['user_score'].corr(games['total_sales'], method='spearman')))"
   ]
  },
  {
   "cell_type": "markdown",
   "metadata": {},
   "source": [
    "В наборе данных наблюдается слабая положительная корреляция между количеством проданных копий и оценками критиков. Коэффициэнт Спирмена больше коэффициента Пирсона, вероятно, зависимость носит нелинейный характер. Взаимосвязь между количеством продаж и оценками пользователей настолько мала, что ею можно пренебречь."
   ]
  },
  {
   "cell_type": "markdown",
   "metadata": {},
   "source": [
    "### Продажи по жанрам"
   ]
  },
  {
   "cell_type": "markdown",
   "metadata": {},
   "source": [
    "Посмотрим на общее распределение игр по жанрам."
   ]
  },
  {
   "cell_type": "code",
   "execution_count": 34,
   "metadata": {},
   "outputs": [
    {
     "data": {
      "text/plain": [
       "Action          766\n",
       "Role-Playing    292\n",
       "Adventure       245\n",
       "Sports          214\n",
       "Shooter         187\n",
       "Misc            155\n",
       "Racing           85\n",
       "Fighting         80\n",
       "Platform         74\n",
       "Simulation       62\n",
       "Strategy         56\n",
       "Puzzle           17\n",
       "Name: genre, dtype: int64"
      ]
     },
     "execution_count": 34,
     "metadata": {},
     "output_type": "execute_result"
    }
   ],
   "source": [
    "games['genre'].value_counts()"
   ]
  },
  {
   "cell_type": "markdown",
   "metadata": {},
   "source": [
    "Найдем наиболее популярные жанры. Для этого применим сводную таблицу, где в одной колонке посчитаем общее количество выпущенных игр в каждом жанре (c 2013 года), во второй - количество проданных копий по каждому жанру, а в третьей - среднее количество проданных копий на одну игру жанра."
   ]
  },
  {
   "cell_type": "code",
   "execution_count": 35,
   "metadata": {},
   "outputs": [
    {
     "data": {
      "text/html": [
       "<div>\n",
       "<style scoped>\n",
       "    .dataframe tbody tr th:only-of-type {\n",
       "        vertical-align: middle;\n",
       "    }\n",
       "\n",
       "    .dataframe tbody tr th {\n",
       "        vertical-align: top;\n",
       "    }\n",
       "\n",
       "    .dataframe thead tr th {\n",
       "        text-align: left;\n",
       "    }\n",
       "\n",
       "    .dataframe thead tr:last-of-type th {\n",
       "        text-align: right;\n",
       "    }\n",
       "</style>\n",
       "<table border=\"1\" class=\"dataframe\">\n",
       "  <thead>\n",
       "    <tr>\n",
       "      <th></th>\n",
       "      <th>count</th>\n",
       "      <th>sum</th>\n",
       "      <th>mean</th>\n",
       "    </tr>\n",
       "    <tr>\n",
       "      <th></th>\n",
       "      <th>total_sales</th>\n",
       "      <th>total_sales</th>\n",
       "      <th>total_sales</th>\n",
       "    </tr>\n",
       "    <tr>\n",
       "      <th>genre</th>\n",
       "      <th></th>\n",
       "      <th></th>\n",
       "      <th></th>\n",
       "    </tr>\n",
       "  </thead>\n",
       "  <tbody>\n",
       "    <tr>\n",
       "      <td>Action</td>\n",
       "      <td>766</td>\n",
       "      <td>321.87</td>\n",
       "      <td>0.420196</td>\n",
       "    </tr>\n",
       "    <tr>\n",
       "      <td>Shooter</td>\n",
       "      <td>187</td>\n",
       "      <td>232.98</td>\n",
       "      <td>1.245882</td>\n",
       "    </tr>\n",
       "    <tr>\n",
       "      <td>Sports</td>\n",
       "      <td>214</td>\n",
       "      <td>150.65</td>\n",
       "      <td>0.703972</td>\n",
       "    </tr>\n",
       "    <tr>\n",
       "      <td>Role-Playing</td>\n",
       "      <td>292</td>\n",
       "      <td>145.89</td>\n",
       "      <td>0.499623</td>\n",
       "    </tr>\n",
       "    <tr>\n",
       "      <td>Misc</td>\n",
       "      <td>155</td>\n",
       "      <td>62.82</td>\n",
       "      <td>0.405290</td>\n",
       "    </tr>\n",
       "    <tr>\n",
       "      <td>Platform</td>\n",
       "      <td>74</td>\n",
       "      <td>42.63</td>\n",
       "      <td>0.576081</td>\n",
       "    </tr>\n",
       "    <tr>\n",
       "      <td>Racing</td>\n",
       "      <td>85</td>\n",
       "      <td>39.89</td>\n",
       "      <td>0.469294</td>\n",
       "    </tr>\n",
       "    <tr>\n",
       "      <td>Fighting</td>\n",
       "      <td>80</td>\n",
       "      <td>35.31</td>\n",
       "      <td>0.441375</td>\n",
       "    </tr>\n",
       "    <tr>\n",
       "      <td>Adventure</td>\n",
       "      <td>245</td>\n",
       "      <td>23.64</td>\n",
       "      <td>0.096490</td>\n",
       "    </tr>\n",
       "    <tr>\n",
       "      <td>Simulation</td>\n",
       "      <td>62</td>\n",
       "      <td>21.76</td>\n",
       "      <td>0.350968</td>\n",
       "    </tr>\n",
       "  </tbody>\n",
       "</table>\n",
       "</div>"
      ],
      "text/plain": [
       "                   count         sum        mean\n",
       "             total_sales total_sales total_sales\n",
       "genre                                           \n",
       "Action               766      321.87    0.420196\n",
       "Shooter              187      232.98    1.245882\n",
       "Sports               214      150.65    0.703972\n",
       "Role-Playing         292      145.89    0.499623\n",
       "Misc                 155       62.82    0.405290\n",
       "Platform              74       42.63    0.576081\n",
       "Racing                85       39.89    0.469294\n",
       "Fighting              80       35.31    0.441375\n",
       "Adventure            245       23.64    0.096490\n",
       "Simulation            62       21.76    0.350968"
      ]
     },
     "metadata": {},
     "output_type": "display_data"
    }
   ],
   "source": [
    "genres = games.pivot_table(index='genre', values='total_sales', aggfunc=['count','sum','mean'])\n",
    "genres = genres.sort_values(by=('sum', 'total_sales'), ascending=False).head(10)\n",
    "display(genres)"
   ]
  },
  {
   "cell_type": "markdown",
   "metadata": {},
   "source": [
    "Самыми продаваемыми жанрами являются Action и Shooter (1 и 2 места соответственно). Интересно, что количество выпущенных игр (наименований игр) неодинаково соотносится с количеством их проданных копий. Например, шутеров всего 187 игр (это меньше, чем в жанрах на 3-5 местах), но в среднем количестве проданных копий на одну игру этот жанр обгоняет всех конкурентов. Хороший шутер принесет больше прибыли, чем спортивная игра или даже экшен."
   ]
  },
  {
   "cell_type": "markdown",
   "metadata": {},
   "source": [
    "### Вывод"
   ]
  },
  {
   "cell_type": "markdown",
   "metadata": {},
   "source": [
    "По статистике продаж за 2016 год определены наиболее перспективные игры в разрезе платформ. Ими оказались продукты для PS4, XOne и 3DS.\n",
    "\n",
    "Исследована зависимость между уровнем продаж и оценками критиков и пользователей. Если отзывы пользователей с продажами никак не связаны, то между количеством проданных копий и оценками критиков слабая положительная корреляция обнаружена. \n",
    "\n",
    "Для выявления зависимостей были использованы коэффициенты Пирсона и Спирмена. Коэффициент Пирсона чувствителен к выбросам, но мы не удаляли их из датасета. Ирония заключается в том, что, скорее всего, именно выбросы и будут интересовать заказчика исследования как самый популярный и продаваемый товар: он же хочет рекламную кампанию спланировать. И их удаление из датасета противоречит здравому смыслу.\n",
    "\n",
    "Выведен список и самых продаваемых жанров. На первом месте Action, следом идут Shooter и Sports. И хотя экшен по общим продажам лидирует, среднее количество проданных копий на одну игру у шутеров гораздо выше. Это значит, что доля популярных игр среди шутеров больше, чем у победителя рейтинга."
   ]
  },
  {
   "cell_type": "markdown",
   "metadata": {},
   "source": [
    "## Изучение пользователей по регионам"
   ]
  },
  {
   "cell_type": "markdown",
   "metadata": {},
   "source": [
    "### Популярные платформы"
   ]
  },
  {
   "cell_type": "markdown",
   "metadata": {},
   "source": [
    "Для каждого региона составим свой Топ-5 платформ, которые продаются лучше всего."
   ]
  },
  {
   "cell_type": "code",
   "execution_count": 36,
   "metadata": {},
   "outputs": [
    {
     "name": "stdout",
     "output_type": "stream",
     "text": [
      "\n",
      " В Северной Америке \n",
      " platform\n",
      "PS4     108.74\n",
      "XOne     93.12\n",
      "X360     81.66\n",
      "PS3      63.50\n",
      "3DS      38.20\n",
      "Name: na_sales, dtype: float64\n",
      "\n",
      " В Европе \n",
      " platform\n",
      "PS4     141.09\n",
      "PS3      67.81\n",
      "XOne     51.59\n",
      "X360     42.52\n",
      "3DS      30.96\n",
      "Name: eu_sales, dtype: float64\n",
      "\n",
      " В Японии \n",
      " platform\n",
      "3DS     67.81\n",
      "PS3     23.35\n",
      "PSV     18.59\n",
      "PS4     15.96\n",
      "WiiU    10.88\n",
      "Name: jp_sales, dtype: float64\n",
      "\n",
      " В других странах \n",
      " platform\n",
      "PS4     48.35\n",
      "PS3     26.77\n",
      "XOne    14.27\n",
      "X360    12.11\n",
      "3DS      6.28\n",
      "Name: other_sales, dtype: float64\n"
     ]
    }
   ],
   "source": [
    "platforms_regions = games.pivot_table(index='platform', values=['na_sales', 'eu_sales', 'jp_sales', 'other_sales'], aggfunc='sum')\n",
    "print('\\n','В Северной Америке', '\\n', platforms_regions.sort_values(by='na_sales', ascending=False)['na_sales'].head(5))\n",
    "print('\\n','В Европе', '\\n', platforms_regions.sort_values(by='eu_sales', ascending=False)['eu_sales'].head(5))\n",
    "print('\\n','В Японии', '\\n', platforms_regions.sort_values(by='jp_sales', ascending=False)['jp_sales'].head(5))\n",
    "print('\\n','В других странах', '\\n', platforms_regions.sort_values(by='other_sales', ascending=False)['other_sales'].head(5))"
   ]
  },
  {
   "cell_type": "markdown",
   "metadata": {},
   "source": [
    "В Северной Америке более всех популярна Play Station 4, хотя XOne и X360 там тоже сильно востребованы (второе и третье места соответсвенно).\n",
    "\n",
    "Японцы любят Nintendo, часто покупают игрушки и для PS , но почему-то предпочитают третью модель, а не более современную четвертую. Вероятно, на руках у населения сохранилось очень много ранее купленных консолей, и пользователи пока не считают нужным их менять. Вообще Топ-5 для страны восходящего солнца вышел очень патриотичным, там присутствуют платформы только от своих компаний. \n",
    "\n",
    "Жители Европы и остального мира более космополитичны в своих предпочтениях и покупают консоли разных производителей. Однако, детище Sony они предпочитают остальным, верхушку рейтинга занимают PS4 и PS3. "
   ]
  },
  {
   "cell_type": "markdown",
   "metadata": {},
   "source": [
    "### Популярные жанры"
   ]
  },
  {
   "cell_type": "markdown",
   "metadata": {},
   "source": [
    "Выявим самые популярные жанры игр (Топ-5) в разных регионах."
   ]
  },
  {
   "cell_type": "code",
   "execution_count": 37,
   "metadata": {},
   "outputs": [
    {
     "name": "stdout",
     "output_type": "stream",
     "text": [
      "\n",
      " В Северной Америке \n",
      " genre\n",
      "Action          126.05\n",
      "Shooter         109.74\n",
      "Sports           65.27\n",
      "Role-Playing     46.40\n",
      "Misc             27.49\n",
      "Name: na_sales, dtype: float64\n",
      "\n",
      " В Европе \n",
      " genre\n",
      "Action          118.13\n",
      "Shooter          87.86\n",
      "Sports           60.52\n",
      "Role-Playing     36.97\n",
      "Racing           20.19\n",
      "Name: eu_sales, dtype: float64\n",
      "\n",
      " В Японии \n",
      " genre\n",
      "Role-Playing    51.04\n",
      "Action          40.49\n",
      "Misc             9.20\n",
      "Fighting         7.65\n",
      "Shooter          6.61\n",
      "Name: jp_sales, dtype: float64\n",
      "\n",
      " В других странах \n",
      " genre\n",
      "Action          37.20\n",
      "Shooter         28.77\n",
      "Sports          19.45\n",
      "Role-Playing    11.48\n",
      "Misc             6.09\n",
      "Name: other_sales, dtype: float64\n"
     ]
    }
   ],
   "source": [
    "platforms_genres = games.pivot_table(index='genre', values=['na_sales', 'eu_sales', 'jp_sales', 'other_sales'], aggfunc='sum')\n",
    "print('\\n','В Северной Америке', '\\n', platforms_genres.sort_values(by='na_sales', ascending=False)['na_sales'].head(5))\n",
    "print('\\n','В Европе', '\\n', platforms_genres.sort_values(by='eu_sales', ascending=False)['eu_sales'].head(5))\n",
    "print('\\n','В Японии', '\\n', platforms_genres.sort_values(by='jp_sales', ascending=False)['jp_sales'].head(5))\n",
    "print('\\n','В других странах', '\\n', platforms_genres.sort_values(by='other_sales', ascending=False)['other_sales'].head(5))"
   ]
  },
  {
   "cell_type": "markdown",
   "metadata": {},
   "source": [
    "В целом предпочтения по игровым жанрам в мире однородны. Практически везде на первых местах Action, \n",
    "Shooter и Sports. Но на общем фоне сильно выделяется Япония, топ там другой. Экшен, правда, любят и здесь, но вот к шутерам и спортивным играм равнодушны. Их рейтинг Role-Playing, Action и Misc. "
   ]
  },
  {
   "cell_type": "markdown",
   "metadata": {},
   "source": [
    "### Рейтинг ESRB"
   ]
  },
  {
   "cell_type": "markdown",
   "metadata": {},
   "source": [
    "Посмотрим, игры каких рейтингов особенно популярны (в разрезе регионов)."
   ]
  },
  {
   "cell_type": "code",
   "execution_count": 38,
   "metadata": {},
   "outputs": [
    {
     "name": "stdout",
     "output_type": "stream",
     "text": [
      "\n",
      " В Северной Америке \n",
      " rating\n",
      "M            165.21\n",
      "undefined     89.42\n",
      "E             79.05\n",
      "E10+          54.24\n",
      "T             49.79\n",
      "Name: na_sales, dtype: float64\n",
      "\n",
      " В Европе \n",
      " rating\n",
      "M            145.32\n",
      "E             83.36\n",
      "undefined     78.91\n",
      "E10+          42.69\n",
      "T             41.95\n",
      "Name: eu_sales, dtype: float64\n",
      "\n",
      " В Японии \n",
      " rating\n",
      "undefined    85.05\n",
      "T            20.59\n",
      "E            15.14\n",
      "M            14.11\n",
      "E10+          5.89\n",
      "Name: jp_sales, dtype: float64\n",
      "\n",
      " В других странах \n",
      " rating\n",
      "M            47.04\n",
      "undefined    23.46\n",
      "E            22.61\n",
      "T            14.29\n",
      "E10+         12.57\n",
      "Name: other_sales, dtype: float64\n"
     ]
    }
   ],
   "source": [
    "rating_regions = games.pivot_table(index='rating', values=['na_sales', 'eu_sales', 'jp_sales', 'other_sales'], aggfunc='sum')\n",
    "print('\\n','В Северной Америке', '\\n', rating_regions.sort_values(by='na_sales', ascending=False)['na_sales'].head(5))\n",
    "print('\\n','В Европе', '\\n', rating_regions.sort_values(by='eu_sales', ascending=False)['eu_sales'].head(5))\n",
    "print('\\n','В Японии', '\\n', rating_regions.sort_values(by='jp_sales', ascending=False)['jp_sales'].head(5))\n",
    "print('\\n','В других странах', '\\n', rating_regions.sort_values(by='other_sales', ascending=False)['other_sales'].head(5))"
   ]
  },
  {
   "cell_type": "markdown",
   "metadata": {},
   "source": [
    "Регионы разные, но предпочтения у всех аналогичные (кроме одной страны). \n",
    "Практически везде лидируют игры с рейтингом «M» («Для взрослых», содержание не подходит для детей и подростков младше 17 лет). Второе место у игр с рейтингом «E» («Для всех», от 6 лет и старше) или у большой загадочной группы undefined (именно этим значением мы заменили пропуски в столбце rating). Следом идут игры «T» («Подросткам», для лиц от 13 лет). Замыкают рейтинг категория «E10+» («Для всех от 10 лет и старше»). А вот игры с рейтингом «EC» («Для детей младшего возраста» от 3 лет) в наши топы вообще не попали. Да, маленькие дети не так уж и часто играют в видеоигры.\n",
    "\n",
    "В Японии картина несколько иная. Здесь на первом месте категория, созданная из NaN, т.е. жанр неизвестен. Если не принимать ее в расчет, то лидируют игры для всех и подростков. А вот категория \"Для взрослых\" лишь на четвертом месте. Видимо, взрослые слишком много работают."
   ]
  },
  {
   "cell_type": "markdown",
   "metadata": {},
   "source": [
    "### Вывод"
   ]
  },
  {
   "cell_type": "markdown",
   "metadata": {},
   "source": [
    "Поведение пользователей Северной Америки и Европы, в целом, сходно. Как правило, за последние четыре года предпочтение отдавалось Play Station 4, следом идет Play Station 3 или Xbox One, среди жанров - Action, Shooter или Sports, а наиболее популярные игры рассчитаны на взрослую аудиторию.\n",
    "\n",
    "А вот Япония сильно отличается от остального мира, причем по всем выбранным для сравнения параметрам сразу. Здесь более популярны игры для всей семьи и подростков, шутеры и спорт не в почете (лучше сыграем в какой-нибудь Role-Playing), а среди платформ котируются только японские (особенно Nintendo). Удивительно, но относительно современная PS4 в их топе занимает лишь четвертое место, хотя в рейтинге всех других регионов является лидером."
   ]
  },
  {
   "cell_type": "markdown",
   "metadata": {},
   "source": [
    "## Проверка гипотез"
   ]
  },
  {
   "cell_type": "markdown",
   "metadata": {},
   "source": [
    "### Пользовательские рейтинги платформ"
   ]
  },
  {
   "cell_type": "markdown",
   "metadata": {},
   "source": [
    "Определим, отличаются ли пользовательские рейтинги самых популярных платформ друг от друга. \n",
    "\n",
    "<div style=\"border: solid green 2px; padding: 10px\">\n",
    "За основу возьмем <strong>нулевую гипотезу</strong>, что средние пользовательские рейтинги платформ Xbox One и PC одинаковые. Вернее, все выявленные отличия можно объяснить случайностью. \n",
    "\n",
    "<strong>Альтернативная гипотеза</strong> будет заключатся в том, что с большой (или значительной) вероятностью найденные отличия не случайны, и средние пользовательские рейтинги платформ Xbox One и PC отличаются друг от друга.\n",
    "</div>"
   ]
  },
  {
   "cell_type": "markdown",
   "metadata": {},
   "source": [
    "Для сопоставления двух групп сначала подготовим два датасета: один для платформы Xbox One, другой для PC."
   ]
  },
  {
   "cell_type": "code",
   "execution_count": 39,
   "metadata": {},
   "outputs": [],
   "source": [
    "games_xbox = games[games['platform'] == 'XOne']\n",
    "games_pc = games[games['platform'] == 'PC']"
   ]
  },
  {
   "cell_type": "markdown",
   "metadata": {},
   "source": [
    "Взглянем на гистограмму распределений рейтингов по платформам."
   ]
  },
  {
   "cell_type": "code",
   "execution_count": 40,
   "metadata": {},
   "outputs": [
    {
     "data": {
      "text/plain": [
       "<matplotlib.legend.Legend at 0x7faee66f2f10>"
      ]
     },
     "execution_count": 40,
     "metadata": {},
     "output_type": "execute_result"
    },
    {
     "data": {
      "image/png": "[encoded data removed]",
      "text/plain": [
       "<Figure size 648x432 with 1 Axes>"
      ]
     },
     "metadata": {
      "needs_background": "light"
     },
     "output_type": "display_data"
    }
   ],
   "source": [
    "fig, ax = plt.subplots(figsize=(9,6))\n",
    "\n",
    "ax.hist(games_xbox['user_score'], density=True, bins=30, color='orange', alpha=0.5)\n",
    "ax.hist(games_pc['user_score'], density=True, bins=30, color='blue', histtype='step')\n",
    "ax.set_title('Пользовательские оценки игр по платформам')\n",
    "ax.set_xlabel('Оценки')\n",
    "ax.set_ylabel('Плотность частоты')\n",
    "ax.grid(alpha=0.2, linestyle='--', linewidth=1)\n",
    "ax.legend([\"PC\", \"Xbox One\"], loc=2, fontsize='x-large', labelspacing=1.5, handlelength=4.5)"
   ]
  },
  {
   "cell_type": "markdown",
   "metadata": {},
   "source": [
    "Два распределния похожи, но графики немного смещены относительно друг друга. Есть небольшая отрицательная скошенность влево. Это значит, что среднее сместится туда же.\n",
    "\n",
    "Посчитаем среднее значение по выборке."
   ]
  },
  {
   "cell_type": "code",
   "execution_count": 41,
   "metadata": {},
   "outputs": [
    {
     "name": "stdout",
     "output_type": "stream",
     "text": [
      "Cредняя оценка пользователей, XOne 6.52\n",
      "Cредняя оценка пользователей, PC 6.27\n"
     ]
    }
   ],
   "source": [
    "print('Cредняя оценка пользователей, XOne {:.2f}'.format(games_xbox['user_score'].mean()))\n",
    "print('Cредняя оценка пользователей, PC {:.2f}'.format(games_pc['user_score'].mean()))"
   ]
  },
  {
   "cell_type": "markdown",
   "metadata": {},
   "source": [
    "В среднем, пользователи оценивают две платформы примерно одинаково. Но, поскольку наши группы могут считаться только выборочными совокупностями (хотя бы по той причине, что многие записи были удалены из-за отсутствующих значений), то истинное среднее может быть каким-то другим числом, а не тем, что мы нашли. Расчитаем доверительный интервал для истинного среднего (mu)."
   ]
  },
  {
   "cell_type": "code",
   "execution_count": 42,
   "metadata": {},
   "outputs": [
    {
     "name": "stdout",
     "output_type": "stream",
     "text": [
      "Доверительный интервал для истинного среднего, XOne (6.319452023663737, 6.723405119193408)\n",
      "Доверительный интервал для истинного среднего, PC (5.993205025870744, 6.546149812838935)\n"
     ]
    }
   ],
   "source": [
    "print('Доверительный интервал для истинного среднего, XOne', (st.t.interval(0.95, len(games_xbox['user_score'].dropna())-1, loc=np.mean(games_xbox['user_score'].dropna()), scale=st.sem(games_xbox['user_score'].dropna()))))\n",
    "print('Доверительный интервал для истинного среднего, PC', (st.t.interval(0.95, len(games_pc['user_score'].dropna())-1, loc=np.mean(games_pc['user_score'].dropna()), scale=st.sem(games_pc['user_score'].dropna()))))"
   ]
  },
  {
   "cell_type": "markdown",
   "metadata": {},
   "source": [
    "С вероятностью 0.95 истинное среднее находится в этих пределах. \n",
    "Посмотрим, как сильно отличаются дисперсии двух групп. Используем в формуле параметр ddof=1 (для коррекции количества степеней свободы на n-1)."
   ]
  },
  {
   "cell_type": "code",
   "execution_count": 43,
   "metadata": {},
   "outputs": [
    {
     "name": "stdout",
     "output_type": "stream",
     "text": [
      "Дисперсия пользовательских оценок, XOne: 1.90\n",
      "Дисперсия пользовательских оценок, PC: 3.02\n",
      "Отношение дисперсий XOne и PC: 1.59\n"
     ]
    }
   ],
   "source": [
    "print('Дисперсия пользовательских оценок, XOne: {:.2f}'.format(np.var(games_xbox['user_score']), ddof=1))\n",
    "print('Дисперсия пользовательских оценок, PC: {:.2f}'.format(np.var(games_pc['user_score']), ddof=1))\n",
    "print('Отношение дисперсий XOne и PC: {:.2f}'.format(np.var(games_pc['user_score']) / np.var(games_xbox['user_score'])))"
   ]
  },
  {
   "cell_type": "markdown",
   "metadata": {},
   "source": [
    "Рассчитаем стандартное отклонение для двух платформ. Также используем параметр ddof=1."
   ]
  },
  {
   "cell_type": "code",
   "execution_count": 44,
   "metadata": {},
   "outputs": [
    {
     "name": "stdout",
     "output_type": "stream",
     "text": [
      "Стандартное отклонение, XOne: 1.38\n",
      "Стандартное отклонение, PC: 1.74\n"
     ]
    }
   ],
   "source": [
    "print('Стандартное отклонение, XOne: {:.2f}'.format(np.std(games_xbox['user_score'], ddof=1)))\n",
    "print('Стандартное отклонение, PC: {:.2f}'.format(np.std(games_pc['user_score'], ddof=1)))"
   ]
  },
  {
   "cell_type": "markdown",
   "metadata": {},
   "source": [
    "Поскольку уровень значимости для проверки гипотез чувствителен к экстремальным значениям, с помощью правила \"трех сигм\" определим наличие выбросов в оценках пользователей и удалим их.\n",
    "\n",
    "По правилам сигмы откладываются влево и вправо от математического ожидания, расположение которого нам неизвестно. С одной стороны, у нас есть выборочное среднее и скорректированное для выборки стандартное отклонение. Последнее значение, имеющие в своем знаменателе n-1 вместо n должно быть больше настоящего отклонения и компенсировать незнание разницы между выборочным и истинным средним. С другой - скорее всего, наше распределение не является симметричным и правильным. Поэтому немного отодвинем границы выбросов от среднего и отложим по три стандартных отклонения (рассчитанных по нашей выборке) с двух сторон не от выборочного среднего, а от границ доверительнго интервала для математического ожидания.\n",
    "\n",
    "Посчитаем интервал, куда должны уложиться до 99% значений."
   ]
  },
  {
   "cell_type": "code",
   "execution_count": 45,
   "metadata": {},
   "outputs": [
    {
     "name": "stdout",
     "output_type": "stream",
     "text": [
      "Границы выбросов для XOne 2.18 10.87\n",
      "Границы выбросов для PC 0.77 11.77\n"
     ]
    }
   ],
   "source": [
    "low = st.t.interval(0.95, len(games_xbox['user_score'].dropna())-1, loc=np.mean(games_xbox['user_score'].dropna()), scale=st.sem(games_xbox['user_score'].dropna()))[0] - (np.std(games_xbox['user_score'].dropna(), ddof=1))*3\n",
    "up = st.t.interval(0.95, len(games_xbox['user_score'].dropna())-1, loc=np.mean(games_xbox['user_score'].dropna()), scale=st.sem(games_xbox['user_score'].dropna()))[1] + (np.std(games_xbox['user_score'].dropna(), ddof=1))*3\n",
    "print('Границы выбросов для XOne {:.2f}'.format(low), '{:.2f}'.format(up))\n",
    "\n",
    "low = st.t.interval(0.95, len(games_pc['user_score'].dropna())-1, loc=np.mean(games_pc['user_score'].dropna()), scale=st.sem(games_pc['user_score'].dropna()))[0] - (np.std(games_pc['user_score'].dropna(), ddof=1))*3\n",
    "up = st.t.interval(0.95, len(games_pc['user_score'].dropna())-1, loc=np.mean(games_pc['user_score'].dropna()), scale=st.sem(games_pc['user_score'].dropna()))[1] + (np.std(games_pc['user_score'].dropna(), ddof=1))*3\n",
    "print('Границы выбросов для PC {:.2f}'.format(low), '{:.2f}'.format(up))"
   ]
  },
  {
   "cell_type": "markdown",
   "metadata": {},
   "source": [
    "Посмотрим, сильно ли будут отличатся границы для выбросов, расчитанные как 1,5 межквартильного размаха (как если бы мы построили боксплоты)."
   ]
  },
  {
   "cell_type": "code",
   "execution_count": 46,
   "metadata": {},
   "outputs": [
    {
     "name": "stdout",
     "output_type": "stream",
     "text": [
      "Границы выбросов по боксплотам, XOne: 3.20 10.00\n",
      "Границы выбросов по боксплотам, PC: 1.80 11.00\n"
     ]
    }
   ],
   "source": [
    "outliers_up = ((games_xbox['user_score'].describe()['75%'] - games_xbox['user_score'].describe()['25%'])*1.5 + games_xbox['user_score'].describe()['75%']).round(1)\n",
    "outliers_down = (games_xbox['user_score'].describe()['25%'] - (games_xbox['user_score'].describe()['75%'] - games_xbox['user_score'].describe()['25%'])*1.5).round(1)\n",
    "print('Границы выбросов по боксплотам, XOne: {:.2f}'.format(outliers_down), '{:.2f}'.format(outliers_up))\n",
    "\n",
    "outliers_up = ((games_pc['user_score'].describe()['75%'] - games_pc['user_score'].describe()['25%'])*1.5 + games_pc['user_score'].describe()['75%']).round(1)\n",
    "outliers_down = (games_pc['user_score'].describe()['25%'] - (games_pc['user_score'].describe()['75%'] - games_pc['user_score'].describe()['25%'])*1.5).round(1)\n",
    "print('Границы выбросов по боксплотам, PC: {:.2f}'.format(outliers_down), '{:.2f}'.format(outliers_up))"
   ]
  },
  {
   "cell_type": "markdown",
   "metadata": {},
   "source": [
    "\"Ящик с усами\" довольно сильно сжал область значений, которые можно считать нормальными. Но, поскольку межквартильный размах рассчитан по выборочной совокупности, а не по генеральной, удалять выбросы будем по правилу \"трех сигм\". \n",
    "\n",
    "Поскольку верхняя граница значений равна 10, то искать выбросы будем только по нижним границам, равным 2.18 баллов для Xbox и 0.77 для PC. Рассчитаем долю в датасетах и удалим их."
   ]
  },
  {
   "cell_type": "code",
   "execution_count": 47,
   "metadata": {},
   "outputs": [
    {
     "name": "stdout",
     "output_type": "stream",
     "text": [
      "Доля выбросов, XOne: 0.0081\n",
      "Доля выбросов, PC: 0.0000\n"
     ]
    }
   ],
   "source": [
    "print('Доля выбросов, XOne: {:.4f}'.format(games_xbox.query('user_score < 2.18')['user_score'].count()/len(games_xbox)))\n",
    "games_xbox = games_xbox.query('user_score >= 2.18')\n",
    "\n",
    "print('Доля выбросов, PC: {:.4f}'.format(games_pc.query('user_score < 0.77')['user_score'].count()/len(games_pc)))\n",
    "games_pc = games_pc.query('user_score >= 0.77')"
   ]
  },
  {
   "cell_type": "markdown",
   "metadata": {},
   "source": [
    "Для проверки гипотез Ho и Ha рассчитаем p-значение, за пороговую границу возьмем стандартные 0.05. Поскольку дисперсии отличаются друг от друга (отношение 1.59), в параметре equal_var укажем False."
   ]
  },
  {
   "cell_type": "code",
   "execution_count": 48,
   "metadata": {},
   "outputs": [
    {
     "name": "stdout",
     "output_type": "stream",
     "text": [
      "Ttest_indResult(statistic=1.7854176587900101, pvalue=0.07527231500884343) \n",
      "\n",
      "Нулевая гипотеза не отвергается\n"
     ]
    }
   ],
   "source": [
    "print(st.ttest_ind(games_xbox['user_score'], games_pc['user_score'], equal_var=False), '\\n')\n",
    "if st.ttest_ind(games_xbox['user_score'], games_pc['user_score'], equal_var=False)[1] < 0.05:\n",
    "    print('Нулевая гипотеза отвергнута, принята альтернативная')\n",
    "else:\n",
    "    print('Нулевая гипотеза не отвергается')"
   ]
  },
  {
   "cell_type": "markdown",
   "metadata": {},
   "source": [
    "Значение p-value равно 0.075. Оно выше определенного нами параметра альфа (0.05), соответственно, отклонить нулевую гипотезу мы не можем. И хотя мы не нашли значимых отличий между выборками, зафиксируем тот факт, что получившийся уровень значимости не так уж и далек от порогового значения. "
   ]
  },
  {
   "cell_type": "markdown",
   "metadata": {},
   "source": [
    "### Пользовательские рейтинги жанров"
   ]
  },
  {
   "cell_type": "markdown",
   "metadata": {},
   "source": [
    "Определим, есть ли разница между пользовательскими рейтингами жанров Action и Sports. \n",
    "\n",
    "<div style=\"border: solid green 2px; padding: 10px\">\n",
    "Наша <strong>нулевая гипотеза</strong> заключается в том, что особой разницы между средними пользовательскими рейтингами жанров Action и Sports нет, а видимые небольшие отличия вполне могут быть случайностью. \n",
    "\n",
    "Соответственно, <strong>альтернативная гипотеза</strong> будет означать то, что средние пользовательские рейтинги жанров Action и Sports разные.\n",
    "</div>\n",
    "\n",
    "Для каждой группы отфильтруем нужные значения. В нашем случае это игры жанров Action и Sports, выпущенные не ранее 2013г."
   ]
  },
  {
   "cell_type": "code",
   "execution_count": 49,
   "metadata": {},
   "outputs": [],
   "source": [
    "games_action = games[(games['genre'] == 'Action') & (games['year_of_release'] >= '2013')]\n",
    "games_sports = games[(games['genre'] == 'Sports') & (games['year_of_release'] >= '2013')]"
   ]
  },
  {
   "cell_type": "markdown",
   "metadata": {},
   "source": [
    "Построим график распределения для двух групп (Action и Sports)."
   ]
  },
  {
   "cell_type": "code",
   "execution_count": 50,
   "metadata": {},
   "outputs": [
    {
     "data": {
      "text/plain": [
       "<matplotlib.legend.Legend at 0x7faee619c3d0>"
      ]
     },
     "execution_count": 50,
     "metadata": {},
     "output_type": "execute_result"
    },
    {
     "data": {
      "image/png": "[encoded data removed]",
      "text/plain": [
       "<Figure size 648x432 with 1 Axes>"
      ]
     },
     "metadata": {
      "needs_background": "light"
     },
     "output_type": "display_data"
    }
   ],
   "source": [
    "fig, ax = plt.subplots(figsize=(9,6))\n",
    "\n",
    "ax.hist(games_action['user_score'], density=True, bins=30, color='green', alpha=0.5)\n",
    "ax.hist(games_sports['user_score'], density=True, bins=30, color='red', histtype='step')\n",
    "ax.set_title('Пользовательские оценки игр по жанрам')\n",
    "ax.set_xlabel('Оценки')\n",
    "ax.set_ylabel('Плотность частоты')\n",
    "ax.grid(alpha=0.2, linestyle='--', linewidth=1)\n",
    "ax.legend([\"Sports\", \"Action\"], loc=2, fontsize='x-large', labelspacing=1.5, handlelength=4.5)"
   ]
  },
  {
   "cell_type": "markdown",
   "metadata": {},
   "source": [
    "Основания графиков похожи, но при этом идентичными их не назовешь. Оба распределения скошены влево. Но в пиках наблюдается расхождение. Распределение Action более крутое, пик выше и левее, чем в более пологом графике Sports. Это говорит о том, что у жанра Action гораздо больше высоких оценок.\n",
    "\n",
    "Посчитаем средние значения."
   ]
  },
  {
   "cell_type": "code",
   "execution_count": 51,
   "metadata": {},
   "outputs": [
    {
     "name": "stdout",
     "output_type": "stream",
     "text": [
      "Cредняя оценка пользователей, Action 6.84\n",
      "Cредняя оценка пользователей, Sports 5.24\n"
     ]
    }
   ],
   "source": [
    "print('Cредняя оценка пользователей, Action {:.2f}'.format(games_action['user_score'].mean()))\n",
    "print('Cредняя оценка пользователей, Sports {:.2f}'.format(games_sports['user_score'].mean()))"
   ]
  },
  {
   "cell_type": "markdown",
   "metadata": {},
   "source": [
    "В среднем, пользователи оценивают игры жанра Action выше, чем Sports. Возможно, на это влияет сюжет игры. Оценим положение истинного среднего (mu), рассчитаем для него доверительный интервал."
   ]
  },
  {
   "cell_type": "code",
   "execution_count": 52,
   "metadata": {},
   "outputs": [
    {
     "name": "stdout",
     "output_type": "stream",
     "text": [
      "Доверительный интервал для истинного среднего, Action (6.704933720639976, 6.970130546712208)\n",
      "Доверительный интервал для истинного среднего, Sports (4.9596657314482115, 5.516584268551787)\n"
     ]
    }
   ],
   "source": [
    "print('Доверительный интервал для истинного среднего, Action', (st.t.interval(0.95, len(games_action['user_score'].dropna())-1, loc=np.mean(games_action['user_score'].dropna()), scale=st.sem(games_action['user_score'].dropna()))))\n",
    "print('Доверительный интервал для истинного среднего, Sports', (st.t.interval(0.95, len(games_sports['user_score'].dropna())-1, loc=np.mean(games_sports['user_score'].dropna()), scale=st.sem(games_sports['user_score'].dropna()))))"
   ]
  },
  {
   "cell_type": "markdown",
   "metadata": {},
   "source": [
    "С вероятностью 0.95 наши истинные средние будут находится в этих диапазонах.\n",
    "Рассчитаем дисперсии для двух сегментов, используя поправку для степеней свободы."
   ]
  },
  {
   "cell_type": "code",
   "execution_count": 53,
   "metadata": {},
   "outputs": [
    {
     "name": "stdout",
     "output_type": "stream",
     "text": [
      "Дисперсия пользовательских оценок, Action: 1.76\n",
      "Дисперсия пользовательских оценок, Sports: 3.16\n",
      "Отношение дисперсий Sports и Action: 1.79\n"
     ]
    }
   ],
   "source": [
    "print('Дисперсия пользовательских оценок, Action: {:.2f}'.format(np.var(games_action['user_score']), ddof=1))\n",
    "print('Дисперсия пользовательских оценок, Sports: {:.2f}'.format(np.var(games_sports['user_score']), ddof=1))\n",
    "print('Отношение дисперсий Sports и Action: {:.2f}'.format(np.var(games_sports['user_score']) / np.var(games_action['user_score'])))"
   ]
  },
  {
   "cell_type": "markdown",
   "metadata": {},
   "source": [
    "Дисперсии двух выборок отличаются друг от друга. Рассчитаем стандартное отклонение для выборочных совокупностей."
   ]
  },
  {
   "cell_type": "code",
   "execution_count": 54,
   "metadata": {},
   "outputs": [
    {
     "name": "stdout",
     "output_type": "stream",
     "text": [
      "Стандартное отклонение, Action: 1.33\n",
      "Стандартное отклонение, Sports: 1.78\n"
     ]
    }
   ],
   "source": [
    "print('Стандартное отклонение, Action: {:.2f}'.format(np.std(games_action['user_score'], ddof=1)))\n",
    "print('Стандартное отклонение, Sports: {:.2f}'.format(np.std(games_sports['user_score'], ddof=1)))"
   ]
  },
  {
   "cell_type": "markdown",
   "metadata": {},
   "source": [
    "Рассчитаем границы выбросов для обеих выборок."
   ]
  },
  {
   "cell_type": "code",
   "execution_count": 55,
   "metadata": {},
   "outputs": [
    {
     "name": "stdout",
     "output_type": "stream",
     "text": [
      "Границы выбросов для жанра Action 2.71 10.96\n",
      "Границы выбросов для жанра Sports -0.39 10.87\n"
     ]
    }
   ],
   "source": [
    "low = st.t.interval(0.95, len(games_action['user_score'].dropna())-1, loc=np.mean(games_action['user_score'].dropna()), scale=st.sem(games_action['user_score'].dropna()))[0] - (np.std(games_action['user_score'].dropna(), ddof=1))*3\n",
    "up = st.t.interval(0.95, len(games_action['user_score'].dropna())-1, loc=np.mean(games_action['user_score'].dropna()), scale=st.sem(games_action['user_score'].dropna()))[1] + (np.std(games_action['user_score'].dropna(), ddof=1))*3\n",
    "print('Границы выбросов для жанра Action {:.2f}'.format(low), '{:.2f}'.format(up))\n",
    "\n",
    "low = st.t.interval(0.95, len(games_sports['user_score'].dropna())-1, loc=np.mean(games_sports['user_score'].dropna()), scale=st.sem(games_sports['user_score'].dropna()))[0] - (np.std(games_sports['user_score'].dropna(), ddof=1))*3\n",
    "up = st.t.interval(0.95, len(games_sports['user_score'].dropna())-1, loc=np.mean(games_sports['user_score'].dropna()), scale=st.sem(games_sports['user_score'].dropna()))[1] + (np.std(games_sports['user_score'].dropna(), ddof=1))*3\n",
    "print('Границы выбросов для жанра Sports {:.2f}'.format(low), '{:.2f}'.format(up))"
   ]
  },
  {
   "cell_type": "markdown",
   "metadata": {},
   "source": [
    "Сравним с границами выбросов, рассчитанных как 1,5 межквартильного размаха."
   ]
  },
  {
   "cell_type": "code",
   "execution_count": 56,
   "metadata": {},
   "outputs": [
    {
     "name": "stdout",
     "output_type": "stream",
     "text": [
      "Границы выбросов по боксплотам, Action: 4.00 10.00\n",
      "Границы выбросов по боксплотам, Sports: 0.50 10.10\n"
     ]
    }
   ],
   "source": [
    "outliers_up = ((games_action['user_score'].describe()['75%'] - games_action['user_score'].describe()['25%'])*1.5 + games_action['user_score'].describe()['75%']).round(1)\n",
    "outliers_down = (games_action['user_score'].describe()['25%'] - (games_action['user_score'].describe()['75%'] - games_action['user_score'].describe()['25%'])*1.5).round(1)\n",
    "print('Границы выбросов по боксплотам, Action: {:.2f}'.format(outliers_down), '{:.2f}'.format(outliers_up))\n",
    "\n",
    "outliers_up = ((games_sports['user_score'].describe()['75%'] - games_sports['user_score'].describe()['25%'])*1.5 + games_sports['user_score'].describe()['75%']).round(1)\n",
    "outliers_down = (games_sports['user_score'].describe()['25%'] - (games_sports['user_score'].describe()['75%'] - games_sports['user_score'].describe()['25%'])*1.5).round(1)\n",
    "print('Границы выбросов по боксплотам, Sports: {:.2f}'.format(outliers_down), '{:.2f}'.format(outliers_up))"
   ]
  },
  {
   "cell_type": "markdown",
   "metadata": {},
   "source": [
    "Боксплоты сильно ограничили размах оценок для выборочной совокупности. Удалим выбросы по нижней границе, равной 2.71. Предварительно посчитаем их долю."
   ]
  },
  {
   "cell_type": "code",
   "execution_count": 57,
   "metadata": {},
   "outputs": [
    {
     "name": "stdout",
     "output_type": "stream",
     "text": [
      "Доля выбросов, Action: 0.0065\n",
      "Доля выбросов, Sports: 0.0000\n"
     ]
    }
   ],
   "source": [
    "print('Доля выбросов, Action: {:.4f}'.format(games_action.query('user_score < 2.71')['user_score'].count()/len(games_action)))\n",
    "games_action = games_action.query('user_score >= 2.71')\n",
    "\n",
    "print('Доля выбросов, Sports: {:.4f}'.format(games_sports.query('user_score < 0')['user_score'].count()/len(games_sports)))\n",
    "games_sports = games_sports.query('user_score >= 0')"
   ]
  },
  {
   "cell_type": "markdown",
   "metadata": {},
   "source": [
    "Для проверки гипотез рассчитаем уровень значимости, пороговое значение - 0.05. Поскольку отношение дисперсий равно 1.79, в параметре equal_var укажем False."
   ]
  },
  {
   "cell_type": "code",
   "execution_count": 58,
   "metadata": {},
   "outputs": [
    {
     "name": "stdout",
     "output_type": "stream",
     "text": [
      "Ttest_indResult(statistic=10.735994662708922, pvalue=5.5759211993437465e-22) \n",
      "\n",
      "Нулевая гипотеза отвергнута, принята альтернативная\n"
     ]
    }
   ],
   "source": [
    "print(st.ttest_ind(games_action['user_score'], games_sports['user_score'], equal_var=False), '\\n')\n",
    "if st.ttest_ind(games_action['user_score'], games_sports['user_score'], equal_var=False)[1] < 0.05:\n",
    "    print('Нулевая гипотеза отвергнута, принята альтернативная')\n",
    "else:\n",
    "    print('Нулевая гипотеза не отвергается')"
   ]
  },
  {
   "cell_type": "markdown",
   "metadata": {},
   "source": [
    "Значение p-value очень маленькое. Это значит, что мы можем отклонить нулевую гипотезу о равенстве средних оценок пользователей по жанрам Action и Sports, и принять альтернативную (средние в этих двух группах разные)."
   ]
  },
  {
   "cell_type": "markdown",
   "metadata": {},
   "source": [
    "### Вывод"
   ]
  },
  {
   "cell_type": "markdown",
   "metadata": {},
   "source": [
    "В разделе проверены две гипотезы о равенстве двух групп:\n",
    "1. средних пользовательских рейтингов платформ Xbox One и PC;\n",
    "2. средних пользовательских рейтингов жанров Action и Sports.\n",
    "\n",
    "Критерием для оценки послужил уровень значимости с заданным порогом в 0.05. \n",
    "В первом случае у нас не оказалось достаточных оснований, чтобы отвергнуть нулевую гипотезу. То есть средние пользовательские рейтинги платформ Xbox One и PC мы можем считать равными. Во втором случае нулевая гипотеза была отклонена и принята альтернативная: средние пользовательские рейтинги жанров Action и Sports разные, будем считать, что они отличаются друг от друга.\n",
    "\n",
    "Необходимо отметить, что в случае с платформами значение p-value равно 0.075, что не так уж и далеко от установленного нами предела. Это значит, что если мы останемся верны нулевой гипотезе (что средние двух групп равны), то точно такой же результат, какой мы наблюдаем, можно получить с вероятностью 7,5% (или в 7-8 случаях из 100). Это значит, что мы считаем основной нулевую гипотезу, но не можем однозначно утверждать, что она верна. Мы лишь не нашли значимых отличий между группами.\n",
    "\n",
    "Во втором случае альтернативная гипотеза (что средние пользовательские рейтинги жанров Action и Sports не равны) кажется более убедительной. Здесь p-value - это очень маленькая цифра, с большим количеством нулей после запятой."
   ]
  },
  {
   "cell_type": "markdown",
   "metadata": {},
   "source": [
    "## Общий вывод"
   ]
  },
  {
   "cell_type": "markdown",
   "metadata": {},
   "source": [
    "В работе изучена общая статистика по продажам игр в разрезах по годам, платформам и жанрам. Примерный жизненный цикл каждой консоли - около 7-10 лет, а разница между выходами поколений - 6-7 лет. В качестве альтернативного был взят период с 2013 года.\n",
    "\n",
    "Самыми перспективными продуктами оказались игры для платформ PS4, XOne и 3DS. Вывод был сделан на основе анализа продаж за 2016 год.\n",
    "\n",
    "Выявлена небольшая положительная зависимость между количеством проданных копий и оценками критиков, а вот корреляции между продажами и отзывами пользователей не обнаружено. \n",
    "\n",
    "Среди самых популярных жанров Action, Shooter и Sports. В целом, предпочтения потребителей одинаковы по всему миру, но Япония является исключением из правил. Здесь выбирают Role-Playing, Action и Misc. Похожая картина наблюдается и с платформами. Если во всех странах лидирует PS4, то в Японии на первом месте Nintendo. Игры здесь покупают больше для всей семьи или подростков, в то время как остальной мир останавливает свой выбор на играх взрослой категории.\n",
    "\n",
    "Гипотеза о равенстве средних пользовательских рейтингов платформ Xbox One и PC была принята, а вот о равенстве средних пользовательских рейтингов жанров Action и Sports отвергнута. Однако, всегда есть вероятность (хоть и небольшая), что наши выводы могут быть неверными.\n",
    "\n",
    "Также нужно понимать, что огромное влияние на продажи имеет качество самой игры, ее сюжет, проработанность деталей, наличие или отсутствие багов и прочие характеристики. И недавний выход Cyberpunk 2077 еще раз заставил всех об этом вспомнить. \n",
    "\n",
    "Иногда на доходы могут повлиять совсем неожиданные факторы. Например, такое несвязанное с играми событие, как поедание летучих мышей, способно резко поднять продажи по всему миру. Кроме того, образовался целый пласт ностальгирующих кастомеров, которые с удовольствием проводят время с 8-битными игрушками."
   ]
  }
 ],
 "metadata": {
  "kernelspec": {
   "display_name": "Python 3",
   "language": "python",
   "name": "python3"
  },
  "language_info": {
   "codemirror_mode": {
    "name": "ipython",
    "version": 3
   },
   "file_extension": ".py",
   "mimetype": "text/x-python",
   "name": "python",
   "nbconvert_exporter": "python",
   "pygments_lexer": "ipython3",
   "version": "3.7.3"
  },
  "toc": {
   "base_numbering": 1,
   "nav_menu": {},
   "number_sections": true,
   "sideBar": true,
   "skip_h1_title": true,
   "title_cell": "Table of Contents",
   "title_sidebar": "Contents",
   "toc_cell": false,
   "toc_position": {
    "height": "calc(100% - 180px)",
    "left": "10px",
    "top": "150px",
    "width": "164.988px"
   },
   "toc_section_display": true,
   "toc_window_display": true
  }
 },
 "nbformat": 4,
 "nbformat_minor": 2
}
