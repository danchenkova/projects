{
 "cells": [
  {
   "cell_type": "markdown",
   "metadata": {
    "id": "3H_7CxeRb7Sf",
    "toc": true
   },
   "source": [
    "<h1>Содержание<span class=\"tocSkip\"></span></h1>\n",
    "<div class=\"toc\"><ul class=\"toc-item\"><li><span><a href=\"#Изучение-и-подготовка-исходных-данных\" data-toc-modified-id=\"Изучение-и-подготовка-исходных-данных-1\"><span class=\"toc-item-num\">1&nbsp;&nbsp;</span>Изучение и подготовка исходных данных</a></span><ul class=\"toc-item\"><li><span><a href=\"#Вывод\" data-toc-modified-id=\"Вывод-1.1\"><span class=\"toc-item-num\">1.1&nbsp;&nbsp;</span>Вывод</a></span></li></ul></li><li><span><a href=\"#Анализ-временного-ряда\" data-toc-modified-id=\"Анализ-временного-ряда-2\"><span class=\"toc-item-num\">2&nbsp;&nbsp;</span>Анализ временного ряда</a></span><ul class=\"toc-item\"><li><span><a href=\"#Вывод\" data-toc-modified-id=\"Вывод-2.1\"><span class=\"toc-item-num\">2.1&nbsp;&nbsp;</span>Вывод</a></span></li></ul></li><li><span><a href=\"#Подготовка-признаков\" data-toc-modified-id=\"Подготовка-признаков-3\"><span class=\"toc-item-num\">3&nbsp;&nbsp;</span>Подготовка признаков</a></span><ul class=\"toc-item\"><li><span><a href=\"#Вывод\" data-toc-modified-id=\"Вывод-3.1\"><span class=\"toc-item-num\">3.1&nbsp;&nbsp;</span>Вывод</a></span></li></ul></li><li><span><a href=\"#Подбор-гиперпараметров-и-обучение-моделей\" data-toc-modified-id=\"Подбор-гиперпараметров-и-обучение-моделей-4\"><span class=\"toc-item-num\">4&nbsp;&nbsp;</span>Подбор гиперпараметров и обучение моделей</a></span><ul class=\"toc-item\"><li><span><a href=\"#Линейная-регрессия\" data-toc-modified-id=\"Линейная-регрессия-4.1\"><span class=\"toc-item-num\">4.1&nbsp;&nbsp;</span>Линейная регрессия</a></span></li><li><span><a href=\"#Дерево-решений\" data-toc-modified-id=\"Дерево-решений-4.2\"><span class=\"toc-item-num\">4.2&nbsp;&nbsp;</span>Дерево решений</a></span></li><li><span><a href=\"#Случайный-лес\" data-toc-modified-id=\"Случайный-лес-4.3\"><span class=\"toc-item-num\">4.3&nbsp;&nbsp;</span>Случайный лес</a></span></li><li><span><a href=\"#Гребневая-регрессия\" data-toc-modified-id=\"Гребневая-регрессия-4.4\"><span class=\"toc-item-num\">4.4&nbsp;&nbsp;</span>Гребневая регрессия</a></span></li><li><span><a href=\"#Градиентный-бустинг\" data-toc-modified-id=\"Градиентный-бустинг-4.5\"><span class=\"toc-item-num\">4.5&nbsp;&nbsp;</span>Градиентный бустинг</a></span><ul class=\"toc-item\"><li><span><a href=\"#GradientBoosting-Regressor\" data-toc-modified-id=\"GradientBoosting-Regressor-4.5.1\"><span class=\"toc-item-num\">4.5.1&nbsp;&nbsp;</span>GradientBoosting Regressor</a></span></li><li><span><a href=\"#LightGBM\" data-toc-modified-id=\"LightGBM-4.5.2\"><span class=\"toc-item-num\">4.5.2&nbsp;&nbsp;</span>LightGBM</a></span></li><li><span><a href=\"#CatBoost\" data-toc-modified-id=\"CatBoost-4.5.3\"><span class=\"toc-item-num\">4.5.3&nbsp;&nbsp;</span>CatBoost</a></span></li></ul></li><li><span><a href=\"#Вывод\" data-toc-modified-id=\"Вывод-4.6\"><span class=\"toc-item-num\">4.6&nbsp;&nbsp;</span>Вывод</a></span></li></ul></li><li><span><a href=\"#Тестирование\" data-toc-modified-id=\"Тестирование-5\"><span class=\"toc-item-num\">5&nbsp;&nbsp;</span>Тестирование</a></span><ul class=\"toc-item\"><li><span><a href=\"#Вывод\" data-toc-modified-id=\"Вывод-5.1\"><span class=\"toc-item-num\">5.1&nbsp;&nbsp;</span>Вывод</a></span></li></ul></li><li><span><a href=\"#Общий-вывод\" data-toc-modified-id=\"Общий-вывод-6\"><span class=\"toc-item-num\">6&nbsp;&nbsp;</span>Общий вывод</a></span></li><li><span><a href=\"#Чек-лист-проверки\" data-toc-modified-id=\"Чек-лист-проверки-7\"><span class=\"toc-item-num\">7&nbsp;&nbsp;</span>Чек-лист проверки</a></span></li></ul></div>"
   ]
  },
  {
   "cell_type": "markdown",
   "metadata": {
    "id": "rSVTotTob7Sn"
   },
   "source": [
    "#  Прогнозирование заказов такси"
   ]
  },
  {
   "cell_type": "markdown",
   "metadata": {
    "id": "j8LH7uSQb7Sr"
   },
   "source": [
    "Компания «Чётенькое такси» собрала исторические данные о заказах такси в аэропортах. Чтобы привлекать больше водителей в период пиковой нагрузки, нужно спрогнозировать количество заказов такси на следующий час. Требуется построить модель для такого предсказания. Значение метрики *RMSE* на тестовой выборке должно быть не больше 48.\n",
    "\n",
    "**Цель проекта**\n",
    "\n",
    "Построить наилучшую модель для прогнозирования количества заказов такси на следующий час.\n",
    "\n",
    "**Задачи**\n",
    "\n",
    "1. Изучить предоставленные наборы данных, обработать для последующего анализа.\n",
    "2. Проанализировать динамику количества заказов такси в зависимости от времени.\n",
    "3. Подготовить данные для обучения.\n",
    "4. Исследовать базовые модели и рассмотреть, как меняются показатели оценки в зависимости от примененной модели. Подобрать гиперпараметры.\n",
    "5. Проверить модели на тестовой выборке, выявить наилучшую и проверить по итоговой метрике RMSE."
   ]
  },
  {
   "cell_type": "markdown",
   "metadata": {
    "id": "ECvYlGgpb7Sv"
   },
   "source": [
    "## Изучение и подготовка исходных данных"
   ]
  },
  {
   "cell_type": "code",
   "execution_count": 65,
   "metadata": {
    "colab": {
     "base_uri": "https://localhost:8080/"
    },
    "id": "VC0u4Vj6cd1R",
    "outputId": "391f63a6-a456-4634-f46a-ad9bfebb1a7e"
   },
   "outputs": [
    {
     "name": "stdout",
     "output_type": "stream",
     "text": [
      "Requirement already satisfied: catboost in /usr/local/lib/python3.7/dist-packages (0.26.1)\n",
      "Requirement already satisfied: scipy in /usr/local/lib/python3.7/dist-packages (from catboost) (1.4.1)\n",
      "Requirement already satisfied: pandas>=0.24.0 in /usr/local/lib/python3.7/dist-packages (from catboost) (1.1.5)\n",
      "Requirement already satisfied: plotly in /usr/local/lib/python3.7/dist-packages (from catboost) (4.4.1)\n",
      "Requirement already satisfied: numpy>=1.16.0 in /usr/local/lib/python3.7/dist-packages (from catboost) (1.19.5)\n",
      "Requirement already satisfied: six in /usr/local/lib/python3.7/dist-packages (from catboost) (1.15.0)\n",
      "Requirement already satisfied: graphviz in /usr/local/lib/python3.7/dist-packages (from catboost) (0.10.1)\n",
      "Requirement already satisfied: matplotlib in /usr/local/lib/python3.7/dist-packages (from catboost) (3.2.2)\n",
      "Requirement already satisfied: pytz>=2017.2 in /usr/local/lib/python3.7/dist-packages (from pandas>=0.24.0->catboost) (2018.9)\n",
      "Requirement already satisfied: python-dateutil>=2.7.3 in /usr/local/lib/python3.7/dist-packages (from pandas>=0.24.0->catboost) (2.8.2)\n",
      "Requirement already satisfied: kiwisolver>=1.0.1 in /usr/local/lib/python3.7/dist-packages (from matplotlib->catboost) (1.3.1)\n",
      "Requirement already satisfied: pyparsing!=2.0.4,!=2.1.2,!=2.1.6,>=2.0.1 in /usr/local/lib/python3.7/dist-packages (from matplotlib->catboost) (2.4.7)\n",
      "Requirement already satisfied: cycler>=0.10 in /usr/local/lib/python3.7/dist-packages (from matplotlib->catboost) (0.10.0)\n",
      "Requirement already satisfied: retrying>=1.3.3 in /usr/local/lib/python3.7/dist-packages (from plotly->catboost) (1.3.3)\n"
     ]
    }
   ],
   "source": [
    "pip install catboost"
   ]
  },
  {
   "cell_type": "code",
   "execution_count": 66,
   "metadata": {
    "id": "qJ5XdeVRb7Sy"
   },
   "outputs": [],
   "source": [
    "import pandas as pd\n",
    "import numpy as np\n",
    "import matplotlib.pyplot as plt\n",
    "from IPython.display import display\n",
    "\n",
    "from sklearn.model_selection import train_test_split, GridSearchCV, cross_val_score, TimeSeriesSplit\n",
    "from sklearn.preprocessing import StandardScaler\n",
    "pd.options.mode.chained_assignment = None\n",
    "from statsmodels.tsa.seasonal import seasonal_decompose\n",
    "\n",
    "from sklearn.linear_model import LinearRegression, Ridge\n",
    "from sklearn.tree import DecisionTreeRegressor\n",
    "from sklearn.ensemble import RandomForestRegressor\n",
    "from lightgbm import LGBMRegressor\n",
    "from catboost import CatBoostRegressor\n",
    "from sklearn.ensemble import GradientBoostingRegressor\n",
    "\n",
    "from scipy import stats as st\n",
    "from sklearn import metrics\n",
    "from sklearn.metrics import mean_squared_error, mean_absolute_error, r2_score, make_scorer\n",
    "\n",
    "import warnings\n",
    "warnings.filterwarnings(\"ignore\")"
   ]
  },
  {
   "cell_type": "markdown",
   "metadata": {
    "id": "rbvWTpxWb7S3"
   },
   "source": [
    "Загрузим предоставленный файл и сохраним его в переменной taxi."
   ]
  },
  {
   "cell_type": "code",
   "execution_count": 67,
   "metadata": {
    "colab": {
     "base_uri": "https://localhost:8080/",
     "height": 206
    },
    "id": "GJ76Mgmob7S5",
    "outputId": "be723183-72e9-4899-d620-89bab14dfefe"
   },
   "outputs": [
    {
     "data": {
      "text/html": [
       "<div>\n",
       "<style scoped>\n",
       "    .dataframe tbody tr th:only-of-type {\n",
       "        vertical-align: middle;\n",
       "    }\n",
       "\n",
       "    .dataframe tbody tr th {\n",
       "        vertical-align: top;\n",
       "    }\n",
       "\n",
       "    .dataframe thead th {\n",
       "        text-align: right;\n",
       "    }\n",
       "</style>\n",
       "<table border=\"1\" class=\"dataframe\">\n",
       "  <thead>\n",
       "    <tr style=\"text-align: right;\">\n",
       "      <th></th>\n",
       "      <th>datetime</th>\n",
       "      <th>num_orders</th>\n",
       "    </tr>\n",
       "  </thead>\n",
       "  <tbody>\n",
       "    <tr>\n",
       "      <th>0</th>\n",
       "      <td>2018-03-01 00:00:00</td>\n",
       "      <td>9</td>\n",
       "    </tr>\n",
       "    <tr>\n",
       "      <th>1</th>\n",
       "      <td>2018-03-01 00:10:00</td>\n",
       "      <td>14</td>\n",
       "    </tr>\n",
       "    <tr>\n",
       "      <th>2</th>\n",
       "      <td>2018-03-01 00:20:00</td>\n",
       "      <td>28</td>\n",
       "    </tr>\n",
       "    <tr>\n",
       "      <th>3</th>\n",
       "      <td>2018-03-01 00:30:00</td>\n",
       "      <td>20</td>\n",
       "    </tr>\n",
       "    <tr>\n",
       "      <th>4</th>\n",
       "      <td>2018-03-01 00:40:00</td>\n",
       "      <td>32</td>\n",
       "    </tr>\n",
       "  </tbody>\n",
       "</table>\n",
       "</div>"
      ],
      "text/plain": [
       "              datetime  num_orders\n",
       "0  2018-03-01 00:00:00           9\n",
       "1  2018-03-01 00:10:00          14\n",
       "2  2018-03-01 00:20:00          28\n",
       "3  2018-03-01 00:30:00          20\n",
       "4  2018-03-01 00:40:00          32"
      ]
     },
     "metadata": {},
     "output_type": "display_data"
    }
   ],
   "source": [
    "taxi = pd.read_csv('/content/taxi.csv')\n",
    "display(taxi.head())"
   ]
  },
  {
   "cell_type": "markdown",
   "metadata": {
    "id": "eJCXXtDMb7S-"
   },
   "source": [
    "Посмотрим, столбцы с какими типами данных имеются в датасете, и есть ли там пропуски."
   ]
  },
  {
   "cell_type": "code",
   "execution_count": 68,
   "metadata": {
    "colab": {
     "base_uri": "https://localhost:8080/"
    },
    "id": "8N9yyzBHb7TB",
    "outputId": "859f6e97-f7c2-4f6f-e10b-dc15a2e1f556"
   },
   "outputs": [
    {
     "name": "stdout",
     "output_type": "stream",
     "text": [
      "<class 'pandas.core.frame.DataFrame'>\n",
      "RangeIndex: 26496 entries, 0 to 26495\n",
      "Data columns (total 2 columns):\n",
      " #   Column      Non-Null Count  Dtype \n",
      "---  ------      --------------  ----- \n",
      " 0   datetime    26496 non-null  object\n",
      " 1   num_orders  26496 non-null  int64 \n",
      "dtypes: int64(1), object(1)\n",
      "memory usage: 414.1+ KB\n",
      "None\n"
     ]
    }
   ],
   "source": [
    "print(taxi.info())"
   ]
  },
  {
   "cell_type": "markdown",
   "metadata": {
    "id": "6Oa2TOFmb7TJ"
   },
   "source": [
    "Пропущенных значений нет, колонок всего две. Одна из них содержит неправильный формат типа данных (object вместо даты), исправим это."
   ]
  },
  {
   "cell_type": "code",
   "execution_count": 69,
   "metadata": {
    "id": "U2IuTLDDb7TK"
   },
   "outputs": [],
   "source": [
    "taxi['datetime']= pd.to_datetime(taxi['datetime'])"
   ]
  },
  {
   "cell_type": "markdown",
   "metadata": {
    "id": "WRY1kEeOb7TL"
   },
   "source": [
    "Проверим датасет на наличие дубликатов."
   ]
  },
  {
   "cell_type": "code",
   "execution_count": 70,
   "metadata": {
    "colab": {
     "base_uri": "https://localhost:8080/"
    },
    "id": "pLAXgh2Cb7TP",
    "outputId": "42ff2c23-f68f-450b-8960-1ad9115d8b75"
   },
   "outputs": [
    {
     "name": "stdout",
     "output_type": "stream",
     "text": [
      "Количество дубликатов в наборе данных: 0\n"
     ]
    }
   ],
   "source": [
    "print('Количество дубликатов в наборе данных: {}'.format(taxi.duplicated().sum()))"
   ]
  },
  {
   "cell_type": "markdown",
   "metadata": {
    "id": "2yFhwu9bb7TR"
   },
   "source": [
    "Установим индекс таблицы равным столбцу datetime."
   ]
  },
  {
   "cell_type": "code",
   "execution_count": 71,
   "metadata": {
    "id": "oQwIjA3Ib7TS"
   },
   "outputs": [],
   "source": [
    "taxi = taxi.set_index('datetime')"
   ]
  },
  {
   "cell_type": "markdown",
   "metadata": {
    "id": "hwr5YNuSb7TT"
   },
   "source": [
    "Проверим, в хронологическом ли порядке расположены даты и время, используя атрибут is_monotonic."
   ]
  },
  {
   "cell_type": "code",
   "execution_count": 72,
   "metadata": {
    "colab": {
     "base_uri": "https://localhost:8080/"
    },
    "id": "okpeCAZSb7TU",
    "outputId": "bb182458-5c22-4e7c-f06c-30ae5f492004"
   },
   "outputs": [
    {
     "name": "stdout",
     "output_type": "stream",
     "text": [
      "True\n"
     ]
    }
   ],
   "source": [
    "print(taxi.index.is_monotonic)"
   ]
  },
  {
   "cell_type": "markdown",
   "metadata": {
    "id": "uJiStcAAb7TV"
   },
   "source": [
    "Индекс таблицы сортировать не нужно. Поменяем интервал временного ряда, установим его равным одному часу."
   ]
  },
  {
   "cell_type": "code",
   "execution_count": 73,
   "metadata": {
    "id": "b8NUXMNZb7TW"
   },
   "outputs": [],
   "source": [
    "taxi = taxi.resample('1H').sum()"
   ]
  },
  {
   "cell_type": "markdown",
   "metadata": {
    "id": "0_DbpCTVb7TX"
   },
   "source": [
    "Посмотрим, сколько наблюдений в итоге получилось."
   ]
  },
  {
   "cell_type": "code",
   "execution_count": 74,
   "metadata": {
    "colab": {
     "base_uri": "https://localhost:8080/"
    },
    "id": "-mTzwgn5b7TY",
    "outputId": "91b65ae8-da7a-49aa-e82a-b8b5e2f269bf"
   },
   "outputs": [
    {
     "name": "stdout",
     "output_type": "stream",
     "text": [
      "<class 'pandas.core.frame.DataFrame'>\n",
      "DatetimeIndex: 4416 entries, 2018-03-01 00:00:00 to 2018-08-31 23:00:00\n",
      "Freq: H\n",
      "Data columns (total 1 columns):\n",
      " #   Column      Non-Null Count  Dtype\n",
      "---  ------      --------------  -----\n",
      " 0   num_orders  4416 non-null   int64\n",
      "dtypes: int64(1)\n",
      "memory usage: 69.0 KB\n",
      "None\n"
     ]
    }
   ],
   "source": [
    "print(taxi.info())"
   ]
  },
  {
   "cell_type": "markdown",
   "metadata": {
    "id": "OZo7eJwqb7TZ"
   },
   "source": [
    "Посмотрим на характеристики данного ряда."
   ]
  },
  {
   "cell_type": "code",
   "execution_count": 75,
   "metadata": {
    "colab": {
     "base_uri": "https://localhost:8080/"
    },
    "id": "db2eYNPtb7Tb",
    "outputId": "59a729aa-8f70-4a0f-b8c4-9cd29d2a8b2e"
   },
   "outputs": [
    {
     "name": "stdout",
     "output_type": "stream",
     "text": [
      "        num_orders\n",
      "count  4416.000000\n",
      "mean     84.422781\n",
      "std      45.023853\n",
      "min       0.000000\n",
      "25%      54.000000\n",
      "50%      78.000000\n",
      "75%     107.000000\n",
      "max     462.000000\n"
     ]
    }
   ],
   "source": [
    "print(taxi.describe())"
   ]
  },
  {
   "cell_type": "markdown",
   "metadata": {
    "id": "DRx9NVURb7Td"
   },
   "source": [
    "В среднем в час такси вызывают 84 раза. Однако, максимальное значение равно 462 раза, это очень далеко от среднего, а также от 75% всех случаев вызовов. Посмотрим на распределение количества заказов такси."
   ]
  },
  {
   "cell_type": "code",
   "execution_count": 76,
   "metadata": {
    "colab": {
     "base_uri": "https://localhost:8080/",
     "height": 295
    },
    "id": "nwPHL56_b7Td",
    "outputId": "3c0c97be-781a-42f1-c28f-b6c17df4d38a"
   },
   "outputs": [
    {
     "data": {
      "image/png": "[encoded data removed]",
      "text/plain": [
       "<Figure size 432x288 with 1 Axes>"
      ]
     },
     "metadata": {
      "needs_background": "light"
     },
     "output_type": "display_data"
    }
   ],
   "source": [
    "plt.hist(taxi['num_orders'], density=True, bins=70, color='green')\n",
    "plt.title('Распределение количество заказов такси')\n",
    "plt.xlabel('Количество заказов')\n",
    "plt.ylabel('Плотность частоты')\n",
    "plt.grid(alpha=0.2, linestyle='--', linewidth=1)"
   ]
  },
  {
   "cell_type": "markdown",
   "metadata": {
    "id": "WYiuVrcPb7Te"
   },
   "source": [
    "Судя по гистограмме, ряд имеет относительно небольшой разброс за исключением длинного узкого хвоста вправо. \n",
    "\n",
    "В данных существуют значения количества заказов, которые выходят очень далеко за пределы основного распределения. Выведем пороговое значение для 99,9% количеств всех заказов."
   ]
  },
  {
   "cell_type": "code",
   "execution_count": 77,
   "metadata": {
    "colab": {
     "base_uri": "https://localhost:8080/"
    },
    "id": "bwGm1napb7Tf",
    "outputId": "28e2d276-a7b7-49ad-be92-48b9e45fa675"
   },
   "outputs": [
    {
     "name": "stdout",
     "output_type": "stream",
     "text": [
      "289.1900000000005\n"
     ]
    }
   ],
   "source": [
    "print(taxi['num_orders'].quantile(.999))"
   ]
  },
  {
   "cell_type": "markdown",
   "metadata": {
    "id": "9PghnoCXb7Tj"
   },
   "source": [
    "Удалять выбросы из датасета не будем, чтобы не нарушать хронологическую последовательность в данных. Однако зафиксируем сам факт наличия выбросов."
   ]
  },
  {
   "cell_type": "markdown",
   "metadata": {
    "id": "_KLQBiGBb7Tk"
   },
   "source": [
    "### Вывод"
   ]
  },
  {
   "cell_type": "markdown",
   "metadata": {
    "id": "pdv-ZrjAb7Tl"
   },
   "source": [
    "Компанией «Чётенькое такси» предоставлены исторические данные о заказах такси в аэропортах. В датасете всего две колонки с временным признаком и числом заказов.\n",
    "Количество записей - 26496. Поскольку между ними установлены интервалы в 10 минут, а нам требуется прогнозировать количество заказов по часам, интервалы были укрупнены до одного часа. Таким образом, количество записей уменьшилось до 4416.\n",
    "\n",
    "В датасете пропущенных значений не обнаружено, дубликатов не найдено. Колонка с датой преобразована в тип данных datetime и установлена в качестве индекса. Данные расположены в правильном хронологическом порядке."
   ]
  },
  {
   "cell_type": "markdown",
   "metadata": {
    "id": "SPBgkiT2b7Tl"
   },
   "source": [
    "## Анализ временного ряда"
   ]
  },
  {
   "cell_type": "markdown",
   "metadata": {
    "id": "4lcuIXEjb7Tm"
   },
   "source": [
    "Выведем график, предварительно добавив туда скользящее среднее с размером окна, равным 200."
   ]
  },
  {
   "cell_type": "code",
   "execution_count": 78,
   "metadata": {
    "colab": {
     "base_uri": "https://localhost:8080/",
     "height": 309
    },
    "id": "wom76txGb7Tn",
    "outputId": "2a3d5fa9-09a1-4dda-c4f9-c4d0d061f054"
   },
   "outputs": [
    {
     "data": {
      "text/plain": [
       "<matplotlib.axes._subplots.AxesSubplot at 0x7fa73bbc8c90>"
      ]
     },
     "execution_count": 78,
     "metadata": {},
     "output_type": "execute_result"
    },
    {
     "data": {
      "image/png": "[encoded data removed]",
      "text/plain": [
       "<Figure size 432x288 with 1 Axes>"
      ]
     },
     "metadata": {
      "needs_background": "light"
     },
     "output_type": "display_data"
    }
   ],
   "source": [
    "taxi_2 = taxi.copy()\n",
    "taxi_2['rolling_mean'] = taxi_2.rolling(200).mean()\n",
    "taxi_2 = taxi_2.dropna()\n",
    "taxi_2.plot()"
   ]
  },
  {
   "cell_type": "markdown",
   "metadata": {
    "id": "05HhcTGJb7Tp"
   },
   "source": [
    "В среднем количество заказов постепенно растет. Разложим наш временной ряд на составляющие. Поскольку записей много, тренд носит долгосрочный характер, а сезонность может характеризоваться короткими циклами (в масштабах часов), то рассмотрим сразу несколько временных интервалов. Начнем с данных за весь предоставленный период."
   ]
  },
  {
   "cell_type": "code",
   "execution_count": 79,
   "metadata": {
    "colab": {
     "base_uri": "https://localhost:8080/",
     "height": 585
    },
    "id": "CuUXmUPgb7Tp",
    "outputId": "4d4d1210-778b-41db-b727-76ac5c6ef621"
   },
   "outputs": [
    {
     "data": {
      "image/png": "[encoded data removed]",
      "text/plain": [
       "<Figure size 720x576 with 3 Axes>"
      ]
     },
     "metadata": {
      "needs_background": "light"
     },
     "output_type": "display_data"
    }
   ],
   "source": [
    "decomposed = seasonal_decompose(taxi_2)\n",
    "\n",
    "plt.figure(figsize=(10, 8))\n",
    "\n",
    "plt.subplot(311)\n",
    "decomposed.trend.plot(ax=plt.gca())\n",
    "plt.title('Trend')\n",
    "\n",
    "plt.subplot(312)\n",
    "decomposed.seasonal.plot(ax=plt.gca())\n",
    "plt.title('Seasonality')\n",
    "\n",
    "plt.subplot(313)\n",
    "decomposed.resid.plot(ax=plt.gca())\n",
    "plt.title('Residuals')\n",
    "plt.tight_layout()"
   ]
  },
  {
   "cell_type": "markdown",
   "metadata": {
    "id": "iwWu0TP6b7Tq"
   },
   "source": [
    "Налицо восходящий тренд, со временем клиенты заказывают такси все чаще. Из это можно сделать вывод о том, что ряд не является стационарным.\n",
    "Чтобы лучше рассмотреть сезонность, сделаем временной диапазон графика уже, возьмем 1 месяц."
   ]
  },
  {
   "cell_type": "code",
   "execution_count": 80,
   "metadata": {
    "colab": {
     "base_uri": "https://localhost:8080/",
     "height": 585
    },
    "id": "P9_Z-VLab7Tr",
    "outputId": "9f2fee6a-cc85-4fa9-97d8-4ca7866c6828"
   },
   "outputs": [
    {
     "data": {
      "image/png": "[encoded data removed]",
      "text/plain": [
       "<Figure size 720x576 with 3 Axes>"
      ]
     },
     "metadata": {
      "needs_background": "light"
     },
     "output_type": "display_data"
    }
   ],
   "source": [
    "decomposed = seasonal_decompose(taxi_2['2018-08':])\n",
    "plt.figure(figsize=(10, 8))\n",
    "\n",
    "plt.subplot(311)\n",
    "decomposed.trend.plot(ax=plt.gca())\n",
    "plt.title('Trend')\n",
    "\n",
    "plt.subplot(312)\n",
    "decomposed.seasonal.plot(ax=plt.gca())\n",
    "plt.title('Seasonality')\n",
    "\n",
    "plt.subplot(313)\n",
    "decomposed.resid.plot(ax=plt.gca())\n",
    "plt.title('Residuals')\n",
    "plt.tight_layout()"
   ]
  },
  {
   "cell_type": "markdown",
   "metadata": {
    "id": "eRk9bj3Lb7Ts"
   },
   "source": [
    "При изменении масштаба периодичность более ярко выражена. Интересно, что в остатках тоже существуют пики заказов с периодичностью в одну неделю. Возможно, это связано с сезоном отпусков, когда люди возвращаются на выходных, чтобы со следующей недели выйти на работу. Чтобы подтвердить гипотезу, неплохо было бы проанализировать данные за несколько лет.\n",
    "\n",
    "Чтобы рассмотреть цикличные пики нагрузки по часам, возьмем данные за последние 3 дня."
   ]
  },
  {
   "cell_type": "code",
   "execution_count": 81,
   "metadata": {
    "colab": {
     "base_uri": "https://localhost:8080/",
     "height": 229
    },
    "id": "EO-r5tHSb7Tt",
    "outputId": "c68553ea-ecf0-48f5-f408-2ba51388a5e2"
   },
   "outputs": [
    {
     "data": {
      "image/png": "[encoded data removed]",
      "text/plain": [
       "<Figure size 864x576 with 1 Axes>"
      ]
     },
     "metadata": {
      "needs_background": "light"
     },
     "output_type": "display_data"
    }
   ],
   "source": [
    "decomposed = seasonal_decompose(taxi_2)\n",
    "\n",
    "plt.figure(figsize=(12, 8))\n",
    "\n",
    "plt.subplot(312)\n",
    "decomposed.seasonal['2018-08-29':].plot(ax=plt.gca())\n",
    "plt.title('Seasonality')\n",
    "plt.grid(alpha=0.2, linestyle='--', linewidth=1)"
   ]
  },
  {
   "cell_type": "markdown",
   "metadata": {
    "id": "ubejB9Ngb7Tu"
   },
   "source": [
    "Самые низкие провалы рано утром (примерно 5-6 утра). Чаще всего машину заказывают в 9-10 утра, 15-16 дня, в полночь и примерно 2 ночи."
   ]
  },
  {
   "cell_type": "markdown",
   "metadata": {
    "id": "rqih9WITb7Tv"
   },
   "source": [
    "На графике изобразим скользящее среднее и скользящее стандартное отклонение."
   ]
  },
  {
   "cell_type": "code",
   "execution_count": 82,
   "metadata": {
    "colab": {
     "base_uri": "https://localhost:8080/",
     "height": 309
    },
    "id": "mSWBn0lWb7Tw",
    "outputId": "c15c699c-9868-47d6-8f23-bb95197730c8"
   },
   "outputs": [
    {
     "data": {
      "text/plain": [
       "<matplotlib.axes._subplots.AxesSubplot at 0x7fa72d94be90>"
      ]
     },
     "execution_count": 82,
     "metadata": {},
     "output_type": "execute_result"
    },
    {
     "data": {
      "image/png": "[encoded data removed]",
      "text/plain": [
       "<Figure size 432x288 with 1 Axes>"
      ]
     },
     "metadata": {
      "needs_background": "light"
     },
     "output_type": "display_data"
    }
   ],
   "source": [
    "taxi_2['mean'] = taxi_2['num_orders'].rolling(50).mean()\n",
    "taxi_2['std'] = taxi_2['num_orders'].rolling(50).std()\n",
    "taxi_2.plot()"
   ]
  },
  {
   "cell_type": "markdown",
   "metadata": {
    "id": "MJMu9QFkb7Tx"
   },
   "source": [
    "Стандартное отклонение и среднее меняются, временной ряд нельзя назвать стационарным."
   ]
  },
  {
   "cell_type": "markdown",
   "metadata": {
    "id": "Y10oCjMcb7Tx"
   },
   "source": [
    "### Вывод"
   ]
  },
  {
   "cell_type": "markdown",
   "metadata": {
    "id": "rFyCH2itb7Ty"
   },
   "source": [
    "При декомпозиции временного ряда выявлен восходящий тренд, вызов такси в аэропорт пользуется все большей популярностью. Также отчетливо прослеживается периодичность при заказе такси по часам. Самое маленькое количество заказов рано утром (5-6 утра). Чаще всего машину заказывают примерно в 9-10 утра, 15-16 дня, в полночь и около 2 ночи.  Скорее всего, это связано с расписанием рейсов.\n",
    "\n",
    "Временной ряд не является стационарным, т.к. отчетливо прослеживается восходящий тренд (тенеднция в сторону роста количества заказов со временем), и увеличивается стандартное отклонение."
   ]
  },
  {
   "cell_type": "markdown",
   "metadata": {
    "id": "8pUi91Tsb7Ty"
   },
   "source": [
    "## Подготовка признаков"
   ]
  },
  {
   "cell_type": "markdown",
   "metadata": {
    "id": "eohyyBCDb7Tz"
   },
   "source": [
    "Напишем функцию для добавления к таблице новых календарных признаков: года, месяца, даты, дня недели и часа. "
   ]
  },
  {
   "cell_type": "code",
   "execution_count": 83,
   "metadata": {
    "id": "hzNYT_98b7T0"
   },
   "outputs": [],
   "source": [
    "def make_features(data, max_lag, rolling_mean_size):\n",
    "    data['year'] = data.index.year\n",
    "    data['month'] = data.index.month\n",
    "    data['day'] = data.index.day\n",
    "    data['dayofweek'] = data.index.dayofweek\n",
    "    data['hour'] = data.index.hour\n",
    "    \n",
    "    for lag in range(1, max_lag + 1):\n",
    "        data['lag_{}'.format(lag)] = data['num_orders'].shift(lag)\n",
    "\n",
    "    data['rolling_mean'] = data['num_orders'].shift().rolling(rolling_mean_size).mean()"
   ]
  },
  {
   "cell_type": "markdown",
   "metadata": {
    "id": "9CLjqF3sb7T0"
   },
   "source": [
    "Применим функцию к нашей таблице."
   ]
  },
  {
   "cell_type": "code",
   "execution_count": 84,
   "metadata": {
    "colab": {
     "base_uri": "https://localhost:8080/",
     "height": 801
    },
    "id": "uhnuXtIYb7T1",
    "outputId": "d73a581b-eede-4f3f-e837-6067cad92646"
   },
   "outputs": [
    {
     "data": {
      "text/html": [
       "<div>\n",
       "<style scoped>\n",
       "    .dataframe tbody tr th:only-of-type {\n",
       "        vertical-align: middle;\n",
       "    }\n",
       "\n",
       "    .dataframe tbody tr th {\n",
       "        vertical-align: top;\n",
       "    }\n",
       "\n",
       "    .dataframe thead th {\n",
       "        text-align: right;\n",
       "    }\n",
       "</style>\n",
       "<table border=\"1\" class=\"dataframe\">\n",
       "  <thead>\n",
       "    <tr style=\"text-align: right;\">\n",
       "      <th></th>\n",
       "      <th>num_orders</th>\n",
       "      <th>year</th>\n",
       "      <th>month</th>\n",
       "      <th>day</th>\n",
       "      <th>dayofweek</th>\n",
       "      <th>hour</th>\n",
       "      <th>lag_1</th>\n",
       "      <th>lag_2</th>\n",
       "      <th>lag_3</th>\n",
       "      <th>lag_4</th>\n",
       "      <th>lag_5</th>\n",
       "      <th>lag_6</th>\n",
       "      <th>rolling_mean</th>\n",
       "    </tr>\n",
       "    <tr>\n",
       "      <th>datetime</th>\n",
       "      <th></th>\n",
       "      <th></th>\n",
       "      <th></th>\n",
       "      <th></th>\n",
       "      <th></th>\n",
       "      <th></th>\n",
       "      <th></th>\n",
       "      <th></th>\n",
       "      <th></th>\n",
       "      <th></th>\n",
       "      <th></th>\n",
       "      <th></th>\n",
       "      <th></th>\n",
       "    </tr>\n",
       "  </thead>\n",
       "  <tbody>\n",
       "    <tr>\n",
       "      <th>2018-03-01 00:00:00</th>\n",
       "      <td>124</td>\n",
       "      <td>2018</td>\n",
       "      <td>3</td>\n",
       "      <td>1</td>\n",
       "      <td>3</td>\n",
       "      <td>0</td>\n",
       "      <td>NaN</td>\n",
       "      <td>NaN</td>\n",
       "      <td>NaN</td>\n",
       "      <td>NaN</td>\n",
       "      <td>NaN</td>\n",
       "      <td>NaN</td>\n",
       "      <td>NaN</td>\n",
       "    </tr>\n",
       "    <tr>\n",
       "      <th>2018-03-01 01:00:00</th>\n",
       "      <td>85</td>\n",
       "      <td>2018</td>\n",
       "      <td>3</td>\n",
       "      <td>1</td>\n",
       "      <td>3</td>\n",
       "      <td>1</td>\n",
       "      <td>124.0</td>\n",
       "      <td>NaN</td>\n",
       "      <td>NaN</td>\n",
       "      <td>NaN</td>\n",
       "      <td>NaN</td>\n",
       "      <td>NaN</td>\n",
       "      <td>NaN</td>\n",
       "    </tr>\n",
       "    <tr>\n",
       "      <th>2018-03-01 02:00:00</th>\n",
       "      <td>71</td>\n",
       "      <td>2018</td>\n",
       "      <td>3</td>\n",
       "      <td>1</td>\n",
       "      <td>3</td>\n",
       "      <td>2</td>\n",
       "      <td>85.0</td>\n",
       "      <td>124.0</td>\n",
       "      <td>NaN</td>\n",
       "      <td>NaN</td>\n",
       "      <td>NaN</td>\n",
       "      <td>NaN</td>\n",
       "      <td>NaN</td>\n",
       "    </tr>\n",
       "    <tr>\n",
       "      <th>2018-03-01 03:00:00</th>\n",
       "      <td>66</td>\n",
       "      <td>2018</td>\n",
       "      <td>3</td>\n",
       "      <td>1</td>\n",
       "      <td>3</td>\n",
       "      <td>3</td>\n",
       "      <td>71.0</td>\n",
       "      <td>85.0</td>\n",
       "      <td>124.0</td>\n",
       "      <td>NaN</td>\n",
       "      <td>NaN</td>\n",
       "      <td>NaN</td>\n",
       "      <td>NaN</td>\n",
       "    </tr>\n",
       "    <tr>\n",
       "      <th>2018-03-01 04:00:00</th>\n",
       "      <td>43</td>\n",
       "      <td>2018</td>\n",
       "      <td>3</td>\n",
       "      <td>1</td>\n",
       "      <td>3</td>\n",
       "      <td>4</td>\n",
       "      <td>66.0</td>\n",
       "      <td>71.0</td>\n",
       "      <td>85.0</td>\n",
       "      <td>124.0</td>\n",
       "      <td>NaN</td>\n",
       "      <td>NaN</td>\n",
       "      <td>NaN</td>\n",
       "    </tr>\n",
       "    <tr>\n",
       "      <th>...</th>\n",
       "      <td>...</td>\n",
       "      <td>...</td>\n",
       "      <td>...</td>\n",
       "      <td>...</td>\n",
       "      <td>...</td>\n",
       "      <td>...</td>\n",
       "      <td>...</td>\n",
       "      <td>...</td>\n",
       "      <td>...</td>\n",
       "      <td>...</td>\n",
       "      <td>...</td>\n",
       "      <td>...</td>\n",
       "      <td>...</td>\n",
       "    </tr>\n",
       "    <tr>\n",
       "      <th>2018-08-31 19:00:00</th>\n",
       "      <td>136</td>\n",
       "      <td>2018</td>\n",
       "      <td>8</td>\n",
       "      <td>31</td>\n",
       "      <td>4</td>\n",
       "      <td>19</td>\n",
       "      <td>207.0</td>\n",
       "      <td>217.0</td>\n",
       "      <td>197.0</td>\n",
       "      <td>116.0</td>\n",
       "      <td>133.0</td>\n",
       "      <td>166.0</td>\n",
       "      <td>173.3</td>\n",
       "    </tr>\n",
       "    <tr>\n",
       "      <th>2018-08-31 20:00:00</th>\n",
       "      <td>154</td>\n",
       "      <td>2018</td>\n",
       "      <td>8</td>\n",
       "      <td>31</td>\n",
       "      <td>4</td>\n",
       "      <td>20</td>\n",
       "      <td>136.0</td>\n",
       "      <td>207.0</td>\n",
       "      <td>217.0</td>\n",
       "      <td>197.0</td>\n",
       "      <td>116.0</td>\n",
       "      <td>133.0</td>\n",
       "      <td>166.6</td>\n",
       "    </tr>\n",
       "    <tr>\n",
       "      <th>2018-08-31 21:00:00</th>\n",
       "      <td>159</td>\n",
       "      <td>2018</td>\n",
       "      <td>8</td>\n",
       "      <td>31</td>\n",
       "      <td>4</td>\n",
       "      <td>21</td>\n",
       "      <td>154.0</td>\n",
       "      <td>136.0</td>\n",
       "      <td>207.0</td>\n",
       "      <td>217.0</td>\n",
       "      <td>197.0</td>\n",
       "      <td>116.0</td>\n",
       "      <td>162.9</td>\n",
       "    </tr>\n",
       "    <tr>\n",
       "      <th>2018-08-31 22:00:00</th>\n",
       "      <td>223</td>\n",
       "      <td>2018</td>\n",
       "      <td>8</td>\n",
       "      <td>31</td>\n",
       "      <td>4</td>\n",
       "      <td>22</td>\n",
       "      <td>159.0</td>\n",
       "      <td>154.0</td>\n",
       "      <td>136.0</td>\n",
       "      <td>207.0</td>\n",
       "      <td>217.0</td>\n",
       "      <td>197.0</td>\n",
       "      <td>162.1</td>\n",
       "    </tr>\n",
       "    <tr>\n",
       "      <th>2018-08-31 23:00:00</th>\n",
       "      <td>205</td>\n",
       "      <td>2018</td>\n",
       "      <td>8</td>\n",
       "      <td>31</td>\n",
       "      <td>4</td>\n",
       "      <td>23</td>\n",
       "      <td>223.0</td>\n",
       "      <td>159.0</td>\n",
       "      <td>154.0</td>\n",
       "      <td>136.0</td>\n",
       "      <td>207.0</td>\n",
       "      <td>217.0</td>\n",
       "      <td>170.8</td>\n",
       "    </tr>\n",
       "  </tbody>\n",
       "</table>\n",
       "<p>4416 rows × 13 columns</p>\n",
       "</div>"
      ],
      "text/plain": [
       "                     num_orders  year  month  ...  lag_5  lag_6  rolling_mean\n",
       "datetime                                      ...                            \n",
       "2018-03-01 00:00:00         124  2018      3  ...    NaN    NaN           NaN\n",
       "2018-03-01 01:00:00          85  2018      3  ...    NaN    NaN           NaN\n",
       "2018-03-01 02:00:00          71  2018      3  ...    NaN    NaN           NaN\n",
       "2018-03-01 03:00:00          66  2018      3  ...    NaN    NaN           NaN\n",
       "2018-03-01 04:00:00          43  2018      3  ...    NaN    NaN           NaN\n",
       "...                         ...   ...    ...  ...    ...    ...           ...\n",
       "2018-08-31 19:00:00         136  2018      8  ...  133.0  166.0         173.3\n",
       "2018-08-31 20:00:00         154  2018      8  ...  116.0  133.0         166.6\n",
       "2018-08-31 21:00:00         159  2018      8  ...  197.0  116.0         162.9\n",
       "2018-08-31 22:00:00         223  2018      8  ...  217.0  197.0         162.1\n",
       "2018-08-31 23:00:00         205  2018      8  ...  207.0  217.0         170.8\n",
       "\n",
       "[4416 rows x 13 columns]"
      ]
     },
     "metadata": {},
     "output_type": "display_data"
    }
   ],
   "source": [
    "make_features(taxi, 6, 10)\n",
    "display(taxi)"
   ]
  },
  {
   "cell_type": "markdown",
   "metadata": {
    "id": "0KeF4sX0b7T1"
   },
   "source": [
    "Разделим датасет на обучающую и тестовую выборки. Тест составит 10% от всего набора данных."
   ]
  },
  {
   "cell_type": "code",
   "execution_count": 85,
   "metadata": {
    "colab": {
     "base_uri": "https://localhost:8080/"
    },
    "id": "_5jooIoIb7T2",
    "outputId": "155f2d5c-5a27-41a4-dbe7-b682b90093ca"
   },
   "outputs": [
    {
     "name": "stdout",
     "output_type": "stream",
     "text": [
      "2018-03-01 10:00:00 2018-08-13 13:00:00\n",
      "2018-08-13 14:00:00 2018-08-31 23:00:00\n"
     ]
    }
   ],
   "source": [
    "train, test = train_test_split(taxi, shuffle=False, test_size=0.1)\n",
    "train = train.dropna()\n",
    "print(train.index.min(), train.index.max())\n",
    "print(test.index.min(), test.index.max())"
   ]
  },
  {
   "cell_type": "markdown",
   "metadata": {
    "id": "PFSNNBwOb7T3"
   },
   "source": [
    "Далее из выборок выделим наборы обучающих признаков и целевой признак."
   ]
  },
  {
   "cell_type": "code",
   "execution_count": 86,
   "metadata": {
    "colab": {
     "base_uri": "https://localhost:8080/"
    },
    "id": "4Cou_8LYb7T4",
    "outputId": "01094e78-4837-43c4-d67c-f061d906030e"
   },
   "outputs": [
    {
     "name": "stdout",
     "output_type": "stream",
     "text": [
      "(3964, 12) (3964,)\n",
      "(442, 12) (442,)\n"
     ]
    }
   ],
   "source": [
    "features_train = train.drop(['num_orders'], axis=1)\n",
    "target_train = train['num_orders']\n",
    "features_test = test.drop(['num_orders'], axis=1)\n",
    "target_test = test['num_orders']\n",
    "\n",
    "print(features_train.shape, target_train.shape)\n",
    "print(features_test.shape, target_test.shape)"
   ]
  },
  {
   "cell_type": "markdown",
   "metadata": {
    "id": "40uJeqTDb7T4"
   },
   "source": [
    "Чтобы привести признаки к единому масштабу, стандартизируем их методом StandardScaler и выведем первые строки получившейся таблицы (тренировочные данные)."
   ]
  },
  {
   "cell_type": "code",
   "execution_count": 87,
   "metadata": {
    "colab": {
     "base_uri": "https://localhost:8080/",
     "height": 431
    },
    "id": "gb0Ceglnb7T5",
    "outputId": "3586e916-8f3d-4f25-8177-f7b0e04d933b"
   },
   "outputs": [
    {
     "data": {
      "text/html": [
       "<div>\n",
       "<style scoped>\n",
       "    .dataframe tbody tr th:only-of-type {\n",
       "        vertical-align: middle;\n",
       "    }\n",
       "\n",
       "    .dataframe tbody tr th {\n",
       "        vertical-align: top;\n",
       "    }\n",
       "\n",
       "    .dataframe thead th {\n",
       "        text-align: right;\n",
       "    }\n",
       "</style>\n",
       "<table border=\"1\" class=\"dataframe\">\n",
       "  <thead>\n",
       "    <tr style=\"text-align: right;\">\n",
       "      <th></th>\n",
       "      <th>year</th>\n",
       "      <th>month</th>\n",
       "      <th>day</th>\n",
       "      <th>dayofweek</th>\n",
       "      <th>hour</th>\n",
       "      <th>lag_1</th>\n",
       "      <th>lag_2</th>\n",
       "      <th>lag_3</th>\n",
       "      <th>lag_4</th>\n",
       "      <th>lag_5</th>\n",
       "      <th>lag_6</th>\n",
       "      <th>rolling_mean</th>\n",
       "    </tr>\n",
       "    <tr>\n",
       "      <th>datetime</th>\n",
       "      <th></th>\n",
       "      <th></th>\n",
       "      <th></th>\n",
       "      <th></th>\n",
       "      <th></th>\n",
       "      <th></th>\n",
       "      <th></th>\n",
       "      <th></th>\n",
       "      <th></th>\n",
       "      <th></th>\n",
       "      <th></th>\n",
       "      <th></th>\n",
       "    </tr>\n",
       "  </thead>\n",
       "  <tbody>\n",
       "    <tr>\n",
       "      <th>2018-03-01 10:00:00</th>\n",
       "      <td>0.0</td>\n",
       "      <td>-1.416685</td>\n",
       "      <td>-1.597418</td>\n",
       "      <td>-0.012842</td>\n",
       "      <td>-0.216801</td>\n",
       "      <td>-0.241750</td>\n",
       "      <td>-1.146815</td>\n",
       "      <td>-1.637562</td>\n",
       "      <td>-1.714475</td>\n",
       "      <td>-1.868592</td>\n",
       "      <td>-0.910959</td>\n",
       "      <td>-1.108356</td>\n",
       "    </tr>\n",
       "    <tr>\n",
       "      <th>2018-03-01 11:00:00</th>\n",
       "      <td>0.0</td>\n",
       "      <td>-1.416685</td>\n",
       "      <td>-1.597418</td>\n",
       "      <td>-0.012842</td>\n",
       "      <td>-0.072267</td>\n",
       "      <td>-0.371124</td>\n",
       "      <td>-0.241335</td>\n",
       "      <td>-1.146003</td>\n",
       "      <td>-1.636850</td>\n",
       "      <td>-1.713364</td>\n",
       "      <td>-1.868109</td>\n",
       "      <td>-1.366561</td>\n",
       "    </tr>\n",
       "    <tr>\n",
       "      <th>2018-03-01 12:00:00</th>\n",
       "      <td>0.0</td>\n",
       "      <td>-1.416685</td>\n",
       "      <td>-1.597418</td>\n",
       "      <td>-0.012842</td>\n",
       "      <td>0.072267</td>\n",
       "      <td>0.456868</td>\n",
       "      <td>-0.370689</td>\n",
       "      <td>-0.240499</td>\n",
       "      <td>-1.145222</td>\n",
       "      <td>-1.635750</td>\n",
       "      <td>-1.712895</td>\n",
       "      <td>-1.319223</td>\n",
       "    </tr>\n",
       "    <tr>\n",
       "      <th>2018-03-01 13:00:00</th>\n",
       "      <td>0.0</td>\n",
       "      <td>-1.416685</td>\n",
       "      <td>-1.597418</td>\n",
       "      <td>-0.012842</td>\n",
       "      <td>0.216801</td>\n",
       "      <td>-1.250865</td>\n",
       "      <td>0.457178</td>\n",
       "      <td>-0.369857</td>\n",
       "      <td>-0.239593</td>\n",
       "      <td>-1.144196</td>\n",
       "      <td>-1.635288</td>\n",
       "      <td>-1.495663</td>\n",
       "    </tr>\n",
       "    <tr>\n",
       "      <th>2018-03-01 14:00:00</th>\n",
       "      <td>0.0</td>\n",
       "      <td>-1.416685</td>\n",
       "      <td>-1.597418</td>\n",
       "      <td>-0.012842</td>\n",
       "      <td>0.361335</td>\n",
       "      <td>-1.199115</td>\n",
       "      <td>-1.250298</td>\n",
       "      <td>0.458032</td>\n",
       "      <td>-0.368969</td>\n",
       "      <td>-0.238702</td>\n",
       "      <td>-1.143779</td>\n",
       "      <td>-1.641979</td>\n",
       "    </tr>\n",
       "  </tbody>\n",
       "</table>\n",
       "</div>"
      ],
      "text/plain": [
       "                     year     month       day  ...     lag_5     lag_6  rolling_mean\n",
       "datetime                                       ...                                  \n",
       "2018-03-01 10:00:00   0.0 -1.416685 -1.597418  ... -1.868592 -0.910959     -1.108356\n",
       "2018-03-01 11:00:00   0.0 -1.416685 -1.597418  ... -1.713364 -1.868109     -1.366561\n",
       "2018-03-01 12:00:00   0.0 -1.416685 -1.597418  ... -1.635750 -1.712895     -1.319223\n",
       "2018-03-01 13:00:00   0.0 -1.416685 -1.597418  ... -1.144196 -1.635288     -1.495663\n",
       "2018-03-01 14:00:00   0.0 -1.416685 -1.597418  ... -0.238702 -1.143779     -1.641979\n",
       "\n",
       "[5 rows x 12 columns]"
      ]
     },
     "metadata": {},
     "output_type": "display_data"
    }
   ],
   "source": [
    "numeric = features_train.columns\n",
    "scaler = StandardScaler()\n",
    "scaler.fit(features_train[numeric])\n",
    "\n",
    "features_train[numeric] = scaler.transform(features_train[numeric])\n",
    "features_test[numeric] = scaler.transform(features_test[numeric])\n",
    "\n",
    "display(pd.DataFrame(features_train).head())"
   ]
  },
  {
   "cell_type": "markdown",
   "metadata": {
    "id": "KGLRqXzKb7T5"
   },
   "source": [
    "### Вывод"
   ]
  },
  {
   "cell_type": "markdown",
   "metadata": {
    "id": "qZDyoo7Vb7T6"
   },
   "source": [
    "Для обучения моделей набор данных был дополнен рядом новых признаков: годом, месяцем, датой, днем недели и часом. Чтобы компенсировать нестационарность ряда, добавлен временной сдвиг. Датасет разделен на обучающую и тестовую выборки (тест составляет 10% от исходного набора), в свою очередь, получившиеся выборки преобразованы в набор с влияющими на результат факторами и целевой признак."
   ]
  },
  {
   "cell_type": "markdown",
   "metadata": {
    "id": "kbSGTDYGb7T6"
   },
   "source": [
    "## Подбор гиперпараметров и обучение моделей"
   ]
  },
  {
   "cell_type": "markdown",
   "metadata": {
    "id": "FynMXJXKb7T7"
   },
   "source": [
    "В проекте рассмотрено семь моделей: линейная регрессия, гребневая регрессия, дерево решений, случайный лес и три модели градиентного бустинга.\n",
    "\n",
    "Оптимальные гиперпараметры будем подбирать с помощью функции GridSearchCV(). Поскольку перебирать гиперпараметры мы будем не один раз, объявим функцию для подбора этих гиперпараметров. На вход она будет принимать перечень параметров, тип модели, набор обучающих признаков, обучающий целевой признак, словарь для сохранения значений RMSE и наименование модели.\n",
    "\n",
    "Возвращать функция будет метрику RMSE (среднеквадратичную ошибку). Для расчета метрики напишем функцию select_rmse и имплементируем ее в функцию подбора параметров модели."
   ]
  },
  {
   "cell_type": "code",
   "execution_count": 88,
   "metadata": {
    "id": "Zqb2sWr3b7T8"
   },
   "outputs": [],
   "source": [
    "select_rmse = make_scorer(mean_squared_error, greater_is_better=False)\n",
    "\n",
    "def select_params(params, model, features, target, dictionary, name):\n",
    "    tscv = TimeSeriesSplit(n_splits=8)\n",
    "    mod = GridSearchCV(model, params, cv=tscv, scoring=select_rmse)\n",
    "    %time mod.fit(features, target)\n",
    "    rmse = (((mod.best_score_)*(-1))**0.5).round(3)\n",
    "    print('rmse:', rmse)\n",
    "    if name in dictionary:\n",
    "        if dictionary[name] > rmse:\n",
    "            dictionary[name] = rmse\n",
    "    else:\n",
    "        dictionary[name] = rmse\n",
    "    print(mod.best_params_)"
   ]
  },
  {
   "cell_type": "markdown",
   "metadata": {
    "id": "PmLP_niIb7T8"
   },
   "source": [
    "Создадим словарь, куда будем \"складывать\" получившиеся значения RMSE на валидационной выборке."
   ]
  },
  {
   "cell_type": "code",
   "execution_count": 89,
   "metadata": {
    "id": "PKBehiBfb7T9"
   },
   "outputs": [],
   "source": [
    "rmse_valid = {}"
   ]
  },
  {
   "cell_type": "markdown",
   "metadata": {
    "id": "S27BKGw9b7T-"
   },
   "source": [
    "### Линейная регрессия"
   ]
  },
  {
   "cell_type": "markdown",
   "metadata": {
    "id": "BVd4Sehbb7T-"
   },
   "source": [
    "Первой моделью рассмотрим классическую линейную регрессию."
   ]
  },
  {
   "cell_type": "code",
   "execution_count": 90,
   "metadata": {
    "colab": {
     "base_uri": "https://localhost:8080/"
    },
    "id": "RkJ3iAJIb7T-",
    "outputId": "c7bf3556-72c7-413c-afe3-f79a4141bdd8"
   },
   "outputs": [
    {
     "name": "stdout",
     "output_type": "stream",
     "text": [
      "CPU times: user 68 ms, sys: 43.2 ms, total: 111 ms\n",
      "Wall time: 65 ms\n",
      "rmse: 380005669528.156\n",
      "{}\n"
     ]
    }
   ],
   "source": [
    "params = {}\n",
    "select_params(params, LinearRegression(), features_train, target_train, rmse_valid, 'Linear Regression')"
   ]
  },
  {
   "cell_type": "markdown",
   "metadata": {
    "id": "pBkDtoE3b7T_"
   },
   "source": [
    "Сохраним нашу модель для прогнозирования пиковых заказов."
   ]
  },
  {
   "cell_type": "code",
   "execution_count": 91,
   "metadata": {
    "colab": {
     "base_uri": "https://localhost:8080/"
    },
    "id": "wlb4niA0b7UA",
    "outputId": "5d337825-d563-4215-c750-2819556de823"
   },
   "outputs": [
    {
     "name": "stdout",
     "output_type": "stream",
     "text": [
      "CPU times: user 8.52 ms, sys: 8.11 ms, total: 16.6 ms\n",
      "Wall time: 12.4 ms\n"
     ]
    }
   ],
   "source": [
    "%%time\n",
    "model_lr = LinearRegression()\n",
    "model_lr.fit(features_train, target_train)"
   ]
  },
  {
   "cell_type": "markdown",
   "metadata": {
    "id": "uixMFGTGb7UA"
   },
   "source": [
    "### Дерево решений"
   ]
  },
  {
   "cell_type": "markdown",
   "metadata": {
    "id": "WoR7Q8HZb7UB"
   },
   "source": [
    "Рассмотрим дерево решений. Выведем rmse, какая получается при использовании гиперпараметров по умолчанию.\n",
    "\n",
    "Используем нашу функцию для подбора, просто передав ей пустые параметры."
   ]
  },
  {
   "cell_type": "code",
   "execution_count": 92,
   "metadata": {
    "colab": {
     "base_uri": "https://localhost:8080/"
    },
    "id": "arTGpVUwb7UC",
    "outputId": "99622e7a-c8a0-4fe5-e896-e0e6eb110e49"
   },
   "outputs": [
    {
     "name": "stdout",
     "output_type": "stream",
     "text": [
      "CPU times: user 284 ms, sys: 73.1 ms, total: 357 ms\n",
      "Wall time: 290 ms\n",
      "rmse: 33.182\n",
      "{}\n"
     ]
    }
   ],
   "source": [
    "params = {}\n",
    "select_params(params, DecisionTreeRegressor(random_state=12345), features_train, target_train, rmse_valid, 'Decision Tree')"
   ]
  },
  {
   "cell_type": "markdown",
   "metadata": {
    "id": "PRGoJaRGb7UD"
   },
   "source": [
    "Теперь попробуем поменять некоторые гиперпараметры."
   ]
  },
  {
   "cell_type": "code",
   "execution_count": 93,
   "metadata": {
    "colab": {
     "base_uri": "https://localhost:8080/"
    },
    "id": "wzuM9abVb7UD",
    "outputId": "df197a77-b9f2-40c1-862c-bfaee2a426f8"
   },
   "outputs": [
    {
     "name": "stdout",
     "output_type": "stream",
     "text": [
      "CPU times: user 2.07 s, sys: 10.7 ms, total: 2.08 s\n",
      "Wall time: 2.1 s\n",
      "rmse: 28.622\n",
      "{'max_depth': 7, 'min_samples_leaf': 1, 'min_samples_split': 6}\n"
     ]
    }
   ],
   "source": [
    "params = {'max_depth': range(4,10), 'min_samples_split': [2,4,6], 'min_samples_leaf': range(1,2,4)}\n",
    "select_params(params, DecisionTreeRegressor(random_state=12345), features_train, target_train, rmse_valid, 'Decision Tree')"
   ]
  },
  {
   "cell_type": "markdown",
   "metadata": {
    "id": "9g6FdUn4b7UE"
   },
   "source": [
    "Качество модели улучшилось. Сохраним модель с подобранными гиперпараметрами."
   ]
  },
  {
   "cell_type": "code",
   "execution_count": 94,
   "metadata": {
    "colab": {
     "base_uri": "https://localhost:8080/"
    },
    "id": "SWlhV9OUb7UF",
    "outputId": "4fa9fc40-fc05-4037-fa79-98c42f11df9f"
   },
   "outputs": [
    {
     "name": "stdout",
     "output_type": "stream",
     "text": [
      "CPU times: user 25.6 ms, sys: 0 ns, total: 25.6 ms\n",
      "Wall time: 27.5 ms\n"
     ]
    },
    {
     "data": {
      "text/plain": [
       "DecisionTreeRegressor(ccp_alpha=0.0, criterion='mse', max_depth=7,\n",
       "                      max_features=None, max_leaf_nodes=None,\n",
       "                      min_impurity_decrease=0.0, min_impurity_split=None,\n",
       "                      min_samples_leaf=1, min_samples_split=6,\n",
       "                      min_weight_fraction_leaf=0.0, presort='deprecated',\n",
       "                      random_state=12345, splitter='best')"
      ]
     },
     "execution_count": 94,
     "metadata": {},
     "output_type": "execute_result"
    }
   ],
   "source": [
    "model_dt = DecisionTreeRegressor(random_state=12345, max_depth=7, min_samples_split=6, min_samples_leaf=1)\n",
    "%time model_dt.fit(features_train, target_train)"
   ]
  },
  {
   "cell_type": "markdown",
   "metadata": {
    "id": "xjkTSZORb7UF"
   },
   "source": [
    "### Случайный лес"
   ]
  },
  {
   "cell_type": "markdown",
   "metadata": {
    "id": "gUmDF1IVb7UH"
   },
   "source": [
    "Теперь попробуем использовать для прогнозирования не одно дерево, а их ансамбль. Сначала применим гиперпараметры \"из коробки\", которые используются в алгоритме по умолчанию."
   ]
  },
  {
   "cell_type": "code",
   "execution_count": 95,
   "metadata": {
    "colab": {
     "base_uri": "https://localhost:8080/"
    },
    "id": "kYdZ5SGNb7UH",
    "outputId": "26a5c642-b404-459e-98dc-3d4fa5d9e198"
   },
   "outputs": [
    {
     "name": "stdout",
     "output_type": "stream",
     "text": [
      "CPU times: user 14.9 s, sys: 78.1 ms, total: 15 s\n",
      "Wall time: 15 s\n",
      "rmse: 24.894\n",
      "{}\n"
     ]
    }
   ],
   "source": [
    "params = {}\n",
    "select_params(params, RandomForestRegressor(random_state=12345), features_train, target_train, rmse_valid, 'Random Forest')"
   ]
  },
  {
   "cell_type": "markdown",
   "metadata": {
    "id": "5N01FFkwb7UI"
   },
   "source": [
    "Попробуем поменять гиперпараметры модели и посмотрим, удастся ли улучшить результат. Для сокращения времени на перебор гиперпараметров рассмотрим 60 и 90 деревьев, а максимальную глубину дерева - 6, 8, 10, 12 и 14."
   ]
  },
  {
   "cell_type": "code",
   "execution_count": 96,
   "metadata": {
    "colab": {
     "base_uri": "https://localhost:8080/"
    },
    "id": "vU5oQI4Db7UI",
    "outputId": "9ed3b8f1-db03-4982-b761-10e59cd34930"
   },
   "outputs": [
    {
     "name": "stdout",
     "output_type": "stream",
     "text": [
      "CPU times: user 1min 5s, sys: 161 ms, total: 1min 6s\n",
      "Wall time: 1min 5s\n",
      "rmse: 24.955\n",
      "{'max_depth': 14, 'n_estimators': 90}\n"
     ]
    }
   ],
   "source": [
    "params = {'n_estimators': [60, 90], 'max_depth': [6, 8, 10, 12, 14]}\n",
    "select_params(params, RandomForestRegressor(random_state=12345), features_train, target_train, rmse_valid, 'Random Forest')"
   ]
  },
  {
   "cell_type": "markdown",
   "metadata": {
    "id": "MjSYgJwwb7UJ"
   },
   "source": [
    "Поскольку качество модели чуть ухудшилось, сохраним модель с изначальными гиперпараметрами."
   ]
  },
  {
   "cell_type": "code",
   "execution_count": 97,
   "metadata": {
    "colab": {
     "base_uri": "https://localhost:8080/"
    },
    "id": "fRcM5RK4b7UJ",
    "outputId": "6f6d58f4-a731-4187-dbc4-1087a08be743"
   },
   "outputs": [
    {
     "name": "stdout",
     "output_type": "stream",
     "text": [
      "CPU times: user 2.96 s, sys: 15.7 ms, total: 2.98 s\n",
      "Wall time: 2.96 s\n"
     ]
    },
    {
     "data": {
      "text/plain": [
       "RandomForestRegressor(bootstrap=True, ccp_alpha=0.0, criterion='mse',\n",
       "                      max_depth=None, max_features='auto', max_leaf_nodes=None,\n",
       "                      max_samples=None, min_impurity_decrease=0.0,\n",
       "                      min_impurity_split=None, min_samples_leaf=1,\n",
       "                      min_samples_split=2, min_weight_fraction_leaf=0.0,\n",
       "                      n_estimators=100, n_jobs=None, oob_score=False,\n",
       "                      random_state=12345, verbose=0, warm_start=False)"
      ]
     },
     "execution_count": 97,
     "metadata": {},
     "output_type": "execute_result"
    }
   ],
   "source": [
    "model_rf = RandomForestRegressor(random_state=12345)\n",
    "%time model_rf.fit(features_train, target_train)"
   ]
  },
  {
   "cell_type": "markdown",
   "metadata": {
    "id": "it-UQZP0b7UK"
   },
   "source": [
    "### Гребневая регрессия"
   ]
  },
  {
   "cell_type": "markdown",
   "metadata": {
    "id": "zEnzqu5kb7UL"
   },
   "source": [
    "Попробуем применить к нашему датасету гребневую регрессию."
   ]
  },
  {
   "cell_type": "code",
   "execution_count": 98,
   "metadata": {
    "colab": {
     "base_uri": "https://localhost:8080/"
    },
    "id": "Rqj3_mOZb7UL",
    "outputId": "ebf32425-5a12-42a7-80f8-ad4e96117891"
   },
   "outputs": [
    {
     "name": "stdout",
     "output_type": "stream",
     "text": [
      "CPU times: user 459 ms, sys: 379 ms, total: 838 ms\n",
      "Wall time: 441 ms\n",
      "rmse: 31.446\n",
      "{'alpha': 0.001}\n"
     ]
    }
   ],
   "source": [
    "params = {'alpha': [0.001, 0.01, 0.1, 1, 10, 100, 10000, 100000]}\n",
    "select_params(params, Ridge(random_state=12345), features_train, target_train, rmse_valid, 'Ridge')"
   ]
  },
  {
   "cell_type": "markdown",
   "metadata": {
    "id": "-r2SczXib7UM"
   },
   "source": [
    "Сохраним модель с подобранным значением alpha."
   ]
  },
  {
   "cell_type": "code",
   "execution_count": 99,
   "metadata": {
    "colab": {
     "base_uri": "https://localhost:8080/"
    },
    "id": "FEWvkL3Eb7UM",
    "outputId": "278c61ce-fd90-47b4-a8e7-0033c234c5e5"
   },
   "outputs": [
    {
     "data": {
      "text/plain": [
       "Ridge(alpha=0.001, copy_X=True, fit_intercept=True, max_iter=None,\n",
       "      normalize=False, random_state=12345, solver='auto', tol=0.001)"
      ]
     },
     "execution_count": 99,
     "metadata": {},
     "output_type": "execute_result"
    }
   ],
   "source": [
    "model_gr = Ridge(random_state=12345, alpha=0.001)\n",
    "model_gr.fit(features_train, target_train)"
   ]
  },
  {
   "cell_type": "markdown",
   "metadata": {
    "id": "dEc4sXexb7UN"
   },
   "source": [
    "### Градиентный бустинг"
   ]
  },
  {
   "cell_type": "markdown",
   "metadata": {
    "id": "zR2WDTJQb7UN"
   },
   "source": [
    "Поэкспериментируем с моделями градиентного бустинга."
   ]
  },
  {
   "cell_type": "markdown",
   "metadata": {
    "id": "Tm1lbZnGb7UO"
   },
   "source": [
    "#### GradientBoosting Regressor"
   ]
  },
  {
   "cell_type": "markdown",
   "metadata": {
    "id": "sIoETtx-b7UO"
   },
   "source": [
    "По аналогии с предыдущими моделями сначала ничего не меняем, а потом попробуем подобрать гиперпараметры."
   ]
  },
  {
   "cell_type": "code",
   "execution_count": 100,
   "metadata": {
    "colab": {
     "base_uri": "https://localhost:8080/"
    },
    "id": "AGBJq-y3b7UP",
    "outputId": "4ea715dd-1e5d-432d-e526-9e9f0fe57dcc"
   },
   "outputs": [
    {
     "name": "stdout",
     "output_type": "stream",
     "text": [
      "CPU times: user 4.53 s, sys: 66.7 ms, total: 4.59 s\n",
      "Wall time: 4.52 s\n",
      "rmse: 25.694\n",
      "{}\n"
     ]
    }
   ],
   "source": [
    "params = {}\n",
    "select_params(params, GradientBoostingRegressor(random_state=12345), features_train, target_train, rmse_valid, 'GradientBoosting Regressor')"
   ]
  },
  {
   "cell_type": "code",
   "execution_count": 101,
   "metadata": {
    "colab": {
     "base_uri": "https://localhost:8080/"
    },
    "id": "YmM0QFpFb7UP",
    "outputId": "2f66da7e-dfb5-4442-8b95-165f0c13a032"
   },
   "outputs": [
    {
     "name": "stdout",
     "output_type": "stream",
     "text": [
      "CPU times: user 39.7 s, sys: 56.4 ms, total: 39.8 s\n",
      "Wall time: 39.7 s\n",
      "rmse: 25.292\n",
      "{'max_depth': 6, 'n_estimators': 90}\n"
     ]
    }
   ],
   "source": [
    "params = {'max_depth': [4, 6, 8], 'n_estimators': [30, 60, 90]}\n",
    "select_params(params, GradientBoostingRegressor(random_state=12345), features_train, target_train, rmse_valid, 'GradientBoosting Regressor')"
   ]
  },
  {
   "cell_type": "markdown",
   "metadata": {
    "id": "MK8A32WKb7UQ"
   },
   "source": [
    "Качество модели немного улучшилось, передадим модели подобранные гиперпараметры."
   ]
  },
  {
   "cell_type": "code",
   "execution_count": 102,
   "metadata": {
    "colab": {
     "base_uri": "https://localhost:8080/"
    },
    "id": "FKGq491fb7UQ",
    "outputId": "96c712ae-3c93-4e7a-e998-0ed713104e88"
   },
   "outputs": [
    {
     "data": {
      "text/plain": [
       "GradientBoostingRegressor(alpha=0.9, ccp_alpha=0.0, criterion='friedman_mse',\n",
       "                          init=None, learning_rate=0.1, loss='ls', max_depth=6,\n",
       "                          max_features=None, max_leaf_nodes=None,\n",
       "                          min_impurity_decrease=0.0, min_impurity_split=None,\n",
       "                          min_samples_leaf=1, min_samples_split=2,\n",
       "                          min_weight_fraction_leaf=0.0, n_estimators=90,\n",
       "                          n_iter_no_change=None, presort='deprecated',\n",
       "                          random_state=12345, subsample=1.0, tol=0.0001,\n",
       "                          validation_fraction=0.1, verbose=0, warm_start=False)"
      ]
     },
     "execution_count": 102,
     "metadata": {},
     "output_type": "execute_result"
    }
   ],
   "source": [
    "model_gb = GradientBoostingRegressor(random_state=12345, max_depth=6, n_estimators=90)\n",
    "model_gb.fit(features_train, target_train)"
   ]
  },
  {
   "cell_type": "markdown",
   "metadata": {
    "id": "V23uAIgnb7UR"
   },
   "source": [
    "#### LightGBM"
   ]
  },
  {
   "cell_type": "markdown",
   "metadata": {
    "id": "H9KvJS7gb7UR"
   },
   "source": [
    "Проверим качество с гиперпараметрами по умолчанию."
   ]
  },
  {
   "cell_type": "code",
   "execution_count": 103,
   "metadata": {
    "colab": {
     "base_uri": "https://localhost:8080/"
    },
    "id": "osDLh1-ub7US",
    "outputId": "eac08e05-756e-45fa-d6dc-62dca550ab3d"
   },
   "outputs": [
    {
     "name": "stdout",
     "output_type": "stream",
     "text": [
      "CPU times: user 2.36 s, sys: 99.3 ms, total: 2.46 s\n",
      "Wall time: 1.3 s\n",
      "rmse: 24.798\n",
      "{}\n"
     ]
    }
   ],
   "source": [
    "params = {}\n",
    "select_params(params, LGBMRegressor(), features_train, target_train, rmse_valid, 'LightGBM')"
   ]
  },
  {
   "cell_type": "markdown",
   "metadata": {
    "id": "VNvnbraTb7US"
   },
   "source": [
    "Попробуем улучшить качество модели."
   ]
  },
  {
   "cell_type": "code",
   "execution_count": 104,
   "metadata": {
    "colab": {
     "base_uri": "https://localhost:8080/"
    },
    "id": "4WcDa74nb7UT",
    "outputId": "cbc55baa-fad3-4e39-ed72-d9ab9d95518a"
   },
   "outputs": [
    {
     "name": "stdout",
     "output_type": "stream",
     "text": [
      "CPU times: user 8.91 s, sys: 367 ms, total: 9.27 s\n",
      "Wall time: 4.81 s\n",
      "rmse: 24.712\n",
      "{'max_depth': 8, 'n_estimators': 70}\n"
     ]
    }
   ],
   "source": [
    "params = {'n_estimators': [70, 100], 'max_depth': [6, 8, 10]}\n",
    "select_params(params, LGBMRegressor(), features_train, target_train, rmse_valid, 'LightGBM')"
   ]
  },
  {
   "cell_type": "markdown",
   "metadata": {
    "id": "QVwWxmmPb7UU"
   },
   "source": [
    "Сохраняем новый вариант."
   ]
  },
  {
   "cell_type": "code",
   "execution_count": 105,
   "metadata": {
    "colab": {
     "base_uri": "https://localhost:8080/"
    },
    "id": "iwyigvGTb7UU",
    "outputId": "83b86644-6ca6-4e17-b919-b39917290033"
   },
   "outputs": [
    {
     "data": {
      "text/plain": [
       "LGBMRegressor(boosting_type='gbdt', class_weight=None, colsample_bytree=1.0,\n",
       "              importance_type='split', learning_rate=0.1, max_depth=8,\n",
       "              min_child_samples=20, min_child_weight=0.001, min_split_gain=0.0,\n",
       "              n_estimators=70, n_jobs=-1, num_leaves=31, objective=None,\n",
       "              random_state=12345, reg_alpha=0.0, reg_lambda=0.0, silent=True,\n",
       "              subsample=1.0, subsample_for_bin=200000, subsample_freq=0)"
      ]
     },
     "execution_count": 105,
     "metadata": {},
     "output_type": "execute_result"
    }
   ],
   "source": [
    "model_lgbm = LGBMRegressor(random_state=12345, max_depth=8, n_estimators=70)\n",
    "model_lgbm.fit(features_train, target_train)"
   ]
  },
  {
   "cell_type": "markdown",
   "metadata": {
    "id": "k3AP90I0b7UV"
   },
   "source": [
    "#### CatBoost"
   ]
  },
  {
   "cell_type": "markdown",
   "metadata": {
    "id": "Sq9wqWPyb7UV"
   },
   "source": [
    "По аналогии с предыдущей моделью сначала гиперпараметры не меняем, а на следующем шаге попробуем подобрать, чтобы сделать прогноз лучше. Единственное, в params укажем logging_level='Silent', чтобы не выводить на экран промежуточные итоги."
   ]
  },
  {
   "cell_type": "code",
   "execution_count": 106,
   "metadata": {
    "colab": {
     "base_uri": "https://localhost:8080/"
    },
    "id": "04gd2HhNb7UW",
    "outputId": "78541122-63ee-46df-9a4d-8bdbce7b9a9f"
   },
   "outputs": [
    {
     "name": "stdout",
     "output_type": "stream",
     "text": [
      "CPU times: user 37.2 s, sys: 3.54 s, total: 40.7 s\n",
      "Wall time: 21.9 s\n",
      "rmse: 24.493\n",
      "{'logging_level': 'Silent'}\n"
     ]
    }
   ],
   "source": [
    "params = {'logging_level': ['Silent']}\n",
    "select_params(params, CatBoostRegressor(), features_train, target_train, rmse_valid, 'CatBoost')"
   ]
  },
  {
   "cell_type": "code",
   "execution_count": 107,
   "metadata": {
    "colab": {
     "base_uri": "https://localhost:8080/"
    },
    "id": "bBUK75W0b7UX",
    "outputId": "19e6d206-12ae-4d20-c28e-2b17072ce184"
   },
   "outputs": [
    {
     "name": "stdout",
     "output_type": "stream",
     "text": [
      "CPU times: user 24.3 s, sys: 2.14 s, total: 26.5 s\n",
      "Wall time: 16.2 s\n",
      "rmse: 24.892\n",
      "{'logging_level': 'Silent', 'max_depth': 4, 'n_estimators': 90}\n"
     ]
    }
   ],
   "source": [
    "params = {'logging_level': ['Silent'], 'max_depth': [4, 6, 8], 'n_estimators': [30, 60, 90]}\n",
    "select_params(params, CatBoostRegressor(), features_train, target_train, rmse_valid, 'CatBoost')"
   ]
  },
  {
   "cell_type": "markdown",
   "metadata": {
    "id": "AvbNkHMcb7UX"
   },
   "source": [
    "Признаем, что модель до нашего вмешательства работала лучше, и оставим дефолтные значения гиперпараметров."
   ]
  },
  {
   "cell_type": "code",
   "execution_count": 108,
   "metadata": {
    "colab": {
     "base_uri": "https://localhost:8080/"
    },
    "id": "0JeEAAiIb7UX",
    "outputId": "6aded1e5-4351-4b1b-805a-9d2fcca5edf2"
   },
   "outputs": [
    {
     "data": {
      "text/plain": [
       "<catboost.core.CatBoostRegressor at 0x7fa72d995210>"
      ]
     },
     "execution_count": 108,
     "metadata": {},
     "output_type": "execute_result"
    }
   ],
   "source": [
    "model_cb = CatBoostRegressor(random_state=12345, logging_level='Silent')\n",
    "model_cb.fit(features_train, target_train)"
   ]
  },
  {
   "cell_type": "markdown",
   "metadata": {
    "id": "RmzzPy7Wb7UY"
   },
   "source": [
    "### Вывод"
   ]
  },
  {
   "cell_type": "markdown",
   "metadata": {
    "id": "r-3Dhg6nb7UZ"
   },
   "source": [
    "В проекте было рассмотрено несколько моделей. На тренировочной выборке лучшие результаты продемонстрировал CatBoost. Проверим модели на тестовом наборе."
   ]
  },
  {
   "cell_type": "markdown",
   "metadata": {
    "id": "kjgp-xCxb7Ua"
   },
   "source": [
    "## Тестирование"
   ]
  },
  {
   "cell_type": "markdown",
   "metadata": {
    "id": "ghda6fBkb7Ua"
   },
   "source": [
    "Оформим все результаты в одну таблицу для удобства сравнения. Объявим функцию для подсчета основных метрик для моделей."
   ]
  },
  {
   "cell_type": "code",
   "execution_count": 109,
   "metadata": {
    "id": "-PO6rBmkb7Ub"
   },
   "outputs": [],
   "source": [
    "def compare_table(models, features, target, rmse_v):\n",
    "    df = pd.DataFrame(columns=['models', 'MSE', 'R2', 'RMSE_test', 'RMSE_valid'])\n",
    "    for name, model in models.items():\n",
    "        prediction = model.predict(features)\n",
    "        mse = mean_squared_error(target, prediction).round(3)\n",
    "        rmse = (mse ** 0.5).round(3)\n",
    "        r2 = r2_score(target, prediction).round(3)\n",
    "        rv = rmse_v[name]\n",
    "        df = df.append({'models': name, 'MSE': mse, 'R2': r2, 'RMSE_test': rmse, 'RMSE_valid': rv}, ignore_index=True)\n",
    "    return df"
   ]
  },
  {
   "cell_type": "markdown",
   "metadata": {
    "id": "xKOWBwD8b7Ub"
   },
   "source": [
    "Создадим списки моделей для предсказания пиковых нагрузок и применим функцию для расчета метрик на тренировочной и тестовой выборках."
   ]
  },
  {
   "cell_type": "code",
   "execution_count": 110,
   "metadata": {
    "id": "_g83DW6Pb7Ub"
   },
   "outputs": [],
   "source": [
    "models_list = {'Linear Regression': model_lr, 'Decision Tree': model_dt, \n",
    "                 'Random Forest': model_rf, 'Ridge': model_gr, 'GradientBoosting Regressor': model_gb,\n",
    "              'LightGBM': model_lgbm, 'CatBoost': model_cb}"
   ]
  },
  {
   "cell_type": "code",
   "execution_count": 111,
   "metadata": {
    "colab": {
     "base_uri": "https://localhost:8080/",
     "height": 287
    },
    "id": "ZIAgTI-wb7Uc",
    "outputId": "07b8dff0-5633-4d88-955a-9896d764a57c"
   },
   "outputs": [
    {
     "data": {
      "application/vnd.google.colaboratory.intrinsic+json": {
       "type": "string"
      },
      "text/plain": [
       "'test'"
      ]
     },
     "metadata": {},
     "output_type": "display_data"
    },
    {
     "data": {
      "text/html": [
       "<div>\n",
       "<style scoped>\n",
       "    .dataframe tbody tr th:only-of-type {\n",
       "        vertical-align: middle;\n",
       "    }\n",
       "\n",
       "    .dataframe tbody tr th {\n",
       "        vertical-align: top;\n",
       "    }\n",
       "\n",
       "    .dataframe thead th {\n",
       "        text-align: right;\n",
       "    }\n",
       "</style>\n",
       "<table border=\"1\" class=\"dataframe\">\n",
       "  <thead>\n",
       "    <tr style=\"text-align: right;\">\n",
       "      <th></th>\n",
       "      <th>models</th>\n",
       "      <th>MSE</th>\n",
       "      <th>R2</th>\n",
       "      <th>RMSE_test</th>\n",
       "      <th>RMSE_valid</th>\n",
       "    </tr>\n",
       "  </thead>\n",
       "  <tbody>\n",
       "    <tr>\n",
       "      <th>0</th>\n",
       "      <td>Linear Regression</td>\n",
       "      <td>2826.327</td>\n",
       "      <td>0.176</td>\n",
       "      <td>53.163</td>\n",
       "      <td>3.800057e+11</td>\n",
       "    </tr>\n",
       "    <tr>\n",
       "      <th>1</th>\n",
       "      <td>Decision Tree</td>\n",
       "      <td>2655.544</td>\n",
       "      <td>0.225</td>\n",
       "      <td>51.532</td>\n",
       "      <td>2.862200e+01</td>\n",
       "    </tr>\n",
       "    <tr>\n",
       "      <th>2</th>\n",
       "      <td>Random Forest</td>\n",
       "      <td>2054.871</td>\n",
       "      <td>0.401</td>\n",
       "      <td>45.331</td>\n",
       "      <td>2.489400e+01</td>\n",
       "    </tr>\n",
       "    <tr>\n",
       "      <th>3</th>\n",
       "      <td>Ridge</td>\n",
       "      <td>2826.327</td>\n",
       "      <td>0.176</td>\n",
       "      <td>53.163</td>\n",
       "      <td>3.144600e+01</td>\n",
       "    </tr>\n",
       "    <tr>\n",
       "      <th>4</th>\n",
       "      <td>GradientBoosting Regressor</td>\n",
       "      <td>2000.975</td>\n",
       "      <td>0.416</td>\n",
       "      <td>44.732</td>\n",
       "      <td>2.529200e+01</td>\n",
       "    </tr>\n",
       "    <tr>\n",
       "      <th>5</th>\n",
       "      <td>LightGBM</td>\n",
       "      <td>1842.019</td>\n",
       "      <td>0.463</td>\n",
       "      <td>42.919</td>\n",
       "      <td>2.471200e+01</td>\n",
       "    </tr>\n",
       "    <tr>\n",
       "      <th>6</th>\n",
       "      <td>CatBoost</td>\n",
       "      <td>1818.510</td>\n",
       "      <td>0.470</td>\n",
       "      <td>42.644</td>\n",
       "      <td>2.449300e+01</td>\n",
       "    </tr>\n",
       "  </tbody>\n",
       "</table>\n",
       "</div>"
      ],
      "text/plain": [
       "                       models       MSE     R2  RMSE_test    RMSE_valid\n",
       "0           Linear Regression  2826.327  0.176     53.163  3.800057e+11\n",
       "1               Decision Tree  2655.544  0.225     51.532  2.862200e+01\n",
       "2               Random Forest  2054.871  0.401     45.331  2.489400e+01\n",
       "3                       Ridge  2826.327  0.176     53.163  3.144600e+01\n",
       "4  GradientBoosting Regressor  2000.975  0.416     44.732  2.529200e+01\n",
       "5                    LightGBM  1842.019  0.463     42.919  2.471200e+01\n",
       "6                    CatBoost  1818.510  0.470     42.644  2.449300e+01"
      ]
     },
     "metadata": {},
     "output_type": "display_data"
    }
   ],
   "source": [
    "display('test', compare_table(models_list, features_test, target_test, rmse_valid))"
   ]
  },
  {
   "cell_type": "markdown",
   "metadata": {
    "id": "ZBZM_FuCb7Uc"
   },
   "source": [
    "### Вывод"
   ]
  },
  {
   "cell_type": "markdown",
   "metadata": {
    "id": "arrRfcykb7Uc"
   },
   "source": [
    "Для проверки эффективности прогнозирования, все модели были испытаны на тестовой выборке. Лучший результат на тестовой выборке выдал CatBoost с RMSE, равной 42.6, на валидационной - 24.5). Однако, LightGBM демонстрирует почти сравнимое качество (42.9 тест и 24.7 валидация)."
   ]
  },
  {
   "cell_type": "markdown",
   "metadata": {
    "id": "vkdmuoA0b7Ud"
   },
   "source": [
    "## Общий вывод"
   ]
  },
  {
   "cell_type": "markdown",
   "metadata": {
    "id": "zwSSQITWb7Ud"
   },
   "source": [
    "При анализе предоставленных данных выявлена тенденция к увеличению спроса на услуги такси. Также прослеживается определенная цикличность в количестве вызовов машин: чаще всего машину заказывают примерно в 9-10 утра, 15-16 дня, в полночь и около 2 ночи, редко вызывают рано утром (5-6 часов).\n",
    "\n",
    "Временной ряд не является стационарным (имеется восходящий тренд, увеличивается стандартное отклонение). Поэтому в целях повышения качества прогнозирования набор данных был соответствующим образом обработан, добавлены дополнительные признаки и временной сдвиг.\n",
    "\n",
    "В целом, порог RMSE=48 на тестовой выборке преодолели только модели градиентного бустинга, а также случайный лес. Лучшие результаты продемонстрировали CatBoost (42.6) и LightGBM (42.9)."
   ]
  }
 ],
 "metadata": {
  "ExecuteTimeLog": [
   {
    "duration": 294,
    "start_time": "2021-07-13T18:05:21.352Z"
   },
   {
    "duration": 1209,
    "start_time": "2021-07-13T18:05:26.587Z"
   },
   {
    "duration": 37,
    "start_time": "2021-07-13T18:05:28.104Z"
   },
   {
    "duration": 7,
    "start_time": "2021-07-13T18:06:29.780Z"
   },
   {
    "duration": 334,
    "start_time": "2021-07-13T18:07:27.109Z"
   },
   {
    "duration": 35,
    "start_time": "2021-07-13T18:08:14.190Z"
   },
   {
    "duration": 6,
    "start_time": "2021-07-13T18:08:21.433Z"
   },
   {
    "duration": 309,
    "start_time": "2021-07-13T18:08:22.990Z"
   },
   {
    "duration": 31,
    "start_time": "2021-07-13T18:08:51.597Z"
   },
   {
    "duration": 7,
    "start_time": "2021-07-13T18:08:52.334Z"
   },
   {
    "duration": 9,
    "start_time": "2021-07-13T18:13:57.334Z"
   },
   {
    "duration": 306,
    "start_time": "2021-07-13T18:13:58.200Z"
   },
   {
    "duration": 5,
    "start_time": "2021-07-13T18:20:45.941Z"
   },
   {
    "duration": 9,
    "start_time": "2021-07-13T18:20:46.740Z"
   },
   {
    "duration": 6,
    "start_time": "2021-07-13T18:21:15.842Z"
   },
   {
    "duration": 641,
    "start_time": "2021-07-13T18:24:36.856Z"
   },
   {
    "duration": 7,
    "start_time": "2021-07-13T18:24:44.962Z"
   },
   {
    "duration": 6,
    "start_time": "2021-07-13T18:24:49.455Z"
   },
   {
    "duration": 289,
    "start_time": "2021-07-13T18:27:59.031Z"
   },
   {
    "duration": 278,
    "start_time": "2021-07-13T18:30:22.113Z"
   },
   {
    "duration": 279,
    "start_time": "2021-07-13T18:30:38.728Z"
   },
   {
    "duration": 321,
    "start_time": "2021-07-13T18:30:46.336Z"
   },
   {
    "duration": 285,
    "start_time": "2021-07-13T18:30:59.926Z"
   },
   {
    "duration": 253,
    "start_time": "2021-07-13T18:33:48.181Z"
   },
   {
    "duration": 23,
    "start_time": "2021-07-13T18:34:10.987Z"
   },
   {
    "duration": 261,
    "start_time": "2021-07-13T18:34:16.813Z"
   },
   {
    "duration": 265,
    "start_time": "2021-07-13T18:35:53.327Z"
   },
   {
    "duration": 262,
    "start_time": "2021-07-13T18:36:29.672Z"
   },
   {
    "duration": 283,
    "start_time": "2021-07-13T18:36:58.120Z"
   },
   {
    "duration": 5,
    "start_time": "2021-07-13T18:37:34.206Z"
   },
   {
    "duration": 264,
    "start_time": "2021-07-13T18:37:35.508Z"
   },
   {
    "duration": 1093,
    "start_time": "2021-07-13T18:38:32.892Z"
   },
   {
    "duration": 260,
    "start_time": "2021-07-13T18:39:18.021Z"
   },
   {
    "duration": 6,
    "start_time": "2021-07-13T18:39:19.289Z"
   },
   {
    "duration": 991,
    "start_time": "2021-07-13T18:39:19.952Z"
   },
   {
    "duration": 1336,
    "start_time": "2021-07-13T18:45:48.420Z"
   },
   {
    "duration": 880,
    "start_time": "2021-07-13T18:46:11.244Z"
   },
   {
    "duration": 6675,
    "start_time": "2021-07-13T18:49:27.357Z"
   },
   {
    "duration": 347,
    "start_time": "2021-07-13T18:50:17.838Z"
   },
   {
    "duration": 6,
    "start_time": "2021-07-13T18:51:24.529Z"
   },
   {
    "duration": 1500,
    "start_time": "2021-07-13T20:22:27.086Z"
   },
   {
    "duration": 52,
    "start_time": "2021-07-13T20:22:28.589Z"
   },
   {
    "duration": 16,
    "start_time": "2021-07-13T20:22:28.644Z"
   },
   {
    "duration": 14,
    "start_time": "2021-07-13T20:22:29.375Z"
   },
   {
    "duration": 6,
    "start_time": "2021-07-13T20:22:29.968Z"
   },
   {
    "duration": 23,
    "start_time": "2021-07-13T20:22:30.510Z"
   },
   {
    "duration": 12,
    "start_time": "2021-07-13T20:22:30.882Z"
   },
   {
    "duration": 519,
    "start_time": "2021-07-13T20:22:32.435Z"
   },
   {
    "duration": 487,
    "start_time": "2021-07-13T20:22:32.956Z"
   },
   {
    "duration": 12,
    "start_time": "2021-07-13T20:22:33.446Z"
   },
   {
    "duration": 1529,
    "start_time": "2021-07-13T20:22:33.930Z"
   },
   {
    "duration": 615,
    "start_time": "2021-07-13T20:22:35.461Z"
   },
   {
    "duration": 11,
    "start_time": "2021-07-13T20:22:36.899Z"
   },
   {
    "duration": 409,
    "start_time": "2021-07-13T20:27:53.312Z"
   },
   {
    "duration": 6,
    "start_time": "2021-07-13T20:27:57.158Z"
   },
   {
    "duration": 32,
    "start_time": "2021-07-13T20:27:58.371Z"
   },
   {
    "duration": 38,
    "start_time": "2021-07-13T20:28:12.513Z"
   },
   {
    "duration": 11,
    "start_time": "2021-07-13T20:28:41.497Z"
   },
   {
    "duration": 13,
    "start_time": "2021-07-13T20:29:35.186Z"
   },
   {
    "duration": 290,
    "start_time": "2021-07-13T20:29:36.858Z"
   },
   {
    "duration": 7,
    "start_time": "2021-07-13T20:30:12.666Z"
   },
   {
    "duration": 7,
    "start_time": "2021-07-13T20:32:35.829Z"
   },
   {
    "duration": 6,
    "start_time": "2021-07-13T20:33:23.890Z"
   },
   {
    "duration": 304,
    "start_time": "2021-07-13T20:34:21.952Z"
   },
   {
    "duration": 7,
    "start_time": "2021-07-13T20:34:39.667Z"
   },
   {
    "duration": 314,
    "start_time": "2021-07-13T20:34:41.745Z"
   },
   {
    "duration": 6,
    "start_time": "2021-07-13T20:35:34.542Z"
   },
   {
    "duration": 254,
    "start_time": "2021-07-13T20:35:36.901Z"
   },
   {
    "duration": 6,
    "start_time": "2021-07-13T20:37:22.218Z"
   },
   {
    "duration": 304,
    "start_time": "2021-07-13T20:37:24.057Z"
   },
   {
    "duration": 12,
    "start_time": "2021-07-13T20:38:18.335Z"
   },
   {
    "duration": 166,
    "start_time": "2021-07-13T20:39:28.901Z"
   },
   {
    "duration": 51,
    "start_time": "2021-07-13T20:40:05.844Z"
   },
   {
    "duration": 12,
    "start_time": "2021-07-13T20:40:06.412Z"
   },
   {
    "duration": 19,
    "start_time": "2021-07-13T20:40:06.958Z"
   },
   {
    "duration": 6,
    "start_time": "2021-07-13T20:40:07.579Z"
   },
   {
    "duration": 13,
    "start_time": "2021-07-13T20:40:08.037Z"
   },
   {
    "duration": 10,
    "start_time": "2021-07-13T20:40:08.515Z"
   },
   {
    "duration": 6,
    "start_time": "2021-07-13T20:40:23.854Z"
   },
   {
    "duration": 55,
    "start_time": "2021-07-13T20:41:03.079Z"
   },
   {
    "duration": 13,
    "start_time": "2021-07-13T20:41:03.808Z"
   },
   {
    "duration": 9,
    "start_time": "2021-07-13T20:41:04.256Z"
   },
   {
    "duration": 9,
    "start_time": "2021-07-13T20:41:05.339Z"
   },
   {
    "duration": 7,
    "start_time": "2021-07-13T20:41:30.073Z"
   },
   {
    "duration": 392,
    "start_time": "2021-07-13T20:41:34.367Z"
   },
   {
    "duration": 13,
    "start_time": "2021-07-13T20:41:37.093Z"
   },
   {
    "duration": 209,
    "start_time": "2021-07-13T20:41:39.284Z"
   },
   {
    "duration": 835,
    "start_time": "2021-07-13T20:42:10.536Z"
   },
   {
    "duration": 19,
    "start_time": "2021-07-13T20:42:48.046Z"
   },
   {
    "duration": 791,
    "start_time": "2021-07-13T20:43:39.536Z"
   },
   {
    "duration": 7921,
    "start_time": "2021-07-13T20:44:00.819Z"
   },
   {
    "duration": 1193,
    "start_time": "2021-07-13T20:45:09.851Z"
   },
   {
    "duration": 7,
    "start_time": "2021-07-13T20:46:11.413Z"
   },
   {
    "duration": 4,
    "start_time": "2021-07-13T20:46:49.795Z"
   },
   {
    "duration": 6,
    "start_time": "2021-07-13T20:48:10.788Z"
   },
   {
    "duration": 15,
    "start_time": "2021-07-13T20:48:10.797Z"
   },
   {
    "duration": 41,
    "start_time": "2021-07-13T20:48:11.450Z"
   },
   {
    "duration": 30,
    "start_time": "2021-07-13T20:49:08.947Z"
   },
   {
    "duration": 11,
    "start_time": "2021-07-13T20:49:46.822Z"
   },
   {
    "duration": 11,
    "start_time": "2021-07-13T20:50:05.737Z"
   },
   {
    "duration": 43,
    "start_time": "2021-07-13T20:50:11.695Z"
   },
   {
    "duration": 9,
    "start_time": "2021-07-13T20:50:12.864Z"
   },
   {
    "duration": 13,
    "start_time": "2021-07-13T20:50:15.145Z"
   },
   {
    "duration": 6,
    "start_time": "2021-07-13T20:50:16.477Z"
   },
   {
    "duration": 13,
    "start_time": "2021-07-13T20:50:17.282Z"
   },
   {
    "duration": 8,
    "start_time": "2021-07-13T20:50:19.139Z"
   },
   {
    "duration": 5,
    "start_time": "2021-07-13T20:50:32.380Z"
   },
   {
    "duration": 39,
    "start_time": "2021-07-13T20:50:37.048Z"
   },
   {
    "duration": 16,
    "start_time": "2021-07-13T20:50:38.257Z"
   },
   {
    "duration": 9,
    "start_time": "2021-07-13T20:50:40.218Z"
   },
   {
    "duration": 6,
    "start_time": "2021-07-13T20:50:42.583Z"
   },
   {
    "duration": 343,
    "start_time": "2021-07-13T20:50:43.915Z"
   },
   {
    "duration": 12,
    "start_time": "2021-07-13T20:50:45.049Z"
   },
   {
    "duration": 147,
    "start_time": "2021-07-13T20:50:46.563Z"
   },
   {
    "duration": 856,
    "start_time": "2021-07-13T20:50:47.514Z"
   },
   {
    "duration": 21,
    "start_time": "2021-07-13T20:50:49.342Z"
   },
   {
    "duration": 769,
    "start_time": "2021-07-13T20:50:50.826Z"
   },
   {
    "duration": 8299,
    "start_time": "2021-07-13T20:50:52.425Z"
   },
   {
    "duration": 1237,
    "start_time": "2021-07-13T20:51:00.726Z"
   },
   {
    "duration": 6,
    "start_time": "2021-07-13T20:51:10.299Z"
   },
   {
    "duration": 3,
    "start_time": "2021-07-13T20:51:11.504Z"
   },
   {
    "duration": 41,
    "start_time": "2021-07-13T20:51:12.839Z"
   },
   {
    "duration": 233,
    "start_time": "2021-07-13T20:52:33.498Z"
   },
   {
    "duration": 1196,
    "start_time": "2021-07-14T09:45:05.823Z"
   },
   {
    "duration": 36,
    "start_time": "2021-07-14T09:45:16.996Z"
   },
   {
    "duration": 7,
    "start_time": "2021-07-14T09:57:34.466Z"
   },
   {
    "duration": 9,
    "start_time": "2021-07-14T09:57:36.177Z"
   },
   {
    "duration": 4,
    "start_time": "2021-07-14T09:57:38.471Z"
   },
   {
    "duration": 15,
    "start_time": "2021-07-14T09:57:39.909Z"
   },
   {
    "duration": 6,
    "start_time": "2021-07-14T09:57:45.313Z"
   },
   {
    "duration": 4,
    "start_time": "2021-07-14T09:58:50.024Z"
   },
   {
    "duration": 25,
    "start_time": "2021-07-14T09:58:51.755Z"
   },
   {
    "duration": 8,
    "start_time": "2021-07-14T09:58:53.465Z"
   },
   {
    "duration": 6,
    "start_time": "2021-07-14T09:58:54.663Z"
   },
   {
    "duration": 4,
    "start_time": "2021-07-14T09:58:57.831Z"
   },
   {
    "duration": 81,
    "start_time": "2021-07-14T09:59:00.268Z"
   },
   {
    "duration": 9,
    "start_time": "2021-07-14T09:59:03.062Z"
   },
   {
    "duration": 100,
    "start_time": "2021-07-14T09:59:04.475Z"
   },
   {
    "duration": 585,
    "start_time": "2021-07-14T09:59:07.463Z"
   },
   {
    "duration": 15,
    "start_time": "2021-07-14T09:59:08.087Z"
   },
   {
    "duration": 597,
    "start_time": "2021-07-14T09:59:11.858Z"
   },
   {
    "duration": 5820,
    "start_time": "2021-07-14T09:59:17.724Z"
   },
   {
    "duration": 897,
    "start_time": "2021-07-14T09:59:23.546Z"
   },
   {
    "duration": 4,
    "start_time": "2021-07-14T09:59:31.886Z"
   },
   {
    "duration": 3,
    "start_time": "2021-07-14T09:59:39.548Z"
   },
   {
    "duration": 233,
    "start_time": "2021-07-14T09:59:41.044Z"
   },
   {
    "duration": 4,
    "start_time": "2021-07-14T10:01:01.835Z"
   },
   {
    "duration": 3,
    "start_time": "2021-07-14T10:01:03.441Z"
   },
   {
    "duration": 802,
    "start_time": "2021-07-14T10:01:04.527Z"
   },
   {
    "duration": 4,
    "start_time": "2021-07-14T10:04:34.602Z"
   },
   {
    "duration": 2,
    "start_time": "2021-07-14T10:04:35.900Z"
   },
   {
    "duration": 174,
    "start_time": "2021-07-14T10:04:36.793Z"
   },
   {
    "duration": 121,
    "start_time": "2021-07-14T10:05:44.090Z"
   },
   {
    "duration": 3,
    "start_time": "2021-07-14T10:05:52.680Z"
   },
   {
    "duration": 2,
    "start_time": "2021-07-14T10:05:55.129Z"
   },
   {
    "duration": 235,
    "start_time": "2021-07-14T10:05:55.654Z"
   },
   {
    "duration": 4,
    "start_time": "2021-07-14T10:11:01.154Z"
   },
   {
    "duration": 4,
    "start_time": "2021-07-14T10:11:02.840Z"
   },
   {
    "duration": 231,
    "start_time": "2021-07-14T10:11:03.564Z"
   },
   {
    "duration": 4,
    "start_time": "2021-07-14T10:11:41.837Z"
   },
   {
    "duration": 3,
    "start_time": "2021-07-14T10:11:43.213Z"
   },
   {
    "duration": 245,
    "start_time": "2021-07-14T10:11:44.229Z"
   },
   {
    "duration": 4,
    "start_time": "2021-07-14T10:17:06.488Z"
   },
   {
    "duration": 3,
    "start_time": "2021-07-14T10:17:07.148Z"
   },
   {
    "duration": 200,
    "start_time": "2021-07-14T10:17:07.778Z"
   },
   {
    "duration": 4,
    "start_time": "2021-07-14T10:19:02.170Z"
   },
   {
    "duration": 2,
    "start_time": "2021-07-14T10:19:02.714Z"
   },
   {
    "duration": 239,
    "start_time": "2021-07-14T10:19:03.607Z"
   },
   {
    "duration": 877,
    "start_time": "2021-07-14T10:19:41.889Z"
   },
   {
    "duration": 5,
    "start_time": "2021-07-14T10:20:33.521Z"
   },
   {
    "duration": 2,
    "start_time": "2021-07-14T10:20:34.493Z"
   },
   {
    "duration": 250,
    "start_time": "2021-07-14T10:20:35.441Z"
   },
   {
    "duration": 4,
    "start_time": "2021-07-14T10:21:11.457Z"
   },
   {
    "duration": 3,
    "start_time": "2021-07-14T10:21:13.629Z"
   },
   {
    "duration": 169,
    "start_time": "2021-07-14T10:21:14.305Z"
   },
   {
    "duration": 521,
    "start_time": "2021-07-14T10:29:13.627Z"
   },
   {
    "duration": 56426,
    "start_time": "2021-07-14T10:29:53.110Z"
   },
   {
    "duration": 278,
    "start_time": "2021-07-14T10:33:00.064Z"
   },
   {
    "duration": 7,
    "start_time": "2021-07-14T10:33:23.971Z"
   },
   {
    "duration": 659,
    "start_time": "2021-07-14T10:33:59.990Z"
   },
   {
    "duration": 7,
    "start_time": "2021-07-14T10:34:19.201Z"
   },
   {
    "duration": 2,
    "start_time": "2021-07-14T10:34:59.388Z"
   },
   {
    "duration": 434,
    "start_time": "2021-07-14T10:35:00.824Z"
   },
   {
    "duration": 4,
    "start_time": "2021-07-14T10:36:34.006Z"
   },
   {
    "duration": 9900,
    "start_time": "2021-07-14T10:37:11.673Z"
   },
   {
    "duration": 6121,
    "start_time": "2021-07-14T10:37:36.813Z"
   },
   {
    "duration": 1126,
    "start_time": "2021-07-14T10:55:12.889Z"
   },
   {
    "duration": 34,
    "start_time": "2021-07-14T10:55:14.017Z"
   },
   {
    "duration": 8,
    "start_time": "2021-07-14T10:55:14.930Z"
   },
   {
    "duration": 12,
    "start_time": "2021-07-14T10:55:15.389Z"
   },
   {
    "duration": 4,
    "start_time": "2021-07-14T10:55:15.771Z"
   },
   {
    "duration": 10,
    "start_time": "2021-07-14T10:55:15.985Z"
   },
   {
    "duration": 6,
    "start_time": "2021-07-14T10:55:16.205Z"
   },
   {
    "duration": 283,
    "start_time": "2021-07-14T10:55:16.765Z"
   },
   {
    "duration": 266,
    "start_time": "2021-07-14T10:55:17.320Z"
   },
   {
    "duration": 6,
    "start_time": "2021-07-14T10:55:28.554Z"
   },
   {
    "duration": 940,
    "start_time": "2021-07-14T10:55:35.801Z"
   },
   {
    "duration": 348,
    "start_time": "2021-07-14T10:55:38.436Z"
   },
   {
    "duration": 4,
    "start_time": "2021-07-14T10:55:40.297Z"
   },
   {
    "duration": 27,
    "start_time": "2021-07-14T10:55:41.179Z"
   },
   {
    "duration": 9,
    "start_time": "2021-07-14T10:55:42.153Z"
   },
   {
    "duration": 7,
    "start_time": "2021-07-14T10:55:42.924Z"
   },
   {
    "duration": 4,
    "start_time": "2021-07-14T10:55:44.120Z"
   },
   {
    "duration": 89,
    "start_time": "2021-07-14T10:55:45.266Z"
   },
   {
    "duration": 8,
    "start_time": "2021-07-14T10:55:45.963Z"
   },
   {
    "duration": 119,
    "start_time": "2021-07-14T10:55:47.052Z"
   },
   {
    "duration": 686,
    "start_time": "2021-07-14T10:55:47.572Z"
   },
   {
    "duration": 15,
    "start_time": "2021-07-14T10:55:48.259Z"
   },
   {
    "duration": 646,
    "start_time": "2021-07-14T10:55:49.385Z"
   },
   {
    "duration": 7109,
    "start_time": "2021-07-14T10:55:50.033Z"
   },
   {
    "duration": 1125,
    "start_time": "2021-07-14T10:55:57.144Z"
   },
   {
    "duration": 365,
    "start_time": "2021-07-14T10:55:59.782Z"
   },
   {
    "duration": 7,
    "start_time": "2021-07-14T10:56:01.349Z"
   },
   {
    "duration": 7462,
    "start_time": "2021-07-14T10:56:02.969Z"
   },
   {
    "duration": 180,
    "start_time": "2021-07-14T10:56:14.815Z"
   },
   {
    "duration": 4,
    "start_time": "2021-07-14T10:56:22.924Z"
   },
   {
    "duration": 2,
    "start_time": "2021-07-14T10:56:24.072Z"
   },
   {
    "duration": 429,
    "start_time": "2021-07-14T10:56:24.933Z"
   },
   {
    "duration": 3,
    "start_time": "2021-07-14T10:58:17.340Z"
   },
   {
    "duration": 445,
    "start_time": "2021-07-14T10:58:18.336Z"
   },
   {
    "duration": 885,
    "start_time": "2021-07-14T10:59:24.698Z"
   },
   {
    "duration": 2,
    "start_time": "2021-07-14T11:00:08.048Z"
   },
   {
    "duration": 989,
    "start_time": "2021-07-14T11:00:09.135Z"
   },
   {
    "duration": 28710,
    "start_time": "2021-07-14T11:00:44.581Z"
   },
   {
    "duration": 3,
    "start_time": "2021-07-14T11:03:16.167Z"
   },
   {
    "duration": 603,
    "start_time": "2021-07-14T11:03:17.552Z"
   },
   {
    "duration": 973,
    "start_time": "2021-07-14T11:08:17.238Z"
   },
   {
    "duration": 33,
    "start_time": "2021-07-14T11:08:33.378Z"
   },
   {
    "duration": 7,
    "start_time": "2021-07-14T11:08:33.819Z"
   },
   {
    "duration": 10,
    "start_time": "2021-07-14T11:08:34.152Z"
   },
   {
    "duration": 4,
    "start_time": "2021-07-14T11:08:34.432Z"
   },
   {
    "duration": 10,
    "start_time": "2021-07-14T11:08:34.800Z"
   },
   {
    "duration": 7,
    "start_time": "2021-07-14T11:08:35.131Z"
   },
   {
    "duration": 333,
    "start_time": "2021-07-14T11:08:35.740Z"
   },
   {
    "duration": 270,
    "start_time": "2021-07-14T11:08:36.204Z"
   },
   {
    "duration": 5,
    "start_time": "2021-07-14T11:08:36.765Z"
   },
   {
    "duration": 860,
    "start_time": "2021-07-14T11:08:37.325Z"
   },
   {
    "duration": 737,
    "start_time": "2021-07-14T11:08:38.444Z"
   },
   {
    "duration": 774,
    "start_time": "2021-07-14T11:09:11.621Z"
   },
   {
    "duration": 928,
    "start_time": "2021-07-14T11:09:18.658Z"
   },
   {
    "duration": 631,
    "start_time": "2021-07-14T11:09:49.485Z"
   },
   {
    "duration": 1057,
    "start_time": "2021-07-14T11:10:23.864Z"
   },
   {
    "duration": 458,
    "start_time": "2021-07-14T11:11:06.914Z"
   },
   {
    "duration": 207,
    "start_time": "2021-07-14T11:11:19.224Z"
   },
   {
    "duration": 212,
    "start_time": "2021-07-14T11:12:13.497Z"
   },
   {
    "duration": 204,
    "start_time": "2021-07-14T11:13:02.942Z"
   },
   {
    "duration": 448,
    "start_time": "2021-07-14T11:15:28.845Z"
   },
   {
    "duration": 364,
    "start_time": "2021-07-14T11:15:38.570Z"
   },
   {
    "duration": 373,
    "start_time": "2021-07-14T11:15:49.962Z"
   },
   {
    "duration": 33,
    "start_time": "2021-07-14T11:58:13.065Z"
   },
   {
    "duration": 8,
    "start_time": "2021-07-14T11:58:13.821Z"
   },
   {
    "duration": 10,
    "start_time": "2021-07-14T11:58:14.924Z"
   },
   {
    "duration": 4,
    "start_time": "2021-07-14T11:58:15.985Z"
   },
   {
    "duration": 8,
    "start_time": "2021-07-14T11:58:16.549Z"
   },
   {
    "duration": 6,
    "start_time": "2021-07-14T11:58:17.237Z"
   },
   {
    "duration": 288,
    "start_time": "2021-07-14T11:58:55.134Z"
   },
   {
    "duration": 6,
    "start_time": "2021-07-14T11:58:56.077Z"
   },
   {
    "duration": 1124,
    "start_time": "2021-07-14T11:58:58.208Z"
   },
   {
    "duration": 214,
    "start_time": "2021-07-14T11:59:00.637Z"
   },
   {
    "duration": 344,
    "start_time": "2021-07-14T11:59:06.020Z"
   },
   {
    "duration": 5,
    "start_time": "2021-07-14T12:17:51.065Z"
   },
   {
    "duration": 352,
    "start_time": "2021-07-14T13:14:24.327Z"
   },
   {
    "duration": 32,
    "start_time": "2021-07-14T13:14:35.980Z"
   },
   {
    "duration": 7,
    "start_time": "2021-07-14T13:14:36.629Z"
   },
   {
    "duration": 9,
    "start_time": "2021-07-14T13:14:37.428Z"
   },
   {
    "duration": 7,
    "start_time": "2021-07-14T13:14:38.293Z"
   },
   {
    "duration": 4,
    "start_time": "2021-07-14T13:14:39.440Z"
   },
   {
    "duration": 3,
    "start_time": "2021-07-14T13:14:41.691Z"
   },
   {
    "duration": 8,
    "start_time": "2021-07-14T13:14:43.664Z"
   },
   {
    "duration": 6,
    "start_time": "2021-07-14T13:14:48.225Z"
   },
   {
    "duration": 268,
    "start_time": "2021-07-14T13:14:52.253Z"
   },
   {
    "duration": 1274,
    "start_time": "2021-07-14T13:14:54.837Z"
   },
   {
    "duration": 951,
    "start_time": "2021-07-14T13:17:29.419Z"
   },
   {
    "duration": 230,
    "start_time": "2021-07-14T13:18:54.170Z"
   },
   {
    "duration": 1731,
    "start_time": "2021-07-14T15:22:55.468Z"
   },
   {
    "duration": 48,
    "start_time": "2021-07-14T15:22:57.201Z"
   },
   {
    "duration": 16,
    "start_time": "2021-07-14T15:22:57.252Z"
   },
   {
    "duration": 15,
    "start_time": "2021-07-14T15:22:57.376Z"
   },
   {
    "duration": 12,
    "start_time": "2021-07-14T15:22:58.924Z"
   },
   {
    "duration": 5,
    "start_time": "2021-07-14T15:23:00.033Z"
   },
   {
    "duration": 6,
    "start_time": "2021-07-14T15:23:02.295Z"
   },
   {
    "duration": 14,
    "start_time": "2021-07-14T15:23:03.243Z"
   },
   {
    "duration": 9,
    "start_time": "2021-07-14T15:23:04.279Z"
   },
   {
    "duration": 476,
    "start_time": "2021-07-14T15:23:07.493Z"
   },
   {
    "duration": 1811,
    "start_time": "2021-07-14T15:23:09.358Z"
   },
   {
    "duration": 1590,
    "start_time": "2021-07-14T15:23:13.073Z"
   },
   {
    "duration": 396,
    "start_time": "2021-07-14T15:23:16.681Z"
   },
   {
    "duration": 8,
    "start_time": "2021-07-14T15:33:34.697Z"
   },
   {
    "duration": 44,
    "start_time": "2021-07-14T15:33:36.995Z"
   },
   {
    "duration": 8,
    "start_time": "2021-07-14T15:35:01.796Z"
   },
   {
    "duration": 41,
    "start_time": "2021-07-14T15:35:04.875Z"
   },
   {
    "duration": 14,
    "start_time": "2021-07-14T15:35:07.303Z"
   },
   {
    "duration": 11,
    "start_time": "2021-07-14T15:35:10.666Z"
   },
   {
    "duration": 7,
    "start_time": "2021-07-14T15:35:14.531Z"
   },
   {
    "duration": 269,
    "start_time": "2021-07-14T15:35:16.199Z"
   },
   {
    "duration": 12,
    "start_time": "2021-07-14T15:35:18.084Z"
   },
   {
    "duration": 142,
    "start_time": "2021-07-14T15:35:27.262Z"
   },
   {
    "duration": 892,
    "start_time": "2021-07-14T15:35:28.997Z"
   },
   {
    "duration": 20,
    "start_time": "2021-07-14T15:35:30.452Z"
   },
   {
    "duration": 788,
    "start_time": "2021-07-14T15:35:33.709Z"
   },
   {
    "duration": 8087,
    "start_time": "2021-07-14T15:35:35.769Z"
   },
   {
    "duration": 1278,
    "start_time": "2021-07-14T15:35:43.858Z"
   },
   {
    "duration": 966,
    "start_time": "2021-07-14T15:35:59.514Z"
   },
   {
    "duration": 10,
    "start_time": "2021-07-14T15:36:01.498Z"
   },
   {
    "duration": 9784,
    "start_time": "2021-07-14T15:36:03.432Z"
   },
   {
    "duration": 247,
    "start_time": "2021-07-14T15:37:07.934Z"
   },
   {
    "duration": 14833,
    "start_time": "2021-07-14T15:37:18.338Z"
   },
   {
    "duration": 6,
    "start_time": "2021-07-14T15:37:41.869Z"
   },
   {
    "duration": 4,
    "start_time": "2021-07-14T15:37:43.077Z"
   },
   {
    "duration": 707,
    "start_time": "2021-07-14T15:37:44.799Z"
   },
   {
    "duration": 617,
    "start_time": "2021-07-14T17:33:23.440Z"
   },
   {
    "duration": 2083,
    "start_time": "2021-07-14T17:33:34.411Z"
   },
   {
    "duration": 57,
    "start_time": "2021-07-14T17:33:36.497Z"
   },
   {
    "duration": 14,
    "start_time": "2021-07-14T17:33:36.557Z"
   },
   {
    "duration": 16,
    "start_time": "2021-07-14T17:33:36.574Z"
   },
   {
    "duration": 11,
    "start_time": "2021-07-14T17:33:36.898Z"
   },
   {
    "duration": 5,
    "start_time": "2021-07-14T17:33:37.790Z"
   },
   {
    "duration": 5,
    "start_time": "2021-07-14T17:33:38.305Z"
   },
   {
    "duration": 19,
    "start_time": "2021-07-14T17:33:38.838Z"
   },
   {
    "duration": 10,
    "start_time": "2021-07-14T17:33:39.320Z"
   },
   {
    "duration": 532,
    "start_time": "2021-07-14T17:33:40.851Z"
   },
   {
    "duration": 1916,
    "start_time": "2021-07-14T17:33:41.386Z"
   },
   {
    "duration": 1878,
    "start_time": "2021-07-14T17:33:43.310Z"
   },
   {
    "duration": 428,
    "start_time": "2021-07-14T17:33:45.191Z"
   },
   {
    "duration": 640,
    "start_time": "2021-07-14T17:33:45.621Z"
   },
   {
    "duration": 6,
    "start_time": "2021-07-14T17:33:49.263Z"
   },
   {
    "duration": 49,
    "start_time": "2021-07-14T17:33:51.931Z"
   },
   {
    "duration": 13,
    "start_time": "2021-07-14T17:33:54.587Z"
   },
   {
    "duration": 107,
    "start_time": "2021-07-14T17:33:56.062Z"
   },
   {
    "duration": 52,
    "start_time": "2021-07-14T17:33:57.481Z"
   },
   {
    "duration": 7,
    "start_time": "2021-07-14T17:34:08.229Z"
   },
   {
    "duration": 233,
    "start_time": "2021-07-14T17:34:09.776Z"
   },
   {
    "duration": 11,
    "start_time": "2021-07-14T17:34:12.043Z"
   },
   {
    "duration": 163,
    "start_time": "2021-07-14T17:34:13.822Z"
   },
   {
    "duration": 1031,
    "start_time": "2021-07-14T17:34:14.967Z"
   },
   {
    "duration": 28,
    "start_time": "2021-07-14T17:34:16.001Z"
   },
   {
    "duration": 1134,
    "start_time": "2021-07-14T17:34:17.954Z"
   },
   {
    "duration": 10354,
    "start_time": "2021-07-14T17:34:19.091Z"
   },
   {
    "duration": 1612,
    "start_time": "2021-07-14T17:34:29.449Z"
   },
   {
    "duration": 519,
    "start_time": "2021-07-14T17:34:35.002Z"
   },
   {
    "duration": 10,
    "start_time": "2021-07-14T17:34:36.576Z"
   },
   {
    "duration": 13993,
    "start_time": "2021-07-14T17:34:37.833Z"
   },
   {
    "duration": 332,
    "start_time": "2021-07-14T17:34:51.829Z"
   },
   {
    "duration": 938,
    "start_time": "2021-07-14T17:34:53.371Z"
   },
   {
    "duration": 6,
    "start_time": "2021-07-14T17:34:56.844Z"
   },
   {
    "duration": 4,
    "start_time": "2021-07-14T17:34:57.628Z"
   },
   {
    "duration": 724,
    "start_time": "2021-07-14T17:34:58.654Z"
   },
   {
    "duration": 1898,
    "start_time": "2021-07-14T17:37:52.842Z"
   },
   {
    "duration": 227,
    "start_time": "2021-07-14T17:38:43.082Z"
   },
   {
    "duration": 38,
    "start_time": "2021-07-14T17:39:23.231Z"
   },
   {
    "duration": 11,
    "start_time": "2021-07-14T17:47:39.050Z"
   },
   {
    "duration": 763,
    "start_time": "2021-07-14T17:48:29.349Z"
   },
   {
    "duration": 11,
    "start_time": "2021-07-14T17:49:07.221Z"
   },
   {
    "duration": 5305,
    "start_time": "2021-07-14T17:56:43.006Z"
   },
   {
    "duration": 51503,
    "start_time": "2021-07-14T17:57:23.307Z"
   },
   {
    "duration": 305,
    "start_time": "2021-07-14T18:02:22.460Z"
   },
   {
    "duration": 1829,
    "start_time": "2021-07-14T18:03:32.185Z"
   },
   {
    "duration": 88813,
    "start_time": "2021-07-14T18:06:09.479Z"
   },
   {
    "duration": 78023,
    "start_time": "2021-07-14T18:09:36.213Z"
   },
   {
    "duration": 114,
    "start_time": "2021-07-14T18:13:45.733Z"
   },
   {
    "duration": 23957,
    "start_time": "2021-07-14T18:13:53.801Z"
   },
   {
    "duration": 809,
    "start_time": "2021-07-14T18:14:37.359Z"
   },
   {
    "duration": 6,
    "start_time": "2021-07-14T18:14:45.804Z"
   },
   {
    "duration": 4,
    "start_time": "2021-07-14T18:14:48.171Z"
   },
   {
    "duration": 966,
    "start_time": "2021-07-14T18:14:49.880Z"
   },
   {
    "duration": 13,
    "start_time": "2021-07-14T18:16:07.768Z"
   },
   {
    "duration": 158,
    "start_time": "2021-07-14T18:16:09.690Z"
   },
   {
    "duration": 1065,
    "start_time": "2021-07-14T18:16:10.120Z"
   },
   {
    "duration": 34,
    "start_time": "2021-07-14T18:16:11.188Z"
   },
   {
    "duration": 1522,
    "start_time": "2021-07-14T18:16:20.151Z"
   },
   {
    "duration": 9,
    "start_time": "2021-07-14T18:16:28.241Z"
   },
   {
    "duration": 299,
    "start_time": "2021-07-14T18:16:45.182Z"
   },
   {
    "duration": 1302,
    "start_time": "2021-07-14T18:16:53.319Z"
   },
   {
    "duration": 24742,
    "start_time": "2021-07-14T18:16:59.947Z"
   },
   {
    "duration": 804,
    "start_time": "2021-07-14T18:17:27.625Z"
   },
   {
    "duration": 6,
    "start_time": "2021-07-14T18:17:31.350Z"
   },
   {
    "duration": 4,
    "start_time": "2021-07-14T18:17:32.048Z"
   },
   {
    "duration": 911,
    "start_time": "2021-07-14T18:17:32.923Z"
   },
   {
    "duration": 1197,
    "start_time": "2021-07-14T21:16:48.130Z"
   },
   {
    "duration": 37,
    "start_time": "2021-07-14T21:16:49.329Z"
   },
   {
    "duration": 9,
    "start_time": "2021-07-14T21:16:50.009Z"
   },
   {
    "duration": 10,
    "start_time": "2021-07-14T21:16:50.667Z"
   },
   {
    "duration": 9,
    "start_time": "2021-07-14T21:16:51.272Z"
   },
   {
    "duration": 5,
    "start_time": "2021-07-14T21:16:51.914Z"
   },
   {
    "duration": 4,
    "start_time": "2021-07-14T21:16:52.481Z"
   },
   {
    "duration": 10,
    "start_time": "2021-07-14T21:16:53.337Z"
   },
   {
    "duration": 6,
    "start_time": "2021-07-14T21:16:53.970Z"
   },
   {
    "duration": 313,
    "start_time": "2021-07-14T21:16:55.382Z"
   },
   {
    "duration": 1076,
    "start_time": "2021-07-14T21:16:56.036Z"
   },
   {
    "duration": 905,
    "start_time": "2021-07-14T21:16:57.506Z"
   },
   {
    "duration": 234,
    "start_time": "2021-07-14T21:16:58.413Z"
   },
   {
    "duration": 351,
    "start_time": "2021-07-14T21:16:59.185Z"
   },
   {
    "duration": 4,
    "start_time": "2021-07-14T21:17:06.908Z"
   },
   {
    "duration": 28,
    "start_time": "2021-07-14T21:17:08.485Z"
   },
   {
    "duration": 9,
    "start_time": "2021-07-14T21:17:10.413Z"
   },
   {
    "duration": 85,
    "start_time": "2021-07-14T21:17:11.995Z"
   },
   {
    "duration": 32,
    "start_time": "2021-07-14T21:17:14.094Z"
   },
   {
    "duration": 4,
    "start_time": "2021-07-14T21:17:24.328Z"
   },
   {
    "duration": 798,
    "start_time": "2021-07-14T21:17:27.641Z"
   },
   {
    "duration": 5,
    "start_time": "2021-07-14T21:17:42.081Z"
   },
   {
    "duration": 423,
    "start_time": "2021-07-14T21:17:43.721Z"
   },
   {
    "duration": 1654,
    "start_time": "2021-07-15T10:42:37.317Z"
   },
   {
    "duration": 48,
    "start_time": "2021-07-15T10:42:39.217Z"
   },
   {
    "duration": 10,
    "start_time": "2021-07-15T10:42:40.392Z"
   },
   {
    "duration": 21,
    "start_time": "2021-07-15T10:42:41.462Z"
   },
   {
    "duration": 14,
    "start_time": "2021-07-15T10:42:42.333Z"
   },
   {
    "duration": 7,
    "start_time": "2021-07-15T10:42:43.003Z"
   },
   {
    "duration": 7,
    "start_time": "2021-07-15T10:42:44.079Z"
   },
   {
    "duration": 15,
    "start_time": "2021-07-15T10:42:44.694Z"
   },
   {
    "duration": 9,
    "start_time": "2021-07-15T10:42:48.453Z"
   },
   {
    "duration": 484,
    "start_time": "2021-07-15T10:42:49.607Z"
   },
   {
    "duration": 1838,
    "start_time": "2021-07-15T10:42:51.099Z"
   },
   {
    "duration": 1575,
    "start_time": "2021-07-15T10:42:54.928Z"
   },
   {
    "duration": 410,
    "start_time": "2021-07-15T10:42:56.506Z"
   },
   {
    "duration": 616,
    "start_time": "2021-07-15T10:42:56.918Z"
   },
   {
    "duration": 6,
    "start_time": "2021-07-15T10:43:09.680Z"
   },
   {
    "duration": 68,
    "start_time": "2021-07-15T10:43:10.915Z"
   },
   {
    "duration": 222,
    "start_time": "2021-07-15T11:13:53.035Z"
   },
   {
    "duration": 11,
    "start_time": "2021-07-15T11:14:01.856Z"
   },
   {
    "duration": 49,
    "start_time": "2021-07-15T11:14:02.743Z"
   },
   {
    "duration": 10,
    "start_time": "2021-07-15T11:14:03.603Z"
   },
   {
    "duration": 14,
    "start_time": "2021-07-15T11:14:04.458Z"
   },
   {
    "duration": 11,
    "start_time": "2021-07-15T11:14:05.198Z"
   },
   {
    "duration": 6,
    "start_time": "2021-07-15T11:14:06.060Z"
   },
   {
    "duration": 6,
    "start_time": "2021-07-15T11:14:07.396Z"
   },
   {
    "duration": 12,
    "start_time": "2021-07-15T11:14:08.781Z"
   },
   {
    "duration": 9,
    "start_time": "2021-07-15T11:14:10.247Z"
   },
   {
    "duration": 14,
    "start_time": "2021-07-15T11:14:10.804Z"
   },
   {
    "duration": 817,
    "start_time": "2021-07-15T11:15:51.638Z"
   },
   {
    "duration": 405,
    "start_time": "2021-07-15T11:16:22.281Z"
   },
   {
    "duration": 363,
    "start_time": "2021-07-15T11:16:41.182Z"
   },
   {
    "duration": 464,
    "start_time": "2021-07-15T11:16:51.173Z"
   },
   {
    "duration": 472,
    "start_time": "2021-07-15T11:17:34.768Z"
   },
   {
    "duration": 1511,
    "start_time": "2021-07-15T17:08:02.778Z"
   },
   {
    "duration": 51,
    "start_time": "2021-07-15T17:08:05.661Z"
   },
   {
    "duration": 10,
    "start_time": "2021-07-15T17:08:09.927Z"
   },
   {
    "duration": 13,
    "start_time": "2021-07-15T17:08:25.405Z"
   },
   {
    "duration": 12,
    "start_time": "2021-07-15T17:08:27.884Z"
   },
   {
    "duration": 6,
    "start_time": "2021-07-15T17:08:30.059Z"
   },
   {
    "duration": 5,
    "start_time": "2021-07-15T17:08:38.113Z"
   },
   {
    "duration": 14,
    "start_time": "2021-07-15T17:08:49.803Z"
   },
   {
    "duration": 9,
    "start_time": "2021-07-15T17:08:52.204Z"
   },
   {
    "duration": 7,
    "start_time": "2021-07-15T17:09:21.098Z"
   },
   {
    "duration": 15,
    "start_time": "2021-07-15T17:09:26.563Z"
   },
   {
    "duration": 8,
    "start_time": "2021-07-15T17:13:36.995Z"
   },
   {
    "duration": 17,
    "start_time": "2021-07-15T17:17:06.242Z"
   },
   {
    "duration": 392,
    "start_time": "2021-07-15T17:19:36.424Z"
   },
   {
    "duration": 485,
    "start_time": "2021-07-15T17:23:17.463Z"
   },
   {
    "duration": 358,
    "start_time": "2021-07-15T17:23:23.240Z"
   },
   {
    "duration": 7,
    "start_time": "2021-07-15T17:23:41.648Z"
   },
   {
    "duration": 42,
    "start_time": "2021-07-15T17:23:42.787Z"
   },
   {
    "duration": 10,
    "start_time": "2021-07-15T17:23:44.026Z"
   },
   {
    "duration": 12,
    "start_time": "2021-07-15T17:23:45.126Z"
   },
   {
    "duration": 12,
    "start_time": "2021-07-15T17:23:46.078Z"
   },
   {
    "duration": 5,
    "start_time": "2021-07-15T17:23:47.121Z"
   },
   {
    "duration": 5,
    "start_time": "2021-07-15T17:23:47.935Z"
   },
   {
    "duration": 11,
    "start_time": "2021-07-15T17:23:48.713Z"
   },
   {
    "duration": 9,
    "start_time": "2021-07-15T17:23:49.453Z"
   },
   {
    "duration": 14,
    "start_time": "2021-07-15T17:23:50.207Z"
   },
   {
    "duration": 471,
    "start_time": "2021-07-15T17:23:51.459Z"
   },
   {
    "duration": 6,
    "start_time": "2021-07-15T17:23:53.237Z"
   },
   {
    "duration": 11,
    "start_time": "2021-07-15T17:23:54.862Z"
   },
   {
    "duration": 364,
    "start_time": "2021-07-15T17:23:58.204Z"
   },
   {
    "duration": 329,
    "start_time": "2021-07-15T17:24:01.099Z"
   },
   {
    "duration": 7,
    "start_time": "2021-07-15T17:25:07.893Z"
   },
   {
    "duration": 44,
    "start_time": "2021-07-15T17:25:08.699Z"
   },
   {
    "duration": 11,
    "start_time": "2021-07-15T17:25:09.263Z"
   },
   {
    "duration": 15,
    "start_time": "2021-07-15T17:25:09.871Z"
   },
   {
    "duration": 13,
    "start_time": "2021-07-15T17:25:10.473Z"
   },
   {
    "duration": 6,
    "start_time": "2021-07-15T17:25:11.069Z"
   },
   {
    "duration": 5,
    "start_time": "2021-07-15T17:25:11.769Z"
   },
   {
    "duration": 13,
    "start_time": "2021-07-15T17:25:12.363Z"
   },
   {
    "duration": 9,
    "start_time": "2021-07-15T17:25:12.928Z"
   },
   {
    "duration": 14,
    "start_time": "2021-07-15T17:25:13.571Z"
   },
   {
    "duration": 469,
    "start_time": "2021-07-15T17:25:14.627Z"
   },
   {
    "duration": 7,
    "start_time": "2021-07-15T17:25:16.523Z"
   },
   {
    "duration": 3,
    "start_time": "2021-07-15T17:25:17.859Z"
   },
   {
    "duration": 560,
    "start_time": "2021-07-15T17:25:20.958Z"
   },
   {
    "duration": 1702,
    "start_time": "2021-07-15T17:25:22.665Z"
   },
   {
    "duration": 472,
    "start_time": "2021-07-15T17:26:02.842Z"
   },
   {
    "duration": 1851,
    "start_time": "2021-07-15T17:26:06.340Z"
   },
   {
    "duration": 1678,
    "start_time": "2021-07-15T17:26:40.843Z"
   },
   {
    "duration": 382,
    "start_time": "2021-07-15T17:32:50.373Z"
   },
   {
    "duration": 595,
    "start_time": "2021-07-15T17:33:23.482Z"
   },
   {
    "duration": 6,
    "start_time": "2021-07-15T17:34:19.748Z"
   },
   {
    "duration": 47,
    "start_time": "2021-07-15T17:34:23.039Z"
   },
   {
    "duration": 12,
    "start_time": "2021-07-15T17:34:55.400Z"
   },
   {
    "duration": 10,
    "start_time": "2021-07-15T17:34:56.857Z"
   },
   {
    "duration": 148,
    "start_time": "2021-07-15T17:35:04.290Z"
   },
   {
    "duration": 6,
    "start_time": "2021-07-15T18:17:46.372Z"
   },
   {
    "duration": 738,
    "start_time": "2021-07-15T18:18:42.943Z"
   },
   {
    "duration": 4,
    "start_time": "2021-07-15T18:20:09.611Z"
   },
   {
    "duration": 4,
    "start_time": "2021-07-15T18:20:35.590Z"
   },
   {
    "duration": 355,
    "start_time": "2021-07-15T18:20:45.154Z"
   },
   {
    "duration": 5,
    "start_time": "2021-07-15T18:21:07.629Z"
   },
   {
    "duration": 6,
    "start_time": "2021-07-15T18:23:55.279Z"
   },
   {
    "duration": 729,
    "start_time": "2021-07-15T18:23:58.120Z"
   },
   {
    "duration": 7,
    "start_time": "2021-07-15T18:25:46.723Z"
   },
   {
    "duration": 7,
    "start_time": "2021-07-15T18:27:23.191Z"
   },
   {
    "duration": 321,
    "start_time": "2021-07-15T18:27:24.019Z"
   },
   {
    "duration": 660,
    "start_time": "2021-07-15T18:27:45.176Z"
   },
   {
    "duration": 7,
    "start_time": "2021-07-15T18:32:24.562Z"
   },
   {
    "duration": 640,
    "start_time": "2021-07-15T18:32:25.965Z"
   },
   {
    "duration": 7,
    "start_time": "2021-07-15T18:33:49.440Z"
   },
   {
    "duration": 10,
    "start_time": "2021-07-15T18:34:34.407Z"
   },
   {
    "duration": 9,
    "start_time": "2021-07-15T18:34:57.591Z"
   },
   {
    "duration": 8,
    "start_time": "2021-07-15T18:35:30.163Z"
   },
   {
    "duration": 8,
    "start_time": "2021-07-15T18:35:43.943Z"
   },
   {
    "duration": 6,
    "start_time": "2021-07-15T18:38:18.922Z"
   },
   {
    "duration": 615,
    "start_time": "2021-07-15T18:38:19.795Z"
   },
   {
    "duration": 7,
    "start_time": "2021-07-15T18:44:12.798Z"
   },
   {
    "duration": 662,
    "start_time": "2021-07-15T18:44:13.608Z"
   },
   {
    "duration": 7,
    "start_time": "2021-07-15T18:44:55.974Z"
   },
   {
    "duration": 627,
    "start_time": "2021-07-15T18:44:56.615Z"
   },
   {
    "duration": 6,
    "start_time": "2021-07-15T18:45:12.874Z"
   },
   {
    "duration": 652,
    "start_time": "2021-07-15T18:45:13.656Z"
   },
   {
    "duration": 6,
    "start_time": "2021-07-15T19:21:44.839Z"
   },
   {
    "duration": 689,
    "start_time": "2021-07-15T19:21:46.002Z"
   },
   {
    "duration": 1751,
    "start_time": "2021-07-15T21:14:50.755Z"
   },
   {
    "duration": 48,
    "start_time": "2021-07-15T21:14:52.509Z"
   },
   {
    "duration": 10,
    "start_time": "2021-07-15T21:14:52.562Z"
   },
   {
    "duration": 15,
    "start_time": "2021-07-15T21:14:52.575Z"
   },
   {
    "duration": 11,
    "start_time": "2021-07-15T21:14:52.592Z"
   },
   {
    "duration": 6,
    "start_time": "2021-07-15T21:14:52.605Z"
   },
   {
    "duration": 6,
    "start_time": "2021-07-15T21:14:52.614Z"
   },
   {
    "duration": 14,
    "start_time": "2021-07-15T21:14:52.663Z"
   },
   {
    "duration": 9,
    "start_time": "2021-07-15T21:14:52.681Z"
   },
   {
    "duration": 15,
    "start_time": "2021-07-15T21:14:52.693Z"
   },
   {
    "duration": 515,
    "start_time": "2021-07-15T21:14:52.711Z"
   },
   {
    "duration": 6,
    "start_time": "2021-07-15T21:14:53.229Z"
   },
   {
    "duration": 498,
    "start_time": "2021-07-15T21:14:53.238Z"
   },
   {
    "duration": 1824,
    "start_time": "2021-07-15T21:14:53.739Z"
   },
   {
    "duration": 1615,
    "start_time": "2021-07-15T21:14:55.565Z"
   },
   {
    "duration": 420,
    "start_time": "2021-07-15T21:14:57.183Z"
   },
   {
    "duration": 733,
    "start_time": "2021-07-15T21:14:57.606Z"
   },
   {
    "duration": 19,
    "start_time": "2021-07-15T21:14:58.343Z"
   },
   {
    "duration": 59,
    "start_time": "2021-07-15T21:14:58.364Z"
   },
   {
    "duration": 15,
    "start_time": "2021-07-15T21:14:58.426Z"
   },
   {
    "duration": 27,
    "start_time": "2021-07-15T21:14:58.444Z"
   },
   {
    "duration": 60,
    "start_time": "2021-07-15T21:14:58.482Z"
   },
   {
    "duration": 20,
    "start_time": "2021-07-15T21:14:58.545Z"
   },
   {
    "duration": 396,
    "start_time": "2021-07-15T21:14:58.569Z"
   },
   {
    "duration": 101,
    "start_time": "2021-07-15T21:14:58.969Z"
   },
   {
    "duration": 329,
    "start_time": "2021-07-15T21:14:59.073Z"
   },
   {
    "duration": 1134,
    "start_time": "2021-07-15T21:14:59.408Z"
   },
   {
    "duration": 26,
    "start_time": "2021-07-15T21:15:00.545Z"
   },
   {
    "duration": 938,
    "start_time": "2021-07-15T21:15:00.573Z"
   },
   {
    "duration": 10037,
    "start_time": "2021-07-15T21:15:01.513Z"
   },
   {
    "duration": 1549,
    "start_time": "2021-07-15T21:15:11.553Z"
   },
   {
    "duration": 957,
    "start_time": "2021-07-15T21:15:13.105Z"
   },
   {
    "duration": 11,
    "start_time": "2021-07-15T21:15:14.065Z"
   },
   {
    "duration": 1175,
    "start_time": "2021-07-15T21:15:14.080Z"
   },
   {
    "duration": 12843,
    "start_time": "2021-07-15T21:15:15.258Z"
   },
   {
    "duration": 318,
    "start_time": "2021-07-15T21:15:28.103Z"
   },
   {
    "duration": 4940,
    "start_time": "2021-07-15T21:15:28.423Z"
   },
   {
    "duration": 18506,
    "start_time": "2021-07-15T21:15:33.366Z"
   },
   {
    "duration": 1893,
    "start_time": "2021-07-15T21:15:51.875Z"
   },
   {
    "duration": 78475,
    "start_time": "2021-07-15T21:15:53.770Z"
   },
   {
    "duration": 72196,
    "start_time": "2021-07-15T21:17:12.248Z"
   },
   {
    "duration": 20970,
    "start_time": "2021-07-15T21:18:24.447Z"
   },
   {
    "duration": 6,
    "start_time": "2021-07-15T21:18:45.420Z"
   },
   {
    "duration": 12,
    "start_time": "2021-07-15T21:18:45.429Z"
   },
   {
    "duration": 641,
    "start_time": "2021-07-15T21:18:45.444Z"
   },
   {
    "duration": 315,
    "start_time": "2021-07-15T21:35:15.124Z"
   },
   {
    "duration": 6,
    "start_time": "2021-07-15T21:38:12.974Z"
   },
   {
    "duration": 4,
    "start_time": "2021-07-15T21:38:14.341Z"
   },
   {
    "duration": 586,
    "start_time": "2021-07-15T21:38:15.311Z"
   },
   {
    "duration": 7,
    "start_time": "2021-07-15T21:42:33.003Z"
   },
   {
    "duration": 43,
    "start_time": "2021-07-15T21:42:33.480Z"
   },
   {
    "duration": 12,
    "start_time": "2021-07-15T21:42:33.930Z"
   },
   {
    "duration": 13,
    "start_time": "2021-07-15T21:42:34.306Z"
   },
   {
    "duration": 11,
    "start_time": "2021-07-15T21:42:34.639Z"
   },
   {
    "duration": 5,
    "start_time": "2021-07-15T21:42:34.968Z"
   },
   {
    "duration": 6,
    "start_time": "2021-07-15T21:42:35.320Z"
   },
   {
    "duration": 13,
    "start_time": "2021-07-15T21:42:35.673Z"
   },
   {
    "duration": 10,
    "start_time": "2021-07-15T21:42:36.073Z"
   },
   {
    "duration": 17,
    "start_time": "2021-07-15T21:42:36.388Z"
   },
   {
    "duration": 474,
    "start_time": "2021-07-15T21:42:37.271Z"
   },
   {
    "duration": 15,
    "start_time": "2021-07-15T21:42:37.749Z"
   },
   {
    "duration": 479,
    "start_time": "2021-07-15T21:42:40.515Z"
   },
   {
    "duration": 1760,
    "start_time": "2021-07-15T21:42:41.083Z"
   },
   {
    "duration": 1707,
    "start_time": "2021-07-15T21:42:42.846Z"
   },
   {
    "duration": 426,
    "start_time": "2021-07-15T21:42:44.556Z"
   },
   {
    "duration": 614,
    "start_time": "2021-07-15T21:42:44.985Z"
   },
   {
    "duration": 7,
    "start_time": "2021-07-15T21:42:45.602Z"
   },
   {
    "duration": 46,
    "start_time": "2021-07-15T21:42:46.510Z"
   },
   {
    "duration": 13,
    "start_time": "2021-07-15T21:42:48.419Z"
   },
   {
    "duration": 10,
    "start_time": "2021-07-15T21:42:54.697Z"
   },
   {
    "duration": 7,
    "start_time": "2021-07-15T21:43:00.152Z"
   },
   {
    "duration": 127,
    "start_time": "2021-07-15T21:43:02.039Z"
   },
   {
    "duration": 13,
    "start_time": "2021-07-15T21:43:02.761Z"
   },
   {
    "duration": 3,
    "start_time": "2021-07-15T21:43:03.787Z"
   },
   {
    "duration": 3,
    "start_time": "2021-07-15T21:43:04.343Z"
   },
   {
    "duration": 23,
    "start_time": "2021-07-15T21:43:04.901Z"
   },
   {
    "duration": 4,
    "start_time": "2021-07-15T21:43:05.754Z"
   },
   {
    "duration": 3,
    "start_time": "2021-07-15T21:43:06.236Z"
   },
   {
    "duration": 1517,
    "start_time": "2021-07-15T21:43:06.766Z"
   },
   {
    "duration": 3,
    "start_time": "2021-07-15T21:43:08.286Z"
   },
   {
    "duration": 12,
    "start_time": "2021-07-15T21:43:08.310Z"
   },
   {
    "duration": 4,
    "start_time": "2021-07-15T21:43:10.443Z"
   },
   {
    "duration": 3,
    "start_time": "2021-07-15T21:43:10.722Z"
   },
   {
    "duration": 311,
    "start_time": "2021-07-15T21:43:11.810Z"
   },
   {
    "duration": 3,
    "start_time": "2021-07-15T21:43:14.681Z"
   },
   {
    "duration": 3,
    "start_time": "2021-07-15T21:43:15.214Z"
   },
   {
    "duration": 1137,
    "start_time": "2021-07-15T21:43:16.130Z"
   },
   {
    "duration": 3,
    "start_time": "2021-07-15T21:43:17.633Z"
   },
   {
    "duration": 4,
    "start_time": "2021-07-15T21:43:18.303Z"
   },
   {
    "duration": 21176,
    "start_time": "2021-07-15T21:43:19.878Z"
   },
   {
    "duration": 9,
    "start_time": "2021-07-15T21:43:45.557Z"
   },
   {
    "duration": 5,
    "start_time": "2021-07-15T21:43:46.835Z"
   },
   {
    "duration": 647,
    "start_time": "2021-07-15T21:43:47.533Z"
   },
   {
    "duration": 1590,
    "start_time": "2021-07-15T21:45:47.408Z"
   },
   {
    "duration": 53,
    "start_time": "2021-07-15T21:45:49.001Z"
   },
   {
    "duration": 10,
    "start_time": "2021-07-15T21:45:49.057Z"
   },
   {
    "duration": 17,
    "start_time": "2021-07-15T21:45:49.070Z"
   },
   {
    "duration": 12,
    "start_time": "2021-07-15T21:45:49.089Z"
   },
   {
    "duration": 17,
    "start_time": "2021-07-15T21:45:49.104Z"
   },
   {
    "duration": 7,
    "start_time": "2021-07-15T21:45:49.123Z"
   },
   {
    "duration": 13,
    "start_time": "2021-07-15T21:45:49.163Z"
   },
   {
    "duration": 8,
    "start_time": "2021-07-15T21:45:49.179Z"
   },
   {
    "duration": 25,
    "start_time": "2021-07-15T21:45:49.189Z"
   },
   {
    "duration": 501,
    "start_time": "2021-07-15T21:45:49.216Z"
   },
   {
    "duration": 7,
    "start_time": "2021-07-15T21:45:49.719Z"
   },
   {
    "duration": 493,
    "start_time": "2021-07-15T21:45:49.728Z"
   },
   {
    "duration": 1807,
    "start_time": "2021-07-15T21:45:50.224Z"
   },
   {
    "duration": 2512,
    "start_time": "2021-07-15T21:45:52.035Z"
   },
   {
    "duration": 591,
    "start_time": "2021-07-15T21:45:54.551Z"
   },
   {
    "duration": 1075,
    "start_time": "2021-07-15T21:45:55.145Z"
   },
   {
    "duration": 8,
    "start_time": "2021-07-15T21:45:56.223Z"
   },
   {
    "duration": 88,
    "start_time": "2021-07-15T21:45:56.233Z"
   },
   {
    "duration": 17,
    "start_time": "2021-07-15T21:45:56.324Z"
   },
   {
    "duration": 30,
    "start_time": "2021-07-15T21:45:56.344Z"
   },
   {
    "duration": 91,
    "start_time": "2021-07-15T21:45:56.377Z"
   },
   {
    "duration": 10,
    "start_time": "2021-07-15T21:45:56.476Z"
   },
   {
    "duration": 478,
    "start_time": "2021-07-15T21:45:56.489Z"
   },
   {
    "duration": 99,
    "start_time": "2021-07-15T21:45:56.970Z"
   },
   {
    "duration": 4,
    "start_time": "2021-07-15T21:45:57.072Z"
   },
   {
    "duration": 89,
    "start_time": "2021-07-15T21:45:57.079Z"
   },
   {
    "duration": 110,
    "start_time": "2021-07-15T21:45:57.170Z"
   },
   {
    "duration": 3,
    "start_time": "2021-07-15T21:45:57.282Z"
   },
   {
    "duration": 6,
    "start_time": "2021-07-15T21:45:57.287Z"
   },
   {
    "duration": 1713,
    "start_time": "2021-07-15T21:45:57.296Z"
   },
   {
    "duration": 3,
    "start_time": "2021-07-15T21:45:59.011Z"
   },
   {
    "duration": 46,
    "start_time": "2021-07-15T21:45:59.016Z"
   },
   {
    "duration": 3,
    "start_time": "2021-07-15T21:45:59.066Z"
   },
   {
    "duration": 89,
    "start_time": "2021-07-15T21:45:59.073Z"
   },
   {
    "duration": 352,
    "start_time": "2021-07-15T21:45:59.165Z"
   },
   {
    "duration": 3,
    "start_time": "2021-07-15T21:45:59.519Z"
   },
   {
    "duration": 13,
    "start_time": "2021-07-15T21:45:59.525Z"
   },
   {
    "duration": 1727,
    "start_time": "2021-07-15T21:45:59.541Z"
   },
   {
    "duration": 2,
    "start_time": "2021-07-15T21:46:01.271Z"
   },
   {
    "duration": 23,
    "start_time": "2021-07-15T21:46:01.276Z"
   },
   {
    "duration": 20457,
    "start_time": "2021-07-15T21:46:01.301Z"
   },
   {
    "duration": 6,
    "start_time": "2021-07-15T21:46:21.760Z"
   },
   {
    "duration": 12,
    "start_time": "2021-07-15T21:46:21.769Z"
   },
   {
    "duration": 597,
    "start_time": "2021-07-15T21:46:21.783Z"
   },
   {
    "duration": 1582,
    "start_time": "2021-07-16T03:52:17.159Z"
   },
   {
    "duration": 49,
    "start_time": "2021-07-16T03:52:18.743Z"
   },
   {
    "duration": 11,
    "start_time": "2021-07-16T03:52:18.795Z"
   },
   {
    "duration": 12,
    "start_time": "2021-07-16T03:52:18.809Z"
   },
   {
    "duration": 10,
    "start_time": "2021-07-16T03:52:18.824Z"
   },
   {
    "duration": 7,
    "start_time": "2021-07-16T03:52:18.836Z"
   },
   {
    "duration": 9,
    "start_time": "2021-07-16T03:52:18.845Z"
   },
   {
    "duration": 52,
    "start_time": "2021-07-16T03:52:18.857Z"
   },
   {
    "duration": 7,
    "start_time": "2021-07-16T03:52:18.913Z"
   },
   {
    "duration": 19,
    "start_time": "2021-07-16T03:52:18.923Z"
   },
   {
    "duration": 482,
    "start_time": "2021-07-16T03:52:18.944Z"
   },
   {
    "duration": 6,
    "start_time": "2021-07-16T03:52:19.429Z"
   },
   {
    "duration": 492,
    "start_time": "2021-07-16T03:52:19.437Z"
   },
   {
    "duration": 1816,
    "start_time": "2021-07-16T03:52:19.931Z"
   },
   {
    "duration": 624,
    "start_time": "2021-07-16T03:53:07.521Z"
   },
   {
    "duration": 6434,
    "start_time": "2021-07-16T03:53:20.360Z"
   },
   {
    "duration": 6757,
    "start_time": "2021-07-16T03:53:45.778Z"
   },
   {
    "duration": 14,
    "start_time": "2021-07-16T03:54:10.673Z"
   },
   {
    "duration": 3432,
    "start_time": "2021-07-16T03:54:59.682Z"
   },
   {
    "duration": 3292,
    "start_time": "2021-07-16T03:55:25.919Z"
   },
   {
    "duration": 6372,
    "start_time": "2021-07-16T04:02:30.236Z"
   },
   {
    "duration": 12,
    "start_time": "2021-07-16T04:03:06.808Z"
   },
   {
    "duration": 282,
    "start_time": "2021-07-16T04:03:17.297Z"
   },
   {
    "duration": 333,
    "start_time": "2021-07-16T04:03:43.591Z"
   },
   {
    "duration": 1526,
    "start_time": "2021-07-16T08:47:52.295Z"
   },
   {
    "duration": 50,
    "start_time": "2021-07-16T08:47:53.823Z"
   },
   {
    "duration": 12,
    "start_time": "2021-07-16T08:47:53.875Z"
   },
   {
    "duration": 18,
    "start_time": "2021-07-16T08:47:53.889Z"
   },
   {
    "duration": 14,
    "start_time": "2021-07-16T08:47:53.910Z"
   },
   {
    "duration": 6,
    "start_time": "2021-07-16T08:47:53.927Z"
   },
   {
    "duration": 6,
    "start_time": "2021-07-16T08:47:53.936Z"
   },
   {
    "duration": 13,
    "start_time": "2021-07-16T08:47:53.986Z"
   },
   {
    "duration": 15,
    "start_time": "2021-07-16T08:47:54.001Z"
   },
   {
    "duration": 17,
    "start_time": "2021-07-16T08:47:54.018Z"
   },
   {
    "duration": 503,
    "start_time": "2021-07-16T08:47:54.037Z"
   },
   {
    "duration": 7,
    "start_time": "2021-07-16T08:47:54.543Z"
   },
   {
    "duration": 520,
    "start_time": "2021-07-16T08:47:54.553Z"
   },
   {
    "duration": 1804,
    "start_time": "2021-07-16T08:47:55.075Z"
   },
   {
    "duration": 317,
    "start_time": "2021-07-16T08:48:44.920Z"
   },
   {
    "duration": 8070,
    "start_time": "2021-07-16T08:59:23.936Z"
   },
   {
    "duration": 292,
    "start_time": "2021-07-16T08:59:46.721Z"
   },
   {
    "duration": 457,
    "start_time": "2021-07-16T09:00:09.700Z"
   },
   {
    "duration": 602,
    "start_time": "2021-07-16T09:12:16.078Z"
   },
   {
    "duration": 1494,
    "start_time": "2021-07-16T10:23:04.524Z"
   },
   {
    "duration": 49,
    "start_time": "2021-07-16T10:23:09.614Z"
   },
   {
    "duration": 10,
    "start_time": "2021-07-16T10:23:10.941Z"
   },
   {
    "duration": 13,
    "start_time": "2021-07-16T10:23:12.015Z"
   },
   {
    "duration": 11,
    "start_time": "2021-07-16T10:23:12.982Z"
   },
   {
    "duration": 6,
    "start_time": "2021-07-16T10:23:13.686Z"
   },
   {
    "duration": 4,
    "start_time": "2021-07-16T10:23:14.426Z"
   },
   {
    "duration": 15,
    "start_time": "2021-07-16T10:23:15.525Z"
   },
   {
    "duration": 9,
    "start_time": "2021-07-16T10:23:17.970Z"
   },
   {
    "duration": 17,
    "start_time": "2021-07-16T10:23:20.010Z"
   },
   {
    "duration": 728,
    "start_time": "2021-07-16T10:23:21.672Z"
   },
   {
    "duration": 6,
    "start_time": "2021-07-16T10:23:24.379Z"
   },
   {
    "duration": 498,
    "start_time": "2021-07-16T10:23:51.820Z"
   },
   {
    "duration": 431,
    "start_time": "2021-07-16T10:28:38.373Z"
   },
   {
    "duration": 1872,
    "start_time": "2021-07-16T10:28:56.011Z"
   },
   {
    "duration": 304,
    "start_time": "2021-07-16T10:29:05.699Z"
   },
   {
    "duration": 377,
    "start_time": "2021-07-16T10:29:39.036Z"
   },
   {
    "duration": 103,
    "start_time": "2021-07-16T10:31:08.731Z"
   },
   {
    "duration": 557,
    "start_time": "2021-07-16T10:49:12.999Z"
   },
   {
    "duration": 45,
    "start_time": "2021-07-16T11:09:29.557Z"
   },
   {
    "duration": 11,
    "start_time": "2021-07-16T11:09:30.209Z"
   },
   {
    "duration": 14,
    "start_time": "2021-07-16T11:09:30.784Z"
   },
   {
    "duration": 12,
    "start_time": "2021-07-16T11:09:31.511Z"
   },
   {
    "duration": 5,
    "start_time": "2021-07-16T11:09:32.230Z"
   },
   {
    "duration": 4,
    "start_time": "2021-07-16T11:09:32.855Z"
   },
   {
    "duration": 12,
    "start_time": "2021-07-16T11:09:33.465Z"
   },
   {
    "duration": 9,
    "start_time": "2021-07-16T11:09:34.379Z"
   },
   {
    "duration": 14,
    "start_time": "2021-07-16T11:09:34.777Z"
   },
   {
    "duration": 475,
    "start_time": "2021-07-16T11:09:35.410Z"
   },
   {
    "duration": 6,
    "start_time": "2021-07-16T11:09:36.280Z"
   },
   {
    "duration": 487,
    "start_time": "2021-07-16T11:09:40.050Z"
   },
   {
    "duration": 320,
    "start_time": "2021-07-16T11:09:48.135Z"
   },
   {
    "duration": 1764,
    "start_time": "2021-07-16T11:10:09.297Z"
   },
   {
    "duration": 471,
    "start_time": "2021-07-16T11:11:13.237Z"
   },
   {
    "duration": 576,
    "start_time": "2021-07-16T11:12:03.561Z"
   },
   {
    "duration": 44,
    "start_time": "2021-07-16T11:12:14.473Z"
   },
   {
    "duration": 10,
    "start_time": "2021-07-16T11:12:15.394Z"
   },
   {
    "duration": 14,
    "start_time": "2021-07-16T11:12:15.997Z"
   },
   {
    "duration": 11,
    "start_time": "2021-07-16T11:12:16.465Z"
   },
   {
    "duration": 6,
    "start_time": "2021-07-16T11:12:16.909Z"
   },
   {
    "duration": 4,
    "start_time": "2021-07-16T11:12:17.511Z"
   },
   {
    "duration": 14,
    "start_time": "2021-07-16T11:12:17.908Z"
   },
   {
    "duration": 9,
    "start_time": "2021-07-16T11:12:18.588Z"
   },
   {
    "duration": 15,
    "start_time": "2021-07-16T11:12:19.220Z"
   },
   {
    "duration": 493,
    "start_time": "2021-07-16T11:12:19.961Z"
   },
   {
    "duration": 7,
    "start_time": "2021-07-16T11:12:20.878Z"
   },
   {
    "duration": 557,
    "start_time": "2021-07-16T11:12:24.326Z"
   },
   {
    "duration": 1826,
    "start_time": "2021-07-16T11:12:41.356Z"
   },
   {
    "duration": 1613,
    "start_time": "2021-07-16T11:12:56.406Z"
   },
   {
    "duration": 486,
    "start_time": "2021-07-16T11:13:13.616Z"
   },
   {
    "duration": 551,
    "start_time": "2021-07-16T11:13:37.622Z"
   },
   {
    "duration": 6,
    "start_time": "2021-07-16T11:14:24.393Z"
   },
   {
    "duration": 68,
    "start_time": "2021-07-16T11:14:27.048Z"
   },
   {
    "duration": 14,
    "start_time": "2021-07-16T11:15:14.653Z"
   },
   {
    "duration": 10,
    "start_time": "2021-07-16T11:15:19.184Z"
   },
   {
    "duration": 49,
    "start_time": "2021-07-16T11:15:21.851Z"
   },
   {
    "duration": 6,
    "start_time": "2021-07-16T11:15:28.981Z"
   },
   {
    "duration": 7,
    "start_time": "2021-07-16T11:15:29.457Z"
   },
   {
    "duration": 91,
    "start_time": "2021-07-16T11:15:36.829Z"
   },
   {
    "duration": 374,
    "start_time": "2021-07-16T11:16:13.228Z"
   },
   {
    "duration": 2156,
    "start_time": "2021-07-16T11:16:30.769Z"
   },
   {
    "duration": 1135,
    "start_time": "2021-07-16T11:17:30.484Z"
   },
   {
    "duration": 1561,
    "start_time": "2021-07-16T11:17:44.147Z"
   },
   {
    "duration": 1790,
    "start_time": "2021-07-16T11:17:53.236Z"
   },
   {
    "duration": 300,
    "start_time": "2021-07-16T11:35:49.667Z"
   },
   {
    "duration": 8,
    "start_time": "2021-07-16T11:35:57.694Z"
   },
   {
    "duration": 42,
    "start_time": "2021-07-16T11:35:58.356Z"
   },
   {
    "duration": 12,
    "start_time": "2021-07-16T11:35:58.910Z"
   },
   {
    "duration": 14,
    "start_time": "2021-07-16T11:35:59.375Z"
   },
   {
    "duration": 12,
    "start_time": "2021-07-16T11:36:00.041Z"
   },
   {
    "duration": 6,
    "start_time": "2021-07-16T11:36:00.539Z"
   },
   {
    "duration": 5,
    "start_time": "2021-07-16T11:36:01.067Z"
   },
   {
    "duration": 10,
    "start_time": "2021-07-16T11:36:01.557Z"
   },
   {
    "duration": 8,
    "start_time": "2021-07-16T11:36:02.374Z"
   },
   {
    "duration": 14,
    "start_time": "2021-07-16T11:36:02.845Z"
   },
   {
    "duration": 457,
    "start_time": "2021-07-16T11:36:03.290Z"
   },
   {
    "duration": 6,
    "start_time": "2021-07-16T11:36:03.820Z"
   },
   {
    "duration": 558,
    "start_time": "2021-07-16T11:36:07.142Z"
   },
   {
    "duration": 1890,
    "start_time": "2021-07-16T11:36:11.855Z"
   },
   {
    "duration": 1673,
    "start_time": "2021-07-16T11:36:16.400Z"
   },
   {
    "duration": 387,
    "start_time": "2021-07-16T11:36:20.797Z"
   },
   {
    "duration": 518,
    "start_time": "2021-07-16T11:36:42.619Z"
   },
   {
    "duration": 624,
    "start_time": "2021-07-16T11:38:51.421Z"
   },
   {
    "duration": 6,
    "start_time": "2021-07-16T11:38:57.660Z"
   },
   {
    "duration": 40,
    "start_time": "2021-07-16T11:38:59.217Z"
   },
   {
    "duration": 13,
    "start_time": "2021-07-16T11:39:21.405Z"
   },
   {
    "duration": 10,
    "start_time": "2021-07-16T11:39:22.966Z"
   },
   {
    "duration": 49,
    "start_time": "2021-07-16T11:39:23.501Z"
   },
   {
    "duration": 7,
    "start_time": "2021-07-16T11:39:29.942Z"
   },
   {
    "duration": 6,
    "start_time": "2021-07-16T11:39:30.472Z"
   },
   {
    "duration": 193,
    "start_time": "2021-07-16T11:39:36.012Z"
   },
   {
    "duration": 14,
    "start_time": "2021-07-16T11:39:41.112Z"
   },
   {
    "duration": 253,
    "start_time": "2021-07-16T11:39:51.369Z"
   },
   {
    "duration": 2039,
    "start_time": "2021-07-16T11:39:53.439Z"
   },
   {
    "duration": 19,
    "start_time": "2021-07-16T11:39:57.965Z"
   },
   {
    "duration": 3,
    "start_time": "2021-07-16T11:39:59.840Z"
   },
   {
    "duration": 18187,
    "start_time": "2021-07-16T11:40:00.772Z"
   },
   {
    "duration": 1396,
    "start_time": "2021-07-16T11:40:24.917Z"
   },
   {
    "duration": 1249,
    "start_time": "2021-07-16T11:40:32.259Z"
   },
   {
    "duration": 1223,
    "start_time": "2021-07-16T11:40:37.008Z"
   },
   {
    "duration": 10,
    "start_time": "2021-07-16T11:40:44.600Z"
   },
   {
    "duration": 1633,
    "start_time": "2021-07-16T11:40:53.103Z"
   },
   {
    "duration": 21662,
    "start_time": "2021-07-16T11:41:04.416Z"
   },
   {
    "duration": 271,
    "start_time": "2021-07-16T11:41:31.072Z"
   },
   {
    "duration": 11265,
    "start_time": "2021-07-16T11:41:39.040Z"
   },
   {
    "duration": 8,
    "start_time": "2021-07-16T11:51:46.740Z"
   },
   {
    "duration": 7,
    "start_time": "2021-07-16T11:52:53.119Z"
   },
   {
    "duration": 45,
    "start_time": "2021-07-16T11:52:54.051Z"
   },
   {
    "duration": 11,
    "start_time": "2021-07-16T11:52:54.745Z"
   },
   {
    "duration": 13,
    "start_time": "2021-07-16T11:52:55.357Z"
   },
   {
    "duration": 12,
    "start_time": "2021-07-16T11:52:55.762Z"
   },
   {
    "duration": 5,
    "start_time": "2021-07-16T11:52:56.191Z"
   },
   {
    "duration": 4,
    "start_time": "2021-07-16T11:52:56.624Z"
   },
   {
    "duration": 12,
    "start_time": "2021-07-16T11:52:57.006Z"
   },
   {
    "duration": 9,
    "start_time": "2021-07-16T11:52:57.628Z"
   },
   {
    "duration": 15,
    "start_time": "2021-07-16T11:52:58.024Z"
   },
   {
    "duration": 462,
    "start_time": "2021-07-16T11:52:58.420Z"
   },
   {
    "duration": 19,
    "start_time": "2021-07-16T11:52:58.885Z"
   },
   {
    "duration": 477,
    "start_time": "2021-07-16T11:53:00.213Z"
   },
   {
    "duration": 1817,
    "start_time": "2021-07-16T11:53:01.418Z"
   },
   {
    "duration": 1904,
    "start_time": "2021-07-16T11:53:03.237Z"
   },
   {
    "duration": 409,
    "start_time": "2021-07-16T11:53:05.144Z"
   },
   {
    "duration": 530,
    "start_time": "2021-07-16T11:53:05.648Z"
   },
   {
    "duration": 6,
    "start_time": "2021-07-16T11:53:09.676Z"
   },
   {
    "duration": 43,
    "start_time": "2021-07-16T11:53:10.894Z"
   },
   {
    "duration": 14,
    "start_time": "2021-07-16T11:53:12.547Z"
   },
   {
    "duration": 10,
    "start_time": "2021-07-16T11:53:13.934Z"
   },
   {
    "duration": 50,
    "start_time": "2021-07-16T11:53:14.868Z"
   },
   {
    "duration": 6,
    "start_time": "2021-07-16T11:53:21.672Z"
   },
   {
    "duration": 3,
    "start_time": "2021-07-16T11:53:29.896Z"
   },
   {
    "duration": 351,
    "start_time": "2021-07-16T11:53:38.151Z"
   },
   {
    "duration": 210,
    "start_time": "2021-07-16T11:54:17.879Z"
   },
   {
    "duration": 7,
    "start_time": "2021-07-16T11:55:16.443Z"
   },
   {
    "duration": 4,
    "start_time": "2021-07-16T11:55:21.904Z"
   },
   {
    "duration": 158,
    "start_time": "2021-07-16T11:55:23.548Z"
   },
   {
    "duration": 197,
    "start_time": "2021-07-16T11:55:29.459Z"
   },
   {
    "duration": 7,
    "start_time": "2021-07-16T11:57:19.679Z"
   },
   {
    "duration": 4,
    "start_time": "2021-07-16T11:57:25.854Z"
   },
   {
    "duration": 266,
    "start_time": "2021-07-16T11:57:27.543Z"
   },
   {
    "duration": 118,
    "start_time": "2021-07-16T11:57:46.501Z"
   },
   {
    "duration": 5,
    "start_time": "2021-07-16T11:58:05.744Z"
   },
   {
    "duration": 7,
    "start_time": "2021-07-16T11:58:20.392Z"
   },
   {
    "duration": 4,
    "start_time": "2021-07-16T11:58:24.140Z"
   },
   {
    "duration": 95,
    "start_time": "2021-07-16T11:58:25.924Z"
   },
   {
    "duration": 6,
    "start_time": "2021-07-16T11:58:26.760Z"
   },
   {
    "duration": 7,
    "start_time": "2021-07-16T11:59:38.644Z"
   },
   {
    "duration": 5,
    "start_time": "2021-07-16T11:59:40.201Z"
   },
   {
    "duration": 1158,
    "start_time": "2021-07-16T11:59:43.342Z"
   },
   {
    "duration": 4,
    "start_time": "2021-07-16T11:59:47.389Z"
   },
   {
    "duration": 9,
    "start_time": "2021-07-16T12:00:58.464Z"
   },
   {
    "duration": 4,
    "start_time": "2021-07-16T12:01:00.112Z"
   },
   {
    "duration": 102,
    "start_time": "2021-07-16T12:01:01.619Z"
   },
   {
    "duration": 4,
    "start_time": "2021-07-16T12:01:03.096Z"
   },
   {
    "duration": 11,
    "start_time": "2021-07-16T12:03:17.469Z"
   },
   {
    "duration": 4,
    "start_time": "2021-07-16T12:03:19.263Z"
   },
   {
    "duration": 723,
    "start_time": "2021-07-16T12:03:21.223Z"
   },
   {
    "duration": 5,
    "start_time": "2021-07-16T12:03:22.751Z"
   },
   {
    "duration": 8,
    "start_time": "2021-07-16T12:03:53.434Z"
   },
   {
    "duration": 3,
    "start_time": "2021-07-16T12:03:54.877Z"
   },
   {
    "duration": 117,
    "start_time": "2021-07-16T12:03:56.203Z"
   },
   {
    "duration": 4,
    "start_time": "2021-07-16T12:03:57.208Z"
   },
   {
    "duration": 225,
    "start_time": "2021-07-16T12:04:08.178Z"
   },
   {
    "duration": 11,
    "start_time": "2021-07-16T12:04:15.920Z"
   },
   {
    "duration": 8,
    "start_time": "2021-07-16T12:04:56.315Z"
   },
   {
    "duration": 3,
    "start_time": "2021-07-16T12:04:59.383Z"
   },
   {
    "duration": 124,
    "start_time": "2021-07-16T12:05:20.282Z"
   },
   {
    "duration": 8,
    "start_time": "2021-07-16T12:12:32.685Z"
   },
   {
    "duration": 4,
    "start_time": "2021-07-16T12:12:34.333Z"
   },
   {
    "duration": 111,
    "start_time": "2021-07-16T12:12:35.711Z"
   },
   {
    "duration": 539,
    "start_time": "2021-07-16T12:12:51.416Z"
   },
   {
    "duration": 266,
    "start_time": "2021-07-16T12:13:46.168Z"
   },
   {
    "duration": 2195,
    "start_time": "2021-07-16T12:13:50.609Z"
   },
   {
    "duration": 20,
    "start_time": "2021-07-16T12:14:03.688Z"
   },
   {
    "duration": 5,
    "start_time": "2021-07-16T12:14:25.426Z"
   },
   {
    "duration": 12,
    "start_time": "2021-07-16T12:15:20.807Z"
   },
   {
    "duration": 124,
    "start_time": "2021-07-16T12:15:30.086Z"
   },
   {
    "duration": 4,
    "start_time": "2021-07-16T12:15:31.905Z"
   },
   {
    "duration": 9,
    "start_time": "2021-07-16T12:16:16.166Z"
   },
   {
    "duration": 4,
    "start_time": "2021-07-16T12:16:18.665Z"
   },
   {
    "duration": 125,
    "start_time": "2021-07-16T12:16:20.590Z"
   },
   {
    "duration": 4,
    "start_time": "2021-07-16T12:16:21.799Z"
   },
   {
    "duration": 254,
    "start_time": "2021-07-16T12:16:29.712Z"
   },
   {
    "duration": 2076,
    "start_time": "2021-07-16T12:16:32.175Z"
   },
   {
    "duration": 4,
    "start_time": "2021-07-16T12:16:46.049Z"
   },
   {
    "duration": 1855,
    "start_time": "2021-07-16T12:21:55.565Z"
   },
   {
    "duration": 48,
    "start_time": "2021-07-16T12:21:57.423Z"
   },
   {
    "duration": 12,
    "start_time": "2021-07-16T12:21:57.475Z"
   },
   {
    "duration": 14,
    "start_time": "2021-07-16T12:21:57.501Z"
   },
   {
    "duration": 13,
    "start_time": "2021-07-16T12:21:57.518Z"
   },
   {
    "duration": 8,
    "start_time": "2021-07-16T12:21:57.534Z"
   },
   {
    "duration": 9,
    "start_time": "2021-07-16T12:21:57.545Z"
   },
   {
    "duration": 16,
    "start_time": "2021-07-16T12:21:57.600Z"
   },
   {
    "duration": 9,
    "start_time": "2021-07-16T12:21:57.620Z"
   },
   {
    "duration": 16,
    "start_time": "2021-07-16T12:21:57.631Z"
   },
   {
    "duration": 576,
    "start_time": "2021-07-16T12:21:57.649Z"
   },
   {
    "duration": 7,
    "start_time": "2021-07-16T12:21:58.227Z"
   },
   {
    "duration": 536,
    "start_time": "2021-07-16T12:21:58.237Z"
   },
   {
    "duration": 1825,
    "start_time": "2021-07-16T12:21:58.776Z"
   },
   {
    "duration": 1633,
    "start_time": "2021-07-16T12:22:00.604Z"
   },
   {
    "duration": 406,
    "start_time": "2021-07-16T12:22:02.240Z"
   },
   {
    "duration": 647,
    "start_time": "2021-07-16T12:22:02.649Z"
   },
   {
    "duration": 6,
    "start_time": "2021-07-16T12:22:03.301Z"
   },
   {
    "duration": 56,
    "start_time": "2021-07-16T12:22:03.309Z"
   },
   {
    "duration": 14,
    "start_time": "2021-07-16T12:22:03.367Z"
   },
   {
    "duration": 12,
    "start_time": "2021-07-16T12:22:03.400Z"
   },
   {
    "duration": 71,
    "start_time": "2021-07-16T12:22:03.415Z"
   },
   {
    "duration": 13,
    "start_time": "2021-07-16T12:22:03.494Z"
   },
   {
    "duration": 16,
    "start_time": "2021-07-16T12:22:03.511Z"
   },
   {
    "duration": 10,
    "start_time": "2021-07-16T12:22:03.529Z"
   },
   {
    "duration": 176,
    "start_time": "2021-07-16T12:22:03.541Z"
   },
   {
    "duration": 85,
    "start_time": "2021-07-16T12:22:03.719Z"
   },
   {
    "duration": 350,
    "start_time": "2021-07-16T12:22:03.807Z"
   },
   {
    "duration": 2403,
    "start_time": "2021-07-16T12:22:04.160Z"
   },
   {
    "duration": 36,
    "start_time": "2021-07-16T12:22:06.565Z"
   },
   {
    "duration": 1579,
    "start_time": "2021-07-16T12:22:06.603Z"
   },
   {
    "duration": 18961,
    "start_time": "2021-07-16T12:22:08.185Z"
   },
   {
    "duration": 1340,
    "start_time": "2021-07-16T12:22:27.149Z"
   },
   {
    "duration": 1409,
    "start_time": "2021-07-16T12:22:28.499Z"
   },
   {
    "duration": 10,
    "start_time": "2021-07-16T12:22:29.911Z"
   },
   {
    "duration": 1824,
    "start_time": "2021-07-16T12:22:29.924Z"
   },
   {
    "duration": 23570,
    "start_time": "2021-07-16T12:22:31.751Z"
   },
   {
    "duration": 308,
    "start_time": "2021-07-16T12:22:55.324Z"
   },
   {
    "duration": 37374,
    "start_time": "2021-07-16T12:22:55.635Z"
   },
   {
    "duration": 49190,
    "start_time": "2021-07-16T12:23:33.012Z"
   },
   {
    "duration": 1703,
    "start_time": "2021-07-16T12:24:22.205Z"
   },
   {
    "duration": 161621,
    "start_time": "2021-07-16T12:24:23.911Z"
   },
   {
    "duration": 180986,
    "start_time": "2021-07-16T12:27:05.535Z"
   },
   {
    "duration": 19927,
    "start_time": "2021-07-16T12:30:06.523Z"
   },
   {
    "duration": 6,
    "start_time": "2021-07-16T12:30:26.452Z"
   },
   {
    "duration": 11,
    "start_time": "2021-07-16T12:30:26.461Z"
   },
   {
    "duration": 8,
    "start_time": "2021-07-16T12:30:26.475Z"
   },
   {
    "duration": 633,
    "start_time": "2021-07-16T12:30:26.485Z"
   },
   {
    "duration": 1555,
    "start_time": "2021-07-16T14:29:28.006Z"
   },
   {
    "duration": 48,
    "start_time": "2021-07-16T14:29:29.563Z"
   },
   {
    "duration": 10,
    "start_time": "2021-07-16T14:29:29.614Z"
   },
   {
    "duration": 30,
    "start_time": "2021-07-16T14:29:29.627Z"
   },
   {
    "duration": 13,
    "start_time": "2021-07-16T14:29:29.659Z"
   },
   {
    "duration": 7,
    "start_time": "2021-07-16T14:29:29.675Z"
   },
   {
    "duration": 8,
    "start_time": "2021-07-16T14:29:29.685Z"
   },
   {
    "duration": 15,
    "start_time": "2021-07-16T14:29:29.698Z"
   },
   {
    "duration": 8,
    "start_time": "2021-07-16T14:29:29.757Z"
   },
   {
    "duration": 18,
    "start_time": "2021-07-16T14:29:29.767Z"
   },
   {
    "duration": 479,
    "start_time": "2021-07-16T14:29:29.787Z"
   },
   {
    "duration": 7,
    "start_time": "2021-07-16T14:29:30.268Z"
   },
   {
    "duration": 479,
    "start_time": "2021-07-16T14:29:30.277Z"
   },
   {
    "duration": 1714,
    "start_time": "2021-07-16T14:29:30.758Z"
   },
   {
    "duration": 1527,
    "start_time": "2021-07-16T14:29:32.474Z"
   },
   {
    "duration": 392,
    "start_time": "2021-07-16T14:29:34.004Z"
   },
   {
    "duration": 596,
    "start_time": "2021-07-16T14:29:34.399Z"
   },
   {
    "duration": 7,
    "start_time": "2021-07-16T14:29:34.998Z"
   },
   {
    "duration": 62,
    "start_time": "2021-07-16T14:29:35.008Z"
   },
   {
    "duration": 13,
    "start_time": "2021-07-16T14:29:35.073Z"
   },
   {
    "duration": 8,
    "start_time": "2021-07-16T14:29:35.088Z"
   },
   {
    "duration": 76,
    "start_time": "2021-07-16T14:29:35.099Z"
   },
   {
    "duration": 7,
    "start_time": "2021-07-16T14:29:35.180Z"
   },
   {
    "duration": 8,
    "start_time": "2021-07-16T14:29:35.190Z"
   },
   {
    "duration": 6,
    "start_time": "2021-07-16T14:29:35.200Z"
   },
   {
    "duration": 175,
    "start_time": "2021-07-16T14:29:35.208Z"
   },
   {
    "duration": 84,
    "start_time": "2021-07-16T14:29:35.385Z"
   },
   {
    "duration": 394,
    "start_time": "2021-07-16T14:29:35.473Z"
   },
   {
    "duration": 2243,
    "start_time": "2021-07-16T14:29:35.870Z"
   },
   {
    "duration": 19,
    "start_time": "2021-07-16T14:29:38.115Z"
   },
   {
    "duration": 1426,
    "start_time": "2021-07-16T14:29:38.136Z"
   },
   {
    "duration": 17829,
    "start_time": "2021-07-16T14:29:39.564Z"
   },
   {
    "duration": 1273,
    "start_time": "2021-07-16T14:29:57.395Z"
   },
   {
    "duration": 1109,
    "start_time": "2021-07-16T14:29:58.671Z"
   },
   {
    "duration": 80,
    "start_time": "2021-07-16T14:29:59.783Z"
   },
   {
    "duration": 1782,
    "start_time": "2021-07-16T14:29:59.867Z"
   },
   {
    "duration": 21359,
    "start_time": "2021-07-16T14:30:01.656Z"
   },
   {
    "duration": 274,
    "start_time": "2021-07-16T14:30:23.018Z"
   },
   {
    "duration": 15069,
    "start_time": "2021-07-16T14:30:23.295Z"
   },
   {
    "duration": 49396,
    "start_time": "2021-07-16T14:30:38.366Z"
   },
   {
    "duration": 1292,
    "start_time": "2021-07-16T14:31:27.765Z"
   },
   {
    "duration": 168247,
    "start_time": "2021-07-16T14:31:29.060Z"
   },
   {
    "duration": 198696,
    "start_time": "2021-07-16T14:34:17.310Z"
   },
   {
    "duration": 19394,
    "start_time": "2021-07-16T14:37:36.009Z"
   },
   {
    "duration": 6,
    "start_time": "2021-07-16T14:37:55.405Z"
   },
   {
    "duration": 7,
    "start_time": "2021-07-16T14:37:55.413Z"
   },
   {
    "duration": 8,
    "start_time": "2021-07-16T14:37:55.422Z"
   },
   {
    "duration": 649,
    "start_time": "2021-07-16T14:37:55.432Z"
   },
   {
    "duration": 1486,
    "start_time": "2021-07-16T14:50:52.083Z"
   },
   {
    "duration": 50,
    "start_time": "2021-07-16T14:50:53.571Z"
   },
   {
    "duration": 10,
    "start_time": "2021-07-16T14:50:53.624Z"
   },
   {
    "duration": 30,
    "start_time": "2021-07-16T14:50:53.636Z"
   },
   {
    "duration": 10,
    "start_time": "2021-07-16T14:50:53.669Z"
   },
   {
    "duration": 8,
    "start_time": "2021-07-16T14:50:53.682Z"
   },
   {
    "duration": 6,
    "start_time": "2021-07-16T14:50:53.693Z"
   },
   {
    "duration": 54,
    "start_time": "2021-07-16T14:50:53.705Z"
   },
   {
    "duration": 8,
    "start_time": "2021-07-16T14:50:53.761Z"
   },
   {
    "duration": 15,
    "start_time": "2021-07-16T14:50:53.771Z"
   },
   {
    "duration": 477,
    "start_time": "2021-07-16T14:50:53.789Z"
   },
   {
    "duration": 8,
    "start_time": "2021-07-16T14:50:54.270Z"
   },
   {
    "duration": 488,
    "start_time": "2021-07-16T14:50:54.281Z"
   },
   {
    "duration": 1812,
    "start_time": "2021-07-16T14:50:54.772Z"
   },
   {
    "duration": 1502,
    "start_time": "2021-07-16T14:50:56.587Z"
   },
   {
    "duration": 375,
    "start_time": "2021-07-16T14:50:58.091Z"
   },
   {
    "duration": 611,
    "start_time": "2021-07-16T14:50:58.469Z"
   },
   {
    "duration": 7,
    "start_time": "2021-07-16T14:50:59.082Z"
   },
   {
    "duration": 47,
    "start_time": "2021-07-16T14:50:59.091Z"
   },
   {
    "duration": 12,
    "start_time": "2021-07-16T14:50:59.155Z"
   },
   {
    "duration": 7,
    "start_time": "2021-07-16T14:50:59.170Z"
   },
   {
    "duration": 48,
    "start_time": "2021-07-16T14:50:59.180Z"
   },
   {
    "duration": 6,
    "start_time": "2021-07-16T14:50:59.258Z"
   },
   {
    "duration": 11,
    "start_time": "2021-07-16T14:50:59.267Z"
   },
   {
    "duration": 8,
    "start_time": "2021-07-16T14:50:59.280Z"
   },
   {
    "duration": 94,
    "start_time": "2021-07-16T14:50:59.291Z"
   },
   {
    "duration": 11,
    "start_time": "2021-07-16T14:50:59.456Z"
   },
   {
    "duration": 414,
    "start_time": "2021-07-16T14:50:59.471Z"
   },
   {
    "duration": 2049,
    "start_time": "2021-07-16T14:50:59.887Z"
   },
   {
    "duration": 28,
    "start_time": "2021-07-16T14:51:01.938Z"
   },
   {
    "duration": 2,
    "start_time": "2021-07-16T14:51:01.969Z"
   },
   {
    "duration": 18117,
    "start_time": "2021-07-16T14:51:01.973Z"
   },
   {
    "duration": 1294,
    "start_time": "2021-07-16T14:51:20.092Z"
   },
   {
    "duration": 1179,
    "start_time": "2021-07-16T14:51:21.389Z"
   },
   {
    "duration": 9,
    "start_time": "2021-07-16T14:51:22.570Z"
   },
   {
    "duration": 76,
    "start_time": "2021-07-16T14:51:22.581Z"
   },
   {
    "duration": 21765,
    "start_time": "2021-07-16T14:51:22.660Z"
   },
   {
    "duration": 365,
    "start_time": "2021-07-16T14:51:44.428Z"
   },
   {
    "duration": 2,
    "start_time": "2021-07-16T14:51:44.796Z"
   },
   {
    "duration": 43862,
    "start_time": "2021-07-16T14:51:44.802Z"
   },
   {
    "duration": 1191,
    "start_time": "2021-07-16T14:52:28.667Z"
   },
   {
    "duration": 157027,
    "start_time": "2021-07-16T14:52:29.860Z"
   },
   {
    "duration": 2,
    "start_time": "2021-07-16T14:55:06.890Z"
   },
   {
    "duration": 22517,
    "start_time": "2021-07-16T14:55:06.895Z"
   },
   {
    "duration": 8,
    "start_time": "2021-07-16T14:55:29.415Z"
   },
   {
    "duration": 16,
    "start_time": "2021-07-16T14:55:29.426Z"
   },
   {
    "duration": 15,
    "start_time": "2021-07-16T14:55:29.445Z"
   },
   {
    "duration": 129,
    "start_time": "2021-07-16T14:55:29.462Z"
   },
   {
    "duration": 7,
    "start_time": "2021-07-16T14:57:26.581Z"
   },
   {
    "duration": 4,
    "start_time": "2021-07-16T14:57:28.301Z"
   },
   {
    "duration": 4,
    "start_time": "2021-07-16T14:57:29.633Z"
   },
   {
    "duration": 76,
    "start_time": "2021-07-16T14:57:30.887Z"
   },
   {
    "duration": 6,
    "start_time": "2021-07-16T14:57:39.325Z"
   },
   {
    "duration": 211,
    "start_time": "2021-07-16T17:48:15.445Z"
   },
   {
    "duration": 861,
    "start_time": "2021-07-16T18:25:32.414Z"
   },
   {
    "duration": 925,
    "start_time": "2021-07-16T18:25:41.849Z"
   },
   {
    "duration": 11,
    "start_time": "2021-07-16T18:25:54.617Z"
   },
   {
    "duration": 1499,
    "start_time": "2021-07-16T20:21:58.520Z"
   },
   {
    "duration": 48,
    "start_time": "2021-07-16T20:22:00.022Z"
   },
   {
    "duration": 11,
    "start_time": "2021-07-16T20:22:00.073Z"
   },
   {
    "duration": 30,
    "start_time": "2021-07-16T20:22:00.087Z"
   },
   {
    "duration": 13,
    "start_time": "2021-07-16T20:22:00.121Z"
   },
   {
    "duration": 6,
    "start_time": "2021-07-16T20:22:00.137Z"
   },
   {
    "duration": 9,
    "start_time": "2021-07-16T20:22:00.145Z"
   },
   {
    "duration": 16,
    "start_time": "2021-07-16T20:22:00.156Z"
   },
   {
    "duration": 16,
    "start_time": "2021-07-16T20:22:00.207Z"
   },
   {
    "duration": 19,
    "start_time": "2021-07-16T20:22:00.227Z"
   },
   {
    "duration": 511,
    "start_time": "2021-07-16T20:22:00.249Z"
   },
   {
    "duration": 7,
    "start_time": "2021-07-16T20:22:00.763Z"
   },
   {
    "duration": 510,
    "start_time": "2021-07-16T20:22:00.772Z"
   },
   {
    "duration": 1789,
    "start_time": "2021-07-16T20:22:01.285Z"
   },
   {
    "duration": 1586,
    "start_time": "2021-07-16T20:22:03.077Z"
   },
   {
    "duration": 398,
    "start_time": "2021-07-16T20:22:04.666Z"
   },
   {
    "duration": 722,
    "start_time": "2021-07-16T20:22:05.066Z"
   },
   {
    "duration": 14,
    "start_time": "2021-07-16T20:22:05.790Z"
   },
   {
    "duration": 42,
    "start_time": "2021-07-16T20:22:05.809Z"
   },
   {
    "duration": 13,
    "start_time": "2021-07-16T20:22:05.854Z"
   },
   {
    "duration": 33,
    "start_time": "2021-07-16T20:22:05.870Z"
   },
   {
    "duration": 52,
    "start_time": "2021-07-16T20:22:05.905Z"
   },
   {
    "duration": 6,
    "start_time": "2021-07-16T20:22:05.960Z"
   },
   {
    "duration": 35,
    "start_time": "2021-07-16T20:22:05.969Z"
   },
   {
    "duration": 13,
    "start_time": "2021-07-16T20:22:06.007Z"
   },
   {
    "duration": 102,
    "start_time": "2021-07-16T20:22:06.022Z"
   },
   {
    "duration": 92,
    "start_time": "2021-07-16T20:22:06.130Z"
   },
   {
    "duration": 415,
    "start_time": "2021-07-16T20:22:06.226Z"
   },
   {
    "duration": 2495,
    "start_time": "2021-07-16T20:22:06.643Z"
   },
   {
    "duration": 19,
    "start_time": "2021-07-16T20:22:09.141Z"
   },
   {
    "duration": 3,
    "start_time": "2021-07-16T20:22:09.162Z"
   },
   {
    "duration": 18965,
    "start_time": "2021-07-16T20:22:09.167Z"
   },
   {
    "duration": 1400,
    "start_time": "2021-07-16T20:22:28.135Z"
   },
   {
    "duration": 1092,
    "start_time": "2021-07-16T20:22:29.538Z"
   },
   {
    "duration": 17,
    "start_time": "2021-07-16T20:22:30.705Z"
   },
   {
    "duration": 93,
    "start_time": "2021-07-16T20:22:30.725Z"
   },
   {
    "duration": 23364,
    "start_time": "2021-07-16T20:22:30.821Z"
   },
   {
    "duration": 386,
    "start_time": "2021-07-16T20:22:54.187Z"
   },
   {
    "duration": 4,
    "start_time": "2021-07-16T20:22:54.575Z"
   },
   {
    "duration": 242137,
    "start_time": "2021-07-16T20:22:54.581Z"
   },
   {
    "duration": 6703,
    "start_time": "2021-07-16T20:26:56.721Z"
   },
   {
    "duration": 170641,
    "start_time": "2021-07-16T20:27:03.427Z"
   },
   {
    "duration": 3,
    "start_time": "2021-07-16T20:29:54.071Z"
   },
   {
    "duration": 21983,
    "start_time": "2021-07-16T20:29:54.076Z"
   },
   {
    "duration": 6,
    "start_time": "2021-07-16T20:30:16.061Z"
   },
   {
    "duration": 12,
    "start_time": "2021-07-16T20:30:16.069Z"
   },
   {
    "duration": 118,
    "start_time": "2021-07-16T20:30:16.083Z"
   },
   {
    "duration": 1572,
    "start_time": "2021-07-16T20:36:47.831Z"
   },
   {
    "duration": 1507,
    "start_time": "2021-07-16T20:47:37.995Z"
   },
   {
    "duration": 50,
    "start_time": "2021-07-16T20:47:39.505Z"
   },
   {
    "duration": 11,
    "start_time": "2021-07-16T20:47:39.560Z"
   },
   {
    "duration": 32,
    "start_time": "2021-07-16T20:47:39.575Z"
   },
   {
    "duration": 12,
    "start_time": "2021-07-16T20:47:39.610Z"
   },
   {
    "duration": 7,
    "start_time": "2021-07-16T20:47:39.625Z"
   },
   {
    "duration": 6,
    "start_time": "2021-07-16T20:47:39.634Z"
   },
   {
    "duration": 15,
    "start_time": "2021-07-16T20:47:39.643Z"
   },
   {
    "duration": 47,
    "start_time": "2021-07-16T20:47:39.663Z"
   },
   {
    "duration": 25,
    "start_time": "2021-07-16T20:47:39.714Z"
   },
   {
    "duration": 500,
    "start_time": "2021-07-16T20:47:39.742Z"
   },
   {
    "duration": 7,
    "start_time": "2021-07-16T20:47:40.244Z"
   },
   {
    "duration": 504,
    "start_time": "2021-07-16T20:47:40.253Z"
   },
   {
    "duration": 1855,
    "start_time": "2021-07-16T20:47:40.759Z"
   },
   {
    "duration": 1491,
    "start_time": "2021-07-16T20:47:42.617Z"
   },
   {
    "duration": 387,
    "start_time": "2021-07-16T20:47:44.110Z"
   },
   {
    "duration": 699,
    "start_time": "2021-07-16T20:47:44.501Z"
   },
   {
    "duration": 6,
    "start_time": "2021-07-16T20:47:45.202Z"
   },
   {
    "duration": 44,
    "start_time": "2021-07-16T20:47:45.210Z"
   },
   {
    "duration": 12,
    "start_time": "2021-07-16T20:47:45.257Z"
   },
   {
    "duration": 33,
    "start_time": "2021-07-16T20:47:45.271Z"
   },
   {
    "duration": 44,
    "start_time": "2021-07-16T20:47:45.307Z"
   },
   {
    "duration": 8,
    "start_time": "2021-07-16T20:47:45.353Z"
   },
   {
    "duration": 37,
    "start_time": "2021-07-16T20:47:45.363Z"
   },
   {
    "duration": 112,
    "start_time": "2021-07-16T20:47:45.402Z"
   },
   {
    "duration": 83,
    "start_time": "2021-07-16T20:47:45.518Z"
   },
   {
    "duration": 3,
    "start_time": "2021-07-16T20:47:45.607Z"
   },
   {
    "duration": 2082,
    "start_time": "2021-07-16T20:47:45.613Z"
   },
   {
    "duration": 20,
    "start_time": "2021-07-16T20:47:47.702Z"
   },
   {
    "duration": 3,
    "start_time": "2021-07-16T20:47:47.724Z"
   },
   {
    "duration": 18342,
    "start_time": "2021-07-16T20:47:47.729Z"
   },
   {
    "duration": 1389,
    "start_time": "2021-07-16T20:48:06.074Z"
   },
   {
    "duration": 1354,
    "start_time": "2021-07-16T20:48:07.465Z"
   },
   {
    "duration": 87,
    "start_time": "2021-07-16T20:48:08.823Z"
   },
   {
    "duration": 4,
    "start_time": "2021-07-16T20:48:08.914Z"
   },
   {
    "duration": 24621,
    "start_time": "2021-07-16T20:48:08.922Z"
   },
   {
    "duration": 388,
    "start_time": "2021-07-16T20:48:33.546Z"
   },
   {
    "duration": 3,
    "start_time": "2021-07-16T20:48:33.936Z"
   },
   {
    "duration": 116767,
    "start_time": "2021-07-16T20:48:33.942Z"
   },
   {
    "duration": 4503,
    "start_time": "2021-07-16T20:50:30.713Z"
   },
   {
    "duration": 194417,
    "start_time": "2021-07-16T20:50:35.220Z"
   },
   {
    "duration": 3,
    "start_time": "2021-07-16T20:53:49.640Z"
   },
   {
    "duration": 26983,
    "start_time": "2021-07-16T20:53:49.646Z"
   },
   {
    "duration": 6,
    "start_time": "2021-07-16T20:54:16.631Z"
   },
   {
    "duration": 7,
    "start_time": "2021-07-16T20:54:16.640Z"
   },
   {
    "duration": 94,
    "start_time": "2021-07-16T20:54:16.649Z"
   },
   {
    "duration": 1475,
    "start_time": "2021-07-16T21:05:58.047Z"
   },
   {
    "duration": 48,
    "start_time": "2021-07-16T21:05:59.525Z"
   },
   {
    "duration": 10,
    "start_time": "2021-07-16T21:05:59.576Z"
   },
   {
    "duration": 21,
    "start_time": "2021-07-16T21:05:59.589Z"
   },
   {
    "duration": 12,
    "start_time": "2021-07-16T21:05:59.615Z"
   },
   {
    "duration": 6,
    "start_time": "2021-07-16T21:05:59.630Z"
   },
   {
    "duration": 16,
    "start_time": "2021-07-16T21:05:59.638Z"
   },
   {
    "duration": 50,
    "start_time": "2021-07-16T21:05:59.656Z"
   },
   {
    "duration": 8,
    "start_time": "2021-07-16T21:05:59.712Z"
   },
   {
    "duration": 12,
    "start_time": "2021-07-16T21:05:59.723Z"
   },
   {
    "duration": 513,
    "start_time": "2021-07-16T21:05:59.738Z"
   },
   {
    "duration": 7,
    "start_time": "2021-07-16T21:06:00.253Z"
   },
   {
    "duration": 524,
    "start_time": "2021-07-16T21:06:00.262Z"
   },
   {
    "duration": 1897,
    "start_time": "2021-07-16T21:06:00.788Z"
   },
   {
    "duration": 1665,
    "start_time": "2021-07-16T21:06:02.687Z"
   },
   {
    "duration": 419,
    "start_time": "2021-07-16T21:06:04.354Z"
   },
   {
    "duration": 672,
    "start_time": "2021-07-16T21:06:04.775Z"
   },
   {
    "duration": 5,
    "start_time": "2021-07-16T21:06:05.450Z"
   },
   {
    "duration": 65,
    "start_time": "2021-07-16T21:06:05.458Z"
   },
   {
    "duration": 12,
    "start_time": "2021-07-16T21:06:05.526Z"
   },
   {
    "duration": 17,
    "start_time": "2021-07-16T21:06:05.540Z"
   },
   {
    "duration": 78,
    "start_time": "2021-07-16T21:06:05.560Z"
   },
   {
    "duration": 8,
    "start_time": "2021-07-16T21:06:05.640Z"
   },
   {
    "duration": 10,
    "start_time": "2021-07-16T21:06:05.650Z"
   },
   {
    "duration": 243,
    "start_time": "2021-07-16T21:06:05.662Z"
   },
   {
    "duration": 17,
    "start_time": "2021-07-16T21:06:05.909Z"
   },
   {
    "duration": 5,
    "start_time": "2021-07-16T21:06:06.008Z"
   },
   {
    "duration": 2207,
    "start_time": "2021-07-16T21:06:06.019Z"
   },
   {
    "duration": 20,
    "start_time": "2021-07-16T21:06:08.228Z"
   },
   {
    "duration": 3,
    "start_time": "2021-07-16T21:06:08.251Z"
   },
   {
    "duration": 18713,
    "start_time": "2021-07-16T21:06:08.257Z"
   },
   {
    "duration": 1304,
    "start_time": "2021-07-16T21:06:26.973Z"
   },
   {
    "duration": 1248,
    "start_time": "2021-07-16T21:06:28.280Z"
   },
   {
    "duration": 14,
    "start_time": "2021-07-16T21:06:29.601Z"
   },
   {
    "duration": 85,
    "start_time": "2021-07-16T21:06:29.622Z"
   },
   {
    "duration": 22759,
    "start_time": "2021-07-16T21:06:29.713Z"
   },
   {
    "duration": 375,
    "start_time": "2021-07-16T21:06:52.474Z"
   },
   {
    "duration": 3,
    "start_time": "2021-07-16T21:06:52.852Z"
   },
   {
    "duration": 115349,
    "start_time": "2021-07-16T21:06:52.857Z"
   },
   {
    "duration": 3695,
    "start_time": "2021-07-16T21:08:48.209Z"
   },
   {
    "duration": 188036,
    "start_time": "2021-07-16T21:08:51.908Z"
   },
   {
    "duration": 3,
    "start_time": "2021-07-16T21:11:59.946Z"
   },
   {
    "duration": 25297,
    "start_time": "2021-07-16T21:11:59.952Z"
   },
   {
    "duration": 6,
    "start_time": "2021-07-16T21:12:25.252Z"
   },
   {
    "duration": 7,
    "start_time": "2021-07-16T21:12:25.261Z"
   },
   {
    "duration": 86,
    "start_time": "2021-07-16T21:12:25.271Z"
   },
   {
    "duration": 1057,
    "start_time": "2021-07-16T21:19:08.553Z"
   },
   {
    "duration": 9,
    "start_time": "2021-07-16T21:19:35.833Z"
   },
   {
    "duration": 1491,
    "start_time": "2021-07-16T21:20:06.827Z"
   },
   {
    "duration": 49,
    "start_time": "2021-07-16T21:20:08.321Z"
   },
   {
    "duration": 10,
    "start_time": "2021-07-16T21:20:08.373Z"
   },
   {
    "duration": 22,
    "start_time": "2021-07-16T21:20:08.386Z"
   },
   {
    "duration": 10,
    "start_time": "2021-07-16T21:20:08.410Z"
   },
   {
    "duration": 6,
    "start_time": "2021-07-16T21:20:08.423Z"
   },
   {
    "duration": 7,
    "start_time": "2021-07-16T21:20:08.431Z"
   },
   {
    "duration": 13,
    "start_time": "2021-07-16T21:20:08.442Z"
   },
   {
    "duration": 48,
    "start_time": "2021-07-16T21:20:08.458Z"
   },
   {
    "duration": 13,
    "start_time": "2021-07-16T21:20:08.508Z"
   },
   {
    "duration": 464,
    "start_time": "2021-07-16T21:20:08.523Z"
   },
   {
    "duration": 14,
    "start_time": "2021-07-16T21:20:08.989Z"
   },
   {
    "duration": 462,
    "start_time": "2021-07-16T21:20:09.005Z"
   },
   {
    "duration": 1700,
    "start_time": "2021-07-16T21:20:09.470Z"
   },
   {
    "duration": 1598,
    "start_time": "2021-07-16T21:20:11.173Z"
   },
   {
    "duration": 377,
    "start_time": "2021-07-16T21:20:12.773Z"
   },
   {
    "duration": 614,
    "start_time": "2021-07-16T21:20:13.152Z"
   },
   {
    "duration": 5,
    "start_time": "2021-07-16T21:20:13.769Z"
   },
   {
    "duration": 62,
    "start_time": "2021-07-16T21:20:13.777Z"
   },
   {
    "duration": 13,
    "start_time": "2021-07-16T21:20:13.842Z"
   },
   {
    "duration": 9,
    "start_time": "2021-07-16T21:20:13.857Z"
   },
   {
    "duration": 76,
    "start_time": "2021-07-16T21:20:13.868Z"
   },
   {
    "duration": 8,
    "start_time": "2021-07-16T21:20:13.949Z"
   },
   {
    "duration": 6,
    "start_time": "2021-07-16T21:20:13.960Z"
   },
   {
    "duration": 147,
    "start_time": "2021-07-16T21:20:13.968Z"
   },
   {
    "duration": 11,
    "start_time": "2021-07-16T21:20:14.117Z"
   },
   {
    "duration": 3,
    "start_time": "2021-07-16T21:20:14.202Z"
   },
   {
    "duration": 2063,
    "start_time": "2021-07-16T21:20:14.208Z"
   },
   {
    "duration": 33,
    "start_time": "2021-07-16T21:20:16.273Z"
   },
   {
    "duration": 3,
    "start_time": "2021-07-16T21:20:16.309Z"
   },
   {
    "duration": 17604,
    "start_time": "2021-07-16T21:20:16.314Z"
   },
   {
    "duration": 1218,
    "start_time": "2021-07-16T21:20:33.921Z"
   },
   {
    "duration": 1083,
    "start_time": "2021-07-16T21:20:35.141Z"
   },
   {
    "duration": 79,
    "start_time": "2021-07-16T21:20:36.227Z"
   },
   {
    "duration": 4,
    "start_time": "2021-07-16T21:20:36.310Z"
   },
   {
    "duration": 21487,
    "start_time": "2021-07-16T21:20:36.316Z"
   },
   {
    "duration": 344,
    "start_time": "2021-07-16T21:20:57.806Z"
   },
   {
    "duration": 3,
    "start_time": "2021-07-16T21:20:58.152Z"
   },
   {
    "duration": 42351,
    "start_time": "2021-07-16T21:20:58.157Z"
   },
   {
    "duration": 1491,
    "start_time": "2021-07-16T21:21:40.511Z"
   },
   {
    "duration": 158924,
    "start_time": "2021-07-16T21:21:42.004Z"
   },
   {
    "duration": 3,
    "start_time": "2021-07-16T21:24:20.931Z"
   },
   {
    "duration": 20127,
    "start_time": "2021-07-16T21:24:20.936Z"
   },
   {
    "duration": 6,
    "start_time": "2021-07-16T21:24:41.066Z"
   },
   {
    "duration": 16,
    "start_time": "2021-07-16T21:24:41.074Z"
   },
   {
    "duration": 79,
    "start_time": "2021-07-16T21:24:41.092Z"
   },
   {
    "duration": 1178,
    "start_time": "2021-07-17T04:54:02.044Z"
   },
   {
    "duration": 38,
    "start_time": "2021-07-17T04:54:03.223Z"
   },
   {
    "duration": 7,
    "start_time": "2021-07-17T04:54:03.263Z"
   },
   {
    "duration": 11,
    "start_time": "2021-07-17T04:54:03.272Z"
   },
   {
    "duration": 14,
    "start_time": "2021-07-17T04:54:03.284Z"
   },
   {
    "duration": 5,
    "start_time": "2021-07-17T04:54:03.300Z"
   },
   {
    "duration": 6,
    "start_time": "2021-07-17T04:54:03.307Z"
   },
   {
    "duration": 11,
    "start_time": "2021-07-17T04:54:03.315Z"
   },
   {
    "duration": 6,
    "start_time": "2021-07-17T04:54:03.340Z"
   },
   {
    "duration": 10,
    "start_time": "2021-07-17T04:54:03.348Z"
   },
   {
    "duration": 268,
    "start_time": "2021-07-17T04:54:03.360Z"
   },
   {
    "duration": 11,
    "start_time": "2021-07-17T04:54:03.630Z"
   },
   {
    "duration": 277,
    "start_time": "2021-07-17T04:54:03.642Z"
   },
   {
    "duration": 1043,
    "start_time": "2021-07-17T04:54:03.921Z"
   },
   {
    "duration": 925,
    "start_time": "2021-07-17T04:54:04.966Z"
   },
   {
    "duration": 221,
    "start_time": "2021-07-17T04:54:05.893Z"
   },
   {
    "duration": 383,
    "start_time": "2021-07-17T04:54:06.116Z"
   },
   {
    "duration": 4,
    "start_time": "2021-07-17T04:54:06.500Z"
   },
   {
    "duration": 37,
    "start_time": "2021-07-17T04:54:06.506Z"
   },
   {
    "duration": 8,
    "start_time": "2021-07-17T04:54:06.545Z"
   },
   {
    "duration": 5,
    "start_time": "2021-07-17T04:54:06.555Z"
   },
   {
    "duration": 28,
    "start_time": "2021-07-17T04:54:06.562Z"
   },
   {
    "duration": 5,
    "start_time": "2021-07-17T04:54:06.593Z"
   },
   {
    "duration": 5,
    "start_time": "2021-07-17T04:54:06.600Z"
   },
   {
    "duration": 7,
    "start_time": "2021-07-17T04:55:57.057Z"
   },
   {
    "duration": 55,
    "start_time": "2021-07-17T04:56:11.702Z"
   },
   {
    "duration": 92,
    "start_time": "2021-07-17T04:57:48.122Z"
   },
   {
    "duration": 88,
    "start_time": "2021-07-17T04:57:59.903Z"
   },
   {
    "duration": 346,
    "start_time": "2021-07-17T04:58:07.260Z"
   },
   {
    "duration": 154,
    "start_time": "2021-07-17T04:58:24.287Z"
   },
   {
    "duration": 59,
    "start_time": "2021-07-17T05:06:29.707Z"
   }
  ],
  "colab": {
   "name": "time_series.ipynb",
   "provenance": []
  },
  "kernelspec": {
   "display_name": "Python 3",
   "language": "python",
   "name": "python3"
  },
  "language_info": {
   "codemirror_mode": {
    "name": "ipython",
    "version": 3
   },
   "file_extension": ".py",
   "mimetype": "text/x-python",
   "name": "python",
   "nbconvert_exporter": "python",
   "pygments_lexer": "ipython3",
   "version": "3.8.8"
  },
  "toc": {
   "base_numbering": 1,
   "nav_menu": {},
   "number_sections": true,
   "sideBar": true,
   "skip_h1_title": true,
   "title_cell": "Содержание",
   "title_sidebar": "Contents",
   "toc_cell": true,
   "toc_position": {
    "height": "calc(100% - 180px)",
    "left": "10px",
    "top": "150px",
    "width": "266.956px"
   },
   "toc_section_display": true,
   "toc_window_display": false
  }
 },
 "nbformat": 4,
 "nbformat_minor": 1
}
