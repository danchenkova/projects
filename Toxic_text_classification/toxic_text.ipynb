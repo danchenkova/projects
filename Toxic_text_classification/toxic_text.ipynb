{
 "cells": [
  {
   "cell_type": "markdown",
   "metadata": {
    "id": "HDS5wYdT5fQm",
    "toc": true
   },
   "source": [
    "<h1>Содержание<span class=\"tocSkip\"></span></h1>\n",
    "<div class=\"toc\"><ul class=\"toc-item\"><li><span><a href=\"#Подготовка\" data-toc-modified-id=\"Подготовка-1\"><span class=\"toc-item-num\">1&nbsp;&nbsp;</span>Подготовка</a></span><ul class=\"toc-item\"><li><span><a href=\"#Вывод\" data-toc-modified-id=\"Вывод-1.1\"><span class=\"toc-item-num\">1.1&nbsp;&nbsp;</span>Вывод</a></span></li></ul></li><li><span><a href=\"#Обучение\" data-toc-modified-id=\"Обучение-2\"><span class=\"toc-item-num\">2&nbsp;&nbsp;</span>Обучение</a></span><ul class=\"toc-item\"><li><span><a href=\"#Логистическая-регрессия\" data-toc-modified-id=\"Логистическая-регрессия-2.1\"><span class=\"toc-item-num\">2.1&nbsp;&nbsp;</span>Логистическая регрессия</a></span></li><li><span><a href=\"#Дерево-решений\" data-toc-modified-id=\"Дерево-решений-2.2\"><span class=\"toc-item-num\">2.2&nbsp;&nbsp;</span>Дерево решений</a></span></li><li><span><a href=\"#Случайный-лес\" data-toc-modified-id=\"Случайный-лес-2.3\"><span class=\"toc-item-num\">2.3&nbsp;&nbsp;</span>Случайный лес</a></span></li><li><span><a href=\"#Стохастический-градиентный-спуск\" data-toc-modified-id=\"Стохастический-градиентный-спуск-2.4\"><span class=\"toc-item-num\">2.4&nbsp;&nbsp;</span>Стохастический градиентный спуск</a></span></li><li><span><a href=\"#BERT-с-логистической-регрессией\" data-toc-modified-id=\"BERT-с-логистической-регрессией-2.5\"><span class=\"toc-item-num\">2.5&nbsp;&nbsp;</span>BERT с логистической регрессией</a></span></li><li><span><a href=\"#Вывод\" data-toc-modified-id=\"Вывод-2.6\"><span class=\"toc-item-num\">2.6&nbsp;&nbsp;</span>Вывод</a></span></li></ul></li><li><span><a href=\"#Оценка-моделей\" data-toc-modified-id=\"Оценка-моделей-3\"><span class=\"toc-item-num\">3&nbsp;&nbsp;</span>Оценка моделей</a></span><ul class=\"toc-item\"><li><span><a href=\"#Вывод\" data-toc-modified-id=\"Вывод-3.1\"><span class=\"toc-item-num\">3.1&nbsp;&nbsp;</span>Вывод</a></span></li></ul></li><li><span><a href=\"#Общий-вывод\" data-toc-modified-id=\"Общий-вывод-4\"><span class=\"toc-item-num\">4&nbsp;&nbsp;</span>Общий вывод</a></span></li><li><span><a href=\"#Чек-лист-проверки\" data-toc-modified-id=\"Чек-лист-проверки-5\"><span class=\"toc-item-num\">5&nbsp;&nbsp;</span>Чек-лист проверки</a></span></li></ul></div>"
   ]
  },
  {
   "cell_type": "markdown",
   "metadata": {
    "id": "aYFWUpzz5fQn"
   },
   "source": [
    "# Классификация комментариев пользователей сервиса интернет-магазина"
   ]
  },
  {
   "cell_type": "markdown",
   "metadata": {
    "id": "LvgWNeT85fQo"
   },
   "source": [
    "Интернет-магазин «Викишоп» запускает новый сервис, где пользователи могут редактировать и дополнять описания товаров, как в вики-сообществах. Клиенты предлагают свои правки и комментируют изменения других. Магазину нужен инструмент, который будет искать токсичные комментарии и отправлять их на модерацию. \n",
    "\n",
    "В проекте требуется построить модель классификации комментариев на позитивные и негативные со значением метрики качества *F1* не меньше 0.75. Нам предоставлен набор данных с разметкой о токсичности правок (файл toxic_comments.csv). Столбец *text* в нём содержит текст комментария, а *toxic* — целевой признак.\n",
    "\n",
    "**Цель проекта**\n",
    "\n",
    "Построить наилучшую модель для классификации комментариев на токсичные и нетоксичные, основываясь на размеченных данных.\n",
    "\n",
    "**Задачи проекта**\n",
    "\n",
    "1. Подготовить данные для анализа, обработать признаки, разделить на обучающую и тестовую выборки.\n",
    "2. Исследовать базовые модели и рассмотреть, как меняются показатели оценки в зависимости от примененной модели. Подобрать гиперпараметры.\n",
    "3. Выбрать наилучшую модель, по возможности доработать ее, учитывая дисбаланс классов. Проверить модели на тестовой выборке."
   ]
  },
  {
   "cell_type": "markdown",
   "metadata": {
    "id": "NrJzrLa55fQo"
   },
   "source": [
    "## Подготовка"
   ]
  },
  {
   "cell_type": "code",
   "execution_count": 1,
   "metadata": {
    "colab": {
     "base_uri": "https://localhost:8080/"
    },
    "id": "daUQld8s5fQp",
    "outputId": "b6c43608-72ff-4942-dfcd-192c2cc16214"
   },
   "outputs": [
    {
     "name": "stdout",
     "output_type": "stream",
     "text": [
      "Collecting transformers\n",
      "  Downloading transformers-4.9.2-py3-none-any.whl (2.6 MB)\n",
      "\u001b[K     |████████████████████████████████| 2.6 MB 8.6 MB/s \n",
      "\u001b[?25hRequirement already satisfied: requests in /usr/local/lib/python3.7/dist-packages (from transformers) (2.23.0)\n",
      "Requirement already satisfied: tqdm>=4.27 in /usr/local/lib/python3.7/dist-packages (from transformers) (4.62.0)\n",
      "Collecting sacremoses\n",
      "  Downloading sacremoses-0.0.45-py3-none-any.whl (895 kB)\n",
      "\u001b[K     |████████████████████████████████| 895 kB 76.4 MB/s \n",
      "\u001b[?25hCollecting huggingface-hub==0.0.12\n",
      "  Downloading huggingface_hub-0.0.12-py3-none-any.whl (37 kB)\n",
      "Requirement already satisfied: numpy>=1.17 in /usr/local/lib/python3.7/dist-packages (from transformers) (1.19.5)\n",
      "Requirement already satisfied: filelock in /usr/local/lib/python3.7/dist-packages (from transformers) (3.0.12)\n",
      "Collecting pyyaml>=5.1\n",
      "  Downloading PyYAML-5.4.1-cp37-cp37m-manylinux1_x86_64.whl (636 kB)\n",
      "\u001b[K     |████████████████████████████████| 636 kB 63.8 MB/s \n",
      "\u001b[?25hRequirement already satisfied: importlib-metadata in /usr/local/lib/python3.7/dist-packages (from transformers) (4.6.3)\n",
      "Collecting tokenizers<0.11,>=0.10.1\n",
      "  Downloading tokenizers-0.10.3-cp37-cp37m-manylinux_2_5_x86_64.manylinux1_x86_64.manylinux_2_12_x86_64.manylinux2010_x86_64.whl (3.3 MB)\n",
      "\u001b[K     |████████████████████████████████| 3.3 MB 34.1 MB/s \n",
      "\u001b[?25hRequirement already satisfied: regex!=2019.12.17 in /usr/local/lib/python3.7/dist-packages (from transformers) (2019.12.20)\n",
      "Requirement already satisfied: packaging in /usr/local/lib/python3.7/dist-packages (from transformers) (21.0)\n",
      "Requirement already satisfied: typing-extensions in /usr/local/lib/python3.7/dist-packages (from huggingface-hub==0.0.12->transformers) (3.7.4.3)\n",
      "Requirement already satisfied: pyparsing>=2.0.2 in /usr/local/lib/python3.7/dist-packages (from packaging->transformers) (2.4.7)\n",
      "Requirement already satisfied: zipp>=0.5 in /usr/local/lib/python3.7/dist-packages (from importlib-metadata->transformers) (3.5.0)\n",
      "Requirement already satisfied: certifi>=2017.4.17 in /usr/local/lib/python3.7/dist-packages (from requests->transformers) (2021.5.30)\n",
      "Requirement already satisfied: chardet<4,>=3.0.2 in /usr/local/lib/python3.7/dist-packages (from requests->transformers) (3.0.4)\n",
      "Requirement already satisfied: urllib3!=1.25.0,!=1.25.1,<1.26,>=1.21.1 in /usr/local/lib/python3.7/dist-packages (from requests->transformers) (1.24.3)\n",
      "Requirement already satisfied: idna<3,>=2.5 in /usr/local/lib/python3.7/dist-packages (from requests->transformers) (2.10)\n",
      "Requirement already satisfied: click in /usr/local/lib/python3.7/dist-packages (from sacremoses->transformers) (7.1.2)\n",
      "Requirement already satisfied: joblib in /usr/local/lib/python3.7/dist-packages (from sacremoses->transformers) (1.0.1)\n",
      "Requirement already satisfied: six in /usr/local/lib/python3.7/dist-packages (from sacremoses->transformers) (1.15.0)\n",
      "Installing collected packages: tokenizers, sacremoses, pyyaml, huggingface-hub, transformers\n",
      "  Attempting uninstall: pyyaml\n",
      "    Found existing installation: PyYAML 3.13\n",
      "    Uninstalling PyYAML-3.13:\n",
      "      Successfully uninstalled PyYAML-3.13\n",
      "Successfully installed huggingface-hub-0.0.12 pyyaml-5.4.1 sacremoses-0.0.45 tokenizers-0.10.3 transformers-4.9.2\n"
     ]
    }
   ],
   "source": [
    "pip install transformers"
   ]
  },
  {
   "cell_type": "code",
   "execution_count": 2,
   "metadata": {
    "colab": {
     "base_uri": "https://localhost:8080/"
    },
    "id": "RynxkUOt5fQp",
    "outputId": "35591acc-a7e4-43a0-a912-c4b7a74a6633"
   },
   "outputs": [
    {
     "name": "stdout",
     "output_type": "stream",
     "text": [
      "[nltk_data] Downloading package wordnet to /root/nltk_data...\n",
      "[nltk_data]   Unzipping corpora/wordnet.zip.\n"
     ]
    }
   ],
   "source": [
    "import torch\n",
    "import transformers\n",
    "from transformers import BertTokenizer\n",
    "\n",
    "import pandas as pd\n",
    "import numpy as np\n",
    "import matplotlib.pyplot as plt\n",
    "from sklearn.metrics import confusion_matrix\n",
    "\n",
    "import re\n",
    "from sklearn.feature_extraction.text import CountVectorizer, TfidfVectorizer\n",
    "from nltk.corpus import stopwords as nltk_stopwords\n",
    "import nltk\n",
    "nltk.download('wordnet')\n",
    "from nltk.stem import WordNetLemmatizer\n",
    "import spacy\n",
    "nlp = spacy.load('en_core_web_sm')\n",
    "\n",
    "from sklearn.model_selection import train_test_split, GridSearchCV\n",
    "pd.options.mode.chained_assignment = None\n",
    "from sklearn.utils import shuffle\n",
    "\n",
    "from sklearn.linear_model import LogisticRegression\n",
    "from sklearn.ensemble import RandomForestClassifier\n",
    "from sklearn.tree import DecisionTreeClassifier\n",
    "from sklearn.linear_model import SGDClassifier\n",
    "from sklearn.metrics import accuracy_score, precision_score, recall_score, f1_score\n",
    "\n",
    "from tqdm import tqdm_notebook as tqdm\n",
    "\n",
    "import warnings\n",
    "warnings.filterwarnings(\"ignore\")"
   ]
  },
  {
   "cell_type": "markdown",
   "metadata": {
    "id": "Ya5eWRu85fQq"
   },
   "source": [
    "Загрузим файл и посмотрим на предоставленные данные."
   ]
  },
  {
   "cell_type": "code",
   "execution_count": 3,
   "metadata": {
    "colab": {
     "base_uri": "https://localhost:8080/"
    },
    "id": "HLIOesJT5fQq",
    "outputId": "e86ce93c-14e6-4414-eb87-6b93ba5c3b48"
   },
   "outputs": [
    {
     "name": "stdout",
     "output_type": "stream",
     "text": [
      "                                                     text  toxic\n",
      "0       Explanation\\nWhy the edits made under my usern...      0\n",
      "1       D'aww! He matches this background colour I'm s...      0\n",
      "2       Hey man, I'm really not trying to edit war. It...      0\n",
      "3       \"\\nMore\\nI can't make any real suggestions on ...      0\n",
      "4       You, sir, are my hero. Any chance you remember...      0\n",
      "...                                                   ...    ...\n",
      "159566  \":::::And for the second time of asking, when ...      0\n",
      "159567  You should be ashamed of yourself \\n\\nThat is ...      0\n",
      "159568  Spitzer \\n\\nUmm, theres no actual article for ...      0\n",
      "159569  And it looks like it was actually you who put ...      0\n",
      "159570  \"\\nAnd ... I really don't think you understand...      0\n",
      "\n",
      "[159571 rows x 2 columns]\n"
     ]
    }
   ],
   "source": [
    "comments = pd.read_csv('/content/toxic_comments.csv')\n",
    "print(comments)"
   ]
  },
  {
   "cell_type": "markdown",
   "metadata": {
    "id": "vceeXrz85fQr"
   },
   "source": [
    "Обучение на англоязычном корпусе.\n",
    "Проверим, насколько сбалансирован наш датасет."
   ]
  },
  {
   "cell_type": "code",
   "execution_count": 4,
   "metadata": {
    "colab": {
     "base_uri": "https://localhost:8080/"
    },
    "id": "NtuWpyQ55fQr",
    "outputId": "5cf6d9f2-8ee6-417e-f915-2d9f0f16bfb7"
   },
   "outputs": [
    {
     "name": "stdout",
     "output_type": "stream",
     "text": [
      "0    0.898321\n",
      "1    0.101679\n",
      "Name: toxic, dtype: float64\n"
     ]
    }
   ],
   "source": [
    "print(comments['toxic'].value_counts(normalize=True))"
   ]
  },
  {
   "cell_type": "markdown",
   "metadata": {
    "id": "NcPcHEAF5fQs"
   },
   "source": [
    "В предоставленном датасете около 90% правок не являются токсичными. Это значит, что существует значительный \"перевес\" в сторону \"обычных\" комментариев, их больше в 9 раз.\n",
    "\n",
    "Посмотрим на типы данных и проверим датасет на наличие пропущенных значений."
   ]
  },
  {
   "cell_type": "code",
   "execution_count": 5,
   "metadata": {
    "colab": {
     "base_uri": "https://localhost:8080/"
    },
    "id": "225d2bYa5fQs",
    "outputId": "79e7aed3-2ee9-44df-a3a6-64f6a216c100"
   },
   "outputs": [
    {
     "name": "stdout",
     "output_type": "stream",
     "text": [
      "<class 'pandas.core.frame.DataFrame'>\n",
      "RangeIndex: 159571 entries, 0 to 159570\n",
      "Data columns (total 2 columns):\n",
      " #   Column  Non-Null Count   Dtype \n",
      "---  ------  --------------   ----- \n",
      " 0   text    159571 non-null  object\n",
      " 1   toxic   159571 non-null  int64 \n",
      "dtypes: int64(1), object(1)\n",
      "memory usage: 2.4+ MB\n",
      "None\n"
     ]
    }
   ],
   "source": [
    "print(comments.info())"
   ]
  },
  {
   "cell_type": "markdown",
   "metadata": {
    "id": "mZKgs3wO5fQs"
   },
   "source": [
    "Типы данных корректны, пропущенных значений нет. Проверим, есть ли дубликаты."
   ]
  },
  {
   "cell_type": "code",
   "execution_count": 6,
   "metadata": {
    "colab": {
     "base_uri": "https://localhost:8080/"
    },
    "id": "Pw4BNMfo5fQs",
    "outputId": "a59dddda-dbec-4111-f1d6-feed66679108"
   },
   "outputs": [
    {
     "name": "stdout",
     "output_type": "stream",
     "text": [
      "Количество дубликатов в наборе данных: 0\n"
     ]
    }
   ],
   "source": [
    "print('Количество дубликатов в наборе данных: {}'.format(comments.duplicated().sum()))"
   ]
  },
  {
   "cell_type": "markdown",
   "metadata": {
    "id": "q5EM49wG5fQt"
   },
   "source": [
    "Подготовим признаки. Приведем слова в комментариях к нижнему регистру и начальной форме (лемме). Для этого напишем функцию, которая будет принимать тексты сообщений и испытаем ее на маленьком фрагменте. Функция будет возвращать лемматизированный, очищенный от лишних символов, текст."
   ]
  },
  {
   "cell_type": "code",
   "execution_count": 7,
   "metadata": {
    "colab": {
     "base_uri": "https://localhost:8080/"
    },
    "id": "pieQlRCt5fQt",
    "outputId": "bef12d78-8f8c-4e6f-bafc-db20eedef2b5"
   },
   "outputs": [
    {
     "name": "stdout",
     "output_type": "stream",
     "text": [
      "Лемматизированный текст: explanation why the edit make under  username hardcore metallica fan be revert  weren t vandalism just closure on some gas after i vote at new york doll fac and please don t remove the template from the talk page since i m retire now\n"
     ]
    }
   ],
   "source": [
    "global nlp\n",
    "def lemmatize(text):\n",
    "    clear_text = \" \".join(re.sub(r'[^a-zA-Z]', ' ', text.lower()).split())\n",
    "    doc = nlp(clear_text)\n",
    "    lemm_text = \" \".join([token.lemma_ for token in doc])\n",
    "    return re.sub(r'[-PRON-]', '', lemm_text)\n",
    "\n",
    "print(\"Лемматизированный текст:\", lemmatize(comments['text'][0]))"
   ]
  },
  {
   "cell_type": "markdown",
   "metadata": {
    "id": "5TjILM8-5fQu"
   },
   "source": [
    "Применим функцию ко всей таблице."
   ]
  },
  {
   "cell_type": "code",
   "execution_count": 8,
   "metadata": {
    "colab": {
     "base_uri": "https://localhost:8080/"
    },
    "id": "G6YOul0l5fQu",
    "outputId": "694a5fa1-01a0-41a8-ffa3-37a548adac4e"
   },
   "outputs": [
    {
     "name": "stdout",
     "output_type": "stream",
     "text": [
      "                                                text  ...                                          lemm_text\n",
      "0  Explanation\\nWhy the edits made under my usern...  ...  explanation why the edit make under  username ...\n",
      "1  D'aww! He matches this background colour I'm s...  ...  d aww  match this background colour i m seemin...\n",
      "2  Hey man, I'm really not trying to edit war. It...  ...  hey man i m really not try to edit war  s just...\n",
      "3  \"\\nMore\\nI can't make any real suggestions on ...  ...  more i can t make any real suggestion on impro...\n",
      "4  You, sir, are my hero. Any chance you remember...  ...   sir be  hero any chance  remember what page t...\n",
      "\n",
      "[5 rows x 3 columns]\n"
     ]
    }
   ],
   "source": [
    "#Wall time: 33min 34s\n",
    "#%%time\n",
    "comments['lemm_text'] = comments['text'].apply(lambda x: lemmatize(x))\n",
    "print(comments.head())"
   ]
  },
  {
   "cell_type": "markdown",
   "metadata": {
    "id": "LTkytRLC5fQu"
   },
   "source": [
    "Разобъем датасет на обучающую и тестовую выборки. Размер тестовой выборки - 20%."
   ]
  },
  {
   "cell_type": "code",
   "execution_count": 9,
   "metadata": {
    "colab": {
     "base_uri": "https://localhost:8080/"
    },
    "id": "HNVfuYW05fQv",
    "outputId": "d0765dab-3e34-4d1d-9038-8fbbee10c8ac"
   },
   "outputs": [
    {
     "name": "stdout",
     "output_type": "stream",
     "text": [
      "(127656, 3) (31915, 3)\n"
     ]
    }
   ],
   "source": [
    "train, test = train_test_split(comments, test_size=0.20, stratify=comments['toxic'], random_state=12345)\n",
    "print(train.shape, test.shape)"
   ]
  },
  {
   "cell_type": "markdown",
   "metadata": {
    "id": "cpY0_TAU5fQv"
   },
   "source": [
    "Создадим корпус правок, преобразуем полученный столбец lemm_text в список текстов (пока для обучающей выборки). Поскольку текст английский, опустим перевод в юникод .astype('U') в целях экономии памяти."
   ]
  },
  {
   "cell_type": "code",
   "execution_count": 10,
   "metadata": {
    "colab": {
     "base_uri": "https://localhost:8080/"
    },
    "id": "aBrdtCzm5fQw",
    "outputId": "1e075384-097f-407e-a9e4-563d5bbcc605"
   },
   "outputs": [
    {
     "name": "stdout",
     "output_type": "stream",
     "text": [
      "['actually move  here would be xenophrenic s preferred response as  can see above  ask for  to be here  foolishly believe that this process would lead to more scrutiny of  disruptive behavior  have unequivocally prove  wrong also  in the process i thank  for that talk'\n",
      " 'bomb awwwaaaayyyyy wikipedia feature article candidate perseus constellation archive right with two of   should be able to kick this one over the line cheer talk contribs'\n",
      " 'relation be this dale robert any relation to the also deceased dale roberts who be once a player and coach at ipswich town user talk sir stanley'\n",
      " ...\n",
      " 'not how the level scale work for example if a player clear out a dungeon at level the enemy would be skeleton if the player return at level or above  could be full of troll the enemy weapon be also level along with the treasure the player can find in chest and on enemy body for one thing  s very rare and near impossible to find troll at level four secondly troll would never ever replace skeleton because  be on completely different level list the only thing that would replace a skeleton be another skeleton or eventually a lich'\n",
      " 'thanks yulia for  intelligence i see  apology at ani about the ipa stuff seriously with all the mess this user be make of the article  be hard to figure out who be do what and yes this whole thing do seem farcical parley'\n",
      " 'greaser film  re an idiot bye']\n"
     ]
    }
   ],
   "source": [
    "corpus_train = train['lemm_text'].values#.astype('U')\n",
    "print(corpus_train)"
   ]
  },
  {
   "cell_type": "markdown",
   "metadata": {
    "id": "5pd1T_Qq5fQw"
   },
   "source": [
    "Создадим мешок слов и отбросим стоп-слова."
   ]
  },
  {
   "cell_type": "code",
   "execution_count": 11,
   "metadata": {
    "colab": {
     "base_uri": "https://localhost:8080/"
    },
    "id": "XbYPseIH5fQx",
    "outputId": "31aebec7-2905-4ee2-c617-1754b9d97f2e"
   },
   "outputs": [
    {
     "name": "stdout",
     "output_type": "stream",
     "text": [
      "[nltk_data] Downloading package stopwords to /root/nltk_data...\n",
      "[nltk_data]   Unzipping corpora/stopwords.zip.\n",
      "Размер мешка с учётом стоп-слов: (127656, 134646)\n"
     ]
    }
   ],
   "source": [
    "nltk.download('stopwords')\n",
    "stop_words = set(nltk_stopwords.words('english'))\n",
    "count_vect = CountVectorizer(stop_words=stop_words)\n",
    "bow = count_vect.fit_transform(corpus_train)\n",
    "\n",
    "print(\"Размер мешка с учётом стоп-слов:\", bow.shape)"
   ]
  },
  {
   "cell_type": "markdown",
   "metadata": {
    "id": "OaefCpKf5fQx"
   },
   "source": [
    "Оценим важность слов величиной TF-IDF. Посчитаем TF-IDF для корпуса текстов, вызвав функцию fit_transform() для обучающей выборки."
   ]
  },
  {
   "cell_type": "code",
   "execution_count": 12,
   "metadata": {
    "colab": {
     "base_uri": "https://localhost:8080/"
    },
    "id": "tGR0jE9n5fQy",
    "outputId": "91929518-bad1-47df-8633-a7f4676e2dc1"
   },
   "outputs": [
    {
     "name": "stdout",
     "output_type": "stream",
     "text": [
      "Размер матрицы: (127656, 134646)\n"
     ]
    }
   ],
   "source": [
    "vect = TfidfVectorizer(stop_words=stop_words)\n",
    "tf_idf_train = vect.fit_transform(corpus_train)\n",
    "print(\"Размер матрицы:\", tf_idf_train.shape)"
   ]
  },
  {
   "cell_type": "markdown",
   "metadata": {
    "id": "NWmzMV8q5fQy"
   },
   "source": [
    "Разделим обучающий датасет на набор признаков и целевой признак."
   ]
  },
  {
   "cell_type": "code",
   "execution_count": 13,
   "metadata": {
    "colab": {
     "base_uri": "https://localhost:8080/"
    },
    "id": "5d0rEIMb5fQy",
    "outputId": "5f31f30d-3638-4688-c97f-3203cda06d05"
   },
   "outputs": [
    {
     "name": "stdout",
     "output_type": "stream",
     "text": [
      "(127656, 134646) (127656,)\n"
     ]
    }
   ],
   "source": [
    "features_train = tf_idf_train\n",
    "target_train = train['toxic']\n",
    "print(features_train.shape, target_train.shape)"
   ]
  },
  {
   "cell_type": "markdown",
   "metadata": {
    "id": "UNahWegS5fQz"
   },
   "source": [
    "Аналогичным образом обработаем и набор данных для тестирования. Только для TF-IDF используем transform()."
   ]
  },
  {
   "cell_type": "code",
   "execution_count": 14,
   "metadata": {
    "colab": {
     "base_uri": "https://localhost:8080/"
    },
    "id": "gb0fqgj-5fQz",
    "outputId": "91b3c3d0-fa83-407f-93ec-7b3012b92ac7"
   },
   "outputs": [
    {
     "name": "stdout",
     "output_type": "stream",
     "text": [
      "Размер матрицы: (31915, 134646)\n",
      "(31915, 134646) (31915,)\n"
     ]
    }
   ],
   "source": [
    "corpus_test = test['lemm_text'].values\n",
    "tf_idf_test = vect.transform(corpus_test)\n",
    "\n",
    "print(\"Размер матрицы:\", tf_idf_test.shape)\n",
    "\n",
    "features_test = tf_idf_test\n",
    "target_test = test['toxic']\n",
    "print(features_test.shape, target_test.shape)"
   ]
  },
  {
   "cell_type": "markdown",
   "metadata": {
    "id": "NrMaqtC55fQ0"
   },
   "source": [
    "### Вывод"
   ]
  },
  {
   "cell_type": "markdown",
   "metadata": {
    "id": "mcpnWw5P5fQ0"
   },
   "source": [
    "В предоставленном для исследования датасете не выявлено пропущенных значений и дубликатов. Типы данных корректны. \n",
    "\n",
    "Примерно 90% комментариев не являются токсичными, имеется явный дисбаланс в сторону \"обычных\" текстов, их больше в 9 раз.\n",
    "\n",
    "Для подготовки к обучению все слова в комментариях приведены к нижнему регистру и начальной форме (лемме). Датасет разбит на обучающую и тестовую выборки, из них исключены стоп-слова и рассчитан TF-IDF."
   ]
  },
  {
   "cell_type": "markdown",
   "metadata": {
    "id": "fb5rAiVv5fQ0"
   },
   "source": [
    "## Обучение"
   ]
  },
  {
   "cell_type": "markdown",
   "metadata": {
    "id": "DxPOguAf5fQ1"
   },
   "source": [
    "В проекте рассмотрено 4 модели: логистическая регрессия, дерево решений, случайный лес и стохастический градиентный спуск.\n",
    "\n",
    "Оптимальные гиперпараметры будем подбирать с помощью функции GridSearchCV(). Поскольку перебирать гиперпараметры мы будем не один раз, объявим функцию для подбора этих гиперпараметров. На вход она будет принимать перечень параметров, тип модели, набор обучающих признаков, обучающий целевой признак, а также словарь и название модели для сохранения результирующей метрики.\n",
    "\n",
    "Возвращать функция будет метрику F1. Количество подвыборок для кросс-валидации укажем 3 (cv=3). Это позволит, с одной стороны, объективнее оценить итоги отдельно не выделяя валидационную выборку, а с другой - не очень большое количество подвыборок ускорит процесс подбора гиперпараметров."
   ]
  },
  {
   "cell_type": "code",
   "execution_count": 15,
   "metadata": {
    "id": "646KbSpW5fQ1"
   },
   "outputs": [],
   "source": [
    "def select_params(params, model, features, target, dictionary, name):\n",
    "    mod = GridSearchCV(model, params, cv=3, scoring='f1')\n",
    "    %time mod.fit(features, target)\n",
    "    f1 = mod.best_score_\n",
    "    print('f1_score:', f1)\n",
    "    if name in dictionary:\n",
    "        if dictionary[name] < f1:\n",
    "            dictionary[name] = f1\n",
    "    else:\n",
    "        dictionary[name] = f1\n",
    "    print(mod.best_params_)"
   ]
  },
  {
   "cell_type": "code",
   "execution_count": 16,
   "metadata": {
    "id": "T9rKR_5j5fQ1"
   },
   "outputs": [],
   "source": [
    "f1_valid = {}"
   ]
  },
  {
   "cell_type": "markdown",
   "metadata": {
    "id": "-NvXuXEu5fQ2"
   },
   "source": [
    "### Логистическая регрессия"
   ]
  },
  {
   "cell_type": "markdown",
   "metadata": {
    "id": "aH7wO1k_5fQ3"
   },
   "source": [
    "Первой моделью изучим логистическую регрессию. Выведем f1-score, какое получается, если не \"докручивать\" модель, а использовать гиперпараметры, установленные по умолчанию.\n",
    "\n",
    "Используем нашу функцию для подбора параметров, т.к. она основана на кросс-валидации (нет необходимости проверять результат на валидационной выборке, позже используем сразу тестовую). Просто передадим ей пустые параметры."
   ]
  },
  {
   "cell_type": "code",
   "execution_count": 17,
   "metadata": {
    "colab": {
     "base_uri": "https://localhost:8080/"
    },
    "id": "dfZeq6Sh5fQ3",
    "outputId": "a26eac04-f502-4f21-e709-9cacda698e69"
   },
   "outputs": [
    {
     "name": "stdout",
     "output_type": "stream",
     "text": [
      "CPU times: user 24.7 s, sys: 26.8 s, total: 51.5 s\n",
      "Wall time: 26.5 s\n",
      "f1_score: 0.7137094740721658\n",
      "{}\n"
     ]
    }
   ],
   "source": [
    "params = {}\n",
    "select_params(params, LogisticRegression(), features_train, target_train, f1_valid, 'Logistic Regression')"
   ]
  },
  {
   "cell_type": "markdown",
   "metadata": {
    "id": "k4dYrZ_O5fQ3"
   },
   "source": [
    "Теперь попробуем поменять гиперпараметы и посмотрим, улучшится ли результат."
   ]
  },
  {
   "cell_type": "code",
   "execution_count": 18,
   "metadata": {
    "colab": {
     "base_uri": "https://localhost:8080/"
    },
    "id": "MAtYWxkX5fQ4",
    "outputId": "57f4648b-e1bc-46cf-e661-81e07c3a2a86"
   },
   "outputs": [
    {
     "name": "stdout",
     "output_type": "stream",
     "text": [
      "CPU times: user 13min, sys: 4.13 s, total: 13min 4s\n",
      "Wall time: 12min 57s\n",
      "f1_score: 0.7580365174512126\n",
      "{'class_weight': 'balanced', 'penalty': 'l1', 'solver': 'saga'}\n"
     ]
    }
   ],
   "source": [
    "params = {'penalty': ['l1', 'l2'], 'class_weight': ['balanced'],\n",
    "         'solver': ['liblinear', 'saga']}\n",
    "select_params(params, LogisticRegression(), features_train, target_train, f1_valid, 'Logistic Regression')"
   ]
  },
  {
   "cell_type": "markdown",
   "metadata": {
    "id": "P5tyap9e5fQ4"
   },
   "source": [
    "Качество модели явно стало лучше. Сохраним модель с полученными гиперпараметрами."
   ]
  },
  {
   "cell_type": "code",
   "execution_count": 19,
   "metadata": {
    "colab": {
     "base_uri": "https://localhost:8080/"
    },
    "id": "-S6vNglx5fQ4",
    "outputId": "ba9085f6-77c9-46d9-e36e-19b91c4bcf19"
   },
   "outputs": [
    {
     "data": {
      "text/plain": [
       "LogisticRegression(C=1.0, class_weight='balanced', dual=False,\n",
       "                   fit_intercept=True, intercept_scaling=1, l1_ratio=None,\n",
       "                   max_iter=100, multi_class='auto', n_jobs=None, penalty='l1',\n",
       "                   random_state=12345, solver='liblinear', tol=0.0001,\n",
       "                   verbose=0, warm_start=False)"
      ]
     },
     "execution_count": 19,
     "metadata": {
      "tags": []
     },
     "output_type": "execute_result"
    }
   ],
   "source": [
    "model_lr = LogisticRegression(random_state=12345, solver='liblinear', penalty='l1', class_weight='balanced')\n",
    "model_lr.fit(features_train, target_train)"
   ]
  },
  {
   "cell_type": "markdown",
   "metadata": {
    "id": "VAev-a-95fQ5"
   },
   "source": [
    "### Дерево решений"
   ]
  },
  {
   "cell_type": "markdown",
   "metadata": {
    "id": "GEdAxyh55fQ5"
   },
   "source": [
    "Рассмотрим дерево решений."
   ]
  },
  {
   "cell_type": "code",
   "execution_count": 20,
   "metadata": {
    "colab": {
     "base_uri": "https://localhost:8080/"
    },
    "id": "URV0RBSa5fQ5",
    "outputId": "7cc50daf-bc78-4a67-8b1b-c7f718902666"
   },
   "outputs": [
    {
     "name": "stdout",
     "output_type": "stream",
     "text": [
      "CPU times: user 14min 46s, sys: 587 ms, total: 14min 46s\n",
      "Wall time: 14min 43s\n",
      "f1_score: 0.7107374845919053\n",
      "{}\n"
     ]
    }
   ],
   "source": [
    "params = {}\n",
    "select_params(params, DecisionTreeClassifier(), features_train, target_train, f1_valid, 'Decision Tree')"
   ]
  },
  {
   "cell_type": "markdown",
   "metadata": {
    "id": "-yNGDWEs5fQ5"
   },
   "source": [
    "Попробуем доработать модель."
   ]
  },
  {
   "cell_type": "code",
   "execution_count": 21,
   "metadata": {
    "colab": {
     "base_uri": "https://localhost:8080/"
    },
    "id": "6oa2C4sw5fQ6",
    "outputId": "a2bd5fb7-81e8-46eb-d121-065eaee8e729"
   },
   "outputs": [
    {
     "name": "stdout",
     "output_type": "stream",
     "text": [
      "CPU times: user 2min 44s, sys: 208 ms, total: 2min 44s\n",
      "Wall time: 2min 43s\n",
      "f1_score: 0.5687581769483562\n",
      "{'class_weight': 'balanced', 'max_depth': 10, 'min_samples_leaf': 4}\n"
     ]
    }
   ],
   "source": [
    "params = {'max_depth': [6, 8, 10], 'min_samples_leaf': [2,4], 'class_weight': ['balanced']}\n",
    "select_params(params, DecisionTreeClassifier(), features_train, target_train, f1_valid, 'Decision Tree')"
   ]
  },
  {
   "cell_type": "markdown",
   "metadata": {
    "id": "PLoN0u_c5fQ6"
   },
   "source": [
    "Качество модели намного ухудшилось. Сохраним нашу модель с первоначальными гиперпараметрами в переменной model_dt."
   ]
  },
  {
   "cell_type": "code",
   "execution_count": 22,
   "metadata": {
    "colab": {
     "base_uri": "https://localhost:8080/"
    },
    "id": "ApjQn8Ve5fQ6",
    "outputId": "bd1e7046-c6e3-40bd-dafd-8f1bc1d35fe8"
   },
   "outputs": [
    {
     "name": "stdout",
     "output_type": "stream",
     "text": [
      "CPU times: user 2min 5s, sys: 90.2 ms, total: 2min 5s\n",
      "Wall time: 2min 4s\n"
     ]
    }
   ],
   "source": [
    "%%time\n",
    "model_dt = DecisionTreeClassifier(random_state=12345, class_weight='balanced')\n",
    "model_dt.fit(features_train, target_train)"
   ]
  },
  {
   "cell_type": "markdown",
   "metadata": {
    "id": "VtAjCkgp5fQ6"
   },
   "source": [
    "### Случайный лес"
   ]
  },
  {
   "cell_type": "markdown",
   "metadata": {
    "id": "doux2rCq5fQ7"
   },
   "source": [
    "Рассмотрим модель случайного леса. Сначала с гиперпараметрами по умолчанию."
   ]
  },
  {
   "cell_type": "code",
   "execution_count": 23,
   "metadata": {
    "colab": {
     "base_uri": "https://localhost:8080/"
    },
    "id": "OaDqPO6L5fQ7",
    "outputId": "7770b6a7-3cd2-419e-bf9c-c5c9881da673"
   },
   "outputs": [
    {
     "name": "stdout",
     "output_type": "stream",
     "text": [
      "CPU times: user 42min 56s, sys: 2.51 s, total: 42min 59s\n",
      "Wall time: 42min 47s\n",
      "f1_score: 0.6842775546323981\n",
      "{}\n"
     ]
    }
   ],
   "source": [
    "params = {}\n",
    "select_params(params, RandomForestClassifier(), features_train, target_train, f1_valid, 'Random Forest')"
   ]
  },
  {
   "cell_type": "markdown",
   "metadata": {
    "id": "n1oUcPco5fQ7"
   },
   "source": [
    "Попробуем внести изменения в модель."
   ]
  },
  {
   "cell_type": "code",
   "execution_count": 24,
   "metadata": {
    "colab": {
     "base_uri": "https://localhost:8080/"
    },
    "id": "tiNPFpdU5fQ7",
    "outputId": "02445d34-3526-4f56-bbf1-aac8eb52d91d"
   },
   "outputs": [
    {
     "name": "stdout",
     "output_type": "stream",
     "text": [
      "CPU times: user 3min 9s, sys: 800 ms, total: 3min 9s\n",
      "Wall time: 3min 9s\n",
      "f1_score: 0.35646293766674714\n",
      "{'class_weight': 'balanced', 'max_depth': 10, 'n_estimators': 90}\n"
     ]
    }
   ],
   "source": [
    "params = {'max_depth': [6, 8, 10], 'n_estimators': [60, 90], 'class_weight': ['balanced']}\n",
    "select_params(params, RandomForestClassifier(), features_train, target_train, f1_valid, 'Random Forest')"
   ]
  },
  {
   "cell_type": "markdown",
   "metadata": {
    "id": "LuBFZ0tR5fQ8"
   },
   "source": [
    "Признаем, что до нашего вмешательства модель классифицировала гораздо лучше. Оставим гиперпараметры \"из коробки\", только укажем class_weight='balanced'."
   ]
  },
  {
   "cell_type": "code",
   "execution_count": 25,
   "metadata": {
    "colab": {
     "base_uri": "https://localhost:8080/"
    },
    "id": "ZdFmV1OC5fQ8",
    "outputId": "f2175266-e32d-493d-c41a-68b25300b36f"
   },
   "outputs": [
    {
     "name": "stdout",
     "output_type": "stream",
     "text": [
      "CPU times: user 9min 53s, sys: 491 ms, total: 9min 53s\n",
      "Wall time: 9min 50s\n"
     ]
    }
   ],
   "source": [
    "%%time\n",
    "model_rf = RandomForestClassifier(random_state=12345, class_weight='balanced')\n",
    "model_rf.fit(features_train, target_train)"
   ]
  },
  {
   "cell_type": "markdown",
   "metadata": {
    "id": "Nbr1vldN5fQ8"
   },
   "source": [
    "### Стохастический градиентный спуск"
   ]
  },
  {
   "cell_type": "markdown",
   "metadata": {
    "id": "kjrM1-Ph5fQ9"
   },
   "source": [
    "Еще одна модель, которая рассматривается в проекте - стохастический градиентный спуск. По аналогии с предыдущими моделями - сначала гиперпараметры не меняем, посмотрим на базовое значение метрики. Потом попробуем изменить."
   ]
  },
  {
   "cell_type": "code",
   "execution_count": 26,
   "metadata": {
    "colab": {
     "base_uri": "https://localhost:8080/"
    },
    "id": "dHY_KnZv5fQ9",
    "outputId": "43bba5c1-85f5-4873-9825-94ae251ffaae"
   },
   "outputs": [
    {
     "name": "stdout",
     "output_type": "stream",
     "text": [
      "CPU times: user 924 ms, sys: 432 ms, total: 1.36 s\n",
      "Wall time: 860 ms\n",
      "f1_score: 0.6354345456637479\n",
      "{}\n"
     ]
    }
   ],
   "source": [
    "params = {}\n",
    "select_params(params, SGDClassifier(), features_train, target_train, f1_valid, 'SGDClassifier')"
   ]
  },
  {
   "cell_type": "code",
   "execution_count": 27,
   "metadata": {
    "colab": {
     "base_uri": "https://localhost:8080/"
    },
    "id": "TlysW8-f5fQ9",
    "outputId": "944a50c6-a75b-4357-bfa5-50545db40560"
   },
   "outputs": [
    {
     "name": "stdout",
     "output_type": "stream",
     "text": [
      "CPU times: user 3min 28s, sys: 10.6 s, total: 3min 39s\n",
      "Wall time: 3min 25s\n",
      "f1_score: 0.7525714959398173\n",
      "{'alpha': 0.0001, 'class_weight': 'balanced', 'loss': 'modified_huber', 'penalty': 'l2'}\n"
     ]
    }
   ],
   "source": [
    "params = {'loss': ['hinge', 'log', 'modified_huber', 'squared_hinge'], 'penalty': ['l2', 'l1'], 'alpha':[0.0001, 0.01, 1, 100], 'class_weight': ['balanced']}\n",
    "select_params(params, SGDClassifier(), features_train, target_train, f1_valid, 'SGDClassifier')"
   ]
  },
  {
   "cell_type": "markdown",
   "metadata": {
    "id": "HDOEuARo5fQ-"
   },
   "source": [
    "С подобранными гиперпараметрами модель работает определенно лучше. Сохраним в переменной model_sgd."
   ]
  },
  {
   "cell_type": "code",
   "execution_count": 28,
   "metadata": {
    "colab": {
     "base_uri": "https://localhost:8080/"
    },
    "id": "k2E9swmZ5fQ-",
    "outputId": "595153fc-7fd8-43ab-a49d-9100037b4d1f"
   },
   "outputs": [
    {
     "data": {
      "text/plain": [
       "SGDClassifier(alpha=0.0001, average=False, class_weight='balanced',\n",
       "              early_stopping=False, epsilon=0.1, eta0=0.0, fit_intercept=True,\n",
       "              l1_ratio=0.15, learning_rate='optimal', loss='modified_huber',\n",
       "              max_iter=1000, n_iter_no_change=5, n_jobs=None, penalty='l1',\n",
       "              power_t=0.5, random_state=12345, shuffle=True, tol=0.001,\n",
       "              validation_fraction=0.1, verbose=0, warm_start=False)"
      ]
     },
     "execution_count": 28,
     "metadata": {
      "tags": []
     },
     "output_type": "execute_result"
    }
   ],
   "source": [
    "model_sgd = SGDClassifier(loss='modified_huber', random_state=12345, class_weight='balanced', penalty='l1')\n",
    "model_sgd.fit(features_train, target_train)"
   ]
  },
  {
   "cell_type": "markdown",
   "metadata": {
    "id": "-aeJtIiY5fQ-"
   },
   "source": [
    "### BERT с логистической регрессией"
   ]
  },
  {
   "cell_type": "markdown",
   "metadata": {
    "id": "5QVsIv2R5fQ-"
   },
   "source": [
    "Попробуем классифицировать правки на основе векторных представлений слов. Текстов много, поэтому используем небольшой фрагмент данных. Поскольку существует сильный дисбаланс класов, то наблюдения в выборку будем набирать не случайно, а сделаем \"квоты\", по 50% для каждого типа комментария. "
   ]
  },
  {
   "cell_type": "code",
   "execution_count": 29,
   "metadata": {
    "id": "i4LRx30t5fQ_"
   },
   "outputs": [],
   "source": [
    "comments_zeros = comments[comments['toxic'] == 0]\n",
    "comments_ones = comments[comments['toxic'] == 1]\n",
    "\n",
    "comments_1 = pd.concat([comments_zeros.sample(n=200, random_state=12345)] + [comments_ones.sample(n=200, random_state=12345)])\n",
    "comments_1 = shuffle(comments_1, random_state=12345)"
   ]
  },
  {
   "cell_type": "markdown",
   "metadata": {
    "id": "MIojJ8Za5fQ_"
   },
   "source": [
    "Проверим, корректно ли отобрались классы."
   ]
  },
  {
   "cell_type": "code",
   "execution_count": 30,
   "metadata": {
    "colab": {
     "base_uri": "https://localhost:8080/"
    },
    "id": "9LCE-Vwo5fQ_",
    "outputId": "0ba3d56c-d381-4e57-c956-c3edc003521a"
   },
   "outputs": [
    {
     "name": "stdout",
     "output_type": "stream",
     "text": [
      "(400, 3)\n",
      "1    200\n",
      "0    200\n",
      "Name: toxic, dtype: int64\n"
     ]
    }
   ],
   "source": [
    "print(comments_1.shape)\n",
    "print(comments_1['toxic'].value_counts())"
   ]
  },
  {
   "cell_type": "markdown",
   "metadata": {
    "id": "WPEwARPe5fRA"
   },
   "source": [
    "Разобьем на слова и преобразуем их в список токенов. Для этого инициализируем токенизатор."
   ]
  },
  {
   "cell_type": "code",
   "execution_count": 31,
   "metadata": {
    "colab": {
     "base_uri": "https://localhost:8080/",
     "height": 145,
     "referenced_widgets": [
      "cb9aada49e3c42688f06110813ca861a",
      "36c102d3cabf4d5d88a040a986303141",
      "fc4835c5410045049f9896114174689d",
      "62052533cac343d981f81d06f3bd41e6",
      "55d39688f7444c239a990e14ae07f742",
      "2aa362cfec34429cb44d2bd7a488af97",
      "e0c98b5b066943bab82be79a84b351cb",
      "d504b5c19a354881a3aa26cac887bf65",
      "507d84e6bcca441bbaf79097770b2574",
      "7327f58d45c14f96b81929cf657cd0f1",
      "77a7e6c32954493dbdaeaefb1b1e2267",
      "b2d5d9395d4d4d45aea041d28e8e1876",
      "0153f9c0e903491985dd6dad6a980854",
      "26b7ada59de34a25b41868a160bbca90",
      "026d9c1bedb143968c97846147ec7a03",
      "43cfcf8ef5db495a808903d2914959a3",
      "24b4b4ff32a549aaacf8270c8837a6d9",
      "8d3577336c234f99abb590dc60cd9747",
      "ad2949626f184f458d7fddfae692c275",
      "1be8e2627b4046d4a14d8abeb27426c4",
      "a4c03d627de14b7a842737fdd4349004",
      "73a916e5d63b4cb5be287f32c3552c74",
      "3d0094f023104b4a810cfb2f0ab8b724",
      "e9e220c3fe934c67a170166b510ea9ca",
      "3b640cb75bda41fda2ebba62e67b898e",
      "7f654897b1b348c585ce46f9a6a35763",
      "d1637bc370fc43e9974ea415153159cd",
      "ccf663c5c39049729eba9c8f5f699a60",
      "b44915d3ba404523bcfec74c070a8755",
      "944d8d4f6d1a491ca2194c202a957669",
      "aa40f6e5e7f84dc394fdc205ba3fde30",
      "35e48bc7f1514ff08bc49218a5125796",
      "ef0f2f1799cb4f278c4c32f20f135fc2",
      "272e59ba5c054cb1b970f560fbe0714a",
      "b3649dd83da04b29be972eecedcdb596",
      "781840bebd014585a416f78432eadbb9",
      "2b79b872561c4a5897c0388704b84cf5",
      "3f26585897db42b6943b385a0e140fa3",
      "0d62bbaf43954c8fb7bf3c8c03a60041",
      "49e27f8de915427282d1e27a3b8b34b7",
      "863706c21f894adc87a14b420ad5138f",
      "866db340824b435bab0df3e5cb443519",
      "62d69675bec54a70bdaf843ddc7ea34a",
      "a21195301a9d422480abf29279594d38"
     ]
    },
    "id": "XL9WJpcl5fRA",
    "outputId": "c8ab6640-b967-4ffb-c80d-37941d3c8df4"
   },
   "outputs": [
    {
     "data": {
      "application/vnd.jupyter.widget-view+json": {
       "model_id": "cb9aada49e3c42688f06110813ca861a",
       "version_major": 2,
       "version_minor": 0
      },
      "text/plain": [
       "Downloading:   0%|          | 0.00/232k [00:00<?, ?B/s]"
      ]
     },
     "metadata": {
      "tags": []
     },
     "output_type": "display_data"
    },
    {
     "data": {
      "application/vnd.jupyter.widget-view+json": {
       "model_id": "b2d5d9395d4d4d45aea041d28e8e1876",
       "version_major": 2,
       "version_minor": 0
      },
      "text/plain": [
       "Downloading:   0%|          | 0.00/28.0 [00:00<?, ?B/s]"
      ]
     },
     "metadata": {
      "tags": []
     },
     "output_type": "display_data"
    },
    {
     "data": {
      "application/vnd.jupyter.widget-view+json": {
       "model_id": "3d0094f023104b4a810cfb2f0ab8b724",
       "version_major": 2,
       "version_minor": 0
      },
      "text/plain": [
       "Downloading:   0%|          | 0.00/466k [00:00<?, ?B/s]"
      ]
     },
     "metadata": {
      "tags": []
     },
     "output_type": "display_data"
    },
    {
     "data": {
      "application/vnd.jupyter.widget-view+json": {
       "model_id": "272e59ba5c054cb1b970f560fbe0714a",
       "version_major": 2,
       "version_minor": 0
      },
      "text/plain": [
       "Downloading:   0%|          | 0.00/570 [00:00<?, ?B/s]"
      ]
     },
     "metadata": {
      "tags": []
     },
     "output_type": "display_data"
    }
   ],
   "source": [
    "tokenizer = BertTokenizer.from_pretrained('bert-base-uncased')"
   ]
  },
  {
   "cell_type": "markdown",
   "metadata": {
    "id": "i63QEHqo5fRA"
   },
   "source": [
    "Преобразуем текст в номера токенов. Чтобы при создании эмбеддингов не возникало ошибки, ограничим максимальную длину вектора - 512."
   ]
  },
  {
   "cell_type": "code",
   "execution_count": 32,
   "metadata": {
    "id": "-Zg29o5M5fRA"
   },
   "outputs": [],
   "source": [
    "tokenized = comments_1['text'].apply(lambda x: tokenizer.encode(x, add_special_tokens=True, truncation=True, max_length=512))"
   ]
  },
  {
   "cell_type": "markdown",
   "metadata": {
    "id": "2PXl3t835fRA"
   },
   "source": [
    "Применим метод padding и создадим маску для важных токенов."
   ]
  },
  {
   "cell_type": "code",
   "execution_count": 33,
   "metadata": {
    "id": "YBhQjUNp5fRB"
   },
   "outputs": [],
   "source": [
    "max_len = 512\n",
    "        \n",
    "padded = np.array([i + [0]*(max_len - len(i)) for i in tokenized.values])\n",
    "attention_mask = np.where(padded != 0, 1, 0)"
   ]
  },
  {
   "cell_type": "markdown",
   "metadata": {
    "id": "v2zlnvhn5fRB"
   },
   "source": [
    "Инициализируем конфигурацию BertConfig, затем инициализируем саму модель класса BertModel. Передадим ей файл с предобученной моделью и конфигурацией."
   ]
  },
  {
   "cell_type": "code",
   "execution_count": 34,
   "metadata": {
    "colab": {
     "base_uri": "https://localhost:8080/",
     "height": 121,
     "referenced_widgets": [
      "3ac8b645870641d4891b16680691049d",
      "8c33a47beb734629b10829deceb59612",
      "a0d6e94dd5b64d0d98add2b912e13f8b",
      "b08480cbcf4b4d088ca41ad470d2a24c",
      "9fc0007e4a324c96a52a545290d956f3",
      "b7fd462dc4b24fde94752ff4ee0964d3",
      "c59b50d0325d4e8396d9e1d39cb02ec7",
      "414a47de6a9a4234a8c437ba0df617ef",
      "9777c26f5c9b4efb9c828392ac4a7eb8",
      "c898d770a70f43ca9e030a4b7fdc16fc",
      "1bbcdfc098da470eb14299164769a2b3"
     ]
    },
    "id": "RI7Fr-Xf5fRB",
    "outputId": "b2e1ce37-ab25-477f-9d13-7ad1d903ffce"
   },
   "outputs": [
    {
     "data": {
      "application/vnd.jupyter.widget-view+json": {
       "model_id": "3ac8b645870641d4891b16680691049d",
       "version_major": 2,
       "version_minor": 0
      },
      "text/plain": [
       "Downloading:   0%|          | 0.00/440M [00:00<?, ?B/s]"
      ]
     },
     "metadata": {
      "tags": []
     },
     "output_type": "display_data"
    },
    {
     "name": "stderr",
     "output_type": "stream",
     "text": [
      "Some weights of the model checkpoint at bert-base-uncased were not used when initializing BertModel: ['cls.seq_relationship.weight', 'cls.predictions.transform.dense.weight', 'cls.predictions.transform.dense.bias', 'cls.predictions.decoder.weight', 'cls.seq_relationship.bias', 'cls.predictions.transform.LayerNorm.bias', 'cls.predictions.bias', 'cls.predictions.transform.LayerNorm.weight']\n",
      "- This IS expected if you are initializing BertModel from the checkpoint of a model trained on another task or with another architecture (e.g. initializing a BertForSequenceClassification model from a BertForPreTraining model).\n",
      "- This IS NOT expected if you are initializing BertModel from the checkpoint of a model that you expect to be exactly identical (initializing a BertForSequenceClassification model from a BertForSequenceClassification model).\n"
     ]
    }
   ],
   "source": [
    "config = transformers.BertConfig.from_pretrained('bert-base-uncased') \n",
    "model_b = transformers.BertModel.from_pretrained('bert-base-uncased', config = config)"
   ]
  },
  {
   "cell_type": "markdown",
   "metadata": {
    "id": "0mgw7MnF5fRC"
   },
   "source": [
    "Преобразуем тексты в эмбеддинги."
   ]
  },
  {
   "cell_type": "code",
   "execution_count": 35,
   "metadata": {
    "colab": {
     "base_uri": "https://localhost:8080/",
     "height": 49,
     "referenced_widgets": [
      "244d5cafd32342528343f87ae534fa92",
      "63357e21a72a493297143faa7056dfec",
      "f4c97422fce347428f5f68dee3745713",
      "2714e0e215e04b6eb6facaad217f1e11",
      "35ddc032b9a949cdb28264661594f61c",
      "813abbbf19024c84a5ce769abee05964",
      "f837085b0a8b4c2d8c004cfb56ecc7d5",
      "590baebfe14d4f9c9eed60276c2529da",
      "3e6df20a505f47719084c2bce1908d91",
      "7f8b4d9ec3364ba38d707ad5edefcb4a",
      "f7ecc9cd089344bcb59ded7f4a643adc"
     ]
    },
    "id": "EnmRebwU5fRC",
    "outputId": "703a6bc2-e4e2-4228-c07b-37c88e6d2217"
   },
   "outputs": [
    {
     "data": {
      "application/vnd.jupyter.widget-view+json": {
       "model_id": "244d5cafd32342528343f87ae534fa92",
       "version_major": 2,
       "version_minor": 0
      },
      "text/plain": [
       "  0%|          | 0/20 [00:00<?, ?it/s]"
      ]
     },
     "metadata": {
      "tags": []
     },
     "output_type": "display_data"
    }
   ],
   "source": [
    "batch_size = 20\n",
    "embeddings = []\n",
    "for i in tqdm(range(padded.shape[0] // batch_size)):\n",
    "    batch = torch.LongTensor(padded[batch_size*i:batch_size*(i+1)]) \n",
    "    attention_mask_batch = torch.LongTensor(attention_mask[batch_size*i:batch_size*(i+1)])\n",
    "    \n",
    "    with torch.no_grad():\n",
    "        batch_embeddings = model_b(batch, attention_mask=attention_mask_batch)\n",
    "        \n",
    "    embeddings.append(batch_embeddings[0][:,0,:].numpy())"
   ]
  },
  {
   "cell_type": "markdown",
   "metadata": {
    "id": "ILZ7fTWv5fRC"
   },
   "source": [
    "Соберём все эмбеддинги в матрицу признаков. Также выделим вектор с целевым признаком и разобьем данные на обучающую и тестовую выборки."
   ]
  },
  {
   "cell_type": "code",
   "execution_count": 36,
   "metadata": {
    "id": "jlJz_sgw5fRD"
   },
   "outputs": [],
   "source": [
    "features_b = np.concatenate(embeddings)\n",
    "target_b= comments_1['toxic']\n",
    "\n",
    "features_train_b, features_test_b, target_train_b, target_test_b = train_test_split(features_b, target_b, test_size=0.2, random_state=12345)"
   ]
  },
  {
   "cell_type": "markdown",
   "metadata": {
    "id": "1fLpBaJ45fRD"
   },
   "source": [
    "Воспользуемся функцией подбора гиперпараметров и выведем f1_score модели."
   ]
  },
  {
   "cell_type": "code",
   "execution_count": 37,
   "metadata": {
    "colab": {
     "base_uri": "https://localhost:8080/"
    },
    "id": "Z5FLPxCY5fRD",
    "outputId": "81adf560-8253-4683-bdbe-2afbb3811f08"
   },
   "outputs": [
    {
     "name": "stdout",
     "output_type": "stream",
     "text": [
      "CPU times: user 368 ms, sys: 224 ms, total: 592 ms\n",
      "Wall time: 320 ms\n",
      "f1_score: 0.8554112554112554\n",
      "{}\n"
     ]
    }
   ],
   "source": [
    "params = {}\n",
    "select_params(params, LogisticRegression(), features_train_b, target_train_b, f1_valid, 'BERT + Logistic Regression')"
   ]
  },
  {
   "cell_type": "markdown",
   "metadata": {
    "id": "fqgSOG8x5fRD"
   },
   "source": [
    "Сохраняем в переменной model_lr_b."
   ]
  },
  {
   "cell_type": "code",
   "execution_count": 38,
   "metadata": {
    "colab": {
     "base_uri": "https://localhost:8080/"
    },
    "id": "a9FIZF-85fRE",
    "outputId": "bb6965b1-7ad0-4bd0-db97-509d2d36a0e7"
   },
   "outputs": [
    {
     "data": {
      "text/plain": [
       "LogisticRegression(C=1.0, class_weight=None, dual=False, fit_intercept=True,\n",
       "                   intercept_scaling=1, l1_ratio=None, max_iter=100,\n",
       "                   multi_class='auto', n_jobs=None, penalty='l2',\n",
       "                   random_state=None, solver='lbfgs', tol=0.0001, verbose=0,\n",
       "                   warm_start=False)"
      ]
     },
     "execution_count": 38,
     "metadata": {
      "tags": []
     },
     "output_type": "execute_result"
    }
   ],
   "source": [
    "model_lr_b = LogisticRegression()\n",
    "model_lr_b.fit(features_train_b, target_train_b)"
   ]
  },
  {
   "cell_type": "markdown",
   "metadata": {
    "id": "dsRBb2E55fRE"
   },
   "source": [
    "### Вывод"
   ]
  },
  {
   "cell_type": "markdown",
   "metadata": {
    "id": "4WY9lVAb5fRE"
   },
   "source": [
    "В работе рассмотрено 4 модели, одна из них (логистическая регрессия) как на основе оценок TF-IDF, так и на основе эмбеддингов. В сочетании с оценкой важности слов TF-IDF из них пороговое значение (f1_score = 0.75) преодолели только две: логистическая регрессия и стохастический градиентный спуск. Логистическая регрессия на основе эмбеддингов (BERT) продемонстрировала довольно высокий результат f1 = 0.86.\n",
    "\n",
    "Теперь проверим эффективность моделей на тестовой выборке."
   ]
  },
  {
   "cell_type": "markdown",
   "metadata": {
    "id": "CHJdJ9qo5fRE"
   },
   "source": [
    "## Оценка моделей"
   ]
  },
  {
   "cell_type": "markdown",
   "metadata": {
    "id": "5AwQ56s15fRF"
   },
   "source": [
    "Для оценки эффективности моделей напишем функцию для вывода основных метрик."
   ]
  },
  {
   "cell_type": "code",
   "execution_count": 39,
   "metadata": {
    "id": "hEBb3_NP5fRF"
   },
   "outputs": [],
   "source": [
    "def compare_table(models, features, features2, target, target2, f1_v):\n",
    "    df = pd.DataFrame(columns=['models', 'accuracy', 'recall', 'precision', 'f1-score_test', 'f1-score_valid'])\n",
    "    for name, model in models.items():\n",
    "        if name == 'BERT + Logistic Regression':\n",
    "            prediction = model.predict(features2)\n",
    "            accur = accuracy_score(target2, prediction).round(3)\n",
    "            rec = recall_score(target2, prediction).round(3)\n",
    "            prec = precision_score(target2, prediction).round(3)\n",
    "            f1 = f1_score(target2, prediction).round(3)\n",
    "            rv = f1_v[name]\n",
    "        else:\n",
    "            prediction = model.predict(features)\n",
    "            accur = accuracy_score(target, prediction).round(3)\n",
    "            rec = recall_score(target, prediction).round(3)\n",
    "            prec = precision_score(target, prediction).round(3)\n",
    "            f1 = f1_score(target, prediction).round(3)\n",
    "            rv = f1_v[name]\n",
    "        df = df.append({'models': name, 'accuracy': accur, 'recall': rec, 'precision': prec, 'f1-score_test': f1, 'f1-score_valid': rv}, ignore_index=True)\n",
    "    return df"
   ]
  },
  {
   "cell_type": "markdown",
   "metadata": {
    "id": "8UUPGsov5fRF"
   },
   "source": [
    "Для передачи функции создадим список с моделями."
   ]
  },
  {
   "cell_type": "code",
   "execution_count": 40,
   "metadata": {
    "id": "gM47sBNv5fRF"
   },
   "outputs": [],
   "source": [
    "models_list = {'Logistic Regression': model_lr, 'Decision Tree': model_dt, \n",
    "                 'Random Forest': model_rf, 'SGDClassifier': model_sgd, \n",
    "               'BERT + Logistic Regression': model_lr_b}"
   ]
  },
  {
   "cell_type": "markdown",
   "metadata": {
    "id": "dnbi69fZ5fRF"
   },
   "source": [
    "Выведем основные метрики."
   ]
  },
  {
   "cell_type": "code",
   "execution_count": 41,
   "metadata": {
    "colab": {
     "base_uri": "https://localhost:8080/",
     "height": 224
    },
    "id": "ZSz8tzRI5fRG",
    "outputId": "126c8aac-ab68-4a01-88d1-21de2ca7a4b3"
   },
   "outputs": [
    {
     "data": {
      "application/vnd.google.colaboratory.intrinsic+json": {
       "type": "string"
      },
      "text/plain": [
       "'test'"
      ]
     },
     "metadata": {
      "tags": []
     },
     "output_type": "display_data"
    },
    {
     "data": {
      "text/html": [
       "<div>\n",
       "<style scoped>\n",
       "    .dataframe tbody tr th:only-of-type {\n",
       "        vertical-align: middle;\n",
       "    }\n",
       "\n",
       "    .dataframe tbody tr th {\n",
       "        vertical-align: top;\n",
       "    }\n",
       "\n",
       "    .dataframe thead th {\n",
       "        text-align: right;\n",
       "    }\n",
       "</style>\n",
       "<table border=\"1\" class=\"dataframe\">\n",
       "  <thead>\n",
       "    <tr style=\"text-align: right;\">\n",
       "      <th></th>\n",
       "      <th>models</th>\n",
       "      <th>accuracy</th>\n",
       "      <th>recall</th>\n",
       "      <th>precision</th>\n",
       "      <th>f1-score_test</th>\n",
       "      <th>f1-score_valid</th>\n",
       "    </tr>\n",
       "  </thead>\n",
       "  <tbody>\n",
       "    <tr>\n",
       "      <th>0</th>\n",
       "      <td>Logistic Regression</td>\n",
       "      <td>0.946</td>\n",
       "      <td>0.865</td>\n",
       "      <td>0.684</td>\n",
       "      <td>0.764</td>\n",
       "      <td>0.758037</td>\n",
       "    </tr>\n",
       "    <tr>\n",
       "      <th>1</th>\n",
       "      <td>Decision Tree</td>\n",
       "      <td>0.927</td>\n",
       "      <td>0.721</td>\n",
       "      <td>0.620</td>\n",
       "      <td>0.667</td>\n",
       "      <td>0.710737</td>\n",
       "    </tr>\n",
       "    <tr>\n",
       "      <th>2</th>\n",
       "      <td>Random Forest</td>\n",
       "      <td>0.945</td>\n",
       "      <td>0.482</td>\n",
       "      <td>0.957</td>\n",
       "      <td>0.641</td>\n",
       "      <td>0.684278</td>\n",
       "    </tr>\n",
       "    <tr>\n",
       "      <th>3</th>\n",
       "      <td>SGDClassifier</td>\n",
       "      <td>0.920</td>\n",
       "      <td>0.858</td>\n",
       "      <td>0.571</td>\n",
       "      <td>0.686</td>\n",
       "      <td>0.752571</td>\n",
       "    </tr>\n",
       "    <tr>\n",
       "      <th>4</th>\n",
       "      <td>BERT + Logistic Regression</td>\n",
       "      <td>0.900</td>\n",
       "      <td>0.842</td>\n",
       "      <td>0.941</td>\n",
       "      <td>0.889</td>\n",
       "      <td>0.855411</td>\n",
       "    </tr>\n",
       "  </tbody>\n",
       "</table>\n",
       "</div>"
      ],
      "text/plain": [
       "                       models  accuracy  ...  f1-score_test  f1-score_valid\n",
       "0         Logistic Regression     0.946  ...          0.764        0.758037\n",
       "1               Decision Tree     0.927  ...          0.667        0.710737\n",
       "2               Random Forest     0.945  ...          0.641        0.684278\n",
       "3               SGDClassifier     0.920  ...          0.686        0.752571\n",
       "4  BERT + Logistic Regression     0.900  ...          0.889        0.855411\n",
       "\n",
       "[5 rows x 6 columns]"
      ]
     },
     "metadata": {
      "tags": []
     },
     "output_type": "display_data"
    }
   ],
   "source": [
    "display('test', compare_table(models_list, features_test, features_test_b, target_test, target_test_b, f1_valid))"
   ]
  },
  {
   "cell_type": "markdown",
   "metadata": {
    "id": "c79ZSPun5fRG"
   },
   "source": [
    "Далее посмотрим, где именно наша модель логистической регрессии ошиблась (тем более, в датасете существует дисбаланс классов). Для этого построим матрицу ошибок по тестовой выборке.\n",
    "\n",
    "Сначала рассмотрим модель на основе TF-IDF."
   ]
  },
  {
   "cell_type": "code",
   "execution_count": 42,
   "metadata": {
    "colab": {
     "base_uri": "https://localhost:8080/",
     "height": 289
    },
    "id": "t-LFUnhc5fRG",
    "outputId": "39c2065c-bce6-4e4b-b8b1-67c83d7aad6c"
   },
   "outputs": [
    {
     "data": {
      "image/png": "[encoded data removed]",
      "text/plain": [
       "<Figure size 432x288 with 2 Axes>"
      ]
     },
     "metadata": {
      "needs_background": "light",
      "tags": []
     },
     "output_type": "display_data"
    }
   ],
   "source": [
    "fig = plt.figure()\n",
    "ax = fig.add_subplot(111)\n",
    "cm_ax = ax.matshow(confusion_matrix(target_test, model_lr.predict(features_test)))\n",
    "plt.title('Матрица ошибок, Logistic Regression + TF-IDF')\n",
    "fig.colorbar(cm_ax)\n",
    "plt.xlabel('Predict')\n",
    "plt.ylabel('True')\n",
    "\n",
    "for i in range(len(confusion_matrix(target_test, model_lr.predict(features_test)))):\n",
    "    for j in range(len(confusion_matrix(target_test, model_lr.predict(features_test)))):\n",
    "        text = ax.text(j, i, confusion_matrix(target_test, model_lr.predict(features_test))[i, j],\n",
    "                       ha=\"center\", va=\"center\", color=\"r\")"
   ]
  },
  {
   "cell_type": "markdown",
   "metadata": {
    "id": "NzTx_y9O5fRH"
   },
   "source": [
    "Получилось довольно большое количество ложноположительных ответов. Это значит, что модель слишком часто ошибается в пользу менее распространенного \"токсичного\" класса.\n",
    "\n",
    "Теперь посмотрим на матрицу ошибок для модели на основе эмбеддингов."
   ]
  },
  {
   "cell_type": "code",
   "execution_count": 43,
   "metadata": {
    "colab": {
     "base_uri": "https://localhost:8080/",
     "height": 289
    },
    "id": "KAe01j5Y5fRH",
    "outputId": "56ac5759-756e-4224-b204-aa43a3e556a9"
   },
   "outputs": [
    {
     "data": {
      "image/png": "[encoded data removed]",
      "text/plain": [
       "<Figure size 432x288 with 2 Axes>"
      ]
     },
     "metadata": {
      "needs_background": "light",
      "tags": []
     },
     "output_type": "display_data"
    }
   ],
   "source": [
    "fig = plt.figure()\n",
    "ax = fig.add_subplot(111)\n",
    "cm_ax = ax.matshow(confusion_matrix(target_test_b, model_lr_b.predict(features_test_b)))\n",
    "plt.title('Матрица ошибок, Logistic Regression + BERT')\n",
    "fig.colorbar(cm_ax)\n",
    "plt.xlabel('Predict')\n",
    "plt.ylabel('True')\n",
    "\n",
    "for i in range(len(confusion_matrix(target_test_b, model_lr_b.predict(features_test_b)))):\n",
    "    for j in range(len(confusion_matrix(target_test_b, model_lr_b.predict(features_test_b)))):\n",
    "        text = ax.text(j, i, confusion_matrix(target_test_b, model_lr_b.predict(features_test_b))[i, j],\n",
    "                       ha=\"center\", va=\"center\", color=\"r\")"
   ]
  },
  {
   "cell_type": "markdown",
   "metadata": {
    "id": "1ihUSlFO5fRH"
   },
   "source": [
    "Здесь, наоборот, больше ложноотрицательных ответов. Это значит, что модель немного чаще определяет комментарии, как нетоксичные. Но нужно учесть, что вывод может быть неточным из-за довольно малого количества наблюдений в тестовой выборке."
   ]
  },
  {
   "cell_type": "markdown",
   "metadata": {
    "id": "nwiqKjcb5fRH"
   },
   "source": [
    "### Вывод"
   ]
  },
  {
   "cell_type": "markdown",
   "metadata": {
    "id": "a2QMJxF15fRI"
   },
   "source": [
    "Как показала проверка на тестовой выборке, пороговое значение f1 перешагнула только логистическая регрессия. Остальные метрики у нее тоже выше. Отметим тот факт, что значение precision у модели на основе TF-IDF чуть меньше, чем recall. Это значит, что модель выдает чуть больше ложноположительных результатов (т.е. чаще признает нормальные комментарии токсичными), чем нужно. \n",
    "Обратная ситуация с логистической регрессией в комбинации с BERT: precision выше recall."
   ]
  },
  {
   "cell_type": "markdown",
   "metadata": {
    "id": "4dFO0t-V5fRI"
   },
   "source": [
    "## Общий вывод"
   ]
  },
  {
   "cell_type": "markdown",
   "metadata": {
    "id": "JhPz3AHI5fRI"
   },
   "source": [
    "В работе рассмотрено несколько моделей бинарной классификации. Лучший итог с TF-IDF выдала взвешенная логистическая регрессия, f1-score = 0.753 на валидационной выборке и 0.760 на тестовой). Модель немного завышает recall относительно precision. Это значит, что у нас будет много положительных ответов (в т.ч. и ложно) и мы \"зачерпнем\" много текстов, которые не являются токсичными.\n",
    "\n",
    "Скорее всего, здесь необходимо исходить из того, насколько нам важно выделять токсичные комментарии и вовремя обращать на них внимание. В первом случае, возможно, не так уж и плохо, что модель \"перестраховывается\": пользователи сервиса не будут видеть негатив и обсценную лексику, а репутация сервиса не пострадает. Во втором - есть риск завалить модераторов лишней работой.\n",
    "\n",
    "Логистическая регрессия в комбинации с BERT дала еще более высокие результаты: f1 = 0.855 на валидационной выборке и 0.889 на тестовой. Однако нужно учесть тот факт, что обучение и тестирование производилось на сильно усеченной выборке, хоть и сбалансированной по классам."
   ]
  }
 ],
 "metadata": {
  "ExecuteTimeLog": [
   {
    "duration": 541,
    "start_time": "2021-07-20T20:49:41.879Z"
   },
   {
    "duration": 8613,
    "start_time": "2021-07-20T20:49:47.746Z"
   },
   {
    "duration": 9609,
    "start_time": "2021-07-20T20:50:16.049Z"
   },
   {
    "duration": 5190,
    "start_time": "2021-07-21T11:08:42.772Z"
   },
   {
    "duration": 740,
    "start_time": "2021-07-21T11:08:47.964Z"
   },
   {
    "duration": 8,
    "start_time": "2021-07-21T11:09:33.890Z"
   },
   {
    "duration": 771,
    "start_time": "2021-07-21T11:10:52.089Z"
   },
   {
    "duration": 15,
    "start_time": "2021-07-21T11:12:41.723Z"
   },
   {
    "duration": 31,
    "start_time": "2021-07-21T11:15:43.551Z"
   },
   {
    "duration": 281,
    "start_time": "2021-07-21T11:16:45.607Z"
   },
   {
    "duration": 2803,
    "start_time": "2021-07-21T11:22:03.280Z"
   },
   {
    "duration": 502,
    "start_time": "2021-07-21T11:22:14.783Z"
   },
   {
    "duration": 10,
    "start_time": "2021-07-21T11:22:28.857Z"
   },
   {
    "duration": 1053,
    "start_time": "2021-07-21T11:22:39.916Z"
   },
   {
    "duration": 1056,
    "start_time": "2021-07-21T11:23:02.957Z"
   },
   {
    "duration": 6,
    "start_time": "2021-07-21T11:24:26.700Z"
   },
   {
    "duration": 1056,
    "start_time": "2021-07-21T11:27:19.422Z"
   },
   {
    "duration": 7,
    "start_time": "2021-07-21T11:27:42.986Z"
   },
   {
    "duration": 1092,
    "start_time": "2021-07-21T11:28:32.175Z"
   },
   {
    "duration": 1109,
    "start_time": "2021-07-21T11:28:34.879Z"
   },
   {
    "duration": 608,
    "start_time": "2021-07-21T11:29:42.149Z"
   },
   {
    "duration": 14029,
    "start_time": "2021-07-21T11:32:30.764Z"
   },
   {
    "duration": 14,
    "start_time": "2021-07-21T11:37:18.057Z"
   },
   {
    "duration": 14346,
    "start_time": "2021-07-21T11:37:29.181Z"
   },
   {
    "duration": 342,
    "start_time": "2021-07-21T11:38:46.511Z"
   },
   {
    "duration": 14548,
    "start_time": "2021-07-21T11:39:26.843Z"
   },
   {
    "duration": 6,
    "start_time": "2021-07-21T12:11:13.014Z"
   },
   {
    "duration": 7,
    "start_time": "2021-07-21T12:18:11.451Z"
   },
   {
    "duration": 1197,
    "start_time": "2021-07-21T12:20:51.061Z"
   },
   {
    "duration": 9,
    "start_time": "2021-07-21T12:20:53.824Z"
   },
   {
    "duration": 30,
    "start_time": "2021-07-21T12:20:55.204Z"
   },
   {
    "duration": 271,
    "start_time": "2021-07-21T12:20:55.798Z"
   },
   {
    "duration": 305,
    "start_time": "2021-07-21T12:20:57.102Z"
   },
   {
    "duration": 7,
    "start_time": "2021-07-21T12:21:47.117Z"
   },
   {
    "duration": 755,
    "start_time": "2021-07-21T12:21:48.999Z"
   },
   {
    "duration": 9,
    "start_time": "2021-07-21T12:21:51.178Z"
   },
   {
    "duration": 30,
    "start_time": "2021-07-21T12:21:52.250Z"
   },
   {
    "duration": 271,
    "start_time": "2021-07-21T12:21:52.823Z"
   },
   {
    "duration": 104,
    "start_time": "2021-07-21T12:21:53.776Z"
   },
   {
    "duration": 396,
    "start_time": "2021-07-21T12:22:32.447Z"
   },
   {
    "duration": 5669,
    "start_time": "2021-07-21T12:22:41.507Z"
   },
   {
    "duration": 1206,
    "start_time": "2021-07-21T12:22:47.179Z"
   },
   {
    "duration": 16,
    "start_time": "2021-07-21T12:22:50.624Z"
   },
   {
    "duration": 33,
    "start_time": "2021-07-21T12:22:51.918Z"
   },
   {
    "duration": 285,
    "start_time": "2021-07-21T12:22:52.515Z"
   },
   {
    "duration": 98,
    "start_time": "2021-07-21T12:22:53.102Z"
   },
   {
    "duration": 2381,
    "start_time": "2021-07-21T12:22:53.824Z"
   },
   {
    "duration": 1063,
    "start_time": "2021-07-21T12:22:57.955Z"
   },
   {
    "duration": 1054,
    "start_time": "2021-07-21T12:23:00.029Z"
   },
   {
    "duration": 780,
    "start_time": "2021-07-21T12:23:09.382Z"
   },
   {
    "duration": 7,
    "start_time": "2021-07-21T12:24:18.247Z"
   },
   {
    "duration": 319,
    "start_time": "2021-07-21T12:24:25.321Z"
   },
   {
    "duration": 359,
    "start_time": "2021-07-21T12:24:51.477Z"
   },
   {
    "duration": 319,
    "start_time": "2021-07-21T12:25:03.966Z"
   },
   {
    "duration": 290,
    "start_time": "2021-07-21T12:25:10.863Z"
   },
   {
    "duration": 11251,
    "start_time": "2021-07-21T12:25:45.644Z"
   },
   {
    "duration": 11677,
    "start_time": "2021-07-21T12:26:06.278Z"
   },
   {
    "duration": 3,
    "start_time": "2021-07-21T12:26:27.399Z"
   },
   {
    "duration": 13,
    "start_time": "2021-07-21T12:29:36.762Z"
   },
   {
    "duration": 59,
    "start_time": "2021-07-21T12:29:38.738Z"
   },
   {
    "duration": 243,
    "start_time": "2021-07-21T12:29:39.767Z"
   },
   {
    "duration": 5813,
    "start_time": "2021-07-21T12:29:52.722Z"
   },
   {
    "duration": 1219,
    "start_time": "2021-07-21T12:29:58.537Z"
   },
   {
    "duration": 18,
    "start_time": "2021-07-21T12:30:03.052Z"
   },
   {
    "duration": 31,
    "start_time": "2021-07-21T12:30:06.355Z"
   },
   {
    "duration": 284,
    "start_time": "2021-07-21T12:30:07.298Z"
   },
   {
    "duration": 2798,
    "start_time": "2021-07-21T12:30:10.069Z"
   },
   {
    "duration": 1076,
    "start_time": "2021-07-21T12:30:20.069Z"
   },
   {
    "duration": 972,
    "start_time": "2021-07-21T12:31:39.014Z"
   },
   {
    "duration": 5,
    "start_time": "2021-07-21T12:31:44.036Z"
   },
   {
    "duration": 717,
    "start_time": "2021-07-21T12:31:45.627Z"
   },
   {
    "duration": 94,
    "start_time": "2021-07-21T12:34:55.330Z"
   },
   {
    "duration": 832,
    "start_time": "2021-07-21T12:35:05.987Z"
   },
   {
    "duration": 6478,
    "start_time": "2021-07-21T21:11:47.647Z"
   },
   {
    "duration": 1406,
    "start_time": "2021-07-21T21:11:54.128Z"
   },
   {
    "duration": 20,
    "start_time": "2021-07-21T21:11:58.430Z"
   },
   {
    "duration": 33,
    "start_time": "2021-07-21T21:11:59.771Z"
   },
   {
    "duration": 305,
    "start_time": "2021-07-21T21:12:00.439Z"
   },
   {
    "duration": 3031,
    "start_time": "2021-07-21T21:12:01.697Z"
   },
   {
    "duration": 1102,
    "start_time": "2021-07-21T21:12:06.322Z"
   },
   {
    "duration": 117,
    "start_time": "2021-07-21T21:14:56.944Z"
   },
   {
    "duration": 1171,
    "start_time": "2021-07-21T21:15:11.702Z"
   },
   {
    "duration": 1191,
    "start_time": "2021-07-21T21:15:55.234Z"
   },
   {
    "duration": 400,
    "start_time": "2021-07-21T21:16:39.699Z"
   },
   {
    "duration": 769,
    "start_time": "2021-07-21T21:21:00.118Z"
   },
   {
    "duration": 617,
    "start_time": "2021-07-21T21:23:53.700Z"
   },
   {
    "duration": 5914,
    "start_time": "2021-07-21T21:33:14.770Z"
   },
   {
    "duration": 781,
    "start_time": "2021-07-21T21:33:20.687Z"
   },
   {
    "duration": 16,
    "start_time": "2021-07-21T21:33:25.431Z"
   },
   {
    "duration": 32,
    "start_time": "2021-07-21T21:33:27.147Z"
   },
   {
    "duration": 300,
    "start_time": "2021-07-21T21:33:27.826Z"
   },
   {
    "duration": 2860,
    "start_time": "2021-07-21T21:33:29.600Z"
   },
   {
    "duration": 1185,
    "start_time": "2021-07-21T21:33:33.536Z"
   },
   {
    "duration": 5,
    "start_time": "2021-07-21T21:34:03.365Z"
   },
   {
    "duration": 6222,
    "start_time": "2021-07-21T22:24:10.783Z"
   },
   {
    "duration": 815,
    "start_time": "2021-07-21T22:24:18.190Z"
   },
   {
    "duration": 16,
    "start_time": "2021-07-21T22:24:20.622Z"
   },
   {
    "duration": 34,
    "start_time": "2021-07-21T22:24:21.968Z"
   },
   {
    "duration": 321,
    "start_time": "2021-07-21T22:24:22.530Z"
   },
   {
    "duration": 2874,
    "start_time": "2021-07-21T22:24:24.875Z"
   },
   {
    "duration": 1147,
    "start_time": "2021-07-21T22:24:31.979Z"
   },
   {
    "duration": 9,
    "start_time": "2021-07-21T22:25:48.653Z"
   },
   {
    "duration": 8,
    "start_time": "2021-07-21T22:26:51.160Z"
   },
   {
    "duration": 3899,
    "start_time": "2021-07-21T22:27:29.297Z"
   },
   {
    "duration": 14528,
    "start_time": "2021-07-21T22:34:38.269Z"
   },
   {
    "duration": 142,
    "start_time": "2021-07-21T22:40:49.614Z"
   },
   {
    "duration": 15055,
    "start_time": "2021-07-21T22:40:51.939Z"
   },
   {
    "duration": 3,
    "start_time": "2021-07-21T22:41:08.531Z"
   },
   {
    "duration": 935,
    "start_time": "2021-07-21T22:41:20.830Z"
   },
   {
    "duration": 5,
    "start_time": "2021-07-21T22:42:14.786Z"
   },
   {
    "duration": 14973,
    "start_time": "2021-07-21T22:44:31.882Z"
   },
   {
    "duration": 5,
    "start_time": "2021-07-21T22:46:13.767Z"
   },
   {
    "duration": 9878,
    "start_time": "2021-07-21T22:46:17.516Z"
   },
   {
    "duration": 385,
    "start_time": "2021-07-21T22:47:19.988Z"
   },
   {
    "duration": 59,
    "start_time": "2021-07-21T22:47:44.856Z"
   },
   {
    "duration": 5971,
    "start_time": "2021-07-22T10:11:15.807Z"
   },
   {
    "duration": 720,
    "start_time": "2021-07-22T10:11:21.781Z"
   },
   {
    "duration": 10,
    "start_time": "2021-07-22T10:11:22.505Z"
   },
   {
    "duration": 30,
    "start_time": "2021-07-22T10:11:26.278Z"
   },
   {
    "duration": 313,
    "start_time": "2021-07-22T10:11:26.839Z"
   },
   {
    "duration": 2754,
    "start_time": "2021-07-22T10:11:27.682Z"
   },
   {
    "duration": 1052,
    "start_time": "2021-07-22T10:11:32.837Z"
   },
   {
    "duration": 121,
    "start_time": "2021-07-22T10:13:01.629Z"
   },
   {
    "duration": 888,
    "start_time": "2021-07-22T10:13:12.807Z"
   },
   {
    "duration": 5,
    "start_time": "2021-07-22T10:14:13.119Z"
   },
   {
    "duration": 48,
    "start_time": "2021-07-22T10:14:24.583Z"
   },
   {
    "duration": 1866,
    "start_time": "2021-07-22T10:16:52.054Z"
   },
   {
    "duration": 2902,
    "start_time": "2021-07-22T10:18:20.707Z"
   },
   {
    "duration": 155570,
    "start_time": "2021-07-22T10:19:05.423Z"
   },
   {
    "duration": 7225,
    "start_time": "2021-07-22T10:25:34.684Z"
   },
   {
    "duration": 739,
    "start_time": "2021-07-22T10:25:41.912Z"
   },
   {
    "duration": 16,
    "start_time": "2021-07-22T10:25:46.038Z"
   },
   {
    "duration": 29,
    "start_time": "2021-07-22T10:25:47.485Z"
   },
   {
    "duration": 278,
    "start_time": "2021-07-22T10:25:48.352Z"
   },
   {
    "duration": 2748,
    "start_time": "2021-07-22T10:25:49.737Z"
   },
   {
    "duration": 1166,
    "start_time": "2021-07-22T10:26:11.816Z"
   },
   {
    "duration": 1065,
    "start_time": "2021-07-22T10:26:19.759Z"
   },
   {
    "duration": 496480,
    "start_time": "2021-07-22T10:26:27.253Z"
   },
   {
    "duration": 8,
    "start_time": "2021-07-22T10:35:03.258Z"
   },
   {
    "duration": 7,
    "start_time": "2021-07-22T10:35:49.559Z"
   },
   {
    "duration": 121743,
    "start_time": "2021-07-22T10:42:22.012Z"
   },
   {
    "duration": 865,
    "start_time": "2021-07-22T10:50:24.100Z"
   },
   {
    "duration": 8,
    "start_time": "2021-07-22T10:50:27.182Z"
   },
   {
    "duration": 1095,
    "start_time": "2021-07-22T10:50:36.002Z"
   },
   {
    "duration": 132750,
    "start_time": "2021-07-22T10:51:10.903Z"
   },
   {
    "duration": 127,
    "start_time": "2021-07-22T10:57:50.326Z"
   },
   {
    "duration": 5567,
    "start_time": "2021-07-22T10:58:43.308Z"
   },
   {
    "duration": 730,
    "start_time": "2021-07-22T10:58:48.878Z"
   },
   {
    "duration": 15,
    "start_time": "2021-07-22T10:58:52.781Z"
   },
   {
    "duration": 30,
    "start_time": "2021-07-22T10:58:54.052Z"
   },
   {
    "duration": 274,
    "start_time": "2021-07-22T10:58:54.864Z"
   },
   {
    "duration": 1029,
    "start_time": "2021-07-22T10:58:56.230Z"
   },
   {
    "duration": 8077,
    "start_time": "2021-07-22T10:59:38.461Z"
   },
   {
    "duration": 928,
    "start_time": "2021-07-22T11:00:03.079Z"
   },
   {
    "duration": 4,
    "start_time": "2021-07-22T11:00:07.522Z"
   },
   {
    "duration": 121106,
    "start_time": "2021-07-22T11:00:12.045Z"
   },
   {
    "duration": 126,
    "start_time": "2021-07-22T11:03:46.695Z"
   },
   {
    "duration": 2314,
    "start_time": "2021-07-22T11:03:56.185Z"
   },
   {
    "duration": 10282,
    "start_time": "2021-07-22T11:04:37.097Z"
   },
   {
    "duration": 10671,
    "start_time": "2021-07-22T11:05:10.439Z"
   },
   {
    "duration": 6,
    "start_time": "2021-07-22T11:05:46.306Z"
   },
   {
    "duration": 998,
    "start_time": "2021-07-22T11:06:12.210Z"
   },
   {
    "duration": 6002,
    "start_time": "2021-07-22T11:12:05.973Z"
   },
   {
    "duration": 779,
    "start_time": "2021-07-22T11:12:11.978Z"
   },
   {
    "duration": 22,
    "start_time": "2021-07-22T11:12:12.761Z"
   },
   {
    "duration": 31,
    "start_time": "2021-07-22T11:12:14.629Z"
   },
   {
    "duration": 267,
    "start_time": "2021-07-22T11:12:15.208Z"
   },
   {
    "duration": 926,
    "start_time": "2021-07-22T11:12:15.793Z"
   },
   {
    "duration": 5,
    "start_time": "2021-07-22T11:12:17.706Z"
   },
   {
    "duration": 4,
    "start_time": "2021-07-22T11:12:18.833Z"
   },
   {
    "duration": 121240,
    "start_time": "2021-07-22T11:12:19.401Z"
   },
   {
    "duration": 126,
    "start_time": "2021-07-22T11:15:24.669Z"
   },
   {
    "duration": 2213,
    "start_time": "2021-07-22T11:15:25.949Z"
   },
   {
    "duration": 10597,
    "start_time": "2021-07-22T11:15:29.346Z"
   },
   {
    "duration": 10910,
    "start_time": "2021-07-22T11:15:39.946Z"
   },
   {
    "duration": 5,
    "start_time": "2021-07-22T11:15:52.438Z"
   },
   {
    "duration": 1526,
    "start_time": "2021-07-22T11:15:55.300Z"
   },
   {
    "duration": 10718,
    "start_time": "2021-07-22T11:16:50.496Z"
   },
   {
    "duration": 5,
    "start_time": "2021-07-22T11:17:04.131Z"
   },
   {
    "duration": 5831,
    "start_time": "2021-07-22T11:18:47.718Z"
   },
   {
    "duration": 722,
    "start_time": "2021-07-22T11:18:53.552Z"
   },
   {
    "duration": 15,
    "start_time": "2021-07-22T11:18:54.276Z"
   },
   {
    "duration": 28,
    "start_time": "2021-07-22T11:18:54.294Z"
   },
   {
    "duration": 291,
    "start_time": "2021-07-22T11:18:54.325Z"
   },
   {
    "duration": 931,
    "start_time": "2021-07-22T11:18:54.618Z"
   },
   {
    "duration": 4,
    "start_time": "2021-07-22T11:18:55.552Z"
   },
   {
    "duration": 7,
    "start_time": "2021-07-22T11:18:55.560Z"
   },
   {
    "duration": 120787,
    "start_time": "2021-07-22T11:18:55.570Z"
   },
   {
    "duration": 129,
    "start_time": "2021-07-22T11:20:56.359Z"
   },
   {
    "duration": 2213,
    "start_time": "2021-07-22T11:20:56.491Z"
   },
   {
    "duration": 10344,
    "start_time": "2021-07-22T11:20:58.706Z"
   },
   {
    "duration": 10650,
    "start_time": "2021-07-22T11:21:09.053Z"
   },
   {
    "duration": 5,
    "start_time": "2021-07-22T11:21:19.706Z"
   },
   {
    "duration": 3262,
    "start_time": "2021-07-22T11:21:19.714Z"
   },
   {
    "duration": 7787,
    "start_time": "2021-07-22T11:21:22.978Z"
   },
   {
    "duration": 71,
    "start_time": "2021-07-22T11:21:30.768Z"
   },
   {
    "duration": 8,
    "start_time": "2021-07-22T12:20:52.027Z"
   },
   {
    "duration": 1691,
    "start_time": "2021-07-22T12:21:28.438Z"
   },
   {
    "duration": 938,
    "start_time": "2021-07-22T12:21:59.204Z"
   },
   {
    "duration": 32278,
    "start_time": "2021-07-22T12:22:12.767Z"
   },
   {
    "duration": 7,
    "start_time": "2021-07-22T12:23:01.452Z"
   },
   {
    "duration": 29719,
    "start_time": "2021-07-22T12:24:51.549Z"
   },
   {
    "duration": 29630,
    "start_time": "2021-07-22T12:26:44.022Z"
   },
   {
    "duration": 31041,
    "start_time": "2021-07-22T12:27:22.215Z"
   },
   {
    "duration": 1036,
    "start_time": "2021-07-22T12:28:50.768Z"
   },
   {
    "duration": 1073,
    "start_time": "2021-07-22T12:29:12.042Z"
   },
   {
    "duration": 755502,
    "start_time": "2021-07-22T12:29:18.195Z"
   },
   {
    "duration": 2120,
    "start_time": "2021-07-22T12:42:28.214Z"
   },
   {
    "duration": 66,
    "start_time": "2021-07-22T12:42:31.988Z"
   },
   {
    "duration": 38,
    "start_time": "2021-07-22T13:48:39.154Z"
   },
   {
    "duration": 1526,
    "start_time": "2021-07-22T13:49:53.261Z"
   },
   {
    "duration": 5322,
    "start_time": "2021-07-22T19:43:42.963Z"
   },
   {
    "duration": 730,
    "start_time": "2021-07-22T19:43:48.288Z"
   },
   {
    "duration": 10,
    "start_time": "2021-07-22T19:43:49.021Z"
   },
   {
    "duration": 29,
    "start_time": "2021-07-22T19:43:49.034Z"
   },
   {
    "duration": 301,
    "start_time": "2021-07-22T19:43:49.066Z"
   },
   {
    "duration": 894,
    "start_time": "2021-07-22T19:43:49.370Z"
   },
   {
    "duration": 119406,
    "start_time": "2021-07-22T19:43:50.267Z"
   },
   {
    "duration": 142,
    "start_time": "2021-07-22T19:45:49.677Z"
   },
   {
    "duration": 2213,
    "start_time": "2021-07-22T19:45:49.822Z"
   },
   {
    "duration": 10180,
    "start_time": "2021-07-22T19:45:52.037Z"
   },
   {
    "duration": 10575,
    "start_time": "2021-07-22T19:46:02.219Z"
   },
   {
    "duration": 5,
    "start_time": "2021-07-22T19:46:12.797Z"
   },
   {
    "duration": 7003,
    "start_time": "2021-07-22T19:46:12.804Z"
   },
   {
    "duration": 5,
    "start_time": "2021-07-22T19:46:19.810Z"
   },
   {
    "duration": 7,
    "start_time": "2021-07-22T19:46:19.818Z"
   },
   {
    "duration": 7262,
    "start_time": "2021-07-22T19:46:19.827Z"
   },
   {
    "duration": 81,
    "start_time": "2021-07-22T19:46:27.091Z"
   },
   {
    "duration": 234798,
    "start_time": "2021-07-22T19:46:27.175Z"
   },
   {
    "duration": 357428,
    "start_time": "2021-07-22T19:52:39.251Z"
   },
   {
    "duration": 310996,
    "start_time": "2021-07-22T20:00:04.259Z"
   },
   {
    "duration": 128,
    "start_time": "2021-07-22T20:15:45.305Z"
   },
   {
    "duration": 3433,
    "start_time": "2021-07-22T20:17:09.413Z"
   },
   {
    "duration": 832,
    "start_time": "2021-07-22T20:17:58.593Z"
   },
   {
    "duration": 2576787,
    "start_time": "2021-07-22T20:18:10.127Z"
   },
   {
    "duration": 6,
    "start_time": "2021-07-22T21:04:06.250Z"
   },
   {
    "duration": 868,
    "start_time": "2021-07-22T21:04:06.259Z"
   },
   {
    "duration": 16,
    "start_time": "2021-07-22T21:04:07.130Z"
   },
   {
    "duration": 41,
    "start_time": "2021-07-22T21:04:07.149Z"
   },
   {
    "duration": 297,
    "start_time": "2021-07-22T21:04:07.192Z"
   },
   {
    "duration": 686316,
    "start_time": "2021-07-22T21:04:07.491Z"
   },
   {
    "duration": -378,
    "start_time": "2021-07-22T21:15:34.194Z"
   },
   {
    "duration": -384,
    "start_time": "2021-07-22T21:15:34.202Z"
   },
   {
    "duration": -389,
    "start_time": "2021-07-22T21:15:34.208Z"
   },
   {
    "duration": -392,
    "start_time": "2021-07-22T21:15:34.213Z"
   },
   {
    "duration": -397,
    "start_time": "2021-07-22T21:15:34.219Z"
   },
   {
    "duration": -403,
    "start_time": "2021-07-22T21:15:34.226Z"
   },
   {
    "duration": -407,
    "start_time": "2021-07-22T21:15:34.232Z"
   },
   {
    "duration": -411,
    "start_time": "2021-07-22T21:15:34.237Z"
   },
   {
    "duration": -417,
    "start_time": "2021-07-22T21:15:34.245Z"
   },
   {
    "duration": -420,
    "start_time": "2021-07-22T21:15:34.249Z"
   },
   {
    "duration": -425,
    "start_time": "2021-07-22T21:15:34.255Z"
   },
   {
    "duration": -428,
    "start_time": "2021-07-22T21:15:34.259Z"
   },
   {
    "duration": -432,
    "start_time": "2021-07-22T21:15:34.265Z"
   },
   {
    "duration": -436,
    "start_time": "2021-07-22T21:15:34.270Z"
   },
   {
    "duration": -439,
    "start_time": "2021-07-22T21:15:34.274Z"
   },
   {
    "duration": 5475,
    "start_time": "2021-07-22T21:16:10.135Z"
   },
   {
    "duration": 738,
    "start_time": "2021-07-22T21:16:15.613Z"
   },
   {
    "duration": 12,
    "start_time": "2021-07-22T21:16:16.354Z"
   },
   {
    "duration": 53,
    "start_time": "2021-07-22T21:16:16.370Z"
   },
   {
    "duration": 291,
    "start_time": "2021-07-22T21:16:16.426Z"
   },
   {
    "duration": 916,
    "start_time": "2021-07-22T21:16:16.720Z"
   },
   {
    "duration": 120763,
    "start_time": "2021-07-22T21:16:17.639Z"
   },
   {
    "duration": 136,
    "start_time": "2021-07-22T21:18:18.406Z"
   },
   {
    "duration": 2197,
    "start_time": "2021-07-22T21:18:18.545Z"
   },
   {
    "duration": 10166,
    "start_time": "2021-07-22T21:18:20.744Z"
   },
   {
    "duration": 10588,
    "start_time": "2021-07-22T21:18:30.913Z"
   },
   {
    "duration": 4,
    "start_time": "2021-07-22T21:18:41.504Z"
   },
   {
    "duration": 3211,
    "start_time": "2021-07-22T21:18:41.511Z"
   },
   {
    "duration": 6,
    "start_time": "2021-07-22T21:18:44.725Z"
   },
   {
    "duration": 8,
    "start_time": "2021-07-22T21:18:44.733Z"
   },
   {
    "duration": 5585,
    "start_time": "2021-07-22T21:18:44.743Z"
   },
   {
    "duration": 222,
    "start_time": "2021-07-22T21:18:50.526Z"
   },
   {
    "duration": 1556151,
    "start_time": "2021-07-22T21:18:50.750Z"
   },
   {
    "duration": 948924,
    "start_time": "2021-07-22T21:44:46.906Z"
   },
   {
    "duration": 367503,
    "start_time": "2021-07-22T22:00:35.833Z"
   },
   {
    "duration": 230215,
    "start_time": "2021-07-22T22:06:43.339Z"
   },
   {
    "duration": 4883,
    "start_time": "2021-07-23T18:24:59.715Z"
   },
   {
    "duration": 599,
    "start_time": "2021-07-23T18:25:04.599Z"
   },
   {
    "duration": 7,
    "start_time": "2021-07-23T18:25:06.584Z"
   },
   {
    "duration": 25,
    "start_time": "2021-07-23T18:25:07.964Z"
   },
   {
    "duration": 201,
    "start_time": "2021-07-23T18:25:08.638Z"
   },
   {
    "duration": 648,
    "start_time": "2021-07-23T18:25:09.274Z"
   },
   {
    "duration": 71356,
    "start_time": "2021-07-23T18:25:10.790Z"
   },
   {
    "duration": 95,
    "start_time": "2021-07-23T18:27:17.453Z"
   },
   {
    "duration": 1714,
    "start_time": "2021-07-23T18:27:18.682Z"
   },
   {
    "duration": 6791,
    "start_time": "2021-07-23T18:27:21.557Z"
   },
   {
    "duration": 7269,
    "start_time": "2021-07-23T18:27:30.324Z"
   },
   {
    "duration": 3,
    "start_time": "2021-07-23T18:27:38.576Z"
   },
   {
    "duration": 3555,
    "start_time": "2021-07-23T18:27:41.916Z"
   },
   {
    "duration": 882,
    "start_time": "2021-07-23T18:30:10.262Z"
   },
   {
    "duration": 4272,
    "start_time": "2021-07-23T23:16:44.119Z"
   },
   {
    "duration": 3202,
    "start_time": "2021-07-23T23:16:48.393Z"
   },
   {
    "duration": 11,
    "start_time": "2021-07-23T23:16:55.908Z"
   },
   {
    "duration": 28,
    "start_time": "2021-07-23T23:16:57.229Z"
   },
   {
    "duration": 210,
    "start_time": "2021-07-23T23:16:59.679Z"
   },
   {
    "duration": 5700,
    "start_time": "2021-07-25T12:59:26.718Z"
   },
   {
    "duration": 796,
    "start_time": "2021-07-25T12:59:35.418Z"
   },
   {
    "duration": 15,
    "start_time": "2021-07-25T12:59:37.320Z"
   },
   {
    "duration": 34,
    "start_time": "2021-07-25T12:59:38.388Z"
   },
   {
    "duration": 296,
    "start_time": "2021-07-25T12:59:39.937Z"
   },
   {
    "duration": 1019,
    "start_time": "2021-07-25T12:59:41.864Z"
   },
   {
    "duration": 983,
    "start_time": "2021-07-25T13:00:11.629Z"
   },
   {
    "duration": 134364,
    "start_time": "2021-07-25T13:00:17.194Z"
   },
   {
    "duration": 210,
    "start_time": "2021-07-25T13:03:03.184Z"
   },
   {
    "duration": 3005,
    "start_time": "2021-07-25T13:03:05.146Z"
   },
   {
    "duration": 18014,
    "start_time": "2021-07-25T13:03:10.383Z"
   },
   {
    "duration": 3,
    "start_time": "2021-07-25T13:03:30.805Z"
   },
   {
    "duration": 18585,
    "start_time": "2021-07-25T13:03:34.403Z"
   },
   {
    "duration": 7,
    "start_time": "2021-07-25T13:03:55.412Z"
   },
   {
    "duration": 6744,
    "start_time": "2021-07-25T13:03:57.051Z"
   },
   {
    "duration": 7,
    "start_time": "2021-07-25T13:04:14.252Z"
   },
   {
    "duration": 3,
    "start_time": "2021-07-25T13:04:17.572Z"
   },
   {
    "duration": 34601,
    "start_time": "2021-07-25T13:04:28.245Z"
   },
   {
    "duration": 44643,
    "start_time": "2021-07-25T13:05:10.733Z"
   },
   {
    "duration": 2209,
    "start_time": "2021-07-25T13:06:08.933Z"
   },
   {
    "duration": 65,
    "start_time": "2021-07-25T13:06:12.504Z"
   },
   {
    "duration": 5668,
    "start_time": "2021-07-26T11:43:28.641Z"
   },
   {
    "duration": 763,
    "start_time": "2021-07-26T11:43:35.976Z"
   },
   {
    "duration": 15,
    "start_time": "2021-07-26T11:43:38.143Z"
   },
   {
    "duration": 30,
    "start_time": "2021-07-26T11:43:39.267Z"
   },
   {
    "duration": 277,
    "start_time": "2021-07-26T11:43:40.289Z"
   },
   {
    "duration": 946,
    "start_time": "2021-07-26T11:43:41.668Z"
   },
   {
    "duration": 128474,
    "start_time": "2021-07-26T11:43:44.919Z"
   },
   {
    "duration": 133,
    "start_time": "2021-07-26T11:46:05.159Z"
   },
   {
    "duration": 2213,
    "start_time": "2021-07-26T11:46:07.233Z"
   },
   {
    "duration": 10947,
    "start_time": "2021-07-26T11:46:11.659Z"
   },
   {
    "duration": 2,
    "start_time": "2021-07-26T11:46:24.482Z"
   },
   {
    "duration": 11248,
    "start_time": "2021-07-26T11:46:26.391Z"
   },
   {
    "duration": 6,
    "start_time": "2021-07-26T11:46:38.686Z"
   },
   {
    "duration": 3664,
    "start_time": "2021-07-26T11:46:40.798Z"
   },
   {
    "duration": 6,
    "start_time": "2021-07-26T11:46:57.973Z"
   },
   {
    "duration": 7,
    "start_time": "2021-07-26T11:46:58.740Z"
   },
   {
    "duration": 4,
    "start_time": "2021-07-26T11:47:04.772Z"
   },
   {
    "duration": 3,
    "start_time": "2021-07-26T11:47:06.260Z"
   },
   {
    "duration": 4,
    "start_time": "2021-07-26T11:47:22.065Z"
   },
   {
    "duration": 2177,
    "start_time": "2021-07-26T11:47:34.934Z"
   },
   {
    "duration": 61,
    "start_time": "2021-07-26T11:47:39.757Z"
   },
   {
    "duration": 3,
    "start_time": "2021-07-26T11:47:42.681Z"
   },
   {
    "duration": 4,
    "start_time": "2021-07-26T11:47:43.774Z"
   },
   {
    "duration": 638591,
    "start_time": "2021-07-26T11:47:45.221Z"
   },
   {
    "duration": 750,
    "start_time": "2021-07-26T12:00:46.209Z"
   },
   {
    "duration": 81503,
    "start_time": "2021-07-26T12:01:38.088Z"
   },
   {
    "duration": 5,
    "start_time": "2021-07-26T12:03:23.295Z"
   },
   {
    "duration": 6,
    "start_time": "2021-07-26T12:07:53.738Z"
   },
   {
    "duration": 4,
    "start_time": "2021-07-26T12:07:55.558Z"
   },
   {
    "duration": 1156,
    "start_time": "2021-07-26T12:07:56.857Z"
   },
   {
    "duration": 7,
    "start_time": "2021-07-26T12:09:21.893Z"
   },
   {
    "duration": 4,
    "start_time": "2021-07-26T12:09:22.874Z"
   },
   {
    "duration": 1124,
    "start_time": "2021-07-26T12:09:23.699Z"
   },
   {
    "duration": 28411,
    "start_time": "2021-07-26T12:24:03.079Z"
   },
   {
    "duration": 63,
    "start_time": "2021-07-26T12:24:34.680Z"
   },
   {
    "duration": 226238,
    "start_time": "2021-07-26T12:24:56.089Z"
   },
   {
    "duration": 108181,
    "start_time": "2021-07-26T12:28:53.147Z"
   },
   {
    "duration": 10,
    "start_time": "2021-07-26T12:31:21.310Z"
   },
   {
    "duration": 4,
    "start_time": "2021-07-26T12:31:22.490Z"
   },
   {
    "duration": 923,
    "start_time": "2021-07-26T12:31:23.882Z"
   },
   {
    "duration": 8590,
    "start_time": "2021-07-26T17:34:35.684Z"
   },
   {
    "duration": 815,
    "start_time": "2021-07-26T17:35:02.074Z"
   },
   {
    "duration": 15,
    "start_time": "2021-07-26T17:35:03.852Z"
   },
   {
    "duration": 31,
    "start_time": "2021-07-26T17:35:04.761Z"
   },
   {
    "duration": 275,
    "start_time": "2021-07-26T17:35:05.775Z"
   },
   {
    "duration": 937,
    "start_time": "2021-07-26T17:35:06.831Z"
   },
   {
    "duration": 123,
    "start_time": "2021-07-26T17:35:18.453Z"
   },
   {
    "duration": 8,
    "start_time": "2021-07-26T17:36:31.572Z"
   },
   {
    "duration": 872,
    "start_time": "2021-07-26T17:38:29.532Z"
   },
   {
    "duration": 6,
    "start_time": "2021-07-26T17:38:39.510Z"
   },
   {
    "duration": 506,
    "start_time": "2021-07-26T17:38:46.878Z"
   },
   {
    "duration": 636,
    "start_time": "2021-07-26T17:39:16.285Z"
   },
   {
    "duration": 2222,
    "start_time": "2021-07-26T17:39:43.086Z"
   },
   {
    "duration": 10919,
    "start_time": "2021-07-26T17:39:47.471Z"
   },
   {
    "duration": 3,
    "start_time": "2021-07-26T17:40:00.429Z"
   },
   {
    "duration": 11553,
    "start_time": "2021-07-26T17:40:03.176Z"
   },
   {
    "duration": 6,
    "start_time": "2021-07-26T17:40:16.909Z"
   },
   {
    "duration": 9080,
    "start_time": "2021-07-26T17:40:18.191Z"
   },
   {
    "duration": 116,
    "start_time": "2021-07-26T17:51:26.865Z"
   },
   {
    "duration": 6048,
    "start_time": "2021-07-26T17:52:08.826Z"
   },
   {
    "duration": 802,
    "start_time": "2021-07-26T17:52:14.877Z"
   },
   {
    "duration": 16,
    "start_time": "2021-07-26T17:52:17.234Z"
   },
   {
    "duration": 30,
    "start_time": "2021-07-26T17:52:18.299Z"
   },
   {
    "duration": 263,
    "start_time": "2021-07-26T17:52:19.287Z"
   },
   {
    "duration": 879,
    "start_time": "2021-07-26T17:52:20.565Z"
   },
   {
    "duration": 118772,
    "start_time": "2021-07-26T17:52:24.193Z"
   },
   {
    "duration": 123,
    "start_time": "2021-07-26T17:56:04.466Z"
   },
   {
    "duration": 2201,
    "start_time": "2021-07-26T17:56:06.379Z"
   },
   {
    "duration": 12782,
    "start_time": "2021-07-26T17:56:10.839Z"
   },
   {
    "duration": 3,
    "start_time": "2021-07-26T17:56:25.920Z"
   },
   {
    "duration": 10596,
    "start_time": "2021-07-26T17:56:29.256Z"
   },
   {
    "duration": 5,
    "start_time": "2021-07-26T17:56:41.920Z"
   },
   {
    "duration": 8017,
    "start_time": "2021-07-26T17:56:43.687Z"
   },
   {
    "duration": 525,
    "start_time": "2021-07-26T17:57:01.726Z"
   },
   {
    "duration": 393,
    "start_time": "2021-07-26T17:57:13.258Z"
   },
   {
    "duration": 6123,
    "start_time": "2021-07-26T19:10:55.909Z"
   },
   {
    "duration": 736,
    "start_time": "2021-07-26T19:11:06.275Z"
   },
   {
    "duration": 14,
    "start_time": "2021-07-26T19:11:08.032Z"
   },
   {
    "duration": 31,
    "start_time": "2021-07-26T19:11:08.855Z"
   },
   {
    "duration": 276,
    "start_time": "2021-07-26T19:11:09.688Z"
   },
   {
    "duration": 906,
    "start_time": "2021-07-26T19:11:10.741Z"
   },
   {
    "duration": 120093,
    "start_time": "2021-07-26T19:11:12.941Z"
   },
   {
    "duration": 2145,
    "start_time": "2021-07-26T19:15:12.073Z"
   },
   {
    "duration": 900,
    "start_time": "2021-07-26T19:19:22.240Z"
   },
   {
    "duration": 2047,
    "start_time": "2021-07-26T19:21:16.517Z"
   },
   {
    "duration": 853,
    "start_time": "2021-07-26T19:21:52.367Z"
   },
   {
    "duration": 493,
    "start_time": "2021-07-26T19:22:01.236Z"
   },
   {
    "duration": 6,
    "start_time": "2021-07-26T19:27:12.006Z"
   },
   {
    "duration": 923,
    "start_time": "2021-07-26T19:28:08.794Z"
   },
   {
    "duration": 371,
    "start_time": "2021-07-26T19:29:58.766Z"
   },
   {
    "duration": 4,
    "start_time": "2021-07-26T19:30:30.757Z"
   },
   {
    "duration": 626,
    "start_time": "2021-07-26T19:30:32.120Z"
   },
   {
    "duration": 6,
    "start_time": "2021-07-26T19:31:54.625Z"
   },
   {
    "duration": 353,
    "start_time": "2021-07-26T19:34:02.741Z"
   },
   {
    "duration": 113,
    "start_time": "2021-07-26T19:34:39.594Z"
   },
   {
    "duration": 4964,
    "start_time": "2021-07-26T19:35:20.792Z"
   },
   {
    "duration": 423,
    "start_time": "2021-07-26T19:35:34.421Z"
   },
   {
    "duration": 10068,
    "start_time": "2021-07-26T19:38:04.914Z"
   },
   {
    "duration": 553,
    "start_time": "2021-07-26T19:56:23.159Z"
   },
   {
    "duration": 497,
    "start_time": "2021-07-26T19:58:47.048Z"
   },
   {
    "duration": 6,
    "start_time": "2021-07-26T20:00:31.881Z"
   },
   {
    "duration": 8,
    "start_time": "2021-07-26T20:01:22.297Z"
   },
   {
    "duration": 826,
    "start_time": "2021-07-26T20:01:23.979Z"
   },
   {
    "duration": 11,
    "start_time": "2021-07-26T20:01:26.018Z"
   },
   {
    "duration": 32,
    "start_time": "2021-07-26T20:01:26.799Z"
   },
   {
    "duration": 279,
    "start_time": "2021-07-26T20:01:27.406Z"
   },
   {
    "duration": 966,
    "start_time": "2021-07-26T20:01:28.638Z"
   },
   {
    "duration": 154130,
    "start_time": "2021-07-26T20:01:31.274Z"
   },
   {
    "duration": 4,
    "start_time": "2021-07-26T20:04:17.329Z"
   },
   {
    "duration": 126,
    "start_time": "2021-07-26T20:04:18.572Z"
   },
   {
    "duration": 2229,
    "start_time": "2021-07-26T20:04:20.357Z"
   },
   {
    "duration": 10180,
    "start_time": "2021-07-26T20:04:24.124Z"
   },
   {
    "duration": 3,
    "start_time": "2021-07-26T20:04:34.307Z"
   },
   {
    "duration": 10429,
    "start_time": "2021-07-26T20:04:36.413Z"
   },
   {
    "duration": 11,
    "start_time": "2021-07-26T20:04:46.845Z"
   },
   {
    "duration": 5670,
    "start_time": "2021-07-26T20:05:32.948Z"
   },
   {
    "duration": 417,
    "start_time": "2021-07-26T22:11:51.250Z"
   },
   {
    "duration": 2335,
    "start_time": "2021-07-26T22:12:43.507Z"
   },
   {
    "duration": 8,
    "start_time": "2021-07-26T22:12:55.796Z"
   },
   {
    "duration": 448,
    "start_time": "2021-07-26T22:13:02.021Z"
   },
   {
    "duration": 6104,
    "start_time": "2021-07-26T22:13:26.869Z"
   },
   {
    "duration": 741,
    "start_time": "2021-07-26T22:13:32.976Z"
   },
   {
    "duration": 14,
    "start_time": "2021-07-26T22:13:35.000Z"
   },
   {
    "duration": 32,
    "start_time": "2021-07-26T22:13:36.235Z"
   },
   {
    "duration": 275,
    "start_time": "2021-07-26T22:13:37.391Z"
   },
   {
    "duration": 890,
    "start_time": "2021-07-26T22:13:39.101Z"
   },
   {
    "duration": 149237,
    "start_time": "2021-07-26T22:13:41.849Z"
   },
   {
    "duration": 127,
    "start_time": "2021-07-26T22:16:18.872Z"
   },
   {
    "duration": 2297,
    "start_time": "2021-07-26T22:16:20.631Z"
   },
   {
    "duration": 9758,
    "start_time": "2021-07-26T22:16:24.334Z"
   },
   {
    "duration": 3,
    "start_time": "2021-07-26T22:16:35.961Z"
   },
   {
    "duration": 10518,
    "start_time": "2021-07-26T22:16:38.330Z"
   },
   {
    "duration": 4,
    "start_time": "2021-07-26T22:16:50.844Z"
   },
   {
    "duration": 6730,
    "start_time": "2021-07-26T22:16:52.333Z"
   },
   {
    "duration": 6,
    "start_time": "2021-07-26T22:17:02.865Z"
   },
   {
    "duration": 1740,
    "start_time": "2021-07-26T22:17:14.033Z"
   },
   {
    "duration": 3571,
    "start_time": "2021-07-26T22:18:58.906Z"
   },
   {
    "duration": 6695,
    "start_time": "2021-07-26T22:20:47.713Z"
   },
   {
    "duration": 12780,
    "start_time": "2021-07-26T22:21:34.330Z"
   },
   {
    "duration": 1435,
    "start_time": "2021-07-26T22:23:53.280Z"
   },
   {
    "duration": 18743,
    "start_time": "2021-07-26T22:24:21.085Z"
   },
   {
    "duration": 304348,
    "start_time": "2021-07-26T22:27:16.681Z"
   },
   {
    "duration": 13042,
    "start_time": "2021-07-26T22:34:09.013Z"
   },
   {
    "duration": 6122,
    "start_time": "2021-07-27T09:59:49.335Z"
   },
   {
    "duration": 774,
    "start_time": "2021-07-27T09:59:55.460Z"
   },
   {
    "duration": 15,
    "start_time": "2021-07-27T09:59:58.187Z"
   },
   {
    "duration": 31,
    "start_time": "2021-07-27T09:59:59.516Z"
   },
   {
    "duration": 281,
    "start_time": "2021-07-27T10:00:01.068Z"
   },
   {
    "duration": 1024,
    "start_time": "2021-07-27T10:00:03.250Z"
   },
   {
    "duration": 162219,
    "start_time": "2021-07-27T10:00:06.469Z"
   },
   {
    "duration": 130,
    "start_time": "2021-07-27T10:03:16.313Z"
   },
   {
    "duration": 2153,
    "start_time": "2021-07-27T10:03:19.114Z"
   },
   {
    "duration": 9977,
    "start_time": "2021-07-27T10:03:25.332Z"
   },
   {
    "duration": 3,
    "start_time": "2021-07-27T10:03:35.311Z"
   },
   {
    "duration": 18500,
    "start_time": "2021-07-27T10:04:49.412Z"
   },
   {
    "duration": 4,
    "start_time": "2021-07-27T10:05:09.674Z"
   },
   {
    "duration": 6250,
    "start_time": "2021-07-27T10:05:11.302Z"
   },
   {
    "duration": 4,
    "start_time": "2021-07-27T10:08:12.117Z"
   },
   {
    "duration": 3113,
    "start_time": "2021-07-27T10:08:29.921Z"
   },
   {
    "duration": 215403,
    "start_time": "2021-07-27T10:08:41.423Z"
   },
   {
    "duration": 79462,
    "start_time": "2021-07-27T10:13:08.900Z"
   },
   {
    "duration": 13674,
    "start_time": "2021-07-27T10:14:28.364Z"
   },
   {
    "duration": 6,
    "start_time": "2021-07-27T10:15:02.131Z"
   },
   {
    "duration": 4,
    "start_time": "2021-07-27T10:15:08.180Z"
   },
   {
    "duration": 804,
    "start_time": "2021-07-27T10:15:09.996Z"
   },
   {
    "duration": 932,
    "start_time": "2021-07-27T10:18:58.822Z"
   },
   {
    "duration": 6,
    "start_time": "2021-07-27T10:19:07.529Z"
   },
   {
    "duration": 1078,
    "start_time": "2021-07-27T10:19:15.061Z"
   },
   {
    "duration": 1085,
    "start_time": "2021-07-27T10:19:33.605Z"
   },
   {
    "duration": 7348,
    "start_time": "2021-07-27T10:19:47.482Z"
   },
   {
    "duration": 573065,
    "start_time": "2021-07-27T10:20:10.159Z"
   },
   {
    "duration": 2819,
    "start_time": "2021-07-27T10:34:35.484Z"
   },
   {
    "duration": 4,
    "start_time": "2021-07-27T10:34:56.389Z"
   },
   {
    "duration": 4,
    "start_time": "2021-07-27T10:35:09.170Z"
   },
   {
    "duration": 762,
    "start_time": "2021-07-27T10:35:10.328Z"
   },
   {
    "duration": 258833,
    "start_time": "2021-07-27T10:47:27.793Z"
   },
   {
    "duration": 6196,
    "start_time": "2021-07-27T11:22:05.805Z"
   },
   {
    "duration": 730,
    "start_time": "2021-07-27T11:22:12.004Z"
   },
   {
    "duration": 19,
    "start_time": "2021-07-27T11:22:12.737Z"
   },
   {
    "duration": 30,
    "start_time": "2021-07-27T11:22:12.759Z"
   },
   {
    "duration": 282,
    "start_time": "2021-07-27T11:22:12.792Z"
   },
   {
    "duration": 1000,
    "start_time": "2021-07-27T11:22:13.077Z"
   },
   {
    "duration": 160956,
    "start_time": "2021-07-27T11:22:14.079Z"
   },
   {
    "duration": 21,
    "start_time": "2021-07-27T11:24:55.038Z"
   },
   {
    "duration": 7,
    "start_time": "2021-07-27T11:24:55.063Z"
   },
   {
    "duration": 146,
    "start_time": "2021-07-27T11:24:55.072Z"
   },
   {
    "duration": 2250,
    "start_time": "2021-07-27T11:24:55.220Z"
   },
   {
    "duration": 12058,
    "start_time": "2021-07-27T11:24:57.472Z"
   },
   {
    "duration": 3,
    "start_time": "2021-07-27T11:25:09.532Z"
   },
   {
    "duration": 11785,
    "start_time": "2021-07-27T11:25:09.538Z"
   },
   {
    "duration": 4,
    "start_time": "2021-07-27T11:25:21.327Z"
   },
   {
    "duration": 4686,
    "start_time": "2021-07-27T11:25:21.334Z"
   },
   {
    "duration": 5,
    "start_time": "2021-07-27T11:25:26.023Z"
   },
   {
    "duration": 9,
    "start_time": "2021-07-27T11:25:26.031Z"
   },
   {
    "duration": 6,
    "start_time": "2021-07-27T11:25:26.056Z"
   },
   {
    "duration": 12,
    "start_time": "2021-07-27T11:25:26.065Z"
   },
   {
    "duration": 35241,
    "start_time": "2021-07-27T11:25:26.079Z"
   },
   {
    "duration": 120,
    "start_time": "2021-07-27T11:26:01.324Z"
   },
   {
    "duration": 78,
    "start_time": "2021-07-27T11:26:01.369Z"
   },
   {
    "duration": 76,
    "start_time": "2021-07-27T11:26:01.374Z"
   },
   {
    "duration": 74,
    "start_time": "2021-07-27T11:26:01.378Z"
   },
   {
    "duration": 73,
    "start_time": "2021-07-27T11:26:01.381Z"
   },
   {
    "duration": 72,
    "start_time": "2021-07-27T11:26:01.384Z"
   },
   {
    "duration": 71,
    "start_time": "2021-07-27T11:26:01.386Z"
   },
   {
    "duration": 71,
    "start_time": "2021-07-27T11:26:01.388Z"
   },
   {
    "duration": 71,
    "start_time": "2021-07-27T11:26:01.390Z"
   },
   {
    "duration": 69,
    "start_time": "2021-07-27T11:26:01.393Z"
   },
   {
    "duration": 68,
    "start_time": "2021-07-27T11:26:01.396Z"
   },
   {
    "duration": 68,
    "start_time": "2021-07-27T11:26:01.398Z"
   },
   {
    "duration": 67,
    "start_time": "2021-07-27T11:26:01.400Z"
   },
   {
    "duration": 68,
    "start_time": "2021-07-27T11:26:01.401Z"
   },
   {
    "duration": 67,
    "start_time": "2021-07-27T11:26:01.403Z"
   },
   {
    "duration": 67,
    "start_time": "2021-07-27T11:26:01.405Z"
   },
   {
    "duration": 67,
    "start_time": "2021-07-27T11:26:01.407Z"
   },
   {
    "duration": 67,
    "start_time": "2021-07-27T11:26:01.409Z"
   },
   {
    "duration": 8,
    "start_time": "2021-07-27T11:27:48.147Z"
   },
   {
    "duration": 757,
    "start_time": "2021-07-27T11:27:48.157Z"
   },
   {
    "duration": 10,
    "start_time": "2021-07-27T11:27:48.918Z"
   },
   {
    "duration": 52,
    "start_time": "2021-07-27T11:27:48.931Z"
   },
   {
    "duration": 280,
    "start_time": "2021-07-27T11:27:48.986Z"
   },
   {
    "duration": 1016263,
    "start_time": "2021-07-27T11:27:49.269Z"
   },
   {
    "duration": -22,
    "start_time": "2021-07-27T11:44:45.558Z"
   },
   {
    "duration": -23,
    "start_time": "2021-07-27T11:44:45.561Z"
   },
   {
    "duration": -31,
    "start_time": "2021-07-27T11:44:45.570Z"
   },
   {
    "duration": -34,
    "start_time": "2021-07-27T11:44:45.574Z"
   },
   {
    "duration": -34,
    "start_time": "2021-07-27T11:44:45.576Z"
   },
   {
    "duration": -35,
    "start_time": "2021-07-27T11:44:45.578Z"
   },
   {
    "duration": -35,
    "start_time": "2021-07-27T11:44:45.580Z"
   },
   {
    "duration": -36,
    "start_time": "2021-07-27T11:44:45.582Z"
   },
   {
    "duration": -37,
    "start_time": "2021-07-27T11:44:45.585Z"
   },
   {
    "duration": -39,
    "start_time": "2021-07-27T11:44:45.588Z"
   },
   {
    "duration": -43,
    "start_time": "2021-07-27T11:44:45.593Z"
   },
   {
    "duration": -43,
    "start_time": "2021-07-27T11:44:45.595Z"
   },
   {
    "duration": -45,
    "start_time": "2021-07-27T11:44:45.598Z"
   },
   {
    "duration": -46,
    "start_time": "2021-07-27T11:44:45.601Z"
   },
   {
    "duration": -47,
    "start_time": "2021-07-27T11:44:45.603Z"
   },
   {
    "duration": -48,
    "start_time": "2021-07-27T11:44:45.606Z"
   },
   {
    "duration": -47,
    "start_time": "2021-07-27T11:44:45.608Z"
   },
   {
    "duration": -47,
    "start_time": "2021-07-27T11:44:45.610Z"
   },
   {
    "duration": -46,
    "start_time": "2021-07-27T11:44:45.613Z"
   },
   {
    "duration": -46,
    "start_time": "2021-07-27T11:44:45.615Z"
   },
   {
    "duration": -46,
    "start_time": "2021-07-27T11:44:45.617Z"
   },
   {
    "duration": -46,
    "start_time": "2021-07-27T11:44:45.619Z"
   },
   {
    "duration": -56,
    "start_time": "2021-07-27T11:44:45.631Z"
   },
   {
    "duration": -58,
    "start_time": "2021-07-27T11:44:45.634Z"
   },
   {
    "duration": -58,
    "start_time": "2021-07-27T11:44:45.636Z"
   },
   {
    "duration": -59,
    "start_time": "2021-07-27T11:44:45.638Z"
   },
   {
    "duration": -60,
    "start_time": "2021-07-27T11:44:45.640Z"
   },
   {
    "duration": -60,
    "start_time": "2021-07-27T11:44:45.642Z"
   },
   {
    "duration": -61,
    "start_time": "2021-07-27T11:44:45.644Z"
   },
   {
    "duration": -62,
    "start_time": "2021-07-27T11:44:45.646Z"
   },
   {
    "duration": -63,
    "start_time": "2021-07-27T11:44:45.648Z"
   },
   {
    "duration": -64,
    "start_time": "2021-07-27T11:44:45.650Z"
   },
   {
    "duration": -65,
    "start_time": "2021-07-27T11:44:45.653Z"
   },
   {
    "duration": 6945,
    "start_time": "2021-07-27T11:47:04.091Z"
   },
   {
    "duration": 768,
    "start_time": "2021-07-27T11:47:11.038Z"
   },
   {
    "duration": 16,
    "start_time": "2021-07-27T11:47:11.810Z"
   },
   {
    "duration": 48,
    "start_time": "2021-07-27T11:47:11.829Z"
   },
   {
    "duration": 323,
    "start_time": "2021-07-27T11:47:11.879Z"
   },
   {
    "duration": 922,
    "start_time": "2021-07-27T11:47:12.205Z"
   },
   {
    "duration": 162845,
    "start_time": "2021-07-27T11:47:13.130Z"
   },
   {
    "duration": 21,
    "start_time": "2021-07-27T11:49:55.981Z"
   },
   {
    "duration": 4,
    "start_time": "2021-07-27T11:49:56.006Z"
   },
   {
    "duration": 170,
    "start_time": "2021-07-27T11:49:56.012Z"
   },
   {
    "duration": 2577,
    "start_time": "2021-07-27T11:49:56.185Z"
   },
   {
    "duration": 10636,
    "start_time": "2021-07-27T11:49:58.765Z"
   },
   {
    "duration": 3,
    "start_time": "2021-07-27T11:50:09.403Z"
   },
   {
    "duration": 11714,
    "start_time": "2021-07-27T11:50:09.408Z"
   },
   {
    "duration": 6,
    "start_time": "2021-07-27T11:50:21.125Z"
   },
   {
    "duration": 5789,
    "start_time": "2021-07-27T11:50:21.134Z"
   },
   {
    "duration": 8,
    "start_time": "2021-07-27T11:50:26.927Z"
   },
   {
    "duration": 11,
    "start_time": "2021-07-27T11:50:26.937Z"
   },
   {
    "duration": 4,
    "start_time": "2021-07-27T11:50:26.957Z"
   },
   {
    "duration": 12,
    "start_time": "2021-07-27T11:50:26.964Z"
   },
   {
    "duration": 34841,
    "start_time": "2021-07-27T11:50:26.979Z"
   },
   {
    "duration": 575671,
    "start_time": "2021-07-27T11:51:01.825Z"
   },
   {
    "duration": 2887,
    "start_time": "2021-07-27T12:00:37.502Z"
   },
   {
    "duration": 73,
    "start_time": "2021-07-27T12:00:40.392Z"
   },
   {
    "duration": 3,
    "start_time": "2021-07-27T12:00:40.468Z"
   },
   {
    "duration": 235461,
    "start_time": "2021-07-27T12:00:40.473Z"
   },
   {
    "duration": 218466,
    "start_time": "2021-07-27T12:04:35.937Z"
   },
   {
    "duration": 372638,
    "start_time": "2021-07-27T12:08:14.406Z"
   },
   {
    "duration": 247508,
    "start_time": "2021-07-27T12:14:27.047Z"
   },
   {
    "duration": 80807,
    "start_time": "2021-07-27T12:18:34.558Z"
   },
   {
    "duration": 1825,
    "start_time": "2021-07-27T12:19:55.367Z"
   },
   {
    "duration": 309112,
    "start_time": "2021-07-27T12:19:57.195Z"
   },
   {
    "duration": 13507,
    "start_time": "2021-07-27T12:25:06.309Z"
   },
   {
    "duration": 3,
    "start_time": "2021-07-27T12:25:19.818Z"
   },
   {
    "duration": 7,
    "start_time": "2021-07-27T12:25:19.823Z"
   },
   {
    "duration": 31,
    "start_time": "2021-07-27T12:25:19.832Z"
   },
   {
    "duration": 9,
    "start_time": "2021-07-27T12:25:19.866Z"
   },
   {
    "duration": 10,
    "start_time": "2021-07-27T12:25:19.877Z"
   },
   {
    "duration": 895,
    "start_time": "2021-07-27T12:25:19.890Z"
   },
   {
    "duration": 4,
    "start_time": "2021-07-27T12:27:49.640Z"
   },
   {
    "duration": 6804,
    "start_time": "2021-07-27T13:18:57.432Z"
   },
   {
    "duration": 818,
    "start_time": "2021-07-27T13:19:04.238Z"
   },
   {
    "duration": 18,
    "start_time": "2021-07-27T13:19:05.059Z"
   },
   {
    "duration": 31,
    "start_time": "2021-07-27T13:19:05.080Z"
   },
   {
    "duration": 323,
    "start_time": "2021-07-27T13:19:05.113Z"
   },
   {
    "duration": 924,
    "start_time": "2021-07-27T13:19:05.438Z"
   },
   {
    "duration": 159214,
    "start_time": "2021-07-27T13:19:06.365Z"
   },
   {
    "duration": 13,
    "start_time": "2021-07-27T13:21:45.583Z"
   },
   {
    "duration": 15,
    "start_time": "2021-07-27T13:21:45.599Z"
   },
   {
    "duration": 135,
    "start_time": "2021-07-27T13:21:45.616Z"
   },
   {
    "duration": 2209,
    "start_time": "2021-07-27T13:21:45.753Z"
   },
   {
    "duration": 10169,
    "start_time": "2021-07-27T13:21:47.965Z"
   },
   {
    "duration": 4,
    "start_time": "2021-07-27T13:21:58.136Z"
   },
   {
    "duration": 10856,
    "start_time": "2021-07-27T13:21:58.156Z"
   },
   {
    "duration": 5,
    "start_time": "2021-07-27T13:22:09.014Z"
   },
   {
    "duration": 3975,
    "start_time": "2021-07-27T13:22:09.021Z"
   },
   {
    "duration": 5,
    "start_time": "2021-07-27T13:22:12.999Z"
   },
   {
    "duration": 10,
    "start_time": "2021-07-27T13:22:13.006Z"
   },
   {
    "duration": 17,
    "start_time": "2021-07-27T13:22:13.019Z"
   },
   {
    "duration": 23,
    "start_time": "2021-07-27T13:22:13.038Z"
   },
   {
    "duration": 10,
    "start_time": "2021-07-27T13:22:13.064Z"
   },
   {
    "duration": 13,
    "start_time": "2021-07-27T13:22:13.076Z"
   },
   {
    "duration": 2991,
    "start_time": "2021-07-27T13:22:13.094Z"
   },
   {
    "duration": 71,
    "start_time": "2021-07-27T13:22:16.088Z"
   },
   {
    "duration": 33,
    "start_time": "2021-07-27T13:22:16.162Z"
   },
   {
    "duration": 74,
    "start_time": "2021-07-27T13:22:16.197Z"
   },
   {
    "duration": 219461,
    "start_time": "2021-07-27T13:22:16.274Z"
   },
   {
    "duration": 3,
    "start_time": "2021-07-27T13:25:55.738Z"
   },
   {
    "duration": 4,
    "start_time": "2021-07-27T13:25:55.756Z"
   },
   {
    "duration": 82050,
    "start_time": "2021-07-27T13:25:55.763Z"
   },
   {
    "duration": 3,
    "start_time": "2021-07-27T13:27:17.815Z"
   },
   {
    "duration": 16,
    "start_time": "2021-07-27T13:27:17.821Z"
   },
   {
    "duration": 13563,
    "start_time": "2021-07-27T13:27:17.839Z"
   },
   {
    "duration": 2,
    "start_time": "2021-07-27T13:27:31.405Z"
   },
   {
    "duration": 16,
    "start_time": "2021-07-27T13:27:31.409Z"
   },
   {
    "duration": 12,
    "start_time": "2021-07-27T13:27:31.428Z"
   },
   {
    "duration": 19,
    "start_time": "2021-07-27T13:27:31.442Z"
   },
   {
    "duration": 15,
    "start_time": "2021-07-27T13:27:31.464Z"
   },
   {
    "duration": 941,
    "start_time": "2021-07-27T13:27:31.481Z"
   },
   {
    "duration": 6025,
    "start_time": "2021-07-27T17:11:30.246Z"
   },
   {
    "duration": 701,
    "start_time": "2021-07-27T17:11:36.273Z"
   },
   {
    "duration": 11,
    "start_time": "2021-07-27T17:11:39.635Z"
   },
   {
    "duration": 26,
    "start_time": "2021-07-27T17:11:41.218Z"
   },
   {
    "duration": 204,
    "start_time": "2021-07-27T17:11:42.181Z"
   },
   {
    "duration": 627,
    "start_time": "2021-07-27T17:11:43.076Z"
   },
   {
    "duration": 106614,
    "start_time": "2021-07-27T17:11:44.028Z"
   },
   {
    "duration": 8,
    "start_time": "2021-07-27T17:13:30.644Z"
   },
   {
    "duration": 2,
    "start_time": "2021-07-27T17:14:00.651Z"
   },
   {
    "duration": 104,
    "start_time": "2021-07-27T17:14:01.460Z"
   },
   {
    "duration": 1708,
    "start_time": "2021-07-27T17:14:04.452Z"
   },
   {
    "duration": 6687,
    "start_time": "2021-07-27T17:14:08.833Z"
   },
   {
    "duration": 2,
    "start_time": "2021-07-27T17:14:15.522Z"
   },
   {
    "duration": 1425,
    "start_time": "2021-07-27T17:14:22.680Z"
   },
   {
    "duration": 271,
    "start_time": "2021-07-27T17:14:28.106Z"
   },
   {
    "duration": 130,
    "start_time": "2021-07-27T17:14:36.921Z"
   },
   {
    "duration": 257,
    "start_time": "2021-07-27T17:15:19.421Z"
   },
   {
    "duration": 15,
    "start_time": "2021-07-27T17:15:30.764Z"
   },
   {
    "duration": 15,
    "start_time": "2021-07-27T17:16:24.143Z"
   },
   {
    "duration": 6467,
    "start_time": "2021-07-27T17:19:57.219Z"
   },
   {
    "duration": 624,
    "start_time": "2021-07-27T17:20:03.688Z"
   },
   {
    "duration": 7,
    "start_time": "2021-07-27T17:20:04.314Z"
   },
   {
    "duration": 26,
    "start_time": "2021-07-27T17:20:05.861Z"
   },
   {
    "duration": 215,
    "start_time": "2021-07-27T17:20:06.943Z"
   },
   {
    "duration": 727,
    "start_time": "2021-07-27T17:20:07.981Z"
   },
   {
    "duration": 103998,
    "start_time": "2021-07-27T17:20:10.236Z"
   },
   {
    "duration": 100,
    "start_time": "2021-07-27T17:22:05.861Z"
   },
   {
    "duration": 1653,
    "start_time": "2021-07-27T17:22:10.920Z"
   },
   {
    "duration": 7206,
    "start_time": "2021-07-27T17:22:43.262Z"
   },
   {
    "duration": 3,
    "start_time": "2021-07-27T17:22:50.470Z"
   },
   {
    "duration": 7352,
    "start_time": "2021-07-27T17:23:33.317Z"
   },
   {
    "duration": 4,
    "start_time": "2021-07-27T17:23:43.609Z"
   },
   {
    "duration": 2498,
    "start_time": "2021-07-27T17:23:45.869Z"
   },
   {
    "duration": 796,
    "start_time": "2021-07-27T17:24:23.924Z"
   },
   {
    "duration": 328,
    "start_time": "2021-07-27T17:24:30.486Z"
   },
   {
    "duration": 107274,
    "start_time": "2021-07-27T17:24:32.970Z"
   },
   {
    "duration": 113022,
    "start_time": "2021-07-27T17:26:37.445Z"
   },
   {
    "duration": 293,
    "start_time": "2021-07-27T17:38:19.007Z"
   },
   {
    "duration": 5996,
    "start_time": "2021-07-27T17:38:41.723Z"
   },
   {
    "duration": 600,
    "start_time": "2021-07-27T17:38:47.721Z"
   },
   {
    "duration": 15,
    "start_time": "2021-07-27T17:38:50.180Z"
   },
   {
    "duration": 26,
    "start_time": "2021-07-27T17:38:51.131Z"
   },
   {
    "duration": 205,
    "start_time": "2021-07-27T17:38:51.975Z"
   },
   {
    "duration": 635,
    "start_time": "2021-07-27T17:38:53.032Z"
   },
   {
    "duration": 101919,
    "start_time": "2021-07-27T17:38:54.069Z"
   },
   {
    "duration": 8,
    "start_time": "2021-07-27T17:41:16.465Z"
   },
   {
    "duration": 3,
    "start_time": "2021-07-27T17:41:16.973Z"
   },
   {
    "duration": 103,
    "start_time": "2021-07-27T17:41:17.848Z"
   },
   {
    "duration": 1665,
    "start_time": "2021-07-27T17:41:20.494Z"
   },
   {
    "duration": 970,
    "start_time": "2021-07-27T17:41:30.127Z"
   },
   {
    "duration": 6609,
    "start_time": "2021-07-27T17:41:37.646Z"
   },
   {
    "duration": 2,
    "start_time": "2021-07-27T17:41:44.257Z"
   },
   {
    "duration": 7580,
    "start_time": "2021-07-27T17:41:44.261Z"
   },
   {
    "duration": 4,
    "start_time": "2021-07-27T17:41:51.842Z"
   },
   {
    "duration": 5828,
    "start_time": "2021-07-27T17:42:38.858Z"
   },
   {
    "duration": 596,
    "start_time": "2021-07-27T17:42:44.688Z"
   },
   {
    "duration": 12,
    "start_time": "2021-07-27T17:42:45.286Z"
   },
   {
    "duration": 41,
    "start_time": "2021-07-27T17:42:45.300Z"
   },
   {
    "duration": 205,
    "start_time": "2021-07-27T17:42:46.547Z"
   },
   {
    "duration": 816,
    "start_time": "2021-07-27T17:42:48.716Z"
   },
   {
    "duration": 103864,
    "start_time": "2021-07-27T17:42:50.842Z"
   },
   {
    "duration": 14,
    "start_time": "2021-07-27T17:46:26.309Z"
   },
   {
    "duration": 3,
    "start_time": "2021-07-27T17:46:27.758Z"
   },
   {
    "duration": 139,
    "start_time": "2021-07-27T17:46:29.723Z"
   },
   {
    "duration": 1991,
    "start_time": "2021-07-27T17:46:31.623Z"
   },
   {
    "duration": 10022,
    "start_time": "2021-07-27T17:46:34.800Z"
   },
   {
    "duration": 3,
    "start_time": "2021-07-27T17:46:44.824Z"
   },
   {
    "duration": 10372,
    "start_time": "2021-07-27T17:46:44.829Z"
   },
   {
    "duration": 4,
    "start_time": "2021-07-27T17:46:55.204Z"
   },
   {
    "duration": 2516,
    "start_time": "2021-07-27T17:46:57.077Z"
   },
   {
    "duration": 207,
    "start_time": "2021-07-27T17:47:12.894Z"
   },
   {
    "duration": 105561,
    "start_time": "2021-07-27T17:47:14.192Z"
   },
   {
    "duration": 111001,
    "start_time": "2021-07-27T17:48:59.755Z"
   },
   {
    "duration": 638,
    "start_time": "2021-07-27T17:51:05.922Z"
   },
   {
    "duration": 6102,
    "start_time": "2021-07-27T18:37:09.265Z"
   },
   {
    "duration": 649,
    "start_time": "2021-07-27T18:37:15.369Z"
   },
   {
    "duration": 11,
    "start_time": "2021-07-27T18:37:16.020Z"
   },
   {
    "duration": 35,
    "start_time": "2021-07-27T18:37:16.040Z"
   },
   {
    "duration": 251,
    "start_time": "2021-07-27T18:37:16.077Z"
   },
   {
    "duration": 661,
    "start_time": "2021-07-27T18:37:16.330Z"
   },
   {
    "duration": 113272,
    "start_time": "2021-07-27T18:37:16.993Z"
   },
   {
    "duration": 5,
    "start_time": "2021-07-27T18:39:10.268Z"
   },
   {
    "duration": 6,
    "start_time": "2021-07-27T18:39:10.276Z"
   },
   {
    "duration": 115,
    "start_time": "2021-07-27T18:39:10.283Z"
   },
   {
    "duration": 3401,
    "start_time": "2021-07-27T18:39:10.400Z"
   },
   {
    "duration": 8156,
    "start_time": "2021-07-27T18:39:13.803Z"
   },
   {
    "duration": 8394,
    "start_time": "2021-07-27T18:39:21.961Z"
   },
   {
    "duration": 4,
    "start_time": "2021-07-27T18:39:30.362Z"
   },
   {
    "duration": 2376,
    "start_time": "2021-07-27T18:39:30.368Z"
   },
   {
    "duration": 5,
    "start_time": "2021-07-27T18:39:32.746Z"
   },
   {
    "duration": 15,
    "start_time": "2021-07-27T18:39:32.753Z"
   },
   {
    "duration": 3,
    "start_time": "2021-07-27T18:39:32.771Z"
   },
   {
    "duration": 5,
    "start_time": "2021-07-27T18:39:32.776Z"
   },
   {
    "duration": 6,
    "start_time": "2021-07-27T18:39:32.783Z"
   },
   {
    "duration": 5,
    "start_time": "2021-07-27T18:39:32.791Z"
   },
   {
    "duration": 2405,
    "start_time": "2021-07-27T18:39:32.798Z"
   },
   {
    "duration": 69,
    "start_time": "2021-07-27T18:39:35.205Z"
   },
   {
    "duration": 2,
    "start_time": "2021-07-27T18:39:35.276Z"
   },
   {
    "duration": 5,
    "start_time": "2021-07-27T18:39:35.280Z"
   },
   {
    "duration": 173544,
    "start_time": "2021-07-27T18:39:35.289Z"
   },
   {
    "duration": 6,
    "start_time": "2021-07-27T18:42:28.835Z"
   },
   {
    "duration": 5,
    "start_time": "2021-07-27T18:42:28.843Z"
   },
   {
    "duration": 74111,
    "start_time": "2021-07-27T18:42:28.850Z"
   },
   {
    "duration": 2,
    "start_time": "2021-07-27T18:43:42.963Z"
   },
   {
    "duration": 11,
    "start_time": "2021-07-27T18:43:42.967Z"
   },
   {
    "duration": 10665,
    "start_time": "2021-07-27T18:43:42.979Z"
   },
   {
    "duration": 6,
    "start_time": "2021-07-27T18:43:53.646Z"
   },
   {
    "duration": 5,
    "start_time": "2021-07-27T18:43:53.654Z"
   },
   {
    "duration": 553,
    "start_time": "2021-07-27T18:43:53.661Z"
   },
   {
    "duration": 851,
    "start_time": "2021-07-27T18:43:54.216Z"
   },
   {
    "duration": 6,
    "start_time": "2021-07-27T18:45:39.396Z"
   },
   {
    "duration": 345,
    "start_time": "2021-07-27T18:45:51.009Z"
   },
   {
    "duration": 2,
    "start_time": "2021-07-27T19:36:09.273Z"
   },
   {
    "duration": 6652,
    "start_time": "2021-07-28T07:21:07.360Z"
   },
   {
    "duration": 755,
    "start_time": "2021-07-28T07:21:19.250Z"
   },
   {
    "duration": 47,
    "start_time": "2021-07-28T07:25:34.452Z"
   },
   {
    "duration": 38,
    "start_time": "2021-07-28T07:26:30.511Z"
   },
   {
    "duration": 620,
    "start_time": "2021-07-28T07:26:57.772Z"
   },
   {
    "duration": 803,
    "start_time": "2021-07-28T07:27:00.482Z"
   },
   {
    "duration": 38,
    "start_time": "2021-07-28T07:27:33.185Z"
   },
   {
    "duration": 4,
    "start_time": "2021-07-28T07:27:36.531Z"
   },
   {
    "duration": 633,
    "start_time": "2021-07-28T07:27:38.544Z"
   },
   {
    "duration": 10961,
    "start_time": "2021-07-28T07:27:41.558Z"
   },
   {
    "duration": 310,
    "start_time": "2021-07-28T07:28:02.924Z"
   },
   {
    "duration": 19054,
    "start_time": "2021-07-28T07:28:06.238Z"
   },
   {
    "duration": 7651,
    "start_time": "2021-07-28T10:30:06.915Z"
   },
   {
    "duration": 1133,
    "start_time": "2021-07-28T10:30:14.569Z"
   },
   {
    "duration": 16,
    "start_time": "2021-07-28T10:30:15.706Z"
   },
   {
    "duration": 56,
    "start_time": "2021-07-28T10:30:15.726Z"
   },
   {
    "duration": 406,
    "start_time": "2021-07-28T10:30:15.786Z"
   },
   {
    "duration": 1408,
    "start_time": "2021-07-28T10:30:16.195Z"
   },
   {
    "duration": 167712,
    "start_time": "2021-07-28T10:30:17.606Z"
   },
   {
    "duration": 8,
    "start_time": "2021-07-28T10:33:05.321Z"
   },
   {
    "duration": 154,
    "start_time": "2021-07-28T10:33:05.332Z"
   },
   {
    "duration": 2269,
    "start_time": "2021-07-28T10:33:05.488Z"
   },
   {
    "duration": 11519,
    "start_time": "2021-07-28T10:33:07.760Z"
   },
   {
    "duration": 11925,
    "start_time": "2021-07-28T10:33:19.282Z"
   },
   {
    "duration": 6,
    "start_time": "2021-07-28T10:33:31.210Z"
   },
   {
    "duration": 11120,
    "start_time": "2021-07-28T10:33:31.219Z"
   },
   {
    "duration": 7,
    "start_time": "2021-07-28T10:33:42.342Z"
   },
   {
    "duration": 13,
    "start_time": "2021-07-28T10:33:42.355Z"
   },
   {
    "duration": 12,
    "start_time": "2021-07-28T10:33:42.371Z"
   },
   {
    "duration": 14,
    "start_time": "2021-07-28T10:33:42.386Z"
   },
   {
    "duration": 13,
    "start_time": "2021-07-28T10:33:42.403Z"
   },
   {
    "duration": 3598,
    "start_time": "2021-07-28T10:33:42.419Z"
   },
   {
    "duration": 3,
    "start_time": "2021-07-28T10:33:46.020Z"
   },
   {
    "duration": 7,
    "start_time": "2021-07-28T10:33:46.025Z"
   },
   {
    "duration": 236483,
    "start_time": "2021-07-28T10:33:46.055Z"
   },
   {
    "duration": 16,
    "start_time": "2021-07-28T10:37:42.541Z"
   },
   {
    "duration": 6,
    "start_time": "2021-07-28T10:37:42.560Z"
   },
   {
    "duration": 84212,
    "start_time": "2021-07-28T10:37:42.569Z"
   },
   {
    "duration": 3,
    "start_time": "2021-07-28T10:39:06.785Z"
   },
   {
    "duration": 14,
    "start_time": "2021-07-28T10:39:06.791Z"
   },
   {
    "duration": 14766,
    "start_time": "2021-07-28T10:39:06.807Z"
   },
   {
    "duration": 44,
    "start_time": "2021-07-28T10:39:21.575Z"
   },
   {
    "duration": 643,
    "start_time": "2021-07-28T10:39:21.621Z"
   },
   {
    "duration": 1045,
    "start_time": "2021-07-28T10:39:22.267Z"
   },
   {
    "duration": 26,
    "start_time": "2021-07-28T10:39:23.314Z"
   },
   {
    "duration": 2786,
    "start_time": "2021-07-29T03:41:18.113Z"
   },
   {
    "duration": 2338,
    "start_time": "2021-07-29T03:41:22.181Z"
   },
   {
    "duration": 8951,
    "start_time": "2021-07-29T03:41:27.295Z"
   },
   {
    "duration": 607,
    "start_time": "2021-07-29T03:41:58.906Z"
   },
   {
    "duration": 11,
    "start_time": "2021-07-29T03:42:52.621Z"
   },
   {
    "duration": 25,
    "start_time": "2021-07-29T03:43:31.802Z"
   },
   {
    "duration": 209,
    "start_time": "2021-07-29T03:43:41.539Z"
   },
   {
    "duration": 648,
    "start_time": "2021-07-29T03:44:07.202Z"
   },
   {
    "duration": 95800,
    "start_time": "2021-07-29T03:45:16.642Z"
   },
   {
    "duration": 578,
    "start_time": "2021-07-29T03:56:08.566Z"
   },
   {
    "duration": 255,
    "start_time": "2021-07-29T03:56:20.863Z"
   },
   {
    "duration": 106,
    "start_time": "2021-07-29T03:56:27.484Z"
   },
   {
    "duration": 5,
    "start_time": "2021-07-29T03:56:32.353Z"
   },
   {
    "duration": 84,
    "start_time": "2021-07-29T03:56:50.345Z"
   },
   {
    "duration": 12,
    "start_time": "2021-07-29T03:56:52.035Z"
   },
   {
    "duration": 5047,
    "start_time": "2021-07-29T03:56:58.415Z"
   },
   {
    "duration": 5082,
    "start_time": "2021-07-29T03:57:05.605Z"
   },
   {
    "duration": 4,
    "start_time": "2021-07-29T03:57:10.689Z"
   },
   {
    "duration": 2090,
    "start_time": "2021-07-29T03:57:10.695Z"
   },
   {
    "duration": 5,
    "start_time": "2021-07-29T04:18:55.353Z"
   },
   {
    "duration": 2031,
    "start_time": "2021-07-29T04:19:08.325Z"
   },
   {
    "duration": 146884,
    "start_time": "2021-07-29T04:19:23.012Z"
   },
   {
    "duration": 60567,
    "start_time": "2021-07-29T04:23:16.609Z"
   },
   {
    "duration": 9925,
    "start_time": "2021-07-29T04:24:17.178Z"
   },
   {
    "duration": 25,
    "start_time": "2021-07-29T04:29:26.445Z"
   },
   {
    "duration": 5,
    "start_time": "2021-07-29T04:29:31.139Z"
   },
   {
    "duration": 606,
    "start_time": "2021-07-29T04:29:32.551Z"
   },
   {
    "duration": 613,
    "start_time": "2021-07-29T04:29:36.488Z"
   },
   {
    "duration": 20,
    "start_time": "2021-07-29T04:29:38.741Z"
   },
   {
    "duration": 17588,
    "start_time": "2021-07-29T04:29:40.244Z"
   },
   {
    "duration": 1360488,
    "start_time": "2021-07-29T04:30:20.762Z"
   },
   {
    "duration": 5,
    "start_time": "2021-07-29T04:56:09.677Z"
   },
   {
    "duration": 267,
    "start_time": "2021-07-29T04:56:11.124Z"
   },
   {
    "duration": 42,
    "start_time": "2021-07-29T04:57:50.980Z"
   },
   {
    "duration": 5,
    "start_time": "2021-07-29T04:58:00.386Z"
   },
   {
    "duration": 3,
    "start_time": "2021-07-29T04:58:03.808Z"
   },
   {
    "duration": 262,
    "start_time": "2021-07-29T04:58:05.357Z"
   },
   {
    "duration": 353,
    "start_time": "2021-07-29T04:58:09.390Z"
   },
   {
    "duration": 574,
    "start_time": "2021-07-29T04:58:13.304Z"
   },
   {
    "duration": 5063,
    "start_time": "2021-07-29T10:07:05.590Z"
   },
   {
    "duration": 565,
    "start_time": "2021-07-29T10:07:10.654Z"
   },
   {
    "duration": 11,
    "start_time": "2021-07-29T10:07:13.954Z"
   },
   {
    "duration": 25,
    "start_time": "2021-07-29T10:07:17.443Z"
   },
   {
    "duration": 196,
    "start_time": "2021-07-29T10:07:18.879Z"
   },
   {
    "duration": 585,
    "start_time": "2021-07-29T10:07:55.942Z"
   },
   {
    "duration": 1077,
    "start_time": "2021-07-29T10:08:22.737Z"
   },
   {
    "duration": 1504,
    "start_time": "2021-07-29T10:08:27.633Z"
   },
   {
    "duration": 220833,
    "start_time": "2021-07-29T10:08:53.969Z"
   },
   {
    "duration": 7,
    "start_time": "2021-07-29T10:12:59.642Z"
   },
   {
    "duration": 5,
    "start_time": "2021-07-29T10:13:22.580Z"
   },
   {
    "duration": 566,
    "start_time": "2021-07-29T10:13:24.285Z"
   },
   {
    "duration": 6,
    "start_time": "2021-07-29T10:13:26.491Z"
   },
   {
    "duration": 24,
    "start_time": "2021-07-29T10:13:27.700Z"
   },
   {
    "duration": 187,
    "start_time": "2021-07-29T10:13:29.440Z"
   },
   {
    "duration": 3,
    "start_time": "2021-07-29T10:13:38.614Z"
   },
   {
    "duration": 451,
    "start_time": "2021-07-29T10:13:48.096Z"
   },
   {
    "duration": 630,
    "start_time": "2021-07-29T10:16:00.557Z"
   },
   {
    "duration": 25,
    "start_time": "2021-07-29T10:19:13.088Z"
   },
   {
    "duration": 85,
    "start_time": "2021-07-29T10:25:04.876Z"
   },
   {
    "duration": 17,
    "start_time": "2021-07-29T10:25:17.885Z"
   },
   {
    "duration": 18,
    "start_time": "2021-07-29T10:25:56.886Z"
   },
   {
    "duration": 18,
    "start_time": "2021-07-29T10:26:38.346Z"
   },
   {
    "duration": 20,
    "start_time": "2021-07-29T10:27:09.580Z"
   },
   {
    "duration": 17,
    "start_time": "2021-07-29T10:29:28.562Z"
   },
   {
    "duration": 19,
    "start_time": "2021-07-29T10:29:59.877Z"
   },
   {
    "duration": 88,
    "start_time": "2021-07-29T11:27:16.847Z"
   },
   {
    "duration": 124,
    "start_time": "2021-07-29T11:28:10.660Z"
   },
   {
    "duration": 3,
    "start_time": "2021-07-29T11:30:02.816Z"
   },
   {
    "duration": 3,
    "start_time": "2021-07-29T11:30:14.187Z"
   },
   {
    "duration": 382,
    "start_time": "2021-07-29T11:30:27.907Z"
   },
   {
    "duration": 279,
    "start_time": "2021-07-29T11:31:30.008Z"
   },
   {
    "duration": 4,
    "start_time": "2021-07-29T11:31:43.204Z"
   },
   {
    "duration": 3,
    "start_time": "2021-07-29T11:32:01.684Z"
   },
   {
    "duration": 4,
    "start_time": "2021-07-29T11:32:10.959Z"
   },
   {
    "duration": 4,
    "start_time": "2021-07-29T11:33:24.144Z"
   },
   {
    "duration": 21,
    "start_time": "2021-07-29T11:34:21.041Z"
   },
   {
    "duration": 19,
    "start_time": "2021-07-29T11:35:06.461Z"
   },
   {
    "duration": 19,
    "start_time": "2021-07-29T11:35:19.177Z"
   },
   {
    "duration": 474,
    "start_time": "2021-07-29T11:35:26.506Z"
   },
   {
    "duration": 19,
    "start_time": "2021-07-29T11:36:04.458Z"
   },
   {
    "duration": 17,
    "start_time": "2021-07-29T11:37:33.525Z"
   },
   {
    "duration": 19,
    "start_time": "2021-07-29T11:37:48.984Z"
   },
   {
    "duration": 19,
    "start_time": "2021-07-29T11:38:23.655Z"
   },
   {
    "duration": 20,
    "start_time": "2021-07-29T11:38:58.605Z"
   },
   {
    "duration": 23,
    "start_time": "2021-07-29T11:39:31.999Z"
   },
   {
    "duration": 667,
    "start_time": "2021-07-29T11:39:54.431Z"
   },
   {
    "duration": 21,
    "start_time": "2021-07-29T11:40:46.734Z"
   },
   {
    "duration": 632,
    "start_time": "2021-07-29T11:42:05.033Z"
   },
   {
    "duration": 510,
    "start_time": "2021-07-29T11:43:03.439Z"
   },
   {
    "duration": 17,
    "start_time": "2021-07-29T11:44:17.342Z"
   },
   {
    "duration": 99,
    "start_time": "2021-07-29T11:46:03.803Z"
   },
   {
    "duration": 439,
    "start_time": "2021-07-29T11:46:19.444Z"
   },
   {
    "duration": 17,
    "start_time": "2021-07-29T11:46:47.468Z"
   },
   {
    "duration": 17,
    "start_time": "2021-07-29T11:47:26.507Z"
   },
   {
    "duration": 26,
    "start_time": "2021-07-29T11:49:49.998Z"
   },
   {
    "duration": 2014904,
    "start_time": "2021-07-29T11:50:05.039Z"
   },
   {
    "duration": 96,
    "start_time": "2021-07-29T12:24:46.585Z"
   },
   {
    "duration": 1770,
    "start_time": "2021-07-29T12:24:48.184Z"
   },
   {
    "duration": 133,
    "start_time": "2021-07-29T12:24:58.323Z"
   },
   {
    "duration": 5005,
    "start_time": "2021-07-29T12:26:01.044Z"
   },
   {
    "duration": 4856,
    "start_time": "2021-07-29T12:26:07.290Z"
   },
   {
    "duration": 3,
    "start_time": "2021-07-29T12:26:13.668Z"
   },
   {
    "duration": 2229,
    "start_time": "2021-07-29T12:26:14.775Z"
   },
   {
    "duration": 1252,
    "start_time": "2021-07-29T12:26:26.757Z"
   },
   {
    "duration": 4,
    "start_time": "2021-07-29T12:26:33.383Z"
   },
   {
    "duration": 269,
    "start_time": "2021-07-29T12:26:49.005Z"
   },
   {
    "duration": 3,
    "start_time": "2021-07-29T12:27:24.253Z"
   },
   {
    "duration": 33050,
    "start_time": "2021-07-29T12:27:31.017Z"
   },
   {
    "duration": 1044083,
    "start_time": "2021-07-29T12:29:42.351Z"
   },
   {
    "duration": 1959,
    "start_time": "2021-07-29T12:48:32.783Z"
   },
   {
    "duration": 792195,
    "start_time": "2021-07-29T12:48:43.640Z"
   },
   {
    "duration": 176857,
    "start_time": "2021-07-29T13:03:34.413Z"
   },
   {
    "duration": 260578,
    "start_time": "2021-07-29T13:07:21.454Z"
   },
   {
    "duration": 191643,
    "start_time": "2021-07-29T13:12:56.628Z"
   },
   {
    "duration": 1635,
    "start_time": "2021-07-29T13:17:52.944Z"
   },
   {
    "duration": 247813,
    "start_time": "2021-07-29T13:18:25.069Z"
   },
   {
    "duration": 721,
    "start_time": "2021-07-29T13:30:50.120Z"
   },
   {
    "duration": 478,
    "start_time": "2021-07-29T13:31:43.738Z"
   },
   {
    "duration": 659,
    "start_time": "2021-07-29T13:31:55.471Z"
   },
   {
    "duration": 4,
    "start_time": "2021-07-29T13:36:51.476Z"
   },
   {
    "duration": 9489,
    "start_time": "2021-08-03T07:12:09.886Z"
   },
   {
    "duration": 753,
    "start_time": "2021-08-03T07:12:19.377Z"
   },
   {
    "duration": 21,
    "start_time": "2021-08-03T07:12:20.133Z"
   },
   {
    "duration": 750,
    "start_time": "2021-08-03T07:12:23.220Z"
   },
   {
    "duration": 743,
    "start_time": "2021-08-03T07:12:25.627Z"
   },
   {
    "duration": 10,
    "start_time": "2021-08-03T07:12:28.219Z"
   },
   {
    "duration": 31,
    "start_time": "2021-08-03T07:12:29.580Z"
   },
   {
    "duration": 282,
    "start_time": "2021-08-03T07:12:30.441Z"
   },
   {
    "duration": 900,
    "start_time": "2021-08-03T07:12:37.673Z"
   },
   {
    "duration": 6,
    "start_time": "2021-08-03T07:13:07.202Z"
   },
   {
    "duration": 122589,
    "start_time": "2021-08-03T07:13:18.154Z"
   },
   {
    "duration": 138,
    "start_time": "2021-08-03T07:16:09.077Z"
   },
   {
    "duration": 4,
    "start_time": "2021-08-03T07:16:11.976Z"
   },
   {
    "duration": 8266,
    "start_time": "2021-08-03T07:16:24.315Z"
   },
   {
    "duration": 9613,
    "start_time": "2021-08-03T07:16:36.058Z"
   },
   {
    "duration": 5,
    "start_time": "2021-08-03T07:16:51.365Z"
   },
   {
    "duration": 2090,
    "start_time": "2021-08-03T07:16:52.990Z"
   },
   {
    "duration": 3867988,
    "start_time": "2021-08-03T07:19:11.594Z"
   }
  ],
  "colab": {
   "name": "toxic_text.ipynb",
   "provenance": []
  },
  "kernelspec": {
   "display_name": "Python 3",
   "language": "python",
   "name": "python3"
  },
  "language_info": {
   "codemirror_mode": {
    "name": "ipython",
    "version": 3
   },
   "file_extension": ".py",
   "mimetype": "text/x-python",
   "name": "python",
   "nbconvert_exporter": "python",
   "pygments_lexer": "ipython3",
   "version": "3.8.8"
  },
  "toc": {
   "base_numbering": 1,
   "nav_menu": {},
   "number_sections": true,
   "sideBar": true,
   "skip_h1_title": true,
   "title_cell": "Содержание",
   "title_sidebar": "Contents",
   "toc_cell": true,
   "toc_position": {
    "height": "calc(100% - 180px)",
    "left": "10px",
    "top": "150px",
    "width": "302.391px"
   },
   "toc_section_display": true,
   "toc_window_display": true
  },
  "widgets": {
   "application/vnd.jupyter.widget-state+json": {
    "0153f9c0e903491985dd6dad6a980854": {
     "model_module": "@jupyter-widgets/base",
     "model_module_version": "1.2.0",
     "model_name": "LayoutModel",
     "state": {
      "_model_module": "@jupyter-widgets/base",
      "_model_module_version": "1.2.0",
      "_model_name": "LayoutModel",
      "_view_count": null,
      "_view_module": "@jupyter-widgets/base",
      "_view_module_version": "1.2.0",
      "_view_name": "LayoutView",
      "align_content": null,
      "align_items": null,
      "align_self": null,
      "border": null,
      "bottom": null,
      "display": null,
      "flex": null,
      "flex_flow": null,
      "grid_area": null,
      "grid_auto_columns": null,
      "grid_auto_flow": null,
      "grid_auto_rows": null,
      "grid_column": null,
      "grid_gap": null,
      "grid_row": null,
      "grid_template_areas": null,
      "grid_template_columns": null,
      "grid_template_rows": null,
      "height": null,
      "justify_content": null,
      "justify_items": null,
      "left": null,
      "margin": null,
      "max_height": null,
      "max_width": null,
      "min_height": null,
      "min_width": null,
      "object_fit": null,
      "object_position": null,
      "order": null,
      "overflow": null,
      "overflow_x": null,
      "overflow_y": null,
      "padding": null,
      "right": null,
      "top": null,
      "visibility": null,
      "width": null
     }
    },
    "026d9c1bedb143968c97846147ec7a03": {
     "model_module": "@jupyter-widgets/controls",
     "model_module_version": "1.5.0",
     "model_name": "FloatProgressModel",
     "state": {
      "_dom_classes": [],
      "_model_module": "@jupyter-widgets/controls",
      "_model_module_version": "1.5.0",
      "_model_name": "FloatProgressModel",
      "_view_count": null,
      "_view_module": "@jupyter-widgets/controls",
      "_view_module_version": "1.5.0",
      "_view_name": "ProgressView",
      "bar_style": "success",
      "description": "",
      "description_tooltip": null,
      "layout": "IPY_MODEL_1be8e2627b4046d4a14d8abeb27426c4",
      "max": 28,
      "min": 0,
      "orientation": "horizontal",
      "style": "IPY_MODEL_ad2949626f184f458d7fddfae692c275",
      "value": 28
     }
    },
    "0d62bbaf43954c8fb7bf3c8c03a60041": {
     "model_module": "@jupyter-widgets/controls",
     "model_module_version": "1.5.0",
     "model_name": "DescriptionStyleModel",
     "state": {
      "_model_module": "@jupyter-widgets/controls",
      "_model_module_version": "1.5.0",
      "_model_name": "DescriptionStyleModel",
      "_view_count": null,
      "_view_module": "@jupyter-widgets/base",
      "_view_module_version": "1.2.0",
      "_view_name": "StyleView",
      "description_width": ""
     }
    },
    "1bbcdfc098da470eb14299164769a2b3": {
     "model_module": "@jupyter-widgets/base",
     "model_module_version": "1.2.0",
     "model_name": "LayoutModel",
     "state": {
      "_model_module": "@jupyter-widgets/base",
      "_model_module_version": "1.2.0",
      "_model_name": "LayoutModel",
      "_view_count": null,
      "_view_module": "@jupyter-widgets/base",
      "_view_module_version": "1.2.0",
      "_view_name": "LayoutView",
      "align_content": null,
      "align_items": null,
      "align_self": null,
      "border": null,
      "bottom": null,
      "display": null,
      "flex": null,
      "flex_flow": null,
      "grid_area": null,
      "grid_auto_columns": null,
      "grid_auto_flow": null,
      "grid_auto_rows": null,
      "grid_column": null,
      "grid_gap": null,
      "grid_row": null,
      "grid_template_areas": null,
      "grid_template_columns": null,
      "grid_template_rows": null,
      "height": null,
      "justify_content": null,
      "justify_items": null,
      "left": null,
      "margin": null,
      "max_height": null,
      "max_width": null,
      "min_height": null,
      "min_width": null,
      "object_fit": null,
      "object_position": null,
      "order": null,
      "overflow": null,
      "overflow_x": null,
      "overflow_y": null,
      "padding": null,
      "right": null,
      "top": null,
      "visibility": null,
      "width": null
     }
    },
    "1be8e2627b4046d4a14d8abeb27426c4": {
     "model_module": "@jupyter-widgets/base",
     "model_module_version": "1.2.0",
     "model_name": "LayoutModel",
     "state": {
      "_model_module": "@jupyter-widgets/base",
      "_model_module_version": "1.2.0",
      "_model_name": "LayoutModel",
      "_view_count": null,
      "_view_module": "@jupyter-widgets/base",
      "_view_module_version": "1.2.0",
      "_view_name": "LayoutView",
      "align_content": null,
      "align_items": null,
      "align_self": null,
      "border": null,
      "bottom": null,
      "display": null,
      "flex": null,
      "flex_flow": null,
      "grid_area": null,
      "grid_auto_columns": null,
      "grid_auto_flow": null,
      "grid_auto_rows": null,
      "grid_column": null,
      "grid_gap": null,
      "grid_row": null,
      "grid_template_areas": null,
      "grid_template_columns": null,
      "grid_template_rows": null,
      "height": null,
      "justify_content": null,
      "justify_items": null,
      "left": null,
      "margin": null,
      "max_height": null,
      "max_width": null,
      "min_height": null,
      "min_width": null,
      "object_fit": null,
      "object_position": null,
      "order": null,
      "overflow": null,
      "overflow_x": null,
      "overflow_y": null,
      "padding": null,
      "right": null,
      "top": null,
      "visibility": null,
      "width": null
     }
    },
    "244d5cafd32342528343f87ae534fa92": {
     "model_module": "@jupyter-widgets/controls",
     "model_module_version": "1.5.0",
     "model_name": "HBoxModel",
     "state": {
      "_dom_classes": [],
      "_model_module": "@jupyter-widgets/controls",
      "_model_module_version": "1.5.0",
      "_model_name": "HBoxModel",
      "_view_count": null,
      "_view_module": "@jupyter-widgets/controls",
      "_view_module_version": "1.5.0",
      "_view_name": "HBoxView",
      "box_style": "",
      "children": [
       "IPY_MODEL_f4c97422fce347428f5f68dee3745713",
       "IPY_MODEL_2714e0e215e04b6eb6facaad217f1e11",
       "IPY_MODEL_35ddc032b9a949cdb28264661594f61c"
      ],
      "layout": "IPY_MODEL_63357e21a72a493297143faa7056dfec"
     }
    },
    "24b4b4ff32a549aaacf8270c8837a6d9": {
     "model_module": "@jupyter-widgets/controls",
     "model_module_version": "1.5.0",
     "model_name": "DescriptionStyleModel",
     "state": {
      "_model_module": "@jupyter-widgets/controls",
      "_model_module_version": "1.5.0",
      "_model_name": "DescriptionStyleModel",
      "_view_count": null,
      "_view_module": "@jupyter-widgets/base",
      "_view_module_version": "1.2.0",
      "_view_name": "StyleView",
      "description_width": ""
     }
    },
    "26b7ada59de34a25b41868a160bbca90": {
     "model_module": "@jupyter-widgets/controls",
     "model_module_version": "1.5.0",
     "model_name": "HTMLModel",
     "state": {
      "_dom_classes": [],
      "_model_module": "@jupyter-widgets/controls",
      "_model_module_version": "1.5.0",
      "_model_name": "HTMLModel",
      "_view_count": null,
      "_view_module": "@jupyter-widgets/controls",
      "_view_module_version": "1.5.0",
      "_view_name": "HTMLView",
      "description": "",
      "description_tooltip": null,
      "layout": "IPY_MODEL_8d3577336c234f99abb590dc60cd9747",
      "placeholder": "​",
      "style": "IPY_MODEL_24b4b4ff32a549aaacf8270c8837a6d9",
      "value": "Downloading: 100%"
     }
    },
    "2714e0e215e04b6eb6facaad217f1e11": {
     "model_module": "@jupyter-widgets/controls",
     "model_module_version": "1.5.0",
     "model_name": "FloatProgressModel",
     "state": {
      "_dom_classes": [],
      "_model_module": "@jupyter-widgets/controls",
      "_model_module_version": "1.5.0",
      "_model_name": "FloatProgressModel",
      "_view_count": null,
      "_view_module": "@jupyter-widgets/controls",
      "_view_module_version": "1.5.0",
      "_view_name": "ProgressView",
      "bar_style": "success",
      "description": "",
      "description_tooltip": null,
      "layout": "IPY_MODEL_3e6df20a505f47719084c2bce1908d91",
      "max": 20,
      "min": 0,
      "orientation": "horizontal",
      "style": "IPY_MODEL_590baebfe14d4f9c9eed60276c2529da",
      "value": 20
     }
    },
    "272e59ba5c054cb1b970f560fbe0714a": {
     "model_module": "@jupyter-widgets/controls",
     "model_module_version": "1.5.0",
     "model_name": "HBoxModel",
     "state": {
      "_dom_classes": [],
      "_model_module": "@jupyter-widgets/controls",
      "_model_module_version": "1.5.0",
      "_model_name": "HBoxModel",
      "_view_count": null,
      "_view_module": "@jupyter-widgets/controls",
      "_view_module_version": "1.5.0",
      "_view_name": "HBoxView",
      "box_style": "",
      "children": [
       "IPY_MODEL_781840bebd014585a416f78432eadbb9",
       "IPY_MODEL_2b79b872561c4a5897c0388704b84cf5",
       "IPY_MODEL_3f26585897db42b6943b385a0e140fa3"
      ],
      "layout": "IPY_MODEL_b3649dd83da04b29be972eecedcdb596"
     }
    },
    "2aa362cfec34429cb44d2bd7a488af97": {
     "model_module": "@jupyter-widgets/controls",
     "model_module_version": "1.5.0",
     "model_name": "DescriptionStyleModel",
     "state": {
      "_model_module": "@jupyter-widgets/controls",
      "_model_module_version": "1.5.0",
      "_model_name": "DescriptionStyleModel",
      "_view_count": null,
      "_view_module": "@jupyter-widgets/base",
      "_view_module_version": "1.2.0",
      "_view_name": "StyleView",
      "description_width": ""
     }
    },
    "2b79b872561c4a5897c0388704b84cf5": {
     "model_module": "@jupyter-widgets/controls",
     "model_module_version": "1.5.0",
     "model_name": "FloatProgressModel",
     "state": {
      "_dom_classes": [],
      "_model_module": "@jupyter-widgets/controls",
      "_model_module_version": "1.5.0",
      "_model_name": "FloatProgressModel",
      "_view_count": null,
      "_view_module": "@jupyter-widgets/controls",
      "_view_module_version": "1.5.0",
      "_view_name": "ProgressView",
      "bar_style": "success",
      "description": "",
      "description_tooltip": null,
      "layout": "IPY_MODEL_866db340824b435bab0df3e5cb443519",
      "max": 570,
      "min": 0,
      "orientation": "horizontal",
      "style": "IPY_MODEL_863706c21f894adc87a14b420ad5138f",
      "value": 570
     }
    },
    "35ddc032b9a949cdb28264661594f61c": {
     "model_module": "@jupyter-widgets/controls",
     "model_module_version": "1.5.0",
     "model_name": "HTMLModel",
     "state": {
      "_dom_classes": [],
      "_model_module": "@jupyter-widgets/controls",
      "_model_module_version": "1.5.0",
      "_model_name": "HTMLModel",
      "_view_count": null,
      "_view_module": "@jupyter-widgets/controls",
      "_view_module_version": "1.5.0",
      "_view_name": "HTMLView",
      "description": "",
      "description_tooltip": null,
      "layout": "IPY_MODEL_f7ecc9cd089344bcb59ded7f4a643adc",
      "placeholder": "​",
      "style": "IPY_MODEL_7f8b4d9ec3364ba38d707ad5edefcb4a",
      "value": " 20/20 [07:38&lt;00:00, 22.70s/it]"
     }
    },
    "35e48bc7f1514ff08bc49218a5125796": {
     "model_module": "@jupyter-widgets/controls",
     "model_module_version": "1.5.0",
     "model_name": "DescriptionStyleModel",
     "state": {
      "_model_module": "@jupyter-widgets/controls",
      "_model_module_version": "1.5.0",
      "_model_name": "DescriptionStyleModel",
      "_view_count": null,
      "_view_module": "@jupyter-widgets/base",
      "_view_module_version": "1.2.0",
      "_view_name": "StyleView",
      "description_width": ""
     }
    },
    "36c102d3cabf4d5d88a040a986303141": {
     "model_module": "@jupyter-widgets/base",
     "model_module_version": "1.2.0",
     "model_name": "LayoutModel",
     "state": {
      "_model_module": "@jupyter-widgets/base",
      "_model_module_version": "1.2.0",
      "_model_name": "LayoutModel",
      "_view_count": null,
      "_view_module": "@jupyter-widgets/base",
      "_view_module_version": "1.2.0",
      "_view_name": "LayoutView",
      "align_content": null,
      "align_items": null,
      "align_self": null,
      "border": null,
      "bottom": null,
      "display": null,
      "flex": null,
      "flex_flow": null,
      "grid_area": null,
      "grid_auto_columns": null,
      "grid_auto_flow": null,
      "grid_auto_rows": null,
      "grid_column": null,
      "grid_gap": null,
      "grid_row": null,
      "grid_template_areas": null,
      "grid_template_columns": null,
      "grid_template_rows": null,
      "height": null,
      "justify_content": null,
      "justify_items": null,
      "left": null,
      "margin": null,
      "max_height": null,
      "max_width": null,
      "min_height": null,
      "min_width": null,
      "object_fit": null,
      "object_position": null,
      "order": null,
      "overflow": null,
      "overflow_x": null,
      "overflow_y": null,
      "padding": null,
      "right": null,
      "top": null,
      "visibility": null,
      "width": null
     }
    },
    "3ac8b645870641d4891b16680691049d": {
     "model_module": "@jupyter-widgets/controls",
     "model_module_version": "1.5.0",
     "model_name": "HBoxModel",
     "state": {
      "_dom_classes": [],
      "_model_module": "@jupyter-widgets/controls",
      "_model_module_version": "1.5.0",
      "_model_name": "HBoxModel",
      "_view_count": null,
      "_view_module": "@jupyter-widgets/controls",
      "_view_module_version": "1.5.0",
      "_view_name": "HBoxView",
      "box_style": "",
      "children": [
       "IPY_MODEL_a0d6e94dd5b64d0d98add2b912e13f8b",
       "IPY_MODEL_b08480cbcf4b4d088ca41ad470d2a24c",
       "IPY_MODEL_9fc0007e4a324c96a52a545290d956f3"
      ],
      "layout": "IPY_MODEL_8c33a47beb734629b10829deceb59612"
     }
    },
    "3b640cb75bda41fda2ebba62e67b898e": {
     "model_module": "@jupyter-widgets/controls",
     "model_module_version": "1.5.0",
     "model_name": "HTMLModel",
     "state": {
      "_dom_classes": [],
      "_model_module": "@jupyter-widgets/controls",
      "_model_module_version": "1.5.0",
      "_model_name": "HTMLModel",
      "_view_count": null,
      "_view_module": "@jupyter-widgets/controls",
      "_view_module_version": "1.5.0",
      "_view_name": "HTMLView",
      "description": "",
      "description_tooltip": null,
      "layout": "IPY_MODEL_b44915d3ba404523bcfec74c070a8755",
      "placeholder": "​",
      "style": "IPY_MODEL_ccf663c5c39049729eba9c8f5f699a60",
      "value": "Downloading: 100%"
     }
    },
    "3d0094f023104b4a810cfb2f0ab8b724": {
     "model_module": "@jupyter-widgets/controls",
     "model_module_version": "1.5.0",
     "model_name": "HBoxModel",
     "state": {
      "_dom_classes": [],
      "_model_module": "@jupyter-widgets/controls",
      "_model_module_version": "1.5.0",
      "_model_name": "HBoxModel",
      "_view_count": null,
      "_view_module": "@jupyter-widgets/controls",
      "_view_module_version": "1.5.0",
      "_view_name": "HBoxView",
      "box_style": "",
      "children": [
       "IPY_MODEL_3b640cb75bda41fda2ebba62e67b898e",
       "IPY_MODEL_7f654897b1b348c585ce46f9a6a35763",
       "IPY_MODEL_d1637bc370fc43e9974ea415153159cd"
      ],
      "layout": "IPY_MODEL_e9e220c3fe934c67a170166b510ea9ca"
     }
    },
    "3e6df20a505f47719084c2bce1908d91": {
     "model_module": "@jupyter-widgets/base",
     "model_module_version": "1.2.0",
     "model_name": "LayoutModel",
     "state": {
      "_model_module": "@jupyter-widgets/base",
      "_model_module_version": "1.2.0",
      "_model_name": "LayoutModel",
      "_view_count": null,
      "_view_module": "@jupyter-widgets/base",
      "_view_module_version": "1.2.0",
      "_view_name": "LayoutView",
      "align_content": null,
      "align_items": null,
      "align_self": null,
      "border": null,
      "bottom": null,
      "display": null,
      "flex": null,
      "flex_flow": null,
      "grid_area": null,
      "grid_auto_columns": null,
      "grid_auto_flow": null,
      "grid_auto_rows": null,
      "grid_column": null,
      "grid_gap": null,
      "grid_row": null,
      "grid_template_areas": null,
      "grid_template_columns": null,
      "grid_template_rows": null,
      "height": null,
      "justify_content": null,
      "justify_items": null,
      "left": null,
      "margin": null,
      "max_height": null,
      "max_width": null,
      "min_height": null,
      "min_width": null,
      "object_fit": null,
      "object_position": null,
      "order": null,
      "overflow": null,
      "overflow_x": null,
      "overflow_y": null,
      "padding": null,
      "right": null,
      "top": null,
      "visibility": null,
      "width": null
     }
    },
    "3f26585897db42b6943b385a0e140fa3": {
     "model_module": "@jupyter-widgets/controls",
     "model_module_version": "1.5.0",
     "model_name": "HTMLModel",
     "state": {
      "_dom_classes": [],
      "_model_module": "@jupyter-widgets/controls",
      "_model_module_version": "1.5.0",
      "_model_name": "HTMLModel",
      "_view_count": null,
      "_view_module": "@jupyter-widgets/controls",
      "_view_module_version": "1.5.0",
      "_view_name": "HTMLView",
      "description": "",
      "description_tooltip": null,
      "layout": "IPY_MODEL_a21195301a9d422480abf29279594d38",
      "placeholder": "​",
      "style": "IPY_MODEL_62d69675bec54a70bdaf843ddc7ea34a",
      "value": " 570/570 [00:00&lt;00:00, 12.0kB/s]"
     }
    },
    "414a47de6a9a4234a8c437ba0df617ef": {
     "model_module": "@jupyter-widgets/controls",
     "model_module_version": "1.5.0",
     "model_name": "ProgressStyleModel",
     "state": {
      "_model_module": "@jupyter-widgets/controls",
      "_model_module_version": "1.5.0",
      "_model_name": "ProgressStyleModel",
      "_view_count": null,
      "_view_module": "@jupyter-widgets/base",
      "_view_module_version": "1.2.0",
      "_view_name": "StyleView",
      "bar_color": null,
      "description_width": ""
     }
    },
    "43cfcf8ef5db495a808903d2914959a3": {
     "model_module": "@jupyter-widgets/controls",
     "model_module_version": "1.5.0",
     "model_name": "HTMLModel",
     "state": {
      "_dom_classes": [],
      "_model_module": "@jupyter-widgets/controls",
      "_model_module_version": "1.5.0",
      "_model_name": "HTMLModel",
      "_view_count": null,
      "_view_module": "@jupyter-widgets/controls",
      "_view_module_version": "1.5.0",
      "_view_name": "HTMLView",
      "description": "",
      "description_tooltip": null,
      "layout": "IPY_MODEL_73a916e5d63b4cb5be287f32c3552c74",
      "placeholder": "​",
      "style": "IPY_MODEL_a4c03d627de14b7a842737fdd4349004",
      "value": " 28.0/28.0 [00:00&lt;00:00, 654B/s]"
     }
    },
    "49e27f8de915427282d1e27a3b8b34b7": {
     "model_module": "@jupyter-widgets/base",
     "model_module_version": "1.2.0",
     "model_name": "LayoutModel",
     "state": {
      "_model_module": "@jupyter-widgets/base",
      "_model_module_version": "1.2.0",
      "_model_name": "LayoutModel",
      "_view_count": null,
      "_view_module": "@jupyter-widgets/base",
      "_view_module_version": "1.2.0",
      "_view_name": "LayoutView",
      "align_content": null,
      "align_items": null,
      "align_self": null,
      "border": null,
      "bottom": null,
      "display": null,
      "flex": null,
      "flex_flow": null,
      "grid_area": null,
      "grid_auto_columns": null,
      "grid_auto_flow": null,
      "grid_auto_rows": null,
      "grid_column": null,
      "grid_gap": null,
      "grid_row": null,
      "grid_template_areas": null,
      "grid_template_columns": null,
      "grid_template_rows": null,
      "height": null,
      "justify_content": null,
      "justify_items": null,
      "left": null,
      "margin": null,
      "max_height": null,
      "max_width": null,
      "min_height": null,
      "min_width": null,
      "object_fit": null,
      "object_position": null,
      "order": null,
      "overflow": null,
      "overflow_x": null,
      "overflow_y": null,
      "padding": null,
      "right": null,
      "top": null,
      "visibility": null,
      "width": null
     }
    },
    "507d84e6bcca441bbaf79097770b2574": {
     "model_module": "@jupyter-widgets/base",
     "model_module_version": "1.2.0",
     "model_name": "LayoutModel",
     "state": {
      "_model_module": "@jupyter-widgets/base",
      "_model_module_version": "1.2.0",
      "_model_name": "LayoutModel",
      "_view_count": null,
      "_view_module": "@jupyter-widgets/base",
      "_view_module_version": "1.2.0",
      "_view_name": "LayoutView",
      "align_content": null,
      "align_items": null,
      "align_self": null,
      "border": null,
      "bottom": null,
      "display": null,
      "flex": null,
      "flex_flow": null,
      "grid_area": null,
      "grid_auto_columns": null,
      "grid_auto_flow": null,
      "grid_auto_rows": null,
      "grid_column": null,
      "grid_gap": null,
      "grid_row": null,
      "grid_template_areas": null,
      "grid_template_columns": null,
      "grid_template_rows": null,
      "height": null,
      "justify_content": null,
      "justify_items": null,
      "left": null,
      "margin": null,
      "max_height": null,
      "max_width": null,
      "min_height": null,
      "min_width": null,
      "object_fit": null,
      "object_position": null,
      "order": null,
      "overflow": null,
      "overflow_x": null,
      "overflow_y": null,
      "padding": null,
      "right": null,
      "top": null,
      "visibility": null,
      "width": null
     }
    },
    "55d39688f7444c239a990e14ae07f742": {
     "model_module": "@jupyter-widgets/controls",
     "model_module_version": "1.5.0",
     "model_name": "HTMLModel",
     "state": {
      "_dom_classes": [],
      "_model_module": "@jupyter-widgets/controls",
      "_model_module_version": "1.5.0",
      "_model_name": "HTMLModel",
      "_view_count": null,
      "_view_module": "@jupyter-widgets/controls",
      "_view_module_version": "1.5.0",
      "_view_name": "HTMLView",
      "description": "",
      "description_tooltip": null,
      "layout": "IPY_MODEL_77a7e6c32954493dbdaeaefb1b1e2267",
      "placeholder": "​",
      "style": "IPY_MODEL_7327f58d45c14f96b81929cf657cd0f1",
      "value": " 232k/232k [00:00&lt;00:00, 960kB/s]"
     }
    },
    "590baebfe14d4f9c9eed60276c2529da": {
     "model_module": "@jupyter-widgets/controls",
     "model_module_version": "1.5.0",
     "model_name": "ProgressStyleModel",
     "state": {
      "_model_module": "@jupyter-widgets/controls",
      "_model_module_version": "1.5.0",
      "_model_name": "ProgressStyleModel",
      "_view_count": null,
      "_view_module": "@jupyter-widgets/base",
      "_view_module_version": "1.2.0",
      "_view_name": "StyleView",
      "bar_color": null,
      "description_width": ""
     }
    },
    "62052533cac343d981f81d06f3bd41e6": {
     "model_module": "@jupyter-widgets/controls",
     "model_module_version": "1.5.0",
     "model_name": "FloatProgressModel",
     "state": {
      "_dom_classes": [],
      "_model_module": "@jupyter-widgets/controls",
      "_model_module_version": "1.5.0",
      "_model_name": "FloatProgressModel",
      "_view_count": null,
      "_view_module": "@jupyter-widgets/controls",
      "_view_module_version": "1.5.0",
      "_view_name": "ProgressView",
      "bar_style": "success",
      "description": "",
      "description_tooltip": null,
      "layout": "IPY_MODEL_507d84e6bcca441bbaf79097770b2574",
      "max": 231508,
      "min": 0,
      "orientation": "horizontal",
      "style": "IPY_MODEL_d504b5c19a354881a3aa26cac887bf65",
      "value": 231508
     }
    },
    "62d69675bec54a70bdaf843ddc7ea34a": {
     "model_module": "@jupyter-widgets/controls",
     "model_module_version": "1.5.0",
     "model_name": "DescriptionStyleModel",
     "state": {
      "_model_module": "@jupyter-widgets/controls",
      "_model_module_version": "1.5.0",
      "_model_name": "DescriptionStyleModel",
      "_view_count": null,
      "_view_module": "@jupyter-widgets/base",
      "_view_module_version": "1.2.0",
      "_view_name": "StyleView",
      "description_width": ""
     }
    },
    "63357e21a72a493297143faa7056dfec": {
     "model_module": "@jupyter-widgets/base",
     "model_module_version": "1.2.0",
     "model_name": "LayoutModel",
     "state": {
      "_model_module": "@jupyter-widgets/base",
      "_model_module_version": "1.2.0",
      "_model_name": "LayoutModel",
      "_view_count": null,
      "_view_module": "@jupyter-widgets/base",
      "_view_module_version": "1.2.0",
      "_view_name": "LayoutView",
      "align_content": null,
      "align_items": null,
      "align_self": null,
      "border": null,
      "bottom": null,
      "display": null,
      "flex": null,
      "flex_flow": null,
      "grid_area": null,
      "grid_auto_columns": null,
      "grid_auto_flow": null,
      "grid_auto_rows": null,
      "grid_column": null,
      "grid_gap": null,
      "grid_row": null,
      "grid_template_areas": null,
      "grid_template_columns": null,
      "grid_template_rows": null,
      "height": null,
      "justify_content": null,
      "justify_items": null,
      "left": null,
      "margin": null,
      "max_height": null,
      "max_width": null,
      "min_height": null,
      "min_width": null,
      "object_fit": null,
      "object_position": null,
      "order": null,
      "overflow": null,
      "overflow_x": null,
      "overflow_y": null,
      "padding": null,
      "right": null,
      "top": null,
      "visibility": null,
      "width": null
     }
    },
    "7327f58d45c14f96b81929cf657cd0f1": {
     "model_module": "@jupyter-widgets/controls",
     "model_module_version": "1.5.0",
     "model_name": "DescriptionStyleModel",
     "state": {
      "_model_module": "@jupyter-widgets/controls",
      "_model_module_version": "1.5.0",
      "_model_name": "DescriptionStyleModel",
      "_view_count": null,
      "_view_module": "@jupyter-widgets/base",
      "_view_module_version": "1.2.0",
      "_view_name": "StyleView",
      "description_width": ""
     }
    },
    "73a916e5d63b4cb5be287f32c3552c74": {
     "model_module": "@jupyter-widgets/base",
     "model_module_version": "1.2.0",
     "model_name": "LayoutModel",
     "state": {
      "_model_module": "@jupyter-widgets/base",
      "_model_module_version": "1.2.0",
      "_model_name": "LayoutModel",
      "_view_count": null,
      "_view_module": "@jupyter-widgets/base",
      "_view_module_version": "1.2.0",
      "_view_name": "LayoutView",
      "align_content": null,
      "align_items": null,
      "align_self": null,
      "border": null,
      "bottom": null,
      "display": null,
      "flex": null,
      "flex_flow": null,
      "grid_area": null,
      "grid_auto_columns": null,
      "grid_auto_flow": null,
      "grid_auto_rows": null,
      "grid_column": null,
      "grid_gap": null,
      "grid_row": null,
      "grid_template_areas": null,
      "grid_template_columns": null,
      "grid_template_rows": null,
      "height": null,
      "justify_content": null,
      "justify_items": null,
      "left": null,
      "margin": null,
      "max_height": null,
      "max_width": null,
      "min_height": null,
      "min_width": null,
      "object_fit": null,
      "object_position": null,
      "order": null,
      "overflow": null,
      "overflow_x": null,
      "overflow_y": null,
      "padding": null,
      "right": null,
      "top": null,
      "visibility": null,
      "width": null
     }
    },
    "77a7e6c32954493dbdaeaefb1b1e2267": {
     "model_module": "@jupyter-widgets/base",
     "model_module_version": "1.2.0",
     "model_name": "LayoutModel",
     "state": {
      "_model_module": "@jupyter-widgets/base",
      "_model_module_version": "1.2.0",
      "_model_name": "LayoutModel",
      "_view_count": null,
      "_view_module": "@jupyter-widgets/base",
      "_view_module_version": "1.2.0",
      "_view_name": "LayoutView",
      "align_content": null,
      "align_items": null,
      "align_self": null,
      "border": null,
      "bottom": null,
      "display": null,
      "flex": null,
      "flex_flow": null,
      "grid_area": null,
      "grid_auto_columns": null,
      "grid_auto_flow": null,
      "grid_auto_rows": null,
      "grid_column": null,
      "grid_gap": null,
      "grid_row": null,
      "grid_template_areas": null,
      "grid_template_columns": null,
      "grid_template_rows": null,
      "height": null,
      "justify_content": null,
      "justify_items": null,
      "left": null,
      "margin": null,
      "max_height": null,
      "max_width": null,
      "min_height": null,
      "min_width": null,
      "object_fit": null,
      "object_position": null,
      "order": null,
      "overflow": null,
      "overflow_x": null,
      "overflow_y": null,
      "padding": null,
      "right": null,
      "top": null,
      "visibility": null,
      "width": null
     }
    },
    "781840bebd014585a416f78432eadbb9": {
     "model_module": "@jupyter-widgets/controls",
     "model_module_version": "1.5.0",
     "model_name": "HTMLModel",
     "state": {
      "_dom_classes": [],
      "_model_module": "@jupyter-widgets/controls",
      "_model_module_version": "1.5.0",
      "_model_name": "HTMLModel",
      "_view_count": null,
      "_view_module": "@jupyter-widgets/controls",
      "_view_module_version": "1.5.0",
      "_view_name": "HTMLView",
      "description": "",
      "description_tooltip": null,
      "layout": "IPY_MODEL_49e27f8de915427282d1e27a3b8b34b7",
      "placeholder": "​",
      "style": "IPY_MODEL_0d62bbaf43954c8fb7bf3c8c03a60041",
      "value": "Downloading: 100%"
     }
    },
    "7f654897b1b348c585ce46f9a6a35763": {
     "model_module": "@jupyter-widgets/controls",
     "model_module_version": "1.5.0",
     "model_name": "FloatProgressModel",
     "state": {
      "_dom_classes": [],
      "_model_module": "@jupyter-widgets/controls",
      "_model_module_version": "1.5.0",
      "_model_name": "FloatProgressModel",
      "_view_count": null,
      "_view_module": "@jupyter-widgets/controls",
      "_view_module_version": "1.5.0",
      "_view_name": "ProgressView",
      "bar_style": "success",
      "description": "",
      "description_tooltip": null,
      "layout": "IPY_MODEL_aa40f6e5e7f84dc394fdc205ba3fde30",
      "max": 466062,
      "min": 0,
      "orientation": "horizontal",
      "style": "IPY_MODEL_944d8d4f6d1a491ca2194c202a957669",
      "value": 466062
     }
    },
    "7f8b4d9ec3364ba38d707ad5edefcb4a": {
     "model_module": "@jupyter-widgets/controls",
     "model_module_version": "1.5.0",
     "model_name": "DescriptionStyleModel",
     "state": {
      "_model_module": "@jupyter-widgets/controls",
      "_model_module_version": "1.5.0",
      "_model_name": "DescriptionStyleModel",
      "_view_count": null,
      "_view_module": "@jupyter-widgets/base",
      "_view_module_version": "1.2.0",
      "_view_name": "StyleView",
      "description_width": ""
     }
    },
    "813abbbf19024c84a5ce769abee05964": {
     "model_module": "@jupyter-widgets/controls",
     "model_module_version": "1.5.0",
     "model_name": "DescriptionStyleModel",
     "state": {
      "_model_module": "@jupyter-widgets/controls",
      "_model_module_version": "1.5.0",
      "_model_name": "DescriptionStyleModel",
      "_view_count": null,
      "_view_module": "@jupyter-widgets/base",
      "_view_module_version": "1.2.0",
      "_view_name": "StyleView",
      "description_width": ""
     }
    },
    "863706c21f894adc87a14b420ad5138f": {
     "model_module": "@jupyter-widgets/controls",
     "model_module_version": "1.5.0",
     "model_name": "ProgressStyleModel",
     "state": {
      "_model_module": "@jupyter-widgets/controls",
      "_model_module_version": "1.5.0",
      "_model_name": "ProgressStyleModel",
      "_view_count": null,
      "_view_module": "@jupyter-widgets/base",
      "_view_module_version": "1.2.0",
      "_view_name": "StyleView",
      "bar_color": null,
      "description_width": ""
     }
    },
    "866db340824b435bab0df3e5cb443519": {
     "model_module": "@jupyter-widgets/base",
     "model_module_version": "1.2.0",
     "model_name": "LayoutModel",
     "state": {
      "_model_module": "@jupyter-widgets/base",
      "_model_module_version": "1.2.0",
      "_model_name": "LayoutModel",
      "_view_count": null,
      "_view_module": "@jupyter-widgets/base",
      "_view_module_version": "1.2.0",
      "_view_name": "LayoutView",
      "align_content": null,
      "align_items": null,
      "align_self": null,
      "border": null,
      "bottom": null,
      "display": null,
      "flex": null,
      "flex_flow": null,
      "grid_area": null,
      "grid_auto_columns": null,
      "grid_auto_flow": null,
      "grid_auto_rows": null,
      "grid_column": null,
      "grid_gap": null,
      "grid_row": null,
      "grid_template_areas": null,
      "grid_template_columns": null,
      "grid_template_rows": null,
      "height": null,
      "justify_content": null,
      "justify_items": null,
      "left": null,
      "margin": null,
      "max_height": null,
      "max_width": null,
      "min_height": null,
      "min_width": null,
      "object_fit": null,
      "object_position": null,
      "order": null,
      "overflow": null,
      "overflow_x": null,
      "overflow_y": null,
      "padding": null,
      "right": null,
      "top": null,
      "visibility": null,
      "width": null
     }
    },
    "8c33a47beb734629b10829deceb59612": {
     "model_module": "@jupyter-widgets/base",
     "model_module_version": "1.2.0",
     "model_name": "LayoutModel",
     "state": {
      "_model_module": "@jupyter-widgets/base",
      "_model_module_version": "1.2.0",
      "_model_name": "LayoutModel",
      "_view_count": null,
      "_view_module": "@jupyter-widgets/base",
      "_view_module_version": "1.2.0",
      "_view_name": "LayoutView",
      "align_content": null,
      "align_items": null,
      "align_self": null,
      "border": null,
      "bottom": null,
      "display": null,
      "flex": null,
      "flex_flow": null,
      "grid_area": null,
      "grid_auto_columns": null,
      "grid_auto_flow": null,
      "grid_auto_rows": null,
      "grid_column": null,
      "grid_gap": null,
      "grid_row": null,
      "grid_template_areas": null,
      "grid_template_columns": null,
      "grid_template_rows": null,
      "height": null,
      "justify_content": null,
      "justify_items": null,
      "left": null,
      "margin": null,
      "max_height": null,
      "max_width": null,
      "min_height": null,
      "min_width": null,
      "object_fit": null,
      "object_position": null,
      "order": null,
      "overflow": null,
      "overflow_x": null,
      "overflow_y": null,
      "padding": null,
      "right": null,
      "top": null,
      "visibility": null,
      "width": null
     }
    },
    "8d3577336c234f99abb590dc60cd9747": {
     "model_module": "@jupyter-widgets/base",
     "model_module_version": "1.2.0",
     "model_name": "LayoutModel",
     "state": {
      "_model_module": "@jupyter-widgets/base",
      "_model_module_version": "1.2.0",
      "_model_name": "LayoutModel",
      "_view_count": null,
      "_view_module": "@jupyter-widgets/base",
      "_view_module_version": "1.2.0",
      "_view_name": "LayoutView",
      "align_content": null,
      "align_items": null,
      "align_self": null,
      "border": null,
      "bottom": null,
      "display": null,
      "flex": null,
      "flex_flow": null,
      "grid_area": null,
      "grid_auto_columns": null,
      "grid_auto_flow": null,
      "grid_auto_rows": null,
      "grid_column": null,
      "grid_gap": null,
      "grid_row": null,
      "grid_template_areas": null,
      "grid_template_columns": null,
      "grid_template_rows": null,
      "height": null,
      "justify_content": null,
      "justify_items": null,
      "left": null,
      "margin": null,
      "max_height": null,
      "max_width": null,
      "min_height": null,
      "min_width": null,
      "object_fit": null,
      "object_position": null,
      "order": null,
      "overflow": null,
      "overflow_x": null,
      "overflow_y": null,
      "padding": null,
      "right": null,
      "top": null,
      "visibility": null,
      "width": null
     }
    },
    "944d8d4f6d1a491ca2194c202a957669": {
     "model_module": "@jupyter-widgets/controls",
     "model_module_version": "1.5.0",
     "model_name": "ProgressStyleModel",
     "state": {
      "_model_module": "@jupyter-widgets/controls",
      "_model_module_version": "1.5.0",
      "_model_name": "ProgressStyleModel",
      "_view_count": null,
      "_view_module": "@jupyter-widgets/base",
      "_view_module_version": "1.2.0",
      "_view_name": "StyleView",
      "bar_color": null,
      "description_width": ""
     }
    },
    "9777c26f5c9b4efb9c828392ac4a7eb8": {
     "model_module": "@jupyter-widgets/base",
     "model_module_version": "1.2.0",
     "model_name": "LayoutModel",
     "state": {
      "_model_module": "@jupyter-widgets/base",
      "_model_module_version": "1.2.0",
      "_model_name": "LayoutModel",
      "_view_count": null,
      "_view_module": "@jupyter-widgets/base",
      "_view_module_version": "1.2.0",
      "_view_name": "LayoutView",
      "align_content": null,
      "align_items": null,
      "align_self": null,
      "border": null,
      "bottom": null,
      "display": null,
      "flex": null,
      "flex_flow": null,
      "grid_area": null,
      "grid_auto_columns": null,
      "grid_auto_flow": null,
      "grid_auto_rows": null,
      "grid_column": null,
      "grid_gap": null,
      "grid_row": null,
      "grid_template_areas": null,
      "grid_template_columns": null,
      "grid_template_rows": null,
      "height": null,
      "justify_content": null,
      "justify_items": null,
      "left": null,
      "margin": null,
      "max_height": null,
      "max_width": null,
      "min_height": null,
      "min_width": null,
      "object_fit": null,
      "object_position": null,
      "order": null,
      "overflow": null,
      "overflow_x": null,
      "overflow_y": null,
      "padding": null,
      "right": null,
      "top": null,
      "visibility": null,
      "width": null
     }
    },
    "9fc0007e4a324c96a52a545290d956f3": {
     "model_module": "@jupyter-widgets/controls",
     "model_module_version": "1.5.0",
     "model_name": "HTMLModel",
     "state": {
      "_dom_classes": [],
      "_model_module": "@jupyter-widgets/controls",
      "_model_module_version": "1.5.0",
      "_model_name": "HTMLModel",
      "_view_count": null,
      "_view_module": "@jupyter-widgets/controls",
      "_view_module_version": "1.5.0",
      "_view_name": "HTMLView",
      "description": "",
      "description_tooltip": null,
      "layout": "IPY_MODEL_1bbcdfc098da470eb14299164769a2b3",
      "placeholder": "​",
      "style": "IPY_MODEL_c898d770a70f43ca9e030a4b7fdc16fc",
      "value": " 440M/440M [00:09&lt;00:00, 42.9MB/s]"
     }
    },
    "a0d6e94dd5b64d0d98add2b912e13f8b": {
     "model_module": "@jupyter-widgets/controls",
     "model_module_version": "1.5.0",
     "model_name": "HTMLModel",
     "state": {
      "_dom_classes": [],
      "_model_module": "@jupyter-widgets/controls",
      "_model_module_version": "1.5.0",
      "_model_name": "HTMLModel",
      "_view_count": null,
      "_view_module": "@jupyter-widgets/controls",
      "_view_module_version": "1.5.0",
      "_view_name": "HTMLView",
      "description": "",
      "description_tooltip": null,
      "layout": "IPY_MODEL_c59b50d0325d4e8396d9e1d39cb02ec7",
      "placeholder": "​",
      "style": "IPY_MODEL_b7fd462dc4b24fde94752ff4ee0964d3",
      "value": "Downloading: 100%"
     }
    },
    "a21195301a9d422480abf29279594d38": {
     "model_module": "@jupyter-widgets/base",
     "model_module_version": "1.2.0",
     "model_name": "LayoutModel",
     "state": {
      "_model_module": "@jupyter-widgets/base",
      "_model_module_version": "1.2.0",
      "_model_name": "LayoutModel",
      "_view_count": null,
      "_view_module": "@jupyter-widgets/base",
      "_view_module_version": "1.2.0",
      "_view_name": "LayoutView",
      "align_content": null,
      "align_items": null,
      "align_self": null,
      "border": null,
      "bottom": null,
      "display": null,
      "flex": null,
      "flex_flow": null,
      "grid_area": null,
      "grid_auto_columns": null,
      "grid_auto_flow": null,
      "grid_auto_rows": null,
      "grid_column": null,
      "grid_gap": null,
      "grid_row": null,
      "grid_template_areas": null,
      "grid_template_columns": null,
      "grid_template_rows": null,
      "height": null,
      "justify_content": null,
      "justify_items": null,
      "left": null,
      "margin": null,
      "max_height": null,
      "max_width": null,
      "min_height": null,
      "min_width": null,
      "object_fit": null,
      "object_position": null,
      "order": null,
      "overflow": null,
      "overflow_x": null,
      "overflow_y": null,
      "padding": null,
      "right": null,
      "top": null,
      "visibility": null,
      "width": null
     }
    },
    "a4c03d627de14b7a842737fdd4349004": {
     "model_module": "@jupyter-widgets/controls",
     "model_module_version": "1.5.0",
     "model_name": "DescriptionStyleModel",
     "state": {
      "_model_module": "@jupyter-widgets/controls",
      "_model_module_version": "1.5.0",
      "_model_name": "DescriptionStyleModel",
      "_view_count": null,
      "_view_module": "@jupyter-widgets/base",
      "_view_module_version": "1.2.0",
      "_view_name": "StyleView",
      "description_width": ""
     }
    },
    "aa40f6e5e7f84dc394fdc205ba3fde30": {
     "model_module": "@jupyter-widgets/base",
     "model_module_version": "1.2.0",
     "model_name": "LayoutModel",
     "state": {
      "_model_module": "@jupyter-widgets/base",
      "_model_module_version": "1.2.0",
      "_model_name": "LayoutModel",
      "_view_count": null,
      "_view_module": "@jupyter-widgets/base",
      "_view_module_version": "1.2.0",
      "_view_name": "LayoutView",
      "align_content": null,
      "align_items": null,
      "align_self": null,
      "border": null,
      "bottom": null,
      "display": null,
      "flex": null,
      "flex_flow": null,
      "grid_area": null,
      "grid_auto_columns": null,
      "grid_auto_flow": null,
      "grid_auto_rows": null,
      "grid_column": null,
      "grid_gap": null,
      "grid_row": null,
      "grid_template_areas": null,
      "grid_template_columns": null,
      "grid_template_rows": null,
      "height": null,
      "justify_content": null,
      "justify_items": null,
      "left": null,
      "margin": null,
      "max_height": null,
      "max_width": null,
      "min_height": null,
      "min_width": null,
      "object_fit": null,
      "object_position": null,
      "order": null,
      "overflow": null,
      "overflow_x": null,
      "overflow_y": null,
      "padding": null,
      "right": null,
      "top": null,
      "visibility": null,
      "width": null
     }
    },
    "ad2949626f184f458d7fddfae692c275": {
     "model_module": "@jupyter-widgets/controls",
     "model_module_version": "1.5.0",
     "model_name": "ProgressStyleModel",
     "state": {
      "_model_module": "@jupyter-widgets/controls",
      "_model_module_version": "1.5.0",
      "_model_name": "ProgressStyleModel",
      "_view_count": null,
      "_view_module": "@jupyter-widgets/base",
      "_view_module_version": "1.2.0",
      "_view_name": "StyleView",
      "bar_color": null,
      "description_width": ""
     }
    },
    "b08480cbcf4b4d088ca41ad470d2a24c": {
     "model_module": "@jupyter-widgets/controls",
     "model_module_version": "1.5.0",
     "model_name": "FloatProgressModel",
     "state": {
      "_dom_classes": [],
      "_model_module": "@jupyter-widgets/controls",
      "_model_module_version": "1.5.0",
      "_model_name": "FloatProgressModel",
      "_view_count": null,
      "_view_module": "@jupyter-widgets/controls",
      "_view_module_version": "1.5.0",
      "_view_name": "ProgressView",
      "bar_style": "success",
      "description": "",
      "description_tooltip": null,
      "layout": "IPY_MODEL_9777c26f5c9b4efb9c828392ac4a7eb8",
      "max": 440473133,
      "min": 0,
      "orientation": "horizontal",
      "style": "IPY_MODEL_414a47de6a9a4234a8c437ba0df617ef",
      "value": 440473133
     }
    },
    "b2d5d9395d4d4d45aea041d28e8e1876": {
     "model_module": "@jupyter-widgets/controls",
     "model_module_version": "1.5.0",
     "model_name": "HBoxModel",
     "state": {
      "_dom_classes": [],
      "_model_module": "@jupyter-widgets/controls",
      "_model_module_version": "1.5.0",
      "_model_name": "HBoxModel",
      "_view_count": null,
      "_view_module": "@jupyter-widgets/controls",
      "_view_module_version": "1.5.0",
      "_view_name": "HBoxView",
      "box_style": "",
      "children": [
       "IPY_MODEL_26b7ada59de34a25b41868a160bbca90",
       "IPY_MODEL_026d9c1bedb143968c97846147ec7a03",
       "IPY_MODEL_43cfcf8ef5db495a808903d2914959a3"
      ],
      "layout": "IPY_MODEL_0153f9c0e903491985dd6dad6a980854"
     }
    },
    "b3649dd83da04b29be972eecedcdb596": {
     "model_module": "@jupyter-widgets/base",
     "model_module_version": "1.2.0",
     "model_name": "LayoutModel",
     "state": {
      "_model_module": "@jupyter-widgets/base",
      "_model_module_version": "1.2.0",
      "_model_name": "LayoutModel",
      "_view_count": null,
      "_view_module": "@jupyter-widgets/base",
      "_view_module_version": "1.2.0",
      "_view_name": "LayoutView",
      "align_content": null,
      "align_items": null,
      "align_self": null,
      "border": null,
      "bottom": null,
      "display": null,
      "flex": null,
      "flex_flow": null,
      "grid_area": null,
      "grid_auto_columns": null,
      "grid_auto_flow": null,
      "grid_auto_rows": null,
      "grid_column": null,
      "grid_gap": null,
      "grid_row": null,
      "grid_template_areas": null,
      "grid_template_columns": null,
      "grid_template_rows": null,
      "height": null,
      "justify_content": null,
      "justify_items": null,
      "left": null,
      "margin": null,
      "max_height": null,
      "max_width": null,
      "min_height": null,
      "min_width": null,
      "object_fit": null,
      "object_position": null,
      "order": null,
      "overflow": null,
      "overflow_x": null,
      "overflow_y": null,
      "padding": null,
      "right": null,
      "top": null,
      "visibility": null,
      "width": null
     }
    },
    "b44915d3ba404523bcfec74c070a8755": {
     "model_module": "@jupyter-widgets/base",
     "model_module_version": "1.2.0",
     "model_name": "LayoutModel",
     "state": {
      "_model_module": "@jupyter-widgets/base",
      "_model_module_version": "1.2.0",
      "_model_name": "LayoutModel",
      "_view_count": null,
      "_view_module": "@jupyter-widgets/base",
      "_view_module_version": "1.2.0",
      "_view_name": "LayoutView",
      "align_content": null,
      "align_items": null,
      "align_self": null,
      "border": null,
      "bottom": null,
      "display": null,
      "flex": null,
      "flex_flow": null,
      "grid_area": null,
      "grid_auto_columns": null,
      "grid_auto_flow": null,
      "grid_auto_rows": null,
      "grid_column": null,
      "grid_gap": null,
      "grid_row": null,
      "grid_template_areas": null,
      "grid_template_columns": null,
      "grid_template_rows": null,
      "height": null,
      "justify_content": null,
      "justify_items": null,
      "left": null,
      "margin": null,
      "max_height": null,
      "max_width": null,
      "min_height": null,
      "min_width": null,
      "object_fit": null,
      "object_position": null,
      "order": null,
      "overflow": null,
      "overflow_x": null,
      "overflow_y": null,
      "padding": null,
      "right": null,
      "top": null,
      "visibility": null,
      "width": null
     }
    },
    "b7fd462dc4b24fde94752ff4ee0964d3": {
     "model_module": "@jupyter-widgets/controls",
     "model_module_version": "1.5.0",
     "model_name": "DescriptionStyleModel",
     "state": {
      "_model_module": "@jupyter-widgets/controls",
      "_model_module_version": "1.5.0",
      "_model_name": "DescriptionStyleModel",
      "_view_count": null,
      "_view_module": "@jupyter-widgets/base",
      "_view_module_version": "1.2.0",
      "_view_name": "StyleView",
      "description_width": ""
     }
    },
    "c59b50d0325d4e8396d9e1d39cb02ec7": {
     "model_module": "@jupyter-widgets/base",
     "model_module_version": "1.2.0",
     "model_name": "LayoutModel",
     "state": {
      "_model_module": "@jupyter-widgets/base",
      "_model_module_version": "1.2.0",
      "_model_name": "LayoutModel",
      "_view_count": null,
      "_view_module": "@jupyter-widgets/base",
      "_view_module_version": "1.2.0",
      "_view_name": "LayoutView",
      "align_content": null,
      "align_items": null,
      "align_self": null,
      "border": null,
      "bottom": null,
      "display": null,
      "flex": null,
      "flex_flow": null,
      "grid_area": null,
      "grid_auto_columns": null,
      "grid_auto_flow": null,
      "grid_auto_rows": null,
      "grid_column": null,
      "grid_gap": null,
      "grid_row": null,
      "grid_template_areas": null,
      "grid_template_columns": null,
      "grid_template_rows": null,
      "height": null,
      "justify_content": null,
      "justify_items": null,
      "left": null,
      "margin": null,
      "max_height": null,
      "max_width": null,
      "min_height": null,
      "min_width": null,
      "object_fit": null,
      "object_position": null,
      "order": null,
      "overflow": null,
      "overflow_x": null,
      "overflow_y": null,
      "padding": null,
      "right": null,
      "top": null,
      "visibility": null,
      "width": null
     }
    },
    "c898d770a70f43ca9e030a4b7fdc16fc": {
     "model_module": "@jupyter-widgets/controls",
     "model_module_version": "1.5.0",
     "model_name": "DescriptionStyleModel",
     "state": {
      "_model_module": "@jupyter-widgets/controls",
      "_model_module_version": "1.5.0",
      "_model_name": "DescriptionStyleModel",
      "_view_count": null,
      "_view_module": "@jupyter-widgets/base",
      "_view_module_version": "1.2.0",
      "_view_name": "StyleView",
      "description_width": ""
     }
    },
    "cb9aada49e3c42688f06110813ca861a": {
     "model_module": "@jupyter-widgets/controls",
     "model_module_version": "1.5.0",
     "model_name": "HBoxModel",
     "state": {
      "_dom_classes": [],
      "_model_module": "@jupyter-widgets/controls",
      "_model_module_version": "1.5.0",
      "_model_name": "HBoxModel",
      "_view_count": null,
      "_view_module": "@jupyter-widgets/controls",
      "_view_module_version": "1.5.0",
      "_view_name": "HBoxView",
      "box_style": "",
      "children": [
       "IPY_MODEL_fc4835c5410045049f9896114174689d",
       "IPY_MODEL_62052533cac343d981f81d06f3bd41e6",
       "IPY_MODEL_55d39688f7444c239a990e14ae07f742"
      ],
      "layout": "IPY_MODEL_36c102d3cabf4d5d88a040a986303141"
     }
    },
    "ccf663c5c39049729eba9c8f5f699a60": {
     "model_module": "@jupyter-widgets/controls",
     "model_module_version": "1.5.0",
     "model_name": "DescriptionStyleModel",
     "state": {
      "_model_module": "@jupyter-widgets/controls",
      "_model_module_version": "1.5.0",
      "_model_name": "DescriptionStyleModel",
      "_view_count": null,
      "_view_module": "@jupyter-widgets/base",
      "_view_module_version": "1.2.0",
      "_view_name": "StyleView",
      "description_width": ""
     }
    },
    "d1637bc370fc43e9974ea415153159cd": {
     "model_module": "@jupyter-widgets/controls",
     "model_module_version": "1.5.0",
     "model_name": "HTMLModel",
     "state": {
      "_dom_classes": [],
      "_model_module": "@jupyter-widgets/controls",
      "_model_module_version": "1.5.0",
      "_model_name": "HTMLModel",
      "_view_count": null,
      "_view_module": "@jupyter-widgets/controls",
      "_view_module_version": "1.5.0",
      "_view_name": "HTMLView",
      "description": "",
      "description_tooltip": null,
      "layout": "IPY_MODEL_ef0f2f1799cb4f278c4c32f20f135fc2",
      "placeholder": "​",
      "style": "IPY_MODEL_35e48bc7f1514ff08bc49218a5125796",
      "value": " 466k/466k [00:00&lt;00:00, 1.06MB/s]"
     }
    },
    "d504b5c19a354881a3aa26cac887bf65": {
     "model_module": "@jupyter-widgets/controls",
     "model_module_version": "1.5.0",
     "model_name": "ProgressStyleModel",
     "state": {
      "_model_module": "@jupyter-widgets/controls",
      "_model_module_version": "1.5.0",
      "_model_name": "ProgressStyleModel",
      "_view_count": null,
      "_view_module": "@jupyter-widgets/base",
      "_view_module_version": "1.2.0",
      "_view_name": "StyleView",
      "bar_color": null,
      "description_width": ""
     }
    },
    "e0c98b5b066943bab82be79a84b351cb": {
     "model_module": "@jupyter-widgets/base",
     "model_module_version": "1.2.0",
     "model_name": "LayoutModel",
     "state": {
      "_model_module": "@jupyter-widgets/base",
      "_model_module_version": "1.2.0",
      "_model_name": "LayoutModel",
      "_view_count": null,
      "_view_module": "@jupyter-widgets/base",
      "_view_module_version": "1.2.0",
      "_view_name": "LayoutView",
      "align_content": null,
      "align_items": null,
      "align_self": null,
      "border": null,
      "bottom": null,
      "display": null,
      "flex": null,
      "flex_flow": null,
      "grid_area": null,
      "grid_auto_columns": null,
      "grid_auto_flow": null,
      "grid_auto_rows": null,
      "grid_column": null,
      "grid_gap": null,
      "grid_row": null,
      "grid_template_areas": null,
      "grid_template_columns": null,
      "grid_template_rows": null,
      "height": null,
      "justify_content": null,
      "justify_items": null,
      "left": null,
      "margin": null,
      "max_height": null,
      "max_width": null,
      "min_height": null,
      "min_width": null,
      "object_fit": null,
      "object_position": null,
      "order": null,
      "overflow": null,
      "overflow_x": null,
      "overflow_y": null,
      "padding": null,
      "right": null,
      "top": null,
      "visibility": null,
      "width": null
     }
    },
    "e9e220c3fe934c67a170166b510ea9ca": {
     "model_module": "@jupyter-widgets/base",
     "model_module_version": "1.2.0",
     "model_name": "LayoutModel",
     "state": {
      "_model_module": "@jupyter-widgets/base",
      "_model_module_version": "1.2.0",
      "_model_name": "LayoutModel",
      "_view_count": null,
      "_view_module": "@jupyter-widgets/base",
      "_view_module_version": "1.2.0",
      "_view_name": "LayoutView",
      "align_content": null,
      "align_items": null,
      "align_self": null,
      "border": null,
      "bottom": null,
      "display": null,
      "flex": null,
      "flex_flow": null,
      "grid_area": null,
      "grid_auto_columns": null,
      "grid_auto_flow": null,
      "grid_auto_rows": null,
      "grid_column": null,
      "grid_gap": null,
      "grid_row": null,
      "grid_template_areas": null,
      "grid_template_columns": null,
      "grid_template_rows": null,
      "height": null,
      "justify_content": null,
      "justify_items": null,
      "left": null,
      "margin": null,
      "max_height": null,
      "max_width": null,
      "min_height": null,
      "min_width": null,
      "object_fit": null,
      "object_position": null,
      "order": null,
      "overflow": null,
      "overflow_x": null,
      "overflow_y": null,
      "padding": null,
      "right": null,
      "top": null,
      "visibility": null,
      "width": null
     }
    },
    "ef0f2f1799cb4f278c4c32f20f135fc2": {
     "model_module": "@jupyter-widgets/base",
     "model_module_version": "1.2.0",
     "model_name": "LayoutModel",
     "state": {
      "_model_module": "@jupyter-widgets/base",
      "_model_module_version": "1.2.0",
      "_model_name": "LayoutModel",
      "_view_count": null,
      "_view_module": "@jupyter-widgets/base",
      "_view_module_version": "1.2.0",
      "_view_name": "LayoutView",
      "align_content": null,
      "align_items": null,
      "align_self": null,
      "border": null,
      "bottom": null,
      "display": null,
      "flex": null,
      "flex_flow": null,
      "grid_area": null,
      "grid_auto_columns": null,
      "grid_auto_flow": null,
      "grid_auto_rows": null,
      "grid_column": null,
      "grid_gap": null,
      "grid_row": null,
      "grid_template_areas": null,
      "grid_template_columns": null,
      "grid_template_rows": null,
      "height": null,
      "justify_content": null,
      "justify_items": null,
      "left": null,
      "margin": null,
      "max_height": null,
      "max_width": null,
      "min_height": null,
      "min_width": null,
      "object_fit": null,
      "object_position": null,
      "order": null,
      "overflow": null,
      "overflow_x": null,
      "overflow_y": null,
      "padding": null,
      "right": null,
      "top": null,
      "visibility": null,
      "width": null
     }
    },
    "f4c97422fce347428f5f68dee3745713": {
     "model_module": "@jupyter-widgets/controls",
     "model_module_version": "1.5.0",
     "model_name": "HTMLModel",
     "state": {
      "_dom_classes": [],
      "_model_module": "@jupyter-widgets/controls",
      "_model_module_version": "1.5.0",
      "_model_name": "HTMLModel",
      "_view_count": null,
      "_view_module": "@jupyter-widgets/controls",
      "_view_module_version": "1.5.0",
      "_view_name": "HTMLView",
      "description": "",
      "description_tooltip": null,
      "layout": "IPY_MODEL_f837085b0a8b4c2d8c004cfb56ecc7d5",
      "placeholder": "​",
      "style": "IPY_MODEL_813abbbf19024c84a5ce769abee05964",
      "value": "100%"
     }
    },
    "f7ecc9cd089344bcb59ded7f4a643adc": {
     "model_module": "@jupyter-widgets/base",
     "model_module_version": "1.2.0",
     "model_name": "LayoutModel",
     "state": {
      "_model_module": "@jupyter-widgets/base",
      "_model_module_version": "1.2.0",
      "_model_name": "LayoutModel",
      "_view_count": null,
      "_view_module": "@jupyter-widgets/base",
      "_view_module_version": "1.2.0",
      "_view_name": "LayoutView",
      "align_content": null,
      "align_items": null,
      "align_self": null,
      "border": null,
      "bottom": null,
      "display": null,
      "flex": null,
      "flex_flow": null,
      "grid_area": null,
      "grid_auto_columns": null,
      "grid_auto_flow": null,
      "grid_auto_rows": null,
      "grid_column": null,
      "grid_gap": null,
      "grid_row": null,
      "grid_template_areas": null,
      "grid_template_columns": null,
      "grid_template_rows": null,
      "height": null,
      "justify_content": null,
      "justify_items": null,
      "left": null,
      "margin": null,
      "max_height": null,
      "max_width": null,
      "min_height": null,
      "min_width": null,
      "object_fit": null,
      "object_position": null,
      "order": null,
      "overflow": null,
      "overflow_x": null,
      "overflow_y": null,
      "padding": null,
      "right": null,
      "top": null,
      "visibility": null,
      "width": null
     }
    },
    "f837085b0a8b4c2d8c004cfb56ecc7d5": {
     "model_module": "@jupyter-widgets/base",
     "model_module_version": "1.2.0",
     "model_name": "LayoutModel",
     "state": {
      "_model_module": "@jupyter-widgets/base",
      "_model_module_version": "1.2.0",
      "_model_name": "LayoutModel",
      "_view_count": null,
      "_view_module": "@jupyter-widgets/base",
      "_view_module_version": "1.2.0",
      "_view_name": "LayoutView",
      "align_content": null,
      "align_items": null,
      "align_self": null,
      "border": null,
      "bottom": null,
      "display": null,
      "flex": null,
      "flex_flow": null,
      "grid_area": null,
      "grid_auto_columns": null,
      "grid_auto_flow": null,
      "grid_auto_rows": null,
      "grid_column": null,
      "grid_gap": null,
      "grid_row": null,
      "grid_template_areas": null,
      "grid_template_columns": null,
      "grid_template_rows": null,
      "height": null,
      "justify_content": null,
      "justify_items": null,
      "left": null,
      "margin": null,
      "max_height": null,
      "max_width": null,
      "min_height": null,
      "min_width": null,
      "object_fit": null,
      "object_position": null,
      "order": null,
      "overflow": null,
      "overflow_x": null,
      "overflow_y": null,
      "padding": null,
      "right": null,
      "top": null,
      "visibility": null,
      "width": null
     }
    },
    "fc4835c5410045049f9896114174689d": {
     "model_module": "@jupyter-widgets/controls",
     "model_module_version": "1.5.0",
     "model_name": "HTMLModel",
     "state": {
      "_dom_classes": [],
      "_model_module": "@jupyter-widgets/controls",
      "_model_module_version": "1.5.0",
      "_model_name": "HTMLModel",
      "_view_count": null,
      "_view_module": "@jupyter-widgets/controls",
      "_view_module_version": "1.5.0",
      "_view_name": "HTMLView",
      "description": "",
      "description_tooltip": null,
      "layout": "IPY_MODEL_e0c98b5b066943bab82be79a84b351cb",
      "placeholder": "​",
      "style": "IPY_MODEL_2aa362cfec34429cb44d2bd7a488af97",
      "value": "Downloading: 100%"
     }
    }
   }
  }
 },
 "nbformat": 4,
 "nbformat_minor": 1
}
