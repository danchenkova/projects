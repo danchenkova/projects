{
 "cells": [
  {
   "cell_type": "markdown",
   "metadata": {
    "toc": true
   },
   "source": [
    "<h1>Содержание<span class=\"tocSkip\"></span></h1>\n",
    "<div class=\"toc\"><ul class=\"toc-item\"><li><span><a href=\"#Описание-проекта\" data-toc-modified-id=\"Описание-проекта-1\"><span class=\"toc-item-num\">1&nbsp;&nbsp;</span>Описание проекта</a></span></li><li><span><a href=\"#Изучение-данных\" data-toc-modified-id=\"Изучение-данных-2\"><span class=\"toc-item-num\">2&nbsp;&nbsp;</span>Изучение данных</a></span><ul class=\"toc-item\"><li><span><a href=\"#Вывод\" data-toc-modified-id=\"Вывод-2.1\"><span class=\"toc-item-num\">2.1&nbsp;&nbsp;</span>Вывод</a></span></li></ul></li><li><span><a href=\"#Подготовка-данных\" data-toc-modified-id=\"Подготовка-данных-3\"><span class=\"toc-item-num\">3&nbsp;&nbsp;</span>Подготовка данных</a></span><ul class=\"toc-item\"><li><span><a href=\"#Вывод\" data-toc-modified-id=\"Вывод-3.1\"><span class=\"toc-item-num\">3.1&nbsp;&nbsp;</span>Вывод</a></span></li></ul></li><li><span><a href=\"#Исследование-задачи\" data-toc-modified-id=\"Исследование-задачи-4\"><span class=\"toc-item-num\">4&nbsp;&nbsp;</span>Исследование задачи</a></span><ul class=\"toc-item\"><li><span><a href=\"#Дерево-решений\" data-toc-modified-id=\"Дерево-решений-4.1\"><span class=\"toc-item-num\">4.1&nbsp;&nbsp;</span>Дерево решений</a></span></li><li><span><a href=\"#Случайный-лес\" data-toc-modified-id=\"Случайный-лес-4.2\"><span class=\"toc-item-num\">4.2&nbsp;&nbsp;</span>Случайный лес</a></span></li><li><span><a href=\"#Логистическая-регрессия\" data-toc-modified-id=\"Логистическая-регрессия-4.3\"><span class=\"toc-item-num\">4.3&nbsp;&nbsp;</span>Логистическая регрессия</a></span></li><li><span><a href=\"#Наивный-байесовский-классификатор\" data-toc-modified-id=\"Наивный-байесовский-классификатор-4.4\"><span class=\"toc-item-num\">4.4&nbsp;&nbsp;</span>Наивный байесовский классификатор</a></span></li><li><span><a href=\"#Метод-опорных-векторов\" data-toc-modified-id=\"Метод-опорных-векторов-4.5\"><span class=\"toc-item-num\">4.5&nbsp;&nbsp;</span>Метод опорных векторов</a></span></li><li><span><a href=\"#Оценка-результатов\" data-toc-modified-id=\"Оценка-результатов-4.6\"><span class=\"toc-item-num\">4.6&nbsp;&nbsp;</span>Оценка результатов</a></span></li><li><span><a href=\"#Вывод\" data-toc-modified-id=\"Вывод-4.7\"><span class=\"toc-item-num\">4.7&nbsp;&nbsp;</span>Вывод</a></span></li></ul></li><li><span><a href=\"#Борьба-с-дисбалансом\" data-toc-modified-id=\"Борьба-с-дисбалансом-5\"><span class=\"toc-item-num\">5&nbsp;&nbsp;</span>Борьба с дисбалансом</a></span><ul class=\"toc-item\"><li><span><a href=\"#Взвешивание\" data-toc-modified-id=\"Взвешивание-5.1\"><span class=\"toc-item-num\">5.1&nbsp;&nbsp;</span>Взвешивание</a></span></li><li><span><a href=\"#Увеличение-выборки\" data-toc-modified-id=\"Увеличение-выборки-5.2\"><span class=\"toc-item-num\">5.2&nbsp;&nbsp;</span>Увеличение выборки</a></span></li><li><span><a href=\"#Уменьшение-выборки\" data-toc-modified-id=\"Уменьшение-выборки-5.3\"><span class=\"toc-item-num\">5.3&nbsp;&nbsp;</span>Уменьшение выборки</a></span></li><li><span><a href=\"#Вывод\" data-toc-modified-id=\"Вывод-5.4\"><span class=\"toc-item-num\">5.4&nbsp;&nbsp;</span>Вывод</a></span></li></ul></li><li><span><a href=\"#Тестирование-модели\" data-toc-modified-id=\"Тестирование-модели-6\"><span class=\"toc-item-num\">6&nbsp;&nbsp;</span>Тестирование модели</a></span><ul class=\"toc-item\"><li><span><a href=\"#Вывод\" data-toc-modified-id=\"Вывод-6.1\"><span class=\"toc-item-num\">6.1&nbsp;&nbsp;</span>Вывод</a></span></li></ul></li><li><span><a href=\"#Общий-вывод\" data-toc-modified-id=\"Общий-вывод-7\"><span class=\"toc-item-num\">7&nbsp;&nbsp;</span>Общий вывод</a></span></li><li><span><a href=\"#Чек-лист-готовности-проекта\" data-toc-modified-id=\"Чек-лист-готовности-проекта-8\"><span class=\"toc-item-num\">8&nbsp;&nbsp;</span>Чек-лист готовности проекта</a></span></li></ul></div>"
   ]
  },
  {
   "cell_type": "markdown",
   "metadata": {},
   "source": [
    "# Отток клиентов"
   ]
  },
  {
   "cell_type": "markdown",
   "metadata": {},
   "source": [
    "## Описание проекта"
   ]
  },
  {
   "cell_type": "markdown",
   "metadata": {},
   "source": [
    "В связи с увеличившимся оттоком клиентов из \"Бета-Банка\" требуется подготовить модель, оценивающую риски ухода того или иного \"пользователя\". Банковские маркетологи посчитали: сохранять текущих клиентов дешевле, чем привлекать новых. Нужно спрогнозировать, уйдёт клиент из банка в ближайшее время или нет. Нам предоставлены исторические данные о поведении клиентов и расторжении договоров с банком.\n",
    "\n",
    "Необходимо построить модель с предельно большим значением F1-меры (минимальное значение метрики для успешной реализации проекта - от 0.59).\n",
    "\n",
    "Источник данных: [https://www.kaggle.com/barelydedicated/bank-customer-churn-modeling](https://www.kaggle.com/barelydedicated/bank-customer-churn-modeling)"
   ]
  },
  {
   "cell_type": "markdown",
   "metadata": {},
   "source": [
    "**Цель проекта**\n",
    "\n",
    "Построить наилучшую модель для прогнозирования, уйдет ли из банка клиент, основываясь на его характеристиках и статистике поведения.\n",
    "\n",
    "**Задачи**\n",
    "\n",
    "1. Изучить исходный датасет и общую статистику поведения клиентов.\n",
    "2. Подготовить данные для анализа, обработать признаки, разделить на обучающую, валидационную и тестовую выборки.\n",
    "3. Исследовать базовые модели и рассмотреть, как меняются показатели оценки в зависимости от примененной модели. Подобрать гиперпараметры.\n",
    "4. Выбрать наилучшую модель, по-возможности доработать ее, учитывая дисбаланс классов.\n",
    "5. Проверить модели на тестовой выборке и подготовить рекомендации."
   ]
  },
  {
   "cell_type": "markdown",
   "metadata": {},
   "source": [
    "## Изучение данных"
   ]
  },
  {
   "cell_type": "code",
   "execution_count": 1,
   "metadata": {},
   "outputs": [],
   "source": [
    "import pandas as pd\n",
    "import numpy as np\n",
    "import matplotlib.pyplot as plt\n",
    "from mpl_toolkits.mplot3d import Axes3D\n",
    "from IPython.display import display\n",
    "\n",
    "from sklearn.model_selection import train_test_split, GridSearchCV\n",
    "from sklearn.preprocessing import StandardScaler\n",
    "pd.options.mode.chained_assignment = None\n",
    "from sklearn.utils import shuffle\n",
    "\n",
    "from sklearn.tree import DecisionTreeClassifier\n",
    "from sklearn.ensemble import RandomForestClassifier\n",
    "from sklearn.linear_model import LogisticRegression\n",
    "from sklearn.naive_bayes import GaussianNB\n",
    "from sklearn.svm import SVC\n",
    "\n",
    "from sklearn import metrics\n",
    "from sklearn.metrics import accuracy_score, precision_score, recall_score, f1_score\n",
    "from sklearn.metrics import roc_curve, roc_auc_score\n",
    "from sklearn.metrics import confusion_matrix\n",
    "\n",
    "import warnings\n",
    "warnings.filterwarnings(\"ignore\")"
   ]
  },
  {
   "cell_type": "markdown",
   "metadata": {},
   "source": [
    "Загрузим файл и посмотрим на таблицу."
   ]
  },
  {
   "cell_type": "code",
   "execution_count": 2,
   "metadata": {},
   "outputs": [
    {
     "data": {
      "text/html": [
       "<div>\n",
       "<style scoped>\n",
       "    .dataframe tbody tr th:only-of-type {\n",
       "        vertical-align: middle;\n",
       "    }\n",
       "\n",
       "    .dataframe tbody tr th {\n",
       "        vertical-align: top;\n",
       "    }\n",
       "\n",
       "    .dataframe thead th {\n",
       "        text-align: right;\n",
       "    }\n",
       "</style>\n",
       "<table border=\"1\" class=\"dataframe\">\n",
       "  <thead>\n",
       "    <tr style=\"text-align: right;\">\n",
       "      <th></th>\n",
       "      <th>RowNumber</th>\n",
       "      <th>CustomerId</th>\n",
       "      <th>Surname</th>\n",
       "      <th>CreditScore</th>\n",
       "      <th>Geography</th>\n",
       "      <th>Gender</th>\n",
       "      <th>Age</th>\n",
       "      <th>Tenure</th>\n",
       "      <th>Balance</th>\n",
       "      <th>NumOfProducts</th>\n",
       "      <th>HasCrCard</th>\n",
       "      <th>IsActiveMember</th>\n",
       "      <th>EstimatedSalary</th>\n",
       "      <th>Exited</th>\n",
       "    </tr>\n",
       "  </thead>\n",
       "  <tbody>\n",
       "    <tr>\n",
       "      <td>0</td>\n",
       "      <td>1</td>\n",
       "      <td>15634602</td>\n",
       "      <td>Hargrave</td>\n",
       "      <td>619</td>\n",
       "      <td>France</td>\n",
       "      <td>Female</td>\n",
       "      <td>42</td>\n",
       "      <td>2.0</td>\n",
       "      <td>0.00</td>\n",
       "      <td>1</td>\n",
       "      <td>1</td>\n",
       "      <td>1</td>\n",
       "      <td>101348.88</td>\n",
       "      <td>1</td>\n",
       "    </tr>\n",
       "    <tr>\n",
       "      <td>1</td>\n",
       "      <td>2</td>\n",
       "      <td>15647311</td>\n",
       "      <td>Hill</td>\n",
       "      <td>608</td>\n",
       "      <td>Spain</td>\n",
       "      <td>Female</td>\n",
       "      <td>41</td>\n",
       "      <td>1.0</td>\n",
       "      <td>83807.86</td>\n",
       "      <td>1</td>\n",
       "      <td>0</td>\n",
       "      <td>1</td>\n",
       "      <td>112542.58</td>\n",
       "      <td>0</td>\n",
       "    </tr>\n",
       "    <tr>\n",
       "      <td>2</td>\n",
       "      <td>3</td>\n",
       "      <td>15619304</td>\n",
       "      <td>Onio</td>\n",
       "      <td>502</td>\n",
       "      <td>France</td>\n",
       "      <td>Female</td>\n",
       "      <td>42</td>\n",
       "      <td>8.0</td>\n",
       "      <td>159660.80</td>\n",
       "      <td>3</td>\n",
       "      <td>1</td>\n",
       "      <td>0</td>\n",
       "      <td>113931.57</td>\n",
       "      <td>1</td>\n",
       "    </tr>\n",
       "    <tr>\n",
       "      <td>3</td>\n",
       "      <td>4</td>\n",
       "      <td>15701354</td>\n",
       "      <td>Boni</td>\n",
       "      <td>699</td>\n",
       "      <td>France</td>\n",
       "      <td>Female</td>\n",
       "      <td>39</td>\n",
       "      <td>1.0</td>\n",
       "      <td>0.00</td>\n",
       "      <td>2</td>\n",
       "      <td>0</td>\n",
       "      <td>0</td>\n",
       "      <td>93826.63</td>\n",
       "      <td>0</td>\n",
       "    </tr>\n",
       "    <tr>\n",
       "      <td>4</td>\n",
       "      <td>5</td>\n",
       "      <td>15737888</td>\n",
       "      <td>Mitchell</td>\n",
       "      <td>850</td>\n",
       "      <td>Spain</td>\n",
       "      <td>Female</td>\n",
       "      <td>43</td>\n",
       "      <td>2.0</td>\n",
       "      <td>125510.82</td>\n",
       "      <td>1</td>\n",
       "      <td>1</td>\n",
       "      <td>1</td>\n",
       "      <td>79084.10</td>\n",
       "      <td>0</td>\n",
       "    </tr>\n",
       "    <tr>\n",
       "      <td>5</td>\n",
       "      <td>6</td>\n",
       "      <td>15574012</td>\n",
       "      <td>Chu</td>\n",
       "      <td>645</td>\n",
       "      <td>Spain</td>\n",
       "      <td>Male</td>\n",
       "      <td>44</td>\n",
       "      <td>8.0</td>\n",
       "      <td>113755.78</td>\n",
       "      <td>2</td>\n",
       "      <td>1</td>\n",
       "      <td>0</td>\n",
       "      <td>149756.71</td>\n",
       "      <td>1</td>\n",
       "    </tr>\n",
       "    <tr>\n",
       "      <td>6</td>\n",
       "      <td>7</td>\n",
       "      <td>15592531</td>\n",
       "      <td>Bartlett</td>\n",
       "      <td>822</td>\n",
       "      <td>France</td>\n",
       "      <td>Male</td>\n",
       "      <td>50</td>\n",
       "      <td>7.0</td>\n",
       "      <td>0.00</td>\n",
       "      <td>2</td>\n",
       "      <td>1</td>\n",
       "      <td>1</td>\n",
       "      <td>10062.80</td>\n",
       "      <td>0</td>\n",
       "    </tr>\n",
       "    <tr>\n",
       "      <td>7</td>\n",
       "      <td>8</td>\n",
       "      <td>15656148</td>\n",
       "      <td>Obinna</td>\n",
       "      <td>376</td>\n",
       "      <td>Germany</td>\n",
       "      <td>Female</td>\n",
       "      <td>29</td>\n",
       "      <td>4.0</td>\n",
       "      <td>115046.74</td>\n",
       "      <td>4</td>\n",
       "      <td>1</td>\n",
       "      <td>0</td>\n",
       "      <td>119346.88</td>\n",
       "      <td>1</td>\n",
       "    </tr>\n",
       "    <tr>\n",
       "      <td>8</td>\n",
       "      <td>9</td>\n",
       "      <td>15792365</td>\n",
       "      <td>He</td>\n",
       "      <td>501</td>\n",
       "      <td>France</td>\n",
       "      <td>Male</td>\n",
       "      <td>44</td>\n",
       "      <td>4.0</td>\n",
       "      <td>142051.07</td>\n",
       "      <td>2</td>\n",
       "      <td>0</td>\n",
       "      <td>1</td>\n",
       "      <td>74940.50</td>\n",
       "      <td>0</td>\n",
       "    </tr>\n",
       "    <tr>\n",
       "      <td>9</td>\n",
       "      <td>10</td>\n",
       "      <td>15592389</td>\n",
       "      <td>H?</td>\n",
       "      <td>684</td>\n",
       "      <td>France</td>\n",
       "      <td>Male</td>\n",
       "      <td>27</td>\n",
       "      <td>2.0</td>\n",
       "      <td>134603.88</td>\n",
       "      <td>1</td>\n",
       "      <td>1</td>\n",
       "      <td>1</td>\n",
       "      <td>71725.73</td>\n",
       "      <td>0</td>\n",
       "    </tr>\n",
       "  </tbody>\n",
       "</table>\n",
       "</div>"
      ],
      "text/plain": [
       "   RowNumber  CustomerId   Surname  CreditScore Geography  Gender  Age  \\\n",
       "0          1    15634602  Hargrave          619    France  Female   42   \n",
       "1          2    15647311      Hill          608     Spain  Female   41   \n",
       "2          3    15619304      Onio          502    France  Female   42   \n",
       "3          4    15701354      Boni          699    France  Female   39   \n",
       "4          5    15737888  Mitchell          850     Spain  Female   43   \n",
       "5          6    15574012       Chu          645     Spain    Male   44   \n",
       "6          7    15592531  Bartlett          822    France    Male   50   \n",
       "7          8    15656148    Obinna          376   Germany  Female   29   \n",
       "8          9    15792365        He          501    France    Male   44   \n",
       "9         10    15592389        H?          684    France    Male   27   \n",
       "\n",
       "   Tenure    Balance  NumOfProducts  HasCrCard  IsActiveMember  \\\n",
       "0     2.0       0.00              1          1               1   \n",
       "1     1.0   83807.86              1          0               1   \n",
       "2     8.0  159660.80              3          1               0   \n",
       "3     1.0       0.00              2          0               0   \n",
       "4     2.0  125510.82              1          1               1   \n",
       "5     8.0  113755.78              2          1               0   \n",
       "6     7.0       0.00              2          1               1   \n",
       "7     4.0  115046.74              4          1               0   \n",
       "8     4.0  142051.07              2          0               1   \n",
       "9     2.0  134603.88              1          1               1   \n",
       "\n",
       "   EstimatedSalary  Exited  \n",
       "0        101348.88       1  \n",
       "1        112542.58       0  \n",
       "2        113931.57       1  \n",
       "3         93826.63       0  \n",
       "4         79084.10       0  \n",
       "5        149756.71       1  \n",
       "6         10062.80       0  \n",
       "7        119346.88       1  \n",
       "8         74940.50       0  \n",
       "9         71725.73       0  "
      ]
     },
     "metadata": {},
     "output_type": "display_data"
    }
   ],
   "source": [
    "churn = pd.read_csv('/datasets/Churn.csv')\n",
    "display(churn.head(10))"
   ]
  },
  {
   "cell_type": "markdown",
   "metadata": {},
   "source": [
    "Изучим общую информацию по датафрейму, есть ли пропущенные значения, каковы типы данных."
   ]
  },
  {
   "cell_type": "code",
   "execution_count": 3,
   "metadata": {},
   "outputs": [
    {
     "name": "stdout",
     "output_type": "stream",
     "text": [
      "<class 'pandas.core.frame.DataFrame'>\n",
      "RangeIndex: 10000 entries, 0 to 9999\n",
      "Data columns (total 14 columns):\n",
      "RowNumber          10000 non-null int64\n",
      "CustomerId         10000 non-null int64\n",
      "Surname            10000 non-null object\n",
      "CreditScore        10000 non-null int64\n",
      "Geography          10000 non-null object\n",
      "Gender             10000 non-null object\n",
      "Age                10000 non-null int64\n",
      "Tenure             9091 non-null float64\n",
      "Balance            10000 non-null float64\n",
      "NumOfProducts      10000 non-null int64\n",
      "HasCrCard          10000 non-null int64\n",
      "IsActiveMember     10000 non-null int64\n",
      "EstimatedSalary    10000 non-null float64\n",
      "Exited             10000 non-null int64\n",
      "dtypes: float64(3), int64(8), object(3)\n",
      "memory usage: 1.1+ MB\n"
     ]
    }
   ],
   "source": [
    "churn.info()"
   ]
  },
  {
   "cell_type": "markdown",
   "metadata": {},
   "source": [
    "Посчитаем долю пропущенных значений в столбце Tenure"
   ]
  },
  {
   "cell_type": "code",
   "execution_count": 4,
   "metadata": {},
   "outputs": [
    {
     "name": "stdout",
     "output_type": "stream",
     "text": [
      "Доля пропущенных значений 0.0909\n"
     ]
    }
   ],
   "source": [
    "print('Доля пропущенных значений', churn['Tenure'].isnull().sum() / len(churn))"
   ]
  },
  {
   "cell_type": "markdown",
   "metadata": {},
   "source": [
    "Проверим датасет на наличие дубликатов."
   ]
  },
  {
   "cell_type": "code",
   "execution_count": 5,
   "metadata": {},
   "outputs": [
    {
     "name": "stdout",
     "output_type": "stream",
     "text": [
      "Количество дубликатов в наборе данных: 0\n"
     ]
    }
   ],
   "source": [
    "print('Количество дубликатов в наборе данных: {}'.format(churn.duplicated().sum()))"
   ]
  },
  {
   "cell_type": "markdown",
   "metadata": {},
   "source": [
    "Поскольку в целом задача сводится к отличию одной группы от другой, посмотрим общую статистическую информацию по каждой группе (Ушли / Остались) отдельно."
   ]
  },
  {
   "cell_type": "code",
   "execution_count": 6,
   "metadata": {},
   "outputs": [
    {
     "data": {
      "text/plain": [
       "'Остались'"
      ]
     },
     "metadata": {},
     "output_type": "display_data"
    },
    {
     "data": {
      "text/html": [
       "<div>\n",
       "<style scoped>\n",
       "    .dataframe tbody tr th:only-of-type {\n",
       "        vertical-align: middle;\n",
       "    }\n",
       "\n",
       "    .dataframe tbody tr th {\n",
       "        vertical-align: top;\n",
       "    }\n",
       "\n",
       "    .dataframe thead th {\n",
       "        text-align: right;\n",
       "    }\n",
       "</style>\n",
       "<table border=\"1\" class=\"dataframe\">\n",
       "  <thead>\n",
       "    <tr style=\"text-align: right;\">\n",
       "      <th></th>\n",
       "      <th>RowNumber</th>\n",
       "      <th>CustomerId</th>\n",
       "      <th>CreditScore</th>\n",
       "      <th>Age</th>\n",
       "      <th>Tenure</th>\n",
       "      <th>Balance</th>\n",
       "      <th>NumOfProducts</th>\n",
       "      <th>HasCrCard</th>\n",
       "      <th>IsActiveMember</th>\n",
       "      <th>EstimatedSalary</th>\n",
       "      <th>Exited</th>\n",
       "    </tr>\n",
       "  </thead>\n",
       "  <tbody>\n",
       "    <tr>\n",
       "      <td>count</td>\n",
       "      <td>7963.000000</td>\n",
       "      <td>7.963000e+03</td>\n",
       "      <td>7963.000000</td>\n",
       "      <td>7963.000000</td>\n",
       "      <td>7237.000000</td>\n",
       "      <td>7963.000000</td>\n",
       "      <td>7963.000000</td>\n",
       "      <td>7963.000000</td>\n",
       "      <td>7963.000000</td>\n",
       "      <td>7963.000000</td>\n",
       "      <td>7963.0</td>\n",
       "    </tr>\n",
       "    <tr>\n",
       "      <td>mean</td>\n",
       "      <td>5024.694964</td>\n",
       "      <td>1.569117e+07</td>\n",
       "      <td>651.853196</td>\n",
       "      <td>37.408389</td>\n",
       "      <td>5.022247</td>\n",
       "      <td>72745.296779</td>\n",
       "      <td>1.544267</td>\n",
       "      <td>0.707146</td>\n",
       "      <td>0.554565</td>\n",
       "      <td>99738.391772</td>\n",
       "      <td>0.0</td>\n",
       "    </tr>\n",
       "    <tr>\n",
       "      <td>std</td>\n",
       "      <td>2891.682053</td>\n",
       "      <td>7.174423e+04</td>\n",
       "      <td>95.653837</td>\n",
       "      <td>10.125363</td>\n",
       "      <td>2.881467</td>\n",
       "      <td>62848.040701</td>\n",
       "      <td>0.509536</td>\n",
       "      <td>0.455101</td>\n",
       "      <td>0.497045</td>\n",
       "      <td>57405.586966</td>\n",
       "      <td>0.0</td>\n",
       "    </tr>\n",
       "    <tr>\n",
       "      <td>min</td>\n",
       "      <td>2.000000</td>\n",
       "      <td>1.556570e+07</td>\n",
       "      <td>405.000000</td>\n",
       "      <td>18.000000</td>\n",
       "      <td>0.000000</td>\n",
       "      <td>0.000000</td>\n",
       "      <td>1.000000</td>\n",
       "      <td>0.000000</td>\n",
       "      <td>0.000000</td>\n",
       "      <td>90.070000</td>\n",
       "      <td>0.0</td>\n",
       "    </tr>\n",
       "    <tr>\n",
       "      <td>25%</td>\n",
       "      <td>2526.500000</td>\n",
       "      <td>1.562882e+07</td>\n",
       "      <td>585.000000</td>\n",
       "      <td>31.000000</td>\n",
       "      <td>3.000000</td>\n",
       "      <td>0.000000</td>\n",
       "      <td>1.000000</td>\n",
       "      <td>0.000000</td>\n",
       "      <td>0.000000</td>\n",
       "      <td>50783.490000</td>\n",
       "      <td>0.0</td>\n",
       "    </tr>\n",
       "    <tr>\n",
       "      <td>50%</td>\n",
       "      <td>5042.000000</td>\n",
       "      <td>1.569154e+07</td>\n",
       "      <td>653.000000</td>\n",
       "      <td>36.000000</td>\n",
       "      <td>5.000000</td>\n",
       "      <td>92072.680000</td>\n",
       "      <td>2.000000</td>\n",
       "      <td>1.000000</td>\n",
       "      <td>1.000000</td>\n",
       "      <td>99645.040000</td>\n",
       "      <td>0.0</td>\n",
       "    </tr>\n",
       "    <tr>\n",
       "      <td>75%</td>\n",
       "      <td>7525.500000</td>\n",
       "      <td>1.575335e+07</td>\n",
       "      <td>718.000000</td>\n",
       "      <td>41.000000</td>\n",
       "      <td>7.000000</td>\n",
       "      <td>126410.280000</td>\n",
       "      <td>2.000000</td>\n",
       "      <td>1.000000</td>\n",
       "      <td>1.000000</td>\n",
       "      <td>148609.955000</td>\n",
       "      <td>0.0</td>\n",
       "    </tr>\n",
       "    <tr>\n",
       "      <td>max</td>\n",
       "      <td>10000.000000</td>\n",
       "      <td>1.581569e+07</td>\n",
       "      <td>850.000000</td>\n",
       "      <td>92.000000</td>\n",
       "      <td>10.000000</td>\n",
       "      <td>221532.800000</td>\n",
       "      <td>3.000000</td>\n",
       "      <td>1.000000</td>\n",
       "      <td>1.000000</td>\n",
       "      <td>199992.480000</td>\n",
       "      <td>0.0</td>\n",
       "    </tr>\n",
       "  </tbody>\n",
       "</table>\n",
       "</div>"
      ],
      "text/plain": [
       "          RowNumber    CustomerId  CreditScore          Age       Tenure  \\\n",
       "count   7963.000000  7.963000e+03  7963.000000  7963.000000  7237.000000   \n",
       "mean    5024.694964  1.569117e+07   651.853196    37.408389     5.022247   \n",
       "std     2891.682053  7.174423e+04    95.653837    10.125363     2.881467   \n",
       "min        2.000000  1.556570e+07   405.000000    18.000000     0.000000   \n",
       "25%     2526.500000  1.562882e+07   585.000000    31.000000     3.000000   \n",
       "50%     5042.000000  1.569154e+07   653.000000    36.000000     5.000000   \n",
       "75%     7525.500000  1.575335e+07   718.000000    41.000000     7.000000   \n",
       "max    10000.000000  1.581569e+07   850.000000    92.000000    10.000000   \n",
       "\n",
       "             Balance  NumOfProducts    HasCrCard  IsActiveMember  \\\n",
       "count    7963.000000    7963.000000  7963.000000     7963.000000   \n",
       "mean    72745.296779       1.544267     0.707146        0.554565   \n",
       "std     62848.040701       0.509536     0.455101        0.497045   \n",
       "min         0.000000       1.000000     0.000000        0.000000   \n",
       "25%         0.000000       1.000000     0.000000        0.000000   \n",
       "50%     92072.680000       2.000000     1.000000        1.000000   \n",
       "75%    126410.280000       2.000000     1.000000        1.000000   \n",
       "max    221532.800000       3.000000     1.000000        1.000000   \n",
       "\n",
       "       EstimatedSalary  Exited  \n",
       "count      7963.000000  7963.0  \n",
       "mean      99738.391772     0.0  \n",
       "std       57405.586966     0.0  \n",
       "min          90.070000     0.0  \n",
       "25%       50783.490000     0.0  \n",
       "50%       99645.040000     0.0  \n",
       "75%      148609.955000     0.0  \n",
       "max      199992.480000     0.0  "
      ]
     },
     "metadata": {},
     "output_type": "display_data"
    },
    {
     "data": {
      "text/plain": [
       "'Ушли'"
      ]
     },
     "metadata": {},
     "output_type": "display_data"
    },
    {
     "data": {
      "text/html": [
       "<div>\n",
       "<style scoped>\n",
       "    .dataframe tbody tr th:only-of-type {\n",
       "        vertical-align: middle;\n",
       "    }\n",
       "\n",
       "    .dataframe tbody tr th {\n",
       "        vertical-align: top;\n",
       "    }\n",
       "\n",
       "    .dataframe thead th {\n",
       "        text-align: right;\n",
       "    }\n",
       "</style>\n",
       "<table border=\"1\" class=\"dataframe\">\n",
       "  <thead>\n",
       "    <tr style=\"text-align: right;\">\n",
       "      <th></th>\n",
       "      <th>RowNumber</th>\n",
       "      <th>CustomerId</th>\n",
       "      <th>CreditScore</th>\n",
       "      <th>Age</th>\n",
       "      <th>Tenure</th>\n",
       "      <th>Balance</th>\n",
       "      <th>NumOfProducts</th>\n",
       "      <th>HasCrCard</th>\n",
       "      <th>IsActiveMember</th>\n",
       "      <th>EstimatedSalary</th>\n",
       "      <th>Exited</th>\n",
       "    </tr>\n",
       "  </thead>\n",
       "  <tbody>\n",
       "    <tr>\n",
       "      <td>count</td>\n",
       "      <td>2037.000000</td>\n",
       "      <td>2.037000e+03</td>\n",
       "      <td>2037.000000</td>\n",
       "      <td>2037.000000</td>\n",
       "      <td>1854.000000</td>\n",
       "      <td>2037.000000</td>\n",
       "      <td>2037.000000</td>\n",
       "      <td>2037.000000</td>\n",
       "      <td>2037.000000</td>\n",
       "      <td>2037.000000</td>\n",
       "      <td>2037.0</td>\n",
       "    </tr>\n",
       "    <tr>\n",
       "      <td>mean</td>\n",
       "      <td>4905.917526</td>\n",
       "      <td>1.569005e+07</td>\n",
       "      <td>645.351497</td>\n",
       "      <td>44.837997</td>\n",
       "      <td>4.901834</td>\n",
       "      <td>91108.539337</td>\n",
       "      <td>1.475209</td>\n",
       "      <td>0.699067</td>\n",
       "      <td>0.360825</td>\n",
       "      <td>101465.677531</td>\n",
       "      <td>1.0</td>\n",
       "    </tr>\n",
       "    <tr>\n",
       "      <td>std</td>\n",
       "      <td>2866.855245</td>\n",
       "      <td>7.269262e+04</td>\n",
       "      <td>100.321503</td>\n",
       "      <td>9.761562</td>\n",
       "      <td>2.944727</td>\n",
       "      <td>58360.794816</td>\n",
       "      <td>0.801521</td>\n",
       "      <td>0.458776</td>\n",
       "      <td>0.480358</td>\n",
       "      <td>57912.418071</td>\n",
       "      <td>0.0</td>\n",
       "    </tr>\n",
       "    <tr>\n",
       "      <td>min</td>\n",
       "      <td>1.000000</td>\n",
       "      <td>1.556571e+07</td>\n",
       "      <td>350.000000</td>\n",
       "      <td>18.000000</td>\n",
       "      <td>0.000000</td>\n",
       "      <td>0.000000</td>\n",
       "      <td>1.000000</td>\n",
       "      <td>0.000000</td>\n",
       "      <td>0.000000</td>\n",
       "      <td>11.580000</td>\n",
       "      <td>1.0</td>\n",
       "    </tr>\n",
       "    <tr>\n",
       "      <td>25%</td>\n",
       "      <td>2419.000000</td>\n",
       "      <td>1.562736e+07</td>\n",
       "      <td>578.000000</td>\n",
       "      <td>38.000000</td>\n",
       "      <td>2.000000</td>\n",
       "      <td>38340.020000</td>\n",
       "      <td>1.000000</td>\n",
       "      <td>0.000000</td>\n",
       "      <td>0.000000</td>\n",
       "      <td>51907.720000</td>\n",
       "      <td>1.0</td>\n",
       "    </tr>\n",
       "    <tr>\n",
       "      <td>50%</td>\n",
       "      <td>4871.000000</td>\n",
       "      <td>1.568896e+07</td>\n",
       "      <td>646.000000</td>\n",
       "      <td>45.000000</td>\n",
       "      <td>5.000000</td>\n",
       "      <td>109349.290000</td>\n",
       "      <td>1.000000</td>\n",
       "      <td>1.000000</td>\n",
       "      <td>0.000000</td>\n",
       "      <td>102460.840000</td>\n",
       "      <td>1.0</td>\n",
       "    </tr>\n",
       "    <tr>\n",
       "      <td>75%</td>\n",
       "      <td>7404.000000</td>\n",
       "      <td>1.575309e+07</td>\n",
       "      <td>716.000000</td>\n",
       "      <td>51.000000</td>\n",
       "      <td>7.000000</td>\n",
       "      <td>131433.330000</td>\n",
       "      <td>2.000000</td>\n",
       "      <td>1.000000</td>\n",
       "      <td>1.000000</td>\n",
       "      <td>152422.910000</td>\n",
       "      <td>1.0</td>\n",
       "    </tr>\n",
       "    <tr>\n",
       "      <td>max</td>\n",
       "      <td>9999.000000</td>\n",
       "      <td>1.581566e+07</td>\n",
       "      <td>850.000000</td>\n",
       "      <td>84.000000</td>\n",
       "      <td>10.000000</td>\n",
       "      <td>250898.090000</td>\n",
       "      <td>4.000000</td>\n",
       "      <td>1.000000</td>\n",
       "      <td>1.000000</td>\n",
       "      <td>199808.100000</td>\n",
       "      <td>1.0</td>\n",
       "    </tr>\n",
       "  </tbody>\n",
       "</table>\n",
       "</div>"
      ],
      "text/plain": [
       "         RowNumber    CustomerId  CreditScore          Age       Tenure  \\\n",
       "count  2037.000000  2.037000e+03  2037.000000  2037.000000  1854.000000   \n",
       "mean   4905.917526  1.569005e+07   645.351497    44.837997     4.901834   \n",
       "std    2866.855245  7.269262e+04   100.321503     9.761562     2.944727   \n",
       "min       1.000000  1.556571e+07   350.000000    18.000000     0.000000   \n",
       "25%    2419.000000  1.562736e+07   578.000000    38.000000     2.000000   \n",
       "50%    4871.000000  1.568896e+07   646.000000    45.000000     5.000000   \n",
       "75%    7404.000000  1.575309e+07   716.000000    51.000000     7.000000   \n",
       "max    9999.000000  1.581566e+07   850.000000    84.000000    10.000000   \n",
       "\n",
       "             Balance  NumOfProducts    HasCrCard  IsActiveMember  \\\n",
       "count    2037.000000    2037.000000  2037.000000     2037.000000   \n",
       "mean    91108.539337       1.475209     0.699067        0.360825   \n",
       "std     58360.794816       0.801521     0.458776        0.480358   \n",
       "min         0.000000       1.000000     0.000000        0.000000   \n",
       "25%     38340.020000       1.000000     0.000000        0.000000   \n",
       "50%    109349.290000       1.000000     1.000000        0.000000   \n",
       "75%    131433.330000       2.000000     1.000000        1.000000   \n",
       "max    250898.090000       4.000000     1.000000        1.000000   \n",
       "\n",
       "       EstimatedSalary  Exited  \n",
       "count      2037.000000  2037.0  \n",
       "mean     101465.677531     1.0  \n",
       "std       57912.418071     0.0  \n",
       "min          11.580000     1.0  \n",
       "25%       51907.720000     1.0  \n",
       "50%      102460.840000     1.0  \n",
       "75%      152422.910000     1.0  \n",
       "max      199808.100000     1.0  "
      ]
     },
     "metadata": {},
     "output_type": "display_data"
    }
   ],
   "source": [
    "display('Остались', churn.query('Exited == 0').describe())\n",
    "display('Ушли', churn.query('Exited == 1').describe())"
   ]
  },
  {
   "cell_type": "markdown",
   "metadata": {},
   "source": [
    "В среднем ушедшие клиенты старше по возрасту, имеют больший баланс на счете и менее активны. \n",
    "\n",
    "Выведем корреляционную матрицу и посмотрим, есть ли какие-то зависимости между признаками."
   ]
  },
  {
   "cell_type": "code",
   "execution_count": 7,
   "metadata": {},
   "outputs": [
    {
     "name": "stdout",
     "output_type": "stream",
     "text": [
      "\n",
      " Корреляционная матрица, коэф. Пирсона\n"
     ]
    },
    {
     "data": {
      "text/html": [
       "<style  type=\"text/css\" >\n",
       "    #T_5814bed4_b2a1_11eb_80f9_02420a3922b4row0_col0 {\n",
       "            background-color:  #b40426;\n",
       "            color:  #f1f1f1;\n",
       "        }    #T_5814bed4_b2a1_11eb_80f9_02420a3922b4row0_col1 {\n",
       "            background-color:  #4257c9;\n",
       "            color:  #f1f1f1;\n",
       "        }    #T_5814bed4_b2a1_11eb_80f9_02420a3922b4row0_col2 {\n",
       "            background-color:  #445acc;\n",
       "            color:  #f1f1f1;\n",
       "        }    #T_5814bed4_b2a1_11eb_80f9_02420a3922b4row0_col3 {\n",
       "            background-color:  #4358cb;\n",
       "            color:  #f1f1f1;\n",
       "        }    #T_5814bed4_b2a1_11eb_80f9_02420a3922b4row0_col4 {\n",
       "            background-color:  #4257c9;\n",
       "            color:  #f1f1f1;\n",
       "        }    #T_5814bed4_b2a1_11eb_80f9_02420a3922b4row0_col5 {\n",
       "            background-color:  #84a7fc;\n",
       "            color:  #000000;\n",
       "        }    #T_5814bed4_b2a1_11eb_80f9_02420a3922b4row0_col6 {\n",
       "            background-color:  #89acfd;\n",
       "            color:  #000000;\n",
       "        }    #T_5814bed4_b2a1_11eb_80f9_02420a3922b4row0_col7 {\n",
       "            background-color:  #3e51c5;\n",
       "            color:  #f1f1f1;\n",
       "        }    #T_5814bed4_b2a1_11eb_80f9_02420a3922b4row0_col8 {\n",
       "            background-color:  #688aef;\n",
       "            color:  #000000;\n",
       "        }    #T_5814bed4_b2a1_11eb_80f9_02420a3922b4row0_col9 {\n",
       "            background-color:  #3c4ec2;\n",
       "            color:  #f1f1f1;\n",
       "        }    #T_5814bed4_b2a1_11eb_80f9_02420a3922b4row0_col10 {\n",
       "            background-color:  #5f7fe8;\n",
       "            color:  #000000;\n",
       "        }    #T_5814bed4_b2a1_11eb_80f9_02420a3922b4row1_col0 {\n",
       "            background-color:  #4055c8;\n",
       "            color:  #f1f1f1;\n",
       "        }    #T_5814bed4_b2a1_11eb_80f9_02420a3922b4row1_col1 {\n",
       "            background-color:  #b40426;\n",
       "            color:  #f1f1f1;\n",
       "        }    #T_5814bed4_b2a1_11eb_80f9_02420a3922b4row1_col2 {\n",
       "            background-color:  #445acc;\n",
       "            color:  #f1f1f1;\n",
       "        }    #T_5814bed4_b2a1_11eb_80f9_02420a3922b4row1_col3 {\n",
       "            background-color:  #455cce;\n",
       "            color:  #f1f1f1;\n",
       "        }    #T_5814bed4_b2a1_11eb_80f9_02420a3922b4row1_col4 {\n",
       "            background-color:  #3d50c3;\n",
       "            color:  #f1f1f1;\n",
       "        }    #T_5814bed4_b2a1_11eb_80f9_02420a3922b4row1_col5 {\n",
       "            background-color:  #84a7fc;\n",
       "            color:  #000000;\n",
       "        }    #T_5814bed4_b2a1_11eb_80f9_02420a3922b4row1_col6 {\n",
       "            background-color:  #8caffe;\n",
       "            color:  #000000;\n",
       "        }    #T_5814bed4_b2a1_11eb_80f9_02420a3922b4row1_col7 {\n",
       "            background-color:  #3b4cc0;\n",
       "            color:  #f1f1f1;\n",
       "        }    #T_5814bed4_b2a1_11eb_80f9_02420a3922b4row1_col8 {\n",
       "            background-color:  #6485ec;\n",
       "            color:  #000000;\n",
       "        }    #T_5814bed4_b2a1_11eb_80f9_02420a3922b4row1_col9 {\n",
       "            background-color:  #4257c9;\n",
       "            color:  #f1f1f1;\n",
       "        }    #T_5814bed4_b2a1_11eb_80f9_02420a3922b4row1_col10 {\n",
       "            background-color:  #6384eb;\n",
       "            color:  #000000;\n",
       "        }    #T_5814bed4_b2a1_11eb_80f9_02420a3922b4row2_col0 {\n",
       "            background-color:  #4055c8;\n",
       "            color:  #f1f1f1;\n",
       "        }    #T_5814bed4_b2a1_11eb_80f9_02420a3922b4row2_col1 {\n",
       "            background-color:  #4257c9;\n",
       "            color:  #f1f1f1;\n",
       "        }    #T_5814bed4_b2a1_11eb_80f9_02420a3922b4row2_col2 {\n",
       "            background-color:  #b40426;\n",
       "            color:  #f1f1f1;\n",
       "        }    #T_5814bed4_b2a1_11eb_80f9_02420a3922b4row2_col3 {\n",
       "            background-color:  #4257c9;\n",
       "            color:  #f1f1f1;\n",
       "        }    #T_5814bed4_b2a1_11eb_80f9_02420a3922b4row2_col4 {\n",
       "            background-color:  #4358cb;\n",
       "            color:  #f1f1f1;\n",
       "        }    #T_5814bed4_b2a1_11eb_80f9_02420a3922b4row2_col5 {\n",
       "            background-color:  #88abfd;\n",
       "            color:  #000000;\n",
       "        }    #T_5814bed4_b2a1_11eb_80f9_02420a3922b4row2_col6 {\n",
       "            background-color:  #8badfd;\n",
       "            color:  #000000;\n",
       "        }    #T_5814bed4_b2a1_11eb_80f9_02420a3922b4row2_col7 {\n",
       "            background-color:  #3d50c3;\n",
       "            color:  #f1f1f1;\n",
       "        }    #T_5814bed4_b2a1_11eb_80f9_02420a3922b4row2_col8 {\n",
       "            background-color:  #6c8ff1;\n",
       "            color:  #000000;\n",
       "        }    #T_5814bed4_b2a1_11eb_80f9_02420a3922b4row2_col9 {\n",
       "            background-color:  #3d50c3;\n",
       "            color:  #f1f1f1;\n",
       "        }    #T_5814bed4_b2a1_11eb_80f9_02420a3922b4row2_col10 {\n",
       "            background-color:  #5d7ce6;\n",
       "            color:  #000000;\n",
       "        }    #T_5814bed4_b2a1_11eb_80f9_02420a3922b4row3_col0 {\n",
       "            background-color:  #3f53c6;\n",
       "            color:  #f1f1f1;\n",
       "        }    #T_5814bed4_b2a1_11eb_80f9_02420a3922b4row3_col1 {\n",
       "            background-color:  #4358cb;\n",
       "            color:  #f1f1f1;\n",
       "        }    #T_5814bed4_b2a1_11eb_80f9_02420a3922b4row3_col2 {\n",
       "            background-color:  #4055c8;\n",
       "            color:  #f1f1f1;\n",
       "        }    #T_5814bed4_b2a1_11eb_80f9_02420a3922b4row3_col3 {\n",
       "            background-color:  #b40426;\n",
       "            color:  #f1f1f1;\n",
       "        }    #T_5814bed4_b2a1_11eb_80f9_02420a3922b4row3_col4 {\n",
       "            background-color:  #3f53c6;\n",
       "            color:  #f1f1f1;\n",
       "        }    #T_5814bed4_b2a1_11eb_80f9_02420a3922b4row3_col5 {\n",
       "            background-color:  #8fb1fe;\n",
       "            color:  #000000;\n",
       "        }    #T_5814bed4_b2a1_11eb_80f9_02420a3922b4row3_col6 {\n",
       "            background-color:  #7ea1fa;\n",
       "            color:  #000000;\n",
       "        }    #T_5814bed4_b2a1_11eb_80f9_02420a3922b4row3_col7 {\n",
       "            background-color:  #3b4cc0;\n",
       "            color:  #f1f1f1;\n",
       "        }    #T_5814bed4_b2a1_11eb_80f9_02420a3922b4row3_col8 {\n",
       "            background-color:  #7ea1fa;\n",
       "            color:  #000000;\n",
       "        }    #T_5814bed4_b2a1_11eb_80f9_02420a3922b4row3_col9 {\n",
       "            background-color:  #3c4ec2;\n",
       "            color:  #f1f1f1;\n",
       "        }    #T_5814bed4_b2a1_11eb_80f9_02420a3922b4row3_col10 {\n",
       "            background-color:  #bad0f8;\n",
       "            color:  #000000;\n",
       "        }    #T_5814bed4_b2a1_11eb_80f9_02420a3922b4row4_col0 {\n",
       "            background-color:  #3d50c3;\n",
       "            color:  #f1f1f1;\n",
       "        }    #T_5814bed4_b2a1_11eb_80f9_02420a3922b4row4_col1 {\n",
       "            background-color:  #3b4cc0;\n",
       "            color:  #f1f1f1;\n",
       "        }    #T_5814bed4_b2a1_11eb_80f9_02420a3922b4row4_col2 {\n",
       "            background-color:  #4257c9;\n",
       "            color:  #f1f1f1;\n",
       "        }    #T_5814bed4_b2a1_11eb_80f9_02420a3922b4row4_col3 {\n",
       "            background-color:  #3f53c6;\n",
       "            color:  #f1f1f1;\n",
       "        }    #T_5814bed4_b2a1_11eb_80f9_02420a3922b4row4_col4 {\n",
       "            background-color:  #b40426;\n",
       "            color:  #f1f1f1;\n",
       "        }    #T_5814bed4_b2a1_11eb_80f9_02420a3922b4row4_col5 {\n",
       "            background-color:  #85a8fc;\n",
       "            color:  #000000;\n",
       "        }    #T_5814bed4_b2a1_11eb_80f9_02420a3922b4row4_col6 {\n",
       "            background-color:  #8badfd;\n",
       "            color:  #000000;\n",
       "        }    #T_5814bed4_b2a1_11eb_80f9_02420a3922b4row4_col7 {\n",
       "            background-color:  #465ecf;\n",
       "            color:  #f1f1f1;\n",
       "        }    #T_5814bed4_b2a1_11eb_80f9_02420a3922b4row4_col8 {\n",
       "            background-color:  #5b7ae5;\n",
       "            color:  #000000;\n",
       "        }    #T_5814bed4_b2a1_11eb_80f9_02420a3922b4row4_col9 {\n",
       "            background-color:  #4055c8;\n",
       "            color:  #f1f1f1;\n",
       "        }    #T_5814bed4_b2a1_11eb_80f9_02420a3922b4row4_col10 {\n",
       "            background-color:  #5f7fe8;\n",
       "            color:  #000000;\n",
       "        }    #T_5814bed4_b2a1_11eb_80f9_02420a3922b4row5_col0 {\n",
       "            background-color:  #3c4ec2;\n",
       "            color:  #f1f1f1;\n",
       "        }    #T_5814bed4_b2a1_11eb_80f9_02420a3922b4row5_col1 {\n",
       "            background-color:  #3d50c3;\n",
       "            color:  #f1f1f1;\n",
       "        }    #T_5814bed4_b2a1_11eb_80f9_02420a3922b4row5_col2 {\n",
       "            background-color:  #445acc;\n",
       "            color:  #f1f1f1;\n",
       "        }    #T_5814bed4_b2a1_11eb_80f9_02420a3922b4row5_col3 {\n",
       "            background-color:  #4b64d5;\n",
       "            color:  #f1f1f1;\n",
       "        }    #T_5814bed4_b2a1_11eb_80f9_02420a3922b4row5_col4 {\n",
       "            background-color:  #4257c9;\n",
       "            color:  #f1f1f1;\n",
       "        }    #T_5814bed4_b2a1_11eb_80f9_02420a3922b4row5_col5 {\n",
       "            background-color:  #b40426;\n",
       "            color:  #f1f1f1;\n",
       "        }    #T_5814bed4_b2a1_11eb_80f9_02420a3922b4row5_col6 {\n",
       "            background-color:  #3b4cc0;\n",
       "            color:  #f1f1f1;\n",
       "        }    #T_5814bed4_b2a1_11eb_80f9_02420a3922b4row5_col7 {\n",
       "            background-color:  #3b4cc0;\n",
       "            color:  #f1f1f1;\n",
       "        }    #T_5814bed4_b2a1_11eb_80f9_02420a3922b4row5_col8 {\n",
       "            background-color:  #6282ea;\n",
       "            color:  #000000;\n",
       "        }    #T_5814bed4_b2a1_11eb_80f9_02420a3922b4row5_col9 {\n",
       "            background-color:  #4257c9;\n",
       "            color:  #f1f1f1;\n",
       "        }    #T_5814bed4_b2a1_11eb_80f9_02420a3922b4row5_col10 {\n",
       "            background-color:  #88abfd;\n",
       "            color:  #000000;\n",
       "        }    #T_5814bed4_b2a1_11eb_80f9_02420a3922b4row6_col0 {\n",
       "            background-color:  #4055c8;\n",
       "            color:  #f1f1f1;\n",
       "        }    #T_5814bed4_b2a1_11eb_80f9_02420a3922b4row6_col1 {\n",
       "            background-color:  #455cce;\n",
       "            color:  #f1f1f1;\n",
       "        }    #T_5814bed4_b2a1_11eb_80f9_02420a3922b4row6_col2 {\n",
       "            background-color:  #455cce;\n",
       "            color:  #f1f1f1;\n",
       "        }    #T_5814bed4_b2a1_11eb_80f9_02420a3922b4row6_col3 {\n",
       "            background-color:  #3b4cc0;\n",
       "            color:  #f1f1f1;\n",
       "        }    #T_5814bed4_b2a1_11eb_80f9_02420a3922b4row6_col4 {\n",
       "            background-color:  #465ecf;\n",
       "            color:  #f1f1f1;\n",
       "        }    #T_5814bed4_b2a1_11eb_80f9_02420a3922b4row6_col5 {\n",
       "            background-color:  #3b4cc0;\n",
       "            color:  #f1f1f1;\n",
       "        }    #T_5814bed4_b2a1_11eb_80f9_02420a3922b4row6_col6 {\n",
       "            background-color:  #b40426;\n",
       "            color:  #f1f1f1;\n",
       "        }    #T_5814bed4_b2a1_11eb_80f9_02420a3922b4row6_col7 {\n",
       "            background-color:  #3f53c6;\n",
       "            color:  #f1f1f1;\n",
       "        }    #T_5814bed4_b2a1_11eb_80f9_02420a3922b4row6_col8 {\n",
       "            background-color:  #6788ee;\n",
       "            color:  #000000;\n",
       "        }    #T_5814bed4_b2a1_11eb_80f9_02420a3922b4row6_col9 {\n",
       "            background-color:  #4257c9;\n",
       "            color:  #f1f1f1;\n",
       "        }    #T_5814bed4_b2a1_11eb_80f9_02420a3922b4row6_col10 {\n",
       "            background-color:  #5673e0;\n",
       "            color:  #000000;\n",
       "        }    #T_5814bed4_b2a1_11eb_80f9_02420a3922b4row7_col0 {\n",
       "            background-color:  #3f53c6;\n",
       "            color:  #f1f1f1;\n",
       "        }    #T_5814bed4_b2a1_11eb_80f9_02420a3922b4row7_col1 {\n",
       "            background-color:  #3c4ec2;\n",
       "            color:  #f1f1f1;\n",
       "        }    #T_5814bed4_b2a1_11eb_80f9_02420a3922b4row7_col2 {\n",
       "            background-color:  #4055c8;\n",
       "            color:  #f1f1f1;\n",
       "        }    #T_5814bed4_b2a1_11eb_80f9_02420a3922b4row7_col3 {\n",
       "            background-color:  #3f53c6;\n",
       "            color:  #f1f1f1;\n",
       "        }    #T_5814bed4_b2a1_11eb_80f9_02420a3922b4row7_col4 {\n",
       "            background-color:  #4b64d5;\n",
       "            color:  #f1f1f1;\n",
       "        }    #T_5814bed4_b2a1_11eb_80f9_02420a3922b4row7_col5 {\n",
       "            background-color:  #82a6fb;\n",
       "            color:  #000000;\n",
       "        }    #T_5814bed4_b2a1_11eb_80f9_02420a3922b4row7_col6 {\n",
       "            background-color:  #88abfd;\n",
       "            color:  #000000;\n",
       "        }    #T_5814bed4_b2a1_11eb_80f9_02420a3922b4row7_col7 {\n",
       "            background-color:  #b40426;\n",
       "            color:  #f1f1f1;\n",
       "        }    #T_5814bed4_b2a1_11eb_80f9_02420a3922b4row7_col8 {\n",
       "            background-color:  #6180e9;\n",
       "            color:  #000000;\n",
       "        }    #T_5814bed4_b2a1_11eb_80f9_02420a3922b4row7_col9 {\n",
       "            background-color:  #3b4cc0;\n",
       "            color:  #f1f1f1;\n",
       "        }    #T_5814bed4_b2a1_11eb_80f9_02420a3922b4row7_col10 {\n",
       "            background-color:  #6282ea;\n",
       "            color:  #000000;\n",
       "        }    #T_5814bed4_b2a1_11eb_80f9_02420a3922b4row8_col0 {\n",
       "            background-color:  #4358cb;\n",
       "            color:  #f1f1f1;\n",
       "        }    #T_5814bed4_b2a1_11eb_80f9_02420a3922b4row8_col1 {\n",
       "            background-color:  #4055c8;\n",
       "            color:  #f1f1f1;\n",
       "        }    #T_5814bed4_b2a1_11eb_80f9_02420a3922b4row8_col2 {\n",
       "            background-color:  #4a63d3;\n",
       "            color:  #f1f1f1;\n",
       "        }    #T_5814bed4_b2a1_11eb_80f9_02420a3922b4row8_col3 {\n",
       "            background-color:  #5d7ce6;\n",
       "            color:  #000000;\n",
       "        }    #T_5814bed4_b2a1_11eb_80f9_02420a3922b4row8_col4 {\n",
       "            background-color:  #3b4cc0;\n",
       "            color:  #f1f1f1;\n",
       "        }    #T_5814bed4_b2a1_11eb_80f9_02420a3922b4row8_col5 {\n",
       "            background-color:  #84a7fc;\n",
       "            color:  #000000;\n",
       "        }    #T_5814bed4_b2a1_11eb_80f9_02420a3922b4row8_col6 {\n",
       "            background-color:  #89acfd;\n",
       "            color:  #000000;\n",
       "        }    #T_5814bed4_b2a1_11eb_80f9_02420a3922b4row8_col7 {\n",
       "            background-color:  #3b4cc0;\n",
       "            color:  #f1f1f1;\n",
       "        }    #T_5814bed4_b2a1_11eb_80f9_02420a3922b4row8_col8 {\n",
       "            background-color:  #b40426;\n",
       "            color:  #f1f1f1;\n",
       "        }    #T_5814bed4_b2a1_11eb_80f9_02420a3922b4row8_col9 {\n",
       "            background-color:  #3b4cc0;\n",
       "            color:  #f1f1f1;\n",
       "        }    #T_5814bed4_b2a1_11eb_80f9_02420a3922b4row8_col10 {\n",
       "            background-color:  #3b4cc0;\n",
       "            color:  #f1f1f1;\n",
       "        }    #T_5814bed4_b2a1_11eb_80f9_02420a3922b4row9_col0 {\n",
       "            background-color:  #3d50c3;\n",
       "            color:  #f1f1f1;\n",
       "        }    #T_5814bed4_b2a1_11eb_80f9_02420a3922b4row9_col1 {\n",
       "            background-color:  #455cce;\n",
       "            color:  #f1f1f1;\n",
       "        }    #T_5814bed4_b2a1_11eb_80f9_02420a3922b4row9_col2 {\n",
       "            background-color:  #4257c9;\n",
       "            color:  #f1f1f1;\n",
       "        }    #T_5814bed4_b2a1_11eb_80f9_02420a3922b4row9_col3 {\n",
       "            background-color:  #4055c8;\n",
       "            color:  #f1f1f1;\n",
       "        }    #T_5814bed4_b2a1_11eb_80f9_02420a3922b4row9_col4 {\n",
       "            background-color:  #465ecf;\n",
       "            color:  #f1f1f1;\n",
       "        }    #T_5814bed4_b2a1_11eb_80f9_02420a3922b4row9_col5 {\n",
       "            background-color:  #8badfd;\n",
       "            color:  #000000;\n",
       "        }    #T_5814bed4_b2a1_11eb_80f9_02420a3922b4row9_col6 {\n",
       "            background-color:  #8badfd;\n",
       "            color:  #000000;\n",
       "        }    #T_5814bed4_b2a1_11eb_80f9_02420a3922b4row9_col7 {\n",
       "            background-color:  #3c4ec2;\n",
       "            color:  #f1f1f1;\n",
       "        }    #T_5814bed4_b2a1_11eb_80f9_02420a3922b4row9_col8 {\n",
       "            background-color:  #6282ea;\n",
       "            color:  #000000;\n",
       "        }    #T_5814bed4_b2a1_11eb_80f9_02420a3922b4row9_col9 {\n",
       "            background-color:  #b40426;\n",
       "            color:  #f1f1f1;\n",
       "        }    #T_5814bed4_b2a1_11eb_80f9_02420a3922b4row9_col10 {\n",
       "            background-color:  #688aef;\n",
       "            color:  #000000;\n",
       "        }    #T_5814bed4_b2a1_11eb_80f9_02420a3922b4row10_col0 {\n",
       "            background-color:  #3b4cc0;\n",
       "            color:  #f1f1f1;\n",
       "        }    #T_5814bed4_b2a1_11eb_80f9_02420a3922b4row10_col1 {\n",
       "            background-color:  #3e51c5;\n",
       "            color:  #f1f1f1;\n",
       "        }    #T_5814bed4_b2a1_11eb_80f9_02420a3922b4row10_col2 {\n",
       "            background-color:  #3b4cc0;\n",
       "            color:  #f1f1f1;\n",
       "        }    #T_5814bed4_b2a1_11eb_80f9_02420a3922b4row10_col3 {\n",
       "            background-color:  #a1c0ff;\n",
       "            color:  #000000;\n",
       "        }    #T_5814bed4_b2a1_11eb_80f9_02420a3922b4row10_col4 {\n",
       "            background-color:  #3e51c5;\n",
       "            color:  #f1f1f1;\n",
       "        }    #T_5814bed4_b2a1_11eb_80f9_02420a3922b4row10_col5 {\n",
       "            background-color:  #a6c4fe;\n",
       "            color:  #000000;\n",
       "        }    #T_5814bed4_b2a1_11eb_80f9_02420a3922b4row10_col6 {\n",
       "            background-color:  #7a9df8;\n",
       "            color:  #000000;\n",
       "        }    #T_5814bed4_b2a1_11eb_80f9_02420a3922b4row10_col7 {\n",
       "            background-color:  #3c4ec2;\n",
       "            color:  #f1f1f1;\n",
       "        }    #T_5814bed4_b2a1_11eb_80f9_02420a3922b4row10_col8 {\n",
       "            background-color:  #3b4cc0;\n",
       "            color:  #f1f1f1;\n",
       "        }    #T_5814bed4_b2a1_11eb_80f9_02420a3922b4row10_col9 {\n",
       "            background-color:  #4055c8;\n",
       "            color:  #f1f1f1;\n",
       "        }    #T_5814bed4_b2a1_11eb_80f9_02420a3922b4row10_col10 {\n",
       "            background-color:  #b40426;\n",
       "            color:  #f1f1f1;\n",
       "        }</style><table id=\"T_5814bed4_b2a1_11eb_80f9_02420a3922b4\" ><thead>    <tr>        <th class=\"blank level0\" ></th>        <th class=\"col_heading level0 col0\" >RowNumber</th>        <th class=\"col_heading level0 col1\" >CustomerId</th>        <th class=\"col_heading level0 col2\" >CreditScore</th>        <th class=\"col_heading level0 col3\" >Age</th>        <th class=\"col_heading level0 col4\" >Tenure</th>        <th class=\"col_heading level0 col5\" >Balance</th>        <th class=\"col_heading level0 col6\" >NumOfProducts</th>        <th class=\"col_heading level0 col7\" >HasCrCard</th>        <th class=\"col_heading level0 col8\" >IsActiveMember</th>        <th class=\"col_heading level0 col9\" >EstimatedSalary</th>        <th class=\"col_heading level0 col10\" >Exited</th>    </tr></thead><tbody>\n",
       "                <tr>\n",
       "                        <th id=\"T_5814bed4_b2a1_11eb_80f9_02420a3922b4level0_row0\" class=\"row_heading level0 row0\" >RowNumber</th>\n",
       "                        <td id=\"T_5814bed4_b2a1_11eb_80f9_02420a3922b4row0_col0\" class=\"data row0 col0\" >1</td>\n",
       "                        <td id=\"T_5814bed4_b2a1_11eb_80f9_02420a3922b4row0_col1\" class=\"data row0 col1\" >0.00420179</td>\n",
       "                        <td id=\"T_5814bed4_b2a1_11eb_80f9_02420a3922b4row0_col2\" class=\"data row0 col2\" >0.00584016</td>\n",
       "                        <td id=\"T_5814bed4_b2a1_11eb_80f9_02420a3922b4row0_col3\" class=\"data row0 col3\" >0.000782614</td>\n",
       "                        <td id=\"T_5814bed4_b2a1_11eb_80f9_02420a3922b4row0_col4\" class=\"data row0 col4\" >-0.00732215</td>\n",
       "                        <td id=\"T_5814bed4_b2a1_11eb_80f9_02420a3922b4row0_col5\" class=\"data row0 col5\" >-0.00906669</td>\n",
       "                        <td id=\"T_5814bed4_b2a1_11eb_80f9_02420a3922b4row0_col6\" class=\"data row0 col6\" >0.00724625</td>\n",
       "                        <td id=\"T_5814bed4_b2a1_11eb_80f9_02420a3922b4row0_col7\" class=\"data row0 col7\" >0.000598747</td>\n",
       "                        <td id=\"T_5814bed4_b2a1_11eb_80f9_02420a3922b4row0_col8\" class=\"data row0 col8\" >0.0120444</td>\n",
       "                        <td id=\"T_5814bed4_b2a1_11eb_80f9_02420a3922b4row0_col9\" class=\"data row0 col9\" >-0.00598846</td>\n",
       "                        <td id=\"T_5814bed4_b2a1_11eb_80f9_02420a3922b4row0_col10\" class=\"data row0 col10\" >-0.0165714</td>\n",
       "            </tr>\n",
       "            <tr>\n",
       "                        <th id=\"T_5814bed4_b2a1_11eb_80f9_02420a3922b4level0_row1\" class=\"row_heading level0 row1\" >CustomerId</th>\n",
       "                        <td id=\"T_5814bed4_b2a1_11eb_80f9_02420a3922b4row1_col0\" class=\"data row1 col0\" >0.00420179</td>\n",
       "                        <td id=\"T_5814bed4_b2a1_11eb_80f9_02420a3922b4row1_col1\" class=\"data row1 col1\" >1</td>\n",
       "                        <td id=\"T_5814bed4_b2a1_11eb_80f9_02420a3922b4row1_col2\" class=\"data row1 col2\" >0.0053079</td>\n",
       "                        <td id=\"T_5814bed4_b2a1_11eb_80f9_02420a3922b4row1_col3\" class=\"data row1 col3\" >0.00949687</td>\n",
       "                        <td id=\"T_5814bed4_b2a1_11eb_80f9_02420a3922b4row1_col4\" class=\"data row1 col4\" >-0.0214176</td>\n",
       "                        <td id=\"T_5814bed4_b2a1_11eb_80f9_02420a3922b4row1_col5\" class=\"data row1 col5\" >-0.0124187</td>\n",
       "                        <td id=\"T_5814bed4_b2a1_11eb_80f9_02420a3922b4row1_col6\" class=\"data row1 col6\" >0.0169719</td>\n",
       "                        <td id=\"T_5814bed4_b2a1_11eb_80f9_02420a3922b4row1_col7\" class=\"data row1 col7\" >-0.0140251</td>\n",
       "                        <td id=\"T_5814bed4_b2a1_11eb_80f9_02420a3922b4row1_col8\" class=\"data row1 col8\" >0.00166496</td>\n",
       "                        <td id=\"T_5814bed4_b2a1_11eb_80f9_02420a3922b4row1_col9\" class=\"data row1 col9\" >0.0152707</td>\n",
       "                        <td id=\"T_5814bed4_b2a1_11eb_80f9_02420a3922b4row1_col10\" class=\"data row1 col10\" >-0.00624799</td>\n",
       "            </tr>\n",
       "            <tr>\n",
       "                        <th id=\"T_5814bed4_b2a1_11eb_80f9_02420a3922b4level0_row2\" class=\"row_heading level0 row2\" >CreditScore</th>\n",
       "                        <td id=\"T_5814bed4_b2a1_11eb_80f9_02420a3922b4row2_col0\" class=\"data row2 col0\" >0.00584016</td>\n",
       "                        <td id=\"T_5814bed4_b2a1_11eb_80f9_02420a3922b4row2_col1\" class=\"data row2 col1\" >0.0053079</td>\n",
       "                        <td id=\"T_5814bed4_b2a1_11eb_80f9_02420a3922b4row2_col2\" class=\"data row2 col2\" >1</td>\n",
       "                        <td id=\"T_5814bed4_b2a1_11eb_80f9_02420a3922b4row2_col3\" class=\"data row2 col3\" >-0.00396491</td>\n",
       "                        <td id=\"T_5814bed4_b2a1_11eb_80f9_02420a3922b4row2_col4\" class=\"data row2 col4\" >-6.17034e-05</td>\n",
       "                        <td id=\"T_5814bed4_b2a1_11eb_80f9_02420a3922b4row2_col5\" class=\"data row2 col5\" >0.00626838</td>\n",
       "                        <td id=\"T_5814bed4_b2a1_11eb_80f9_02420a3922b4row2_col6\" class=\"data row2 col6\" >0.0122379</td>\n",
       "                        <td id=\"T_5814bed4_b2a1_11eb_80f9_02420a3922b4row2_col7\" class=\"data row2 col7\" >-0.00545848</td>\n",
       "                        <td id=\"T_5814bed4_b2a1_11eb_80f9_02420a3922b4row2_col8\" class=\"data row2 col8\" >0.0256513</td>\n",
       "                        <td id=\"T_5814bed4_b2a1_11eb_80f9_02420a3922b4row2_col9\" class=\"data row2 col9\" >-0.00138429</td>\n",
       "                        <td id=\"T_5814bed4_b2a1_11eb_80f9_02420a3922b4row2_col10\" class=\"data row2 col10\" >-0.0270935</td>\n",
       "            </tr>\n",
       "            <tr>\n",
       "                        <th id=\"T_5814bed4_b2a1_11eb_80f9_02420a3922b4level0_row3\" class=\"row_heading level0 row3\" >Age</th>\n",
       "                        <td id=\"T_5814bed4_b2a1_11eb_80f9_02420a3922b4row3_col0\" class=\"data row3 col0\" >0.000782614</td>\n",
       "                        <td id=\"T_5814bed4_b2a1_11eb_80f9_02420a3922b4row3_col1\" class=\"data row3 col1\" >0.00949687</td>\n",
       "                        <td id=\"T_5814bed4_b2a1_11eb_80f9_02420a3922b4row3_col2\" class=\"data row3 col2\" >-0.00396491</td>\n",
       "                        <td id=\"T_5814bed4_b2a1_11eb_80f9_02420a3922b4row3_col3\" class=\"data row3 col3\" >1</td>\n",
       "                        <td id=\"T_5814bed4_b2a1_11eb_80f9_02420a3922b4row3_col4\" class=\"data row3 col4\" >-0.0131344</td>\n",
       "                        <td id=\"T_5814bed4_b2a1_11eb_80f9_02420a3922b4row3_col5\" class=\"data row3 col5\" >0.0283084</td>\n",
       "                        <td id=\"T_5814bed4_b2a1_11eb_80f9_02420a3922b4row3_col6\" class=\"data row3 col6\" >-0.0306801</td>\n",
       "                        <td id=\"T_5814bed4_b2a1_11eb_80f9_02420a3922b4row3_col7\" class=\"data row3 col7\" >-0.011721</td>\n",
       "                        <td id=\"T_5814bed4_b2a1_11eb_80f9_02420a3922b4row3_col8\" class=\"data row3 col8\" >0.0854721</td>\n",
       "                        <td id=\"T_5814bed4_b2a1_11eb_80f9_02420a3922b4row3_col9\" class=\"data row3 col9\" >-0.00720104</td>\n",
       "                        <td id=\"T_5814bed4_b2a1_11eb_80f9_02420a3922b4row3_col10\" class=\"data row3 col10\" >0.285323</td>\n",
       "            </tr>\n",
       "            <tr>\n",
       "                        <th id=\"T_5814bed4_b2a1_11eb_80f9_02420a3922b4level0_row4\" class=\"row_heading level0 row4\" >Tenure</th>\n",
       "                        <td id=\"T_5814bed4_b2a1_11eb_80f9_02420a3922b4row4_col0\" class=\"data row4 col0\" >-0.00732215</td>\n",
       "                        <td id=\"T_5814bed4_b2a1_11eb_80f9_02420a3922b4row4_col1\" class=\"data row4 col1\" >-0.0214176</td>\n",
       "                        <td id=\"T_5814bed4_b2a1_11eb_80f9_02420a3922b4row4_col2\" class=\"data row4 col2\" >-6.17034e-05</td>\n",
       "                        <td id=\"T_5814bed4_b2a1_11eb_80f9_02420a3922b4row4_col3\" class=\"data row4 col3\" >-0.0131344</td>\n",
       "                        <td id=\"T_5814bed4_b2a1_11eb_80f9_02420a3922b4row4_col4\" class=\"data row4 col4\" >1</td>\n",
       "                        <td id=\"T_5814bed4_b2a1_11eb_80f9_02420a3922b4row4_col5\" class=\"data row4 col5\" >-0.0079107</td>\n",
       "                        <td id=\"T_5814bed4_b2a1_11eb_80f9_02420a3922b4row4_col6\" class=\"data row4 col6\" >0.011979</td>\n",
       "                        <td id=\"T_5814bed4_b2a1_11eb_80f9_02420a3922b4row4_col7\" class=\"data row4 col7\" >0.0272321</td>\n",
       "                        <td id=\"T_5814bed4_b2a1_11eb_80f9_02420a3922b4row4_col8\" class=\"data row4 col8\" >-0.0321784</td>\n",
       "                        <td id=\"T_5814bed4_b2a1_11eb_80f9_02420a3922b4row4_col9\" class=\"data row4 col9\" >0.0105199</td>\n",
       "                        <td id=\"T_5814bed4_b2a1_11eb_80f9_02420a3922b4row4_col10\" class=\"data row4 col10\" >-0.0167615</td>\n",
       "            </tr>\n",
       "            <tr>\n",
       "                        <th id=\"T_5814bed4_b2a1_11eb_80f9_02420a3922b4level0_row5\" class=\"row_heading level0 row5\" >Balance</th>\n",
       "                        <td id=\"T_5814bed4_b2a1_11eb_80f9_02420a3922b4row5_col0\" class=\"data row5 col0\" >-0.00906669</td>\n",
       "                        <td id=\"T_5814bed4_b2a1_11eb_80f9_02420a3922b4row5_col1\" class=\"data row5 col1\" >-0.0124187</td>\n",
       "                        <td id=\"T_5814bed4_b2a1_11eb_80f9_02420a3922b4row5_col2\" class=\"data row5 col2\" >0.00626838</td>\n",
       "                        <td id=\"T_5814bed4_b2a1_11eb_80f9_02420a3922b4row5_col3\" class=\"data row5 col3\" >0.0283084</td>\n",
       "                        <td id=\"T_5814bed4_b2a1_11eb_80f9_02420a3922b4row5_col4\" class=\"data row5 col4\" >-0.0079107</td>\n",
       "                        <td id=\"T_5814bed4_b2a1_11eb_80f9_02420a3922b4row5_col5\" class=\"data row5 col5\" >1</td>\n",
       "                        <td id=\"T_5814bed4_b2a1_11eb_80f9_02420a3922b4row5_col6\" class=\"data row5 col6\" >-0.30418</td>\n",
       "                        <td id=\"T_5814bed4_b2a1_11eb_80f9_02420a3922b4row5_col7\" class=\"data row5 col7\" >-0.0148583</td>\n",
       "                        <td id=\"T_5814bed4_b2a1_11eb_80f9_02420a3922b4row5_col8\" class=\"data row5 col8\" >-0.0100841</td>\n",
       "                        <td id=\"T_5814bed4_b2a1_11eb_80f9_02420a3922b4row5_col9\" class=\"data row5 col9\" >0.0127975</td>\n",
       "                        <td id=\"T_5814bed4_b2a1_11eb_80f9_02420a3922b4row5_col10\" class=\"data row5 col10\" >0.118533</td>\n",
       "            </tr>\n",
       "            <tr>\n",
       "                        <th id=\"T_5814bed4_b2a1_11eb_80f9_02420a3922b4level0_row6\" class=\"row_heading level0 row6\" >NumOfProducts</th>\n",
       "                        <td id=\"T_5814bed4_b2a1_11eb_80f9_02420a3922b4row6_col0\" class=\"data row6 col0\" >0.00724625</td>\n",
       "                        <td id=\"T_5814bed4_b2a1_11eb_80f9_02420a3922b4row6_col1\" class=\"data row6 col1\" >0.0169719</td>\n",
       "                        <td id=\"T_5814bed4_b2a1_11eb_80f9_02420a3922b4row6_col2\" class=\"data row6 col2\" >0.0122379</td>\n",
       "                        <td id=\"T_5814bed4_b2a1_11eb_80f9_02420a3922b4row6_col3\" class=\"data row6 col3\" >-0.0306801</td>\n",
       "                        <td id=\"T_5814bed4_b2a1_11eb_80f9_02420a3922b4row6_col4\" class=\"data row6 col4\" >0.011979</td>\n",
       "                        <td id=\"T_5814bed4_b2a1_11eb_80f9_02420a3922b4row6_col5\" class=\"data row6 col5\" >-0.30418</td>\n",
       "                        <td id=\"T_5814bed4_b2a1_11eb_80f9_02420a3922b4row6_col6\" class=\"data row6 col6\" >1</td>\n",
       "                        <td id=\"T_5814bed4_b2a1_11eb_80f9_02420a3922b4row6_col7\" class=\"data row6 col7\" >0.00318315</td>\n",
       "                        <td id=\"T_5814bed4_b2a1_11eb_80f9_02420a3922b4row6_col8\" class=\"data row6 col8\" >0.00961188</td>\n",
       "                        <td id=\"T_5814bed4_b2a1_11eb_80f9_02420a3922b4row6_col9\" class=\"data row6 col9\" >0.0142042</td>\n",
       "                        <td id=\"T_5814bed4_b2a1_11eb_80f9_02420a3922b4row6_col10\" class=\"data row6 col10\" >-0.0478199</td>\n",
       "            </tr>\n",
       "            <tr>\n",
       "                        <th id=\"T_5814bed4_b2a1_11eb_80f9_02420a3922b4level0_row7\" class=\"row_heading level0 row7\" >HasCrCard</th>\n",
       "                        <td id=\"T_5814bed4_b2a1_11eb_80f9_02420a3922b4row7_col0\" class=\"data row7 col0\" >0.000598747</td>\n",
       "                        <td id=\"T_5814bed4_b2a1_11eb_80f9_02420a3922b4row7_col1\" class=\"data row7 col1\" >-0.0140251</td>\n",
       "                        <td id=\"T_5814bed4_b2a1_11eb_80f9_02420a3922b4row7_col2\" class=\"data row7 col2\" >-0.00545848</td>\n",
       "                        <td id=\"T_5814bed4_b2a1_11eb_80f9_02420a3922b4row7_col3\" class=\"data row7 col3\" >-0.011721</td>\n",
       "                        <td id=\"T_5814bed4_b2a1_11eb_80f9_02420a3922b4row7_col4\" class=\"data row7 col4\" >0.0272321</td>\n",
       "                        <td id=\"T_5814bed4_b2a1_11eb_80f9_02420a3922b4row7_col5\" class=\"data row7 col5\" >-0.0148583</td>\n",
       "                        <td id=\"T_5814bed4_b2a1_11eb_80f9_02420a3922b4row7_col6\" class=\"data row7 col6\" >0.00318315</td>\n",
       "                        <td id=\"T_5814bed4_b2a1_11eb_80f9_02420a3922b4row7_col7\" class=\"data row7 col7\" >1</td>\n",
       "                        <td id=\"T_5814bed4_b2a1_11eb_80f9_02420a3922b4row7_col8\" class=\"data row7 col8\" >-0.0118656</td>\n",
       "                        <td id=\"T_5814bed4_b2a1_11eb_80f9_02420a3922b4row7_col9\" class=\"data row7 col9\" >-0.00993341</td>\n",
       "                        <td id=\"T_5814bed4_b2a1_11eb_80f9_02420a3922b4row7_col10\" class=\"data row7 col10\" >-0.00713777</td>\n",
       "            </tr>\n",
       "            <tr>\n",
       "                        <th id=\"T_5814bed4_b2a1_11eb_80f9_02420a3922b4level0_row8\" class=\"row_heading level0 row8\" >IsActiveMember</th>\n",
       "                        <td id=\"T_5814bed4_b2a1_11eb_80f9_02420a3922b4row8_col0\" class=\"data row8 col0\" >0.0120444</td>\n",
       "                        <td id=\"T_5814bed4_b2a1_11eb_80f9_02420a3922b4row8_col1\" class=\"data row8 col1\" >0.00166496</td>\n",
       "                        <td id=\"T_5814bed4_b2a1_11eb_80f9_02420a3922b4row8_col2\" class=\"data row8 col2\" >0.0256513</td>\n",
       "                        <td id=\"T_5814bed4_b2a1_11eb_80f9_02420a3922b4row8_col3\" class=\"data row8 col3\" >0.0854721</td>\n",
       "                        <td id=\"T_5814bed4_b2a1_11eb_80f9_02420a3922b4row8_col4\" class=\"data row8 col4\" >-0.0321784</td>\n",
       "                        <td id=\"T_5814bed4_b2a1_11eb_80f9_02420a3922b4row8_col5\" class=\"data row8 col5\" >-0.0100841</td>\n",
       "                        <td id=\"T_5814bed4_b2a1_11eb_80f9_02420a3922b4row8_col6\" class=\"data row8 col6\" >0.00961188</td>\n",
       "                        <td id=\"T_5814bed4_b2a1_11eb_80f9_02420a3922b4row8_col7\" class=\"data row8 col7\" >-0.0118656</td>\n",
       "                        <td id=\"T_5814bed4_b2a1_11eb_80f9_02420a3922b4row8_col8\" class=\"data row8 col8\" >1</td>\n",
       "                        <td id=\"T_5814bed4_b2a1_11eb_80f9_02420a3922b4row8_col9\" class=\"data row8 col9\" >-0.0114214</td>\n",
       "                        <td id=\"T_5814bed4_b2a1_11eb_80f9_02420a3922b4row8_col10\" class=\"data row8 col10\" >-0.156128</td>\n",
       "            </tr>\n",
       "            <tr>\n",
       "                        <th id=\"T_5814bed4_b2a1_11eb_80f9_02420a3922b4level0_row9\" class=\"row_heading level0 row9\" >EstimatedSalary</th>\n",
       "                        <td id=\"T_5814bed4_b2a1_11eb_80f9_02420a3922b4row9_col0\" class=\"data row9 col0\" >-0.00598846</td>\n",
       "                        <td id=\"T_5814bed4_b2a1_11eb_80f9_02420a3922b4row9_col1\" class=\"data row9 col1\" >0.0152707</td>\n",
       "                        <td id=\"T_5814bed4_b2a1_11eb_80f9_02420a3922b4row9_col2\" class=\"data row9 col2\" >-0.00138429</td>\n",
       "                        <td id=\"T_5814bed4_b2a1_11eb_80f9_02420a3922b4row9_col3\" class=\"data row9 col3\" >-0.00720104</td>\n",
       "                        <td id=\"T_5814bed4_b2a1_11eb_80f9_02420a3922b4row9_col4\" class=\"data row9 col4\" >0.0105199</td>\n",
       "                        <td id=\"T_5814bed4_b2a1_11eb_80f9_02420a3922b4row9_col5\" class=\"data row9 col5\" >0.0127975</td>\n",
       "                        <td id=\"T_5814bed4_b2a1_11eb_80f9_02420a3922b4row9_col6\" class=\"data row9 col6\" >0.0142042</td>\n",
       "                        <td id=\"T_5814bed4_b2a1_11eb_80f9_02420a3922b4row9_col7\" class=\"data row9 col7\" >-0.00993341</td>\n",
       "                        <td id=\"T_5814bed4_b2a1_11eb_80f9_02420a3922b4row9_col8\" class=\"data row9 col8\" >-0.0114214</td>\n",
       "                        <td id=\"T_5814bed4_b2a1_11eb_80f9_02420a3922b4row9_col9\" class=\"data row9 col9\" >1</td>\n",
       "                        <td id=\"T_5814bed4_b2a1_11eb_80f9_02420a3922b4row9_col10\" class=\"data row9 col10\" >0.0120969</td>\n",
       "            </tr>\n",
       "            <tr>\n",
       "                        <th id=\"T_5814bed4_b2a1_11eb_80f9_02420a3922b4level0_row10\" class=\"row_heading level0 row10\" >Exited</th>\n",
       "                        <td id=\"T_5814bed4_b2a1_11eb_80f9_02420a3922b4row10_col0\" class=\"data row10 col0\" >-0.0165714</td>\n",
       "                        <td id=\"T_5814bed4_b2a1_11eb_80f9_02420a3922b4row10_col1\" class=\"data row10 col1\" >-0.00624799</td>\n",
       "                        <td id=\"T_5814bed4_b2a1_11eb_80f9_02420a3922b4row10_col2\" class=\"data row10 col2\" >-0.0270935</td>\n",
       "                        <td id=\"T_5814bed4_b2a1_11eb_80f9_02420a3922b4row10_col3\" class=\"data row10 col3\" >0.285323</td>\n",
       "                        <td id=\"T_5814bed4_b2a1_11eb_80f9_02420a3922b4row10_col4\" class=\"data row10 col4\" >-0.0167615</td>\n",
       "                        <td id=\"T_5814bed4_b2a1_11eb_80f9_02420a3922b4row10_col5\" class=\"data row10 col5\" >0.118533</td>\n",
       "                        <td id=\"T_5814bed4_b2a1_11eb_80f9_02420a3922b4row10_col6\" class=\"data row10 col6\" >-0.0478199</td>\n",
       "                        <td id=\"T_5814bed4_b2a1_11eb_80f9_02420a3922b4row10_col7\" class=\"data row10 col7\" >-0.00713777</td>\n",
       "                        <td id=\"T_5814bed4_b2a1_11eb_80f9_02420a3922b4row10_col8\" class=\"data row10 col8\" >-0.156128</td>\n",
       "                        <td id=\"T_5814bed4_b2a1_11eb_80f9_02420a3922b4row10_col9\" class=\"data row10 col9\" >0.0120969</td>\n",
       "                        <td id=\"T_5814bed4_b2a1_11eb_80f9_02420a3922b4row10_col10\" class=\"data row10 col10\" >1</td>\n",
       "            </tr>\n",
       "    </tbody></table>"
      ],
      "text/plain": [
       "<pandas.io.formats.style.Styler at 0x7fd6fa42f4d0>"
      ]
     },
     "metadata": {},
     "output_type": "display_data"
    }
   ],
   "source": [
    "print('\\n', 'Корреляционная матрица, коэф. Пирсона')\n",
    "display(churn.corr().style.background_gradient(cmap='coolwarm'))"
   ]
  },
  {
   "cell_type": "markdown",
   "metadata": {},
   "source": [
    "Наблюдается небольшая положительная корреляция ухода клиентов с их возрастом и балансом на счете. А вот с активностью (как часто клиент пользуется услугами банка или его продуктами) колонка 'Exited' коррелирует отрицательно.\n",
    "\n",
    "Рассчитаем коэффициент ранговой корреляции Спирмена. Он более устойчив к выбросам и может определить некоторые типы нелинейной зависимости. Используем тот же код, только функции corr() передадим параметр method='spearman'."
   ]
  },
  {
   "cell_type": "code",
   "execution_count": 8,
   "metadata": {},
   "outputs": [
    {
     "name": "stdout",
     "output_type": "stream",
     "text": [
      "\n",
      " Корреляционная матрица, коэф. Спирмена\n"
     ]
    },
    {
     "data": {
      "text/html": [
       "<style  type=\"text/css\" >\n",
       "    #T_58365a26_b2a1_11eb_80f9_02420a3922b4row0_col0 {\n",
       "            background-color:  #b40426;\n",
       "            color:  #f1f1f1;\n",
       "        }    #T_58365a26_b2a1_11eb_80f9_02420a3922b4row0_col1 {\n",
       "            background-color:  #4257c9;\n",
       "            color:  #f1f1f1;\n",
       "        }    #T_58365a26_b2a1_11eb_80f9_02420a3922b4row0_col2 {\n",
       "            background-color:  #4358cb;\n",
       "            color:  #f1f1f1;\n",
       "        }    #T_58365a26_b2a1_11eb_80f9_02420a3922b4row0_col3 {\n",
       "            background-color:  #4b64d5;\n",
       "            color:  #f1f1f1;\n",
       "        }    #T_58365a26_b2a1_11eb_80f9_02420a3922b4row0_col4 {\n",
       "            background-color:  #4257c9;\n",
       "            color:  #f1f1f1;\n",
       "        }    #T_58365a26_b2a1_11eb_80f9_02420a3922b4row0_col5 {\n",
       "            background-color:  #86a9fc;\n",
       "            color:  #000000;\n",
       "        }    #T_58365a26_b2a1_11eb_80f9_02420a3922b4row0_col6 {\n",
       "            background-color:  #8caffe;\n",
       "            color:  #000000;\n",
       "        }    #T_58365a26_b2a1_11eb_80f9_02420a3922b4row0_col7 {\n",
       "            background-color:  #3f53c6;\n",
       "            color:  #f1f1f1;\n",
       "        }    #T_58365a26_b2a1_11eb_80f9_02420a3922b4row0_col8 {\n",
       "            background-color:  #688aef;\n",
       "            color:  #000000;\n",
       "        }    #T_58365a26_b2a1_11eb_80f9_02420a3922b4row0_col9 {\n",
       "            background-color:  #3c4ec2;\n",
       "            color:  #f1f1f1;\n",
       "        }    #T_58365a26_b2a1_11eb_80f9_02420a3922b4row0_col10 {\n",
       "            background-color:  #5f7fe8;\n",
       "            color:  #000000;\n",
       "        }    #T_58365a26_b2a1_11eb_80f9_02420a3922b4row1_col0 {\n",
       "            background-color:  #4055c8;\n",
       "            color:  #f1f1f1;\n",
       "        }    #T_58365a26_b2a1_11eb_80f9_02420a3922b4row1_col1 {\n",
       "            background-color:  #b40426;\n",
       "            color:  #f1f1f1;\n",
       "        }    #T_58365a26_b2a1_11eb_80f9_02420a3922b4row1_col2 {\n",
       "            background-color:  #4358cb;\n",
       "            color:  #f1f1f1;\n",
       "        }    #T_58365a26_b2a1_11eb_80f9_02420a3922b4row1_col3 {\n",
       "            background-color:  #4e68d8;\n",
       "            color:  #000000;\n",
       "        }    #T_58365a26_b2a1_11eb_80f9_02420a3922b4row1_col4 {\n",
       "            background-color:  #3d50c3;\n",
       "            color:  #f1f1f1;\n",
       "        }    #T_58365a26_b2a1_11eb_80f9_02420a3922b4row1_col5 {\n",
       "            background-color:  #85a8fc;\n",
       "            color:  #000000;\n",
       "        }    #T_58365a26_b2a1_11eb_80f9_02420a3922b4row1_col6 {\n",
       "            background-color:  #8fb1fe;\n",
       "            color:  #000000;\n",
       "        }    #T_58365a26_b2a1_11eb_80f9_02420a3922b4row1_col7 {\n",
       "            background-color:  #3b4cc0;\n",
       "            color:  #f1f1f1;\n",
       "        }    #T_58365a26_b2a1_11eb_80f9_02420a3922b4row1_col8 {\n",
       "            background-color:  #6485ec;\n",
       "            color:  #000000;\n",
       "        }    #T_58365a26_b2a1_11eb_80f9_02420a3922b4row1_col9 {\n",
       "            background-color:  #4257c9;\n",
       "            color:  #f1f1f1;\n",
       "        }    #T_58365a26_b2a1_11eb_80f9_02420a3922b4row1_col10 {\n",
       "            background-color:  #6384eb;\n",
       "            color:  #000000;\n",
       "        }    #T_58365a26_b2a1_11eb_80f9_02420a3922b4row2_col0 {\n",
       "            background-color:  #4055c8;\n",
       "            color:  #f1f1f1;\n",
       "        }    #T_58365a26_b2a1_11eb_80f9_02420a3922b4row2_col1 {\n",
       "            background-color:  #4257c9;\n",
       "            color:  #f1f1f1;\n",
       "        }    #T_58365a26_b2a1_11eb_80f9_02420a3922b4row2_col2 {\n",
       "            background-color:  #b40426;\n",
       "            color:  #f1f1f1;\n",
       "        }    #T_58365a26_b2a1_11eb_80f9_02420a3922b4row2_col3 {\n",
       "            background-color:  #4961d2;\n",
       "            color:  #f1f1f1;\n",
       "        }    #T_58365a26_b2a1_11eb_80f9_02420a3922b4row2_col4 {\n",
       "            background-color:  #445acc;\n",
       "            color:  #f1f1f1;\n",
       "        }    #T_58365a26_b2a1_11eb_80f9_02420a3922b4row2_col5 {\n",
       "            background-color:  #8badfd;\n",
       "            color:  #000000;\n",
       "        }    #T_58365a26_b2a1_11eb_80f9_02420a3922b4row2_col6 {\n",
       "            background-color:  #8db0fe;\n",
       "            color:  #000000;\n",
       "        }    #T_58365a26_b2a1_11eb_80f9_02420a3922b4row2_col7 {\n",
       "            background-color:  #3d50c3;\n",
       "            color:  #f1f1f1;\n",
       "        }    #T_58365a26_b2a1_11eb_80f9_02420a3922b4row2_col8 {\n",
       "            background-color:  #6b8df0;\n",
       "            color:  #000000;\n",
       "        }    #T_58365a26_b2a1_11eb_80f9_02420a3922b4row2_col9 {\n",
       "            background-color:  #3e51c5;\n",
       "            color:  #f1f1f1;\n",
       "        }    #T_58365a26_b2a1_11eb_80f9_02420a3922b4row2_col10 {\n",
       "            background-color:  #5e7de7;\n",
       "            color:  #000000;\n",
       "        }    #T_58365a26_b2a1_11eb_80f9_02420a3922b4row3_col0 {\n",
       "            background-color:  #3f53c6;\n",
       "            color:  #f1f1f1;\n",
       "        }    #T_58365a26_b2a1_11eb_80f9_02420a3922b4row3_col1 {\n",
       "            background-color:  #4358cb;\n",
       "            color:  #f1f1f1;\n",
       "        }    #T_58365a26_b2a1_11eb_80f9_02420a3922b4row3_col2 {\n",
       "            background-color:  #3e51c5;\n",
       "            color:  #f1f1f1;\n",
       "        }    #T_58365a26_b2a1_11eb_80f9_02420a3922b4row3_col3 {\n",
       "            background-color:  #b40426;\n",
       "            color:  #f1f1f1;\n",
       "        }    #T_58365a26_b2a1_11eb_80f9_02420a3922b4row3_col4 {\n",
       "            background-color:  #3f53c6;\n",
       "            color:  #f1f1f1;\n",
       "        }    #T_58365a26_b2a1_11eb_80f9_02420a3922b4row3_col5 {\n",
       "            background-color:  #93b5fe;\n",
       "            color:  #000000;\n",
       "        }    #T_58365a26_b2a1_11eb_80f9_02420a3922b4row3_col6 {\n",
       "            background-color:  #7a9df8;\n",
       "            color:  #000000;\n",
       "        }    #T_58365a26_b2a1_11eb_80f9_02420a3922b4row3_col7 {\n",
       "            background-color:  #3b4cc0;\n",
       "            color:  #f1f1f1;\n",
       "        }    #T_58365a26_b2a1_11eb_80f9_02420a3922b4row3_col8 {\n",
       "            background-color:  #7093f3;\n",
       "            color:  #000000;\n",
       "        }    #T_58365a26_b2a1_11eb_80f9_02420a3922b4row3_col9 {\n",
       "            background-color:  #3d50c3;\n",
       "            color:  #f1f1f1;\n",
       "        }    #T_58365a26_b2a1_11eb_80f9_02420a3922b4row3_col10 {\n",
       "            background-color:  #c5d6f2;\n",
       "            color:  #000000;\n",
       "        }    #T_58365a26_b2a1_11eb_80f9_02420a3922b4row4_col0 {\n",
       "            background-color:  #3d50c3;\n",
       "            color:  #f1f1f1;\n",
       "        }    #T_58365a26_b2a1_11eb_80f9_02420a3922b4row4_col1 {\n",
       "            background-color:  #3b4cc0;\n",
       "            color:  #f1f1f1;\n",
       "        }    #T_58365a26_b2a1_11eb_80f9_02420a3922b4row4_col2 {\n",
       "            background-color:  #4055c8;\n",
       "            color:  #f1f1f1;\n",
       "        }    #T_58365a26_b2a1_11eb_80f9_02420a3922b4row4_col3 {\n",
       "            background-color:  #465ecf;\n",
       "            color:  #f1f1f1;\n",
       "        }    #T_58365a26_b2a1_11eb_80f9_02420a3922b4row4_col4 {\n",
       "            background-color:  #b40426;\n",
       "            color:  #f1f1f1;\n",
       "        }    #T_58365a26_b2a1_11eb_80f9_02420a3922b4row4_col5 {\n",
       "            background-color:  #88abfd;\n",
       "            color:  #000000;\n",
       "        }    #T_58365a26_b2a1_11eb_80f9_02420a3922b4row4_col6 {\n",
       "            background-color:  #8caffe;\n",
       "            color:  #000000;\n",
       "        }    #T_58365a26_b2a1_11eb_80f9_02420a3922b4row4_col7 {\n",
       "            background-color:  #465ecf;\n",
       "            color:  #f1f1f1;\n",
       "        }    #T_58365a26_b2a1_11eb_80f9_02420a3922b4row4_col8 {\n",
       "            background-color:  #5b7ae5;\n",
       "            color:  #000000;\n",
       "        }    #T_58365a26_b2a1_11eb_80f9_02420a3922b4row4_col9 {\n",
       "            background-color:  #4055c8;\n",
       "            color:  #f1f1f1;\n",
       "        }    #T_58365a26_b2a1_11eb_80f9_02420a3922b4row4_col10 {\n",
       "            background-color:  #5f7fe8;\n",
       "            color:  #000000;\n",
       "        }    #T_58365a26_b2a1_11eb_80f9_02420a3922b4row5_col0 {\n",
       "            background-color:  #3c4ec2;\n",
       "            color:  #f1f1f1;\n",
       "        }    #T_58365a26_b2a1_11eb_80f9_02420a3922b4row5_col1 {\n",
       "            background-color:  #3c4ec2;\n",
       "            color:  #f1f1f1;\n",
       "        }    #T_58365a26_b2a1_11eb_80f9_02420a3922b4row5_col2 {\n",
       "            background-color:  #4358cb;\n",
       "            color:  #f1f1f1;\n",
       "        }    #T_58365a26_b2a1_11eb_80f9_02420a3922b4row5_col3 {\n",
       "            background-color:  #5572df;\n",
       "            color:  #000000;\n",
       "        }    #T_58365a26_b2a1_11eb_80f9_02420a3922b4row5_col4 {\n",
       "            background-color:  #4257c9;\n",
       "            color:  #f1f1f1;\n",
       "        }    #T_58365a26_b2a1_11eb_80f9_02420a3922b4row5_col5 {\n",
       "            background-color:  #b40426;\n",
       "            color:  #f1f1f1;\n",
       "        }    #T_58365a26_b2a1_11eb_80f9_02420a3922b4row5_col6 {\n",
       "            background-color:  #3b4cc0;\n",
       "            color:  #f1f1f1;\n",
       "        }    #T_58365a26_b2a1_11eb_80f9_02420a3922b4row5_col7 {\n",
       "            background-color:  #3c4ec2;\n",
       "            color:  #f1f1f1;\n",
       "        }    #T_58365a26_b2a1_11eb_80f9_02420a3922b4row5_col8 {\n",
       "            background-color:  #6282ea;\n",
       "            color:  #000000;\n",
       "        }    #T_58365a26_b2a1_11eb_80f9_02420a3922b4row5_col9 {\n",
       "            background-color:  #4055c8;\n",
       "            color:  #f1f1f1;\n",
       "        }    #T_58365a26_b2a1_11eb_80f9_02420a3922b4row5_col10 {\n",
       "            background-color:  #86a9fc;\n",
       "            color:  #000000;\n",
       "        }    #T_58365a26_b2a1_11eb_80f9_02420a3922b4row6_col0 {\n",
       "            background-color:  #4257c9;\n",
       "            color:  #f1f1f1;\n",
       "        }    #T_58365a26_b2a1_11eb_80f9_02420a3922b4row6_col1 {\n",
       "            background-color:  #465ecf;\n",
       "            color:  #f1f1f1;\n",
       "        }    #T_58365a26_b2a1_11eb_80f9_02420a3922b4row6_col2 {\n",
       "            background-color:  #445acc;\n",
       "            color:  #f1f1f1;\n",
       "        }    #T_58365a26_b2a1_11eb_80f9_02420a3922b4row6_col3 {\n",
       "            background-color:  #3b4cc0;\n",
       "            color:  #f1f1f1;\n",
       "        }    #T_58365a26_b2a1_11eb_80f9_02420a3922b4row6_col4 {\n",
       "            background-color:  #465ecf;\n",
       "            color:  #f1f1f1;\n",
       "        }    #T_58365a26_b2a1_11eb_80f9_02420a3922b4row6_col5 {\n",
       "            background-color:  #3b4cc0;\n",
       "            color:  #f1f1f1;\n",
       "        }    #T_58365a26_b2a1_11eb_80f9_02420a3922b4row6_col6 {\n",
       "            background-color:  #b40426;\n",
       "            color:  #f1f1f1;\n",
       "        }    #T_58365a26_b2a1_11eb_80f9_02420a3922b4row6_col7 {\n",
       "            background-color:  #3f53c6;\n",
       "            color:  #f1f1f1;\n",
       "        }    #T_58365a26_b2a1_11eb_80f9_02420a3922b4row6_col8 {\n",
       "            background-color:  #6a8bef;\n",
       "            color:  #000000;\n",
       "        }    #T_58365a26_b2a1_11eb_80f9_02420a3922b4row6_col9 {\n",
       "            background-color:  #4257c9;\n",
       "            color:  #f1f1f1;\n",
       "        }    #T_58365a26_b2a1_11eb_80f9_02420a3922b4row6_col10 {\n",
       "            background-color:  #4257c9;\n",
       "            color:  #f1f1f1;\n",
       "        }    #T_58365a26_b2a1_11eb_80f9_02420a3922b4row7_col0 {\n",
       "            background-color:  #3f53c6;\n",
       "            color:  #f1f1f1;\n",
       "        }    #T_58365a26_b2a1_11eb_80f9_02420a3922b4row7_col1 {\n",
       "            background-color:  #3c4ec2;\n",
       "            color:  #f1f1f1;\n",
       "        }    #T_58365a26_b2a1_11eb_80f9_02420a3922b4row7_col2 {\n",
       "            background-color:  #3f53c6;\n",
       "            color:  #f1f1f1;\n",
       "        }    #T_58365a26_b2a1_11eb_80f9_02420a3922b4row7_col3 {\n",
       "            background-color:  #465ecf;\n",
       "            color:  #f1f1f1;\n",
       "        }    #T_58365a26_b2a1_11eb_80f9_02420a3922b4row7_col4 {\n",
       "            background-color:  #4b64d5;\n",
       "            color:  #f1f1f1;\n",
       "        }    #T_58365a26_b2a1_11eb_80f9_02420a3922b4row7_col5 {\n",
       "            background-color:  #86a9fc;\n",
       "            color:  #000000;\n",
       "        }    #T_58365a26_b2a1_11eb_80f9_02420a3922b4row7_col6 {\n",
       "            background-color:  #8badfd;\n",
       "            color:  #000000;\n",
       "        }    #T_58365a26_b2a1_11eb_80f9_02420a3922b4row7_col7 {\n",
       "            background-color:  #b40426;\n",
       "            color:  #f1f1f1;\n",
       "        }    #T_58365a26_b2a1_11eb_80f9_02420a3922b4row7_col8 {\n",
       "            background-color:  #6180e9;\n",
       "            color:  #000000;\n",
       "        }    #T_58365a26_b2a1_11eb_80f9_02420a3922b4row7_col9 {\n",
       "            background-color:  #3b4cc0;\n",
       "            color:  #f1f1f1;\n",
       "        }    #T_58365a26_b2a1_11eb_80f9_02420a3922b4row7_col10 {\n",
       "            background-color:  #6282ea;\n",
       "            color:  #000000;\n",
       "        }    #T_58365a26_b2a1_11eb_80f9_02420a3922b4row8_col0 {\n",
       "            background-color:  #4358cb;\n",
       "            color:  #f1f1f1;\n",
       "        }    #T_58365a26_b2a1_11eb_80f9_02420a3922b4row8_col1 {\n",
       "            background-color:  #4055c8;\n",
       "            color:  #f1f1f1;\n",
       "        }    #T_58365a26_b2a1_11eb_80f9_02420a3922b4row8_col2 {\n",
       "            background-color:  #485fd1;\n",
       "            color:  #f1f1f1;\n",
       "        }    #T_58365a26_b2a1_11eb_80f9_02420a3922b4row8_col3 {\n",
       "            background-color:  #5673e0;\n",
       "            color:  #000000;\n",
       "        }    #T_58365a26_b2a1_11eb_80f9_02420a3922b4row8_col4 {\n",
       "            background-color:  #3b4cc0;\n",
       "            color:  #f1f1f1;\n",
       "        }    #T_58365a26_b2a1_11eb_80f9_02420a3922b4row8_col5 {\n",
       "            background-color:  #86a9fc;\n",
       "            color:  #000000;\n",
       "        }    #T_58365a26_b2a1_11eb_80f9_02420a3922b4row8_col6 {\n",
       "            background-color:  #8db0fe;\n",
       "            color:  #000000;\n",
       "        }    #T_58365a26_b2a1_11eb_80f9_02420a3922b4row8_col7 {\n",
       "            background-color:  #3b4cc0;\n",
       "            color:  #f1f1f1;\n",
       "        }    #T_58365a26_b2a1_11eb_80f9_02420a3922b4row8_col8 {\n",
       "            background-color:  #b40426;\n",
       "            color:  #f1f1f1;\n",
       "        }    #T_58365a26_b2a1_11eb_80f9_02420a3922b4row8_col9 {\n",
       "            background-color:  #3b4cc0;\n",
       "            color:  #f1f1f1;\n",
       "        }    #T_58365a26_b2a1_11eb_80f9_02420a3922b4row8_col10 {\n",
       "            background-color:  #3b4cc0;\n",
       "            color:  #f1f1f1;\n",
       "        }    #T_58365a26_b2a1_11eb_80f9_02420a3922b4row9_col0 {\n",
       "            background-color:  #3d50c3;\n",
       "            color:  #f1f1f1;\n",
       "        }    #T_58365a26_b2a1_11eb_80f9_02420a3922b4row9_col1 {\n",
       "            background-color:  #455cce;\n",
       "            color:  #f1f1f1;\n",
       "        }    #T_58365a26_b2a1_11eb_80f9_02420a3922b4row9_col2 {\n",
       "            background-color:  #4257c9;\n",
       "            color:  #f1f1f1;\n",
       "        }    #T_58365a26_b2a1_11eb_80f9_02420a3922b4row9_col3 {\n",
       "            background-color:  #4a63d3;\n",
       "            color:  #f1f1f1;\n",
       "        }    #T_58365a26_b2a1_11eb_80f9_02420a3922b4row9_col4 {\n",
       "            background-color:  #465ecf;\n",
       "            color:  #f1f1f1;\n",
       "        }    #T_58365a26_b2a1_11eb_80f9_02420a3922b4row9_col5 {\n",
       "            background-color:  #8caffe;\n",
       "            color:  #000000;\n",
       "        }    #T_58365a26_b2a1_11eb_80f9_02420a3922b4row9_col6 {\n",
       "            background-color:  #8db0fe;\n",
       "            color:  #000000;\n",
       "        }    #T_58365a26_b2a1_11eb_80f9_02420a3922b4row9_col7 {\n",
       "            background-color:  #3c4ec2;\n",
       "            color:  #f1f1f1;\n",
       "        }    #T_58365a26_b2a1_11eb_80f9_02420a3922b4row9_col8 {\n",
       "            background-color:  #6282ea;\n",
       "            color:  #000000;\n",
       "        }    #T_58365a26_b2a1_11eb_80f9_02420a3922b4row9_col9 {\n",
       "            background-color:  #b40426;\n",
       "            color:  #f1f1f1;\n",
       "        }    #T_58365a26_b2a1_11eb_80f9_02420a3922b4row9_col10 {\n",
       "            background-color:  #688aef;\n",
       "            color:  #000000;\n",
       "        }    #T_58365a26_b2a1_11eb_80f9_02420a3922b4row10_col0 {\n",
       "            background-color:  #3b4cc0;\n",
       "            color:  #f1f1f1;\n",
       "        }    #T_58365a26_b2a1_11eb_80f9_02420a3922b4row10_col1 {\n",
       "            background-color:  #3e51c5;\n",
       "            color:  #f1f1f1;\n",
       "        }    #T_58365a26_b2a1_11eb_80f9_02420a3922b4row10_col2 {\n",
       "            background-color:  #3b4cc0;\n",
       "            color:  #f1f1f1;\n",
       "        }    #T_58365a26_b2a1_11eb_80f9_02420a3922b4row10_col3 {\n",
       "            background-color:  #b3cdfb;\n",
       "            color:  #000000;\n",
       "        }    #T_58365a26_b2a1_11eb_80f9_02420a3922b4row10_col4 {\n",
       "            background-color:  #3e51c5;\n",
       "            color:  #f1f1f1;\n",
       "        }    #T_58365a26_b2a1_11eb_80f9_02420a3922b4row10_col5 {\n",
       "            background-color:  #a7c5fe;\n",
       "            color:  #000000;\n",
       "        }    #T_58365a26_b2a1_11eb_80f9_02420a3922b4row10_col6 {\n",
       "            background-color:  #688aef;\n",
       "            color:  #000000;\n",
       "        }    #T_58365a26_b2a1_11eb_80f9_02420a3922b4row10_col7 {\n",
       "            background-color:  #3d50c3;\n",
       "            color:  #f1f1f1;\n",
       "        }    #T_58365a26_b2a1_11eb_80f9_02420a3922b4row10_col8 {\n",
       "            background-color:  #3b4cc0;\n",
       "            color:  #f1f1f1;\n",
       "        }    #T_58365a26_b2a1_11eb_80f9_02420a3922b4row10_col9 {\n",
       "            background-color:  #4055c8;\n",
       "            color:  #f1f1f1;\n",
       "        }    #T_58365a26_b2a1_11eb_80f9_02420a3922b4row10_col10 {\n",
       "            background-color:  #b40426;\n",
       "            color:  #f1f1f1;\n",
       "        }</style><table id=\"T_58365a26_b2a1_11eb_80f9_02420a3922b4\" ><thead>    <tr>        <th class=\"blank level0\" ></th>        <th class=\"col_heading level0 col0\" >RowNumber</th>        <th class=\"col_heading level0 col1\" >CustomerId</th>        <th class=\"col_heading level0 col2\" >CreditScore</th>        <th class=\"col_heading level0 col3\" >Age</th>        <th class=\"col_heading level0 col4\" >Tenure</th>        <th class=\"col_heading level0 col5\" >Balance</th>        <th class=\"col_heading level0 col6\" >NumOfProducts</th>        <th class=\"col_heading level0 col7\" >HasCrCard</th>        <th class=\"col_heading level0 col8\" >IsActiveMember</th>        <th class=\"col_heading level0 col9\" >EstimatedSalary</th>        <th class=\"col_heading level0 col10\" >Exited</th>    </tr></thead><tbody>\n",
       "                <tr>\n",
       "                        <th id=\"T_58365a26_b2a1_11eb_80f9_02420a3922b4level0_row0\" class=\"row_heading level0 row0\" >RowNumber</th>\n",
       "                        <td id=\"T_58365a26_b2a1_11eb_80f9_02420a3922b4row0_col0\" class=\"data row0 col0\" >1</td>\n",
       "                        <td id=\"T_58365a26_b2a1_11eb_80f9_02420a3922b4row0_col1\" class=\"data row0 col1\" >0.00418685</td>\n",
       "                        <td id=\"T_58365a26_b2a1_11eb_80f9_02420a3922b4row0_col2\" class=\"data row0 col2\" >0.00513017</td>\n",
       "                        <td id=\"T_58365a26_b2a1_11eb_80f9_02420a3922b4row0_col3\" class=\"data row0 col3\" >0.000476064</td>\n",
       "                        <td id=\"T_58365a26_b2a1_11eb_80f9_02420a3922b4row0_col4\" class=\"data row0 col4\" >-0.0076505</td>\n",
       "                        <td id=\"T_58365a26_b2a1_11eb_80f9_02420a3922b4row0_col5\" class=\"data row0 col5\" >-0.00901326</td>\n",
       "                        <td id=\"T_58365a26_b2a1_11eb_80f9_02420a3922b4row0_col6\" class=\"data row0 col6\" >0.00830511</td>\n",
       "                        <td id=\"T_58365a26_b2a1_11eb_80f9_02420a3922b4row0_col7\" class=\"data row0 col7\" >0.000598747</td>\n",
       "                        <td id=\"T_58365a26_b2a1_11eb_80f9_02420a3922b4row0_col8\" class=\"data row0 col8\" >0.0120444</td>\n",
       "                        <td id=\"T_58365a26_b2a1_11eb_80f9_02420a3922b4row0_col9\" class=\"data row0 col9\" >-0.00600683</td>\n",
       "                        <td id=\"T_58365a26_b2a1_11eb_80f9_02420a3922b4row0_col10\" class=\"data row0 col10\" >-0.0165714</td>\n",
       "            </tr>\n",
       "            <tr>\n",
       "                        <th id=\"T_58365a26_b2a1_11eb_80f9_02420a3922b4level0_row1\" class=\"row_heading level0 row1\" >CustomerId</th>\n",
       "                        <td id=\"T_58365a26_b2a1_11eb_80f9_02420a3922b4row1_col0\" class=\"data row1 col0\" >0.00418685</td>\n",
       "                        <td id=\"T_58365a26_b2a1_11eb_80f9_02420a3922b4row1_col1\" class=\"data row1 col1\" >1</td>\n",
       "                        <td id=\"T_58365a26_b2a1_11eb_80f9_02420a3922b4row1_col2\" class=\"data row1 col2\" >0.00596746</td>\n",
       "                        <td id=\"T_58365a26_b2a1_11eb_80f9_02420a3922b4row1_col3\" class=\"data row1 col3\" >0.00877467</td>\n",
       "                        <td id=\"T_58365a26_b2a1_11eb_80f9_02420a3922b4row1_col4\" class=\"data row1 col4\" >-0.0214101</td>\n",
       "                        <td id=\"T_58365a26_b2a1_11eb_80f9_02420a3922b4row1_col5\" class=\"data row1 col5\" >-0.0139322</td>\n",
       "                        <td id=\"T_58365a26_b2a1_11eb_80f9_02420a3922b4row1_col6\" class=\"data row1 col6\" >0.019297</td>\n",
       "                        <td id=\"T_58365a26_b2a1_11eb_80f9_02420a3922b4row1_col7\" class=\"data row1 col7\" >-0.0140233</td>\n",
       "                        <td id=\"T_58365a26_b2a1_11eb_80f9_02420a3922b4row1_col8\" class=\"data row1 col8\" >0.00168193</td>\n",
       "                        <td id=\"T_58365a26_b2a1_11eb_80f9_02420a3922b4row1_col9\" class=\"data row1 col9\" >0.0152458</td>\n",
       "                        <td id=\"T_58365a26_b2a1_11eb_80f9_02420a3922b4row1_col10\" class=\"data row1 col10\" >-0.00626375</td>\n",
       "            </tr>\n",
       "            <tr>\n",
       "                        <th id=\"T_58365a26_b2a1_11eb_80f9_02420a3922b4level0_row2\" class=\"row_heading level0 row2\" >CreditScore</th>\n",
       "                        <td id=\"T_58365a26_b2a1_11eb_80f9_02420a3922b4row2_col0\" class=\"data row2 col0\" >0.00513017</td>\n",
       "                        <td id=\"T_58365a26_b2a1_11eb_80f9_02420a3922b4row2_col1\" class=\"data row2 col1\" >0.00596746</td>\n",
       "                        <td id=\"T_58365a26_b2a1_11eb_80f9_02420a3922b4row2_col2\" class=\"data row2 col2\" >1</td>\n",
       "                        <td id=\"T_58365a26_b2a1_11eb_80f9_02420a3922b4row2_col3\" class=\"data row2 col3\" >-0.00797404</td>\n",
       "                        <td id=\"T_58365a26_b2a1_11eb_80f9_02420a3922b4row2_col4\" class=\"data row2 col4\" >0.000603676</td>\n",
       "                        <td id=\"T_58365a26_b2a1_11eb_80f9_02420a3922b4row2_col5\" class=\"data row2 col5\" >0.00568657</td>\n",
       "                        <td id=\"T_58365a26_b2a1_11eb_80f9_02420a3922b4row2_col6\" class=\"data row2 col6\" >0.0125677</td>\n",
       "                        <td id=\"T_58365a26_b2a1_11eb_80f9_02420a3922b4row2_col7\" class=\"data row2 col7\" >-0.00380182</td>\n",
       "                        <td id=\"T_58365a26_b2a1_11eb_80f9_02420a3922b4row2_col8\" class=\"data row2 col8\" >0.0242623</td>\n",
       "                        <td id=\"T_58365a26_b2a1_11eb_80f9_02420a3922b4row2_col9\" class=\"data row2 col9\" >0.00123652</td>\n",
       "                        <td id=\"T_58365a26_b2a1_11eb_80f9_02420a3922b4row2_col10\" class=\"data row2 col10\" >-0.0232894</td>\n",
       "            </tr>\n",
       "            <tr>\n",
       "                        <th id=\"T_58365a26_b2a1_11eb_80f9_02420a3922b4level0_row3\" class=\"row_heading level0 row3\" >Age</th>\n",
       "                        <td id=\"T_58365a26_b2a1_11eb_80f9_02420a3922b4row3_col0\" class=\"data row3 col0\" >0.000476064</td>\n",
       "                        <td id=\"T_58365a26_b2a1_11eb_80f9_02420a3922b4row3_col1\" class=\"data row3 col1\" >0.00877467</td>\n",
       "                        <td id=\"T_58365a26_b2a1_11eb_80f9_02420a3922b4row3_col2\" class=\"data row3 col2\" >-0.00797404</td>\n",
       "                        <td id=\"T_58365a26_b2a1_11eb_80f9_02420a3922b4row3_col3\" class=\"data row3 col3\" >1</td>\n",
       "                        <td id=\"T_58365a26_b2a1_11eb_80f9_02420a3922b4row3_col4\" class=\"data row3 col4\" >-0.0142749</td>\n",
       "                        <td id=\"T_58365a26_b2a1_11eb_80f9_02420a3922b4row3_col5\" class=\"data row3 col5\" >0.0333043</td>\n",
       "                        <td id=\"T_58365a26_b2a1_11eb_80f9_02420a3922b4row3_col6\" class=\"data row3 col6\" >-0.0585665</td>\n",
       "                        <td id=\"T_58365a26_b2a1_11eb_80f9_02420a3922b4row3_col7\" class=\"data row3 col7\" >-0.0152782</td>\n",
       "                        <td id=\"T_58365a26_b2a1_11eb_80f9_02420a3922b4row3_col8\" class=\"data row3 col8\" >0.0398392</td>\n",
       "                        <td id=\"T_58365a26_b2a1_11eb_80f9_02420a3922b4row3_col9\" class=\"data row3 col9\" >-0.0024315</td>\n",
       "                        <td id=\"T_58365a26_b2a1_11eb_80f9_02420a3922b4row3_col10\" class=\"data row3 col10\" >0.323968</td>\n",
       "            </tr>\n",
       "            <tr>\n",
       "                        <th id=\"T_58365a26_b2a1_11eb_80f9_02420a3922b4level0_row4\" class=\"row_heading level0 row4\" >Tenure</th>\n",
       "                        <td id=\"T_58365a26_b2a1_11eb_80f9_02420a3922b4row4_col0\" class=\"data row4 col0\" >-0.0076505</td>\n",
       "                        <td id=\"T_58365a26_b2a1_11eb_80f9_02420a3922b4row4_col1\" class=\"data row4 col1\" >-0.0214101</td>\n",
       "                        <td id=\"T_58365a26_b2a1_11eb_80f9_02420a3922b4row4_col2\" class=\"data row4 col2\" >0.000603676</td>\n",
       "                        <td id=\"T_58365a26_b2a1_11eb_80f9_02420a3922b4row4_col3\" class=\"data row4 col3\" >-0.0142749</td>\n",
       "                        <td id=\"T_58365a26_b2a1_11eb_80f9_02420a3922b4row4_col4\" class=\"data row4 col4\" >1</td>\n",
       "                        <td id=\"T_58365a26_b2a1_11eb_80f9_02420a3922b4row4_col5\" class=\"data row4 col5\" >-0.0052519</td>\n",
       "                        <td id=\"T_58365a26_b2a1_11eb_80f9_02420a3922b4row4_col6\" class=\"data row4 col6\" >0.0114532</td>\n",
       "                        <td id=\"T_58365a26_b2a1_11eb_80f9_02420a3922b4row4_col7\" class=\"data row4 col7\" >0.0272934</td>\n",
       "                        <td id=\"T_58365a26_b2a1_11eb_80f9_02420a3922b4row4_col8\" class=\"data row4 col8\" >-0.0325956</td>\n",
       "                        <td id=\"T_58365a26_b2a1_11eb_80f9_02420a3922b4row4_col9\" class=\"data row4 col9\" >0.0103432</td>\n",
       "                        <td id=\"T_58365a26_b2a1_11eb_80f9_02420a3922b4row4_col10\" class=\"data row4 col10\" >-0.0167617</td>\n",
       "            </tr>\n",
       "            <tr>\n",
       "                        <th id=\"T_58365a26_b2a1_11eb_80f9_02420a3922b4level0_row5\" class=\"row_heading level0 row5\" >Balance</th>\n",
       "                        <td id=\"T_58365a26_b2a1_11eb_80f9_02420a3922b4row5_col0\" class=\"data row5 col0\" >-0.00901326</td>\n",
       "                        <td id=\"T_58365a26_b2a1_11eb_80f9_02420a3922b4row5_col1\" class=\"data row5 col1\" >-0.0139322</td>\n",
       "                        <td id=\"T_58365a26_b2a1_11eb_80f9_02420a3922b4row5_col2\" class=\"data row5 col2\" >0.00568657</td>\n",
       "                        <td id=\"T_58365a26_b2a1_11eb_80f9_02420a3922b4row5_col3\" class=\"data row5 col3\" >0.0333043</td>\n",
       "                        <td id=\"T_58365a26_b2a1_11eb_80f9_02420a3922b4row5_col4\" class=\"data row5 col4\" >-0.0052519</td>\n",
       "                        <td id=\"T_58365a26_b2a1_11eb_80f9_02420a3922b4row5_col5\" class=\"data row5 col5\" >1</td>\n",
       "                        <td id=\"T_58365a26_b2a1_11eb_80f9_02420a3922b4row5_col6\" class=\"data row5 col6\" >-0.316627</td>\n",
       "                        <td id=\"T_58365a26_b2a1_11eb_80f9_02420a3922b4row5_col7\" class=\"data row5 col7\" >-0.0098346</td>\n",
       "                        <td id=\"T_58365a26_b2a1_11eb_80f9_02420a3922b4row5_col8\" class=\"data row5 col8\" >-0.0114965</td>\n",
       "                        <td id=\"T_58365a26_b2a1_11eb_80f9_02420a3922b4row5_col9\" class=\"data row5 col9\" >0.011778</td>\n",
       "                        <td id=\"T_58365a26_b2a1_11eb_80f9_02420a3922b4row5_col10\" class=\"data row5 col10\" >0.11111</td>\n",
       "            </tr>\n",
       "            <tr>\n",
       "                        <th id=\"T_58365a26_b2a1_11eb_80f9_02420a3922b4level0_row6\" class=\"row_heading level0 row6\" >NumOfProducts</th>\n",
       "                        <td id=\"T_58365a26_b2a1_11eb_80f9_02420a3922b4row6_col0\" class=\"data row6 col0\" >0.00830511</td>\n",
       "                        <td id=\"T_58365a26_b2a1_11eb_80f9_02420a3922b4row6_col1\" class=\"data row6 col1\" >0.019297</td>\n",
       "                        <td id=\"T_58365a26_b2a1_11eb_80f9_02420a3922b4row6_col2\" class=\"data row6 col2\" >0.0125677</td>\n",
       "                        <td id=\"T_58365a26_b2a1_11eb_80f9_02420a3922b4row6_col3\" class=\"data row6 col3\" >-0.0585665</td>\n",
       "                        <td id=\"T_58365a26_b2a1_11eb_80f9_02420a3922b4row6_col4\" class=\"data row6 col4\" >0.0114532</td>\n",
       "                        <td id=\"T_58365a26_b2a1_11eb_80f9_02420a3922b4row6_col5\" class=\"data row6 col5\" >-0.316627</td>\n",
       "                        <td id=\"T_58365a26_b2a1_11eb_80f9_02420a3922b4row6_col6\" class=\"data row6 col6\" >1</td>\n",
       "                        <td id=\"T_58365a26_b2a1_11eb_80f9_02420a3922b4row6_col7\" class=\"data row6 col7\" >0.00385886</td>\n",
       "                        <td id=\"T_58365a26_b2a1_11eb_80f9_02420a3922b4row6_col8\" class=\"data row6 col8\" >0.0162918</td>\n",
       "                        <td id=\"T_58365a26_b2a1_11eb_80f9_02420a3922b4row6_col9\" class=\"data row6 col9\" >0.0125698</td>\n",
       "                        <td id=\"T_58365a26_b2a1_11eb_80f9_02420a3922b4row6_col10\" class=\"data row6 col10\" >-0.125282</td>\n",
       "            </tr>\n",
       "            <tr>\n",
       "                        <th id=\"T_58365a26_b2a1_11eb_80f9_02420a3922b4level0_row7\" class=\"row_heading level0 row7\" >HasCrCard</th>\n",
       "                        <td id=\"T_58365a26_b2a1_11eb_80f9_02420a3922b4row7_col0\" class=\"data row7 col0\" >0.000598747</td>\n",
       "                        <td id=\"T_58365a26_b2a1_11eb_80f9_02420a3922b4row7_col1\" class=\"data row7 col1\" >-0.0140233</td>\n",
       "                        <td id=\"T_58365a26_b2a1_11eb_80f9_02420a3922b4row7_col2\" class=\"data row7 col2\" >-0.00380182</td>\n",
       "                        <td id=\"T_58365a26_b2a1_11eb_80f9_02420a3922b4row7_col3\" class=\"data row7 col3\" >-0.0152782</td>\n",
       "                        <td id=\"T_58365a26_b2a1_11eb_80f9_02420a3922b4row7_col4\" class=\"data row7 col4\" >0.0272934</td>\n",
       "                        <td id=\"T_58365a26_b2a1_11eb_80f9_02420a3922b4row7_col5\" class=\"data row7 col5\" >-0.0098346</td>\n",
       "                        <td id=\"T_58365a26_b2a1_11eb_80f9_02420a3922b4row7_col6\" class=\"data row7 col6\" >0.00385886</td>\n",
       "                        <td id=\"T_58365a26_b2a1_11eb_80f9_02420a3922b4row7_col7\" class=\"data row7 col7\" >1</td>\n",
       "                        <td id=\"T_58365a26_b2a1_11eb_80f9_02420a3922b4row7_col8\" class=\"data row7 col8\" >-0.0118656</td>\n",
       "                        <td id=\"T_58365a26_b2a1_11eb_80f9_02420a3922b4row7_col9\" class=\"data row7 col9\" >-0.0100409</td>\n",
       "                        <td id=\"T_58365a26_b2a1_11eb_80f9_02420a3922b4row7_col10\" class=\"data row7 col10\" >-0.00713777</td>\n",
       "            </tr>\n",
       "            <tr>\n",
       "                        <th id=\"T_58365a26_b2a1_11eb_80f9_02420a3922b4level0_row8\" class=\"row_heading level0 row8\" >IsActiveMember</th>\n",
       "                        <td id=\"T_58365a26_b2a1_11eb_80f9_02420a3922b4row8_col0\" class=\"data row8 col0\" >0.0120444</td>\n",
       "                        <td id=\"T_58365a26_b2a1_11eb_80f9_02420a3922b4row8_col1\" class=\"data row8 col1\" >0.00168193</td>\n",
       "                        <td id=\"T_58365a26_b2a1_11eb_80f9_02420a3922b4row8_col2\" class=\"data row8 col2\" >0.0242623</td>\n",
       "                        <td id=\"T_58365a26_b2a1_11eb_80f9_02420a3922b4row8_col3\" class=\"data row8 col3\" >0.0398392</td>\n",
       "                        <td id=\"T_58365a26_b2a1_11eb_80f9_02420a3922b4row8_col4\" class=\"data row8 col4\" >-0.0325956</td>\n",
       "                        <td id=\"T_58365a26_b2a1_11eb_80f9_02420a3922b4row8_col5\" class=\"data row8 col5\" >-0.0114965</td>\n",
       "                        <td id=\"T_58365a26_b2a1_11eb_80f9_02420a3922b4row8_col6\" class=\"data row8 col6\" >0.0162918</td>\n",
       "                        <td id=\"T_58365a26_b2a1_11eb_80f9_02420a3922b4row8_col7\" class=\"data row8 col7\" >-0.0118656</td>\n",
       "                        <td id=\"T_58365a26_b2a1_11eb_80f9_02420a3922b4row8_col8\" class=\"data row8 col8\" >1</td>\n",
       "                        <td id=\"T_58365a26_b2a1_11eb_80f9_02420a3922b4row8_col9\" class=\"data row8 col9\" >-0.0114691</td>\n",
       "                        <td id=\"T_58365a26_b2a1_11eb_80f9_02420a3922b4row8_col10\" class=\"data row8 col10\" >-0.156128</td>\n",
       "            </tr>\n",
       "            <tr>\n",
       "                        <th id=\"T_58365a26_b2a1_11eb_80f9_02420a3922b4level0_row9\" class=\"row_heading level0 row9\" >EstimatedSalary</th>\n",
       "                        <td id=\"T_58365a26_b2a1_11eb_80f9_02420a3922b4row9_col0\" class=\"data row9 col0\" >-0.00600683</td>\n",
       "                        <td id=\"T_58365a26_b2a1_11eb_80f9_02420a3922b4row9_col1\" class=\"data row9 col1\" >0.0152458</td>\n",
       "                        <td id=\"T_58365a26_b2a1_11eb_80f9_02420a3922b4row9_col2\" class=\"data row9 col2\" >0.00123652</td>\n",
       "                        <td id=\"T_58365a26_b2a1_11eb_80f9_02420a3922b4row9_col3\" class=\"data row9 col3\" >-0.0024315</td>\n",
       "                        <td id=\"T_58365a26_b2a1_11eb_80f9_02420a3922b4row9_col4\" class=\"data row9 col4\" >0.0103432</td>\n",
       "                        <td id=\"T_58365a26_b2a1_11eb_80f9_02420a3922b4row9_col5\" class=\"data row9 col5\" >0.011778</td>\n",
       "                        <td id=\"T_58365a26_b2a1_11eb_80f9_02420a3922b4row9_col6\" class=\"data row9 col6\" >0.0125698</td>\n",
       "                        <td id=\"T_58365a26_b2a1_11eb_80f9_02420a3922b4row9_col7\" class=\"data row9 col7\" >-0.0100409</td>\n",
       "                        <td id=\"T_58365a26_b2a1_11eb_80f9_02420a3922b4row9_col8\" class=\"data row9 col8\" >-0.0114691</td>\n",
       "                        <td id=\"T_58365a26_b2a1_11eb_80f9_02420a3922b4row9_col9\" class=\"data row9 col9\" >1</td>\n",
       "                        <td id=\"T_58365a26_b2a1_11eb_80f9_02420a3922b4row9_col10\" class=\"data row9 col10\" >0.0120805</td>\n",
       "            </tr>\n",
       "            <tr>\n",
       "                        <th id=\"T_58365a26_b2a1_11eb_80f9_02420a3922b4level0_row10\" class=\"row_heading level0 row10\" >Exited</th>\n",
       "                        <td id=\"T_58365a26_b2a1_11eb_80f9_02420a3922b4row10_col0\" class=\"data row10 col0\" >-0.0165714</td>\n",
       "                        <td id=\"T_58365a26_b2a1_11eb_80f9_02420a3922b4row10_col1\" class=\"data row10 col1\" >-0.00626375</td>\n",
       "                        <td id=\"T_58365a26_b2a1_11eb_80f9_02420a3922b4row10_col2\" class=\"data row10 col2\" >-0.0232894</td>\n",
       "                        <td id=\"T_58365a26_b2a1_11eb_80f9_02420a3922b4row10_col3\" class=\"data row10 col3\" >0.323968</td>\n",
       "                        <td id=\"T_58365a26_b2a1_11eb_80f9_02420a3922b4row10_col4\" class=\"data row10 col4\" >-0.0167617</td>\n",
       "                        <td id=\"T_58365a26_b2a1_11eb_80f9_02420a3922b4row10_col5\" class=\"data row10 col5\" >0.11111</td>\n",
       "                        <td id=\"T_58365a26_b2a1_11eb_80f9_02420a3922b4row10_col6\" class=\"data row10 col6\" >-0.125282</td>\n",
       "                        <td id=\"T_58365a26_b2a1_11eb_80f9_02420a3922b4row10_col7\" class=\"data row10 col7\" >-0.00713777</td>\n",
       "                        <td id=\"T_58365a26_b2a1_11eb_80f9_02420a3922b4row10_col8\" class=\"data row10 col8\" >-0.156128</td>\n",
       "                        <td id=\"T_58365a26_b2a1_11eb_80f9_02420a3922b4row10_col9\" class=\"data row10 col9\" >0.0120805</td>\n",
       "                        <td id=\"T_58365a26_b2a1_11eb_80f9_02420a3922b4row10_col10\" class=\"data row10 col10\" >1</td>\n",
       "            </tr>\n",
       "    </tbody></table>"
      ],
      "text/plain": [
       "<pandas.io.formats.style.Styler at 0x7fd6fa0dc990>"
      ]
     },
     "metadata": {},
     "output_type": "display_data"
    }
   ],
   "source": [
    "print('\\n', 'Корреляционная матрица, коэф. Спирмена')\n",
    "display(churn.corr(method='spearman').style.background_gradient(cmap='coolwarm'))"
   ]
  },
  {
   "cell_type": "markdown",
   "metadata": {},
   "source": [
    "Корреляция с возрастом оказалась даже сильнее. Кроме того, добавилась зависимость с количеством использованных продуктов.\n",
    "\n",
    "Посмотрим на графиках, как отличается использование услуг в двух сегментах. Поскольку графиков будет несколько, объявим функцию для построения гистограмм."
   ]
  },
  {
   "cell_type": "code",
   "execution_count": 9,
   "metadata": {},
   "outputs": [],
   "source": [
    "def hist_draw(ax, data1, data2, title, xlabel):\n",
    "    ax.hist(data1, density=True, bins=40, alpha=0.4, color='green')\n",
    "    ax.hist(data2, density=True, bins=40, alpha=0.4, color='purple')\n",
    "    ax.grid(alpha=0.2, linestyle='--', linewidth=1)\n",
    "    ax.set_title(title, fontsize='large')\n",
    "    ax.set_ylabel('Плотность частоты')\n",
    "    ax.set_xlabel(xlabel)\n",
    "    ax.legend([\"Остались\",\"Ушли\"], fontsize='large', labelspacing=1.3, handlelength=4.5)"
   ]
  },
  {
   "cell_type": "markdown",
   "metadata": {},
   "source": [
    "Теперь передалим нашей функции интересующие срезы данных и построим графики."
   ]
  },
  {
   "cell_type": "code",
   "execution_count": 10,
   "metadata": {},
   "outputs": [
    {
     "data": {
      "image/png": "[encoded data removed]",
      "text/plain": [
       "<Figure size 1008x720 with 4 Axes>"
      ]
     },
     "metadata": {
      "needs_background": "light"
     },
     "output_type": "display_data"
    }
   ],
   "source": [
    "fig, ax = plt.subplots(nrows=2, ncols=2, figsize=(14,10))\n",
    "\n",
    "hist_draw(ax[0,0], churn[churn['Exited'] == 0]['Age'], churn[churn['Exited'] == 1]['Age'],'Age', 'Возраст в годах')\n",
    "hist_draw(ax[0,1], churn[churn['Exited'] == 0]['Balance'], churn[churn['Exited'] == 1]['Balance'],'Balance', 'Баланс на счете')\n",
    "hist_draw(ax[1,0], churn[churn['Exited'] == 0]['IsActiveMember'], churn[churn['Exited'] == 1]['IsActiveMember'],'IsActiveMember', 'Активность клиента')\n",
    "hist_draw(ax[1,1], churn[churn['Exited'] == 0]['NumOfProducts'], churn[churn['Exited'] == 1]['NumOfProducts'],'NumOfProducts', 'Количество используемых продуктов')"
   ]
  },
  {
   "cell_type": "markdown",
   "metadata": {},
   "source": [
    "Из графиков следует, что средний возраст клиентов, которые могут уйти, в среднем, больше (примерно лет на 10). Если у клиента нулевой баланс или он проявляет активность, то он скорее останется, чем покинет банк. Интересные результаты на графике по кличеству используемых продуктов. Если количество используемых продуктов равно 2, то велика вероятность, что клиент останется. Если больше двух - то уйдет.\n",
    "\n",
    "Посмотрим на графике, как располагаются группы, и с чем будут работать наши классификаторы. Создадим функцию и передадим ей нужные срезы данных."
   ]
  },
  {
   "cell_type": "code",
   "execution_count": 11,
   "metadata": {},
   "outputs": [],
   "source": [
    "def scatter_draw(xdata_0, ydata_0, zdata_0, xdata_1, ydata_1, zdata_1, title, xlabel, ylabel, zlabel):\n",
    "    ax.scatter(xdata_0, ydata_0, zdata_0, alpha=0.1, s=10, color='green')\n",
    "    ax.scatter(xdata_1, ydata_1, zdata_1, alpha=0.1, s=10, color='red')\n",
    "    ax.grid(alpha=0.2, linestyle='--', linewidth=1)\n",
    "    ax.set_title(title, fontsize='large')\n",
    "    ax.set_ylabel(ylabel)\n",
    "    ax.set_xlabel(xlabel)\n",
    "    ax.set_zlabel(zlabel)\n",
    "    ax.legend([\"Остались\", \"Ушли\"], loc=1, fontsize='large', labelspacing=0.9, handlelength=0.5) "
   ]
  },
  {
   "cell_type": "code",
   "execution_count": 12,
   "metadata": {},
   "outputs": [
    {
     "data": {
      "image/png": "[encoded data removed]",
      "text/plain": [
       "<Figure size 864x432 with 2 Axes>"
      ]
     },
     "metadata": {
      "needs_background": "light"
     },
     "output_type": "display_data"
    }
   ],
   "source": [
    "%matplotlib inline\n",
    "fig = plt.figure(figsize=(12,6))\n",
    "ax = fig.add_subplot(1, 2, 1, projection='3d')\n",
    "scatter_draw(churn[churn['Exited'] == 0]['Age'], churn[churn['Exited'] == 0]['Balance'], churn[churn['Exited'] == 0]['NumOfProducts'],\n",
    "             churn[churn['Exited'] == 1]['Age'], churn[churn['Exited'] == 1]['Balance'], churn[churn['Exited'] == 1]['NumOfProducts'],\n",
    "             'Возраст-баланс-продукты', 'Age', 'Balance', 'NumOfProducts')\n",
    "ax = fig.add_subplot(1, 2, 2, projection='3d')\n",
    "scatter_draw(churn[churn['Exited'] == 0]['Age'], churn[churn['Exited'] == 0]['Balance'], churn[churn['Exited'] == 0]['IsActiveMember'],\n",
    "             churn[churn['Exited'] == 1]['Age'], churn[churn['Exited'] == 1]['Balance'], churn[churn['Exited'] == 1]['IsActiveMember'],\n",
    "             'Возраст-баланс-активность', 'Age', 'Balance', 'IsActiveMember')"
   ]
  },
  {
   "cell_type": "markdown",
   "metadata": {},
   "source": [
    "Для построения выбран трехмерный тип графика, чтобы зрительно лучше оценить возможности разделения на категории. При проецировании данных в пространство более высокой размерности есть возможность провести разделяющую плоскость и \"покачать\" ее в поисках лучшего угла наклона. Например, это удобно сделать на первом графике, отделив группы по количеству используемых продуктов (более 2). Однако, на нижнем \"ярусе\" того же графика (количество используемых продуктов = 1) красные точки расположились пятном среди зеленых, плюс данные сильно перекрываются. Этакая диффузия точек. Очевидно, что все данные линейно не разделить. \n",
    "\n",
    "На соседнем графике нижний ярус выглядит чуть лучше (активность = 0), но смешение групп есть и там. Верхний слой (активность = 1), скорее всего, будет разграничиваться уже по другим факторам.\n",
    "\n",
    "По причине всех этих обстоятельств применим несколько моделей и выберем из них лучшую. Проверим, насколько сбалансированы данные: вычислим доли настоящих и бывших клиентов."
   ]
  },
  {
   "cell_type": "code",
   "execution_count": 13,
   "metadata": {},
   "outputs": [
    {
     "name": "stdout",
     "output_type": "stream",
     "text": [
      "0    0.7963\n",
      "1    0.2037\n",
      "Name: Exited, dtype: float64\n"
     ]
    }
   ],
   "source": [
    "print(churn['Exited'].value_counts(normalize=True))"
   ]
  },
  {
   "cell_type": "markdown",
   "metadata": {},
   "source": [
    "В предоставленном датасете около 80% клиентов являются настоящими, ушедших чуть более 20%. Это значит, что существует значительный \"перевес\" в сторону настоящих клиентов, их больше в 4 раза."
   ]
  },
  {
   "cell_type": "markdown",
   "metadata": {},
   "source": [
    "### Вывод"
   ]
  },
  {
   "cell_type": "markdown",
   "metadata": {},
   "source": [
    "В наборе 10000 строк и 14 столбцов. В столбце Tenure около 9% пропущенных значений. Дубликатов не выявлено, все типы данных корректны.\n",
    "\n",
    "Распределения разных групп пересекаются друг с другом. И хотя отличия все же есть, в обоих классах много клиентов со схожим поведением. Т.е. отличить их друг от друга представляется непростой задачей.\n",
    "\n",
    "Между возрастом, балансом на счете и утвердительным значением столбца Exited выявлена \n",
    "небольшая положительная корреляция. А вот между активностью клиента и количеством используемых продуктов колонка 'Exited' коррелирует отрицательно, хоть эта связь и незначительна.\n",
    "\n",
    "Данные не сбалансированы, в предоставленном датасете есть существенная диспропорция в размерах категорий. Примерное соотношение текущих и бывших клиентов - 4:1."
   ]
  },
  {
   "cell_type": "markdown",
   "metadata": {},
   "source": [
    "## Подготовка данных"
   ]
  },
  {
   "cell_type": "markdown",
   "metadata": {},
   "source": [
    "В наборе данных имеется колонка с пропущенными значениями (порядка 9%) Tenure. Пропуски затруднят построение моделей, поэтому оставить их в датасете мы не можем. Анализ корреляций зависимостей между колонкой и целевой переменной не выявил. Поэтому заменим пропуски средним или медианой. Посчитаем их и сравним. "
   ]
  },
  {
   "cell_type": "code",
   "execution_count": 14,
   "metadata": {},
   "outputs": [
    {
     "name": "stdout",
     "output_type": "stream",
     "text": [
      "4.997690023099769\n",
      "5.0\n"
     ]
    }
   ],
   "source": [
    "print(churn['Tenure'].mean())\n",
    "print(churn['Tenure'].median())"
   ]
  },
  {
   "cell_type": "markdown",
   "metadata": {},
   "source": [
    "Среднее и медиана практически идентичны. Поскольку медиана является круглым числом, используем его для замены."
   ]
  },
  {
   "cell_type": "code",
   "execution_count": 15,
   "metadata": {},
   "outputs": [
    {
     "name": "stdout",
     "output_type": "stream",
     "text": [
      "<class 'pandas.core.frame.DataFrame'>\n",
      "RangeIndex: 10000 entries, 0 to 9999\n",
      "Data columns (total 14 columns):\n",
      "RowNumber          10000 non-null int64\n",
      "CustomerId         10000 non-null int64\n",
      "Surname            10000 non-null object\n",
      "CreditScore        10000 non-null int64\n",
      "Geography          10000 non-null object\n",
      "Gender             10000 non-null object\n",
      "Age                10000 non-null int64\n",
      "Tenure             10000 non-null float64\n",
      "Balance            10000 non-null float64\n",
      "NumOfProducts      10000 non-null int64\n",
      "HasCrCard          10000 non-null int64\n",
      "IsActiveMember     10000 non-null int64\n",
      "EstimatedSalary    10000 non-null float64\n",
      "Exited             10000 non-null int64\n",
      "dtypes: float64(3), int64(8), object(3)\n",
      "memory usage: 1.1+ MB\n"
     ]
    }
   ],
   "source": [
    "churn['Tenure'] = churn['Tenure'].fillna(churn['Tenure'].median())\n",
    "churn.info()"
   ]
  },
  {
   "cell_type": "markdown",
   "metadata": {},
   "source": [
    "Разделим датасет на набор прогнозирующих факторов и целевой признак.\n",
    "Из списка прогнозирующих признаков удалим также номер строки, ID клиента и фамилию. Вряд ли они будут полезны для анализа."
   ]
  },
  {
   "cell_type": "code",
   "execution_count": 16,
   "metadata": {},
   "outputs": [],
   "source": [
    "target = churn['Exited']\n",
    "features = churn.drop(['Exited', 'RowNumber', 'CustomerId', 'Surname'], axis=1)"
   ]
  },
  {
   "cell_type": "markdown",
   "metadata": {},
   "source": [
    "В датасете также имеются категориальные признаки, от которых может зависеть, уйдет ли клиент из банка или нет. В их числе пол и местоположение. Пола может быть только два, а вот стран много. Чтобы выбрать способ кодирования, проверим, много ли уникальных значений в столбце Geography."
   ]
  },
  {
   "cell_type": "code",
   "execution_count": 17,
   "metadata": {},
   "outputs": [
    {
     "data": {
      "text/plain": [
       "array(['France', 'Spain', 'Germany'], dtype=object)"
      ]
     },
     "execution_count": 17,
     "metadata": {},
     "output_type": "execute_result"
    }
   ],
   "source": [
    "churn['Geography'].unique()"
   ]
  },
  {
   "cell_type": "markdown",
   "metadata": {},
   "source": [
    "В наборе данных фигурируют всего три страны. Используем технику прямого кодирования (One-Hot Encoding), к тому же она работает со всеми моделями."
   ]
  },
  {
   "cell_type": "code",
   "execution_count": 18,
   "metadata": {},
   "outputs": [],
   "source": [
    "features = pd.get_dummies(features, drop_first=True)"
   ]
  },
  {
   "cell_type": "markdown",
   "metadata": {},
   "source": [
    "Разделим наши обучающие признаки на три выборки: обучающую, валидационную и тестовую. В параметры функции train_test_split добавим stratify, чтобы сохранить пропорцию классов в разных выборках."
   ]
  },
  {
   "cell_type": "code",
   "execution_count": 19,
   "metadata": {},
   "outputs": [],
   "source": [
    "features_train, features_valid, target_train, target_valid = train_test_split(features, target, train_size=0.60, test_size=0.20, stratify=target, random_state=12345)\n",
    "features_test = features.drop(features_train.index).drop(features_valid.index)\n",
    "target_test = target.drop(target_train.index).drop(target_valid.index)"
   ]
  },
  {
   "cell_type": "markdown",
   "metadata": {},
   "source": [
    "Посмотрим, выборки каких размеров у нас получились."
   ]
  },
  {
   "cell_type": "code",
   "execution_count": 20,
   "metadata": {},
   "outputs": [
    {
     "name": "stdout",
     "output_type": "stream",
     "text": [
      "(6000, 11) (6000,)\n",
      "(2000, 11) (2000,)\n",
      "(2000, 11) (2000,)\n"
     ]
    }
   ],
   "source": [
    "print(features_train.shape, target_train.shape)\n",
    "print(features_valid.shape, target_valid.shape)\n",
    "print(features_test.shape, target_test.shape)"
   ]
  },
  {
   "cell_type": "markdown",
   "metadata": {},
   "source": [
    "Чтобы привести признаки к единому масштабу, стандартизируем их методом StandardScaler и выведем первые строки получившейся таблицы (тренировочные данные)."
   ]
  },
  {
   "cell_type": "code",
   "execution_count": 21,
   "metadata": {},
   "outputs": [
    {
     "data": {
      "text/html": [
       "<div>\n",
       "<style scoped>\n",
       "    .dataframe tbody tr th:only-of-type {\n",
       "        vertical-align: middle;\n",
       "    }\n",
       "\n",
       "    .dataframe tbody tr th {\n",
       "        vertical-align: top;\n",
       "    }\n",
       "\n",
       "    .dataframe thead th {\n",
       "        text-align: right;\n",
       "    }\n",
       "</style>\n",
       "<table border=\"1\" class=\"dataframe\">\n",
       "  <thead>\n",
       "    <tr style=\"text-align: right;\">\n",
       "      <th></th>\n",
       "      <th>CreditScore</th>\n",
       "      <th>Age</th>\n",
       "      <th>Tenure</th>\n",
       "      <th>Balance</th>\n",
       "      <th>NumOfProducts</th>\n",
       "      <th>HasCrCard</th>\n",
       "      <th>IsActiveMember</th>\n",
       "      <th>EstimatedSalary</th>\n",
       "      <th>Geography_Germany</th>\n",
       "      <th>Geography_Spain</th>\n",
       "      <th>Gender_Male</th>\n",
       "    </tr>\n",
       "  </thead>\n",
       "  <tbody>\n",
       "    <tr>\n",
       "      <td>2837</td>\n",
       "      <td>-1.040017</td>\n",
       "      <td>0.952044</td>\n",
       "      <td>0.361411</td>\n",
       "      <td>0.771902</td>\n",
       "      <td>1</td>\n",
       "      <td>0</td>\n",
       "      <td>1</td>\n",
       "      <td>-0.109386</td>\n",
       "      <td>1</td>\n",
       "      <td>0</td>\n",
       "      <td>0</td>\n",
       "    </tr>\n",
       "    <tr>\n",
       "      <td>9926</td>\n",
       "      <td>1.584254</td>\n",
       "      <td>-0.286356</td>\n",
       "      <td>-1.459912</td>\n",
       "      <td>-1.217795</td>\n",
       "      <td>2</td>\n",
       "      <td>1</td>\n",
       "      <td>1</td>\n",
       "      <td>0.863430</td>\n",
       "      <td>0</td>\n",
       "      <td>0</td>\n",
       "      <td>1</td>\n",
       "    </tr>\n",
       "    <tr>\n",
       "      <td>1615</td>\n",
       "      <td>0.365104</td>\n",
       "      <td>-1.715280</td>\n",
       "      <td>0.361411</td>\n",
       "      <td>0.343569</td>\n",
       "      <td>1</td>\n",
       "      <td>1</td>\n",
       "      <td>1</td>\n",
       "      <td>1.135224</td>\n",
       "      <td>1</td>\n",
       "      <td>0</td>\n",
       "      <td>0</td>\n",
       "    </tr>\n",
       "    <tr>\n",
       "      <td>660</td>\n",
       "      <td>-0.182480</td>\n",
       "      <td>0.189952</td>\n",
       "      <td>-0.002853</td>\n",
       "      <td>0.087278</td>\n",
       "      <td>1</td>\n",
       "      <td>1</td>\n",
       "      <td>1</td>\n",
       "      <td>-1.153475</td>\n",
       "      <td>1</td>\n",
       "      <td>0</td>\n",
       "      <td>0</td>\n",
       "    </tr>\n",
       "    <tr>\n",
       "      <td>3610</td>\n",
       "      <td>-0.719732</td>\n",
       "      <td>1.618875</td>\n",
       "      <td>-1.459912</td>\n",
       "      <td>0.876131</td>\n",
       "      <td>1</td>\n",
       "      <td>1</td>\n",
       "      <td>0</td>\n",
       "      <td>0.123578</td>\n",
       "      <td>0</td>\n",
       "      <td>0</td>\n",
       "      <td>0</td>\n",
       "    </tr>\n",
       "  </tbody>\n",
       "</table>\n",
       "</div>"
      ],
      "text/plain": [
       "      CreditScore       Age    Tenure   Balance  NumOfProducts  HasCrCard  \\\n",
       "2837    -1.040017  0.952044  0.361411  0.771902              1          0   \n",
       "9926     1.584254 -0.286356 -1.459912 -1.217795              2          1   \n",
       "1615     0.365104 -1.715280  0.361411  0.343569              1          1   \n",
       "660     -0.182480  0.189952 -0.002853  0.087278              1          1   \n",
       "3610    -0.719732  1.618875 -1.459912  0.876131              1          1   \n",
       "\n",
       "      IsActiveMember  EstimatedSalary  Geography_Germany  Geography_Spain  \\\n",
       "2837               1        -0.109386                  1                0   \n",
       "9926               1         0.863430                  0                0   \n",
       "1615               1         1.135224                  1                0   \n",
       "660                1        -1.153475                  1                0   \n",
       "3610               0         0.123578                  0                0   \n",
       "\n",
       "      Gender_Male  \n",
       "2837            0  \n",
       "9926            1  \n",
       "1615            0  \n",
       "660             0  \n",
       "3610            0  "
      ]
     },
     "metadata": {},
     "output_type": "display_data"
    }
   ],
   "source": [
    "numeric = ['CreditScore', 'Age', 'Tenure', 'Balance', 'EstimatedSalary']\n",
    "\n",
    "scaler = StandardScaler()\n",
    "scaler.fit(features_train[numeric])\n",
    "\n",
    "features_train[numeric] = scaler.transform(features_train[numeric])\n",
    "features_valid[numeric] = scaler.transform(features_valid[numeric])\n",
    "features_test[numeric] = scaler.transform(features_test[numeric])\n",
    "\n",
    "display(features_train.head())"
   ]
  },
  {
   "cell_type": "markdown",
   "metadata": {},
   "source": [
    "### Вывод"
   ]
  },
  {
   "cell_type": "markdown",
   "metadata": {},
   "source": [
    "Для последующего анализа и обучения набор данных претерпел ряд преобразований.\n",
    "В колонке Tenure пропуски (порядка 9%) заменены медианой. Подобная замена может внести ряд искажений, но анализ корреляций не выявил зависимости между данной колонкой и целевым признаком. К тому же, замена позволила сохранить примерно десятую часть записей (т.е. не удалять их из-за NaN в одном-единственном столбце), содержащих другие полезные данные.\n",
    "\n",
    "Часть категориальных признаков вообще была удалена из набора с обучающими факторами из-за отсутствия прогнозируемой значимости. Например, для построения модели вряд ли нужны такие характеристики, как номер строки, ID клиента или его фамилия.\n",
    "\n",
    "Два категориальных признака Gender и Geografy теоретически могут повлиять на решения модели (вдруг, испанцы или мужчины более склонны к побегу), поэтому они были оставлены в датасете и обработаны методом прямого кодирования (One-Hot Encoding).\n",
    "\n",
    "Далее набор данных разделен на обучающую, валидационную и тестовую выборки. А чтобы модель не считала какой-то фактор более значимым только из-за большого количества знаков до запятой, все признаки были масштабированы с помощью StandardScaler(). Чтобы заранее не передавать информацию модели, как распределены данные в тестовой выборке, шкалирование произведено уже после разделения датасета на обучающую, валидационную и тестовую выборки."
   ]
  },
  {
   "cell_type": "markdown",
   "metadata": {},
   "source": [
    "## Исследование задачи"
   ]
  },
  {
   "cell_type": "markdown",
   "metadata": {},
   "source": [
    "В проекте рассмотрено пять моделей: дерево решений, случайный лес, логистическая регрессия, наивный байесовский классификатор и метод опорных векторов."
   ]
  },
  {
   "cell_type": "markdown",
   "metadata": {},
   "source": [
    "### Дерево решений"
   ]
  },
  {
   "cell_type": "markdown",
   "metadata": {},
   "source": [
    "Первой моделью рассмотрим дерево решений. Подберем оптимальные гиперпараметры с помощью функции GridSearchCV(). Поскольку перебирать гиперпараметры мы будем не один раз, объявим функцию для перебора этих гиперпараметров. На вход она будет принимать перечень параметров, тип модели, набор обучающих признаков, обучающий целевой признак, набор валидационных признаков и валидационный целевой признак."
   ]
  },
  {
   "cell_type": "code",
   "execution_count": 22,
   "metadata": {},
   "outputs": [],
   "source": [
    "def select_params(params, model, f_train, t_train, f_valid, t_valid):\n",
    "    mod = GridSearchCV(model(random_state=12345), params, scoring='f1')\n",
    "    %time mod.fit(f_train, t_train)\n",
    "    print('F1-score лучшей модели на обучающей выборке:', mod.best_score_.round(3))\n",
    "    print('F1-score лучшей модели на валидационной выборке:', f1_score(t_valid, mod.predict(f_valid)).round(3))\n",
    "    print('Accuracy лучшей модели на валидационной выборке:', accuracy_score(t_valid, mod.predict(f_valid)).round(3))\n",
    "    print(mod.best_params_)"
   ]
  },
  {
   "cell_type": "markdown",
   "metadata": {},
   "source": [
    "Применим функцию к дереву решений."
   ]
  },
  {
   "cell_type": "code",
   "execution_count": 23,
   "metadata": {},
   "outputs": [
    {
     "name": "stdout",
     "output_type": "stream",
     "text": [
      "CPU times: user 46.1 s, sys: 79.6 ms, total: 46.2 s\n",
      "Wall time: 46.5 s\n",
      "F1-score лучшей модели на обучающей выборке: 0.553\n",
      "F1-score лучшей модели на валидационной выборке: 0.546\n",
      "Accuracy лучшей модели на валидационной выборке: 0.85\n",
      "{'max_depth': 9, 'min_samples_leaf': 10, 'min_samples_split': 2}\n"
     ]
    }
   ],
   "source": [
    "params = {'max_depth': range(1,11), 'min_samples_split': [2,3,4,5,6,7,8,9,10], 'min_samples_leaf': range(1,11)}\n",
    "select_params(params, DecisionTreeClassifier, features_train, target_train, features_valid, target_valid)"
   ]
  },
  {
   "cell_type": "markdown",
   "metadata": {},
   "source": [
    "Лучше всего сработала модель с 9 узлами, 2 минимально возможными объектами для разделения внутри узла и 10 минимальным числом объектов в листе.\n",
    "\n",
    "Сохраним нашу модель с подобранным количеством узлов и объектов в переменной model_dt."
   ]
  },
  {
   "cell_type": "code",
   "execution_count": 24,
   "metadata": {},
   "outputs": [
    {
     "data": {
      "text/plain": [
       "DecisionTreeClassifier(class_weight=None, criterion='gini', max_depth=9,\n",
       "                       max_features=None, max_leaf_nodes=None,\n",
       "                       min_impurity_decrease=0.0, min_impurity_split=None,\n",
       "                       min_samples_leaf=10, min_samples_split=2,\n",
       "                       min_weight_fraction_leaf=0.0, presort=False,\n",
       "                       random_state=12345, splitter='best')"
      ]
     },
     "execution_count": 24,
     "metadata": {},
     "output_type": "execute_result"
    }
   ],
   "source": [
    "model_dt = DecisionTreeClassifier(random_state=12345, max_depth=9, min_samples_split=2, min_samples_leaf=10)\n",
    "model_dt.fit(features_train, target_train)"
   ]
  },
  {
   "cell_type": "markdown",
   "metadata": {},
   "source": [
    "### Случайный лес"
   ]
  },
  {
   "cell_type": "markdown",
   "metadata": {},
   "source": [
    "Теперь попробуем использовать для классификации не одно дерево, а их ансамбль. Чтобы понять, сколько деревьев сажать, и на каком этапе \"подрезать\", запустим нашу функцию select_params(). Чтобы сократить время на перебор гиперпараметров, рассмотрим не более 100 деревьев с шагом 10, а максимальную глубину дерева для цикла укажем 15."
   ]
  },
  {
   "cell_type": "code",
   "execution_count": 25,
   "metadata": {},
   "outputs": [
    {
     "name": "stdout",
     "output_type": "stream",
     "text": [
      "CPU times: user 3min 13s, sys: 774 ms, total: 3min 14s\n",
      "Wall time: 3min 15s\n",
      "F1-score лучшей модели на обучающей выборке: 0.569\n",
      "F1-score лучшей модели на валидационной выборке: 0.571\n",
      "Accuracy лучшей модели на валидационной выборке: 0.863\n",
      "{'criterion': 'entropy', 'max_depth': 12, 'n_estimators': 91}\n"
     ]
    }
   ],
   "source": [
    "# Wall time: 3min 15s\n",
    "\n",
    "params = {'max_depth': range(4,16), 'n_estimators': range(1,101,10), 'criterion': ['gini', 'entropy']}\n",
    "select_params(params, RandomForestClassifier, features_train, target_train, features_valid, target_valid)"
   ]
  },
  {
   "cell_type": "markdown",
   "metadata": {},
   "source": [
    "Эффективнее сработала модель с 91 деревом и 12 узлами, criterion='entropy'. Теперь сузим диапазоны значений, уберем шаг и еще раз запустим функцию для подбора гиперпараметров."
   ]
  },
  {
   "cell_type": "code",
   "execution_count": 26,
   "metadata": {},
   "outputs": [
    {
     "name": "stdout",
     "output_type": "stream",
     "text": [
      "CPU times: user 4min 30s, sys: 784 ms, total: 4min 31s\n",
      "Wall time: 4min 32s\n",
      "F1-score лучшей модели на обучающей выборке: 0.571\n",
      "F1-score лучшей модели на валидационной выборке: 0.57\n",
      "Accuracy лучшей модели на валидационной выборке: 0.862\n",
      "{'criterion': 'entropy', 'max_depth': 12, 'n_estimators': 92}\n"
     ]
    }
   ],
   "source": [
    "params = {'max_depth': range(10,16), 'n_estimators': range(85,95), 'criterion': ['gini', 'entropy']}\n",
    "select_params(params, RandomForestClassifier, features_train, target_train, features_valid, target_valid)"
   ]
  },
  {
   "cell_type": "markdown",
   "metadata": {},
   "source": [
    "Сохраним нашу модель с подобранными гиперпараметрами в переменной model_rf."
   ]
  },
  {
   "cell_type": "code",
   "execution_count": 27,
   "metadata": {},
   "outputs": [
    {
     "data": {
      "text/plain": [
       "RandomForestClassifier(bootstrap=True, class_weight=None, criterion='entropy',\n",
       "                       max_depth=12, max_features='auto', max_leaf_nodes=None,\n",
       "                       min_impurity_decrease=0.0, min_impurity_split=None,\n",
       "                       min_samples_leaf=1, min_samples_split=2,\n",
       "                       min_weight_fraction_leaf=0.0, n_estimators=92,\n",
       "                       n_jobs=None, oob_score=False, random_state=12345,\n",
       "                       verbose=0, warm_start=False)"
      ]
     },
     "execution_count": 27,
     "metadata": {},
     "output_type": "execute_result"
    }
   ],
   "source": [
    "model_rf = RandomForestClassifier(random_state=12345, n_estimators=92, max_depth=12, criterion='entropy')\n",
    "model_rf.fit(features_train, target_train)"
   ]
  },
  {
   "cell_type": "markdown",
   "metadata": {},
   "source": [
    "### Логистическая регрессия"
   ]
  },
  {
   "cell_type": "markdown",
   "metadata": {},
   "source": [
    "Следующий кандидат на обучение - модель логистической регрессии. Гиперпараметры подберем с помощью select_params()."
   ]
  },
  {
   "cell_type": "code",
   "execution_count": 28,
   "metadata": {},
   "outputs": [
    {
     "name": "stdout",
     "output_type": "stream",
     "text": [
      "CPU times: user 2.41 s, sys: 1.98 s, total: 4.39 s\n",
      "Wall time: 4.38 s\n",
      "F1-score лучшей модели на обучающей выборке: 0.316\n",
      "F1-score лучшей модели на валидационной выборке: 0.277\n",
      "Accuracy лучшей модели на валидационной выборке: 0.807\n",
      "{'solver': 'newton-cg'}\n"
     ]
    }
   ],
   "source": [
    "params = {'solver': ['newton-cg', 'lbfgs', 'liblinear', 'sag', 'saga']}\n",
    "select_params(params, LogisticRegression, features_train, target_train, features_valid, target_valid)"
   ]
  },
  {
   "cell_type": "markdown",
   "metadata": {},
   "source": [
    "Сохраним модель."
   ]
  },
  {
   "cell_type": "code",
   "execution_count": 29,
   "metadata": {},
   "outputs": [
    {
     "data": {
      "text/plain": [
       "LogisticRegression(C=1.0, class_weight=None, dual=False, fit_intercept=True,\n",
       "                   intercept_scaling=1, l1_ratio=None, max_iter=100,\n",
       "                   multi_class='warn', n_jobs=None, penalty='l2',\n",
       "                   random_state=12345, solver='newton-cg', tol=0.0001,\n",
       "                   verbose=0, warm_start=False)"
      ]
     },
     "execution_count": 29,
     "metadata": {},
     "output_type": "execute_result"
    }
   ],
   "source": [
    "model_lr = LogisticRegression(random_state=12345, penalty='l2', solver='newton-cg')\n",
    "model_lr.fit(features_train, target_train)"
   ]
  },
  {
   "cell_type": "markdown",
   "metadata": {},
   "source": [
    "Пока деревья демонстрируют лучший результат."
   ]
  },
  {
   "cell_type": "markdown",
   "metadata": {},
   "source": [
    "### Наивный байесовский классификатор"
   ]
  },
  {
   "cell_type": "markdown",
   "metadata": {},
   "source": [
    "Рассмотрим четвертую модель - наивный байесовский классификатор."
   ]
  },
  {
   "cell_type": "code",
   "execution_count": 30,
   "metadata": {},
   "outputs": [
    {
     "name": "stdout",
     "output_type": "stream",
     "text": [
      "CPU times: user 134 ms, sys: 18 µs, total: 134 ms\n",
      "Wall time: 137 ms\n",
      "F1-score лучшей модели: 0.42\n",
      "F1-score лучшей модели на валидационной выборке: 0.435\n",
      "Accuracy лучшей модели на валидационной выборке: 0.822\n",
      "{'var_smoothing': 0.01}\n"
     ]
    }
   ],
   "source": [
    "params = {'var_smoothing': [0.01, 0.05, 0.1, 0.15, 0.02]}\n",
    "model = GridSearchCV(GaussianNB(), params, scoring='f1')\n",
    "%time model.fit(features_train, target_train)\n",
    "print('F1-score лучшей модели:', model.best_score_.round(3))\n",
    "print('F1-score лучшей модели на валидационной выборке:', f1_score(target_valid, model.predict(features_valid)).round(3))\n",
    "print('Accuracy лучшей модели на валидационной выборке:', accuracy_score(target_valid, model.predict(features_valid)).round(3))\n",
    "print(model.best_params_)"
   ]
  },
  {
   "cell_type": "markdown",
   "metadata": {},
   "source": [
    "Сохраняем модель."
   ]
  },
  {
   "cell_type": "code",
   "execution_count": 31,
   "metadata": {},
   "outputs": [
    {
     "data": {
      "text/plain": [
       "GaussianNB(priors=None, var_smoothing=0.01)"
      ]
     },
     "execution_count": 31,
     "metadata": {},
     "output_type": "execute_result"
    }
   ],
   "source": [
    "model_bc = GaussianNB(var_smoothing=0.01)\n",
    "model_bc.fit(features_train, target_train)"
   ]
  },
  {
   "cell_type": "markdown",
   "metadata": {},
   "source": [
    "Наивный байесовский классификатор показал довольно неплохой результат и сработал лучше логистической регрессии. Однако, случайный лес он не превзошел."
   ]
  },
  {
   "cell_type": "markdown",
   "metadata": {},
   "source": [
    "### Метод опорных векторов"
   ]
  },
  {
   "cell_type": "markdown",
   "metadata": {},
   "source": [
    "Поскольку нужно определить подходящую нелинейную границу решений, применим модель на основе опорных векторов с радиальным ядром 'rbf' (установлено по умолчанию). Данные перекрываются, поэтому настроим степень размытости отступа, подобрав гиперпараметр С (должно быть небольшое значение)."
   ]
  },
  {
   "cell_type": "code",
   "execution_count": 32,
   "metadata": {},
   "outputs": [
    {
     "name": "stdout",
     "output_type": "stream",
     "text": [
      "CPU times: user 1min, sys: 2.81 s, total: 1min 3s\n",
      "Wall time: 1min 3s\n",
      "F1-score лучшей модели на обучающей выборке: 0.506\n",
      "F1-score лучшей модели на валидационной выборке: 0.513\n",
      "Accuracy лучшей модели на валидационной выборке: 0.855\n",
      "{'C': 2.25, 'cache_size': 20, 'decision_function_shape': 'ovo', 'tol': 0.1}\n"
     ]
    }
   ],
   "source": [
    "# Wall time: 1min 3s\n",
    "params = {'C': [1.5, 1.75, 2, 2.25], 'tol': [0.001, 0.01, 0.1], 'cache_size': [20, 200], 'decision_function_shape': ['ovo', 'ovr']}\n",
    "select_params(params, SVC, features_train, target_train, features_valid, target_valid)"
   ]
  },
  {
   "cell_type": "markdown",
   "metadata": {},
   "source": [
    "Сохраним модель с полученными гиперпараметрами."
   ]
  },
  {
   "cell_type": "code",
   "execution_count": 33,
   "metadata": {},
   "outputs": [
    {
     "data": {
      "text/plain": [
       "SVC(C=2.25, cache_size=20, class_weight=None, coef0=0.0,\n",
       "    decision_function_shape='ovo', degree=3, gamma='auto_deprecated',\n",
       "    kernel='rbf', max_iter=-1, probability=True, random_state=12345,\n",
       "    shrinking=True, tol=0.1, verbose=False)"
      ]
     },
     "execution_count": 33,
     "metadata": {},
     "output_type": "execute_result"
    }
   ],
   "source": [
    "model_sv = SVC(C=2.25, tol=0.1, cache_size=20, decision_function_shape='ovo', probability=True, random_state=12345)\n",
    "model_sv.fit(features_train, target_train)"
   ]
  },
  {
   "cell_type": "markdown",
   "metadata": {},
   "source": [
    "Оценим итоги в разрезе прочих метрик."
   ]
  },
  {
   "cell_type": "markdown",
   "metadata": {},
   "source": [
    "### Оценка результатов"
   ]
  },
  {
   "cell_type": "markdown",
   "metadata": {},
   "source": [
    "Пока лучший результат показывает случайный лес. Спрогнозируем наши целевые признаки с помощью этой модели."
   ]
  },
  {
   "cell_type": "code",
   "execution_count": 34,
   "metadata": {},
   "outputs": [],
   "source": [
    "prediction = model_rf.predict(features_valid)"
   ]
  },
  {
   "cell_type": "markdown",
   "metadata": {},
   "source": [
    "Далее посмотрим, где именно наша модель ошиблась (тем более, в датасете существует перекос в пользу оставшихся клиентов). Для этого построим матрицу ошибок по валидационной выборке."
   ]
  },
  {
   "cell_type": "code",
   "execution_count": 35,
   "metadata": {},
   "outputs": [
    {
     "data": {
      "image/png": "[encoded data removed]",
      "text/plain": [
       "<Figure size 432x288 with 2 Axes>"
      ]
     },
     "metadata": {
      "needs_background": "light"
     },
     "output_type": "display_data"
    }
   ],
   "source": [
    "fig = plt.figure()\n",
    "ax = fig.add_subplot(111)\n",
    "cm_ax = ax.matshow(confusion_matrix(target_valid, prediction))\n",
    "plt.title('Матрица ошибок, RandomForest')\n",
    "fig.colorbar(cm_ax)\n",
    "plt.xlabel('Predict')\n",
    "plt.ylabel('True')\n",
    "\n",
    "for i in range(len(confusion_matrix(target_valid, prediction))):\n",
    "    for j in range(len(confusion_matrix(target_valid, prediction))):\n",
    "        text = ax.text(j, i, confusion_matrix(target_valid, prediction)[i, j],\n",
    "                       ha=\"center\", va=\"center\", color=\"r\")"
   ]
  },
  {
   "cell_type": "markdown",
   "metadata": {},
   "source": [
    "Получилось довольно большое количество ложноотрицательных ответов. Это значит, что модель слишком часто ошибается в пользу более распространенного отрицательного класса (те люди, которые еще являются клиентами банка). Выведем характеризующие этот результат метрики: полноту (recall), точность (precision) и их среднее гармоническое (f1-score)."
   ]
  },
  {
   "cell_type": "code",
   "execution_count": 36,
   "metadata": {},
   "outputs": [
    {
     "name": "stdout",
     "output_type": "stream",
     "text": [
      "Recall, модель RF: 0.446\n",
      "Precision, модель RF: 0.788\n",
      "F1_score, модель RF: 0.570\n"
     ]
    }
   ],
   "source": [
    "print('Recall, модель RF: {:.3f}'.format(recall_score(target_valid, prediction)))\n",
    "print('Precision, модель RF: {:.3f}'.format(precision_score(target_valid, prediction)))\n",
    "print('F1_score, модель RF: {:.3f}'.format(f1_score(target_valid, prediction)))"
   ]
  },
  {
   "cell_type": "markdown",
   "metadata": {},
   "source": [
    "Да, модель \"ленится\" и не слишком стремится определять положительный класс (в данном случае, клиентов, котрые покинули банк). Выведем метрики по каждом у классу с помощью функции classification_report()."
   ]
  },
  {
   "cell_type": "code",
   "execution_count": 37,
   "metadata": {},
   "outputs": [
    {
     "name": "stdout",
     "output_type": "stream",
     "text": [
      "              precision    recall  f1-score   support\n",
      "\n",
      "           0       0.87      0.97      0.92      1592\n",
      "           1       0.79      0.45      0.57       408\n",
      "\n",
      "    accuracy                           0.86      2000\n",
      "   macro avg       0.83      0.71      0.74      2000\n",
      "weighted avg       0.86      0.86      0.85      2000\n",
      "\n"
     ]
    }
   ],
   "source": [
    "print(metrics.classification_report(target_valid, prediction))"
   ]
  },
  {
   "cell_type": "markdown",
   "metadata": {},
   "source": [
    "Модель больше настроена на прогнозирование отрицательного класса (текущих клиентов), чем на разделение групп. В основном, благодаря этому достигается относительно высокий показатель accuracy.\n",
    "\n",
    "Возможно, какая-то из ранее рассмотренных моделей лучше разделяет классы, а мы этого не заметили. Сравним все наши ранее обученные модели. Для этого объявим функцию, которая будет принимать на вход список моделей, влияющие признаки и целевой признак. Результатом работы функции будет таблица с основными метриками для всех моделей."
   ]
  },
  {
   "cell_type": "code",
   "execution_count": 38,
   "metadata": {},
   "outputs": [],
   "source": [
    "def compare_table(models, features, target):\n",
    "    df = pd.DataFrame(columns=['models', 'accuracy', 'recall', 'precision', 'f1-score', 'AUC'])\n",
    "    for name, model in models.items():\n",
    "        prediction = model.predict(features)\n",
    "        accur = accuracy_score(target, prediction).round(3)\n",
    "        rec = recall_score(target, prediction).round(3)\n",
    "        prec = precision_score(target, prediction).round(3)\n",
    "        f1 = f1_score(target, prediction).round(3)\n",
    "        auc = roc_auc_score(target, model.predict_proba(features)[:, 1]).round(3)\n",
    "        df = df.append({'models': name, 'accuracy': accur, 'recall': rec, 'precision': prec, 'f1-score': f1, 'AUC': auc}, ignore_index=True)\n",
    "    return df"
   ]
  },
  {
   "cell_type": "markdown",
   "metadata": {},
   "source": [
    "Выведем табличку с результатами. Здесь будут все метрики прогнозирования положительного класса ('Exited' == 1) по обученным моделям."
   ]
  },
  {
   "cell_type": "code",
   "execution_count": 39,
   "metadata": {},
   "outputs": [
    {
     "name": "stdout",
     "output_type": "stream",
     "text": [
      "                          models  accuracy  recall  precision  f1-score    AUC\n",
      "0                  Decision Tree     0.850   0.444      0.710     0.546  0.825\n",
      "1                  Random Forest     0.862   0.446      0.788     0.570  0.866\n",
      "2            Logistic Regression     0.807   0.181      0.587     0.277  0.763\n",
      "3                    Gaussian NB     0.822   0.336      0.617     0.435  0.778\n",
      "4  Support Vector Classification     0.855   0.375      0.814     0.513  0.841\n"
     ]
    }
   ],
   "source": [
    "models_list = {'Decision Tree': model_dt, 'Random Forest': model_rf, 'Logistic Regression': model_lr, 'Gaussian NB': model_bc, 'Support Vector Classification': model_sv}\n",
    "print(compare_table(models_list, features_valid, target_valid))"
   ]
  },
  {
   "cell_type": "markdown",
   "metadata": {},
   "source": [
    "По остальным моделям результат получился еще печальнее. Все модели стараются больше предсказывать отрицательный класс."
   ]
  },
  {
   "cell_type": "markdown",
   "metadata": {},
   "source": [
    "### Вывод"
   ]
  },
  {
   "cell_type": "markdown",
   "metadata": {},
   "source": [
    "Из всех моделей лучший итог выдал случайный лес. На первый взгляд, результат выглядит стабильным, показатель accuracy довольно высокий (для всех моделей). Однако, при рассмотрении других метрик приходит понимание, что модели работают не так, как нам нужно. Разница в количестве записей каждой группы дает о себе знать. Низкий уровень recall и относительно высокий precision говорят о том, что модель слишком часто ошибочно присваивает целевому признаку отрицательные значения. \n",
    "\n",
    "Подобный финал обучения моделей для нас неприемлем, поскольку в корне расходится с целью проекта. Нашей целью является определение именно положительного класса, т.е. необходимо распознать клиентов, которые могут уйти. \n",
    "\n",
    "В следующем разделе попробуем уравновесить представленность классов для получения более корректного результата и повысить recall."
   ]
  },
  {
   "cell_type": "markdown",
   "metadata": {},
   "source": [
    "## Борьба с дисбалансом"
   ]
  },
  {
   "cell_type": "markdown",
   "metadata": {},
   "source": [
    "Доработаем наши модели, немного скорректировав данные, на которых они обучаются. Для этого используем три способа: взвешивание, увеличение и уменьшение обучающей выборки."
   ]
  },
  {
   "cell_type": "markdown",
   "metadata": {},
   "source": [
    "### Взвешивание"
   ]
  },
  {
   "cell_type": "markdown",
   "metadata": {},
   "source": [
    "Обучим модели, придав объектам более редкого класса (клиенты-беглецы) больший вес. Для этого в гиперпараметрах моделей укажем class_weight='balanced'. Исключение - наивный байесовский классификатор. Там мы немного \"подкрутим\" вероятности в гиперпараметре priors: сделаем положительный класс более вероятным, чем 0.2."
   ]
  },
  {
   "cell_type": "code",
   "execution_count": 40,
   "metadata": {},
   "outputs": [
    {
     "data": {
      "text/plain": [
       "SVC(C=2.25, cache_size=20, class_weight='balanced', coef0=0.0,\n",
       "    decision_function_shape='ovo', degree=3, gamma='auto_deprecated',\n",
       "    kernel='rbf', max_iter=-1, probability=True, random_state=12345,\n",
       "    shrinking=True, tol=0.1, verbose=False)"
      ]
     },
     "execution_count": 40,
     "metadata": {},
     "output_type": "execute_result"
    }
   ],
   "source": [
    "model_dt = DecisionTreeClassifier(random_state=12345, max_depth=9, min_samples_split=2, min_samples_leaf=10, class_weight='balanced')\n",
    "model_dt.fit(features_train, target_train)\n",
    "\n",
    "model_rf = RandomForestClassifier(random_state=12345, n_estimators=92, max_depth=12, criterion='entropy', class_weight='balanced')\n",
    "model_rf.fit(features_train, target_train)\n",
    "\n",
    "model_lr = LogisticRegression(random_state=12345, penalty='l2', class_weight='balanced', solver='newton-cg')\n",
    "model_lr.fit(features_train, target_train)\n",
    "\n",
    "model_bc = GaussianNB(var_smoothing=0.01, priors=[0.60, 0.40])\n",
    "model_bc.fit(features_train, target_train)\n",
    "\n",
    "model_sv = SVC(C=2.25, tol=0.1, cache_size=20, decision_function_shape='ovo', probability=True, random_state=12345, class_weight='balanced')\n",
    "model_sv.fit(features_train, target_train)"
   ]
  },
  {
   "cell_type": "markdown",
   "metadata": {},
   "source": [
    "Выведем таблицу с уже знакомыми нам метриками качества моделей."
   ]
  },
  {
   "cell_type": "code",
   "execution_count": 41,
   "metadata": {},
   "outputs": [
    {
     "name": "stdout",
     "output_type": "stream",
     "text": [
      "                          models  accuracy  recall  precision  f1-score    AUC\n",
      "0                  Decision Tree     0.766   0.713      0.453     0.554  0.815\n",
      "1                  Random Forest     0.854   0.549      0.675     0.605  0.862\n",
      "2            Logistic Regression     0.712   0.679      0.383     0.490  0.766\n",
      "3                    Gaussian NB     0.770   0.576      0.451     0.506  0.778\n",
      "4  Support Vector Classification     0.803   0.760      0.512     0.611  0.857\n"
     ]
    }
   ],
   "source": [
    "models_list = {'Decision Tree': model_dt, 'Random Forest': model_rf, 'Logistic Regression': model_lr, 'Gaussian NB': model_bc, 'Support Vector Classification': model_sv}\n",
    "print(compare_table(models_list, features_valid, target_valid))"
   ]
  },
  {
   "cell_type": "markdown",
   "metadata": {},
   "source": [
    "В целом, качество моделей по метрике f1-score подросло, увеличился и recall. Xороший результат выдал классификатор на основе опорных векторов, но здесь наблюдается сильный перекос в сторону recall. Т.е. модель теперь слишком рьяно взялась присваивать записям положительные значения.\n",
    "Проверим, может, случайный лес все-таки лучше, и дело в неправильно подобранных гиперпараметрах.\n",
    "Попробуем перерассчитать гиперпараметры для модели случайного леса. "
   ]
  },
  {
   "cell_type": "code",
   "execution_count": 42,
   "metadata": {},
   "outputs": [
    {
     "name": "stdout",
     "output_type": "stream",
     "text": [
      "CPU times: user 3min 47s, sys: 684 ms, total: 3min 47s\n",
      "Wall time: 3min 48s\n",
      "F1-score лучшей модели на обучающей выборке: 0.614\n",
      "F1-score лучшей модели на валидационной выборке: 0.618\n",
      "Accuracy лучшей модели на валидационной выборке: 0.844\n",
      "{'class_weight': 'balanced', 'criterion': 'entropy', 'max_depth': 10, 'n_estimators': 88}\n"
     ]
    }
   ],
   "source": [
    "params = {'max_depth': range(6,16), 'n_estimators': range(85,95), 'criterion': ['entropy'], 'class_weight': ['balanced']}\n",
    "select_params(params, RandomForestClassifier, features_train, target_train, features_valid, target_valid)"
   ]
  },
  {
   "cell_type": "markdown",
   "metadata": {},
   "source": [
    "Сохраним модель с новыми гиперпараметрами."
   ]
  },
  {
   "cell_type": "code",
   "execution_count": 43,
   "metadata": {},
   "outputs": [
    {
     "data": {
      "text/plain": [
       "RandomForestClassifier(bootstrap=True, class_weight='balanced',\n",
       "                       criterion='entropy', max_depth=10, max_features='auto',\n",
       "                       max_leaf_nodes=None, min_impurity_decrease=0.0,\n",
       "                       min_impurity_split=None, min_samples_leaf=1,\n",
       "                       min_samples_split=2, min_weight_fraction_leaf=0.0,\n",
       "                       n_estimators=88, n_jobs=None, oob_score=False,\n",
       "                       random_state=12345, verbose=0, warm_start=False)"
      ]
     },
     "execution_count": 43,
     "metadata": {},
     "output_type": "execute_result"
    }
   ],
   "source": [
    "model_rf = RandomForestClassifier(random_state=12345, criterion='entropy', n_estimators=88, max_depth=10, class_weight='balanced')\n",
    "model_rf.fit(features_train, target_train)"
   ]
  },
  {
   "cell_type": "markdown",
   "metadata": {},
   "source": [
    "Выведем по \"взвешенной\" модели основные метрики."
   ]
  },
  {
   "cell_type": "code",
   "execution_count": 44,
   "metadata": {},
   "outputs": [
    {
     "name": "stdout",
     "output_type": "stream",
     "text": [
      "              precision    recall  f1-score   support\n",
      "\n",
      "           0       0.90      0.90      0.90      1592\n",
      "           1       0.62      0.62      0.62       408\n",
      "\n",
      "    accuracy                           0.84      2000\n",
      "   macro avg       0.76      0.76      0.76      2000\n",
      "weighted avg       0.84      0.84      0.84      2000\n",
      "\n"
     ]
    }
   ],
   "source": [
    "prediction = model_rf.predict(features_valid)\n",
    "print(metrics.classification_report(target_valid, prediction))"
   ]
  },
  {
   "cell_type": "markdown",
   "metadata": {},
   "source": [
    "Случайный лес по-прежнему лучше разделяет группы, чем остальные модели. На втором месте (с очень небольшим отрывом) метод опорных векторов."
   ]
  },
  {
   "cell_type": "markdown",
   "metadata": {},
   "source": [
    "### Увеличение выборки"
   ]
  },
  {
   "cell_type": "markdown",
   "metadata": {},
   "source": [
    "Используем другой способ для решения проблемы диспропорции классов. \"Размножим\" в датасете записи с положительным целевым признаком. Для этого сначала отделим два класса друг от друга."
   ]
  },
  {
   "cell_type": "code",
   "execution_count": 45,
   "metadata": {},
   "outputs": [
    {
     "name": "stdout",
     "output_type": "stream",
     "text": [
      "(4778, 11)\n",
      "(1222, 11)\n",
      "(4778,)\n",
      "(1222,)\n"
     ]
    }
   ],
   "source": [
    "features_zeros = features_train[target_train == 0]\n",
    "features_ones = features_train[target_train == 1]\n",
    "target_zeros = target_train[target_train == 0]\n",
    "target_ones = target_train[target_train == 1]\n",
    "\n",
    "print(features_zeros.shape)\n",
    "print(features_ones.shape)\n",
    "print(target_zeros.shape)\n",
    "print(target_ones.shape)"
   ]
  },
  {
   "cell_type": "markdown",
   "metadata": {},
   "source": [
    "Увеличим количество записей со значением '1' в столбце 'Exited' в 4 раза и объединим с отрицательными записями."
   ]
  },
  {
   "cell_type": "code",
   "execution_count": 46,
   "metadata": {},
   "outputs": [
    {
     "name": "stdout",
     "output_type": "stream",
     "text": [
      "(9666, 11)\n",
      "(9666,)\n"
     ]
    }
   ],
   "source": [
    "repeat = 4\n",
    "features_upsampled = pd.concat([features_zeros] + [features_ones] * repeat)\n",
    "target_upsampled = pd.concat([target_zeros] + [target_ones] * repeat)\n",
    "\n",
    "print(features_upsampled.shape)\n",
    "print(target_upsampled.shape)"
   ]
  },
  {
   "cell_type": "markdown",
   "metadata": {},
   "source": [
    "Перемешаем записи в наборе данных."
   ]
  },
  {
   "cell_type": "code",
   "execution_count": 47,
   "metadata": {},
   "outputs": [],
   "source": [
    "features_upsampled, target_upsampled = shuffle(features_upsampled, target_upsampled, random_state=12345)"
   ]
  },
  {
   "cell_type": "markdown",
   "metadata": {},
   "source": [
    "Обучим модели по \"обогащенному\" датасету."
   ]
  },
  {
   "cell_type": "code",
   "execution_count": 48,
   "metadata": {},
   "outputs": [
    {
     "data": {
      "text/plain": [
       "SVC(C=2.25, cache_size=20, class_weight=None, coef0=0.0,\n",
       "    decision_function_shape='ovo', degree=3, gamma='auto_deprecated',\n",
       "    kernel='rbf', max_iter=-1, probability=True, random_state=12345,\n",
       "    shrinking=True, tol=0.1, verbose=False)"
      ]
     },
     "execution_count": 48,
     "metadata": {},
     "output_type": "execute_result"
    }
   ],
   "source": [
    "model_dt = DecisionTreeClassifier(random_state=12345, max_depth=9, min_samples_split=2, min_samples_leaf=10)\n",
    "model_dt.fit(features_upsampled, target_upsampled)\n",
    "\n",
    "model_rf = RandomForestClassifier(random_state=12345, n_estimators=92, max_depth=12, criterion='entropy')\n",
    "model_rf.fit(features_upsampled, target_upsampled)\n",
    "\n",
    "model_lr = LogisticRegression(random_state=12345, penalty='l2', solver='newton-cg')\n",
    "model_lr.fit(features_upsampled, target_upsampled)\n",
    "\n",
    "model_bc = GaussianNB(var_smoothing=0.01)\n",
    "model_bc.fit(features_upsampled, target_upsampled)\n",
    "\n",
    "model_sv = SVC(C=2.25, tol=0.1, cache_size=20, decision_function_shape='ovo', probability=True, random_state=12345)\n",
    "model_sv.fit(features_upsampled, target_upsampled)"
   ]
  },
  {
   "cell_type": "markdown",
   "metadata": {},
   "source": [
    "Выведем таблицу с метриками для всех моделей."
   ]
  },
  {
   "cell_type": "code",
   "execution_count": 49,
   "metadata": {},
   "outputs": [
    {
     "name": "stdout",
     "output_type": "stream",
     "text": [
      "                          models  accuracy  recall  precision  f1-score    AUC\n",
      "0                  Decision Tree     0.780   0.713      0.473     0.569  0.812\n",
      "1                  Random Forest     0.840   0.637      0.602     0.619  0.865\n",
      "2            Logistic Regression     0.706   0.684      0.379     0.487  0.766\n",
      "3                    Gaussian NB     0.718   0.679      0.390     0.496  0.778\n",
      "4  Support Vector Classification     0.796   0.770      0.500     0.606  0.854\n"
     ]
    }
   ],
   "source": [
    "models_list = {'Decision Tree': model_dt, 'Random Forest': model_rf, 'Logistic Regression': model_lr, 'Gaussian NB': model_bc, 'Support Vector Classification': model_sv}\n",
    "print(compare_table(models_list, features_valid, target_valid))"
   ]
  },
  {
   "cell_type": "markdown",
   "metadata": {},
   "source": [
    "Модель случайного леса показала хорошие результаты (на втором месте классификатор на основе опорных векторов). Попробуем снова запустить функцию подбора оптимальных гиперпараметров (возможно, они поменялись при изменении пропорций классов в обучающей выборке)."
   ]
  },
  {
   "cell_type": "code",
   "execution_count": 50,
   "metadata": {},
   "outputs": [
    {
     "name": "stdout",
     "output_type": "stream",
     "text": [
      "CPU times: user 5min 25s, sys: 661 ms, total: 5min 25s\n",
      "Wall time: 5min 26s\n",
      "F1-score лучшей модели на обучающей выборке: 0.937\n",
      "F1-score лучшей модели на валидационной выборке: 0.609\n",
      "Accuracy лучшей модели на валидационной выборке: 0.85\n",
      "{'criterion': 'entropy', 'max_depth': 15, 'n_estimators': 85}\n"
     ]
    }
   ],
   "source": [
    "# Wall time: 5min 26s\n",
    "params = {'max_depth': range(6,16), 'n_estimators': range(85,95), 'criterion': ['entropy']}\n",
    "select_params(params, RandomForestClassifier, features_upsampled, target_upsampled, features_valid, target_valid)"
   ]
  },
  {
   "cell_type": "markdown",
   "metadata": {},
   "source": [
    "Сейчас лучший результат демонстрирует модель с 85 деревьями, с количеством узлов равном 15. И все же сохраним модель с базовыми параметрами, т.к. на валидационной выборке они показали более высокий результат."
   ]
  },
  {
   "cell_type": "code",
   "execution_count": 51,
   "metadata": {},
   "outputs": [
    {
     "data": {
      "text/plain": [
       "RandomForestClassifier(bootstrap=True, class_weight=None, criterion='entropy',\n",
       "                       max_depth=12, max_features='auto', max_leaf_nodes=None,\n",
       "                       min_impurity_decrease=0.0, min_impurity_split=None,\n",
       "                       min_samples_leaf=1, min_samples_split=2,\n",
       "                       min_weight_fraction_leaf=0.0, n_estimators=92,\n",
       "                       n_jobs=None, oob_score=False, random_state=12345,\n",
       "                       verbose=0, warm_start=False)"
      ]
     },
     "execution_count": 51,
     "metadata": {},
     "output_type": "execute_result"
    }
   ],
   "source": [
    "model_rf = RandomForestClassifier(random_state=12345, n_estimators=92, max_depth=12, criterion='entropy')\n",
    "model_rf.fit(features_upsampled, target_upsampled)"
   ]
  },
  {
   "cell_type": "markdown",
   "metadata": {},
   "source": [
    "Выведем основные метрики для обновленной модели."
   ]
  },
  {
   "cell_type": "code",
   "execution_count": 52,
   "metadata": {},
   "outputs": [
    {
     "name": "stdout",
     "output_type": "stream",
     "text": [
      "              precision    recall  f1-score   support\n",
      "\n",
      "           0       0.91      0.89      0.90      1592\n",
      "           1       0.60      0.64      0.62       408\n",
      "\n",
      "    accuracy                           0.84      2000\n",
      "   macro avg       0.75      0.76      0.76      2000\n",
      "weighted avg       0.84      0.84      0.84      2000\n",
      "\n"
     ]
    }
   ],
   "source": [
    "prediction = model_rf.predict(features_valid)\n",
    "print(metrics.classification_report(target_valid, prediction))"
   ]
  },
  {
   "cell_type": "markdown",
   "metadata": {},
   "source": [
    "Пока это лучший результат, что нам удалось получить на валидационной выборке. Precision и recall почти одинаковы, f1-score выше порогового уровня (0.59)."
   ]
  },
  {
   "cell_type": "markdown",
   "metadata": {},
   "source": [
    "### Уменьшение выборки"
   ]
  },
  {
   "cell_type": "markdown",
   "metadata": {},
   "source": [
    "Теперь попробуем, наоборот, уменьшить количество отрицательных результатов в обучающей выборке.\n",
    "\n",
    "Разделим тренировочный датасет на классы, оставим у текущих клиентов только 1/4 часть, соединим с положительным классом (теми, кто ушел из банка) и перемешаем."
   ]
  },
  {
   "cell_type": "code",
   "execution_count": 53,
   "metadata": {},
   "outputs": [],
   "source": [
    "features_zeros = features_train[target_train == 0]\n",
    "features_ones = features_train[target_train == 1]\n",
    "target_zeros = target_train[target_train == 0]\n",
    "target_ones = target_train[target_train == 1]\n",
    "\n",
    "features_downsampled = pd.concat([features_zeros.sample(frac=0.25, random_state=12345)] + [features_ones])\n",
    "target_downsampled = pd.concat([target_zeros.sample(frac=0.25, random_state=12345)] + [target_ones])\n",
    "features_downsampled, target_downsampled = shuffle(features_downsampled, target_downsampled, random_state=12345)"
   ]
  },
  {
   "cell_type": "markdown",
   "metadata": {},
   "source": [
    "Посмотрим, сколько записей у нас получилось."
   ]
  },
  {
   "cell_type": "code",
   "execution_count": 54,
   "metadata": {},
   "outputs": [
    {
     "name": "stdout",
     "output_type": "stream",
     "text": [
      "(2416, 11)\n",
      "(2416,)\n"
     ]
    }
   ],
   "source": [
    "print(features_downsampled.shape)\n",
    "print(target_downsampled.shape)"
   ]
  },
  {
   "cell_type": "markdown",
   "metadata": {},
   "source": [
    "Обучим модели на усеченной выборке."
   ]
  },
  {
   "cell_type": "code",
   "execution_count": 55,
   "metadata": {},
   "outputs": [
    {
     "data": {
      "text/plain": [
       "SVC(C=2.25, cache_size=20, class_weight=None, coef0=0.0,\n",
       "    decision_function_shape='ovo', degree=3, gamma='auto_deprecated',\n",
       "    kernel='rbf', max_iter=-1, probability=True, random_state=12345,\n",
       "    shrinking=True, tol=0.1, verbose=False)"
      ]
     },
     "execution_count": 55,
     "metadata": {},
     "output_type": "execute_result"
    }
   ],
   "source": [
    "model_dt = DecisionTreeClassifier(random_state=12345, max_depth=9, min_samples_split=2, min_samples_leaf=10)\n",
    "model_dt.fit(features_downsampled, target_downsampled)\n",
    "\n",
    "model_rf = RandomForestClassifier(random_state=12345, n_estimators=92, max_depth=12, criterion='entropy')\n",
    "model_rf.fit(features_downsampled, target_downsampled)\n",
    "\n",
    "model_lr = LogisticRegression(random_state=12345, penalty='l2', solver='newton-cg')\n",
    "model_lr.fit(features_downsampled, target_downsampled)\n",
    "\n",
    "model_bc = GaussianNB(var_smoothing=0.01)\n",
    "model_bc.fit(features_downsampled, target_downsampled)\n",
    "\n",
    "model_sv = SVC(C=2.25, tol=0.1, cache_size=20, decision_function_shape='ovo', probability=True, random_state=12345)\n",
    "model_sv.fit(features_downsampled, target_downsampled)"
   ]
  },
  {
   "cell_type": "code",
   "execution_count": 56,
   "metadata": {},
   "outputs": [
    {
     "name": "stdout",
     "output_type": "stream",
     "text": [
      "                          models  accuracy  recall  precision  f1-score    AUC\n",
      "0                  Decision Tree     0.767   0.772      0.458     0.575  0.829\n",
      "1                  Random Forest     0.794   0.765      0.498     0.603  0.859\n",
      "2            Logistic Regression     0.718   0.708      0.393     0.506  0.766\n",
      "3                    Gaussian NB     0.710   0.669      0.380     0.484  0.769\n",
      "4  Support Vector Classification     0.792   0.738      0.493     0.591  0.851\n"
     ]
    }
   ],
   "source": [
    "models_list = {'Decision Tree': model_dt, 'Random Forest': model_rf, 'Logistic Regression': model_lr, 'Gaussian NB': model_bc, 'Support Vector Classification': model_sv}\n",
    "print(compare_table(models_list, features_valid, target_valid))"
   ]
  },
  {
   "cell_type": "markdown",
   "metadata": {},
   "source": [
    "Результаты хуже, чем при увеличении выборки. Возможно, дело в изменившихся оптимальных гиперпараметрах модели. Запустим цикл их подбора с помощью ранее объявленной функции select_params()."
   ]
  },
  {
   "cell_type": "code",
   "execution_count": 57,
   "metadata": {},
   "outputs": [
    {
     "name": "stdout",
     "output_type": "stream",
     "text": [
      "CPU times: user 2min 16s, sys: 547 ms, total: 2min 17s\n",
      "Wall time: 2min 17s\n",
      "F1-score лучшей модели на обучающей выборке: 0.77\n",
      "F1-score лучшей модели на валидационной выборке: 0.59\n",
      "Accuracy лучшей модели на валидационной выборке: 0.786\n",
      "{'criterion': 'entropy', 'max_depth': 15, 'n_estimators': 93}\n"
     ]
    }
   ],
   "source": [
    "# Wall time: 2min 17s\n",
    "# Здесь тоже возвращаемые гиперпараметры хуже предыдущих и меняться не будут.\n",
    "\n",
    "params = {'max_depth': range(5,16), 'n_estimators': range(85,95), 'criterion': ['entropy']}\n",
    "select_params(params, RandomForestClassifier, features_downsampled, target_downsampled, features_valid, target_valid)"
   ]
  },
  {
   "cell_type": "markdown",
   "metadata": {},
   "source": [
    "Поскольку результат не лучше предыдущего, гиперпараметры оставляем прежними. Выведем основные метрики модели."
   ]
  },
  {
   "cell_type": "code",
   "execution_count": 58,
   "metadata": {},
   "outputs": [
    {
     "name": "stdout",
     "output_type": "stream",
     "text": [
      "              precision    recall  f1-score   support\n",
      "\n",
      "           0       0.93      0.78      0.85      1593\n",
      "           1       0.48      0.78      0.60       407\n",
      "\n",
      "    accuracy                           0.78      2000\n",
      "   macro avg       0.71      0.78      0.72      2000\n",
      "weighted avg       0.84      0.78      0.80      2000\n",
      "\n"
     ]
    }
   ],
   "source": [
    "prediction = model_rf.predict(features_test)\n",
    "print(metrics.classification_report(target_test, prediction))"
   ]
  },
  {
   "cell_type": "markdown",
   "metadata": {},
   "source": [
    "Обученная на увеличенной выборке модель, явно выигрывает. Проверим ее на тестовой выборке."
   ]
  },
  {
   "cell_type": "markdown",
   "metadata": {},
   "source": [
    "### Вывод"
   ]
  },
  {
   "cell_type": "markdown",
   "metadata": {},
   "source": [
    "Из всех опробованных способов устранения дисбаланса классов лучше всех проявили себя методы взвешивания и увеличения обучающей выборки. \n",
    "\n",
    "Лучшей моделью стал взвешенный случайный лес, далее идет лес, обученный на увеличенной выборке. На третьем месте - метод опорных векторов с гиперпараметром class_weight='balanced'. Однако, разность показателей настолько незначительна, что трудно сказать, какая из моделей в действительности будет работать лучше. Поэтому на тестовой выборке проверим сразу несколько моделей, которые проявили себя. Также в сравнение включим базовую модель случайного леса, построенную по несбалансированному датасету."
   ]
  },
  {
   "cell_type": "markdown",
   "metadata": {},
   "source": [
    "## Тестирование модели"
   ]
  },
  {
   "cell_type": "markdown",
   "metadata": {},
   "source": [
    "Проверим эффективность моделей на тестовой выборке. Для теста возьмем все ранее обученные случайные леса (как самую устойчивую модель) и взвешенный метод опорных векторов."
   ]
  },
  {
   "cell_type": "code",
   "execution_count": 59,
   "metadata": {},
   "outputs": [
    {
     "data": {
      "text/plain": [
       "SVC(C=2.25, cache_size=20, class_weight='balanced', coef0=0.0,\n",
       "    decision_function_shape='ovo', degree=3, gamma='auto_deprecated',\n",
       "    kernel='rbf', max_iter=-1, probability=True, random_state=12345,\n",
       "    shrinking=True, tol=0.1, verbose=False)"
      ]
     },
     "execution_count": 59,
     "metadata": {},
     "output_type": "execute_result"
    }
   ],
   "source": [
    "model_rf_base = RandomForestClassifier(random_state=12345, n_estimators=92, max_depth=12, criterion='entropy')\n",
    "model_rf_base.fit(features_train, target_train)\n",
    "\n",
    "model_rf_weight = RandomForestClassifier(random_state=12345, criterion='entropy', n_estimators=88, max_depth=10, class_weight='balanced')\n",
    "model_rf_weight.fit(features_train, target_train)\n",
    "\n",
    "model_rf_ups = RandomForestClassifier(random_state=12345, n_estimators=92, max_depth=12, criterion='entropy')\n",
    "model_rf_ups.fit(features_upsampled, target_upsampled)\n",
    "\n",
    "model_rf_downs = RandomForestClassifier(random_state=12345, n_estimators=92, max_depth=12, criterion='entropy')\n",
    "model_rf_downs.fit(features_downsampled, target_downsampled)\n",
    "\n",
    "model_sv_weight = SVC(C=2.25, tol=0.1, cache_size=20, decision_function_shape='ovo', probability=True, random_state=12345, class_weight='balanced')\n",
    "model_sv_weight.fit(features_train, target_train)"
   ]
  },
  {
   "cell_type": "markdown",
   "metadata": {},
   "source": [
    "Выведем по ним основные метрики. Для сравнения возьмем валидационную и тестовую выборки."
   ]
  },
  {
   "cell_type": "code",
   "execution_count": 60,
   "metadata": {},
   "outputs": [
    {
     "name": "stdout",
     "output_type": "stream",
     "text": [
      "Валидационная выборка \n",
      "                       models  accuracy  recall  precision  f1-score    AUC\n",
      "0         Random Forest base     0.862   0.446      0.788     0.570  0.866\n",
      "1     Random Forest weighted     0.844   0.618      0.618     0.618  0.865\n",
      "2    Random Forest upsampled     0.840   0.637      0.602     0.619  0.865\n",
      "3  Random Forest downsampled     0.794   0.765      0.498     0.603  0.859\n",
      "4               SVC_weighted     0.803   0.760      0.512     0.611  0.857\n",
      "\n",
      " Тестовая выборка \n",
      "                       models  accuracy  recall  precision  f1-score    AUC\n",
      "0         Random Forest base     0.862   0.455      0.777     0.574  0.865\n",
      "1     Random Forest weighted     0.838   0.644      0.594     0.618  0.862\n",
      "2    Random Forest upsampled     0.830   0.663      0.570     0.613  0.859\n",
      "3  Random Forest downsampled     0.783   0.784      0.480     0.595  0.860\n",
      "4               SVC_weighted     0.788   0.764      0.486     0.594  0.852\n"
     ]
    }
   ],
   "source": [
    "models_list = {'Random Forest base': model_rf_base, 'Random Forest weighted': model_rf_weight, 'Random Forest upsampled': model_rf_ups, 'Random Forest downsampled': model_rf_downs, 'SVC_weighted': model_sv_weight}\n",
    "print('Валидационная выборка', '\\n', compare_table(models_list, features_valid, target_valid))\n",
    "print('\\n', 'Тестовая выборка', '\\n', compare_table(models_list, features_test, target_test))"
   ]
  },
  {
   "cell_type": "markdown",
   "metadata": {},
   "source": [
    "Лучшая модель - взвешенный случайный лес, обученный на увеличенной сбалансированной выборке. Выведем основные метрики, рассчитанные по тестовой выборке."
   ]
  },
  {
   "cell_type": "code",
   "execution_count": 61,
   "metadata": {},
   "outputs": [
    {
     "name": "stdout",
     "output_type": "stream",
     "text": [
      "              precision    recall  f1-score   support\n",
      "\n",
      "           0       0.91      0.89      0.90      1593\n",
      "           1       0.59      0.64      0.62       407\n",
      "\n",
      "    accuracy                           0.84      2000\n",
      "   macro avg       0.75      0.77      0.76      2000\n",
      "weighted avg       0.84      0.84      0.84      2000\n",
      "\n"
     ]
    }
   ],
   "source": [
    "prediction = model_rf_weight.predict(features_test)\n",
    "print(metrics.classification_report(target_test, prediction))"
   ]
  },
  {
   "cell_type": "markdown",
   "metadata": {},
   "source": [
    "Результаты получились чуть хуже, чем на валидационной выборке, но все же модель старается разграничивать классы.\n",
    "\n",
    "Построим ROC-кривую и посмотрим, как решения нашей модели отклоняются от случайного классификатора (когда вероятность правильно определить класс составляет 50%)."
   ]
  },
  {
   "cell_type": "code",
   "execution_count": 62,
   "metadata": {},
   "outputs": [
    {
     "data": {
      "image/png": "[encoded data removed]",
      "text/plain": [
       "<Figure size 432x288 with 1 Axes>"
      ]
     },
     "metadata": {
      "needs_background": "light"
     },
     "output_type": "display_data"
    }
   ],
   "source": [
    "probabilities_test = model_rf_weight.predict_proba(features_test)\n",
    "probabilities_one_test = probabilities_test[:, 1]\n",
    "fpr, tpr, thresholds = roc_curve(target_test, probabilities_one_test)\n",
    "plt.figure()\n",
    "plt.plot(fpr, tpr)\n",
    "plt.plot([0, 1], [0, 1], linestyle='--')\n",
    "plt.ylim([-0.02, 1.02])\n",
    "plt.xlim([-0.02, 1.02])\n",
    "plt.xlabel('False Positive Rate')\n",
    "plt.ylabel('True Positive Rate')\n",
    "plt.title('ROC-кривая')\n",
    "plt.grid(alpha=0.1, linestyle='--', linewidth=1)\n",
    "plt.show()"
   ]
  },
  {
   "cell_type": "markdown",
   "metadata": {},
   "source": [
    "Результаты неплохие, но все же потолок не достигнут."
   ]
  },
  {
   "cell_type": "markdown",
   "metadata": {},
   "source": [
    "### Вывод"
   ]
  },
  {
   "cell_type": "markdown",
   "metadata": {},
   "source": [
    "Для сравнения на тестовой выборке опробовано несколько моделей, которые продемонстрировали лучшие результаты на валидационных данных. По совокупности показателей лучшей моделью стал взвешенный случайный лес. Модель выдала самый высокий f1-score на тестовой выборке (0.618), стабильна в своих предсказаниях, а также является самой сбалансированной по соотношению recall и precision (их значения примерном одинаковы: на тестовой выборке 0.644 и 0.594 соответственно). Кроме того, у модели достаточно высокий accuracy (0.838) и AUC (0.862)."
   ]
  },
  {
   "cell_type": "markdown",
   "metadata": {},
   "source": [
    "## Общий вывод"
   ]
  },
  {
   "cell_type": "markdown",
   "metadata": {},
   "source": [
    "В работе рассмотрено несколько моделей бинарной классификации. Лучший итог показал взвешенный Random Forest (RF), f1-score = 0.618 на валидационной выборке и столько же на тестовой). Отметим, что это единственная модель, у которой recall и precision примерно равны. Также озвученный порог (f1-score >= 0.59) преодолели еще три модели: случайные леса, обученные на сбалансированной увеличенной выборке (0.619 и 0.613), уменьшенной выборке(0.603 и 0.595) и взвешенный метод опорных векторов (0.611 и 0.594). Последние две две модели теперь завышают recall относительно precision. Это значит, что у нас будет много положительных ответов (в т.ч. и ложно) и мы \"зачерпнем\" много клиентов, которые даже и не думали уходить.\n",
    "\n",
    "Скорее всего, здесь необходимо исходить из того, насколько нам важно диагностировать потенциальных беглецов, и для удержания какого количества людей есть ресурсы. Или же нам целесообразнее сосредоточиться только на узком сегменте, который вероятнее уйдет.\n",
    "\n",
    "В первом случае, возможно, стоит рассмотреть модели с более высоким recall и низким precision.\n",
    "Если же нам принципиально важно, чтобы группы различались корректно, или мы ориентированы на более узкую аудиторию, тогда лучше использовать первую модель (взвешенный RF). \n",
    "\n",
    "В целях дальнейшего улучшения качества модели имеет смысл разобрать другие способы работы с обучающим датасетом: выбор признаков для обучения (возможно, какой-то признак мешает обучению и путает модель), подбор весов каждого фактора или использование их отношений между собой. Также неплохо добавить другие факторы для анализа: размер сети банка (насколько доступны терминалы, чтобы положить или снять деньги на карточку), стоимость обслуживания, различные бонусы клиентам и др."
   ]
  },
  {
   "cell_type": "code",
   "execution_count": null,
   "metadata": {},
   "outputs": [],
   "source": []
  }
 ],
 "metadata": {
  "kernelspec": {
   "display_name": "Python 3",
   "language": "python",
   "name": "python3"
  },
  "language_info": {
   "codemirror_mode": {
    "name": "ipython",
    "version": 3
   },
   "file_extension": ".py",
   "mimetype": "text/x-python",
   "name": "python",
   "nbconvert_exporter": "python",
   "pygments_lexer": "ipython3",
   "version": "3.7.3"
  },
  "toc": {
   "base_numbering": 1,
   "nav_menu": {},
   "number_sections": true,
   "sideBar": true,
   "skip_h1_title": true,
   "title_cell": "Содержание",
   "title_sidebar": "Contents",
   "toc_cell": true,
   "toc_position": {
    "height": "calc(100% - 180px)",
    "left": "10px",
    "top": "150px",
    "width": "238.396px"
   },
   "toc_section_display": true,
   "toc_window_display": true
  }
 },
 "nbformat": 4,
 "nbformat_minor": 2
}
