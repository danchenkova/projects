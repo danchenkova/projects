{
 "cells": [
  {
   "cell_type": "markdown",
   "metadata": {
    "id": "099KXoiM4lx3"
   },
   "source": [
    "# Прогнозирование оттока клиентов для оператора связи"
   ]
  },
  {
   "cell_type": "markdown",
   "metadata": {
    "id": "BH-qGT-p5Hdk"
   },
   "source": [
    "## Описание проекта"
   ]
  },
  {
   "cell_type": "markdown",
   "metadata": {
    "id": "EV1wPfxA35Ww"
   },
   "source": [
    "В связи с увеличившимся оттоком клиентов от оператора связи требуется подготовить модель, оценивающую риски ухода абонента. Нужно спрогнозировать, уйдёт клиент в ближайшее время или нет. Исходя из полученных результатов будет скорректирована маркетинговая стратегия в отношении высокорисковых пользователей. Для анализа нам предоставлены исторические данные о поведении клиентов и расторжении договоров.\n",
    "\n",
    "**Цель проекта**\n",
    "\n",
    "Построить наилучшую модель для прогнозирования, уйдет ли клиент от оператора связи, основываясь на характеристиках и статистике поведения абонента.\n",
    "\n",
    "**Задачи**\n",
    "\n",
    "1.\tИзучить исходные данные и общую статистику поведения пользователей.\n",
    "2.\tПодготовить данные для анализа, обработать признаки, разделить на обучающую и тестовую выборки.\n",
    "3.\tИсследовать базовые модели и рассмотреть, как меняются показатели оценки в зависимости от примененной модели. Подобрать гиперпараметры.\n",
    "4.\tВыбрать наилучшую модель, по-возможности доработать ее, учитывая дисбаланс классов.\n",
    "5.\tПроверить модели на тестовой выборке и подготовить рекомендации."
   ]
  },
  {
   "cell_type": "markdown",
   "metadata": {
    "id": "uEf8E5iD49NV"
   },
   "source": [
    "## Изучение и обработка данных"
   ]
  },
  {
   "cell_type": "code",
   "execution_count": 1,
   "metadata": {
    "id": "01-aap3w6Uuy"
   },
   "outputs": [],
   "source": [
    "import pandas as pd\n",
    "import numpy as np\n",
    "import matplotlib.pyplot as plt\n",
    "import seaborn as sns\n",
    "from mpl_toolkits.mplot3d import Axes3D\n",
    "from IPython.display import display\n",
    "from timeit import default_timer as timer\n",
    "\n",
    "from sklearn.model_selection import train_test_split, GridSearchCV\n",
    "from sklearn.preprocessing import StandardScaler\n",
    "pd.options.mode.chained_assignment = None\n",
    "from sklearn.utils import shuffle\n",
    "\n",
    "from sklearn.tree import DecisionTreeClassifier\n",
    "from sklearn.ensemble import RandomForestClassifier\n",
    "from sklearn.linear_model import LogisticRegression\n",
    "from sklearn.naive_bayes import GaussianNB\n",
    "from sklearn.svm import SVC\n",
    "from lightgbm import LGBMClassifier\n",
    "from sklearn.neighbors import KNeighborsClassifier\n",
    "from sklearn.dummy import DummyClassifier\n",
    "\n",
    "import tensorflow as tf\n",
    "from tensorflow import keras\n",
    "from tensorflow.keras.models import Sequential\n",
    "from tensorflow.keras.layers import Dense, Dropout\n",
    "from tensorflow.keras.optimizers import Adam\n",
    "\n",
    "from scipy.stats import chi2_contingency\n",
    "from sklearn import metrics\n",
    "from sklearn.metrics import accuracy_score, precision_score, recall_score, f1_score\n",
    "from sklearn.metrics import roc_curve, roc_auc_score\n",
    "from sklearn.metrics import confusion_matrix\n",
    "\n",
    "pd.set_option('display.max_columns', None)\n",
    "import warnings\n",
    "warnings.filterwarnings(\"ignore\")"
   ]
  },
  {
   "cell_type": "markdown",
   "metadata": {
    "id": "8lTPQrfC7AlK"
   },
   "source": [
    "Загрузим предоставленные файлы и сохраним их в отдельных переменных."
   ]
  },
  {
   "cell_type": "code",
   "execution_count": 2,
   "metadata": {
    "id": "84-mhV_mPe0h"
   },
   "outputs": [],
   "source": [
    "contract = pd.read_csv('/content/contract.csv')\n",
    "internet = pd.read_csv('/content/internet.csv')\n",
    "personal = pd.read_csv('/content/personal.csv')\n",
    "phone = pd.read_csv('/content/phone.csv')"
   ]
  },
  {
   "cell_type": "markdown",
   "metadata": {
    "id": "Sn8C3fHH7Sri"
   },
   "source": [
    "Посмотрим, столбцы с какими типами данных имеются в датасетах, и есть ли там пропуски."
   ]
  },
  {
   "cell_type": "code",
   "execution_count": 3,
   "metadata": {
    "id": "PARFKk2k8tat"
   },
   "outputs": [],
   "source": [
    "data = {'contract': contract, 'internet': internet, 'personal': personal, 'phone': phone}"
   ]
  },
  {
   "cell_type": "code",
   "execution_count": 4,
   "metadata": {
    "colab": {
     "base_uri": "https://localhost:8080/",
     "height": 1000
    },
    "id": "2pzu6vNV9Cn-",
    "outputId": "60a3e5be-d46a-4f1c-ce53-367bbdd566de"
   },
   "outputs": [
    {
     "name": "stdout",
     "output_type": "stream",
     "text": [
      "contract\n"
     ]
    },
    {
     "data": {
      "text/html": [
       "<div>\n",
       "<style scoped>\n",
       "    .dataframe tbody tr th:only-of-type {\n",
       "        vertical-align: middle;\n",
       "    }\n",
       "\n",
       "    .dataframe tbody tr th {\n",
       "        vertical-align: top;\n",
       "    }\n",
       "\n",
       "    .dataframe thead th {\n",
       "        text-align: right;\n",
       "    }\n",
       "</style>\n",
       "<table border=\"1\" class=\"dataframe\">\n",
       "  <thead>\n",
       "    <tr style=\"text-align: right;\">\n",
       "      <th></th>\n",
       "      <th>customerID</th>\n",
       "      <th>BeginDate</th>\n",
       "      <th>EndDate</th>\n",
       "      <th>Type</th>\n",
       "      <th>PaperlessBilling</th>\n",
       "      <th>PaymentMethod</th>\n",
       "      <th>MonthlyCharges</th>\n",
       "      <th>TotalCharges</th>\n",
       "    </tr>\n",
       "  </thead>\n",
       "  <tbody>\n",
       "    <tr>\n",
       "      <th>0</th>\n",
       "      <td>7590-VHVEG</td>\n",
       "      <td>2020-01-01</td>\n",
       "      <td>No</td>\n",
       "      <td>Month-to-month</td>\n",
       "      <td>Yes</td>\n",
       "      <td>Electronic check</td>\n",
       "      <td>29.85</td>\n",
       "      <td>29.85</td>\n",
       "    </tr>\n",
       "    <tr>\n",
       "      <th>1</th>\n",
       "      <td>5575-GNVDE</td>\n",
       "      <td>2017-04-01</td>\n",
       "      <td>No</td>\n",
       "      <td>One year</td>\n",
       "      <td>No</td>\n",
       "      <td>Mailed check</td>\n",
       "      <td>56.95</td>\n",
       "      <td>1889.5</td>\n",
       "    </tr>\n",
       "    <tr>\n",
       "      <th>2</th>\n",
       "      <td>3668-QPYBK</td>\n",
       "      <td>2019-10-01</td>\n",
       "      <td>2019-12-01 00:00:00</td>\n",
       "      <td>Month-to-month</td>\n",
       "      <td>Yes</td>\n",
       "      <td>Mailed check</td>\n",
       "      <td>53.85</td>\n",
       "      <td>108.15</td>\n",
       "    </tr>\n",
       "    <tr>\n",
       "      <th>3</th>\n",
       "      <td>7795-CFOCW</td>\n",
       "      <td>2016-05-01</td>\n",
       "      <td>No</td>\n",
       "      <td>One year</td>\n",
       "      <td>No</td>\n",
       "      <td>Bank transfer (automatic)</td>\n",
       "      <td>42.30</td>\n",
       "      <td>1840.75</td>\n",
       "    </tr>\n",
       "    <tr>\n",
       "      <th>4</th>\n",
       "      <td>9237-HQITU</td>\n",
       "      <td>2019-09-01</td>\n",
       "      <td>2019-11-01 00:00:00</td>\n",
       "      <td>Month-to-month</td>\n",
       "      <td>Yes</td>\n",
       "      <td>Electronic check</td>\n",
       "      <td>70.70</td>\n",
       "      <td>151.65</td>\n",
       "    </tr>\n",
       "  </tbody>\n",
       "</table>\n",
       "</div>"
      ],
      "text/plain": [
       "   customerID   BeginDate              EndDate            Type  \\\n",
       "0  7590-VHVEG  2020-01-01                   No  Month-to-month   \n",
       "1  5575-GNVDE  2017-04-01                   No        One year   \n",
       "2  3668-QPYBK  2019-10-01  2019-12-01 00:00:00  Month-to-month   \n",
       "3  7795-CFOCW  2016-05-01                   No        One year   \n",
       "4  9237-HQITU  2019-09-01  2019-11-01 00:00:00  Month-to-month   \n",
       "\n",
       "  PaperlessBilling              PaymentMethod  MonthlyCharges TotalCharges  \n",
       "0              Yes           Electronic check           29.85        29.85  \n",
       "1               No               Mailed check           56.95       1889.5  \n",
       "2              Yes               Mailed check           53.85       108.15  \n",
       "3               No  Bank transfer (automatic)           42.30      1840.75  \n",
       "4              Yes           Electronic check           70.70       151.65  "
      ]
     },
     "metadata": {},
     "output_type": "display_data"
    },
    {
     "name": "stdout",
     "output_type": "stream",
     "text": [
      "<class 'pandas.core.frame.DataFrame'>\n",
      "RangeIndex: 7043 entries, 0 to 7042\n",
      "Data columns (total 8 columns):\n",
      " #   Column            Non-Null Count  Dtype  \n",
      "---  ------            --------------  -----  \n",
      " 0   customerID        7043 non-null   object \n",
      " 1   BeginDate         7043 non-null   object \n",
      " 2   EndDate           7043 non-null   object \n",
      " 3   Type              7043 non-null   object \n",
      " 4   PaperlessBilling  7043 non-null   object \n",
      " 5   PaymentMethod     7043 non-null   object \n",
      " 6   MonthlyCharges    7043 non-null   float64\n",
      " 7   TotalCharges      7043 non-null   object \n",
      "dtypes: float64(1), object(7)\n",
      "memory usage: 440.3+ KB\n",
      "None\n",
      "       MonthlyCharges\n",
      "count     7043.000000\n",
      "mean        64.761692\n",
      "std         30.090047\n",
      "min         18.250000\n",
      "25%         35.500000\n",
      "50%         70.350000\n",
      "75%         89.850000\n",
      "max        118.750000\n",
      "internet\n"
     ]
    },
    {
     "data": {
      "text/html": [
       "<div>\n",
       "<style scoped>\n",
       "    .dataframe tbody tr th:only-of-type {\n",
       "        vertical-align: middle;\n",
       "    }\n",
       "\n",
       "    .dataframe tbody tr th {\n",
       "        vertical-align: top;\n",
       "    }\n",
       "\n",
       "    .dataframe thead th {\n",
       "        text-align: right;\n",
       "    }\n",
       "</style>\n",
       "<table border=\"1\" class=\"dataframe\">\n",
       "  <thead>\n",
       "    <tr style=\"text-align: right;\">\n",
       "      <th></th>\n",
       "      <th>customerID</th>\n",
       "      <th>InternetService</th>\n",
       "      <th>OnlineSecurity</th>\n",
       "      <th>OnlineBackup</th>\n",
       "      <th>DeviceProtection</th>\n",
       "      <th>TechSupport</th>\n",
       "      <th>StreamingTV</th>\n",
       "      <th>StreamingMovies</th>\n",
       "    </tr>\n",
       "  </thead>\n",
       "  <tbody>\n",
       "    <tr>\n",
       "      <th>0</th>\n",
       "      <td>7590-VHVEG</td>\n",
       "      <td>DSL</td>\n",
       "      <td>No</td>\n",
       "      <td>Yes</td>\n",
       "      <td>No</td>\n",
       "      <td>No</td>\n",
       "      <td>No</td>\n",
       "      <td>No</td>\n",
       "    </tr>\n",
       "    <tr>\n",
       "      <th>1</th>\n",
       "      <td>5575-GNVDE</td>\n",
       "      <td>DSL</td>\n",
       "      <td>Yes</td>\n",
       "      <td>No</td>\n",
       "      <td>Yes</td>\n",
       "      <td>No</td>\n",
       "      <td>No</td>\n",
       "      <td>No</td>\n",
       "    </tr>\n",
       "    <tr>\n",
       "      <th>2</th>\n",
       "      <td>3668-QPYBK</td>\n",
       "      <td>DSL</td>\n",
       "      <td>Yes</td>\n",
       "      <td>Yes</td>\n",
       "      <td>No</td>\n",
       "      <td>No</td>\n",
       "      <td>No</td>\n",
       "      <td>No</td>\n",
       "    </tr>\n",
       "    <tr>\n",
       "      <th>3</th>\n",
       "      <td>7795-CFOCW</td>\n",
       "      <td>DSL</td>\n",
       "      <td>Yes</td>\n",
       "      <td>No</td>\n",
       "      <td>Yes</td>\n",
       "      <td>Yes</td>\n",
       "      <td>No</td>\n",
       "      <td>No</td>\n",
       "    </tr>\n",
       "    <tr>\n",
       "      <th>4</th>\n",
       "      <td>9237-HQITU</td>\n",
       "      <td>Fiber optic</td>\n",
       "      <td>No</td>\n",
       "      <td>No</td>\n",
       "      <td>No</td>\n",
       "      <td>No</td>\n",
       "      <td>No</td>\n",
       "      <td>No</td>\n",
       "    </tr>\n",
       "  </tbody>\n",
       "</table>\n",
       "</div>"
      ],
      "text/plain": [
       "   customerID InternetService OnlineSecurity OnlineBackup DeviceProtection  \\\n",
       "0  7590-VHVEG             DSL             No          Yes               No   \n",
       "1  5575-GNVDE             DSL            Yes           No              Yes   \n",
       "2  3668-QPYBK             DSL            Yes          Yes               No   \n",
       "3  7795-CFOCW             DSL            Yes           No              Yes   \n",
       "4  9237-HQITU     Fiber optic             No           No               No   \n",
       "\n",
       "  TechSupport StreamingTV StreamingMovies  \n",
       "0          No          No              No  \n",
       "1          No          No              No  \n",
       "2          No          No              No  \n",
       "3         Yes          No              No  \n",
       "4          No          No              No  "
      ]
     },
     "metadata": {},
     "output_type": "display_data"
    },
    {
     "name": "stdout",
     "output_type": "stream",
     "text": [
      "<class 'pandas.core.frame.DataFrame'>\n",
      "RangeIndex: 5517 entries, 0 to 5516\n",
      "Data columns (total 8 columns):\n",
      " #   Column            Non-Null Count  Dtype \n",
      "---  ------            --------------  ----- \n",
      " 0   customerID        5517 non-null   object\n",
      " 1   InternetService   5517 non-null   object\n",
      " 2   OnlineSecurity    5517 non-null   object\n",
      " 3   OnlineBackup      5517 non-null   object\n",
      " 4   DeviceProtection  5517 non-null   object\n",
      " 5   TechSupport       5517 non-null   object\n",
      " 6   StreamingTV       5517 non-null   object\n",
      " 7   StreamingMovies   5517 non-null   object\n",
      "dtypes: object(8)\n",
      "memory usage: 344.9+ KB\n",
      "None\n",
      "        customerID InternetService OnlineSecurity OnlineBackup  \\\n",
      "count         5517            5517           5517         5517   \n",
      "unique        5517               2              2            2   \n",
      "top     1414-YADCW     Fiber optic             No           No   \n",
      "freq             1            3096           3498         3088   \n",
      "\n",
      "       DeviceProtection TechSupport StreamingTV StreamingMovies  \n",
      "count              5517        5517        5517            5517  \n",
      "unique                2           2           2               2  \n",
      "top                  No          No          No              No  \n",
      "freq               3095        3473        2810            2785  \n",
      "personal\n"
     ]
    },
    {
     "data": {
      "text/html": [
       "<div>\n",
       "<style scoped>\n",
       "    .dataframe tbody tr th:only-of-type {\n",
       "        vertical-align: middle;\n",
       "    }\n",
       "\n",
       "    .dataframe tbody tr th {\n",
       "        vertical-align: top;\n",
       "    }\n",
       "\n",
       "    .dataframe thead th {\n",
       "        text-align: right;\n",
       "    }\n",
       "</style>\n",
       "<table border=\"1\" class=\"dataframe\">\n",
       "  <thead>\n",
       "    <tr style=\"text-align: right;\">\n",
       "      <th></th>\n",
       "      <th>customerID</th>\n",
       "      <th>gender</th>\n",
       "      <th>SeniorCitizen</th>\n",
       "      <th>Partner</th>\n",
       "      <th>Dependents</th>\n",
       "    </tr>\n",
       "  </thead>\n",
       "  <tbody>\n",
       "    <tr>\n",
       "      <th>0</th>\n",
       "      <td>7590-VHVEG</td>\n",
       "      <td>Female</td>\n",
       "      <td>0</td>\n",
       "      <td>Yes</td>\n",
       "      <td>No</td>\n",
       "    </tr>\n",
       "    <tr>\n",
       "      <th>1</th>\n",
       "      <td>5575-GNVDE</td>\n",
       "      <td>Male</td>\n",
       "      <td>0</td>\n",
       "      <td>No</td>\n",
       "      <td>No</td>\n",
       "    </tr>\n",
       "    <tr>\n",
       "      <th>2</th>\n",
       "      <td>3668-QPYBK</td>\n",
       "      <td>Male</td>\n",
       "      <td>0</td>\n",
       "      <td>No</td>\n",
       "      <td>No</td>\n",
       "    </tr>\n",
       "    <tr>\n",
       "      <th>3</th>\n",
       "      <td>7795-CFOCW</td>\n",
       "      <td>Male</td>\n",
       "      <td>0</td>\n",
       "      <td>No</td>\n",
       "      <td>No</td>\n",
       "    </tr>\n",
       "    <tr>\n",
       "      <th>4</th>\n",
       "      <td>9237-HQITU</td>\n",
       "      <td>Female</td>\n",
       "      <td>0</td>\n",
       "      <td>No</td>\n",
       "      <td>No</td>\n",
       "    </tr>\n",
       "  </tbody>\n",
       "</table>\n",
       "</div>"
      ],
      "text/plain": [
       "   customerID  gender  SeniorCitizen Partner Dependents\n",
       "0  7590-VHVEG  Female              0     Yes         No\n",
       "1  5575-GNVDE    Male              0      No         No\n",
       "2  3668-QPYBK    Male              0      No         No\n",
       "3  7795-CFOCW    Male              0      No         No\n",
       "4  9237-HQITU  Female              0      No         No"
      ]
     },
     "metadata": {},
     "output_type": "display_data"
    },
    {
     "name": "stdout",
     "output_type": "stream",
     "text": [
      "<class 'pandas.core.frame.DataFrame'>\n",
      "RangeIndex: 7043 entries, 0 to 7042\n",
      "Data columns (total 5 columns):\n",
      " #   Column         Non-Null Count  Dtype \n",
      "---  ------         --------------  ----- \n",
      " 0   customerID     7043 non-null   object\n",
      " 1   gender         7043 non-null   object\n",
      " 2   SeniorCitizen  7043 non-null   int64 \n",
      " 3   Partner        7043 non-null   object\n",
      " 4   Dependents     7043 non-null   object\n",
      "dtypes: int64(1), object(4)\n",
      "memory usage: 275.2+ KB\n",
      "None\n",
      "       SeniorCitizen\n",
      "count    7043.000000\n",
      "mean        0.162147\n",
      "std         0.368612\n",
      "min         0.000000\n",
      "25%         0.000000\n",
      "50%         0.000000\n",
      "75%         0.000000\n",
      "max         1.000000\n",
      "phone\n"
     ]
    },
    {
     "data": {
      "text/html": [
       "<div>\n",
       "<style scoped>\n",
       "    .dataframe tbody tr th:only-of-type {\n",
       "        vertical-align: middle;\n",
       "    }\n",
       "\n",
       "    .dataframe tbody tr th {\n",
       "        vertical-align: top;\n",
       "    }\n",
       "\n",
       "    .dataframe thead th {\n",
       "        text-align: right;\n",
       "    }\n",
       "</style>\n",
       "<table border=\"1\" class=\"dataframe\">\n",
       "  <thead>\n",
       "    <tr style=\"text-align: right;\">\n",
       "      <th></th>\n",
       "      <th>customerID</th>\n",
       "      <th>MultipleLines</th>\n",
       "    </tr>\n",
       "  </thead>\n",
       "  <tbody>\n",
       "    <tr>\n",
       "      <th>0</th>\n",
       "      <td>5575-GNVDE</td>\n",
       "      <td>No</td>\n",
       "    </tr>\n",
       "    <tr>\n",
       "      <th>1</th>\n",
       "      <td>3668-QPYBK</td>\n",
       "      <td>No</td>\n",
       "    </tr>\n",
       "    <tr>\n",
       "      <th>2</th>\n",
       "      <td>9237-HQITU</td>\n",
       "      <td>No</td>\n",
       "    </tr>\n",
       "    <tr>\n",
       "      <th>3</th>\n",
       "      <td>9305-CDSKC</td>\n",
       "      <td>Yes</td>\n",
       "    </tr>\n",
       "    <tr>\n",
       "      <th>4</th>\n",
       "      <td>1452-KIOVK</td>\n",
       "      <td>Yes</td>\n",
       "    </tr>\n",
       "  </tbody>\n",
       "</table>\n",
       "</div>"
      ],
      "text/plain": [
       "   customerID MultipleLines\n",
       "0  5575-GNVDE            No\n",
       "1  3668-QPYBK            No\n",
       "2  9237-HQITU            No\n",
       "3  9305-CDSKC           Yes\n",
       "4  1452-KIOVK           Yes"
      ]
     },
     "metadata": {},
     "output_type": "display_data"
    },
    {
     "name": "stdout",
     "output_type": "stream",
     "text": [
      "<class 'pandas.core.frame.DataFrame'>\n",
      "RangeIndex: 6361 entries, 0 to 6360\n",
      "Data columns (total 2 columns):\n",
      " #   Column         Non-Null Count  Dtype \n",
      "---  ------         --------------  ----- \n",
      " 0   customerID     6361 non-null   object\n",
      " 1   MultipleLines  6361 non-null   object\n",
      "dtypes: object(2)\n",
      "memory usage: 99.5+ KB\n",
      "None\n",
      "        customerID MultipleLines\n",
      "count         6361          6361\n",
      "unique        6361             2\n",
      "top     9866-OCCKE            No\n",
      "freq             1          3390\n"
     ]
    }
   ],
   "source": [
    "for name, i in data.items():\n",
    "    print(name)\n",
    "    display(i.head())\n",
    "    print(i.info())\n",
    "    print(i.describe())"
   ]
  },
  {
   "cell_type": "markdown",
   "metadata": {
    "id": "EPj-VT247ZwW"
   },
   "source": [
    "Пропущенных значений в таблицах нет. Однако, в них имеется разное количество записей. Так, в contract и personal по 7043 записей, в internet их уже 5517, а в phone - 6361. Это означает, что при соединении данных из этих таблиц, в финальном датасете неизбежно образуются пропущенные значения, которые необходимо будет обработать. Также все столбцы с датами не имеют нужного типа: в колонках BeginDate и EndDate сейчас тип данных object (датафрейм contract). Там же столбец TotalCharges имеет тип object вместо float64. В данных имеется большое количество категориальных признаков, требующих кодирования перед обучением моделей.\n",
    "\n",
    "Поскольку основной задачей проекта является задача бинарной классификации абонентов (на лояльных пользователей и тех, кто скоро, возможно, покинет ряды клиентов компании), необходимо выделить целевой признак. Здесь он не указан в явном виде, но его вполне можно добавить, ориентируясь на колонку EndDate. Сам столбец EndDate перед обучением моделей нужно удалить в целях недопущения утечки признака.\n",
    "\n",
    "Добавим целевой признак (назовем его 'Churn'), 0 будет означать, что клиент действующий, а 1 - что уже расторг договор с компанией."
   ]
  },
  {
   "cell_type": "code",
   "execution_count": 5,
   "metadata": {
    "colab": {
     "base_uri": "https://localhost:8080/",
     "height": 345
    },
    "id": "pSisZIXbPe0m",
    "outputId": "19112458-09d9-4623-9451-adb37ea17517"
   },
   "outputs": [
    {
     "data": {
      "text/html": [
       "<div>\n",
       "<style scoped>\n",
       "    .dataframe tbody tr th:only-of-type {\n",
       "        vertical-align: middle;\n",
       "    }\n",
       "\n",
       "    .dataframe tbody tr th {\n",
       "        vertical-align: top;\n",
       "    }\n",
       "\n",
       "    .dataframe thead th {\n",
       "        text-align: right;\n",
       "    }\n",
       "</style>\n",
       "<table border=\"1\" class=\"dataframe\">\n",
       "  <thead>\n",
       "    <tr style=\"text-align: right;\">\n",
       "      <th></th>\n",
       "      <th>customerID</th>\n",
       "      <th>BeginDate</th>\n",
       "      <th>EndDate</th>\n",
       "      <th>Type</th>\n",
       "      <th>PaperlessBilling</th>\n",
       "      <th>PaymentMethod</th>\n",
       "      <th>MonthlyCharges</th>\n",
       "      <th>TotalCharges</th>\n",
       "      <th>Churn</th>\n",
       "    </tr>\n",
       "  </thead>\n",
       "  <tbody>\n",
       "    <tr>\n",
       "      <th>0</th>\n",
       "      <td>7590-VHVEG</td>\n",
       "      <td>2020-01-01</td>\n",
       "      <td>No</td>\n",
       "      <td>Month-to-month</td>\n",
       "      <td>Yes</td>\n",
       "      <td>Electronic check</td>\n",
       "      <td>29.85</td>\n",
       "      <td>29.85</td>\n",
       "      <td>0</td>\n",
       "    </tr>\n",
       "    <tr>\n",
       "      <th>1</th>\n",
       "      <td>5575-GNVDE</td>\n",
       "      <td>2017-04-01</td>\n",
       "      <td>No</td>\n",
       "      <td>One year</td>\n",
       "      <td>No</td>\n",
       "      <td>Mailed check</td>\n",
       "      <td>56.95</td>\n",
       "      <td>1889.5</td>\n",
       "      <td>0</td>\n",
       "    </tr>\n",
       "    <tr>\n",
       "      <th>2</th>\n",
       "      <td>3668-QPYBK</td>\n",
       "      <td>2019-10-01</td>\n",
       "      <td>2019-12-01 00:00:00</td>\n",
       "      <td>Month-to-month</td>\n",
       "      <td>Yes</td>\n",
       "      <td>Mailed check</td>\n",
       "      <td>53.85</td>\n",
       "      <td>108.15</td>\n",
       "      <td>1</td>\n",
       "    </tr>\n",
       "    <tr>\n",
       "      <th>3</th>\n",
       "      <td>7795-CFOCW</td>\n",
       "      <td>2016-05-01</td>\n",
       "      <td>No</td>\n",
       "      <td>One year</td>\n",
       "      <td>No</td>\n",
       "      <td>Bank transfer (automatic)</td>\n",
       "      <td>42.30</td>\n",
       "      <td>1840.75</td>\n",
       "      <td>0</td>\n",
       "    </tr>\n",
       "    <tr>\n",
       "      <th>4</th>\n",
       "      <td>9237-HQITU</td>\n",
       "      <td>2019-09-01</td>\n",
       "      <td>2019-11-01 00:00:00</td>\n",
       "      <td>Month-to-month</td>\n",
       "      <td>Yes</td>\n",
       "      <td>Electronic check</td>\n",
       "      <td>70.70</td>\n",
       "      <td>151.65</td>\n",
       "      <td>1</td>\n",
       "    </tr>\n",
       "  </tbody>\n",
       "</table>\n",
       "</div>"
      ],
      "text/plain": [
       "   customerID   BeginDate              EndDate            Type  \\\n",
       "0  7590-VHVEG  2020-01-01                   No  Month-to-month   \n",
       "1  5575-GNVDE  2017-04-01                   No        One year   \n",
       "2  3668-QPYBK  2019-10-01  2019-12-01 00:00:00  Month-to-month   \n",
       "3  7795-CFOCW  2016-05-01                   No        One year   \n",
       "4  9237-HQITU  2019-09-01  2019-11-01 00:00:00  Month-to-month   \n",
       "\n",
       "  PaperlessBilling              PaymentMethod  MonthlyCharges TotalCharges  \\\n",
       "0              Yes           Electronic check           29.85        29.85   \n",
       "1               No               Mailed check           56.95       1889.5   \n",
       "2              Yes               Mailed check           53.85       108.15   \n",
       "3               No  Bank transfer (automatic)           42.30      1840.75   \n",
       "4              Yes           Electronic check           70.70       151.65   \n",
       "\n",
       "   Churn  \n",
       "0      0  \n",
       "1      0  \n",
       "2      1  \n",
       "3      0  \n",
       "4      1  "
      ]
     },
     "metadata": {},
     "output_type": "display_data"
    }
   ],
   "source": [
    "contract['Churn'] = contract['EndDate'].apply(lambda x: 0 if x=='No' else 1)\n",
    "display(contract.head())"
   ]
  },
  {
   "cell_type": "markdown",
   "metadata": {
    "id": "U7zpkvt0CHTq"
   },
   "source": [
    "Посмотрим, насколько сбалансированы наши группы."
   ]
  },
  {
   "cell_type": "code",
   "execution_count": 6,
   "metadata": {
    "colab": {
     "base_uri": "https://localhost:8080/"
    },
    "id": "zhySPFixjpe_",
    "outputId": "c7d9615c-2deb-4e19-e4b5-ad8565b6482b"
   },
   "outputs": [
    {
     "name": "stdout",
     "output_type": "stream",
     "text": [
      "0    0.73463\n",
      "1    0.26537\n",
      "Name: Churn, dtype: float64\n"
     ]
    }
   ],
   "source": [
    "print(contract['Churn'].value_counts(normalize=True))"
   ]
  },
  {
   "cell_type": "markdown",
   "metadata": {
    "id": "HfXBzt6vFYlP"
   },
   "source": [
    "Датасет несбалансирован по классам, текущих клиентов в три раза больше, чем бывших."
   ]
  },
  {
   "cell_type": "markdown",
   "metadata": {
    "id": "nEB29KtmJL7V"
   },
   "source": [
    "Соединим таблицы для формирования единого датасета с признаками. За основу возьмем таблицу personal с перечнем клиентов и к ней уже подцепим остальные таблицы."
   ]
  },
  {
   "cell_type": "code",
   "execution_count": 7,
   "metadata": {
    "colab": {
     "base_uri": "https://localhost:8080/",
     "height": 365
    },
    "id": "-31Con3eJKxU",
    "outputId": "74516629-af7b-4715-8311-cdc1eb8de183"
   },
   "outputs": [
    {
     "data": {
      "text/html": [
       "<div>\n",
       "<style scoped>\n",
       "    .dataframe tbody tr th:only-of-type {\n",
       "        vertical-align: middle;\n",
       "    }\n",
       "\n",
       "    .dataframe tbody tr th {\n",
       "        vertical-align: top;\n",
       "    }\n",
       "\n",
       "    .dataframe thead th {\n",
       "        text-align: right;\n",
       "    }\n",
       "</style>\n",
       "<table border=\"1\" class=\"dataframe\">\n",
       "  <thead>\n",
       "    <tr style=\"text-align: right;\">\n",
       "      <th></th>\n",
       "      <th>customerID</th>\n",
       "      <th>gender</th>\n",
       "      <th>SeniorCitizen</th>\n",
       "      <th>Partner</th>\n",
       "      <th>Dependents</th>\n",
       "      <th>BeginDate</th>\n",
       "      <th>EndDate</th>\n",
       "      <th>Type</th>\n",
       "      <th>PaperlessBilling</th>\n",
       "      <th>PaymentMethod</th>\n",
       "      <th>MonthlyCharges</th>\n",
       "      <th>TotalCharges</th>\n",
       "      <th>Churn</th>\n",
       "      <th>InternetService</th>\n",
       "      <th>OnlineSecurity</th>\n",
       "      <th>OnlineBackup</th>\n",
       "      <th>DeviceProtection</th>\n",
       "      <th>TechSupport</th>\n",
       "      <th>StreamingTV</th>\n",
       "      <th>StreamingMovies</th>\n",
       "      <th>MultipleLines</th>\n",
       "    </tr>\n",
       "  </thead>\n",
       "  <tbody>\n",
       "    <tr>\n",
       "      <th>0</th>\n",
       "      <td>7590-VHVEG</td>\n",
       "      <td>Female</td>\n",
       "      <td>0</td>\n",
       "      <td>Yes</td>\n",
       "      <td>No</td>\n",
       "      <td>2020-01-01</td>\n",
       "      <td>No</td>\n",
       "      <td>Month-to-month</td>\n",
       "      <td>Yes</td>\n",
       "      <td>Electronic check</td>\n",
       "      <td>29.85</td>\n",
       "      <td>29.85</td>\n",
       "      <td>0</td>\n",
       "      <td>DSL</td>\n",
       "      <td>No</td>\n",
       "      <td>Yes</td>\n",
       "      <td>No</td>\n",
       "      <td>No</td>\n",
       "      <td>No</td>\n",
       "      <td>No</td>\n",
       "      <td>NaN</td>\n",
       "    </tr>\n",
       "    <tr>\n",
       "      <th>1</th>\n",
       "      <td>5575-GNVDE</td>\n",
       "      <td>Male</td>\n",
       "      <td>0</td>\n",
       "      <td>No</td>\n",
       "      <td>No</td>\n",
       "      <td>2017-04-01</td>\n",
       "      <td>No</td>\n",
       "      <td>One year</td>\n",
       "      <td>No</td>\n",
       "      <td>Mailed check</td>\n",
       "      <td>56.95</td>\n",
       "      <td>1889.5</td>\n",
       "      <td>0</td>\n",
       "      <td>DSL</td>\n",
       "      <td>Yes</td>\n",
       "      <td>No</td>\n",
       "      <td>Yes</td>\n",
       "      <td>No</td>\n",
       "      <td>No</td>\n",
       "      <td>No</td>\n",
       "      <td>No</td>\n",
       "    </tr>\n",
       "    <tr>\n",
       "      <th>2</th>\n",
       "      <td>3668-QPYBK</td>\n",
       "      <td>Male</td>\n",
       "      <td>0</td>\n",
       "      <td>No</td>\n",
       "      <td>No</td>\n",
       "      <td>2019-10-01</td>\n",
       "      <td>2019-12-01 00:00:00</td>\n",
       "      <td>Month-to-month</td>\n",
       "      <td>Yes</td>\n",
       "      <td>Mailed check</td>\n",
       "      <td>53.85</td>\n",
       "      <td>108.15</td>\n",
       "      <td>1</td>\n",
       "      <td>DSL</td>\n",
       "      <td>Yes</td>\n",
       "      <td>Yes</td>\n",
       "      <td>No</td>\n",
       "      <td>No</td>\n",
       "      <td>No</td>\n",
       "      <td>No</td>\n",
       "      <td>No</td>\n",
       "    </tr>\n",
       "    <tr>\n",
       "      <th>3</th>\n",
       "      <td>7795-CFOCW</td>\n",
       "      <td>Male</td>\n",
       "      <td>0</td>\n",
       "      <td>No</td>\n",
       "      <td>No</td>\n",
       "      <td>2016-05-01</td>\n",
       "      <td>No</td>\n",
       "      <td>One year</td>\n",
       "      <td>No</td>\n",
       "      <td>Bank transfer (automatic)</td>\n",
       "      <td>42.30</td>\n",
       "      <td>1840.75</td>\n",
       "      <td>0</td>\n",
       "      <td>DSL</td>\n",
       "      <td>Yes</td>\n",
       "      <td>No</td>\n",
       "      <td>Yes</td>\n",
       "      <td>Yes</td>\n",
       "      <td>No</td>\n",
       "      <td>No</td>\n",
       "      <td>NaN</td>\n",
       "    </tr>\n",
       "    <tr>\n",
       "      <th>4</th>\n",
       "      <td>9237-HQITU</td>\n",
       "      <td>Female</td>\n",
       "      <td>0</td>\n",
       "      <td>No</td>\n",
       "      <td>No</td>\n",
       "      <td>2019-09-01</td>\n",
       "      <td>2019-11-01 00:00:00</td>\n",
       "      <td>Month-to-month</td>\n",
       "      <td>Yes</td>\n",
       "      <td>Electronic check</td>\n",
       "      <td>70.70</td>\n",
       "      <td>151.65</td>\n",
       "      <td>1</td>\n",
       "      <td>Fiber optic</td>\n",
       "      <td>No</td>\n",
       "      <td>No</td>\n",
       "      <td>No</td>\n",
       "      <td>No</td>\n",
       "      <td>No</td>\n",
       "      <td>No</td>\n",
       "      <td>No</td>\n",
       "    </tr>\n",
       "  </tbody>\n",
       "</table>\n",
       "</div>"
      ],
      "text/plain": [
       "   customerID  gender  SeniorCitizen Partner Dependents   BeginDate  \\\n",
       "0  7590-VHVEG  Female              0     Yes         No  2020-01-01   \n",
       "1  5575-GNVDE    Male              0      No         No  2017-04-01   \n",
       "2  3668-QPYBK    Male              0      No         No  2019-10-01   \n",
       "3  7795-CFOCW    Male              0      No         No  2016-05-01   \n",
       "4  9237-HQITU  Female              0      No         No  2019-09-01   \n",
       "\n",
       "               EndDate            Type PaperlessBilling  \\\n",
       "0                   No  Month-to-month              Yes   \n",
       "1                   No        One year               No   \n",
       "2  2019-12-01 00:00:00  Month-to-month              Yes   \n",
       "3                   No        One year               No   \n",
       "4  2019-11-01 00:00:00  Month-to-month              Yes   \n",
       "\n",
       "               PaymentMethod  MonthlyCharges TotalCharges  Churn  \\\n",
       "0           Electronic check           29.85        29.85      0   \n",
       "1               Mailed check           56.95       1889.5      0   \n",
       "2               Mailed check           53.85       108.15      1   \n",
       "3  Bank transfer (automatic)           42.30      1840.75      0   \n",
       "4           Electronic check           70.70       151.65      1   \n",
       "\n",
       "  InternetService OnlineSecurity OnlineBackup DeviceProtection TechSupport  \\\n",
       "0             DSL             No          Yes               No          No   \n",
       "1             DSL            Yes           No              Yes          No   \n",
       "2             DSL            Yes          Yes               No          No   \n",
       "3             DSL            Yes           No              Yes         Yes   \n",
       "4     Fiber optic             No           No               No          No   \n",
       "\n",
       "  StreamingTV StreamingMovies MultipleLines  \n",
       "0          No              No           NaN  \n",
       "1          No              No            No  \n",
       "2          No              No            No  \n",
       "3          No              No           NaN  \n",
       "4          No              No            No  "
      ]
     },
     "metadata": {},
     "output_type": "display_data"
    }
   ],
   "source": [
    "clients = personal.join(contract.set_index('customerID'), on='customerID', how='left')\n",
    "clients = clients.join(internet.set_index('customerID'), on='customerID', how='left')\n",
    "clients = clients.join(phone.set_index('customerID'), on='customerID', how='left')\n",
    "display(clients.head())"
   ]
  },
  {
   "cell_type": "markdown",
   "metadata": {
    "id": "NPlmYbIDRvoy"
   },
   "source": [
    "Переведем столбец BeginDate в формат даты. Также переведем в нужный формат столбец EndDate, предварительно заменив все значения 'No' на 1 февраля 2020г (поскольку информация о договорах актуальна именно на эту дату)."
   ]
  },
  {
   "cell_type": "code",
   "execution_count": 8,
   "metadata": {
    "id": "qVrjGKhkFXaS"
   },
   "outputs": [],
   "source": [
    "clients['BeginDate'] = pd.to_datetime(clients['BeginDate'], format = '%Y-%m-%d')\n",
    "clients['EndDate'] = clients['EndDate'].replace('No', '2020-02-01 00:00:00')\n",
    "clients['EndDate'] = pd.to_datetime(clients['EndDate'], format = '%Y-%m-%d')"
   ]
  },
  {
   "cell_type": "markdown",
   "metadata": {
    "id": "lsFRaNdKNT3X"
   },
   "source": [
    "Введем дополнительный признак - \"время жизни\" клиента. Для этого найдем разницу между начальной и конечной датами."
   ]
  },
  {
   "cell_type": "code",
   "execution_count": 9,
   "metadata": {
    "id": "DiYmBFQ_IHbU"
   },
   "outputs": [],
   "source": [
    "clients['Lifetime'] = (clients['EndDate'] - clients['BeginDate']).dt.days"
   ]
  },
  {
   "cell_type": "markdown",
   "metadata": {
    "id": "5cxKBixlNLsW"
   },
   "source": [
    "TotalCharges таблицы contract переведем во float64. Но сначала попробуем понять, почему python посчитал эти данные строками, а не числами. Для этого выведем колонку, предварительно ее отсортировав."
   ]
  },
  {
   "cell_type": "code",
   "execution_count": 10,
   "metadata": {
    "colab": {
     "base_uri": "https://localhost:8080/"
    },
    "id": "jsXvjiznL-Wg",
    "outputId": "0a753c32-d25b-49fc-e4e5-659ad3612f0c"
   },
   "outputs": [
    {
     "data": {
      "text/plain": [
       "936           \n",
       "3826          \n",
       "4380          \n",
       "753           \n",
       "5218          \n",
       "         ...  \n",
       "6646    997.75\n",
       "5598     998.1\n",
       "3686    999.45\n",
       "3353     999.8\n",
       "2845     999.9\n",
       "Name: TotalCharges, Length: 7043, dtype: object"
      ]
     },
     "execution_count": 10,
     "metadata": {},
     "output_type": "execute_result"
    }
   ],
   "source": [
    "clients['TotalCharges'].sort_values()"
   ]
  },
  {
   "cell_type": "markdown",
   "metadata": {
    "id": "GC1Fp3pNOY58"
   },
   "source": [
    "Оказывается, в датафрейме имеются пустые строки, но обозначены они не как пропущенные значения, а просто как ' '. Посчитаем количество этих записей, выведем их и посмотрим, что с ними не так."
   ]
  },
  {
   "cell_type": "code",
   "execution_count": 11,
   "metadata": {
    "colab": {
     "base_uri": "https://localhost:8080/",
     "height": 640
    },
    "id": "6A3EPXCzOzUG",
    "outputId": "bf4261db-609a-4841-82b0-ce0841f59ea3"
   },
   "outputs": [
    {
     "name": "stdout",
     "output_type": "stream",
     "text": [
      "Количество записей 11\n",
      "Доля от датасета 0.0016\n"
     ]
    },
    {
     "data": {
      "text/html": [
       "<div>\n",
       "<style scoped>\n",
       "    .dataframe tbody tr th:only-of-type {\n",
       "        vertical-align: middle;\n",
       "    }\n",
       "\n",
       "    .dataframe tbody tr th {\n",
       "        vertical-align: top;\n",
       "    }\n",
       "\n",
       "    .dataframe thead th {\n",
       "        text-align: right;\n",
       "    }\n",
       "</style>\n",
       "<table border=\"1\" class=\"dataframe\">\n",
       "  <thead>\n",
       "    <tr style=\"text-align: right;\">\n",
       "      <th></th>\n",
       "      <th>customerID</th>\n",
       "      <th>gender</th>\n",
       "      <th>SeniorCitizen</th>\n",
       "      <th>Partner</th>\n",
       "      <th>Dependents</th>\n",
       "      <th>BeginDate</th>\n",
       "      <th>EndDate</th>\n",
       "      <th>Type</th>\n",
       "      <th>PaperlessBilling</th>\n",
       "      <th>PaymentMethod</th>\n",
       "      <th>MonthlyCharges</th>\n",
       "      <th>TotalCharges</th>\n",
       "      <th>Churn</th>\n",
       "      <th>InternetService</th>\n",
       "      <th>OnlineSecurity</th>\n",
       "      <th>OnlineBackup</th>\n",
       "      <th>DeviceProtection</th>\n",
       "      <th>TechSupport</th>\n",
       "      <th>StreamingTV</th>\n",
       "      <th>StreamingMovies</th>\n",
       "      <th>MultipleLines</th>\n",
       "      <th>Lifetime</th>\n",
       "    </tr>\n",
       "  </thead>\n",
       "  <tbody>\n",
       "    <tr>\n",
       "      <th>488</th>\n",
       "      <td>4472-LVYGI</td>\n",
       "      <td>Female</td>\n",
       "      <td>0</td>\n",
       "      <td>Yes</td>\n",
       "      <td>Yes</td>\n",
       "      <td>2020-02-01</td>\n",
       "      <td>2020-02-01</td>\n",
       "      <td>Two year</td>\n",
       "      <td>Yes</td>\n",
       "      <td>Bank transfer (automatic)</td>\n",
       "      <td>52.55</td>\n",
       "      <td></td>\n",
       "      <td>0</td>\n",
       "      <td>DSL</td>\n",
       "      <td>Yes</td>\n",
       "      <td>No</td>\n",
       "      <td>Yes</td>\n",
       "      <td>Yes</td>\n",
       "      <td>Yes</td>\n",
       "      <td>No</td>\n",
       "      <td>NaN</td>\n",
       "      <td>0</td>\n",
       "    </tr>\n",
       "    <tr>\n",
       "      <th>753</th>\n",
       "      <td>3115-CZMZD</td>\n",
       "      <td>Male</td>\n",
       "      <td>0</td>\n",
       "      <td>No</td>\n",
       "      <td>Yes</td>\n",
       "      <td>2020-02-01</td>\n",
       "      <td>2020-02-01</td>\n",
       "      <td>Two year</td>\n",
       "      <td>No</td>\n",
       "      <td>Mailed check</td>\n",
       "      <td>20.25</td>\n",
       "      <td></td>\n",
       "      <td>0</td>\n",
       "      <td>NaN</td>\n",
       "      <td>NaN</td>\n",
       "      <td>NaN</td>\n",
       "      <td>NaN</td>\n",
       "      <td>NaN</td>\n",
       "      <td>NaN</td>\n",
       "      <td>NaN</td>\n",
       "      <td>No</td>\n",
       "      <td>0</td>\n",
       "    </tr>\n",
       "    <tr>\n",
       "      <th>936</th>\n",
       "      <td>5709-LVOEQ</td>\n",
       "      <td>Female</td>\n",
       "      <td>0</td>\n",
       "      <td>Yes</td>\n",
       "      <td>Yes</td>\n",
       "      <td>2020-02-01</td>\n",
       "      <td>2020-02-01</td>\n",
       "      <td>Two year</td>\n",
       "      <td>No</td>\n",
       "      <td>Mailed check</td>\n",
       "      <td>80.85</td>\n",
       "      <td></td>\n",
       "      <td>0</td>\n",
       "      <td>DSL</td>\n",
       "      <td>Yes</td>\n",
       "      <td>Yes</td>\n",
       "      <td>Yes</td>\n",
       "      <td>No</td>\n",
       "      <td>Yes</td>\n",
       "      <td>Yes</td>\n",
       "      <td>No</td>\n",
       "      <td>0</td>\n",
       "    </tr>\n",
       "    <tr>\n",
       "      <th>1082</th>\n",
       "      <td>4367-NUYAO</td>\n",
       "      <td>Male</td>\n",
       "      <td>0</td>\n",
       "      <td>Yes</td>\n",
       "      <td>Yes</td>\n",
       "      <td>2020-02-01</td>\n",
       "      <td>2020-02-01</td>\n",
       "      <td>Two year</td>\n",
       "      <td>No</td>\n",
       "      <td>Mailed check</td>\n",
       "      <td>25.75</td>\n",
       "      <td></td>\n",
       "      <td>0</td>\n",
       "      <td>NaN</td>\n",
       "      <td>NaN</td>\n",
       "      <td>NaN</td>\n",
       "      <td>NaN</td>\n",
       "      <td>NaN</td>\n",
       "      <td>NaN</td>\n",
       "      <td>NaN</td>\n",
       "      <td>Yes</td>\n",
       "      <td>0</td>\n",
       "    </tr>\n",
       "    <tr>\n",
       "      <th>1340</th>\n",
       "      <td>1371-DWPAZ</td>\n",
       "      <td>Female</td>\n",
       "      <td>0</td>\n",
       "      <td>Yes</td>\n",
       "      <td>Yes</td>\n",
       "      <td>2020-02-01</td>\n",
       "      <td>2020-02-01</td>\n",
       "      <td>Two year</td>\n",
       "      <td>No</td>\n",
       "      <td>Credit card (automatic)</td>\n",
       "      <td>56.05</td>\n",
       "      <td></td>\n",
       "      <td>0</td>\n",
       "      <td>DSL</td>\n",
       "      <td>Yes</td>\n",
       "      <td>Yes</td>\n",
       "      <td>Yes</td>\n",
       "      <td>Yes</td>\n",
       "      <td>Yes</td>\n",
       "      <td>No</td>\n",
       "      <td>NaN</td>\n",
       "      <td>0</td>\n",
       "    </tr>\n",
       "    <tr>\n",
       "      <th>3331</th>\n",
       "      <td>7644-OMVMY</td>\n",
       "      <td>Male</td>\n",
       "      <td>0</td>\n",
       "      <td>Yes</td>\n",
       "      <td>Yes</td>\n",
       "      <td>2020-02-01</td>\n",
       "      <td>2020-02-01</td>\n",
       "      <td>Two year</td>\n",
       "      <td>No</td>\n",
       "      <td>Mailed check</td>\n",
       "      <td>19.85</td>\n",
       "      <td></td>\n",
       "      <td>0</td>\n",
       "      <td>NaN</td>\n",
       "      <td>NaN</td>\n",
       "      <td>NaN</td>\n",
       "      <td>NaN</td>\n",
       "      <td>NaN</td>\n",
       "      <td>NaN</td>\n",
       "      <td>NaN</td>\n",
       "      <td>No</td>\n",
       "      <td>0</td>\n",
       "    </tr>\n",
       "    <tr>\n",
       "      <th>3826</th>\n",
       "      <td>3213-VVOLG</td>\n",
       "      <td>Male</td>\n",
       "      <td>0</td>\n",
       "      <td>Yes</td>\n",
       "      <td>Yes</td>\n",
       "      <td>2020-02-01</td>\n",
       "      <td>2020-02-01</td>\n",
       "      <td>Two year</td>\n",
       "      <td>No</td>\n",
       "      <td>Mailed check</td>\n",
       "      <td>25.35</td>\n",
       "      <td></td>\n",
       "      <td>0</td>\n",
       "      <td>NaN</td>\n",
       "      <td>NaN</td>\n",
       "      <td>NaN</td>\n",
       "      <td>NaN</td>\n",
       "      <td>NaN</td>\n",
       "      <td>NaN</td>\n",
       "      <td>NaN</td>\n",
       "      <td>Yes</td>\n",
       "      <td>0</td>\n",
       "    </tr>\n",
       "    <tr>\n",
       "      <th>4380</th>\n",
       "      <td>2520-SGTTA</td>\n",
       "      <td>Female</td>\n",
       "      <td>0</td>\n",
       "      <td>Yes</td>\n",
       "      <td>Yes</td>\n",
       "      <td>2020-02-01</td>\n",
       "      <td>2020-02-01</td>\n",
       "      <td>Two year</td>\n",
       "      <td>No</td>\n",
       "      <td>Mailed check</td>\n",
       "      <td>20.00</td>\n",
       "      <td></td>\n",
       "      <td>0</td>\n",
       "      <td>NaN</td>\n",
       "      <td>NaN</td>\n",
       "      <td>NaN</td>\n",
       "      <td>NaN</td>\n",
       "      <td>NaN</td>\n",
       "      <td>NaN</td>\n",
       "      <td>NaN</td>\n",
       "      <td>No</td>\n",
       "      <td>0</td>\n",
       "    </tr>\n",
       "    <tr>\n",
       "      <th>5218</th>\n",
       "      <td>2923-ARZLG</td>\n",
       "      <td>Male</td>\n",
       "      <td>0</td>\n",
       "      <td>Yes</td>\n",
       "      <td>Yes</td>\n",
       "      <td>2020-02-01</td>\n",
       "      <td>2020-02-01</td>\n",
       "      <td>One year</td>\n",
       "      <td>Yes</td>\n",
       "      <td>Mailed check</td>\n",
       "      <td>19.70</td>\n",
       "      <td></td>\n",
       "      <td>0</td>\n",
       "      <td>NaN</td>\n",
       "      <td>NaN</td>\n",
       "      <td>NaN</td>\n",
       "      <td>NaN</td>\n",
       "      <td>NaN</td>\n",
       "      <td>NaN</td>\n",
       "      <td>NaN</td>\n",
       "      <td>No</td>\n",
       "      <td>0</td>\n",
       "    </tr>\n",
       "    <tr>\n",
       "      <th>6670</th>\n",
       "      <td>4075-WKNIU</td>\n",
       "      <td>Female</td>\n",
       "      <td>0</td>\n",
       "      <td>Yes</td>\n",
       "      <td>Yes</td>\n",
       "      <td>2020-02-01</td>\n",
       "      <td>2020-02-01</td>\n",
       "      <td>Two year</td>\n",
       "      <td>No</td>\n",
       "      <td>Mailed check</td>\n",
       "      <td>73.35</td>\n",
       "      <td></td>\n",
       "      <td>0</td>\n",
       "      <td>DSL</td>\n",
       "      <td>No</td>\n",
       "      <td>Yes</td>\n",
       "      <td>Yes</td>\n",
       "      <td>Yes</td>\n",
       "      <td>Yes</td>\n",
       "      <td>No</td>\n",
       "      <td>Yes</td>\n",
       "      <td>0</td>\n",
       "    </tr>\n",
       "    <tr>\n",
       "      <th>6754</th>\n",
       "      <td>2775-SEFEE</td>\n",
       "      <td>Male</td>\n",
       "      <td>0</td>\n",
       "      <td>No</td>\n",
       "      <td>Yes</td>\n",
       "      <td>2020-02-01</td>\n",
       "      <td>2020-02-01</td>\n",
       "      <td>Two year</td>\n",
       "      <td>Yes</td>\n",
       "      <td>Bank transfer (automatic)</td>\n",
       "      <td>61.90</td>\n",
       "      <td></td>\n",
       "      <td>0</td>\n",
       "      <td>DSL</td>\n",
       "      <td>Yes</td>\n",
       "      <td>Yes</td>\n",
       "      <td>No</td>\n",
       "      <td>Yes</td>\n",
       "      <td>No</td>\n",
       "      <td>No</td>\n",
       "      <td>Yes</td>\n",
       "      <td>0</td>\n",
       "    </tr>\n",
       "  </tbody>\n",
       "</table>\n",
       "</div>"
      ],
      "text/plain": [
       "      customerID  gender  SeniorCitizen Partner Dependents  BeginDate  \\\n",
       "488   4472-LVYGI  Female              0     Yes        Yes 2020-02-01   \n",
       "753   3115-CZMZD    Male              0      No        Yes 2020-02-01   \n",
       "936   5709-LVOEQ  Female              0     Yes        Yes 2020-02-01   \n",
       "1082  4367-NUYAO    Male              0     Yes        Yes 2020-02-01   \n",
       "1340  1371-DWPAZ  Female              0     Yes        Yes 2020-02-01   \n",
       "3331  7644-OMVMY    Male              0     Yes        Yes 2020-02-01   \n",
       "3826  3213-VVOLG    Male              0     Yes        Yes 2020-02-01   \n",
       "4380  2520-SGTTA  Female              0     Yes        Yes 2020-02-01   \n",
       "5218  2923-ARZLG    Male              0     Yes        Yes 2020-02-01   \n",
       "6670  4075-WKNIU  Female              0     Yes        Yes 2020-02-01   \n",
       "6754  2775-SEFEE    Male              0      No        Yes 2020-02-01   \n",
       "\n",
       "        EndDate      Type PaperlessBilling              PaymentMethod  \\\n",
       "488  2020-02-01  Two year              Yes  Bank transfer (automatic)   \n",
       "753  2020-02-01  Two year               No               Mailed check   \n",
       "936  2020-02-01  Two year               No               Mailed check   \n",
       "1082 2020-02-01  Two year               No               Mailed check   \n",
       "1340 2020-02-01  Two year               No    Credit card (automatic)   \n",
       "3331 2020-02-01  Two year               No               Mailed check   \n",
       "3826 2020-02-01  Two year               No               Mailed check   \n",
       "4380 2020-02-01  Two year               No               Mailed check   \n",
       "5218 2020-02-01  One year              Yes               Mailed check   \n",
       "6670 2020-02-01  Two year               No               Mailed check   \n",
       "6754 2020-02-01  Two year              Yes  Bank transfer (automatic)   \n",
       "\n",
       "      MonthlyCharges TotalCharges  Churn InternetService OnlineSecurity  \\\n",
       "488            52.55                   0             DSL            Yes   \n",
       "753            20.25                   0             NaN            NaN   \n",
       "936            80.85                   0             DSL            Yes   \n",
       "1082           25.75                   0             NaN            NaN   \n",
       "1340           56.05                   0             DSL            Yes   \n",
       "3331           19.85                   0             NaN            NaN   \n",
       "3826           25.35                   0             NaN            NaN   \n",
       "4380           20.00                   0             NaN            NaN   \n",
       "5218           19.70                   0             NaN            NaN   \n",
       "6670           73.35                   0             DSL             No   \n",
       "6754           61.90                   0             DSL            Yes   \n",
       "\n",
       "     OnlineBackup DeviceProtection TechSupport StreamingTV StreamingMovies  \\\n",
       "488            No              Yes         Yes         Yes              No   \n",
       "753           NaN              NaN         NaN         NaN             NaN   \n",
       "936           Yes              Yes          No         Yes             Yes   \n",
       "1082          NaN              NaN         NaN         NaN             NaN   \n",
       "1340          Yes              Yes         Yes         Yes              No   \n",
       "3331          NaN              NaN         NaN         NaN             NaN   \n",
       "3826          NaN              NaN         NaN         NaN             NaN   \n",
       "4380          NaN              NaN         NaN         NaN             NaN   \n",
       "5218          NaN              NaN         NaN         NaN             NaN   \n",
       "6670          Yes              Yes         Yes         Yes              No   \n",
       "6754          Yes               No         Yes          No              No   \n",
       "\n",
       "     MultipleLines  Lifetime  \n",
       "488            NaN         0  \n",
       "753             No         0  \n",
       "936             No         0  \n",
       "1082           Yes         0  \n",
       "1340           NaN         0  \n",
       "3331            No         0  \n",
       "3826           Yes         0  \n",
       "4380            No         0  \n",
       "5218            No         0  \n",
       "6670           Yes         0  \n",
       "6754           Yes         0  "
      ]
     },
     "metadata": {},
     "output_type": "display_data"
    }
   ],
   "source": [
    "print('Количество записей', len(clients[clients['TotalCharges'] == ' ']))\n",
    "print('Доля от датасета', np.round(len(clients[clients['TotalCharges'] == ' '])/len(clients), 4))\n",
    "display(clients[clients['TotalCharges'] == ' '])"
   ]
  },
  {
   "cell_type": "markdown",
   "metadata": {
    "id": "-yRZSTVPTGWR"
   },
   "source": [
    "Интересно, что все эти записи заведены в день выгрузки данных - 1 февраля 2020г. Поскольку подобных клиентов очень мало (около 0,16% от всех данных), а их наличие не несет практической пользы для обучения модели, то строки удаляем."
   ]
  },
  {
   "cell_type": "code",
   "execution_count": 12,
   "metadata": {
    "id": "WR9J6G9DTwLD"
   },
   "outputs": [],
   "source": [
    "clients = clients[clients['TotalCharges'] != ' ']"
   ]
  },
  {
   "cell_type": "markdown",
   "metadata": {
    "id": "rBFj-ReTU8ce"
   },
   "source": [
    "Теперь переведем оставшиеся значения столбца TotalCharges во float."
   ]
  },
  {
   "cell_type": "code",
   "execution_count": 13,
   "metadata": {
    "id": "cNAebHkaMzMS"
   },
   "outputs": [],
   "source": [
    "clients['TotalCharges'] = clients['TotalCharges'].astype(np.float64)"
   ]
  },
  {
   "cell_type": "markdown",
   "metadata": {
    "id": "UfIztKK-VPXS"
   },
   "source": [
    "Посмотрим, что за таблица получилась."
   ]
  },
  {
   "cell_type": "code",
   "execution_count": 14,
   "metadata": {
    "colab": {
     "base_uri": "https://localhost:8080/"
    },
    "id": "nqpq_infQx2s",
    "outputId": "1e523106-ec38-4055-8bb1-36758b666d2e"
   },
   "outputs": [
    {
     "name": "stdout",
     "output_type": "stream",
     "text": [
      "<class 'pandas.core.frame.DataFrame'>\n",
      "Int64Index: 7032 entries, 0 to 7042\n",
      "Data columns (total 22 columns):\n",
      " #   Column            Non-Null Count  Dtype         \n",
      "---  ------            --------------  -----         \n",
      " 0   customerID        7032 non-null   object        \n",
      " 1   gender            7032 non-null   object        \n",
      " 2   SeniorCitizen     7032 non-null   int64         \n",
      " 3   Partner           7032 non-null   object        \n",
      " 4   Dependents        7032 non-null   object        \n",
      " 5   BeginDate         7032 non-null   datetime64[ns]\n",
      " 6   EndDate           7032 non-null   datetime64[ns]\n",
      " 7   Type              7032 non-null   object        \n",
      " 8   PaperlessBilling  7032 non-null   object        \n",
      " 9   PaymentMethod     7032 non-null   object        \n",
      " 10  MonthlyCharges    7032 non-null   float64       \n",
      " 11  TotalCharges      7032 non-null   float64       \n",
      " 12  Churn             7032 non-null   int64         \n",
      " 13  InternetService   5512 non-null   object        \n",
      " 14  OnlineSecurity    5512 non-null   object        \n",
      " 15  OnlineBackup      5512 non-null   object        \n",
      " 16  DeviceProtection  5512 non-null   object        \n",
      " 17  TechSupport       5512 non-null   object        \n",
      " 18  StreamingTV       5512 non-null   object        \n",
      " 19  StreamingMovies   5512 non-null   object        \n",
      " 20  MultipleLines     6352 non-null   object        \n",
      " 21  Lifetime          7032 non-null   int64         \n",
      "dtypes: datetime64[ns](2), float64(2), int64(3), object(15)\n",
      "memory usage: 1.2+ MB\n",
      "None\n"
     ]
    }
   ],
   "source": [
    "print(clients.info())"
   ]
  },
  {
   "cell_type": "markdown",
   "metadata": {
    "id": "7ZonWuPGWJSC"
   },
   "source": [
    "С типами данных теперь все в порядке. Однако при соединении таблиц образовалось много пропущенных значений, которые тоже нужно обработать. Поскольку пропуски в категориальных признаках, где указаны варианты Yes или No, заменим NaN на категорию No (т.к., скорее всего, эти клиенты не пользовались данными услугами)."
   ]
  },
  {
   "cell_type": "code",
   "execution_count": 15,
   "metadata": {
    "colab": {
     "base_uri": "https://localhost:8080/"
    },
    "id": "S-zBhvqiRckt",
    "outputId": "86888cfc-e1c0-475c-d8bf-4f5ed1ed8dc1"
   },
   "outputs": [
    {
     "name": "stdout",
     "output_type": "stream",
     "text": [
      "<class 'pandas.core.frame.DataFrame'>\n",
      "Int64Index: 7032 entries, 0 to 7042\n",
      "Data columns (total 22 columns):\n",
      " #   Column            Non-Null Count  Dtype         \n",
      "---  ------            --------------  -----         \n",
      " 0   customerID        7032 non-null   object        \n",
      " 1   gender            7032 non-null   object        \n",
      " 2   SeniorCitizen     7032 non-null   int64         \n",
      " 3   Partner           7032 non-null   object        \n",
      " 4   Dependents        7032 non-null   object        \n",
      " 5   BeginDate         7032 non-null   datetime64[ns]\n",
      " 6   EndDate           7032 non-null   datetime64[ns]\n",
      " 7   Type              7032 non-null   object        \n",
      " 8   PaperlessBilling  7032 non-null   object        \n",
      " 9   PaymentMethod     7032 non-null   object        \n",
      " 10  MonthlyCharges    7032 non-null   float64       \n",
      " 11  TotalCharges      7032 non-null   float64       \n",
      " 12  Churn             7032 non-null   int64         \n",
      " 13  InternetService   7032 non-null   object        \n",
      " 14  OnlineSecurity    7032 non-null   object        \n",
      " 15  OnlineBackup      7032 non-null   object        \n",
      " 16  DeviceProtection  7032 non-null   object        \n",
      " 17  TechSupport       7032 non-null   object        \n",
      " 18  StreamingTV       7032 non-null   object        \n",
      " 19  StreamingMovies   7032 non-null   object        \n",
      " 20  MultipleLines     7032 non-null   object        \n",
      " 21  Lifetime          7032 non-null   int64         \n",
      "dtypes: datetime64[ns](2), float64(2), int64(3), object(15)\n",
      "memory usage: 1.2+ MB\n",
      "None\n"
     ]
    }
   ],
   "source": [
    "null_contain = ['InternetService', 'OnlineSecurity', 'OnlineBackup', 'DeviceProtection', \n",
    "                'TechSupport', 'StreamingTV', 'StreamingMovies', 'MultipleLines']\n",
    "for i in null_contain:\n",
    "    clients[i] = clients[i].fillna('No')\n",
    "print(clients.info())"
   ]
  },
  {
   "cell_type": "markdown",
   "metadata": {
    "id": "eyGg3Lo1c9uJ"
   },
   "source": [
    "По аналогии с другими столбцами заменим в заголовках gender на Gender (с большой буквы)."
   ]
  },
  {
   "cell_type": "code",
   "execution_count": 16,
   "metadata": {
    "id": "--r6zFpwuXaq"
   },
   "outputs": [],
   "source": [
    "clients.rename(columns={'gender': 'Gender'}, inplace=True)"
   ]
  },
  {
   "cell_type": "markdown",
   "metadata": {
    "id": "q2xVdhltdOKY"
   },
   "source": [
    "На всякий случай, проверим датасет на наличие дубликатов."
   ]
  },
  {
   "cell_type": "code",
   "execution_count": 17,
   "metadata": {
    "colab": {
     "base_uri": "https://localhost:8080/"
    },
    "id": "AM08DuiV0_VK",
    "outputId": "6a158e2e-4f82-4161-dbcf-823fddfd44b0"
   },
   "outputs": [
    {
     "name": "stdout",
     "output_type": "stream",
     "text": [
      "Количество дубликатов в наборе данных: 0\n"
     ]
    }
   ],
   "source": [
    "print('Количество дубликатов в наборе данных: {}'.format(clients.duplicated().sum()))"
   ]
  },
  {
   "cell_type": "markdown",
   "metadata": {
    "id": "ktMYtDQ9fcBi"
   },
   "source": [
    "### Вывод"
   ]
  },
  {
   "cell_type": "markdown",
   "metadata": {
    "id": "3szm1jNgfcBj"
   },
   "source": [
    "С целью прогнозирования оттока клиентов, оператор связи предоставил для анализа 4 таблицы: информацию о договорах, интернет-услугах, услугах телефонии и персональных данных клиента. Это весьма неплохой формат для хранения и обработки информации в реляционных базах данных. Но для нашего исследования в чистом виде он не подходит, поскольку представляет собой довольно разрозненный и фрагментарный набор. По этой причине осуществлено объединение таблиц, чтобы связать статистику по пользователям, их затратам и получаемым услугам.\n",
    "\n",
    "Для удобства работы с данными и построения моделей выделен целевой признак - создана колонка Churn. Выявлена несбалансированность классов, текущих клиентов примерно в три раза больше, чем бывших. В столбцах с датами (BeginDate и EndDate) тип данных object заменен на datetime, а в колонке TotalCharges на float64. Введен дополнительный параметр (для каждого пользователя), необходимый для дальнейшего анализа - \"время жизни\" клиента. Для этого рассчитана разница между начальной и конечной датами.\n",
    "\n",
    "Дубликатов в получившемся датафрейме не обнаружено."
   ]
  },
  {
   "cell_type": "markdown",
   "metadata": {
    "id": "ahwVrz9YValw"
   },
   "source": [
    "## Анализ данных"
   ]
  },
  {
   "cell_type": "markdown",
   "metadata": {
    "id": "trxH2dbTValz"
   },
   "source": [
    "Выведем основные статистики по числовым данным."
   ]
  },
  {
   "cell_type": "code",
   "execution_count": 18,
   "metadata": {
    "colab": {
     "base_uri": "https://localhost:8080/",
     "height": 300
    },
    "id": "aPlNXl0zAGat",
    "outputId": "b3c3bcf8-1d9f-4838-af81-c53350c82b83"
   },
   "outputs": [
    {
     "data": {
      "text/html": [
       "<div>\n",
       "<style scoped>\n",
       "    .dataframe tbody tr th:only-of-type {\n",
       "        vertical-align: middle;\n",
       "    }\n",
       "\n",
       "    .dataframe tbody tr th {\n",
       "        vertical-align: top;\n",
       "    }\n",
       "\n",
       "    .dataframe thead th {\n",
       "        text-align: right;\n",
       "    }\n",
       "</style>\n",
       "<table border=\"1\" class=\"dataframe\">\n",
       "  <thead>\n",
       "    <tr style=\"text-align: right;\">\n",
       "      <th></th>\n",
       "      <th>SeniorCitizen</th>\n",
       "      <th>MonthlyCharges</th>\n",
       "      <th>TotalCharges</th>\n",
       "      <th>Churn</th>\n",
       "      <th>Lifetime</th>\n",
       "    </tr>\n",
       "  </thead>\n",
       "  <tbody>\n",
       "    <tr>\n",
       "      <th>count</th>\n",
       "      <td>7032.000000</td>\n",
       "      <td>7032.000000</td>\n",
       "      <td>7032.000000</td>\n",
       "      <td>7032.000000</td>\n",
       "      <td>7032.000000</td>\n",
       "    </tr>\n",
       "    <tr>\n",
       "      <th>mean</th>\n",
       "      <td>0.162400</td>\n",
       "      <td>64.798208</td>\n",
       "      <td>2283.300441</td>\n",
       "      <td>0.265785</td>\n",
       "      <td>987.538538</td>\n",
       "    </tr>\n",
       "    <tr>\n",
       "      <th>std</th>\n",
       "      <td>0.368844</td>\n",
       "      <td>30.085974</td>\n",
       "      <td>2266.771362</td>\n",
       "      <td>0.441782</td>\n",
       "      <td>747.153663</td>\n",
       "    </tr>\n",
       "    <tr>\n",
       "      <th>min</th>\n",
       "      <td>0.000000</td>\n",
       "      <td>18.250000</td>\n",
       "      <td>18.800000</td>\n",
       "      <td>0.000000</td>\n",
       "      <td>30.000000</td>\n",
       "    </tr>\n",
       "    <tr>\n",
       "      <th>25%</th>\n",
       "      <td>0.000000</td>\n",
       "      <td>35.587500</td>\n",
       "      <td>401.450000</td>\n",
       "      <td>0.000000</td>\n",
       "      <td>275.000000</td>\n",
       "    </tr>\n",
       "    <tr>\n",
       "      <th>50%</th>\n",
       "      <td>0.000000</td>\n",
       "      <td>70.350000</td>\n",
       "      <td>1397.475000</td>\n",
       "      <td>0.000000</td>\n",
       "      <td>883.000000</td>\n",
       "    </tr>\n",
       "    <tr>\n",
       "      <th>75%</th>\n",
       "      <td>0.000000</td>\n",
       "      <td>89.862500</td>\n",
       "      <td>3794.737500</td>\n",
       "      <td>1.000000</td>\n",
       "      <td>1676.000000</td>\n",
       "    </tr>\n",
       "    <tr>\n",
       "      <th>max</th>\n",
       "      <td>1.000000</td>\n",
       "      <td>118.750000</td>\n",
       "      <td>8684.800000</td>\n",
       "      <td>1.000000</td>\n",
       "      <td>2191.000000</td>\n",
       "    </tr>\n",
       "  </tbody>\n",
       "</table>\n",
       "</div>"
      ],
      "text/plain": [
       "       SeniorCitizen  MonthlyCharges  TotalCharges        Churn     Lifetime\n",
       "count    7032.000000     7032.000000   7032.000000  7032.000000  7032.000000\n",
       "mean        0.162400       64.798208   2283.300441     0.265785   987.538538\n",
       "std         0.368844       30.085974   2266.771362     0.441782   747.153663\n",
       "min         0.000000       18.250000     18.800000     0.000000    30.000000\n",
       "25%         0.000000       35.587500    401.450000     0.000000   275.000000\n",
       "50%         0.000000       70.350000   1397.475000     0.000000   883.000000\n",
       "75%         0.000000       89.862500   3794.737500     1.000000  1676.000000\n",
       "max         1.000000      118.750000   8684.800000     1.000000  2191.000000"
      ]
     },
     "metadata": {},
     "output_type": "display_data"
    }
   ],
   "source": [
    "display(clients.describe())"
   ]
  },
  {
   "cell_type": "markdown",
   "metadata": {
    "id": "RXZO2ch0Val3"
   },
   "source": [
    "Основная часть пользователей не является людьми в годах, а вполне себе экономически активна. Интересно, что среднее значение ежемесячных оплат меньше медианного. Половина абонентов пользуется услугами компании более 2 лет. В целом, каких-то аномальных значений не выявлено.\n",
    "\n",
    "Построим графики распределения ежемесячных платежей, суммы всех платежей за все время пользования услугами оператора и времени жизни клиента."
   ]
  },
  {
   "cell_type": "code",
   "execution_count": 19,
   "metadata": {
    "colab": {
     "base_uri": "https://localhost:8080/",
     "height": 573
    },
    "id": "q7_Nf850bDFF",
    "outputId": "0c67cb44-7f7c-46d7-d21c-5ababd1feb98"
   },
   "outputs": [
    {
     "data": {
      "image/png": "[encoded data removed]",
      "text/plain": [
       "<Figure size 864x288 with 2 Axes>"
      ]
     },
     "metadata": {
      "needs_background": "light"
     },
     "output_type": "display_data"
    },
    {
     "data": {
      "image/png": "[encoded data removed]",
      "text/plain": [
       "<Figure size 432x288 with 1 Axes>"
      ]
     },
     "metadata": {
      "needs_background": "light"
     },
     "output_type": "display_data"
    }
   ],
   "source": [
    "fig, ax = plt.subplots(ncols=2, figsize=(12,4))\n",
    "\n",
    "sns.distplot(clients['MonthlyCharges'], bins=100, ax=ax[0])\n",
    "ax[0].set(title='Распределение ежемесячных платежей')\n",
    "ax[0].grid(alpha=0.05, linestyle='--', linewidth=1)\n",
    "\n",
    "sns.distplot(clients['TotalCharges'], bins=100, color='green', ax=ax[1])\n",
    "ax[1].set(title='Распределение общей выручки с каждого клиента')\n",
    "ax[1].grid(alpha=0.05, linestyle='--', linewidth=1)\n",
    "\n",
    "plt.show()\n",
    "\n",
    "ax = sns.distplot(clients['Lifetime'], bins=100, color='orange')\n",
    "ax.set(title='Распределение Lifetime', xlabel='Days')\n",
    "ax.grid(alpha=0.05, linestyle='--', linewidth=1)"
   ]
  },
  {
   "cell_type": "markdown",
   "metadata": {
    "id": "DllFq6yTosTP"
   },
   "source": [
    "Распределения не выглядят нормальными. На первом графике (ежемесячные платежи) выделяется высокий пик в районе 20, а после него - длинный толстый хвост. Скорее всего, есть какой-то тариф (стоимостью 20), на котором останавливается множество пользователей, а другие услуги не подключают.\n",
    "\n",
    "Распределение общей выручки с каждого пользователя выглядит более плавным, но и здесь есть пик в районе чуть больше нуля. Возможно, это новые пользователи или абоненты, которые решили сразу же уйти от оператора, едва подключившись.\n",
    "\n",
    "График LT кажется еще более интересным. Вогнутая чашеобразная форма с пиками по краям свидетельствует о наличии двух больших групп - очень лояльных абонентов (которые являются клиентами компании более 6 лет) и абонентов, которые пользовались услугами оператора совсем недолго. В последний сегмент могут входить как \"экстремальные временщики\", быстро расторгнувшие договор, так и недавно подключившиеся пользователи. Еще есть вероятность, что часть лояльных пользователей могла сменить тариф, заключить новый договор и, таким образом, \"затереть\" информацию о более раннем контракте.\n",
    "\n",
    "Лояльный пик мог возникнуть из-за того, что в электронные базы эти клиенты внеслись одновременно, и им была присвоена единая дата договора. Либо какой-то тариф устарел, и они были переведены на другой тариф с заключением нового договора.\n",
    "\n",
    "Попробуем построить такие же графики распределений, только разложим в них абонентов на 2 группы: текущие клиенты и клиенты, которые ушли."
   ]
  },
  {
   "cell_type": "code",
   "execution_count": 20,
   "metadata": {
    "colab": {
     "base_uri": "https://localhost:8080/",
     "height": 591
    },
    "id": "of6Tepx4Pe0z",
    "outputId": "1a11b558-c90a-4c13-f868-4c4d9cc5ab6c"
   },
   "outputs": [
    {
     "data": {
      "image/png": "[encoded data removed]",
      "text/plain": [
       "<Figure size 864x288 with 2 Axes>"
      ]
     },
     "metadata": {
      "needs_background": "light"
     },
     "output_type": "display_data"
    },
    {
     "data": {
      "text/plain": [
       "<matplotlib.legend.Legend at 0x7fc52ef38b10>"
      ]
     },
     "execution_count": 20,
     "metadata": {},
     "output_type": "execute_result"
    },
    {
     "data": {
      "image/png": "[encoded data removed]",
      "text/plain": [
       "<Figure size 432x288 with 1 Axes>"
      ]
     },
     "metadata": {
      "needs_background": "light"
     },
     "output_type": "display_data"
    }
   ],
   "source": [
    "fig, ax = plt.subplots(ncols=2, figsize=(12,4))\n",
    "\n",
    "sns.distplot(clients[clients['Churn'] == 0]['MonthlyCharges'], bins=100, color='green', ax=ax[0])\n",
    "sns.distplot(clients[clients['Churn'] == 1]['MonthlyCharges'], bins=100, color='purple', ax=ax[0])\n",
    "ax[0].set(title='Распределение ежемесячных платежей')\n",
    "ax[0].grid(alpha=0.05, linestyle='--', linewidth=1)\n",
    "ax[0].legend([\"Остались\", \"Ушли\"], loc=1, fontsize='large', labelspacing=0.9, handlelength=0.5) \n",
    "\n",
    "sns.distplot(clients[clients['Churn'] == 0]['TotalCharges'], bins=100, color='green', ax=ax[1])\n",
    "sns.distplot(clients[clients['Churn'] == 1]['TotalCharges'], bins=100, color='purple', ax=ax[1])\n",
    "ax[1].set(title='Распределение общей выручки с каждого клиента')\n",
    "ax[1].grid(alpha=0.05, linestyle='--', linewidth=1)\n",
    "ax[1].legend([\"Остались\", \"Ушли\"], loc=1, fontsize='large', labelspacing=0.9, handlelength=0.5) \n",
    "\n",
    "plt.show()\n",
    "\n",
    "ax = sns.distplot(clients[clients['Churn'] == 0]['Lifetime'], bins=100, color='green')\n",
    "ax = sns.distplot(clients[clients['Churn'] == 1]['Lifetime'], bins=100, color='purple')\n",
    "ax.set(title='Распределение LT', xlabel='Days')\n",
    "ax.grid(alpha=0.05, linestyle='--', linewidth=1)\n",
    "ax.legend([\"Остались\", \"Ушли\"], loc=1, fontsize='large', labelspacing=0.9, handlelength=0.5) "
   ]
  },
  {
   "cell_type": "markdown",
   "metadata": {
    "id": "j-qN8zMJPe00"
   },
   "source": [
    "В разрезе ежемесячных платежей группы выделяются чуть проще (хотя основания графиков совпадают). Чем меньше стоимость услуг, тем больше шансов, что абонент останется. Тем не менее, существует довольно большая прослойка абонентов, которые готовы платить за дополнительные опции. А вот по общему доходу с каждого клиента разделение сделать сложно: распределения практически накладываются друг на друга.\n",
    "    \n",
    "Что касается \"времени жизни\", то чем дольше клиент пользуется услугами, тем меньше вероятность его ухода. Обратное же не совсем верно: имеется пик из ушедших потребителей именно на коротком сроке, но там же довольно много новых текущих пользователей, по которым еще рано делать вывод. Мы не знаем, останутся они или уйдут, пока они в состоянии \"суперпозиции\".\n",
    "    \n",
    "Посмотрим, как соотносятся между собой платежи, возрастная группа, вся \"пожизненная\" выручка с каждого клиента, время пользования услугами и отток."
   ]
  },
  {
   "cell_type": "code",
   "execution_count": 21,
   "metadata": {
    "id": "pOpRrc0Ad3Kc"
   },
   "outputs": [],
   "source": [
    "def scatter_draw(xdata_0, ydata_0, zdata_0, xdata_1, ydata_1, zdata_1, title, xlabel, ylabel, zlabel):\n",
    "    \n",
    "    \"\"\"\n",
    "    Функция для построения 3D-графика рассеяния, применяется при наличии двух классов.\n",
    "    \n",
    "    xdata_0, ydata_0, zdata_0 - 3 столбца по осям x, y, z для первого класса (0)\n",
    "    xdata_1, ydata_1, zdata_1 - 3 столбца по осям x, y, z для второго класса (1)\n",
    "    title - заголовок графика\n",
    "    xlabel, ylabel, zlabel - подписи осей x, y, z\n",
    "    \"\"\" \n",
    "        \n",
    "    ax.scatter(xdata_0, ydata_0, zdata_0, alpha=0.1, s=10, color='green')\n",
    "    ax.scatter(xdata_1, ydata_1, zdata_1, alpha=0.1, s=10, color='red')\n",
    "    ax.grid(alpha=0.2, linestyle='--', linewidth=1)\n",
    "    ax.set_title(title, fontsize='large')\n",
    "    ax.set_ylabel(ylabel)\n",
    "    ax.set_xlabel(xlabel)\n",
    "    ax.set_zlabel(zlabel)\n",
    "    ax.legend([\"Остались\", \"Ушли\"], loc=3, fontsize='large', labelspacing=0.9, handlelength=0.5) "
   ]
  },
  {
   "cell_type": "code",
   "execution_count": 22,
   "metadata": {
    "colab": {
     "base_uri": "https://localhost:8080/",
     "height": 357
    },
    "id": "cbvC5qC1sQD5",
    "outputId": "b3da0742-613b-47f7-aec0-c4dbe1367a75"
   },
   "outputs": [
    {
     "data": {
      "image/png": "[encoded data removed]",
      "text/plain": [
       "<Figure size 864x432 with 2 Axes>"
      ]
     },
     "metadata": {
      "needs_background": "light"
     },
     "output_type": "display_data"
    }
   ],
   "source": [
    "fig = plt.figure(figsize=(12,6))\n",
    "ax = fig.add_subplot(1, 2, 1, projection='3d')\n",
    "scatter_draw(clients[clients['Churn'] == 0]['Lifetime'], clients[clients['Churn'] == 0]['MonthlyCharges'], clients[clients['Churn'] == 0]['SeniorCitizen'],\n",
    "             clients[clients['Churn'] == 1]['Lifetime'], clients[clients['Churn'] == 1]['MonthlyCharges'], clients[clients['Churn'] == 1]['SeniorCitizen'],\n",
    "             'LT - возраст - ежемесячные платежи', 'Lifetime', 'MonthlyCharges', 'SeniorCitizen')\n",
    "ax = fig.add_subplot(1, 2, 2, projection='3d')\n",
    "scatter_draw(clients[clients['Churn'] == 0]['MonthlyCharges'], clients[clients['Churn'] == 0]['SeniorCitizen'], clients[clients['Churn'] == 0]['TotalCharges'],\n",
    "             clients[clients['Churn'] == 1]['MonthlyCharges'], clients[clients['Churn'] == 1]['SeniorCitizen'], clients[clients['Churn'] == 1]['TotalCharges'],\n",
    "             'Ежемесячные платежи - возраст - общий доход с клиента', 'MonthlyCharges', 'SeniorCitizen', 'TotalCharges')"
   ]
  },
  {
   "cell_type": "markdown",
   "metadata": {
    "id": "GMjDXLdKVamL"
   },
   "source": [
    "По графикам можно сделать вывод, что размер платежей и доход клиента имеют значение. Ожидаемо, что чем сложнее абоненту оплачивать услуги, тем выше вероятность расторжения договора.\n",
    "\n",
    "Выведем корреляционную матрицу и посмотрим, какие зависимости есть между признаками."
   ]
  },
  {
   "cell_type": "code",
   "execution_count": 23,
   "metadata": {
    "colab": {
     "base_uri": "https://localhost:8080/",
     "height": 182
    },
    "id": "JK74JnjS1ZK9",
    "outputId": "740bfcbe-1ce6-4324-a412-39966c42a0c4"
   },
   "outputs": [
    {
     "name": "stdout",
     "output_type": "stream",
     "text": [
      "\n",
      " Корреляционная матрица, коэф. Пирсона\n"
     ]
    },
    {
     "data": {
      "text/html": [
       "<style  type=\"text/css\" >\n",
       "#T_fa5a6cf2_261e_11ec_8e80_0242ac1c0002row0_col0,#T_fa5a6cf2_261e_11ec_8e80_0242ac1c0002row1_col1,#T_fa5a6cf2_261e_11ec_8e80_0242ac1c0002row2_col2,#T_fa5a6cf2_261e_11ec_8e80_0242ac1c0002row3_col3,#T_fa5a6cf2_261e_11ec_8e80_0242ac1c0002row4_col4{\n",
       "            background-color:  #b40426;\n",
       "            color:  #f1f1f1;\n",
       "        }#T_fa5a6cf2_261e_11ec_8e80_0242ac1c0002row0_col1{\n",
       "            background-color:  #445acc;\n",
       "            color:  #f1f1f1;\n",
       "        }#T_fa5a6cf2_261e_11ec_8e80_0242ac1c0002row0_col2{\n",
       "            background-color:  #8db0fe;\n",
       "            color:  #000000;\n",
       "        }#T_fa5a6cf2_261e_11ec_8e80_0242ac1c0002row0_col3{\n",
       "            background-color:  #b7cff9;\n",
       "            color:  #000000;\n",
       "        }#T_fa5a6cf2_261e_11ec_8e80_0242ac1c0002row0_col4{\n",
       "            background-color:  #94b6ff;\n",
       "            color:  #000000;\n",
       "        }#T_fa5a6cf2_261e_11ec_8e80_0242ac1c0002row1_col0{\n",
       "            background-color:  #7ea1fa;\n",
       "            color:  #000000;\n",
       "        }#T_fa5a6cf2_261e_11ec_8e80_0242ac1c0002row1_col2{\n",
       "            background-color:  #f7a98b;\n",
       "            color:  #000000;\n",
       "        }#T_fa5a6cf2_261e_11ec_8e80_0242ac1c0002row1_col3{\n",
       "            background-color:  #c1d4f4;\n",
       "            color:  #000000;\n",
       "        }#T_fa5a6cf2_261e_11ec_8e80_0242ac1c0002row1_col4{\n",
       "            background-color:  #cdd9ec;\n",
       "            color:  #000000;\n",
       "        }#T_fa5a6cf2_261e_11ec_8e80_0242ac1c0002row2_col0{\n",
       "            background-color:  #5572df;\n",
       "            color:  #000000;\n",
       "        }#T_fa5a6cf2_261e_11ec_8e80_0242ac1c0002row2_col1{\n",
       "            background-color:  #edd2c3;\n",
       "            color:  #000000;\n",
       "        }#T_fa5a6cf2_261e_11ec_8e80_0242ac1c0002row2_col3{\n",
       "            background-color:  #5e7de7;\n",
       "            color:  #000000;\n",
       "        }#T_fa5a6cf2_261e_11ec_8e80_0242ac1c0002row2_col4{\n",
       "            background-color:  #de614d;\n",
       "            color:  #000000;\n",
       "        }#T_fa5a6cf2_261e_11ec_8e80_0242ac1c0002row3_col0{\n",
       "            background-color:  #6687ed;\n",
       "            color:  #000000;\n",
       "        }#T_fa5a6cf2_261e_11ec_8e80_0242ac1c0002row3_col1,#T_fa5a6cf2_261e_11ec_8e80_0242ac1c0002row3_col2,#T_fa5a6cf2_261e_11ec_8e80_0242ac1c0002row3_col4,#T_fa5a6cf2_261e_11ec_8e80_0242ac1c0002row4_col0,#T_fa5a6cf2_261e_11ec_8e80_0242ac1c0002row4_col3{\n",
       "            background-color:  #3b4cc0;\n",
       "            color:  #f1f1f1;\n",
       "        }#T_fa5a6cf2_261e_11ec_8e80_0242ac1c0002row4_col1{\n",
       "            background-color:  #4f69d9;\n",
       "            color:  #000000;\n",
       "        }#T_fa5a6cf2_261e_11ec_8e80_0242ac1c0002row4_col2{\n",
       "            background-color:  #e36b54;\n",
       "            color:  #000000;\n",
       "        }</style><table id=\"T_fa5a6cf2_261e_11ec_8e80_0242ac1c0002\" ><thead>    <tr>        <th class=\"blank level0\" ></th>        <th class=\"col_heading level0 col0\" >SeniorCitizen</th>        <th class=\"col_heading level0 col1\" >MonthlyCharges</th>        <th class=\"col_heading level0 col2\" >TotalCharges</th>        <th class=\"col_heading level0 col3\" >Churn</th>        <th class=\"col_heading level0 col4\" >Lifetime</th>    </tr></thead><tbody>\n",
       "                <tr>\n",
       "                        <th id=\"T_fa5a6cf2_261e_11ec_8e80_0242ac1c0002level0_row0\" class=\"row_heading level0 row0\" >SeniorCitizen</th>\n",
       "                        <td id=\"T_fa5a6cf2_261e_11ec_8e80_0242ac1c0002row0_col0\" class=\"data row0 col0\" >1.000000</td>\n",
       "                        <td id=\"T_fa5a6cf2_261e_11ec_8e80_0242ac1c0002row0_col1\" class=\"data row0 col1\" >0.219874</td>\n",
       "                        <td id=\"T_fa5a6cf2_261e_11ec_8e80_0242ac1c0002row0_col2\" class=\"data row0 col2\" >0.102411</td>\n",
       "                        <td id=\"T_fa5a6cf2_261e_11ec_8e80_0242ac1c0002row0_col3\" class=\"data row0 col3\" >0.150541</td>\n",
       "                        <td id=\"T_fa5a6cf2_261e_11ec_8e80_0242ac1c0002row0_col4\" class=\"data row0 col4\" >0.015630</td>\n",
       "            </tr>\n",
       "            <tr>\n",
       "                        <th id=\"T_fa5a6cf2_261e_11ec_8e80_0242ac1c0002level0_row1\" class=\"row_heading level0 row1\" >MonthlyCharges</th>\n",
       "                        <td id=\"T_fa5a6cf2_261e_11ec_8e80_0242ac1c0002row1_col0\" class=\"data row1 col0\" >0.219874</td>\n",
       "                        <td id=\"T_fa5a6cf2_261e_11ec_8e80_0242ac1c0002row1_col1\" class=\"data row1 col1\" >1.000000</td>\n",
       "                        <td id=\"T_fa5a6cf2_261e_11ec_8e80_0242ac1c0002row1_col2\" class=\"data row1 col2\" >0.651065</td>\n",
       "                        <td id=\"T_fa5a6cf2_261e_11ec_8e80_0242ac1c0002row1_col3\" class=\"data row1 col3\" >0.192858</td>\n",
       "                        <td id=\"T_fa5a6cf2_261e_11ec_8e80_0242ac1c0002row1_col4\" class=\"data row1 col4\" >0.246715</td>\n",
       "            </tr>\n",
       "            <tr>\n",
       "                        <th id=\"T_fa5a6cf2_261e_11ec_8e80_0242ac1c0002level0_row2\" class=\"row_heading level0 row2\" >TotalCharges</th>\n",
       "                        <td id=\"T_fa5a6cf2_261e_11ec_8e80_0242ac1c0002row2_col0\" class=\"data row2 col0\" >0.102411</td>\n",
       "                        <td id=\"T_fa5a6cf2_261e_11ec_8e80_0242ac1c0002row2_col1\" class=\"data row2 col1\" >0.651065</td>\n",
       "                        <td id=\"T_fa5a6cf2_261e_11ec_8e80_0242ac1c0002row2_col2\" class=\"data row2 col2\" >1.000000</td>\n",
       "                        <td id=\"T_fa5a6cf2_261e_11ec_8e80_0242ac1c0002row2_col3\" class=\"data row2 col3\" >-0.199484</td>\n",
       "                        <td id=\"T_fa5a6cf2_261e_11ec_8e80_0242ac1c0002row2_col4\" class=\"data row2 col4\" >0.825811</td>\n",
       "            </tr>\n",
       "            <tr>\n",
       "                        <th id=\"T_fa5a6cf2_261e_11ec_8e80_0242ac1c0002level0_row3\" class=\"row_heading level0 row3\" >Churn</th>\n",
       "                        <td id=\"T_fa5a6cf2_261e_11ec_8e80_0242ac1c0002row3_col0\" class=\"data row3 col0\" >0.150541</td>\n",
       "                        <td id=\"T_fa5a6cf2_261e_11ec_8e80_0242ac1c0002row3_col1\" class=\"data row3 col1\" >0.192858</td>\n",
       "                        <td id=\"T_fa5a6cf2_261e_11ec_8e80_0242ac1c0002row3_col2\" class=\"data row3 col2\" >-0.199484</td>\n",
       "                        <td id=\"T_fa5a6cf2_261e_11ec_8e80_0242ac1c0002row3_col3\" class=\"data row3 col3\" >1.000000</td>\n",
       "                        <td id=\"T_fa5a6cf2_261e_11ec_8e80_0242ac1c0002row3_col4\" class=\"data row3 col4\" >-0.354496</td>\n",
       "            </tr>\n",
       "            <tr>\n",
       "                        <th id=\"T_fa5a6cf2_261e_11ec_8e80_0242ac1c0002level0_row4\" class=\"row_heading level0 row4\" >Lifetime</th>\n",
       "                        <td id=\"T_fa5a6cf2_261e_11ec_8e80_0242ac1c0002row4_col0\" class=\"data row4 col0\" >0.015630</td>\n",
       "                        <td id=\"T_fa5a6cf2_261e_11ec_8e80_0242ac1c0002row4_col1\" class=\"data row4 col1\" >0.246715</td>\n",
       "                        <td id=\"T_fa5a6cf2_261e_11ec_8e80_0242ac1c0002row4_col2\" class=\"data row4 col2\" >0.825811</td>\n",
       "                        <td id=\"T_fa5a6cf2_261e_11ec_8e80_0242ac1c0002row4_col3\" class=\"data row4 col3\" >-0.354496</td>\n",
       "                        <td id=\"T_fa5a6cf2_261e_11ec_8e80_0242ac1c0002row4_col4\" class=\"data row4 col4\" >1.000000</td>\n",
       "            </tr>\n",
       "    </tbody></table>"
      ],
      "text/plain": [
       "<pandas.io.formats.style.Styler at 0x7fc52f249c50>"
      ]
     },
     "metadata": {},
     "output_type": "display_data"
    }
   ],
   "source": [
    "print('\\n', 'Корреляционная матрица, коэф. Пирсона')\n",
    "display(clients.corr().style.background_gradient(cmap='coolwarm'))"
   ]
  },
  {
   "cell_type": "markdown",
   "metadata": {
    "id": "tCMqhuGdVamP"
   },
   "source": [
    "Наблюдается положительная корреляция между оттоком, ежемесячными платежами и возрастной группой (но здесь нужно отметить, что SeniorCitizen - бинарный признак), а также отрицательная корреляция между оттоком и временем жизни клиента и общей суммой, оплаченной за услуги связи. Отметим тот факт, что две последние колонки сильно коррелируют между собой (ну да, чем дольше пользователь является абонентом компании, тем больше денег он оставляет).\n",
    "Но иногда закономерности могут носить нелинейный характер, и в этом случае коэффициент корреляции может оказаться бесполезным показателем. Рассчитаем коэффициент ранговой корреляции Спирмена, он более устойчив к выбросам (если они есть). Используем тот же код, только функции corr() передадим параметр method='spearman'."
   ]
  },
  {
   "cell_type": "code",
   "execution_count": 24,
   "metadata": {
    "colab": {
     "base_uri": "https://localhost:8080/",
     "height": 182
    },
    "id": "wyAwJzC_1ldH",
    "outputId": "7bfb8d49-0d1f-49f2-e1ef-e4df03a0f16e"
   },
   "outputs": [
    {
     "name": "stdout",
     "output_type": "stream",
     "text": [
      "\n",
      " Корреляционная матрица, коэф. Спирмена\n"
     ]
    },
    {
     "data": {
      "text/html": [
       "<style  type=\"text/css\" >\n",
       "#T_fa61298e_261e_11ec_8e80_0242ac1c0002row0_col0,#T_fa61298e_261e_11ec_8e80_0242ac1c0002row1_col1,#T_fa61298e_261e_11ec_8e80_0242ac1c0002row2_col2,#T_fa61298e_261e_11ec_8e80_0242ac1c0002row3_col3,#T_fa61298e_261e_11ec_8e80_0242ac1c0002row4_col4{\n",
       "            background-color:  #b40426;\n",
       "            color:  #f1f1f1;\n",
       "        }#T_fa61298e_261e_11ec_8e80_0242ac1c0002row0_col1{\n",
       "            background-color:  #485fd1;\n",
       "            color:  #f1f1f1;\n",
       "        }#T_fa61298e_261e_11ec_8e80_0242ac1c0002row0_col2{\n",
       "            background-color:  #96b7ff;\n",
       "            color:  #000000;\n",
       "        }#T_fa61298e_261e_11ec_8e80_0242ac1c0002row0_col3{\n",
       "            background-color:  #bbd1f8;\n",
       "            color:  #000000;\n",
       "        }#T_fa61298e_261e_11ec_8e80_0242ac1c0002row0_col4{\n",
       "            background-color:  #9abbff;\n",
       "            color:  #000000;\n",
       "        }#T_fa61298e_261e_11ec_8e80_0242ac1c0002row1_col0{\n",
       "            background-color:  #7ea1fa;\n",
       "            color:  #000000;\n",
       "        }#T_fa61298e_261e_11ec_8e80_0242ac1c0002row1_col2{\n",
       "            background-color:  #f7aa8c;\n",
       "            color:  #000000;\n",
       "        }#T_fa61298e_261e_11ec_8e80_0242ac1c0002row1_col3{\n",
       "            background-color:  #c3d5f4;\n",
       "            color:  #000000;\n",
       "        }#T_fa61298e_261e_11ec_8e80_0242ac1c0002row1_col4{\n",
       "            background-color:  #d5dbe5;\n",
       "            color:  #000000;\n",
       "        }#T_fa61298e_261e_11ec_8e80_0242ac1c0002row2_col0{\n",
       "            background-color:  #5673e0;\n",
       "            color:  #000000;\n",
       "        }#T_fa61298e_261e_11ec_8e80_0242ac1c0002row2_col1{\n",
       "            background-color:  #ead4c8;\n",
       "            color:  #000000;\n",
       "        }#T_fa61298e_261e_11ec_8e80_0242ac1c0002row2_col3,#T_fa61298e_261e_11ec_8e80_0242ac1c0002row4_col1{\n",
       "            background-color:  #5b7ae5;\n",
       "            color:  #000000;\n",
       "        }#T_fa61298e_261e_11ec_8e80_0242ac1c0002row2_col4{\n",
       "            background-color:  #d0473d;\n",
       "            color:  #f1f1f1;\n",
       "        }#T_fa61298e_261e_11ec_8e80_0242ac1c0002row3_col0{\n",
       "            background-color:  #6687ed;\n",
       "            color:  #000000;\n",
       "        }#T_fa61298e_261e_11ec_8e80_0242ac1c0002row3_col1,#T_fa61298e_261e_11ec_8e80_0242ac1c0002row3_col2,#T_fa61298e_261e_11ec_8e80_0242ac1c0002row3_col4,#T_fa61298e_261e_11ec_8e80_0242ac1c0002row4_col0,#T_fa61298e_261e_11ec_8e80_0242ac1c0002row4_col3{\n",
       "            background-color:  #3b4cc0;\n",
       "            color:  #f1f1f1;\n",
       "        }#T_fa61298e_261e_11ec_8e80_0242ac1c0002row4_col2{\n",
       "            background-color:  #d44e41;\n",
       "            color:  #000000;\n",
       "        }</style><table id=\"T_fa61298e_261e_11ec_8e80_0242ac1c0002\" ><thead>    <tr>        <th class=\"blank level0\" ></th>        <th class=\"col_heading level0 col0\" >SeniorCitizen</th>        <th class=\"col_heading level0 col1\" >MonthlyCharges</th>        <th class=\"col_heading level0 col2\" >TotalCharges</th>        <th class=\"col_heading level0 col3\" >Churn</th>        <th class=\"col_heading level0 col4\" >Lifetime</th>    </tr></thead><tbody>\n",
       "                <tr>\n",
       "                        <th id=\"T_fa61298e_261e_11ec_8e80_0242ac1c0002level0_row0\" class=\"row_heading level0 row0\" >SeniorCitizen</th>\n",
       "                        <td id=\"T_fa61298e_261e_11ec_8e80_0242ac1c0002row0_col0\" class=\"data row0 col0\" >1.000000</td>\n",
       "                        <td id=\"T_fa61298e_261e_11ec_8e80_0242ac1c0002row0_col1\" class=\"data row0 col1\" >0.220737</td>\n",
       "                        <td id=\"T_fa61298e_261e_11ec_8e80_0242ac1c0002row0_col2\" class=\"data row0 col2\" >0.107248</td>\n",
       "                        <td id=\"T_fa61298e_261e_11ec_8e80_0242ac1c0002row0_col3\" class=\"data row0 col3\" >0.150541</td>\n",
       "                        <td id=\"T_fa61298e_261e_11ec_8e80_0242ac1c0002row0_col4\" class=\"data row0 col4\" >0.016001</td>\n",
       "            </tr>\n",
       "            <tr>\n",
       "                        <th id=\"T_fa61298e_261e_11ec_8e80_0242ac1c0002level0_row1\" class=\"row_heading level0 row1\" >MonthlyCharges</th>\n",
       "                        <td id=\"T_fa61298e_261e_11ec_8e80_0242ac1c0002row1_col0\" class=\"data row1 col0\" >0.220737</td>\n",
       "                        <td id=\"T_fa61298e_261e_11ec_8e80_0242ac1c0002row1_col1\" class=\"data row1 col1\" >1.000000</td>\n",
       "                        <td id=\"T_fa61298e_261e_11ec_8e80_0242ac1c0002row1_col2\" class=\"data row1 col2\" >0.638032</td>\n",
       "                        <td id=\"T_fa61298e_261e_11ec_8e80_0242ac1c0002row1_col3\" class=\"data row1 col3\" >0.184167</td>\n",
       "                        <td id=\"T_fa61298e_261e_11ec_8e80_0242ac1c0002row1_col4\" class=\"data row1 col4\" >0.272827</td>\n",
       "            </tr>\n",
       "            <tr>\n",
       "                        <th id=\"T_fa61298e_261e_11ec_8e80_0242ac1c0002level0_row2\" class=\"row_heading level0 row2\" >TotalCharges</th>\n",
       "                        <td id=\"T_fa61298e_261e_11ec_8e80_0242ac1c0002row2_col0\" class=\"data row2 col0\" >0.107248</td>\n",
       "                        <td id=\"T_fa61298e_261e_11ec_8e80_0242ac1c0002row2_col1\" class=\"data row2 col1\" >0.638032</td>\n",
       "                        <td id=\"T_fa61298e_261e_11ec_8e80_0242ac1c0002row2_col2\" class=\"data row2 col2\" >1.000000</td>\n",
       "                        <td id=\"T_fa61298e_261e_11ec_8e80_0242ac1c0002row2_col3\" class=\"data row2 col3\" >-0.232190</td>\n",
       "                        <td id=\"T_fa61298e_261e_11ec_8e80_0242ac1c0002row2_col4\" class=\"data row2 col4\" >0.888230</td>\n",
       "            </tr>\n",
       "            <tr>\n",
       "                        <th id=\"T_fa61298e_261e_11ec_8e80_0242ac1c0002level0_row3\" class=\"row_heading level0 row3\" >Churn</th>\n",
       "                        <td id=\"T_fa61298e_261e_11ec_8e80_0242ac1c0002row3_col0\" class=\"data row3 col0\" >0.150541</td>\n",
       "                        <td id=\"T_fa61298e_261e_11ec_8e80_0242ac1c0002row3_col1\" class=\"data row3 col1\" >0.184167</td>\n",
       "                        <td id=\"T_fa61298e_261e_11ec_8e80_0242ac1c0002row3_col2\" class=\"data row3 col2\" >-0.232190</td>\n",
       "                        <td id=\"T_fa61298e_261e_11ec_8e80_0242ac1c0002row3_col3\" class=\"data row3 col3\" >1.000000</td>\n",
       "                        <td id=\"T_fa61298e_261e_11ec_8e80_0242ac1c0002row3_col4\" class=\"data row3 col4\" >-0.378307</td>\n",
       "            </tr>\n",
       "            <tr>\n",
       "                        <th id=\"T_fa61298e_261e_11ec_8e80_0242ac1c0002level0_row4\" class=\"row_heading level0 row4\" >Lifetime</th>\n",
       "                        <td id=\"T_fa61298e_261e_11ec_8e80_0242ac1c0002row4_col0\" class=\"data row4 col0\" >0.016001</td>\n",
       "                        <td id=\"T_fa61298e_261e_11ec_8e80_0242ac1c0002row4_col1\" class=\"data row4 col1\" >0.272827</td>\n",
       "                        <td id=\"T_fa61298e_261e_11ec_8e80_0242ac1c0002row4_col2\" class=\"data row4 col2\" >0.888230</td>\n",
       "                        <td id=\"T_fa61298e_261e_11ec_8e80_0242ac1c0002row4_col3\" class=\"data row4 col3\" >-0.378307</td>\n",
       "                        <td id=\"T_fa61298e_261e_11ec_8e80_0242ac1c0002row4_col4\" class=\"data row4 col4\" >1.000000</td>\n",
       "            </tr>\n",
       "    </tbody></table>"
      ],
      "text/plain": [
       "<pandas.io.formats.style.Styler at 0x7fc52f382990>"
      ]
     },
     "metadata": {},
     "output_type": "display_data"
    }
   ],
   "source": [
    "print('\\n', 'Корреляционная матрица, коэф. Спирмена')\n",
    "display(clients.corr(method='spearman').style.background_gradient(cmap='coolwarm'))"
   ]
  },
  {
   "cell_type": "markdown",
   "metadata": {
    "id": "KCL6O7r5VamU"
   },
   "source": [
    "В целом значения корреляции остались примерно такими же."
   ]
  },
  {
   "cell_type": "markdown",
   "metadata": {
    "id": "PZQfUeutPe02"
   },
   "source": [
    "Теперь попробуем изучить влияние категориальных признаков с помощью критерия X2 и расчета p-value. Наша нулевая гипотеза состоит в том, что между столбцом Churn и остальными переменными нет никакой зависимости. За пороговый уровень значимости примем 0.01. \n",
    "    \n",
    "Воспользуемся модулем chi2_contingency из библиотеки scipy.stats и выведем лишь те категориальные признаки, которые являются статистически значимыми для прогнозирования целевой переменной (т.е. для которых p-value оказался ниже порогового значения)."
   ]
  },
  {
   "cell_type": "code",
   "execution_count": 25,
   "metadata": {
    "id": "BmdIPbOtPe03"
   },
   "outputs": [],
   "source": [
    "categ_col = list(clients.select_dtypes(['object']).columns[1:])"
   ]
  },
  {
   "cell_type": "code",
   "execution_count": 26,
   "metadata": {
    "colab": {
     "base_uri": "https://localhost:8080/",
     "height": 425
    },
    "id": "R6qgHc5ZPe03",
    "outputId": "079c4006-adb7-4ff7-fdd2-97b95150baca"
   },
   "outputs": [
    {
     "data": {
      "text/html": [
       "<div>\n",
       "<style scoped>\n",
       "    .dataframe tbody tr th:only-of-type {\n",
       "        vertical-align: middle;\n",
       "    }\n",
       "\n",
       "    .dataframe tbody tr th {\n",
       "        vertical-align: top;\n",
       "    }\n",
       "\n",
       "    .dataframe thead th {\n",
       "        text-align: right;\n",
       "    }\n",
       "</style>\n",
       "<table border=\"1\" class=\"dataframe\">\n",
       "  <thead>\n",
       "    <tr style=\"text-align: right;\">\n",
       "      <th></th>\n",
       "      <th>features</th>\n",
       "      <th>chi2</th>\n",
       "      <th>p-value</th>\n",
       "      <th>df</th>\n",
       "    </tr>\n",
       "  </thead>\n",
       "  <tbody>\n",
       "    <tr>\n",
       "      <th>2</th>\n",
       "      <td>Type</td>\n",
       "      <td>1179.545829</td>\n",
       "      <td>1.278469e-251</td>\n",
       "      <td>6.0</td>\n",
       "    </tr>\n",
       "    <tr>\n",
       "      <th>5</th>\n",
       "      <td>InternetService</td>\n",
       "      <td>728.695614</td>\n",
       "      <td>3.891743e-154</td>\n",
       "      <td>6.0</td>\n",
       "    </tr>\n",
       "    <tr>\n",
       "      <th>4</th>\n",
       "      <td>PaymentMethod</td>\n",
       "      <td>645.429900</td>\n",
       "      <td>3.972166e-134</td>\n",
       "      <td>8.0</td>\n",
       "    </tr>\n",
       "    <tr>\n",
       "      <th>3</th>\n",
       "      <td>PaperlessBilling</td>\n",
       "      <td>257.756252</td>\n",
       "      <td>1.388280e-54</td>\n",
       "      <td>4.0</td>\n",
       "    </tr>\n",
       "    <tr>\n",
       "      <th>6</th>\n",
       "      <td>OnlineSecurity</td>\n",
       "      <td>206.272375</td>\n",
       "      <td>1.683156e-43</td>\n",
       "      <td>4.0</td>\n",
       "    </tr>\n",
       "    <tr>\n",
       "      <th>9</th>\n",
       "      <td>TechSupport</td>\n",
       "      <td>190.787516</td>\n",
       "      <td>3.589767e-40</td>\n",
       "      <td>4.0</td>\n",
       "    </tr>\n",
       "    <tr>\n",
       "      <th>1</th>\n",
       "      <td>Dependents</td>\n",
       "      <td>187.127763</td>\n",
       "      <td>2.195068e-39</td>\n",
       "      <td>4.0</td>\n",
       "    </tr>\n",
       "    <tr>\n",
       "      <th>0</th>\n",
       "      <td>Partner</td>\n",
       "      <td>158.181873</td>\n",
       "      <td>3.587783e-33</td>\n",
       "      <td>4.0</td>\n",
       "    </tr>\n",
       "    <tr>\n",
       "      <th>7</th>\n",
       "      <td>OnlineBackup</td>\n",
       "      <td>47.637842</td>\n",
       "      <td>1.122941e-09</td>\n",
       "      <td>4.0</td>\n",
       "    </tr>\n",
       "    <tr>\n",
       "      <th>8</th>\n",
       "      <td>DeviceProtection</td>\n",
       "      <td>30.810351</td>\n",
       "      <td>3.346556e-06</td>\n",
       "      <td>4.0</td>\n",
       "    </tr>\n",
       "    <tr>\n",
       "      <th>10</th>\n",
       "      <td>StreamingTV</td>\n",
       "      <td>28.135496</td>\n",
       "      <td>1.170855e-05</td>\n",
       "      <td>4.0</td>\n",
       "    </tr>\n",
       "    <tr>\n",
       "      <th>11</th>\n",
       "      <td>StreamingMovies</td>\n",
       "      <td>26.046049</td>\n",
       "      <td>3.097519e-05</td>\n",
       "      <td>4.0</td>\n",
       "    </tr>\n",
       "  </tbody>\n",
       "</table>\n",
       "</div>"
      ],
      "text/plain": [
       "            features         chi2        p-value   df\n",
       "2               Type  1179.545829  1.278469e-251  6.0\n",
       "5    InternetService   728.695614  3.891743e-154  6.0\n",
       "4      PaymentMethod   645.429900  3.972166e-134  8.0\n",
       "3   PaperlessBilling   257.756252   1.388280e-54  4.0\n",
       "6     OnlineSecurity   206.272375   1.683156e-43  4.0\n",
       "9        TechSupport   190.787516   3.589767e-40  4.0\n",
       "1         Dependents   187.127763   2.195068e-39  4.0\n",
       "0            Partner   158.181873   3.587783e-33  4.0\n",
       "7       OnlineBackup    47.637842   1.122941e-09  4.0\n",
       "8   DeviceProtection    30.810351   3.346556e-06  4.0\n",
       "10       StreamingTV    28.135496   1.170855e-05  4.0\n",
       "11   StreamingMovies    26.046049   3.097519e-05  4.0"
      ]
     },
     "metadata": {},
     "output_type": "display_data"
    }
   ],
   "source": [
    "chi_tab = pd.DataFrame(columns=['features', 'chi2', 'p-value'])\n",
    "for feat in categ_col:\n",
    "    chisqt = pd.crosstab(clients['Churn'], clients[feat], margins=True)\n",
    "    chi2, p_val, df, exp = chi2_contingency(chisqt)\n",
    "    if p_val < 0.01:\n",
    "        chi_tab = chi_tab.append({'features': feat, 'chi2': chi2,\n",
    "                                  'p-value': p_val, 'df': df}, ignore_index=True)\n",
    "    \n",
    "display(chi_tab.sort_values(by='p-value'))"
   ]
  },
  {
   "cell_type": "markdown",
   "metadata": {
    "id": "1Qtj7M58Pe04"
   },
   "source": [
    "Практически все категориальные признаки, скорее всего, существенны для прогнозирования. Наименьшее значение p-value у трех из них: Type, InternetService и PaymentMethod."
   ]
  },
  {
   "cell_type": "markdown",
   "metadata": {
    "id": "9OFBiBvmmMGH"
   },
   "source": [
    "### Вывод"
   ]
  },
  {
   "cell_type": "markdown",
   "metadata": {
    "id": "49PgfMXseNB6"
   },
   "source": [
    "Предварительный анализ не выявил отдельных аномальных значений. Тем не менее распределения платежей и общего времени использования услуг не похожи на нормальные. Среднее значение ежемесячных оплат меньше медианного, но при этом на графике большой толстый хвост вправо. Это означает, что существует немалое количество пользователей, которые стремятся к экономии и не используют дополнительные пакеты. А по краям графика Lifetime наблюдаются два больших пика - групп очень лояльных пользователей и пользователей с очень небольшим клиентским опытом. Примерно половина абонентов пользуется услугами компании более 2 лет. \n",
    "\n",
    "Обнаружена положительная корреляция между оттоком абонентов, величиной ежемесячных платежей и возрастным статусом клиента, а также отрицательная корреляция между оттоком, временем жизни клиента и общей суммой, оплаченной за услуги связи. В целом, здесь нет сюрпризов, чем больший доход имеет клиент, тем больше услуг он может себе позволить. Но для людей пенсионного возраста или имеющих иждивенцев на попечении, стоимость тарифов может быть критически важной.\n",
    "\n",
    "Среди категориальных переменных наибольшей значимостью для целевого признака (Churn) обладают Type, InternetService и PaymentMethod."
   ]
  },
  {
   "cell_type": "markdown",
   "metadata": {
    "id": "HTqZSeCKUWuw"
   },
   "source": [
    "## Подготовка данных для обучения"
   ]
  },
  {
   "cell_type": "markdown",
   "metadata": {
    "id": "0mXRjTB5VHdh"
   },
   "source": [
    "Разделим датасет на набор прогнозирующих факторов и целевой признак. Из списка прогнозирующих признаков удалим также ID клиента, даты заключения/ расторжения договора на обслуживание, а также TotalCharges из-за сильно корреляции с другим фактором."
   ]
  },
  {
   "cell_type": "code",
   "execution_count": 27,
   "metadata": {
    "id": "_-yMm6m3eNB7"
   },
   "outputs": [],
   "source": [
    "target = clients['Churn']\n",
    "features = clients.drop(['Churn', 'customerID', 'BeginDate', 'EndDate', 'TotalCharges'], axis=1)"
   ]
  },
  {
   "cell_type": "markdown",
   "metadata": {
    "id": "C5N0jnbgXCOi"
   },
   "source": [
    "Разделим наши обучающие признаки на две выборки: обучающую и тестовую. В параметры функции train_test_split добавим stratify, чтобы сохранить пропорцию классов в разных наборах. Посмотрим, выборки каких размеров у нас получились."
   ]
  },
  {
   "cell_type": "code",
   "execution_count": 28,
   "metadata": {
    "colab": {
     "base_uri": "https://localhost:8080/"
    },
    "id": "GN8inJyqXJuk",
    "outputId": "f28fcd1e-fbc0-402c-c5ad-8a5180c94160"
   },
   "outputs": [
    {
     "name": "stdout",
     "output_type": "stream",
     "text": [
      "Train (5274, 17) (5274,)\n",
      "Test (1758, 17) (1758,)\n"
     ]
    }
   ],
   "source": [
    "features_train, features_test, target_train, target_test = train_test_split(features, target, \n",
    "                                                                            test_size=0.25, stratify=target, random_state=12345)\n",
    "print('Train', features_train.shape, target_train.shape)\n",
    "print('Test', features_test.shape, target_test.shape)"
   ]
  },
  {
   "cell_type": "markdown",
   "metadata": {
    "id": "KcaQWRRdWSry"
   },
   "source": [
    "В датасете также имеются категориальные признаки, от которых может зависеть, уйдет ли клиент от оператора связи или нет. Поскольку категорий в самих столбцах мало, используем технику прямого кодирования (One-Hot Encoding). К тому же она работает со всеми моделями.\n",
    "\n",
    "Перед кодированием сохраним копии датафреймов с признаками для обучения модели градиентного бустинга (в ней есть встроенные методы обработки подобных признаков) в переменных features_train_0 и features_test_0."
   ]
  },
  {
   "cell_type": "code",
   "execution_count": 29,
   "metadata": {
    "colab": {
     "base_uri": "https://localhost:8080/",
     "height": 243
    },
    "id": "9O1OfWv_Vdky",
    "outputId": "6d1ee8cf-7519-47cc-b7a3-0afc108668f8"
   },
   "outputs": [
    {
     "data": {
      "text/html": [
       "<div>\n",
       "<style scoped>\n",
       "    .dataframe tbody tr th:only-of-type {\n",
       "        vertical-align: middle;\n",
       "    }\n",
       "\n",
       "    .dataframe tbody tr th {\n",
       "        vertical-align: top;\n",
       "    }\n",
       "\n",
       "    .dataframe thead th {\n",
       "        text-align: right;\n",
       "    }\n",
       "</style>\n",
       "<table border=\"1\" class=\"dataframe\">\n",
       "  <thead>\n",
       "    <tr style=\"text-align: right;\">\n",
       "      <th></th>\n",
       "      <th>SeniorCitizen</th>\n",
       "      <th>MonthlyCharges</th>\n",
       "      <th>Lifetime</th>\n",
       "      <th>Gender_Male</th>\n",
       "      <th>Partner_Yes</th>\n",
       "      <th>Dependents_Yes</th>\n",
       "      <th>Type_One year</th>\n",
       "      <th>Type_Two year</th>\n",
       "      <th>PaperlessBilling_Yes</th>\n",
       "      <th>PaymentMethod_Credit card (automatic)</th>\n",
       "      <th>PaymentMethod_Electronic check</th>\n",
       "      <th>PaymentMethod_Mailed check</th>\n",
       "      <th>InternetService_Fiber optic</th>\n",
       "      <th>InternetService_No</th>\n",
       "      <th>OnlineSecurity_Yes</th>\n",
       "      <th>OnlineBackup_Yes</th>\n",
       "      <th>DeviceProtection_Yes</th>\n",
       "      <th>TechSupport_Yes</th>\n",
       "      <th>StreamingTV_Yes</th>\n",
       "      <th>StreamingMovies_Yes</th>\n",
       "      <th>MultipleLines_Yes</th>\n",
       "    </tr>\n",
       "  </thead>\n",
       "  <tbody>\n",
       "    <tr>\n",
       "      <th>2165</th>\n",
       "      <td>0</td>\n",
       "      <td>20.20</td>\n",
       "      <td>396</td>\n",
       "      <td>0</td>\n",
       "      <td>0</td>\n",
       "      <td>0</td>\n",
       "      <td>1</td>\n",
       "      <td>0</td>\n",
       "      <td>0</td>\n",
       "      <td>0</td>\n",
       "      <td>0</td>\n",
       "      <td>1</td>\n",
       "      <td>0</td>\n",
       "      <td>1</td>\n",
       "      <td>0</td>\n",
       "      <td>0</td>\n",
       "      <td>0</td>\n",
       "      <td>0</td>\n",
       "      <td>0</td>\n",
       "      <td>0</td>\n",
       "      <td>0</td>\n",
       "    </tr>\n",
       "    <tr>\n",
       "      <th>3814</th>\n",
       "      <td>0</td>\n",
       "      <td>88.70</td>\n",
       "      <td>2191</td>\n",
       "      <td>1</td>\n",
       "      <td>1</td>\n",
       "      <td>0</td>\n",
       "      <td>0</td>\n",
       "      <td>1</td>\n",
       "      <td>1</td>\n",
       "      <td>1</td>\n",
       "      <td>0</td>\n",
       "      <td>0</td>\n",
       "      <td>0</td>\n",
       "      <td>0</td>\n",
       "      <td>1</td>\n",
       "      <td>1</td>\n",
       "      <td>1</td>\n",
       "      <td>1</td>\n",
       "      <td>1</td>\n",
       "      <td>1</td>\n",
       "      <td>1</td>\n",
       "    </tr>\n",
       "    <tr>\n",
       "      <th>2514</th>\n",
       "      <td>1</td>\n",
       "      <td>89.70</td>\n",
       "      <td>760</td>\n",
       "      <td>0</td>\n",
       "      <td>0</td>\n",
       "      <td>0</td>\n",
       "      <td>0</td>\n",
       "      <td>0</td>\n",
       "      <td>1</td>\n",
       "      <td>0</td>\n",
       "      <td>1</td>\n",
       "      <td>0</td>\n",
       "      <td>1</td>\n",
       "      <td>0</td>\n",
       "      <td>0</td>\n",
       "      <td>1</td>\n",
       "      <td>0</td>\n",
       "      <td>0</td>\n",
       "      <td>0</td>\n",
       "      <td>1</td>\n",
       "      <td>1</td>\n",
       "    </tr>\n",
       "    <tr>\n",
       "      <th>3837</th>\n",
       "      <td>0</td>\n",
       "      <td>105.65</td>\n",
       "      <td>122</td>\n",
       "      <td>0</td>\n",
       "      <td>0</td>\n",
       "      <td>0</td>\n",
       "      <td>1</td>\n",
       "      <td>0</td>\n",
       "      <td>1</td>\n",
       "      <td>0</td>\n",
       "      <td>1</td>\n",
       "      <td>0</td>\n",
       "      <td>1</td>\n",
       "      <td>0</td>\n",
       "      <td>0</td>\n",
       "      <td>1</td>\n",
       "      <td>1</td>\n",
       "      <td>1</td>\n",
       "      <td>1</td>\n",
       "      <td>1</td>\n",
       "      <td>0</td>\n",
       "    </tr>\n",
       "    <tr>\n",
       "      <th>2573</th>\n",
       "      <td>0</td>\n",
       "      <td>54.75</td>\n",
       "      <td>31</td>\n",
       "      <td>0</td>\n",
       "      <td>0</td>\n",
       "      <td>0</td>\n",
       "      <td>0</td>\n",
       "      <td>0</td>\n",
       "      <td>1</td>\n",
       "      <td>0</td>\n",
       "      <td>0</td>\n",
       "      <td>1</td>\n",
       "      <td>0</td>\n",
       "      <td>0</td>\n",
       "      <td>0</td>\n",
       "      <td>0</td>\n",
       "      <td>0</td>\n",
       "      <td>0</td>\n",
       "      <td>0</td>\n",
       "      <td>1</td>\n",
       "      <td>0</td>\n",
       "    </tr>\n",
       "  </tbody>\n",
       "</table>\n",
       "</div>"
      ],
      "text/plain": [
       "      SeniorCitizen  MonthlyCharges  Lifetime  Gender_Male  Partner_Yes  \\\n",
       "2165              0           20.20       396            0            0   \n",
       "3814              0           88.70      2191            1            1   \n",
       "2514              1           89.70       760            0            0   \n",
       "3837              0          105.65       122            0            0   \n",
       "2573              0           54.75        31            0            0   \n",
       "\n",
       "      Dependents_Yes  Type_One year  Type_Two year  PaperlessBilling_Yes  \\\n",
       "2165               0              1              0                     0   \n",
       "3814               0              0              1                     1   \n",
       "2514               0              0              0                     1   \n",
       "3837               0              1              0                     1   \n",
       "2573               0              0              0                     1   \n",
       "\n",
       "      PaymentMethod_Credit card (automatic)  PaymentMethod_Electronic check  \\\n",
       "2165                                      0                               0   \n",
       "3814                                      1                               0   \n",
       "2514                                      0                               1   \n",
       "3837                                      0                               1   \n",
       "2573                                      0                               0   \n",
       "\n",
       "      PaymentMethod_Mailed check  InternetService_Fiber optic  \\\n",
       "2165                           1                            0   \n",
       "3814                           0                            0   \n",
       "2514                           0                            1   \n",
       "3837                           0                            1   \n",
       "2573                           1                            0   \n",
       "\n",
       "      InternetService_No  OnlineSecurity_Yes  OnlineBackup_Yes  \\\n",
       "2165                   1                   0                 0   \n",
       "3814                   0                   1                 1   \n",
       "2514                   0                   0                 1   \n",
       "3837                   0                   0                 1   \n",
       "2573                   0                   0                 0   \n",
       "\n",
       "      DeviceProtection_Yes  TechSupport_Yes  StreamingTV_Yes  \\\n",
       "2165                     0                0                0   \n",
       "3814                     1                1                1   \n",
       "2514                     0                0                0   \n",
       "3837                     1                1                1   \n",
       "2573                     0                0                0   \n",
       "\n",
       "      StreamingMovies_Yes  MultipleLines_Yes  \n",
       "2165                    0                  0  \n",
       "3814                    1                  1  \n",
       "2514                    1                  1  \n",
       "3837                    1                  0  \n",
       "2573                    1                  0  "
      ]
     },
     "metadata": {},
     "output_type": "display_data"
    }
   ],
   "source": [
    "features_train_0 = features_train.copy()\n",
    "features_test_0 = features_test.copy()\n",
    "\n",
    "features_train = pd.get_dummies(features_train, drop_first=True)\n",
    "features_test = pd.get_dummies(features_test, drop_first=True)\n",
    "display(features_train.head())"
   ]
  },
  {
   "cell_type": "markdown",
   "metadata": {
    "id": "DLngG88DYXtA"
   },
   "source": [
    "Чтобы привести признаки к единому масштабу, стандартизируем их методом StandardScaler и выведем первые строки получившейся таблицы (тренировочные данные). Данный шаг применим к двум наборам данных: к датафрейму с закодированными категориальными признаками и незакодированными."
   ]
  },
  {
   "cell_type": "code",
   "execution_count": 30,
   "metadata": {
    "colab": {
     "base_uri": "https://localhost:8080/",
     "height": 243
    },
    "id": "xPeG5wncYZ-q",
    "outputId": "17982d58-4fb4-464e-d3eb-fc135d121bdf"
   },
   "outputs": [
    {
     "data": {
      "text/html": [
       "<div>\n",
       "<style scoped>\n",
       "    .dataframe tbody tr th:only-of-type {\n",
       "        vertical-align: middle;\n",
       "    }\n",
       "\n",
       "    .dataframe tbody tr th {\n",
       "        vertical-align: top;\n",
       "    }\n",
       "\n",
       "    .dataframe thead th {\n",
       "        text-align: right;\n",
       "    }\n",
       "</style>\n",
       "<table border=\"1\" class=\"dataframe\">\n",
       "  <thead>\n",
       "    <tr style=\"text-align: right;\">\n",
       "      <th></th>\n",
       "      <th>SeniorCitizen</th>\n",
       "      <th>MonthlyCharges</th>\n",
       "      <th>Lifetime</th>\n",
       "      <th>Gender_Male</th>\n",
       "      <th>Partner_Yes</th>\n",
       "      <th>Dependents_Yes</th>\n",
       "      <th>Type_One year</th>\n",
       "      <th>Type_Two year</th>\n",
       "      <th>PaperlessBilling_Yes</th>\n",
       "      <th>PaymentMethod_Credit card (automatic)</th>\n",
       "      <th>PaymentMethod_Electronic check</th>\n",
       "      <th>PaymentMethod_Mailed check</th>\n",
       "      <th>InternetService_Fiber optic</th>\n",
       "      <th>InternetService_No</th>\n",
       "      <th>OnlineSecurity_Yes</th>\n",
       "      <th>OnlineBackup_Yes</th>\n",
       "      <th>DeviceProtection_Yes</th>\n",
       "      <th>TechSupport_Yes</th>\n",
       "      <th>StreamingTV_Yes</th>\n",
       "      <th>StreamingMovies_Yes</th>\n",
       "      <th>MultipleLines_Yes</th>\n",
       "    </tr>\n",
       "  </thead>\n",
       "  <tbody>\n",
       "    <tr>\n",
       "      <th>2165</th>\n",
       "      <td>0</td>\n",
       "      <td>-1.482494</td>\n",
       "      <td>-0.792953</td>\n",
       "      <td>0</td>\n",
       "      <td>0</td>\n",
       "      <td>0</td>\n",
       "      <td>1</td>\n",
       "      <td>0</td>\n",
       "      <td>0</td>\n",
       "      <td>0</td>\n",
       "      <td>0</td>\n",
       "      <td>1</td>\n",
       "      <td>0</td>\n",
       "      <td>1</td>\n",
       "      <td>0</td>\n",
       "      <td>0</td>\n",
       "      <td>0</td>\n",
       "      <td>0</td>\n",
       "      <td>0</td>\n",
       "      <td>0</td>\n",
       "      <td>0</td>\n",
       "    </tr>\n",
       "    <tr>\n",
       "      <th>3814</th>\n",
       "      <td>0</td>\n",
       "      <td>0.790277</td>\n",
       "      <td>1.617661</td>\n",
       "      <td>1</td>\n",
       "      <td>1</td>\n",
       "      <td>0</td>\n",
       "      <td>0</td>\n",
       "      <td>1</td>\n",
       "      <td>1</td>\n",
       "      <td>1</td>\n",
       "      <td>0</td>\n",
       "      <td>0</td>\n",
       "      <td>0</td>\n",
       "      <td>0</td>\n",
       "      <td>1</td>\n",
       "      <td>1</td>\n",
       "      <td>1</td>\n",
       "      <td>1</td>\n",
       "      <td>1</td>\n",
       "      <td>1</td>\n",
       "      <td>1</td>\n",
       "    </tr>\n",
       "    <tr>\n",
       "      <th>2514</th>\n",
       "      <td>1</td>\n",
       "      <td>0.823457</td>\n",
       "      <td>-0.304116</td>\n",
       "      <td>0</td>\n",
       "      <td>0</td>\n",
       "      <td>0</td>\n",
       "      <td>0</td>\n",
       "      <td>0</td>\n",
       "      <td>1</td>\n",
       "      <td>0</td>\n",
       "      <td>1</td>\n",
       "      <td>0</td>\n",
       "      <td>1</td>\n",
       "      <td>0</td>\n",
       "      <td>0</td>\n",
       "      <td>1</td>\n",
       "      <td>0</td>\n",
       "      <td>0</td>\n",
       "      <td>0</td>\n",
       "      <td>1</td>\n",
       "      <td>1</td>\n",
       "    </tr>\n",
       "    <tr>\n",
       "      <th>3837</th>\n",
       "      <td>0</td>\n",
       "      <td>1.352664</td>\n",
       "      <td>-1.160924</td>\n",
       "      <td>0</td>\n",
       "      <td>0</td>\n",
       "      <td>0</td>\n",
       "      <td>1</td>\n",
       "      <td>0</td>\n",
       "      <td>1</td>\n",
       "      <td>0</td>\n",
       "      <td>1</td>\n",
       "      <td>0</td>\n",
       "      <td>1</td>\n",
       "      <td>0</td>\n",
       "      <td>0</td>\n",
       "      <td>1</td>\n",
       "      <td>1</td>\n",
       "      <td>1</td>\n",
       "      <td>1</td>\n",
       "      <td>1</td>\n",
       "      <td>0</td>\n",
       "    </tr>\n",
       "    <tr>\n",
       "      <th>2573</th>\n",
       "      <td>0</td>\n",
       "      <td>-0.336155</td>\n",
       "      <td>-1.283134</td>\n",
       "      <td>0</td>\n",
       "      <td>0</td>\n",
       "      <td>0</td>\n",
       "      <td>0</td>\n",
       "      <td>0</td>\n",
       "      <td>1</td>\n",
       "      <td>0</td>\n",
       "      <td>0</td>\n",
       "      <td>1</td>\n",
       "      <td>0</td>\n",
       "      <td>0</td>\n",
       "      <td>0</td>\n",
       "      <td>0</td>\n",
       "      <td>0</td>\n",
       "      <td>0</td>\n",
       "      <td>0</td>\n",
       "      <td>1</td>\n",
       "      <td>0</td>\n",
       "    </tr>\n",
       "  </tbody>\n",
       "</table>\n",
       "</div>"
      ],
      "text/plain": [
       "      SeniorCitizen  MonthlyCharges  Lifetime  Gender_Male  Partner_Yes  \\\n",
       "2165              0       -1.482494 -0.792953            0            0   \n",
       "3814              0        0.790277  1.617661            1            1   \n",
       "2514              1        0.823457 -0.304116            0            0   \n",
       "3837              0        1.352664 -1.160924            0            0   \n",
       "2573              0       -0.336155 -1.283134            0            0   \n",
       "\n",
       "      Dependents_Yes  Type_One year  Type_Two year  PaperlessBilling_Yes  \\\n",
       "2165               0              1              0                     0   \n",
       "3814               0              0              1                     1   \n",
       "2514               0              0              0                     1   \n",
       "3837               0              1              0                     1   \n",
       "2573               0              0              0                     1   \n",
       "\n",
       "      PaymentMethod_Credit card (automatic)  PaymentMethod_Electronic check  \\\n",
       "2165                                      0                               0   \n",
       "3814                                      1                               0   \n",
       "2514                                      0                               1   \n",
       "3837                                      0                               1   \n",
       "2573                                      0                               0   \n",
       "\n",
       "      PaymentMethod_Mailed check  InternetService_Fiber optic  \\\n",
       "2165                           1                            0   \n",
       "3814                           0                            0   \n",
       "2514                           0                            1   \n",
       "3837                           0                            1   \n",
       "2573                           1                            0   \n",
       "\n",
       "      InternetService_No  OnlineSecurity_Yes  OnlineBackup_Yes  \\\n",
       "2165                   1                   0                 0   \n",
       "3814                   0                   1                 1   \n",
       "2514                   0                   0                 1   \n",
       "3837                   0                   0                 1   \n",
       "2573                   0                   0                 0   \n",
       "\n",
       "      DeviceProtection_Yes  TechSupport_Yes  StreamingTV_Yes  \\\n",
       "2165                     0                0                0   \n",
       "3814                     1                1                1   \n",
       "2514                     0                0                0   \n",
       "3837                     1                1                1   \n",
       "2573                     0                0                0   \n",
       "\n",
       "      StreamingMovies_Yes  MultipleLines_Yes  \n",
       "2165                    0                  0  \n",
       "3814                    1                  1  \n",
       "2514                    1                  1  \n",
       "3837                    1                  0  \n",
       "2573                    1                  0  "
      ]
     },
     "metadata": {},
     "output_type": "display_data"
    }
   ],
   "source": [
    "numeric = ['MonthlyCharges', 'Lifetime']\n",
    "\n",
    "scaler = StandardScaler()\n",
    "\n",
    "scaler.fit(features_train[numeric])\n",
    "features_train[numeric] = scaler.transform(features_train[numeric])\n",
    "features_test[numeric] = scaler.transform(features_test[numeric])\n",
    "\n",
    "scaler.fit(features_train_0[numeric])\n",
    "features_train_0[numeric] = scaler.transform(features_train_0[numeric])\n",
    "features_test_0[numeric] = scaler.transform(features_test_0[numeric])\n",
    "\n",
    "display(features_train.head())"
   ]
  },
  {
   "cell_type": "markdown",
   "metadata": {
    "id": "bmA7zk77YY2u"
   },
   "source": [
    "### Вывод"
   ]
  },
  {
   "cell_type": "markdown",
   "metadata": {
    "id": "SMl-IlrAZABu"
   },
   "source": [
    "С целью подготовки данных к обучению часть категориальных признаков была удалена из набора из-за отсутствия прогнозируемой значимости или возможной утечки признака. Среди них ID клиента, даты заключения и расторжения договора.\n",
    "\n",
    "Остальные категориальные признаки теоретически могут повлиять на решения модели (вдруг, мужчины с иждивенцами более склонны к побегу), поэтому они были оставлены в датафрейме и обработаны методом прямого кодирования (One-Hot Encoding). Отдельно сохранен датафрейм с незакодированными столбцами для модели градиентного бустинга.\n",
    "\n",
    "Набор данных разделен на обучающую и тестовую выборки. А чтобы модель не считала какой-то фактор более значимым только из-за большого количества знаков до запятой, все признаки были масштабированы с помощью StandardScaler(). Чтобы заранее не передавать информацию модели, как распределены данные в тестовой выборке, шкалирование произведено уже после разделения датасета на обучающую и тестовую выборки."
   ]
  },
  {
   "cell_type": "markdown",
   "metadata": {
    "id": "Pts51RhwaYtR"
   },
   "source": [
    "## Обучение моделей"
   ]
  },
  {
   "cell_type": "markdown",
   "metadata": {
    "id": "HZ4R_Z2UakiF"
   },
   "source": [
    "В проекте рассмотрено восемь моделей: дерево решений, случайный лес, логистическая регрессия, наивный байесовский классификатор, метод опорных векторов, градиентный бустинг (LightGBM), метод ближайших соседей и несложная нейросеть.\n",
    "\n",
    "Оптимальные гиперпараметры подберем с помощью функции GridSearchCV(). Поскольку перебирать гиперпараметры мы будем не один раз, объявим функцию для перебора этих гиперпараметров. На вход она будет принимать перечень параметров, тип модели, набор обучающих признаков и обучающий целевой признак. Возвращать функция будет метрику ROC-AUC."
   ]
  },
  {
   "cell_type": "code",
   "execution_count": 31,
   "metadata": {
    "id": "v4llnqbqbFqB"
   },
   "outputs": [],
   "source": [
    "def select_params(params, model, f_train, t_train):\n",
    "    \"\"\"\n",
    "    Функция для подбора гиперпараметров моделей.\n",
    "    \n",
    "    params - словарь с параметрами (например, {'max_depth': range(1,11), 'min_samples_split': [2,4,6]})\n",
    "    model - модель (например, DecisionTreeClassifier)\n",
    "    f_train - датафрейм с прогнозируюшими факторами\n",
    "    t_train - целевой признак (зависимая переменная)\n",
    "    \"\"\"       \n",
    "    \n",
    "    mod = GridSearchCV(model, params, scoring='roc_auc')\n",
    "    %time mod.fit(f_train, t_train)\n",
    "    print('ROC-AUC лучшей модели на обучающей выборке:', mod.best_score_.round(3))\n",
    "    print(mod.best_params_)"
   ]
  },
  {
   "cell_type": "markdown",
   "metadata": {
    "id": "7ILu5IX73gqM"
   },
   "source": [
    "Поскольку кроме точности прогнозирования нам желательно оценить и скорость работы модели, мы также будем фиксировать время отработки кода. Для удобства оценки вынесем все зафиксированное время обучения моделей в отдельную (заранее объявленную) переменную (словарь). Позже выведем эти данные в общую сравнительную таблицу для всех алгоритмов (кроме нейросети)."
   ]
  },
  {
   "cell_type": "code",
   "execution_count": 32,
   "metadata": {
    "id": "xOGMmnjP3hu8"
   },
   "outputs": [],
   "source": [
    "fit_time = {}"
   ]
  },
  {
   "cell_type": "markdown",
   "metadata": {
    "id": "4tz60s5Qapkg"
   },
   "source": [
    "### Дерево решений"
   ]
  },
  {
   "cell_type": "markdown",
   "metadata": {
    "id": "EGZhHs3watxx"
   },
   "source": [
    "Первым рассмотрим дерево решений. Выведем метрику ROC-AUC, какая получается, если не \"докручивать\" модель, а использовать гиперпараметры, установленные по умолчанию.\n",
    "\n",
    "Применим нашу функцию для подбора параметров, т.к. она основана на кросс-валидации (нет необходимости проверять результат на валидационной выборке, позже используем сразу тестовую). Просто передадим ей пустые параметры."
   ]
  },
  {
   "cell_type": "code",
   "execution_count": 33,
   "metadata": {
    "colab": {
     "base_uri": "https://localhost:8080/"
    },
    "id": "ABAdzRDAcp3e",
    "outputId": "3d7c00e2-c2b3-4c51-c3b2-71a012f10256"
   },
   "outputs": [
    {
     "name": "stdout",
     "output_type": "stream",
     "text": [
      "CPU times: user 140 ms, sys: 1.86 ms, total: 142 ms\n",
      "Wall time: 144 ms\n",
      "ROC-AUC лучшей модели на обучающей выборке: 0.712\n",
      "{}\n"
     ]
    }
   ],
   "source": [
    "params = {}\n",
    "select_params(params, DecisionTreeClassifier(random_state=12345), features_train, target_train)"
   ]
  },
  {
   "cell_type": "markdown",
   "metadata": {
    "id": "xAk8qEU5fcB1"
   },
   "source": [
    "Теперь попробуем подобрать гиперпараметры для модели."
   ]
  },
  {
   "cell_type": "code",
   "execution_count": 34,
   "metadata": {
    "colab": {
     "base_uri": "https://localhost:8080/"
    },
    "id": "AhYmgMwNcuf5",
    "outputId": "7614f99e-b66f-47db-e0b2-698198d53e14"
   },
   "outputs": [
    {
     "name": "stdout",
     "output_type": "stream",
     "text": [
      "CPU times: user 2min 7s, sys: 781 ms, total: 2min 8s\n",
      "Wall time: 2min 7s\n",
      "ROC-AUC лучшей модели на обучающей выборке: 0.848\n",
      "{'class_weight': None, 'max_depth': 6, 'min_samples_leaf': 1, 'min_samples_split': 6}\n"
     ]
    }
   ],
   "source": [
    "params = {'max_depth': range(1,11), 'min_samples_split': [2,3,4,5,6,7,8,9,10], \n",
    "          'min_samples_leaf': range(1,11), 'class_weight': [None, 'balanced']}\n",
    "select_params(params, DecisionTreeClassifier(random_state=12345, class_weight='balanced'),\n",
    "              features_train, target_train)"
   ]
  },
  {
   "cell_type": "markdown",
   "metadata": {
    "id": "gVEAzwEFdWLC"
   },
   "source": [
    "Лучше всего сработала модель с 6 узлами, 2 минимально возможными объектами для разделения внутри узла и 6 минимальными объектами в листе.\n",
    "\n",
    "Сохраним нашу модель с подобранным количеством узлов и объектов в переменной model_dt."
   ]
  },
  {
   "cell_type": "code",
   "execution_count": 35,
   "metadata": {
    "id": "uGDRyODtddAQ"
   },
   "outputs": [],
   "source": [
    "start= timer()\n",
    "model_dt = DecisionTreeClassifier(random_state=12345, max_depth=6, min_samples_split=2, \n",
    "                                  min_samples_leaf=6, class_weight='balanced')\n",
    "model_dt.fit(features_train, target_train)\n",
    "end = timer()\n",
    "fit_time['Decision Tree'] = str((end-start)//60) + 'min ' + str(round((end-start)%60, 2)) + 's'"
   ]
  },
  {
   "cell_type": "markdown",
   "metadata": {
    "id": "Fhv0Z3lXdlRt"
   },
   "source": [
    "### Случайный лес"
   ]
  },
  {
   "cell_type": "markdown",
   "metadata": {
    "id": "WM5k9VrCfcB3"
   },
   "source": [
    "Теперь попробуем использовать для классификации не одно дерево, а их ансамбль. Сначала применим гиперпараметры, установленные в алгоритме по дефолту."
   ]
  },
  {
   "cell_type": "code",
   "execution_count": 36,
   "metadata": {
    "colab": {
     "base_uri": "https://localhost:8080/"
    },
    "id": "W2F6OYDGdome",
    "outputId": "6317f0cb-fe28-4106-b886-a53018a291c1"
   },
   "outputs": [
    {
     "name": "stdout",
     "output_type": "stream",
     "text": [
      "CPU times: user 3.07 s, sys: 37.8 ms, total: 3.11 s\n",
      "Wall time: 3.11 s\n",
      "ROC-AUC лучшей модели на обучающей выборке: 0.831\n",
      "{}\n"
     ]
    }
   ],
   "source": [
    "params = {}\n",
    "select_params(params, RandomForestClassifier(random_state=12345), features_train, target_train)"
   ]
  },
  {
   "cell_type": "markdown",
   "metadata": {
    "id": "RaIOD2eJfcB4"
   },
   "source": [
    "Результаты неплохие, посмотрим, есть ли возможность сделать модель еще лучше. Снова запустим нашу функцию для подбора гиперпараметров, передав ей варианты глубины и количества деревьев, критерий разделения и взвешивания классов."
   ]
  },
  {
   "cell_type": "code",
   "execution_count": 37,
   "metadata": {
    "colab": {
     "base_uri": "https://localhost:8080/"
    },
    "id": "uiwm0KuVd6fq",
    "outputId": "96082b92-5426-49ca-9168-9306a2386423"
   },
   "outputs": [
    {
     "name": "stdout",
     "output_type": "stream",
     "text": [
      "CPU times: user 43 s, sys: 214 ms, total: 43.2 s\n",
      "Wall time: 43.1 s\n",
      "ROC-AUC лучшей модели на обучающей выборке: 0.855\n",
      "{'class_weight': None, 'criterion': 'gini', 'max_depth': 6, 'n_estimators': 90}\n"
     ]
    }
   ],
   "source": [
    "params = {'max_depth': [6,8,10], 'n_estimators': [30, 60, 90], 'criterion': ['gini', 'entropy'], \n",
    "          'class_weight': [None, 'balanced']}\n",
    "select_params(params, RandomForestClassifier(random_state=12345, class_weight='balanced'),\n",
    "              features_train, target_train)"
   ]
  },
  {
   "cell_type": "markdown",
   "metadata": {
    "id": "K2X-VG5zfcB5"
   },
   "source": [
    "Результаты значительно улучшились. Сохраним модель с подобранными гиперпараметрами."
   ]
  },
  {
   "cell_type": "code",
   "execution_count": 38,
   "metadata": {
    "id": "91b0bfMtebZX"
   },
   "outputs": [],
   "source": [
    "start= timer()\n",
    "model_rf = RandomForestClassifier(random_state=12345, n_estimators=90, max_depth=8, \n",
    "                                  criterion='entropy', class_weight='balanced')\n",
    "model_rf.fit(features_train, target_train)\n",
    "end = timer()\n",
    "fit_time['Random Forest'] = str((end-start)//60) + 'min ' + str(round((end-start)%60, 2)) + 's'"
   ]
  },
  {
   "cell_type": "markdown",
   "metadata": {
    "id": "qx7i8uTNesm6"
   },
   "source": [
    "### Логистическая регрессия"
   ]
  },
  {
   "cell_type": "markdown",
   "metadata": {
    "id": "sXWtF9sBfcB5"
   },
   "source": [
    "Проверим, насколько правильно будет разделять классы логистическая регрессия. Выведем итоги работы модели без подбора гиперпараметров."
   ]
  },
  {
   "cell_type": "code",
   "execution_count": 39,
   "metadata": {
    "colab": {
     "base_uri": "https://localhost:8080/"
    },
    "id": "9c32gb5jexqh",
    "outputId": "4f4d3a85-a87a-4592-c087-830a59c2e013"
   },
   "outputs": [
    {
     "name": "stdout",
     "output_type": "stream",
     "text": [
      "CPU times: user 362 ms, sys: 251 ms, total: 613 ms\n",
      "Wall time: 332 ms\n",
      "ROC-AUC лучшей модели на обучающей выборке: 0.84\n",
      "{}\n"
     ]
    }
   ],
   "source": [
    "params = {}\n",
    "select_params(params, LogisticRegression(random_state=12345), features_train, target_train)"
   ]
  },
  {
   "cell_type": "markdown",
   "metadata": {
    "id": "W1iJibhRfcB6"
   },
   "source": [
    "Модель продемонстрировала неплохие результаты, примерно сравнимые со случайным лесом. Добавим в функцию варианты гиперпараметров и запустим снова."
   ]
  },
  {
   "cell_type": "code",
   "execution_count": 40,
   "metadata": {
    "colab": {
     "base_uri": "https://localhost:8080/"
    },
    "id": "qi3UZeRee2uF",
    "outputId": "9b5cdfb6-d3fc-4124-a7c6-150bc0013f5e"
   },
   "outputs": [
    {
     "name": "stdout",
     "output_type": "stream",
     "text": [
      "CPU times: user 2.84 s, sys: 2.23 s, total: 5.07 s\n",
      "Wall time: 2.63 s\n",
      "ROC-AUC лучшей модели на обучающей выборке: 0.84\n",
      "{'class_weight': None, 'penalty': 'l1', 'solver': 'saga'}\n"
     ]
    }
   ],
   "source": [
    "params = {'solver': ['liblinear', 'saga'],\n",
    "          'penalty': ['l1', 'l2'], 'class_weight': [None, 'balanced']}\n",
    "select_params(params, LogisticRegression(random_state=12345, class_weight='balanced'), \n",
    "              features_train, target_train)"
   ]
  },
  {
   "cell_type": "markdown",
   "metadata": {
    "id": "-AzpHHPvfcB7"
   },
   "source": [
    "Доработка модели никак не повлияла на ее качество. Поэтому сохраним модель в переменной model_lr с гиперпараметрами, используемыми по умолчанию, добавив только значение random_state."
   ]
  },
  {
   "cell_type": "code",
   "execution_count": 41,
   "metadata": {
    "id": "UcOjFYnUfFDO"
   },
   "outputs": [],
   "source": [
    "start= timer()\n",
    "model_lr = LogisticRegression(random_state=12345)\n",
    "model_lr.fit(features_train, target_train)\n",
    "end = timer()\n",
    "fit_time['Logistic Regression'] = str((end-start)//60) + 'min ' + str(round((end-start)%60, 2)) + 's'"
   ]
  },
  {
   "cell_type": "markdown",
   "metadata": {
    "id": "pNNhQmN2fDUG"
   },
   "source": [
    "### Наивный байесовский классификатор"
   ]
  },
  {
   "cell_type": "markdown",
   "metadata": {
    "id": "OHXx--vSfcB8"
   },
   "source": [
    "Рассмотрим еще одну модель - наивный байесовский классификатор."
   ]
  },
  {
   "cell_type": "code",
   "execution_count": 42,
   "metadata": {
    "colab": {
     "base_uri": "https://localhost:8080/"
    },
    "id": "zybYBlNlfcB8",
    "outputId": "7e03f355-e73b-4b6c-f084-f72420a6fd10"
   },
   "outputs": [
    {
     "name": "stdout",
     "output_type": "stream",
     "text": [
      "CPU times: user 78.7 ms, sys: 64.1 ms, total: 143 ms\n",
      "Wall time: 76.2 ms\n",
      "ROC-AUC лучшей модели на обучающей выборке: 0.824\n",
      "{}\n"
     ]
    }
   ],
   "source": [
    "params = {}\n",
    "select_params(params, GaussianNB(), features_train, target_train)"
   ]
  },
  {
   "cell_type": "markdown",
   "metadata": {
    "id": "ptosv8z-99s4"
   },
   "source": [
    "Проверим, возможно ли улучшить модель."
   ]
  },
  {
   "cell_type": "code",
   "execution_count": 43,
   "metadata": {
    "colab": {
     "base_uri": "https://localhost:8080/"
    },
    "id": "-LvrWH8kgLfc",
    "outputId": "8147330d-62d6-46f1-cca5-60b5292540fa"
   },
   "outputs": [
    {
     "name": "stdout",
     "output_type": "stream",
     "text": [
      "CPU times: user 907 ms, sys: 13.9 ms, total: 921 ms\n",
      "Wall time: 924 ms\n",
      "ROC-AUC лучшей модели на обучающей выборке: 0.83\n",
      "{'priors': [0.05, 0.95], 'var_smoothing': 0.2}\n"
     ]
    }
   ],
   "source": [
    "params = {'var_smoothing': [0.01, 0.05, 0.1, 0.15, 0.20], \n",
    "          'priors': [[0.05, 0.95], [0.15, 0.85], [0.25, 0.75], [0.4, 0.6]]}\n",
    "select_params(params, GaussianNB(), features_train, target_train)"
   ]
  },
  {
   "cell_type": "markdown",
   "metadata": {
    "id": "Z1UT8wwhfcB9"
   },
   "source": [
    "В общем, улучшения небольшие, но сохраним в таком виде."
   ]
  },
  {
   "cell_type": "code",
   "execution_count": 44,
   "metadata": {
    "id": "CaHsYYtkgb6u"
   },
   "outputs": [],
   "source": [
    "start= timer()\n",
    "model_bc = GaussianNB(var_smoothing=0.2, priors=[0.05, 0.95])\n",
    "model_bc.fit(features_train, target_train)\n",
    "end = timer()\n",
    "fit_time['GaussianNB'] = str((end-start)//60) + 'min ' + str(round((end-start)%60, 2)) + 's'"
   ]
  },
  {
   "cell_type": "markdown",
   "metadata": {
    "id": "c_IZcmXQgo8F"
   },
   "source": [
    "### Метод опорных векторов"
   ]
  },
  {
   "cell_type": "markdown",
   "metadata": {
    "id": "Z1Usp4UHfcB-"
   },
   "source": [
    "Применим для сегментации наших клиентов метод опорных векторов."
   ]
  },
  {
   "cell_type": "code",
   "execution_count": 45,
   "metadata": {
    "colab": {
     "base_uri": "https://localhost:8080/"
    },
    "id": "uXm5Mc5tgwIp",
    "outputId": "c2be6eec-0f39-423f-9bc0-212b198da367"
   },
   "outputs": [
    {
     "name": "stdout",
     "output_type": "stream",
     "text": [
      "CPU times: user 24.4 s, sys: 179 ms, total: 24.5 s\n",
      "Wall time: 24.4 s\n",
      "ROC-AUC лучшей модели на обучающей выборке: 0.799\n",
      "{}\n"
     ]
    }
   ],
   "source": [
    "params = {}\n",
    "select_params(params, SVC(random_state=12345, probability=True), features_train, target_train)"
   ]
  },
  {
   "cell_type": "markdown",
   "metadata": {
    "id": "tyRsthSMfcCB"
   },
   "source": [
    "Попробуем изменить некоторые гиперпараметры модели. Данные перекрываются, поэтому настроим степень размытости отступа, подобрав гиперпараметр С (должно быть небольшое значение). Судя по графикам в разделе анализа предоставленных данных (по крайней мере, числовая их часть), граница принятия решений может быть линейной. Но из-за большого количества категориальных признаков тип ядра тоже лучше подобрать."
   ]
  },
  {
   "cell_type": "code",
   "execution_count": 46,
   "metadata": {
    "colab": {
     "base_uri": "https://localhost:8080/"
    },
    "id": "AyFMNk5SgxZ_",
    "outputId": "5a672ba5-9d7a-465d-8bc0-7b58148b95de"
   },
   "outputs": [
    {
     "name": "stdout",
     "output_type": "stream",
     "text": [
      "CPU times: user 6min 7s, sys: 1.47 s, total: 6min 8s\n",
      "Wall time: 6min 6s\n",
      "ROC-AUC лучшей модели на обучающей выборке: 0.836\n",
      "{'C': 1.5, 'decision_function_shape': 'ovo', 'kernel': 'linear'}\n"
     ]
    }
   ],
   "source": [
    "params = {'C': [1.5, 1.75, 2, 2.25], 'kernel': ['linear', 'rbf', 'sigmoid'], \n",
    "          'decision_function_shape': ['ovo', 'ovr']}\n",
    "select_params(params, SVC(random_state=12345, probability=True), features_train, target_train)"
   ]
  },
  {
   "cell_type": "markdown",
   "metadata": {
    "id": "BT4gjc3pfcCC"
   },
   "source": [
    "С новыми гиперпараметрами качество улучшилось. Сохраним модель в таком виде."
   ]
  },
  {
   "cell_type": "code",
   "execution_count": 47,
   "metadata": {
    "id": "mHTbG66Ji1G6"
   },
   "outputs": [],
   "source": [
    "start= timer()\n",
    "model_sv = SVC(C=2, kernel='linear',  probability=True, decision_function_shape='ovo', random_state=12345)\n",
    "model_sv.fit(features_train, target_train)\n",
    "end = timer()\n",
    "fit_time['Support Vector Classification'] = str((end-start)//60) + 'min ' + str(round((end-start)%60, 2)) + 's'"
   ]
  },
  {
   "cell_type": "markdown",
   "metadata": {
    "id": "0wzggeLruX_i"
   },
   "source": [
    "### Градиентный бустинг"
   ]
  },
  {
   "cell_type": "markdown",
   "metadata": {
    "id": "vcr9VP16fcCD"
   },
   "source": [
    "Рассмотрим Light Gradient Boosted Machine (LightGBM). Поскольку в данном алгоритме есть встроенная возможность обработки категориальных признаков, то для обучения используем датафрейм без кодирования. Он сохранен в переменной features_train_0.\n",
    "Только изменим в нем тип данных на 'category'. Точно так же поступим и с тестовой выборкой (ее мы используем позже на этапе анализа эффективности моделей)."
   ]
  },
  {
   "cell_type": "code",
   "execution_count": 48,
   "metadata": {
    "id": "SUVvtb97yRit"
   },
   "outputs": [],
   "source": [
    "categ_list = list(features_train_0.select_dtypes(['object']).columns)"
   ]
  },
  {
   "cell_type": "code",
   "execution_count": 49,
   "metadata": {
    "id": "ljY3CYsdyKP-"
   },
   "outputs": [],
   "source": [
    "cat_feat = features_train_0[categ_list]\n",
    "for i in cat_feat:\n",
    "    features_train_0[i] = features_train_0[i].astype('category')\n",
    "\n",
    "cat_feat = features_test_0[categ_list]\n",
    "for i in cat_feat:\n",
    "    features_test_0[i] = features_test_0[i].astype('category')"
   ]
  },
  {
   "cell_type": "markdown",
   "metadata": {
    "id": "Zq3SbGzPfcCE"
   },
   "source": [
    "Запустим функцию подбора гиперпараметров без указания вариантов, чтобы посмотреть на результат базовой модели."
   ]
  },
  {
   "cell_type": "code",
   "execution_count": 50,
   "metadata": {
    "colab": {
     "base_uri": "https://localhost:8080/"
    },
    "id": "lGfaqANHyHhP",
    "outputId": "ce4e4fbe-2c89-456f-a81d-56644468013e"
   },
   "outputs": [
    {
     "name": "stdout",
     "output_type": "stream",
     "text": [
      "CPU times: user 2.1 s, sys: 103 ms, total: 2.21 s\n",
      "Wall time: 1.32 s\n",
      "ROC-AUC лучшей модели на обучающей выборке: 0.885\n",
      "{}\n"
     ]
    }
   ],
   "source": [
    "params = {}\n",
    "select_params(params, LGBMClassifier(random_state=12345), features_train_0, target_train)"
   ]
  },
  {
   "cell_type": "markdown",
   "metadata": {
    "id": "mmywHeo2fcCF"
   },
   "source": [
    "Пока это лучший результат из всех. Проверим, будет ли он выше, если подобрать гиперпараметры."
   ]
  },
  {
   "cell_type": "code",
   "execution_count": 51,
   "metadata": {
    "colab": {
     "base_uri": "https://localhost:8080/"
    },
    "id": "tE1fp10hzbRm",
    "outputId": "54f1d7ac-9ad2-4090-e962-6235687d306a"
   },
   "outputs": [
    {
     "name": "stdout",
     "output_type": "stream",
     "text": [
      "CPU times: user 1min 17s, sys: 3.25 s, total: 1min 20s\n",
      "Wall time: 47.6 s\n",
      "ROC-AUC лучшей модели на обучающей выборке: 0.888\n",
      "{'class_weight': 'balanced', 'learning_rate': 0.1, 'max_depth': 12, 'n_estimators': 100}\n"
     ]
    }
   ],
   "source": [
    "params = {'n_estimators': [70, 100], 'max_depth': [6, 8, 10, 12], 'class_weight': [None, 'balanced'],\n",
    "         'learning_rate': [0.1, 0.01, 0.001]}\n",
    "select_params(params, LGBMClassifier(random_state=12345), features_train_0, target_train)"
   ]
  },
  {
   "cell_type": "markdown",
   "metadata": {
    "id": "dhHXT5cVfcCG"
   },
   "source": [
    "Качество модели улучшилось ненамного. Сохраним модель с новыми парамтерами."
   ]
  },
  {
   "cell_type": "code",
   "execution_count": 52,
   "metadata": {
    "id": "9Uu6VQ0YsD_V"
   },
   "outputs": [],
   "source": [
    "start= timer()\n",
    "model_gb = LGBMClassifier(random_state=12345, class_weight='balanced', max_depth=12, n_estimators=100)\n",
    "model_gb.fit(features_train_0, target_train)\n",
    "end = timer()\n",
    "fit_time['LGBMClassifier'] = str((end-start)//60) + 'min ' + str(round((end-start)%60, 2)) + 's'"
   ]
  },
  {
   "cell_type": "markdown",
   "metadata": {
    "id": "0Ov4mzkbOU0L"
   },
   "source": [
    "### Метод ближайших соседей"
   ]
  },
  {
   "cell_type": "markdown",
   "metadata": {
    "id": "3HxI5WykObHj"
   },
   "source": [
    "Наконец, рассмотрим метод ближайших соседей. Сначала с гиперпараметрами по умолчанию."
   ]
  },
  {
   "cell_type": "code",
   "execution_count": 53,
   "metadata": {
    "colab": {
     "base_uri": "https://localhost:8080/"
    },
    "id": "bp-YsxX4-Qpt",
    "outputId": "a3a5690f-82c4-4828-e8ff-3ae4f416e51c"
   },
   "outputs": [
    {
     "name": "stdout",
     "output_type": "stream",
     "text": [
      "CPU times: user 574 ms, sys: 5.93 ms, total: 580 ms\n",
      "Wall time: 598 ms\n",
      "ROC-AUC лучшей модели на обучающей выборке: 0.769\n",
      "{}\n"
     ]
    }
   ],
   "source": [
    "params = {}\n",
    "select_params(params, KNeighborsClassifier(), features_train, target_train)"
   ]
  },
  {
   "cell_type": "markdown",
   "metadata": {
    "id": "tOxt_fYnOrva"
   },
   "source": [
    "Попробуем подобрать гиперпараметры."
   ]
  },
  {
   "cell_type": "code",
   "execution_count": 54,
   "metadata": {
    "colab": {
     "base_uri": "https://localhost:8080/"
    },
    "id": "_3Yt5CEg-Qjc",
    "outputId": "aa3e757f-371a-4599-ec28-b2a62619fcde"
   },
   "outputs": [
    {
     "name": "stdout",
     "output_type": "stream",
     "text": [
      "CPU times: user 22.1 s, sys: 3.96 s, total: 26.1 s\n",
      "Wall time: 21.3 s\n",
      "ROC-AUC лучшей модели на обучающей выборке: 0.826\n",
      "{'algorithm': 'auto', 'n_neighbors': 20, 'weights': 'uniform'}\n"
     ]
    }
   ],
   "source": [
    "params = {'n_neighbors': [5, 10, 15, 20], 'weights': ['uniform', 'distance'], \n",
    "          'algorithm': ['auto', 'ball_tree', 'kd_tree', 'brute']}\n",
    "select_params(params, KNeighborsClassifier(), features_train, target_train)"
   ]
  },
  {
   "cell_type": "markdown",
   "metadata": {
    "id": "ujpaOjtXO0YH"
   },
   "source": [
    "Эффективность модели повысилась, однако, это пока одна из самых слабых моделей. Сохраним в таком виде."
   ]
  },
  {
   "cell_type": "code",
   "execution_count": 55,
   "metadata": {
    "id": "fNIKDcFJMXhx"
   },
   "outputs": [],
   "source": [
    "start= timer()\n",
    "model_knn = KNeighborsClassifier(algorithm='ball_tree', n_neighbors=20, weights='uniform')\n",
    "model_knn.fit(features_train, target_train)\n",
    "end = timer()\n",
    "fit_time['KNeighbors Classifier'] = str((end-start)//60) + 'min ' + str(round((end-start)%60, 2)) + 's'"
   ]
  },
  {
   "cell_type": "markdown",
   "metadata": {
    "id": "MK-Htt_MraOV"
   },
   "source": [
    "### Нейросеть"
   ]
  },
  {
   "cell_type": "markdown",
   "metadata": {
    "id": "S5vubxHWraOW"
   },
   "source": [
    "Проверим, может ли несложная нейросеть показать результаты лучше, чем у предыдущих моделей. Здесь попробуем подобрать гиперпараметры без использования нашей функции select_params."
   ]
  },
  {
   "cell_type": "code",
   "execution_count": 56,
   "metadata": {
    "colab": {
     "base_uri": "https://localhost:8080/"
    },
    "id": "YGGz8NsPxQ11",
    "outputId": "b992d1d2-8445-479a-8862-4ea97920ab82"
   },
   "outputs": [
    {
     "name": "stdout",
     "output_type": "stream",
     "text": [
      "Epoch 1/5\n",
      "165/165 - 2s - loss: 0.4609 - auc: 0.8022 - val_loss: 0.4151 - val_auc: 0.8481\n",
      "Epoch 2/5\n",
      "165/165 - 0s - loss: 0.4347 - auc: 0.8293 - val_loss: 0.4147 - val_auc: 0.8498\n",
      "Epoch 3/5\n",
      "165/165 - 0s - loss: 0.4298 - auc: 0.8338 - val_loss: 0.4123 - val_auc: 0.8508\n",
      "Epoch 4/5\n",
      "165/165 - 0s - loss: 0.4286 - auc: 0.8349 - val_loss: 0.4131 - val_auc: 0.8508\n",
      "Epoch 5/5\n",
      "165/165 - 0s - loss: 0.4290 - auc: 0.8353 - val_loss: 0.4106 - val_auc: 0.8508\n",
      "Accuracy: 0.8128555176336746\n"
     ]
    }
   ],
   "source": [
    "optim = Adam(lr=0.01)\n",
    "\n",
    "model_nn = keras.models.Sequential()\n",
    "model_nn.add(keras.layers.Dense(units=32, input_dim=features_train.shape[1], \n",
    "                             activation='sigmoid')) \n",
    "model_nn.add(Dropout(0.25))\n",
    "model_nn.add(keras.layers.Dense(units=1, input_dim=features_train.shape[1], \n",
    "                             activation='sigmoid'))\n",
    "model_nn.compile(loss='binary_crossentropy', optimizer=optim, metrics=[tf.keras.metrics.AUC()])\n",
    "\n",
    "model_nn.fit(features_train, target_train, validation_data=(features_test, target_test), epochs=5, verbose=2)\n",
    "\n",
    "predictions = (model_nn.predict(features_test)).round(0)\n",
    "print(\"Accuracy:\", accuracy_score(target_test, predictions))"
   ]
  },
  {
   "cell_type": "markdown",
   "metadata": {
    "id": "duDAAW79raOX"
   },
   "source": [
    "Довольно простая нейросеть продемонстрирвала неплохие результаты, но градиентный бустинг не превзошла."
   ]
  },
  {
   "cell_type": "markdown",
   "metadata": {
    "id": "jxg94VQ9fcCG"
   },
   "source": [
    "### Вывод"
   ]
  },
  {
   "cell_type": "markdown",
   "metadata": {
    "id": "vbeejXkKfcCH"
   },
   "source": [
    "Из всех рассмотренных в разделе моделей лучшее качество продемонстрировал градиентный бустинг. На втором месте по эффективности случайный лес. Проверим наших лидеров на тестовой выборке и посмотрим, насколько сильно изменится итоговый результат."
   ]
  },
  {
   "cell_type": "markdown",
   "metadata": {
    "id": "c2vhDHz0_fhl"
   },
   "source": [
    "## Анализ моделей"
   ]
  },
  {
   "cell_type": "markdown",
   "metadata": {
    "id": "QG9J5WU1fcCH"
   },
   "source": [
    "Для оценки моделей используем сразу несколько метрик и создадим константную модель, где стратегия формирования предсказаний будет ориентирована на максимальное значение ROC-AUC."
   ]
  },
  {
   "cell_type": "code",
   "execution_count": 57,
   "metadata": {
    "colab": {
     "base_uri": "https://localhost:8080/"
    },
    "id": "Rfo4k46RAddx",
    "outputId": "33385943-287e-4df7-caac-3a209cc66adc"
   },
   "outputs": [
    {
     "name": "stdout",
     "output_type": "stream",
     "text": [
      "CPU times: user 95.1 ms, sys: 4.03 ms, total: 99.1 ms\n",
      "Wall time: 99.2 ms\n",
      "ROC-AUC лучшей модели на обучающей выборке: 0.502\n",
      "{'strategy': 'stratified'}\n"
     ]
    }
   ],
   "source": [
    "params = {'strategy': ['stratified', 'prior', 'most_frequent', 'uniform']}\n",
    "select_params(params, DummyClassifier(random_state=12345), features_train, target_train)"
   ]
  },
  {
   "cell_type": "markdown",
   "metadata": {
    "id": "WE7utkTBB-iB"
   },
   "source": [
    "Сохраним модель."
   ]
  },
  {
   "cell_type": "code",
   "execution_count": 58,
   "metadata": {
    "id": "H8mhpeJT_uyg"
   },
   "outputs": [],
   "source": [
    "start = timer()\n",
    "constant_model = DummyClassifier(random_state=12345, strategy='stratified')\n",
    "constant_model.fit(features_train, target_train)\n",
    "end = timer()\n",
    "fit_time['Dummy'] = str((end-start)//60) + 'min ' + str(round((end-start)%60, 2)) + 's'"
   ]
  },
  {
   "cell_type": "markdown",
   "metadata": {
    "id": "xZtfwprdfcCI"
   },
   "source": [
    "Теперь выведем таблицу с основными метриками всех моделей (кроме нейросети) и сравним их. Для этого напишем функцию, которая будет подсчитывать accuracy, recall, precision, f1-score, AUC, а также время, затраченное на обучение и прогнозирование. "
   ]
  },
  {
   "cell_type": "code",
   "execution_count": 59,
   "metadata": {
    "id": "I8-x4Xk8pSY1"
   },
   "outputs": [],
   "source": [
    "def compare_table(models, features, features0, target, time):\n",
    "    \"\"\"\n",
    "    Функция для построения таблицы с основными метриками моделей.\n",
    "    \n",
    "    models - словарь с моделями ({'name': model})\n",
    "    features - датафрейм с прогнозируюшими факторами, где категориальные признаки закодированы\n",
    "    features0 - датафрейм с прогнозируюшими факторами, где категориальные признаки без кодирования (для моделей градиентного бустинга, имеющих втроенные методы обработки подобных признаков)\n",
    "    target - целевой признак\n",
    "    time - словарь с временем обучения моделей ({'name': time})\n",
    "    \"\"\"       \n",
    "        \n",
    "    df = pd.DataFrame(columns=['models', 'accuracy', 'recall', 'precision', \n",
    "                               'f1-score', 'AUC', 'fit_time', 'predict_time'])\n",
    "    for name, model in models.items():\n",
    "        if name == 'LGBMClassifier':\n",
    "            start = timer()\n",
    "            prediction = model.predict(features0)\n",
    "            end = timer()\n",
    "        else:\n",
    "            start = timer()\n",
    "            prediction = model.predict(features)\n",
    "            end = timer()\n",
    "        pt = str((end-start)//60) + 'min ' + str(round((end-start)%60, 2)) + 's'\n",
    "        accur = accuracy_score(target, prediction).round(3)\n",
    "        rec = recall_score(target, prediction).round(3)\n",
    "        prec = precision_score(target, prediction).round(3)\n",
    "        f1 = f1_score(target, prediction).round(3)\n",
    "        if name == 'LGBMClassifier':\n",
    "            auc = roc_auc_score(target, model.predict_proba(features0)[:, 1]).round(3)\n",
    "        else:\n",
    "            auc = roc_auc_score(target, model.predict_proba(features)[:, 1]).round(3)\n",
    "        ft = time[name]\n",
    "        df = df.append({'models': name, 'accuracy': accur, 'recall': rec, \n",
    "                        'precision': prec, 'f1-score': f1, 'AUC': auc, 'fit_time': ft, \n",
    "                        'predict_time': pt}, ignore_index=True)\n",
    "    return df"
   ]
  },
  {
   "cell_type": "markdown",
   "metadata": {
    "id": "O-p_Ln9GfcCJ"
   },
   "source": [
    "Отдельно создадим для функции словарь с перечнем всех рассматриваемых моделей и их названиями."
   ]
  },
  {
   "cell_type": "code",
   "execution_count": 60,
   "metadata": {
    "id": "HVammhgiKK4p"
   },
   "outputs": [],
   "source": [
    "models_list = {'Decision Tree': model_dt, 'Random Forest': model_rf, \n",
    "               'Logistic Regression': model_lr, 'GaussianNB': model_bc,\n",
    "               'Support Vector Classification': model_sv, 'LGBMClassifier': model_gb, \n",
    "               'KNeighbors Classifier': model_knn, 'Dummy': constant_model}"
   ]
  },
  {
   "cell_type": "markdown",
   "metadata": {
    "id": "kzOGled3fcCK"
   },
   "source": [
    "Передадим функции словарь с моделями, тестовые наборы признаков и зафиксированное ранее время обучения."
   ]
  },
  {
   "cell_type": "code",
   "execution_count": 61,
   "metadata": {
    "colab": {
     "base_uri": "https://localhost:8080/",
     "height": 300
    },
    "id": "jEyMu9qaLlJZ",
    "outputId": "26372ccb-afea-4cb3-fdf9-1432807586a7"
   },
   "outputs": [
    {
     "data": {
      "text/html": [
       "<div>\n",
       "<style scoped>\n",
       "    .dataframe tbody tr th:only-of-type {\n",
       "        vertical-align: middle;\n",
       "    }\n",
       "\n",
       "    .dataframe tbody tr th {\n",
       "        vertical-align: top;\n",
       "    }\n",
       "\n",
       "    .dataframe thead th {\n",
       "        text-align: right;\n",
       "    }\n",
       "</style>\n",
       "<table border=\"1\" class=\"dataframe\">\n",
       "  <thead>\n",
       "    <tr style=\"text-align: right;\">\n",
       "      <th></th>\n",
       "      <th>models</th>\n",
       "      <th>accuracy</th>\n",
       "      <th>recall</th>\n",
       "      <th>precision</th>\n",
       "      <th>f1-score</th>\n",
       "      <th>AUC</th>\n",
       "      <th>fit_time</th>\n",
       "      <th>predict_time</th>\n",
       "    </tr>\n",
       "  </thead>\n",
       "  <tbody>\n",
       "    <tr>\n",
       "      <th>0</th>\n",
       "      <td>Decision Tree</td>\n",
       "      <td>0.733</td>\n",
       "      <td>0.827</td>\n",
       "      <td>0.499</td>\n",
       "      <td>0.622</td>\n",
       "      <td>0.847</td>\n",
       "      <td>0.0min 0.02s</td>\n",
       "      <td>0.0min 0.0s</td>\n",
       "    </tr>\n",
       "    <tr>\n",
       "      <th>1</th>\n",
       "      <td>Random Forest</td>\n",
       "      <td>0.776</td>\n",
       "      <td>0.801</td>\n",
       "      <td>0.555</td>\n",
       "      <td>0.656</td>\n",
       "      <td>0.863</td>\n",
       "      <td>0.0min 0.4s</td>\n",
       "      <td>0.0min 0.03s</td>\n",
       "    </tr>\n",
       "    <tr>\n",
       "      <th>2</th>\n",
       "      <td>Logistic Regression</td>\n",
       "      <td>0.817</td>\n",
       "      <td>0.572</td>\n",
       "      <td>0.688</td>\n",
       "      <td>0.625</td>\n",
       "      <td>0.852</td>\n",
       "      <td>0.0min 0.06s</td>\n",
       "      <td>0.0min 0.0s</td>\n",
       "    </tr>\n",
       "    <tr>\n",
       "      <th>3</th>\n",
       "      <td>GaussianNB</td>\n",
       "      <td>0.439</td>\n",
       "      <td>0.989</td>\n",
       "      <td>0.320</td>\n",
       "      <td>0.484</td>\n",
       "      <td>0.842</td>\n",
       "      <td>0.0min 0.01s</td>\n",
       "      <td>0.0min 0.0s</td>\n",
       "    </tr>\n",
       "    <tr>\n",
       "      <th>4</th>\n",
       "      <td>Support Vector Classification</td>\n",
       "      <td>0.815</td>\n",
       "      <td>0.582</td>\n",
       "      <td>0.675</td>\n",
       "      <td>0.625</td>\n",
       "      <td>0.846</td>\n",
       "      <td>0.0min 4.71s</td>\n",
       "      <td>0.0min 0.12s</td>\n",
       "    </tr>\n",
       "    <tr>\n",
       "      <th>5</th>\n",
       "      <td>LGBMClassifier</td>\n",
       "      <td>0.826</td>\n",
       "      <td>0.790</td>\n",
       "      <td>0.640</td>\n",
       "      <td>0.707</td>\n",
       "      <td>0.895</td>\n",
       "      <td>0.0min 0.2s</td>\n",
       "      <td>0.0min 0.04s</td>\n",
       "    </tr>\n",
       "    <tr>\n",
       "      <th>6</th>\n",
       "      <td>KNeighbors Classifier</td>\n",
       "      <td>0.798</td>\n",
       "      <td>0.544</td>\n",
       "      <td>0.641</td>\n",
       "      <td>0.589</td>\n",
       "      <td>0.833</td>\n",
       "      <td>0.0min 0.02s</td>\n",
       "      <td>0.0min 0.42s</td>\n",
       "    </tr>\n",
       "    <tr>\n",
       "      <th>7</th>\n",
       "      <td>Dummy</td>\n",
       "      <td>0.618</td>\n",
       "      <td>0.263</td>\n",
       "      <td>0.273</td>\n",
       "      <td>0.268</td>\n",
       "      <td>0.505</td>\n",
       "      <td>0.0min 0.0s</td>\n",
       "      <td>0.0min 0.0s</td>\n",
       "    </tr>\n",
       "  </tbody>\n",
       "</table>\n",
       "</div>"
      ],
      "text/plain": [
       "                          models  accuracy  recall  precision  f1-score  \\\n",
       "0                  Decision Tree     0.733   0.827      0.499     0.622   \n",
       "1                  Random Forest     0.776   0.801      0.555     0.656   \n",
       "2            Logistic Regression     0.817   0.572      0.688     0.625   \n",
       "3                     GaussianNB     0.439   0.989      0.320     0.484   \n",
       "4  Support Vector Classification     0.815   0.582      0.675     0.625   \n",
       "5                 LGBMClassifier     0.826   0.790      0.640     0.707   \n",
       "6          KNeighbors Classifier     0.798   0.544      0.641     0.589   \n",
       "7                          Dummy     0.618   0.263      0.273     0.268   \n",
       "\n",
       "     AUC      fit_time  predict_time  \n",
       "0  0.847  0.0min 0.02s   0.0min 0.0s  \n",
       "1  0.863   0.0min 0.4s  0.0min 0.03s  \n",
       "2  0.852  0.0min 0.06s   0.0min 0.0s  \n",
       "3  0.842  0.0min 0.01s   0.0min 0.0s  \n",
       "4  0.846  0.0min 4.71s  0.0min 0.12s  \n",
       "5  0.895   0.0min 0.2s  0.0min 0.04s  \n",
       "6  0.833  0.0min 0.02s  0.0min 0.42s  \n",
       "7  0.505   0.0min 0.0s   0.0min 0.0s  "
      ]
     },
     "metadata": {},
     "output_type": "display_data"
    }
   ],
   "source": [
    "display(compare_table(models_list, features_test, features_test_0, target_test, fit_time))"
   ]
  },
  {
   "cell_type": "markdown",
   "metadata": {
    "id": "tAK14QV58wpt"
   },
   "source": [
    "После проверки метрик на тестовой выборке лидеры рейтинга не поменялись: лучше всех классифицирует LightGBM, следом за ним Random Forest. \n",
    "\n",
    "Далее посмотрим, где именно наша модель градиентного бустинга ошиблась (тем более, в датасете существует дисбаланс классов). Для этого построим матрицу ошибок по тестовой выборке."
   ]
  },
  {
   "cell_type": "code",
   "execution_count": 62,
   "metadata": {
    "colab": {
     "base_uri": "https://localhost:8080/",
     "height": 289
    },
    "id": "-tlxFXZ252e_",
    "outputId": "928a1106-a2e4-472e-b0b6-5b4df8a50bf5"
   },
   "outputs": [
    {
     "data": {
      "image/png": "[encoded data removed]",
      "text/plain": [
       "<Figure size 432x288 with 2 Axes>"
      ]
     },
     "metadata": {
      "needs_background": "light"
     },
     "output_type": "display_data"
    }
   ],
   "source": [
    "fig = plt.figure()\n",
    "ax = fig.add_subplot(111)\n",
    "cm_ax = ax.matshow(confusion_matrix(target_test, model_gb.predict(features_test_0)))\n",
    "plt.title('Матрица ошибок, LightGBM Classifier')\n",
    "fig.colorbar(cm_ax)\n",
    "plt.xlabel('Predict')\n",
    "plt.ylabel('True')\n",
    "\n",
    "for i in range(len(confusion_matrix(target_test, model_gb.predict(features_test_0)))):\n",
    "    for j in range(len(confusion_matrix(target_test, model_gb.predict(features_test_0)))):\n",
    "        text = ax.text(j, i, confusion_matrix(target_test, model_gb.predict(features_test_0))[i, j],\n",
    "                       ha=\"center\", va=\"center\", color=\"r\")"
   ]
  },
  {
   "cell_type": "markdown",
   "metadata": {
    "id": "m4CYtWjm8Imt"
   },
   "source": [
    "Получилось довольно большое количество ложноположительных ответов. Это значит, что модель слишком часто ошибается в пользу менее распространенного \"беглого\" класса.\n",
    "\n",
    "Примерно о том же говорит и соотношение precision-recall. Precision меньше recall свидетельствует о том, что при применении данной модели для выделения беглецов мы \"зачерпнем\" большое количество клиентов, которые и не думали уходить."
   ]
  },
  {
   "cell_type": "markdown",
   "metadata": {
    "id": "ta7KLowzfcCM"
   },
   "source": [
    "Построим ROC-кривую и посмотрим, как решения нашей модели отклоняются от случайного классификатора (когда вероятность правильно определить класс составляет 50%)."
   ]
  },
  {
   "cell_type": "code",
   "execution_count": 63,
   "metadata": {
    "colab": {
     "base_uri": "https://localhost:8080/",
     "height": 295
    },
    "id": "Anf--NVAfcCM",
    "outputId": "760ae0a9-a792-4a51-bddf-7e1caad29017"
   },
   "outputs": [
    {
     "data": {
      "image/png": "[encoded data removed]",
      "text/plain": [
       "<Figure size 432x288 with 1 Axes>"
      ]
     },
     "metadata": {
      "needs_background": "light"
     },
     "output_type": "display_data"
    }
   ],
   "source": [
    "probabilities_test = model_gb.predict_proba(features_test_0)\n",
    "probabilities_one_test = probabilities_test[:, 1]\n",
    "fpr, tpr, thresholds = roc_curve(target_test, probabilities_one_test)\n",
    "plt.figure()\n",
    "plt.plot(fpr, tpr)\n",
    "plt.plot([0, 1], [0, 1], linestyle='--')\n",
    "plt.ylim([-0.02, 1.02])\n",
    "plt.xlim([-0.02, 1.02])\n",
    "plt.xlabel('False Positive Rate')\n",
    "plt.ylabel('True Positive Rate')\n",
    "plt.title('ROC-кривая')\n",
    "plt.grid(alpha=0.1, linestyle='--', linewidth=1)\n",
    "plt.show()"
   ]
  },
  {
   "cell_type": "markdown",
   "metadata": {
    "id": "GFA5uCSNfcCN"
   },
   "source": [
    "Результаты неплохие, но все же потолок явно не достигнут. \n",
    "\n",
    "Посмотрим, какие факторы для прогнозирования оттока внесли самый весомый вклад в результаты. Для этого выведем графики с признаками и отсортируем их по важности (для основных моделей).\n",
    "Создадим функцию для отрисовки графика и вставим ее в другую функцию для вывода значимости фичей."
   ]
  },
  {
   "cell_type": "code",
   "execution_count": 64,
   "metadata": {
    "id": "40xs4G0DPe1U"
   },
   "outputs": [],
   "source": [
    "def draw_plot(data, series1, series2, plot_title):\n",
    "    \"\"\"\n",
    "    Функция для построения столбчатой диаграммы.\n",
    "    \n",
    "    data - датафрейм с данными\n",
    "    series1 - столбец по оси х\n",
    "    series2 - столбец по оси y\n",
    "    plot_title - заголовок графика\n",
    "    \"\"\"           \n",
    "    plt.figure(figsize=(5,5))\n",
    "    ax = sns.barplot(x=series1, y=series2, data=data)\n",
    "    ax.set(title=plot_title)\n",
    "    ax.title.set_position([0.5, 1.01])\n",
    "    ax.grid(alpha=0.05, linestyle='--', linewidth=1)\n",
    "    plt.show()"
   ]
  },
  {
   "cell_type": "code",
   "execution_count": 65,
   "metadata": {
    "id": "PB8WmAzEPe1V"
   },
   "outputs": [],
   "source": [
    "def feat_importance_draw(models, features, features0):\n",
    "    \"\"\"\n",
    "    Функция для вывода графиков значимости прогнозирующих факторов. Не работает без функции draw_plot().\n",
    "    \n",
    "    models - словарь с моделями ({'name': model})\n",
    "    features - датафрейм с прогнозируюшими факторами, где категориальные признаки закодированы\n",
    "    features0 - датафрейм с прогнозируюшими факторами, где категориальные признаки без кодирования (для моделей градиентного бустинга, имеющих втроенные методы обработки подобных признаков)\n",
    "    \"\"\"           \n",
    "    errors = []\n",
    "    for name, model in models.items():\n",
    "        try:\n",
    "            if name == 'LGBMClassifier':\n",
    "                df = pd.DataFrame({'Features': features0.columns, 'Importance': model.feature_importances_}).sort_values(by='Importance', ascending=False)\n",
    "            elif name == 'Logistic Regression' or name == 'Support Vector Classification':\n",
    "                df = pd.DataFrame({'Features': features.columns, 'Importance': np.std(features)*model.coef_[0]}).sort_values(by='Importance', ascending=False)\n",
    "            else:\n",
    "                df = pd.DataFrame({'Features': features.columns, 'Importance': model.feature_importances_}).sort_values(by='Importance', ascending=False)  \n",
    "            \n",
    "            draw_plot(df, 'Importance', 'Features', name)\n",
    "            \n",
    "        except:\n",
    "            errors.append(name)\n",
    "            \n",
    "    return ('Модели ' + ', '.join(errors) + ' не имеют атрибутов feature_importances_ или coef_')"
   ]
  },
  {
   "cell_type": "markdown",
   "metadata": {
    "id": "bMt7TwbPPe1V"
   },
   "source": [
    "Теперь применим функцию к нашим данным и выведем графики."
   ]
  },
  {
   "cell_type": "code",
   "execution_count": 66,
   "metadata": {
    "colab": {
     "base_uri": "https://localhost:8080/",
     "height": 1000
    },
    "id": "EepDpXq8Pe1V",
    "outputId": "70009022-302f-4622-bad3-3e9d705e3dfa"
   },
   "outputs": [
    {
     "data": {
      "image/png": "[encoded data removed]",
      "text/plain": [
       "<Figure size 360x360 with 1 Axes>"
      ]
     },
     "metadata": {
      "needs_background": "light"
     },
     "output_type": "display_data"
    },
    {
     "data": {
      "image/png": "[encoded data removed]",
      "text/plain": [
       "<Figure size 360x360 with 1 Axes>"
      ]
     },
     "metadata": {
      "needs_background": "light"
     },
     "output_type": "display_data"
    },
    {
     "data": {
      "image/png": "[encoded data removed]",
      "text/plain": [
       "<Figure size 360x360 with 1 Axes>"
      ]
     },
     "metadata": {
      "needs_background": "light"
     },
     "output_type": "display_data"
    },
    {
     "data": {
      "image/png": "[encoded data removed]",
      "text/plain": [
       "<Figure size 360x360 with 1 Axes>"
      ]
     },
     "metadata": {
      "needs_background": "light"
     },
     "output_type": "display_data"
    },
    {
     "data": {
      "image/png": "[encoded data removed]",
      "text/plain": [
       "<Figure size 360x360 with 1 Axes>"
      ]
     },
     "metadata": {
      "needs_background": "light"
     },
     "output_type": "display_data"
    },
    {
     "data": {
      "application/vnd.google.colaboratory.intrinsic+json": {
       "type": "string"
      },
      "text/plain": [
       "'Модели GaussianNB, KNeighbors Classifier, Dummy не имеют атрибутов feature_importances_ или coef_'"
      ]
     },
     "metadata": {},
     "output_type": "display_data"
    }
   ],
   "source": [
    "display(feat_importance_draw(models_list, features_test, features_test_0))"
   ]
  },
  {
   "cell_type": "markdown",
   "metadata": {
    "id": "Ns8aixUyPe1V"
   },
   "source": [
    "Интересно, что для моделей, основанных на дереве или ансамбле деревьев, самыми значимыми факторами оказались Type, Lifetime, MonthlyCharges, InternetService. Для логистической регрессии и метода опорных векторов эти признаки тоже среди лидеров, однако там также ощутимо важны стриминговые сервисы (Movies и TV). Причем с последними корреляция положительная, возможно, это связано с дороговизной этих сервисов."
   ]
  },
  {
   "cell_type": "markdown",
   "metadata": {
    "id": "e2fup8Z7fcCN"
   },
   "source": [
    "### Вывод"
   ]
  },
  {
   "cell_type": "markdown",
   "metadata": {
    "id": "_3echYw6fcCN"
   },
   "source": [
    "По сравнению с Dummy все модели показали более высокий результат. Однако, лучшие прогнозы выдал LightGBM. На втором месте по разделению классов случайный лес. Наиболее значимыми для прогнозирования оказались признаки Type, Lifetime, MonthlyCharges и InternetService. Результат полностью совпал с итогами анализа корреляций выше."
   ]
  },
  {
   "cell_type": "markdown",
   "metadata": {
    "id": "AjbsBIXufcCO"
   },
   "source": [
    "## Общий вывод"
   ]
  },
  {
   "cell_type": "markdown",
   "metadata": {
    "id": "ljQJm8OlfcCO"
   },
   "source": [
    "При анализе данных о характеристиках клиентов обнаружены зависимости между фактом расторжения договора, длительностью использования услуг и производимыми платежами.\n",
    "\n",
    "На основании предоставленных датафреймов обучен ряд моделей бинарной классификации. По качеству эффективнее всего оказались ансамблевые решения. Лучший итог показал взвешенный LightGBM (ROC-AUC с кросс-валидацией 0.884, на тестовой 0.895). Значение метрики ROC-AUC сопоставлено с значением Dummy-модели (0.505). В целом, ошибки всех моделей, рассмотренных в работе, оказались существенно меньше ошибки Dummy-модели, что говорит о более достоверных предсказаниях.\n",
    "\n",
    "Необходимо отметить, что recall модели больше precision (0.790 и 0.640 соответственно). Это означает, что при прогнозировании модель чаще будет ошибаться в сторону положительного класса (churn=1, клиент ушел). Скорее всего, здесь необходимо исходить из задачи, насколько нам важно диагностировать потенциальных беглецов, и для удержания какого количества людей есть ресурсы. Или же нам целесообразнее сосредоточиться только на узком сегменте, который вероятнее уйдет. \n",
    "\n",
    "Для дальнейшего улучшения качества прогнозирования имеет смысл рассмотреть и другие важные факторы (например, объем предоставляемых услуг - количество минут, смс или гб трафика в пакете), влияющие на принятие решения абонентом о прекращении сотрудничества с оператором."
   ]
  },
  {
   "cell_type": "code",
   "execution_count": 66,
   "metadata": {
    "id": "ivO0q2elPe1X"
   },
   "outputs": [],
   "source": []
  }
 ],
 "metadata": {
  "ExecuteTimeLog": [
   {
    "duration": 1241,
    "start_time": "2021-09-27T13:22:23.854Z"
   },
   {
    "duration": 91,
    "start_time": "2021-09-27T13:22:51.837Z"
   },
   {
    "duration": 3,
    "start_time": "2021-09-27T13:23:13.717Z"
   },
   {
    "duration": 95,
    "start_time": "2021-09-27T13:23:13.926Z"
   },
   {
    "duration": 2,
    "start_time": "2021-09-27T13:23:14.653Z"
   },
   {
    "duration": 84,
    "start_time": "2021-09-27T13:23:14.851Z"
   },
   {
    "duration": 11,
    "start_time": "2021-09-27T13:23:15.598Z"
   },
   {
    "duration": 38,
    "start_time": "2021-09-27T13:23:16.138Z"
   },
   {
    "duration": 10,
    "start_time": "2021-09-27T13:23:16.534Z"
   },
   {
    "duration": 7,
    "start_time": "2021-09-27T13:23:17.375Z"
   },
   {
    "duration": 11,
    "start_time": "2021-09-27T13:23:17.720Z"
   },
   {
    "duration": 33,
    "start_time": "2021-09-27T13:23:18.025Z"
   },
   {
    "duration": 7,
    "start_time": "2021-09-27T13:23:18.336Z"
   },
   {
    "duration": 5,
    "start_time": "2021-09-27T13:23:18.650Z"
   },
   {
    "duration": 14,
    "start_time": "2021-09-27T13:23:18.980Z"
   },
   {
    "duration": 20,
    "start_time": "2021-09-27T13:23:19.310Z"
   },
   {
    "duration": 4,
    "start_time": "2021-09-27T13:23:20.004Z"
   },
   {
    "duration": 16,
    "start_time": "2021-09-27T13:23:20.406Z"
   },
   {
    "duration": 24,
    "start_time": "2021-09-27T13:56:43.535Z"
   },
   {
    "duration": 1025,
    "start_time": "2021-09-27T13:56:48.118Z"
   },
   {
    "duration": 6,
    "start_time": "2021-09-27T13:56:49.261Z"
   },
   {
    "duration": 1228,
    "start_time": "2021-09-27T13:56:49.407Z"
   },
   {
    "duration": 882,
    "start_time": "2021-09-27T13:56:50.637Z"
   },
   {
    "duration": 36,
    "start_time": "2021-09-27T13:56:51.522Z"
   },
   {
    "duration": 5,
    "start_time": "2021-09-27T13:56:51.732Z"
   },
   {
    "duration": 11,
    "start_time": "2021-09-27T13:56:52.231Z"
   },
   {
    "duration": 56,
    "start_time": "2021-09-27T13:56:52.763Z"
   },
   {
    "duration": 35,
    "start_time": "2021-09-27T13:56:53.796Z"
   },
   {
    "duration": 4,
    "start_time": "2021-09-27T13:57:47.337Z"
   },
   {
    "duration": 3,
    "start_time": "2021-09-27T13:57:49.981Z"
   },
   {
    "duration": 91,
    "start_time": "2021-09-27T13:57:53.853Z"
   },
   {
    "duration": 857,
    "start_time": "2021-09-27T13:57:55.453Z"
   },
   {
    "duration": 188,
    "start_time": "2021-09-27T13:58:35.376Z"
   },
   {
    "duration": 726,
    "start_time": "2021-09-27T13:58:36.607Z"
   },
   {
    "duration": 313,
    "start_time": "2021-09-27T13:58:40.561Z"
   },
   {
    "duration": 550,
    "start_time": "2021-09-27T13:58:43.736Z"
   },
   {
    "duration": 796,
    "start_time": "2021-09-27T13:58:45.132Z"
   },
   {
    "duration": -844,
    "start_time": "2021-09-27T13:58:46.774Z"
   },
   {
    "duration": 33,
    "start_time": "2021-09-27T13:58:47.133Z"
   },
   {
    "duration": 412,
    "start_time": "2021-09-27T13:58:47.476Z"
   },
   {
    "duration": 8,
    "start_time": "2021-09-27T13:58:48.231Z"
   },
   {
    "duration": 8342,
    "start_time": "2021-09-27T13:58:49.170Z"
   },
   {
    "duration": 128015,
    "start_time": "2021-09-27T13:58:57.515Z"
   },
   {
    "duration": 4147,
    "start_time": "2021-09-27T14:01:05.532Z"
   },
   {
    "duration": 8,
    "start_time": "2021-09-27T14:01:09.681Z"
   },
   {
    "duration": 34,
    "start_time": "2021-09-27T14:01:09.691Z"
   },
   {
    "duration": 5562,
    "start_time": "2021-09-27T14:01:09.727Z"
   },
   {
    "duration": 855,
    "start_time": "2021-09-27T14:01:15.291Z"
   },
   {
    "duration": -895,
    "start_time": "2021-09-27T14:01:17.043Z"
   },
   {
    "duration": -903,
    "start_time": "2021-09-27T14:01:17.052Z"
   },
   {
    "duration": -911,
    "start_time": "2021-09-27T14:01:17.061Z"
   },
   {
    "duration": -916,
    "start_time": "2021-09-27T14:01:17.067Z"
   },
   {
    "duration": -923,
    "start_time": "2021-09-27T14:01:17.075Z"
   },
   {
    "duration": -929,
    "start_time": "2021-09-27T14:01:17.082Z"
   },
   {
    "duration": -1341,
    "start_time": "2021-09-27T14:01:17.495Z"
   },
   {
    "duration": -1347,
    "start_time": "2021-09-27T14:01:17.502Z"
   },
   {
    "duration": -1355,
    "start_time": "2021-09-27T14:01:17.511Z"
   },
   {
    "duration": -1362,
    "start_time": "2021-09-27T14:01:17.519Z"
   },
   {
    "duration": -1369,
    "start_time": "2021-09-27T14:01:17.527Z"
   },
   {
    "duration": -1684,
    "start_time": "2021-09-27T14:01:17.843Z"
   },
   {
    "duration": 609,
    "start_time": "2021-09-27T14:03:06.565Z"
   },
   {
    "duration": 273,
    "start_time": "2021-09-27T14:03:11.166Z"
   },
   {
    "duration": 6025,
    "start_time": "2021-09-27T16:43:26.922Z"
   },
   {
    "duration": 113,
    "start_time": "2021-09-27T16:43:32.949Z"
   },
   {
    "duration": 5,
    "start_time": "2021-09-27T16:43:33.065Z"
   },
   {
    "duration": 165,
    "start_time": "2021-09-27T16:43:33.073Z"
   },
   {
    "duration": 4,
    "start_time": "2021-09-27T16:43:33.241Z"
   },
   {
    "duration": 168,
    "start_time": "2021-09-27T16:43:33.248Z"
   },
   {
    "duration": 16,
    "start_time": "2021-09-27T16:43:33.418Z"
   },
   {
    "duration": 77,
    "start_time": "2021-09-27T16:43:33.439Z"
   },
   {
    "duration": 13,
    "start_time": "2021-09-27T16:43:33.519Z"
   },
   {
    "duration": 8,
    "start_time": "2021-09-27T16:43:33.535Z"
   },
   {
    "duration": 15,
    "start_time": "2021-09-27T16:43:33.545Z"
   },
   {
    "duration": 71,
    "start_time": "2021-09-27T16:43:33.563Z"
   },
   {
    "duration": 8,
    "start_time": "2021-09-27T16:43:33.636Z"
   },
   {
    "duration": 6,
    "start_time": "2021-09-27T16:43:33.647Z"
   },
   {
    "duration": 19,
    "start_time": "2021-09-27T16:43:33.655Z"
   },
   {
    "duration": 28,
    "start_time": "2021-09-27T16:43:33.676Z"
   },
   {
    "duration": 6,
    "start_time": "2021-09-27T16:43:33.717Z"
   },
   {
    "duration": 28,
    "start_time": "2021-09-27T16:43:33.725Z"
   },
   {
    "duration": 38,
    "start_time": "2021-09-27T16:43:33.755Z"
   },
   {
    "duration": 2150,
    "start_time": "2021-09-27T16:43:33.796Z"
   },
   {
    "duration": 6,
    "start_time": "2021-09-27T16:43:35.948Z"
   },
   {
    "duration": 1699,
    "start_time": "2021-09-27T16:43:35.957Z"
   },
   {
    "duration": 1080,
    "start_time": "2021-09-27T16:43:37.661Z"
   },
   {
    "duration": 69,
    "start_time": "2021-09-27T16:43:38.747Z"
   },
   {
    "duration": 8,
    "start_time": "2021-09-27T16:43:38.818Z"
   },
   {
    "duration": 19,
    "start_time": "2021-09-27T16:43:38.829Z"
   },
   {
    "duration": 131,
    "start_time": "2021-09-27T16:43:38.851Z"
   },
   {
    "duration": 65,
    "start_time": "2021-09-27T16:43:38.985Z"
   },
   {
    "duration": 6,
    "start_time": "2021-09-27T16:43:39.052Z"
   },
   {
    "duration": 6,
    "start_time": "2021-09-27T16:43:39.060Z"
   },
   {
    "duration": 147,
    "start_time": "2021-09-27T16:43:39.069Z"
   },
   {
    "duration": 100492,
    "start_time": "2021-09-27T16:43:39.218Z"
   },
   {
    "duration": 27,
    "start_time": "2021-09-27T16:45:19.712Z"
   },
   {
    "duration": 304,
    "start_time": "2021-09-27T16:45:19.741Z"
   },
   {
    "duration": 30591,
    "start_time": "2021-09-27T16:45:20.047Z"
   },
   {
    "duration": 476,
    "start_time": "2021-09-27T16:45:50.640Z"
   },
   {
    "duration": 620,
    "start_time": "2021-09-27T16:45:51.118Z"
   },
   {
    "duration": 1684,
    "start_time": "2021-09-27T16:45:51.741Z"
   },
   {
    "duration": 1009,
    "start_time": "2021-09-27T16:45:52.419Z"
   },
   {
    "duration": 1010,
    "start_time": "2021-09-27T16:45:52.419Z"
   },
   {
    "duration": 1010,
    "start_time": "2021-09-27T16:45:52.421Z"
   },
   {
    "duration": 1011,
    "start_time": "2021-09-27T16:45:52.421Z"
   },
   {
    "duration": 1011,
    "start_time": "2021-09-27T16:45:52.423Z"
   },
   {
    "duration": 1011,
    "start_time": "2021-09-27T16:45:52.424Z"
   },
   {
    "duration": 1011,
    "start_time": "2021-09-27T16:45:52.426Z"
   },
   {
    "duration": 1012,
    "start_time": "2021-09-27T16:45:52.426Z"
   },
   {
    "duration": 1011,
    "start_time": "2021-09-27T16:45:52.428Z"
   },
   {
    "duration": 1012,
    "start_time": "2021-09-27T16:45:52.428Z"
   },
   {
    "duration": 1012,
    "start_time": "2021-09-27T16:45:52.430Z"
   },
   {
    "duration": 965,
    "start_time": "2021-09-27T16:45:52.478Z"
   },
   {
    "duration": 964,
    "start_time": "2021-09-27T16:45:52.480Z"
   },
   {
    "duration": 966,
    "start_time": "2021-09-27T16:45:52.480Z"
   },
   {
    "duration": 967,
    "start_time": "2021-09-27T16:45:52.482Z"
   },
   {
    "duration": 967,
    "start_time": "2021-09-27T16:45:52.484Z"
   },
   {
    "duration": 960,
    "start_time": "2021-09-27T16:45:52.494Z"
   },
   {
    "duration": 961,
    "start_time": "2021-09-27T16:45:52.495Z"
   },
   {
    "duration": 963,
    "start_time": "2021-09-27T16:45:52.496Z"
   },
   {
    "duration": 964,
    "start_time": "2021-09-27T16:45:52.497Z"
   },
   {
    "duration": 1017,
    "start_time": "2021-09-27T16:45:52.498Z"
   },
   {
    "duration": 1019,
    "start_time": "2021-09-27T16:45:52.499Z"
   },
   {
    "duration": 1014,
    "start_time": "2021-09-27T16:45:52.506Z"
   },
   {
    "duration": 1306,
    "start_time": "2021-09-27T16:46:58.598Z"
   },
   {
    "duration": 2375,
    "start_time": "2021-09-27T16:47:18.827Z"
   },
   {
    "duration": 3899,
    "start_time": "2021-09-27T16:47:38.842Z"
   },
   {
    "duration": 3846,
    "start_time": "2021-09-27T16:48:26.692Z"
   },
   {
    "duration": 5431,
    "start_time": "2021-09-27T16:48:46.249Z"
   },
   {
    "duration": 77,
    "start_time": "2021-09-27T16:55:05.016Z"
   },
   {
    "duration": 53,
    "start_time": "2021-09-27T16:55:09.572Z"
   },
   {
    "duration": 632,
    "start_time": "2021-09-27T16:55:12.588Z"
   },
   {
    "duration": 10,
    "start_time": "2021-09-27T16:55:35.443Z"
   },
   {
    "duration": 12762,
    "start_time": "2021-09-27T16:55:38.905Z"
   },
   {
    "duration": 187699,
    "start_time": "2021-09-27T16:55:58.248Z"
   },
   {
    "duration": 6980,
    "start_time": "2021-09-27T17:02:23.584Z"
   },
   {
    "duration": 12,
    "start_time": "2021-09-27T17:02:39.403Z"
   },
   {
    "duration": 52,
    "start_time": "2021-09-27T17:02:40.483Z"
   },
   {
    "duration": 6367,
    "start_time": "2021-09-27T17:02:42.049Z"
   },
   {
    "duration": 54805,
    "start_time": "2021-09-27T17:02:52.524Z"
   },
   {
    "duration": 1429,
    "start_time": "2021-09-27T17:04:00.191Z"
   },
   {
    "duration": 456,
    "start_time": "2021-09-27T17:04:10.529Z"
   },
   {
    "duration": 21602,
    "start_time": "2021-09-27T17:04:13.456Z"
   },
   {
    "duration": 7,
    "start_time": "2021-09-27T17:04:38.006Z"
   },
   {
    "duration": 6162,
    "start_time": "2021-09-27T17:04:41.098Z"
   },
   {
    "duration": 1900,
    "start_time": "2021-09-27T17:05:01.342Z"
   },
   {
    "duration": 46,
    "start_time": "2021-09-27T17:06:59.030Z"
   },
   {
    "duration": 47,
    "start_time": "2021-09-27T17:07:06.527Z"
   },
   {
    "duration": 62,
    "start_time": "2021-09-27T17:07:25.826Z"
   },
   {
    "duration": 77,
    "start_time": "2021-09-27T17:07:48.004Z"
   },
   {
    "duration": 1236,
    "start_time": "2021-09-27T17:08:10.926Z"
   },
   {
    "duration": 101,
    "start_time": "2021-09-27T17:08:23.761Z"
   },
   {
    "duration": 85,
    "start_time": "2021-09-27T17:08:27.921Z"
   },
   {
    "duration": 6,
    "start_time": "2021-09-27T17:08:33.870Z"
   },
   {
    "duration": 10,
    "start_time": "2021-09-27T17:08:36.019Z"
   },
   {
    "duration": 4,
    "start_time": "2021-09-27T17:08:38.320Z"
   },
   {
    "duration": 1939,
    "start_time": "2021-09-27T17:08:39.618Z"
   },
   {
    "duration": 913,
    "start_time": "2021-09-27T17:09:15.292Z"
   },
   {
    "duration": 354,
    "start_time": "2021-09-27T17:09:18.315Z"
   },
   {
    "duration": 413,
    "start_time": "2021-09-27T17:18:57.146Z"
   },
   {
    "duration": 7,
    "start_time": "2021-09-27T17:19:06.874Z"
   },
   {
    "duration": 5,
    "start_time": "2021-09-27T17:19:21.832Z"
   },
   {
    "duration": 429,
    "start_time": "2021-09-27T17:20:42.657Z"
   },
   {
    "duration": 445,
    "start_time": "2021-09-27T17:20:50.563Z"
   },
   {
    "duration": 10,
    "start_time": "2021-09-27T17:21:08.441Z"
   },
   {
    "duration": 1393,
    "start_time": "2021-09-27T17:27:59.930Z"
   },
   {
    "duration": 4,
    "start_time": "2021-09-27T17:28:10.780Z"
   },
   {
    "duration": 1673,
    "start_time": "2021-09-27T17:28:12.287Z"
   },
   {
    "duration": 226477,
    "start_time": "2021-09-27T17:31:43.340Z"
   },
   {
    "duration": 1684,
    "start_time": "2021-09-27T17:38:24.741Z"
   },
   {
    "duration": 5,
    "start_time": "2021-09-27T17:38:41.656Z"
   },
   {
    "duration": 1783,
    "start_time": "2021-09-27T17:38:42.673Z"
   },
   {
    "duration": 5727,
    "start_time": "2021-09-27T17:42:06.588Z"
   },
   {
    "duration": 117,
    "start_time": "2021-09-27T17:42:12.318Z"
   },
   {
    "duration": 4,
    "start_time": "2021-09-27T17:42:12.438Z"
   },
   {
    "duration": 175,
    "start_time": "2021-09-27T17:42:12.444Z"
   },
   {
    "duration": 3,
    "start_time": "2021-09-27T17:42:12.621Z"
   },
   {
    "duration": 160,
    "start_time": "2021-09-27T17:42:12.626Z"
   },
   {
    "duration": 15,
    "start_time": "2021-09-27T17:42:12.789Z"
   },
   {
    "duration": 55,
    "start_time": "2021-09-27T17:42:12.816Z"
   },
   {
    "duration": 14,
    "start_time": "2021-09-27T17:42:12.875Z"
   },
   {
    "duration": 7,
    "start_time": "2021-09-27T17:42:12.916Z"
   },
   {
    "duration": 16,
    "start_time": "2021-09-27T17:42:12.925Z"
   },
   {
    "duration": 76,
    "start_time": "2021-09-27T17:42:12.943Z"
   },
   {
    "duration": 9,
    "start_time": "2021-09-27T17:42:13.022Z"
   },
   {
    "duration": 9,
    "start_time": "2021-09-27T17:42:13.033Z"
   },
   {
    "duration": 22,
    "start_time": "2021-09-27T17:42:13.044Z"
   },
   {
    "duration": 64,
    "start_time": "2021-09-27T17:42:13.069Z"
   },
   {
    "duration": 6,
    "start_time": "2021-09-27T17:42:13.136Z"
   },
   {
    "duration": 28,
    "start_time": "2021-09-27T17:42:13.145Z"
   },
   {
    "duration": 62,
    "start_time": "2021-09-27T17:42:13.175Z"
   },
   {
    "duration": 1706,
    "start_time": "2021-09-27T17:42:13.239Z"
   },
   {
    "duration": 7,
    "start_time": "2021-09-27T17:42:14.947Z"
   },
   {
    "duration": 1653,
    "start_time": "2021-09-27T17:42:14.956Z"
   },
   {
    "duration": 824,
    "start_time": "2021-09-27T17:42:16.615Z"
   },
   {
    "duration": 52,
    "start_time": "2021-09-27T17:42:17.443Z"
   },
   {
    "duration": 7,
    "start_time": "2021-09-27T17:42:17.516Z"
   },
   {
    "duration": 20,
    "start_time": "2021-09-27T17:42:17.526Z"
   },
   {
    "duration": 124,
    "start_time": "2021-09-27T17:42:17.549Z"
   },
   {
    "duration": 964,
    "start_time": "2021-09-27T17:42:17.676Z"
   },
   {
    "duration": 1001,
    "start_time": "2021-09-27T17:42:17.643Z"
   },
   {
    "duration": 1002,
    "start_time": "2021-09-27T17:42:17.644Z"
   },
   {
    "duration": 1003,
    "start_time": "2021-09-27T17:42:17.645Z"
   },
   {
    "duration": 1004,
    "start_time": "2021-09-27T17:42:17.646Z"
   },
   {
    "duration": 1005,
    "start_time": "2021-09-27T17:42:17.647Z"
   },
   {
    "duration": 1006,
    "start_time": "2021-09-27T17:42:17.648Z"
   },
   {
    "duration": 1007,
    "start_time": "2021-09-27T17:42:17.649Z"
   },
   {
    "duration": 1007,
    "start_time": "2021-09-27T17:42:17.651Z"
   },
   {
    "duration": 1008,
    "start_time": "2021-09-27T17:42:17.652Z"
   },
   {
    "duration": 1006,
    "start_time": "2021-09-27T17:42:17.656Z"
   },
   {
    "duration": 1006,
    "start_time": "2021-09-27T17:42:17.658Z"
   },
   {
    "duration": 1007,
    "start_time": "2021-09-27T17:42:17.660Z"
   },
   {
    "duration": 988,
    "start_time": "2021-09-27T17:42:17.681Z"
   },
   {
    "duration": 988,
    "start_time": "2021-09-27T17:42:17.683Z"
   },
   {
    "duration": 982,
    "start_time": "2021-09-27T17:42:17.691Z"
   },
   {
    "duration": 983,
    "start_time": "2021-09-27T17:42:17.692Z"
   },
   {
    "duration": 981,
    "start_time": "2021-09-27T17:42:17.697Z"
   },
   {
    "duration": 1018,
    "start_time": "2021-09-27T17:42:17.698Z"
   },
   {
    "duration": 1017,
    "start_time": "2021-09-27T17:42:17.701Z"
   },
   {
    "duration": 1019,
    "start_time": "2021-09-27T17:42:17.702Z"
   },
   {
    "duration": 1015,
    "start_time": "2021-09-27T17:42:17.708Z"
   },
   {
    "duration": 1015,
    "start_time": "2021-09-27T17:42:17.710Z"
   },
   {
    "duration": 1015,
    "start_time": "2021-09-27T17:42:17.712Z"
   },
   {
    "duration": 1014,
    "start_time": "2021-09-27T17:42:17.715Z"
   },
   {
    "duration": 1007,
    "start_time": "2021-09-27T17:42:17.725Z"
   },
   {
    "duration": 931,
    "start_time": "2021-09-27T17:42:17.803Z"
   },
   {
    "duration": 929,
    "start_time": "2021-09-27T17:42:17.807Z"
   },
   {
    "duration": 929,
    "start_time": "2021-09-27T17:42:17.809Z"
   },
   {
    "duration": 931,
    "start_time": "2021-09-27T17:42:17.810Z"
   },
   {
    "duration": 932,
    "start_time": "2021-09-27T17:42:17.811Z"
   },
   {
    "duration": 933,
    "start_time": "2021-09-27T17:42:17.812Z"
   },
   {
    "duration": 934,
    "start_time": "2021-09-27T17:42:17.814Z"
   },
   {
    "duration": 936,
    "start_time": "2021-09-27T17:42:17.815Z"
   },
   {
    "duration": 937,
    "start_time": "2021-09-27T17:42:17.816Z"
   },
   {
    "duration": 999,
    "start_time": "2021-09-27T17:42:17.817Z"
   },
   {
    "duration": 1001,
    "start_time": "2021-09-27T17:42:17.818Z"
   },
   {
    "duration": 51,
    "start_time": "2021-09-27T17:56:40.708Z"
   },
   {
    "duration": 6608,
    "start_time": "2021-09-27T17:56:57.148Z"
   },
   {
    "duration": 119,
    "start_time": "2021-09-27T17:57:03.759Z"
   },
   {
    "duration": 4,
    "start_time": "2021-09-27T17:57:03.880Z"
   },
   {
    "duration": 210,
    "start_time": "2021-09-27T17:57:03.887Z"
   },
   {
    "duration": 17,
    "start_time": "2021-09-27T17:57:04.100Z"
   },
   {
    "duration": 173,
    "start_time": "2021-09-27T17:57:04.120Z"
   },
   {
    "duration": 21,
    "start_time": "2021-09-27T17:57:04.296Z"
   },
   {
    "duration": 56,
    "start_time": "2021-09-27T17:57:04.322Z"
   },
   {
    "duration": 34,
    "start_time": "2021-09-27T17:57:04.382Z"
   },
   {
    "duration": 7,
    "start_time": "2021-09-27T17:57:04.419Z"
   },
   {
    "duration": 15,
    "start_time": "2021-09-27T17:57:04.429Z"
   },
   {
    "duration": 89,
    "start_time": "2021-09-27T17:57:04.446Z"
   },
   {
    "duration": 9,
    "start_time": "2021-09-27T17:57:04.539Z"
   },
   {
    "duration": 11,
    "start_time": "2021-09-27T17:57:04.552Z"
   },
   {
    "duration": 21,
    "start_time": "2021-09-27T17:57:04.565Z"
   },
   {
    "duration": 29,
    "start_time": "2021-09-27T17:57:04.621Z"
   },
   {
    "duration": 8,
    "start_time": "2021-09-27T17:57:04.654Z"
   },
   {
    "duration": 54,
    "start_time": "2021-09-27T17:57:04.665Z"
   },
   {
    "duration": 39,
    "start_time": "2021-09-27T17:57:04.721Z"
   },
   {
    "duration": 1933,
    "start_time": "2021-09-27T17:57:04.763Z"
   },
   {
    "duration": 18,
    "start_time": "2021-09-27T17:57:06.698Z"
   },
   {
    "duration": 1501,
    "start_time": "2021-09-27T17:57:06.719Z"
   },
   {
    "duration": 813,
    "start_time": "2021-09-27T17:57:08.226Z"
   },
   {
    "duration": 53,
    "start_time": "2021-09-27T17:57:09.043Z"
   },
   {
    "duration": 20,
    "start_time": "2021-09-27T17:57:09.098Z"
   },
   {
    "duration": 19,
    "start_time": "2021-09-27T17:57:09.120Z"
   },
   {
    "duration": 117,
    "start_time": "2021-09-27T17:57:09.142Z"
   },
   {
    "duration": 59,
    "start_time": "2021-09-27T17:57:09.261Z"
   },
   {
    "duration": 5,
    "start_time": "2021-09-27T17:57:09.323Z"
   },
   {
    "duration": 16,
    "start_time": "2021-09-27T17:57:09.331Z"
   },
   {
    "duration": 124,
    "start_time": "2021-09-27T17:57:09.349Z"
   },
   {
    "duration": 89801,
    "start_time": "2021-09-27T17:57:09.476Z"
   },
   {
    "duration": 37,
    "start_time": "2021-09-27T17:58:39.279Z"
   },
   {
    "duration": 267,
    "start_time": "2021-09-27T17:58:39.318Z"
   },
   {
    "duration": 27787,
    "start_time": "2021-09-27T17:58:39.588Z"
   },
   {
    "duration": 439,
    "start_time": "2021-09-27T17:59:07.378Z"
   },
   {
    "duration": 611,
    "start_time": "2021-09-27T17:59:07.820Z"
   },
   {
    "duration": 5418,
    "start_time": "2021-09-27T17:59:08.434Z"
   },
   {
    "duration": 70,
    "start_time": "2021-09-27T17:59:13.854Z"
   },
   {
    "duration": 45,
    "start_time": "2021-09-27T17:59:13.926Z"
   },
   {
    "duration": 637,
    "start_time": "2021-09-27T17:59:13.974Z"
   },
   {
    "duration": 9,
    "start_time": "2021-09-27T17:59:14.617Z"
   },
   {
    "duration": 12260,
    "start_time": "2021-09-27T17:59:14.629Z"
   },
   {
    "duration": 195975,
    "start_time": "2021-09-27T17:59:26.892Z"
   },
   {
    "duration": 6597,
    "start_time": "2021-09-27T18:02:42.870Z"
   },
   {
    "duration": 11,
    "start_time": "2021-09-27T18:02:49.470Z"
   },
   {
    "duration": 68,
    "start_time": "2021-09-27T18:02:49.484Z"
   },
   {
    "duration": 7565,
    "start_time": "2021-09-27T18:02:49.555Z"
   },
   {
    "duration": 214208,
    "start_time": "2021-09-27T18:02:57.123Z"
   },
   {
    "duration": 3,
    "start_time": "2021-09-27T18:06:31.417Z"
   },
   {
    "duration": 1595,
    "start_time": "2021-09-27T18:06:31.423Z"
   },
   {
    "duration": 510,
    "start_time": "2021-09-27T18:06:33.020Z"
   },
   {
    "duration": 22761,
    "start_time": "2021-09-27T18:06:33.532Z"
   },
   {
    "duration": 8,
    "start_time": "2021-09-27T18:06:56.296Z"
   },
   {
    "duration": 6546,
    "start_time": "2021-09-27T18:06:56.318Z"
   },
   {
    "duration": 121,
    "start_time": "2021-09-27T18:07:02.867Z"
   },
   {
    "duration": 6,
    "start_time": "2021-09-27T18:07:02.990Z"
   },
   {
    "duration": 23,
    "start_time": "2021-09-27T18:07:02.998Z"
   },
   {
    "duration": 13,
    "start_time": "2021-09-27T18:07:03.023Z"
   },
   {
    "duration": 1826,
    "start_time": "2021-09-27T18:07:03.038Z"
   },
   {
    "duration": 880,
    "start_time": "2021-09-27T18:07:04.866Z"
   },
   {
    "duration": 372,
    "start_time": "2021-09-27T18:07:05.749Z"
   },
   {
    "duration": 6,
    "start_time": "2021-09-27T18:07:06.123Z"
   },
   {
    "duration": 28,
    "start_time": "2021-09-27T18:07:06.131Z"
   },
   {
    "duration": 457,
    "start_time": "2021-09-27T18:10:42.396Z"
   },
   {
    "duration": 5,
    "start_time": "2021-09-27T18:10:49.071Z"
   },
   {
    "duration": 1870,
    "start_time": "2021-09-27T18:10:52.098Z"
   },
   {
    "duration": 6,
    "start_time": "2021-09-27T19:04:47.900Z"
   },
   {
    "duration": 1296,
    "start_time": "2021-09-27T19:05:28.754Z"
   },
   {
    "duration": 143,
    "start_time": "2021-09-27T19:08:16.833Z"
   },
   {
    "duration": 139,
    "start_time": "2021-09-27T19:08:34.957Z"
   },
   {
    "duration": 6,
    "start_time": "2021-09-27T19:08:56.013Z"
   },
   {
    "duration": 34,
    "start_time": "2021-09-27T19:09:06.962Z"
   },
   {
    "duration": 184,
    "start_time": "2021-09-27T19:46:55.146Z"
   },
   {
    "duration": 6,
    "start_time": "2021-09-27T19:47:08.926Z"
   },
   {
    "duration": 30,
    "start_time": "2021-09-27T19:47:17.146Z"
   },
   {
    "duration": 6,
    "start_time": "2021-09-27T19:48:24.937Z"
   },
   {
    "duration": 34,
    "start_time": "2021-09-27T19:48:32.568Z"
   },
   {
    "duration": 6,
    "start_time": "2021-09-27T19:49:07.013Z"
   },
   {
    "duration": 30,
    "start_time": "2021-09-27T19:49:12.669Z"
   },
   {
    "duration": 6,
    "start_time": "2021-09-27T19:52:33.088Z"
   },
   {
    "duration": 9,
    "start_time": "2021-09-27T19:55:01.526Z"
   },
   {
    "duration": 32,
    "start_time": "2021-09-27T19:55:07.583Z"
   },
   {
    "duration": 432,
    "start_time": "2021-09-27T19:56:09.337Z"
   },
   {
    "duration": 476,
    "start_time": "2021-09-27T19:56:32.904Z"
   },
   {
    "duration": 698,
    "start_time": "2021-09-27T19:56:56.234Z"
   },
   {
    "duration": 13,
    "start_time": "2021-09-27T19:57:36.361Z"
   },
   {
    "duration": 553,
    "start_time": "2021-09-27T19:57:42.173Z"
   },
   {
    "duration": 12,
    "start_time": "2021-09-27T19:58:45.590Z"
   },
   {
    "duration": 2578,
    "start_time": "2021-09-27T19:58:51.174Z"
   },
   {
    "duration": 11,
    "start_time": "2021-09-27T19:59:43.904Z"
   },
   {
    "duration": 2567,
    "start_time": "2021-09-27T19:59:48.707Z"
   },
   {
    "duration": 144,
    "start_time": "2021-09-27T20:00:13.309Z"
   },
   {
    "duration": 2744,
    "start_time": "2021-09-27T20:00:16.673Z"
   },
   {
    "duration": 11,
    "start_time": "2021-09-27T20:03:58.270Z"
   },
   {
    "duration": 2813,
    "start_time": "2021-09-27T20:04:00.601Z"
   },
   {
    "duration": 12,
    "start_time": "2021-09-27T20:04:35.384Z"
   },
   {
    "duration": 2540,
    "start_time": "2021-09-27T20:04:37.346Z"
   },
   {
    "duration": 9,
    "start_time": "2021-09-27T20:04:39.889Z"
   },
   {
    "duration": 151,
    "start_time": "2021-09-27T20:12:04.737Z"
   },
   {
    "duration": 133,
    "start_time": "2021-09-27T20:12:15.898Z"
   },
   {
    "duration": 7,
    "start_time": "2021-09-27T20:12:36.174Z"
   },
   {
    "duration": 529,
    "start_time": "2021-09-27T20:12:41.947Z"
   },
   {
    "duration": 463,
    "start_time": "2021-09-27T20:12:54.999Z"
   },
   {
    "duration": 8,
    "start_time": "2021-09-27T20:13:07.363Z"
   },
   {
    "duration": 141,
    "start_time": "2021-09-27T20:13:11.608Z"
   },
   {
    "duration": 487,
    "start_time": "2021-09-27T20:13:29.263Z"
   },
   {
    "duration": 10,
    "start_time": "2021-09-27T20:14:35.520Z"
   },
   {
    "duration": 2753,
    "start_time": "2021-09-27T20:14:37.577Z"
   },
   {
    "duration": 7,
    "start_time": "2021-09-27T20:15:42.052Z"
   },
   {
    "duration": 1880,
    "start_time": "2021-09-27T20:15:43.373Z"
   },
   {
    "duration": 6,
    "start_time": "2021-09-27T20:17:02.041Z"
   },
   {
    "duration": 1450,
    "start_time": "2021-09-27T20:17:03.366Z"
   },
   {
    "duration": 7,
    "start_time": "2021-09-27T20:17:36.290Z"
   },
   {
    "duration": 7,
    "start_time": "2021-09-27T20:17:36.631Z"
   },
   {
    "duration": 1662,
    "start_time": "2021-09-27T20:17:37.967Z"
   },
   {
    "duration": 7,
    "start_time": "2021-09-27T20:22:12.807Z"
   },
   {
    "duration": 2038,
    "start_time": "2021-09-27T20:22:13.640Z"
   },
   {
    "duration": 8,
    "start_time": "2021-09-27T20:22:26.222Z"
   },
   {
    "duration": 1825,
    "start_time": "2021-09-27T20:22:27.053Z"
   },
   {
    "duration": 7,
    "start_time": "2021-09-27T20:31:08.667Z"
   },
   {
    "duration": 3183,
    "start_time": "2021-09-27T20:31:10.013Z"
   },
   {
    "duration": 8,
    "start_time": "2021-09-27T20:33:10.235Z"
   },
   {
    "duration": 3052,
    "start_time": "2021-09-27T20:33:11.131Z"
   },
   {
    "duration": 6,
    "start_time": "2021-09-27T20:34:09.133Z"
   },
   {
    "duration": 7,
    "start_time": "2021-09-27T20:34:09.917Z"
   },
   {
    "duration": 2851,
    "start_time": "2021-09-27T20:34:10.885Z"
   },
   {
    "duration": 7,
    "start_time": "2021-09-27T20:34:33.461Z"
   },
   {
    "duration": 7,
    "start_time": "2021-09-27T20:34:34.106Z"
   },
   {
    "duration": 3378,
    "start_time": "2021-09-27T20:34:34.745Z"
   },
   {
    "duration": 7,
    "start_time": "2021-09-27T20:36:06.066Z"
   },
   {
    "duration": 10,
    "start_time": "2021-09-27T20:36:07.219Z"
   },
   {
    "duration": 2825,
    "start_time": "2021-09-27T20:36:08.312Z"
   },
   {
    "duration": 22,
    "start_time": "2021-09-27T20:37:38.300Z"
   },
   {
    "duration": 8,
    "start_time": "2021-09-27T20:40:34.039Z"
   },
   {
    "duration": 8,
    "start_time": "2021-09-27T20:40:56.970Z"
   },
   {
    "duration": 2201,
    "start_time": "2021-09-27T20:40:58.379Z"
   },
   {
    "duration": 7,
    "start_time": "2021-09-27T20:41:27.325Z"
   },
   {
    "duration": 1208,
    "start_time": "2021-09-27T20:41:28.356Z"
   },
   {
    "duration": 128,
    "start_time": "2021-09-27T20:42:56.504Z"
   },
   {
    "duration": 7,
    "start_time": "2021-09-27T20:44:34.705Z"
   },
   {
    "duration": 1211,
    "start_time": "2021-09-27T20:44:35.567Z"
   },
   {
    "duration": 9,
    "start_time": "2021-09-27T20:46:34.840Z"
   },
   {
    "duration": 7,
    "start_time": "2021-09-27T20:46:35.721Z"
   },
   {
    "duration": 638,
    "start_time": "2021-09-27T20:46:36.727Z"
   },
   {
    "duration": 6,
    "start_time": "2021-09-27T20:47:20.997Z"
   },
   {
    "duration": 6,
    "start_time": "2021-09-27T20:47:21.602Z"
   },
   {
    "duration": 613,
    "start_time": "2021-09-27T20:47:22.193Z"
   },
   {
    "duration": 7,
    "start_time": "2021-09-27T20:48:12.789Z"
   },
   {
    "duration": 7,
    "start_time": "2021-09-27T20:48:13.922Z"
   },
   {
    "duration": 877,
    "start_time": "2021-09-27T20:48:14.762Z"
   },
   {
    "duration": 6,
    "start_time": "2021-09-27T20:48:33.850Z"
   },
   {
    "duration": 9,
    "start_time": "2021-09-27T20:48:34.920Z"
   },
   {
    "duration": 639,
    "start_time": "2021-09-27T20:48:36.410Z"
   },
   {
    "duration": 7,
    "start_time": "2021-09-27T20:49:10.705Z"
   },
   {
    "duration": 7,
    "start_time": "2021-09-27T20:49:11.430Z"
   },
   {
    "duration": 773,
    "start_time": "2021-09-27T20:49:12.252Z"
   },
   {
    "duration": 7,
    "start_time": "2021-09-27T20:49:25.154Z"
   },
   {
    "duration": 7,
    "start_time": "2021-09-27T20:49:25.727Z"
   },
   {
    "duration": 1077,
    "start_time": "2021-09-27T20:49:26.352Z"
   },
   {
    "duration": 6,
    "start_time": "2021-09-27T20:49:59.297Z"
   },
   {
    "duration": 2459,
    "start_time": "2021-09-27T20:49:59.985Z"
   },
   {
    "duration": 7,
    "start_time": "2021-09-27T20:50:11.114Z"
   },
   {
    "duration": 7,
    "start_time": "2021-09-27T20:50:11.925Z"
   },
   {
    "duration": 2084,
    "start_time": "2021-09-27T20:50:12.832Z"
   },
   {
    "duration": 7,
    "start_time": "2021-09-27T20:50:31.467Z"
   },
   {
    "duration": 8,
    "start_time": "2021-09-27T20:50:32.072Z"
   },
   {
    "duration": 1983,
    "start_time": "2021-09-27T20:50:32.784Z"
   },
   {
    "duration": -19,
    "start_time": "2021-09-27T20:50:34.789Z"
   },
   {
    "duration": 7,
    "start_time": "2021-09-27T20:51:11.964Z"
   },
   {
    "duration": 1502,
    "start_time": "2021-09-27T20:51:12.614Z"
   },
   {
    "duration": 9,
    "start_time": "2021-09-27T20:51:31.842Z"
   },
   {
    "duration": 1320,
    "start_time": "2021-09-27T20:51:35.772Z"
   },
   {
    "duration": 10,
    "start_time": "2021-09-27T20:55:51.143Z"
   },
   {
    "duration": 2306,
    "start_time": "2021-09-27T20:55:52.184Z"
   },
   {
    "duration": 7,
    "start_time": "2021-09-27T20:57:12.309Z"
   },
   {
    "duration": 1196,
    "start_time": "2021-09-27T20:57:13.175Z"
   },
   {
    "duration": 7,
    "start_time": "2021-09-27T20:57:40.552Z"
   },
   {
    "duration": 1697,
    "start_time": "2021-09-27T20:57:41.408Z"
   },
   {
    "duration": 7,
    "start_time": "2021-09-27T20:58:54.367Z"
   },
   {
    "duration": 7,
    "start_time": "2021-09-27T20:58:55.927Z"
   },
   {
    "duration": 1040,
    "start_time": "2021-09-27T20:58:57.057Z"
   },
   {
    "duration": 6,
    "start_time": "2021-09-27T20:59:36.539Z"
   },
   {
    "duration": 7,
    "start_time": "2021-09-27T20:59:37.311Z"
   },
   {
    "duration": 1046,
    "start_time": "2021-09-27T20:59:38.305Z"
   },
   {
    "duration": 23,
    "start_time": "2021-09-27T21:03:39.171Z"
   },
   {
    "duration": 7,
    "start_time": "2021-09-27T21:05:10.241Z"
   },
   {
    "duration": 11,
    "start_time": "2021-09-27T21:05:11.683Z"
   },
   {
    "duration": 1311,
    "start_time": "2021-09-27T21:05:12.582Z"
   },
   {
    "duration": 6,
    "start_time": "2021-09-27T21:05:53.822Z"
   },
   {
    "duration": 8,
    "start_time": "2021-09-27T21:05:56.761Z"
   },
   {
    "duration": 1065,
    "start_time": "2021-09-27T21:05:57.723Z"
   },
   {
    "duration": 7,
    "start_time": "2021-09-27T21:06:39.369Z"
   },
   {
    "duration": 7,
    "start_time": "2021-09-27T21:06:40.319Z"
   },
   {
    "duration": 1478,
    "start_time": "2021-09-27T21:06:42.172Z"
   },
   {
    "duration": 7,
    "start_time": "2021-09-27T21:06:59.086Z"
   },
   {
    "duration": 7,
    "start_time": "2021-09-27T21:07:00.329Z"
   },
   {
    "duration": 1329,
    "start_time": "2021-09-27T21:07:01.223Z"
   },
   {
    "duration": 129,
    "start_time": "2021-09-27T21:07:20.100Z"
   },
   {
    "duration": 7,
    "start_time": "2021-09-27T21:07:25.097Z"
   },
   {
    "duration": 7,
    "start_time": "2021-09-27T21:07:26.382Z"
   },
   {
    "duration": 1102,
    "start_time": "2021-09-27T21:07:27.323Z"
   },
   {
    "duration": 6,
    "start_time": "2021-09-27T21:07:59.618Z"
   },
   {
    "duration": 7,
    "start_time": "2021-09-27T21:08:00.769Z"
   },
   {
    "duration": 1226,
    "start_time": "2021-09-27T21:08:01.730Z"
   },
   {
    "duration": 6,
    "start_time": "2021-09-27T21:08:27.139Z"
   },
   {
    "duration": 7,
    "start_time": "2021-09-27T21:08:28.440Z"
   },
   {
    "duration": 1365,
    "start_time": "2021-09-27T21:08:29.378Z"
   },
   {
    "duration": 7,
    "start_time": "2021-09-27T21:08:40.329Z"
   },
   {
    "duration": 10,
    "start_time": "2021-09-27T21:08:41.500Z"
   },
   {
    "duration": 1308,
    "start_time": "2021-09-27T21:08:42.382Z"
   },
   {
    "duration": 7,
    "start_time": "2021-09-27T21:08:58.397Z"
   },
   {
    "duration": 7,
    "start_time": "2021-09-27T21:08:59.474Z"
   },
   {
    "duration": 1350,
    "start_time": "2021-09-27T21:09:00.233Z"
   },
   {
    "duration": 7,
    "start_time": "2021-09-27T21:09:37.125Z"
   },
   {
    "duration": 7,
    "start_time": "2021-09-27T21:09:38.496Z"
   },
   {
    "duration": 1231,
    "start_time": "2021-09-27T21:09:39.547Z"
   },
   {
    "duration": 129,
    "start_time": "2021-09-27T21:09:59.741Z"
   },
   {
    "duration": 7,
    "start_time": "2021-09-27T21:10:05.769Z"
   },
   {
    "duration": 6,
    "start_time": "2021-09-27T21:11:02.974Z"
   },
   {
    "duration": 7,
    "start_time": "2021-09-27T21:11:03.977Z"
   },
   {
    "duration": 1219,
    "start_time": "2021-09-27T21:11:05.216Z"
   },
   {
    "duration": 8,
    "start_time": "2021-09-27T21:11:36.606Z"
   },
   {
    "duration": 9,
    "start_time": "2021-09-27T21:11:36.618Z"
   },
   {
    "duration": 1509,
    "start_time": "2021-09-27T21:11:37.534Z"
   },
   {
    "duration": 7,
    "start_time": "2021-09-27T21:12:22.112Z"
   },
   {
    "duration": 1900,
    "start_time": "2021-09-27T21:12:23.493Z"
   },
   {
    "duration": 6,
    "start_time": "2021-09-27T21:14:05.597Z"
   },
   {
    "duration": 6,
    "start_time": "2021-09-27T21:14:06.266Z"
   },
   {
    "duration": 6,
    "start_time": "2021-09-27T21:14:36.797Z"
   },
   {
    "duration": 7,
    "start_time": "2021-09-27T21:14:38.093Z"
   },
   {
    "duration": 6,
    "start_time": "2021-09-27T21:14:49.332Z"
   },
   {
    "duration": 24,
    "start_time": "2021-09-27T21:14:50.064Z"
   },
   {
    "duration": 6,
    "start_time": "2021-09-27T21:15:02.946Z"
   },
   {
    "duration": 1402,
    "start_time": "2021-09-27T21:15:04.344Z"
   },
   {
    "duration": 7,
    "start_time": "2021-09-27T21:15:38.641Z"
   },
   {
    "duration": 6,
    "start_time": "2021-09-27T21:15:39.335Z"
   },
   {
    "duration": 1403,
    "start_time": "2021-09-27T21:15:40.210Z"
   },
   {
    "duration": 6,
    "start_time": "2021-09-27T21:16:23.445Z"
   },
   {
    "duration": 1617,
    "start_time": "2021-09-27T21:16:24.355Z"
   },
   {
    "duration": 7,
    "start_time": "2021-09-27T21:50:45.857Z"
   },
   {
    "duration": 8,
    "start_time": "2021-09-27T21:50:46.598Z"
   },
   {
    "duration": 1705,
    "start_time": "2021-09-27T21:50:47.983Z"
   },
   {
    "duration": 7,
    "start_time": "2021-09-27T21:51:05.054Z"
   },
   {
    "duration": 7,
    "start_time": "2021-09-27T21:51:07.925Z"
   },
   {
    "duration": 1565,
    "start_time": "2021-09-27T21:51:08.831Z"
   },
   {
    "duration": 8,
    "start_time": "2021-09-27T21:57:11.675Z"
   },
   {
    "duration": 2607,
    "start_time": "2021-09-27T21:57:13.289Z"
   },
   {
    "duration": 206,
    "start_time": "2021-09-27T21:59:25.671Z"
   },
   {
    "duration": 2379,
    "start_time": "2021-09-27T21:59:26.368Z"
   },
   {
    "duration": 7,
    "start_time": "2021-09-27T22:00:00.266Z"
   },
   {
    "duration": 1764,
    "start_time": "2021-09-27T22:00:03.031Z"
   },
   {
    "duration": 5,
    "start_time": "2021-09-27T22:01:16.685Z"
   },
   {
    "duration": 5,
    "start_time": "2021-09-27T22:01:39.452Z"
   },
   {
    "duration": 7,
    "start_time": "2021-09-27T22:01:55.757Z"
   },
   {
    "duration": 4325,
    "start_time": "2021-09-28T09:39:23.882Z"
   },
   {
    "duration": 89,
    "start_time": "2021-09-28T09:39:28.209Z"
   },
   {
    "duration": 3,
    "start_time": "2021-09-28T09:39:28.300Z"
   },
   {
    "duration": 107,
    "start_time": "2021-09-28T09:39:28.305Z"
   },
   {
    "duration": 2,
    "start_time": "2021-09-28T09:39:28.414Z"
   },
   {
    "duration": 94,
    "start_time": "2021-09-28T09:39:28.418Z"
   },
   {
    "duration": 7,
    "start_time": "2021-09-28T09:39:28.513Z"
   },
   {
    "duration": 35,
    "start_time": "2021-09-28T09:39:28.522Z"
   },
   {
    "duration": 8,
    "start_time": "2021-09-28T09:39:28.559Z"
   },
   {
    "duration": 5,
    "start_time": "2021-09-28T09:39:28.569Z"
   },
   {
    "duration": 10,
    "start_time": "2021-09-28T09:39:28.600Z"
   },
   {
    "duration": 27,
    "start_time": "2021-09-28T09:39:28.612Z"
   },
   {
    "duration": 5,
    "start_time": "2021-09-28T09:39:28.640Z"
   },
   {
    "duration": 4,
    "start_time": "2021-09-28T09:39:28.647Z"
   },
   {
    "duration": 12,
    "start_time": "2021-09-28T09:39:28.653Z"
   },
   {
    "duration": 48,
    "start_time": "2021-09-28T09:39:28.666Z"
   },
   {
    "duration": 3,
    "start_time": "2021-09-28T09:39:28.716Z"
   },
   {
    "duration": 16,
    "start_time": "2021-09-28T09:39:28.721Z"
   },
   {
    "duration": 22,
    "start_time": "2021-09-28T09:39:28.738Z"
   },
   {
    "duration": 1110,
    "start_time": "2021-09-28T09:39:28.762Z"
   },
   {
    "duration": 4,
    "start_time": "2021-09-28T09:39:29.874Z"
   },
   {
    "duration": 1121,
    "start_time": "2021-09-28T09:39:29.880Z"
   },
   {
    "duration": 288,
    "start_time": "2021-09-28T09:39:31.005Z"
   },
   {
    "duration": 33,
    "start_time": "2021-09-28T09:39:31.297Z"
   },
   {
    "duration": 5,
    "start_time": "2021-09-28T09:39:31.331Z"
   },
   {
    "duration": 13,
    "start_time": "2021-09-28T09:39:31.337Z"
   },
   {
    "duration": 67,
    "start_time": "2021-09-28T09:39:31.352Z"
   },
   {
    "duration": 29,
    "start_time": "2021-09-28T09:39:31.421Z"
   },
   {
    "duration": 4,
    "start_time": "2021-09-28T09:39:31.451Z"
   },
   {
    "duration": 6,
    "start_time": "2021-09-28T09:39:31.456Z"
   },
   {
    "duration": 90,
    "start_time": "2021-09-28T09:39:31.464Z"
   },
   {
    "duration": 54902,
    "start_time": "2021-09-28T09:39:31.555Z"
   },
   {
    "duration": 15,
    "start_time": "2021-09-28T09:40:26.458Z"
   },
   {
    "duration": 179,
    "start_time": "2021-09-28T09:40:26.475Z"
   },
   {
    "duration": 16982,
    "start_time": "2021-09-28T09:40:26.656Z"
   },
   {
    "duration": 282,
    "start_time": "2021-09-28T09:40:43.640Z"
   },
   {
    "duration": 483,
    "start_time": "2021-09-28T09:40:43.924Z"
   },
   {
    "duration": 4707,
    "start_time": "2021-09-28T09:40:44.409Z"
   },
   {
    "duration": 34,
    "start_time": "2021-09-28T09:40:49.118Z"
   },
   {
    "duration": 49,
    "start_time": "2021-09-28T09:40:49.154Z"
   },
   {
    "duration": 394,
    "start_time": "2021-09-28T09:40:49.205Z"
   },
   {
    "duration": 7,
    "start_time": "2021-09-28T09:40:49.601Z"
   },
   {
    "duration": 7757,
    "start_time": "2021-09-28T09:40:49.609Z"
   },
   {
    "duration": 123144,
    "start_time": "2021-09-28T09:40:57.368Z"
   },
   {
    "duration": 4055,
    "start_time": "2021-09-28T09:43:00.514Z"
   },
   {
    "duration": 8,
    "start_time": "2021-09-28T09:43:04.570Z"
   },
   {
    "duration": 41,
    "start_time": "2021-09-28T09:43:04.579Z"
   },
   {
    "duration": 5082,
    "start_time": "2021-09-28T09:43:04.621Z"
   },
   {
    "duration": 164701,
    "start_time": "2021-09-28T09:43:09.705Z"
   },
   {
    "duration": 2,
    "start_time": "2021-09-28T09:45:54.408Z"
   },
   {
    "duration": 1303,
    "start_time": "2021-09-28T09:45:54.412Z"
   },
   {
    "duration": 356,
    "start_time": "2021-09-28T09:45:55.716Z"
   },
   {
    "duration": 15227,
    "start_time": "2021-09-28T09:45:56.074Z"
   },
   {
    "duration": 5,
    "start_time": "2021-09-28T09:46:11.303Z"
   },
   {
    "duration": 4963,
    "start_time": "2021-09-28T09:46:11.310Z"
   },
   {
    "duration": 50,
    "start_time": "2021-09-28T09:46:16.298Z"
   },
   {
    "duration": 4,
    "start_time": "2021-09-28T09:46:16.350Z"
   },
   {
    "duration": 12,
    "start_time": "2021-09-28T09:46:16.355Z"
   },
   {
    "duration": 13,
    "start_time": "2021-09-28T09:46:16.368Z"
   },
   {
    "duration": 1396,
    "start_time": "2021-09-28T09:46:16.382Z"
   },
   {
    "duration": 607,
    "start_time": "2021-09-28T09:46:17.779Z"
   },
   {
    "duration": 232,
    "start_time": "2021-09-28T09:46:18.388Z"
   },
   {
    "duration": 4,
    "start_time": "2021-09-28T09:46:18.621Z"
   },
   {
    "duration": 7,
    "start_time": "2021-09-28T09:46:18.627Z"
   },
   {
    "duration": 28,
    "start_time": "2021-09-28T09:46:18.635Z"
   },
   {
    "duration": 753,
    "start_time": "2021-09-28T09:46:18.664Z"
   },
   {
    "duration": -402,
    "start_time": "2021-09-28T09:46:19.821Z"
   },
   {
    "duration": 5,
    "start_time": "2021-09-28T09:52:35.582Z"
   },
   {
    "duration": 20,
    "start_time": "2021-09-28T09:52:36.722Z"
   },
   {
    "duration": 5,
    "start_time": "2021-09-28T09:56:33.031Z"
   },
   {
    "duration": 19,
    "start_time": "2021-09-28T09:56:33.946Z"
   },
   {
    "duration": 204,
    "start_time": "2021-09-28T09:56:55.628Z"
   },
   {
    "duration": 222,
    "start_time": "2021-09-28T09:57:28.494Z"
   },
   {
    "duration": 189,
    "start_time": "2021-09-28T09:57:50.541Z"
   },
   {
    "duration": 173,
    "start_time": "2021-09-28T09:58:07.007Z"
   },
   {
    "duration": 11,
    "start_time": "2021-09-28T09:58:23.093Z"
   },
   {
    "duration": 14,
    "start_time": "2021-09-28T09:58:35.313Z"
   },
   {
    "duration": 6,
    "start_time": "2021-09-28T10:04:19.089Z"
   },
   {
    "duration": 14,
    "start_time": "2021-09-28T10:04:21.633Z"
   },
   {
    "duration": 6,
    "start_time": "2021-09-28T10:21:23.023Z"
   },
   {
    "duration": 24,
    "start_time": "2021-09-28T10:21:27.441Z"
   },
   {
    "duration": 219,
    "start_time": "2021-09-28T10:21:36.943Z"
   },
   {
    "duration": 5,
    "start_time": "2021-09-28T10:21:38.349Z"
   },
   {
    "duration": 5,
    "start_time": "2021-09-28T10:21:39.096Z"
   },
   {
    "duration": 21,
    "start_time": "2021-09-28T10:21:39.793Z"
   },
   {
    "duration": 4,
    "start_time": "2021-09-28T10:21:59.288Z"
   },
   {
    "duration": 21,
    "start_time": "2021-09-28T10:22:01.485Z"
   },
   {
    "duration": 6,
    "start_time": "2021-09-28T10:23:11.271Z"
   },
   {
    "duration": 19,
    "start_time": "2021-09-28T10:23:11.900Z"
   },
   {
    "duration": 5,
    "start_time": "2021-09-28T10:23:53.649Z"
   },
   {
    "duration": 513,
    "start_time": "2021-09-28T10:23:55.097Z"
   },
   {
    "duration": 4,
    "start_time": "2021-09-28T10:25:16.385Z"
   },
   {
    "duration": 6,
    "start_time": "2021-09-28T10:25:17.238Z"
   },
   {
    "duration": 1554,
    "start_time": "2021-09-28T10:25:18.540Z"
   },
   {
    "duration": 5,
    "start_time": "2021-09-28T10:25:58.520Z"
   },
   {
    "duration": 1343,
    "start_time": "2021-09-28T10:25:59.461Z"
   },
   {
    "duration": 5,
    "start_time": "2021-09-28T10:27:15.306Z"
   },
   {
    "duration": 4,
    "start_time": "2021-09-28T10:27:15.975Z"
   },
   {
    "duration": 1402,
    "start_time": "2021-09-28T10:27:16.998Z"
   },
   {
    "duration": 5,
    "start_time": "2021-09-28T10:29:21.498Z"
   },
   {
    "duration": 4,
    "start_time": "2021-09-28T10:29:22.281Z"
   },
   {
    "duration": 22,
    "start_time": "2021-09-28T10:29:23.039Z"
   },
   {
    "duration": 4,
    "start_time": "2021-09-28T10:29:32.775Z"
   },
   {
    "duration": 6,
    "start_time": "2021-09-28T10:29:33.297Z"
   },
   {
    "duration": 1492,
    "start_time": "2021-09-28T10:29:33.805Z"
   },
   {
    "duration": 4,
    "start_time": "2021-09-28T10:29:59.674Z"
   },
   {
    "duration": 1393,
    "start_time": "2021-09-28T10:30:00.907Z"
   },
   {
    "duration": 4,
    "start_time": "2021-09-28T10:30:20.075Z"
   },
   {
    "duration": 1011,
    "start_time": "2021-09-28T10:30:26.090Z"
   },
   {
    "duration": 18,
    "start_time": "2021-09-28T10:34:21.109Z"
   },
   {
    "duration": 61,
    "start_time": "2021-09-28T10:36:00.599Z"
   },
   {
    "duration": 59,
    "start_time": "2021-09-28T10:36:26.972Z"
   },
   {
    "duration": 235,
    "start_time": "2021-09-28T10:36:47.977Z"
   },
   {
    "duration": 11,
    "start_time": "2021-09-28T10:37:04.384Z"
   },
   {
    "duration": 375,
    "start_time": "2021-09-28T10:37:05.339Z"
   },
   {
    "duration": 59,
    "start_time": "2021-09-28T10:37:31.868Z"
   },
   {
    "duration": 577,
    "start_time": "2021-09-28T10:37:48.576Z"
   },
   {
    "duration": 799,
    "start_time": "2021-09-28T10:38:12.494Z"
   },
   {
    "duration": 330,
    "start_time": "2021-09-28T10:39:06.955Z"
   },
   {
    "duration": 319,
    "start_time": "2021-09-28T10:39:18.811Z"
   },
   {
    "duration": 358,
    "start_time": "2021-09-28T10:39:23.217Z"
   },
   {
    "duration": 332,
    "start_time": "2021-09-28T10:39:53.841Z"
   },
   {
    "duration": 60,
    "start_time": "2021-09-28T10:40:37.081Z"
   },
   {
    "duration": 6,
    "start_time": "2021-09-28T10:40:58.301Z"
   },
   {
    "duration": 59,
    "start_time": "2021-09-28T10:41:00.406Z"
   },
   {
    "duration": 5,
    "start_time": "2021-09-28T10:41:31.332Z"
   },
   {
    "duration": 653,
    "start_time": "2021-09-28T10:41:32.692Z"
   },
   {
    "duration": 5,
    "start_time": "2021-09-28T10:41:56.206Z"
   },
   {
    "duration": 958,
    "start_time": "2021-09-28T10:41:57.596Z"
   },
   {
    "duration": 6,
    "start_time": "2021-09-28T10:44:41.034Z"
   },
   {
    "duration": 1141,
    "start_time": "2021-09-28T10:44:42.088Z"
   },
   {
    "duration": 243,
    "start_time": "2021-09-28T10:45:32.444Z"
   },
   {
    "duration": 196,
    "start_time": "2021-09-28T10:45:53.978Z"
   },
   {
    "duration": 202,
    "start_time": "2021-09-28T10:46:47.251Z"
   },
   {
    "duration": -424,
    "start_time": "2021-09-28T10:46:47.879Z"
   },
   {
    "duration": 206,
    "start_time": "2021-09-28T10:47:27.717Z"
   },
   {
    "duration": 4,
    "start_time": "2021-09-28T10:48:06.821Z"
   },
   {
    "duration": 3,
    "start_time": "2021-09-28T10:48:59.880Z"
   },
   {
    "duration": 5,
    "start_time": "2021-09-28T10:49:19.788Z"
   },
   {
    "duration": 8,
    "start_time": "2021-09-28T10:49:31.551Z"
   },
   {
    "duration": 467,
    "start_time": "2021-09-28T10:50:17.430Z"
   },
   {
    "duration": 191,
    "start_time": "2021-09-28T10:50:48.279Z"
   },
   {
    "duration": 180,
    "start_time": "2021-09-28T10:51:11.127Z"
   },
   {
    "duration": 333,
    "start_time": "2021-09-28T10:51:35.929Z"
   },
   {
    "duration": 6,
    "start_time": "2021-09-28T10:51:47.183Z"
   },
   {
    "duration": 420,
    "start_time": "2021-09-28T10:52:03.773Z"
   },
   {
    "duration": 182,
    "start_time": "2021-09-28T10:52:11.305Z"
   },
   {
    "duration": 5,
    "start_time": "2021-09-28T10:52:17.048Z"
   },
   {
    "duration": 5,
    "start_time": "2021-09-28T10:52:29.996Z"
   },
   {
    "duration": 4,
    "start_time": "2021-09-28T10:52:36.124Z"
   },
   {
    "duration": 5,
    "start_time": "2021-09-28T10:52:42.930Z"
   },
   {
    "duration": 174,
    "start_time": "2021-09-28T10:52:59.708Z"
   },
   {
    "duration": 5,
    "start_time": "2021-09-28T10:53:08.436Z"
   },
   {
    "duration": 5,
    "start_time": "2021-09-28T10:53:38.267Z"
   },
   {
    "duration": 4,
    "start_time": "2021-09-28T10:53:59.846Z"
   },
   {
    "duration": 6,
    "start_time": "2021-09-28T10:54:34.044Z"
   },
   {
    "duration": 5,
    "start_time": "2021-09-28T10:55:31.185Z"
   },
   {
    "duration": 929,
    "start_time": "2021-09-28T10:55:31.897Z"
   },
   {
    "duration": 5,
    "start_time": "2021-09-28T10:55:51.855Z"
   },
   {
    "duration": 892,
    "start_time": "2021-09-28T10:55:53.013Z"
   },
   {
    "duration": 13,
    "start_time": "2021-09-28T10:57:04.182Z"
   },
   {
    "duration": 169,
    "start_time": "2021-09-28T11:03:32.476Z"
   },
   {
    "duration": 259,
    "start_time": "2021-09-28T11:04:36.115Z"
   },
   {
    "duration": 6,
    "start_time": "2021-09-28T11:14:29.546Z"
   },
   {
    "duration": 186,
    "start_time": "2021-09-28T11:15:09.480Z"
   },
   {
    "duration": 9,
    "start_time": "2021-09-28T11:15:27.446Z"
   },
   {
    "duration": 15,
    "start_time": "2021-09-28T11:17:26.898Z"
   },
   {
    "duration": 7,
    "start_time": "2021-09-28T11:18:12.362Z"
   },
   {
    "duration": 10,
    "start_time": "2021-09-28T11:18:55.865Z"
   },
   {
    "duration": 7,
    "start_time": "2021-09-28T11:19:11.381Z"
   },
   {
    "duration": 11,
    "start_time": "2021-09-28T11:19:20.207Z"
   },
   {
    "duration": 179,
    "start_time": "2021-09-28T11:19:56.392Z"
   },
   {
    "duration": 12,
    "start_time": "2021-09-28T11:20:03.476Z"
   },
   {
    "duration": 12,
    "start_time": "2021-09-28T11:20:14.049Z"
   },
   {
    "duration": 60,
    "start_time": "2021-09-28T11:21:08.451Z"
   },
   {
    "duration": 933,
    "start_time": "2021-09-28T11:21:09.731Z"
   },
   {
    "duration": 8,
    "start_time": "2021-09-28T11:21:55.771Z"
   },
   {
    "duration": 376,
    "start_time": "2021-09-28T11:22:08.697Z"
   },
   {
    "duration": 5,
    "start_time": "2021-09-28T11:23:01.996Z"
   },
   {
    "duration": 1203,
    "start_time": "2021-09-28T11:23:02.902Z"
   },
   {
    "duration": 6,
    "start_time": "2021-09-28T11:24:20.438Z"
   },
   {
    "duration": 5,
    "start_time": "2021-09-28T11:24:21.805Z"
   },
   {
    "duration": 990,
    "start_time": "2021-09-28T11:24:22.680Z"
   },
   {
    "duration": 6,
    "start_time": "2021-09-28T11:26:49.888Z"
   },
   {
    "duration": 1262,
    "start_time": "2021-09-28T11:26:51.095Z"
   },
   {
    "duration": 8,
    "start_time": "2021-09-28T11:30:18.378Z"
   },
   {
    "duration": 1885,
    "start_time": "2021-09-28T11:30:19.560Z"
   },
   {
    "duration": 5,
    "start_time": "2021-09-28T11:30:54.281Z"
   },
   {
    "duration": 5,
    "start_time": "2021-09-28T11:30:57.749Z"
   },
   {
    "duration": 1708,
    "start_time": "2021-09-28T11:30:58.472Z"
   },
   {
    "duration": 5,
    "start_time": "2021-09-28T11:34:39.668Z"
   },
   {
    "duration": 2023,
    "start_time": "2021-09-28T11:34:40.730Z"
   },
   {
    "duration": 66,
    "start_time": "2021-09-28T11:35:41.981Z"
   },
   {
    "duration": 1784,
    "start_time": "2021-09-28T11:35:42.622Z"
   },
   {
    "duration": 15,
    "start_time": "2021-09-28T12:05:20.791Z"
   },
   {
    "duration": 4621,
    "start_time": "2021-09-28T12:06:32.001Z"
   },
   {
    "duration": 19,
    "start_time": "2021-09-28T12:06:36.623Z"
   },
   {
    "duration": 7,
    "start_time": "2021-09-28T12:06:57.452Z"
   },
   {
    "duration": 11,
    "start_time": "2021-09-28T12:08:22.263Z"
   },
   {
    "duration": 7,
    "start_time": "2021-09-28T12:13:50.834Z"
   },
   {
    "duration": 1831,
    "start_time": "2021-09-28T12:13:52.085Z"
   },
   {
    "duration": 7,
    "start_time": "2021-09-28T12:19:12.665Z"
   },
   {
    "duration": 2731,
    "start_time": "2021-09-28T12:19:14.499Z"
   },
   {
    "duration": 8,
    "start_time": "2021-09-28T12:19:51.891Z"
   },
   {
    "duration": 1791,
    "start_time": "2021-09-28T12:19:53.555Z"
   },
   {
    "duration": 5,
    "start_time": "2021-09-28T12:20:31.728Z"
   },
   {
    "duration": 2030,
    "start_time": "2021-09-28T12:20:33.471Z"
   },
   {
    "duration": 73,
    "start_time": "2021-09-28T12:21:14.656Z"
   },
   {
    "duration": 5,
    "start_time": "2021-09-28T12:21:20.103Z"
   },
   {
    "duration": 1855,
    "start_time": "2021-09-28T12:21:22.292Z"
   },
   {
    "duration": 5,
    "start_time": "2021-09-28T12:21:41.850Z"
   },
   {
    "duration": 1989,
    "start_time": "2021-09-28T12:21:43.345Z"
   },
   {
    "duration": 6,
    "start_time": "2021-09-28T12:48:40.493Z"
   },
   {
    "duration": 460,
    "start_time": "2021-09-28T12:49:02.103Z"
   },
   {
    "duration": 204,
    "start_time": "2021-09-28T12:49:16.871Z"
   },
   {
    "duration": 233,
    "start_time": "2021-09-28T12:49:22.167Z"
   },
   {
    "duration": 4,
    "start_time": "2021-09-28T12:49:32.848Z"
   },
   {
    "duration": 6,
    "start_time": "2021-09-28T12:55:46.278Z"
   },
   {
    "duration": 4,
    "start_time": "2021-09-28T13:04:58.284Z"
   },
   {
    "duration": 5,
    "start_time": "2021-09-28T13:09:13.736Z"
   },
   {
    "duration": 5,
    "start_time": "2021-09-28T13:21:09.196Z"
   },
   {
    "duration": 5,
    "start_time": "2021-09-28T13:21:19.161Z"
   },
   {
    "duration": 5,
    "start_time": "2021-09-28T13:21:20.408Z"
   },
   {
    "duration": 2778,
    "start_time": "2021-09-28T13:21:25.262Z"
   },
   {
    "duration": 4603,
    "start_time": "2021-09-28T13:33:18.866Z"
   },
   {
    "duration": 94,
    "start_time": "2021-09-28T13:33:23.470Z"
   },
   {
    "duration": 3,
    "start_time": "2021-09-28T13:33:23.566Z"
   },
   {
    "duration": 101,
    "start_time": "2021-09-28T13:33:23.570Z"
   },
   {
    "duration": 2,
    "start_time": "2021-09-28T13:33:23.672Z"
   },
   {
    "duration": 101,
    "start_time": "2021-09-28T13:33:23.676Z"
   },
   {
    "duration": 7,
    "start_time": "2021-09-28T13:33:23.778Z"
   },
   {
    "duration": 35,
    "start_time": "2021-09-28T13:33:23.800Z"
   },
   {
    "duration": 9,
    "start_time": "2021-09-28T13:33:23.837Z"
   },
   {
    "duration": 6,
    "start_time": "2021-09-28T13:33:23.847Z"
   },
   {
    "duration": 10,
    "start_time": "2021-09-28T13:33:23.855Z"
   },
   {
    "duration": 52,
    "start_time": "2021-09-28T13:33:23.867Z"
   },
   {
    "duration": 5,
    "start_time": "2021-09-28T13:33:23.921Z"
   },
   {
    "duration": 8,
    "start_time": "2021-09-28T13:33:23.927Z"
   },
   {
    "duration": 26,
    "start_time": "2021-09-28T13:33:23.937Z"
   },
   {
    "duration": 19,
    "start_time": "2021-09-28T13:33:23.964Z"
   },
   {
    "duration": 17,
    "start_time": "2021-09-28T13:33:23.984Z"
   },
   {
    "duration": 22,
    "start_time": "2021-09-28T13:33:24.003Z"
   },
   {
    "duration": 25,
    "start_time": "2021-09-28T13:33:24.027Z"
   },
   {
    "duration": 1098,
    "start_time": "2021-09-28T13:33:24.054Z"
   },
   {
    "duration": 7,
    "start_time": "2021-09-28T13:33:25.154Z"
   },
   {
    "duration": 1021,
    "start_time": "2021-09-28T13:33:25.162Z"
   },
   {
    "duration": 322,
    "start_time": "2021-09-28T13:33:26.188Z"
   },
   {
    "duration": 36,
    "start_time": "2021-09-28T13:33:26.514Z"
   },
   {
    "duration": 6,
    "start_time": "2021-09-28T13:33:26.552Z"
   },
   {
    "duration": 14,
    "start_time": "2021-09-28T13:33:26.560Z"
   },
   {
    "duration": 60,
    "start_time": "2021-09-28T13:33:26.600Z"
   },
   {
    "duration": 52,
    "start_time": "2021-09-28T13:33:26.663Z"
   },
   {
    "duration": 6,
    "start_time": "2021-09-28T13:33:26.717Z"
   },
   {
    "duration": 7,
    "start_time": "2021-09-28T13:33:26.725Z"
   },
   {
    "duration": 92,
    "start_time": "2021-09-28T13:33:26.734Z"
   },
   {
    "duration": 55476,
    "start_time": "2021-09-28T13:33:26.829Z"
   },
   {
    "duration": 16,
    "start_time": "2021-09-28T13:34:22.306Z"
   },
   {
    "duration": 190,
    "start_time": "2021-09-28T13:34:22.323Z"
   },
   {
    "duration": 17553,
    "start_time": "2021-09-28T13:34:22.514Z"
   },
   {
    "duration": 276,
    "start_time": "2021-09-28T13:34:40.069Z"
   },
   {
    "duration": 554,
    "start_time": "2021-09-28T13:34:40.347Z"
   },
   {
    "duration": 4618,
    "start_time": "2021-09-28T13:34:40.902Z"
   },
   {
    "duration": 20,
    "start_time": "2021-09-28T13:34:45.522Z"
   },
   {
    "duration": 31,
    "start_time": "2021-09-28T13:34:45.543Z"
   },
   {
    "duration": 403,
    "start_time": "2021-09-28T13:34:45.599Z"
   },
   {
    "duration": 7,
    "start_time": "2021-09-28T13:34:46.004Z"
   },
   {
    "duration": 8017,
    "start_time": "2021-09-28T13:34:46.012Z"
   },
   {
    "duration": 125043,
    "start_time": "2021-09-28T13:34:54.031Z"
   },
   {
    "duration": 4157,
    "start_time": "2021-09-28T13:36:59.076Z"
   },
   {
    "duration": 8,
    "start_time": "2021-09-28T13:37:03.234Z"
   },
   {
    "duration": 41,
    "start_time": "2021-09-28T13:37:03.244Z"
   },
   {
    "duration": 5329,
    "start_time": "2021-09-28T13:37:03.287Z"
   },
   {
    "duration": 167984,
    "start_time": "2021-09-28T13:37:08.617Z"
   },
   {
    "duration": 2008,
    "start_time": "2021-09-28T13:39:56.604Z"
   },
   {
    "duration": 297,
    "start_time": "2021-09-28T13:39:58.700Z"
   },
   {
    "duration": 15700,
    "start_time": "2021-09-28T13:39:59.000Z"
   },
   {
    "duration": 10,
    "start_time": "2021-09-28T13:40:14.701Z"
   },
   {
    "duration": 4550,
    "start_time": "2021-09-28T13:40:14.713Z"
   },
   {
    "duration": 79,
    "start_time": "2021-09-28T13:40:19.265Z"
   },
   {
    "duration": 4,
    "start_time": "2021-09-28T13:40:19.346Z"
   },
   {
    "duration": 8,
    "start_time": "2021-09-28T13:40:19.352Z"
   },
   {
    "duration": 7,
    "start_time": "2021-09-28T13:40:19.362Z"
   },
   {
    "duration": 1074,
    "start_time": "2021-09-28T13:40:19.371Z"
   },
   {
    "duration": 623,
    "start_time": "2021-09-28T13:40:20.447Z"
   },
   {
    "duration": 250,
    "start_time": "2021-09-28T13:40:21.072Z"
   },
   {
    "duration": 6,
    "start_time": "2021-09-28T13:40:21.324Z"
   },
   {
    "duration": 7,
    "start_time": "2021-09-28T13:40:21.333Z"
   },
   {
    "duration": 2044,
    "start_time": "2021-09-28T13:40:21.341Z"
   },
   {
    "duration": 369,
    "start_time": "2021-09-28T13:46:40.753Z"
   },
   {
    "duration": 534,
    "start_time": "2021-09-28T13:58:35.013Z"
   },
   {
    "duration": 1858,
    "start_time": "2021-09-28T14:01:38.401Z"
   },
   {
    "duration": 1788,
    "start_time": "2021-09-28T14:01:57.202Z"
   },
   {
    "duration": 1775,
    "start_time": "2021-09-28T14:03:57.587Z"
   },
   {
    "duration": 1649,
    "start_time": "2021-09-28T14:04:11.123Z"
   },
   {
    "duration": 1779,
    "start_time": "2021-09-28T14:05:18.182Z"
   },
   {
    "duration": 1653,
    "start_time": "2021-09-28T14:07:07.801Z"
   },
   {
    "duration": 1877,
    "start_time": "2021-09-28T14:08:40.773Z"
   },
   {
    "duration": 1809,
    "start_time": "2021-09-28T14:09:04.222Z"
   },
   {
    "duration": 1526,
    "start_time": "2021-09-28T14:12:50.906Z"
   },
   {
    "duration": 1795,
    "start_time": "2021-09-28T14:13:05.735Z"
   },
   {
    "duration": 1183,
    "start_time": "2021-09-28T14:16:37.349Z"
   },
   {
    "duration": 1180,
    "start_time": "2021-09-28T14:17:11.585Z"
   },
   {
    "duration": 1145,
    "start_time": "2021-09-28T14:17:24.669Z"
   },
   {
    "duration": 1397,
    "start_time": "2021-09-28T14:18:23.630Z"
   },
   {
    "duration": 1836,
    "start_time": "2021-09-28T14:20:00.161Z"
   },
   {
    "duration": 1171,
    "start_time": "2021-09-28T14:26:11.096Z"
   },
   {
    "duration": 1961,
    "start_time": "2021-09-28T14:26:31.843Z"
   },
   {
    "duration": 7,
    "start_time": "2021-09-28T15:03:55.654Z"
   },
   {
    "duration": 8,
    "start_time": "2021-09-28T15:04:35.720Z"
   },
   {
    "duration": 41,
    "start_time": "2021-09-28T15:05:14.919Z"
   },
   {
    "duration": 3,
    "start_time": "2021-09-28T15:06:13.337Z"
   },
   {
    "duration": 5,
    "start_time": "2021-09-28T15:06:36.481Z"
   },
   {
    "duration": 6,
    "start_time": "2021-09-28T15:06:48.876Z"
   },
   {
    "duration": 9,
    "start_time": "2021-09-28T15:08:21.429Z"
   },
   {
    "duration": 191,
    "start_time": "2021-09-28T15:08:57.986Z"
   },
   {
    "duration": 8,
    "start_time": "2021-09-28T15:09:04.370Z"
   },
   {
    "duration": 6952,
    "start_time": "2021-09-28T15:10:10.997Z"
   },
   {
    "duration": 8,
    "start_time": "2021-09-28T15:11:00.193Z"
   },
   {
    "duration": 3,
    "start_time": "2021-09-28T15:11:06.070Z"
   },
   {
    "duration": 475,
    "start_time": "2021-09-28T15:11:07.353Z"
   },
   {
    "duration": 496,
    "start_time": "2021-09-28T15:11:13.437Z"
   },
   {
    "duration": 443,
    "start_time": "2021-09-28T15:11:49.129Z"
   },
   {
    "duration": 474,
    "start_time": "2021-09-28T15:12:55.916Z"
   },
   {
    "duration": 112,
    "start_time": "2021-09-28T15:14:54.949Z"
   },
   {
    "duration": 380,
    "start_time": "2021-09-28T15:15:02.803Z"
   },
   {
    "duration": 381,
    "start_time": "2021-09-28T15:18:33.278Z"
   },
   {
    "duration": 488,
    "start_time": "2021-09-28T15:18:43.612Z"
   },
   {
    "duration": 508,
    "start_time": "2021-09-28T15:20:14.396Z"
   },
   {
    "duration": 480,
    "start_time": "2021-09-28T15:21:13.477Z"
   },
   {
    "duration": 483,
    "start_time": "2021-09-28T15:21:56.076Z"
   },
   {
    "duration": 481,
    "start_time": "2021-09-28T15:22:05.469Z"
   },
   {
    "duration": 475,
    "start_time": "2021-09-28T15:28:01.268Z"
   },
   {
    "duration": 449,
    "start_time": "2021-09-28T15:28:28.810Z"
   },
   {
    "duration": 469,
    "start_time": "2021-09-28T15:38:25.178Z"
   },
   {
    "duration": 885,
    "start_time": "2021-09-28T15:49:29.153Z"
   },
   {
    "duration": 742,
    "start_time": "2021-09-28T15:51:08.741Z"
   },
   {
    "duration": 477,
    "start_time": "2021-09-28T15:51:49.345Z"
   },
   {
    "duration": 1651,
    "start_time": "2021-09-28T15:52:33.531Z"
   },
   {
    "duration": 1784,
    "start_time": "2021-09-28T15:52:52.411Z"
   },
   {
    "duration": 1877,
    "start_time": "2021-09-28T15:53:18.360Z"
   },
   {
    "duration": 1816,
    "start_time": "2021-09-28T15:54:42.946Z"
   },
   {
    "duration": 234,
    "start_time": "2021-09-28T17:49:36.258Z"
   },
   {
    "duration": 8,
    "start_time": "2021-09-28T17:50:12.826Z"
   },
   {
    "duration": 90,
    "start_time": "2021-09-28T17:50:14.278Z"
   },
   {
    "duration": 5,
    "start_time": "2021-09-28T17:50:15.050Z"
   },
   {
    "duration": 95,
    "start_time": "2021-09-28T17:50:15.275Z"
   },
   {
    "duration": 3,
    "start_time": "2021-09-28T17:50:15.778Z"
   },
   {
    "duration": 83,
    "start_time": "2021-09-28T17:50:16.025Z"
   },
   {
    "duration": 6,
    "start_time": "2021-09-28T17:50:16.750Z"
   },
   {
    "duration": 35,
    "start_time": "2021-09-28T17:50:17.592Z"
   },
   {
    "duration": 9,
    "start_time": "2021-09-28T17:50:18.034Z"
   },
   {
    "duration": 6,
    "start_time": "2021-09-28T17:50:18.492Z"
   },
   {
    "duration": 10,
    "start_time": "2021-09-28T17:50:19.216Z"
   },
   {
    "duration": 29,
    "start_time": "2021-09-28T17:50:19.805Z"
   },
   {
    "duration": 8,
    "start_time": "2021-09-28T17:50:21.579Z"
   },
   {
    "duration": 5,
    "start_time": "2021-09-28T17:50:22.244Z"
   },
   {
    "duration": 12,
    "start_time": "2021-09-28T17:50:22.824Z"
   },
   {
    "duration": 19,
    "start_time": "2021-09-28T17:50:23.499Z"
   },
   {
    "duration": 4,
    "start_time": "2021-09-28T17:50:24.918Z"
   },
   {
    "duration": 17,
    "start_time": "2021-09-28T17:50:25.428Z"
   },
   {
    "duration": 24,
    "start_time": "2021-09-28T17:50:27.089Z"
   },
   {
    "duration": 1090,
    "start_time": "2021-09-28T17:50:27.667Z"
   },
   {
    "duration": 1906,
    "start_time": "2021-09-28T17:50:29.652Z"
   },
   {
    "duration": 5,
    "start_time": "2021-09-28T17:50:33.245Z"
   },
   {
    "duration": 988,
    "start_time": "2021-09-28T17:50:33.253Z"
   },
   {
    "duration": 20,
    "start_time": "2021-09-28T17:50:35.922Z"
   },
   {
    "duration": 32,
    "start_time": "2021-09-28T17:50:47.990Z"
   },
   {
    "duration": 8,
    "start_time": "2021-09-28T17:50:53.408Z"
   },
   {
    "duration": 468,
    "start_time": "2021-09-28T17:50:54.095Z"
   },
   {
    "duration": 232,
    "start_time": "2021-09-28T17:50:56.080Z"
   },
   {
    "duration": 5080,
    "start_time": "2021-09-28T17:51:32.501Z"
   },
   {
    "duration": 229,
    "start_time": "2021-09-28T17:52:08.091Z"
   },
   {
    "duration": 392,
    "start_time": "2021-09-28T17:52:58.040Z"
   },
   {
    "duration": 234,
    "start_time": "2021-09-28T17:53:15.145Z"
   },
   {
    "duration": 235,
    "start_time": "2021-09-28T17:54:19.983Z"
   },
   {
    "duration": 450,
    "start_time": "2021-09-28T17:54:30.392Z"
   },
   {
    "duration": 248,
    "start_time": "2021-09-28T17:54:42.598Z"
   },
   {
    "duration": 241,
    "start_time": "2021-09-28T17:55:12.085Z"
   },
   {
    "duration": 219,
    "start_time": "2021-09-28T17:55:29.040Z"
   },
   {
    "duration": 64,
    "start_time": "2021-09-28T17:55:59.756Z"
   },
   {
    "duration": 229,
    "start_time": "2021-09-28T17:56:17.736Z"
   },
   {
    "duration": 68,
    "start_time": "2021-09-28T17:57:47.589Z"
   },
   {
    "duration": 496,
    "start_time": "2021-09-28T17:58:00.147Z"
   },
   {
    "duration": 5029,
    "start_time": "2021-09-28T18:47:23.998Z"
   },
   {
    "duration": 100,
    "start_time": "2021-09-28T18:47:29.029Z"
   },
   {
    "duration": 3,
    "start_time": "2021-09-28T18:47:29.132Z"
   },
   {
    "duration": 99,
    "start_time": "2021-09-28T18:47:29.137Z"
   },
   {
    "duration": 3,
    "start_time": "2021-09-28T18:47:29.238Z"
   },
   {
    "duration": 102,
    "start_time": "2021-09-28T18:47:29.242Z"
   },
   {
    "duration": 7,
    "start_time": "2021-09-28T18:47:29.346Z"
   },
   {
    "duration": 50,
    "start_time": "2021-09-28T18:47:29.355Z"
   },
   {
    "duration": 9,
    "start_time": "2021-09-28T18:47:29.407Z"
   },
   {
    "duration": 9,
    "start_time": "2021-09-28T18:47:29.418Z"
   },
   {
    "duration": 16,
    "start_time": "2021-09-28T18:47:29.429Z"
   },
   {
    "duration": 27,
    "start_time": "2021-09-28T18:47:29.446Z"
   },
   {
    "duration": 26,
    "start_time": "2021-09-28T18:47:29.474Z"
   },
   {
    "duration": 5,
    "start_time": "2021-09-28T18:47:29.501Z"
   },
   {
    "duration": 14,
    "start_time": "2021-09-28T18:47:29.507Z"
   },
   {
    "duration": 18,
    "start_time": "2021-09-28T18:47:29.523Z"
   },
   {
    "duration": 4,
    "start_time": "2021-09-28T18:47:29.542Z"
   },
   {
    "duration": 15,
    "start_time": "2021-09-28T18:47:29.548Z"
   },
   {
    "duration": 51,
    "start_time": "2021-09-28T18:47:29.565Z"
   },
   {
    "duration": 1075,
    "start_time": "2021-09-28T18:47:29.617Z"
   },
   {
    "duration": 1762,
    "start_time": "2021-09-28T18:47:30.694Z"
   },
   {
    "duration": 6,
    "start_time": "2021-09-28T18:47:32.458Z"
   },
   {
    "duration": 995,
    "start_time": "2021-09-28T18:47:32.467Z"
   },
   {
    "duration": 321,
    "start_time": "2021-09-28T18:47:33.464Z"
   },
   {
    "duration": 34,
    "start_time": "2021-09-28T18:47:33.787Z"
   },
   {
    "duration": 8,
    "start_time": "2021-09-28T18:47:33.822Z"
   },
   {
    "duration": 473,
    "start_time": "2021-09-28T18:47:33.831Z"
   },
   {
    "duration": 4,
    "start_time": "2021-09-28T18:47:34.306Z"
   },
   {
    "duration": 13,
    "start_time": "2021-09-28T18:47:34.311Z"
   },
   {
    "duration": 54,
    "start_time": "2021-09-28T18:47:34.325Z"
   },
   {
    "duration": 46,
    "start_time": "2021-09-28T18:47:34.380Z"
   },
   {
    "duration": 4,
    "start_time": "2021-09-28T18:47:34.427Z"
   },
   {
    "duration": 9,
    "start_time": "2021-09-28T18:47:34.433Z"
   },
   {
    "duration": 85,
    "start_time": "2021-09-28T18:47:34.443Z"
   },
   {
    "duration": 55271,
    "start_time": "2021-09-28T18:47:34.530Z"
   },
   {
    "duration": 14,
    "start_time": "2021-09-28T18:48:29.803Z"
   },
   {
    "duration": 172,
    "start_time": "2021-09-28T18:48:29.819Z"
   },
   {
    "duration": 17112,
    "start_time": "2021-09-28T18:48:29.993Z"
   },
   {
    "duration": 289,
    "start_time": "2021-09-28T18:48:47.106Z"
   },
   {
    "duration": 506,
    "start_time": "2021-09-28T18:48:47.399Z"
   },
   {
    "duration": 4611,
    "start_time": "2021-09-28T18:48:47.906Z"
   },
   {
    "duration": 18,
    "start_time": "2021-09-28T18:48:52.518Z"
   },
   {
    "duration": 29,
    "start_time": "2021-09-28T18:48:52.537Z"
   },
   {
    "duration": 409,
    "start_time": "2021-09-28T18:48:52.568Z"
   },
   {
    "duration": 7,
    "start_time": "2021-09-28T18:48:52.978Z"
   },
   {
    "duration": 7978,
    "start_time": "2021-09-28T18:48:52.987Z"
   },
   {
    "duration": 124487,
    "start_time": "2021-09-28T18:49:00.967Z"
   },
   {
    "duration": 4014,
    "start_time": "2021-09-28T18:51:05.456Z"
   },
   {
    "duration": 7,
    "start_time": "2021-09-28T18:51:09.472Z"
   },
   {
    "duration": 40,
    "start_time": "2021-09-28T18:51:09.480Z"
   },
   {
    "duration": 5083,
    "start_time": "2021-09-28T18:51:09.521Z"
   },
   {
    "duration": 168495,
    "start_time": "2021-09-28T18:51:14.606Z"
   },
   {
    "duration": 1306,
    "start_time": "2021-09-28T18:54:03.103Z"
   },
   {
    "duration": 363,
    "start_time": "2021-09-28T18:54:04.411Z"
   },
   {
    "duration": 15625,
    "start_time": "2021-09-28T18:54:04.776Z"
   },
   {
    "duration": 10,
    "start_time": "2021-09-28T18:54:20.403Z"
   },
   {
    "duration": 4806,
    "start_time": "2021-09-28T18:54:20.415Z"
   },
   {
    "duration": 51,
    "start_time": "2021-09-28T18:54:25.223Z"
   },
   {
    "duration": 27,
    "start_time": "2021-09-28T18:54:25.276Z"
   },
   {
    "duration": 9,
    "start_time": "2021-09-28T18:54:25.305Z"
   },
   {
    "duration": 10,
    "start_time": "2021-09-28T18:54:25.316Z"
   },
   {
    "duration": 1030,
    "start_time": "2021-09-28T18:54:25.328Z"
   },
   {
    "duration": 637,
    "start_time": "2021-09-28T18:54:26.359Z"
   },
   {
    "duration": 236,
    "start_time": "2021-09-28T18:54:26.998Z"
   },
   {
    "duration": 7,
    "start_time": "2021-09-28T18:54:27.236Z"
   },
   {
    "duration": 15,
    "start_time": "2021-09-28T18:54:27.245Z"
   },
   {
    "duration": 1791,
    "start_time": "2021-09-28T18:54:27.262Z"
   },
   {
    "duration": 483,
    "start_time": "2021-09-28T19:13:16.822Z"
   },
   {
    "duration": 465,
    "start_time": "2021-09-28T19:13:27.894Z"
   },
   {
    "duration": 479,
    "start_time": "2021-09-28T19:13:53.294Z"
   },
   {
    "duration": 476,
    "start_time": "2021-09-28T19:14:20.655Z"
   },
   {
    "duration": 519,
    "start_time": "2021-09-28T19:15:55.027Z"
   },
   {
    "duration": 467,
    "start_time": "2021-09-28T19:20:17.940Z"
   },
   {
    "duration": 1756,
    "start_time": "2021-09-28T19:20:31.924Z"
   },
   {
    "duration": 1792,
    "start_time": "2021-09-28T19:20:54.620Z"
   },
   {
    "duration": 532,
    "start_time": "2021-09-28T19:21:52.746Z"
   },
   {
    "duration": 477,
    "start_time": "2021-09-28T19:22:15.565Z"
   },
   {
    "duration": 462,
    "start_time": "2021-09-28T19:23:54.800Z"
   },
   {
    "duration": 511,
    "start_time": "2021-09-28T19:33:57.725Z"
   },
   {
    "duration": 491,
    "start_time": "2021-09-28T19:34:51.816Z"
   },
   {
    "duration": 505,
    "start_time": "2021-09-28T19:36:20.434Z"
   },
   {
    "duration": 473,
    "start_time": "2021-09-28T19:36:54.453Z"
   },
   {
    "duration": 502,
    "start_time": "2021-09-28T19:37:24.842Z"
   },
   {
    "duration": 5819,
    "start_time": "2021-09-28T21:09:14.486Z"
   },
   {
    "duration": 93,
    "start_time": "2021-09-28T21:09:20.307Z"
   },
   {
    "duration": 3,
    "start_time": "2021-09-28T21:09:20.402Z"
   },
   {
    "duration": 117,
    "start_time": "2021-09-28T21:09:20.406Z"
   },
   {
    "duration": 3,
    "start_time": "2021-09-28T21:09:20.525Z"
   },
   {
    "duration": 96,
    "start_time": "2021-09-28T21:09:20.529Z"
   },
   {
    "duration": 6,
    "start_time": "2021-09-28T21:09:20.627Z"
   },
   {
    "duration": 39,
    "start_time": "2021-09-28T21:09:20.636Z"
   },
   {
    "duration": 24,
    "start_time": "2021-09-28T21:09:20.677Z"
   },
   {
    "duration": 4,
    "start_time": "2021-09-28T21:09:20.703Z"
   },
   {
    "duration": 11,
    "start_time": "2021-09-28T21:09:20.709Z"
   },
   {
    "duration": 29,
    "start_time": "2021-09-28T21:09:20.721Z"
   },
   {
    "duration": 5,
    "start_time": "2021-09-28T21:09:20.751Z"
   },
   {
    "duration": 8,
    "start_time": "2021-09-28T21:09:20.758Z"
   },
   {
    "duration": 41,
    "start_time": "2021-09-28T21:09:20.767Z"
   },
   {
    "duration": 17,
    "start_time": "2021-09-28T21:09:20.810Z"
   },
   {
    "duration": 4,
    "start_time": "2021-09-28T21:09:20.828Z"
   },
   {
    "duration": 16,
    "start_time": "2021-09-28T21:09:20.834Z"
   },
   {
    "duration": 51,
    "start_time": "2021-09-28T21:09:20.851Z"
   },
   {
    "duration": 1126,
    "start_time": "2021-09-28T21:09:20.904Z"
   },
   {
    "duration": 1832,
    "start_time": "2021-09-28T21:09:22.032Z"
   },
   {
    "duration": 5,
    "start_time": "2021-09-28T21:09:23.866Z"
   },
   {
    "duration": 978,
    "start_time": "2021-09-28T21:09:23.874Z"
   },
   {
    "duration": 349,
    "start_time": "2021-09-28T21:09:24.854Z"
   },
   {
    "duration": 38,
    "start_time": "2021-09-28T21:09:25.205Z"
   },
   {
    "duration": 8,
    "start_time": "2021-09-28T21:09:25.245Z"
   },
   {
    "duration": 499,
    "start_time": "2021-09-28T21:09:25.254Z"
   },
   {
    "duration": 4,
    "start_time": "2021-09-28T21:09:25.755Z"
   },
   {
    "duration": 18,
    "start_time": "2021-09-28T21:09:25.760Z"
   },
   {
    "duration": 63,
    "start_time": "2021-09-28T21:09:25.780Z"
   },
   {
    "duration": 32,
    "start_time": "2021-09-28T21:09:25.844Z"
   },
   {
    "duration": 4,
    "start_time": "2021-09-28T21:09:25.877Z"
   },
   {
    "duration": 18,
    "start_time": "2021-09-28T21:09:25.883Z"
   },
   {
    "duration": 73,
    "start_time": "2021-09-28T21:09:25.902Z"
   },
   {
    "duration": 55200,
    "start_time": "2021-09-28T21:09:25.976Z"
   },
   {
    "duration": 22,
    "start_time": "2021-09-28T21:10:21.178Z"
   },
   {
    "duration": 174,
    "start_time": "2021-09-28T21:10:21.202Z"
   },
   {
    "duration": 17078,
    "start_time": "2021-09-28T21:10:21.378Z"
   },
   {
    "duration": 277,
    "start_time": "2021-09-28T21:10:38.457Z"
   },
   {
    "duration": 475,
    "start_time": "2021-09-28T21:10:38.736Z"
   },
   {
    "duration": 4604,
    "start_time": "2021-09-28T21:10:39.214Z"
   },
   {
    "duration": 17,
    "start_time": "2021-09-28T21:10:43.819Z"
   },
   {
    "duration": 30,
    "start_time": "2021-09-28T21:10:43.838Z"
   },
   {
    "duration": 404,
    "start_time": "2021-09-28T21:10:43.869Z"
   },
   {
    "duration": 6,
    "start_time": "2021-09-28T21:10:44.275Z"
   },
   {
    "duration": 7821,
    "start_time": "2021-09-28T21:10:44.282Z"
   },
   {
    "duration": 125077,
    "start_time": "2021-09-28T21:10:52.105Z"
   },
   {
    "duration": 4124,
    "start_time": "2021-09-28T21:12:57.184Z"
   },
   {
    "duration": 7,
    "start_time": "2021-09-28T21:13:01.310Z"
   },
   {
    "duration": 46,
    "start_time": "2021-09-28T21:13:01.319Z"
   },
   {
    "duration": 5148,
    "start_time": "2021-09-28T21:13:01.367Z"
   },
   {
    "duration": 171989,
    "start_time": "2021-09-28T21:13:06.517Z"
   },
   {
    "duration": 1299,
    "start_time": "2021-09-28T21:15:58.508Z"
   },
   {
    "duration": 369,
    "start_time": "2021-09-28T21:15:59.809Z"
   },
   {
    "duration": 15419,
    "start_time": "2021-09-28T21:16:00.180Z"
   },
   {
    "duration": 9,
    "start_time": "2021-09-28T21:16:15.601Z"
   },
   {
    "duration": 4718,
    "start_time": "2021-09-28T21:16:15.612Z"
   },
   {
    "duration": 79,
    "start_time": "2021-09-28T21:16:20.332Z"
   },
   {
    "duration": 3,
    "start_time": "2021-09-28T21:16:20.413Z"
   },
   {
    "duration": 7,
    "start_time": "2021-09-28T21:16:20.418Z"
   },
   {
    "duration": 8,
    "start_time": "2021-09-28T21:16:20.426Z"
   },
   {
    "duration": 1045,
    "start_time": "2021-09-28T21:16:20.435Z"
   },
   {
    "duration": 640,
    "start_time": "2021-09-28T21:16:21.481Z"
   },
   {
    "duration": 244,
    "start_time": "2021-09-28T21:16:22.123Z"
   },
   {
    "duration": 3,
    "start_time": "2021-09-28T21:16:22.369Z"
   },
   {
    "duration": 8,
    "start_time": "2021-09-28T21:16:22.374Z"
   },
   {
    "duration": 1826,
    "start_time": "2021-09-28T21:16:22.384Z"
   },
   {
    "duration": 14603,
    "start_time": "2021-09-29T10:02:10.469Z"
   },
   {
    "duration": 800,
    "start_time": "2021-09-29T10:02:37.269Z"
   },
   {
    "duration": 5,
    "start_time": "2021-09-29T10:02:38.870Z"
   },
   {
    "duration": 2196,
    "start_time": "2021-09-29T10:02:38.971Z"
   },
   {
    "duration": 5,
    "start_time": "2021-09-29T10:02:41.169Z"
   },
   {
    "duration": 1191,
    "start_time": "2021-09-29T10:02:41.176Z"
   },
   {
    "duration": 100,
    "start_time": "2021-09-29T10:02:47.467Z"
   },
   {
    "duration": 402,
    "start_time": "2021-09-29T10:02:48.068Z"
   },
   {
    "duration": 198,
    "start_time": "2021-09-29T10:02:48.768Z"
   },
   {
    "duration": 99,
    "start_time": "2021-09-29T10:02:49.168Z"
   },
   {
    "duration": 202,
    "start_time": "2021-09-29T10:02:49.668Z"
   },
   {
    "duration": 309,
    "start_time": "2021-09-29T10:02:49.967Z"
   },
   {
    "duration": 99,
    "start_time": "2021-09-29T10:02:50.467Z"
   },
   {
    "duration": 9,
    "start_time": "2021-09-29T10:02:50.767Z"
   },
   {
    "duration": 298,
    "start_time": "2021-09-29T10:02:51.168Z"
   },
   {
    "duration": 299,
    "start_time": "2021-09-29T10:02:51.574Z"
   },
   {
    "duration": 5,
    "start_time": "2021-09-29T10:02:53.267Z"
   },
   {
    "duration": 200,
    "start_time": "2021-09-29T10:02:53.868Z"
   },
   {
    "duration": 207,
    "start_time": "2021-09-29T10:02:56.068Z"
   },
   {
    "duration": 13898,
    "start_time": "2021-09-29T10:02:56.374Z"
   },
   {
    "duration": 21006,
    "start_time": "2021-09-29T10:03:10.367Z"
   },
   {
    "duration": 92,
    "start_time": "2021-09-29T10:03:31.377Z"
   },
   {
    "duration": 8095,
    "start_time": "2021-09-29T10:03:31.473Z"
   },
   {
    "duration": 995,
    "start_time": "2021-09-29T10:03:39.571Z"
   },
   {
    "duration": 7,
    "start_time": "2021-09-29T10:04:14.468Z"
   }
  ],
  "colab": {
   "collapsed_sections": [],
   "name": "final_project (2).ipynb",
   "provenance": []
  },
  "kernelspec": {
   "display_name": "Python 3",
   "language": "python",
   "name": "python3"
  },
  "language_info": {
   "codemirror_mode": {
    "name": "ipython",
    "version": 3
   },
   "file_extension": ".py",
   "mimetype": "text/x-python",
   "name": "python",
   "nbconvert_exporter": "python",
   "pygments_lexer": "ipython3",
   "version": "3.8.8"
  },
  "toc": {
   "base_numbering": 1,
   "nav_menu": {},
   "number_sections": true,
   "sideBar": true,
   "skip_h1_title": true,
   "title_cell": "Table of Contents",
   "title_sidebar": "Contents",
   "toc_cell": false,
   "toc_position": {},
   "toc_section_display": true,
   "toc_window_display": false
  }
 },
 "nbformat": 4,
 "nbformat_minor": 1
}
