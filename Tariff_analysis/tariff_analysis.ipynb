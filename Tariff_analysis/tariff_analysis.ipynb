{
 "cells": [
  {
   "cell_type": "markdown",
   "metadata": {},
   "source": [
    "# Определение перспективного тарифа для оператора сотовой связи"
   ]
  },
  {
   "cell_type": "markdown",
   "metadata": {},
   "source": [
    "## Описание проекта"
   ]
  },
  {
   "cell_type": "markdown",
   "metadata": {},
   "source": [
    "Оператор сотовой связи предлагает два тарифных плана: Smart и Ultra. Необходимо разобраться, какой тариф приносит больший доход и является наиболее перспективным с точки зрения продвижения среди потенциальных клиентов. С этой целью компания предоставила для анализа небольшую выборку клиентов (500 человек).\n",
    "\n",
    "**Цель проекта**\n",
    "\n",
    "Исследовать по выборочным данным поведение клиентов телекоммуникационной компании и выявить наиболее перспективный тариф с точки зрения получения прибыли, привлечения новых клиентов и удержания настоящих.\n",
    "\n",
    "**Задачи проекта**\n",
    "1. Изучить исходные датасеты на предмет корректного типа данных, отсутствующих значений, наличия дубликатов и прочих несоответствий.\n",
    "2. Рассчитать необходимые для дальнейшего анализа параметры.\n",
    "3. Изучить общую статистику по звонкам, сообщениям и интернет-трафику.\n",
    "4. Сформулировать гипотезы о доходности тарифов и провести проверку этих гипотез."
   ]
  },
  {
   "cell_type": "markdown",
   "metadata": {},
   "source": [
    "## Изучение исходных данных"
   ]
  },
  {
   "cell_type": "code",
   "execution_count": 1,
   "metadata": {},
   "outputs": [],
   "source": [
    "from scipy import stats as st\n",
    "import numpy as np\n",
    "import pandas as pd\n",
    "import matplotlib.pyplot as plt\n",
    "from IPython.display import display\n",
    "import math\n",
    "pd.set_option('display.max_columns', None)\n",
    "\n",
    "import warnings\n",
    "warnings.filterwarnings(\"ignore\")"
   ]
  },
  {
   "cell_type": "code",
   "execution_count": 2,
   "metadata": {},
   "outputs": [],
   "source": [
    "calls = pd.read_csv('/datasets/calls.csv')\n",
    "internet = pd.read_csv('/datasets/internet.csv')\n",
    "messages = pd.read_csv('/datasets/messages.csv')\n",
    "tariffs = pd.read_csv('/datasets/tariffs.csv')\n",
    "users = pd.read_csv('/datasets/users.csv')"
   ]
  },
  {
   "cell_type": "markdown",
   "metadata": {},
   "source": [
    "Упростим просмотр таблиц и статистики, выведем их вместе. Для этого создадим словарь для всех датафреймов с заголовками и сохраним в переменной data. Напишем цикл для просмотра."
   ]
  },
  {
   "cell_type": "code",
   "execution_count": 3,
   "metadata": {},
   "outputs": [],
   "source": [
    "data = {'Данные по пользователям': users, 'Статистика звонков': calls, 'Статистика сообщений': messages, 'Статистика интернет-соединений': internet, 'Справка о тарифах': tariffs}"
   ]
  },
  {
   "cell_type": "code",
   "execution_count": 4,
   "metadata": {},
   "outputs": [
    {
     "name": "stdout",
     "output_type": "stream",
     "text": [
      "Данные по пользователям\n"
     ]
    },
    {
     "data": {
      "text/html": [
       "<div>\n",
       "<style scoped>\n",
       "    .dataframe tbody tr th:only-of-type {\n",
       "        vertical-align: middle;\n",
       "    }\n",
       "\n",
       "    .dataframe tbody tr th {\n",
       "        vertical-align: top;\n",
       "    }\n",
       "\n",
       "    .dataframe thead th {\n",
       "        text-align: right;\n",
       "    }\n",
       "</style>\n",
       "<table border=\"1\" class=\"dataframe\">\n",
       "  <thead>\n",
       "    <tr style=\"text-align: right;\">\n",
       "      <th></th>\n",
       "      <th>user_id</th>\n",
       "      <th>age</th>\n",
       "      <th>churn_date</th>\n",
       "      <th>city</th>\n",
       "      <th>first_name</th>\n",
       "      <th>last_name</th>\n",
       "      <th>reg_date</th>\n",
       "      <th>tariff</th>\n",
       "    </tr>\n",
       "  </thead>\n",
       "  <tbody>\n",
       "    <tr>\n",
       "      <td>0</td>\n",
       "      <td>1000</td>\n",
       "      <td>52</td>\n",
       "      <td>NaN</td>\n",
       "      <td>Краснодар</td>\n",
       "      <td>Рафаил</td>\n",
       "      <td>Верещагин</td>\n",
       "      <td>2018-05-25</td>\n",
       "      <td>ultra</td>\n",
       "    </tr>\n",
       "    <tr>\n",
       "      <td>1</td>\n",
       "      <td>1001</td>\n",
       "      <td>41</td>\n",
       "      <td>NaN</td>\n",
       "      <td>Москва</td>\n",
       "      <td>Иван</td>\n",
       "      <td>Ежов</td>\n",
       "      <td>2018-11-01</td>\n",
       "      <td>smart</td>\n",
       "    </tr>\n",
       "    <tr>\n",
       "      <td>2</td>\n",
       "      <td>1002</td>\n",
       "      <td>59</td>\n",
       "      <td>NaN</td>\n",
       "      <td>Стерлитамак</td>\n",
       "      <td>Евгений</td>\n",
       "      <td>Абрамович</td>\n",
       "      <td>2018-06-17</td>\n",
       "      <td>smart</td>\n",
       "    </tr>\n",
       "    <tr>\n",
       "      <td>3</td>\n",
       "      <td>1003</td>\n",
       "      <td>23</td>\n",
       "      <td>NaN</td>\n",
       "      <td>Москва</td>\n",
       "      <td>Белла</td>\n",
       "      <td>Белякова</td>\n",
       "      <td>2018-08-17</td>\n",
       "      <td>ultra</td>\n",
       "    </tr>\n",
       "    <tr>\n",
       "      <td>4</td>\n",
       "      <td>1004</td>\n",
       "      <td>68</td>\n",
       "      <td>NaN</td>\n",
       "      <td>Новокузнецк</td>\n",
       "      <td>Татьяна</td>\n",
       "      <td>Авдеенко</td>\n",
       "      <td>2018-05-14</td>\n",
       "      <td>ultra</td>\n",
       "    </tr>\n",
       "  </tbody>\n",
       "</table>\n",
       "</div>"
      ],
      "text/plain": [
       "   user_id  age churn_date         city first_name  last_name    reg_date  \\\n",
       "0     1000   52        NaN    Краснодар     Рафаил  Верещагин  2018-05-25   \n",
       "1     1001   41        NaN       Москва       Иван       Ежов  2018-11-01   \n",
       "2     1002   59        NaN  Стерлитамак    Евгений  Абрамович  2018-06-17   \n",
       "3     1003   23        NaN       Москва      Белла   Белякова  2018-08-17   \n",
       "4     1004   68        NaN  Новокузнецк    Татьяна   Авдеенко  2018-05-14   \n",
       "\n",
       "  tariff  \n",
       "0  ultra  \n",
       "1  smart  \n",
       "2  smart  \n",
       "3  ultra  \n",
       "4  ultra  "
      ]
     },
     "metadata": {},
     "output_type": "display_data"
    },
    {
     "name": "stdout",
     "output_type": "stream",
     "text": [
      "<class 'pandas.core.frame.DataFrame'>\n",
      "RangeIndex: 500 entries, 0 to 499\n",
      "Data columns (total 8 columns):\n",
      "user_id       500 non-null int64\n",
      "age           500 non-null int64\n",
      "churn_date    38 non-null object\n",
      "city          500 non-null object\n",
      "first_name    500 non-null object\n",
      "last_name     500 non-null object\n",
      "reg_date      500 non-null object\n",
      "tariff        500 non-null object\n",
      "dtypes: int64(2), object(6)\n",
      "memory usage: 31.4+ KB\n"
     ]
    },
    {
     "data": {
      "text/plain": [
       "None"
      ]
     },
     "metadata": {},
     "output_type": "display_data"
    },
    {
     "data": {
      "text/html": [
       "<div>\n",
       "<style scoped>\n",
       "    .dataframe tbody tr th:only-of-type {\n",
       "        vertical-align: middle;\n",
       "    }\n",
       "\n",
       "    .dataframe tbody tr th {\n",
       "        vertical-align: top;\n",
       "    }\n",
       "\n",
       "    .dataframe thead th {\n",
       "        text-align: right;\n",
       "    }\n",
       "</style>\n",
       "<table border=\"1\" class=\"dataframe\">\n",
       "  <thead>\n",
       "    <tr style=\"text-align: right;\">\n",
       "      <th></th>\n",
       "      <th>user_id</th>\n",
       "      <th>age</th>\n",
       "    </tr>\n",
       "  </thead>\n",
       "  <tbody>\n",
       "    <tr>\n",
       "      <td>count</td>\n",
       "      <td>500.000000</td>\n",
       "      <td>500.00000</td>\n",
       "    </tr>\n",
       "    <tr>\n",
       "      <td>mean</td>\n",
       "      <td>1249.500000</td>\n",
       "      <td>46.58800</td>\n",
       "    </tr>\n",
       "    <tr>\n",
       "      <td>std</td>\n",
       "      <td>144.481833</td>\n",
       "      <td>16.66763</td>\n",
       "    </tr>\n",
       "    <tr>\n",
       "      <td>min</td>\n",
       "      <td>1000.000000</td>\n",
       "      <td>18.00000</td>\n",
       "    </tr>\n",
       "    <tr>\n",
       "      <td>25%</td>\n",
       "      <td>1124.750000</td>\n",
       "      <td>32.00000</td>\n",
       "    </tr>\n",
       "    <tr>\n",
       "      <td>50%</td>\n",
       "      <td>1249.500000</td>\n",
       "      <td>46.00000</td>\n",
       "    </tr>\n",
       "    <tr>\n",
       "      <td>75%</td>\n",
       "      <td>1374.250000</td>\n",
       "      <td>62.00000</td>\n",
       "    </tr>\n",
       "    <tr>\n",
       "      <td>max</td>\n",
       "      <td>1499.000000</td>\n",
       "      <td>75.00000</td>\n",
       "    </tr>\n",
       "  </tbody>\n",
       "</table>\n",
       "</div>"
      ],
      "text/plain": [
       "           user_id        age\n",
       "count   500.000000  500.00000\n",
       "mean   1249.500000   46.58800\n",
       "std     144.481833   16.66763\n",
       "min    1000.000000   18.00000\n",
       "25%    1124.750000   32.00000\n",
       "50%    1249.500000   46.00000\n",
       "75%    1374.250000   62.00000\n",
       "max    1499.000000   75.00000"
      ]
     },
     "metadata": {},
     "output_type": "display_data"
    },
    {
     "name": "stdout",
     "output_type": "stream",
     "text": [
      "-----------------------------------------------------------------\n",
      "Статистика звонков\n"
     ]
    },
    {
     "data": {
      "text/html": [
       "<div>\n",
       "<style scoped>\n",
       "    .dataframe tbody tr th:only-of-type {\n",
       "        vertical-align: middle;\n",
       "    }\n",
       "\n",
       "    .dataframe tbody tr th {\n",
       "        vertical-align: top;\n",
       "    }\n",
       "\n",
       "    .dataframe thead th {\n",
       "        text-align: right;\n",
       "    }\n",
       "</style>\n",
       "<table border=\"1\" class=\"dataframe\">\n",
       "  <thead>\n",
       "    <tr style=\"text-align: right;\">\n",
       "      <th></th>\n",
       "      <th>id</th>\n",
       "      <th>call_date</th>\n",
       "      <th>duration</th>\n",
       "      <th>user_id</th>\n",
       "    </tr>\n",
       "  </thead>\n",
       "  <tbody>\n",
       "    <tr>\n",
       "      <td>0</td>\n",
       "      <td>1000_0</td>\n",
       "      <td>2018-07-25</td>\n",
       "      <td>0.00</td>\n",
       "      <td>1000</td>\n",
       "    </tr>\n",
       "    <tr>\n",
       "      <td>1</td>\n",
       "      <td>1000_1</td>\n",
       "      <td>2018-08-17</td>\n",
       "      <td>0.00</td>\n",
       "      <td>1000</td>\n",
       "    </tr>\n",
       "    <tr>\n",
       "      <td>2</td>\n",
       "      <td>1000_2</td>\n",
       "      <td>2018-06-11</td>\n",
       "      <td>2.85</td>\n",
       "      <td>1000</td>\n",
       "    </tr>\n",
       "    <tr>\n",
       "      <td>3</td>\n",
       "      <td>1000_3</td>\n",
       "      <td>2018-09-21</td>\n",
       "      <td>13.80</td>\n",
       "      <td>1000</td>\n",
       "    </tr>\n",
       "    <tr>\n",
       "      <td>4</td>\n",
       "      <td>1000_4</td>\n",
       "      <td>2018-12-15</td>\n",
       "      <td>5.18</td>\n",
       "      <td>1000</td>\n",
       "    </tr>\n",
       "  </tbody>\n",
       "</table>\n",
       "</div>"
      ],
      "text/plain": [
       "       id   call_date  duration  user_id\n",
       "0  1000_0  2018-07-25      0.00     1000\n",
       "1  1000_1  2018-08-17      0.00     1000\n",
       "2  1000_2  2018-06-11      2.85     1000\n",
       "3  1000_3  2018-09-21     13.80     1000\n",
       "4  1000_4  2018-12-15      5.18     1000"
      ]
     },
     "metadata": {},
     "output_type": "display_data"
    },
    {
     "name": "stdout",
     "output_type": "stream",
     "text": [
      "<class 'pandas.core.frame.DataFrame'>\n",
      "RangeIndex: 202607 entries, 0 to 202606\n",
      "Data columns (total 4 columns):\n",
      "id           202607 non-null object\n",
      "call_date    202607 non-null object\n",
      "duration     202607 non-null float64\n",
      "user_id      202607 non-null int64\n",
      "dtypes: float64(1), int64(1), object(2)\n",
      "memory usage: 6.2+ MB\n"
     ]
    },
    {
     "data": {
      "text/plain": [
       "None"
      ]
     },
     "metadata": {},
     "output_type": "display_data"
    },
    {
     "data": {
      "text/html": [
       "<div>\n",
       "<style scoped>\n",
       "    .dataframe tbody tr th:only-of-type {\n",
       "        vertical-align: middle;\n",
       "    }\n",
       "\n",
       "    .dataframe tbody tr th {\n",
       "        vertical-align: top;\n",
       "    }\n",
       "\n",
       "    .dataframe thead th {\n",
       "        text-align: right;\n",
       "    }\n",
       "</style>\n",
       "<table border=\"1\" class=\"dataframe\">\n",
       "  <thead>\n",
       "    <tr style=\"text-align: right;\">\n",
       "      <th></th>\n",
       "      <th>duration</th>\n",
       "      <th>user_id</th>\n",
       "    </tr>\n",
       "  </thead>\n",
       "  <tbody>\n",
       "    <tr>\n",
       "      <td>count</td>\n",
       "      <td>202607.000000</td>\n",
       "      <td>202607.000000</td>\n",
       "    </tr>\n",
       "    <tr>\n",
       "      <td>mean</td>\n",
       "      <td>6.755887</td>\n",
       "      <td>1253.940619</td>\n",
       "    </tr>\n",
       "    <tr>\n",
       "      <td>std</td>\n",
       "      <td>5.843365</td>\n",
       "      <td>144.722751</td>\n",
       "    </tr>\n",
       "    <tr>\n",
       "      <td>min</td>\n",
       "      <td>0.000000</td>\n",
       "      <td>1000.000000</td>\n",
       "    </tr>\n",
       "    <tr>\n",
       "      <td>25%</td>\n",
       "      <td>1.300000</td>\n",
       "      <td>1126.000000</td>\n",
       "    </tr>\n",
       "    <tr>\n",
       "      <td>50%</td>\n",
       "      <td>6.000000</td>\n",
       "      <td>1260.000000</td>\n",
       "    </tr>\n",
       "    <tr>\n",
       "      <td>75%</td>\n",
       "      <td>10.700000</td>\n",
       "      <td>1379.000000</td>\n",
       "    </tr>\n",
       "    <tr>\n",
       "      <td>max</td>\n",
       "      <td>38.000000</td>\n",
       "      <td>1499.000000</td>\n",
       "    </tr>\n",
       "  </tbody>\n",
       "</table>\n",
       "</div>"
      ],
      "text/plain": [
       "            duration        user_id\n",
       "count  202607.000000  202607.000000\n",
       "mean        6.755887    1253.940619\n",
       "std         5.843365     144.722751\n",
       "min         0.000000    1000.000000\n",
       "25%         1.300000    1126.000000\n",
       "50%         6.000000    1260.000000\n",
       "75%        10.700000    1379.000000\n",
       "max        38.000000    1499.000000"
      ]
     },
     "metadata": {},
     "output_type": "display_data"
    },
    {
     "name": "stdout",
     "output_type": "stream",
     "text": [
      "-----------------------------------------------------------------\n",
      "Статистика сообщений\n"
     ]
    },
    {
     "data": {
      "text/html": [
       "<div>\n",
       "<style scoped>\n",
       "    .dataframe tbody tr th:only-of-type {\n",
       "        vertical-align: middle;\n",
       "    }\n",
       "\n",
       "    .dataframe tbody tr th {\n",
       "        vertical-align: top;\n",
       "    }\n",
       "\n",
       "    .dataframe thead th {\n",
       "        text-align: right;\n",
       "    }\n",
       "</style>\n",
       "<table border=\"1\" class=\"dataframe\">\n",
       "  <thead>\n",
       "    <tr style=\"text-align: right;\">\n",
       "      <th></th>\n",
       "      <th>id</th>\n",
       "      <th>message_date</th>\n",
       "      <th>user_id</th>\n",
       "    </tr>\n",
       "  </thead>\n",
       "  <tbody>\n",
       "    <tr>\n",
       "      <td>0</td>\n",
       "      <td>1000_0</td>\n",
       "      <td>2018-06-27</td>\n",
       "      <td>1000</td>\n",
       "    </tr>\n",
       "    <tr>\n",
       "      <td>1</td>\n",
       "      <td>1000_1</td>\n",
       "      <td>2018-10-08</td>\n",
       "      <td>1000</td>\n",
       "    </tr>\n",
       "    <tr>\n",
       "      <td>2</td>\n",
       "      <td>1000_2</td>\n",
       "      <td>2018-08-04</td>\n",
       "      <td>1000</td>\n",
       "    </tr>\n",
       "    <tr>\n",
       "      <td>3</td>\n",
       "      <td>1000_3</td>\n",
       "      <td>2018-06-16</td>\n",
       "      <td>1000</td>\n",
       "    </tr>\n",
       "    <tr>\n",
       "      <td>4</td>\n",
       "      <td>1000_4</td>\n",
       "      <td>2018-12-05</td>\n",
       "      <td>1000</td>\n",
       "    </tr>\n",
       "  </tbody>\n",
       "</table>\n",
       "</div>"
      ],
      "text/plain": [
       "       id message_date  user_id\n",
       "0  1000_0   2018-06-27     1000\n",
       "1  1000_1   2018-10-08     1000\n",
       "2  1000_2   2018-08-04     1000\n",
       "3  1000_3   2018-06-16     1000\n",
       "4  1000_4   2018-12-05     1000"
      ]
     },
     "metadata": {},
     "output_type": "display_data"
    },
    {
     "name": "stdout",
     "output_type": "stream",
     "text": [
      "<class 'pandas.core.frame.DataFrame'>\n",
      "RangeIndex: 123036 entries, 0 to 123035\n",
      "Data columns (total 3 columns):\n",
      "id              123036 non-null object\n",
      "message_date    123036 non-null object\n",
      "user_id         123036 non-null int64\n",
      "dtypes: int64(1), object(2)\n",
      "memory usage: 2.8+ MB\n"
     ]
    },
    {
     "data": {
      "text/plain": [
       "None"
      ]
     },
     "metadata": {},
     "output_type": "display_data"
    },
    {
     "data": {
      "text/html": [
       "<div>\n",
       "<style scoped>\n",
       "    .dataframe tbody tr th:only-of-type {\n",
       "        vertical-align: middle;\n",
       "    }\n",
       "\n",
       "    .dataframe tbody tr th {\n",
       "        vertical-align: top;\n",
       "    }\n",
       "\n",
       "    .dataframe thead th {\n",
       "        text-align: right;\n",
       "    }\n",
       "</style>\n",
       "<table border=\"1\" class=\"dataframe\">\n",
       "  <thead>\n",
       "    <tr style=\"text-align: right;\">\n",
       "      <th></th>\n",
       "      <th>user_id</th>\n",
       "    </tr>\n",
       "  </thead>\n",
       "  <tbody>\n",
       "    <tr>\n",
       "      <td>count</td>\n",
       "      <td>123036.000000</td>\n",
       "    </tr>\n",
       "    <tr>\n",
       "      <td>mean</td>\n",
       "      <td>1256.989410</td>\n",
       "    </tr>\n",
       "    <tr>\n",
       "      <td>std</td>\n",
       "      <td>143.523967</td>\n",
       "    </tr>\n",
       "    <tr>\n",
       "      <td>min</td>\n",
       "      <td>1000.000000</td>\n",
       "    </tr>\n",
       "    <tr>\n",
       "      <td>25%</td>\n",
       "      <td>1134.000000</td>\n",
       "    </tr>\n",
       "    <tr>\n",
       "      <td>50%</td>\n",
       "      <td>1271.000000</td>\n",
       "    </tr>\n",
       "    <tr>\n",
       "      <td>75%</td>\n",
       "      <td>1381.000000</td>\n",
       "    </tr>\n",
       "    <tr>\n",
       "      <td>max</td>\n",
       "      <td>1499.000000</td>\n",
       "    </tr>\n",
       "  </tbody>\n",
       "</table>\n",
       "</div>"
      ],
      "text/plain": [
       "             user_id\n",
       "count  123036.000000\n",
       "mean     1256.989410\n",
       "std       143.523967\n",
       "min      1000.000000\n",
       "25%      1134.000000\n",
       "50%      1271.000000\n",
       "75%      1381.000000\n",
       "max      1499.000000"
      ]
     },
     "metadata": {},
     "output_type": "display_data"
    },
    {
     "name": "stdout",
     "output_type": "stream",
     "text": [
      "-----------------------------------------------------------------\n",
      "Статистика интернет-соединений\n"
     ]
    },
    {
     "data": {
      "text/html": [
       "<div>\n",
       "<style scoped>\n",
       "    .dataframe tbody tr th:only-of-type {\n",
       "        vertical-align: middle;\n",
       "    }\n",
       "\n",
       "    .dataframe tbody tr th {\n",
       "        vertical-align: top;\n",
       "    }\n",
       "\n",
       "    .dataframe thead th {\n",
       "        text-align: right;\n",
       "    }\n",
       "</style>\n",
       "<table border=\"1\" class=\"dataframe\">\n",
       "  <thead>\n",
       "    <tr style=\"text-align: right;\">\n",
       "      <th></th>\n",
       "      <th>Unnamed: 0</th>\n",
       "      <th>id</th>\n",
       "      <th>mb_used</th>\n",
       "      <th>session_date</th>\n",
       "      <th>user_id</th>\n",
       "    </tr>\n",
       "  </thead>\n",
       "  <tbody>\n",
       "    <tr>\n",
       "      <td>0</td>\n",
       "      <td>0</td>\n",
       "      <td>1000_0</td>\n",
       "      <td>112.95</td>\n",
       "      <td>2018-11-25</td>\n",
       "      <td>1000</td>\n",
       "    </tr>\n",
       "    <tr>\n",
       "      <td>1</td>\n",
       "      <td>1</td>\n",
       "      <td>1000_1</td>\n",
       "      <td>1052.81</td>\n",
       "      <td>2018-09-07</td>\n",
       "      <td>1000</td>\n",
       "    </tr>\n",
       "    <tr>\n",
       "      <td>2</td>\n",
       "      <td>2</td>\n",
       "      <td>1000_2</td>\n",
       "      <td>1197.26</td>\n",
       "      <td>2018-06-25</td>\n",
       "      <td>1000</td>\n",
       "    </tr>\n",
       "    <tr>\n",
       "      <td>3</td>\n",
       "      <td>3</td>\n",
       "      <td>1000_3</td>\n",
       "      <td>550.27</td>\n",
       "      <td>2018-08-22</td>\n",
       "      <td>1000</td>\n",
       "    </tr>\n",
       "    <tr>\n",
       "      <td>4</td>\n",
       "      <td>4</td>\n",
       "      <td>1000_4</td>\n",
       "      <td>302.56</td>\n",
       "      <td>2018-09-24</td>\n",
       "      <td>1000</td>\n",
       "    </tr>\n",
       "  </tbody>\n",
       "</table>\n",
       "</div>"
      ],
      "text/plain": [
       "   Unnamed: 0      id  mb_used session_date  user_id\n",
       "0           0  1000_0   112.95   2018-11-25     1000\n",
       "1           1  1000_1  1052.81   2018-09-07     1000\n",
       "2           2  1000_2  1197.26   2018-06-25     1000\n",
       "3           3  1000_3   550.27   2018-08-22     1000\n",
       "4           4  1000_4   302.56   2018-09-24     1000"
      ]
     },
     "metadata": {},
     "output_type": "display_data"
    },
    {
     "name": "stdout",
     "output_type": "stream",
     "text": [
      "<class 'pandas.core.frame.DataFrame'>\n",
      "RangeIndex: 149396 entries, 0 to 149395\n",
      "Data columns (total 5 columns):\n",
      "Unnamed: 0      149396 non-null int64\n",
      "id              149396 non-null object\n",
      "mb_used         149396 non-null float64\n",
      "session_date    149396 non-null object\n",
      "user_id         149396 non-null int64\n",
      "dtypes: float64(1), int64(2), object(2)\n",
      "memory usage: 5.7+ MB\n"
     ]
    },
    {
     "data": {
      "text/plain": [
       "None"
      ]
     },
     "metadata": {},
     "output_type": "display_data"
    },
    {
     "data": {
      "text/html": [
       "<div>\n",
       "<style scoped>\n",
       "    .dataframe tbody tr th:only-of-type {\n",
       "        vertical-align: middle;\n",
       "    }\n",
       "\n",
       "    .dataframe tbody tr th {\n",
       "        vertical-align: top;\n",
       "    }\n",
       "\n",
       "    .dataframe thead th {\n",
       "        text-align: right;\n",
       "    }\n",
       "</style>\n",
       "<table border=\"1\" class=\"dataframe\">\n",
       "  <thead>\n",
       "    <tr style=\"text-align: right;\">\n",
       "      <th></th>\n",
       "      <th>Unnamed: 0</th>\n",
       "      <th>mb_used</th>\n",
       "      <th>user_id</th>\n",
       "    </tr>\n",
       "  </thead>\n",
       "  <tbody>\n",
       "    <tr>\n",
       "      <td>count</td>\n",
       "      <td>149396.000000</td>\n",
       "      <td>149396.000000</td>\n",
       "      <td>149396.000000</td>\n",
       "    </tr>\n",
       "    <tr>\n",
       "      <td>mean</td>\n",
       "      <td>74697.500000</td>\n",
       "      <td>370.192426</td>\n",
       "      <td>1252.099842</td>\n",
       "    </tr>\n",
       "    <tr>\n",
       "      <td>std</td>\n",
       "      <td>43127.054745</td>\n",
       "      <td>278.300951</td>\n",
       "      <td>144.050823</td>\n",
       "    </tr>\n",
       "    <tr>\n",
       "      <td>min</td>\n",
       "      <td>0.000000</td>\n",
       "      <td>0.000000</td>\n",
       "      <td>1000.000000</td>\n",
       "    </tr>\n",
       "    <tr>\n",
       "      <td>25%</td>\n",
       "      <td>37348.750000</td>\n",
       "      <td>138.187500</td>\n",
       "      <td>1130.000000</td>\n",
       "    </tr>\n",
       "    <tr>\n",
       "      <td>50%</td>\n",
       "      <td>74697.500000</td>\n",
       "      <td>348.015000</td>\n",
       "      <td>1251.000000</td>\n",
       "    </tr>\n",
       "    <tr>\n",
       "      <td>75%</td>\n",
       "      <td>112046.250000</td>\n",
       "      <td>559.552500</td>\n",
       "      <td>1380.000000</td>\n",
       "    </tr>\n",
       "    <tr>\n",
       "      <td>max</td>\n",
       "      <td>149395.000000</td>\n",
       "      <td>1724.830000</td>\n",
       "      <td>1499.000000</td>\n",
       "    </tr>\n",
       "  </tbody>\n",
       "</table>\n",
       "</div>"
      ],
      "text/plain": [
       "          Unnamed: 0        mb_used        user_id\n",
       "count  149396.000000  149396.000000  149396.000000\n",
       "mean    74697.500000     370.192426    1252.099842\n",
       "std     43127.054745     278.300951     144.050823\n",
       "min         0.000000       0.000000    1000.000000\n",
       "25%     37348.750000     138.187500    1130.000000\n",
       "50%     74697.500000     348.015000    1251.000000\n",
       "75%    112046.250000     559.552500    1380.000000\n",
       "max    149395.000000    1724.830000    1499.000000"
      ]
     },
     "metadata": {},
     "output_type": "display_data"
    },
    {
     "name": "stdout",
     "output_type": "stream",
     "text": [
      "-----------------------------------------------------------------\n",
      "Справка о тарифах\n"
     ]
    },
    {
     "data": {
      "text/html": [
       "<div>\n",
       "<style scoped>\n",
       "    .dataframe tbody tr th:only-of-type {\n",
       "        vertical-align: middle;\n",
       "    }\n",
       "\n",
       "    .dataframe tbody tr th {\n",
       "        vertical-align: top;\n",
       "    }\n",
       "\n",
       "    .dataframe thead th {\n",
       "        text-align: right;\n",
       "    }\n",
       "</style>\n",
       "<table border=\"1\" class=\"dataframe\">\n",
       "  <thead>\n",
       "    <tr style=\"text-align: right;\">\n",
       "      <th></th>\n",
       "      <th>messages_included</th>\n",
       "      <th>mb_per_month_included</th>\n",
       "      <th>minutes_included</th>\n",
       "      <th>rub_monthly_fee</th>\n",
       "      <th>rub_per_gb</th>\n",
       "      <th>rub_per_message</th>\n",
       "      <th>rub_per_minute</th>\n",
       "      <th>tariff_name</th>\n",
       "    </tr>\n",
       "  </thead>\n",
       "  <tbody>\n",
       "    <tr>\n",
       "      <td>0</td>\n",
       "      <td>50</td>\n",
       "      <td>15360</td>\n",
       "      <td>500</td>\n",
       "      <td>550</td>\n",
       "      <td>200</td>\n",
       "      <td>3</td>\n",
       "      <td>3</td>\n",
       "      <td>smart</td>\n",
       "    </tr>\n",
       "    <tr>\n",
       "      <td>1</td>\n",
       "      <td>1000</td>\n",
       "      <td>30720</td>\n",
       "      <td>3000</td>\n",
       "      <td>1950</td>\n",
       "      <td>150</td>\n",
       "      <td>1</td>\n",
       "      <td>1</td>\n",
       "      <td>ultra</td>\n",
       "    </tr>\n",
       "  </tbody>\n",
       "</table>\n",
       "</div>"
      ],
      "text/plain": [
       "   messages_included  mb_per_month_included  minutes_included  \\\n",
       "0                 50                  15360               500   \n",
       "1               1000                  30720              3000   \n",
       "\n",
       "   rub_monthly_fee  rub_per_gb  rub_per_message  rub_per_minute tariff_name  \n",
       "0              550         200                3               3       smart  \n",
       "1             1950         150                1               1       ultra  "
      ]
     },
     "metadata": {},
     "output_type": "display_data"
    },
    {
     "name": "stdout",
     "output_type": "stream",
     "text": [
      "<class 'pandas.core.frame.DataFrame'>\n",
      "RangeIndex: 2 entries, 0 to 1\n",
      "Data columns (total 8 columns):\n",
      "messages_included        2 non-null int64\n",
      "mb_per_month_included    2 non-null int64\n",
      "minutes_included         2 non-null int64\n",
      "rub_monthly_fee          2 non-null int64\n",
      "rub_per_gb               2 non-null int64\n",
      "rub_per_message          2 non-null int64\n",
      "rub_per_minute           2 non-null int64\n",
      "tariff_name              2 non-null object\n",
      "dtypes: int64(7), object(1)\n",
      "memory usage: 256.0+ bytes\n"
     ]
    },
    {
     "data": {
      "text/plain": [
       "None"
      ]
     },
     "metadata": {},
     "output_type": "display_data"
    }
   ],
   "source": [
    "for i in range(0,5):\n",
    "    print(list(data.keys())[i])\n",
    "    display(list(data.values())[i].head())\n",
    "    display(list(data.values())[i].info())\n",
    "    if list(data.keys())[i] == 'Справка о тарифах':\n",
    "        continue\n",
    "    display(list(data.values())[i].describe())\n",
    "    print('-----------------------------------------------------------------')"
   ]
  },
  {
   "cell_type": "markdown",
   "metadata": {},
   "source": [
    "В таблице calls (параметр duration) обнаружены значения, равные 0. Посчитаем, какова их доля в датафрейме."
   ]
  },
  {
   "cell_type": "code",
   "execution_count": 5,
   "metadata": {},
   "outputs": [
    {
     "name": "stdout",
     "output_type": "stream",
     "text": [
      "Доля нулей в параметре длительности звонков, датафрейм calls: 0.20\n"
     ]
    }
   ],
   "source": [
    "print('Доля нулей в параметре длительности звонков, датафрейм calls: {:.2f}'.format(len(calls['duration'][calls['duration'] == 0]) / len(calls)))"
   ]
  },
  {
   "cell_type": "markdown",
   "metadata": {},
   "source": [
    "Доля составлятяет пятую часть датафрейма, посмотрим, как распределяются наши данные по длительности звонков на графике. Для построения гистограммы сначала отдельно выделим датасет (назовем его calls2) без нулевых значений и сравним вместе два распределения (с нулем и без нулей в параметре duration)."
   ]
  },
  {
   "cell_type": "code",
   "execution_count": 6,
   "metadata": {},
   "outputs": [
    {
     "data": {
      "text/plain": [
       "<matplotlib.legend.Legend at 0x7fd560555250>"
      ]
     },
     "execution_count": 6,
     "metadata": {},
     "output_type": "execute_result"
    },
    {
     "data": {
      "image/png": "[encoded data removed]",
      "text/plain": [
       "<Figure size 648x432 with 1 Axes>"
      ]
     },
     "metadata": {
      "needs_background": "light"
     },
     "output_type": "display_data"
    }
   ],
   "source": [
    "calls2 = calls.query('duration != 0').copy()\n",
    "\n",
    "fig, ax = plt.subplots(figsize=(9,6))\n",
    "ax.hist(calls['duration'], density=True, bins=40, color='grey', alpha=0.5, histtype='bar')\n",
    "ax.hist(calls2['duration'], density=True, bins=40, color='red', histtype='step')\n",
    "ax.set_title('Длительность звонков')\n",
    "ax.set_xlabel('Длительность разговоров абонентов')\n",
    "ax.set_ylabel('Плотность частоты')\n",
    "ax.grid(alpha=0.2, linestyle='--', linewidth=1)\n",
    "labels= [\"Датасет без нулей\", \"Датасет с нулями\"]\n",
    "ax.legend(labels, fontsize='x-large', labelspacing=1.5, handlelength=4.5)"
   ]
  },
  {
   "cell_type": "markdown",
   "metadata": {},
   "source": [
    "На графике видно, что значения можно считать нормально распределенными за исключением двух обстоятельств: с левой стороны график будто обрезан нулем, и там же наблюдается высокий пик. Эти показатели сильно выбиваются из общего ряда."
   ]
  },
  {
   "cell_type": "markdown",
   "metadata": {},
   "source": [
    "Также посчитаем долю нулей в датафрейме internet (параметр mb_used)."
   ]
  },
  {
   "cell_type": "code",
   "execution_count": 7,
   "metadata": {},
   "outputs": [
    {
     "name": "stdout",
     "output_type": "stream",
     "text": [
      "Доля нулей в объеме сетевого трафика, датафрейм internet 0.13\n"
     ]
    }
   ],
   "source": [
    "print('Доля нулей в объеме сетевого трафика, датафрейм internet {:.2f}'.format(len(internet.query('mb_used == 0')) / len(internet)))"
   ]
  },
  {
   "cell_type": "markdown",
   "metadata": {},
   "source": [
    "Доля довольно большая, посмотрим, как это выглядит на гистограмме. Точно так же, как и со звонками, сохраним отдельно датафрейм (internet2) без нулей в параметре mb_used и сравним два набора."
   ]
  },
  {
   "cell_type": "code",
   "execution_count": 8,
   "metadata": {},
   "outputs": [
    {
     "data": {
      "text/plain": [
       "<matplotlib.legend.Legend at 0x7fd5603fe550>"
      ]
     },
     "execution_count": 8,
     "metadata": {},
     "output_type": "execute_result"
    },
    {
     "data": {
      "image/png": "[encoded data removed]",
      "text/plain": [
       "<Figure size 576x576 with 1 Axes>"
      ]
     },
     "metadata": {
      "needs_background": "light"
     },
     "output_type": "display_data"
    }
   ],
   "source": [
    "internet2 = internet.query('mb_used != 0').copy()\n",
    "\n",
    "fig, ax = plt.subplots(figsize=(8,8))\n",
    "ax.hist(internet['mb_used'], density=True, bins=40, color='grey', alpha=0.5, histtype='bar')\n",
    "ax.hist(internet2['mb_used'], density=True, bins=40, color='red', histtype='step')\n",
    "ax.set_title('Использованный объем сетевого трафика')\n",
    "ax.set_xlabel('Количество использованных мб')\n",
    "ax.set_ylabel('Плотность частоты')\n",
    "ax.grid(alpha=0.2, linestyle='--', linewidth=1)\n",
    "labels= [\"Датасет без нулей\", \"Датасет с нулями\"]\n",
    "ax.legend(labels, fontsize='x-large', labelspacing=1.5, handlelength=4.5)"
   ]
  },
  {
   "cell_type": "markdown",
   "metadata": {},
   "source": [
    "В целом картина похожа на ситуацию со звонками: такой же большой выступ из-за нулей. Хорошо бы понять причину появления этих значений. Есть вероятность, что кроме технических сбоев это могут быть какие-то бесплатные услуги, которые предлагает сотовый оператор. Например, пакет интернета не расходуется при подключении к социальным сетям (Facebook, Instagram, Twitter, TikTok, ВКонтакте) или использовании приложений. Сессия засчиталась, но мегабайты не потратились."
   ]
  },
  {
   "cell_type": "markdown",
   "metadata": {},
   "source": [
    "Проверим таблицы на наличие дубликатов"
   ]
  },
  {
   "cell_type": "code",
   "execution_count": 9,
   "metadata": {},
   "outputs": [
    {
     "name": "stdout",
     "output_type": "stream",
     "text": [
      "0\n",
      "0\n",
      "0\n",
      "0\n"
     ]
    }
   ],
   "source": [
    "print(users.duplicated().sum())\n",
    "print(calls.duplicated().sum())\n",
    "print(messages.duplicated().sum())\n",
    "print(internet.duplicated().sum())"
   ]
  },
  {
   "cell_type": "markdown",
   "metadata": {},
   "source": [
    "### Вывод"
   ]
  },
  {
   "cell_type": "markdown",
   "metadata": {},
   "source": [
    "Для анализа данных предоставлено 5 таблиц, каждая из которых содержит свой фрагмент общей картины: информация по пользователям, совершенным звонкам, посланным сообщениям, объеме использованного сетевого трафика и общая справка о тарифах.\n",
    "\n",
    "Датафрейм users\n",
    "- Содержит данные пользователей, всего 500 записей, 8 столбцов\n",
    "- Churn_date и reg_date в формате object, а нужна дата.\n",
    "- Большое количество пропущенных значений в колонке churn_date, видимо, подавляющее большинство абонентов до сих пор пользуются тарифом.\n",
    "\n",
    "Датафрейм calls\n",
    "- Включает всю информацию по звонкам, всего 202607 записей, 4 колонки.\n",
    "- Столбец call_date - тип данных object, нужно перевести в дату.\n",
    "- Длительность звонка (duration) - тип данных float, поскольку сам оператор округляет до целых значений в большую сторону, переведем в int (тоже в большую сторону).\n",
    "- Также в столбце duration большое количество (почти 20%) значений, равных нулю. Возможно, это пропущенные вызовы.\n",
    "\n",
    "Датафрейм messages\n",
    "- Здесь перечислены записи по всем сообщениям, всего 123036 строк, 3 параметра.\n",
    "- Колонка message_date имеет тип данных object, нужно перевести в дату.\n",
    "\n",
    "Датафрейм internet\n",
    "- Содержит информацию о трафике с устройств пользователей, 149396 записей, 5 параметров\n",
    "- Тип данных столбца mb_used - float, т.к. оператор окргуляет в сторону больших значений, переведем в int, округлим тоже в сторону увеличения.\n",
    "- Тип данных session_date - object, нужно перевести в дату.\n",
    "- В столбце mb_used большое количество (порядка 13%) значений, равных нулю.\n",
    "\n",
    "Датафрейм tariffs\n",
    "- Носит справочный характер, предоставляет информацию о тарифах, в проекте таблица изменятся не будет.\n",
    "\n",
    "Дубликатов во всех датафреймах не обнаружено."
   ]
  },
  {
   "cell_type": "markdown",
   "metadata": {},
   "source": [
    "## Обработка пропущенных значений, изменение типа данных"
   ]
  },
  {
   "cell_type": "markdown",
   "metadata": {},
   "source": [
    "Доли нулевых значений в датафреймах calls (параметр duration) и internet (параметр mb_used) довольно большие (20% и 13% соответственно). Это вполне могут быть пропущенные вызовы, кто-то мог обменяться номерами и просто набрал номер собеседника (чтоб не диктовать и не записывать), а потом сбросил. \n",
    "Подобные бессодержательные звонки могут сильно повлиять на средние значения в исследовании. Поэтому решено учитывать только те разговоры, которые состоялись. Они имеют длительность и, соответственно, стоимость. Что касается нулей в интернет-трафике, то это может быть все, что угодно: от использования приложений, меседжеров и социальных сетей до технического сбоя.\n",
    "Чтобы не искажать результаты исследования, записи с нулями удаляем."
   ]
  },
  {
   "cell_type": "code",
   "execution_count": 10,
   "metadata": {},
   "outputs": [],
   "source": [
    "calls = calls.query('duration != 0')\n",
    "internet = internet.query('mb_used != 0')"
   ]
  },
  {
   "cell_type": "markdown",
   "metadata": {},
   "source": [
    "Поменяем типы данных в ряде столбцов датафреймов.\n",
    "Чтобы окончательно не запутаться в обилии таблиц и не раздувать проект ячейками с однотипными действиями, преобразование типов данных и присвоение групп будет произведено в одних ячейках, но с добавлением комментариев в самом коде. Как ниже:"
   ]
  },
  {
   "cell_type": "code",
   "execution_count": 11,
   "metadata": {},
   "outputs": [],
   "source": [
    "# в users\n",
    "users['churn_date'] = pd.to_datetime(users['churn_date'], format = '%Y-%m-%d')\n",
    "users['reg_date'] = pd.to_datetime(users['reg_date'], format = '%Y-%m-%d')\n",
    "\n",
    "# в calls\n",
    "calls['call_date'] = pd.to_datetime(calls['call_date'], format = '%Y-%m-%d')\n",
    "calls['duration'] = np.ceil(calls['duration']).astype('int')\n",
    "\n",
    "# в messages\n",
    "messages['message_date'] = pd.to_datetime(messages['message_date'], format = '%Y-%m-%d')\n",
    "\n",
    "# в internet\n",
    "internet['session_date'] = pd.to_datetime(internet['session_date'], format = '%Y-%m-%d')\n",
    "internet['mb_used'] = np.ceil(internet['mb_used']).astype('int')"
   ]
  },
  {
   "cell_type": "markdown",
   "metadata": {},
   "source": [
    "Добавим столбцы с месяцами в датафреймах calls, messages и internet, опять в одной ячейке."
   ]
  },
  {
   "cell_type": "code",
   "execution_count": 12,
   "metadata": {},
   "outputs": [],
   "source": [
    "# в calls\n",
    "calls['call_month'] = pd.DatetimeIndex(calls['call_date']).month\n",
    "\n",
    "# в messages\n",
    "messages['message_month'] = pd.DatetimeIndex(messages['message_date']).month\n",
    "\n",
    "# в internet\n",
    "internet['session_month'] = pd.DatetimeIndex(internet['session_date']).month"
   ]
  },
  {
   "cell_type": "markdown",
   "metadata": {},
   "source": [
    "### Вывод"
   ]
  },
  {
   "cell_type": "markdown",
   "metadata": {},
   "source": [
    "В целом исходные наборы данных заполнены довольно аккуратно. Пропущенные значения есть только в столбце сhurn_date, но они появились там по объективным причинам: запись добавляется лишь в том случае, если клиент расторг договор на обслуживание. А подавляющее большинство клиентов действующие, поэтому там ничего нет. Эта графа изменениям не подвергалась.\n",
    "\n",
    "Вопрос о судьбе нулевых значений длительности звонков, колонка duration и сетевого трафика, столбец mb_used (именно нули, а не пропуски) решился их удалением. При описании распределений и сравнении выборок среднее играет большую роль. И если NaN не влияет на значение среднего, то наличие нуля в ячейке еще как. В итоге результаты исследования могут \"поплыть\", поэтому (несмотря, что доля таких звонков и подключений к интернету составляет порядка 20% и 13% соответственно) такие записи удалены и в дальнейшем анализе никак не учитываются."
   ]
  },
  {
   "cell_type": "markdown",
   "metadata": {},
   "source": [
    "## Расчеты параметров, преобразование таблиц"
   ]
  },
  {
   "cell_type": "markdown",
   "metadata": {},
   "source": [
    "Прежде чем посчитать среднюю длительность разговора в месяц, округлим все значения в столбце duration до целого числа в сторону повышения. "
   ]
  },
  {
   "cell_type": "code",
   "execution_count": 13,
   "metadata": {},
   "outputs": [],
   "source": [
    "calls['duration'] = np.ceil(calls['duration'])"
   ]
  },
  {
   "cell_type": "markdown",
   "metadata": {},
   "source": [
    "Соберем в одни таблицы необходимые для анализа данные. Нам потребуется объединить количество и длительность звонков, количество сообщений и использованного трафика с названием тарифа. Название \"лежит\" в датасете users, его и возьмем за основу, а к нему уже будем \"цеплять\" нужные столбцы.\n",
    "Сгруппируем данные по месяцам в четырех датафреймах (количество звонков, длительность звонков, количество сообщений и объем использованного трафика) с помощью сводных таблиц, таблицы сохраним в новых переменных."
   ]
  },
  {
   "cell_type": "code",
   "execution_count": 14,
   "metadata": {},
   "outputs": [
    {
     "name": "stdout",
     "output_type": "stream",
     "text": [
      "\n",
      " Количество всех разговоров за месяц\n"
     ]
    },
    {
     "data": {
      "text/html": [
       "<div>\n",
       "<style scoped>\n",
       "    .dataframe tbody tr th:only-of-type {\n",
       "        vertical-align: middle;\n",
       "    }\n",
       "\n",
       "    .dataframe tbody tr th {\n",
       "        vertical-align: top;\n",
       "    }\n",
       "\n",
       "    .dataframe thead th {\n",
       "        text-align: right;\n",
       "    }\n",
       "</style>\n",
       "<table border=\"1\" class=\"dataframe\">\n",
       "  <thead>\n",
       "    <tr style=\"text-align: right;\">\n",
       "      <th></th>\n",
       "      <th></th>\n",
       "      <th>1</th>\n",
       "      <th>2</th>\n",
       "      <th>3</th>\n",
       "      <th>4</th>\n",
       "      <th>5</th>\n",
       "      <th>6</th>\n",
       "      <th>7</th>\n",
       "      <th>8</th>\n",
       "      <th>9</th>\n",
       "      <th>10</th>\n",
       "      <th>11</th>\n",
       "      <th>12</th>\n",
       "    </tr>\n",
       "    <tr>\n",
       "      <th>tariff</th>\n",
       "      <th>user_id</th>\n",
       "      <th></th>\n",
       "      <th></th>\n",
       "      <th></th>\n",
       "      <th></th>\n",
       "      <th></th>\n",
       "      <th></th>\n",
       "      <th></th>\n",
       "      <th></th>\n",
       "      <th></th>\n",
       "      <th></th>\n",
       "      <th></th>\n",
       "      <th></th>\n",
       "    </tr>\n",
       "  </thead>\n",
       "  <tbody>\n",
       "    <tr>\n",
       "      <td rowspan=\"5\" valign=\"top\">smart</td>\n",
       "      <td>1001</td>\n",
       "      <td>NaN</td>\n",
       "      <td>NaN</td>\n",
       "      <td>NaN</td>\n",
       "      <td>NaN</td>\n",
       "      <td>NaN</td>\n",
       "      <td>NaN</td>\n",
       "      <td>NaN</td>\n",
       "      <td>NaN</td>\n",
       "      <td>NaN</td>\n",
       "      <td>NaN</td>\n",
       "      <td>45.0</td>\n",
       "      <td>47.0</td>\n",
       "    </tr>\n",
       "    <tr>\n",
       "      <td>1002</td>\n",
       "      <td>NaN</td>\n",
       "      <td>NaN</td>\n",
       "      <td>NaN</td>\n",
       "      <td>NaN</td>\n",
       "      <td>NaN</td>\n",
       "      <td>14.0</td>\n",
       "      <td>21.0</td>\n",
       "      <td>37.0</td>\n",
       "      <td>25.0</td>\n",
       "      <td>24.0</td>\n",
       "      <td>25.0</td>\n",
       "      <td>27.0</td>\n",
       "    </tr>\n",
       "    <tr>\n",
       "      <td>1005</td>\n",
       "      <td>11.0</td>\n",
       "      <td>55.0</td>\n",
       "      <td>63.0</td>\n",
       "      <td>77.0</td>\n",
       "      <td>62.0</td>\n",
       "      <td>69.0</td>\n",
       "      <td>62.0</td>\n",
       "      <td>64.0</td>\n",
       "      <td>57.0</td>\n",
       "      <td>78.0</td>\n",
       "      <td>60.0</td>\n",
       "      <td>63.0</td>\n",
       "    </tr>\n",
       "    <tr>\n",
       "      <td>1006</td>\n",
       "      <td>NaN</td>\n",
       "      <td>3.0</td>\n",
       "      <td>36.0</td>\n",
       "      <td>38.0</td>\n",
       "      <td>45.0</td>\n",
       "      <td>48.0</td>\n",
       "      <td>38.0</td>\n",
       "      <td>32.0</td>\n",
       "      <td>47.0</td>\n",
       "      <td>35.0</td>\n",
       "      <td>46.0</td>\n",
       "      <td>44.0</td>\n",
       "    </tr>\n",
       "    <tr>\n",
       "      <td>1007</td>\n",
       "      <td>NaN</td>\n",
       "      <td>NaN</td>\n",
       "      <td>NaN</td>\n",
       "      <td>21.0</td>\n",
       "      <td>57.0</td>\n",
       "      <td>55.0</td>\n",
       "      <td>57.0</td>\n",
       "      <td>49.0</td>\n",
       "      <td>68.0</td>\n",
       "      <td>53.0</td>\n",
       "      <td>67.0</td>\n",
       "      <td>54.0</td>\n",
       "    </tr>\n",
       "  </tbody>\n",
       "</table>\n",
       "</div>"
      ],
      "text/plain": [
       "                   1     2     3     4     5     6     7     8     9    10  \\\n",
       "tariff user_id                                                               \n",
       "smart  1001      NaN   NaN   NaN   NaN   NaN   NaN   NaN   NaN   NaN   NaN   \n",
       "       1002      NaN   NaN   NaN   NaN   NaN  14.0  21.0  37.0  25.0  24.0   \n",
       "       1005     11.0  55.0  63.0  77.0  62.0  69.0  62.0  64.0  57.0  78.0   \n",
       "       1006      NaN   3.0  36.0  38.0  45.0  48.0  38.0  32.0  47.0  35.0   \n",
       "       1007      NaN   NaN   NaN  21.0  57.0  55.0  57.0  49.0  68.0  53.0   \n",
       "\n",
       "                  11    12  \n",
       "tariff user_id              \n",
       "smart  1001     45.0  47.0  \n",
       "       1002     25.0  27.0  \n",
       "       1005     60.0  63.0  \n",
       "       1006     46.0  44.0  \n",
       "       1007     67.0  54.0  "
      ]
     },
     "metadata": {},
     "output_type": "display_data"
    },
    {
     "name": "stdout",
     "output_type": "stream",
     "text": [
      "\n",
      " Длительность всех разговоров за месяц\n"
     ]
    },
    {
     "data": {
      "text/html": [
       "<div>\n",
       "<style scoped>\n",
       "    .dataframe tbody tr th:only-of-type {\n",
       "        vertical-align: middle;\n",
       "    }\n",
       "\n",
       "    .dataframe tbody tr th {\n",
       "        vertical-align: top;\n",
       "    }\n",
       "\n",
       "    .dataframe thead th {\n",
       "        text-align: right;\n",
       "    }\n",
       "</style>\n",
       "<table border=\"1\" class=\"dataframe\">\n",
       "  <thead>\n",
       "    <tr style=\"text-align: right;\">\n",
       "      <th></th>\n",
       "      <th></th>\n",
       "      <th>1</th>\n",
       "      <th>2</th>\n",
       "      <th>3</th>\n",
       "      <th>4</th>\n",
       "      <th>5</th>\n",
       "      <th>6</th>\n",
       "      <th>7</th>\n",
       "      <th>8</th>\n",
       "      <th>9</th>\n",
       "      <th>10</th>\n",
       "      <th>11</th>\n",
       "      <th>12</th>\n",
       "    </tr>\n",
       "    <tr>\n",
       "      <th>tariff</th>\n",
       "      <th>user_id</th>\n",
       "      <th></th>\n",
       "      <th></th>\n",
       "      <th></th>\n",
       "      <th></th>\n",
       "      <th></th>\n",
       "      <th></th>\n",
       "      <th></th>\n",
       "      <th></th>\n",
       "      <th></th>\n",
       "      <th></th>\n",
       "      <th></th>\n",
       "      <th></th>\n",
       "    </tr>\n",
       "  </thead>\n",
       "  <tbody>\n",
       "    <tr>\n",
       "      <td rowspan=\"5\" valign=\"top\">smart</td>\n",
       "      <td>1001</td>\n",
       "      <td>NaN</td>\n",
       "      <td>NaN</td>\n",
       "      <td>NaN</td>\n",
       "      <td>NaN</td>\n",
       "      <td>NaN</td>\n",
       "      <td>NaN</td>\n",
       "      <td>NaN</td>\n",
       "      <td>NaN</td>\n",
       "      <td>NaN</td>\n",
       "      <td>NaN</td>\n",
       "      <td>430.0</td>\n",
       "      <td>414.0</td>\n",
       "    </tr>\n",
       "    <tr>\n",
       "      <td>1002</td>\n",
       "      <td>NaN</td>\n",
       "      <td>NaN</td>\n",
       "      <td>NaN</td>\n",
       "      <td>NaN</td>\n",
       "      <td>NaN</td>\n",
       "      <td>117.0</td>\n",
       "      <td>214.0</td>\n",
       "      <td>289.0</td>\n",
       "      <td>206.0</td>\n",
       "      <td>212.0</td>\n",
       "      <td>243.0</td>\n",
       "      <td>236.0</td>\n",
       "    </tr>\n",
       "    <tr>\n",
       "      <td>1005</td>\n",
       "      <td>95.0</td>\n",
       "      <td>456.0</td>\n",
       "      <td>606.0</td>\n",
       "      <td>712.0</td>\n",
       "      <td>595.0</td>\n",
       "      <td>612.0</td>\n",
       "      <td>569.0</td>\n",
       "      <td>619.0</td>\n",
       "      <td>479.0</td>\n",
       "      <td>723.0</td>\n",
       "      <td>547.0</td>\n",
       "      <td>592.0</td>\n",
       "    </tr>\n",
       "    <tr>\n",
       "      <td>1006</td>\n",
       "      <td>NaN</td>\n",
       "      <td>42.0</td>\n",
       "      <td>286.0</td>\n",
       "      <td>356.0</td>\n",
       "      <td>370.0</td>\n",
       "      <td>478.0</td>\n",
       "      <td>316.0</td>\n",
       "      <td>275.0</td>\n",
       "      <td>360.0</td>\n",
       "      <td>267.0</td>\n",
       "      <td>372.0</td>\n",
       "      <td>379.0</td>\n",
       "    </tr>\n",
       "    <tr>\n",
       "      <td>1007</td>\n",
       "      <td>NaN</td>\n",
       "      <td>NaN</td>\n",
       "      <td>NaN</td>\n",
       "      <td>198.0</td>\n",
       "      <td>480.0</td>\n",
       "      <td>545.0</td>\n",
       "      <td>577.0</td>\n",
       "      <td>458.0</td>\n",
       "      <td>655.0</td>\n",
       "      <td>465.0</td>\n",
       "      <td>580.0</td>\n",
       "      <td>421.0</td>\n",
       "    </tr>\n",
       "  </tbody>\n",
       "</table>\n",
       "</div>"
      ],
      "text/plain": [
       "                   1      2      3      4      5      6      7      8      9  \\\n",
       "tariff user_id                                                                 \n",
       "smart  1001      NaN    NaN    NaN    NaN    NaN    NaN    NaN    NaN    NaN   \n",
       "       1002      NaN    NaN    NaN    NaN    NaN  117.0  214.0  289.0  206.0   \n",
       "       1005     95.0  456.0  606.0  712.0  595.0  612.0  569.0  619.0  479.0   \n",
       "       1006      NaN   42.0  286.0  356.0  370.0  478.0  316.0  275.0  360.0   \n",
       "       1007      NaN    NaN    NaN  198.0  480.0  545.0  577.0  458.0  655.0   \n",
       "\n",
       "                   10     11     12  \n",
       "tariff user_id                       \n",
       "smart  1001       NaN  430.0  414.0  \n",
       "       1002     212.0  243.0  236.0  \n",
       "       1005     723.0  547.0  592.0  \n",
       "       1006     267.0  372.0  379.0  \n",
       "       1007     465.0  580.0  421.0  "
      ]
     },
     "metadata": {},
     "output_type": "display_data"
    },
    {
     "name": "stdout",
     "output_type": "stream",
     "text": [
      "\n",
      " Количество отправленных сообщений за месяц\n"
     ]
    },
    {
     "data": {
      "text/html": [
       "<div>\n",
       "<style scoped>\n",
       "    .dataframe tbody tr th:only-of-type {\n",
       "        vertical-align: middle;\n",
       "    }\n",
       "\n",
       "    .dataframe tbody tr th {\n",
       "        vertical-align: top;\n",
       "    }\n",
       "\n",
       "    .dataframe thead th {\n",
       "        text-align: right;\n",
       "    }\n",
       "</style>\n",
       "<table border=\"1\" class=\"dataframe\">\n",
       "  <thead>\n",
       "    <tr style=\"text-align: right;\">\n",
       "      <th></th>\n",
       "      <th></th>\n",
       "      <th>1</th>\n",
       "      <th>2</th>\n",
       "      <th>3</th>\n",
       "      <th>4</th>\n",
       "      <th>5</th>\n",
       "      <th>6</th>\n",
       "      <th>7</th>\n",
       "      <th>8</th>\n",
       "      <th>9</th>\n",
       "      <th>10</th>\n",
       "      <th>11</th>\n",
       "      <th>12</th>\n",
       "    </tr>\n",
       "    <tr>\n",
       "      <th>tariff</th>\n",
       "      <th>user_id</th>\n",
       "      <th></th>\n",
       "      <th></th>\n",
       "      <th></th>\n",
       "      <th></th>\n",
       "      <th></th>\n",
       "      <th></th>\n",
       "      <th></th>\n",
       "      <th></th>\n",
       "      <th></th>\n",
       "      <th></th>\n",
       "      <th></th>\n",
       "      <th></th>\n",
       "    </tr>\n",
       "  </thead>\n",
       "  <tbody>\n",
       "    <tr>\n",
       "      <td rowspan=\"5\" valign=\"top\">smart</td>\n",
       "      <td>1002</td>\n",
       "      <td>NaN</td>\n",
       "      <td>NaN</td>\n",
       "      <td>NaN</td>\n",
       "      <td>NaN</td>\n",
       "      <td>NaN</td>\n",
       "      <td>4.0</td>\n",
       "      <td>11.0</td>\n",
       "      <td>13.0</td>\n",
       "      <td>4.0</td>\n",
       "      <td>10.0</td>\n",
       "      <td>16.0</td>\n",
       "      <td>12.0</td>\n",
       "    </tr>\n",
       "    <tr>\n",
       "      <td>1005</td>\n",
       "      <td>7.0</td>\n",
       "      <td>38.0</td>\n",
       "      <td>56.0</td>\n",
       "      <td>41.0</td>\n",
       "      <td>42.0</td>\n",
       "      <td>47.0</td>\n",
       "      <td>56.0</td>\n",
       "      <td>64.0</td>\n",
       "      <td>52.0</td>\n",
       "      <td>44.0</td>\n",
       "      <td>51.0</td>\n",
       "      <td>54.0</td>\n",
       "    </tr>\n",
       "    <tr>\n",
       "      <td>1007</td>\n",
       "      <td>NaN</td>\n",
       "      <td>NaN</td>\n",
       "      <td>NaN</td>\n",
       "      <td>11.0</td>\n",
       "      <td>39.0</td>\n",
       "      <td>26.0</td>\n",
       "      <td>26.0</td>\n",
       "      <td>27.0</td>\n",
       "      <td>31.0</td>\n",
       "      <td>18.0</td>\n",
       "      <td>21.0</td>\n",
       "      <td>26.0</td>\n",
       "    </tr>\n",
       "    <tr>\n",
       "      <td>1008</td>\n",
       "      <td>NaN</td>\n",
       "      <td>NaN</td>\n",
       "      <td>NaN</td>\n",
       "      <td>NaN</td>\n",
       "      <td>NaN</td>\n",
       "      <td>NaN</td>\n",
       "      <td>NaN</td>\n",
       "      <td>NaN</td>\n",
       "      <td>NaN</td>\n",
       "      <td>NaN</td>\n",
       "      <td>NaN</td>\n",
       "      <td>56.0</td>\n",
       "    </tr>\n",
       "    <tr>\n",
       "      <td>1009</td>\n",
       "      <td>NaN</td>\n",
       "      <td>NaN</td>\n",
       "      <td>2.0</td>\n",
       "      <td>14.0</td>\n",
       "      <td>7.0</td>\n",
       "      <td>14.0</td>\n",
       "      <td>14.0</td>\n",
       "      <td>9.0</td>\n",
       "      <td>12.0</td>\n",
       "      <td>15.0</td>\n",
       "      <td>11.0</td>\n",
       "      <td>12.0</td>\n",
       "    </tr>\n",
       "  </tbody>\n",
       "</table>\n",
       "</div>"
      ],
      "text/plain": [
       "                  1     2     3     4     5     6     7     8     9    10  \\\n",
       "tariff user_id                                                              \n",
       "smart  1002     NaN   NaN   NaN   NaN   NaN   4.0  11.0  13.0   4.0  10.0   \n",
       "       1005     7.0  38.0  56.0  41.0  42.0  47.0  56.0  64.0  52.0  44.0   \n",
       "       1007     NaN   NaN   NaN  11.0  39.0  26.0  26.0  27.0  31.0  18.0   \n",
       "       1008     NaN   NaN   NaN   NaN   NaN   NaN   NaN   NaN   NaN   NaN   \n",
       "       1009     NaN   NaN   2.0  14.0   7.0  14.0  14.0   9.0  12.0  15.0   \n",
       "\n",
       "                  11    12  \n",
       "tariff user_id              \n",
       "smart  1002     16.0  12.0  \n",
       "       1005     51.0  54.0  \n",
       "       1007     21.0  26.0  \n",
       "       1008      NaN  56.0  \n",
       "       1009     11.0  12.0  "
      ]
     },
     "metadata": {},
     "output_type": "display_data"
    },
    {
     "name": "stdout",
     "output_type": "stream",
     "text": [
      "\n",
      " Количество использованного сетевого трафика за месяц\n"
     ]
    },
    {
     "data": {
      "text/html": [
       "<div>\n",
       "<style scoped>\n",
       "    .dataframe tbody tr th:only-of-type {\n",
       "        vertical-align: middle;\n",
       "    }\n",
       "\n",
       "    .dataframe tbody tr th {\n",
       "        vertical-align: top;\n",
       "    }\n",
       "\n",
       "    .dataframe thead th {\n",
       "        text-align: right;\n",
       "    }\n",
       "</style>\n",
       "<table border=\"1\" class=\"dataframe\">\n",
       "  <thead>\n",
       "    <tr style=\"text-align: right;\">\n",
       "      <th></th>\n",
       "      <th></th>\n",
       "      <th>1</th>\n",
       "      <th>2</th>\n",
       "      <th>3</th>\n",
       "      <th>4</th>\n",
       "      <th>5</th>\n",
       "      <th>6</th>\n",
       "      <th>7</th>\n",
       "      <th>8</th>\n",
       "      <th>9</th>\n",
       "      <th>10</th>\n",
       "      <th>11</th>\n",
       "      <th>12</th>\n",
       "    </tr>\n",
       "    <tr>\n",
       "      <th>tariff</th>\n",
       "      <th>user_id</th>\n",
       "      <th></th>\n",
       "      <th></th>\n",
       "      <th></th>\n",
       "      <th></th>\n",
       "      <th></th>\n",
       "      <th></th>\n",
       "      <th></th>\n",
       "      <th></th>\n",
       "      <th></th>\n",
       "      <th></th>\n",
       "      <th></th>\n",
       "      <th></th>\n",
       "    </tr>\n",
       "  </thead>\n",
       "  <tbody>\n",
       "    <tr>\n",
       "      <td rowspan=\"5\" valign=\"top\">smart</td>\n",
       "      <td>1001</td>\n",
       "      <td>NaN</td>\n",
       "      <td>NaN</td>\n",
       "      <td>NaN</td>\n",
       "      <td>NaN</td>\n",
       "      <td>NaN</td>\n",
       "      <td>NaN</td>\n",
       "      <td>NaN</td>\n",
       "      <td>NaN</td>\n",
       "      <td>NaN</td>\n",
       "      <td>NaN</td>\n",
       "      <td>18452.0</td>\n",
       "      <td>14053.0</td>\n",
       "    </tr>\n",
       "    <tr>\n",
       "      <td>1002</td>\n",
       "      <td>NaN</td>\n",
       "      <td>NaN</td>\n",
       "      <td>NaN</td>\n",
       "      <td>NaN</td>\n",
       "      <td>NaN</td>\n",
       "      <td>10871.0</td>\n",
       "      <td>17601.0</td>\n",
       "      <td>20347.0</td>\n",
       "      <td>16712.0</td>\n",
       "      <td>13905.0</td>\n",
       "      <td>18610.0</td>\n",
       "      <td>18137.0</td>\n",
       "    </tr>\n",
       "    <tr>\n",
       "      <td>1005</td>\n",
       "      <td>2730.0</td>\n",
       "      <td>7394.0</td>\n",
       "      <td>11117.0</td>\n",
       "      <td>9365.0</td>\n",
       "      <td>7877.0</td>\n",
       "      <td>9875.0</td>\n",
       "      <td>7703.0</td>\n",
       "      <td>7554.0</td>\n",
       "      <td>7027.0</td>\n",
       "      <td>7809.0</td>\n",
       "      <td>12682.0</td>\n",
       "      <td>8680.0</td>\n",
       "    </tr>\n",
       "    <tr>\n",
       "      <td>1006</td>\n",
       "      <td>NaN</td>\n",
       "      <td>1395.0</td>\n",
       "      <td>17309.0</td>\n",
       "      <td>13954.0</td>\n",
       "      <td>12984.0</td>\n",
       "      <td>12388.0</td>\n",
       "      <td>20000.0</td>\n",
       "      <td>19327.0</td>\n",
       "      <td>15543.0</td>\n",
       "      <td>19722.0</td>\n",
       "      <td>13275.0</td>\n",
       "      <td>18498.0</td>\n",
       "    </tr>\n",
       "    <tr>\n",
       "      <td>1007</td>\n",
       "      <td>NaN</td>\n",
       "      <td>NaN</td>\n",
       "      <td>NaN</td>\n",
       "      <td>8031.0</td>\n",
       "      <td>17708.0</td>\n",
       "      <td>13674.0</td>\n",
       "      <td>15680.0</td>\n",
       "      <td>20723.0</td>\n",
       "      <td>12630.0</td>\n",
       "      <td>14444.0</td>\n",
       "      <td>16390.0</td>\n",
       "      <td>12512.0</td>\n",
       "    </tr>\n",
       "  </tbody>\n",
       "</table>\n",
       "</div>"
      ],
      "text/plain": [
       "                     1       2        3        4        5        6        7  \\\n",
       "tariff user_id                                                                \n",
       "smart  1001        NaN     NaN      NaN      NaN      NaN      NaN      NaN   \n",
       "       1002        NaN     NaN      NaN      NaN      NaN  10871.0  17601.0   \n",
       "       1005     2730.0  7394.0  11117.0   9365.0   7877.0   9875.0   7703.0   \n",
       "       1006        NaN  1395.0  17309.0  13954.0  12984.0  12388.0  20000.0   \n",
       "       1007        NaN     NaN      NaN   8031.0  17708.0  13674.0  15680.0   \n",
       "\n",
       "                      8        9       10       11       12  \n",
       "tariff user_id                                               \n",
       "smart  1001         NaN      NaN      NaN  18452.0  14053.0  \n",
       "       1002     20347.0  16712.0  13905.0  18610.0  18137.0  \n",
       "       1005      7554.0   7027.0   7809.0  12682.0   8680.0  \n",
       "       1006     19327.0  15543.0  19722.0  13275.0  18498.0  \n",
       "       1007     20723.0  12630.0  14444.0  16390.0  12512.0  "
      ]
     },
     "metadata": {},
     "output_type": "display_data"
    }
   ],
   "source": [
    "# в calls\n",
    "calls_group_count = users.set_index('user_id').join(calls.set_index('user_id'), on='user_id', how='left', rsuffix='_y').pivot_table(index=['tariff','user_id'], columns='call_month', values='duration', aggfunc='count') \n",
    "calls_group_count.columns = ('1', '2', '3', '4', '5', '6', '7', '8', '9', '10', '11', '12')\n",
    "print('\\n', 'Количество всех разговоров за месяц')\n",
    "display(calls_group_count.head())\n",
    "calls_group_duration = users.set_index('user_id').join(calls.set_index('user_id'), on='user_id', how='left', rsuffix='_y').pivot_table(index=['tariff','user_id'], columns='call_month', values='duration', aggfunc='sum')\n",
    "calls_group_duration.columns = ('1', '2', '3', '4', '5', '6', '7', '8', '9', '10', '11', '12')\n",
    "print('\\n', 'Длительность всех разговоров за месяц')\n",
    "display(calls_group_duration.head())\n",
    "\n",
    "# в messages\n",
    "messages_group = users.set_index('user_id').join(messages.set_index('user_id'), on='user_id', how='left', rsuffix='_y').pivot_table(index=['tariff','user_id'], columns='message_month', values='id', aggfunc='count')\n",
    "messages_group.columns = ('1', '2', '3', '4', '5', '6', '7', '8', '9', '10', '11', '12')\n",
    "print('\\n', 'Количество отправленных сообщений за месяц')\n",
    "display(messages_group.head())\n",
    "\n",
    "# в internet\n",
    "internet_group = users.set_index('user_id').join(internet.set_index('user_id'), on='user_id', how='left', rsuffix='_y').pivot_table(index=['tariff','user_id'], columns='session_month', values='mb_used', aggfunc='sum')\n",
    "internet_group.columns = ('1', '2', '3', '4', '5', '6', '7', '8', '9', '10', '11', '12')\n",
    "print('\\n', 'Количество использованного сетевого трафика за месяц')\n",
    "display(internet_group.head())"
   ]
  },
  {
   "cell_type": "markdown",
   "metadata": {},
   "source": [
    "Рассчитаем доходы с каждого абонента по месяцам (отдельно для тарифов smart и ultra). Доходы рассчитываются следующим образом: определяется разница между пакетным предложением и фактически потраченными минутами, сообщениями и мегабайтами. Если пользователь тарифа превысил свой лимит, то эта разница умножается на стоимость одной единицы и прибавляется к ежемесячному фиксированному платежу. Если абонент уложился в рамки тарифа, то в доход записывается только стоимость самого тарифа.\n",
    "Количество приобретенных мб переводится в гигабайты и также округляется до целого числа в большую сторону (по аналогии с минутами)."
   ]
  },
  {
   "cell_type": "code",
   "execution_count": 15,
   "metadata": {},
   "outputs": [
    {
     "name": "stdout",
     "output_type": "stream",
     "text": [
      "\n",
      " Средний ежемесячный доход от каждого абонента, Smart\n"
     ]
    },
    {
     "data": {
      "text/html": [
       "<div>\n",
       "<style scoped>\n",
       "    .dataframe tbody tr th:only-of-type {\n",
       "        vertical-align: middle;\n",
       "    }\n",
       "\n",
       "    .dataframe tbody tr th {\n",
       "        vertical-align: top;\n",
       "    }\n",
       "\n",
       "    .dataframe thead th {\n",
       "        text-align: right;\n",
       "    }\n",
       "</style>\n",
       "<table border=\"1\" class=\"dataframe\">\n",
       "  <thead>\n",
       "    <tr style=\"text-align: right;\">\n",
       "      <th></th>\n",
       "      <th></th>\n",
       "      <th>1</th>\n",
       "      <th>2</th>\n",
       "      <th>3</th>\n",
       "      <th>4</th>\n",
       "      <th>5</th>\n",
       "      <th>6</th>\n",
       "      <th>7</th>\n",
       "      <th>8</th>\n",
       "      <th>9</th>\n",
       "      <th>10</th>\n",
       "      <th>11</th>\n",
       "      <th>12</th>\n",
       "      <th>mean_month</th>\n",
       "    </tr>\n",
       "    <tr>\n",
       "      <th>tariff</th>\n",
       "      <th>user_id</th>\n",
       "      <th></th>\n",
       "      <th></th>\n",
       "      <th></th>\n",
       "      <th></th>\n",
       "      <th></th>\n",
       "      <th></th>\n",
       "      <th></th>\n",
       "      <th></th>\n",
       "      <th></th>\n",
       "      <th></th>\n",
       "      <th></th>\n",
       "      <th></th>\n",
       "      <th></th>\n",
       "    </tr>\n",
       "  </thead>\n",
       "  <tbody>\n",
       "    <tr>\n",
       "      <td rowspan=\"5\" valign=\"top\">smart</td>\n",
       "      <td>1001</td>\n",
       "      <td>NaN</td>\n",
       "      <td>NaN</td>\n",
       "      <td>NaN</td>\n",
       "      <td>NaN</td>\n",
       "      <td>NaN</td>\n",
       "      <td>NaN</td>\n",
       "      <td>NaN</td>\n",
       "      <td>NaN</td>\n",
       "      <td>NaN</td>\n",
       "      <td>NaN</td>\n",
       "      <td>1350.0</td>\n",
       "      <td>550.0</td>\n",
       "      <td>950.000000</td>\n",
       "    </tr>\n",
       "    <tr>\n",
       "      <td>1002</td>\n",
       "      <td>NaN</td>\n",
       "      <td>NaN</td>\n",
       "      <td>NaN</td>\n",
       "      <td>NaN</td>\n",
       "      <td>NaN</td>\n",
       "      <td>550.0</td>\n",
       "      <td>1150.0</td>\n",
       "      <td>1550.0</td>\n",
       "      <td>950.0</td>\n",
       "      <td>550.0</td>\n",
       "      <td>1350.0</td>\n",
       "      <td>1150.0</td>\n",
       "      <td>1035.714286</td>\n",
       "    </tr>\n",
       "    <tr>\n",
       "      <td>1005</td>\n",
       "      <td>550.0</td>\n",
       "      <td>550.0</td>\n",
       "      <td>886.0</td>\n",
       "      <td>1186.0</td>\n",
       "      <td>835.0</td>\n",
       "      <td>886.0</td>\n",
       "      <td>775.0</td>\n",
       "      <td>949.0</td>\n",
       "      <td>556.0</td>\n",
       "      <td>1219.0</td>\n",
       "      <td>694.0</td>\n",
       "      <td>838.0</td>\n",
       "      <td>827.000000</td>\n",
       "    </tr>\n",
       "    <tr>\n",
       "      <td>1006</td>\n",
       "      <td>NaN</td>\n",
       "      <td>550.0</td>\n",
       "      <td>950.0</td>\n",
       "      <td>550.0</td>\n",
       "      <td>550.0</td>\n",
       "      <td>550.0</td>\n",
       "      <td>1550.0</td>\n",
       "      <td>1350.0</td>\n",
       "      <td>750.0</td>\n",
       "      <td>1550.0</td>\n",
       "      <td>550.0</td>\n",
       "      <td>1350.0</td>\n",
       "      <td>931.818182</td>\n",
       "    </tr>\n",
       "    <tr>\n",
       "      <td>1007</td>\n",
       "      <td>NaN</td>\n",
       "      <td>NaN</td>\n",
       "      <td>NaN</td>\n",
       "      <td>550.0</td>\n",
       "      <td>1150.0</td>\n",
       "      <td>685.0</td>\n",
       "      <td>981.0</td>\n",
       "      <td>1750.0</td>\n",
       "      <td>1015.0</td>\n",
       "      <td>550.0</td>\n",
       "      <td>1190.0</td>\n",
       "      <td>550.0</td>\n",
       "      <td>935.666667</td>\n",
       "    </tr>\n",
       "  </tbody>\n",
       "</table>\n",
       "</div>"
      ],
      "text/plain": [
       "                    1      2      3       4       5      6       7       8  \\\n",
       "tariff user_id                                                               \n",
       "smart  1001       NaN    NaN    NaN     NaN     NaN    NaN     NaN     NaN   \n",
       "       1002       NaN    NaN    NaN     NaN     NaN  550.0  1150.0  1550.0   \n",
       "       1005     550.0  550.0  886.0  1186.0   835.0  886.0   775.0   949.0   \n",
       "       1006       NaN  550.0  950.0   550.0   550.0  550.0  1550.0  1350.0   \n",
       "       1007       NaN    NaN    NaN   550.0  1150.0  685.0   981.0  1750.0   \n",
       "\n",
       "                     9      10      11      12   mean_month  \n",
       "tariff user_id                                               \n",
       "smart  1001        NaN     NaN  1350.0   550.0   950.000000  \n",
       "       1002      950.0   550.0  1350.0  1150.0  1035.714286  \n",
       "       1005      556.0  1219.0   694.0   838.0   827.000000  \n",
       "       1006      750.0  1550.0   550.0  1350.0   931.818182  \n",
       "       1007     1015.0   550.0  1190.0   550.0   935.666667  "
      ]
     },
     "metadata": {},
     "output_type": "display_data"
    }
   ],
   "source": [
    "# тариф smart\n",
    "call_cost_smart = ((calls_group_duration.query('tariff == \"smart\"') - 500).clip(lower=0)) * 3\n",
    "messages_cost_smart = ((messages_group.query('tariff == \"smart\"') - 50).clip(lower=0)) * 3\n",
    "internet_cost_smart = np.ceil(((internet_group.query('tariff == \"smart\"') - 15360).clip(lower=0))/1024) * 200\n",
    "\n",
    "total_cost_smart = call_cost_smart.add(messages_cost_smart).combine_first(call_cost_smart).combine_first(messages_cost_smart)\n",
    "total_cost_smart = total_cost_smart.add(internet_cost_smart).combine_first(total_cost_smart).combine_first(internet_cost_smart) + 550\n",
    "\n",
    "total_cost_smart['mean_month'] = total_cost_smart.mean(axis=1)\n",
    "print('\\n', 'Средний ежемесячный доход от каждого абонента, Smart')\n",
    "display(total_cost_smart.head())"
   ]
  },
  {
   "cell_type": "code",
   "execution_count": 16,
   "metadata": {},
   "outputs": [
    {
     "name": "stdout",
     "output_type": "stream",
     "text": [
      "\n",
      " Средний ежемесячный доход от каждого абонента, Ultra\n"
     ]
    },
    {
     "data": {
      "text/html": [
       "<div>\n",
       "<style scoped>\n",
       "    .dataframe tbody tr th:only-of-type {\n",
       "        vertical-align: middle;\n",
       "    }\n",
       "\n",
       "    .dataframe tbody tr th {\n",
       "        vertical-align: top;\n",
       "    }\n",
       "\n",
       "    .dataframe thead th {\n",
       "        text-align: right;\n",
       "    }\n",
       "</style>\n",
       "<table border=\"1\" class=\"dataframe\">\n",
       "  <thead>\n",
       "    <tr style=\"text-align: right;\">\n",
       "      <th></th>\n",
       "      <th></th>\n",
       "      <th>1</th>\n",
       "      <th>2</th>\n",
       "      <th>3</th>\n",
       "      <th>4</th>\n",
       "      <th>5</th>\n",
       "      <th>6</th>\n",
       "      <th>7</th>\n",
       "      <th>8</th>\n",
       "      <th>9</th>\n",
       "      <th>10</th>\n",
       "      <th>11</th>\n",
       "      <th>12</th>\n",
       "      <th>mean_month</th>\n",
       "    </tr>\n",
       "    <tr>\n",
       "      <th>tariff</th>\n",
       "      <th>user_id</th>\n",
       "      <th></th>\n",
       "      <th></th>\n",
       "      <th></th>\n",
       "      <th></th>\n",
       "      <th></th>\n",
       "      <th></th>\n",
       "      <th></th>\n",
       "      <th></th>\n",
       "      <th></th>\n",
       "      <th></th>\n",
       "      <th></th>\n",
       "      <th></th>\n",
       "      <th></th>\n",
       "    </tr>\n",
       "  </thead>\n",
       "  <tbody>\n",
       "    <tr>\n",
       "      <td rowspan=\"5\" valign=\"top\">ultra</td>\n",
       "      <td>1000</td>\n",
       "      <td>NaN</td>\n",
       "      <td>NaN</td>\n",
       "      <td>NaN</td>\n",
       "      <td>NaN</td>\n",
       "      <td>1950.0</td>\n",
       "      <td>1950.0</td>\n",
       "      <td>1950.0</td>\n",
       "      <td>1950.0</td>\n",
       "      <td>1950.0</td>\n",
       "      <td>1950.0</td>\n",
       "      <td>1950.0</td>\n",
       "      <td>1950.0</td>\n",
       "      <td>1950.0</td>\n",
       "    </tr>\n",
       "    <tr>\n",
       "      <td>1003</td>\n",
       "      <td>NaN</td>\n",
       "      <td>NaN</td>\n",
       "      <td>NaN</td>\n",
       "      <td>NaN</td>\n",
       "      <td>NaN</td>\n",
       "      <td>NaN</td>\n",
       "      <td>NaN</td>\n",
       "      <td>1950.0</td>\n",
       "      <td>1950.0</td>\n",
       "      <td>1950.0</td>\n",
       "      <td>1950.0</td>\n",
       "      <td>1950.0</td>\n",
       "      <td>1950.0</td>\n",
       "    </tr>\n",
       "    <tr>\n",
       "      <td>1004</td>\n",
       "      <td>NaN</td>\n",
       "      <td>NaN</td>\n",
       "      <td>NaN</td>\n",
       "      <td>NaN</td>\n",
       "      <td>1950.0</td>\n",
       "      <td>1950.0</td>\n",
       "      <td>1950.0</td>\n",
       "      <td>1950.0</td>\n",
       "      <td>1950.0</td>\n",
       "      <td>1950.0</td>\n",
       "      <td>1950.0</td>\n",
       "      <td>1950.0</td>\n",
       "      <td>1950.0</td>\n",
       "    </tr>\n",
       "    <tr>\n",
       "      <td>1013</td>\n",
       "      <td>NaN</td>\n",
       "      <td>NaN</td>\n",
       "      <td>NaN</td>\n",
       "      <td>NaN</td>\n",
       "      <td>NaN</td>\n",
       "      <td>NaN</td>\n",
       "      <td>NaN</td>\n",
       "      <td>NaN</td>\n",
       "      <td>NaN</td>\n",
       "      <td>NaN</td>\n",
       "      <td>1950.0</td>\n",
       "      <td>1950.0</td>\n",
       "      <td>1950.0</td>\n",
       "    </tr>\n",
       "    <tr>\n",
       "      <td>1016</td>\n",
       "      <td>NaN</td>\n",
       "      <td>NaN</td>\n",
       "      <td>NaN</td>\n",
       "      <td>NaN</td>\n",
       "      <td>NaN</td>\n",
       "      <td>NaN</td>\n",
       "      <td>NaN</td>\n",
       "      <td>NaN</td>\n",
       "      <td>NaN</td>\n",
       "      <td>NaN</td>\n",
       "      <td>1950.0</td>\n",
       "      <td>1950.0</td>\n",
       "      <td>1950.0</td>\n",
       "    </tr>\n",
       "  </tbody>\n",
       "</table>\n",
       "</div>"
      ],
      "text/plain": [
       "                 1   2   3   4       5       6       7       8       9  \\\n",
       "tariff user_id                                                           \n",
       "ultra  1000    NaN NaN NaN NaN  1950.0  1950.0  1950.0  1950.0  1950.0   \n",
       "       1003    NaN NaN NaN NaN     NaN     NaN     NaN  1950.0  1950.0   \n",
       "       1004    NaN NaN NaN NaN  1950.0  1950.0  1950.0  1950.0  1950.0   \n",
       "       1013    NaN NaN NaN NaN     NaN     NaN     NaN     NaN     NaN   \n",
       "       1016    NaN NaN NaN NaN     NaN     NaN     NaN     NaN     NaN   \n",
       "\n",
       "                    10      11      12  mean_month  \n",
       "tariff user_id                                      \n",
       "ultra  1000     1950.0  1950.0  1950.0      1950.0  \n",
       "       1003     1950.0  1950.0  1950.0      1950.0  \n",
       "       1004     1950.0  1950.0  1950.0      1950.0  \n",
       "       1013        NaN  1950.0  1950.0      1950.0  \n",
       "       1016        NaN  1950.0  1950.0      1950.0  "
      ]
     },
     "metadata": {},
     "output_type": "display_data"
    }
   ],
   "source": [
    "# тариф ultra\n",
    "call_cost_ultra = (calls_group_duration.query('tariff == \"ultra\"') - 3000).clip(lower=0)\n",
    "messages_cost_ultra = (messages_group.query('tariff == \"ultra\"') - 1000).clip(lower=0)\n",
    "internet_cost_ultra = np.ceil(((internet_group.query('tariff == \"ultra\"') - 30720).clip(lower=0))/1024) * 150\n",
    "\n",
    "total_cost_ultra = call_cost_ultra.add(messages_cost_ultra).combine_first(call_cost_ultra).combine_first(messages_cost_ultra)\n",
    "total_cost_ultra = total_cost_ultra.add(internet_cost_ultra).combine_first(total_cost_ultra).combine_first(internet_cost_ultra) + 1950\n",
    "\n",
    "total_cost_ultra['mean_month'] = total_cost_ultra.mean(axis=1)\n",
    "print('\\n', 'Средний ежемесячный доход от каждого абонента, Ultra')\n",
    "display(total_cost_ultra.head())"
   ]
  },
  {
   "cell_type": "markdown",
   "metadata": {},
   "source": [
    "### Вывод"
   ]
  },
  {
   "cell_type": "markdown",
   "metadata": {},
   "source": [
    "Для анализа оператор предоставил 5 таблиц. Это весьма неплохой формат для хранения и обработки информации в реляционных базах данных. Но для нашего исследования в чистом виде он не подходит, поскольку представляет собой довольно разрозненный и фрагментарный набор. По этой причине осуществлен ряд объединений таблиц, чтобы связать статистику по действиям пользователей (звонки, сообщения, интернет-соединения) с названиями тарифов и городов. \n",
    "Рассчитаны дополнительные параметры (для каждого пользователя), необходимые для дальнейшего анализа (средняя длительность звонков в месяц, среднее количество посланных сообщений и средний ежемесячный объем использованного сетевого трафика). Далее, исходя из этих величин и условий тарифов, установлена средняя ежемесячная выручка с каждого абонента."
   ]
  },
  {
   "cell_type": "markdown",
   "metadata": {},
   "source": [
    "## Анализ поведения пользователей"
   ]
  },
  {
   "cell_type": "markdown",
   "metadata": {},
   "source": [
    "Для последующего анализа разделим датасеты c длительностью звонка, сообщениями и интернет-трафиком на группы по названиям тарифов: Smart и Ultra."
   ]
  },
  {
   "cell_type": "code",
   "execution_count": 17,
   "metadata": {},
   "outputs": [],
   "source": [
    "calls_duration_smart = calls_group_duration.query('tariff == \"smart\"')\n",
    "calls_duration_ultra = calls_group_duration.query('tariff == \"ultra\"')\n",
    "\n",
    "messages_group_smart = messages_group.query('tariff == \"smart\"')\n",
    "messages_group_ultra = messages_group.query('tariff == \"ultra\"')\n",
    "\n",
    "internet_group_smart = internet_group.query('tariff == \"smart\"')\n",
    "internet_group_ultra = internet_group.query('tariff == \"ultra\"')"
   ]
  },
  {
   "cell_type": "markdown",
   "metadata": {},
   "source": [
    "### Тариф Smart"
   ]
  },
  {
   "cell_type": "markdown",
   "metadata": {},
   "source": [
    "#### Звонки"
   ]
  },
  {
   "cell_type": "markdown",
   "metadata": {},
   "source": [
    "Для визуальной оценки длительности разговоров построим диаграмму размаха и гистограмму, где по оси х будет отложена средняя ежемесячная длительность в минутах, а по оси у - частота того или иного значения длительности.\n",
    "\n",
    "Поскольку далее графиков будет много, объявим функцию для их вывода. На вход функции будут передаваться три параметра: набор данных, заголовок графика и подпись по оси х."
   ]
  },
  {
   "cell_type": "code",
   "execution_count": 18,
   "metadata": {},
   "outputs": [],
   "source": [
    "def draw_hist(data, title_hist, x_label):\n",
    "    fig, ax = plt.subplots(ncols=2, figsize=(14,6))\n",
    "    ax[0].hist(data, density=True, bins=40, color='green')\n",
    "    ax[0].grid(alpha=0.2, linestyle='--', linewidth=1)\n",
    "    ax[0].set_title(title_hist)\n",
    "    ax[0].set_ylabel('Плотность частоты')\n",
    "    ax[0].set_xlabel(x_label)\n",
    "    ax[1].boxplot(data)\n",
    "    ax[1].set_title('{}, диаграмма размаха'.format(title_hist))\n",
    "    ax[1].set_ylabel('Разброс значений')\n",
    "    ax[1].grid(alpha=0.2, linestyle='--', linewidth=1)"
   ]
  },
  {
   "cell_type": "markdown",
   "metadata": {},
   "source": [
    "Теперь построим графики для оценки длительности звонков."
   ]
  },
  {
   "cell_type": "code",
   "execution_count": 19,
   "metadata": {},
   "outputs": [
    {
     "data": {
      "image/png": "[encoded data removed]",
      "text/plain": [
       "<Figure size 1008x432 with 2 Axes>"
      ]
     },
     "metadata": {
      "needs_background": "light"
     },
     "output_type": "display_data"
    }
   ],
   "source": [
    "calls_duration_smart['mean_month'] = calls_duration_smart.mean(axis=1)\n",
    "draw_hist(calls_duration_smart['mean_month'], 'Длительность звонков Smart', 'Средняя длительность звонков за месяц')  "
   ]
  },
  {
   "cell_type": "markdown",
   "metadata": {},
   "source": [
    "В целом распределение выглядит нормальным, есть небольшие выступы по краям. На диаграмме размаха отметим выброс у верхней границы. Позже проверим его наличие, отложив от центра по три стандартных отклонения. \n",
    "\n",
    "Рассчитаем значение выборочного среднего как равное арифметическому среднему всех возможных значений параметра duration."
   ]
  },
  {
   "cell_type": "code",
   "execution_count": 20,
   "metadata": {},
   "outputs": [
    {
     "name": "stdout",
     "output_type": "stream",
     "text": [
      "Выборочное среднее длительности звонка, Smart: 420.85 минут\n"
     ]
    }
   ],
   "source": [
    "calls_d_mean = calls_duration_smart.mean()\n",
    "print('Выборочное среднее длительности звонка, Smart: {:.2f} минут'.format(calls_d_mean['mean_month']))"
   ]
  },
  {
   "cell_type": "markdown",
   "metadata": {},
   "source": [
    "Оценим положение истинного среднего (mu), рассчитаем для него доверительный интервал."
   ]
  },
  {
   "cell_type": "code",
   "execution_count": 21,
   "metadata": {},
   "outputs": [
    {
     "name": "stdout",
     "output_type": "stream",
     "text": [
      "Доверительный интервал для истинного среднего (405.74537793345735, 435.9506610482548)\n"
     ]
    }
   ],
   "source": [
    "print('Доверительный интервал для истинного среднего', (st.t.interval(0.95, len(calls_duration_smart['mean_month'])-1, loc=np.mean(calls_duration_smart['mean_month']), scale=st.sem(calls_duration_smart['mean_month']))))"
   ]
  },
  {
   "cell_type": "markdown",
   "metadata": {},
   "source": [
    "С вероятностью 0.95 наше истинное среднее будет находится в диапазоне от 405 до 436 минут. Можно предположить, что функция плотности распределения вероятностей где-то на этом отрезке принимает максимальное значение. \n",
    "\n",
    "Посчитаем дисперсию и стандартное отклонение.\n",
    "Поскольку у нас имеется только выборка в 500 человек, дисперсию мы тоже считаем с поправкой количества степеней свободы n-1 (параметр ddof=1). Это будет менее точная цифра, чем расчет по всей генеральной совокупности."
   ]
  },
  {
   "cell_type": "code",
   "execution_count": 22,
   "metadata": {},
   "outputs": [
    {
     "name": "stdout",
     "output_type": "stream",
     "text": [
      "Дисперсия равна 20578.28\n",
      "Стандартное отклонение равно 143.45 минут\n"
     ]
    }
   ],
   "source": [
    "print('Дисперсия равна {:.2f}'.format(np.var(calls_duration_smart['mean_month'], ddof=1)))\n",
    "print('Стандартное отклонение равно {:.2f} минут'.format(np.std(calls_duration_smart['mean_month'], ddof=1)))"
   ]
  },
  {
   "cell_type": "markdown",
   "metadata": {},
   "source": [
    "Поскольку многие тесты для проверки гипотез чувствительны к экстремальным значениям, с помощью правила \"трех сигм\" (точнее, трех s для выборки) определим наличие выбросов и удалим их.\n",
    "Посчитаем интервал, куда должны уложиться до 99% значений. \n",
    "\n",
    "Здесь есть одна трудность. По правилам сигмы откладываются влево и вправо от математического ожидания, расположение которого нам неизвестно. С одной стороны, у нас есть выборочное среднее и скорректированные для выборки дисперсия и стандартное отклонение. Последние значения, имеющие в своем знаменателе n-1 вместо n должны быть больше истинных характеристик и компенсировать незнание разницы между выборочным и истинным средним. С другой - мы точно не знаем, является наше распределение симметричным или скошенным, насколько длинными и толстыми будут хвосты. Поэтому немного отодвинем границы выбросов от среднего и отложим по три стандартных отклонения (рассчитанных по нашей выборке) с двух сторон не от выборочного среднего, а от границ доверительнго интервала для математического ожидания."
   ]
  },
  {
   "cell_type": "code",
   "execution_count": 23,
   "metadata": {},
   "outputs": [
    {
     "name": "stdout",
     "output_type": "stream",
     "text": [
      "-24.61 866.30\n"
     ]
    }
   ],
   "source": [
    "low = st.t.interval(0.95, len(calls_duration_smart['mean_month'])-1, loc=np.mean(calls_duration_smart['mean_month']), scale=st.sem(calls_duration_smart['mean_month']))[0] - (np.std(calls_duration_smart['mean_month'], ddof=1))*3\n",
    "up = st.t.interval(0.95, len(calls_duration_smart['mean_month'])-1, loc=np.mean(calls_duration_smart['mean_month']), scale=st.sem(calls_duration_smart['mean_month']))[1] + (np.std(calls_duration_smart['mean_month'], ddof=1))*3\n",
    "print('{:.2f}'.format(low), '{:.2f}'.format(up))"
   ]
  },
  {
   "cell_type": "markdown",
   "metadata": {},
   "source": [
    "Поскольку нижняя граница является отрицательным числом (-24.61), то выбросы будем искать только с правой стороны.\n",
    "Выбросами будем считать все те значения длительности разговоров, которые выходят за рамки 867 минут в месяц. Выведем их долю в выборке и удалим."
   ]
  },
  {
   "cell_type": "code",
   "execution_count": 24,
   "metadata": {},
   "outputs": [
    {
     "name": "stdout",
     "output_type": "stream",
     "text": [
      "Доля выбросов в наборе данных с длительностью звонков: 0.0029\n"
     ]
    }
   ],
   "source": [
    "print('Доля выбросов в наборе данных с длительностью звонков: {:.4f}'.format(calls_duration_smart.query('mean_month > 867')['mean_month'].count()/len(calls_duration_smart)))\n",
    "calls_duration_smart = calls_duration_smart.query('mean_month < 867')"
   ]
  },
  {
   "cell_type": "markdown",
   "metadata": {},
   "source": [
    "Далее в проекте анализ использования пакета услуг абонентами тарифов Smart и Ultra будет проводится по аналогичной схеме."
   ]
  },
  {
   "cell_type": "markdown",
   "metadata": {},
   "source": [
    "#### Сообщения"
   ]
  },
  {
   "cell_type": "markdown",
   "metadata": {},
   "source": [
    "Построим гистограмму распределения значений messages."
   ]
  },
  {
   "cell_type": "code",
   "execution_count": 25,
   "metadata": {},
   "outputs": [
    {
     "data": {
      "image/png": "[encoded data removed]",
      "text/plain": [
       "<Figure size 1008x432 with 2 Axes>"
      ]
     },
     "metadata": {
      "needs_background": "light"
     },
     "output_type": "display_data"
    }
   ],
   "source": [
    "messages_group_smart['mean_month'] = messages_group_smart.mean(axis=1)\n",
    "draw_hist(messages_group_smart['mean_month'], 'Количество сообщений за месяц Smart', 'Среднее количество сообщений за месяц')  "
   ]
  },
  {
   "cell_type": "markdown",
   "metadata": {},
   "source": [
    "На гистограмме видна ярко выраженная положительная скошенность (вправо). Это значит, что  среднее тоже будет смещено в правую сторону. Подобная скошенность может быть обусловлена бурным развитием месседжеров, когда основная плотность значений сосредоточена около малого количества сообщений. При этом график не может плавно спуститься вниз влево, поскольку ограничен нулем (невозможно послать - 1 или -5 сообщений). Поэтому у оси у он выглядит обрезанным.\n",
    "Также в наборе данных имеются выбросы в области больших значений.\n",
    "\n",
    "Посчитаем выборочное среднее и выделим доверительный интервал, где может находится среднее настоящее."
   ]
  },
  {
   "cell_type": "code",
   "execution_count": 26,
   "metadata": {},
   "outputs": [
    {
     "name": "stdout",
     "output_type": "stream",
     "text": [
      "Выборочное среднее количества сообщений, Smart: 37.58 сообщений\n",
      "Доверительный интервал для истинного среднего (34.76165680312009, 40.38955445802493)\n"
     ]
    }
   ],
   "source": [
    "messages_mean = messages_group_smart.mean()\n",
    "print('Выборочное среднее количества сообщений, Smart: {:.2f} сообщений'.format(messages_mean['mean_month']))\n",
    "print('Доверительный интервал для истинного среднего', (st.t.interval(0.95, len(messages_group_smart['mean_month'])-1, loc=np.mean(messages_group_smart['mean_month']), scale=st.sem(messages_group_smart['mean_month']))))"
   ]
  },
  {
   "cell_type": "markdown",
   "metadata": {},
   "source": [
    "С вероятностью 0.95 среднее генеральной совокупности будет находится где-то между 34 и 40 сообщениями в месяц.\n",
    "Определим дисперсию и стандартное отклонение от выборочного среднего по тарифу Smart."
   ]
  },
  {
   "cell_type": "code",
   "execution_count": 27,
   "metadata": {},
   "outputs": [
    {
     "name": "stdout",
     "output_type": "stream",
     "text": [
      "Дисперсия равна 617.51\n",
      "Стандартное отклонение равно 24.85 сообщений\n"
     ]
    }
   ],
   "source": [
    "print('Дисперсия равна {:.2f}'.format(np.var(messages_group_smart['mean_month'], ddof=1)))\n",
    "print('Стандартное отклонение равно {:.2f} сообщений'.format(np.std(messages_group_smart['mean_month'], ddof=1)))"
   ]
  },
  {
   "cell_type": "markdown",
   "metadata": {},
   "source": [
    "Посчитаем границы, в пределы которых попадает более 99% значений случайной величины."
   ]
  },
  {
   "cell_type": "code",
   "execution_count": 28,
   "metadata": {},
   "outputs": [
    {
     "name": "stdout",
     "output_type": "stream",
     "text": [
      "-39.79 114.94\n"
     ]
    }
   ],
   "source": [
    "low = st.t.interval(0.95, len(messages_group_smart['mean_month'])-1, loc=np.mean(messages_group_smart['mean_month']), scale=st.sem(messages_group_smart['mean_month']))[0] - (np.std(messages_group_smart['mean_month'], ddof=1))*3\n",
    "up = st.t.interval(0.95, len(messages_group_smart['mean_month'])-1, loc=np.mean(messages_group_smart['mean_month']), scale=st.sem(messages_group_smart['mean_month']))[1] + (np.std(messages_group_smart['mean_month'], ddof=1))*3\n",
    "print('{:.2f}'.format(low), '{:.2f}'.format(up))"
   ]
  },
  {
   "cell_type": "markdown",
   "metadata": {},
   "source": [
    "Определим долю выбросов и удалим их."
   ]
  },
  {
   "cell_type": "code",
   "execution_count": 29,
   "metadata": {},
   "outputs": [
    {
     "name": "stdout",
     "output_type": "stream",
     "text": [
      "Доля выбросов в наборе данных с количеством сообщений: 0.0066\n"
     ]
    }
   ],
   "source": [
    "print('Доля выбросов в наборе данных с количеством сообщений: {:.4f}'.format(messages_group_smart.query('mean_month > 115')['mean_month'].count()/len(messages_group_smart)))\n",
    "messages_group_smart = messages_group_smart.query('mean_month < 115')"
   ]
  },
  {
   "cell_type": "markdown",
   "metadata": {},
   "source": [
    "#### Интернет"
   ]
  },
  {
   "cell_type": "markdown",
   "metadata": {},
   "source": [
    "Построим гистограмму распределения использования интернет-трафика за месяц."
   ]
  },
  {
   "cell_type": "code",
   "execution_count": 30,
   "metadata": {},
   "outputs": [
    {
     "data": {
      "image/png": "[encoded data removed]",
      "text/plain": [
       "<Figure size 1008x432 with 2 Axes>"
      ]
     },
     "metadata": {
      "needs_background": "light"
     },
     "output_type": "display_data"
    }
   ],
   "source": [
    "internet_group_smart['mean_month'] = internet_group_smart.mean(axis=1)\n",
    "draw_hist(internet_group_smart['mean_month'], 'Использование интернет-трафика Smart', 'Среднее использование интернет-трафика за месяц')  "
   ]
  },
  {
   "cell_type": "markdown",
   "metadata": {},
   "source": [
    "В целом распределение выглядит нормальным, возможно, присутствует небольшая отрицательная скошенность. Отметим наличие выбросов по обеим сторонам боксплота.\n",
    "\n",
    "Посчитаем выборочное среднее и доверительный интервал для математического ожидания (mu)."
   ]
  },
  {
   "cell_type": "code",
   "execution_count": 31,
   "metadata": {},
   "outputs": [
    {
     "name": "stdout",
     "output_type": "stream",
     "text": [
      "Выборочное среднее использования интернет-трафика, Smart: 16237.00 мб\n",
      "Доверительный интервал для истинного среднего (15855.685677796873, 16618.32035209387)\n"
     ]
    }
   ],
   "source": [
    "internet_mean = internet_group_smart.mean()\n",
    "print('Выборочное среднее использования интернет-трафика, Smart: {:.2f} мб'.format(internet_mean['mean_month']))\n",
    "print('Доверительный интервал для истинного среднего', (st.t.interval(0.95, len(internet_group_smart['mean_month'])-1, loc=np.mean(internet_group_smart['mean_month']), scale=st.sem(internet_group_smart['mean_month']))))"
   ]
  },
  {
   "cell_type": "markdown",
   "metadata": {},
   "source": [
    "Выборочное среднее и интервал превосходят объем трафика, который предоставляется пользователям в рамках пакета Smart. Проверим, действительно ли половина абонентов не вписывается в тариф. Рассчитаем медиану."
   ]
  },
  {
   "cell_type": "code",
   "execution_count": 32,
   "metadata": {},
   "outputs": [
    {
     "name": "stdout",
     "output_type": "stream",
     "text": [
      "Медиана среднего ежемесячного использования интернет-трафика, Smart: 16289.30 мб\n"
     ]
    }
   ],
   "source": [
    "print('Медиана среднего ежемесячного использования интернет-трафика, Smart: {:.2f} мб'.format(internet_group_smart['mean_month'].median()))"
   ]
  },
  {
   "cell_type": "markdown",
   "metadata": {},
   "source": [
    "Да, медиана оказалась даже выше среднего. Больше половины абонентов тарифа Smart закупают дополнительные гигабайты. \n",
    "Определим дисперсию и стандартное отклонение."
   ]
  },
  {
   "cell_type": "code",
   "execution_count": 33,
   "metadata": {},
   "outputs": [
    {
     "name": "stdout",
     "output_type": "stream",
     "text": [
      "Дисперсия равна 13156112.19\n",
      "Стандартное отклонение равно 3627.14 мб\n"
     ]
    }
   ],
   "source": [
    "print('Дисперсия равна {:.2f}'.format(np.var(internet_group_smart['mean_month'], ddof=1)))\n",
    "print('Стандартное отклонение равно {:.2f} мб'.format(np.std(internet_group_smart['mean_month'], ddof=1)))"
   ]
  },
  {
   "cell_type": "markdown",
   "metadata": {},
   "source": [
    "Определим диапазон, в который попадает не менее 99% значений."
   ]
  },
  {
   "cell_type": "code",
   "execution_count": 34,
   "metadata": {},
   "outputs": [
    {
     "name": "stdout",
     "output_type": "stream",
     "text": [
      "4974.28 27499.73\n"
     ]
    }
   ],
   "source": [
    "low = st.t.interval(0.95, len(internet_group_smart['mean_month'])-1, loc=np.mean(internet_group_smart['mean_month']), scale=st.sem(internet_group_smart['mean_month']))[0] - (np.std(internet_group_smart['mean_month'], ddof=1))*3\n",
    "up = st.t.interval(0.95, len(internet_group_smart['mean_month'])-1, loc=np.mean(internet_group_smart['mean_month']), scale=st.sem(internet_group_smart['mean_month']))[1] + (np.std(internet_group_smart['mean_month'], ddof=1))*3\n",
    "print('{:.2f}'.format(low), '{:.2f}'.format(up))"
   ]
  },
  {
   "cell_type": "markdown",
   "metadata": {},
   "source": [
    "Посчитаем долю выбросов и удалим их."
   ]
  },
  {
   "cell_type": "code",
   "execution_count": 35,
   "metadata": {},
   "outputs": [
    {
     "name": "stdout",
     "output_type": "stream",
     "text": [
      "Доля выбросов в наборе данных с количеством сообщений: 0.0000\n"
     ]
    }
   ],
   "source": [
    "print('Доля выбросов в наборе данных с количеством сообщений: {:.4f}'.format(internet_group_smart.query('mean_month < 4974 or mean_month > 27500')['mean_month'].count()/len(internet_group_smart)))\n",
    "internet_group_smart = internet_group_smart.query('mean_month > 4974 and mean_month < 27500')"
   ]
  },
  {
   "cell_type": "markdown",
   "metadata": {},
   "source": [
    "Правило \"трех сигм\" выбросов в наборе не выявило. Пороговые значения на диаграмме размаха оказались гораздо уже, чем расчет по стандартным отклонениям. Выведем границы, которые указал нам боксплот."
   ]
  },
  {
   "cell_type": "code",
   "execution_count": 36,
   "metadata": {},
   "outputs": [
    {
     "name": "stdout",
     "output_type": "stream",
     "text": [
      "Верхняя граница начала выбросов: 25701.1\n",
      "Нижняя граница начала выбросов: 6919.2\n"
     ]
    }
   ],
   "source": [
    "outliers_up = ((internet_group_smart['mean_month'].describe()['75%'] - internet_group_smart['mean_month'].describe()['25%'])*1.5 + internet_group_smart['mean_month'].describe()['75%']).round(1)\n",
    "print('Верхняя граница начала выбросов: {}'.format(outliers_up))\n",
    "outliers_down = (internet_group_smart['mean_month'].describe()['25%'] - (internet_group_smart['mean_month'].describe()['75%'] - internet_group_smart['mean_month'].describe()['25%'])*1.5).round(1)\n",
    "print('Нижняя граница начала выбросов: {}'.format(outliers_down))"
   ]
  },
  {
   "cell_type": "markdown",
   "metadata": {},
   "source": [
    "Да, \"ящик с усами\" довольно сильно сжал область значений, которые можно считать нормальными. Но, поскольку диаграмма размаха построена по выборочной совокупности, а не по генеральной, оставим эти данные в датасете."
   ]
  },
  {
   "cell_type": "markdown",
   "metadata": {},
   "source": [
    "### Тариф Ultra"
   ]
  },
  {
   "cell_type": "markdown",
   "metadata": {},
   "source": [
    "#### Звонки"
   ]
  },
  {
   "cell_type": "markdown",
   "metadata": {},
   "source": [
    "Построим гистограмму распределения длительности звонков по тарифу Ultra."
   ]
  },
  {
   "cell_type": "code",
   "execution_count": 37,
   "metadata": {},
   "outputs": [
    {
     "data": {
      "image/png": "[encoded data removed]",
      "text/plain": [
       "<Figure size 1008x432 with 2 Axes>"
      ]
     },
     "metadata": {
      "needs_background": "light"
     },
     "output_type": "display_data"
    }
   ],
   "source": [
    "calls_duration_ultra['mean_month'] = calls_duration_ultra.mean(axis=1)\n",
    "draw_hist(calls_duration_ultra['mean_month'], 'Длительность звонков Ultra', 'Средняя длительность звонков за месяц') "
   ]
  },
  {
   "cell_type": "markdown",
   "metadata": {},
   "source": [
    "Форма распределения выглядит довольно колоколообразной, только есть большие выступы по краям и, похоже, имеется утолщение хвоста справа. Диаграмма размаха выбросов не выявила.\n",
    "\n",
    "Посчитаем выборочное среднее длительности звонков по тарифу Ultra и определим доверительный интервал, где может находится истинное среднее."
   ]
  },
  {
   "cell_type": "code",
   "execution_count": 38,
   "metadata": {},
   "outputs": [
    {
     "name": "stdout",
     "output_type": "stream",
     "text": [
      "Выборочное среднее длительности звонка, Ultra: 547.00 минут\n",
      "Доверительный интервал для истинного среднего (502.6807030248452, 591.3160996674121)\n"
     ]
    }
   ],
   "source": [
    "calls_d_mean = calls_duration_ultra.mean()\n",
    "print('Выборочное среднее длительности звонка, Ultra: {:.2f} минут'.format(calls_d_mean['mean_month']))\n",
    "print('Доверительный интервал для истинного среднего', (st.t.interval(0.95, len(calls_duration_ultra['mean_month'])-1, loc=np.mean(calls_duration_ultra['mean_month']), scale=st.sem(calls_duration_ultra['mean_month']))))"
   ]
  },
  {
   "cell_type": "markdown",
   "metadata": {},
   "source": [
    "Средняя длительность звонка по тарифу Ultra хоть и больше, чем по тарифу Smart (там выборочная средняя равна 420.85 минутам), но все равно сильно меньше, чем предлагают условия пакета (до 3000 минут по тарифу Ultra). Из расчетов следует, что абоненты Ultra в среднем даже могут вписаться в рамки тарифа Smart (до 550 минут разговора включено в тариф). Это значит, что, скорее всего, примерно половина клиентов подключает себе тариф Ultra не из-за длительности звонков, а по другим причинам (возможно, их больше интересует количество сообщений или лимит он-лайн трафика).\n",
    "\n",
    "Посчитаем дисперсию и стандартное отклонение."
   ]
  },
  {
   "cell_type": "code",
   "execution_count": 39,
   "metadata": {},
   "outputs": [
    {
     "name": "stdout",
     "output_type": "stream",
     "text": [
      "Дисперсия равна 71872.07\n",
      "Стандартное отклонение равно 268.09 минут\n"
     ]
    }
   ],
   "source": [
    "print('Дисперсия равна {:.2f}'.format(np.var(calls_duration_ultra['mean_month'], ddof=1)))\n",
    "print('Стандартное отклонение равно {:.2f} минут'.format(np.std(calls_duration_ultra['mean_month'], ddof=1)))"
   ]
  },
  {
   "cell_type": "markdown",
   "metadata": {},
   "source": [
    "Определим диапазон значений, когда среднее ежемесячное количество минут разговора для одного абонента не считается выбросом."
   ]
  },
  {
   "cell_type": "code",
   "execution_count": 40,
   "metadata": {},
   "outputs": [
    {
     "name": "stdout",
     "output_type": "stream",
     "text": [
      "-301.59 1395.59\n"
     ]
    }
   ],
   "source": [
    "low = st.t.interval(0.95, len(calls_duration_ultra['mean_month'])-1, loc=np.mean(calls_duration_ultra['mean_month']), scale=st.sem(calls_duration_ultra['mean_month']))[0] - (np.std(calls_duration_ultra['mean_month'], ddof=1))*3\n",
    "up = st.t.interval(0.95, len(calls_duration_ultra['mean_month'])-1, loc=np.mean(calls_duration_ultra['mean_month']), scale=st.sem(calls_duration_ultra['mean_month']))[1] + (np.std(calls_duration_ultra['mean_month'], ddof=1))*3\n",
    "print('{:.2f}'.format(low), '{:.2f}'.format(up))"
   ]
  },
  {
   "cell_type": "markdown",
   "metadata": {},
   "source": [
    "Верхняя граница довольно большая, 1396 минут. Возможно в датасете даже и нет таких значений (т.е. выбросов нет). Проверим это с помощью функции max()."
   ]
  },
  {
   "cell_type": "code",
   "execution_count": 41,
   "metadata": {},
   "outputs": [
    {
     "name": "stdout",
     "output_type": "stream",
     "text": [
      "Максимальное значение 1179.36\n"
     ]
    }
   ],
   "source": [
    "print('Максимальное значение {:.2f}'.format(calls_duration_ultra['mean_month'].max()))"
   ]
  },
  {
   "cell_type": "markdown",
   "metadata": {},
   "source": [
    "#### Сообщения"
   ]
  },
  {
   "cell_type": "markdown",
   "metadata": {},
   "source": [
    "Построим гистограмму распределения среднего количества сообщений в месяц."
   ]
  },
  {
   "cell_type": "code",
   "execution_count": 42,
   "metadata": {},
   "outputs": [
    {
     "data": {
      "image/png": "[encoded data removed]",
      "text/plain": [
       "<Figure size 1008x432 with 2 Axes>"
      ]
     },
     "metadata": {
      "needs_background": "light"
     },
     "output_type": "display_data"
    }
   ],
   "source": [
    "messages_group_ultra['mean_month'] = messages_group_ultra.mean(axis=1)\n",
    "draw_hist(messages_group_ultra['mean_month'], 'Количество сообщений за месяц Ultra', 'Среднее количество сообщений за месяц') "
   ]
  },
  {
   "cell_type": "markdown",
   "metadata": {},
   "source": [
    "В целом форма распределения визуально очень похожа на форму распределения по тарифу Smart: такая же положительная скошенность и сосредоточение большинства пользователей в области с относительно небольшим ежемесячным количеством сообщений. Отличие заключается в том, что основание гистограммы для Ultra более широкое. Это говорит о том, что в среднем пользователи Ultra посылают больше сообщений, чем клиенты Smart. \n",
    "\n",
    "На диаграмме размаха имеется одиночный выброс сверху. Рассчитаем выборочное среднее и выделим доверительный интервал для математического ожидания."
   ]
  },
  {
   "cell_type": "code",
   "execution_count": 43,
   "metadata": {},
   "outputs": [
    {
     "name": "stdout",
     "output_type": "stream",
     "text": [
      "Выборочное среднее количества сообщений, Ultra: 64.56 сообщений\n",
      "Доверительный интервал для истинного среднего (56.84273703692092, 72.2688669057314)\n"
     ]
    }
   ],
   "source": [
    "messages_mean = messages_group_ultra.mean()\n",
    "print('Выборочное среднее количества сообщений, Ultra: {:.2f} сообщений'.format(messages_mean['mean_month']))\n",
    "print('Доверительный интервал для истинного среднего', (st.t.interval(0.95, len(messages_group_ultra['mean_month'])-1, loc=np.mean(messages_group_ultra['mean_month']), scale=st.sem(messages_group_ultra['mean_month']))))"
   ]
  },
  {
   "cell_type": "markdown",
   "metadata": {},
   "source": [
    "В количестве отправленных сообщений действительно разница есть. Пользователи Ultra в среднем посылают в 2 раза больше sms, чем абоненты тарифа Smart. \n",
    "\n",
    "Посчитаем дисперсию и стандартное отклонение."
   ]
  },
  {
   "cell_type": "code",
   "execution_count": 44,
   "metadata": {},
   "outputs": [
    {
     "name": "stdout",
     "output_type": "stream",
     "text": [
      "Дисперсия равна 1882.75\n",
      "Стандартное отклонение равно 43.39 сообщений\n"
     ]
    }
   ],
   "source": [
    "print('Дисперсия равна {:.2f}'.format(np.var(messages_group_ultra['mean_month'], ddof=1)))\n",
    "print('Стандартное отклонение равно {:.2f} сообщений'.format(np.std(messages_group_ultra['mean_month'], ddof=1)))"
   ]
  },
  {
   "cell_type": "markdown",
   "metadata": {},
   "source": [
    "Стандартное отклонение по сообщениям тарифа Ultra тоже больше тарифа Smart примерно в 2 раза. \n",
    "Определим границы выбросов."
   ]
  },
  {
   "cell_type": "code",
   "execution_count": 45,
   "metadata": {},
   "outputs": [
    {
     "name": "stdout",
     "output_type": "stream",
     "text": [
      "-73.33 202.44\n"
     ]
    }
   ],
   "source": [
    "low = st.t.interval(0.95, len(messages_group_ultra['mean_month'])-1, loc=np.mean(messages_group_ultra['mean_month']), scale=st.sem(messages_group_ultra['mean_month']))[0] - (np.std(messages_group_ultra['mean_month'], ddof=1))*3\n",
    "up = st.t.interval(0.95, len(messages_group_ultra['mean_month'])-1, loc=np.mean(messages_group_ultra['mean_month']), scale=st.sem(messages_group_ultra['mean_month']))[1] + (np.std(messages_group_ultra['mean_month'], ddof=1))*3\n",
    "print('{:.2f}'.format(low), '{:.2f}'.format(up))"
   ]
  },
  {
   "cell_type": "markdown",
   "metadata": {},
   "source": [
    "Проверим, есть ли значения, которые выходят за эти пределы."
   ]
  },
  {
   "cell_type": "code",
   "execution_count": 46,
   "metadata": {},
   "outputs": [
    {
     "name": "stdout",
     "output_type": "stream",
     "text": [
      "Максимальное значение 192.00\n"
     ]
    }
   ],
   "source": [
    "print('Максимальное значение {:.2f}'.format(messages_group_ultra['mean_month'].max()))"
   ]
  },
  {
   "cell_type": "markdown",
   "metadata": {},
   "source": [
    "Несмотря на то, что диаграмма размаха выявила один выброс, его удалять не будем, поскольку сам боксплот был построен по выборочным данным, а не по генеральной совокупности."
   ]
  },
  {
   "cell_type": "markdown",
   "metadata": {},
   "source": [
    "#### Интернет"
   ]
  },
  {
   "cell_type": "markdown",
   "metadata": {},
   "source": [
    "Построим гистограмму распределения среднего ежемесячного использование интернет-трафика."
   ]
  },
  {
   "cell_type": "code",
   "execution_count": 47,
   "metadata": {},
   "outputs": [
    {
     "data": {
      "image/png": "[encoded data removed]",
      "text/plain": [
       "<Figure size 1008x432 with 2 Axes>"
      ]
     },
     "metadata": {
      "needs_background": "light"
     },
     "output_type": "display_data"
    }
   ],
   "source": [
    "internet_group_ultra['mean_month'] = internet_group_ultra.mean(axis=1)\n",
    "draw_hist(internet_group_ultra['mean_month'], 'Использование интернет-трафика Ultra', 'Среднее использование интернет-трафика за месяц') "
   ]
  },
  {
   "cell_type": "markdown",
   "metadata": {},
   "source": [
    "Распределение нормальное, по форме похоже на распределение тарифа Smart, но основание гистограммы Ultra гораздо шире в сторону больших значений использованных мб. Это значит, что в среднем пользователи Ultra больше времени проводят он-лайн, чем пользователи Smart.\n",
    "Проверим это предположение, рассчитав среднее выборочное и доверительный интервал для истинного среднего."
   ]
  },
  {
   "cell_type": "code",
   "execution_count": 48,
   "metadata": {},
   "outputs": [
    {
     "name": "stdout",
     "output_type": "stream",
     "text": [
      "Выборочное среднее использования интернет-трафика, Ultra: 19762.44 мб\n",
      "Доверительный интервал для истинного среднего (18429.470865796153, 21095.40033847199)\n"
     ]
    }
   ],
   "source": [
    "internet_mean = internet_group_ultra.mean()\n",
    "print('Выборочное среднее использования интернет-трафика, Ultra: {:.2f} мб'.format(internet_mean['mean_month']))\n",
    "print('Доверительный интервал для истинного среднего', (st.t.interval(0.95, len(internet_group_ultra['mean_month'])-1, loc=np.mean(internet_group_ultra['mean_month']), scale=st.sem(internet_group_ultra['mean_month']))))"
   ]
  },
  {
   "cell_type": "markdown",
   "metadata": {},
   "source": [
    "Да, пользователи Ultra действительно активнее пользуются интернетом по сравнению с абонентами Smart (там выборочное среднее равно 16237 мб).\n",
    "Посчитаем дисперсию и стандартное отклонение."
   ]
  },
  {
   "cell_type": "code",
   "execution_count": 49,
   "metadata": {},
   "outputs": [
    {
     "name": "stdout",
     "output_type": "stream",
     "text": [
      "Дисперсия равна 66869619.03\n",
      "Стандартное отклонение равно 8177.38 мб\n"
     ]
    }
   ],
   "source": [
    "print('Дисперсия равна {:.2f}'.format(np.var(internet_group_ultra['mean_month'], ddof=1)))\n",
    "print('Стандартное отклонение равно {:.2f} мб'.format(np.std(internet_group_ultra['mean_month'], ddof=1)))"
   ]
  },
  {
   "cell_type": "markdown",
   "metadata": {},
   "source": [
    "Разброс средних значений использованных мб для тарифа Ultra тоже больше (8177.38 мб против 3627.14 для тарифа Smart).\n",
    "\n",
    "Определим границы выбросов."
   ]
  },
  {
   "cell_type": "code",
   "execution_count": 50,
   "metadata": {},
   "outputs": [
    {
     "name": "stdout",
     "output_type": "stream",
     "text": [
      "-6102.68 45627.55\n"
     ]
    }
   ],
   "source": [
    "low = st.t.interval(0.95, len(internet_group_ultra['mean_month'])-1, loc=np.mean(internet_group_ultra['mean_month']), scale=st.sem(internet_group_ultra['mean_month']))[0] - (np.std(internet_group_ultra['mean_month'], ddof=1))*3\n",
    "up = st.t.interval(0.95, len(internet_group_ultra['mean_month'])-1, loc=np.mean(internet_group_ultra['mean_month']), scale=st.sem(internet_group_ultra['mean_month']))[1] + (np.std(internet_group_ultra['mean_month'], ddof=1))*3\n",
    "print('{:.2f}'.format(low), '{:.2f}'.format(up))"
   ]
  },
  {
   "cell_type": "markdown",
   "metadata": {},
   "source": [
    "Проверим, превышает ли максимальное среднее значение датасета верхнюю границу выбросов (45627.55 мб). Если нет, то выбросы не обнаружены."
   ]
  },
  {
   "cell_type": "code",
   "execution_count": 51,
   "metadata": {},
   "outputs": [
    {
     "name": "stdout",
     "output_type": "stream",
     "text": [
      "Максимальное значение 38502.00\n"
     ]
    }
   ],
   "source": [
    "print('Максимальное значение {:.2f}'.format(internet_group_ultra['mean_month'].max()))"
   ]
  },
  {
   "cell_type": "markdown",
   "metadata": {},
   "source": [
    "### Вывод"
   ]
  },
  {
   "cell_type": "markdown",
   "metadata": {},
   "source": [
    "Анализ показал, что в среднем абоненты тарифа Ultra используют больший объем услуг, чем клиенты Smart. Пользователи обоих тарифов в большинстве своем вписываются в рамки предоставленного лимита по звонкам и сообщениям. \n",
    "\n",
    "Средняя длительность разговоров по тарифу Smart около 421 минуты, что вполне укладывается в порог 550 минут. Но здесь нужно отметить, что прибавляя стандартное отклонение вправо (143,5 минуты), мы уже \"первой сигмой\" выходим за границу лимита в 550 рублей. Это значит, что порядка 15% пользователей закупают дополнительные минуты (а 85% хватает предоставленного времени). Примерно такая же картина с сообщениями (среднее - 37-38 сообщений, стандартное отклонение - 25 сообщений).\n",
    "    \n",
    "С подключениями к сети ситуация иная. Исследование выявило, что абонентам Smart довольно тесно в пределах оговоренного лимита для интернет-соединения. Больше половины пользователей превышают ограничение и закупают дополнительные гигабайты. Выборочное среднее и медианное значение (16237.00 и 16289.30 мб соответственно) превышают установленный лимит в 15360 мб. Далее мы проверим, а сколько вообще денег пользователи тратят на мобильную связь, и будет ли им удобнее перейти на более дорогой тариф.\n",
    "\n",
    "Что касается тарифа Ultra, то его клиенты чувствуют себя свободно. И хотя среднее по длительности звонков у них выше, чем у абонентов Smart - 547.00 минут, а стандартное отклонение больше Smart почти в 2 раза (268.09 минут), Мегалайн предоставляет им целых 3000 минут в рамках тарифа. Этого более чем достаточно, чтобы не думать об ограничениях. Порог в 1000 сообщений также практически не оставляет шансов на перерасход (в среднем по выборке пользователи отправляют всего 65 сообщений, стандартное отклонение примерно 44 сообщения). Вероятнее всего, пользователи (по крайней мере, половина из них) подключили себе тариф Ultra, в основном, из-за сетевого трафика. Среднее значение потраченных мегабайт - 19762.44. Это явно много, чтобы воспользоваться предложением подешевле. А со стандартным отклонением в 8177.38 мегабайт некоторым абонентам даже не хватит и тарифа Ultra.\n",
    "\n",
    "Нужно учесть, что все расчеты проводились по одной выборочной совокупности, а это всегда может повлечь за собой определенные погрешности в выводах. Другое важное обстоятельство заключается в самом методе исследования. В работе гисторгаммы и расчеты делаются не на основании среднего, полученного путем длительности разговоров, поделенной на количество звонков и количество дней, а на основании среднего средних. Т.е. сначала расчитывалось среднее для каждого пользователя по каждому месяцу, а уже затем по средним значениям каждого месяца высчитывалось общее среднее. Но сами периоды для определения средних могут быть неоднородны. Например, абонент только что подключился (допустим, 27 марта), и до 31 марта включительно (т.е. всего за пять дней) он пошлет не так много сообщений и потратит не слишком много трафика. Поэтому средние показатели могут подвинуться в меньшую сторону."
   ]
  },
  {
   "cell_type": "markdown",
   "metadata": {},
   "source": [
    "## Проверка гипотез"
   ]
  },
  {
   "cell_type": "markdown",
   "metadata": {},
   "source": [
    "### Доходность Smart и Ultra"
   ]
  },
  {
   "cell_type": "markdown",
   "metadata": {},
   "source": [
    "Наконец-то определим, какой тариф приносит больше денег от одного пользователя. \n",
    "\n",
    "<div style=\"border: solid green 2px; padding: 10px\">\n",
    "За основу возьмем <strong>нулевую гипотезу</strong>, что средняя выручка тарифов Smart и Ultra не отличается. Вернее, все выявленные отличия в доходах можно объяснить случайностью. \n",
    "\n",
    "<strong>Альтернативная гипотеза</strong> будет заключатся в том, что с большой (или значительной) вероятностью найденные отличия не случайны, и между уровнем дохода и тарифом есть определенная связь.\n",
    "</div>\n",
    "\n",
    "Взглянем на гистограмму распределений доходов по тарифам."
   ]
  },
  {
   "cell_type": "code",
   "execution_count": 52,
   "metadata": {
    "scrolled": false
   },
   "outputs": [
    {
     "data": {
      "text/plain": [
       "<matplotlib.legend.Legend at 0x7fd55e032a50>"
      ]
     },
     "execution_count": 52,
     "metadata": {},
     "output_type": "execute_result"
    },
    {
     "data": {
      "image/png": "[encoded data removed]",
      "text/plain": [
       "<Figure size 648x648 with 1 Axes>"
      ]
     },
     "metadata": {
      "needs_background": "light"
     },
     "output_type": "display_data"
    }
   ],
   "source": [
    "fig, ax = plt.subplots(figsize=(9,9))\n",
    "\n",
    "ax.hist(total_cost_smart['mean_month'], density=True, bins=40, color='green', histtype='step')\n",
    "ax.hist(total_cost_ultra['mean_month'], density=True, bins=40, color='red', histtype='step')\n",
    "ax.set_title('Средний доход по тарифам')\n",
    "ax.set_xlabel('Доходы за месяц')\n",
    "ax.set_ylabel('Плотность частоты')\n",
    "ax.grid(alpha=0.2, linestyle='--', linewidth=1)\n",
    "labels= [\"Smart\",\"Ultra\"]\n",
    "\n",
    "ax.legend(labels, fontsize='x-large', labelspacing=1.5, handlelength=4.5)"
   ]
  },
  {
   "cell_type": "markdown",
   "metadata": {},
   "source": [
    "Гистограммы двух распределений не похожи друг на друга. График доходности Smart широкий и довольно плоский. Он медленно спускается к нулевым значениям частоты, резких выступов нет. Можно сказать, \"размазан\" по оси абсцисс. Набор средних ежемесячных доходов от пользователей тарифа весьма разнообразен и отличается большим диапазоном.\n",
    "Гистограмма Ultra совершенно иная и начинается с огромного пика на значении 1950 (стоимость тарифа), основание гистограммы намного уже. Это говорит о том, что большинство абонентов Ultra укладываются в лимиты и за дополнительные пакеты не платят. Но это также может свидетельствовать, что для многих пользователей тариф избыточен, и платят они больше, чем платили бы будучи абонентами Smart.\n",
    "Похоже, что отличия в доходности будут значимы. Позже проверим это.\n",
    "Для оценки доходности тарифов рассчитаем средние, дисперсию и уровень значимости."
   ]
  },
  {
   "cell_type": "code",
   "execution_count": 53,
   "metadata": {},
   "outputs": [
    {
     "name": "stdout",
     "output_type": "stream",
     "text": [
      "Выборочный средний ежемесячный доход от пользователя тарифа (ARPU), Smart 1329.73\n",
      "Выборочный средний ежемесячный доход от пользователя тарифа (ARPU), Ultra 2087.42\n"
     ]
    }
   ],
   "source": [
    "print('Выборочный средний ежемесячный доход от пользователя тарифа (ARPU), Smart {:.2f}'.format(total_cost_smart['mean_month'].mean()))\n",
    "print('Выборочный средний ежемесячный доход от пользователя тарифа (ARPU), Ultra {:.2f}'.format(total_cost_ultra['mean_month'].mean()))"
   ]
  },
  {
   "cell_type": "markdown",
   "metadata": {},
   "source": [
    "Даже с учетом закупки дополнительных минут, сообщений или гигабайт, для абонентов Smart связь в среднем обходится на 620 рублей (1950-1330) дешевле, чем если бы они перешли на Ultra.\n",
    "\n",
    "Посмотрим, как сильно отличаются дисперсии двух тарифов."
   ]
  },
  {
   "cell_type": "code",
   "execution_count": 54,
   "metadata": {},
   "outputs": [
    {
     "name": "stdout",
     "output_type": "stream",
     "text": [
      "Дисперсия, тариф Smart: 367217.09\n",
      "Дисперсия, тариф Ultra: 89897.64\n",
      "Отношение дисперсий тарифа Smart к тарифу Ultra: 4.08\n"
     ]
    }
   ],
   "source": [
    "print('Дисперсия, тариф Smart: {:.2f}'.format(np.var(total_cost_smart['mean_month'])))\n",
    "print('Дисперсия, тариф Ultra: {:.2f}'.format(np.var(total_cost_ultra['mean_month'])))\n",
    "print('Отношение дисперсий тарифа Smart к тарифу Ultra: {:.2f}'.format(np.var(total_cost_smart['mean_month']) / np.var(total_cost_ultra['mean_month'])))"
   ]
  },
  {
   "cell_type": "markdown",
   "metadata": {},
   "source": [
    "Рассчитаем уровень значимости, за пороговое значение примем стандартные 0,05. Поскольку дисперсия тарифа Smart в 4 раза больше дисперсии Ultra, то в параметре equal_var укажем False."
   ]
  },
  {
   "cell_type": "code",
   "execution_count": 55,
   "metadata": {},
   "outputs": [
    {
     "name": "stdout",
     "output_type": "stream",
     "text": [
      "Ttest_indResult(statistic=-18.575842163596015, pvalue=1.5026228308148506e-58) \n",
      "\n",
      "Нулевая гипотеза отвергнута, принята альтернативная\n"
     ]
    }
   ],
   "source": [
    "print(st.ttest_ind(total_cost_smart['mean_month'], total_cost_ultra['mean_month'], equal_var=False), '\\n')\n",
    "if st.ttest_ind(total_cost_smart['mean_month'], total_cost_ultra['mean_month'], equal_var=False)[1] < 0.05:\n",
    "    print('Нулевая гипотеза отвергнута, принята альтернативная')\n",
    "else:\n",
    "    print('Нулевая гипотеза не отвергается')"
   ]
  },
  {
   "cell_type": "markdown",
   "metadata": {},
   "source": [
    "Р-значение очень низкое. Это значит, что, скорее всего, нулевая гипотеза неверна. Теперь в качестве основной гипотезы можно принять альтернативную: имеется значительная разница в доходах между тарифами, и этот результат вряд ли можно объяснить случайностью."
   ]
  },
  {
   "cell_type": "markdown",
   "metadata": {},
   "source": [
    "Наши расчеты показали, что тариф Ultra приносит больше дохода с одного абонента. Однако неплохо было бы понимать, а какова вообще общая доходность по тарифам в абсолютных цифрах. Посчитаем, сколько всего денег (по выборочной совокупности) принес нам каждый тариф в среднем. "
   ]
  },
  {
   "cell_type": "code",
   "execution_count": 56,
   "metadata": {},
   "outputs": [
    {
     "name": "stdout",
     "output_type": "stream",
     "text": [
      "Средний ежемесячный доход от всех пользователей тарифа Smart 465404.27\n",
      "Средний ежемесячный доход от всех пользователей тарифа Ultra 308937.78\n",
      "Доля дохода от тарифа Smart в общей выручке 0.60\n",
      "Доля дохода от тарифа Ultra в общей выручке 0.40\n"
     ]
    }
   ],
   "source": [
    "print('Средний ежемесячный доход от всех пользователей тарифа Smart {:.2f}'.format(total_cost_smart['mean_month'].sum()))\n",
    "print('Средний ежемесячный доход от всех пользователей тарифа Ultra {:.2f}'.format(total_cost_ultra['mean_month'].sum()))\n",
    "\n",
    "print('Доля дохода от тарифа Smart в общей выручке {:.2f}'.format(total_cost_smart['mean_month'].sum() / (total_cost_smart['mean_month'].sum() + total_cost_ultra['mean_month'].sum())))\n",
    "print('Доля дохода от тарифа Ultra в общей выручке {:.2f}'.format(total_cost_ultra['mean_month'].sum() / (total_cost_smart['mean_month'].sum() + total_cost_ultra['mean_month'].sum())))"
   ]
  },
  {
   "cell_type": "markdown",
   "metadata": {},
   "source": [
    "Посчитаем долю пользователей каждого тарифа в выборке. Сюда также включим тех, кто уже прервал действие договора на оказание услуг (поскольку свой вклад в формирование общего дохода они тоже внесли)."
   ]
  },
  {
   "cell_type": "code",
   "execution_count": 57,
   "metadata": {},
   "outputs": [
    {
     "name": "stdout",
     "output_type": "stream",
     "text": [
      "Доля пользователей тарифа Smart 0.70\n",
      "Доля пользователей тарифа Ultra 0.30\n"
     ]
    }
   ],
   "source": [
    "print('Доля пользователей тарифа Smart {:.2f}'.format(total_cost_smart['mean_month'].count() / (len(total_cost_smart) + len(total_cost_ultra))))\n",
    "print('Доля пользователей тарифа Ultra {:.2f}'.format(total_cost_ultra['mean_month'].count() / (len(total_cost_smart) + len(total_cost_ultra))))"
   ]
  },
  {
   "cell_type": "markdown",
   "metadata": {},
   "source": [
    "Доход с абонента тарифа Ultra выше, но пользователей Smart гораздо больше, и вместе последние приносят больше денег. Т.е. Ultra прибыльней, а Smart берет оборотами."
   ]
  },
  {
   "cell_type": "markdown",
   "metadata": {},
   "source": [
    "### Доходность по Москве и регионам"
   ]
  },
  {
   "cell_type": "markdown",
   "metadata": {},
   "source": [
    "Посчитаем, сильно ли разнятся между собой доходы от регионов и от Москвы. \n",
    "\n",
    "<div style=\"border: solid green 2px; padding: 10px\">\n",
    "Наша <strong>нулевая гипотеза</strong> заключается в том, что особой разницы по территориальному признаку в доходах нет, а видимые небольшие отличия вполне могут быть случайностью. \n",
    "\n",
    "Соответственно, <strong>альтернативная гипотеза</strong> будет означать то, что средняя выручка пользователей из Москвы отличается от выручки пользователей из других регионов.\n",
    "</div>\n",
    "\n",
    "Для каждой группы отфильтруем нужные значения."
   ]
  },
  {
   "cell_type": "code",
   "execution_count": 58,
   "metadata": {},
   "outputs": [],
   "source": [
    "total_cost_smart = total_cost_smart.join(users.set_index('user_id'), on='user_id', rsuffix='_y')\n",
    "total_cost_ultra = total_cost_ultra.join(users.set_index('user_id'), on='user_id', rsuffix='_y')\n",
    "smart_moscow = total_cost_smart.query('city == \"Москва\"')\n",
    "smart_regions = total_cost_smart.query('city != \"Москва\"')\n",
    "ultra_moscow = total_cost_ultra.query('city == \"Москва\"')\n",
    "ultra_regions = total_cost_ultra.query('city != \"Москва\"')"
   ]
  },
  {
   "cell_type": "markdown",
   "metadata": {},
   "source": [
    "Построим гистограмму для визуальной оценки поведения пользователей разных тарифов в Москве и регионах."
   ]
  },
  {
   "cell_type": "code",
   "execution_count": 59,
   "metadata": {},
   "outputs": [
    {
     "data": {
      "text/plain": [
       "<matplotlib.legend.Legend at 0x7fd55dfcd490>"
      ]
     },
     "execution_count": 59,
     "metadata": {},
     "output_type": "execute_result"
    },
    {
     "data": {
      "image/png": "[encoded data removed]",
      "text/plain": [
       "<Figure size 648x648 with 1 Axes>"
      ]
     },
     "metadata": {
      "needs_background": "light"
     },
     "output_type": "display_data"
    }
   ],
   "source": [
    "fig, ax = plt.subplots(figsize=(9,9))\n",
    "\n",
    "ax.hist(smart_moscow['mean_month'], density=True, bins=40, color='green', histtype='step')\n",
    "ax.hist(smart_regions['mean_month'], density=True, bins=40, color='red', histtype='step')\n",
    "ax.hist(ultra_moscow['mean_month'], density=True, bins=40, color='blue', histtype='step')\n",
    "ax.hist(ultra_regions['mean_month'], density=True, bins=40, color='orange', histtype='step')\n",
    "ax.set_title('Средний доход по тарифам в Москве и регионах')\n",
    "ax.set_xlabel('Доходы за месяц в Москве и регионах')\n",
    "ax.set_ylabel('Плотность частоты')\n",
    "ax.grid(alpha=0.2, linestyle='--', linewidth=1)\n",
    "labels= [\"Smart Moscow\",\"Smart regions\", \"Ultra Moscow\", \"Ultra regions\"]\n",
    "ax.legend(labels, fontsize='x-large', labelspacing=1.5, handlelength=4.5)"
   ]
  },
  {
   "cell_type": "markdown",
   "metadata": {},
   "source": [
    "Графики разных тарифов не похожи друг на друга, но по территориальному признаку отличий мало. "
   ]
  },
  {
   "cell_type": "markdown",
   "metadata": {},
   "source": [
    "Рассчитаем средние ежемесячные доходы от одного пользователя тарифа Smart и Ultra для Москвы и регионов."
   ]
  },
  {
   "cell_type": "code",
   "execution_count": 60,
   "metadata": {},
   "outputs": [
    {
     "name": "stdout",
     "output_type": "stream",
     "text": [
      "Средний ежемесячный доход от пользователя тарифа Smart в Москве 1238.11\n",
      "Средний ежемесячный доход от пользователя тарифа Ultra в Москве 2060.56\n",
      "Средний ежемесячный доход от пользователя тарифа Smart в регионах 1351.42\n",
      "Средний ежемесячный доход от пользователя тарифа Ultra в регионах 2094.83\n"
     ]
    }
   ],
   "source": [
    "print('Средний ежемесячный доход от пользователя тарифа Smart в Москве {:.2f}'.format(smart_moscow['mean_month'].mean()))\n",
    "print('Средний ежемесячный доход от пользователя тарифа Ultra в Москве {:.2f}'.format(ultra_moscow['mean_month'].mean()))\n",
    "print('Средний ежемесячный доход от пользователя тарифа Smart в регионах {:.2f}'.format(smart_regions['mean_month'].mean()))\n",
    "print('Средний ежемесячный доход от пользователя тарифа Ultra в регионах {:.2f}'.format(ultra_regions['mean_month'].mean()))"
   ]
  },
  {
   "cell_type": "markdown",
   "metadata": {},
   "source": [
    "Как и ожидалось, есть большая разница между тарифами, а вот доходы, рассчитанные по территориальному признаку, абсолютно идентичны.\n",
    "Посмотрим на дисперсию для разных групп."
   ]
  },
  {
   "cell_type": "code",
   "execution_count": 61,
   "metadata": {},
   "outputs": [
    {
     "name": "stdout",
     "output_type": "stream",
     "text": [
      "Дисперсия, тариф Smart Москва: 295807.66\n",
      "Дисперсия, тариф Ultra Москва: 40193.90\n",
      "Дисперсия, тариф Smart регионы: 381665.81\n",
      "Дисперсия, тариф Ultra регионы: 103355.21\n",
      "Отношение дисперсий тарифа Smart в Москве и регионах: 1.29\n",
      "Отношение дисперсий тарифа Ultra в Москве и регионах: 2.57\n"
     ]
    }
   ],
   "source": [
    "print('Дисперсия, тариф Smart Москва: {:.2f}'.format(np.var(smart_moscow['mean_month'])))\n",
    "print('Дисперсия, тариф Ultra Москва: {:.2f}'.format(np.var(ultra_moscow['mean_month'])))\n",
    "print('Дисперсия, тариф Smart регионы: {:.2f}'.format(np.var(smart_regions['mean_month'])))\n",
    "print('Дисперсия, тариф Ultra регионы: {:.2f}'.format(np.var(ultra_regions['mean_month'])))\n",
    "print('Отношение дисперсий тарифа Smart в Москве и регионах: {:.2f}'.format(np.var(smart_regions['mean_month']) / np.var(smart_moscow['mean_month'])))\n",
    "print('Отношение дисперсий тарифа Ultra в Москве и регионах: {:.2f}'.format(np.var(ultra_regions['mean_month']) / np.var(ultra_moscow['mean_month'])))"
   ]
  },
  {
   "cell_type": "code",
   "execution_count": 62,
   "metadata": {},
   "outputs": [
    {
     "name": "stdout",
     "output_type": "stream",
     "text": [
      "Ttest_indResult(statistic=-1.3759523910362812, pvalue=0.1697212180681678) \n",
      "\n",
      "Нулевая гипотеза не отвергается\n"
     ]
    }
   ],
   "source": [
    "print(st.ttest_ind(smart_moscow['mean_month'], smart_regions['mean_month'], equal_var=True), '\\n')\n",
    "if st.ttest_ind(smart_moscow['mean_month'], smart_regions['mean_month'], equal_var=True)[1] < 0.05:\n",
    "    print('Нулевая гипотеза отвергнута, принята альтернативная')\n",
    "else:\n",
    "    print('Нулевая гипотеза не отвергается')"
   ]
  },
  {
   "cell_type": "code",
   "execution_count": 63,
   "metadata": {},
   "outputs": [
    {
     "name": "stdout",
     "output_type": "stream",
     "text": [
      "Ttest_indResult(statistic=-0.7312374229191734, pvalue=0.46680633975169483) \n",
      "\n",
      "Нулевая гипотеза не отвергается\n"
     ]
    }
   ],
   "source": [
    "print(st.ttest_ind(ultra_moscow['mean_month'], ultra_regions['mean_month'], equal_var=False), '\\n')\n",
    "if st.ttest_ind(ultra_moscow['mean_month'], ultra_regions['mean_month'], equal_var=False)[1] < 0.05:\n",
    "    print('Нулевая гипотеза отвергнута, принята альтернативная')\n",
    "else:\n",
    "    print('Нулевая гипотеза не отвергается')"
   ]
  },
  {
   "cell_type": "markdown",
   "metadata": {},
   "source": [
    "В случае с обоими тарифами Р-значение оказалось слишком большим, чтобы отбросить нулевую гипотезу. Мы можем утверждать, что с большой вероятностью разницы в доходах по регионам нет. Люди везде говорят, пишут и используют глобальную сеть примерно одинаково. Внести изменения в этот результат по доходности может только разница в стоимости тарифа, а она у нас одна и та же для всей страны."
   ]
  },
  {
   "cell_type": "markdown",
   "metadata": {},
   "source": [
    "### Вывод"
   ]
  },
  {
   "cell_type": "markdown",
   "metadata": {},
   "source": [
    "В исследовании проверены две гипотезы о том, что средняя выручка абонентов тарифов Ultra и Smart не имеет значимых отличий, и что средняя выручка пользователей из Москвы не отличается от выручки пользователей из других регионов. \n",
    "\n",
    "В первом случае расчеты выявили, что, скорее всего, верно обратное, и тарифы по своей выручке с одного абонента не похожи друг на друга.\n",
    "\n",
    "Во втором нулевая гипотеза отвергнута не была. Клиенты Мегалайна тратят одинаковое количество денег на услуги связи вне зависимости от места проживания. Тем не менее, это вовсе не означает, что нулевая гипотеза верна. Это значит, что в данном исследовании мы не обнаружили значимых различий."
   ]
  },
  {
   "cell_type": "markdown",
   "metadata": {},
   "source": [
    "## Общий вывод"
   ]
  },
  {
   "cell_type": "markdown",
   "metadata": {},
   "source": [
    "С точки зрения доходности с одного клиента более прибыльным тарифом является Ultra, но по доле в общей выручке большую выгоду приносит Smart (0,4 и 0,6 соответственно). Следует отметить, что наши расчеты не принимают во внимание доли косвенных и прямых затрат в тарифе.\n",
    "\n",
    "В общем, для увеличения доходности есть два пути: либо нарастить свою долю рынка (привлечение новых пользователей от других операторов), либо повысить платежи для актуальных клиентов (например, перевести хотя бы часть своих клиентов на тариф Ultra, повысить стоимость Smart, предложить дополнительные услуги или новые тарифы). Первый способ обычно более затратный, а второй более рискованный в плане удержания абонентов.\n",
    "\n",
    "Судя по результатам, большинству \"юзеров\" все-таки выгоднее брать тариф Smart и доплачивать за определенные услуги, если стандартного пакета не хватает. Для них это все-равно получается дешевле, чем платить сразу за Ultra.\n",
    "Поэтому перевод пользователей на более дорогостоящий тариф представляется сложной задачей. Непросто объяснить клиентам, почему они должны платить в среднем на 620 рублей больше за услуги, которые не используют.\n",
    "\n",
    "Возможно, имеет смысл предложить новые линейки тарифов с увеличенным лимитом на интернет и соответственно, большей стоимостью (где-то между Smart и Ultra). Это позволить рассчитывать на более высокий и фиксированный доход с пользователя и лучше планировать финансовую деятельность. С другой стороны не исключен побочный эффект, когда абоненты тарифа Ultra перейдут на новый и более дешевый тариф, что нивелирует все усилия по увеличению прибыли. С точки зрения руководства оператора - довольно сомнительное достижение.\n",
    "\n",
    "В данном случае наиболее эффективной может оказаться кампания, направленная на сегмент пользователей, у которых затраты на мобильную связь близки к стоимости тарифа Ultra. Им можно предложить перейти на этот тариф."
   ]
  },
  {
   "cell_type": "code",
   "execution_count": null,
   "metadata": {},
   "outputs": [],
   "source": []
  }
 ],
 "metadata": {
  "kernelspec": {
   "display_name": "Python 3",
   "language": "python",
   "name": "python3"
  },
  "language_info": {
   "codemirror_mode": {
    "name": "ipython",
    "version": 3
   },
   "file_extension": ".py",
   "mimetype": "text/x-python",
   "name": "python",
   "nbconvert_exporter": "python",
   "pygments_lexer": "ipython3",
   "version": "3.7.3"
  },
  "toc": {
   "base_numbering": 1,
   "nav_menu": {},
   "number_sections": true,
   "sideBar": true,
   "skip_h1_title": true,
   "title_cell": "Table of Contents",
   "title_sidebar": "Contents",
   "toc_cell": false,
   "toc_position": {},
   "toc_section_display": true,
   "toc_window_display": true
  }
 },
 "nbformat": 4,
 "nbformat_minor": 2
}
