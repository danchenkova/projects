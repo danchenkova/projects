{
 "cells": [
  {
   "cell_type": "markdown",
   "metadata": {
    "toc": true
   },
   "source": [
    "<h1>Содержание<span class=\"tocSkip\"></span></h1>\n",
    "<div class=\"toc\"><ul class=\"toc-item\"><li><span><a href=\"#Предварительное-изучение-данных\" data-toc-modified-id=\"Предварительное-изучение-данных-1\"><span class=\"toc-item-num\">1&nbsp;&nbsp;</span>Предварительное изучение данных</a></span><ul class=\"toc-item\"><li><span><a href=\"#Вывод\" data-toc-modified-id=\"Вывод-1.1\"><span class=\"toc-item-num\">1.1&nbsp;&nbsp;</span>Вывод</a></span></li></ul></li><li><span><a href=\"#Умножение-матриц\" data-toc-modified-id=\"Умножение-матриц-2\"><span class=\"toc-item-num\">2&nbsp;&nbsp;</span>Умножение матриц</a></span></li><li><span><a href=\"#Алгоритм-преобразования\" data-toc-modified-id=\"Алгоритм-преобразования-3\"><span class=\"toc-item-num\">3&nbsp;&nbsp;</span>Алгоритм преобразования</a></span><ul class=\"toc-item\"><li><span><a href=\"#Вывод\" data-toc-modified-id=\"Вывод-3.1\"><span class=\"toc-item-num\">3.1&nbsp;&nbsp;</span>Вывод</a></span></li></ul></li><li><span><a href=\"#Проверка-алгоритма\" data-toc-modified-id=\"Проверка-алгоритма-4\"><span class=\"toc-item-num\">4&nbsp;&nbsp;</span>Проверка алгоритма</a></span><ul class=\"toc-item\"><li><span><a href=\"#Вывод\" data-toc-modified-id=\"Вывод-4.1\"><span class=\"toc-item-num\">4.1&nbsp;&nbsp;</span>Вывод</a></span></li><li><span><a href=\"#Общий-вывод\" data-toc-modified-id=\"Общий-вывод-4.2\"><span class=\"toc-item-num\">4.2&nbsp;&nbsp;</span>Общий вывод</a></span></li></ul></li><li><span><a href=\"#Чек-лист-проверки\" data-toc-modified-id=\"Чек-лист-проверки-5\"><span class=\"toc-item-num\">5&nbsp;&nbsp;</span>Чек-лист проверки</a></span></li></ul></div>"
   ]
  },
  {
   "cell_type": "markdown",
   "metadata": {},
   "source": [
    "# Защита персональных данных клиентов"
   ]
  },
  {
   "cell_type": "markdown",
   "metadata": {},
   "source": [
    "Для защиты сведений о клиентах страховой компании необходимо разработать такой метод преобразования данных, чтобы по ним было сложно восстановить персональную информацию. Основное требование - чтобы при преобразовании качество моделей машинного обучения не ухудшилось, поэтому нужно обосновать корректность работы решения. Подбирать наилучшую модель в рамках проекта не требуется.\n",
    "\n",
    "**Цель проекта**\n",
    "\n",
    "Разработать алгоритм преобразования данных для защиты персональной информации клиентов без ухудшения прогнозных свойств.\n",
    "\n",
    "**Задачи**\n",
    "\n",
    "1. Изучить предоставленные наборы данных, общие характеристики клиентов. Выявить возможные пропуски, аномальные значения, дубликаты и другие особенности, препятствующие адекватной реализации проекта.\n",
    "2. Изучить влияние на качество прогнозирования умножения признаков на обратимую матрицу. Обосновать, почему качество множественной регрессии не поменяется / изменится.\n",
    "3. Предложить алгоритм преобразования данных для защиты информации. Обосновать решение.\n",
    "4. Запрограммировать алгоритм, применив матричные операции. Проверить, что качество линейной регрессии не отличается до и после преобразования, применив метрику R2."
   ]
  },
  {
   "cell_type": "markdown",
   "metadata": {},
   "source": [
    "## Предварительное изучение данных"
   ]
  },
  {
   "cell_type": "code",
   "execution_count": 1,
   "metadata": {},
   "outputs": [],
   "source": [
    "import pandas as pd\n",
    "import numpy as np\n",
    "import matplotlib.pyplot as plt\n",
    "from IPython.display import display\n",
    "\n",
    "from sklearn.model_selection import train_test_split\n",
    "from sklearn.linear_model import LinearRegression\n",
    "\n",
    "from scipy import stats as st\n",
    "from sklearn import metrics\n",
    "from sklearn.metrics import mean_squared_error, r2_score, mean_absolute_error, make_scorer\n",
    "\n",
    "import warnings\n",
    "warnings.filterwarnings(\"ignore\")"
   ]
  },
  {
   "cell_type": "markdown",
   "metadata": {},
   "source": [
    "Загрузим данные и посмотрим на начало таблицы."
   ]
  },
  {
   "cell_type": "code",
   "execution_count": 2,
   "metadata": {},
   "outputs": [
    {
     "data": {
      "text/html": [
       "<div>\n",
       "<style scoped>\n",
       "    .dataframe tbody tr th:only-of-type {\n",
       "        vertical-align: middle;\n",
       "    }\n",
       "\n",
       "    .dataframe tbody tr th {\n",
       "        vertical-align: top;\n",
       "    }\n",
       "\n",
       "    .dataframe thead th {\n",
       "        text-align: right;\n",
       "    }\n",
       "</style>\n",
       "<table border=\"1\" class=\"dataframe\">\n",
       "  <thead>\n",
       "    <tr style=\"text-align: right;\">\n",
       "      <th></th>\n",
       "      <th>Пол</th>\n",
       "      <th>Возраст</th>\n",
       "      <th>Зарплата</th>\n",
       "      <th>Члены семьи</th>\n",
       "      <th>Страховые выплаты</th>\n",
       "    </tr>\n",
       "  </thead>\n",
       "  <tbody>\n",
       "    <tr>\n",
       "      <td>0</td>\n",
       "      <td>1</td>\n",
       "      <td>41.0</td>\n",
       "      <td>49600.0</td>\n",
       "      <td>1</td>\n",
       "      <td>0</td>\n",
       "    </tr>\n",
       "    <tr>\n",
       "      <td>1</td>\n",
       "      <td>0</td>\n",
       "      <td>46.0</td>\n",
       "      <td>38000.0</td>\n",
       "      <td>1</td>\n",
       "      <td>1</td>\n",
       "    </tr>\n",
       "    <tr>\n",
       "      <td>2</td>\n",
       "      <td>0</td>\n",
       "      <td>29.0</td>\n",
       "      <td>21000.0</td>\n",
       "      <td>0</td>\n",
       "      <td>0</td>\n",
       "    </tr>\n",
       "    <tr>\n",
       "      <td>3</td>\n",
       "      <td>0</td>\n",
       "      <td>21.0</td>\n",
       "      <td>41700.0</td>\n",
       "      <td>2</td>\n",
       "      <td>0</td>\n",
       "    </tr>\n",
       "    <tr>\n",
       "      <td>4</td>\n",
       "      <td>1</td>\n",
       "      <td>28.0</td>\n",
       "      <td>26100.0</td>\n",
       "      <td>0</td>\n",
       "      <td>0</td>\n",
       "    </tr>\n",
       "  </tbody>\n",
       "</table>\n",
       "</div>"
      ],
      "text/plain": [
       "   Пол  Возраст  Зарплата  Члены семьи  Страховые выплаты\n",
       "0    1     41.0   49600.0            1                  0\n",
       "1    0     46.0   38000.0            1                  1\n",
       "2    0     29.0   21000.0            0                  0\n",
       "3    0     21.0   41700.0            2                  0\n",
       "4    1     28.0   26100.0            0                  0"
      ]
     },
     "metadata": {},
     "output_type": "display_data"
    }
   ],
   "source": [
    "insurance = pd.read_csv('/datasets/insurance.csv')\n",
    "display(insurance.head())"
   ]
  },
  {
   "cell_type": "markdown",
   "metadata": {},
   "source": [
    "Выведем основную информацию по датафрейму."
   ]
  },
  {
   "cell_type": "code",
   "execution_count": 3,
   "metadata": {},
   "outputs": [
    {
     "name": "stdout",
     "output_type": "stream",
     "text": [
      "<class 'pandas.core.frame.DataFrame'>\n",
      "RangeIndex: 5000 entries, 0 to 4999\n",
      "Data columns (total 5 columns):\n",
      "Пол                  5000 non-null int64\n",
      "Возраст              5000 non-null float64\n",
      "Зарплата             5000 non-null float64\n",
      "Члены семьи          5000 non-null int64\n",
      "Страховые выплаты    5000 non-null int64\n",
      "dtypes: float64(2), int64(3)\n",
      "memory usage: 195.4 KB\n",
      "None\n"
     ]
    }
   ],
   "source": [
    "print(insurance.info())"
   ]
  },
  {
   "cell_type": "markdown",
   "metadata": {},
   "source": [
    "В наборе данных 5 колонок (один из столбцов - целевой признак Страховые выплаты). Пропущенных значений нет, типы данных в целом корректы, кроме возраста. Возможно, имеет смысл перевести столбец с возрастом в целочисленный формат (int).\n",
    "\n",
    "Рассмотрим общую статистику по клиентам."
   ]
  },
  {
   "cell_type": "code",
   "execution_count": 4,
   "metadata": {},
   "outputs": [
    {
     "data": {
      "text/html": [
       "<div>\n",
       "<style scoped>\n",
       "    .dataframe tbody tr th:only-of-type {\n",
       "        vertical-align: middle;\n",
       "    }\n",
       "\n",
       "    .dataframe tbody tr th {\n",
       "        vertical-align: top;\n",
       "    }\n",
       "\n",
       "    .dataframe thead th {\n",
       "        text-align: right;\n",
       "    }\n",
       "</style>\n",
       "<table border=\"1\" class=\"dataframe\">\n",
       "  <thead>\n",
       "    <tr style=\"text-align: right;\">\n",
       "      <th></th>\n",
       "      <th>Пол</th>\n",
       "      <th>Возраст</th>\n",
       "      <th>Зарплата</th>\n",
       "      <th>Члены семьи</th>\n",
       "      <th>Страховые выплаты</th>\n",
       "    </tr>\n",
       "  </thead>\n",
       "  <tbody>\n",
       "    <tr>\n",
       "      <td>count</td>\n",
       "      <td>5000.000000</td>\n",
       "      <td>5000.000000</td>\n",
       "      <td>5000.000000</td>\n",
       "      <td>5000.000000</td>\n",
       "      <td>5000.000000</td>\n",
       "    </tr>\n",
       "    <tr>\n",
       "      <td>mean</td>\n",
       "      <td>0.499000</td>\n",
       "      <td>30.952800</td>\n",
       "      <td>39916.360000</td>\n",
       "      <td>1.194200</td>\n",
       "      <td>0.148000</td>\n",
       "    </tr>\n",
       "    <tr>\n",
       "      <td>std</td>\n",
       "      <td>0.500049</td>\n",
       "      <td>8.440807</td>\n",
       "      <td>9900.083569</td>\n",
       "      <td>1.091387</td>\n",
       "      <td>0.463183</td>\n",
       "    </tr>\n",
       "    <tr>\n",
       "      <td>min</td>\n",
       "      <td>0.000000</td>\n",
       "      <td>18.000000</td>\n",
       "      <td>5300.000000</td>\n",
       "      <td>0.000000</td>\n",
       "      <td>0.000000</td>\n",
       "    </tr>\n",
       "    <tr>\n",
       "      <td>25%</td>\n",
       "      <td>0.000000</td>\n",
       "      <td>24.000000</td>\n",
       "      <td>33300.000000</td>\n",
       "      <td>0.000000</td>\n",
       "      <td>0.000000</td>\n",
       "    </tr>\n",
       "    <tr>\n",
       "      <td>50%</td>\n",
       "      <td>0.000000</td>\n",
       "      <td>30.000000</td>\n",
       "      <td>40200.000000</td>\n",
       "      <td>1.000000</td>\n",
       "      <td>0.000000</td>\n",
       "    </tr>\n",
       "    <tr>\n",
       "      <td>75%</td>\n",
       "      <td>1.000000</td>\n",
       "      <td>37.000000</td>\n",
       "      <td>46600.000000</td>\n",
       "      <td>2.000000</td>\n",
       "      <td>0.000000</td>\n",
       "    </tr>\n",
       "    <tr>\n",
       "      <td>max</td>\n",
       "      <td>1.000000</td>\n",
       "      <td>65.000000</td>\n",
       "      <td>79000.000000</td>\n",
       "      <td>6.000000</td>\n",
       "      <td>5.000000</td>\n",
       "    </tr>\n",
       "  </tbody>\n",
       "</table>\n",
       "</div>"
      ],
      "text/plain": [
       "               Пол      Возраст      Зарплата  Члены семьи  Страховые выплаты\n",
       "count  5000.000000  5000.000000   5000.000000  5000.000000        5000.000000\n",
       "mean      0.499000    30.952800  39916.360000     1.194200           0.148000\n",
       "std       0.500049     8.440807   9900.083569     1.091387           0.463183\n",
       "min       0.000000    18.000000   5300.000000     0.000000           0.000000\n",
       "25%       0.000000    24.000000  33300.000000     0.000000           0.000000\n",
       "50%       0.000000    30.000000  40200.000000     1.000000           0.000000\n",
       "75%       1.000000    37.000000  46600.000000     2.000000           0.000000\n",
       "max       1.000000    65.000000  79000.000000     6.000000           5.000000"
      ]
     },
     "metadata": {},
     "output_type": "display_data"
    }
   ],
   "source": [
    "display(insurance.describe())"
   ]
  },
  {
   "cell_type": "markdown",
   "metadata": {},
   "source": [
    "Явных артефактов и экстремальных значений в данных нет. В столбце пол минимальное значение 0, максимальное 1. Соотношение клиентов по полу примерно одинаково (среднее значение 0.499, в середине между нулем и единицей). Минимальный возраст - 18 лет, максимальный - 65, средний - около 31 года. Здесь тоже нет сюрпризов. Среди застрахованных есть как одиночки (0), так и клиенты с 6 членами семьи. \n",
    "\n",
    "Что касается целевого признака (количество страховых выплат клиенту за последние 5 лет), то как минимум 75% клиентов не обращаются за страховыми выплатами. Однако, в наборе данных есть индивидуумы которые умудрились обратиться 5 раз за пять лет.\n",
    "\n",
    "Подготовим данные к работе. Изменим названия заголовков на англоязычные, все со строчной буквы."
   ]
  },
  {
   "cell_type": "code",
   "execution_count": 5,
   "metadata": {},
   "outputs": [],
   "source": [
    "insurance.columns = ['gender', 'age', 'income', 'family', 'insurance_payments']"
   ]
  },
  {
   "cell_type": "markdown",
   "metadata": {},
   "source": [
    "Переведем столбец age в целочисленный формат."
   ]
  },
  {
   "cell_type": "code",
   "execution_count": 6,
   "metadata": {},
   "outputs": [],
   "source": [
    "insurance['age'] = insurance['age'].astype(int)"
   ]
  },
  {
   "cell_type": "markdown",
   "metadata": {},
   "source": [
    "Проверим, сколько в наборе данных имеется дубликатов."
   ]
  },
  {
   "cell_type": "code",
   "execution_count": 7,
   "metadata": {},
   "outputs": [
    {
     "name": "stdout",
     "output_type": "stream",
     "text": [
      "Количество дубликатов в наборе данных: 153\n"
     ]
    }
   ],
   "source": [
    "print('Количество дубликатов в наборе данных: {}'.format(insurance.duplicated().sum()))"
   ]
  },
  {
   "cell_type": "code",
   "execution_count": 8,
   "metadata": {},
   "outputs": [
    {
     "name": "stdout",
     "output_type": "stream",
     "text": [
      "      gender  age   income  family  insurance_payments\n",
      "2869       0   50  24700.0       1                   2\n",
      "3923       1   41  48900.0       0                   0\n",
      "2274       1   41  30200.0       0                   0\n",
      "1485       1   41  32700.0       0                   0\n",
      "3365       1   41  47100.0       1                   0\n",
      "...      ...  ...      ...     ...                 ...\n",
      "3419       1   19  41600.0       1                   0\n",
      "4935       1   19  32700.0       0                   0\n",
      "4129       1   19  35600.0       2                   0\n",
      "2269       1   19  43200.0       1                   0\n",
      "2429       1   18  39800.0       2                   0\n",
      "\n",
      "[153 rows x 5 columns]\n"
     ]
    }
   ],
   "source": [
    "display(insurance[insurance.duplicated()].sort_values(by='age', ascending=False))"
   ]
  },
  {
   "cell_type": "markdown",
   "metadata": {},
   "source": [
    "Не совсем ясна природа этих повторов. Они могли появиться в датасете случайно из-за того, что выгружались из разных баз или менеджер при оформлении страховки ошибочно продублировал карточку клиента. С другой стороны, клиенты могли приобретать услуги страховой компании несколько раз.\n",
    "\n",
    "В проекте нет задачи улучшить качество модели, нужно только преобразовать данные таким образом, чтобы это не ухудшило качество прогнозирования. Наличие повторов не повлияет на сам алгоритм преобразования, и удалять их не имеет смысла. Оставим дубликаты в датасете, просто зафиксируем факт их наличия.\n",
    "\n",
    "Разобьем набор данных на обучающую и тестовую выборки. Тестовая выборка будет составлять 25% от всего датасета."
   ]
  },
  {
   "cell_type": "code",
   "execution_count": 9,
   "metadata": {},
   "outputs": [],
   "source": [
    "insurance_train, insurance_test = train_test_split(insurance, test_size=0.25, random_state=12345)"
   ]
  },
  {
   "cell_type": "markdown",
   "metadata": {},
   "source": [
    "Полученные выборки, в свою очередь, разделим на набор влияющих факторов и целевой признак."
   ]
  },
  {
   "cell_type": "code",
   "execution_count": 10,
   "metadata": {},
   "outputs": [
    {
     "name": "stdout",
     "output_type": "stream",
     "text": [
      "train (3750, 4) (3750, 1)\n",
      "test (1250, 4) (1250, 1)\n"
     ]
    }
   ],
   "source": [
    "target_train = pd.DataFrame(insurance_train, columns = ['insurance_payments'])\n",
    "features_train = insurance_train.drop(['insurance_payments'], axis=1)\n",
    "target_test = pd.DataFrame(insurance_test, columns = ['insurance_payments'])\n",
    "features_test = insurance_test.drop(['insurance_payments'], axis=1)\n",
    "\n",
    "print('train', features_train.shape, target_train.shape)\n",
    "print('test', features_test.shape, target_test.shape)"
   ]
  },
  {
   "cell_type": "markdown",
   "metadata": {},
   "source": [
    "### Вывод"
   ]
  },
  {
   "cell_type": "markdown",
   "metadata": {},
   "source": [
    "В предоставленном наборе данных 5000 строк и 5 колонок.\n",
    "Пропусков нет, как нет и явных выбросов или артефактов.\n",
    "\n",
    "Для удобства работы с данными заголовки были заменены на англоязычные.\n",
    "Тип данных в колонке с возрастом изменен на целочисленный.\n",
    "\n",
    "В исходной таблице обнаружено 153 дубликата. Их происхождение не ясно, это могло быть задвоение при выгрузке из разных баз или же клиент оформлял страховку в компании не единожды и был посчитан несколько раз. Поскольку наличие дубликатов никак не отражается на преобразовании записей, повторы оставили в датасете. "
   ]
  },
  {
   "cell_type": "markdown",
   "metadata": {},
   "source": [
    "## Умножение матриц"
   ]
  },
  {
   "cell_type": "markdown",
   "metadata": {},
   "source": [
    "Посмотрим, как умножение признаков на обратимую матрицу повлияет на качество линейной регрессии, изменятся ли результаты прогнозирования или нет.\n",
    "\n",
    "Ниже приведены значения используемых символов."
   ]
  },
  {
   "cell_type": "markdown",
   "metadata": {},
   "source": [
    "Обозначения:\n",
    "\n",
    "- $X$ — матрица признаков (нулевой столбец состоит из единиц)\n",
    "\n",
    "- $y$ — вектор целевого признака\n",
    "\n",
    "- $a$  — прогнозируемый вектор целевого признака\n",
    "\n",
    "- $P$ — матрица, на которую умножаются признаки\n",
    "\n",
    "- $w$ — вектор весов линейной регрессии (нулевой элемент равен сдвигу)"
   ]
  },
  {
   "cell_type": "markdown",
   "metadata": {},
   "source": [
    "Предсказания:\n",
    "\n",
    "$$\n",
    "a = Xw\n",
    "$$\n",
    "\n",
    "Задача обучения:\n",
    "\n",
    "$$\n",
    "w = \\arg\\min_w MSE(Xw, y)\n",
    "$$\n",
    "\n",
    "Формула обучения:\n",
    "\n",
    "$$\n",
    "w = (X^T X)^{-1} X^T y\n",
    "$$"
   ]
  },
  {
   "cell_type": "markdown",
   "metadata": {},
   "source": [
    "**Обоснование**\n",
    "\n",
    "В задаче требуется ответить, как повлияет умножение матрицы признаков $X$ на случайную обратимую матрицу $P$. Т.е. необходимо вывести, что $a_x = a_p$, либо $a_x != a_p$. Для ответа на вопрос также воспользуемся формулой расчета предсказаний $a = Xw$ и свойствами транспонирования, обратной матрицы и ассоциативностью.\n",
    "\n",
    "В выражение для расчета вектора весов линейной регрессии $w = (X^T X)^{-1} X^T y$ вместо $Х$ подставим $ХР$. В начале нашего решения приравняем $a_x$ к $a_p$."
   ]
  },
  {
   "cell_type": "markdown",
   "metadata": {},
   "source": [
    "$$\n",
    "a_x = a_p\n",
    "$$\n",
    "\n",
    "$$\n",
    "a_x = Xw_x,    a_p = XPw_p \n",
    "$$\n",
    "\n",
    "$$\n",
    "Xw_x = XPw_p\n",
    "$$\n",
    "\n",
    "$$\n",
    "w_x = Pw_p\n",
    "$$\n",
    "\n",
    "$$\n",
    "w_p = ((XP)^T (XP))^{-1}  (XP)^T y = (P^T  X^T  X P)^{-1} (XP)^T y = (P^T  (X^T  X) P)^{-1} (XP)^T y = \n",
    "P^{-1}  (X^T  X)^{-1} (P^T)^{-1}  P^T X^T y = P^{-1}  (X^T  X)^{-1}  X^T y = P^{-1}  X^{-1} (X^T)^{-1} X^T y = P^{-1}  X^{-1} y = (P)^{-1}  (X)^{-1}  Xw_x = (P)^{-1}  w_x\n",
    "$$\n",
    "\n",
    "Далее в выражение $a_p = XPw_p$ подставляем получившееся значение вектора $w_p$.\n",
    "\n",
    "$$\n",
    "a_p = XP (P)^{-1}  w_x = Xw_x = a_x\n",
    "$$\n",
    "\n",
    "$$\n",
    "a_p = a_x\n",
    "$$"
   ]
  },
  {
   "cell_type": "markdown",
   "metadata": {},
   "source": [
    "**Ответ** \n",
    "\n",
    "Как показал вывод из преобразований, умножение матрицы признаков на случайную обратимую матрицу не повлияет на конечный результат прогнозирования."
   ]
  },
  {
   "cell_type": "markdown",
   "metadata": {},
   "source": [
    "## Алгоритм преобразования"
   ]
  },
  {
   "cell_type": "markdown",
   "metadata": {},
   "source": [
    "Наш целевой признак - это количество страховых выплат клиенту за последние 5 лет. Т.е. это задача регрессии, а не классификации (в этом случае требовалось бы определить, обращался ли клиент за страховой выплатой или нет). Для прогнозирования выберем модель линейной регрессии, т.к. ее проще интерпретировать, и выведем коэффициент детерминации.\n",
    "\n",
    "Сначала посчитаем целевую метрику R2 для модели, обученной по исходным (неизмененным) данным. Сделаем признаки матрицей с 5 столбцами, добавив в нее столбец единиц. Его можно рассматривать как постоянный признак, который при умножении на соответствующий коэффициент становится параметром сдвига или пересечением подобранной линии с осью $y$."
   ]
  },
  {
   "cell_type": "code",
   "execution_count": 11,
   "metadata": {},
   "outputs": [
    {
     "name": "stdout",
     "output_type": "stream",
     "text": [
      "r2_score: 0.4352\n"
     ]
    }
   ],
   "source": [
    "class LinearRegressionTest:\n",
    "    def fit(self, train_features, train_target):\n",
    "        X = np.concatenate((np.ones((train_features.shape[0], 1)), train_features), axis=1)\n",
    "        y = train_target\n",
    "        w = (np.linalg.inv(X.T.dot(X))).dot(X.T).dot(y)\n",
    "        self.w = w[1:]\n",
    "        self.w0 = w[0]\n",
    "\n",
    "    def predict(self, test_features):\n",
    "        return test_features.dot(self.w) + self.w0\n",
    "    \n",
    "model = LinearRegressionTest()\n",
    "model.fit(features_train, target_train)\n",
    "predictions = model.predict(features_test)\n",
    "print('r2_score:', r2_score(target_test, predictions).round(4))"
   ]
  },
  {
   "cell_type": "markdown",
   "metadata": {},
   "source": [
    "**Алгоритм**\n",
    "\n",
    "Теперь посмотрим, что будет с результатами, если преобразовать наши данные. Создадим случайную матрицу для умножения на матрицу признаков. Сохраним ее в переменной P."
   ]
  },
  {
   "cell_type": "code",
   "execution_count": 12,
   "metadata": {},
   "outputs": [
    {
     "name": "stdout",
     "output_type": "stream",
     "text": [
      "[[4 0 4 3]\n",
      " [1 7 0 2]\n",
      " [5 7 3 5]\n",
      " [3 4 1 9]]\n",
      "(4, 4)\n"
     ]
    }
   ],
   "source": [
    "P = np.random.randint(10, size=(features_train.shape[1], features_train.shape[1]))\n",
    "print(P)\n",
    "print(P.shape)"
   ]
  },
  {
   "cell_type": "markdown",
   "metadata": {},
   "source": [
    "Проверим получившуюся матрицу на вырожденность. Для этого вычислим определитель получившийся мартицы."
   ]
  },
  {
   "cell_type": "code",
   "execution_count": 13,
   "metadata": {},
   "outputs": [
    {
     "name": "stdout",
     "output_type": "stream",
     "text": [
      "-168.99999999999986\n"
     ]
    }
   ],
   "source": [
    "print(np.linalg.det(P))"
   ]
  },
  {
   "cell_type": "markdown",
   "metadata": {},
   "source": [
    "Определитель не равен нулю, значит, матрица является обратимой, т.е. невырожденной. \n",
    "\n",
    "Посмотрим, как будет выглядеть персональная информация клиентов (train_features и test_features), умноженная на получившуюся обратимую матрицу."
   ]
  },
  {
   "cell_type": "code",
   "execution_count": 14,
   "metadata": {},
   "outputs": [
    {
     "name": "stdout",
     "output_type": "stream",
     "text": [
      "             0         1         2         3\n",
      "3369  181050.0  253705.0  108605.0  181098.0\n",
      "1441  288038.0  403438.0  172804.0  288071.0\n",
      "571   205535.0  287928.0  123301.0  205573.0\n",
      "225   225539.0  315956.0  135301.0  225581.0\n",
      "2558  253039.0  354439.0  151802.0  253084.0\n",
      "...        ...       ...       ...       ...\n",
      "3497  160542.0  224994.0   96300.0  160584.0\n",
      "3492  113540.0  159112.0   68104.0  113592.0\n",
      "2177  223548.0  313191.0  134105.0  223594.0\n",
      "3557  250534.0  350870.0  150304.0  250580.0\n",
      "4578  204019.0  285733.0  122400.0  204038.0\n",
      "\n",
      "[3750 rows x 4 columns]              0         1         2         3\n",
      "3183  195045.0  273247.0  117004.0  195102.0\n",
      "1071  215556.0  302058.0  129302.0  215618.0\n",
      "2640  210543.0  294973.0  126304.0  210581.0\n",
      "2282  174020.0  243740.0  104400.0  174040.0\n",
      "1595  200053.0  280303.0  120004.0  200118.0\n",
      "...        ...       ...       ...       ...\n",
      "982   145061.0  203365.0   87006.0  145123.0\n",
      "3820  289546.0  405543.0  173707.0  289596.0\n",
      "3595  211539.0  296345.0  126904.0  211573.0\n",
      "3513  206540.0  289352.0  123904.0  206575.0\n",
      "1205  155552.0  218047.0   93301.0  155607.0\n",
      "\n",
      "[1250 rows x 4 columns]\n"
     ]
    }
   ],
   "source": [
    "display(features_train.dot(P), features_test.dot(P))"
   ]
  },
  {
   "cell_type": "markdown",
   "metadata": {},
   "source": [
    "Получился набор самых разных значений, из которых, на первый взгляд, сложно выделить какой-то смысл.\n",
    "\n",
    "Посчитаем, каков будет R2 для модели, обученной на нашей матрице обучающих признаков (train_features) помноженной на получившуюся обратимую матрицу."
   ]
  },
  {
   "cell_type": "code",
   "execution_count": 15,
   "metadata": {},
   "outputs": [
    {
     "name": "stdout",
     "output_type": "stream",
     "text": [
      "r2_score: 0.4352\n"
     ]
    }
   ],
   "source": [
    "class LinearRegressionTest:\n",
    "    def fit(self, train_features, train_target):\n",
    "        X = np.concatenate((np.ones(((train_features).dot(P).shape[0], 1)), train_features.dot(P)), axis=1)\n",
    "        y = train_target\n",
    "        w = (np.linalg.inv(X.T.dot(X))).dot(X.T).dot(y)\n",
    "        self.w = w[1:]\n",
    "        self.w0 = w[0]\n",
    "\n",
    "    def predict(self, test_features):\n",
    "        return test_features.dot(P).dot(self.w) + self.w0\n",
    "    \n",
    "model = LinearRegressionTest()\n",
    "model.fit(features_train, target_train)\n",
    "predictions = model.predict(features_test)\n",
    "print('r2_score:', r2_score(target_test, predictions).round(4))"
   ]
  },
  {
   "cell_type": "markdown",
   "metadata": {},
   "source": [
    "**Обоснование**\n",
    "\n",
    "R2_score не изменился. Это значит, что мы можем применять этот метод для защиты личной информации клиентов без ущерба для прогнозирования. Подобный алгоритм выполняет основную функцию (защищает персональные данные), к тому же прост и удобен в использовании, позволяет оперировать преобразованными данными для предсказания результатов (в данном случае, количество страховых выплат) и не портит качество прогнозов.\n",
    "\n",
    "Для большей убедительности проверим работу алгоритма на тестовой выборке с помощью модели линейной регрессии, загруженной из scikit-learn."
   ]
  },
  {
   "cell_type": "markdown",
   "metadata": {},
   "source": [
    "### Вывод"
   ]
  },
  {
   "cell_type": "markdown",
   "metadata": {},
   "source": [
    "В разделе предложен алгоритм решения задачи преобразования данных. Матрица признаков умножается на случайную матрицу, после чего к ней добавляется столбец единиц. На полученном наборе и обучается модель, для предсказания которой подается уже новый набор данных, умноженный на такую же обратимую матрицу, как и обучающий датасет. Использование обратимых матриц для преобразования исходных данных не влияет на качество прогнозов."
   ]
  },
  {
   "cell_type": "markdown",
   "metadata": {},
   "source": [
    "## Проверка алгоритма"
   ]
  },
  {
   "cell_type": "markdown",
   "metadata": {},
   "source": [
    "Для проверки алгоритма сформируем обучающий датасет из преобразованной информации: умножим наши обучаюшие и тестовые выборки на обратимую матрицу.\n",
    "Для обучения и проверки базовой модели (на исходных, непреобразованных данных) признаки у нас уже есть (features_train и target_train)"
   ]
  },
  {
   "cell_type": "code",
   "execution_count": 16,
   "metadata": {},
   "outputs": [],
   "source": [
    "features_train_exp = features_train.dot(P)\n",
    "features_test_exp = features_test.dot(P)"
   ]
  },
  {
   "cell_type": "markdown",
   "metadata": {},
   "source": [
    "Обучим модели по датасетам. Выведем часть предиктов, не изменились ли они."
   ]
  },
  {
   "cell_type": "code",
   "execution_count": 17,
   "metadata": {},
   "outputs": [
    {
     "name": "stdout",
     "output_type": "stream",
     "text": [
      "[[0.17494798]\n",
      " [0.80523476]\n",
      " [0.45599281]\n",
      " ...\n",
      " [0.3129923 ]\n",
      " [0.34926113]\n",
      " [0.7886826 ]]\n",
      "[[0.17494798]\n",
      " [0.80523476]\n",
      " [0.45599281]\n",
      " ...\n",
      " [0.3129923 ]\n",
      " [0.34926113]\n",
      " [0.7886826 ]]\n"
     ]
    }
   ],
   "source": [
    "model_base = LinearRegression()\n",
    "model_base.fit(features_train, target_train)\n",
    "print(model_base.predict(features_test))\n",
    "\n",
    "model_exp = LinearRegression()\n",
    "model_exp.fit(features_train_exp, target_train)\n",
    "print(model_exp.predict(features_test_exp))"
   ]
  },
  {
   "cell_type": "markdown",
   "metadata": {},
   "source": [
    "Прогнозы остались прежними даже при измененных исходных данных. Объявим функцию для подсчета R2 и других основных метрик для моделей."
   ]
  },
  {
   "cell_type": "code",
   "execution_count": 18,
   "metadata": {},
   "outputs": [],
   "source": [
    "def compare_table(models, features, target):\n",
    "    df = pd.DataFrame(columns=['models', 'MSE', 'RMSE', 'R2'])\n",
    "    for name, model in models.items():\n",
    "        prediction = model.predict(features[name])\n",
    "        mse = mean_squared_error(target, prediction).round(3)\n",
    "        rmse = (mse ** 0.5).round(3)\n",
    "        r2 = r2_score(target, prediction).round(3)\n",
    "        df = df.append({'models': name, 'MSE': mse, 'RMSE': rmse, 'R2': r2}, ignore_index=True)\n",
    "    return df"
   ]
  },
  {
   "cell_type": "markdown",
   "metadata": {},
   "source": [
    "Создадим списки моделей и тестовых выборок для предсказания целевого признака и применим функцию для расчета метрик."
   ]
  },
  {
   "cell_type": "code",
   "execution_count": 19,
   "metadata": {},
   "outputs": [],
   "source": [
    "models_list = {'LR base': model_base, 'LR experimental': model_exp}\n",
    "features_list = {'LR base': features_test, 'LR experimental': features_test_exp}"
   ]
  },
  {
   "cell_type": "code",
   "execution_count": 20,
   "metadata": {},
   "outputs": [
    {
     "name": "stdout",
     "output_type": "stream",
     "text": [
      "            models    MSE   RMSE     R2\n",
      "0          LR base  0.117  0.342  0.435\n",
      "1  LR experimental  0.117  0.342  0.435\n"
     ]
    }
   ],
   "source": [
    "print(compare_table(models_list, features_list, target_test))"
   ]
  },
  {
   "cell_type": "markdown",
   "metadata": {},
   "source": [
    "### Вывод"
   ]
  },
  {
   "cell_type": "markdown",
   "metadata": {},
   "source": [
    "Для проверки работы метода преобразования информации была сравнена эффективность модели по двум наборам данных: контрольному (где данные не подвергались изменениям) и измененному (где факторы были умножены на обратимую матрицу). В результате эксперимента целевая метрика R2 не поменяллась. Алгоритм можно применять для защиты персональной информации клиентов компании."
   ]
  },
  {
   "cell_type": "markdown",
   "metadata": {},
   "source": [
    "### Общий вывод"
   ]
  },
  {
   "cell_type": "markdown",
   "metadata": {},
   "source": [
    "В работе рассмотрен метод преобразования персональной информации. Для ее защиты предлагается применить случайную обратимую матрицу. Матрица признаков умножается на эту обратимую матрицу, и на получившихся данных обучается модель. Далее при прогнозировании результатов по новым данным необходимо провести точно такие же преобразования и с новыми данными. Целевой признак при обучении модели домножать не нужно.\n",
    "\n",
    "С помощью вывода формул, а также экспериментальным путем установлено, что качество прогнозов множественной линейной регрессии не отличается до и после преобразования. Результаты оценивались при помощи метрики R2."
   ]
  }
 ],
 "metadata": {
  "ExecuteTimeLog": [
   {
    "duration": 1518,
    "start_time": "2021-06-17T18:16:45.238Z"
   },
   {
    "duration": 33,
    "start_time": "2021-06-17T18:16:46.758Z"
   },
   {
    "duration": 35,
    "start_time": "2021-06-17T18:17:33.342Z"
   },
   {
    "duration": 9,
    "start_time": "2021-06-17T18:19:13.087Z"
   },
   {
    "duration": 1390,
    "start_time": "2021-06-17T20:26:42.897Z"
   },
   {
    "duration": 32,
    "start_time": "2021-06-17T20:26:45.247Z"
   },
   {
    "duration": 10,
    "start_time": "2021-06-17T20:26:46.303Z"
   },
   {
    "duration": 40,
    "start_time": "2021-06-17T20:26:47.176Z"
   },
   {
    "duration": 22,
    "start_time": "2021-06-17T20:27:48.834Z"
   },
   {
    "duration": 4,
    "start_time": "2021-06-17T20:37:56.066Z"
   },
   {
    "duration": 35,
    "start_time": "2021-06-17T20:38:02.193Z"
   },
   {
    "duration": 4,
    "start_time": "2021-06-17T20:38:18.037Z"
   },
   {
    "duration": 34,
    "start_time": "2021-06-17T20:38:21.870Z"
   },
   {
    "duration": 7,
    "start_time": "2021-06-17T20:39:30.042Z"
   },
   {
    "duration": 9,
    "start_time": "2021-06-17T20:43:25.578Z"
   },
   {
    "duration": 9,
    "start_time": "2021-06-17T20:43:31.507Z"
   },
   {
    "duration": 10,
    "start_time": "2021-06-17T20:45:12.278Z"
   },
   {
    "duration": 8,
    "start_time": "2021-06-17T20:46:00.718Z"
   },
   {
    "duration": 29,
    "start_time": "2021-06-17T20:50:41.617Z"
   },
   {
    "duration": 4,
    "start_time": "2021-06-17T20:50:50.062Z"
   },
   {
    "duration": 7,
    "start_time": "2021-06-17T20:50:50.817Z"
   },
   {
    "duration": 8,
    "start_time": "2021-06-17T20:50:51.977Z"
   },
   {
    "duration": 7,
    "start_time": "2021-06-17T20:50:54.277Z"
   },
   {
    "duration": 10,
    "start_time": "2021-06-17T20:52:13.588Z"
   },
   {
    "duration": 515,
    "start_time": "2021-06-17T21:31:11.075Z"
   },
   {
    "duration": 13,
    "start_time": "2021-06-17T21:31:23.077Z"
   },
   {
    "duration": 501,
    "start_time": "2021-06-17T21:34:09.526Z"
   },
   {
    "duration": 5,
    "start_time": "2021-06-17T21:34:52.586Z"
   },
   {
    "duration": 446,
    "start_time": "2021-06-17T21:35:18.895Z"
   },
   {
    "duration": 602,
    "start_time": "2021-06-17T21:37:12.136Z"
   },
   {
    "duration": 103,
    "start_time": "2021-06-17T21:37:38.501Z"
   },
   {
    "duration": 463,
    "start_time": "2021-06-17T21:37:47.434Z"
   },
   {
    "duration": 1117,
    "start_time": "2021-06-18T09:34:53.779Z"
   },
   {
    "duration": 26,
    "start_time": "2021-06-18T09:34:54.898Z"
   },
   {
    "duration": 7,
    "start_time": "2021-06-18T09:34:55.924Z"
   },
   {
    "duration": 24,
    "start_time": "2021-06-18T09:34:56.949Z"
   },
   {
    "duration": 3,
    "start_time": "2021-06-18T09:34:58.994Z"
   },
   {
    "duration": 4,
    "start_time": "2021-06-18T09:34:59.974Z"
   },
   {
    "duration": 5,
    "start_time": "2021-06-18T09:35:00.936Z"
   },
   {
    "duration": 5,
    "start_time": "2021-06-18T09:35:02.320Z"
   },
   {
    "duration": 8,
    "start_time": "2021-06-18T09:35:03.587Z"
   },
   {
    "duration": 15,
    "start_time": "2021-06-18T09:35:21.830Z"
   },
   {
    "duration": 649,
    "start_time": "2021-06-18T09:44:56.021Z"
   },
   {
    "duration": 698,
    "start_time": "2021-06-18T09:45:59.643Z"
   },
   {
    "duration": 5,
    "start_time": "2021-06-18T09:46:20.545Z"
   },
   {
    "duration": 4,
    "start_time": "2021-06-18T09:55:15.629Z"
   },
   {
    "duration": 3,
    "start_time": "2021-06-18T09:55:36.158Z"
   },
   {
    "duration": 3,
    "start_time": "2021-06-18T10:03:33.979Z"
   },
   {
    "duration": 141,
    "start_time": "2021-06-18T10:04:25.144Z"
   },
   {
    "duration": 637,
    "start_time": "2021-06-18T10:05:35.905Z"
   },
   {
    "duration": 305,
    "start_time": "2021-06-18T10:10:52.001Z"
   },
   {
    "duration": 67,
    "start_time": "2021-06-18T10:12:04.308Z"
   },
   {
    "duration": 195,
    "start_time": "2021-06-18T10:12:47.051Z"
   },
   {
    "duration": 315,
    "start_time": "2021-06-18T10:12:57.720Z"
   },
   {
    "duration": 6,
    "start_time": "2021-06-18T11:32:47.892Z"
   },
   {
    "duration": 5,
    "start_time": "2021-06-18T11:33:21.928Z"
   },
   {
    "duration": 412,
    "start_time": "2021-06-18T11:33:35.189Z"
   },
   {
    "duration": 441,
    "start_time": "2021-06-18T11:36:20.923Z"
   },
   {
    "duration": 3,
    "start_time": "2021-06-18T11:37:19.687Z"
   },
   {
    "duration": 423,
    "start_time": "2021-06-18T11:37:31.881Z"
   },
   {
    "duration": 421,
    "start_time": "2021-06-18T11:39:46.496Z"
   },
   {
    "duration": 437,
    "start_time": "2021-06-18T11:40:52.264Z"
   },
   {
    "duration": 295,
    "start_time": "2021-06-18T11:41:51.819Z"
   },
   {
    "duration": 307,
    "start_time": "2021-06-18T11:42:12.938Z"
   },
   {
    "duration": 193,
    "start_time": "2021-06-18T11:55:12.170Z"
   },
   {
    "duration": 355,
    "start_time": "2021-06-18T11:55:36.839Z"
   },
   {
    "duration": 360,
    "start_time": "2021-06-18T11:56:32.818Z"
   },
   {
    "duration": 4,
    "start_time": "2021-06-18T11:56:49.892Z"
   },
   {
    "duration": 213,
    "start_time": "2021-06-18T11:57:01.635Z"
   },
   {
    "duration": 546,
    "start_time": "2021-06-18T12:00:45.077Z"
   },
   {
    "duration": 527,
    "start_time": "2021-06-18T12:01:33.889Z"
   },
   {
    "duration": 754,
    "start_time": "2021-06-18T12:03:24.016Z"
   },
   {
    "duration": 1738,
    "start_time": "2021-06-18T12:04:12.454Z"
   },
   {
    "duration": 2077,
    "start_time": "2021-06-18T12:09:39.051Z"
   },
   {
    "duration": 66,
    "start_time": "2021-06-18T13:44:58.178Z"
   },
   {
    "duration": 277,
    "start_time": "2021-06-18T16:56:00.305Z"
   },
   {
    "duration": 360,
    "start_time": "2021-06-18T18:04:59.413Z"
   },
   {
    "duration": 1418,
    "start_time": "2021-06-18T18:05:07.679Z"
   },
   {
    "duration": 478,
    "start_time": "2021-06-18T18:05:15.447Z"
   },
   {
    "duration": 33,
    "start_time": "2021-06-18T18:05:23.009Z"
   },
   {
    "duration": 10,
    "start_time": "2021-06-18T18:05:23.723Z"
   },
   {
    "duration": 36,
    "start_time": "2021-06-18T18:05:24.253Z"
   },
   {
    "duration": 4,
    "start_time": "2021-06-18T18:05:25.394Z"
   },
   {
    "duration": 5,
    "start_time": "2021-06-18T18:05:25.815Z"
   },
   {
    "duration": 8,
    "start_time": "2021-06-18T18:05:26.274Z"
   },
   {
    "duration": 8,
    "start_time": "2021-06-18T18:05:26.753Z"
   },
   {
    "duration": 10,
    "start_time": "2021-06-18T18:05:27.264Z"
   },
   {
    "duration": 127,
    "start_time": "2021-06-18T18:05:29.731Z"
   },
   {
    "duration": 5,
    "start_time": "2021-06-18T18:05:51.915Z"
   },
   {
    "duration": 126,
    "start_time": "2021-06-18T18:06:16.546Z"
   },
   {
    "duration": 214,
    "start_time": "2021-06-18T18:08:18.058Z"
   },
   {
    "duration": 283,
    "start_time": "2021-06-18T18:08:33.409Z"
   },
   {
    "duration": 552,
    "start_time": "2021-06-18T18:11:19.864Z"
   },
   {
    "duration": 7,
    "start_time": "2021-06-18T18:12:12.361Z"
   },
   {
    "duration": 519,
    "start_time": "2021-06-18T18:12:27.828Z"
   },
   {
    "duration": 5,
    "start_time": "2021-06-18T18:12:58.120Z"
   },
   {
    "duration": 46,
    "start_time": "2021-06-18T18:13:06.840Z"
   },
   {
    "duration": 5,
    "start_time": "2021-06-18T18:13:48.724Z"
   },
   {
    "duration": 17,
    "start_time": "2021-06-18T18:14:46.032Z"
   },
   {
    "duration": 6,
    "start_time": "2021-06-18T18:15:04.410Z"
   },
   {
    "duration": 17,
    "start_time": "2021-06-18T18:15:16.428Z"
   },
   {
    "duration": 6,
    "start_time": "2021-06-18T18:15:28.150Z"
   },
   {
    "duration": 15,
    "start_time": "2021-06-18T18:15:35.344Z"
   },
   {
    "duration": 17,
    "start_time": "2021-06-18T18:17:33.039Z"
   },
   {
    "duration": 5,
    "start_time": "2021-06-18T18:17:47.866Z"
   },
   {
    "duration": 18,
    "start_time": "2021-06-18T18:17:59.281Z"
   },
   {
    "duration": 19,
    "start_time": "2021-06-18T18:21:40.679Z"
   },
   {
    "duration": 17,
    "start_time": "2021-06-18T18:21:58.254Z"
   },
   {
    "duration": 16,
    "start_time": "2021-06-18T18:23:34.310Z"
   },
   {
    "duration": 1490,
    "start_time": "2021-06-19T16:29:30.047Z"
   },
   {
    "duration": 30,
    "start_time": "2021-06-19T16:29:31.540Z"
   },
   {
    "duration": 10,
    "start_time": "2021-06-19T16:29:31.573Z"
   },
   {
    "duration": 37,
    "start_time": "2021-06-19T16:29:32.686Z"
   },
   {
    "duration": 4,
    "start_time": "2021-06-19T16:29:34.056Z"
   },
   {
    "duration": 6,
    "start_time": "2021-06-19T16:29:34.814Z"
   },
   {
    "duration": 9,
    "start_time": "2021-06-19T16:29:35.397Z"
   },
   {
    "duration": 8,
    "start_time": "2021-06-19T16:29:36.019Z"
   },
   {
    "duration": 11,
    "start_time": "2021-06-19T16:29:36.892Z"
   },
   {
    "duration": 22,
    "start_time": "2021-06-19T16:29:46.979Z"
   },
   {
    "duration": 6,
    "start_time": "2021-06-19T16:29:48.086Z"
   },
   {
    "duration": 6,
    "start_time": "2021-06-19T16:29:51.678Z"
   },
   {
    "duration": 20,
    "start_time": "2021-06-19T16:30:01.265Z"
   },
   {
    "duration": 867,
    "start_time": "2021-06-19T16:30:03.294Z"
   },
   {
    "duration": 5,
    "start_time": "2021-06-19T16:30:04.366Z"
   },
   {
    "duration": 691,
    "start_time": "2021-06-19T16:30:05.539Z"
   },
   {
    "duration": 4,
    "start_time": "2021-06-19T16:30:07.077Z"
   },
   {
    "duration": 4,
    "start_time": "2021-06-19T16:30:07.909Z"
   },
   {
    "duration": 297,
    "start_time": "2021-06-19T16:30:08.514Z"
   },
   {
    "duration": 6,
    "start_time": "2021-06-19T16:30:16.153Z"
   },
   {
    "duration": 4,
    "start_time": "2021-06-19T16:30:17.894Z"
   },
   {
    "duration": 5,
    "start_time": "2021-06-19T16:30:21.335Z"
   },
   {
    "duration": 5,
    "start_time": "2021-06-19T16:30:22.748Z"
   },
   {
    "duration": 1555,
    "start_time": "2021-06-19T20:27:07.182Z"
   },
   {
    "duration": 32,
    "start_time": "2021-06-19T20:27:09.284Z"
   },
   {
    "duration": 10,
    "start_time": "2021-06-19T20:27:11.885Z"
   },
   {
    "duration": 37,
    "start_time": "2021-06-19T20:27:12.977Z"
   },
   {
    "duration": 5,
    "start_time": "2021-06-19T20:27:14.565Z"
   },
   {
    "duration": 6,
    "start_time": "2021-06-19T20:27:15.917Z"
   },
   {
    "duration": 9,
    "start_time": "2021-06-19T20:27:17.569Z"
   },
   {
    "duration": 9,
    "start_time": "2021-06-19T20:27:18.615Z"
   },
   {
    "duration": 14,
    "start_time": "2021-06-19T20:27:47.046Z"
   },
   {
    "duration": 506,
    "start_time": "2021-06-19T20:28:25.022Z"
   },
   {
    "duration": 11,
    "start_time": "2021-06-19T20:29:31.963Z"
   },
   {
    "duration": 10,
    "start_time": "2021-06-19T20:29:44.710Z"
   },
   {
    "duration": 298,
    "start_time": "2021-06-19T20:30:39.003Z"
   },
   {
    "duration": 14,
    "start_time": "2021-06-19T20:30:45.963Z"
   },
   {
    "duration": 14,
    "start_time": "2021-06-19T20:32:54.114Z"
   },
   {
    "duration": 14,
    "start_time": "2021-06-19T20:33:21.474Z"
   },
   {
    "duration": 7,
    "start_time": "2021-06-19T20:48:29.606Z"
   },
   {
    "duration": 11,
    "start_time": "2021-06-19T20:48:30.935Z"
   },
   {
    "duration": 23,
    "start_time": "2021-06-19T21:14:05.138Z"
   },
   {
    "duration": 5,
    "start_time": "2021-06-19T21:14:06.429Z"
   },
   {
    "duration": 5,
    "start_time": "2021-06-19T21:14:12.942Z"
   },
   {
    "duration": 16,
    "start_time": "2021-06-19T21:14:22.976Z"
   },
   {
    "duration": 5,
    "start_time": "2021-06-19T21:16:31.372Z"
   },
   {
    "duration": 5,
    "start_time": "2021-06-19T21:16:32.409Z"
   },
   {
    "duration": 5,
    "start_time": "2021-06-19T21:17:13.552Z"
   },
   {
    "duration": 335,
    "start_time": "2021-06-19T21:23:41.856Z"
   },
   {
    "duration": 326,
    "start_time": "2021-06-19T21:23:48.377Z"
   },
   {
    "duration": 5,
    "start_time": "2021-06-19T21:23:56.447Z"
   },
   {
    "duration": 317,
    "start_time": "2021-06-19T21:23:57.497Z"
   },
   {
    "duration": 8,
    "start_time": "2021-06-19T21:24:20.378Z"
   },
   {
    "duration": 6,
    "start_time": "2021-06-19T21:24:28.458Z"
   },
   {
    "duration": 4,
    "start_time": "2021-06-19T21:24:30.487Z"
   },
   {
    "duration": 4,
    "start_time": "2021-06-19T21:25:23.897Z"
   },
   {
    "duration": 378,
    "start_time": "2021-06-19T21:25:51.860Z"
   },
   {
    "duration": 5,
    "start_time": "2021-06-19T21:26:06.306Z"
   },
   {
    "duration": 16,
    "start_time": "2021-06-19T21:26:10.967Z"
   },
   {
    "duration": 321,
    "start_time": "2021-06-19T21:26:23.007Z"
   },
   {
    "duration": 10,
    "start_time": "2021-06-19T21:26:41.097Z"
   },
   {
    "duration": 4,
    "start_time": "2021-06-19T21:26:49.688Z"
   },
   {
    "duration": 10,
    "start_time": "2021-06-19T21:26:54.697Z"
   },
   {
    "duration": 106,
    "start_time": "2021-06-19T21:27:47.678Z"
   },
   {
    "duration": 318,
    "start_time": "2021-06-19T21:28:16.609Z"
   },
   {
    "duration": 6,
    "start_time": "2021-06-19T21:31:42.207Z"
   },
   {
    "duration": 3,
    "start_time": "2021-06-19T21:31:49.685Z"
   },
   {
    "duration": 10,
    "start_time": "2021-06-19T21:31:50.737Z"
   },
   {
    "duration": 7,
    "start_time": "2021-06-19T21:33:37.297Z"
   },
   {
    "duration": 12,
    "start_time": "2021-06-19T21:33:38.691Z"
   },
   {
    "duration": 14,
    "start_time": "2021-06-19T21:33:49.585Z"
   },
   {
    "duration": 7,
    "start_time": "2021-06-19T21:33:50.293Z"
   },
   {
    "duration": 4,
    "start_time": "2021-06-19T21:33:52.122Z"
   },
   {
    "duration": 18,
    "start_time": "2021-06-19T21:33:54.760Z"
   },
   {
    "duration": 690,
    "start_time": "2021-06-19T21:33:56.255Z"
   },
   {
    "duration": 6,
    "start_time": "2021-06-19T21:34:04.051Z"
   },
   {
    "duration": 7,
    "start_time": "2021-06-19T21:34:04.854Z"
   },
   {
    "duration": 6,
    "start_time": "2021-06-19T21:34:05.618Z"
   },
   {
    "duration": 4,
    "start_time": "2021-06-19T21:34:06.757Z"
   },
   {
    "duration": 12,
    "start_time": "2021-06-19T21:34:07.998Z"
   },
   {
    "duration": 312,
    "start_time": "2021-06-19T21:34:11.247Z"
   },
   {
    "duration": 4,
    "start_time": "2021-06-19T21:34:24.024Z"
   },
   {
    "duration": 10,
    "start_time": "2021-06-19T21:34:24.675Z"
   },
   {
    "duration": 554,
    "start_time": "2021-06-19T21:34:25.299Z"
   },
   {
    "duration": 652,
    "start_time": "2021-06-19T21:34:44.567Z"
   },
   {
    "duration": 6,
    "start_time": "2021-06-19T21:35:03.578Z"
   },
   {
    "duration": 4,
    "start_time": "2021-06-19T21:35:04.913Z"
   },
   {
    "duration": 10,
    "start_time": "2021-06-19T21:35:05.575Z"
   },
   {
    "duration": 683,
    "start_time": "2021-06-19T21:35:06.242Z"
   },
   {
    "duration": 6,
    "start_time": "2021-06-19T21:35:26.251Z"
   },
   {
    "duration": 3,
    "start_time": "2021-06-19T21:35:27.976Z"
   },
   {
    "duration": 10,
    "start_time": "2021-06-19T21:35:28.895Z"
   },
   {
    "duration": 613,
    "start_time": "2021-06-19T21:35:29.966Z"
   },
   {
    "duration": 4,
    "start_time": "2021-06-19T21:36:03.265Z"
   },
   {
    "duration": 10,
    "start_time": "2021-06-19T21:36:04.218Z"
   },
   {
    "duration": 55,
    "start_time": "2021-06-19T21:36:04.888Z"
   },
   {
    "duration": 6,
    "start_time": "2021-06-19T21:40:24.993Z"
   },
   {
    "duration": 3,
    "start_time": "2021-06-19T21:40:26.428Z"
   },
   {
    "duration": 308,
    "start_time": "2021-06-19T21:40:26.897Z"
   },
   {
    "duration": 37,
    "start_time": "2021-06-19T21:40:39.700Z"
   },
   {
    "duration": 4,
    "start_time": "2021-06-19T21:45:09.056Z"
   },
   {
    "duration": 330,
    "start_time": "2021-06-19T21:46:09.142Z"
   },
   {
    "duration": 4,
    "start_time": "2021-06-19T21:46:16.462Z"
   },
   {
    "duration": 298,
    "start_time": "2021-06-19T21:46:18.703Z"
   },
   {
    "duration": 362,
    "start_time": "2021-06-19T21:46:30.978Z"
   },
   {
    "duration": 364,
    "start_time": "2021-06-19T21:47:49.975Z"
   },
   {
    "duration": 10,
    "start_time": "2021-06-19T21:48:14.470Z"
   },
   {
    "duration": 7,
    "start_time": "2021-06-19T21:49:10.456Z"
   },
   {
    "duration": 4,
    "start_time": "2021-06-19T21:49:11.645Z"
   },
   {
    "duration": 1020,
    "start_time": "2021-06-19T21:49:45.374Z"
   },
   {
    "duration": 5,
    "start_time": "2021-06-19T21:51:56.214Z"
   },
   {
    "duration": 9,
    "start_time": "2021-06-19T21:51:56.667Z"
   },
   {
    "duration": 6,
    "start_time": "2021-06-19T21:51:58.974Z"
   },
   {
    "duration": 4,
    "start_time": "2021-06-19T21:52:02.014Z"
   },
   {
    "duration": 10,
    "start_time": "2021-06-19T21:52:04.134Z"
   },
   {
    "duration": 1074,
    "start_time": "2021-06-19T21:52:18.334Z"
   },
   {
    "duration": 4,
    "start_time": "2021-06-19T21:55:28.142Z"
   },
   {
    "duration": 11,
    "start_time": "2021-06-19T21:55:29.694Z"
   },
   {
    "duration": 3,
    "start_time": "2021-06-19T21:55:30.502Z"
   },
   {
    "duration": 30,
    "start_time": "2021-06-19T21:55:31.416Z"
   },
   {
    "duration": 5,
    "start_time": "2021-06-19T22:02:52.287Z"
   },
   {
    "duration": 7,
    "start_time": "2021-06-19T22:02:54.214Z"
   },
   {
    "duration": 6,
    "start_time": "2021-06-19T22:02:56.377Z"
   },
   {
    "duration": 4,
    "start_time": "2021-06-19T22:02:58.487Z"
   },
   {
    "duration": 29,
    "start_time": "2021-06-19T22:02:59.504Z"
   },
   {
    "duration": 4,
    "start_time": "2021-06-19T22:05:32.262Z"
   },
   {
    "duration": 1475,
    "start_time": "2021-06-19T22:09:34.156Z"
   },
   {
    "duration": 32,
    "start_time": "2021-06-19T22:09:35.698Z"
   },
   {
    "duration": 9,
    "start_time": "2021-06-19T22:09:37.641Z"
   },
   {
    "duration": 34,
    "start_time": "2021-06-19T22:09:38.727Z"
   },
   {
    "duration": 4,
    "start_time": "2021-06-19T22:09:40.128Z"
   },
   {
    "duration": 5,
    "start_time": "2021-06-19T22:09:41.349Z"
   },
   {
    "duration": 8,
    "start_time": "2021-06-19T22:09:42.345Z"
   },
   {
    "duration": 14,
    "start_time": "2021-06-19T22:09:43.169Z"
   },
   {
    "duration": 6,
    "start_time": "2021-06-19T22:09:45.148Z"
   },
   {
    "duration": 11,
    "start_time": "2021-06-19T22:09:46.316Z"
   },
   {
    "duration": 40,
    "start_time": "2021-06-19T22:10:15.069Z"
   },
   {
    "duration": 7,
    "start_time": "2021-06-19T22:10:21.230Z"
   },
   {
    "duration": 5,
    "start_time": "2021-06-19T22:10:24.063Z"
   },
   {
    "duration": 20,
    "start_time": "2021-06-19T22:10:39.600Z"
   },
   {
    "duration": 5,
    "start_time": "2021-06-19T22:10:49.435Z"
   },
   {
    "duration": 13,
    "start_time": "2021-06-19T22:10:50.712Z"
   },
   {
    "duration": 6,
    "start_time": "2021-06-19T22:10:54.467Z"
   },
   {
    "duration": 3,
    "start_time": "2021-06-19T22:10:56.987Z"
   },
   {
    "duration": 26,
    "start_time": "2021-06-19T22:10:58.188Z"
   },
   {
    "duration": 6,
    "start_time": "2021-06-19T22:31:29.645Z"
   },
   {
    "duration": 6,
    "start_time": "2021-06-19T22:32:08.961Z"
   },
   {
    "duration": 1364,
    "start_time": "2021-06-20T11:36:09.001Z"
   },
   {
    "duration": 30,
    "start_time": "2021-06-20T11:36:10.368Z"
   },
   {
    "duration": 9,
    "start_time": "2021-06-20T11:36:11.321Z"
   },
   {
    "duration": 35,
    "start_time": "2021-06-20T11:36:12.533Z"
   },
   {
    "duration": 4,
    "start_time": "2021-06-20T11:36:13.679Z"
   },
   {
    "duration": 5,
    "start_time": "2021-06-20T11:36:14.779Z"
   },
   {
    "duration": 7,
    "start_time": "2021-06-20T11:36:15.664Z"
   },
   {
    "duration": 14,
    "start_time": "2021-06-20T11:36:16.256Z"
   },
   {
    "duration": 8,
    "start_time": "2021-06-20T11:36:17.350Z"
   },
   {
    "duration": 10,
    "start_time": "2021-06-20T11:36:18.334Z"
   },
   {
    "duration": 22,
    "start_time": "2021-06-20T11:36:27.303Z"
   },
   {
    "duration": 6,
    "start_time": "2021-06-20T11:36:29.120Z"
   },
   {
    "duration": 4,
    "start_time": "2021-06-20T11:36:30.672Z"
   },
   {
    "duration": 16,
    "start_time": "2021-06-20T11:36:32.218Z"
   },
   {
    "duration": 5,
    "start_time": "2021-06-20T11:36:40.033Z"
   },
   {
    "duration": 14,
    "start_time": "2021-06-20T11:36:41.795Z"
   },
   {
    "duration": 1646,
    "start_time": "2021-06-21T12:35:07.939Z"
   },
   {
    "duration": 47,
    "start_time": "2021-06-21T12:35:09.982Z"
   },
   {
    "duration": 12,
    "start_time": "2021-06-21T12:35:11.144Z"
   },
   {
    "duration": 51,
    "start_time": "2021-06-21T12:35:11.894Z"
   },
   {
    "duration": 5,
    "start_time": "2021-06-21T12:35:12.729Z"
   },
   {
    "duration": 9,
    "start_time": "2021-06-21T12:35:13.514Z"
   },
   {
    "duration": 8,
    "start_time": "2021-06-21T12:35:14.226Z"
   },
   {
    "duration": 15,
    "start_time": "2021-06-21T12:35:14.657Z"
   },
   {
    "duration": 7,
    "start_time": "2021-06-21T12:35:15.640Z"
   },
   {
    "duration": 19,
    "start_time": "2021-06-21T12:35:16.511Z"
   },
   {
    "duration": 18,
    "start_time": "2021-06-21T12:35:22.958Z"
   },
   {
    "duration": 5,
    "start_time": "2021-06-21T12:35:24.069Z"
   },
   {
    "duration": 5,
    "start_time": "2021-06-21T12:35:25.294Z"
   },
   {
    "duration": 29,
    "start_time": "2021-06-21T12:35:27.109Z"
   },
   {
    "duration": 541,
    "start_time": "2021-06-21T12:35:28.571Z"
   },
   {
    "duration": 11,
    "start_time": "2021-06-21T12:35:44.759Z"
   },
   {
    "duration": 16,
    "start_time": "2021-06-21T12:36:31.627Z"
   },
   {
    "duration": 18,
    "start_time": "2021-06-21T12:42:47.048Z"
   },
   {
    "duration": 5,
    "start_time": "2021-06-21T12:43:08.092Z"
   },
   {
    "duration": 31,
    "start_time": "2021-06-21T12:43:09.997Z"
   },
   {
    "duration": 14,
    "start_time": "2021-06-21T12:43:16.602Z"
   },
   {
    "duration": 4,
    "start_time": "2021-06-21T12:43:18.625Z"
   },
   {
    "duration": 54,
    "start_time": "2021-06-21T12:43:19.603Z"
   },
   {
    "duration": 897,
    "start_time": "2021-06-21T12:48:52.832Z"
   },
   {
    "duration": 6,
    "start_time": "2021-06-21T12:48:56.674Z"
   },
   {
    "duration": 750,
    "start_time": "2021-06-21T12:49:01.486Z"
   },
   {
    "duration": 6,
    "start_time": "2021-06-21T12:49:28.164Z"
   },
   {
    "duration": 328,
    "start_time": "2021-06-21T12:49:51.207Z"
   },
   {
    "duration": 8,
    "start_time": "2021-06-21T12:50:04.231Z"
   },
   {
    "duration": 10,
    "start_time": "2021-06-21T12:50:46.617Z"
   },
   {
    "duration": 284,
    "start_time": "2021-06-21T12:50:51.700Z"
   },
   {
    "duration": 1535,
    "start_time": "2021-06-22T13:00:24.462Z"
   },
   {
    "duration": 38,
    "start_time": "2021-06-22T13:00:26.036Z"
   },
   {
    "duration": 12,
    "start_time": "2021-06-22T13:00:29.721Z"
   },
   {
    "duration": 49,
    "start_time": "2021-06-22T13:01:18.732Z"
   },
   {
    "duration": 5,
    "start_time": "2021-06-22T22:12:46.843Z"
   },
   {
    "duration": 43,
    "start_time": "2021-06-22T22:12:46.851Z"
   },
   {
    "duration": 11,
    "start_time": "2021-06-22T22:12:46.899Z"
   },
   {
    "duration": 34,
    "start_time": "2021-06-22T22:12:46.914Z"
   },
   {
    "duration": 4,
    "start_time": "2021-06-22T22:12:46.951Z"
   },
   {
    "duration": 27,
    "start_time": "2021-06-22T22:12:46.957Z"
   },
   {
    "duration": 9,
    "start_time": "2021-06-22T22:12:46.987Z"
   },
   {
    "duration": 15,
    "start_time": "2021-06-22T22:12:46.998Z"
   },
   {
    "duration": 6,
    "start_time": "2021-06-22T22:12:47.016Z"
   },
   {
    "duration": 11,
    "start_time": "2021-06-22T22:12:47.025Z"
   },
   {
    "duration": 46,
    "start_time": "2021-06-22T22:12:47.039Z"
   },
   {
    "duration": 8,
    "start_time": "2021-06-22T22:12:47.088Z"
   },
   {
    "duration": 9,
    "start_time": "2021-06-22T22:12:47.187Z"
   },
   {
    "duration": 41,
    "start_time": "2021-06-22T22:12:47.200Z"
   },
   {
    "duration": 42,
    "start_time": "2021-06-22T22:12:47.243Z"
   },
   {
    "duration": 8,
    "start_time": "2021-06-22T22:12:47.288Z"
   },
   {
    "duration": 99,
    "start_time": "2021-06-22T22:12:47.299Z"
   },
   {
    "duration": 6,
    "start_time": "2021-06-22T22:12:47.401Z"
   },
   {
    "duration": 10,
    "start_time": "2021-06-22T22:12:47.410Z"
   },
   {
    "duration": 69,
    "start_time": "2021-06-22T22:12:47.423Z"
   },
   {
    "duration": 1378,
    "start_time": "2021-06-22T22:35:01.407Z"
   },
   {
    "duration": 32,
    "start_time": "2021-06-22T22:35:02.788Z"
   },
   {
    "duration": 9,
    "start_time": "2021-06-22T22:35:02.823Z"
   },
   {
    "duration": 52,
    "start_time": "2021-06-22T22:35:02.835Z"
   },
   {
    "duration": 4,
    "start_time": "2021-06-22T22:35:02.889Z"
   },
   {
    "duration": 13,
    "start_time": "2021-06-22T22:35:02.895Z"
   },
   {
    "duration": 13,
    "start_time": "2021-06-22T22:35:02.910Z"
   },
   {
    "duration": 15,
    "start_time": "2021-06-22T22:35:02.927Z"
   },
   {
    "duration": 7,
    "start_time": "2021-06-22T22:35:02.944Z"
   },
   {
    "duration": 13,
    "start_time": "2021-06-22T22:35:02.983Z"
   },
   {
    "duration": 87,
    "start_time": "2021-06-22T22:35:02.999Z"
   },
   {
    "duration": 8,
    "start_time": "2021-06-22T22:35:03.089Z"
   },
   {
    "duration": 6,
    "start_time": "2021-06-22T22:35:03.185Z"
   },
   {
    "duration": 19,
    "start_time": "2021-06-22T22:35:03.194Z"
   },
   {
    "duration": 66,
    "start_time": "2021-06-22T22:35:03.217Z"
   },
   {
    "duration": 6,
    "start_time": "2021-06-22T22:35:03.287Z"
   },
   {
    "duration": 99,
    "start_time": "2021-06-22T22:35:03.296Z"
   },
   {
    "duration": 6,
    "start_time": "2021-06-22T22:35:03.397Z"
   },
   {
    "duration": 9,
    "start_time": "2021-06-22T22:35:03.405Z"
   },
   {
    "duration": 26,
    "start_time": "2021-06-22T22:35:03.417Z"
   },
   {
    "duration": 5,
    "start_time": "2021-06-22T22:43:00.372Z"
   },
   {
    "duration": 32,
    "start_time": "2021-06-22T22:43:00.379Z"
   },
   {
    "duration": 9,
    "start_time": "2021-06-22T22:43:00.416Z"
   },
   {
    "duration": 38,
    "start_time": "2021-06-22T22:43:00.428Z"
   },
   {
    "duration": 5,
    "start_time": "2021-06-22T22:43:00.469Z"
   },
   {
    "duration": 11,
    "start_time": "2021-06-22T22:43:00.476Z"
   },
   {
    "duration": 12,
    "start_time": "2021-06-22T22:43:00.490Z"
   },
   {
    "duration": 19,
    "start_time": "2021-06-22T22:43:00.505Z"
   },
   {
    "duration": 8,
    "start_time": "2021-06-22T22:43:00.527Z"
   },
   {
    "duration": 16,
    "start_time": "2021-06-22T22:43:00.537Z"
   },
   {
    "duration": 34,
    "start_time": "2021-06-22T22:43:00.556Z"
   },
   {
    "duration": 93,
    "start_time": "2021-06-22T22:43:00.593Z"
   },
   {
    "duration": 15,
    "start_time": "2021-06-22T22:43:00.690Z"
   },
   {
    "duration": 90,
    "start_time": "2021-06-22T22:43:00.707Z"
   },
   {
    "duration": 19,
    "start_time": "2021-06-22T22:43:00.799Z"
   },
   {
    "duration": 6,
    "start_time": "2021-06-22T22:43:00.886Z"
   },
   {
    "duration": 98,
    "start_time": "2021-06-22T22:43:00.895Z"
   },
   {
    "duration": 6,
    "start_time": "2021-06-22T22:43:00.995Z"
   },
   {
    "duration": 30,
    "start_time": "2021-06-22T22:43:01.003Z"
   },
   {
    "duration": 34,
    "start_time": "2021-06-22T22:43:01.035Z"
   },
   {
    "duration": 1416,
    "start_time": "2021-06-22T22:44:53.380Z"
   },
   {
    "duration": 32,
    "start_time": "2021-06-22T22:44:54.799Z"
   },
   {
    "duration": 10,
    "start_time": "2021-06-22T22:44:54.834Z"
   },
   {
    "duration": 51,
    "start_time": "2021-06-22T22:44:54.846Z"
   },
   {
    "duration": 4,
    "start_time": "2021-06-22T22:44:54.900Z"
   },
   {
    "duration": 9,
    "start_time": "2021-06-22T22:44:54.906Z"
   },
   {
    "duration": 10,
    "start_time": "2021-06-22T22:44:54.918Z"
   },
   {
    "duration": 14,
    "start_time": "2021-06-22T22:44:54.932Z"
   },
   {
    "duration": 40,
    "start_time": "2021-06-22T22:44:54.949Z"
   },
   {
    "duration": 11,
    "start_time": "2021-06-22T22:44:54.991Z"
   },
   {
    "duration": 80,
    "start_time": "2021-06-22T22:44:55.005Z"
   },
   {
    "duration": 8,
    "start_time": "2021-06-22T22:44:55.089Z"
   },
   {
    "duration": 10,
    "start_time": "2021-06-22T22:44:55.184Z"
   },
   {
    "duration": 17,
    "start_time": "2021-06-22T22:44:55.196Z"
   },
   {
    "duration": 71,
    "start_time": "2021-06-22T22:44:55.215Z"
   },
   {
    "duration": 92,
    "start_time": "2021-06-22T22:44:55.290Z"
   },
   {
    "duration": 14,
    "start_time": "2021-06-22T22:44:55.385Z"
   },
   {
    "duration": 6,
    "start_time": "2021-06-22T22:44:55.401Z"
   },
   {
    "duration": 9,
    "start_time": "2021-06-22T22:44:55.409Z"
   },
   {
    "duration": 27,
    "start_time": "2021-06-22T22:44:55.420Z"
   }
  ],
  "kernelspec": {
   "display_name": "Python 3",
   "language": "python",
   "name": "python3"
  },
  "language_info": {
   "codemirror_mode": {
    "name": "ipython",
    "version": 3
   },
   "file_extension": ".py",
   "mimetype": "text/x-python",
   "name": "python",
   "nbconvert_exporter": "python",
   "pygments_lexer": "ipython3",
   "version": "3.7.3"
  },
  "toc": {
   "base_numbering": 1,
   "nav_menu": {},
   "number_sections": true,
   "sideBar": true,
   "skip_h1_title": true,
   "title_cell": "Содержание",
   "title_sidebar": "Contents",
   "toc_cell": true,
   "toc_position": {},
   "toc_section_display": true,
   "toc_window_display": false
  }
 },
 "nbformat": 4,
 "nbformat_minor": 2
}
