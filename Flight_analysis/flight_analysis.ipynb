{
 "cells": [
  {
   "cell_type": "markdown",
   "metadata": {
    "toc": true
   },
   "source": [
    "<h1>Содержание<span class=\"tocSkip\"></span></h1>\n",
    "<div class=\"toc\"><ul class=\"toc-item\"><li><span><a href=\"#Описание-проекта\" data-toc-modified-id=\"Описание-проекта-1\"><span class=\"toc-item-num\">1&nbsp;&nbsp;</span>Описание проекта</a></span></li><li><span><a href=\"#Анализ-спроса-на-авиабилеты\" data-toc-modified-id=\"Анализ-спроса-на-авиабилеты-2\"><span class=\"toc-item-num\">2&nbsp;&nbsp;</span>Анализ спроса на авиабилеты</a></span></li><li><span><a href=\"#Общий-вывод\" data-toc-modified-id=\"Общий-вывод-3\"><span class=\"toc-item-num\">3&nbsp;&nbsp;</span>Общий вывод</a></span></li><li><span><a href=\"#Чек-лист-проверки\" data-toc-modified-id=\"Чек-лист-проверки-4\"><span class=\"toc-item-num\">4&nbsp;&nbsp;</span>Чек-лист проверки</a></span></li></ul></div>"
   ]
  },
  {
   "cell_type": "markdown",
   "metadata": {},
   "source": [
    "# Анализ спроса на рейсы авиакомпании"
   ]
  },
  {
   "cell_type": "markdown",
   "metadata": {},
   "source": [
    "## Описание проекта"
   ]
  },
  {
   "cell_type": "markdown",
   "metadata": {},
   "source": [
    "Для российской авиакомпании, выполняющей внутренние пассажирские перевозки, нужно изучить предпочтения пользователей, покупающих билеты на разные направления.\n",
    "\n",
    "Нам предоставлены файлы с результатами запросов:\n",
    "\n",
    "1. query_1.csv с информацией о типе самолета (model) и количествe рейсов для каждой модели (flights_amount) в сентябре 2018 года.\n",
    "\n",
    "\n",
    "2. query_3.csv с информацией о городе прилета (city) и среднем количестве рейсов (average_flights), прибывающих в город за день в сентябре 2018 года.\n"
   ]
  },
  {
   "cell_type": "markdown",
   "metadata": {},
   "source": [
    "**Цель проекта**\n",
    "\n",
    "Изучить базу данных и проанализировать спрос пассажиров на рейсы в разрезе городов, а также моделей самолетов.\n",
    "\n",
    "**Задачи проекта**\n",
    "\n",
    "1. Импортировать и изучить данные, проверить на наличие пропущенных значений, корректность типов.\n",
    "2. Построить графики количества совершенных рейсов в зависимости от модели самолёта и принимающих городов, сделать выводы.\n",
    "3. Выделить топ-10 городов по количеству прибывающих рейсов, построить по нему график, сделать вывод."
   ]
  },
  {
   "cell_type": "markdown",
   "metadata": {},
   "source": [
    "## Анализ спроса на авиабилеты"
   ]
  },
  {
   "cell_type": "code",
   "execution_count": 1,
   "metadata": {},
   "outputs": [],
   "source": [
    "import numpy as np\n",
    "import pandas as pd\n",
    "import matplotlib.pyplot as plt\n",
    "import seaborn as sns\n",
    "from IPython.display import display\n",
    "\n",
    "import warnings\n",
    "warnings.filterwarnings(\"ignore\")"
   ]
  },
  {
   "cell_type": "markdown",
   "metadata": {},
   "source": [
    "Загрузим результат первого запроса с информацией о типах самолетов и количеством рейсов для каждой модели в сентябре 2018 года. Выведем основные характеристики таблицы."
   ]
  },
  {
   "cell_type": "code",
   "execution_count": 2,
   "metadata": {},
   "outputs": [
    {
     "data": {
      "text/html": [
       "<div>\n",
       "<style scoped>\n",
       "    .dataframe tbody tr th:only-of-type {\n",
       "        vertical-align: middle;\n",
       "    }\n",
       "\n",
       "    .dataframe tbody tr th {\n",
       "        vertical-align: top;\n",
       "    }\n",
       "\n",
       "    .dataframe thead th {\n",
       "        text-align: right;\n",
       "    }\n",
       "</style>\n",
       "<table border=\"1\" class=\"dataframe\">\n",
       "  <thead>\n",
       "    <tr style=\"text-align: right;\">\n",
       "      <th></th>\n",
       "      <th>model</th>\n",
       "      <th>flights_amount</th>\n",
       "    </tr>\n",
       "  </thead>\n",
       "  <tbody>\n",
       "    <tr>\n",
       "      <td>0</td>\n",
       "      <td>Airbus A319-100</td>\n",
       "      <td>607</td>\n",
       "    </tr>\n",
       "    <tr>\n",
       "      <td>1</td>\n",
       "      <td>Airbus A321-200</td>\n",
       "      <td>960</td>\n",
       "    </tr>\n",
       "    <tr>\n",
       "      <td>2</td>\n",
       "      <td>Boeing 737-300</td>\n",
       "      <td>630</td>\n",
       "    </tr>\n",
       "    <tr>\n",
       "      <td>3</td>\n",
       "      <td>Boeing 767-300</td>\n",
       "      <td>600</td>\n",
       "    </tr>\n",
       "    <tr>\n",
       "      <td>4</td>\n",
       "      <td>Boeing 777-300</td>\n",
       "      <td>300</td>\n",
       "    </tr>\n",
       "    <tr>\n",
       "      <td>5</td>\n",
       "      <td>Bombardier CRJ-200</td>\n",
       "      <td>4446</td>\n",
       "    </tr>\n",
       "    <tr>\n",
       "      <td>6</td>\n",
       "      <td>Cessna 208 Caravan</td>\n",
       "      <td>4557</td>\n",
       "    </tr>\n",
       "    <tr>\n",
       "      <td>7</td>\n",
       "      <td>Sukhoi SuperJet-100</td>\n",
       "      <td>4185</td>\n",
       "    </tr>\n",
       "  </tbody>\n",
       "</table>\n",
       "</div>"
      ],
      "text/plain": [
       "                 model  flights_amount\n",
       "0      Airbus A319-100             607\n",
       "1      Airbus A321-200             960\n",
       "2       Boeing 737-300             630\n",
       "3       Boeing 767-300             600\n",
       "4       Boeing 777-300             300\n",
       "5   Bombardier CRJ-200            4446\n",
       "6   Cessna 208 Caravan            4557\n",
       "7  Sukhoi SuperJet-100            4185"
      ]
     },
     "metadata": {},
     "output_type": "display_data"
    },
    {
     "name": "stdout",
     "output_type": "stream",
     "text": [
      "<class 'pandas.core.frame.DataFrame'>\n",
      "RangeIndex: 8 entries, 0 to 7\n",
      "Data columns (total 2 columns):\n",
      "model             8 non-null object\n",
      "flights_amount    8 non-null int64\n",
      "dtypes: int64(1), object(1)\n",
      "memory usage: 256.0+ bytes\n",
      "None\n"
     ]
    }
   ],
   "source": [
    "models = pd.read_csv('/datasets/query_1.csv')\n",
    "display(models.head(10))\n",
    "print(models.info())"
   ]
  },
  {
   "cell_type": "markdown",
   "metadata": {},
   "source": [
    "В таблице нет пропущенных значений, типы данных не меняем.\n",
    "Сделаем то же самое для второго запроса с данными о полетах по городам."
   ]
  },
  {
   "cell_type": "code",
   "execution_count": 3,
   "metadata": {},
   "outputs": [
    {
     "data": {
      "text/html": [
       "<div>\n",
       "<style scoped>\n",
       "    .dataframe tbody tr th:only-of-type {\n",
       "        vertical-align: middle;\n",
       "    }\n",
       "\n",
       "    .dataframe tbody tr th {\n",
       "        vertical-align: top;\n",
       "    }\n",
       "\n",
       "    .dataframe thead th {\n",
       "        text-align: right;\n",
       "    }\n",
       "</style>\n",
       "<table border=\"1\" class=\"dataframe\">\n",
       "  <thead>\n",
       "    <tr style=\"text-align: right;\">\n",
       "      <th></th>\n",
       "      <th>city</th>\n",
       "      <th>average_flights</th>\n",
       "    </tr>\n",
       "  </thead>\n",
       "  <tbody>\n",
       "    <tr>\n",
       "      <td>0</td>\n",
       "      <td>Абакан</td>\n",
       "      <td>3.870968</td>\n",
       "    </tr>\n",
       "    <tr>\n",
       "      <td>1</td>\n",
       "      <td>Анадырь</td>\n",
       "      <td>1.000000</td>\n",
       "    </tr>\n",
       "    <tr>\n",
       "      <td>2</td>\n",
       "      <td>Анапа</td>\n",
       "      <td>2.161290</td>\n",
       "    </tr>\n",
       "    <tr>\n",
       "      <td>3</td>\n",
       "      <td>Архангельск</td>\n",
       "      <td>5.354839</td>\n",
       "    </tr>\n",
       "    <tr>\n",
       "      <td>4</td>\n",
       "      <td>Астрахань</td>\n",
       "      <td>2.451613</td>\n",
       "    </tr>\n",
       "    <tr>\n",
       "      <td>5</td>\n",
       "      <td>Барнаул</td>\n",
       "      <td>2.612903</td>\n",
       "    </tr>\n",
       "    <tr>\n",
       "      <td>6</td>\n",
       "      <td>Белгород</td>\n",
       "      <td>6.000000</td>\n",
       "    </tr>\n",
       "    <tr>\n",
       "      <td>7</td>\n",
       "      <td>Белоярский</td>\n",
       "      <td>2.000000</td>\n",
       "    </tr>\n",
       "    <tr>\n",
       "      <td>8</td>\n",
       "      <td>Благовещенск</td>\n",
       "      <td>1.000000</td>\n",
       "    </tr>\n",
       "    <tr>\n",
       "      <td>9</td>\n",
       "      <td>Братск</td>\n",
       "      <td>1.000000</td>\n",
       "    </tr>\n",
       "  </tbody>\n",
       "</table>\n",
       "</div>"
      ],
      "text/plain": [
       "           city  average_flights\n",
       "0        Абакан         3.870968\n",
       "1       Анадырь         1.000000\n",
       "2         Анапа         2.161290\n",
       "3   Архангельск         5.354839\n",
       "4     Астрахань         2.451613\n",
       "5       Барнаул         2.612903\n",
       "6      Белгород         6.000000\n",
       "7    Белоярский         2.000000\n",
       "8  Благовещенск         1.000000\n",
       "9        Братск         1.000000"
      ]
     },
     "metadata": {},
     "output_type": "display_data"
    },
    {
     "name": "stdout",
     "output_type": "stream",
     "text": [
      "<class 'pandas.core.frame.DataFrame'>\n",
      "RangeIndex: 101 entries, 0 to 100\n",
      "Data columns (total 2 columns):\n",
      "city               101 non-null object\n",
      "average_flights    101 non-null float64\n",
      "dtypes: float64(1), object(1)\n",
      "memory usage: 1.7+ KB\n",
      "None\n"
     ]
    }
   ],
   "source": [
    "cities = pd.read_csv('/datasets/query_3.csv')\n",
    "display(cities.head(10))\n",
    "print(cities.info())"
   ]
  },
  {
   "cell_type": "markdown",
   "metadata": {},
   "source": [
    "Пропущенных значений нет, типы данных корректны. Всего у нас данных по 101 городу."
   ]
  },
  {
   "cell_type": "markdown",
   "metadata": {},
   "source": [
    "Для удобства анализа отсортируем города по количеству прилетающих рейсов и округлим до одного значения после запятой."
   ]
  },
  {
   "cell_type": "code",
   "execution_count": 4,
   "metadata": {},
   "outputs": [],
   "source": [
    "cities = np.round(cities.sort_values(by='average_flights', ascending=False),1)"
   ]
  },
  {
   "cell_type": "markdown",
   "metadata": {},
   "source": [
    "Выведем гистограмму с количеством рейсов в зависимости от типа модели."
   ]
  },
  {
   "cell_type": "code",
   "execution_count": 5,
   "metadata": {},
   "outputs": [
    {
     "data": {
      "image/png": "[encoded data removed]",
      "text/plain": [
       "<Figure size 432x288 with 1 Axes>"
      ]
     },
     "metadata": {
      "needs_background": "light"
     },
     "output_type": "display_data"
    }
   ],
   "source": [
    "ax = sns.barplot(x='flights_amount', y='model', data=models.sort_values(by='flights_amount', ascending=False), dodge=False)\n",
    "ax.set(title='Модели самолётов и количество рейсов, сентябрь 2018г')\n",
    "ax.title.set_position([0.5, 1.03])\n",
    "ax.grid(alpha=0.05, linestyle='--', linewidth=1)"
   ]
  },
  {
   "cell_type": "markdown",
   "metadata": {},
   "source": [
    "Интересно, что чем меньше самолет, тем чаще он летает. Лидером по количеству полетов стала Сessna 208 Caravan, которая имеет очень скромную вместимость (до 13 пассажиров) и используется на авиалиниях малой протяжённости. Возможно, это бизнес-авиация или рейсы в труднодоступные и малонаселенные места, куда летает мало пассажиров, и нет инфраструктуры для посадки более крупного транспорта (например, в Якутии).\n",
    "\n",
    "На втором месте Bombardier CRJ200 - региональный самолет вместимостью всего 40-50 пассажиров.\n",
    "Третий - ближнемагистральный Sukhoi Superjet 100, предназначенный для перевозки от 87 до 108 пассажиров."
   ]
  },
  {
   "cell_type": "markdown",
   "metadata": {},
   "source": [
    "Изучим количество полетов по городам назначения. Всего у нас данных по 101 городу. Это довольно большое количество для анализа, тем более, графического. Попробуем вывести график для всех городов и посмотрим, что получится."
   ]
  },
  {
   "cell_type": "code",
   "execution_count": 6,
   "metadata": {},
   "outputs": [
    {
     "data": {
      "image/png": "[encoded data removed]",
      "text/plain": [
       "<Figure size 432x1440 with 1 Axes>"
      ]
     },
     "metadata": {
      "needs_background": "light"
     },
     "output_type": "display_data"
    }
   ],
   "source": [
    "plt.figure(figsize=(6,20))\n",
    "ax = sns.barplot(x='average_flights', y='city', data=cities)\n",
    "ax.set(title='Города и среднее количество рейсов в день за сентябрь 2018')\n",
    "ax.title.set_position([0.5, 1.01])\n",
    "ax.grid(alpha=0.05, linestyle='--', linewidth=1)\n",
    "\n",
    "lab_list = cities['average_flights']\n",
    "for i, v in enumerate(lab_list):\n",
    "    ax.text(v + 3, i + .25, str(v), color='grey', fontsize=9)\n",
    "plt.show()"
   ]
  },
  {
   "cell_type": "markdown",
   "metadata": {},
   "source": [
    "На графике отчетливо виден огромный пик (Москва) и пик поменьше (Санкт-Петербург). Остальные города явно отстают по развитости авиасообщения.\n",
    "Выберем 10 городов с наибольшим средним количеством рейсов в день (сентябрь, 2018г)."
   ]
  },
  {
   "cell_type": "code",
   "execution_count": 7,
   "metadata": {},
   "outputs": [
    {
     "data": {
      "text/html": [
       "<div>\n",
       "<style scoped>\n",
       "    .dataframe tbody tr th:only-of-type {\n",
       "        vertical-align: middle;\n",
       "    }\n",
       "\n",
       "    .dataframe tbody tr th {\n",
       "        vertical-align: top;\n",
       "    }\n",
       "\n",
       "    .dataframe thead th {\n",
       "        text-align: right;\n",
       "    }\n",
       "</style>\n",
       "<table border=\"1\" class=\"dataframe\">\n",
       "  <thead>\n",
       "    <tr style=\"text-align: right;\">\n",
       "      <th></th>\n",
       "      <th>city</th>\n",
       "      <th>average_flights</th>\n",
       "    </tr>\n",
       "  </thead>\n",
       "  <tbody>\n",
       "    <tr>\n",
       "      <td>43</td>\n",
       "      <td>Москва</td>\n",
       "      <td>129.8</td>\n",
       "    </tr>\n",
       "    <tr>\n",
       "      <td>70</td>\n",
       "      <td>Санкт-Петербург</td>\n",
       "      <td>31.2</td>\n",
       "    </tr>\n",
       "    <tr>\n",
       "      <td>54</td>\n",
       "      <td>Новосибирск</td>\n",
       "      <td>17.3</td>\n",
       "    </tr>\n",
       "    <tr>\n",
       "      <td>33</td>\n",
       "      <td>Красноярск</td>\n",
       "      <td>11.6</td>\n",
       "    </tr>\n",
       "    <tr>\n",
       "      <td>20</td>\n",
       "      <td>Екатеринбург</td>\n",
       "      <td>11.3</td>\n",
       "    </tr>\n",
       "    <tr>\n",
       "      <td>67</td>\n",
       "      <td>Ростов-на-Дону</td>\n",
       "      <td>10.2</td>\n",
       "    </tr>\n",
       "    <tr>\n",
       "      <td>63</td>\n",
       "      <td>Пермь</td>\n",
       "      <td>10.1</td>\n",
       "    </tr>\n",
       "    <tr>\n",
       "      <td>10</td>\n",
       "      <td>Брянск</td>\n",
       "      <td>10.0</td>\n",
       "    </tr>\n",
       "    <tr>\n",
       "      <td>74</td>\n",
       "      <td>Сочи</td>\n",
       "      <td>9.6</td>\n",
       "    </tr>\n",
       "    <tr>\n",
       "      <td>84</td>\n",
       "      <td>Ульяновск</td>\n",
       "      <td>9.6</td>\n",
       "    </tr>\n",
       "  </tbody>\n",
       "</table>\n",
       "</div>"
      ],
      "text/plain": [
       "               city  average_flights\n",
       "43           Москва            129.8\n",
       "70  Санкт-Петербург             31.2\n",
       "54      Новосибирск             17.3\n",
       "33       Красноярск             11.6\n",
       "20     Екатеринбург             11.3\n",
       "67   Ростов-на-Дону             10.2\n",
       "63            Пермь             10.1\n",
       "10           Брянск             10.0\n",
       "74             Сочи              9.6\n",
       "84        Ульяновск              9.6"
      ]
     },
     "metadata": {},
     "output_type": "display_data"
    }
   ],
   "source": [
    "cities_top10 = cities.sort_values(by='average_flights', ascending=False).head(10)\n",
    "display(cities_top10)"
   ]
  },
  {
   "cell_type": "markdown",
   "metadata": {},
   "source": [
    "Уже на этом этапе очевидно, что существует огромный разрыв между столицей и регионами. Получается, что да, все дороги ведут в Москву. По крайней мере, воздушные.\n",
    "\n",
    "По получившемуся топу построим график."
   ]
  },
  {
   "cell_type": "code",
   "execution_count": 8,
   "metadata": {},
   "outputs": [
    {
     "data": {
      "image/png": "[encoded data removed]",
      "text/plain": [
       "<Figure size 432x288 with 1 Axes>"
      ]
     },
     "metadata": {
      "needs_background": "light"
     },
     "output_type": "display_data"
    }
   ],
   "source": [
    "ax = sns.barplot(x='average_flights', y='city', data=cities_top10, dodge=False)\n",
    "ax.set(title='Топ-10 городов и среднее количество рейсов в день за сентябрь 2018')\n",
    "ax.title.set_position([0.5, 1.03])\n",
    "ax.grid(alpha=0.05, linestyle='--', linewidth=1)"
   ]
  },
  {
   "cell_type": "markdown",
   "metadata": {},
   "source": [
    "Посчитаем, сколько вообще рейсов в среднем за день сентября 2018г приняли Москва, Топ-9 столиц регионов и все регионы вместе взятые."
   ]
  },
  {
   "cell_type": "code",
   "execution_count": 9,
   "metadata": {},
   "outputs": [
    {
     "name": "stdout",
     "output_type": "stream",
     "text": [
      "Москва:  129.8\n",
      "Регионы Топ-9:  120.9\n",
      "Все регионы:  425.2\n"
     ]
    }
   ],
   "source": [
    "print('Москва:  {:.1f}'.format(cities_top10[cities_top10['city'] == 'Москва']['average_flights'].sum()))\n",
    "print('Регионы Топ-9:  {:.1f}'.format(cities_top10[cities_top10['city'] != 'Москва']['average_flights'].sum()))\n",
    "print('Все регионы:  {:.1f}'.format(cities[cities['city'] != 'Москва']['average_flights'].sum()))"
   ]
  },
  {
   "cell_type": "markdown",
   "metadata": {},
   "source": [
    "В Москву, в общей сложности, за один день сентября 2018 года в среднем прилетело больше пассажирских самолетов, чем суммарно во все остальные 9 городов Топа-10. Московские аэропорты сильно загружены, в то время как авиасообщение между другими городами не развито.\n",
    "\n",
    "Среднее количество рейсов по всем регионам больше, чем летит в столицу. Однако, нужно учесть, что типы самолетов и их вместимость могут быть разными. Это значит, что здесь также следует рассмотреть объем перевозок в зависимости от количества прибывших пассажиров."
   ]
  },
  {
   "cell_type": "markdown",
   "metadata": {},
   "source": [
    "## Общий вывод"
   ]
  },
  {
   "cell_type": "markdown",
   "metadata": {},
   "source": [
    "Анализ предоставленных авиакомпанией данных за сентябрь 2018г выявил, что наибольшее число полетов совершают небольшие самолеты (чаще всего - Сessna 208 Caravan, на втором месте Bombardier CRJ200).\n",
    "Скорее всего, это бизнес-авиация или рейсы в труднодоступные районы или районы с низкой плотностью населения. Крупные самолеты невыгодно использовать на небольших расстояниях и на малых пассажиропотоках. Для более полной картины интересно проанализировать, откуда и куда летят эти самолеты.\n",
    "\n",
    "Среди городов назначения по среднему количеству прибывающих рейсов в день лидером предсказуемо оказалась Москва. Следом с очень большим отрывом идут Санкт-Петербург и Новосибирск. С другими городами разница еще более разительна. Такую значительную разницу можно объяснить несколькими причинами.\n",
    "Первое - малое количество прямых рейсов. Здесь Москва выступает, как огромный хаб и транзитный пункт. Это часто приводит ко всякого рода коллизиям, например, чтобы переместиться из Челябинска в Тюмень, придется совершить огромный крюк и посетить столицу России. Тут пассажир поневоле призадумается, что поездом быстрее и удобнее будет. Второе - недостаток финансов у населения для приобретения дорогостоящих авиабилетов. Третье - малая заселенность людьми многих частей России. \n",
    "Для лучшего понимания этой проблемы имеет смысл изучить также (кроме количества рейсов) количество и маршруты пассажиров, которые перемещаются по стране."
   ]
  }
 ],
 "metadata": {
  "ExecuteTimeLog": [
   {
    "duration": 266,
    "start_time": "2021-08-12T20:52:49.472Z"
   },
   {
    "duration": 634,
    "start_time": "2021-08-12T20:52:54.405Z"
   },
   {
    "duration": 26,
    "start_time": "2021-08-12T20:52:55.945Z"
   },
   {
    "duration": 21,
    "start_time": "2021-08-12T20:53:04.062Z"
   },
   {
    "duration": 22,
    "start_time": "2021-08-12T20:54:18.764Z"
   },
   {
    "duration": 22,
    "start_time": "2021-08-12T20:54:28.884Z"
   },
   {
    "duration": 22,
    "start_time": "2021-08-12T20:54:33.672Z"
   },
   {
    "duration": 7,
    "start_time": "2021-08-12T20:57:48.264Z"
   },
   {
    "duration": 6,
    "start_time": "2021-08-12T20:58:20.824Z"
   },
   {
    "duration": 4,
    "start_time": "2021-08-12T21:02:09.412Z"
   },
   {
    "duration": 292,
    "start_time": "2021-08-12T21:04:00.067Z"
   },
   {
    "duration": 285,
    "start_time": "2021-08-12T21:04:11.889Z"
   },
   {
    "duration": 225,
    "start_time": "2021-08-12T21:04:31.746Z"
   },
   {
    "duration": 358,
    "start_time": "2021-08-12T21:06:20.830Z"
   },
   {
    "duration": 426,
    "start_time": "2021-08-12T21:08:58.758Z"
   },
   {
    "duration": 240,
    "start_time": "2021-08-12T21:11:38.140Z"
   },
   {
    "duration": 230,
    "start_time": "2021-08-12T21:12:50.996Z"
   },
   {
    "duration": 163,
    "start_time": "2021-08-12T21:13:00.608Z"
   },
   {
    "duration": 156,
    "start_time": "2021-08-12T21:19:21.278Z"
   },
   {
    "duration": 156,
    "start_time": "2021-08-12T21:19:28.960Z"
   },
   {
    "duration": 156,
    "start_time": "2021-08-12T21:19:53.604Z"
   },
   {
    "duration": 419,
    "start_time": "2021-08-12T21:20:23.804Z"
   },
   {
    "duration": 156,
    "start_time": "2021-08-12T21:20:30.158Z"
   },
   {
    "duration": 141,
    "start_time": "2021-08-12T21:24:07.250Z"
   },
   {
    "duration": 176,
    "start_time": "2021-08-12T21:28:09.392Z"
   },
   {
    "duration": 197,
    "start_time": "2021-08-12T21:29:22.014Z"
   },
   {
    "duration": 369,
    "start_time": "2021-08-12T21:30:42.051Z"
   },
   {
    "duration": 188,
    "start_time": "2021-08-12T21:30:47.872Z"
   },
   {
    "duration": 153,
    "start_time": "2021-08-12T21:32:32.752Z"
   },
   {
    "duration": 379,
    "start_time": "2021-08-12T21:32:53.394Z"
   },
   {
    "duration": 372,
    "start_time": "2021-08-12T21:33:09.423Z"
   },
   {
    "duration": 384,
    "start_time": "2021-08-12T21:33:27.472Z"
   },
   {
    "duration": 265,
    "start_time": "2021-08-12T21:34:07.192Z"
   },
   {
    "duration": 198,
    "start_time": "2021-08-12T21:34:25.072Z"
   },
   {
    "duration": 374,
    "start_time": "2021-08-12T21:35:13.533Z"
   },
   {
    "duration": 191,
    "start_time": "2021-08-12T21:35:25.445Z"
   },
   {
    "duration": 587,
    "start_time": "2021-08-12T21:38:59.933Z"
   },
   {
    "duration": 429,
    "start_time": "2021-08-12T21:39:06.345Z"
   },
   {
    "duration": 252,
    "start_time": "2021-08-12T21:40:23.302Z"
   },
   {
    "duration": 236,
    "start_time": "2021-08-12T21:40:29.073Z"
   },
   {
    "duration": 393,
    "start_time": "2021-08-12T21:40:37.056Z"
   },
   {
    "duration": 422,
    "start_time": "2021-08-12T21:46:09.279Z"
   },
   {
    "duration": 394,
    "start_time": "2021-08-12T21:46:15.733Z"
   },
   {
    "duration": 5,
    "start_time": "2021-08-12T21:48:53.632Z"
   },
   {
    "duration": 216,
    "start_time": "2021-08-12T21:49:55.642Z"
   },
   {
    "duration": 4,
    "start_time": "2021-08-12T21:50:02.662Z"
   },
   {
    "duration": 250,
    "start_time": "2021-08-12T21:51:00.373Z"
   },
   {
    "duration": 644,
    "start_time": "2021-08-12T21:51:15.622Z"
   },
   {
    "duration": 628,
    "start_time": "2021-08-12T21:52:00.552Z"
   },
   {
    "duration": 655,
    "start_time": "2021-08-12T21:52:56.262Z"
   },
   {
    "duration": 3,
    "start_time": "2021-08-12T21:59:58.257Z"
   },
   {
    "duration": 674,
    "start_time": "2021-08-12T22:26:06.103Z"
   },
   {
    "duration": 540,
    "start_time": "2021-08-12T22:26:19.339Z"
   },
   {
    "duration": 563,
    "start_time": "2021-08-12T22:26:29.579Z"
   },
   {
    "duration": 1025,
    "start_time": "2021-08-12T22:28:46.089Z"
   },
   {
    "duration": 944,
    "start_time": "2021-08-12T22:28:56.169Z"
   },
   {
    "duration": 680,
    "start_time": "2021-08-12T22:29:06.608Z"
   },
   {
    "duration": 565,
    "start_time": "2021-08-12T22:29:32.148Z"
   },
   {
    "duration": 535,
    "start_time": "2021-08-12T22:29:38.149Z"
   },
   {
    "duration": 570,
    "start_time": "2021-08-12T22:31:44.460Z"
   },
   {
    "duration": 310,
    "start_time": "2021-08-12T22:32:04.260Z"
   },
   {
    "duration": 160,
    "start_time": "2021-08-12T22:32:13.459Z"
   },
   {
    "duration": 542,
    "start_time": "2021-08-12T22:32:27.869Z"
   },
   {
    "duration": 768,
    "start_time": "2021-08-12T22:34:35.931Z"
   },
   {
    "duration": 533,
    "start_time": "2021-08-12T22:34:47.869Z"
   },
   {
    "duration": 665,
    "start_time": "2021-08-12T22:35:21.529Z"
   },
   {
    "duration": 399,
    "start_time": "2021-08-12T22:36:30.114Z"
   },
   {
    "duration": -535,
    "start_time": "2021-08-12T22:38:29.785Z"
   },
   {
    "duration": 624,
    "start_time": "2021-08-12T22:38:42.060Z"
   },
   {
    "duration": 643,
    "start_time": "2021-08-12T22:39:14.850Z"
   },
   {
    "duration": 732,
    "start_time": "2021-08-12T22:39:22.819Z"
   },
   {
    "duration": 592,
    "start_time": "2021-08-12T22:39:56.220Z"
   },
   {
    "duration": 407,
    "start_time": "2021-08-12T22:40:11.535Z"
   },
   {
    "duration": 219,
    "start_time": "2021-08-13T16:00:39.902Z"
   },
   {
    "duration": 1123,
    "start_time": "2021-08-13T16:00:48.014Z"
   },
   {
    "duration": 28,
    "start_time": "2021-08-13T16:00:49.594Z"
   },
   {
    "duration": 25,
    "start_time": "2021-08-13T16:00:50.779Z"
   },
   {
    "duration": 573,
    "start_time": "2021-08-13T16:00:51.234Z"
   },
   {
    "duration": 793,
    "start_time": "2021-08-13T16:00:52.438Z"
   },
   {
    "duration": 6,
    "start_time": "2021-08-13T16:00:53.233Z"
   },
   {
    "duration": 775,
    "start_time": "2021-08-13T16:00:53.889Z"
   },
   {
    "duration": 263,
    "start_time": "2021-08-13T16:00:54.917Z"
   },
   {
    "duration": 219,
    "start_time": "2021-08-13T16:02:51.684Z"
   },
   {
    "duration": 192,
    "start_time": "2021-08-13T16:03:26.921Z"
   },
   {
    "duration": 214,
    "start_time": "2021-08-13T16:03:54.353Z"
   },
   {
    "duration": 5,
    "start_time": "2021-08-13T16:04:29.090Z"
   },
   {
    "duration": 6,
    "start_time": "2021-08-13T16:05:03.140Z"
   },
   {
    "duration": 158,
    "start_time": "2021-08-13T16:06:02.890Z"
   },
   {
    "duration": 206,
    "start_time": "2021-08-13T16:06:38.560Z"
   },
   {
    "duration": 162,
    "start_time": "2021-08-13T16:07:12.216Z"
   },
   {
    "duration": 3,
    "start_time": "2021-08-13T16:07:25.529Z"
   },
   {
    "duration": 2270,
    "start_time": "2021-08-13T16:07:47.115Z"
   },
   {
    "duration": 168,
    "start_time": "2021-08-13T16:08:15.596Z"
   },
   {
    "duration": 4,
    "start_time": "2021-08-13T16:08:22.024Z"
   },
   {
    "duration": 165,
    "start_time": "2021-08-13T16:09:59.565Z"
   },
   {
    "duration": 1555,
    "start_time": "2021-08-13T18:39:02.071Z"
   },
   {
    "duration": 35,
    "start_time": "2021-08-13T18:39:04.538Z"
   },
   {
    "duration": 30,
    "start_time": "2021-08-13T18:39:05.259Z"
   },
   {
    "duration": 875,
    "start_time": "2021-08-13T18:39:05.681Z"
   },
   {
    "duration": 1213,
    "start_time": "2021-08-13T18:39:06.559Z"
   },
   {
    "duration": 8,
    "start_time": "2021-08-13T18:39:07.775Z"
   },
   {
    "duration": 1103,
    "start_time": "2021-08-13T18:39:08.498Z"
   },
   {
    "duration": 754,
    "start_time": "2021-08-13T18:39:47.502Z"
   },
   {
    "duration": 8,
    "start_time": "2021-08-13T18:42:28.119Z"
   },
   {
    "duration": 423,
    "start_time": "2021-08-13T18:42:40.756Z"
   },
   {
    "duration": 8,
    "start_time": "2021-08-13T18:43:22.451Z"
   },
   {
    "duration": 381,
    "start_time": "2021-08-13T18:44:01.272Z"
   },
   {
    "duration": 7,
    "start_time": "2021-08-13T18:44:29.696Z"
   },
   {
    "duration": 364,
    "start_time": "2021-08-13T18:48:11.020Z"
   },
   {
    "duration": 8,
    "start_time": "2021-08-13T18:48:33.866Z"
   },
   {
    "duration": 9,
    "start_time": "2021-08-13T18:49:27.397Z"
   },
   {
    "duration": 349,
    "start_time": "2021-08-13T18:50:37.365Z"
   },
   {
    "duration": 9,
    "start_time": "2021-08-13T18:51:11.437Z"
   },
   {
    "duration": 9,
    "start_time": "2021-08-13T19:08:10.246Z"
   },
   {
    "duration": 408,
    "start_time": "2021-08-13T19:08:44.384Z"
   },
   {
    "duration": 10,
    "start_time": "2021-08-13T19:08:52.794Z"
   },
   {
    "duration": 361,
    "start_time": "2021-08-13T19:09:31.153Z"
   },
   {
    "duration": 12,
    "start_time": "2021-08-13T20:18:11.253Z"
   },
   {
    "duration": 11,
    "start_time": "2021-08-13T20:23:06.748Z"
   },
   {
    "duration": 11,
    "start_time": "2021-08-13T20:23:38.797Z"
   },
   {
    "duration": 733,
    "start_time": "2021-08-13T20:33:14.909Z"
   },
   {
    "duration": 1431,
    "start_time": "2021-08-13T20:38:31.881Z"
   },
   {
    "duration": 33,
    "start_time": "2021-08-13T20:38:33.315Z"
   },
   {
    "duration": 29,
    "start_time": "2021-08-13T20:38:33.355Z"
   },
   {
    "duration": 764,
    "start_time": "2021-08-13T20:38:33.387Z"
   },
   {
    "duration": 1192,
    "start_time": "2021-08-13T20:38:34.153Z"
   },
   {
    "duration": 14,
    "start_time": "2021-08-13T20:38:35.347Z"
   },
   {
    "duration": 1114,
    "start_time": "2021-08-13T20:38:35.363Z"
   },
   {
    "duration": 10,
    "start_time": "2021-08-13T20:38:36.480Z"
   },
   {
    "duration": 1510,
    "start_time": "2021-08-14T08:51:48.357Z"
   },
   {
    "duration": 34,
    "start_time": "2021-08-14T08:51:49.869Z"
   },
   {
    "duration": 28,
    "start_time": "2021-08-14T08:51:49.906Z"
   },
   {
    "duration": 802,
    "start_time": "2021-08-14T08:51:49.937Z"
   },
   {
    "duration": 1205,
    "start_time": "2021-08-14T08:51:50.741Z"
   },
   {
    "duration": 9,
    "start_time": "2021-08-14T08:51:51.949Z"
   },
   {
    "duration": 1157,
    "start_time": "2021-08-14T08:51:51.961Z"
   },
   {
    "duration": 12,
    "start_time": "2021-08-14T08:51:53.121Z"
   },
   {
    "duration": 1546,
    "start_time": "2021-08-14T09:25:00.521Z"
   },
   {
    "duration": 33,
    "start_time": "2021-08-14T09:25:02.650Z"
   },
   {
    "duration": 29,
    "start_time": "2021-08-14T09:25:03.544Z"
   },
   {
    "duration": 787,
    "start_time": "2021-08-14T09:25:04.043Z"
   },
   {
    "duration": 1257,
    "start_time": "2021-08-14T09:25:05.447Z"
   },
   {
    "duration": 9,
    "start_time": "2021-08-14T09:25:07.281Z"
   },
   {
    "duration": 1353,
    "start_time": "2021-08-14T09:25:07.972Z"
   },
   {
    "duration": 12,
    "start_time": "2021-08-14T09:25:10.132Z"
   },
   {
    "duration": 4,
    "start_time": "2021-08-14T10:40:44.920Z"
   },
   {
    "duration": 34,
    "start_time": "2021-08-14T10:40:46.399Z"
   },
   {
    "duration": 36,
    "start_time": "2021-08-14T10:40:48.071Z"
   },
   {
    "duration": 782,
    "start_time": "2021-08-14T10:40:50.240Z"
   },
   {
    "duration": 1568,
    "start_time": "2021-08-14T10:40:54.273Z"
   },
   {
    "duration": 18,
    "start_time": "2021-08-14T10:41:04.608Z"
   },
   {
    "duration": 1109,
    "start_time": "2021-08-14T10:41:11.479Z"
   },
   {
    "duration": 2683,
    "start_time": "2021-08-14T10:50:14.274Z"
   },
   {
    "duration": 2452,
    "start_time": "2021-08-14T10:52:09.959Z"
   },
   {
    "duration": 2884,
    "start_time": "2021-08-14T10:52:24.791Z"
   },
   {
    "duration": 2781,
    "start_time": "2021-08-14T10:52:54.919Z"
   },
   {
    "duration": 3211,
    "start_time": "2021-08-14T10:53:19.478Z"
   },
   {
    "duration": 3044,
    "start_time": "2021-08-14T10:53:28.047Z"
   },
   {
    "duration": 2838,
    "start_time": "2021-08-14T10:55:11.447Z"
   },
   {
    "duration": 1559,
    "start_time": "2021-08-14T10:55:25.088Z"
   },
   {
    "duration": 36,
    "start_time": "2021-08-14T10:55:26.651Z"
   },
   {
    "duration": 30,
    "start_time": "2021-08-14T10:55:26.690Z"
   },
   {
    "duration": 788,
    "start_time": "2021-08-14T10:55:26.724Z"
   },
   {
    "duration": 2658,
    "start_time": "2021-08-14T10:55:27.515Z"
   },
   {
    "duration": 13,
    "start_time": "2021-08-14T10:55:30.186Z"
   },
   {
    "duration": 1092,
    "start_time": "2021-08-14T10:55:30.201Z"
   },
   {
    "duration": 10,
    "start_time": "2021-08-14T10:55:31.296Z"
   },
   {
    "duration": 2831,
    "start_time": "2021-08-14T10:57:22.391Z"
   },
   {
    "duration": 2683,
    "start_time": "2021-08-14T10:57:54.629Z"
   },
   {
    "duration": 623,
    "start_time": "2021-08-14T11:01:08.989Z"
   },
   {
    "duration": 346,
    "start_time": "2021-08-14T11:01:16.349Z"
   },
   {
    "duration": 394,
    "start_time": "2021-08-14T11:02:50.917Z"
   },
   {
    "duration": 989,
    "start_time": "2021-08-14T11:04:52.005Z"
   },
   {
    "duration": 1068,
    "start_time": "2021-08-14T11:05:19.310Z"
   },
   {
    "duration": 457,
    "start_time": "2021-08-14T11:05:30.631Z"
   },
   {
    "duration": 811,
    "start_time": "2021-08-14T11:08:11.374Z"
   },
   {
    "duration": 123,
    "start_time": "2021-08-14T11:09:32.358Z"
   },
   {
    "duration": 383,
    "start_time": "2021-08-14T11:09:45.110Z"
   },
   {
    "duration": 386,
    "start_time": "2021-08-14T11:10:07.190Z"
   },
   {
    "duration": 309,
    "start_time": "2021-08-14T11:11:11.892Z"
   },
   {
    "duration": 296,
    "start_time": "2021-08-14T11:12:56.672Z"
   },
   {
    "duration": 301,
    "start_time": "2021-08-14T11:13:15.814Z"
   },
   {
    "duration": 310,
    "start_time": "2021-08-14T11:13:24.356Z"
   },
   {
    "duration": 295,
    "start_time": "2021-08-14T11:13:37.462Z"
   },
   {
    "duration": 308,
    "start_time": "2021-08-14T11:13:46.951Z"
   },
   {
    "duration": 2748,
    "start_time": "2021-08-14T11:18:20.561Z"
   },
   {
    "duration": 2819,
    "start_time": "2021-08-14T11:18:43.787Z"
   },
   {
    "duration": 2656,
    "start_time": "2021-08-14T11:19:14.725Z"
   },
   {
    "duration": 3038,
    "start_time": "2021-08-14T11:24:01.805Z"
   },
   {
    "duration": 3003,
    "start_time": "2021-08-14T11:24:19.125Z"
   },
   {
    "duration": 2924,
    "start_time": "2021-08-14T11:24:27.804Z"
   },
   {
    "duration": 3070,
    "start_time": "2021-08-14T11:24:58.173Z"
   },
   {
    "duration": 3072,
    "start_time": "2021-08-14T11:25:09.084Z"
   },
   {
    "duration": 2748,
    "start_time": "2021-08-14T11:25:35.332Z"
   },
   {
    "duration": 2753,
    "start_time": "2021-08-14T11:26:05.814Z"
   },
   {
    "duration": 3000,
    "start_time": "2021-08-14T11:27:00.840Z"
   },
   {
    "duration": 440,
    "start_time": "2021-08-14T11:27:20.925Z"
   },
   {
    "duration": 2715,
    "start_time": "2021-08-14T11:27:36.333Z"
   },
   {
    "duration": 449,
    "start_time": "2021-08-14T11:29:41.845Z"
   },
   {
    "duration": 2748,
    "start_time": "2021-08-14T11:29:53.309Z"
   },
   {
    "duration": 702,
    "start_time": "2021-08-14T11:35:22.131Z"
   },
   {
    "duration": 5,
    "start_time": "2021-08-14T11:35:35.847Z"
   },
   {
    "duration": 303,
    "start_time": "2021-08-14T11:35:41.416Z"
   },
   {
    "duration": 2825,
    "start_time": "2021-08-14T11:35:45.184Z"
   },
   {
    "duration": 3221,
    "start_time": "2021-08-14T11:38:40.139Z"
   },
   {
    "duration": 3055,
    "start_time": "2021-08-14T11:38:57.260Z"
   },
   {
    "duration": 3186,
    "start_time": "2021-08-14T11:39:15.444Z"
   },
   {
    "duration": 3135,
    "start_time": "2021-08-14T11:40:35.276Z"
   },
   {
    "duration": 3296,
    "start_time": "2021-08-14T11:41:54.356Z"
   },
   {
    "duration": 3244,
    "start_time": "2021-08-14T11:42:20.941Z"
   },
   {
    "duration": 3157,
    "start_time": "2021-08-14T11:42:48.111Z"
   },
   {
    "duration": 3301,
    "start_time": "2021-08-14T11:43:14.267Z"
   },
   {
    "duration": 9,
    "start_time": "2021-08-14T11:44:04.854Z"
   },
   {
    "duration": 9,
    "start_time": "2021-08-14T11:44:32.790Z"
   },
   {
    "duration": 8,
    "start_time": "2021-08-14T11:46:41.555Z"
   },
   {
    "duration": 4,
    "start_time": "2021-08-14T11:47:06.920Z"
   },
   {
    "duration": 28,
    "start_time": "2021-08-14T11:47:09.478Z"
   },
   {
    "duration": 29,
    "start_time": "2021-08-14T11:47:11.331Z"
   },
   {
    "duration": 302,
    "start_time": "2021-08-14T11:47:17.056Z"
   },
   {
    "duration": 8,
    "start_time": "2021-08-14T11:47:19.852Z"
   },
   {
    "duration": 3052,
    "start_time": "2021-08-14T11:47:28.728Z"
   },
   {
    "duration": 3164,
    "start_time": "2021-08-14T11:48:40.853Z"
   },
   {
    "duration": 3101,
    "start_time": "2021-08-14T11:48:51.108Z"
   },
   {
    "duration": 1549,
    "start_time": "2021-08-14T11:50:03.522Z"
   },
   {
    "duration": 35,
    "start_time": "2021-08-14T11:50:05.074Z"
   },
   {
    "duration": 29,
    "start_time": "2021-08-14T11:50:05.112Z"
   },
   {
    "duration": 4,
    "start_time": "2021-08-14T11:50:05.144Z"
   },
   {
    "duration": 343,
    "start_time": "2021-08-14T11:50:05.150Z"
   },
   {
    "duration": 3,
    "start_time": "2021-08-14T11:50:05.495Z"
   },
   {
    "duration": 3069,
    "start_time": "2021-08-14T11:50:05.501Z"
   },
   {
    "duration": 21,
    "start_time": "2021-08-14T11:50:08.574Z"
   },
   {
    "duration": 358,
    "start_time": "2021-08-14T11:50:08.597Z"
   },
   {
    "duration": 14,
    "start_time": "2021-08-14T11:50:08.958Z"
   },
   {
    "duration": 3265,
    "start_time": "2021-08-14T11:51:44.389Z"
   },
   {
    "duration": 3481,
    "start_time": "2021-08-14T11:51:54.309Z"
   },
   {
    "duration": 3198,
    "start_time": "2021-08-14T11:52:04.029Z"
   },
   {
    "duration": 3185,
    "start_time": "2021-08-14T11:52:16.909Z"
   },
   {
    "duration": 1660,
    "start_time": "2021-08-14T11:53:23.247Z"
   },
   {
    "duration": 35,
    "start_time": "2021-08-14T11:53:24.910Z"
   },
   {
    "duration": 40,
    "start_time": "2021-08-14T11:53:24.947Z"
   },
   {
    "duration": 6,
    "start_time": "2021-08-14T11:53:24.990Z"
   },
   {
    "duration": 400,
    "start_time": "2021-08-14T11:53:24.999Z"
   },
   {
    "duration": 4,
    "start_time": "2021-08-14T11:53:25.402Z"
   },
   {
    "duration": 3565,
    "start_time": "2021-08-14T11:53:25.409Z"
   },
   {
    "duration": 16,
    "start_time": "2021-08-14T11:53:28.987Z"
   },
   {
    "duration": 378,
    "start_time": "2021-08-14T11:53:29.007Z"
   },
   {
    "duration": 12,
    "start_time": "2021-08-14T11:53:29.387Z"
   },
   {
    "duration": 5,
    "start_time": "2021-08-14T12:06:28.320Z"
   },
   {
    "duration": 5,
    "start_time": "2021-08-14T12:10:32.479Z"
   },
   {
    "duration": 5,
    "start_time": "2021-08-14T12:28:14.170Z"
   },
   {
    "duration": 1420,
    "start_time": "2021-08-14T12:39:54.825Z"
   },
   {
    "duration": 37,
    "start_time": "2021-08-14T12:39:56.249Z"
   },
   {
    "duration": 30,
    "start_time": "2021-08-14T12:39:56.290Z"
   },
   {
    "duration": 7,
    "start_time": "2021-08-14T12:39:56.324Z"
   },
   {
    "duration": 8,
    "start_time": "2021-08-14T12:39:56.333Z"
   },
   {
    "duration": 358,
    "start_time": "2021-08-14T12:39:56.344Z"
   },
   {
    "duration": 3217,
    "start_time": "2021-08-14T12:39:56.704Z"
   },
   {
    "duration": 12,
    "start_time": "2021-08-14T12:39:59.924Z"
   },
   {
    "duration": 372,
    "start_time": "2021-08-14T12:39:59.939Z"
   },
   {
    "duration": 12,
    "start_time": "2021-08-14T12:40:00.314Z"
   },
   {
    "duration": 1475,
    "start_time": "2021-08-14T12:41:41.175Z"
   },
   {
    "duration": 33,
    "start_time": "2021-08-14T12:41:42.653Z"
   },
   {
    "duration": 29,
    "start_time": "2021-08-14T12:41:42.689Z"
   },
   {
    "duration": 7,
    "start_time": "2021-08-14T12:41:42.720Z"
   },
   {
    "duration": 10,
    "start_time": "2021-08-14T12:41:42.729Z"
   },
   {
    "duration": 404,
    "start_time": "2021-08-14T12:41:42.742Z"
   },
   {
    "duration": 3237,
    "start_time": "2021-08-14T12:41:43.148Z"
   },
   {
    "duration": 12,
    "start_time": "2021-08-14T12:41:46.388Z"
   },
   {
    "duration": 366,
    "start_time": "2021-08-14T12:41:46.404Z"
   },
   {
    "duration": 16,
    "start_time": "2021-08-14T12:41:46.772Z"
   },
   {
    "duration": 1423,
    "start_time": "2021-08-14T12:47:39.328Z"
   },
   {
    "duration": 34,
    "start_time": "2021-08-14T12:47:40.754Z"
   },
   {
    "duration": 31,
    "start_time": "2021-08-14T12:47:40.792Z"
   },
   {
    "duration": 7,
    "start_time": "2021-08-14T12:47:40.826Z"
   },
   {
    "duration": 6,
    "start_time": "2021-08-14T12:47:40.835Z"
   },
   {
    "duration": 333,
    "start_time": "2021-08-14T12:47:40.844Z"
   },
   {
    "duration": 3088,
    "start_time": "2021-08-14T12:47:41.179Z"
   },
   {
    "duration": 22,
    "start_time": "2021-08-14T12:47:44.269Z"
   },
   {
    "duration": 376,
    "start_time": "2021-08-14T12:47:44.294Z"
   },
   {
    "duration": 17,
    "start_time": "2021-08-14T12:47:44.672Z"
   },
   {
    "duration": 1423,
    "start_time": "2021-08-14T12:59:44.622Z"
   },
   {
    "duration": 34,
    "start_time": "2021-08-14T12:59:46.048Z"
   },
   {
    "duration": 31,
    "start_time": "2021-08-14T12:59:46.085Z"
   },
   {
    "duration": 6,
    "start_time": "2021-08-14T12:59:46.119Z"
   },
   {
    "duration": 10,
    "start_time": "2021-08-14T12:59:46.127Z"
   },
   {
    "duration": 331,
    "start_time": "2021-08-14T12:59:46.139Z"
   },
   {
    "duration": 3274,
    "start_time": "2021-08-14T12:59:46.473Z"
   },
   {
    "duration": 12,
    "start_time": "2021-08-14T12:59:49.749Z"
   },
   {
    "duration": 371,
    "start_time": "2021-08-14T12:59:49.764Z"
   },
   {
    "duration": 12,
    "start_time": "2021-08-14T12:59:50.137Z"
   },
   {
    "duration": 1048,
    "start_time": "2021-08-14T15:44:01.945Z"
   },
   {
    "duration": 27,
    "start_time": "2021-08-14T15:44:02.995Z"
   },
   {
    "duration": 23,
    "start_time": "2021-08-14T15:44:03.024Z"
   },
   {
    "duration": 5,
    "start_time": "2021-08-14T15:44:03.490Z"
   },
   {
    "duration": 2,
    "start_time": "2021-08-14T15:44:03.789Z"
   },
   {
    "duration": 177,
    "start_time": "2021-08-14T15:44:04.102Z"
   },
   {
    "duration": 1746,
    "start_time": "2021-08-14T15:44:04.714Z"
   },
   {
    "duration": 8,
    "start_time": "2021-08-14T15:44:06.462Z"
   },
   {
    "duration": 206,
    "start_time": "2021-08-14T15:44:06.472Z"
   },
   {
    "duration": 16,
    "start_time": "2021-08-14T15:44:06.680Z"
   },
   {
    "duration": 5,
    "start_time": "2021-08-14T15:44:18.842Z"
   },
   {
    "duration": 3,
    "start_time": "2021-08-14T15:44:21.740Z"
   },
   {
    "duration": 6,
    "start_time": "2021-08-14T15:44:27.739Z"
   },
   {
    "duration": 328,
    "start_time": "2021-08-14T15:44:33.563Z"
   },
   {
    "duration": 1768,
    "start_time": "2021-08-14T15:44:36.552Z"
   },
   {
    "duration": 9,
    "start_time": "2021-08-14T15:44:48.051Z"
   },
   {
    "duration": 5,
    "start_time": "2021-08-14T15:44:55.645Z"
   },
   {
    "duration": 6,
    "start_time": "2021-08-14T15:44:57.390Z"
   },
   {
    "duration": 170,
    "start_time": "2021-08-14T15:44:59.759Z"
   },
   {
    "duration": 1903,
    "start_time": "2021-08-14T15:45:01.089Z"
   },
   {
    "duration": 5,
    "start_time": "2021-08-14T15:45:10.474Z"
   },
   {
    "duration": 6,
    "start_time": "2021-08-14T15:45:12.883Z"
   },
   {
    "duration": 166,
    "start_time": "2021-08-14T15:45:16.588Z"
   },
   {
    "duration": 1805,
    "start_time": "2021-08-14T15:45:17.432Z"
   },
   {
    "duration": 8,
    "start_time": "2021-08-14T15:45:24.384Z"
   },
   {
    "duration": 3,
    "start_time": "2021-08-14T15:45:32.926Z"
   },
   {
    "duration": 6,
    "start_time": "2021-08-14T15:45:33.343Z"
   },
   {
    "duration": 165,
    "start_time": "2021-08-14T15:45:33.652Z"
   },
   {
    "duration": 1862,
    "start_time": "2021-08-14T15:45:34.264Z"
   },
   {
    "duration": 75,
    "start_time": "2021-08-14T15:49:07.434Z"
   },
   {
    "duration": 303,
    "start_time": "2021-08-14T15:49:13.649Z"
   },
   {
    "duration": 82,
    "start_time": "2021-08-14T15:49:56.307Z"
   },
   {
    "duration": 222,
    "start_time": "2021-08-14T15:50:10.389Z"
   },
   {
    "duration": 4,
    "start_time": "2021-08-14T15:50:31.018Z"
   },
   {
    "duration": 4,
    "start_time": "2021-08-14T15:50:33.797Z"
   },
   {
    "duration": 4,
    "start_time": "2021-08-14T15:50:36.601Z"
   },
   {
    "duration": 5,
    "start_time": "2021-08-14T15:50:41.820Z"
   },
   {
    "duration": 9,
    "start_time": "2021-08-14T15:51:18.240Z"
   },
   {
    "duration": 252,
    "start_time": "2021-08-14T15:51:36.064Z"
   },
   {
    "duration": 9,
    "start_time": "2021-08-14T15:52:12.687Z"
   },
   {
    "duration": 10,
    "start_time": "2021-08-14T15:52:18.264Z"
   },
   {
    "duration": 5,
    "start_time": "2021-08-14T15:52:24.440Z"
   },
   {
    "duration": 12,
    "start_time": "2021-08-14T15:52:37.202Z"
   },
   {
    "duration": 4,
    "start_time": "2021-08-14T15:52:53.541Z"
   },
   {
    "duration": 3,
    "start_time": "2021-08-14T15:52:54.013Z"
   },
   {
    "duration": 5,
    "start_time": "2021-08-14T15:52:54.350Z"
   },
   {
    "duration": 10,
    "start_time": "2021-08-14T15:52:54.772Z"
   },
   {
    "duration": 1376,
    "start_time": "2021-08-14T15:52:56.053Z"
   },
   {
    "duration": 1032,
    "start_time": "2021-08-14T15:55:42.794Z"
   },
   {
    "duration": 23,
    "start_time": "2021-08-14T15:55:43.828Z"
   },
   {
    "duration": 20,
    "start_time": "2021-08-14T15:55:43.853Z"
   },
   {
    "duration": 5,
    "start_time": "2021-08-14T15:55:43.875Z"
   },
   {
    "duration": 172,
    "start_time": "2021-08-14T15:55:43.881Z"
   },
   {
    "duration": 1672,
    "start_time": "2021-08-14T15:55:44.055Z"
   },
   {
    "duration": 9,
    "start_time": "2021-08-14T15:55:45.729Z"
   },
   {
    "duration": 206,
    "start_time": "2021-08-14T15:55:45.740Z"
   },
   {
    "duration": 6,
    "start_time": "2021-08-14T15:55:45.948Z"
   }
  ],
  "kernelspec": {
   "display_name": "Python 3",
   "language": "python",
   "name": "python3"
  },
  "language_info": {
   "codemirror_mode": {
    "name": "ipython",
    "version": 3
   },
   "file_extension": ".py",
   "mimetype": "text/x-python",
   "name": "python",
   "nbconvert_exporter": "python",
   "pygments_lexer": "ipython3",
   "version": "3.8.8"
  },
  "toc": {
   "base_numbering": 1,
   "nav_menu": {},
   "number_sections": true,
   "sideBar": true,
   "skip_h1_title": true,
   "title_cell": "Содержание",
   "title_sidebar": "Contents",
   "toc_cell": true,
   "toc_position": {},
   "toc_section_display": true,
   "toc_window_display": false
  }
 },
 "nbformat": 4,
 "nbformat_minor": 2
}
